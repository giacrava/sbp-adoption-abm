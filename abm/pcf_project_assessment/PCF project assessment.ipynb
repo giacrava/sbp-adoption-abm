{
 "cells": [
  {
   "cell_type": "markdown",
   "metadata": {},
   "source": [
    "Notebook for the assessment of the PCF project."
   ]
  },
  {
   "cell_type": "code",
   "execution_count": 1,
   "metadata": {
    "scrolled": false
   },
   "outputs": [
    {
     "name": "stdout",
     "output_type": "stream",
     "text": [
      "C:\\Users\\giaco\\sbp-adoption-abm-operational\\abm\n"
     ]
    }
   ],
   "source": [
    "cd .."
   ]
  },
  {
   "cell_type": "code",
   "execution_count": 2,
   "metadata": {},
   "outputs": [],
   "source": [
    "import pandas as pd\n",
    "import numpy as np\n",
    "import matplotlib as mpl\n",
    "import matplotlib.pyplot as plt\n",
    "import geopandas as gpd\n",
    "import os\n",
    "import csv\n",
    "import scipy.stats\n",
    "\n",
    "from abm.model import SBPAdoption\n",
    "\n",
    "from abm.custom_transformers import (\n",
    "    TransformCensusFeatures,\n",
    "    TransformClimateFeatures,\n",
    "    TransformSoilFeatures,\n",
    "    )"
   ]
  },
  {
   "cell_type": "code",
   "execution_count": 3,
   "metadata": {},
   "outputs": [],
   "source": [
    "%matplotlib inline\n",
    "\n",
    "mpl.rc('axes', labelsize=14)\n",
    "\n",
    "tick_size = 11\n",
    "mpl.rc('xtick', labelsize=tick_size)\n",
    "mpl.rc('ytick', labelsize=tick_size)\n",
    "\n",
    "plt.rcParams[\"font.family\"] = \"Calibri\""
   ]
  },
  {
   "cell_type": "code",
   "execution_count": 4,
   "metadata": {},
   "outputs": [],
   "source": [
    "# Size of figures\n",
    "fig_x = 8\n",
    "fig_y = 5"
   ]
  },
  {
   "cell_type": "code",
   "execution_count": 5,
   "metadata": {},
   "outputs": [],
   "source": [
    "# Line necessary to import agents in model, since the cwd of the notebook server is always the base path where you started the \n",
    "# server \n",
    "import sys\n",
    "sys.path.append(\".\\abm\")"
   ]
  },
  {
   "cell_type": "code",
   "execution_count": 6,
   "metadata": {},
   "outputs": [],
   "source": [
    "# How to display floats\n",
    "pd.options.display.float_format = '{:.6f}'.format\n",
    "#np.set_printoptions(precision=6)\n",
    "np.set_printoptions(formatter={'float': lambda x: \"{0:0.6f}\".format(x)})"
   ]
  },
  {
   "cell_type": "code",
   "execution_count": 7,
   "metadata": {},
   "outputs": [],
   "source": [
    "# Where to save the figures\n",
    "PROJECT_ROOT_DIR = \"pcf_project_assessment\"\n",
    "IMAGES_PATH = os.path.join(PROJECT_ROOT_DIR, \"output/images\")\n",
    "os.makedirs(IMAGES_PATH, exist_ok=True)\n",
    "\n",
    "def save_fig(fig_id, tight_layout=False, fig_extension=\"jpeg\", resolution=300):\n",
    "    path = os.path.join(IMAGES_PATH, fig_id + \".\" + fig_extension)\n",
    "    print(\"Saving figure\", fig_id)\n",
    "    if tight_layout:\n",
    "        plt.tight_layout()\n",
    "    plt.savefig(path, format=fig_extension, dpi=resolution)"
   ]
  },
  {
   "cell_type": "markdown",
   "metadata": {},
   "source": [
    "# Real data loading"
   ]
  },
  {
   "cell_type": "code",
   "execution_count": 8,
   "metadata": {
    "scrolled": true
   },
   "outputs": [],
   "source": [
    "path_to_adoption_port_real = \"./pcf_project_assessment/data/SBP yearly adoption - Portugal.csv\"\n",
    "yearly_adoption_portugal_real = pd.read_csv(path_to_adoption_port_real, index_col=0)\n",
    "yearly_adoption_portugal_real.drop(1995, inplace=True)"
   ]
  },
  {
   "cell_type": "markdown",
   "metadata": {},
   "source": [
    "# Model runs and data collection"
   ]
  },
  {
   "cell_type": "code",
   "execution_count": 9,
   "metadata": {},
   "outputs": [],
   "source": [
    "n_runs = 50"
   ]
  },
  {
   "cell_type": "code",
   "execution_count": 10,
   "metadata": {},
   "outputs": [],
   "source": [
    "def collect_data_run(model, n_run, df):  \n",
    "    # Aggregate adoption\n",
    "    aggr_adoption_out = model.datacollector.get_model_vars_dataframe()\n",
    "    aggr_adoption_out.set_index('Year', inplace=True)\n",
    "    col_name = 'Run ' + str(n_run+1)\n",
    "    df[col_name] = aggr_adoption_out['Yearly area of SBP sown [ha/y]']"
   ]
  },
  {
   "cell_type": "markdown",
   "metadata": {},
   "source": [
    "## Model with payments from 2013 to 2020"
   ]
  },
  {
   "cell_type": "code",
   "execution_count": 11,
   "metadata": {},
   "outputs": [],
   "source": [
    "start_year = 2013\n",
    "stop_year = 2021"
   ]
  },
  {
   "cell_type": "code",
   "execution_count": 12,
   "metadata": {},
   "outputs": [],
   "source": [
    "years = np.arange(start_year, stop_year)"
   ]
  },
  {
   "cell_type": "code",
   "execution_count": 13,
   "metadata": {},
   "outputs": [],
   "source": [
    "# Set dataframes to collect yearly adoption in Portugal with payments\n",
    "yearly_adoption_portugal_pred = pd.DataFrame(index=years)\n",
    "yearly_adoption_portugal_pred.index.rename('Year', inplace=True)"
   ]
  },
  {
   "cell_type": "code",
   "execution_count": 14,
   "metadata": {
    "scrolled": false
   },
   "outputs": [
    {
     "name": "stdout",
     "output_type": "stream",
     "text": [
      "Run n° 1: year 2013 step completed.\n",
      "Run n° 1: year 2014 step completed.\n",
      "Run n° 1: year 2015 step completed.\n",
      "Run n° 1: year 2016 step completed.\n",
      "Run n° 1: year 2017 step completed.\n",
      "Run n° 1: year 2018 step completed.\n",
      "Run n° 1: year 2019 step completed.\n",
      "Run n° 1: year 2020 step completed.\n",
      "Run n° 2: year 2013 step completed.\n",
      "Run n° 2: year 2014 step completed.\n",
      "Run n° 2: year 2015 step completed.\n",
      "Run n° 2: year 2016 step completed.\n",
      "Run n° 2: year 2017 step completed.\n",
      "Run n° 2: year 2018 step completed.\n",
      "Run n° 2: year 2019 step completed.\n",
      "Run n° 2: year 2020 step completed.\n",
      "Run n° 3: year 2013 step completed.\n",
      "Run n° 3: year 2014 step completed.\n",
      "Run n° 3: year 2015 step completed.\n",
      "Run n° 3: year 2016 step completed.\n",
      "Run n° 3: year 2017 step completed.\n",
      "Run n° 3: year 2018 step completed.\n",
      "Run n° 3: year 2019 step completed.\n",
      "Run n° 3: year 2020 step completed.\n",
      "Run n° 4: year 2013 step completed.\n",
      "Run n° 4: year 2014 step completed.\n",
      "Run n° 4: year 2015 step completed.\n",
      "Run n° 4: year 2016 step completed.\n",
      "Run n° 4: year 2017 step completed.\n",
      "Run n° 4: year 2018 step completed.\n",
      "Run n° 4: year 2019 step completed.\n",
      "Run n° 4: year 2020 step completed.\n",
      "Run n° 5: year 2013 step completed.\n",
      "Run n° 5: year 2014 step completed.\n",
      "Run n° 5: year 2015 step completed.\n",
      "Run n° 5: year 2016 step completed.\n",
      "Run n° 5: year 2017 step completed.\n",
      "Run n° 5: year 2018 step completed.\n",
      "Run n° 5: year 2019 step completed.\n",
      "Run n° 5: year 2020 step completed.\n",
      "Run n° 6: year 2013 step completed.\n",
      "Run n° 6: year 2014 step completed.\n",
      "Run n° 6: year 2015 step completed.\n",
      "Run n° 6: year 2016 step completed.\n",
      "Run n° 6: year 2017 step completed.\n",
      "Run n° 6: year 2018 step completed.\n",
      "Run n° 6: year 2019 step completed.\n",
      "Run n° 6: year 2020 step completed.\n",
      "Run n° 7: year 2013 step completed.\n",
      "Run n° 7: year 2014 step completed.\n",
      "Run n° 7: year 2015 step completed.\n",
      "Run n° 7: year 2016 step completed.\n",
      "Run n° 7: year 2017 step completed.\n",
      "Run n° 7: year 2018 step completed.\n",
      "Run n° 7: year 2019 step completed.\n",
      "Run n° 7: year 2020 step completed.\n",
      "Run n° 8: year 2013 step completed.\n",
      "Run n° 8: year 2014 step completed.\n",
      "Run n° 8: year 2015 step completed.\n",
      "Run n° 8: year 2016 step completed.\n",
      "Run n° 8: year 2017 step completed.\n",
      "Run n° 8: year 2018 step completed.\n",
      "Run n° 8: year 2019 step completed.\n",
      "Run n° 8: year 2020 step completed.\n",
      "Run n° 9: year 2013 step completed.\n",
      "Run n° 9: year 2014 step completed.\n",
      "Run n° 9: year 2015 step completed.\n",
      "Run n° 9: year 2016 step completed.\n",
      "Run n° 9: year 2017 step completed.\n",
      "Run n° 9: year 2018 step completed.\n",
      "Run n° 9: year 2019 step completed.\n",
      "Run n° 9: year 2020 step completed.\n",
      "Run n° 10: year 2013 step completed.\n",
      "Run n° 10: year 2014 step completed.\n",
      "Run n° 10: year 2015 step completed.\n",
      "Run n° 10: year 2016 step completed.\n",
      "Run n° 10: year 2017 step completed.\n",
      "Run n° 10: year 2018 step completed.\n",
      "Run n° 10: year 2019 step completed.\n",
      "Run n° 10: year 2020 step completed.\n",
      "Run n° 11: year 2013 step completed.\n",
      "Run n° 11: year 2014 step completed.\n",
      "Run n° 11: year 2015 step completed.\n",
      "Run n° 11: year 2016 step completed.\n",
      "Run n° 11: year 2017 step completed.\n",
      "Run n° 11: year 2018 step completed.\n",
      "Run n° 11: year 2019 step completed.\n",
      "Run n° 11: year 2020 step completed.\n",
      "Run n° 12: year 2013 step completed.\n",
      "Run n° 12: year 2014 step completed.\n",
      "Run n° 12: year 2015 step completed.\n",
      "Run n° 12: year 2016 step completed.\n",
      "Run n° 12: year 2017 step completed.\n",
      "Run n° 12: year 2018 step completed.\n",
      "Run n° 12: year 2019 step completed.\n",
      "Run n° 12: year 2020 step completed.\n",
      "Run n° 13: year 2013 step completed.\n",
      "Run n° 13: year 2014 step completed.\n",
      "Run n° 13: year 2015 step completed.\n",
      "Run n° 13: year 2016 step completed.\n",
      "Run n° 13: year 2017 step completed.\n",
      "Run n° 13: year 2018 step completed.\n",
      "Run n° 13: year 2019 step completed.\n",
      "Run n° 13: year 2020 step completed.\n",
      "Run n° 14: year 2013 step completed.\n",
      "Run n° 14: year 2014 step completed.\n",
      "Run n° 14: year 2015 step completed.\n",
      "Run n° 14: year 2016 step completed.\n",
      "Run n° 14: year 2017 step completed.\n",
      "Run n° 14: year 2018 step completed.\n",
      "Run n° 14: year 2019 step completed.\n",
      "Run n° 14: year 2020 step completed.\n",
      "Run n° 15: year 2013 step completed.\n",
      "Run n° 15: year 2014 step completed.\n",
      "Run n° 15: year 2015 step completed.\n",
      "Run n° 15: year 2016 step completed.\n",
      "Run n° 15: year 2017 step completed.\n",
      "Run n° 15: year 2018 step completed.\n",
      "Run n° 15: year 2019 step completed.\n",
      "Run n° 15: year 2020 step completed.\n",
      "Run n° 16: year 2013 step completed.\n",
      "Run n° 16: year 2014 step completed.\n",
      "Run n° 16: year 2015 step completed.\n",
      "Run n° 16: year 2016 step completed.\n",
      "Run n° 16: year 2017 step completed.\n",
      "Run n° 16: year 2018 step completed.\n",
      "Run n° 16: year 2019 step completed.\n",
      "Run n° 16: year 2020 step completed.\n",
      "Run n° 17: year 2013 step completed.\n",
      "Run n° 17: year 2014 step completed.\n",
      "Run n° 17: year 2015 step completed.\n",
      "Run n° 17: year 2016 step completed.\n",
      "Run n° 17: year 2017 step completed.\n",
      "Run n° 17: year 2018 step completed.\n",
      "Run n° 17: year 2019 step completed.\n",
      "Run n° 17: year 2020 step completed.\n",
      "Run n° 18: year 2013 step completed.\n",
      "Run n° 18: year 2014 step completed.\n",
      "Run n° 18: year 2015 step completed.\n",
      "Run n° 18: year 2016 step completed.\n",
      "Run n° 18: year 2017 step completed.\n",
      "Run n° 18: year 2018 step completed.\n",
      "Run n° 18: year 2019 step completed.\n",
      "Run n° 18: year 2020 step completed.\n",
      "Run n° 19: year 2013 step completed.\n",
      "Run n° 19: year 2014 step completed.\n",
      "Run n° 19: year 2015 step completed.\n",
      "Run n° 19: year 2016 step completed.\n",
      "Run n° 19: year 2017 step completed.\n",
      "Run n° 19: year 2018 step completed.\n",
      "Run n° 19: year 2019 step completed.\n",
      "Run n° 19: year 2020 step completed.\n",
      "Run n° 20: year 2013 step completed.\n",
      "Run n° 20: year 2014 step completed.\n",
      "Run n° 20: year 2015 step completed.\n",
      "Run n° 20: year 2016 step completed.\n",
      "Run n° 20: year 2017 step completed.\n",
      "Run n° 20: year 2018 step completed.\n",
      "Run n° 20: year 2019 step completed.\n",
      "Run n° 20: year 2020 step completed.\n",
      "Run n° 21: year 2013 step completed.\n",
      "Run n° 21: year 2014 step completed.\n",
      "Run n° 21: year 2015 step completed.\n",
      "Run n° 21: year 2016 step completed.\n",
      "Run n° 21: year 2017 step completed.\n",
      "Run n° 21: year 2018 step completed.\n",
      "Run n° 21: year 2019 step completed.\n",
      "Run n° 21: year 2020 step completed.\n",
      "Run n° 22: year 2013 step completed.\n",
      "Run n° 22: year 2014 step completed.\n",
      "Run n° 22: year 2015 step completed.\n",
      "Run n° 22: year 2016 step completed.\n",
      "Run n° 22: year 2017 step completed.\n",
      "Run n° 22: year 2018 step completed.\n",
      "Run n° 22: year 2019 step completed.\n",
      "Run n° 22: year 2020 step completed.\n",
      "Run n° 23: year 2013 step completed.\n",
      "Run n° 23: year 2014 step completed.\n",
      "Run n° 23: year 2015 step completed.\n",
      "Run n° 23: year 2016 step completed.\n",
      "Run n° 23: year 2017 step completed.\n",
      "Run n° 23: year 2018 step completed.\n",
      "Run n° 23: year 2019 step completed.\n",
      "Run n° 23: year 2020 step completed.\n",
      "Run n° 24: year 2013 step completed.\n",
      "Run n° 24: year 2014 step completed.\n",
      "Run n° 24: year 2015 step completed.\n",
      "Run n° 24: year 2016 step completed.\n",
      "Run n° 24: year 2017 step completed.\n",
      "Run n° 24: year 2018 step completed.\n",
      "Run n° 24: year 2019 step completed.\n",
      "Run n° 24: year 2020 step completed.\n",
      "Run n° 25: year 2013 step completed.\n",
      "Run n° 25: year 2014 step completed.\n",
      "Run n° 25: year 2015 step completed.\n",
      "Run n° 25: year 2016 step completed.\n",
      "Run n° 25: year 2017 step completed.\n",
      "Run n° 25: year 2018 step completed.\n",
      "Run n° 25: year 2019 step completed.\n",
      "Run n° 25: year 2020 step completed.\n",
      "Run n° 26: year 2013 step completed.\n",
      "Run n° 26: year 2014 step completed.\n",
      "Run n° 26: year 2015 step completed.\n",
      "Run n° 26: year 2016 step completed.\n",
      "Run n° 26: year 2017 step completed.\n",
      "Run n° 26: year 2018 step completed.\n",
      "Run n° 26: year 2019 step completed.\n",
      "Run n° 26: year 2020 step completed.\n",
      "Run n° 27: year 2013 step completed.\n",
      "Run n° 27: year 2014 step completed.\n",
      "Run n° 27: year 2015 step completed.\n",
      "Run n° 27: year 2016 step completed.\n",
      "Run n° 27: year 2017 step completed.\n",
      "Run n° 27: year 2018 step completed.\n",
      "Run n° 27: year 2019 step completed.\n",
      "Run n° 27: year 2020 step completed.\n",
      "Run n° 28: year 2013 step completed.\n",
      "Run n° 28: year 2014 step completed.\n",
      "Run n° 28: year 2015 step completed.\n",
      "Run n° 28: year 2016 step completed.\n",
      "Run n° 28: year 2017 step completed.\n",
      "Run n° 28: year 2018 step completed.\n",
      "Run n° 28: year 2019 step completed.\n",
      "Run n° 28: year 2020 step completed.\n"
     ]
    },
    {
     "name": "stdout",
     "output_type": "stream",
     "text": [
      "Run n° 29: year 2013 step completed.\n",
      "Run n° 29: year 2014 step completed.\n",
      "Run n° 29: year 2015 step completed.\n",
      "Run n° 29: year 2016 step completed.\n",
      "Run n° 29: year 2017 step completed.\n",
      "Run n° 29: year 2018 step completed.\n",
      "Run n° 29: year 2019 step completed.\n",
      "Run n° 29: year 2020 step completed.\n",
      "Run n° 30: year 2013 step completed.\n",
      "Run n° 30: year 2014 step completed.\n",
      "Run n° 30: year 2015 step completed.\n",
      "Run n° 30: year 2016 step completed.\n",
      "Run n° 30: year 2017 step completed.\n",
      "Run n° 30: year 2018 step completed.\n",
      "Run n° 30: year 2019 step completed.\n",
      "Run n° 30: year 2020 step completed.\n",
      "Run n° 31: year 2013 step completed.\n",
      "Run n° 31: year 2014 step completed.\n",
      "Run n° 31: year 2015 step completed.\n",
      "Run n° 31: year 2016 step completed.\n",
      "Run n° 31: year 2017 step completed.\n",
      "Run n° 31: year 2018 step completed.\n",
      "Run n° 31: year 2019 step completed.\n",
      "Run n° 31: year 2020 step completed.\n",
      "Run n° 32: year 2013 step completed.\n",
      "Run n° 32: year 2014 step completed.\n",
      "Run n° 32: year 2015 step completed.\n",
      "Run n° 32: year 2016 step completed.\n",
      "Run n° 32: year 2017 step completed.\n",
      "Run n° 32: year 2018 step completed.\n",
      "Run n° 32: year 2019 step completed.\n",
      "Run n° 32: year 2020 step completed.\n",
      "Run n° 33: year 2013 step completed.\n",
      "Run n° 33: year 2014 step completed.\n",
      "Run n° 33: year 2015 step completed.\n",
      "Run n° 33: year 2016 step completed.\n",
      "Run n° 33: year 2017 step completed.\n",
      "Run n° 33: year 2018 step completed.\n",
      "Run n° 33: year 2019 step completed.\n",
      "Run n° 33: year 2020 step completed.\n",
      "Run n° 34: year 2013 step completed.\n",
      "Run n° 34: year 2014 step completed.\n",
      "Run n° 34: year 2015 step completed.\n",
      "Run n° 34: year 2016 step completed.\n",
      "Run n° 34: year 2017 step completed.\n",
      "Run n° 34: year 2018 step completed.\n",
      "Run n° 34: year 2019 step completed.\n",
      "Run n° 34: year 2020 step completed.\n",
      "Run n° 35: year 2013 step completed.\n",
      "Run n° 35: year 2014 step completed.\n",
      "Run n° 35: year 2015 step completed.\n",
      "Run n° 35: year 2016 step completed.\n",
      "Run n° 35: year 2017 step completed.\n",
      "Run n° 35: year 2018 step completed.\n",
      "Run n° 35: year 2019 step completed.\n",
      "Run n° 35: year 2020 step completed.\n",
      "Run n° 36: year 2013 step completed.\n",
      "Run n° 36: year 2014 step completed.\n",
      "Run n° 36: year 2015 step completed.\n",
      "Run n° 36: year 2016 step completed.\n",
      "Run n° 36: year 2017 step completed.\n",
      "Run n° 36: year 2018 step completed.\n",
      "Run n° 36: year 2019 step completed.\n",
      "Run n° 36: year 2020 step completed.\n",
      "Run n° 37: year 2013 step completed.\n",
      "Run n° 37: year 2014 step completed.\n",
      "Run n° 37: year 2015 step completed.\n",
      "Run n° 37: year 2016 step completed.\n",
      "Run n° 37: year 2017 step completed.\n",
      "Run n° 37: year 2018 step completed.\n",
      "Run n° 37: year 2019 step completed.\n",
      "Run n° 37: year 2020 step completed.\n",
      "Run n° 38: year 2013 step completed.\n",
      "Run n° 38: year 2014 step completed.\n",
      "Run n° 38: year 2015 step completed.\n",
      "Run n° 38: year 2016 step completed.\n",
      "Run n° 38: year 2017 step completed.\n",
      "Run n° 38: year 2018 step completed.\n",
      "Run n° 38: year 2019 step completed.\n",
      "Run n° 38: year 2020 step completed.\n",
      "Run n° 39: year 2013 step completed.\n",
      "Run n° 39: year 2014 step completed.\n",
      "Run n° 39: year 2015 step completed.\n",
      "Run n° 39: year 2016 step completed.\n",
      "Run n° 39: year 2017 step completed.\n",
      "Run n° 39: year 2018 step completed.\n",
      "Run n° 39: year 2019 step completed.\n",
      "Run n° 39: year 2020 step completed.\n",
      "Run n° 40: year 2013 step completed.\n",
      "Run n° 40: year 2014 step completed.\n",
      "Run n° 40: year 2015 step completed.\n",
      "Run n° 40: year 2016 step completed.\n",
      "Run n° 40: year 2017 step completed.\n",
      "Run n° 40: year 2018 step completed.\n",
      "Run n° 40: year 2019 step completed.\n",
      "Run n° 40: year 2020 step completed.\n",
      "Run n° 41: year 2013 step completed.\n",
      "Run n° 41: year 2014 step completed.\n",
      "Run n° 41: year 2015 step completed.\n",
      "Run n° 41: year 2016 step completed.\n",
      "Run n° 41: year 2017 step completed.\n",
      "Run n° 41: year 2018 step completed.\n",
      "Run n° 41: year 2019 step completed.\n",
      "Run n° 41: year 2020 step completed.\n",
      "Run n° 42: year 2013 step completed.\n",
      "Run n° 42: year 2014 step completed.\n",
      "Run n° 42: year 2015 step completed.\n",
      "Run n° 42: year 2016 step completed.\n",
      "Run n° 42: year 2017 step completed.\n",
      "Run n° 42: year 2018 step completed.\n",
      "Run n° 42: year 2019 step completed.\n",
      "Run n° 42: year 2020 step completed.\n",
      "Run n° 43: year 2013 step completed.\n",
      "Run n° 43: year 2014 step completed.\n",
      "Run n° 43: year 2015 step completed.\n",
      "Run n° 43: year 2016 step completed.\n",
      "Run n° 43: year 2017 step completed.\n",
      "Run n° 43: year 2018 step completed.\n",
      "Run n° 43: year 2019 step completed.\n",
      "Run n° 43: year 2020 step completed.\n",
      "Run n° 44: year 2013 step completed.\n",
      "Run n° 44: year 2014 step completed.\n",
      "Run n° 44: year 2015 step completed.\n",
      "Run n° 44: year 2016 step completed.\n",
      "Run n° 44: year 2017 step completed.\n",
      "Run n° 44: year 2018 step completed.\n",
      "Run n° 44: year 2019 step completed.\n",
      "Run n° 44: year 2020 step completed.\n",
      "Run n° 45: year 2013 step completed.\n",
      "Run n° 45: year 2014 step completed.\n",
      "Run n° 45: year 2015 step completed.\n",
      "Run n° 45: year 2016 step completed.\n",
      "Run n° 45: year 2017 step completed.\n",
      "Run n° 45: year 2018 step completed.\n",
      "Run n° 45: year 2019 step completed.\n",
      "Run n° 45: year 2020 step completed.\n",
      "Run n° 46: year 2013 step completed.\n",
      "Run n° 46: year 2014 step completed.\n",
      "Run n° 46: year 2015 step completed.\n",
      "Run n° 46: year 2016 step completed.\n",
      "Run n° 46: year 2017 step completed.\n",
      "Run n° 46: year 2018 step completed.\n",
      "Run n° 46: year 2019 step completed.\n",
      "Run n° 46: year 2020 step completed.\n",
      "Run n° 47: year 2013 step completed.\n",
      "Run n° 47: year 2014 step completed.\n",
      "Run n° 47: year 2015 step completed.\n",
      "Run n° 47: year 2016 step completed.\n",
      "Run n° 47: year 2017 step completed.\n",
      "Run n° 47: year 2018 step completed.\n",
      "Run n° 47: year 2019 step completed.\n",
      "Run n° 47: year 2020 step completed.\n",
      "Run n° 48: year 2013 step completed.\n",
      "Run n° 48: year 2014 step completed.\n",
      "Run n° 48: year 2015 step completed.\n",
      "Run n° 48: year 2016 step completed.\n",
      "Run n° 48: year 2017 step completed.\n",
      "Run n° 48: year 2018 step completed.\n",
      "Run n° 48: year 2019 step completed.\n",
      "Run n° 48: year 2020 step completed.\n",
      "Run n° 49: year 2013 step completed.\n",
      "Run n° 49: year 2014 step completed.\n",
      "Run n° 49: year 2015 step completed.\n",
      "Run n° 49: year 2016 step completed.\n",
      "Run n° 49: year 2017 step completed.\n",
      "Run n° 49: year 2018 step completed.\n",
      "Run n° 49: year 2019 step completed.\n",
      "Run n° 49: year 2020 step completed.\n",
      "Run n° 50: year 2013 step completed.\n",
      "Run n° 50: year 2014 step completed.\n",
      "Run n° 50: year 2015 step completed.\n",
      "Run n° 50: year 2016 step completed.\n",
      "Run n° 50: year 2017 step completed.\n",
      "Run n° 50: year 2018 step completed.\n",
      "Run n° 50: year 2019 step completed.\n",
      "Run n° 50: year 2020 step completed.\n",
      "Wall time: 17min 2s\n"
     ]
    }
   ],
   "source": [
    "%%time\n",
    "\n",
    "for i in range(n_runs):\n",
    "    model = SBPAdoption(initial_year=start_year, seed=i)\n",
    "    for y in range(start_year, stop_year):\n",
    "        model.step()\n",
    "        print(\"Run n° \" + str(i+1) + \": year \" + str(y) + \" step completed.\")\n",
    "    collect_data_run(model, i, yearly_adoption_portugal_pred)"
   ]
  },
  {
   "cell_type": "markdown",
   "metadata": {},
   "source": [
    "## Model without payments from 2009 to 2020"
   ]
  },
  {
   "cell_type": "code",
   "execution_count": 15,
   "metadata": {},
   "outputs": [],
   "source": [
    "start_year_nop = 2009\n",
    "stop_year_nop = 2021"
   ]
  },
  {
   "cell_type": "code",
   "execution_count": 16,
   "metadata": {},
   "outputs": [],
   "source": [
    "years_nop = np.arange(start_year_nop, stop_year_nop)"
   ]
  },
  {
   "cell_type": "code",
   "execution_count": 17,
   "metadata": {},
   "outputs": [],
   "source": [
    "# Set dataframes to collect yearly adoption in Portugal without payments\n",
    "yearly_adoption_portugal_pred_nop = pd.DataFrame(index=years_nop)\n",
    "yearly_adoption_portugal_pred_nop.index.rename('Year', inplace=True)"
   ]
  },
  {
   "cell_type": "code",
   "execution_count": 18,
   "metadata": {
    "scrolled": true
   },
   "outputs": [
    {
     "name": "stdout",
     "output_type": "stream",
     "text": [
      "Run n° 1: year 2009 step completed.\n",
      "Run n° 1: year 2010 step completed.\n",
      "Run n° 1: year 2011 step completed.\n",
      "Run n° 1: year 2012 step completed.\n",
      "Run n° 1: year 2013 step completed.\n",
      "Run n° 1: year 2014 step completed.\n",
      "Run n° 1: year 2015 step completed.\n",
      "Run n° 1: year 2016 step completed.\n",
      "Run n° 1: year 2017 step completed.\n",
      "Run n° 1: year 2018 step completed.\n",
      "Run n° 1: year 2019 step completed.\n",
      "Run n° 1: year 2020 step completed.\n",
      "Run n° 2: year 2009 step completed.\n",
      "Run n° 2: year 2010 step completed.\n",
      "Run n° 2: year 2011 step completed.\n",
      "Run n° 2: year 2012 step completed.\n",
      "Run n° 2: year 2013 step completed.\n",
      "Run n° 2: year 2014 step completed.\n",
      "Run n° 2: year 2015 step completed.\n",
      "Run n° 2: year 2016 step completed.\n",
      "Run n° 2: year 2017 step completed.\n",
      "Run n° 2: year 2018 step completed.\n",
      "Run n° 2: year 2019 step completed.\n",
      "Run n° 2: year 2020 step completed.\n",
      "Run n° 3: year 2009 step completed.\n",
      "Run n° 3: year 2010 step completed.\n",
      "Run n° 3: year 2011 step completed.\n",
      "Run n° 3: year 2012 step completed.\n",
      "Run n° 3: year 2013 step completed.\n",
      "Run n° 3: year 2014 step completed.\n",
      "Run n° 3: year 2015 step completed.\n",
      "Run n° 3: year 2016 step completed.\n",
      "Run n° 3: year 2017 step completed.\n",
      "Run n° 3: year 2018 step completed.\n",
      "Run n° 3: year 2019 step completed.\n",
      "Run n° 3: year 2020 step completed.\n",
      "Run n° 4: year 2009 step completed.\n",
      "Run n° 4: year 2010 step completed.\n",
      "Run n° 4: year 2011 step completed.\n",
      "Run n° 4: year 2012 step completed.\n",
      "Run n° 4: year 2013 step completed.\n",
      "Run n° 4: year 2014 step completed.\n",
      "Run n° 4: year 2015 step completed.\n",
      "Run n° 4: year 2016 step completed.\n",
      "Run n° 4: year 2017 step completed.\n",
      "Run n° 4: year 2018 step completed.\n",
      "Run n° 4: year 2019 step completed.\n",
      "Run n° 4: year 2020 step completed.\n",
      "Run n° 5: year 2009 step completed.\n",
      "Run n° 5: year 2010 step completed.\n",
      "Run n° 5: year 2011 step completed.\n",
      "Run n° 5: year 2012 step completed.\n",
      "Run n° 5: year 2013 step completed.\n",
      "Run n° 5: year 2014 step completed.\n",
      "Run n° 5: year 2015 step completed.\n",
      "Run n° 5: year 2016 step completed.\n",
      "Run n° 5: year 2017 step completed.\n",
      "Run n° 5: year 2018 step completed.\n",
      "Run n° 5: year 2019 step completed.\n",
      "Run n° 5: year 2020 step completed.\n",
      "Run n° 6: year 2009 step completed.\n",
      "Run n° 6: year 2010 step completed.\n",
      "Run n° 6: year 2011 step completed.\n",
      "Run n° 6: year 2012 step completed.\n",
      "Run n° 6: year 2013 step completed.\n",
      "Run n° 6: year 2014 step completed.\n",
      "Run n° 6: year 2015 step completed.\n",
      "Run n° 6: year 2016 step completed.\n",
      "Run n° 6: year 2017 step completed.\n",
      "Run n° 6: year 2018 step completed.\n",
      "Run n° 6: year 2019 step completed.\n",
      "Run n° 6: year 2020 step completed.\n",
      "Run n° 7: year 2009 step completed.\n",
      "Run n° 7: year 2010 step completed.\n",
      "Run n° 7: year 2011 step completed.\n",
      "Run n° 7: year 2012 step completed.\n",
      "Run n° 7: year 2013 step completed.\n",
      "Run n° 7: year 2014 step completed.\n",
      "Run n° 7: year 2015 step completed.\n",
      "Run n° 7: year 2016 step completed.\n",
      "Run n° 7: year 2017 step completed.\n",
      "Run n° 7: year 2018 step completed.\n",
      "Run n° 7: year 2019 step completed.\n",
      "Run n° 7: year 2020 step completed.\n",
      "Run n° 8: year 2009 step completed.\n",
      "Run n° 8: year 2010 step completed.\n",
      "Run n° 8: year 2011 step completed.\n",
      "Run n° 8: year 2012 step completed.\n",
      "Run n° 8: year 2013 step completed.\n",
      "Run n° 8: year 2014 step completed.\n",
      "Run n° 8: year 2015 step completed.\n",
      "Run n° 8: year 2016 step completed.\n",
      "Run n° 8: year 2017 step completed.\n",
      "Run n° 8: year 2018 step completed.\n",
      "Run n° 8: year 2019 step completed.\n",
      "Run n° 8: year 2020 step completed.\n",
      "Run n° 9: year 2009 step completed.\n",
      "Run n° 9: year 2010 step completed.\n",
      "Run n° 9: year 2011 step completed.\n",
      "Run n° 9: year 2012 step completed.\n",
      "Run n° 9: year 2013 step completed.\n",
      "Run n° 9: year 2014 step completed.\n",
      "Run n° 9: year 2015 step completed.\n",
      "Run n° 9: year 2016 step completed.\n",
      "Run n° 9: year 2017 step completed.\n",
      "Run n° 9: year 2018 step completed.\n",
      "Run n° 9: year 2019 step completed.\n",
      "Run n° 9: year 2020 step completed.\n",
      "Run n° 10: year 2009 step completed.\n",
      "Run n° 10: year 2010 step completed.\n",
      "Run n° 10: year 2011 step completed.\n",
      "Run n° 10: year 2012 step completed.\n",
      "Run n° 10: year 2013 step completed.\n",
      "Run n° 10: year 2014 step completed.\n",
      "Run n° 10: year 2015 step completed.\n",
      "Run n° 10: year 2016 step completed.\n",
      "Run n° 10: year 2017 step completed.\n",
      "Run n° 10: year 2018 step completed.\n",
      "Run n° 10: year 2019 step completed.\n",
      "Run n° 10: year 2020 step completed.\n",
      "Run n° 11: year 2009 step completed.\n",
      "Run n° 11: year 2010 step completed.\n",
      "Run n° 11: year 2011 step completed.\n",
      "Run n° 11: year 2012 step completed.\n",
      "Run n° 11: year 2013 step completed.\n",
      "Run n° 11: year 2014 step completed.\n",
      "Run n° 11: year 2015 step completed.\n",
      "Run n° 11: year 2016 step completed.\n",
      "Run n° 11: year 2017 step completed.\n",
      "Run n° 11: year 2018 step completed.\n",
      "Run n° 11: year 2019 step completed.\n",
      "Run n° 11: year 2020 step completed.\n",
      "Run n° 12: year 2009 step completed.\n",
      "Run n° 12: year 2010 step completed.\n",
      "Run n° 12: year 2011 step completed.\n",
      "Run n° 12: year 2012 step completed.\n",
      "Run n° 12: year 2013 step completed.\n",
      "Run n° 12: year 2014 step completed.\n",
      "Run n° 12: year 2015 step completed.\n",
      "Run n° 12: year 2016 step completed.\n",
      "Run n° 12: year 2017 step completed.\n",
      "Run n° 12: year 2018 step completed.\n",
      "Run n° 12: year 2019 step completed.\n",
      "Run n° 12: year 2020 step completed.\n",
      "Run n° 13: year 2009 step completed.\n",
      "Run n° 13: year 2010 step completed.\n",
      "Run n° 13: year 2011 step completed.\n",
      "Run n° 13: year 2012 step completed.\n",
      "Run n° 13: year 2013 step completed.\n",
      "Run n° 13: year 2014 step completed.\n",
      "Run n° 13: year 2015 step completed.\n",
      "Run n° 13: year 2016 step completed.\n",
      "Run n° 13: year 2017 step completed.\n",
      "Run n° 13: year 2018 step completed.\n",
      "Run n° 13: year 2019 step completed.\n",
      "Run n° 13: year 2020 step completed.\n",
      "Run n° 14: year 2009 step completed.\n",
      "Run n° 14: year 2010 step completed.\n",
      "Run n° 14: year 2011 step completed.\n",
      "Run n° 14: year 2012 step completed.\n",
      "Run n° 14: year 2013 step completed.\n",
      "Run n° 14: year 2014 step completed.\n",
      "Run n° 14: year 2015 step completed.\n",
      "Run n° 14: year 2016 step completed.\n",
      "Run n° 14: year 2017 step completed.\n",
      "Run n° 14: year 2018 step completed.\n",
      "Run n° 14: year 2019 step completed.\n",
      "Run n° 14: year 2020 step completed.\n",
      "Run n° 15: year 2009 step completed.\n",
      "Run n° 15: year 2010 step completed.\n",
      "Run n° 15: year 2011 step completed.\n",
      "Run n° 15: year 2012 step completed.\n",
      "Run n° 15: year 2013 step completed.\n",
      "Run n° 15: year 2014 step completed.\n",
      "Run n° 15: year 2015 step completed.\n",
      "Run n° 15: year 2016 step completed.\n",
      "Run n° 15: year 2017 step completed.\n",
      "Run n° 15: year 2018 step completed.\n",
      "Run n° 15: year 2019 step completed.\n",
      "Run n° 15: year 2020 step completed.\n",
      "Run n° 16: year 2009 step completed.\n",
      "Run n° 16: year 2010 step completed.\n",
      "Run n° 16: year 2011 step completed.\n",
      "Run n° 16: year 2012 step completed.\n",
      "Run n° 16: year 2013 step completed.\n",
      "Run n° 16: year 2014 step completed.\n",
      "Run n° 16: year 2015 step completed.\n",
      "Run n° 16: year 2016 step completed.\n",
      "Run n° 16: year 2017 step completed.\n",
      "Run n° 16: year 2018 step completed.\n",
      "Run n° 16: year 2019 step completed.\n",
      "Run n° 16: year 2020 step completed.\n",
      "Run n° 17: year 2009 step completed.\n",
      "Run n° 17: year 2010 step completed.\n",
      "Run n° 17: year 2011 step completed.\n",
      "Run n° 17: year 2012 step completed.\n",
      "Run n° 17: year 2013 step completed.\n",
      "Run n° 17: year 2014 step completed.\n",
      "Run n° 17: year 2015 step completed.\n",
      "Run n° 17: year 2016 step completed.\n",
      "Run n° 17: year 2017 step completed.\n",
      "Run n° 17: year 2018 step completed.\n",
      "Run n° 17: year 2019 step completed.\n",
      "Run n° 17: year 2020 step completed.\n",
      "Run n° 18: year 2009 step completed.\n",
      "Run n° 18: year 2010 step completed.\n",
      "Run n° 18: year 2011 step completed.\n",
      "Run n° 18: year 2012 step completed.\n",
      "Run n° 18: year 2013 step completed.\n",
      "Run n° 18: year 2014 step completed.\n",
      "Run n° 18: year 2015 step completed.\n",
      "Run n° 18: year 2016 step completed.\n",
      "Run n° 18: year 2017 step completed.\n",
      "Run n° 18: year 2018 step completed.\n",
      "Run n° 18: year 2019 step completed.\n",
      "Run n° 18: year 2020 step completed.\n",
      "Run n° 19: year 2009 step completed.\n",
      "Run n° 19: year 2010 step completed.\n",
      "Run n° 19: year 2011 step completed.\n",
      "Run n° 19: year 2012 step completed.\n",
      "Run n° 19: year 2013 step completed.\n",
      "Run n° 19: year 2014 step completed.\n",
      "Run n° 19: year 2015 step completed.\n",
      "Run n° 19: year 2016 step completed.\n",
      "Run n° 19: year 2017 step completed.\n"
     ]
    },
    {
     "name": "stdout",
     "output_type": "stream",
     "text": [
      "Run n° 19: year 2018 step completed.\n",
      "Run n° 19: year 2019 step completed.\n",
      "Run n° 19: year 2020 step completed.\n",
      "Run n° 20: year 2009 step completed.\n",
      "Run n° 20: year 2010 step completed.\n",
      "Run n° 20: year 2011 step completed.\n",
      "Run n° 20: year 2012 step completed.\n",
      "Run n° 20: year 2013 step completed.\n",
      "Run n° 20: year 2014 step completed.\n",
      "Run n° 20: year 2015 step completed.\n",
      "Run n° 20: year 2016 step completed.\n",
      "Run n° 20: year 2017 step completed.\n",
      "Run n° 20: year 2018 step completed.\n",
      "Run n° 20: year 2019 step completed.\n",
      "Run n° 20: year 2020 step completed.\n",
      "Run n° 21: year 2009 step completed.\n",
      "Run n° 21: year 2010 step completed.\n",
      "Run n° 21: year 2011 step completed.\n",
      "Run n° 21: year 2012 step completed.\n",
      "Run n° 21: year 2013 step completed.\n",
      "Run n° 21: year 2014 step completed.\n",
      "Run n° 21: year 2015 step completed.\n",
      "Run n° 21: year 2016 step completed.\n",
      "Run n° 21: year 2017 step completed.\n",
      "Run n° 21: year 2018 step completed.\n",
      "Run n° 21: year 2019 step completed.\n",
      "Run n° 21: year 2020 step completed.\n",
      "Run n° 22: year 2009 step completed.\n",
      "Run n° 22: year 2010 step completed.\n",
      "Run n° 22: year 2011 step completed.\n",
      "Run n° 22: year 2012 step completed.\n",
      "Run n° 22: year 2013 step completed.\n",
      "Run n° 22: year 2014 step completed.\n",
      "Run n° 22: year 2015 step completed.\n",
      "Run n° 22: year 2016 step completed.\n",
      "Run n° 22: year 2017 step completed.\n",
      "Run n° 22: year 2018 step completed.\n",
      "Run n° 22: year 2019 step completed.\n",
      "Run n° 22: year 2020 step completed.\n",
      "Run n° 23: year 2009 step completed.\n",
      "Run n° 23: year 2010 step completed.\n",
      "Run n° 23: year 2011 step completed.\n",
      "Run n° 23: year 2012 step completed.\n",
      "Run n° 23: year 2013 step completed.\n",
      "Run n° 23: year 2014 step completed.\n",
      "Run n° 23: year 2015 step completed.\n",
      "Run n° 23: year 2016 step completed.\n",
      "Run n° 23: year 2017 step completed.\n",
      "Run n° 23: year 2018 step completed.\n",
      "Run n° 23: year 2019 step completed.\n",
      "Run n° 23: year 2020 step completed.\n",
      "Run n° 24: year 2009 step completed.\n",
      "Run n° 24: year 2010 step completed.\n",
      "Run n° 24: year 2011 step completed.\n",
      "Run n° 24: year 2012 step completed.\n",
      "Run n° 24: year 2013 step completed.\n",
      "Run n° 24: year 2014 step completed.\n",
      "Run n° 24: year 2015 step completed.\n",
      "Run n° 24: year 2016 step completed.\n",
      "Run n° 24: year 2017 step completed.\n",
      "Run n° 24: year 2018 step completed.\n",
      "Run n° 24: year 2019 step completed.\n",
      "Run n° 24: year 2020 step completed.\n",
      "Run n° 25: year 2009 step completed.\n",
      "Run n° 25: year 2010 step completed.\n",
      "Run n° 25: year 2011 step completed.\n",
      "Run n° 25: year 2012 step completed.\n",
      "Run n° 25: year 2013 step completed.\n",
      "Run n° 25: year 2014 step completed.\n",
      "Run n° 25: year 2015 step completed.\n",
      "Run n° 25: year 2016 step completed.\n",
      "Run n° 25: year 2017 step completed.\n",
      "Run n° 25: year 2018 step completed.\n",
      "Run n° 25: year 2019 step completed.\n",
      "Run n° 25: year 2020 step completed.\n",
      "Run n° 26: year 2009 step completed.\n",
      "Run n° 26: year 2010 step completed.\n",
      "Run n° 26: year 2011 step completed.\n",
      "Run n° 26: year 2012 step completed.\n",
      "Run n° 26: year 2013 step completed.\n",
      "Run n° 26: year 2014 step completed.\n",
      "Run n° 26: year 2015 step completed.\n",
      "Run n° 26: year 2016 step completed.\n",
      "Run n° 26: year 2017 step completed.\n",
      "Run n° 26: year 2018 step completed.\n",
      "Run n° 26: year 2019 step completed.\n",
      "Run n° 26: year 2020 step completed.\n",
      "Run n° 27: year 2009 step completed.\n",
      "Run n° 27: year 2010 step completed.\n",
      "Run n° 27: year 2011 step completed.\n",
      "Run n° 27: year 2012 step completed.\n",
      "Run n° 27: year 2013 step completed.\n",
      "Run n° 27: year 2014 step completed.\n",
      "Run n° 27: year 2015 step completed.\n",
      "Run n° 27: year 2016 step completed.\n",
      "Run n° 27: year 2017 step completed.\n",
      "Run n° 27: year 2018 step completed.\n",
      "Run n° 27: year 2019 step completed.\n",
      "Run n° 27: year 2020 step completed.\n",
      "Run n° 28: year 2009 step completed.\n",
      "Run n° 28: year 2010 step completed.\n",
      "Run n° 28: year 2011 step completed.\n",
      "Run n° 28: year 2012 step completed.\n",
      "Run n° 28: year 2013 step completed.\n",
      "Run n° 28: year 2014 step completed.\n",
      "Run n° 28: year 2015 step completed.\n",
      "Run n° 28: year 2016 step completed.\n",
      "Run n° 28: year 2017 step completed.\n",
      "Run n° 28: year 2018 step completed.\n",
      "Run n° 28: year 2019 step completed.\n",
      "Run n° 28: year 2020 step completed.\n",
      "Run n° 29: year 2009 step completed.\n",
      "Run n° 29: year 2010 step completed.\n",
      "Run n° 29: year 2011 step completed.\n",
      "Run n° 29: year 2012 step completed.\n",
      "Run n° 29: year 2013 step completed.\n",
      "Run n° 29: year 2014 step completed.\n",
      "Run n° 29: year 2015 step completed.\n",
      "Run n° 29: year 2016 step completed.\n",
      "Run n° 29: year 2017 step completed.\n",
      "Run n° 29: year 2018 step completed.\n",
      "Run n° 29: year 2019 step completed.\n",
      "Run n° 29: year 2020 step completed.\n",
      "Run n° 30: year 2009 step completed.\n",
      "Run n° 30: year 2010 step completed.\n",
      "Run n° 30: year 2011 step completed.\n",
      "Run n° 30: year 2012 step completed.\n",
      "Run n° 30: year 2013 step completed.\n",
      "Run n° 30: year 2014 step completed.\n",
      "Run n° 30: year 2015 step completed.\n",
      "Run n° 30: year 2016 step completed.\n",
      "Run n° 30: year 2017 step completed.\n",
      "Run n° 30: year 2018 step completed.\n",
      "Run n° 30: year 2019 step completed.\n",
      "Run n° 30: year 2020 step completed.\n",
      "Run n° 31: year 2009 step completed.\n",
      "Run n° 31: year 2010 step completed.\n",
      "Run n° 31: year 2011 step completed.\n",
      "Run n° 31: year 2012 step completed.\n",
      "Run n° 31: year 2013 step completed.\n",
      "Run n° 31: year 2014 step completed.\n",
      "Run n° 31: year 2015 step completed.\n",
      "Run n° 31: year 2016 step completed.\n",
      "Run n° 31: year 2017 step completed.\n",
      "Run n° 31: year 2018 step completed.\n",
      "Run n° 31: year 2019 step completed.\n",
      "Run n° 31: year 2020 step completed.\n",
      "Run n° 32: year 2009 step completed.\n",
      "Run n° 32: year 2010 step completed.\n",
      "Run n° 32: year 2011 step completed.\n",
      "Run n° 32: year 2012 step completed.\n",
      "Run n° 32: year 2013 step completed.\n",
      "Run n° 32: year 2014 step completed.\n",
      "Run n° 32: year 2015 step completed.\n",
      "Run n° 32: year 2016 step completed.\n",
      "Run n° 32: year 2017 step completed.\n",
      "Run n° 32: year 2018 step completed.\n",
      "Run n° 32: year 2019 step completed.\n",
      "Run n° 32: year 2020 step completed.\n",
      "Run n° 33: year 2009 step completed.\n",
      "Run n° 33: year 2010 step completed.\n",
      "Run n° 33: year 2011 step completed.\n",
      "Run n° 33: year 2012 step completed.\n",
      "Run n° 33: year 2013 step completed.\n",
      "Run n° 33: year 2014 step completed.\n",
      "Run n° 33: year 2015 step completed.\n",
      "Run n° 33: year 2016 step completed.\n",
      "Run n° 33: year 2017 step completed.\n",
      "Run n° 33: year 2018 step completed.\n",
      "Run n° 33: year 2019 step completed.\n",
      "Run n° 33: year 2020 step completed.\n",
      "Run n° 34: year 2009 step completed.\n",
      "Run n° 34: year 2010 step completed.\n",
      "Run n° 34: year 2011 step completed.\n",
      "Run n° 34: year 2012 step completed.\n",
      "Run n° 34: year 2013 step completed.\n",
      "Run n° 34: year 2014 step completed.\n",
      "Run n° 34: year 2015 step completed.\n",
      "Run n° 34: year 2016 step completed.\n",
      "Run n° 34: year 2017 step completed.\n",
      "Run n° 34: year 2018 step completed.\n",
      "Run n° 34: year 2019 step completed.\n",
      "Run n° 34: year 2020 step completed.\n",
      "Run n° 35: year 2009 step completed.\n",
      "Run n° 35: year 2010 step completed.\n",
      "Run n° 35: year 2011 step completed.\n",
      "Run n° 35: year 2012 step completed.\n",
      "Run n° 35: year 2013 step completed.\n",
      "Run n° 35: year 2014 step completed.\n",
      "Run n° 35: year 2015 step completed.\n",
      "Run n° 35: year 2016 step completed.\n",
      "Run n° 35: year 2017 step completed.\n",
      "Run n° 35: year 2018 step completed.\n",
      "Run n° 35: year 2019 step completed.\n",
      "Run n° 35: year 2020 step completed.\n",
      "Run n° 36: year 2009 step completed.\n",
      "Run n° 36: year 2010 step completed.\n",
      "Run n° 36: year 2011 step completed.\n",
      "Run n° 36: year 2012 step completed.\n",
      "Run n° 36: year 2013 step completed.\n",
      "Run n° 36: year 2014 step completed.\n",
      "Run n° 36: year 2015 step completed.\n",
      "Run n° 36: year 2016 step completed.\n",
      "Run n° 36: year 2017 step completed.\n",
      "Run n° 36: year 2018 step completed.\n",
      "Run n° 36: year 2019 step completed.\n",
      "Run n° 36: year 2020 step completed.\n",
      "Run n° 37: year 2009 step completed.\n",
      "Run n° 37: year 2010 step completed.\n",
      "Run n° 37: year 2011 step completed.\n",
      "Run n° 37: year 2012 step completed.\n",
      "Run n° 37: year 2013 step completed.\n",
      "Run n° 37: year 2014 step completed.\n",
      "Run n° 37: year 2015 step completed.\n",
      "Run n° 37: year 2016 step completed.\n",
      "Run n° 37: year 2017 step completed.\n",
      "Run n° 37: year 2018 step completed.\n",
      "Run n° 37: year 2019 step completed.\n",
      "Run n° 37: year 2020 step completed.\n",
      "Run n° 38: year 2009 step completed.\n",
      "Run n° 38: year 2010 step completed.\n",
      "Run n° 38: year 2011 step completed.\n"
     ]
    },
    {
     "name": "stdout",
     "output_type": "stream",
     "text": [
      "Run n° 38: year 2012 step completed.\n",
      "Run n° 38: year 2013 step completed.\n",
      "Run n° 38: year 2014 step completed.\n",
      "Run n° 38: year 2015 step completed.\n",
      "Run n° 38: year 2016 step completed.\n",
      "Run n° 38: year 2017 step completed.\n",
      "Run n° 38: year 2018 step completed.\n",
      "Run n° 38: year 2019 step completed.\n",
      "Run n° 38: year 2020 step completed.\n",
      "Run n° 39: year 2009 step completed.\n",
      "Run n° 39: year 2010 step completed.\n",
      "Run n° 39: year 2011 step completed.\n",
      "Run n° 39: year 2012 step completed.\n",
      "Run n° 39: year 2013 step completed.\n",
      "Run n° 39: year 2014 step completed.\n",
      "Run n° 39: year 2015 step completed.\n",
      "Run n° 39: year 2016 step completed.\n",
      "Run n° 39: year 2017 step completed.\n",
      "Run n° 39: year 2018 step completed.\n",
      "Run n° 39: year 2019 step completed.\n",
      "Run n° 39: year 2020 step completed.\n",
      "Run n° 40: year 2009 step completed.\n",
      "Run n° 40: year 2010 step completed.\n",
      "Run n° 40: year 2011 step completed.\n",
      "Run n° 40: year 2012 step completed.\n",
      "Run n° 40: year 2013 step completed.\n",
      "Run n° 40: year 2014 step completed.\n",
      "Run n° 40: year 2015 step completed.\n",
      "Run n° 40: year 2016 step completed.\n",
      "Run n° 40: year 2017 step completed.\n",
      "Run n° 40: year 2018 step completed.\n",
      "Run n° 40: year 2019 step completed.\n",
      "Run n° 40: year 2020 step completed.\n",
      "Run n° 41: year 2009 step completed.\n",
      "Run n° 41: year 2010 step completed.\n",
      "Run n° 41: year 2011 step completed.\n",
      "Run n° 41: year 2012 step completed.\n",
      "Run n° 41: year 2013 step completed.\n",
      "Run n° 41: year 2014 step completed.\n",
      "Run n° 41: year 2015 step completed.\n",
      "Run n° 41: year 2016 step completed.\n",
      "Run n° 41: year 2017 step completed.\n",
      "Run n° 41: year 2018 step completed.\n",
      "Run n° 41: year 2019 step completed.\n",
      "Run n° 41: year 2020 step completed.\n",
      "Run n° 42: year 2009 step completed.\n",
      "Run n° 42: year 2010 step completed.\n",
      "Run n° 42: year 2011 step completed.\n",
      "Run n° 42: year 2012 step completed.\n",
      "Run n° 42: year 2013 step completed.\n",
      "Run n° 42: year 2014 step completed.\n",
      "Run n° 42: year 2015 step completed.\n",
      "Run n° 42: year 2016 step completed.\n",
      "Run n° 42: year 2017 step completed.\n",
      "Run n° 42: year 2018 step completed.\n",
      "Run n° 42: year 2019 step completed.\n",
      "Run n° 42: year 2020 step completed.\n",
      "Run n° 43: year 2009 step completed.\n",
      "Run n° 43: year 2010 step completed.\n",
      "Run n° 43: year 2011 step completed.\n",
      "Run n° 43: year 2012 step completed.\n",
      "Run n° 43: year 2013 step completed.\n",
      "Run n° 43: year 2014 step completed.\n",
      "Run n° 43: year 2015 step completed.\n",
      "Run n° 43: year 2016 step completed.\n",
      "Run n° 43: year 2017 step completed.\n",
      "Run n° 43: year 2018 step completed.\n",
      "Run n° 43: year 2019 step completed.\n",
      "Run n° 43: year 2020 step completed.\n",
      "Run n° 44: year 2009 step completed.\n",
      "Run n° 44: year 2010 step completed.\n",
      "Run n° 44: year 2011 step completed.\n",
      "Run n° 44: year 2012 step completed.\n",
      "Run n° 44: year 2013 step completed.\n",
      "Run n° 44: year 2014 step completed.\n",
      "Run n° 44: year 2015 step completed.\n",
      "Run n° 44: year 2016 step completed.\n",
      "Run n° 44: year 2017 step completed.\n",
      "Run n° 44: year 2018 step completed.\n",
      "Run n° 44: year 2019 step completed.\n",
      "Run n° 44: year 2020 step completed.\n",
      "Run n° 45: year 2009 step completed.\n",
      "Run n° 45: year 2010 step completed.\n",
      "Run n° 45: year 2011 step completed.\n",
      "Run n° 45: year 2012 step completed.\n",
      "Run n° 45: year 2013 step completed.\n",
      "Run n° 45: year 2014 step completed.\n",
      "Run n° 45: year 2015 step completed.\n",
      "Run n° 45: year 2016 step completed.\n",
      "Run n° 45: year 2017 step completed.\n",
      "Run n° 45: year 2018 step completed.\n",
      "Run n° 45: year 2019 step completed.\n",
      "Run n° 45: year 2020 step completed.\n",
      "Run n° 46: year 2009 step completed.\n",
      "Run n° 46: year 2010 step completed.\n",
      "Run n° 46: year 2011 step completed.\n",
      "Run n° 46: year 2012 step completed.\n",
      "Run n° 46: year 2013 step completed.\n",
      "Run n° 46: year 2014 step completed.\n",
      "Run n° 46: year 2015 step completed.\n",
      "Run n° 46: year 2016 step completed.\n",
      "Run n° 46: year 2017 step completed.\n",
      "Run n° 46: year 2018 step completed.\n",
      "Run n° 46: year 2019 step completed.\n",
      "Run n° 46: year 2020 step completed.\n",
      "Run n° 47: year 2009 step completed.\n",
      "Run n° 47: year 2010 step completed.\n",
      "Run n° 47: year 2011 step completed.\n",
      "Run n° 47: year 2012 step completed.\n",
      "Run n° 47: year 2013 step completed.\n",
      "Run n° 47: year 2014 step completed.\n",
      "Run n° 47: year 2015 step completed.\n",
      "Run n° 47: year 2016 step completed.\n",
      "Run n° 47: year 2017 step completed.\n",
      "Run n° 47: year 2018 step completed.\n",
      "Run n° 47: year 2019 step completed.\n",
      "Run n° 47: year 2020 step completed.\n",
      "Run n° 48: year 2009 step completed.\n",
      "Run n° 48: year 2010 step completed.\n",
      "Run n° 48: year 2011 step completed.\n",
      "Run n° 48: year 2012 step completed.\n",
      "Run n° 48: year 2013 step completed.\n",
      "Run n° 48: year 2014 step completed.\n",
      "Run n° 48: year 2015 step completed.\n",
      "Run n° 48: year 2016 step completed.\n",
      "Run n° 48: year 2017 step completed.\n",
      "Run n° 48: year 2018 step completed.\n",
      "Run n° 48: year 2019 step completed.\n",
      "Run n° 48: year 2020 step completed.\n",
      "Run n° 49: year 2009 step completed.\n",
      "Run n° 49: year 2010 step completed.\n",
      "Run n° 49: year 2011 step completed.\n",
      "Run n° 49: year 2012 step completed.\n",
      "Run n° 49: year 2013 step completed.\n",
      "Run n° 49: year 2014 step completed.\n",
      "Run n° 49: year 2015 step completed.\n",
      "Run n° 49: year 2016 step completed.\n",
      "Run n° 49: year 2017 step completed.\n",
      "Run n° 49: year 2018 step completed.\n",
      "Run n° 49: year 2019 step completed.\n",
      "Run n° 49: year 2020 step completed.\n",
      "Run n° 50: year 2009 step completed.\n",
      "Run n° 50: year 2010 step completed.\n",
      "Run n° 50: year 2011 step completed.\n",
      "Run n° 50: year 2012 step completed.\n",
      "Run n° 50: year 2013 step completed.\n",
      "Run n° 50: year 2014 step completed.\n",
      "Run n° 50: year 2015 step completed.\n",
      "Run n° 50: year 2016 step completed.\n",
      "Run n° 50: year 2017 step completed.\n",
      "Run n° 50: year 2018 step completed.\n",
      "Run n° 50: year 2019 step completed.\n",
      "Run n° 50: year 2020 step completed.\n",
      "Wall time: 23min 17s\n"
     ]
    }
   ],
   "source": [
    "%%time\n",
    "\n",
    "sbp_payments_path = \"./data/sbp_payments_all0.xlsx\"\n",
    "\n",
    "for i in range(n_runs):\n",
    "    model_nop = SBPAdoption(initial_year=start_year_nop, seed=i, sbp_payments_path=sbp_payments_path)\n",
    "    for y in range(start_year_nop, stop_year_nop):\n",
    "        model_nop.step()\n",
    "        print(\"Run n° \" + str(i+1) + \": year \" + str(y) + \" step completed.\")\n",
    "    collect_data_run(model_nop, i, yearly_adoption_portugal_pred_nop)"
   ]
  },
  {
   "cell_type": "markdown",
   "metadata": {},
   "source": [
    "## Save and load model output"
   ]
  },
  {
   "cell_type": "code",
   "execution_count": 19,
   "metadata": {
    "scrolled": true
   },
   "outputs": [],
   "source": [
    "#os.mkdir(\"pcf_project_assessment/output\")\n",
    "yearly_adoption_portugal_pred.to_csv(\"pcf_project_assessment/output/estimation_with_paym_2013_2020\")\n",
    "yearly_adoption_portugal_pred_nop.to_csv(\"pcf_project_assessment/output/estimation_no_paym_2009_2020\")"
   ]
  },
  {
   "cell_type": "code",
   "execution_count": 20,
   "metadata": {},
   "outputs": [],
   "source": [
    "yearly_adoption_portugal_pred = pd.read_csv(\"pcf_project_assessment/output/estimation_with_paym_2013_2020\", index_col='Year')\n",
    "yearly_adoption_portugal_pred_nop = pd.read_csv(\"pcf_project_assessment/output/estimation_no_paym_2009_2020\", index_col='Year')"
   ]
  },
  {
   "cell_type": "markdown",
   "metadata": {},
   "source": [
    "## Logistic extrapolation"
   ]
  },
  {
   "cell_type": "markdown",
   "metadata": {},
   "source": [
    "### Old extrapolation"
   ]
  },
  {
   "cell_type": "raw",
   "metadata": {},
   "source": [
    "r = 0.429\n",
    "K = 109535\n",
    "P0 = 2443"
   ]
  },
  {
   "cell_type": "raw",
   "metadata": {},
   "source": [
    "# Cumulative extrapolation\n",
    "years = np.arange(1996, 2021)\n",
    "log_extr = pd.Series(0, years)\n",
    "for y in years:\n",
    "    log_extr.loc[y] = K * P0 / ((K - P0) * np.exp(-r*(y - 1996)) + P0)"
   ]
  },
  {
   "cell_type": "raw",
   "metadata": {},
   "source": [
    "# Yearly extrapolation\n",
    "years = np.arange(1996, 2021)\n",
    "log_extr_d = pd.Series(0, years)\n",
    "for y in years:\n",
    "    log_extr_d.loc[y] = r * log_extr.loc[y] * (1 - log_extr.loc[y] / K)"
   ]
  },
  {
   "cell_type": "markdown",
   "metadata": {},
   "source": [
    "### New version excluding adoption in Madeira and Azores"
   ]
  },
  {
   "cell_type": "code",
   "execution_count": 75,
   "metadata": {},
   "outputs": [],
   "source": [
    "from scipy.optimize import curve_fit"
   ]
  },
  {
   "cell_type": "code",
   "execution_count": 76,
   "metadata": {},
   "outputs": [],
   "source": [
    "def logistic_function(y, r, K, P0):\n",
    "    \"\"\"\n",
    "    r in 1/yr, K and P0 in ha\n",
    "    \"\"\"\n",
    "    return(K * P0 / ((K - P0) * np.exp(-r*(y - 1996)) + P0))"
   ]
  },
  {
   "cell_type": "code",
   "execution_count": 77,
   "metadata": {},
   "outputs": [],
   "source": [
    "years_for_fit = np.arange(1996, 2009)\n",
    "cumul_adoption_portugal_real = yearly_adoption_portugal_real.cumsum()\n",
    "adoption = cumul_adoption_portugal_real.loc[cumul_adoption_portugal_real.index<2009]['Yearly adoption'].values\n",
    "logistic_params, covariance = curve_fit(logistic_function, years_for_fit, adoption)"
   ]
  },
  {
   "cell_type": "code",
   "execution_count": 78,
   "metadata": {},
   "outputs": [
    {
     "data": {
      "text/plain": [
       "array([0.437840, 96234.176989, 3007.763809])"
      ]
     },
     "execution_count": 78,
     "metadata": {},
     "output_type": "execute_result"
    }
   ],
   "source": [
    "logistic_params"
   ]
  },
  {
   "cell_type": "code",
   "execution_count": 79,
   "metadata": {},
   "outputs": [
    {
     "name": "stdout",
     "output_type": "stream",
     "text": [
      "[0.437840 96234.176989 3007.763809]\n"
     ]
    }
   ],
   "source": [
    "r = logistic_params[0]\n",
    "K = logistic_params[1]\n",
    "P0 = logistic_params[2]\n",
    "print(logistic_params)"
   ]
  },
  {
   "cell_type": "code",
   "execution_count": 80,
   "metadata": {},
   "outputs": [],
   "source": [
    "# Cumulative extrapolation\n",
    "years_to_fit_over = np.arange(1996, 2021)\n",
    "log_extr = pd.Series(0, years)\n",
    "for y in years_to_fit_over:\n",
    "    log_extr.loc[y] = logistic_function(y,  r, K, P0)"
   ]
  },
  {
   "cell_type": "code",
   "execution_count": 81,
   "metadata": {},
   "outputs": [],
   "source": [
    "# Yearly extrapolation\n",
    "log_extr_d = pd.Series(0, years_to_fit_over)\n",
    "for y in years_to_fit_over:\n",
    "    log_extr_d.loc[y] = r * log_extr.loc[y] * (1 - log_extr.loc[y] / K)"
   ]
  },
  {
   "cell_type": "code",
   "execution_count": 82,
   "metadata": {},
   "outputs": [
    {
     "data": {
      "text/plain": [
       "[<matplotlib.lines.Line2D at 0x251ba8d8fd0>]"
      ]
     },
     "execution_count": 82,
     "metadata": {},
     "output_type": "execute_result"
    },
    {
     "data": {
      "image/png": "[encoded data removed]",
      "text/plain": [
       "<Figure size 432x288 with 1 Axes>"
      ]
     },
     "metadata": {
      "needs_background": "light"
     },
     "output_type": "display_data"
    }
   ],
   "source": [
    "plt.plot(years_for_fit, adoption)\n",
    "plt.plot(years_for_fit, log_extr.loc[1996:2008])"
   ]
  },
  {
   "cell_type": "code",
   "execution_count": 83,
   "metadata": {},
   "outputs": [
    {
     "data": {
      "text/plain": [
       "[<matplotlib.lines.Line2D at 0x251bb9dbc10>]"
      ]
     },
     "execution_count": 83,
     "metadata": {},
     "output_type": "execute_result"
    },
    {
     "data": {
      "image/png": "[encoded data removed]",
      "text/plain": [
       "<Figure size 432x288 with 1 Axes>"
      ]
     },
     "metadata": {
      "needs_background": "light"
     },
     "output_type": "display_data"
    }
   ],
   "source": [
    "plt.plot(years_to_fit_over, log_extr_d)\n",
    "plt.plot([y for y  in range(1996, 2013)], yearly_adoption_portugal_real)"
   ]
  },
  {
   "cell_type": "markdown",
   "metadata": {},
   "source": [
    "# Calculation of additional sequestered carbon"
   ]
  },
  {
   "cell_type": "code",
   "execution_count": 84,
   "metadata": {},
   "outputs": [],
   "source": [
    "yearly_adoption_portugal_pred_av = yearly_adoption_portugal_pred.mean(axis=1)\n",
    "yearly_adoption_portugal_pred_nop_av = yearly_adoption_portugal_pred_nop.mean(axis=1)"
   ]
  },
  {
   "cell_type": "code",
   "execution_count": 85,
   "metadata": {},
   "outputs": [
    {
     "name": "stdout",
     "output_type": "stream",
     "text": [
      "64.78\n"
     ]
    }
   ],
   "source": [
    "# Calculate total carbon sequestration factor for 10 years\n",
    "carb_seq_factors = [14.7, 11.54, 9.15, 7.30, 5.86, 4.72, 3.82, 3.10, 2.53, 2.06]\n",
    "carb_seq_fact_10y = sum(carb_seq_factors)\n",
    "print(carb_seq_fact_10y)"
   ]
  },
  {
   "cell_type": "markdown",
   "metadata": {},
   "source": [
    "## 2009 - 2012 (Observed adoption vs. Counterfactual estimation)"
   ]
  },
  {
   "cell_type": "code",
   "execution_count": 86,
   "metadata": {},
   "outputs": [],
   "source": [
    "id_obs = yearly_adoption_portugal_real.index\n",
    "id_pred_nop = yearly_adoption_portugal_pred_nop_av.index"
   ]
  },
  {
   "cell_type": "code",
   "execution_count": 87,
   "metadata": {},
   "outputs": [],
   "source": [
    "area_obs_09_12 = yearly_adoption_portugal_real.loc[id_obs >= 2009].sum()['Yearly adoption']\n",
    "area_pred_nop_09_12 = yearly_adoption_portugal_pred_nop_av.loc[id_pred_nop < 2013].sum()\n",
    "diff_area_09_12 = area_obs_09_12 - area_pred_nop_09_12\n",
    "\n",
    "carb_seq_09_12_10y = diff_area_09_12 * carb_seq_fact_10y"
   ]
  },
  {
   "cell_type": "code",
   "execution_count": 88,
   "metadata": {},
   "outputs": [
    {
     "name": "stdout",
     "output_type": "stream",
     "text": [
      "Additional SBP area installed during the PCF project (2009-2012):  34720.57841788065 ha\n",
      "Additional carbon sequestered during the PCF project (2009-2012):  2.249199069910308 Mt CO2\n"
     ]
    }
   ],
   "source": [
    "print(\"Additional SBP area installed during the PCF project (2009-2012): \", str(diff_area_09_12), \"ha\")\n",
    "print(\"Additional carbon sequestered during the PCF project (2009-2012): \", str(carb_seq_09_12_10y/1e6), \"Mt CO2\")"
   ]
  },
  {
   "cell_type": "markdown",
   "metadata": {},
   "source": [
    "## 2013 - 2020 (Estimated adoption vs. counterfactual estimation)"
   ]
  },
  {
   "cell_type": "code",
   "execution_count": 89,
   "metadata": {},
   "outputs": [],
   "source": [
    "id_pred = yearly_adoption_portugal_pred.index"
   ]
  },
  {
   "cell_type": "code",
   "execution_count": 90,
   "metadata": {},
   "outputs": [],
   "source": [
    "area_pred_13_20 = yearly_adoption_portugal_pred_av.sum()\n",
    "area_pred_nop_13_20 = yearly_adoption_portugal_pred_nop_av[id_pred_nop >= 2013].sum()\n",
    "diff_area_13_20 = area_pred_13_20 - area_pred_nop_13_20\n",
    "\n",
    "carb_seq_09_12_10y = diff_area_09_12 * carb_seq_fact_10y"
   ]
  },
  {
   "cell_type": "code",
   "execution_count": 91,
   "metadata": {},
   "outputs": [
    {
     "name": "stdout",
     "output_type": "stream",
     "text": [
      "Additional SBP area installed during the PCF project (2013-2020):  -10930.27035809355 ha\n",
      "Additional carbon sequestered after the PCF project (2013-2020):  -0.7080629137973002 Mt CO2\n"
     ]
    }
   ],
   "source": [
    "carb_seq_13_20_10y = diff_area_13_20 * carb_seq_fact_10y\n",
    "print(\"Additional SBP area installed during the PCF project (2013-2020): \", str(diff_area_13_20), \"ha\")\n",
    "print(\"Additional carbon sequestered after the PCF project (2013-2020): \", str(carb_seq_13_20_10y/1e6), \"Mt CO2\")"
   ]
  },
  {
   "cell_type": "markdown",
   "metadata": {},
   "source": [
    "## 2009 - 2020 (Total)"
   ]
  },
  {
   "cell_type": "code",
   "execution_count": 92,
   "metadata": {},
   "outputs": [
    {
     "name": "stdout",
     "output_type": "stream",
     "text": [
      "Additional SBP area installed thanks to the PCF project (2009-2020):  23790.3080597871 ha\n",
      "Additional carbon sequestered thanks to the PCF project (2009-2020):  1.5411361561130086 Mt CO2\n"
     ]
    }
   ],
   "source": [
    "diff_area_tot = diff_area_09_12 + diff_area_13_20\n",
    "carb_seq_tot = diff_area_tot * carb_seq_fact_10y\n",
    "print(\"Additional SBP area installed thanks to the PCF project (2009-2020): \", str(diff_area_tot), \"ha\")\n",
    "print(\"Additional carbon sequestered thanks to the PCF project (2009-2020): \", str(carb_seq_tot/1e6), \"Mt CO2\")"
   ]
  },
  {
   "cell_type": "markdown",
   "metadata": {},
   "source": [
    "# Comparison with previous logistic extrapolation"
   ]
  },
  {
   "cell_type": "code",
   "execution_count": 93,
   "metadata": {},
   "outputs": [],
   "source": [
    "id_log = log_extr_d.index\n",
    "area_log_09_12 = log_extr_d.loc[(id_log >= 2009) & (id_log <= 2012)].sum()\n",
    "diff_area_09_12_extr = area_pred_nop_09_12 - area_log_09_12"
   ]
  },
  {
   "cell_type": "code",
   "execution_count": 94,
   "metadata": {},
   "outputs": [
    {
     "name": "stdout",
     "output_type": "stream",
     "text": [
      "Difference of additional SBP area installed during the PCF project estimated by the two extrapolations:  8147.257928977109 ha\n"
     ]
    }
   ],
   "source": [
    "print(\"Difference of additional SBP area installed during the PCF project estimated by the two extrapolations: \",\n",
    "      str(diff_area_09_12_extr), \"ha\")"
   ]
  },
  {
   "cell_type": "code",
   "execution_count": 95,
   "metadata": {},
   "outputs": [
    {
     "name": "stdout",
     "output_type": "stream",
     "text": [
      "Difference of additional SBP area installed during the PCF project estimated by the two extrapolations, in %:  19.005526341602515 %\n"
     ]
    }
   ],
   "source": [
    "# In percentage over previous estimation of additional area\n",
    "perc_diff = (diff_area_09_12_extr / (area_obs_09_12 - area_log_09_12) * 100)\n",
    "print(\"Difference of additional SBP area installed during the PCF project estimated by the two extrapolations, in %: \",\n",
    "      str(perc_diff), \"%\")"
   ]
  },
  {
   "cell_type": "markdown",
   "metadata": {},
   "source": [
    "# Plot of runs and average value over real adoption"
   ]
  },
  {
   "cell_type": "code",
   "execution_count": 96,
   "metadata": {},
   "outputs": [],
   "source": [
    "def plot_differential_adoption_all(predicted_adoption, predicted_adoption_no_p, real_adoption, log_extr_adoption,\n",
    "                                   max_y, fig_title):\n",
    "    # Base figure\n",
    "    fig_pr, ax_pr = plt.subplots()\n",
    "    fig_pr.set_size_inches(fig_x, fig_y)\n",
    "    ts = 16\n",
    "    plt.xticks(fontsize=ts) \n",
    "    plt.yticks(fontsize=ts)\n",
    "    ls = 20\n",
    "    ax_pr.set_xlabel(\"Years\", fontsize=ls)\n",
    "    ax_pr.set_ylabel(\"Area installed [ha]\", fontsize=ls)\n",
    "    #ax_pr.set_title(fig_title, fontsize=18)\n",
    "    ax_pr.set_xlim(predicted_adoption.index[0], predicted_adoption.index[-1])\n",
    "    xticks = [year for year in np.arange(1996, 2021) if year%4 == 0]\n",
    "    ax_pr.set_xticks(xticks)\n",
    "    yticks = np.arange(0, 21000, 5000)\n",
    "    ax_pr.set_yticks(yticks)\n",
    "    ax_pr.set_ylim(0, max_y)\n",
    "    ax_pr.grid(True)\n",
    "\n",
    "    # Plot adoptions\n",
    "    pred_adoption_av = predicted_adoption.mean(axis=1)\n",
    "    pred_adoption_no_p_av = predicted_adoption_no_p.mean(axis=1)\n",
    "    pred_vals = pred_adoption_av.values\n",
    "    pred_nop_vals = pred_adoption_no_p_av.values\n",
    "    \n",
    "    lw = 1\n",
    "    ms = 14\n",
    "\n",
    "    ax_pr.plot(real_adoption.index, real_adoption.values, 'r--', linewidth=lw, marker='.', markersize=ms,\n",
    "               label='Observed')\n",
    "    ax_pr.plot(pred_adoption_av.index, pred_vals, 'c--', linewidth=lw, marker='.', markersize=ms,\n",
    "               label='Estimated')\n",
    "    point1 = [real_adoption]\n",
    "    ax_pr.plot([2012, 2013], [real_adoption.loc[2012], pred_adoption_av.loc[2013]], 'c--', linewidth=lw)\n",
    "    ax_pr.plot(pred_adoption_no_p_av.index, pred_nop_vals, 'b--', linewidth=lw, marker='.', markersize=ms,\n",
    "               label='Estimated without payments')\n",
    "    ax_pr.plot([2008, 2009], [real_adoption.loc[2008], pred_adoption_no_p_av.loc[2009]], 'b--', linewidth=lw)\n",
    "\n",
    "    log_extr_from_2009 = log_extr_adoption.loc[log_extr_adoption.index > 2008]\n",
    "    ax_pr.plot(log_extr_from_2009.index, log_extr_from_2009.values, 'g--', linewidth=lw, marker='.', markersize=ms,\n",
    "               label='Logistic extrapolation')\n",
    "    #ax_pr.plot([2008, 2009], [real_adoption.loc[2008], log_extr_from_2009.loc[2009]], 'g--', linewidth=lw)\n",
    "    ax_pr.legend(loc='upper left', fontsize=15)\n",
    "    ax_pr.spines['top'].set_visible(False)\n",
    "    ax_pr.spines['right'].set_visible(False)\n",
    "    ax_pr.spines['left'].set_visible(False)\n",
    "\n",
    "    x = [year for year in np.arange(2008, 2021)]\n",
    "    y1 = pd.concat([real_adoption.loc[real_adoption.index >= 2008]['Yearly adoption'], pred_adoption_av])\n",
    "    y2 = np.insert(pred_nop_vals, 0, real_adoption.loc[2008, 'Yearly adoption'])\n",
    "    ax_pr.fill_between(x, y1, y2, where=(y2 >= y1), facecolor='red', alpha=0.5, interpolate=True)\n",
    "    ax_pr.fill_between(x, y1, y2, where=(y2 <= y1), facecolor='green', alpha=0.5, interpolate=True)\n",
    "    \n",
    "    #x = [year for year in np.arange(2008, 2013)]\n",
    "    #log_extr_from_2009[2008] = real_adoption.loc[2008, 'Yearly adoption']\n",
    "    #log_extr_from_2009.sort_index(inplace=True)\n",
    "    #y1 = log_extr_from_2009.loc[(log_extr_from_2009.index >= 2008) & (log_extr_from_2009.index <= 2012)]\n",
    "    #y2 = np.insert(pred_nop_vals, 0, real_adoption.loc[2008, 'Yearly adoption'])[:5]\n",
    "    #ax_pr.fill_between(x, y1, y2, where=(y2 >= y1), facecolor='blue', alpha=0.5, interpolate=True)\n",
    "    \n",
    "    save_fig((fig_title)) "
   ]
  },
  {
   "cell_type": "code",
   "execution_count": 98,
   "metadata": {
    "scrolled": false
   },
   "outputs": [
    {
     "name": "stderr",
     "output_type": "stream",
     "text": [
      "C:\\Users\\giaco\\anaconda3\\envs\\mesa_geo_ml\\lib\\site-packages\\numpy\\core\\_asarray.py:136: VisibleDeprecationWarning: Creating an ndarray from ragged nested sequences (which is a list-or-tuple of lists-or-tuples-or ndarrays with different lengths or shapes) is deprecated. If you meant to do this, you must specify 'dtype=object' when creating the ndarray\n",
      "  return array(a, dtype, copy=False, order=order, subok=True)\n",
      "C:\\Users\\giaco\\anaconda3\\envs\\mesa_geo_ml\\lib\\site-packages\\numpy\\core\\_asarray.py:136: VisibleDeprecationWarning: Creating an ndarray from ragged nested sequences (which is a list-or-tuple of lists-or-tuples-or ndarrays with different lengths or shapes) is deprecated. If you meant to do this, you must specify 'dtype=object' when creating the ndarray\n",
      "  return array(a, dtype, copy=False, order=order, subok=True)\n"
     ]
    },
    {
     "name": "stdout",
     "output_type": "stream",
     "text": [
      "Saving figure PCF assessment_all\n"
     ]
    },
    {
     "data": {
      "image/png": "[encoded data removed]",
      "text/plain": [
       "<Figure size 576x360 with 1 Axes>"
      ]
     },
     "metadata": {
      "needs_background": "light"
     },
     "output_type": "display_data"
    }
   ],
   "source": [
    "title = \"PCF assessment_all\"\n",
    "plot_differential_adoption_all(yearly_adoption_portugal_pred, yearly_adoption_portugal_pred_nop,\n",
    "                                yearly_adoption_portugal_real, log_extr_d, 20000, title)"
   ]
  }
 ],
 "metadata": {
  "kernelspec": {
   "display_name": "mesa_geo_ml",
   "language": "python",
   "name": "mesa_geo_ml"
  },
  "language_info": {
   "codemirror_mode": {
    "name": "ipython",
    "version": 3
   },
   "file_extension": ".py",
   "mimetype": "text/x-python",
   "name": "python",
   "nbconvert_exporter": "python",
   "pygments_lexer": "ipython3",
   "version": "3.8.5"
  }
 },
 "nbformat": 4,
 "nbformat_minor": 4
}
