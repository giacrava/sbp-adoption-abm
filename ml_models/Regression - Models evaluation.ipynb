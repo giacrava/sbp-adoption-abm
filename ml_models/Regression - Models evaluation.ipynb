{
 "cells": [
  {
   "cell_type": "markdown",
   "metadata": {},
   "source": [
    "## Content\n",
    "* Data ingestion\n",
    "    * Remove outliers\n",
    "    * Remove adoption features not in ABM\n",
    "    * Data splitting for CV\n",
    "* Features preparation\n",
    "    * Pipeline preparation\n",
    "    * Features names collection\n",
    "* Model selection\n",
    "    * Functions for models results\n",
    "    * Functions for models' error analyis\n",
    "    * Models training\n",
    "    * Results\n",
    "* Final models tuning and training"
   ]
  },
  {
   "cell_type": "code",
   "execution_count": 38,
   "metadata": {},
   "outputs": [],
   "source": [
    "import numpy as np\n",
    "import pandas as pd\n",
    "import math\n",
    "import joblib\n",
    "import os"
   ]
  },
  {
   "cell_type": "code",
   "execution_count": 39,
   "metadata": {},
   "outputs": [
    {
     "data": {
      "text/plain": [
       "<module 'custom_transformers' from 'C:\\\\Users\\\\giaco\\\\pcf-project\\\\ml_models\\\\custom_transformers.py'>"
      ]
     },
     "execution_count": 39,
     "metadata": {},
     "output_type": "execute_result"
    }
   ],
   "source": [
    "import custom_transformers\n",
    "from importlib import reload\n",
    "reload(custom_transformers)"
   ]
  },
  {
   "cell_type": "code",
   "execution_count": 40,
   "metadata": {},
   "outputs": [],
   "source": [
    "from custom_transformers import (\n",
    "    TransformAdoptionFeatures,\n",
    "    TransformCensusFeatures, \n",
    "    TransformClimateFeatures,\n",
    "    TransformSoilFeatures,\n",
    "    TransformEconomicFeatures,\n",
    ")"
   ]
  },
  {
   "cell_type": "code",
   "execution_count": 41,
   "metadata": {},
   "outputs": [],
   "source": [
    "# For plotting\n",
    "%matplotlib inline\n",
    "import matplotlib as mpl\n",
    "import matplotlib.pyplot as plt\n",
    "mpl.rc('axes', labelsize=14)\n",
    "mpl.rc('xtick', labelsize=12)\n",
    "mpl.rc('ytick', labelsize=12)"
   ]
  },
  {
   "cell_type": "code",
   "execution_count": 42,
   "metadata": {},
   "outputs": [],
   "source": [
    "# Where to save the figures\n",
    "PROJECT_ROOT_DIR = \".\"\n",
    "IMAGES_PATH = os.path.join(PROJECT_ROOT_DIR, \"images\")\n",
    "os.makedirs(IMAGES_PATH, exist_ok=True)\n",
    "\n",
    "def save_fig(fig_id, tight_layout=True, fig_extension=\"jpeg\", resolution=300):\n",
    "    path = os.path.join(IMAGES_PATH, fig_id + \".\" + fig_extension)\n",
    "    print(\"Saving figure\", fig_id)\n",
    "    if tight_layout:\n",
    "        plt.tight_layout()\n",
    "    plt.savefig(path, format=fig_extension, dpi=resolution)"
   ]
  },
  {
   "cell_type": "code",
   "execution_count": 43,
   "metadata": {},
   "outputs": [],
   "source": [
    " # How to display floats\n",
    "pd.options.display.float_format = '{:.6f}'.format\n",
    "np.set_printoptions(precision=10)"
   ]
  },
  {
   "cell_type": "markdown",
   "metadata": {},
   "source": [
    "# Data ingestion"
   ]
  },
  {
   "cell_type": "code",
   "execution_count": 44,
   "metadata": {},
   "outputs": [],
   "source": [
    "path_to_dataset = \"Municipalities final dataset for analysis.csv\""
   ]
  },
  {
   "cell_type": "code",
   "execution_count": 45,
   "metadata": {},
   "outputs": [],
   "source": [
    "dataset_original = pd.read_csv(path_to_dataset, index_col=['Municipality', 'Year'])"
   ]
  },
  {
   "cell_type": "code",
   "execution_count": 46,
   "metadata": {},
   "outputs": [
    {
     "data": {
      "text/plain": [
       "2466"
      ]
     },
     "execution_count": 46,
     "metadata": {},
     "output_type": "execute_result"
    }
   ],
   "source": [
    "# Remove features with 0 adoption to obtain the regression dataset\n",
    "mask_no_adoption = dataset_original['adoption_in_year'] < 0.0000001\n",
    "dataset_original = dataset_original.drop(dataset_original.loc[mask_no_adoption].index)\n",
    "len(dataset_original)"
   ]
  },
  {
   "cell_type": "code",
   "execution_count": 47,
   "metadata": {},
   "outputs": [
    {
     "name": "stdout",
     "output_type": "stream",
     "text": [
      "MultiIndex([(    'Vagos', 2007),\n",
      "            (    'Vagos', 2008),\n",
      "            (    'Tomar', 2005),\n",
      "            ('Alcochete', 2010),\n",
      "            ('Alcochete', 2011),\n",
      "            ('Alcochete', 2012)],\n",
      "           names=['Municipality', 'Year'])\n"
     ]
    }
   ],
   "source": [
    "# Remove outliers adoption_in_year\n",
    "outliers = dataset_original.loc[dataset_original['adoption_in_year'] > 0.12].index\n",
    "dataset_original = dataset_original.drop(outliers)\n",
    "print(outliers)"
   ]
  },
  {
   "cell_type": "code",
   "execution_count": 48,
   "metadata": {},
   "outputs": [
    {
     "name": "stdout",
     "output_type": "stream",
     "text": [
      "MultiIndex([('Tomar', 2003),\n",
      "            ('Tomar', 2004),\n",
      "            ('Tomar', 2006),\n",
      "            ('Tomar', 2007),\n",
      "            ('Tomar', 2008)],\n",
      "           names=['Municipality', 'Year'])\n"
     ]
    }
   ],
   "source": [
    "# Remove outliers cumul_adoption_10_y_pr_y_munic\n",
    "outliers = dataset_original.loc[dataset_original['tot_cumul_adoption_pr_y_munic'] > 0.4].index\n",
    "dataset_original = dataset_original.drop(outliers)\n",
    "print(outliers)"
   ]
  },
  {
   "cell_type": "code",
   "execution_count": 49,
   "metadata": {},
   "outputs": [
    {
     "data": {
      "text/plain": [
       "(2455, 45)"
      ]
     },
     "execution_count": 49,
     "metadata": {},
     "output_type": "execute_result"
    }
   ],
   "source": [
    "dataset_original.shape"
   ]
  },
  {
   "cell_type": "code",
   "execution_count": 50,
   "metadata": {},
   "outputs": [],
   "source": [
    "dataset = dataset_original.reset_index(drop=True)"
   ]
  },
  {
   "cell_type": "markdown",
   "metadata": {},
   "source": [
    "### Create a mapping of each new instance to municipality and year it's referring to"
   ]
  },
  {
   "cell_type": "code",
   "execution_count": 51,
   "metadata": {},
   "outputs": [],
   "source": [
    "map_instances_to_munic_year = dict(zip(dataset.index, dataset_original.index))"
   ]
  },
  {
   "cell_type": "markdown",
   "metadata": {},
   "source": [
    "## Final number of instances and features"
   ]
  },
  {
   "cell_type": "code",
   "execution_count": 52,
   "metadata": {
    "scrolled": true
   },
   "outputs": [
    {
     "data": {
      "text/plain": [
       "(2455, 45)"
      ]
     },
     "execution_count": 52,
     "metadata": {},
     "output_type": "execute_result"
    }
   ],
   "source": [
    "dataset.shape"
   ]
  },
  {
   "cell_type": "markdown",
   "metadata": {},
   "source": [
    "## Copy the data splitting label and features"
   ]
  },
  {
   "cell_type": "code",
   "execution_count": 53,
   "metadata": {},
   "outputs": [],
   "source": [
    "dataset_labels = dataset['adoption_in_year'].copy()\n",
    "dataset = dataset.drop('adoption_in_year', axis=1)"
   ]
  },
  {
   "cell_type": "code",
   "execution_count": 54,
   "metadata": {},
   "outputs": [
    {
     "data": {
      "text/plain": [
       "count   2455.000000\n",
       "mean       0.004670\n",
       "std        0.008587\n",
       "min        0.000009\n",
       "25%        0.000862\n",
       "50%        0.002012\n",
       "75%        0.004817\n",
       "max        0.100604\n",
       "Name: adoption_in_year, dtype: float64"
      ]
     },
     "execution_count": 54,
     "metadata": {},
     "output_type": "execute_result"
    }
   ],
   "source": [
    "dataset_labels.describe()"
   ]
  },
  {
   "cell_type": "markdown",
   "metadata": {},
   "source": [
    "## Split for cross-validation"
   ]
  },
  {
   "cell_type": "markdown",
   "metadata": {},
   "source": [
    "Split used in all the cross-validation, stratified based on the number of data points before the PCF project and during it"
   ]
  },
  {
   "cell_type": "code",
   "execution_count": 55,
   "metadata": {},
   "outputs": [],
   "source": [
    "from sklearn.model_selection import StratifiedKFold, PredefinedSplit"
   ]
  },
  {
   "cell_type": "markdown",
   "metadata": {},
   "source": [
    "First, generate the feature to split, the year of the instance"
   ]
  },
  {
   "cell_type": "code",
   "execution_count": 56,
   "metadata": {},
   "outputs": [],
   "source": [
    "dataset_split = dataset_original.copy()"
   ]
  },
  {
   "cell_type": "code",
   "execution_count": 57,
   "metadata": {},
   "outputs": [],
   "source": [
    "years = dataset_split.index.get_level_values(1).to_list()\n",
    "dataset_split['Year'] = years"
   ]
  },
  {
   "cell_type": "markdown",
   "metadata": {},
   "source": [
    "Second, get for each instance the test fold it has to belong to based on the split based on the created category"
   ]
  },
  {
   "cell_type": "code",
   "execution_count": 58,
   "metadata": {},
   "outputs": [],
   "source": [
    "n_folds = 3\n",
    "strat_split = StratifiedKFold(n_splits=n_folds, shuffle=True)"
   ]
  },
  {
   "cell_type": "code",
   "execution_count": 59,
   "metadata": {},
   "outputs": [],
   "source": [
    "test_indexes = np.zeros(len(dataset_split))\n",
    "fold = 0\n",
    "for _, test_index in strat_split.split(dataset_split, dataset_split['Year']):\n",
    "    for i in test_index:\n",
    "        test_indexes[i] = fold\n",
    "    fold += 1"
   ]
  },
  {
   "cell_type": "markdown",
   "metadata": {},
   "source": [
    "Third, pass to the list of test folds indexes to generate the PredefinedSplit"
   ]
  },
  {
   "cell_type": "code",
   "execution_count": 60,
   "metadata": {},
   "outputs": [],
   "source": [
    "cv_split = PredefinedSplit(test_indexes)"
   ]
  },
  {
   "cell_type": "code",
   "execution_count": 61,
   "metadata": {},
   "outputs": [
    {
     "name": "stdout",
     "output_type": "stream",
     "text": [
      "0.07454175152749491 0.0745721271393643\n"
     ]
    }
   ],
   "source": [
    "# Check ratio is kept\n",
    "ratio_PCF_dataset = len(dataset_split.loc[(slice(None), [2007]), :]) / len(dataset_split)\n",
    "test_set = dataset_split.iloc[np.where(test_indexes==1)]\n",
    "ratio_PCF_test_set = len(test_set.loc[(slice(None), [2007]), :]) / len(test_set)\n",
    "print(ratio_PCF_dataset, ratio_PCF_test_set)"
   ]
  },
  {
   "cell_type": "markdown",
   "metadata": {},
   "source": [
    "# Features preparation"
   ]
  },
  {
   "cell_type": "markdown",
   "metadata": {},
   "source": [
    "## Features names collection"
   ]
  },
  {
   "cell_type": "markdown",
   "metadata": {},
   "source": [
    "### Pre-transformation"
   ]
  },
  {
   "cell_type": "code",
   "execution_count": 62,
   "metadata": {},
   "outputs": [],
   "source": [
    "features_original = [feat for feat in dataset.columns]"
   ]
  },
  {
   "cell_type": "code",
   "execution_count": 63,
   "metadata": {},
   "outputs": [],
   "source": [
    "features_adoption = [feat for feat in features_original if 'adoption' in feat]\n",
    "features_climate = [feat for feat in features_original if '_t_' in feat or '_prec_' in feat]\n",
    "features_soil = ['CaCO3_mean_munic', 'CN_mean_munic', 'N_mean_munic', 'P_mean_munic', 'pH_mean_munic']\n",
    "features_economic = ['sbp_payment']\n",
    "\n",
    "features_not_census = (features_adoption + features_climate + features_soil + features_economic)\n",
    "features_census = [feat for feat in features_original if feat not in features_not_census]"
   ]
  },
  {
   "cell_type": "code",
   "execution_count": 64,
   "metadata": {},
   "outputs": [
    {
     "data": {
      "text/plain": [
       "44"
      ]
     },
     "execution_count": 64,
     "metadata": {},
     "output_type": "execute_result"
    }
   ],
   "source": [
    "len(features_census) + len(features_not_census)"
   ]
  },
  {
   "cell_type": "markdown",
   "metadata": {},
   "source": [
    "### Post-transformation"
   ]
  },
  {
   "cell_type": "code",
   "execution_count": 66,
   "metadata": {},
   "outputs": [],
   "source": [
    "# Get features names\n",
    "feat_lists = [features_adoption, features_census, features_climate, features_soil, features_economic]\n",
    "transformers = [TransformAdoptionFeatures(), TransformCensusFeatures(),\n",
    "                TransformClimateFeatures(), TransformSoilFeatures(), TransformEconomicFeatures()]\n",
    "\n",
    "features = []\n",
    "for f, t in zip(feat_lists, transformers):\n",
    "    features_ind = t.transform(dataset[f]).columns.to_list()\n",
    "    features = features + features_ind"
   ]
  },
  {
   "cell_type": "code",
   "execution_count": 67,
   "metadata": {},
   "outputs": [
    {
     "data": {
      "text/plain": [
       "19"
      ]
     },
     "execution_count": 67,
     "metadata": {},
     "output_type": "execute_result"
    }
   ],
   "source": [
    "len(features)"
   ]
  },
  {
   "cell_type": "markdown",
   "metadata": {},
   "source": [
    "#### With squared cumulative adoption"
   ]
  },
  {
   "cell_type": "code",
   "execution_count": 68,
   "metadata": {
    "scrolled": false
   },
   "outputs": [],
   "source": [
    "# Get features names\n",
    "feat_lists = [features_adoption, features_census, features_climate, features_soil, features_economic]\n",
    "transformers = [TransformAdoptionFeatures(add_square_cumul_adoption=True),\n",
    "                TransformCensusFeatures(), TransformClimateFeatures(), TransformSoilFeatures(), TransformEconomicFeatures()]\n",
    "\n",
    "features_sq = []\n",
    "for f, t in zip(feat_lists, transformers):\n",
    "    features_ind = t.transform(dataset[f]).columns.to_list()\n",
    "    features_sq = features_sq + features_ind"
   ]
  },
  {
   "cell_type": "code",
   "execution_count": 69,
   "metadata": {
    "scrolled": false
   },
   "outputs": [
    {
     "data": {
      "text/plain": [
       "20"
      ]
     },
     "execution_count": 69,
     "metadata": {},
     "output_type": "execute_result"
    }
   ],
   "source": [
    "len(features_sq)"
   ]
  },
  {
   "cell_type": "markdown",
   "metadata": {},
   "source": [
    "## Preparation pipeline"
   ]
  },
  {
   "cell_type": "code",
   "execution_count": 70,
   "metadata": {},
   "outputs": [],
   "source": [
    "from sklearn.pipeline import Pipeline\n",
    "from sklearn.compose import ColumnTransformer\n",
    "from sklearn.preprocessing import StandardScaler"
   ]
  },
  {
   "cell_type": "code",
   "execution_count": 71,
   "metadata": {},
   "outputs": [],
   "source": [
    "transformation_pipeline = ColumnTransformer([\n",
    "    ('adoption', TransformAdoptionFeatures(), features_adoption),\n",
    "    ('census', TransformCensusFeatures(), features_census),\n",
    "    ('climate', TransformClimateFeatures(), features_climate),\n",
    "    ('soil', TransformSoilFeatures(), features_soil),\n",
    "    ('economic', TransformEconomicFeatures(), features_economic)\n",
    "],\n",
    "    remainder='drop')\n",
    "\n",
    "dataset_transf = transformation_pipeline.fit_transform(dataset)"
   ]
  },
  {
   "cell_type": "code",
   "execution_count": 72,
   "metadata": {},
   "outputs": [],
   "source": [
    "full_pipeline_stand = Pipeline([\n",
    "    ('transformation', transformation_pipeline),\n",
    "    ('scaling', StandardScaler())\n",
    "])"
   ]
  },
  {
   "cell_type": "code",
   "execution_count": 73,
   "metadata": {},
   "outputs": [],
   "source": [
    "dataset_prepared_stand = full_pipeline_stand.fit_transform(dataset)"
   ]
  },
  {
   "cell_type": "code",
   "execution_count": 36,
   "metadata": {},
   "outputs": [
    {
     "data": {
      "text/plain": [
       "(2455, 19)"
      ]
     },
     "execution_count": 36,
     "metadata": {},
     "output_type": "execute_result"
    }
   ],
   "source": [
    "dataset_prepared_stand.shape"
   ]
  },
  {
   "cell_type": "code",
   "execution_count": 37,
   "metadata": {},
   "outputs": [
    {
     "data": {
      "text/html": [
       "<div>\n",
       "<style scoped>\n",
       "    .dataframe tbody tr th:only-of-type {\n",
       "        vertical-align: middle;\n",
       "    }\n",
       "\n",
       "    .dataframe tbody tr th {\n",
       "        vertical-align: top;\n",
       "    }\n",
       "\n",
       "    .dataframe thead th {\n",
       "        text-align: right;\n",
       "    }\n",
       "</style>\n",
       "<table border=\"1\" class=\"dataframe\">\n",
       "  <thead>\n",
       "    <tr style=\"text-align: right;\">\n",
       "      <th></th>\n",
       "      <th>tot_cumul_adoption_pr_y_munic</th>\n",
       "      <th>tot_cumul_adoption_pr_y_port</th>\n",
       "      <th>pastures_area_var</th>\n",
       "      <th>pastures_area_mean</th>\n",
       "      <th>educ_second_super</th>\n",
       "      <th>farmers_over65</th>\n",
       "      <th>inc_mainly_ext</th>\n",
       "      <th>educ_none</th>\n",
       "      <th>work_unit_100ha</th>\n",
       "      <th>agric_area_owned</th>\n",
       "      <th>lu_per_agric_area</th>\n",
       "      <th>av_d_mean_t_average_munic</th>\n",
       "      <th>av_d_max_t_average_munic</th>\n",
       "      <th>cons_days_no_prec_average_munic</th>\n",
       "      <th>CaCO3_mean_munic</th>\n",
       "      <th>CN_mean_munic</th>\n",
       "      <th>N_mean_munic</th>\n",
       "      <th>P_mean_munic</th>\n",
       "      <th>sbp_payment</th>\n",
       "    </tr>\n",
       "  </thead>\n",
       "  <tbody>\n",
       "    <tr>\n",
       "      <th>0</th>\n",
       "      <td>-0.541092</td>\n",
       "      <td>-1.111866</td>\n",
       "      <td>-0.463252</td>\n",
       "      <td>-0.537419</td>\n",
       "      <td>-1.137719</td>\n",
       "      <td>-1.875770</td>\n",
       "      <td>-0.185129</td>\n",
       "      <td>0.597305</td>\n",
       "      <td>1.863707</td>\n",
       "      <td>-1.136328</td>\n",
       "      <td>0.498686</td>\n",
       "      <td>-1.169738</td>\n",
       "      <td>-0.947620</td>\n",
       "      <td>-1.004479</td>\n",
       "      <td>-0.482743</td>\n",
       "      <td>1.317392</td>\n",
       "      <td>1.506530</td>\n",
       "      <td>0.156634</td>\n",
       "      <td>-0.306663</td>\n",
       "    </tr>\n",
       "    <tr>\n",
       "      <th>1</th>\n",
       "      <td>-0.516549</td>\n",
       "      <td>-1.050977</td>\n",
       "      <td>-0.442232</td>\n",
       "      <td>-0.534029</td>\n",
       "      <td>-1.124769</td>\n",
       "      <td>-1.821742</td>\n",
       "      <td>-0.137470</td>\n",
       "      <td>0.417110</td>\n",
       "      <td>1.780241</td>\n",
       "      <td>-1.101430</td>\n",
       "      <td>0.493610</td>\n",
       "      <td>-1.169738</td>\n",
       "      <td>-0.947620</td>\n",
       "      <td>-1.004479</td>\n",
       "      <td>-0.482743</td>\n",
       "      <td>1.317392</td>\n",
       "      <td>1.506530</td>\n",
       "      <td>0.156634</td>\n",
       "      <td>-0.306663</td>\n",
       "    </tr>\n",
       "    <tr>\n",
       "      <th>2</th>\n",
       "      <td>-0.496097</td>\n",
       "      <td>-0.804785</td>\n",
       "      <td>-0.400193</td>\n",
       "      <td>-0.526192</td>\n",
       "      <td>-1.098869</td>\n",
       "      <td>-1.696843</td>\n",
       "      <td>-0.037835</td>\n",
       "      <td>0.056720</td>\n",
       "      <td>1.613309</td>\n",
       "      <td>-1.028472</td>\n",
       "      <td>0.483456</td>\n",
       "      <td>-1.169738</td>\n",
       "      <td>-0.947620</td>\n",
       "      <td>-1.004479</td>\n",
       "      <td>-0.482743</td>\n",
       "      <td>1.317392</td>\n",
       "      <td>1.506530</td>\n",
       "      <td>0.156634</td>\n",
       "      <td>-0.306663</td>\n",
       "    </tr>\n",
       "    <tr>\n",
       "      <th>3</th>\n",
       "      <td>-0.483826</td>\n",
       "      <td>-0.516484</td>\n",
       "      <td>-0.327890</td>\n",
       "      <td>-0.515048</td>\n",
       "      <td>-1.034314</td>\n",
       "      <td>-1.542622</td>\n",
       "      <td>-0.025228</td>\n",
       "      <td>-0.116087</td>\n",
       "      <td>1.345339</td>\n",
       "      <td>-0.677691</td>\n",
       "      <td>0.390803</td>\n",
       "      <td>-1.169738</td>\n",
       "      <td>-0.947620</td>\n",
       "      <td>-1.004479</td>\n",
       "      <td>-0.482743</td>\n",
       "      <td>1.317392</td>\n",
       "      <td>1.506530</td>\n",
       "      <td>0.156634</td>\n",
       "      <td>-0.306663</td>\n",
       "    </tr>\n",
       "    <tr>\n",
       "      <th>4</th>\n",
       "      <td>-0.442922</td>\n",
       "      <td>-0.272147</td>\n",
       "      <td>-0.291738</td>\n",
       "      <td>-0.508850</td>\n",
       "      <td>-1.002036</td>\n",
       "      <td>-1.456854</td>\n",
       "      <td>-0.019121</td>\n",
       "      <td>-0.202491</td>\n",
       "      <td>1.211354</td>\n",
       "      <td>-0.507758</td>\n",
       "      <td>0.344476</td>\n",
       "      <td>-1.169738</td>\n",
       "      <td>-0.947620</td>\n",
       "      <td>-1.004479</td>\n",
       "      <td>-0.482743</td>\n",
       "      <td>1.317392</td>\n",
       "      <td>1.506530</td>\n",
       "      <td>0.156634</td>\n",
       "      <td>-0.306663</td>\n",
       "    </tr>\n",
       "  </tbody>\n",
       "</table>\n",
       "</div>"
      ],
      "text/plain": [
       "   tot_cumul_adoption_pr_y_munic  tot_cumul_adoption_pr_y_port  \\\n",
       "0                      -0.541092                     -1.111866   \n",
       "1                      -0.516549                     -1.050977   \n",
       "2                      -0.496097                     -0.804785   \n",
       "3                      -0.483826                     -0.516484   \n",
       "4                      -0.442922                     -0.272147   \n",
       "\n",
       "   pastures_area_var  pastures_area_mean  educ_second_super  farmers_over65  \\\n",
       "0          -0.463252           -0.537419          -1.137719       -1.875770   \n",
       "1          -0.442232           -0.534029          -1.124769       -1.821742   \n",
       "2          -0.400193           -0.526192          -1.098869       -1.696843   \n",
       "3          -0.327890           -0.515048          -1.034314       -1.542622   \n",
       "4          -0.291738           -0.508850          -1.002036       -1.456854   \n",
       "\n",
       "   inc_mainly_ext  educ_none  work_unit_100ha  agric_area_owned  \\\n",
       "0       -0.185129   0.597305         1.863707         -1.136328   \n",
       "1       -0.137470   0.417110         1.780241         -1.101430   \n",
       "2       -0.037835   0.056720         1.613309         -1.028472   \n",
       "3       -0.025228  -0.116087         1.345339         -0.677691   \n",
       "4       -0.019121  -0.202491         1.211354         -0.507758   \n",
       "\n",
       "   lu_per_agric_area  av_d_mean_t_average_munic  av_d_max_t_average_munic  \\\n",
       "0           0.498686                  -1.169738                 -0.947620   \n",
       "1           0.493610                  -1.169738                 -0.947620   \n",
       "2           0.483456                  -1.169738                 -0.947620   \n",
       "3           0.390803                  -1.169738                 -0.947620   \n",
       "4           0.344476                  -1.169738                 -0.947620   \n",
       "\n",
       "   cons_days_no_prec_average_munic  CaCO3_mean_munic  CN_mean_munic  \\\n",
       "0                        -1.004479         -0.482743       1.317392   \n",
       "1                        -1.004479         -0.482743       1.317392   \n",
       "2                        -1.004479         -0.482743       1.317392   \n",
       "3                        -1.004479         -0.482743       1.317392   \n",
       "4                        -1.004479         -0.482743       1.317392   \n",
       "\n",
       "   N_mean_munic  P_mean_munic  sbp_payment  \n",
       "0      1.506530      0.156634    -0.306663  \n",
       "1      1.506530      0.156634    -0.306663  \n",
       "2      1.506530      0.156634    -0.306663  \n",
       "3      1.506530      0.156634    -0.306663  \n",
       "4      1.506530      0.156634    -0.306663  "
      ]
     },
     "execution_count": 37,
     "metadata": {},
     "output_type": "execute_result"
    }
   ],
   "source": [
    "# Print prepared data as a DataFrame\n",
    "pd.DataFrame(dataset_prepared_stand, columns=features, index=dataset.index).head()"
   ]
  },
  {
   "cell_type": "markdown",
   "metadata": {},
   "source": [
    "### With squared cumulative adoption"
   ]
  },
  {
   "cell_type": "code",
   "execution_count": 54,
   "metadata": {},
   "outputs": [],
   "source": [
    "transformation_pipeline_sq = ColumnTransformer([\n",
    "    ('adoption', TransformAdoptionFeatures(add_square_cumul_adoption=True),\n",
    "     features_adoption),\n",
    "    ('census', TransformCensusFeatures(), features_census),\n",
    "    ('climate', TransformClimateFeatures(), features_climate),\n",
    "    ('soil', TransformSoilFeatures(), features_soil),\n",
    "    ('economic', TransformEconomicFeatures(), features_economic)\n",
    "],\n",
    "    remainder='drop')"
   ]
  },
  {
   "cell_type": "code",
   "execution_count": 55,
   "metadata": {},
   "outputs": [],
   "source": [
    "full_pipeline_stand_sq = Pipeline([\n",
    "    ('transformation', transformation_pipeline_sq),\n",
    "    ('scaling', StandardScaler())\n",
    "])"
   ]
  },
  {
   "cell_type": "code",
   "execution_count": 56,
   "metadata": {},
   "outputs": [],
   "source": [
    "dataset_stand_sq_cum_ad = full_pipeline_stand_sq.fit_transform(dataset)"
   ]
  },
  {
   "cell_type": "code",
   "execution_count": 57,
   "metadata": {},
   "outputs": [
    {
     "data": {
      "text/plain": [
       "(2455, 20)"
      ]
     },
     "execution_count": 57,
     "metadata": {},
     "output_type": "execute_result"
    }
   ],
   "source": [
    "dataset_stand_sq_cum_ad.shape"
   ]
  },
  {
   "cell_type": "markdown",
   "metadata": {},
   "source": [
    "# Model selection"
   ]
  },
  {
   "cell_type": "markdown",
   "metadata": {},
   "source": [
    "* Linear regression with Elastic Net regularization\n",
    "    * With squared cumulative adoption\n",
    "    * Polynomial\n",
    "* SVM\n",
    "    * Linear\n",
    "    * With squared cumulative adoption\n",
    "    * Non-linear"
   ]
  },
  {
   "cell_type": "code",
   "execution_count": 43,
   "metadata": {},
   "outputs": [],
   "source": [
    "from sklearn.model_selection import cross_validate, cross_val_predict\n",
    "from sklearn.metrics import r2_score, mean_squared_error\n",
    "from sklearn.base import clone"
   ]
  },
  {
   "cell_type": "code",
   "execution_count": 44,
   "metadata": {},
   "outputs": [],
   "source": [
    "from sklearn.model_selection import RandomizedSearchCV, GridSearchCV, StratifiedKFold"
   ]
  },
  {
   "cell_type": "code",
   "execution_count": 45,
   "metadata": {},
   "outputs": [],
   "source": [
    "from scipy.stats import expon, uniform, reciprocal"
   ]
  },
  {
   "cell_type": "markdown",
   "metadata": {},
   "source": [
    "## Functions for models results"
   ]
  },
  {
   "cell_type": "code",
   "execution_count": 46,
   "metadata": {},
   "outputs": [],
   "source": [
    "cols = ['cv RMSE_mean', 'cv RMSE std', 'cv adjR2 mean', 'cv adjR2 std', 'train set RMSE', 'train set adjR2']\n",
    "models_results = pd.DataFrame(columns=cols, dtype=np.float64)"
   ]
  },
  {
   "cell_type": "code",
   "execution_count": 47,
   "metadata": {},
   "outputs": [],
   "source": [
    "def display_scores(scores, score_name):\n",
    "    print('Cross-validation', score_name)\n",
    "    print('Scores:', scores)\n",
    "    print('Mean:', scores.mean())\n",
    "    print('Standard deviation:', scores.std())\n",
    "    print('')"
   ]
  },
  {
   "cell_type": "code",
   "execution_count": 48,
   "metadata": {},
   "outputs": [],
   "source": [
    "def adjusted_r2(r2, n, p):\n",
    "    return 1-(1-r2)*(n-1)/(n-p-1)"
   ]
  },
  {
   "cell_type": "code",
   "execution_count": 49,
   "metadata": {},
   "outputs": [],
   "source": [
    "from sklearn.model_selection import KFold\n",
    "\n",
    "def cross_val_rmse_r2(reg, dataset_prepared, cv_split):\n",
    "    scores = cross_validate(reg, dataset_prepared, dataset_labels,\n",
    "                            scoring=['neg_mean_squared_error', 'r2'], cv=cv_split)\n",
    "    rmse_scores = np.sqrt(-scores['test_neg_mean_squared_error'])\n",
    "    r2_scores = scores['test_r2']\n",
    "    adj_r2_scores = adjusted_r2(r2_scores, (dataset_prepared.shape[0] // n_folds), dataset_prepared.shape[1])\n",
    "    cv_scores = {'RMSE': rmse_scores, 'adjR2': adj_r2_scores}\n",
    "    return cv_scores"
   ]
  },
  {
   "cell_type": "code",
   "execution_count": 50,
   "metadata": {},
   "outputs": [],
   "source": [
    "def predict_train_set(reg, dataset_prepared):\n",
    "    reg.fit(dataset_prepared, dataset_labels)\n",
    "    predictions = reg.predict(dataset_prepared)\n",
    "    mse = mean_squared_error(dataset_labels, predictions)\n",
    "    rmse = np.sqrt(mse)\n",
    "    r2 = r2_score(dataset_labels, predictions)\n",
    "    adj_r2 = adjusted_r2(r2, dataset_prepared.shape[0], dataset_prepared.shape[1])\n",
    "    print('Scores on training set')\n",
    "    print('RMSE score:', rmse)\n",
    "    print('Adjusted R2 score:', adj_r2)\n",
    "    return (rmse, adj_r2)"
   ]
  },
  {
   "cell_type": "code",
   "execution_count": 51,
   "metadata": {},
   "outputs": [],
   "source": [
    "def load_model_results(reg, reg_name, results_df, cv_scores, train_results):\n",
    "    df_cols = results_df.columns\n",
    "    \n",
    "    # Add cv columns\n",
    "    for score_name, score_values in cv_scores.items():\n",
    "        col_mean = [col for col in df_cols if ('cv' in col) and (score_name in col) and ('mean' in col)]\n",
    "        col_std = [col for col in df_cols if ('cv' in col) and (score_name in col) and ('std' in col)]\n",
    "        results_df.loc[reg_name, col_mean] = score_values.mean()\n",
    "        results_df.loc[reg_name, col_std] = score_values.std()\n",
    "    # Add training set results columns\n",
    "    cols_train = [col for col in df_cols if ('train' in col)]\n",
    "    results_df.loc[reg_name, cols_train] = train_results"
   ]
  },
  {
   "cell_type": "code",
   "execution_count": 52,
   "metadata": {},
   "outputs": [],
   "source": [
    "def test_regressor(reg, dataset_prepared, labels, reg_name=None, results_df=models_results, cv_split=cv_split):  \n",
    "    \"\"\"\n",
    "    Function to:\n",
    "    - train a regressor using cross validation, reporting both RMSE and adjusted R2 score\n",
    "    - train a regressor on the training set, to check it for overfiting\n",
    "    - load the model performances in a dataframe to keep all models results\n",
    "    \n",
    "    reg_name: how to report the model's results in the DataFrame with the results. If None, do not add it.\n",
    "    \"\"\"\n",
    "    cv_scores = cross_val_rmse_r2(reg, dataset_prepared, cv_split)\n",
    "    print(\"Cross validation scores\")\n",
    "    for score_name, score_value in cv_scores.items():\n",
    "        display_scores(score_value, score_name)\n",
    "    print(\"\")\n",
    "\n",
    "    train_results = predict_train_set(reg, dataset_prepared)\n",
    "        \n",
    "    if reg_name != None:\n",
    "        load_model_results(reg, reg_name, results_df, cv_scores, train_results)"
   ]
  },
  {
   "cell_type": "code",
   "execution_count": 53,
   "metadata": {},
   "outputs": [],
   "source": [
    "def get_grid_search_results(gs):\n",
    "    best_est = gs.best_estimator_\n",
    "    print(\"Best estimator:\", best_est)\n",
    "    print(\"Best parameters:\", gs.best_params_)\n",
    "    for scorer_name in gs.scorer_.keys():\n",
    "        res_test = gs.cv_results_['mean_test_' + scorer_name][gs.best_index_]\n",
    "        res_train = gs.cv_results_['mean_train_' + scorer_name][gs.best_index_]\n",
    "        print(\"\")\n",
    "        print(scorer_name + ' mean on test sets:', res_test)\n",
    "        print(scorer_name + ' mean on train sets:', res_train)"
   ]
  },
  {
   "cell_type": "markdown",
   "metadata": {},
   "source": [
    "## Functions for models' analysis"
   ]
  },
  {
   "cell_type": "code",
   "execution_count": 54,
   "metadata": {},
   "outputs": [],
   "source": [
    "def plot_validation_curves(estimator, param_name, param_values, scoring, dataset, labels):\n",
    "    train_errors, val_errors = [], []\n",
    "    for param in param_values:\n",
    "        estimator.set_params(**{param_name:param})\n",
    "        scores = cross_validate(estimator, dataset, labels, scoring=scoring, \n",
    "                                cv=cv_split, n_jobs=-1, return_train_score=True)\n",
    "        train_errors.append(-scores['train_score'].mean())\n",
    "        val_errors.append(-scores['test_score'].mean())\n",
    "\n",
    "    plt.plot(val_errors, \"b-\", linewidth=2, label=\"Validation set\")\n",
    "    plt.plot(train_errors, \"r--\", linewidth=2, label=\"Training set\")\n",
    "    plt.legend(loc=\"upper right\", fontsize=12)\n",
    "    x = np.arange(0, len(param_values), 1)\n",
    "    plt.xticks(x, np.round(param_values, 2))\n",
    "    plt.xlabel(param_name + \" value\", fontsize=14)\n",
    "    plt.ylabel(\"RMSE\", fontsize=14)\n",
    "    plt.show()"
   ]
  },
  {
   "cell_type": "code",
   "execution_count": 55,
   "metadata": {},
   "outputs": [],
   "source": [
    "from sklearn.metrics import mean_squared_error\n",
    "from sklearn.model_selection import train_test_split\n",
    "\n",
    "def plot_learning_curves(model, X, y, fig_name=None):\n",
    "    X_train, X_val, y_train, y_val = train_test_split(X, y, test_size=0.2, random_state=42)\n",
    "    train_errors, val_errors = [], []\n",
    "    steps = np.arange(100, len(X_train), 100)\n",
    "    for m in steps:\n",
    "        model.fit(X_train[:m], y_train[:m])\n",
    "        y_train_predict = model.predict(X_train[:m])\n",
    "        y_val_predict = model.predict(X_val)\n",
    "        train_errors.append(mean_squared_error(y_train[:m], y_train_predict))\n",
    "        val_errors.append(mean_squared_error(y_val, y_val_predict))\n",
    "\n",
    "    plt.plot(steps, np.sqrt(train_errors), \"r-+\", linewidth=2, label=\"Training error\")\n",
    "    plt.plot(steps, np.sqrt(val_errors), \"b-\", linewidth=3, label=\"Validation error\")\n",
    "    plt.legend(loc=\"lower right\", fontsize=13)   \n",
    "    plt.xlabel(\"Training set size\", fontsize=14)\n",
    "    plt.ylabel(\"Root mean squared error\", fontsize=14)\n",
    "    \n",
    "    if fig_name != None:\n",
    "        save_fig((fig_name))"
   ]
  },
  {
   "cell_type": "markdown",
   "metadata": {},
   "source": [
    "## Linear regression (elastic net)"
   ]
  },
  {
   "cell_type": "code",
   "execution_count": 308,
   "metadata": {},
   "outputs": [],
   "source": [
    "from sklearn.linear_model import SGDRegressor"
   ]
  },
  {
   "cell_type": "code",
   "execution_count": 309,
   "metadata": {},
   "outputs": [
    {
     "name": "stdout",
     "output_type": "stream",
     "text": [
      "Fitting 3 folds for each of 24 candidates, totalling 72 fits\n"
     ]
    },
    {
     "name": "stderr",
     "output_type": "stream",
     "text": [
      "[Parallel(n_jobs=1)]: Using backend SequentialBackend with 1 concurrent workers.\n",
      "[Parallel(n_jobs=1)]: Done  72 out of  72 | elapsed:    1.8s finished\n"
     ]
    },
    {
     "data": {
      "text/plain": [
       "GridSearchCV(cv=PredefinedSplit(test_fold=array([1, 2, ..., 0, 0])),\n",
       "             estimator=SGDRegressor(learning_rate='adaptive',\n",
       "                                    penalty='elasticnet'),\n",
       "             param_grid={'alpha': [0.001, 0.005, 0.01, 0.05, 0.1, 1],\n",
       "                         'l1_ratio': array([0.  , 0.25, 0.5 , 0.75])},\n",
       "             refit='neg_root_mean_squared_error', return_train_score=True,\n",
       "             scoring=['neg_root_mean_squared_error', 'r2'], verbose=1)"
      ]
     },
     "execution_count": 309,
     "metadata": {},
     "output_type": "execute_result"
    }
   ],
   "source": [
    "el_net_lin_reg = SGDRegressor(penalty='elasticnet', learning_rate='adaptive')\n",
    "\n",
    "param_grid = {\n",
    "    #\"tol\": [5e-3],\n",
    "    #\"max_iter\": [10000],\n",
    "    \"alpha\": [0.001, 0.005, 0.01, 0.05, 0.1, 1],\n",
    "    \"l1_ratio\": np.arange(0.0, 1.0, 0.25),\n",
    "    }\n",
    "\n",
    "srch_lin_reg = GridSearchCV(el_net_lin_reg, param_grid, cv=cv_split,\n",
    "                            scoring=['neg_root_mean_squared_error', 'r2'], refit='neg_root_mean_squared_error',\n",
    "                            return_train_score=True, verbose=1)\n",
    "\n",
    "srch_lin_reg.fit(dataset_prepared_stand, dataset_labels)"
   ]
  },
  {
   "cell_type": "code",
   "execution_count": 310,
   "metadata": {},
   "outputs": [
    {
     "name": "stdout",
     "output_type": "stream",
     "text": [
      "Best estimator: SGDRegressor(alpha=0.1, l1_ratio=0.0, learning_rate='adaptive',\n",
      "             penalty='elasticnet')\n",
      "Best parameters: {'alpha': 0.1, 'l1_ratio': 0.0}\n",
      "\n",
      "neg_root_mean_squared_error mean on test sets: -0.006735652715236069\n",
      "neg_root_mean_squared_error mean on train sets: -0.006617364194329058\n",
      "\n",
      "r2 mean on test sets: 0.3743794487438949\n",
      "r2 mean on train sets: 0.40206459938664746\n"
     ]
    }
   ],
   "source": [
    "get_grid_search_results(srch_lin_reg)"
   ]
  },
  {
   "cell_type": "code",
   "execution_count": 311,
   "metadata": {
    "scrolled": true
   },
   "outputs": [
    {
     "name": "stdout",
     "output_type": "stream",
     "text": [
      "Cross validation scores\n",
      "Cross-validation RMSE\n",
      "Scores: [0.0071828646 0.0060763936 0.0069696493]\n",
      "Mean: 0.00674296917718219\n",
      "Standard deviation: 0.00047931020164187333\n",
      "\n",
      "Cross-validation adjR2\n",
      "Scores: [0.343639584  0.3209116221 0.4101104098]\n",
      "Mean: 0.35822053864617304\n",
      "Standard deviation: 0.03784670053568197\n",
      "\n",
      "\n",
      "Scores on training set\n",
      "RMSE score: 0.006646752007238695\n",
      "Adjusted R2 score: 0.394159299852771\n"
     ]
    }
   ],
   "source": [
    "lin_reg = srch_lin_reg.best_estimator_\n",
    "test_regressor(lin_reg, dataset_prepared_stand, dataset_labels)"
   ]
  },
  {
   "cell_type": "markdown",
   "metadata": {},
   "source": [
    "### Second iteration"
   ]
  },
  {
   "cell_type": "code",
   "execution_count": 312,
   "metadata": {
    "scrolled": true
   },
   "outputs": [
    {
     "name": "stdout",
     "output_type": "stream",
     "text": [
      "Fitting 3 folds for each of 1000 candidates, totalling 3000 fits\n"
     ]
    },
    {
     "name": "stderr",
     "output_type": "stream",
     "text": [
      "[Parallel(n_jobs=1)]: Using backend SequentialBackend with 1 concurrent workers.\n",
      "[Parallel(n_jobs=1)]: Done 3000 out of 3000 | elapsed:  1.1min finished\n"
     ]
    },
    {
     "data": {
      "text/plain": [
       "RandomizedSearchCV(cv=PredefinedSplit(test_fold=array([1, 2, ..., 0, 0])),\n",
       "                   estimator=SGDRegressor(learning_rate='adaptive',\n",
       "                                          penalty='elasticnet'),\n",
       "                   n_iter=1000,\n",
       "                   param_distributions={'alpha': <scipy.stats._distn_infrastructure.rv_frozen object at 0x000001932D5B3848>,\n",
       "                                        'l1_ratio': <scipy.stats._distn_infrastructure.rv_frozen object at 0x000001932D509D48>,\n",
       "                                        'max_iter': [3000]},\n",
       "                   refit='neg_root_mean_squared_error', return_train_score=True,\n",
       "                   scoring=['neg_root_mean_squared_error', 'r2'], verbose=1)"
      ]
     },
     "execution_count": 312,
     "metadata": {},
     "output_type": "execute_result"
    }
   ],
   "source": [
    "param_grid = {\n",
    "    'max_iter': [3000],\n",
    "    \"alpha\": expon(scale=0.05),\n",
    "    \"l1_ratio\": uniform(0.0, 1.0),\n",
    "    }\n",
    "\n",
    "srch_lin_reg_2 = RandomizedSearchCV(el_net_lin_reg, param_grid, cv=cv_split, n_iter=1000,\n",
    "                                    scoring=['neg_root_mean_squared_error', 'r2'], refit='neg_root_mean_squared_error',\n",
    "                                    return_train_score=True, verbose=1)\n",
    "\n",
    "srch_lin_reg_2.fit(dataset_prepared_stand, dataset_labels)"
   ]
  },
  {
   "cell_type": "code",
   "execution_count": 313,
   "metadata": {},
   "outputs": [
    {
     "name": "stdout",
     "output_type": "stream",
     "text": [
      "Best estimator: SGDRegressor(alpha=0.018214044847171408, l1_ratio=9.343307831355396e-05,\n",
      "             learning_rate='adaptive', max_iter=3000, penalty='elasticnet')\n",
      "Best parameters: {'alpha': 0.018214044847171408, 'l1_ratio': 9.343307831355396e-05, 'max_iter': 3000}\n",
      "\n",
      "neg_root_mean_squared_error mean on test sets: -0.006734976367569336\n",
      "neg_root_mean_squared_error mean on train sets: -0.006586304204902212\n",
      "\n",
      "r2 mean on test sets: 0.3725942716449895\n",
      "r2 mean on train sets: 0.407576636394726\n"
     ]
    }
   ],
   "source": [
    "get_grid_search_results(srch_lin_reg_2)"
   ]
  },
  {
   "cell_type": "code",
   "execution_count": 314,
   "metadata": {
    "scrolled": true
   },
   "outputs": [
    {
     "name": "stdout",
     "output_type": "stream",
     "text": [
      "Cross validation scores\n",
      "Cross-validation RMSE\n",
      "Scores: [0.00715707   0.006184041  0.0068609503]\n",
      "Mean: 0.006734020451968477\n",
      "Standard deviation: 0.00040725072911261393\n",
      "\n",
      "Cross-validation adjR2\n",
      "Scores: [0.3483452702 0.2966374779 0.4283668194]\n",
      "Mean: 0.35778318912806245\n",
      "Standard deviation: 0.05419077774752589\n",
      "\n",
      "\n",
      "Scores on training set\n",
      "RMSE score: 0.00661531401041517\n",
      "Adjusted R2 score: 0.39987679159643863\n"
     ]
    }
   ],
   "source": [
    "lin_reg = srch_lin_reg_2.best_estimator_\n",
    "test_regressor(lin_reg, dataset_prepared_stand, dataset_labels, 'Linear Regression')"
   ]
  },
  {
   "cell_type": "markdown",
   "metadata": {},
   "source": [
    "## Linear Regression with squared cumulative adoption"
   ]
  },
  {
   "cell_type": "code",
   "execution_count": 315,
   "metadata": {},
   "outputs": [],
   "source": [
    "from sklearn.linear_model import SGDRegressor\n",
    "el_net_lin_reg = SGDRegressor(penalty='elasticnet', learning_rate='adaptive')"
   ]
  },
  {
   "cell_type": "code",
   "execution_count": 316,
   "metadata": {},
   "outputs": [
    {
     "name": "stdout",
     "output_type": "stream",
     "text": [
      "Fitting 3 folds for each of 1000 candidates, totalling 3000 fits\n"
     ]
    },
    {
     "name": "stderr",
     "output_type": "stream",
     "text": [
      "[Parallel(n_jobs=1)]: Using backend SequentialBackend with 1 concurrent workers.\n",
      "[Parallel(n_jobs=1)]: Done 3000 out of 3000 | elapsed:  1.1min finished\n"
     ]
    },
    {
     "data": {
      "text/plain": [
       "RandomizedSearchCV(cv=PredefinedSplit(test_fold=array([1, 2, ..., 0, 0])),\n",
       "                   estimator=SGDRegressor(learning_rate='adaptive',\n",
       "                                          penalty='elasticnet'),\n",
       "                   n_iter=1000,\n",
       "                   param_distributions={'alpha': <scipy.stats._distn_infrastructure.rv_frozen object at 0x000001932D5B1F08>,\n",
       "                                        'l1_ratio': <scipy.stats._distn_infrastructure.rv_frozen object at 0x000001932D5B1948>,\n",
       "                                        'max_iter': [3000]},\n",
       "                   refit='neg_root_mean_squared_error', return_train_score=True,\n",
       "                   scoring=['neg_root_mean_squared_error', 'r2'], verbose=1)"
      ]
     },
     "execution_count": 316,
     "metadata": {},
     "output_type": "execute_result"
    }
   ],
   "source": [
    "param_grid = {\n",
    "    'max_iter': [3000],\n",
    "    \"alpha\": uniform(0.001, 0.05),\n",
    "    \"l1_ratio\": uniform(0.0, 1.0),\n",
    "    }\n",
    "\n",
    "srch_lin_reg_sq = RandomizedSearchCV(el_net_lin_reg, param_grid, cv=cv_split, n_iter=1000,\n",
    "                                    scoring=['neg_root_mean_squared_error', 'r2'], refit='neg_root_mean_squared_error',\n",
    "                                    return_train_score=True, verbose=1)\n",
    "\n",
    "srch_lin_reg_sq.fit(dataset_stand_sq_cum_ad, dataset_labels)"
   ]
  },
  {
   "cell_type": "code",
   "execution_count": 317,
   "metadata": {},
   "outputs": [
    {
     "name": "stdout",
     "output_type": "stream",
     "text": [
      "Best estimator: SGDRegressor(alpha=0.010387867861964058, l1_ratio=4.205398655510173e-05,\n",
      "             learning_rate='adaptive', max_iter=3000, penalty='elasticnet')\n",
      "Best parameters: {'alpha': 0.010387867861964058, 'l1_ratio': 4.205398655510173e-05, 'max_iter': 3000}\n",
      "\n",
      "neg_root_mean_squared_error mean on test sets: -0.006643581501301008\n",
      "neg_root_mean_squared_error mean on train sets: -0.006434725982117216\n",
      "\n",
      "r2 mean on test sets: 0.3911239523215184\n",
      "r2 mean on train sets: 0.43521630133115846\n"
     ]
    }
   ],
   "source": [
    "get_grid_search_results(srch_lin_reg_sq)"
   ]
  },
  {
   "cell_type": "code",
   "execution_count": 318,
   "metadata": {},
   "outputs": [
    {
     "name": "stdout",
     "output_type": "stream",
     "text": [
      "Cross validation scores\n",
      "Cross-validation RMSE\n",
      "Scores: [0.0071190945 0.0059461663 0.0068372762]\n",
      "Mean: 0.00663417900046312\n",
      "Standard deviation: 0.0004999176921725496\n",
      "\n",
      "Cross-validation adjR2\n",
      "Scores: [0.3544333164 0.3488918044 0.4315926244]\n",
      "Mean: 0.37830591504412964\n",
      "Standard deviation: 0.037747248289145115\n",
      "\n",
      "\n",
      "Scores on training set\n",
      "RMSE score: 0.006480631265784982\n",
      "Adjusted R2 score: 0.4238274240680121\n"
     ]
    }
   ],
   "source": [
    "lin_reg_sq = srch_lin_reg_sq.best_estimator_\n",
    "name = \"Linear regression + cum_ad_sq\"\n",
    "test_regressor(lin_reg_sq, dataset_stand_sq_cum_ad, dataset_labels, name)"
   ]
  },
  {
   "cell_type": "markdown",
   "metadata": {},
   "source": [
    "## Polynomial regression"
   ]
  },
  {
   "cell_type": "code",
   "execution_count": 319,
   "metadata": {},
   "outputs": [],
   "source": [
    "from sklearn.preprocessing import PolynomialFeatures"
   ]
  },
  {
   "cell_type": "code",
   "execution_count": 320,
   "metadata": {},
   "outputs": [],
   "source": [
    "poly_features = PolynomialFeatures(degree=2, include_bias=False) # Already added by Elastic Net"
   ]
  },
  {
   "cell_type": "code",
   "execution_count": 321,
   "metadata": {},
   "outputs": [],
   "source": [
    "full_pipeline_stand_poly = Pipeline([\n",
    "    ('transformation', transformation_pipeline),\n",
    "    ('poly_features', poly_features),\n",
    "    ('scaling', StandardScaler())\n",
    "])"
   ]
  },
  {
   "cell_type": "code",
   "execution_count": 322,
   "metadata": {},
   "outputs": [],
   "source": [
    "dataset_prepared_stand_poly = full_pipeline_stand_poly.fit_transform(dataset)"
   ]
  },
  {
   "cell_type": "code",
   "execution_count": 323,
   "metadata": {},
   "outputs": [
    {
     "data": {
      "text/plain": [
       "(2454, 209)"
      ]
     },
     "execution_count": 323,
     "metadata": {},
     "output_type": "execute_result"
    }
   ],
   "source": [
    "dataset_prepared_stand_poly.shape"
   ]
  },
  {
   "cell_type": "markdown",
   "metadata": {},
   "source": [
    "\n",
    "### Hyperparameters search on polynomial regression with elastic net regularization"
   ]
  },
  {
   "cell_type": "code",
   "execution_count": 324,
   "metadata": {},
   "outputs": [
    {
     "name": "stdout",
     "output_type": "stream",
     "text": [
      "Fitting 3 folds for each of 12 candidates, totalling 36 fits\n"
     ]
    },
    {
     "name": "stderr",
     "output_type": "stream",
     "text": [
      "[Parallel(n_jobs=1)]: Using backend SequentialBackend with 1 concurrent workers.\n",
      "C:\\Users\\giaco\\anaconda3\\envs\\data_analysis\\lib\\site-packages\\sklearn\\linear_model\\_stochastic_gradient.py:1211: ConvergenceWarning:\n",
      "\n",
      "Maximum number of iteration reached before convergence. Consider increasing max_iter to improve the fit.\n",
      "\n",
      "C:\\Users\\giaco\\anaconda3\\envs\\data_analysis\\lib\\site-packages\\sklearn\\linear_model\\_stochastic_gradient.py:1211: ConvergenceWarning:\n",
      "\n",
      "Maximum number of iteration reached before convergence. Consider increasing max_iter to improve the fit.\n",
      "\n",
      "C:\\Users\\giaco\\anaconda3\\envs\\data_analysis\\lib\\site-packages\\sklearn\\linear_model\\_stochastic_gradient.py:1211: ConvergenceWarning:\n",
      "\n",
      "Maximum number of iteration reached before convergence. Consider increasing max_iter to improve the fit.\n",
      "\n",
      "C:\\Users\\giaco\\anaconda3\\envs\\data_analysis\\lib\\site-packages\\sklearn\\linear_model\\_stochastic_gradient.py:1211: ConvergenceWarning:\n",
      "\n",
      "Maximum number of iteration reached before convergence. Consider increasing max_iter to improve the fit.\n",
      "\n",
      "C:\\Users\\giaco\\anaconda3\\envs\\data_analysis\\lib\\site-packages\\sklearn\\linear_model\\_stochastic_gradient.py:1211: ConvergenceWarning:\n",
      "\n",
      "Maximum number of iteration reached before convergence. Consider increasing max_iter to improve the fit.\n",
      "\n",
      "C:\\Users\\giaco\\anaconda3\\envs\\data_analysis\\lib\\site-packages\\sklearn\\linear_model\\_stochastic_gradient.py:1211: ConvergenceWarning:\n",
      "\n",
      "Maximum number of iteration reached before convergence. Consider increasing max_iter to improve the fit.\n",
      "\n",
      "[Parallel(n_jobs=1)]: Done  36 out of  36 | elapsed:   56.7s finished\n"
     ]
    },
    {
     "data": {
      "text/plain": [
       "GridSearchCV(cv=PredefinedSplit(test_fold=array([1, 2, ..., 0, 0])),\n",
       "             estimator=SGDRegressor(learning_rate='optimal',\n",
       "                                    penalty='elasticnet'),\n",
       "             param_grid={'alpha': [0.01, 0.1, 1],\n",
       "                         'l1_ratio': array([0.  , 0.25, 0.5 , 0.75]),\n",
       "                         'max_iter': [3000]},\n",
       "             refit='neg_root_mean_squared_error', return_train_score=True,\n",
       "             scoring=['neg_root_mean_squared_error', 'r2'], verbose=1)"
      ]
     },
     "execution_count": 324,
     "metadata": {},
     "output_type": "execute_result"
    }
   ],
   "source": [
    "from sklearn.linear_model import SGDRegressor\n",
    "\n",
    "el_net_pol_reg = SGDRegressor(penalty='elasticnet', learning_rate='optimal') # Optimal much faster and converging\n",
    "\n",
    "param_grid = {\n",
    "    \"max_iter\": [3000],\n",
    "    \"alpha\": [0.01, 0.1, 1],\n",
    "    \"l1_ratio\": np.arange(0.0, 1.0, 0.25),\n",
    "    }\n",
    "\n",
    "srch_pol_reg = GridSearchCV(el_net_pol_reg, param_grid, cv=cv_split,\n",
    "                                   scoring=['neg_root_mean_squared_error', 'r2'], refit='neg_root_mean_squared_error',\n",
    "                                   return_train_score=True, verbose=1)\n",
    "\n",
    "srch_pol_reg.fit(dataset_prepared_stand_poly, dataset_labels)"
   ]
  },
  {
   "cell_type": "code",
   "execution_count": 325,
   "metadata": {},
   "outputs": [
    {
     "name": "stdout",
     "output_type": "stream",
     "text": [
      "Best estimator: SGDRegressor(alpha=0.1, l1_ratio=0.75, learning_rate='optimal', max_iter=3000,\n",
      "             penalty='elasticnet')\n",
      "Best parameters: {'alpha': 0.1, 'l1_ratio': 0.75, 'max_iter': 3000}\n",
      "\n",
      "neg_root_mean_squared_error mean on test sets: -0.008538704096182218\n",
      "neg_root_mean_squared_error mean on train sets: -0.008565137253543817\n",
      "\n",
      "r2 mean on test sets: -0.00016985823047292273\n",
      "r2 mean on train sets: -7.24431159441578e-05\n"
     ]
    }
   ],
   "source": [
    "get_grid_search_results(srch_pol_reg)"
   ]
  },
  {
   "cell_type": "code",
   "execution_count": 326,
   "metadata": {
    "scrolled": true
   },
   "outputs": [
    {
     "name": "stdout",
     "output_type": "stream",
     "text": [
      "Cross validation scores\n",
      "Cross-validation RMSE\n",
      "Scores: [8.9713978295e-03 7.4630010512e-03 4.2161882702e+09]\n",
      "Mean: 1405396090.0876048\n",
      "Standard deviation: 1987530211.09639\n",
      "\n",
      "Cross-validation adjR2\n",
      "Scores: [-3.4389878683e-01 -3.4450002314e-01 -2.8332714728e+23]\n",
      "Mean: -9.444238242578697e+22\n",
      "Standard deviation: 1.3356169808937437e+23\n",
      "\n",
      "\n",
      "Scores on training set\n",
      "RMSE score: 0.008572823443172329\n",
      "Adjusted R2 score: -0.09316312968730567\n"
     ]
    },
    {
     "name": "stderr",
     "output_type": "stream",
     "text": [
      "C:\\Users\\giaco\\anaconda3\\envs\\data_analysis\\lib\\site-packages\\sklearn\\linear_model\\_stochastic_gradient.py:1211: ConvergenceWarning:\n",
      "\n",
      "Maximum number of iteration reached before convergence. Consider increasing max_iter to improve the fit.\n",
      "\n"
     ]
    }
   ],
   "source": [
    "pol_reg = srch_pol_reg.best_estimator_\n",
    "test_regressor(pol_reg, dataset_prepared_stand_poly, dataset_labels)"
   ]
  },
  {
   "cell_type": "markdown",
   "metadata": {},
   "source": [
    "### Second iteration"
   ]
  },
  {
   "cell_type": "code",
   "execution_count": 327,
   "metadata": {},
   "outputs": [
    {
     "name": "stderr",
     "output_type": "stream",
     "text": [
      "[Parallel(n_jobs=1)]: Using backend SequentialBackend with 1 concurrent workers.\n"
     ]
    },
    {
     "name": "stdout",
     "output_type": "stream",
     "text": [
      "Fitting 3 folds for each of 100 candidates, totalling 300 fits\n"
     ]
    },
    {
     "name": "stderr",
     "output_type": "stream",
     "text": [
      "C:\\Users\\giaco\\anaconda3\\envs\\data_analysis\\lib\\site-packages\\sklearn\\linear_model\\_stochastic_gradient.py:1211: ConvergenceWarning:\n",
      "\n",
      "Maximum number of iteration reached before convergence. Consider increasing max_iter to improve the fit.\n",
      "\n",
      "C:\\Users\\giaco\\anaconda3\\envs\\data_analysis\\lib\\site-packages\\sklearn\\linear_model\\_stochastic_gradient.py:1211: ConvergenceWarning:\n",
      "\n",
      "Maximum number of iteration reached before convergence. Consider increasing max_iter to improve the fit.\n",
      "\n",
      "C:\\Users\\giaco\\anaconda3\\envs\\data_analysis\\lib\\site-packages\\sklearn\\linear_model\\_stochastic_gradient.py:1211: ConvergenceWarning:\n",
      "\n",
      "Maximum number of iteration reached before convergence. Consider increasing max_iter to improve the fit.\n",
      "\n",
      "C:\\Users\\giaco\\anaconda3\\envs\\data_analysis\\lib\\site-packages\\sklearn\\linear_model\\_stochastic_gradient.py:1211: ConvergenceWarning:\n",
      "\n",
      "Maximum number of iteration reached before convergence. Consider increasing max_iter to improve the fit.\n",
      "\n",
      "C:\\Users\\giaco\\anaconda3\\envs\\data_analysis\\lib\\site-packages\\sklearn\\linear_model\\_stochastic_gradient.py:1211: ConvergenceWarning:\n",
      "\n",
      "Maximum number of iteration reached before convergence. Consider increasing max_iter to improve the fit.\n",
      "\n",
      "C:\\Users\\giaco\\anaconda3\\envs\\data_analysis\\lib\\site-packages\\sklearn\\linear_model\\_stochastic_gradient.py:1211: ConvergenceWarning:\n",
      "\n",
      "Maximum number of iteration reached before convergence. Consider increasing max_iter to improve the fit.\n",
      "\n",
      "C:\\Users\\giaco\\anaconda3\\envs\\data_analysis\\lib\\site-packages\\sklearn\\linear_model\\_stochastic_gradient.py:1211: ConvergenceWarning:\n",
      "\n",
      "Maximum number of iteration reached before convergence. Consider increasing max_iter to improve the fit.\n",
      "\n",
      "[Parallel(n_jobs=1)]: Done 300 out of 300 | elapsed:  1.9min finished\n"
     ]
    },
    {
     "data": {
      "text/plain": [
       "RandomizedSearchCV(cv=PredefinedSplit(test_fold=array([1, 2, ..., 0, 0])),\n",
       "                   estimator=SGDRegressor(learning_rate='optimal',\n",
       "                                          penalty='elasticnet'),\n",
       "                   n_iter=100,\n",
       "                   param_distributions={'alpha': <scipy.stats._distn_infrastructure.rv_frozen object at 0x000001932D81EAC8>,\n",
       "                                        'l1_ratio': <scipy.stats._distn_infrastructure.rv_frozen object at 0x000001932D81EBC8>,\n",
       "                                        'max_iter': [3000]},\n",
       "                   refit='neg_root_mean_squared_error', return_train_score=True,\n",
       "                   scoring=['neg_root_mean_squared_error', 'r2'], verbose=1)"
      ]
     },
     "execution_count": 327,
     "metadata": {},
     "output_type": "execute_result"
    }
   ],
   "source": [
    "param_grid = {\n",
    "    'max_iter': [3000],\n",
    "    \"alpha\": expon(scale=0.01),\n",
    "    \"l1_ratio\": uniform(0, 0.5),\n",
    "    }\n",
    "\n",
    "srch_pol_reg_2 = RandomizedSearchCV(el_net_pol_reg, param_grid, cv=cv_split, n_iter=100,\n",
    "                                        scoring=['neg_root_mean_squared_error', 'r2'], refit='neg_root_mean_squared_error',\n",
    "                                        return_train_score=True, verbose=1)\n",
    "\n",
    "srch_pol_reg_2.fit(dataset_prepared_stand_poly, dataset_labels)"
   ]
  },
  {
   "cell_type": "code",
   "execution_count": 328,
   "metadata": {},
   "outputs": [
    {
     "name": "stdout",
     "output_type": "stream",
     "text": [
      "Best estimator: SGDRegressor(alpha=0.029840523924783487, l1_ratio=0.36950146211372226,\n",
      "             learning_rate='optimal', max_iter=3000, penalty='elasticnet')\n",
      "Best parameters: {'alpha': 0.029840523924783487, 'l1_ratio': 0.36950146211372226, 'max_iter': 3000}\n",
      "\n",
      "neg_root_mean_squared_error mean on test sets: -0.008546271016301815\n",
      "neg_root_mean_squared_error mean on train sets: -0.008568272608211207\n",
      "\n",
      "r2 mean on test sets: -0.0021727584138045617\n",
      "r2 mean on train sets: -0.0007669252944818942\n"
     ]
    }
   ],
   "source": [
    "get_grid_search_results(srch_pol_reg_2)"
   ]
  },
  {
   "cell_type": "code",
   "execution_count": 329,
   "metadata": {},
   "outputs": [
    {
     "name": "stderr",
     "output_type": "stream",
     "text": [
      "C:\\Users\\giaco\\anaconda3\\envs\\data_analysis\\lib\\site-packages\\sklearn\\linear_model\\_stochastic_gradient.py:1211: ConvergenceWarning:\n",
      "\n",
      "Maximum number of iteration reached before convergence. Consider increasing max_iter to improve the fit.\n",
      "\n",
      "C:\\Users\\giaco\\anaconda3\\envs\\data_analysis\\lib\\site-packages\\sklearn\\linear_model\\_stochastic_gradient.py:1211: ConvergenceWarning:\n",
      "\n",
      "Maximum number of iteration reached before convergence. Consider increasing max_iter to improve the fit.\n",
      "\n"
     ]
    },
    {
     "name": "stdout",
     "output_type": "stream",
     "text": [
      "Cross validation scores\n",
      "Cross-validation RMSE\n",
      "Scores: [1.1785225598e+08 1.2773711565e+08 9.1834647274e-03]\n",
      "Mean: 81863123.88245939\n",
      "Standard deviation: 58026464.6541317\n",
      "\n",
      "Cross-validation adjR2\n",
      "Scores: [-2.3191141814e+20 -3.9388370945e+20 -3.4419204853e-01]\n",
      "Mean: -2.085983758644466e+20\n",
      "Standard deviation: 1.6164512075879052e+20\n",
      "\n",
      "\n",
      "Scores on training set\n",
      "RMSE score: 74404583.37506428\n",
      "Adjusted R2 score: -8.234487880305122e+19\n"
     ]
    },
    {
     "name": "stderr",
     "output_type": "stream",
     "text": [
      "C:\\Users\\giaco\\anaconda3\\envs\\data_analysis\\lib\\site-packages\\sklearn\\linear_model\\_stochastic_gradient.py:1211: ConvergenceWarning:\n",
      "\n",
      "Maximum number of iteration reached before convergence. Consider increasing max_iter to improve the fit.\n",
      "\n"
     ]
    }
   ],
   "source": [
    "pol_reg = srch_pol_reg_2.best_estimator_\n",
    "name = 'Polynomial Regression'\n",
    "test_regressor(pol_reg, dataset_prepared_stand_poly, dataset_labels, name)"
   ]
  },
  {
   "cell_type": "markdown",
   "metadata": {},
   "source": [
    "## Linear SVM"
   ]
  },
  {
   "cell_type": "code",
   "execution_count": 330,
   "metadata": {},
   "outputs": [],
   "source": [
    "from sklearn.svm import LinearSVR"
   ]
  },
  {
   "cell_type": "code",
   "execution_count": 331,
   "metadata": {
    "scrolled": true
   },
   "outputs": [
    {
     "name": "stderr",
     "output_type": "stream",
     "text": [
      "[Parallel(n_jobs=1)]: Using backend SequentialBackend with 1 concurrent workers.\n"
     ]
    },
    {
     "name": "stdout",
     "output_type": "stream",
     "text": [
      "Fitting 3 folds for each of 40 candidates, totalling 120 fits\n"
     ]
    },
    {
     "name": "stderr",
     "output_type": "stream",
     "text": [
      "C:\\Users\\giaco\\anaconda3\\envs\\data_analysis\\lib\\site-packages\\sklearn\\svm\\_base.py:977: ConvergenceWarning:\n",
      "\n",
      "Liblinear failed to converge, increase the number of iterations.\n",
      "\n",
      "C:\\Users\\giaco\\anaconda3\\envs\\data_analysis\\lib\\site-packages\\sklearn\\svm\\_base.py:977: ConvergenceWarning:\n",
      "\n",
      "Liblinear failed to converge, increase the number of iterations.\n",
      "\n",
      "C:\\Users\\giaco\\anaconda3\\envs\\data_analysis\\lib\\site-packages\\sklearn\\svm\\_base.py:977: ConvergenceWarning:\n",
      "\n",
      "Liblinear failed to converge, increase the number of iterations.\n",
      "\n",
      "C:\\Users\\giaco\\anaconda3\\envs\\data_analysis\\lib\\site-packages\\sklearn\\svm\\_base.py:977: ConvergenceWarning:\n",
      "\n",
      "Liblinear failed to converge, increase the number of iterations.\n",
      "\n",
      "C:\\Users\\giaco\\anaconda3\\envs\\data_analysis\\lib\\site-packages\\sklearn\\svm\\_base.py:977: ConvergenceWarning:\n",
      "\n",
      "Liblinear failed to converge, increase the number of iterations.\n",
      "\n",
      "C:\\Users\\giaco\\anaconda3\\envs\\data_analysis\\lib\\site-packages\\sklearn\\svm\\_base.py:977: ConvergenceWarning:\n",
      "\n",
      "Liblinear failed to converge, increase the number of iterations.\n",
      "\n",
      "C:\\Users\\giaco\\anaconda3\\envs\\data_analysis\\lib\\site-packages\\sklearn\\svm\\_base.py:977: ConvergenceWarning:\n",
      "\n",
      "Liblinear failed to converge, increase the number of iterations.\n",
      "\n",
      "C:\\Users\\giaco\\anaconda3\\envs\\data_analysis\\lib\\site-packages\\sklearn\\svm\\_base.py:977: ConvergenceWarning:\n",
      "\n",
      "Liblinear failed to converge, increase the number of iterations.\n",
      "\n",
      "C:\\Users\\giaco\\anaconda3\\envs\\data_analysis\\lib\\site-packages\\sklearn\\svm\\_base.py:977: ConvergenceWarning:\n",
      "\n",
      "Liblinear failed to converge, increase the number of iterations.\n",
      "\n",
      "C:\\Users\\giaco\\anaconda3\\envs\\data_analysis\\lib\\site-packages\\sklearn\\svm\\_base.py:977: ConvergenceWarning:\n",
      "\n",
      "Liblinear failed to converge, increase the number of iterations.\n",
      "\n",
      "C:\\Users\\giaco\\anaconda3\\envs\\data_analysis\\lib\\site-packages\\sklearn\\svm\\_base.py:977: ConvergenceWarning:\n",
      "\n",
      "Liblinear failed to converge, increase the number of iterations.\n",
      "\n",
      "C:\\Users\\giaco\\anaconda3\\envs\\data_analysis\\lib\\site-packages\\sklearn\\svm\\_base.py:977: ConvergenceWarning:\n",
      "\n",
      "Liblinear failed to converge, increase the number of iterations.\n",
      "\n",
      "C:\\Users\\giaco\\anaconda3\\envs\\data_analysis\\lib\\site-packages\\sklearn\\svm\\_base.py:977: ConvergenceWarning:\n",
      "\n",
      "Liblinear failed to converge, increase the number of iterations.\n",
      "\n",
      "C:\\Users\\giaco\\anaconda3\\envs\\data_analysis\\lib\\site-packages\\sklearn\\svm\\_base.py:977: ConvergenceWarning:\n",
      "\n",
      "Liblinear failed to converge, increase the number of iterations.\n",
      "\n",
      "C:\\Users\\giaco\\anaconda3\\envs\\data_analysis\\lib\\site-packages\\sklearn\\svm\\_base.py:977: ConvergenceWarning:\n",
      "\n",
      "Liblinear failed to converge, increase the number of iterations.\n",
      "\n",
      "C:\\Users\\giaco\\anaconda3\\envs\\data_analysis\\lib\\site-packages\\sklearn\\svm\\_base.py:977: ConvergenceWarning:\n",
      "\n",
      "Liblinear failed to converge, increase the number of iterations.\n",
      "\n",
      "C:\\Users\\giaco\\anaconda3\\envs\\data_analysis\\lib\\site-packages\\sklearn\\svm\\_base.py:977: ConvergenceWarning:\n",
      "\n",
      "Liblinear failed to converge, increase the number of iterations.\n",
      "\n",
      "C:\\Users\\giaco\\anaconda3\\envs\\data_analysis\\lib\\site-packages\\sklearn\\svm\\_base.py:977: ConvergenceWarning:\n",
      "\n",
      "Liblinear failed to converge, increase the number of iterations.\n",
      "\n",
      "C:\\Users\\giaco\\anaconda3\\envs\\data_analysis\\lib\\site-packages\\sklearn\\svm\\_base.py:977: ConvergenceWarning:\n",
      "\n",
      "Liblinear failed to converge, increase the number of iterations.\n",
      "\n",
      "C:\\Users\\giaco\\anaconda3\\envs\\data_analysis\\lib\\site-packages\\sklearn\\svm\\_base.py:977: ConvergenceWarning:\n",
      "\n",
      "Liblinear failed to converge, increase the number of iterations.\n",
      "\n",
      "C:\\Users\\giaco\\anaconda3\\envs\\data_analysis\\lib\\site-packages\\sklearn\\svm\\_base.py:977: ConvergenceWarning:\n",
      "\n",
      "Liblinear failed to converge, increase the number of iterations.\n",
      "\n",
      "C:\\Users\\giaco\\anaconda3\\envs\\data_analysis\\lib\\site-packages\\sklearn\\svm\\_base.py:977: ConvergenceWarning:\n",
      "\n",
      "Liblinear failed to converge, increase the number of iterations.\n",
      "\n",
      "C:\\Users\\giaco\\anaconda3\\envs\\data_analysis\\lib\\site-packages\\sklearn\\svm\\_base.py:977: ConvergenceWarning:\n",
      "\n",
      "Liblinear failed to converge, increase the number of iterations.\n",
      "\n",
      "C:\\Users\\giaco\\anaconda3\\envs\\data_analysis\\lib\\site-packages\\sklearn\\svm\\_base.py:977: ConvergenceWarning:\n",
      "\n",
      "Liblinear failed to converge, increase the number of iterations.\n",
      "\n",
      "C:\\Users\\giaco\\anaconda3\\envs\\data_analysis\\lib\\site-packages\\sklearn\\svm\\_base.py:977: ConvergenceWarning:\n",
      "\n",
      "Liblinear failed to converge, increase the number of iterations.\n",
      "\n",
      "C:\\Users\\giaco\\anaconda3\\envs\\data_analysis\\lib\\site-packages\\sklearn\\svm\\_base.py:977: ConvergenceWarning:\n",
      "\n",
      "Liblinear failed to converge, increase the number of iterations.\n",
      "\n",
      "C:\\Users\\giaco\\anaconda3\\envs\\data_analysis\\lib\\site-packages\\sklearn\\svm\\_base.py:977: ConvergenceWarning:\n",
      "\n",
      "Liblinear failed to converge, increase the number of iterations.\n",
      "\n",
      "C:\\Users\\giaco\\anaconda3\\envs\\data_analysis\\lib\\site-packages\\sklearn\\svm\\_base.py:977: ConvergenceWarning:\n",
      "\n",
      "Liblinear failed to converge, increase the number of iterations.\n",
      "\n",
      "C:\\Users\\giaco\\anaconda3\\envs\\data_analysis\\lib\\site-packages\\sklearn\\svm\\_base.py:977: ConvergenceWarning:\n",
      "\n",
      "Liblinear failed to converge, increase the number of iterations.\n",
      "\n",
      "C:\\Users\\giaco\\anaconda3\\envs\\data_analysis\\lib\\site-packages\\sklearn\\svm\\_base.py:977: ConvergenceWarning:\n",
      "\n",
      "Liblinear failed to converge, increase the number of iterations.\n",
      "\n",
      "C:\\Users\\giaco\\anaconda3\\envs\\data_analysis\\lib\\site-packages\\sklearn\\svm\\_base.py:977: ConvergenceWarning:\n",
      "\n",
      "Liblinear failed to converge, increase the number of iterations.\n",
      "\n",
      "C:\\Users\\giaco\\anaconda3\\envs\\data_analysis\\lib\\site-packages\\sklearn\\svm\\_base.py:977: ConvergenceWarning:\n",
      "\n",
      "Liblinear failed to converge, increase the number of iterations.\n",
      "\n",
      "C:\\Users\\giaco\\anaconda3\\envs\\data_analysis\\lib\\site-packages\\sklearn\\svm\\_base.py:977: ConvergenceWarning:\n",
      "\n",
      "Liblinear failed to converge, increase the number of iterations.\n",
      "\n",
      "C:\\Users\\giaco\\anaconda3\\envs\\data_analysis\\lib\\site-packages\\sklearn\\svm\\_base.py:977: ConvergenceWarning:\n",
      "\n",
      "Liblinear failed to converge, increase the number of iterations.\n",
      "\n",
      "C:\\Users\\giaco\\anaconda3\\envs\\data_analysis\\lib\\site-packages\\sklearn\\svm\\_base.py:977: ConvergenceWarning:\n",
      "\n",
      "Liblinear failed to converge, increase the number of iterations.\n",
      "\n",
      "C:\\Users\\giaco\\anaconda3\\envs\\data_analysis\\lib\\site-packages\\sklearn\\svm\\_base.py:977: ConvergenceWarning:\n",
      "\n",
      "Liblinear failed to converge, increase the number of iterations.\n",
      "\n",
      "C:\\Users\\giaco\\anaconda3\\envs\\data_analysis\\lib\\site-packages\\sklearn\\svm\\_base.py:977: ConvergenceWarning:\n",
      "\n",
      "Liblinear failed to converge, increase the number of iterations.\n",
      "\n",
      "C:\\Users\\giaco\\anaconda3\\envs\\data_analysis\\lib\\site-packages\\sklearn\\svm\\_base.py:977: ConvergenceWarning:\n",
      "\n",
      "Liblinear failed to converge, increase the number of iterations.\n",
      "\n",
      "C:\\Users\\giaco\\anaconda3\\envs\\data_analysis\\lib\\site-packages\\sklearn\\svm\\_base.py:977: ConvergenceWarning:\n",
      "\n",
      "Liblinear failed to converge, increase the number of iterations.\n",
      "\n",
      "C:\\Users\\giaco\\anaconda3\\envs\\data_analysis\\lib\\site-packages\\sklearn\\svm\\_base.py:977: ConvergenceWarning:\n",
      "\n",
      "Liblinear failed to converge, increase the number of iterations.\n",
      "\n",
      "C:\\Users\\giaco\\anaconda3\\envs\\data_analysis\\lib\\site-packages\\sklearn\\svm\\_base.py:977: ConvergenceWarning:\n",
      "\n",
      "Liblinear failed to converge, increase the number of iterations.\n",
      "\n",
      "C:\\Users\\giaco\\anaconda3\\envs\\data_analysis\\lib\\site-packages\\sklearn\\svm\\_base.py:977: ConvergenceWarning:\n",
      "\n",
      "Liblinear failed to converge, increase the number of iterations.\n",
      "\n",
      "C:\\Users\\giaco\\anaconda3\\envs\\data_analysis\\lib\\site-packages\\sklearn\\svm\\_base.py:977: ConvergenceWarning:\n",
      "\n",
      "Liblinear failed to converge, increase the number of iterations.\n",
      "\n",
      "C:\\Users\\giaco\\anaconda3\\envs\\data_analysis\\lib\\site-packages\\sklearn\\svm\\_base.py:977: ConvergenceWarning:\n",
      "\n",
      "Liblinear failed to converge, increase the number of iterations.\n",
      "\n",
      "C:\\Users\\giaco\\anaconda3\\envs\\data_analysis\\lib\\site-packages\\sklearn\\svm\\_base.py:977: ConvergenceWarning:\n",
      "\n",
      "Liblinear failed to converge, increase the number of iterations.\n",
      "\n",
      "C:\\Users\\giaco\\anaconda3\\envs\\data_analysis\\lib\\site-packages\\sklearn\\svm\\_base.py:977: ConvergenceWarning:\n",
      "\n",
      "Liblinear failed to converge, increase the number of iterations.\n",
      "\n",
      "C:\\Users\\giaco\\anaconda3\\envs\\data_analysis\\lib\\site-packages\\sklearn\\svm\\_base.py:977: ConvergenceWarning:\n",
      "\n",
      "Liblinear failed to converge, increase the number of iterations.\n",
      "\n"
     ]
    },
    {
     "name": "stderr",
     "output_type": "stream",
     "text": [
      "C:\\Users\\giaco\\anaconda3\\envs\\data_analysis\\lib\\site-packages\\sklearn\\svm\\_base.py:977: ConvergenceWarning:\n",
      "\n",
      "Liblinear failed to converge, increase the number of iterations.\n",
      "\n",
      "C:\\Users\\giaco\\anaconda3\\envs\\data_analysis\\lib\\site-packages\\sklearn\\svm\\_base.py:977: ConvergenceWarning:\n",
      "\n",
      "Liblinear failed to converge, increase the number of iterations.\n",
      "\n",
      "C:\\Users\\giaco\\anaconda3\\envs\\data_analysis\\lib\\site-packages\\sklearn\\svm\\_base.py:977: ConvergenceWarning:\n",
      "\n",
      "Liblinear failed to converge, increase the number of iterations.\n",
      "\n",
      "C:\\Users\\giaco\\anaconda3\\envs\\data_analysis\\lib\\site-packages\\sklearn\\svm\\_base.py:977: ConvergenceWarning:\n",
      "\n",
      "Liblinear failed to converge, increase the number of iterations.\n",
      "\n",
      "C:\\Users\\giaco\\anaconda3\\envs\\data_analysis\\lib\\site-packages\\sklearn\\svm\\_base.py:977: ConvergenceWarning:\n",
      "\n",
      "Liblinear failed to converge, increase the number of iterations.\n",
      "\n",
      "C:\\Users\\giaco\\anaconda3\\envs\\data_analysis\\lib\\site-packages\\sklearn\\svm\\_base.py:977: ConvergenceWarning:\n",
      "\n",
      "Liblinear failed to converge, increase the number of iterations.\n",
      "\n",
      "[Parallel(n_jobs=1)]: Done 120 out of 120 | elapsed:   22.2s finished\n"
     ]
    },
    {
     "data": {
      "text/plain": [
       "GridSearchCV(cv=PredefinedSplit(test_fold=array([1, 2, ..., 0, 0])),\n",
       "             estimator=LinearSVR(max_iter=3000),\n",
       "             param_grid={'C': [0.001, 0.01, 0.1, 1, 10],\n",
       "                         'epsilon': [0, 0.001, 0.01, 1],\n",
       "                         'loss': ['epsilon_insensitive',\n",
       "                                  'squared_epsilon_insensitive']},\n",
       "             refit='neg_root_mean_squared_error', return_train_score=True,\n",
       "             scoring=['neg_root_mean_squared_error', 'r2'], verbose=1)"
      ]
     },
     "execution_count": 331,
     "metadata": {},
     "output_type": "execute_result"
    }
   ],
   "source": [
    "lin_svr = LinearSVR(max_iter=3000)\n",
    "\n",
    "param_grid = {\n",
    "    \"epsilon\": [0, 0.001, 0.01, 1],\n",
    "    \"C\": [0.001, 0.01, 0.1, 1, 10],\n",
    "    \"loss\": [\"epsilon_insensitive\", \"squared_epsilon_insensitive\"]\n",
    "    }\n",
    "\n",
    "srch_lin_svr = GridSearchCV(lin_svr, param_grid, cv=cv_split,\n",
    "                                  scoring=['neg_root_mean_squared_error', 'r2'], refit='neg_root_mean_squared_error',\n",
    "                                  return_train_score=True, verbose=1)\n",
    "\n",
    "srch_lin_svr.fit(dataset_prepared_stand, dataset_labels)"
   ]
  },
  {
   "cell_type": "code",
   "execution_count": 332,
   "metadata": {},
   "outputs": [
    {
     "name": "stdout",
     "output_type": "stream",
     "text": [
      "Best estimator: LinearSVR(C=0.01, epsilon=0, loss='squared_epsilon_insensitive', max_iter=3000)\n",
      "Best parameters: {'C': 0.01, 'epsilon': 0, 'loss': 'squared_epsilon_insensitive'}\n",
      "\n",
      "neg_root_mean_squared_error mean on test sets: -0.006736401257048795\n",
      "neg_root_mean_squared_error mean on train sets: -0.006587985922170483\n",
      "\n",
      "r2 mean on test sets: 0.37271751418337784\n",
      "r2 mean on train sets: 0.40730500769841704\n"
     ]
    }
   ],
   "source": [
    "get_grid_search_results(srch_lin_svr)"
   ]
  },
  {
   "cell_type": "code",
   "execution_count": 333,
   "metadata": {
    "scrolled": true
   },
   "outputs": [
    {
     "name": "stdout",
     "output_type": "stream",
     "text": [
      "Cross validation scores\n",
      "Cross-validation RMSE\n",
      "Scores: [0.0071523686 0.0062182116 0.0068435882]\n",
      "Mean: 0.00673805609903981\n",
      "Standard deviation: 0.0003886001266431794\n",
      "\n",
      "Cross-validation adjR2\n",
      "Scores: [0.3492011314 0.2888430082 0.431256272 ]\n",
      "Mean: 0.35643347053671093\n",
      "Standard deviation: 0.058364455372327304\n",
      "\n",
      "\n",
      "Scores on training set\n",
      "RMSE score: 0.0066132995885728315\n",
      "Adjusted R2 score: 0.4002422216384929\n"
     ]
    }
   ],
   "source": [
    "lin_svr = srch_lin_svr.best_estimator_\n",
    "test_regressor(lin_reg_sq, dataset_prepared_stand, dataset_labels)"
   ]
  },
  {
   "cell_type": "markdown",
   "metadata": {},
   "source": [
    "### Second iteration"
   ]
  },
  {
   "cell_type": "code",
   "execution_count": 334,
   "metadata": {},
   "outputs": [
    {
     "name": "stdout",
     "output_type": "stream",
     "text": [
      "Fitting 3 folds for each of 50 candidates, totalling 150 fits\n"
     ]
    },
    {
     "name": "stderr",
     "output_type": "stream",
     "text": [
      "[Parallel(n_jobs=1)]: Using backend SequentialBackend with 1 concurrent workers.\n",
      "[Parallel(n_jobs=1)]: Done 150 out of 150 | elapsed:    8.9s finished\n"
     ]
    },
    {
     "data": {
      "text/plain": [
       "RandomizedSearchCV(cv=PredefinedSplit(test_fold=array([1, 2, ..., 0, 0])),\n",
       "                   estimator=LinearSVR(C=0.01, epsilon=0,\n",
       "                                       loss='squared_epsilon_insensitive',\n",
       "                                       max_iter=3000),\n",
       "                   n_iter=50,\n",
       "                   param_distributions={'C': <scipy.stats._distn_infrastructure.rv_frozen object at 0x000001932C2A97C8>,\n",
       "                                        'epsilon': <scipy.stats._distn_infrastructure.rv_frozen object at 0x000001932C2DA2C8>,\n",
       "                                        'loss': ['squared_epsilon_insensitive']},\n",
       "                   refit='neg_root_mean_squared_error', return_train_score=True,\n",
       "                   scoring=['neg_root_mean_squared_error', 'r2'], verbose=1)"
      ]
     },
     "execution_count": 334,
     "metadata": {},
     "output_type": "execute_result"
    }
   ],
   "source": [
    "param_grid = {\n",
    "    \"epsilon\": expon(scale=0),\n",
    "    \"C\": expon(scale=0.1),\n",
    "    \"loss\": [\"squared_epsilon_insensitive\"]\n",
    "    }\n",
    "\n",
    "srch_lin_svr_2 = RandomizedSearchCV(lin_svr, param_grid, cv=cv_split, n_iter=50,\n",
    "                                  scoring=['neg_root_mean_squared_error', 'r2'], refit='neg_root_mean_squared_error',\n",
    "                                  return_train_score=True, verbose=1)\n",
    "\n",
    "srch_lin_svr_2.fit(dataset_prepared_stand, dataset_labels)"
   ]
  },
  {
   "cell_type": "code",
   "execution_count": 335,
   "metadata": {},
   "outputs": [
    {
     "name": "stdout",
     "output_type": "stream",
     "text": [
      "Cross validation scores\n",
      "Cross-validation RMSE\n",
      "Scores: [0.0071596188 0.0062368827 0.0068515078]\n",
      "Mean: 0.006749336444547618\n",
      "Standard deviation: 0.0003835706955308113\n",
      "\n",
      "Cross-validation adjR2\n",
      "Scores: [0.3478810461 0.2845658732 0.429939179 ]\n",
      "Mean: 0.3541286994207972\n",
      "Standard deviation: 0.05951260030185549\n",
      "\n",
      "\n",
      "Scores on training set\n",
      "RMSE score: 0.006613492543974073\n",
      "Adjusted R2 score: 0.4002072230150402\n"
     ]
    }
   ],
   "source": [
    "lin_svr = srch_lin_svr.best_estimator_\n",
    "test_regressor(lin_reg_sq, dataset_prepared_stand, dataset_labels, 'Linear SVM')"
   ]
  },
  {
   "cell_type": "markdown",
   "metadata": {},
   "source": [
    "## Linear SVM with squared cumulative adoption"
   ]
  },
  {
   "cell_type": "code",
   "execution_count": 336,
   "metadata": {},
   "outputs": [
    {
     "name": "stderr",
     "output_type": "stream",
     "text": [
      "[Parallel(n_jobs=1)]: Using backend SequentialBackend with 1 concurrent workers.\n"
     ]
    },
    {
     "name": "stdout",
     "output_type": "stream",
     "text": [
      "Fitting 3 folds for each of 50 candidates, totalling 150 fits\n"
     ]
    },
    {
     "name": "stderr",
     "output_type": "stream",
     "text": [
      "[Parallel(n_jobs=1)]: Done 150 out of 150 | elapsed:   11.5s finished\n"
     ]
    },
    {
     "data": {
      "text/plain": [
       "RandomizedSearchCV(cv=PredefinedSplit(test_fold=array([1, 2, ..., 0, 0])),\n",
       "                   estimator=LinearSVR(C=0.01, epsilon=0,\n",
       "                                       loss='squared_epsilon_insensitive',\n",
       "                                       max_iter=3000),\n",
       "                   n_iter=50,\n",
       "                   param_distributions={'C': <scipy.stats._distn_infrastructure.rv_frozen object at 0x000001932C272148>,\n",
       "                                        'epsilon': <scipy.stats._distn_infrastructure.rv_frozen object at 0x000001932C2B5108>,\n",
       "                                        'loss': ['squared_epsilon_insensitive']},\n",
       "                   refit='neg_root_mean_squared_error', return_train_score=True,\n",
       "                   scoring=['neg_root_mean_squared_error', 'r2'], verbose=1)"
      ]
     },
     "execution_count": 336,
     "metadata": {},
     "output_type": "execute_result"
    }
   ],
   "source": [
    "param_grid = {\n",
    "    \"epsilon\": expon(scale=0),\n",
    "    \"C\": expon(scale=0.1),\n",
    "    \"loss\": [\"squared_epsilon_insensitive\"]\n",
    "    }\n",
    "\n",
    "srch_lin_svr_sq_2 = RandomizedSearchCV(lin_svr, param_grid, cv=cv_split, n_iter=50,\n",
    "                                  scoring=['neg_root_mean_squared_error', 'r2'], refit='neg_root_mean_squared_error',\n",
    "                                  return_train_score=True, verbose=1)\n",
    "\n",
    "srch_lin_svr_sq_2.fit(dataset_stand_sq_cum_ad, dataset_labels)"
   ]
  },
  {
   "cell_type": "code",
   "execution_count": 337,
   "metadata": {},
   "outputs": [
    {
     "name": "stdout",
     "output_type": "stream",
     "text": [
      "Best estimator: LinearSVR(C=0.10160375227044234, loss='squared_epsilon_insensitive',\n",
      "          max_iter=3000)\n",
      "Best parameters: {'C': 0.10160375227044234, 'epsilon': 0.0, 'loss': 'squared_epsilon_insensitive'}\n",
      "\n",
      "neg_root_mean_squared_error mean on test sets: -0.0066478907770079025\n",
      "neg_root_mean_squared_error mean on train sets: -0.0064209755137952995\n",
      "\n",
      "r2 mean on test sets: 0.39097892454764377\n",
      "r2 mean on train sets: 0.43764032968928607\n"
     ]
    }
   ],
   "source": [
    "get_grid_search_results(srch_lin_svr_sq_2)"
   ]
  },
  {
   "cell_type": "code",
   "execution_count": 338,
   "metadata": {},
   "outputs": [
    {
     "name": "stdout",
     "output_type": "stream",
     "text": [
      "Cross validation scores\n",
      "Cross-validation RMSE\n",
      "Scores: [0.0071252287 0.0059629713 0.0068568384]\n",
      "Mean: 0.0066483461468028705\n",
      "Standard deviation: 0.0004968650349574662\n",
      "\n",
      "Cross-validation adjR2\n",
      "Scores: [0.3533203372 0.3452062709 0.4283354185]\n",
      "Mean: 0.3756206755392768\n",
      "Standard deviation: 0.0374218529142985\n",
      "\n",
      "\n",
      "Scores on training set\n",
      "RMSE score: 0.006467180178727934\n",
      "Adjusted R2 score: 0.4262167297157682\n"
     ]
    }
   ],
   "source": [
    "lin_svr_sq = srch_lin_svr_sq_2.best_estimator_\n",
    "name = \"Linear SVM + cum_ad_sq\"\n",
    "test_regressor(lin_svr_sq, dataset_stand_sq_cum_ad, dataset_labels, name)"
   ]
  },
  {
   "cell_type": "markdown",
   "metadata": {},
   "source": [
    "## Non-linear SVM"
   ]
  },
  {
   "cell_type": "code",
   "execution_count": 65,
   "metadata": {},
   "outputs": [],
   "source": [
    "from sklearn.svm import SVR"
   ]
  },
  {
   "cell_type": "raw",
   "metadata": {
    "scrolled": true
   },
   "source": [
    "nl_svr = SVR()\n",
    "test_model(nl_svr, None, dataset_prepared_stand)"
   ]
  },
  {
   "cell_type": "markdown",
   "metadata": {},
   "source": [
    "### GridSearchCV"
   ]
  },
  {
   "cell_type": "code",
   "execution_count": 340,
   "metadata": {},
   "outputs": [],
   "source": [
    "from sklearn.model_selection import KFold"
   ]
  },
  {
   "cell_type": "code",
   "execution_count": 341,
   "metadata": {},
   "outputs": [
    {
     "name": "stdout",
     "output_type": "stream",
     "text": [
      "Fitting 3 folds for each of 96 candidates, totalling 288 fits\n"
     ]
    },
    {
     "name": "stderr",
     "output_type": "stream",
     "text": [
      "[Parallel(n_jobs=1)]: Using backend SequentialBackend with 1 concurrent workers.\n",
      "[Parallel(n_jobs=1)]: Done 288 out of 288 | elapsed:  1.2min finished\n"
     ]
    },
    {
     "data": {
      "text/plain": [
       "GridSearchCV(cv=PredefinedSplit(test_fold=array([1, 2, ..., 0, 0])),\n",
       "             estimator=SVR(),\n",
       "             param_grid={'C': [0.001, 0.01, 0.1, 1], 'degree': [2, 3],\n",
       "                         'epsilon': [0.0001, 0.001, 0.1],\n",
       "                         'gamma': [0.001, 0.01, 0.1, 1]},\n",
       "             refit='neg_root_mean_squared_error', return_train_score=True,\n",
       "             scoring=['neg_root_mean_squared_error', 'r2'], verbose=1)"
      ]
     },
     "execution_count": 341,
     "metadata": {},
     "output_type": "execute_result"
    }
   ],
   "source": [
    "nl_svr = SVR()\n",
    "\n",
    "param_grid = {\n",
    "    \"degree\": [2, 3],\n",
    "    \"epsilon\": [0.0001, 0.001, 0.1],\n",
    "    \"C\": [0.001, 0.01, 0.1, 1],\n",
    "    \"gamma\": [0.001, 0.01, 0.1, 1],\n",
    "    }\n",
    " \n",
    "srch_nl_svr = GridSearchCV(nl_svr, param_grid, cv=cv_split,\n",
    "                                  scoring=['neg_root_mean_squared_error', 'r2'], refit='neg_root_mean_squared_error',\n",
    "                                  return_train_score=True, verbose=1)\n",
    "\n",
    "srch_nl_svr.fit(dataset_prepared_stand, dataset_labels)"
   ]
  },
  {
   "cell_type": "code",
   "execution_count": 342,
   "metadata": {},
   "outputs": [
    {
     "name": "stdout",
     "output_type": "stream",
     "text": [
      "Best estimator: SVR(C=1, degree=2, epsilon=0.001, gamma=0.01)\n",
      "Best parameters: {'C': 1, 'degree': 2, 'epsilon': 0.001, 'gamma': 0.01}\n",
      "\n",
      "neg_root_mean_squared_error mean on test sets: -0.0056910120874215\n",
      "neg_root_mean_squared_error mean on train sets: -0.004719128205937342\n",
      "\n",
      "r2 mean on test sets: 0.5512812642694466\n",
      "r2 mean on train sets: 0.6939638613744711\n"
     ]
    }
   ],
   "source": [
    "get_grid_search_results(srch_nl_svr)"
   ]
  },
  {
   "cell_type": "code",
   "execution_count": 343,
   "metadata": {},
   "outputs": [
    {
     "name": "stdout",
     "output_type": "stream",
     "text": [
      "Cross validation scores\n",
      "Cross-validation RMSE\n",
      "Scores: [0.0063525623 0.0051535598 0.0055669141]\n",
      "Mean: 0.0056910120874215\n",
      "Standard deviation: 0.0004972940046909038\n",
      "\n",
      "Cross-validation adjR2\n",
      "Scores: [0.4866129737 0.5115173542 0.6236621267]\n",
      "Mean: 0.5405974848472906\n",
      "Standard deviation: 0.05960904900374783\n",
      "\n",
      "\n",
      "Scores on training set\n",
      "RMSE score: 0.004900065456856112\n",
      "Adjusted R2 score: 0.6707367519618634\n"
     ]
    }
   ],
   "source": [
    "best_nl_svr = srch_nl_svr.best_estimator_\n",
    "test_regressor(best_nl_svr, dataset_prepared_stand, dataset_labels)"
   ]
  },
  {
   "cell_type": "markdown",
   "metadata": {},
   "source": [
    "### Second iteration"
   ]
  },
  {
   "cell_type": "code",
   "execution_count": 344,
   "metadata": {},
   "outputs": [
    {
     "name": "stdout",
     "output_type": "stream",
     "text": [
      "Fitting 3 folds for each of 300 candidates, totalling 900 fits\n"
     ]
    },
    {
     "name": "stderr",
     "output_type": "stream",
     "text": [
      "[Parallel(n_jobs=1)]: Using backend SequentialBackend with 1 concurrent workers.\n",
      "[Parallel(n_jobs=1)]: Done 900 out of 900 | elapsed:  3.6min finished\n"
     ]
    },
    {
     "data": {
      "text/plain": [
       "RandomizedSearchCV(cv=PredefinedSplit(test_fold=array([1, 2, ..., 0, 0])),\n",
       "                   estimator=SVR(), n_iter=300,\n",
       "                   param_distributions={'C': <scipy.stats._distn_infrastructure.rv_frozen object at 0x000001932D4AE7C8>,\n",
       "                                        'degree': [2],\n",
       "                                        'epsilon': <scipy.stats._distn_infrastructure.rv_frozen object at 0x000001932C266E08>,\n",
       "                                        'gamma': <scipy.stats._distn_infrastructure.rv_frozen object at 0x000001932D4AED88>},\n",
       "                   refit='neg_root_mean_squared_error', return_train_score=True,\n",
       "                   scoring=['neg_root_mean_squared_error', 'r2'], verbose=1)"
      ]
     },
     "execution_count": 344,
     "metadata": {},
     "output_type": "execute_result"
    }
   ],
   "source": [
    "nl_svr = SVR()\n",
    "\n",
    "param_grid = {\n",
    "    \"degree\": [2],\n",
    "    \"epsilon\": expon(scale = 0.001),\n",
    "    \"C\": expon(scale = 0.1),\n",
    "    \"gamma\": expon(scale=0.01)\n",
    "    }\n",
    "\n",
    "srch_nl_svr_2 = RandomizedSearchCV(nl_svr, param_grid, cv=cv_split, n_iter=300,\n",
    "                                  scoring=['neg_root_mean_squared_error', 'r2'], refit='neg_root_mean_squared_error',\n",
    "                                  return_train_score=True, verbose=1)\n",
    "\n",
    "srch_nl_svr_2.fit(dataset_prepared_stand, dataset_labels)"
   ]
  },
  {
   "cell_type": "code",
   "execution_count": 345,
   "metadata": {},
   "outputs": [
    {
     "name": "stdout",
     "output_type": "stream",
     "text": [
      "Best estimator: SVR(C=0.21924317209888344, degree=2, epsilon=0.001498693203906527,\n",
      "    gamma=0.015252733393976271)\n",
      "Best parameters: {'C': 0.21924317209888344, 'degree': 2, 'epsilon': 0.001498693203906527, 'gamma': 0.015252733393976271}\n",
      "\n",
      "neg_root_mean_squared_error mean on test sets: -0.005536364225129563\n",
      "neg_root_mean_squared_error mean on train sets: -0.00483302225734271\n",
      "\n",
      "r2 mean on test sets: 0.574020889324564\n",
      "r2 mean on train sets: 0.6796019941457532\n"
     ]
    }
   ],
   "source": [
    "get_grid_search_results(srch_nl_svr_2)"
   ]
  },
  {
   "cell_type": "code",
   "execution_count": 346,
   "metadata": {},
   "outputs": [
    {
     "name": "stdout",
     "output_type": "stream",
     "text": [
      "Cross validation scores\n",
      "Cross-validation RMSE\n",
      "Scores: [0.0062519135 0.0050505094 0.0053066698]\n",
      "Mean: 0.005536364225129563\n",
      "Standard deviation: 0.0005166640691573812\n",
      "\n",
      "Cross-validation adjR2\n",
      "Scores: [0.5027521162 0.5308574126 0.6580260598]\n",
      "Mean: 0.5638785295465775\n",
      "Standard deviation: 0.06755390447879593\n",
      "\n",
      "\n",
      "Scores on training set\n",
      "RMSE score: 0.004971471481087549\n",
      "Adjusted R2 score: 0.6610704774869071\n"
     ]
    }
   ],
   "source": [
    "best_nl_svr = srch_nl_svr_2.best_estimator_\n",
    "test_regressor(best_nl_svr, dataset_prepared_stand, dataset_labels)"
   ]
  },
  {
   "cell_type": "markdown",
   "metadata": {},
   "source": [
    "### Third iteration"
   ]
  },
  {
   "cell_type": "code",
   "execution_count": 347,
   "metadata": {},
   "outputs": [
    {
     "name": "stdout",
     "output_type": "stream",
     "text": [
      "Best estimator: SVR(C=1, degree=2, epsilon=0.001, gamma=0.01)\n",
      "Best parameters: {'C': 1, 'degree': 2, 'epsilon': 0.001, 'gamma': 0.01}\n",
      "\n",
      "neg_root_mean_squared_error mean on test sets: -0.0056910120874215\n",
      "neg_root_mean_squared_error mean on train sets: -0.004719128205937342\n",
      "\n",
      "r2 mean on test sets: 0.5512812642694466\n",
      "r2 mean on train sets: 0.6939638613744711\n",
      "\n",
      "Best estimator: SVR(C=0.21924317209888344, degree=2, epsilon=0.001498693203906527,\n",
      "    gamma=0.015252733393976271)\n",
      "Best parameters: {'C': 0.21924317209888344, 'degree': 2, 'epsilon': 0.001498693203906527, 'gamma': 0.015252733393976271}\n",
      "\n",
      "neg_root_mean_squared_error mean on test sets: -0.005536364225129563\n",
      "neg_root_mean_squared_error mean on train sets: -0.00483302225734271\n",
      "\n",
      "r2 mean on test sets: 0.574020889324564\n",
      "r2 mean on train sets: 0.6796019941457532\n"
     ]
    }
   ],
   "source": [
    "get_grid_search_results(srch_nl_svr)\n",
    "print(\"\")\n",
    "get_grid_search_results(srch_nl_svr_2)"
   ]
  },
  {
   "cell_type": "code",
   "execution_count": 348,
   "metadata": {},
   "outputs": [
    {
     "name": "stdout",
     "output_type": "stream",
     "text": [
      "Fitting 3 folds for each of 500 candidates, totalling 1500 fits\n"
     ]
    },
    {
     "name": "stderr",
     "output_type": "stream",
     "text": [
      "[Parallel(n_jobs=1)]: Using backend SequentialBackend with 1 concurrent workers.\n",
      "[Parallel(n_jobs=1)]: Done 1500 out of 1500 | elapsed:  5.7min finished\n"
     ]
    },
    {
     "data": {
      "text/plain": [
       "RandomizedSearchCV(cv=PredefinedSplit(test_fold=array([1, 2, ..., 0, 0])),\n",
       "                   estimator=SVR(), n_iter=500,\n",
       "                   param_distributions={'C': <scipy.stats._distn_infrastructure.rv_frozen object at 0x000001932D3FAA88>,\n",
       "                                        'degree': [2],\n",
       "                                        'epsilon': <scipy.stats._distn_infrastructure.rv_frozen object at 0x000001932D3FAD08>,\n",
       "                                        'gamma': <scipy.stats._distn_infrastructure.rv_frozen object at 0x0000019328D2B448>},\n",
       "                   refit='neg_root_mean_squared_error', return_train_score=True,\n",
       "                   scoring=['neg_root_mean_squared_error', 'r2'], verbose=1)"
      ]
     },
     "execution_count": 348,
     "metadata": {},
     "output_type": "execute_result"
    }
   ],
   "source": [
    "from sklearn.svm import SVR\n",
    "nl_svr = SVR()\n",
    "\n",
    "param_grid = {\n",
    "    \"degree\": [2],\n",
    "    \"epsilon\": expon(scale = 0.0017),\n",
    "    \"C\": expon(scale = 0.26),\n",
    "    \"gamma\": expon(scale=0.004)\n",
    "    }\n",
    " \n",
    "srch_nl_svr_3 = RandomizedSearchCV(nl_svr, param_grid, cv=cv_split, n_iter=500,\n",
    "                                  scoring=['neg_root_mean_squared_error', 'r2'], refit='neg_root_mean_squared_error',\n",
    "                                  return_train_score=True, verbose=1)\n",
    "srch_nl_svr_3.fit(dataset_prepared_stand, dataset_labels)"
   ]
  },
  {
   "cell_type": "code",
   "execution_count": 349,
   "metadata": {},
   "outputs": [
    {
     "name": "stdout",
     "output_type": "stream",
     "text": [
      "Best estimator: SVR(C=0.2275294164785715, degree=2, epsilon=0.001444560800690858,\n",
      "    gamma=0.013923995341641831)\n",
      "Best parameters: {'C': 0.2275294164785715, 'degree': 2, 'epsilon': 0.001444560800690858, 'gamma': 0.013923995341641831}\n",
      "\n",
      "neg_root_mean_squared_error mean on test sets: -0.005533716980725312\n",
      "neg_root_mean_squared_error mean on train sets: -0.004886283421268075\n",
      "\n",
      "r2 mean on test sets: 0.5748707867412087\n",
      "r2 mean on train sets: 0.672644591297317\n"
     ]
    }
   ],
   "source": [
    "get_grid_search_results(srch_nl_svr_3)"
   ]
  },
  {
   "cell_type": "code",
   "execution_count": 350,
   "metadata": {},
   "outputs": [
    {
     "name": "stdout",
     "output_type": "stream",
     "text": [
      "Cross validation scores\n",
      "Cross-validation RMSE\n",
      "Scores: [0.006247487  0.0050246403 0.0053290236]\n",
      "Mean: 0.005533716980725312\n",
      "Standard deviation: 0.0005197839758248799\n",
      "\n",
      "Cross-validation adjR2\n",
      "Scores: [0.5034559909 0.5356510686 0.6551389284]\n",
      "Mean: 0.5647486626159993\n",
      "Standard deviation: 0.0652529992354464\n",
      "\n",
      "\n",
      "Scores on training set\n",
      "RMSE score: 0.005022492936261565\n",
      "Adjusted R2 score: 0.6540780151688497\n"
     ]
    }
   ],
   "source": [
    "best_nl_svr = srch_nl_svr_3.best_estimator_\n",
    "name = \"Non-linear SVM\"\n",
    "test_regressor(best_nl_svr, dataset_prepared_stand, dataset_labels, name)"
   ]
  },
  {
   "cell_type": "raw",
   "metadata": {},
   "source": [
    "plot_validation_curves(best_nl_svr, \"C\", np.arange(0.01, 0.15, 0.01), 'neg_root_mean_squared_error',\n",
    "                       dataset_prepared_stand, dataset_labels)"
   ]
  },
  {
   "cell_type": "markdown",
   "metadata": {},
   "source": [
    "# Models summary"
   ]
  },
  {
   "cell_type": "code",
   "execution_count": 351,
   "metadata": {
    "scrolled": true
   },
   "outputs": [
    {
     "data": {
      "text/plain": [
       "count   2454.000000\n",
       "mean       0.004660\n",
       "std        0.008574\n",
       "min        0.000009\n",
       "25%        0.000861\n",
       "50%        0.002011\n",
       "75%        0.004810\n",
       "max        0.100604\n",
       "Name: adoption_in_year, dtype: float64"
      ]
     },
     "execution_count": 351,
     "metadata": {},
     "output_type": "execute_result"
    }
   ],
   "source": [
    "dataset_labels.describe()"
   ]
  },
  {
   "cell_type": "code",
   "execution_count": 354,
   "metadata": {},
   "outputs": [
    {
     "data": {
      "text/html": [
       "<div>\n",
       "<style scoped>\n",
       "    .dataframe tbody tr th:only-of-type {\n",
       "        vertical-align: middle;\n",
       "    }\n",
       "\n",
       "    .dataframe tbody tr th {\n",
       "        vertical-align: top;\n",
       "    }\n",
       "\n",
       "    .dataframe thead th {\n",
       "        text-align: right;\n",
       "    }\n",
       "</style>\n",
       "<table border=\"1\" class=\"dataframe\">\n",
       "  <thead>\n",
       "    <tr style=\"text-align: right;\">\n",
       "      <th></th>\n",
       "      <th>cv RMSE_mean</th>\n",
       "      <th>cv RMSE std</th>\n",
       "      <th>cv adjR2 mean</th>\n",
       "      <th>cv adjR2 std</th>\n",
       "      <th>train set RMSE</th>\n",
       "      <th>train set adjR2</th>\n",
       "    </tr>\n",
       "  </thead>\n",
       "  <tbody>\n",
       "    <tr>\n",
       "      <th>Linear Regression</th>\n",
       "      <td>0.006734</td>\n",
       "      <td>0.000407</td>\n",
       "      <td>0.357783</td>\n",
       "      <td>0.054191</td>\n",
       "      <td>0.006615</td>\n",
       "      <td>0.399877</td>\n",
       "    </tr>\n",
       "    <tr>\n",
       "      <th>Linear regression + cum_ad_sq</th>\n",
       "      <td>0.006634</td>\n",
       "      <td>0.000500</td>\n",
       "      <td>0.378306</td>\n",
       "      <td>0.037747</td>\n",
       "      <td>0.006481</td>\n",
       "      <td>0.423827</td>\n",
       "    </tr>\n",
       "    <tr>\n",
       "      <th>Polynomial Regression</th>\n",
       "      <td>81863123.882459</td>\n",
       "      <td>58026464.654132</td>\n",
       "      <td>-208598375864446615552.000000</td>\n",
       "      <td>161645120758790520832.000000</td>\n",
       "      <td>74404583.375064</td>\n",
       "      <td>-82344878803051216896.000000</td>\n",
       "    </tr>\n",
       "    <tr>\n",
       "      <th>Linear SVM</th>\n",
       "      <td>0.006749</td>\n",
       "      <td>0.000384</td>\n",
       "      <td>0.354129</td>\n",
       "      <td>0.059513</td>\n",
       "      <td>0.006613</td>\n",
       "      <td>0.400207</td>\n",
       "    </tr>\n",
       "    <tr>\n",
       "      <th>Linear SVM + cum_ad_sq</th>\n",
       "      <td>0.006648</td>\n",
       "      <td>0.000497</td>\n",
       "      <td>0.375621</td>\n",
       "      <td>0.037422</td>\n",
       "      <td>0.006467</td>\n",
       "      <td>0.426217</td>\n",
       "    </tr>\n",
       "    <tr>\n",
       "      <th>Non-linear SVM</th>\n",
       "      <td>0.005534</td>\n",
       "      <td>0.000520</td>\n",
       "      <td>0.564749</td>\n",
       "      <td>0.065253</td>\n",
       "      <td>0.005022</td>\n",
       "      <td>0.654078</td>\n",
       "    </tr>\n",
       "  </tbody>\n",
       "</table>\n",
       "</div>"
      ],
      "text/plain": [
       "                                 cv RMSE_mean     cv RMSE std  \\\n",
       "Linear Regression                    0.006734        0.000407   \n",
       "Linear regression + cum_ad_sq        0.006634        0.000500   \n",
       "Polynomial Regression         81863123.882459 58026464.654132   \n",
       "Linear SVM                           0.006749        0.000384   \n",
       "Linear SVM + cum_ad_sq               0.006648        0.000497   \n",
       "Non-linear SVM                       0.005534        0.000520   \n",
       "\n",
       "                                              cv adjR2 mean  \\\n",
       "Linear Regression                                  0.357783   \n",
       "Linear regression + cum_ad_sq                      0.378306   \n",
       "Polynomial Regression         -208598375864446615552.000000   \n",
       "Linear SVM                                         0.354129   \n",
       "Linear SVM + cum_ad_sq                             0.375621   \n",
       "Non-linear SVM                                     0.564749   \n",
       "\n",
       "                                              cv adjR2 std  train set RMSE  \\\n",
       "Linear Regression                                 0.054191        0.006615   \n",
       "Linear regression + cum_ad_sq                     0.037747        0.006481   \n",
       "Polynomial Regression         161645120758790520832.000000 74404583.375064   \n",
       "Linear SVM                                        0.059513        0.006613   \n",
       "Linear SVM + cum_ad_sq                            0.037422        0.006467   \n",
       "Non-linear SVM                                    0.065253        0.005022   \n",
       "\n",
       "                                           train set adjR2  \n",
       "Linear Regression                                 0.399877  \n",
       "Linear regression + cum_ad_sq                     0.423827  \n",
       "Polynomial Regression         -82344878803051216896.000000  \n",
       "Linear SVM                                        0.400207  \n",
       "Linear SVM + cum_ad_sq                            0.426217  \n",
       "Non-linear SVM                                    0.654078  "
      ]
     },
     "execution_count": 354,
     "metadata": {},
     "output_type": "execute_result"
    }
   ],
   "source": [
    "models_results"
   ]
  },
  {
   "cell_type": "code",
   "execution_count": 355,
   "metadata": {
    "scrolled": true
   },
   "outputs": [
    {
     "data": {
      "text/html": [
       "<div>\n",
       "<style scoped>\n",
       "    .dataframe tbody tr th:only-of-type {\n",
       "        vertical-align: middle;\n",
       "    }\n",
       "\n",
       "    .dataframe tbody tr th {\n",
       "        vertical-align: top;\n",
       "    }\n",
       "\n",
       "    .dataframe thead th {\n",
       "        text-align: right;\n",
       "    }\n",
       "</style>\n",
       "<table border=\"1\" class=\"dataframe\">\n",
       "  <thead>\n",
       "    <tr style=\"text-align: right;\">\n",
       "      <th></th>\n",
       "      <th>cv RMSE_mean</th>\n",
       "      <th>cv adjR2 mean</th>\n",
       "      <th>train set RMSE</th>\n",
       "      <th>train set adjR2</th>\n",
       "    </tr>\n",
       "  </thead>\n",
       "  <tbody>\n",
       "    <tr>\n",
       "      <th>Linear Regression</th>\n",
       "      <td>0.006734</td>\n",
       "      <td>0.357783</td>\n",
       "      <td>0.006615</td>\n",
       "      <td>0.399877</td>\n",
       "    </tr>\n",
       "    <tr>\n",
       "      <th>Linear regression + cum_ad_sq</th>\n",
       "      <td>0.006634</td>\n",
       "      <td>0.378306</td>\n",
       "      <td>0.006481</td>\n",
       "      <td>0.423827</td>\n",
       "    </tr>\n",
       "    <tr>\n",
       "      <th>Polynomial Regression</th>\n",
       "      <td>81863123.882459</td>\n",
       "      <td>-208598375864446615552.000000</td>\n",
       "      <td>74404583.375064</td>\n",
       "      <td>-82344878803051216896.000000</td>\n",
       "    </tr>\n",
       "    <tr>\n",
       "      <th>Linear SVM</th>\n",
       "      <td>0.006749</td>\n",
       "      <td>0.354129</td>\n",
       "      <td>0.006613</td>\n",
       "      <td>0.400207</td>\n",
       "    </tr>\n",
       "    <tr>\n",
       "      <th>Linear SVM + cum_ad_sq</th>\n",
       "      <td>0.006648</td>\n",
       "      <td>0.375621</td>\n",
       "      <td>0.006467</td>\n",
       "      <td>0.426217</td>\n",
       "    </tr>\n",
       "    <tr>\n",
       "      <th>Non-linear SVM</th>\n",
       "      <td>0.005534</td>\n",
       "      <td>0.564749</td>\n",
       "      <td>0.005022</td>\n",
       "      <td>0.654078</td>\n",
       "    </tr>\n",
       "  </tbody>\n",
       "</table>\n",
       "</div>"
      ],
      "text/plain": [
       "                                 cv RMSE_mean                 cv adjR2 mean  \\\n",
       "Linear Regression                    0.006734                      0.357783   \n",
       "Linear regression + cum_ad_sq        0.006634                      0.378306   \n",
       "Polynomial Regression         81863123.882459 -208598375864446615552.000000   \n",
       "Linear SVM                           0.006749                      0.354129   \n",
       "Linear SVM + cum_ad_sq               0.006648                      0.375621   \n",
       "Non-linear SVM                       0.005534                      0.564749   \n",
       "\n",
       "                               train set RMSE              train set adjR2  \n",
       "Linear Regression                    0.006615                     0.399877  \n",
       "Linear regression + cum_ad_sq        0.006481                     0.423827  \n",
       "Polynomial Regression         74404583.375064 -82344878803051216896.000000  \n",
       "Linear SVM                           0.006613                     0.400207  \n",
       "Linear SVM + cum_ad_sq               0.006467                     0.426217  \n",
       "Non-linear SVM                       0.005022                     0.654078  "
      ]
     },
     "execution_count": 355,
     "metadata": {},
     "output_type": "execute_result"
    }
   ],
   "source": [
    "models_results[['cv RMSE_mean', 'cv adjR2 mean', 'train set RMSE', 'train set adjR2']]"
   ]
  },
  {
   "cell_type": "markdown",
   "metadata": {},
   "source": [
    "# Final models tuning and training\n",
    "Using the Optuna library for Bayesian Optimization"
   ]
  },
  {
   "cell_type": "code",
   "execution_count": 65,
   "metadata": {},
   "outputs": [],
   "source": [
    "from sklearn.model_selection import cross_val_score \n",
    "import optuna \n",
    "from optuna.samplers import TPESampler"
   ]
  },
  {
   "cell_type": "code",
   "execution_count": 66,
   "metadata": {},
   "outputs": [],
   "source": [
    "from sklearn.svm import SVR"
   ]
  },
  {
   "cell_type": "code",
   "execution_count": 69,
   "metadata": {},
   "outputs": [],
   "source": [
    "X = dataset_prepared_stand\n",
    "\n",
    "def objective(trial):\n",
    "    # Define the search space\n",
    "    kernel = trial.suggest_categorical('kernel', ['rbf', 'poly'])\n",
    "    C = trial.suggest_loguniform('C', 0.01, 10)\n",
    "    gamma = trial.suggest_loguniform('gamma', 0.001, 1)\n",
    "    epsilon = trial.suggest_loguniform('epsilon', 0.001, 1)\n",
    "\n",
    "    reg = SVR(degree=2,\n",
    "              kernel=kernel,\n",
    "              C=C,\n",
    "              gamma=gamma,\n",
    "              epsilon=epsilon)\n",
    "    score = cross_val_score(reg, X, dataset_labels, scoring='neg_root_mean_squared_error',\n",
    "                            cv=cv_split).mean()\n",
    "\n",
    "    return score"
   ]
  },
  {
   "cell_type": "code",
   "execution_count": 70,
   "metadata": {},
   "outputs": [
    {
     "name": "stderr",
     "output_type": "stream",
     "text": [
      "\u001b[32m[I 2021-06-25 13:54:28,596]\u001b[0m A new study created in memory with name: nl_svr_optimization_all\u001b[0m\n"
     ]
    }
   ],
   "source": [
    "study_nl_svm_all = optuna.create_study(study_name=\"nl_svr_optimization_all\",\n",
    "                                        direction=\"maximize\",\n",
    "                                        sampler=TPESampler())"
   ]
  },
  {
   "cell_type": "code",
   "execution_count": 71,
   "metadata": {
    "scrolled": true
   },
   "outputs": [
    {
     "name": "stderr",
     "output_type": "stream",
     "text": [
      "\u001b[32m[I 2021-06-25 13:54:29,506]\u001b[0m Trial 0 finished with value: -0.04522358590646345 and parameters: {'kernel': 'rbf', 'C': 2.401128893225122, 'gamma': 0.2593831565309103, 'epsilon': 0.0533239374800341}. Best is trial 0 with value: -0.04522358590646345.\u001b[0m\n",
      "\u001b[32m[I 2021-06-25 13:54:29,530]\u001b[0m Trial 1 finished with value: -0.02647809014767386 and parameters: {'kernel': 'poly', 'C': 0.015358388961355272, 'gamma': 0.08097258264155258, 'epsilon': 0.032186021748580027}. Best is trial 1 with value: -0.02647809014767386.\u001b[0m\n",
      "\u001b[32m[I 2021-06-25 13:54:29,542]\u001b[0m Trial 2 finished with value: -0.04522358590646345 and parameters: {'kernel': 'poly', 'C': 0.5229960452425678, 'gamma': 0.004351932156104482, 'epsilon': 0.06987201582080166}. Best is trial 1 with value: -0.02647809014767386.\u001b[0m\n",
      "\u001b[32m[I 2021-06-25 13:54:29,840]\u001b[0m Trial 3 finished with value: -0.006049980217274092 and parameters: {'kernel': 'rbf', 'C': 0.9319173197321826, 'gamma': 0.008468930511651575, 'epsilon': 0.005080100787276004}. Best is trial 3 with value: -0.006049980217274092.\u001b[0m\n",
      "\u001b[32m[I 2021-06-25 13:54:29,850]\u001b[0m Trial 4 finished with value: -0.04522358590646345 and parameters: {'kernel': 'rbf', 'C': 1.8894189739202913, 'gamma': 0.0012843427896281911, 'epsilon': 0.16096068915968173}. Best is trial 3 with value: -0.006049980217274092.\u001b[0m\n",
      "\u001b[32m[I 2021-06-25 13:54:29,862]\u001b[0m Trial 5 finished with value: -0.04522358590646345 and parameters: {'kernel': 'rbf', 'C': 0.5071430965800742, 'gamma': 0.8857615233601794, 'epsilon': 0.1678823619887956}. Best is trial 3 with value: -0.006049980217274092.\u001b[0m\n",
      "\u001b[32m[I 2021-06-25 13:54:29,878]\u001b[0m Trial 6 finished with value: -0.04522358590646345 and parameters: {'kernel': 'rbf', 'C': 0.011105781134110674, 'gamma': 0.43049362378371037, 'epsilon': 0.4921175525130154}. Best is trial 3 with value: -0.006049980217274092.\u001b[0m\n",
      "\u001b[32m[I 2021-06-25 13:54:30,156]\u001b[0m Trial 7 finished with value: -0.007440327926797802 and parameters: {'kernel': 'poly', 'C': 0.8385919419328338, 'gamma': 0.001150493055459082, 'epsilon': 0.001903895328714923}. Best is trial 3 with value: -0.006049980217274092.\u001b[0m\n",
      "\u001b[32m[I 2021-06-25 13:54:30,671]\u001b[0m Trial 8 finished with value: -0.006058367448715772 and parameters: {'kernel': 'rbf', 'C': 0.3174815845487217, 'gamma': 0.050252484751082425, 'epsilon': 0.0018223257406416082}. Best is trial 3 with value: -0.006049980217274092.\u001b[0m\n",
      "\u001b[32m[I 2021-06-25 13:54:30,682]\u001b[0m Trial 9 finished with value: -0.04522358590646345 and parameters: {'kernel': 'rbf', 'C': 0.21761571609689614, 'gamma': 0.07072629919264573, 'epsilon': 0.26682089203868864}. Best is trial 3 with value: -0.006049980217274092.\u001b[0m\n",
      "\u001b[32m[I 2021-06-25 13:54:30,806]\u001b[0m Trial 10 finished with value: -0.007047557830758381 and parameters: {'kernel': 'rbf', 'C': 0.07475622205975153, 'gamma': 0.009197534498655121, 'epsilon': 0.007450886760353508}. Best is trial 3 with value: -0.006049980217274092.\u001b[0m\n",
      "\u001b[32m[I 2021-06-25 13:54:36,225]\u001b[0m Trial 11 finished with value: -0.006202799567560448 and parameters: {'kernel': 'rbf', 'C': 8.505038900678624, 'gamma': 0.014716326536544283, 'epsilon': 0.0010716728031714931}. Best is trial 3 with value: -0.006049980217274092.\u001b[0m\n",
      "\u001b[32m[I 2021-06-25 13:54:36,405]\u001b[0m Trial 12 finished with value: -0.006002858080800804 and parameters: {'kernel': 'rbf', 'C': 0.11847313100123585, 'gamma': 0.028260006002356668, 'epsilon': 0.005159973286442475}. Best is trial 12 with value: -0.006002858080800804.\u001b[0m\n",
      "\u001b[32m[I 2021-06-25 13:54:36,506]\u001b[0m Trial 13 finished with value: -0.007385598477154964 and parameters: {'kernel': 'rbf', 'C': 0.0523911570058209, 'gamma': 0.0041135891602237205, 'epsilon': 0.007253271514751982}. Best is trial 12 with value: -0.006002858080800804.\u001b[0m\n",
      "\u001b[32m[I 2021-06-25 13:54:36,614]\u001b[0m Trial 14 finished with value: -0.007112230849105412 and parameters: {'kernel': 'rbf', 'C': 0.09013384047200562, 'gamma': 0.020500975534378213, 'epsilon': 0.008380256350392018}. Best is trial 12 with value: -0.006002858080800804.\u001b[0m\n",
      "\u001b[32m[I 2021-06-25 13:54:37,330]\u001b[0m Trial 15 finished with value: -0.006164730277760387 and parameters: {'kernel': 'rbf', 'C': 6.557584632975089, 'gamma': 0.0048685222584210095, 'epsilon': 0.004738479343338944}. Best is trial 12 with value: -0.006002858080800804.\u001b[0m\n",
      "\u001b[32m[I 2021-06-25 13:54:37,406]\u001b[0m Trial 16 finished with value: -0.013318404780912391 and parameters: {'kernel': 'rbf', 'C': 0.02704787828770319, 'gamma': 0.030559578847248796, 'epsilon': 0.016485221552966722}. Best is trial 12 with value: -0.006002858080800804.\u001b[0m\n",
      "\u001b[32m[I 2021-06-25 13:54:48,799]\u001b[0m Trial 17 finished with value: -0.006394546133225751 and parameters: {'kernel': 'poly', 'C': 0.13946569639356776, 'gamma': 0.17754115373749604, 'epsilon': 0.002804926601314871}. Best is trial 12 with value: -0.006002858080800804.\u001b[0m\n",
      "\u001b[32m[I 2021-06-25 13:54:48,960]\u001b[0m Trial 18 finished with value: -0.009507212057672973 and parameters: {'kernel': 'rbf', 'C': 1.6208575030213752, 'gamma': 0.009857331910754863, 'epsilon': 0.01671924563510963}. Best is trial 12 with value: -0.006002858080800804.\u001b[0m\n",
      "\u001b[32m[I 2021-06-25 13:54:50,866]\u001b[0m Trial 19 finished with value: -0.0058546777271405405 and parameters: {'kernel': 'rbf', 'C': 3.5862458130842225, 'gamma': 0.002370532033223401, 'epsilon': 0.0011415007408245078}. Best is trial 19 with value: -0.0058546777271405405.\u001b[0m\n",
      "\u001b[32m[I 2021-06-25 13:54:53,101]\u001b[0m Trial 20 finished with value: -0.005843410958361384 and parameters: {'kernel': 'rbf', 'C': 4.310767590009131, 'gamma': 0.0025620046119288393, 'epsilon': 0.001042709061213442}. Best is trial 20 with value: -0.005843410958361384.\u001b[0m\n",
      "\u001b[32m[I 2021-06-25 13:54:54,962]\u001b[0m Trial 21 finished with value: -0.005750873696786138 and parameters: {'kernel': 'rbf', 'C': 4.446438282788232, 'gamma': 0.0016597321431435275, 'epsilon': 0.0010477463536728577}. Best is trial 21 with value: -0.005750873696786138.\u001b[0m\n",
      "\u001b[32m[I 2021-06-25 13:54:56,806]\u001b[0m Trial 22 finished with value: -0.005826488979001117 and parameters: {'kernel': 'rbf', 'C': 4.476326495430306, 'gamma': 0.002219555674504765, 'epsilon': 0.0013642940374239104}. Best is trial 21 with value: -0.005750873696786138.\u001b[0m\n",
      "\u001b[32m[I 2021-06-25 13:54:58,530]\u001b[0m Trial 23 finished with value: -0.005823425739391476 and parameters: {'kernel': 'rbf', 'C': 4.738884503201037, 'gamma': 0.0020152536232941128, 'epsilon': 0.0014138377173184694}. Best is trial 21 with value: -0.005750873696786138.\u001b[0m\n",
      "\u001b[32m[I 2021-06-25 13:54:59,853]\u001b[0m Trial 24 finished with value: -0.005777987750113032 and parameters: {'kernel': 'rbf', 'C': 8.823983275791877, 'gamma': 0.0010593297422950016, 'epsilon': 0.0022570652818132276}. Best is trial 21 with value: -0.005750873696786138.\u001b[0m\n",
      "\u001b[32m[I 2021-06-25 13:55:00,814]\u001b[0m Trial 25 finished with value: -0.005811658542329931 and parameters: {'kernel': 'rbf', 'C': 8.347057101163802, 'gamma': 0.0012480854525922307, 'epsilon': 0.002849059193584101}. Best is trial 21 with value: -0.005750873696786138.\u001b[0m\n",
      "\u001b[32m[I 2021-06-25 13:55:01,642]\u001b[0m Trial 26 finished with value: -0.005773847445696772 and parameters: {'kernel': 'rbf', 'C': 9.815627038314043, 'gamma': 0.0010808366253001291, 'epsilon': 0.0028650108547284858}. Best is trial 21 with value: -0.005750873696786138.\u001b[0m\n",
      "\u001b[32m[I 2021-06-25 13:55:01,885]\u001b[0m Trial 27 finished with value: -0.006519839327946681 and parameters: {'kernel': 'poly', 'C': 9.339424132718188, 'gamma': 0.0011007957430036277, 'epsilon': 0.002873183453162831}. Best is trial 21 with value: -0.005750873696786138.\u001b[0m\n",
      "\u001b[32m[I 2021-06-25 13:55:02,110]\u001b[0m Trial 28 finished with value: -0.008481023936671477 and parameters: {'kernel': 'rbf', 'C': 9.872846274376249, 'gamma': 0.001559118175725185, 'epsilon': 0.013643854666928273}. Best is trial 21 with value: -0.005750873696786138.\u001b[0m\n",
      "\u001b[32m[I 2021-06-25 13:55:02,908]\u001b[0m Trial 29 finished with value: -0.005836012811908019 and parameters: {'kernel': 'rbf', 'C': 2.7610745038624223, 'gamma': 0.0035453044870248944, 'epsilon': 0.0028515284706168214}. Best is trial 21 with value: -0.005750873696786138.\u001b[0m\n",
      "\u001b[32m[I 2021-06-25 13:55:02,949]\u001b[0m Trial 30 finished with value: -0.020976471417139153 and parameters: {'kernel': 'rbf', 'C': 1.5366697678707646, 'gamma': 0.00101780876351089, 'epsilon': 0.03171560036003652}. Best is trial 21 with value: -0.005750873696786138.\u001b[0m\n"
     ]
    },
    {
     "name": "stderr",
     "output_type": "stream",
     "text": [
      "\u001b[32m[I 2021-06-25 13:55:03,965]\u001b[0m Trial 31 finished with value: -0.005804768099290998 and parameters: {'kernel': 'rbf', 'C': 6.6396513964376185, 'gamma': 0.0015682784800312075, 'epsilon': 0.002130506380137285}. Best is trial 21 with value: -0.005750873696786138.\u001b[0m\n",
      "\u001b[32m[I 2021-06-25 13:55:04,827]\u001b[0m Trial 32 finished with value: -0.005770530579322555 and parameters: {'kernel': 'rbf', 'C': 6.1176543113309725, 'gamma': 0.0010070073363422588, 'epsilon': 0.002031988675888125}. Best is trial 21 with value: -0.005750873696786138.\u001b[0m\n",
      "\u001b[32m[I 2021-06-25 13:55:05,189]\u001b[0m Trial 33 finished with value: -0.005975357389549345 and parameters: {'kernel': 'rbf', 'C': 2.534995022106643, 'gamma': 0.0010017920826202874, 'epsilon': 0.004112331243611389}. Best is trial 21 with value: -0.005750873696786138.\u001b[0m\n",
      "\u001b[32m[I 2021-06-25 13:55:05,777]\u001b[0m Trial 34 finished with value: -0.006308774716899743 and parameters: {'kernel': 'poly', 'C': 6.0619663835335595, 'gamma': 0.00332377776076797, 'epsilon': 0.001709084466621925}. Best is trial 21 with value: -0.005750873696786138.\u001b[0m\n",
      "\u001b[32m[I 2021-06-25 13:55:07,943]\u001b[0m Trial 35 finished with value: -0.00580172796104481 and parameters: {'kernel': 'rbf', 'C': 3.3317926357743204, 'gamma': 0.005878520430182549, 'epsilon': 0.0010504377581046073}. Best is trial 21 with value: -0.005750873696786138.\u001b[0m\n",
      "\u001b[32m[I 2021-06-25 13:55:07,965]\u001b[0m Trial 36 finished with value: -0.04522358590646345 and parameters: {'kernel': 'rbf', 'C': 9.947870791407091, 'gamma': 0.0017562573317405213, 'epsilon': 0.06916904953408504}. Best is trial 21 with value: -0.005750873696786138.\u001b[0m\n",
      "\u001b[32m[I 2021-06-25 13:55:08,301]\u001b[0m Trial 37 finished with value: -0.005984098155463417 and parameters: {'kernel': 'rbf', 'C': 1.0299539376111435, 'gamma': 0.006012833079176403, 'epsilon': 0.004197664105557365}. Best is trial 21 with value: -0.005750873696786138.\u001b[0m\n",
      "\u001b[32m[I 2021-06-25 13:55:09,151]\u001b[0m Trial 38 finished with value: -0.005872446019063262 and parameters: {'kernel': 'rbf', 'C': 1.9065570521457706, 'gamma': 0.003009026740851329, 'epsilon': 0.002131589066072915}. Best is trial 21 with value: -0.005750873696786138.\u001b[0m\n",
      "\u001b[32m[I 2021-06-25 13:55:09,260]\u001b[0m Trial 39 finished with value: -0.008774529882870148 and parameters: {'kernel': 'poly', 'C': 5.931168502997535, 'gamma': 0.0010175939333523913, 'epsilon': 0.009224741039461543}. Best is trial 21 with value: -0.005750873696786138.\u001b[0m\n",
      "\u001b[32m[I 2021-06-25 13:55:09,664]\u001b[0m Trial 40 finished with value: -0.005873116898525252 and parameters: {'kernel': 'rbf', 'C': 1.2316236217734087, 'gamma': 0.0014967051342212507, 'epsilon': 0.0034353739582528367}. Best is trial 21 with value: -0.005750873696786138.\u001b[0m\n",
      "\u001b[32m[I 2021-06-25 13:55:11,886]\u001b[0m Trial 41 finished with value: -0.005819914157368717 and parameters: {'kernel': 'rbf', 'C': 3.2637561430811277, 'gamma': 0.006276838942319073, 'epsilon': 0.0011613103938413513}. Best is trial 21 with value: -0.005750873696786138.\u001b[0m\n",
      "\u001b[32m[I 2021-06-25 13:55:12,844]\u001b[0m Trial 42 finished with value: -0.005781869442824346 and parameters: {'kernel': 'rbf', 'C': 2.3692887733129337, 'gamma': 0.001991305719103406, 'epsilon': 0.0017033287348546962}. Best is trial 21 with value: -0.005750873696786138.\u001b[0m\n",
      "\u001b[32m[I 2021-06-25 13:55:13,290]\u001b[0m Trial 43 finished with value: -0.0057730188744604775 and parameters: {'kernel': 'rbf', 'C': 0.6398474618465964, 'gamma': 0.0019306524289286688, 'epsilon': 0.00163419164594406}. Best is trial 21 with value: -0.005750873696786138.\u001b[0m\n",
      "\u001b[32m[I 2021-06-25 13:55:13,595]\u001b[0m Trial 44 finished with value: -0.00604669397403694 and parameters: {'kernel': 'rbf', 'C': 0.4648666571051685, 'gamma': 0.0012765490785676017, 'epsilon': 0.0022772744417585023}. Best is trial 21 with value: -0.005750873696786138.\u001b[0m\n",
      "\u001b[32m[I 2021-06-25 13:55:14,117]\u001b[0m Trial 45 finished with value: -0.005769815914225976 and parameters: {'kernel': 'rbf', 'C': 0.6720750891055249, 'gamma': 0.002690061260893245, 'epsilon': 0.0015165075120034302}. Best is trial 21 with value: -0.005750873696786138.\u001b[0m\n",
      "\u001b[32m[I 2021-06-25 13:55:14,790]\u001b[0m Trial 46 finished with value: -0.005768981895569788 and parameters: {'kernel': 'rbf', 'C': 0.6529472495307803, 'gamma': 0.002447916711543165, 'epsilon': 0.001418493799976074}. Best is trial 21 with value: -0.005750873696786138.\u001b[0m\n",
      "\u001b[32m[I 2021-06-25 13:55:15,503]\u001b[0m Trial 47 finished with value: -0.005860301652834636 and parameters: {'kernel': 'rbf', 'C': 0.657118676133446, 'gamma': 0.004285217058887958, 'epsilon': 0.0014940588862482691}. Best is trial 21 with value: -0.005750873696786138.\u001b[0m\n",
      "\u001b[32m[I 2021-06-25 13:55:15,539]\u001b[0m Trial 48 finished with value: -0.04522358590646345 and parameters: {'kernel': 'rbf', 'C': 0.3262944148647012, 'gamma': 0.0029032456074076537, 'epsilon': 0.9081680122809866}. Best is trial 21 with value: -0.005750873696786138.\u001b[0m\n",
      "\u001b[32m[I 2021-06-25 13:55:16,616]\u001b[0m Trial 49 finished with value: -0.005734858275213892 and parameters: {'kernel': 'rbf', 'C': 0.7068692503227387, 'gamma': 0.010756262025334964, 'epsilon': 0.001008218594469731}. Best is trial 49 with value: -0.005734858275213892.\u001b[0m\n",
      "\u001b[32m[I 2021-06-25 13:55:17,319]\u001b[0m Trial 50 finished with value: -0.005773826175986485 and parameters: {'kernel': 'rbf', 'C': 0.2496683233626677, 'gamma': 0.011548642054559603, 'epsilon': 0.0010204746325799586}. Best is trial 49 with value: -0.005734858275213892.\u001b[0m\n",
      "\u001b[32m[I 2021-06-25 13:55:18,315]\u001b[0m Trial 51 finished with value: -0.005774976360853509 and parameters: {'kernel': 'rbf', 'C': 0.6427452021592065, 'gamma': 0.013819541904939477, 'epsilon': 0.0014207051542480841}. Best is trial 49 with value: -0.005734858275213892.\u001b[0m\n",
      "\u001b[32m[I 2021-06-25 13:55:18,596]\u001b[0m Trial 52 finished with value: -0.006271185795956644 and parameters: {'kernel': 'rbf', 'C': 0.44233640256518064, 'gamma': 0.007465524769395017, 'epsilon': 0.006240473630874096}. Best is trial 49 with value: -0.005734858275213892.\u001b[0m\n",
      "\u001b[32m[I 2021-06-25 13:55:20,302]\u001b[0m Trial 53 finished with value: -0.006397671306163882 and parameters: {'kernel': 'rbf', 'C': 0.7643242823040387, 'gamma': 0.06330521057558132, 'epsilon': 0.0010099515534068276}. Best is trial 49 with value: -0.005734858275213892.\u001b[0m\n",
      "\u001b[32m[I 2021-06-25 13:55:21,080]\u001b[0m Trial 54 finished with value: -0.005800450511561976 and parameters: {'kernel': 'rbf', 'C': 1.0627249282756375, 'gamma': 0.004615383950126827, 'epsilon': 0.0016890770585948583}. Best is trial 49 with value: -0.005734858275213892.\u001b[0m\n",
      "\u001b[32m[I 2021-06-25 13:55:21,610]\u001b[0m Trial 55 finished with value: -0.0064306311744755104 and parameters: {'kernel': 'rbf', 'C': 0.18402887682572439, 'gamma': 0.1145744476683429, 'epsilon': 0.0013041958268328018}. Best is trial 49 with value: -0.005734858275213892.\u001b[0m\n",
      "\u001b[32m[I 2021-06-25 13:55:21,976]\u001b[0m Trial 56 finished with value: -0.005842134285882899 and parameters: {'kernel': 'rbf', 'C': 0.35644676325992947, 'gamma': 0.002279238317617026, 'epsilon': 0.0020626748691398838}. Best is trial 49 with value: -0.005734858275213892.\u001b[0m\n",
      "\u001b[32m[I 2021-06-25 13:55:21,998]\u001b[0m Trial 57 finished with value: -0.04522358590646345 and parameters: {'kernel': 'rbf', 'C': 0.5767157173688761, 'gamma': 0.02018855142835445, 'epsilon': 0.16783281462861277}. Best is trial 49 with value: -0.005734858275213892.\u001b[0m\n",
      "\u001b[32m[I 2021-06-25 13:55:22,746]\u001b[0m Trial 58 finished with value: -0.007779996799282048 and parameters: {'kernel': 'rbf', 'C': 0.9160527159390467, 'gamma': 0.6089380379466612, 'epsilon': 0.001012220220982955}. Best is trial 49 with value: -0.005734858275213892.\u001b[0m\n",
      "\u001b[32m[I 2021-06-25 13:55:22,979]\u001b[0m Trial 59 finished with value: -0.006888819127693857 and parameters: {'kernel': 'poly', 'C': 0.2204843938425154, 'gamma': 0.003635527850797091, 'epsilon': 0.003781724124742215}. Best is trial 49 with value: -0.005734858275213892.\u001b[0m\n",
      "\u001b[32m[I 2021-06-25 13:55:23,007]\u001b[0m Trial 60 finished with value: -0.039667155240512876 and parameters: {'kernel': 'rbf', 'C': 1.2530053454486758, 'gamma': 0.0027790156614484187, 'epsilon': 0.04561393428117424}. Best is trial 49 with value: -0.005734858275213892.\u001b[0m\n",
      "\u001b[32m[I 2021-06-25 13:55:23,743]\u001b[0m Trial 61 finished with value: -0.005762857726011896 and parameters: {'kernel': 'rbf', 'C': 0.19710079788321663, 'gamma': 0.012417798872447814, 'epsilon': 0.0010199954134587712}. Best is trial 49 with value: -0.005734858275213892.\u001b[0m\n"
     ]
    },
    {
     "name": "stderr",
     "output_type": "stream",
     "text": [
      "\u001b[32m[I 2021-06-25 13:55:24,261]\u001b[0m Trial 62 finished with value: -0.005799724832675089 and parameters: {'kernel': 'rbf', 'C': 0.12944081862892037, 'gamma': 0.04098461534343172, 'epsilon': 0.0012933398760357278}. Best is trial 49 with value: -0.005734858275213892.\u001b[0m\n",
      "\u001b[32m[I 2021-06-25 13:55:24,283]\u001b[0m Trial 63 finished with value: -0.04522358590646345 and parameters: {'kernel': 'rbf', 'C': 0.3855686830957684, 'gamma': 0.020946088013428572, 'epsilon': 0.11833712585396901}. Best is trial 49 with value: -0.005734858275213892.\u001b[0m\n",
      "\u001b[32m[I 2021-06-25 13:55:24,804]\u001b[0m Trial 64 finished with value: -0.005778399314168618 and parameters: {'kernel': 'rbf', 'C': 0.2656280550217142, 'gamma': 0.00923262567659147, 'epsilon': 0.0017604212507621282}. Best is trial 49 with value: -0.005734858275213892.\u001b[0m\n",
      "\u001b[32m[I 2021-06-25 13:55:25,272]\u001b[0m Trial 65 finished with value: -0.005799950800427971 and parameters: {'kernel': 'rbf', 'C': 0.059983749379198294, 'gamma': 0.015155973435800142, 'epsilon': 0.0010131351732912553}. Best is trial 49 with value: -0.005734858275213892.\u001b[0m\n",
      "\u001b[32m[I 2021-06-25 13:55:25,592]\u001b[0m Trial 66 finished with value: -0.0061719455529689465 and parameters: {'kernel': 'rbf', 'C': 0.17151740845603455, 'gamma': 0.0018702259471873185, 'epsilon': 0.002394949102032861}. Best is trial 49 with value: -0.005734858275213892.\u001b[0m\n",
      "\u001b[32m[I 2021-06-25 13:55:25,799]\u001b[0m Trial 67 finished with value: -0.006262145567944677 and parameters: {'kernel': 'rbf', 'C': 0.7725170732098925, 'gamma': 0.0013412011371845454, 'epsilon': 0.005330187464768742}. Best is trial 49 with value: -0.005734858275213892.\u001b[0m\n",
      "\u001b[32m[I 2021-06-25 13:55:26,314]\u001b[0m Trial 68 finished with value: -0.005869773020529404 and parameters: {'kernel': 'rbf', 'C': 0.08848270538353818, 'gamma': 0.005320916828658412, 'epsilon': 0.0014624573693329244}. Best is trial 49 with value: -0.005734858275213892.\u001b[0m\n",
      "\u001b[32m[I 2021-06-25 13:55:26,505]\u001b[0m Trial 69 finished with value: -0.006733813221883194 and parameters: {'kernel': 'rbf', 'C': 0.03368206400842076, 'gamma': 0.002226581639702857, 'epsilon': 0.0033686560529295677}. Best is trial 49 with value: -0.005734858275213892.\u001b[0m\n",
      "\u001b[32m[I 2021-06-25 13:55:27,296]\u001b[0m Trial 70 finished with value: -0.005769912436927767 and parameters: {'kernel': 'rbf', 'C': 0.5443148888750413, 'gamma': 0.007151904174996141, 'epsilon': 0.0012201545456200981}. Best is trial 49 with value: -0.005734858275213892.\u001b[0m\n",
      "\u001b[32m[I 2021-06-25 13:55:28,080]\u001b[0m Trial 71 finished with value: -0.005776006070847097 and parameters: {'kernel': 'rbf', 'C': 0.5694889458201563, 'gamma': 0.007421444375068767, 'epsilon': 0.0012691850396183647}. Best is trial 49 with value: -0.005734858275213892.\u001b[0m\n",
      "\u001b[32m[I 2021-06-25 13:55:28,841]\u001b[0m Trial 72 finished with value: -0.005744242096514277 and parameters: {'kernel': 'rbf', 'C': 0.43906699213208533, 'gamma': 0.012116543078970315, 'epsilon': 0.001915623681814024}. Best is trial 49 with value: -0.005734858275213892.\u001b[0m\n",
      "\u001b[32m[I 2021-06-25 13:55:29,217]\u001b[0m Trial 73 finished with value: -0.005816602484845328 and parameters: {'kernel': 'rbf', 'C': 0.2772755519594899, 'gamma': 0.011779207152117475, 'epsilon': 0.002626453438372735}. Best is trial 49 with value: -0.005734858275213892.\u001b[0m\n",
      "\u001b[32m[I 2021-06-25 13:55:29,827]\u001b[0m Trial 74 finished with value: -0.005867355868691797 and parameters: {'kernel': 'rbf', 'C': 0.40080775337340446, 'gamma': 0.02562583027067961, 'epsilon': 0.001933597950287287}. Best is trial 49 with value: -0.005734858275213892.\u001b[0m\n",
      "\u001b[32m[I 2021-06-25 13:55:30,534]\u001b[0m Trial 75 finished with value: -0.005697586752871659 and parameters: {'kernel': 'rbf', 'C': 0.17980488803872818, 'gamma': 0.017573674016913024, 'epsilon': 0.0012375112052268285}. Best is trial 75 with value: -0.005697586752871659.\u001b[0m\n",
      "\u001b[32m[I 2021-06-25 13:55:31,136]\u001b[0m Trial 76 finished with value: -0.005721299172211041 and parameters: {'kernel': 'rbf', 'C': 0.15606750493285218, 'gamma': 0.016812985599378792, 'epsilon': 0.0012235602947281896}. Best is trial 75 with value: -0.005697586752871659.\u001b[0m\n",
      "\u001b[32m[I 2021-06-25 13:55:31,739]\u001b[0m Trial 77 finished with value: -0.005716535722657468 and parameters: {'kernel': 'rbf', 'C': 0.16019931154211312, 'gamma': 0.017272631747927602, 'epsilon': 0.0010188922600090577}. Best is trial 75 with value: -0.005697586752871659.\u001b[0m\n",
      "\u001b[32m[I 2021-06-25 13:55:32,323]\u001b[0m Trial 78 finished with value: -0.006437445260171852 and parameters: {'kernel': 'poly', 'C': 0.162629918491913, 'gamma': 0.015275622295290113, 'epsilon': 0.0010024592320865633}. Best is trial 75 with value: -0.005697586752871659.\u001b[0m\n",
      "\u001b[32m[I 2021-06-25 13:55:32,874]\u001b[0m Trial 79 finished with value: -0.005750122006847716 and parameters: {'kernel': 'rbf', 'C': 0.12071652377846036, 'gamma': 0.03598349981930478, 'epsilon': 0.0011888885975548987}. Best is trial 75 with value: -0.005697586752871659.\u001b[0m\n",
      "\u001b[32m[I 2021-06-25 13:55:33,477]\u001b[0m Trial 80 finished with value: -0.005806846840049495 and parameters: {'kernel': 'rbf', 'C': 0.10812927960177318, 'gamma': 0.044289015022123866, 'epsilon': 0.0011405693901248035}. Best is trial 75 with value: -0.005697586752871659.\u001b[0m\n",
      "\u001b[32m[I 2021-06-25 13:55:34,051]\u001b[0m Trial 81 finished with value: -0.005731526668820368 and parameters: {'kernel': 'rbf', 'C': 0.10750770062329466, 'gamma': 0.01844009472800148, 'epsilon': 0.0011885573538894685}. Best is trial 75 with value: -0.005697586752871659.\u001b[0m\n",
      "\u001b[32m[I 2021-06-25 13:55:34,574]\u001b[0m Trial 82 finished with value: -0.005723720503716115 and parameters: {'kernel': 'rbf', 'C': 0.11173734291033252, 'gamma': 0.03229169185679344, 'epsilon': 0.0011730334675564217}. Best is trial 75 with value: -0.005697586752871659.\u001b[0m\n",
      "\u001b[32m[I 2021-06-25 13:55:34,930]\u001b[0m Trial 83 finished with value: -0.005719972672114724 and parameters: {'kernel': 'rbf', 'C': 0.10348864368036839, 'gamma': 0.032542239209302166, 'epsilon': 0.0018694480041143479}. Best is trial 75 with value: -0.005697586752871659.\u001b[0m\n",
      "\u001b[32m[I 2021-06-25 13:55:35,330]\u001b[0m Trial 84 finished with value: -0.005719739048741481 and parameters: {'kernel': 'rbf', 'C': 0.10622828518956062, 'gamma': 0.03384938368576281, 'epsilon': 0.001921940117581205}. Best is trial 75 with value: -0.005697586752871659.\u001b[0m\n",
      "\u001b[32m[I 2021-06-25 13:55:35,563]\u001b[0m Trial 85 finished with value: -0.005796337499606307 and parameters: {'kernel': 'rbf', 'C': 0.06720341910555157, 'gamma': 0.024861662264471226, 'epsilon': 0.003105934939972454}. Best is trial 75 with value: -0.005697586752871659.\u001b[0m\n",
      "\u001b[32m[I 2021-06-25 13:55:35,879]\u001b[0m Trial 86 finished with value: -0.005856435252218001 and parameters: {'kernel': 'rbf', 'C': 0.042095306379920594, 'gamma': 0.0184893047530444, 'epsilon': 0.0018787365108222714}. Best is trial 75 with value: -0.005697586752871659.\u001b[0m\n",
      "\u001b[32m[I 2021-06-25 13:55:36,313]\u001b[0m Trial 87 finished with value: -0.005731116148086601 and parameters: {'kernel': 'rbf', 'C': 0.09885379254608939, 'gamma': 0.03280133592260224, 'epsilon': 0.0024007504639917483}. Best is trial 75 with value: -0.005697586752871659.\u001b[0m\n",
      "\u001b[32m[I 2021-06-25 13:55:36,632]\u001b[0m Trial 88 finished with value: -0.005731715761605587 and parameters: {'kernel': 'rbf', 'C': 0.09252555597156067, 'gamma': 0.03149216810492825, 'epsilon': 0.0024305020309852107}. Best is trial 75 with value: -0.005697586752871659.\u001b[0m\n",
      "\u001b[32m[I 2021-06-25 13:55:36,918]\u001b[0m Trial 89 finished with value: -0.0058790382467912945 and parameters: {'kernel': 'rbf', 'C': 0.08819363279003065, 'gamma': 0.05670520279616552, 'epsilon': 0.0024868356940403805}. Best is trial 75 with value: -0.005697586752871659.\u001b[0m\n",
      "\u001b[32m[I 2021-06-25 13:55:36,983]\u001b[0m Trial 90 finished with value: -0.02037691058135362 and parameters: {'kernel': 'rbf', 'C': 0.10439286863471658, 'gamma': 0.09270704245898975, 'epsilon': 0.02361789450695311}. Best is trial 75 with value: -0.005697586752871659.\u001b[0m\n",
      "\u001b[32m[I 2021-06-25 13:55:37,442]\u001b[0m Trial 91 finished with value: -0.00571171889163909 and parameters: {'kernel': 'rbf', 'C': 0.15018698062827132, 'gamma': 0.029938600312955612, 'epsilon': 0.0015871378848982731}. Best is trial 75 with value: -0.005697586752871659.\u001b[0m\n",
      "\u001b[32m[I 2021-06-25 13:55:37,766]\u001b[0m Trial 92 finished with value: -0.0057654907489191306 and parameters: {'kernel': 'rbf', 'C': 0.1538672648572754, 'gamma': 0.03400060270228489, 'epsilon': 0.00239762178722463}. Best is trial 75 with value: -0.005697586752871659.\u001b[0m\n"
     ]
    },
    {
     "name": "stderr",
     "output_type": "stream",
     "text": [
      "\u001b[32m[I 2021-06-25 13:55:38,148]\u001b[0m Trial 93 finished with value: -0.0057177406008978235 and parameters: {'kernel': 'rbf', 'C': 0.08038027813096618, 'gamma': 0.028187838638562168, 'epsilon': 0.0016120972618016306}. Best is trial 75 with value: -0.005697586752871659.\u001b[0m\n",
      "\u001b[32m[I 2021-06-25 13:55:38,529]\u001b[0m Trial 94 finished with value: -0.005719309056744815 and parameters: {'kernel': 'rbf', 'C': 0.07517447100364884, 'gamma': 0.025329249102486573, 'epsilon': 0.0016116483556185216}. Best is trial 75 with value: -0.005697586752871659.\u001b[0m\n",
      "\u001b[32m[I 2021-06-25 13:55:38,945]\u001b[0m Trial 95 finished with value: -0.005725508661271069 and parameters: {'kernel': 'rbf', 'C': 0.07347633394093606, 'gamma': 0.0267448620851678, 'epsilon': 0.001715290711195823}. Best is trial 75 with value: -0.005697586752871659.\u001b[0m\n",
      "\u001b[32m[I 2021-06-25 13:55:39,375]\u001b[0m Trial 96 finished with value: -0.005723861065226865 and parameters: {'kernel': 'rbf', 'C': 0.0733007571226397, 'gamma': 0.024402195423892895, 'epsilon': 0.0017190949724739677}. Best is trial 75 with value: -0.005697586752871659.\u001b[0m\n",
      "\u001b[32m[I 2021-06-25 13:55:39,827]\u001b[0m Trial 97 finished with value: -0.005829597716589465 and parameters: {'kernel': 'rbf', 'C': 0.04729671604015675, 'gamma': 0.04826572027489265, 'epsilon': 0.0015925966622800387}. Best is trial 75 with value: -0.005697586752871659.\u001b[0m\n",
      "\u001b[32m[I 2021-06-25 13:55:40,304]\u001b[0m Trial 98 finished with value: -0.0056835894708379435 and parameters: {'kernel': 'rbf', 'C': 0.14443543727644995, 'gamma': 0.023405349237154576, 'epsilon': 0.0014230955118575582}. Best is trial 98 with value: -0.0056835894708379435.\u001b[0m\n",
      "\u001b[32m[I 2021-06-25 13:55:40,871]\u001b[0m Trial 99 finished with value: -0.005785920928985691 and parameters: {'kernel': 'rbf', 'C': 0.1344331915139497, 'gamma': 0.03967178471750824, 'epsilon': 0.0014619529131662987}. Best is trial 98 with value: -0.0056835894708379435.\u001b[0m\n",
      "\u001b[32m[I 2021-06-25 13:55:41,407]\u001b[0m Trial 100 finished with value: -0.0063292808122027144 and parameters: {'kernel': 'poly', 'C': 0.14517075683883737, 'gamma': 0.02189649509313806, 'epsilon': 0.0020606546364257544}. Best is trial 98 with value: -0.0056835894708379435.\u001b[0m\n",
      "\u001b[32m[I 2021-06-25 13:55:41,828]\u001b[0m Trial 101 finished with value: -0.005719845790048927 and parameters: {'kernel': 'rbf', 'C': 0.07778475816276893, 'gamma': 0.02321965458883317, 'epsilon': 0.0013326648495202503}. Best is trial 98 with value: -0.0056835894708379435.\u001b[0m\n",
      "\u001b[32m[I 2021-06-25 13:55:42,273]\u001b[0m Trial 102 finished with value: -0.005782198856540292 and parameters: {'kernel': 'rbf', 'C': 0.05533582150814418, 'gamma': 0.01708317121823605, 'epsilon': 0.001362449557806753}. Best is trial 98 with value: -0.0056835894708379435.\u001b[0m\n",
      "\u001b[32m[I 2021-06-25 13:55:42,774]\u001b[0m Trial 103 finished with value: -0.00574737886992679 and parameters: {'kernel': 'rbf', 'C': 0.21356983342969507, 'gamma': 0.027594255105328463, 'epsilon': 0.0015333354673002504}. Best is trial 98 with value: -0.0056835894708379435.\u001b[0m\n",
      "\u001b[32m[I 2021-06-25 13:55:43,761]\u001b[0m Trial 104 finished with value: -0.005732959509692319 and parameters: {'kernel': 'rbf', 'C': 0.08100734901703531, 'gamma': 0.022780031512634757, 'epsilon': 0.0012416584533048336}. Best is trial 98 with value: -0.0056835894708379435.\u001b[0m\n",
      "\u001b[32m[I 2021-06-25 13:55:44,142]\u001b[0m Trial 105 finished with value: -0.00570205460029581 and parameters: {'kernel': 'rbf', 'C': 0.12310018553169924, 'gamma': 0.02914971801990147, 'epsilon': 0.001997397388934065}. Best is trial 98 with value: -0.0056835894708379435.\u001b[0m\n",
      "\u001b[32m[I 2021-06-25 13:55:44,430]\u001b[0m Trial 106 finished with value: -0.005973060170316398 and parameters: {'kernel': 'rbf', 'C': 0.13572294500450036, 'gamma': 0.05361128715055531, 'epsilon': 0.002923073538372057}. Best is trial 98 with value: -0.0056835894708379435.\u001b[0m\n",
      "\u001b[32m[I 2021-06-25 13:55:44,608]\u001b[0m Trial 107 finished with value: -0.00597175740088302 and parameters: {'kernel': 'rbf', 'C': 0.06508540438616783, 'gamma': 0.016413851228712553, 'epsilon': 0.0041987243096238665}. Best is trial 98 with value: -0.0056835894708379435.\u001b[0m\n",
      "\u001b[32m[I 2021-06-25 13:55:45,013]\u001b[0m Trial 108 finished with value: -0.005809352679880746 and parameters: {'kernel': 'rbf', 'C': 0.1634016199042363, 'gamma': 0.037443433544297765, 'epsilon': 0.0020953768105629643}. Best is trial 98 with value: -0.0056835894708379435.\u001b[0m\n",
      "\u001b[32m[I 2021-06-25 13:55:45,277]\u001b[0m Trial 109 finished with value: -0.006168555990027048 and parameters: {'kernel': 'rbf', 'C': 0.018185103722369086, 'gamma': 0.028243911271543937, 'epsilon': 0.0018900035508952258}. Best is trial 98 with value: -0.0056835894708379435.\u001b[0m\n",
      "\u001b[32m[I 2021-06-25 13:55:45,562]\u001b[0m Trial 110 finished with value: -0.0062026782928874214 and parameters: {'kernel': 'rbf', 'C': 0.1965622521711882, 'gamma': 0.06749893404894813, 'epsilon': 0.003271075631182301}. Best is trial 98 with value: -0.0056835894708379435.\u001b[0m\n",
      "\u001b[32m[I 2021-06-25 13:55:46,077]\u001b[0m Trial 111 finished with value: -0.0058164168861825905 and parameters: {'kernel': 'rbf', 'C': 0.11353139306245312, 'gamma': 0.04598849512633412, 'epsilon': 0.001364766487203513}. Best is trial 98 with value: -0.0056835894708379435.\u001b[0m\n",
      "\u001b[32m[I 2021-06-25 13:55:46,611]\u001b[0m Trial 112 finished with value: -0.005732881147623637 and parameters: {'kernel': 'rbf', 'C': 0.12031508446157702, 'gamma': 0.019635137020518747, 'epsilon': 0.0011081790361661945}. Best is trial 98 with value: -0.0056835894708379435.\u001b[0m\n",
      "\u001b[32m[I 2021-06-25 13:55:47,124]\u001b[0m Trial 113 finished with value: -0.005814881561703195 and parameters: {'kernel': 'rbf', 'C': 0.23902750019644928, 'gamma': 0.03011323314991053, 'epsilon': 0.0015953565600975053}. Best is trial 98 with value: -0.0056835894708379435.\u001b[0m\n",
      "\u001b[32m[I 2021-06-25 13:55:47,513]\u001b[0m Trial 114 finished with value: -0.005785972297107305 and parameters: {'kernel': 'rbf', 'C': 0.08583124903425159, 'gamma': 0.01313906179725242, 'epsilon': 0.00134371713985633}. Best is trial 98 with value: -0.0056835894708379435.\u001b[0m\n",
      "\u001b[32m[I 2021-06-25 13:55:47,876]\u001b[0m Trial 115 finished with value: -0.005695128675998568 and parameters: {'kernel': 'rbf', 'C': 0.1801022445636327, 'gamma': 0.02279400248641379, 'epsilon': 0.0021537444057738407}. Best is trial 98 with value: -0.0056835894708379435.\u001b[0m\n",
      "\u001b[32m[I 2021-06-25 13:55:47,896]\u001b[0m Trial 116 finished with value: -0.04522358590646345 and parameters: {'kernel': 'rbf', 'C': 0.3007725739370788, 'gamma': 0.02159540855218498, 'epsilon': 0.35340517153118556}. Best is trial 98 with value: -0.0056835894708379435.\u001b[0m\n",
      "\u001b[32m[I 2021-06-25 13:55:48,183]\u001b[0m Trial 117 finished with value: -0.005769204346093398 and parameters: {'kernel': 'rbf', 'C': 0.1695953610260848, 'gamma': 0.01794801391563131, 'epsilon': 0.0027966692695052006}. Best is trial 98 with value: -0.0056835894708379435.\u001b[0m\n",
      "\u001b[32m[I 2021-06-25 13:55:48,522]\u001b[0m Trial 118 finished with value: -0.005774650680771231 and parameters: {'kernel': 'rbf', 'C': 0.18968917406421293, 'gamma': 0.014165307203182457, 'epsilon': 0.002221431517525278}. Best is trial 98 with value: -0.0056835894708379435.\u001b[0m\n",
      "\u001b[32m[I 2021-06-25 13:55:48,728]\u001b[0m Trial 119 finished with value: -0.005925098985672343 and parameters: {'kernel': 'rbf', 'C': 0.14192726677138615, 'gamma': 0.010307156193055781, 'epsilon': 0.0036129390435930887}. Best is trial 98 with value: -0.0056835894708379435.\u001b[0m\n",
      "\u001b[32m[I 2021-06-25 13:55:49,012]\u001b[0m Trial 120 finished with value: -0.005798972188383625 and parameters: {'kernel': 'rbf', 'C': 0.045108483401468204, 'gamma': 0.02339093819632229, 'epsilon': 0.0019142700702388003}. Best is trial 98 with value: -0.0056835894708379435.\u001b[0m\n",
      "\u001b[32m[I 2021-06-25 13:55:49,399]\u001b[0m Trial 121 finished with value: -0.0057241251174236195 and parameters: {'kernel': 'rbf', 'C': 0.09926188657443857, 'gamma': 0.03411685175388602, 'epsilon': 0.001600040048672294}. Best is trial 98 with value: -0.0056835894708379435.\u001b[0m\n",
      "\u001b[32m[I 2021-06-25 13:55:49,917]\u001b[0m Trial 122 finished with value: -0.005715962797773702 and parameters: {'kernel': 'rbf', 'C': 0.12123739106101088, 'gamma': 0.030074047368315926, 'epsilon': 0.001135506664233992}. Best is trial 98 with value: -0.0056835894708379435.\u001b[0m\n",
      "\u001b[32m[I 2021-06-25 13:55:50,355]\u001b[0m Trial 123 finished with value: -0.005709205513698507 and parameters: {'kernel': 'rbf', 'C': 0.12793804761299443, 'gamma': 0.02961424012684929, 'epsilon': 0.0014856539203025184}. Best is trial 98 with value: -0.0056835894708379435.\u001b[0m\n"
     ]
    },
    {
     "name": "stderr",
     "output_type": "stream",
     "text": [
      "\u001b[32m[I 2021-06-25 13:55:50,687]\u001b[0m Trial 124 finished with value: -0.005737846479021705 and parameters: {'kernel': 'rbf', 'C': 0.07622314798049534, 'gamma': 0.04067056894354862, 'epsilon': 0.0017884721141173305}. Best is trial 98 with value: -0.0056835894708379435.\u001b[0m\n",
      "\u001b[32m[I 2021-06-25 13:55:51,003]\u001b[0m Trial 125 finished with value: -0.005707489280495082 and parameters: {'kernel': 'rbf', 'C': 0.12728806149373278, 'gamma': 0.02867240788668508, 'epsilon': 0.002153024913689371}. Best is trial 98 with value: -0.0056835894708379435.\u001b[0m\n",
      "\u001b[32m[I 2021-06-25 13:55:51,309]\u001b[0m Trial 126 finished with value: -0.0057023377411909324 and parameters: {'kernel': 'rbf', 'C': 0.12926551185511906, 'gamma': 0.026988905327867106, 'epsilon': 0.0021821687354879734}. Best is trial 98 with value: -0.0056835894708379435.\u001b[0m\n",
      "\u001b[32m[I 2021-06-25 13:55:51,572]\u001b[0m Trial 127 finished with value: -0.0057331997547148015 and parameters: {'kernel': 'rbf', 'C': 0.12577613359499915, 'gamma': 0.029680286464046975, 'epsilon': 0.002680404954065188}. Best is trial 98 with value: -0.0056835894708379435.\u001b[0m\n",
      "\u001b[32m[I 2021-06-25 13:55:51,924]\u001b[0m Trial 128 finished with value: -0.005745041967038529 and parameters: {'kernel': 'rbf', 'C': 0.22438221338063075, 'gamma': 0.026833713342265662, 'epsilon': 0.002239976308534299}. Best is trial 98 with value: -0.0056835894708379435.\u001b[0m\n",
      "\u001b[32m[I 2021-06-25 13:55:52,115]\u001b[0m Trial 129 finished with value: -0.006142645495497603 and parameters: {'kernel': 'rbf', 'C': 0.19807657398434475, 'gamma': 0.03819052259337769, 'epsilon': 0.004846164434965118}. Best is trial 98 with value: -0.0056835894708379435.\u001b[0m\n",
      "\u001b[32m[I 2021-06-25 13:55:52,575]\u001b[0m Trial 130 finished with value: -0.005965849817614186 and parameters: {'kernel': 'rbf', 'C': 0.1481713601970515, 'gamma': 0.057871353633016834, 'epsilon': 0.0015486345446260707}. Best is trial 98 with value: -0.0056835894708379435.\u001b[0m\n",
      "\u001b[32m[I 2021-06-25 13:55:53,003]\u001b[0m Trial 131 finished with value: -0.005742931194544665 and parameters: {'kernel': 'rbf', 'C': 0.06506516404301507, 'gamma': 0.020656045570785472, 'epsilon': 0.0014204211096571543}. Best is trial 98 with value: -0.0056835894708379435.\u001b[0m\n",
      "\u001b[32m[I 2021-06-25 13:55:53,577]\u001b[0m Trial 132 finished with value: -0.005701893021871875 and parameters: {'kernel': 'rbf', 'C': 0.12395156768504285, 'gamma': 0.024683247359028895, 'epsilon': 0.001005847202873434}. Best is trial 98 with value: -0.0056835894708379435.\u001b[0m\n",
      "\u001b[32m[I 2021-06-25 13:55:54,146]\u001b[0m Trial 133 finished with value: -0.005695120177883854 and parameters: {'kernel': 'rbf', 'C': 0.12551417826061442, 'gamma': 0.02540700091903578, 'epsilon': 0.0010470127371283618}. Best is trial 98 with value: -0.0056835894708379435.\u001b[0m\n",
      "\u001b[32m[I 2021-06-25 13:55:54,775]\u001b[0m Trial 134 finished with value: -0.005718847822929063 and parameters: {'kernel': 'rbf', 'C': 0.17632687039205366, 'gamma': 0.026423796456831718, 'epsilon': 0.0010085783832484135}. Best is trial 98 with value: -0.0056835894708379435.\u001b[0m\n",
      "\u001b[32m[I 2021-06-25 13:55:55,416]\u001b[0m Trial 135 finished with value: -0.0057069915679712 and parameters: {'kernel': 'rbf', 'C': 0.17940407018244378, 'gamma': 0.018729267201928815, 'epsilon': 0.00100615513090758}. Best is trial 98 with value: -0.0056835894708379435.\u001b[0m\n",
      "\u001b[32m[I 2021-06-25 13:55:55,998]\u001b[0m Trial 136 finished with value: -0.005723119800479043 and parameters: {'kernel': 'rbf', 'C': 0.12640972149192597, 'gamma': 0.01918895501649663, 'epsilon': 0.0010113628883276979}. Best is trial 98 with value: -0.0056835894708379435.\u001b[0m\n",
      "\u001b[32m[I 2021-06-25 13:55:56,644]\u001b[0m Trial 137 finished with value: -0.005727980071271799 and parameters: {'kernel': 'rbf', 'C': 0.24298497220123408, 'gamma': 0.014270848168488032, 'epsilon': 0.0011376669399610448}. Best is trial 98 with value: -0.0056835894708379435.\u001b[0m\n",
      "\u001b[32m[I 2021-06-25 13:55:57,204]\u001b[0m Trial 138 finished with value: -0.005738608336442452 and parameters: {'kernel': 'rbf', 'C': 0.14878964110295878, 'gamma': 0.01646664005348335, 'epsilon': 0.0010170565578279315}. Best is trial 98 with value: -0.0056835894708379435.\u001b[0m\n",
      "\u001b[32m[I 2021-06-25 13:55:57,401]\u001b[0m Trial 139 finished with value: -0.008215797534039926 and parameters: {'kernel': 'poly', 'C': 0.18117960604430292, 'gamma': 0.045569916669718644, 'epsilon': 0.01100228576728897}. Best is trial 98 with value: -0.0056835894708379435.\u001b[0m\n",
      "\u001b[32m[I 2021-06-25 13:55:57,907]\u001b[0m Trial 140 finished with value: -0.005699008552557917 and parameters: {'kernel': 'rbf', 'C': 0.12795570337533918, 'gamma': 0.029082231124576266, 'epsilon': 0.001200536359921461}. Best is trial 98 with value: -0.0056835894708379435.\u001b[0m\n",
      "\u001b[32m[I 2021-06-25 13:55:58,396]\u001b[0m Trial 141 finished with value: -0.005692005401106694 and parameters: {'kernel': 'rbf', 'C': 0.12073891164273669, 'gamma': 0.022270222853089074, 'epsilon': 0.0011776145983891663}. Best is trial 98 with value: -0.0056835894708379435.\u001b[0m\n",
      "\u001b[32m[I 2021-06-25 13:55:58,891]\u001b[0m Trial 142 finished with value: -0.005702801473530149 and parameters: {'kernel': 'rbf', 'C': 0.12490308389017078, 'gamma': 0.021172110931088495, 'epsilon': 0.001194684460459188}. Best is trial 98 with value: -0.0056835894708379435.\u001b[0m\n",
      "\u001b[32m[I 2021-06-25 13:55:59,397]\u001b[0m Trial 143 finished with value: -0.005687931426615341 and parameters: {'kernel': 'rbf', 'C': 0.1235267636121853, 'gamma': 0.02164419596205683, 'epsilon': 0.0011946456930882613}. Best is trial 98 with value: -0.0056835894708379435.\u001b[0m\n",
      "\u001b[32m[I 2021-06-25 13:55:59,905]\u001b[0m Trial 144 finished with value: -0.0056958364088508795 and parameters: {'kernel': 'rbf', 'C': 0.13702603743329203, 'gamma': 0.021641694269928125, 'epsilon': 0.0012819253793968602}. Best is trial 98 with value: -0.0056835894708379435.\u001b[0m\n",
      "\u001b[32m[I 2021-06-25 13:56:00,349]\u001b[0m Trial 145 finished with value: -0.005707602241121424 and parameters: {'kernel': 'rbf', 'C': 0.09386030795939287, 'gamma': 0.02166604865356989, 'epsilon': 0.00127746067964952}. Best is trial 98 with value: -0.0056835894708379435.\u001b[0m\n",
      "\u001b[32m[I 2021-06-25 13:56:00,780]\u001b[0m Trial 146 finished with value: -0.005727827293825957 and parameters: {'kernel': 'rbf', 'C': 0.09331865935060665, 'gamma': 0.020373641987466974, 'epsilon': 0.0012686863814520887}. Best is trial 98 with value: -0.0056835894708379435.\u001b[0m\n",
      "\u001b[32m[I 2021-06-25 13:56:01,284]\u001b[0m Trial 147 finished with value: -0.005722124551624823 and parameters: {'kernel': 'rbf', 'C': 0.09694540259172903, 'gamma': 0.02213033920208631, 'epsilon': 0.001128011699971193}. Best is trial 98 with value: -0.0056835894708379435.\u001b[0m\n",
      "\u001b[32m[I 2021-06-25 13:56:01,772]\u001b[0m Trial 148 finished with value: -0.005750574358485695 and parameters: {'kernel': 'rbf', 'C': 0.13801668230017852, 'gamma': 0.015618921392793245, 'epsilon': 0.0012594700326404758}. Best is trial 98 with value: -0.0056835894708379435.\u001b[0m\n",
      "\u001b[32m[I 2021-06-25 13:56:02,284]\u001b[0m Trial 149 finished with value: -0.005707486728910364 and parameters: {'kernel': 'rbf', 'C': 0.11097172723204858, 'gamma': 0.02415102180614767, 'epsilon': 0.0010256250085033}. Best is trial 98 with value: -0.0056835894708379435.\u001b[0m\n",
      "\u001b[32m[I 2021-06-25 13:56:02,813]\u001b[0m Trial 150 finished with value: -0.005689912443484486 and parameters: {'kernel': 'rbf', 'C': 0.11661204189237427, 'gamma': 0.02469596112402001, 'epsilon': 0.0011307557168211456}. Best is trial 98 with value: -0.0056835894708379435.\u001b[0m\n",
      "\u001b[32m[I 2021-06-25 13:56:03,338]\u001b[0m Trial 151 finished with value: -0.0057057412434658485 and parameters: {'kernel': 'rbf', 'C': 0.1139005868030473, 'gamma': 0.02380326159130012, 'epsilon': 0.0010066399119328135}. Best is trial 98 with value: -0.0056835894708379435.\u001b[0m\n",
      "\u001b[32m[I 2021-06-25 13:56:03,922]\u001b[0m Trial 152 finished with value: -0.005701770273655551 and parameters: {'kernel': 'rbf', 'C': 0.11479011885830084, 'gamma': 0.02495832143032841, 'epsilon': 0.001002072853028562}. Best is trial 98 with value: -0.0056835894708379435.\u001b[0m\n",
      "\u001b[32m[I 2021-06-25 13:56:04,534]\u001b[0m Trial 153 finished with value: -0.005707386334380453 and parameters: {'kernel': 'rbf', 'C': 0.2111220916909543, 'gamma': 0.01751132338168749, 'epsilon': 0.0010104936324134219}. Best is trial 98 with value: -0.0056835894708379435.\u001b[0m\n",
      "\u001b[32m[I 2021-06-25 13:56:05,113]\u001b[0m Trial 154 finished with value: -0.005699894674237051 and parameters: {'kernel': 'rbf', 'C': 0.17095900363946714, 'gamma': 0.01941849813375643, 'epsilon': 0.0011136049684720925}. Best is trial 98 with value: -0.0056835894708379435.\u001b[0m\n"
     ]
    },
    {
     "name": "stderr",
     "output_type": "stream",
     "text": [
      "\u001b[32m[I 2021-06-25 13:56:05,616]\u001b[0m Trial 155 finished with value: -0.00569216738088386 and parameters: {'kernel': 'rbf', 'C': 0.11473029589233164, 'gamma': 0.024886893789086272, 'epsilon': 0.0011986627017226649}. Best is trial 98 with value: -0.0056835894708379435.\u001b[0m\n",
      "\u001b[32m[I 2021-06-25 13:56:06,115]\u001b[0m Trial 156 finished with value: -0.0056736269798483355 and parameters: {'kernel': 'rbf', 'C': 0.15314711851215543, 'gamma': 0.02426309618814566, 'epsilon': 0.001386351000504121}. Best is trial 156 with value: -0.0056736269798483355.\u001b[0m\n",
      "\u001b[32m[I 2021-06-25 13:56:06,617]\u001b[0m Trial 157 finished with value: -0.005690413747171104 and parameters: {'kernel': 'rbf', 'C': 0.16125646850688993, 'gamma': 0.02561553456979716, 'epsilon': 0.001425713019203952}. Best is trial 156 with value: -0.0056736269798483355.\u001b[0m\n",
      "\u001b[32m[I 2021-06-25 13:56:07,235]\u001b[0m Trial 158 finished with value: -0.005876248007728557 and parameters: {'kernel': 'rbf', 'C': 0.2834514164953075, 'gamma': 0.03531289571469844, 'epsilon': 0.001383567803683102}. Best is trial 156 with value: -0.0056736269798483355.\u001b[0m\n",
      "\u001b[32m[I 2021-06-25 13:56:07,721]\u001b[0m Trial 159 finished with value: -0.005751669888753507 and parameters: {'kernel': 'rbf', 'C': 0.15913289566413988, 'gamma': 0.013549604553947632, 'epsilon': 0.0011528442645268682}. Best is trial 156 with value: -0.0056736269798483355.\u001b[0m\n",
      "\u001b[32m[I 2021-06-25 13:56:08,293]\u001b[0m Trial 160 finished with value: -0.005680860844743768 and parameters: {'kernel': 'rbf', 'C': 0.16583390359455122, 'gamma': 0.024750662259322903, 'epsilon': 0.0013566323548540671}. Best is trial 156 with value: -0.0056736269798483355.\u001b[0m\n",
      "\u001b[32m[I 2021-06-25 13:56:08,834]\u001b[0m Trial 161 finished with value: -0.005688954351311007 and parameters: {'kernel': 'rbf', 'C': 0.14903776622547713, 'gamma': 0.025295729441353325, 'epsilon': 0.0014046300843385782}. Best is trial 156 with value: -0.0056736269798483355.\u001b[0m\n",
      "\u001b[32m[I 2021-06-25 13:56:09,355]\u001b[0m Trial 162 finished with value: -0.0056872836587532815 and parameters: {'kernel': 'rbf', 'C': 0.16940769243999187, 'gamma': 0.024316347241240224, 'epsilon': 0.0013854709226397235}. Best is trial 156 with value: -0.0056736269798483355.\u001b[0m\n",
      "\u001b[32m[I 2021-06-25 13:56:09,925]\u001b[0m Trial 163 finished with value: -0.0056837745007127655 and parameters: {'kernel': 'rbf', 'C': 0.20846558038502405, 'gamma': 0.019640530321161535, 'epsilon': 0.001362868985215898}. Best is trial 156 with value: -0.0056736269798483355.\u001b[0m\n",
      "\u001b[32m[I 2021-06-25 13:56:10,481]\u001b[0m Trial 164 finished with value: -0.005698157925540545 and parameters: {'kernel': 'rbf', 'C': 0.210562232743973, 'gamma': 0.01898750946165601, 'epsilon': 0.0014181418973351954}. Best is trial 156 with value: -0.0056736269798483355.\u001b[0m\n",
      "\u001b[32m[I 2021-06-25 13:56:11,077]\u001b[0m Trial 165 finished with value: -0.005708145554165408 and parameters: {'kernel': 'rbf', 'C': 0.2537127338885163, 'gamma': 0.016219521316142863, 'epsilon': 0.0014094164086572367}. Best is trial 156 with value: -0.0056736269798483355.\u001b[0m\n",
      "\u001b[32m[I 2021-06-25 13:56:11,558]\u001b[0m Trial 166 finished with value: -0.005706614372478041 and parameters: {'kernel': 'rbf', 'C': 0.2112172303037394, 'gamma': 0.01948117126537712, 'epsilon': 0.0016951464024258754}. Best is trial 156 with value: -0.0056736269798483355.\u001b[0m\n",
      "\u001b[32m[I 2021-06-25 13:56:12,118]\u001b[0m Trial 167 finished with value: -0.005697785130584877 and parameters: {'kernel': 'rbf', 'C': 0.190616229409956, 'gamma': 0.02301942274141241, 'epsilon': 0.0013686087853755598}. Best is trial 156 with value: -0.0056736269798483355.\u001b[0m\n",
      "\u001b[32m[I 2021-06-25 13:56:12,822]\u001b[0m Trial 168 finished with value: -0.005813271804898105 and parameters: {'kernel': 'rbf', 'C': 0.35135235172993623, 'gamma': 0.022065395486396567, 'epsilon': 0.0013339280452908683}. Best is trial 156 with value: -0.0056736269798483355.\u001b[0m\n",
      "\u001b[32m[I 2021-06-25 13:56:13,346]\u001b[0m Trial 169 finished with value: -0.005724662415830764 and parameters: {'kernel': 'rbf', 'C': 0.19679118351587305, 'gamma': 0.015001071035439637, 'epsilon': 0.00142879032621686}. Best is trial 156 with value: -0.0056736269798483355.\u001b[0m\n",
      "\u001b[32m[I 2021-06-25 13:56:13,879]\u001b[0m Trial 170 finished with value: -0.005710549509442599 and parameters: {'kernel': 'rbf', 'C': 0.23424297837823616, 'gamma': 0.017583573101566257, 'epsilon': 0.0017653230993729793}. Best is trial 156 with value: -0.0056736269798483355.\u001b[0m\n",
      "\u001b[32m[I 2021-06-25 13:56:14,460]\u001b[0m Trial 171 finished with value: -0.005677953984379858 and parameters: {'kernel': 'rbf', 'C': 0.15255116622513978, 'gamma': 0.023073784441835152, 'epsilon': 0.001257171855697362}. Best is trial 156 with value: -0.0056736269798483355.\u001b[0m\n",
      "\u001b[32m[I 2021-06-25 13:56:14,972]\u001b[0m Trial 172 finished with value: -0.005682825692811339 and parameters: {'kernel': 'rbf', 'C': 0.1567370961262416, 'gamma': 0.022961427941263032, 'epsilon': 0.0015632900473522748}. Best is trial 156 with value: -0.0056736269798483355.\u001b[0m\n",
      "\u001b[32m[I 2021-06-25 13:56:15,445]\u001b[0m Trial 173 finished with value: -0.005680818042551358 and parameters: {'kernel': 'rbf', 'C': 0.16226376706639406, 'gamma': 0.02450238253532861, 'epsilon': 0.0015880626248929274}. Best is trial 156 with value: -0.0056736269798483355.\u001b[0m\n",
      "\u001b[32m[I 2021-06-25 13:56:15,860]\u001b[0m Trial 174 finished with value: -0.0056828749759810756 and parameters: {'kernel': 'rbf', 'C': 0.1483111051178163, 'gamma': 0.025369023835761877, 'epsilon': 0.001662560163021558}. Best is trial 156 with value: -0.0056736269798483355.\u001b[0m\n",
      "\u001b[32m[I 2021-06-25 13:56:16,325]\u001b[0m Trial 175 finished with value: -0.005758327991340527 and parameters: {'kernel': 'rbf', 'C': 0.15115302706246975, 'gamma': 0.03479306348298628, 'epsilon': 0.0016678087209992937}. Best is trial 156 with value: -0.0056736269798483355.\u001b[0m\n",
      "\u001b[32m[I 2021-06-25 13:56:16,806]\u001b[0m Trial 176 finished with value: -0.005688877507081674 and parameters: {'kernel': 'rbf', 'C': 0.1522468360491067, 'gamma': 0.026731963433631042, 'epsilon': 0.0015391407029634505}. Best is trial 156 with value: -0.0056736269798483355.\u001b[0m\n",
      "\u001b[32m[I 2021-06-25 13:56:17,239]\u001b[0m Trial 177 finished with value: -0.005693471136362875 and parameters: {'kernel': 'rbf', 'C': 0.15999339934308643, 'gamma': 0.02537884584310634, 'epsilon': 0.0018398856120144095}. Best is trial 156 with value: -0.0056736269798483355.\u001b[0m\n",
      "\u001b[32m[I 2021-06-25 13:56:17,698]\u001b[0m Trial 178 finished with value: -0.005682651910171086 and parameters: {'kernel': 'rbf', 'C': 0.16148967600495723, 'gamma': 0.02490179756835725, 'epsilon': 0.0015538676375513646}. Best is trial 156 with value: -0.0056736269798483355.\u001b[0m\n",
      "\u001b[32m[I 2021-06-25 13:56:18,519]\u001b[0m Trial 179 finished with value: -0.006340419140702225 and parameters: {'kernel': 'poly', 'C': 0.15885942837880995, 'gamma': 0.03802444883065681, 'epsilon': 0.0018213227201166482}. Best is trial 156 with value: -0.0056736269798483355.\u001b[0m\n",
      "\u001b[32m[I 2021-06-25 13:56:18,969]\u001b[0m Trial 180 finished with value: -0.0057280103923746445 and parameters: {'kernel': 'rbf', 'C': 0.14805093524427604, 'gamma': 0.03157838676856162, 'epsilon': 0.0015803287828697484}. Best is trial 156 with value: -0.0056736269798483355.\u001b[0m\n",
      "\u001b[32m[I 2021-06-25 13:56:19,463]\u001b[0m Trial 181 finished with value: -0.005692079549979255 and parameters: {'kernel': 'rbf', 'C': 0.16630165542745767, 'gamma': 0.025270632976682233, 'epsilon': 0.0015018264402513986}. Best is trial 156 with value: -0.0056736269798483355.\u001b[0m\n",
      "\u001b[32m[I 2021-06-25 13:56:19,917]\u001b[0m Trial 182 finished with value: -0.0056986827794556156 and parameters: {'kernel': 'rbf', 'C': 0.17015788739454102, 'gamma': 0.026697677379753725, 'epsilon': 0.0015712367252523085}. Best is trial 156 with value: -0.0056736269798483355.\u001b[0m\n",
      "\u001b[32m[I 2021-06-25 13:56:20,337]\u001b[0m Trial 183 finished with value: -0.005690304542686979 and parameters: {'kernel': 'rbf', 'C': 0.15764000477707976, 'gamma': 0.025581616978634616, 'epsilon': 0.0018145692348248842}. Best is trial 156 with value: -0.0056736269798483355.\u001b[0m\n",
      "\u001b[32m[I 2021-06-25 13:56:20,796]\u001b[0m Trial 184 finished with value: -0.005726271499948894 and parameters: {'kernel': 'rbf', 'C': 0.13916511449195776, 'gamma': 0.03198857524029896, 'epsilon': 0.0015319591193933646}. Best is trial 156 with value: -0.0056736269798483355.\u001b[0m\n"
     ]
    },
    {
     "name": "stderr",
     "output_type": "stream",
     "text": [
      "\u001b[32m[I 2021-06-25 13:56:21,240]\u001b[0m Trial 185 finished with value: -0.005705295190063214 and parameters: {'kernel': 'rbf', 'C': 0.19043077239774098, 'gamma': 0.025933638532800382, 'epsilon': 0.0017631291756926187}. Best is trial 156 with value: -0.0056736269798483355.\u001b[0m\n",
      "\u001b[32m[I 2021-06-25 13:56:21,768]\u001b[0m Trial 186 finished with value: -0.005704509087278823 and parameters: {'kernel': 'rbf', 'C': 0.2212314877119836, 'gamma': 0.020873144376775784, 'epsilon': 0.0015445548056448966}. Best is trial 156 with value: -0.0056736269798483355.\u001b[0m\n",
      "\u001b[32m[I 2021-06-25 13:56:22,313]\u001b[0m Trial 187 finished with value: -0.00575804178738142 and parameters: {'kernel': 'rbf', 'C': 0.14981219192900008, 'gamma': 0.03350545828586889, 'epsilon': 0.0013293475039318637}. Best is trial 156 with value: -0.0056736269798483355.\u001b[0m\n",
      "\u001b[32m[I 2021-06-25 13:56:22,686]\u001b[0m Trial 188 finished with value: -0.00570090062562776 and parameters: {'kernel': 'rbf', 'C': 0.10621129878241256, 'gamma': 0.02358061979903542, 'epsilon': 0.0018027274874874274}. Best is trial 156 with value: -0.0056736269798483355.\u001b[0m\n",
      "\u001b[32m[I 2021-06-25 13:56:23,295]\u001b[0m Trial 189 finished with value: -0.0057234235978200175 and parameters: {'kernel': 'rbf', 'C': 0.17030458764726766, 'gamma': 0.028045699860964418, 'epsilon': 0.001196261787279439}. Best is trial 156 with value: -0.0056736269798483355.\u001b[0m\n",
      "\u001b[32m[I 2021-06-25 13:56:23,788]\u001b[0m Trial 190 finished with value: -0.005832677213390893 and parameters: {'kernel': 'rbf', 'C': 0.14851680435546538, 'gamma': 0.041944439934319386, 'epsilon': 0.0014666671395476016}. Best is trial 156 with value: -0.0056736269798483355.\u001b[0m\n",
      "\u001b[32m[I 2021-06-25 13:56:24,211]\u001b[0m Trial 191 finished with value: -0.005685816307097552 and parameters: {'kernel': 'rbf', 'C': 0.1724971921753593, 'gamma': 0.024575220365866908, 'epsilon': 0.0017655483905575434}. Best is trial 156 with value: -0.0056736269798483355.\u001b[0m\n",
      "\u001b[32m[I 2021-06-25 13:56:24,613]\u001b[0m Trial 192 finished with value: -0.00571616078104716 and parameters: {'kernel': 'rbf', 'C': 0.18739927069848297, 'gamma': 0.01980878861776826, 'epsilon': 0.002006015782385372}. Best is trial 156 with value: -0.0056736269798483355.\u001b[0m\n",
      "\u001b[32m[I 2021-06-25 13:56:25,081]\u001b[0m Trial 193 finished with value: -0.005683163637699264 and parameters: {'kernel': 'rbf', 'C': 0.16649067788785812, 'gamma': 0.02346492704307484, 'epsilon': 0.0014676862156536245}. Best is trial 156 with value: -0.0056736269798483355.\u001b[0m\n",
      "\u001b[32m[I 2021-06-25 13:56:25,587]\u001b[0m Trial 194 finished with value: -0.005812602036097508 and parameters: {'kernel': 'rbf', 'C': 0.25879135811841963, 'gamma': 0.028828531522076036, 'epsilon': 0.0016758402217047167}. Best is trial 156 with value: -0.0056736269798483355.\u001b[0m\n",
      "\u001b[32m[I 2021-06-25 13:56:26,164]\u001b[0m Trial 195 finished with value: -0.005689476924823387 and parameters: {'kernel': 'rbf', 'C': 0.17791901182780007, 'gamma': 0.022099358411677955, 'epsilon': 0.0014435626890365873}. Best is trial 156 with value: -0.0056736269798483355.\u001b[0m\n",
      "\u001b[32m[I 2021-06-25 13:56:26,677]\u001b[0m Trial 196 finished with value: -0.005723045015484385 and parameters: {'kernel': 'rbf', 'C': 0.20754403547040357, 'gamma': 0.019504866941384, 'epsilon': 0.0020089696109874843}. Best is trial 156 with value: -0.0056736269798483355.\u001b[0m\n",
      "\u001b[32m[I 2021-06-25 13:56:27,211]\u001b[0m Trial 197 finished with value: -0.005682636122068772 and parameters: {'kernel': 'rbf', 'C': 0.13920551891696867, 'gamma': 0.022898873985326623, 'epsilon': 0.0013087029078030935}. Best is trial 156 with value: -0.0056736269798483355.\u001b[0m\n",
      "\u001b[32m[I 2021-06-25 13:56:27,796]\u001b[0m Trial 198 finished with value: -0.005724795279909149 and parameters: {'kernel': 'rbf', 'C': 0.14425168590564225, 'gamma': 0.017296587611278107, 'epsilon': 0.0013825917732215591}. Best is trial 156 with value: -0.0056736269798483355.\u001b[0m\n",
      "\u001b[32m[I 2021-06-25 13:56:28,144]\u001b[0m Trial 199 finished with value: -0.005830426836645748 and parameters: {'kernel': 'rbf', 'C': 0.23373343680297629, 'gamma': 0.0303935924879497, 'epsilon': 0.002506836513950857}. Best is trial 156 with value: -0.0056736269798483355.\u001b[0m\n",
      "\u001b[32m[I 2021-06-25 13:56:28,601]\u001b[0m Trial 200 finished with value: -0.0056978477167785304 and parameters: {'kernel': 'rbf', 'C': 0.17601737978048276, 'gamma': 0.02119016938837827, 'epsilon': 0.0017457684873033446}. Best is trial 156 with value: -0.0056736269798483355.\u001b[0m\n",
      "\u001b[32m[I 2021-06-25 13:56:29,110]\u001b[0m Trial 201 finished with value: -0.005695339518754874 and parameters: {'kernel': 'rbf', 'C': 0.13666567611779518, 'gamma': 0.022942214238775394, 'epsilon': 0.001314049042599331}. Best is trial 156 with value: -0.0056736269798483355.\u001b[0m\n",
      "\u001b[32m[I 2021-06-25 13:56:29,604]\u001b[0m Trial 202 finished with value: -0.005682326311646027 and parameters: {'kernel': 'rbf', 'C': 0.1575515558045523, 'gamma': 0.02318121499228044, 'epsilon': 0.001488138198310282}. Best is trial 156 with value: -0.0056736269798483355.\u001b[0m\n",
      "\u001b[32m[I 2021-06-25 13:56:30,106]\u001b[0m Trial 203 finished with value: -0.005698998620938645 and parameters: {'kernel': 'rbf', 'C': 0.1649676146778636, 'gamma': 0.027160513781249868, 'epsilon': 0.001533978466231878}. Best is trial 156 with value: -0.0056736269798483355.\u001b[0m\n",
      "\u001b[32m[I 2021-06-25 13:56:30,534]\u001b[0m Trial 204 finished with value: -0.005706155245211674 and parameters: {'kernel': 'rbf', 'C': 0.19012897678293714, 'gamma': 0.01933192516255746, 'epsilon': 0.0018764813780802747}. Best is trial 156 with value: -0.0056736269798483355.\u001b[0m\n",
      "\u001b[32m[I 2021-06-25 13:56:30,969]\u001b[0m Trial 205 finished with value: -0.005684923395586595 and parameters: {'kernel': 'rbf', 'C': 0.14385447771726537, 'gamma': 0.023513869153160005, 'epsilon': 0.0015434979069466797}. Best is trial 156 with value: -0.0056736269798483355.\u001b[0m\n",
      "\u001b[32m[I 2021-06-25 13:56:31,403]\u001b[0m Trial 206 finished with value: -0.0056859435780748065 and parameters: {'kernel': 'rbf', 'C': 0.14333781287308495, 'gamma': 0.023192201618958616, 'epsilon': 0.001678711101128287}. Best is trial 156 with value: -0.0056736269798483355.\u001b[0m\n",
      "\u001b[32m[I 2021-06-25 13:56:31,833]\u001b[0m Trial 207 finished with value: -0.005749459318840855 and parameters: {'kernel': 'rbf', 'C': 0.14259882073557487, 'gamma': 0.015436953263394558, 'epsilon': 0.0016146012836467044}. Best is trial 156 with value: -0.0056736269798483355.\u001b[0m\n",
      "\u001b[32m[I 2021-06-25 13:56:32,394]\u001b[0m Trial 208 finished with value: -0.005700716438037466 and parameters: {'kernel': 'rbf', 'C': 0.20709672655828215, 'gamma': 0.02242359002537208, 'epsilon': 0.001269283780674866}. Best is trial 156 with value: -0.0056736269798483355.\u001b[0m\n",
      "\u001b[32m[I 2021-06-25 13:56:32,756]\u001b[0m Trial 209 finished with value: -0.005739329279999618 and parameters: {'kernel': 'rbf', 'C': 0.13697692958284924, 'gamma': 0.017870927081087663, 'epsilon': 0.0020047960681703397}. Best is trial 156 with value: -0.0056736269798483355.\u001b[0m\n",
      "\u001b[32m[I 2021-06-25 13:56:33,327]\u001b[0m Trial 210 finished with value: -0.0057231893318366285 and parameters: {'kernel': 'rbf', 'C': 0.1070329643333843, 'gamma': 0.032867471915818555, 'epsilon': 0.001130756390322587}. Best is trial 156 with value: -0.0056736269798483355.\u001b[0m\n",
      "\u001b[32m[I 2021-06-25 13:56:33,800]\u001b[0m Trial 211 finished with value: -0.005691850404560723 and parameters: {'kernel': 'rbf', 'C': 0.1606745728206835, 'gamma': 0.02355155125925769, 'epsilon': 0.0016680819718218457}. Best is trial 156 with value: -0.0056736269798483355.\u001b[0m\n",
      "\u001b[32m[I 2021-06-25 13:56:34,503]\u001b[0m Trial 212 finished with value: -0.005724935852149952 and parameters: {'kernel': 'rbf', 'C': 0.19043869555036658, 'gamma': 0.02768955778062663, 'epsilon': 0.0014475006449713975}. Best is trial 156 with value: -0.0056736269798483355.\u001b[0m\n",
      "\u001b[32m[I 2021-06-25 13:56:34,866]\u001b[0m Trial 213 finished with value: -0.005723773577398043 and parameters: {'kernel': 'rbf', 'C': 0.14064629315248686, 'gamma': 0.02052970857240435, 'epsilon': 0.0021253569693934424}. Best is trial 156 with value: -0.0056736269798483355.\u001b[0m\n",
      "\u001b[32m[I 2021-06-25 13:56:35,416]\u001b[0m Trial 214 finished with value: -0.005677674382351801 and parameters: {'kernel': 'rbf', 'C': 0.1734219007185067, 'gamma': 0.024157928427169285, 'epsilon': 0.0012915475735685894}. Best is trial 156 with value: -0.0056736269798483355.\u001b[0m\n",
      "\u001b[32m[I 2021-06-25 13:56:35,954]\u001b[0m Trial 215 finished with value: -0.005693841588531541 and parameters: {'kernel': 'rbf', 'C': 0.17749523424988037, 'gamma': 0.02154965318499877, 'epsilon': 0.0012823941094521226}. Best is trial 156 with value: -0.0056736269798483355.\u001b[0m\n"
     ]
    },
    {
     "name": "stderr",
     "output_type": "stream",
     "text": [
      "\u001b[32m[I 2021-06-25 13:56:36,528]\u001b[0m Trial 216 finished with value: -0.005807358985932039 and parameters: {'kernel': 'rbf', 'C': 0.23521977057381738, 'gamma': 0.029231287532727992, 'epsilon': 0.001482962229166614}. Best is trial 156 with value: -0.0056736269798483355.\u001b[0m\n",
      "\u001b[32m[I 2021-06-25 13:56:37,060]\u001b[0m Trial 217 finished with value: -0.005688993962432325 and parameters: {'kernel': 'rbf', 'C': 0.14363622294902942, 'gamma': 0.02384143287400765, 'epsilon': 0.0011584391106316428}. Best is trial 156 with value: -0.0056736269798483355.\u001b[0m\n",
      "\u001b[32m[I 2021-06-25 13:56:37,722]\u001b[0m Trial 218 finished with value: -0.005706636679515448 and parameters: {'kernel': 'rbf', 'C': 0.29962458195034614, 'gamma': 0.018838965718618005, 'epsilon': 0.0013041841876670797}. Best is trial 156 with value: -0.0056736269798483355.\u001b[0m\n",
      "\u001b[32m[I 2021-06-25 13:56:38,206]\u001b[0m Trial 219 finished with value: -0.005695419517161353 and parameters: {'kernel': 'rbf', 'C': 0.1794339586696002, 'gamma': 0.022389672228737743, 'epsilon': 0.0015883987256992518}. Best is trial 156 with value: -0.0056736269798483355.\u001b[0m\n",
      "\u001b[32m[I 2021-06-25 13:56:38,737]\u001b[0m Trial 220 finished with value: -0.005732170940544981 and parameters: {'kernel': 'rbf', 'C': 0.13868092932942888, 'gamma': 0.016765404509327165, 'epsilon': 0.0011325771494509684}. Best is trial 156 with value: -0.0056736269798483355.\u001b[0m\n",
      "\u001b[32m[I 2021-06-25 13:56:39,243]\u001b[0m Trial 221 finished with value: -0.005681859924141639 and parameters: {'kernel': 'rbf', 'C': 0.15696421755376153, 'gamma': 0.02434786517162035, 'epsilon': 0.001333155335083733}. Best is trial 156 with value: -0.0056736269798483355.\u001b[0m\n",
      "\u001b[32m[I 2021-06-25 13:56:39,774]\u001b[0m Trial 222 finished with value: -0.005704896257399384 and parameters: {'kernel': 'rbf', 'C': 0.1582390835500763, 'gamma': 0.027187957876660816, 'epsilon': 0.001352097778775803}. Best is trial 156 with value: -0.0056736269798483355.\u001b[0m\n",
      "\u001b[32m[I 2021-06-25 13:56:40,274]\u001b[0m Trial 223 finished with value: -0.005689051488712917 and parameters: {'kernel': 'rbf', 'C': 0.19458277834894727, 'gamma': 0.023569416883398107, 'epsilon': 0.0015225763023476982}. Best is trial 156 with value: -0.0056736269798483355.\u001b[0m\n",
      "\u001b[32m[I 2021-06-25 13:56:40,749]\u001b[0m Trial 224 finished with value: -0.005799524487275543 and parameters: {'kernel': 'rbf', 'C': 0.21976128967108066, 'gamma': 0.030748759703611368, 'epsilon': 0.0016784065434249954}. Best is trial 156 with value: -0.0056736269798483355.\u001b[0m\n",
      "\u001b[32m[I 2021-06-25 13:56:41,268]\u001b[0m Trial 225 finished with value: -0.005683026304717474 and parameters: {'kernel': 'rbf', 'C': 0.14503527299300523, 'gamma': 0.02490679342617477, 'epsilon': 0.0012340229949828541}. Best is trial 156 with value: -0.0056736269798483355.\u001b[0m\n",
      "\u001b[32m[I 2021-06-25 13:56:41,812]\u001b[0m Trial 226 finished with value: -0.0057556861376983305 and parameters: {'kernel': 'rbf', 'C': 0.13301086317120017, 'gamma': 0.034365395890128596, 'epsilon': 0.0012403585716129293}. Best is trial 156 with value: -0.0056736269798483355.\u001b[0m\n",
      "\u001b[32m[I 2021-06-25 13:56:42,354]\u001b[0m Trial 227 finished with value: -0.005692343062837394 and parameters: {'kernel': 'rbf', 'C': 0.1506588758553499, 'gamma': 0.02005604696112288, 'epsilon': 0.0011856769788129566}. Best is trial 156 with value: -0.0056736269798483355.\u001b[0m\n",
      "\u001b[32m[I 2021-06-25 13:56:42,889]\u001b[0m Trial 228 finished with value: -0.0057045537823624225 and parameters: {'kernel': 'rbf', 'C': 0.13212091319042865, 'gamma': 0.026550549050909995, 'epsilon': 0.0011078316754592865}. Best is trial 156 with value: -0.0056736269798483355.\u001b[0m\n",
      "\u001b[32m[I 2021-06-25 13:56:43,383]\u001b[0m Trial 229 finished with value: -0.0056904706110725315 and parameters: {'kernel': 'rbf', 'C': 0.1624610769593931, 'gamma': 0.024625389527696332, 'epsilon': 0.0013829043234175682}. Best is trial 156 with value: -0.0056736269798483355.\u001b[0m\n",
      "\u001b[32m[I 2021-06-25 13:56:43,407]\u001b[0m Trial 230 finished with value: -0.04522358590646345 and parameters: {'kernel': 'rbf', 'C': 0.11540893806482778, 'gamma': 0.02986023255602014, 'epsilon': 0.11547969746556641}. Best is trial 156 with value: -0.0056736269798483355.\u001b[0m\n",
      "\u001b[32m[I 2021-06-25 13:56:43,924]\u001b[0m Trial 231 finished with value: -0.005695879499046712 and parameters: {'kernel': 'rbf', 'C': 0.19759650545465524, 'gamma': 0.02338455958702335, 'epsilon': 0.001567458973806335}. Best is trial 156 with value: -0.0056736269798483355.\u001b[0m\n",
      "\u001b[32m[I 2021-06-25 13:56:44,386]\u001b[0m Trial 232 finished with value: -0.0056950289635883415 and parameters: {'kernel': 'rbf', 'C': 0.1509565781231527, 'gamma': 0.024082097405396637, 'epsilon': 0.0018044875986225125}. Best is trial 156 with value: -0.0056736269798483355.\u001b[0m\n",
      "\u001b[32m[I 2021-06-25 13:56:44,944]\u001b[0m Trial 233 finished with value: -0.005703329435485034 and parameters: {'kernel': 'rbf', 'C': 0.1725946014238646, 'gamma': 0.02006063218573702, 'epsilon': 0.0014498979205132597}. Best is trial 156 with value: -0.0056736269798483355.\u001b[0m\n",
      "\u001b[32m[I 2021-06-25 13:56:45,515]\u001b[0m Trial 234 finished with value: -0.005690072064983857 and parameters: {'kernel': 'rbf', 'C': 0.13635571734526095, 'gamma': 0.027360054284528337, 'epsilon': 0.0012943527343882914}. Best is trial 156 with value: -0.0056736269798483355.\u001b[0m\n",
      "\u001b[32m[I 2021-06-25 13:56:46,131]\u001b[0m Trial 235 finished with value: -0.005703669371244813 and parameters: {'kernel': 'rbf', 'C': 0.19849105216340576, 'gamma': 0.021386162971862886, 'epsilon': 0.0017064997606847378}. Best is trial 156 with value: -0.0056736269798483355.\u001b[0m\n",
      "\u001b[32m[I 2021-06-25 13:56:46,727]\u001b[0m Trial 236 finished with value: -0.0057152696590777275 and parameters: {'kernel': 'rbf', 'C': 0.1560812021093413, 'gamma': 0.018781146322943598, 'epsilon': 0.0010014391335095977}. Best is trial 156 with value: -0.0056736269798483355.\u001b[0m\n",
      "\u001b[32m[I 2021-06-25 13:56:46,751]\u001b[0m Trial 237 finished with value: -0.04522358590646345 and parameters: {'kernel': 'rbf', 'C': 0.12140807437028443, 'gamma': 0.02456802653421818, 'epsilon': 0.8832933150900801}. Best is trial 156 with value: -0.0056736269798483355.\u001b[0m\n",
      "\u001b[32m[I 2021-06-25 13:56:47,796]\u001b[0m Trial 238 finished with value: -0.006381407496621429 and parameters: {'kernel': 'poly', 'C': 0.17906361047699762, 'gamma': 0.031200799441326928, 'epsilon': 0.001495940139287825}. Best is trial 156 with value: -0.0056736269798483355.\u001b[0m\n",
      "\u001b[32m[I 2021-06-25 13:56:48,351]\u001b[0m Trial 239 finished with value: -0.0056931348143508 and parameters: {'kernel': 'rbf', 'C': 0.1447078489536558, 'gamma': 0.02300881141989194, 'epsilon': 0.0012604677463204806}. Best is trial 156 with value: -0.0056736269798483355.\u001b[0m\n",
      "\u001b[32m[I 2021-06-25 13:56:48,766]\u001b[0m Trial 240 finished with value: -0.005834291769173289 and parameters: {'kernel': 'rbf', 'C': 0.19739919959243854, 'gamma': 0.03720925138230517, 'epsilon': 0.0019489945358700143}. Best is trial 156 with value: -0.0056736269798483355.\u001b[0m\n",
      "\u001b[32m[I 2021-06-25 13:56:49,426]\u001b[0m Trial 241 finished with value: -0.005683637343551563 and parameters: {'kernel': 'rbf', 'C': 0.1717101185075204, 'gamma': 0.021842078925975734, 'epsilon': 0.0014106142030949175}. Best is trial 156 with value: -0.0056736269798483355.\u001b[0m\n",
      "\u001b[32m[I 2021-06-25 13:56:50,035]\u001b[0m Trial 242 finished with value: -0.005698825061185038 and parameters: {'kernel': 'rbf', 'C': 0.16641136800095868, 'gamma': 0.026131929814428235, 'epsilon': 0.0014578745913946206}. Best is trial 156 with value: -0.0056736269798483355.\u001b[0m\n",
      "\u001b[32m[I 2021-06-25 13:56:50,542]\u001b[0m Trial 243 finished with value: -0.007053815155666244 and parameters: {'kernel': 'rbf', 'C': 0.1331108760061034, 'gamma': 0.3002412257862636, 'epsilon': 0.0011724140480832768}. Best is trial 156 with value: -0.0056736269798483355.\u001b[0m\n",
      "\u001b[32m[I 2021-06-25 13:56:50,994]\u001b[0m Trial 244 finished with value: -0.005710736847797097 and parameters: {'kernel': 'rbf', 'C': 0.15667301709502482, 'gamma': 0.020406219793657424, 'epsilon': 0.0016181978289941954}. Best is trial 156 with value: -0.0056736269798483355.\u001b[0m\n",
      "\u001b[32m[I 2021-06-25 13:56:51,521]\u001b[0m Trial 245 finished with value: -0.005699947838395658 and parameters: {'kernel': 'rbf', 'C': 0.21381640004956914, 'gamma': 0.017968990117918138, 'epsilon': 0.0013660621435998394}. Best is trial 156 with value: -0.0056736269798483355.\u001b[0m\n",
      "\u001b[32m[I 2021-06-25 13:56:51,980]\u001b[0m Trial 246 finished with value: -0.005691034895536417 and parameters: {'kernel': 'rbf', 'C': 0.1728451333016764, 'gamma': 0.023110011538295165, 'epsilon': 0.0016889725788683378}. Best is trial 156 with value: -0.0056736269798483355.\u001b[0m\n"
     ]
    },
    {
     "name": "stderr",
     "output_type": "stream",
     "text": [
      "\u001b[32m[I 2021-06-25 13:56:52,488]\u001b[0m Trial 247 finished with value: -0.005703840482416709 and parameters: {'kernel': 'rbf', 'C': 0.10485708858796375, 'gamma': 0.027961869098874576, 'epsilon': 0.0011016392970226731}. Best is trial 156 with value: -0.0056736269798483355.\u001b[0m\n",
      "\u001b[32m[I 2021-06-25 13:56:53,043]\u001b[0m Trial 248 finished with value: -0.005696921879258121 and parameters: {'kernel': 'rbf', 'C': 0.14298555495356827, 'gamma': 0.020946410742997208, 'epsilon': 0.0012905167169441115}. Best is trial 156 with value: -0.0056736269798483355.\u001b[0m\n",
      "\u001b[32m[I 2021-06-25 13:56:53,552]\u001b[0m Trial 249 finished with value: -0.005687978473187763 and parameters: {'kernel': 'rbf', 'C': 0.12025140653425312, 'gamma': 0.025584536555035387, 'epsilon': 0.0015041883596840506}. Best is trial 156 with value: -0.0056736269798483355.\u001b[0m\n",
      "\u001b[32m[I 2021-06-25 13:56:54,058]\u001b[0m Trial 250 finished with value: -0.005698327839346671 and parameters: {'kernel': 'rbf', 'C': 0.11630615783248295, 'gamma': 0.027514208952280732, 'epsilon': 0.0013416144809827708}. Best is trial 156 with value: -0.0056736269798483355.\u001b[0m\n",
      "\u001b[32m[I 2021-06-25 13:56:54,481]\u001b[0m Trial 251 finished with value: -0.005719831362224734 and parameters: {'kernel': 'rbf', 'C': 0.12466238861798953, 'gamma': 0.03176525716040246, 'epsilon': 0.0018615029272764532}. Best is trial 156 with value: -0.0056736269798483355.\u001b[0m\n",
      "\u001b[32m[I 2021-06-25 13:56:55,075]\u001b[0m Trial 252 finished with value: -0.005739930895147761 and parameters: {'kernel': 'rbf', 'C': 0.14710716885081704, 'gamma': 0.016205852144958836, 'epsilon': 0.001001015993395393}. Best is trial 156 with value: -0.0056736269798483355.\u001b[0m\n",
      "\u001b[32m[I 2021-06-25 13:56:55,706]\u001b[0m Trial 253 finished with value: -0.005698206574109482 and parameters: {'kernel': 'rbf', 'C': 0.09590321960757504, 'gamma': 0.025815375626295503, 'epsilon': 0.001197331430563091}. Best is trial 156 with value: -0.0056736269798483355.\u001b[0m\n",
      "\u001b[32m[I 2021-06-25 13:56:56,234]\u001b[0m Trial 254 finished with value: -0.005699018180946911 and parameters: {'kernel': 'rbf', 'C': 0.1290220697187593, 'gamma': 0.02141984114465321, 'epsilon': 0.0015246315574756989}. Best is trial 156 with value: -0.0056736269798483355.\u001b[0m\n",
      "\u001b[32m[I 2021-06-25 13:56:56,684]\u001b[0m Trial 255 finished with value: -0.005709288174767596 and parameters: {'kernel': 'rbf', 'C': 0.16507880864539243, 'gamma': 0.018280383828668166, 'epsilon': 0.0016867676078525197}. Best is trial 156 with value: -0.0056736269798483355.\u001b[0m\n",
      "\u001b[32m[I 2021-06-25 13:56:57,128]\u001b[0m Trial 256 finished with value: -0.005688613689685356 and parameters: {'kernel': 'rbf', 'C': 0.10743232213887799, 'gamma': 0.025274041659981608, 'epsilon': 0.0013795857753935317}. Best is trial 156 with value: -0.0056736269798483355.\u001b[0m\n",
      "\u001b[32m[I 2021-06-25 13:56:57,583]\u001b[0m Trial 257 finished with value: -0.005707462187596051 and parameters: {'kernel': 'rbf', 'C': 0.10738283237176441, 'gamma': 0.030212579466808383, 'epsilon': 0.0014137481181464035}. Best is trial 156 with value: -0.0056736269798483355.\u001b[0m\n",
      "\u001b[32m[I 2021-06-25 13:56:57,883]\u001b[0m Trial 258 finished with value: -0.005718870224298302 and parameters: {'kernel': 'rbf', 'C': 0.09875415618474753, 'gamma': 0.026928610980540276, 'epsilon': 0.0022269443753568153}. Best is trial 156 with value: -0.0056736269798483355.\u001b[0m\n",
      "\u001b[32m[I 2021-06-25 13:56:58,287]\u001b[0m Trial 259 finished with value: -0.00572267696037956 and parameters: {'kernel': 'rbf', 'C': 0.12446187450386724, 'gamma': 0.02022242854475307, 'epsilon': 0.001751827994958149}. Best is trial 156 with value: -0.0056736269798483355.\u001b[0m\n",
      "\u001b[32m[I 2021-06-25 13:56:58,667]\u001b[0m Trial 260 finished with value: -0.005777255285120124 and parameters: {'kernel': 'rbf', 'C': 0.1743656997173211, 'gamma': 0.03385249342141252, 'epsilon': 0.0020210763553908744}. Best is trial 156 with value: -0.0056736269798483355.\u001b[0m\n",
      "\u001b[32m[I 2021-06-25 13:56:59,261]\u001b[0m Trial 261 finished with value: -0.005743207745953932 and parameters: {'kernel': 'rbf', 'C': 0.25754016335589797, 'gamma': 0.0240369326624608, 'epsilon': 0.0013496377429703175}. Best is trial 156 with value: -0.0056736269798483355.\u001b[0m\n",
      "\u001b[32m[I 2021-06-25 13:56:59,674]\u001b[0m Trial 262 finished with value: -0.005697759745143856 and parameters: {'kernel': 'rbf', 'C': 0.1124778342677293, 'gamma': 0.029050456621620716, 'epsilon': 0.0015442624579141875}. Best is trial 156 with value: -0.0056736269798483355.\u001b[0m\n",
      "\u001b[32m[I 2021-06-25 13:57:00,167]\u001b[0m Trial 263 finished with value: -0.005702526690283434 and parameters: {'kernel': 'rbf', 'C': 0.1504942512032603, 'gamma': 0.018272168713584093, 'epsilon': 0.0012827379930215464}. Best is trial 156 with value: -0.0056736269798483355.\u001b[0m\n",
      "\u001b[32m[I 2021-06-25 13:57:00,606]\u001b[0m Trial 264 finished with value: -0.005701046003175565 and parameters: {'kernel': 'rbf', 'C': 0.1339603659949921, 'gamma': 0.02143641349434141, 'epsilon': 0.0015807249754881572}. Best is trial 156 with value: -0.0056736269798483355.\u001b[0m\n",
      "\u001b[32m[I 2021-06-25 13:57:01,197]\u001b[0m Trial 265 finished with value: -0.005706211900570333 and parameters: {'kernel': 'rbf', 'C': 0.18856181910016068, 'gamma': 0.025368190207596068, 'epsilon': 0.0010915658108889927}. Best is trial 156 with value: -0.0056736269798483355.\u001b[0m\n",
      "\u001b[32m[I 2021-06-25 13:57:01,632]\u001b[0m Trial 266 finished with value: -0.005722902315775824 and parameters: {'kernel': 'rbf', 'C': 0.2150758314911305, 'gamma': 0.016554504748923782, 'epsilon': 0.0017889276690634755}. Best is trial 156 with value: -0.0056736269798483355.\u001b[0m\n",
      "\u001b[32m[I 2021-06-25 13:57:02,115]\u001b[0m Trial 267 finished with value: -0.005794471068872456 and parameters: {'kernel': 'rbf', 'C': 0.16202005071197556, 'gamma': 0.03641029732179337, 'epsilon': 0.0014157741956237894}. Best is trial 156 with value: -0.0056736269798483355.\u001b[0m\n",
      "\u001b[32m[I 2021-06-25 13:57:02,617]\u001b[0m Trial 268 finished with value: -0.005686346291222228 and parameters: {'kernel': 'rbf', 'C': 0.1330269353245844, 'gamma': 0.02366400881275123, 'epsilon': 0.0012037972519101064}. Best is trial 156 with value: -0.0056736269798483355.\u001b[0m\n",
      "\u001b[32m[I 2021-06-25 13:57:03,134]\u001b[0m Trial 269 finished with value: -0.005730080767258977 and parameters: {'kernel': 'rbf', 'C': 0.10867287899114284, 'gamma': 0.020231066389686872, 'epsilon': 0.0010242061108681057}. Best is trial 156 with value: -0.0056736269798483355.\u001b[0m\n",
      "\u001b[32m[I 2021-06-25 13:57:03,595]\u001b[0m Trial 270 finished with value: -0.006388917378311311 and parameters: {'kernel': 'poly', 'C': 0.08468563449759522, 'gamma': 0.02256889701911471, 'epsilon': 0.0012135719014210208}. Best is trial 156 with value: -0.0056736269798483355.\u001b[0m\n",
      "\u001b[32m[I 2021-06-25 13:57:04,131]\u001b[0m Trial 271 finished with value: -0.005705096004020892 and parameters: {'kernel': 'rbf', 'C': 0.13563098596583084, 'gamma': 0.028784726605347505, 'epsilon': 0.001129848154373934}. Best is trial 156 with value: -0.0056736269798483355.\u001b[0m\n",
      "\u001b[32m[I 2021-06-25 13:57:04,176]\u001b[0m Trial 272 finished with value: -0.018773092599141932 and parameters: {'kernel': 'rbf', 'C': 0.12191431262043513, 'gamma': 0.013966747567529563, 'epsilon': 0.02540279764717219}. Best is trial 156 with value: -0.0056736269798483355.\u001b[0m\n",
      "\u001b[32m[I 2021-06-25 13:57:04,591]\u001b[0m Trial 273 finished with value: -0.005714276860372322 and parameters: {'kernel': 'rbf', 'C': 0.185938470711893, 'gamma': 0.018845803621956737, 'epsilon': 0.001897932126903656}. Best is trial 156 with value: -0.0056736269798483355.\u001b[0m\n",
      "\u001b[32m[I 2021-06-25 13:57:05,059]\u001b[0m Trial 274 finished with value: -0.005677645253757815 and parameters: {'kernel': 'rbf', 'C': 0.1616786270871079, 'gamma': 0.02360541240019623, 'epsilon': 0.0015411671825970189}. Best is trial 156 with value: -0.0056736269798483355.\u001b[0m\n",
      "\u001b[32m[I 2021-06-25 13:57:05,636]\u001b[0m Trial 275 finished with value: -0.005711712060832431 and parameters: {'kernel': 'rbf', 'C': 0.23455245610590708, 'gamma': 0.022642353353438744, 'epsilon': 0.0012844992223026443}. Best is trial 156 with value: -0.0056736269798483355.\u001b[0m\n",
      "\u001b[32m[I 2021-06-25 13:57:06,120]\u001b[0m Trial 276 finished with value: -0.005726290918519919 and parameters: {'kernel': 'rbf', 'C': 0.17462712231915065, 'gamma': 0.015703032017062427, 'epsilon': 0.0016317972837554874}. Best is trial 156 with value: -0.0056736269798483355.\u001b[0m\n",
      "\u001b[32m[I 2021-06-25 13:57:06,774]\u001b[0m Trial 277 finished with value: -0.005704669258719124 and parameters: {'kernel': 'rbf', 'C': 0.1288387713645709, 'gamma': 0.02463333474917297, 'epsilon': 0.0010075679749967216}. Best is trial 156 with value: -0.0056736269798483355.\u001b[0m\n"
     ]
    },
    {
     "name": "stderr",
     "output_type": "stream",
     "text": [
      "\u001b[32m[I 2021-06-25 13:57:07,121]\u001b[0m Trial 278 finished with value: -0.005739540205207512 and parameters: {'kernel': 'rbf', 'C': 0.09516663517246264, 'gamma': 0.01968002865799194, 'epsilon': 0.0022466639276015857}. Best is trial 156 with value: -0.0056736269798483355.\u001b[0m\n",
      "\u001b[32m[I 2021-06-25 13:57:07,771]\u001b[0m Trial 279 finished with value: -0.005744680077556314 and parameters: {'kernel': 'rbf', 'C': 0.1598812414998977, 'gamma': 0.031523182100858305, 'epsilon': 0.0013044657381208673}. Best is trial 156 with value: -0.0056736269798483355.\u001b[0m\n",
      "\u001b[32m[I 2021-06-25 13:57:08,515]\u001b[0m Trial 280 finished with value: -0.005704415352832261 and parameters: {'kernel': 'rbf', 'C': 0.20919332579299618, 'gamma': 0.022809817961500015, 'epsilon': 0.001412905136293289}. Best is trial 156 with value: -0.0056736269798483355.\u001b[0m\n",
      "\u001b[32m[I 2021-06-25 13:57:08,994]\u001b[0m Trial 281 finished with value: -0.0057044860892270415 and parameters: {'kernel': 'rbf', 'C': 0.11619640894478042, 'gamma': 0.02785695334230703, 'epsilon': 0.001986648174476845}. Best is trial 156 with value: -0.0056736269798483355.\u001b[0m\n",
      "\u001b[32m[I 2021-06-25 13:57:09,595]\u001b[0m Trial 282 finished with value: -0.005722506210196966 and parameters: {'kernel': 'rbf', 'C': 0.14109492193722234, 'gamma': 0.017102435790810156, 'epsilon': 0.001628230102026746}. Best is trial 156 with value: -0.0056736269798483355.\u001b[0m\n",
      "\u001b[32m[I 2021-06-25 13:57:10,204]\u001b[0m Trial 283 finished with value: -0.005697367890720746 and parameters: {'kernel': 'rbf', 'C': 0.17537347309911863, 'gamma': 0.021692604294507815, 'epsilon': 0.0011448308335446741}. Best is trial 156 with value: -0.0056736269798483355.\u001b[0m\n",
      "\u001b[32m[I 2021-06-25 13:57:10,783]\u001b[0m Trial 284 finished with value: -0.005680857136955205 and parameters: {'kernel': 'rbf', 'C': 0.15081546279806435, 'gamma': 0.025544430168989978, 'epsilon': 0.0014531862688429357}. Best is trial 156 with value: -0.0056736269798483355.\u001b[0m\n",
      "\u001b[32m[I 2021-06-25 13:57:11,514]\u001b[0m Trial 285 finished with value: -0.0057055512679222665 and parameters: {'kernel': 'rbf', 'C': 0.15039675781614834, 'gamma': 0.019503247289040144, 'epsilon': 0.0010003110933368444}. Best is trial 156 with value: -0.0056736269798483355.\u001b[0m\n",
      "\u001b[32m[I 2021-06-25 13:57:11,996]\u001b[0m Trial 286 finished with value: -0.005784546102696541 and parameters: {'kernel': 'rbf', 'C': 0.1951679466258365, 'gamma': 0.031925422633171295, 'epsilon': 0.0017441333939584988}. Best is trial 156 with value: -0.0056736269798483355.\u001b[0m\n",
      "\u001b[32m[I 2021-06-25 13:57:12,483]\u001b[0m Trial 287 finished with value: -0.0056874952696288035 and parameters: {'kernel': 'rbf', 'C': 0.1629279092608641, 'gamma': 0.026319711019259832, 'epsilon': 0.0015500696595605876}. Best is trial 156 with value: -0.0056736269798483355.\u001b[0m\n",
      "\u001b[32m[I 2021-06-25 13:57:13,024]\u001b[0m Trial 288 finished with value: -0.005682649211736899 and parameters: {'kernel': 'rbf', 'C': 0.1729830271550893, 'gamma': 0.022667269625908173, 'epsilon': 0.0012353654292299877}. Best is trial 156 with value: -0.0056736269798483355.\u001b[0m\n",
      "\u001b[32m[I 2021-06-25 13:57:13,637]\u001b[0m Trial 289 finished with value: -0.005776060419936763 and parameters: {'kernel': 'rbf', 'C': 0.22961019639317126, 'gamma': 0.02867720359131011, 'epsilon': 0.0018098166265545538}. Best is trial 156 with value: -0.0056736269798483355.\u001b[0m\n",
      "\u001b[32m[I 2021-06-25 13:57:13,672]\u001b[0m Trial 290 finished with value: -0.04522358590646345 and parameters: {'kernel': 'rbf', 'C': 0.18057994593823973, 'gamma': 0.03622948352882695, 'epsilon': 0.05065746688318886}. Best is trial 156 with value: -0.0056736269798483355.\u001b[0m\n",
      "\u001b[32m[I 2021-06-25 13:57:14,292]\u001b[0m Trial 291 finished with value: -0.0056800650526618824 and parameters: {'kernel': 'rbf', 'C': 0.16546517996621593, 'gamma': 0.023605540080739455, 'epsilon': 0.0015048034953952215}. Best is trial 156 with value: -0.0056736269798483355.\u001b[0m\n",
      "\u001b[32m[I 2021-06-25 13:57:14,983]\u001b[0m Trial 292 finished with value: -0.00568281393680969 and parameters: {'kernel': 'rbf', 'C': 0.1964641222257981, 'gamma': 0.018365518877203408, 'epsilon': 0.001231055155579379}. Best is trial 156 with value: -0.0056736269798483355.\u001b[0m\n",
      "\u001b[32m[I 2021-06-25 13:57:15,841]\u001b[0m Trial 293 finished with value: -0.005704046300384028 and parameters: {'kernel': 'rbf', 'C': 0.27912335982989656, 'gamma': 0.015372389441160476, 'epsilon': 0.0011949789549789672}. Best is trial 156 with value: -0.0056736269798483355.\u001b[0m\n",
      "\u001b[32m[I 2021-06-25 13:57:16,676]\u001b[0m Trial 294 finished with value: -0.0057007685209268045 and parameters: {'kernel': 'rbf', 'C': 0.20837831538202795, 'gamma': 0.01787849747358996, 'epsilon': 0.0011096800481940905}. Best is trial 156 with value: -0.0056736269798483355.\u001b[0m\n",
      "\u001b[32m[I 2021-06-25 13:57:17,199]\u001b[0m Trial 295 finished with value: -0.0057908166273652984 and parameters: {'kernel': 'rbf', 'C': 0.23314766714047494, 'gamma': 0.012706121440775129, 'epsilon': 0.0023836045851399596}. Best is trial 156 with value: -0.0056736269798483355.\u001b[0m\n",
      "\u001b[32m[I 2021-06-25 13:57:17,839]\u001b[0m Trial 296 finished with value: -0.00570029435289932 and parameters: {'kernel': 'rbf', 'C': 0.18774291352474143, 'gamma': 0.01973873001506925, 'epsilon': 0.0012798118687452668}. Best is trial 156 with value: -0.0056736269798483355.\u001b[0m\n",
      "\u001b[32m[I 2021-06-25 13:57:18,375]\u001b[0m Trial 297 finished with value: -0.005705392978134812 and parameters: {'kernel': 'rbf', 'C': 0.15425601607563558, 'gamma': 0.02178140512681796, 'epsilon': 0.0020389826460737795}. Best is trial 156 with value: -0.0056736269798483355.\u001b[0m\n",
      "\u001b[32m[I 2021-06-25 13:57:19,009]\u001b[0m Trial 298 finished with value: -0.005704117672156075 and parameters: {'kernel': 'rbf', 'C': 0.1951342315426927, 'gamma': 0.017944502973355942, 'epsilon': 0.001004314007806005}. Best is trial 156 with value: -0.0056736269798483355.\u001b[0m\n",
      "\u001b[32m[I 2021-06-25 13:57:19,538]\u001b[0m Trial 299 finished with value: -0.005685678790945593 and parameters: {'kernel': 'rbf', 'C': 0.14348017617248476, 'gamma': 0.023612358845046096, 'epsilon': 0.0014494860435884667}. Best is trial 156 with value: -0.0056736269798483355.\u001b[0m\n",
      "\u001b[32m[I 2021-06-25 13:57:20,050]\u001b[0m Trial 300 finished with value: -0.006316034521395485 and parameters: {'kernel': 'poly', 'C': 0.16719524510709505, 'gamma': 0.02080125674337375, 'epsilon': 0.0016521801104165683}. Best is trial 156 with value: -0.0056736269798483355.\u001b[0m\n",
      "\u001b[32m[I 2021-06-25 13:57:20,696]\u001b[0m Trial 301 finished with value: -0.0057104225192260065 and parameters: {'kernel': 'rbf', 'C': 0.2535612342218578, 'gamma': 0.015283464143853976, 'epsilon': 0.0015099899906885167}. Best is trial 156 with value: -0.0056736269798483355.\u001b[0m\n",
      "\u001b[32m[I 2021-06-25 13:57:21,168]\u001b[0m Trial 302 finished with value: -0.0057014500751240245 and parameters: {'kernel': 'rbf', 'C': 0.1536374134915802, 'gamma': 0.029101305579375694, 'epsilon': 0.0018733800420317676}. Best is trial 156 with value: -0.0056736269798483355.\u001b[0m\n",
      "\u001b[32m[I 2021-06-25 13:57:21,853]\u001b[0m Trial 303 finished with value: -0.005697382705245266 and parameters: {'kernel': 'rbf', 'C': 0.2095722157228987, 'gamma': 0.02239863139696936, 'epsilon': 0.0014161962400412807}. Best is trial 156 with value: -0.0056736269798483355.\u001b[0m\n",
      "\u001b[32m[I 2021-06-25 13:57:22,448]\u001b[0m Trial 304 finished with value: -0.005705622110162552 and parameters: {'kernel': 'rbf', 'C': 0.17782459552765634, 'gamma': 0.018759082018095802, 'epsilon': 0.0016861773478506475}. Best is trial 156 with value: -0.0056736269798483355.\u001b[0m\n",
      "\u001b[32m[I 2021-06-25 13:57:23,063]\u001b[0m Trial 305 finished with value: -0.005687570646133841 and parameters: {'kernel': 'rbf', 'C': 0.14415840345165473, 'gamma': 0.025019324321191604, 'epsilon': 0.0013628094712191216}. Best is trial 156 with value: -0.0056736269798483355.\u001b[0m\n",
      "\u001b[32m[I 2021-06-25 13:57:23,784]\u001b[0m Trial 306 finished with value: -0.005789398341203174 and parameters: {'kernel': 'rbf', 'C': 0.19075407139708364, 'gamma': 0.03212606384626576, 'epsilon': 0.001558143733336928}. Best is trial 156 with value: -0.0056736269798483355.\u001b[0m\n",
      "\u001b[32m[I 2021-06-25 13:57:24,255]\u001b[0m Trial 307 finished with value: -0.005726160685851221 and parameters: {'kernel': 'rbf', 'C': 0.16454015598806146, 'gamma': 0.017280787521992354, 'epsilon': 0.0019737421680199015}. Best is trial 156 with value: -0.0056736269798483355.\u001b[0m\n"
     ]
    },
    {
     "name": "stderr",
     "output_type": "stream",
     "text": [
      "\u001b[32m[I 2021-06-25 13:57:24,853]\u001b[0m Trial 308 finished with value: -0.005689550656640774 and parameters: {'kernel': 'rbf', 'C': 0.14101385751444123, 'gamma': 0.021117066124969185, 'epsilon': 0.0012774341826650869}. Best is trial 156 with value: -0.0056736269798483355.\u001b[0m\n",
      "\u001b[32m[I 2021-06-25 13:57:25,593]\u001b[0m Trial 309 finished with value: -0.005741736550946871 and parameters: {'kernel': 'rbf', 'C': 0.2149616796726202, 'gamma': 0.027204416365998484, 'epsilon': 0.0015207671723503511}. Best is trial 156 with value: -0.0056736269798483355.\u001b[0m\n",
      "\u001b[32m[I 2021-06-25 13:57:26,221]\u001b[0m Trial 310 finished with value: -0.005685704150714006 and parameters: {'kernel': 'rbf', 'C': 0.17009801596564478, 'gamma': 0.024078984481936985, 'epsilon': 0.0017620713144847568}. Best is trial 156 with value: -0.0056736269798483355.\u001b[0m\n",
      "\u001b[32m[I 2021-06-25 13:57:26,724]\u001b[0m Trial 311 finished with value: -0.005701066776150224 and parameters: {'kernel': 'rbf', 'C': 0.1857427418464215, 'gamma': 0.02500930490653167, 'epsilon': 0.0021714975482442613}. Best is trial 156 with value: -0.0056736269798483355.\u001b[0m\n",
      "\u001b[32m[I 2021-06-25 13:57:27,172]\u001b[0m Trial 312 finished with value: -0.006414589210321335 and parameters: {'kernel': 'rbf', 'C': 0.010006355261063648, 'gamma': 0.029657520422285536, 'epsilon': 0.0011209894011011104}. Best is trial 156 with value: -0.0056736269798483355.\u001b[0m\n",
      "\u001b[32m[I 2021-06-25 13:57:27,367]\u001b[0m Trial 313 finished with value: -0.006530525661845852 and parameters: {'kernel': 'rbf', 'C': 0.2408295866105366, 'gamma': 0.041039792521464086, 'epsilon': 0.006706610571486522}. Best is trial 156 with value: -0.0056736269798483355.\u001b[0m\n",
      "\u001b[32m[I 2021-06-25 13:57:28,063]\u001b[0m Trial 314 finished with value: -0.0056955598236631535 and parameters: {'kernel': 'rbf', 'C': 0.16870161057189162, 'gamma': 0.019788990966979444, 'epsilon': 0.0013155614702208545}. Best is trial 156 with value: -0.0056736269798483355.\u001b[0m\n",
      "\u001b[32m[I 2021-06-25 13:57:28,556]\u001b[0m Trial 315 finished with value: -0.00569154082251444 and parameters: {'kernel': 'rbf', 'C': 0.20087673342117926, 'gamma': 0.02329803693797713, 'epsilon': 0.0018691603178995178}. Best is trial 156 with value: -0.0056736269798483355.\u001b[0m\n",
      "\u001b[32m[I 2021-06-25 13:57:28,904]\u001b[0m Trial 316 finished with value: -0.005720780028067376 and parameters: {'kernel': 'rbf', 'C': 0.15767222441419476, 'gamma': 0.027774990966779524, 'epsilon': 0.0025535330243635435}. Best is trial 156 with value: -0.0056736269798483355.\u001b[0m\n",
      "\u001b[32m[I 2021-06-25 13:57:29,413]\u001b[0m Trial 317 finished with value: -0.0057396990372805745 and parameters: {'kernel': 'rbf', 'C': 0.13133556688169581, 'gamma': 0.034329921648414474, 'epsilon': 0.0014183988160084435}. Best is trial 156 with value: -0.0056736269798483355.\u001b[0m\n",
      "\u001b[32m[I 2021-06-25 13:57:29,905]\u001b[0m Trial 318 finished with value: -0.005711400018577668 and parameters: {'kernel': 'rbf', 'C': 0.17805923401871465, 'gamma': 0.01735125987541157, 'epsilon': 0.001739688570171293}. Best is trial 156 with value: -0.0056736269798483355.\u001b[0m\n",
      "\u001b[32m[I 2021-06-25 13:57:30,668]\u001b[0m Trial 319 finished with value: -0.005718728902811279 and parameters: {'kernel': 'rbf', 'C': 0.22028164490476737, 'gamma': 0.0208066332718936, 'epsilon': 0.0010101961619282313}. Best is trial 156 with value: -0.0056736269798483355.\u001b[0m\n",
      "\u001b[32m[I 2021-06-25 13:57:31,391]\u001b[0m Trial 320 finished with value: -0.0057767896194754545 and parameters: {'kernel': 'rbf', 'C': 0.2701475259380706, 'gamma': 0.02440847987347178, 'epsilon': 0.001197042862808057}. Best is trial 156 with value: -0.0056736269798483355.\u001b[0m\n",
      "\u001b[32m[I 2021-06-25 13:57:31,878]\u001b[0m Trial 321 finished with value: -0.005761776196531229 and parameters: {'kernel': 'rbf', 'C': 0.14588509842545902, 'gamma': 0.014027044899616353, 'epsilon': 0.001528268872023858}. Best is trial 156 with value: -0.0056736269798483355.\u001b[0m\n",
      "\u001b[32m[I 2021-06-25 13:57:31,949]\u001b[0m Trial 322 finished with value: -0.010149250192369461 and parameters: {'kernel': 'rbf', 'C': 0.16262656952912, 'gamma': 0.026715561649645083, 'epsilon': 0.014993235888322649}. Best is trial 156 with value: -0.0056736269798483355.\u001b[0m\n",
      "\u001b[32m[I 2021-06-25 13:57:32,573]\u001b[0m Trial 323 finished with value: -0.005694094932453426 and parameters: {'kernel': 'rbf', 'C': 0.19105328804531407, 'gamma': 0.02156481871876349, 'epsilon': 0.001285106605070214}. Best is trial 156 with value: -0.0056736269798483355.\u001b[0m\n",
      "\u001b[32m[I 2021-06-25 13:57:33,106]\u001b[0m Trial 324 finished with value: -0.005710739368192763 and parameters: {'kernel': 'rbf', 'C': 0.13295315742242983, 'gamma': 0.030523111987786435, 'epsilon': 0.0016862971651110698}. Best is trial 156 with value: -0.0056736269798483355.\u001b[0m\n",
      "\u001b[32m[I 2021-06-25 13:57:33,597]\u001b[0m Trial 325 finished with value: -0.0057131129216416885 and parameters: {'kernel': 'rbf', 'C': 0.1564544070225712, 'gamma': 0.01812890952331293, 'epsilon': 0.0014338998187832868}. Best is trial 156 with value: -0.0056736269798483355.\u001b[0m\n",
      "\u001b[32m[I 2021-06-25 13:57:34,349]\u001b[0m Trial 326 finished with value: -0.005716695936379132 and parameters: {'kernel': 'rbf', 'C': 0.2108571120782504, 'gamma': 0.024245468844714728, 'epsilon': 0.0011087163234033111}. Best is trial 156 with value: -0.0056736269798483355.\u001b[0m\n",
      "\u001b[32m[I 2021-06-25 13:57:34,748]\u001b[0m Trial 327 finished with value: -0.005729368208410521 and parameters: {'kernel': 'rbf', 'C': 0.17591685601439802, 'gamma': 0.020044537814901307, 'epsilon': 0.0021392227598600795}. Best is trial 156 with value: -0.0056736269798483355.\u001b[0m\n",
      "\u001b[32m[I 2021-06-25 13:57:35,675]\u001b[0m Trial 328 finished with value: -0.0063608492344661835 and parameters: {'kernel': 'poly', 'C': 0.13076388153690632, 'gamma': 0.02728948093280279, 'epsilon': 0.0010040631632245137}. Best is trial 156 with value: -0.0056736269798483355.\u001b[0m\n",
      "\u001b[32m[I 2021-06-25 13:57:36,239]\u001b[0m Trial 329 finished with value: -0.005697307531659454 and parameters: {'kernel': 'rbf', 'C': 0.1483102230466166, 'gamma': 0.02279447167353719, 'epsilon': 0.0019013719521037184}. Best is trial 156 with value: -0.0056736269798483355.\u001b[0m\n",
      "\u001b[32m[I 2021-06-25 13:57:36,882]\u001b[0m Trial 330 finished with value: -0.00572587675821887 and parameters: {'kernel': 'rbf', 'C': 0.1819816759601572, 'gamma': 0.015844262358718702, 'epsilon': 0.0013237553952231932}. Best is trial 156 with value: -0.0056736269798483355.\u001b[0m\n",
      "\u001b[32m[I 2021-06-25 13:57:37,435]\u001b[0m Trial 331 finished with value: -0.005731353473237971 and parameters: {'kernel': 'rbf', 'C': 0.1548948420462399, 'gamma': 0.03217413973607809, 'epsilon': 0.001652462962835212}. Best is trial 156 with value: -0.0056736269798483355.\u001b[0m\n",
      "\u001b[32m[I 2021-06-25 13:57:37,996]\u001b[0m Trial 332 finished with value: -0.005690259545121292 and parameters: {'kernel': 'rbf', 'C': 0.12362761946924111, 'gamma': 0.0228203528150531, 'epsilon': 0.0014590115859495992}. Best is trial 156 with value: -0.0056736269798483355.\u001b[0m\n",
      "\u001b[32m[I 2021-06-25 13:57:38,744]\u001b[0m Trial 333 finished with value: -0.005699919104381452 and parameters: {'kernel': 'rbf', 'C': 0.2432664698702262, 'gamma': 0.01974789722065634, 'epsilon': 0.00118965651475444}. Best is trial 156 with value: -0.0056736269798483355.\u001b[0m\n",
      "\u001b[32m[I 2021-06-25 13:57:39,373]\u001b[0m Trial 334 finished with value: -0.0058236106124796684 and parameters: {'kernel': 'rbf', 'C': 0.20215433029930308, 'gamma': 0.036337261634660015, 'epsilon': 0.001526858810702819}. Best is trial 156 with value: -0.0056736269798483355.\u001b[0m\n",
      "\u001b[32m[I 2021-06-25 13:57:40,003]\u001b[0m Trial 335 finished with value: -0.0076569962331576105 and parameters: {'kernel': 'rbf', 'C': 0.14095762459329375, 'gamma': 0.9114645746407376, 'epsilon': 0.0012525990054488107}. Best is trial 156 with value: -0.0056736269798483355.\u001b[0m\n",
      "\u001b[32m[I 2021-06-25 13:57:40,603]\u001b[0m Trial 336 finished with value: -0.005704477542596227 and parameters: {'kernel': 'rbf', 'C': 0.16641637302588616, 'gamma': 0.027285930539292097, 'epsilon': 0.0018002040940799373}. Best is trial 156 with value: -0.0056736269798483355.\u001b[0m\n",
      "\u001b[32m[I 2021-06-25 13:57:41,305]\u001b[0m Trial 337 finished with value: -0.005743494625868854 and parameters: {'kernel': 'rbf', 'C': 0.11696245708082309, 'gamma': 0.01761242406253613, 'epsilon': 0.0010094473312568077}. Best is trial 156 with value: -0.0056736269798483355.\u001b[0m\n",
      "\u001b[32m[I 2021-06-25 13:57:41,979]\u001b[0m Trial 338 finished with value: -0.005692663937650721 and parameters: {'kernel': 'rbf', 'C': 0.17749180577057858, 'gamma': 0.024734964967592976, 'epsilon': 0.0013741685219699168}. Best is trial 156 with value: -0.0056736269798483355.\u001b[0m\n"
     ]
    },
    {
     "name": "stderr",
     "output_type": "stream",
     "text": [
      "\u001b[32m[I 2021-06-25 13:57:42,439]\u001b[0m Trial 339 finished with value: -0.005762608893316426 and parameters: {'kernel': 'rbf', 'C': 0.31266691124800844, 'gamma': 0.021261534225357186, 'epsilon': 0.0022822754660045594}. Best is trial 156 with value: -0.0056736269798483355.\u001b[0m\n",
      "\u001b[32m[I 2021-06-25 13:57:43,112]\u001b[0m Trial 340 finished with value: -0.0057253060908995556 and parameters: {'kernel': 'rbf', 'C': 0.14290307076765887, 'gamma': 0.02990656590266201, 'epsilon': 0.0011356299754519906}. Best is trial 156 with value: -0.0056736269798483355.\u001b[0m\n",
      "\u001b[32m[I 2021-06-25 13:57:43,653]\u001b[0m Trial 341 finished with value: -0.005723002286330832 and parameters: {'kernel': 'rbf', 'C': 0.21251925091310425, 'gamma': 0.025587830286320487, 'epsilon': 0.00163049724125849}. Best is trial 156 with value: -0.0056736269798483355.\u001b[0m\n",
      "\u001b[32m[I 2021-06-25 13:57:44,159]\u001b[0m Trial 342 finished with value: -0.005717922015263183 and parameters: {'kernel': 'rbf', 'C': 0.1639290465879172, 'gamma': 0.019295204624559935, 'epsilon': 0.001878438020105364}. Best is trial 156 with value: -0.0056736269798483355.\u001b[0m\n",
      "\u001b[32m[I 2021-06-25 13:57:44,645]\u001b[0m Trial 343 finished with value: -0.005746998328251918 and parameters: {'kernel': 'rbf', 'C': 0.12973752523242602, 'gamma': 0.015672544103472706, 'epsilon': 0.0014314727403706095}. Best is trial 156 with value: -0.0056736269798483355.\u001b[0m\n",
      "\u001b[32m[I 2021-06-25 13:57:45,358]\u001b[0m Trial 344 finished with value: -0.005702145722374292 and parameters: {'kernel': 'rbf', 'C': 0.19338096934137614, 'gamma': 0.022659482696751082, 'epsilon': 0.0012222961827177098}. Best is trial 156 with value: -0.0056736269798483355.\u001b[0m\n",
      "\u001b[32m[I 2021-06-25 13:57:46,039]\u001b[0m Trial 345 finished with value: -0.005754648546724954 and parameters: {'kernel': 'rbf', 'C': 0.15732516313950307, 'gamma': 0.03274584299398991, 'epsilon': 0.0015122394034162913}. Best is trial 156 with value: -0.0056736269798483355.\u001b[0m\n",
      "\u001b[32m[I 2021-06-25 13:57:46,596]\u001b[0m Trial 346 finished with value: -0.005701825070763006 and parameters: {'kernel': 'rbf', 'C': 0.11167409377838715, 'gamma': 0.027890431951347095, 'epsilon': 0.0019883602136612035}. Best is trial 156 with value: -0.0056736269798483355.\u001b[0m\n",
      "\u001b[32m[I 2021-06-25 13:57:47,435]\u001b[0m Trial 347 finished with value: -0.005702026239326312 and parameters: {'kernel': 'rbf', 'C': 0.2309023900076032, 'gamma': 0.021403243466234782, 'epsilon': 0.0012912640862748346}. Best is trial 156 with value: -0.0056736269798483355.\u001b[0m\n",
      "\u001b[32m[I 2021-06-25 13:57:47,984]\u001b[0m Trial 348 finished with value: -0.005685476914476414 and parameters: {'kernel': 'rbf', 'C': 0.13838137758494143, 'gamma': 0.024730643887706284, 'epsilon': 0.0016869268536245765}. Best is trial 156 with value: -0.0056736269798483355.\u001b[0m\n",
      "\u001b[32m[I 2021-06-25 13:57:48,678]\u001b[0m Trial 349 finished with value: -0.0057307870050354445 and parameters: {'kernel': 'rbf', 'C': 0.12544100892363705, 'gamma': 0.01809226264240152, 'epsilon': 0.001131721089673502}. Best is trial 156 with value: -0.0056736269798483355.\u001b[0m\n",
      "\u001b[32m[I 2021-06-25 13:57:49,296]\u001b[0m Trial 350 finished with value: -0.005707443256005101 and parameters: {'kernel': 'rbf', 'C': 0.14171008784054584, 'gamma': 0.029489291828538565, 'epsilon': 0.0016170385248007839}. Best is trial 156 with value: -0.0056736269798483355.\u001b[0m\n",
      "\u001b[32m[I 2021-06-25 13:57:49,980]\u001b[0m Trial 351 finished with value: -0.005682348742406629 and parameters: {'kernel': 'rbf', 'C': 0.1440354929692615, 'gamma': 0.024523470422252634, 'epsilon': 0.0013852702445562141}. Best is trial 156 with value: -0.0056736269798483355.\u001b[0m\n",
      "\u001b[32m[I 2021-06-25 13:57:50,730]\u001b[0m Trial 352 finished with value: -0.005800414516088709 and parameters: {'kernel': 'rbf', 'C': 0.12137264658491814, 'gamma': 0.039709078577932634, 'epsilon': 0.0010159350579058853}. Best is trial 156 with value: -0.0056736269798483355.\u001b[0m\n",
      "\u001b[32m[I 2021-06-25 13:57:51,336]\u001b[0m Trial 353 finished with value: -0.005722652201052715 and parameters: {'kernel': 'rbf', 'C': 0.11164174214317014, 'gamma': 0.020094150386319818, 'epsilon': 0.0013475967321622373}. Best is trial 156 with value: -0.0056736269798483355.\u001b[0m\n",
      "\u001b[32m[I 2021-06-25 13:57:52,032]\u001b[0m Trial 354 finished with value: -0.005697745515294388 and parameters: {'kernel': 'rbf', 'C': 0.14241129660021407, 'gamma': 0.026251536446105967, 'epsilon': 0.00111737486104109}. Best is trial 156 with value: -0.0056736269798483355.\u001b[0m\n",
      "\u001b[32m[I 2021-06-25 13:57:52,706]\u001b[0m Trial 355 finished with value: -0.005711140765300112 and parameters: {'kernel': 'rbf', 'C': 0.10230413398952122, 'gamma': 0.03268347865385084, 'epsilon': 0.0014136083939893062}. Best is trial 156 with value: -0.0056736269798483355.\u001b[0m\n",
      "\u001b[32m[I 2021-06-25 13:57:53,413]\u001b[0m Trial 356 finished with value: -0.005692010053519443 and parameters: {'kernel': 'rbf', 'C': 0.1424454106359526, 'gamma': 0.022817163811086748, 'epsilon': 0.0012629297773638394}. Best is trial 156 with value: -0.0056736269798483355.\u001b[0m\n",
      "\u001b[32m[I 2021-06-25 13:57:53,914]\u001b[0m Trial 357 finished with value: -0.0057484656986413335 and parameters: {'kernel': 'rbf', 'C': 0.12953251452502837, 'gamma': 0.01634781367651078, 'epsilon': 0.001517764633803446}. Best is trial 156 with value: -0.0056736269798483355.\u001b[0m\n",
      "\u001b[32m[I 2021-06-25 13:57:54,882]\u001b[0m Trial 358 finished with value: -0.006350728100472107 and parameters: {'kernel': 'poly', 'C': 0.1532279166001126, 'gamma': 0.027162403045530057, 'epsilon': 0.0010096551273680145}. Best is trial 156 with value: -0.0056736269798483355.\u001b[0m\n",
      "\u001b[32m[I 2021-06-25 13:57:55,635]\u001b[0m Trial 359 finished with value: -0.005685482322040163 and parameters: {'kernel': 'rbf', 'C': 0.18834195069951276, 'gamma': 0.019661324659468814, 'epsilon': 0.0012197315264276818}. Best is trial 156 with value: -0.0056736269798483355.\u001b[0m\n",
      "\u001b[32m[I 2021-06-25 13:57:55,672]\u001b[0m Trial 360 finished with value: -0.04522358590646345 and parameters: {'kernel': 'rbf', 'C': 0.19252921277220555, 'gamma': 0.014258287629097522, 'epsilon': 0.2258661417896574}. Best is trial 156 with value: -0.0056736269798483355.\u001b[0m\n",
      "\u001b[32m[I 2021-06-25 13:57:56,429]\u001b[0m Trial 361 finished with value: -0.005742642542249813 and parameters: {'kernel': 'rbf', 'C': 0.2779351563817671, 'gamma': 0.012229913981130313, 'epsilon': 0.0012349593098603163}. Best is trial 156 with value: -0.0056736269798483355.\u001b[0m\n",
      "\u001b[32m[I 2021-06-25 13:57:57,095]\u001b[0m Trial 362 finished with value: -0.005709514572635924 and parameters: {'kernel': 'rbf', 'C': 0.21953531752134603, 'gamma': 0.01872507010227926, 'epsilon': 0.001094876508544965}. Best is trial 156 with value: -0.0056736269798483355.\u001b[0m\n",
      "\u001b[32m[I 2021-06-25 13:57:57,956]\u001b[0m Trial 363 finished with value: -0.005702911746935051 and parameters: {'kernel': 'rbf', 'C': 0.1870693989247903, 'gamma': 0.02047381542122583, 'epsilon': 0.0010038382340774347}. Best is trial 156 with value: -0.0056736269798483355.\u001b[0m\n",
      "\u001b[32m[I 2021-06-25 13:57:58,613]\u001b[0m Trial 364 finished with value: -0.005716119249173461 and parameters: {'kernel': 'rbf', 'C': 0.1685524249026606, 'gamma': 0.01645135723773621, 'epsilon': 0.0012278750417813928}. Best is trial 156 with value: -0.0056736269798483355.\u001b[0m\n",
      "\u001b[32m[I 2021-06-25 13:57:58,657]\u001b[0m Trial 365 finished with value: -0.033933377990334475 and parameters: {'kernel': 'rbf', 'C': 0.19363891568565594, 'gamma': 0.02009514431209466, 'epsilon': 0.03955918590844948}. Best is trial 156 with value: -0.0056736269798483355.\u001b[0m\n",
      "\u001b[32m[I 2021-06-25 13:57:59,261]\u001b[0m Trial 366 finished with value: -0.005681860126335964 and parameters: {'kernel': 'rbf', 'C': 0.16308582139483285, 'gamma': 0.024022433688633413, 'epsilon': 0.0013787106224160167}. Best is trial 156 with value: -0.0056736269798483355.\u001b[0m\n",
      "\u001b[32m[I 2021-06-25 13:57:59,824]\u001b[0m Trial 367 finished with value: -0.0057100312552789655 and parameters: {'kernel': 'rbf', 'C': 0.1545364469409166, 'gamma': 0.030005877518190355, 'epsilon': 0.0016175323809132789}. Best is trial 156 with value: -0.0056736269798483355.\u001b[0m\n",
      "\u001b[32m[I 2021-06-25 13:58:00,392]\u001b[0m Trial 368 finished with value: -0.005692124740776347 and parameters: {'kernel': 'rbf', 'C': 0.12213471405465914, 'gamma': 0.025854751054455085, 'epsilon': 0.0013982748680543505}. Best is trial 156 with value: -0.0056736269798483355.\u001b[0m\n"
     ]
    },
    {
     "name": "stderr",
     "output_type": "stream",
     "text": [
      "\u001b[32m[I 2021-06-25 13:58:00,546]\u001b[0m Trial 369 finished with value: -0.007618906324092429 and parameters: {'kernel': 'rbf', 'C': 0.1650556688946147, 'gamma': 0.035810303821345174, 'epsilon': 0.010434021145237442}. Best is trial 156 with value: -0.0056736269798483355.\u001b[0m\n",
      "\u001b[32m[I 2021-06-25 13:58:01,094]\u001b[0m Trial 370 finished with value: -0.005706296877987357 and parameters: {'kernel': 'rbf', 'C': 0.09687428430885596, 'gamma': 0.023354554953998668, 'epsilon': 0.0016444093243402286}. Best is trial 156 with value: -0.0056736269798483355.\u001b[0m\n",
      "\u001b[32m[I 2021-06-25 13:58:01,550]\u001b[0m Trial 371 finished with value: -0.005701874257732112 and parameters: {'kernel': 'rbf', 'C': 0.1322765762398749, 'gamma': 0.029103121392828758, 'epsilon': 0.0020289903933475295}. Best is trial 156 with value: -0.0056736269798483355.\u001b[0m\n",
      "\u001b[32m[I 2021-06-25 13:58:01,588]\u001b[0m Trial 372 finished with value: -0.04522358590646345 and parameters: {'kernel': 'rbf', 'C': 0.15519939267242824, 'gamma': 0.02484582219048015, 'epsilon': 0.06889537493051892}. Best is trial 156 with value: -0.0056736269798483355.\u001b[0m\n",
      "\u001b[32m[I 2021-06-25 13:58:02,266]\u001b[0m Trial 373 finished with value: -0.005706982778310711 and parameters: {'kernel': 'rbf', 'C': 0.24293834737557238, 'gamma': 0.021417067948547922, 'epsilon': 0.001423794400248369}. Best is trial 156 with value: -0.0056736269798483355.\u001b[0m\n",
      "\u001b[32m[I 2021-06-25 13:58:02,884]\u001b[0m Trial 374 finished with value: -0.005696337965903559 and parameters: {'kernel': 'rbf', 'C': 0.17527741414340833, 'gamma': 0.026418708208659398, 'epsilon': 0.0017436401820860633}. Best is trial 156 with value: -0.0056736269798483355.\u001b[0m\n",
      "\u001b[32m[I 2021-06-25 13:58:03,490]\u001b[0m Trial 375 finished with value: -0.005719621512444197 and parameters: {'kernel': 'rbf', 'C': 0.13546052960290758, 'gamma': 0.03143167669496283, 'epsilon': 0.0013287870697063892}. Best is trial 156 with value: -0.0056736269798483355.\u001b[0m\n",
      "\u001b[32m[I 2021-06-25 13:58:04,155]\u001b[0m Trial 376 finished with value: -0.005698305410011927 and parameters: {'kernel': 'rbf', 'C': 0.10942315732149183, 'gamma': 0.02245416209229862, 'epsilon': 0.0011305318478060905}. Best is trial 156 with value: -0.0056736269798483355.\u001b[0m\n",
      "\u001b[32m[I 2021-06-25 13:58:04,818]\u001b[0m Trial 377 finished with value: -0.005701299628911349 and parameters: {'kernel': 'rbf', 'C': 0.2115675161578939, 'gamma': 0.018093522194104077, 'epsilon': 0.0015124861077973712}. Best is trial 156 with value: -0.0056736269798483355.\u001b[0m\n",
      "\u001b[32m[I 2021-06-25 13:58:05,368]\u001b[0m Trial 378 finished with value: -0.005691831485042605 and parameters: {'kernel': 'rbf', 'C': 0.154059918263173, 'gamma': 0.025016331742717272, 'epsilon': 0.0018017254269294485}. Best is trial 156 with value: -0.0056736269798483355.\u001b[0m\n",
      "\u001b[32m[I 2021-06-25 13:58:06,025]\u001b[0m Trial 379 finished with value: -0.005730651297709056 and parameters: {'kernel': 'rbf', 'C': 0.17455820748830753, 'gamma': 0.028580844066912352, 'epsilon': 0.001335599996328853}. Best is trial 156 with value: -0.0056736269798483355.\u001b[0m\n",
      "\u001b[32m[I 2021-06-25 13:58:06,472]\u001b[0m Trial 380 finished with value: -0.005696910532767813 and parameters: {'kernel': 'rbf', 'C': 0.11876176797202961, 'gamma': 0.022472353563166816, 'epsilon': 0.0015308646909223318}. Best is trial 156 with value: -0.0056736269798483355.\u001b[0m\n",
      "\u001b[32m[I 2021-06-25 13:58:07,089]\u001b[0m Trial 381 finished with value: -0.005751699877769184 and parameters: {'kernel': 'rbf', 'C': 0.13718160227500092, 'gamma': 0.033813496131130605, 'epsilon': 0.0010987286359148685}. Best is trial 156 with value: -0.0056736269798483355.\u001b[0m\n",
      "\u001b[32m[I 2021-06-25 13:58:07,614]\u001b[0m Trial 382 finished with value: -0.0057208570741214436 and parameters: {'kernel': 'rbf', 'C': 0.15688122232901539, 'gamma': 0.017731460233823212, 'epsilon': 0.0020141973286507352}. Best is trial 156 with value: -0.0056736269798483355.\u001b[0m\n",
      "\u001b[32m[I 2021-06-25 13:58:08,224]\u001b[0m Trial 383 finished with value: -0.005693180378742314 and parameters: {'kernel': 'rbf', 'C': 0.20503186905697446, 'gamma': 0.021466506052626646, 'epsilon': 0.0012399153147546135}. Best is trial 156 with value: -0.0056736269798483355.\u001b[0m\n",
      "\u001b[32m[I 2021-06-25 13:58:08,781]\u001b[0m Trial 384 finished with value: -0.0056972608033702896 and parameters: {'kernel': 'rbf', 'C': 0.17983068811984196, 'gamma': 0.02671855607635975, 'epsilon': 0.0016597341768021699}. Best is trial 156 with value: -0.0056736269798483355.\u001b[0m\n",
      "\u001b[32m[I 2021-06-25 13:58:09,447]\u001b[0m Trial 385 finished with value: -0.00633298799369119 and parameters: {'kernel': 'poly', 'C': 0.13776489573229755, 'gamma': 0.023789395280006183, 'epsilon': 0.001370842010085857}. Best is trial 156 with value: -0.0056736269798483355.\u001b[0m\n",
      "\u001b[32m[I 2021-06-25 13:58:10,062]\u001b[0m Trial 386 finished with value: -0.005701229146131338 and parameters: {'kernel': 'rbf', 'C': 0.16009552158869797, 'gamma': 0.019826153341980887, 'epsilon': 0.001566889722893225}. Best is trial 156 with value: -0.0056736269798483355.\u001b[0m\n",
      "\u001b[32m[I 2021-06-25 13:58:10,407]\u001b[0m Trial 387 finished with value: -0.005791963682065926 and parameters: {'kernel': 'rbf', 'C': 0.12080737305904356, 'gamma': 0.015028382056462376, 'epsilon': 0.002490825521158089}. Best is trial 156 with value: -0.0056736269798483355.\u001b[0m\n",
      "\u001b[32m[I 2021-06-25 13:58:11,251]\u001b[0m Trial 388 finished with value: -0.005897325862763391 and parameters: {'kernel': 'rbf', 'C': 0.24996998107040644, 'gamma': 0.03853500041345063, 'epsilon': 0.0011216982919765458}. Best is trial 156 with value: -0.0056736269798483355.\u001b[0m\n",
      "\u001b[32m[I 2021-06-25 13:58:11,693]\u001b[0m Trial 389 finished with value: -0.005702442050172454 and parameters: {'kernel': 'rbf', 'C': 0.10680067051963248, 'gamma': 0.03006818445811976, 'epsilon': 0.0018550464781468775}. Best is trial 156 with value: -0.0056736269798483355.\u001b[0m\n",
      "\u001b[32m[I 2021-06-25 13:58:12,568]\u001b[0m Trial 390 finished with value: -0.005729107516627082 and parameters: {'kernel': 'rbf', 'C': 0.1931869157454453, 'gamma': 0.02519259443581944, 'epsilon': 0.001009336369544329}. Best is trial 156 with value: -0.0056736269798483355.\u001b[0m\n",
      "\u001b[32m[I 2021-06-25 13:58:13,198]\u001b[0m Trial 391 finished with value: -0.005690980732151937 and parameters: {'kernel': 'rbf', 'C': 0.1455306512485527, 'gamma': 0.021474394697794403, 'epsilon': 0.001311056628976914}. Best is trial 156 with value: -0.0056736269798483355.\u001b[0m\n",
      "\u001b[32m[I 2021-06-25 13:58:13,845]\u001b[0m Trial 392 finished with value: -0.005706669251616771 and parameters: {'kernel': 'rbf', 'C': 0.1719052861057842, 'gamma': 0.017495989613268842, 'epsilon': 0.001486847030234092}. Best is trial 156 with value: -0.0056736269798483355.\u001b[0m\n",
      "\u001b[32m[I 2021-06-25 13:58:14,247]\u001b[0m Trial 393 finished with value: -0.005753840987881754 and parameters: {'kernel': 'rbf', 'C': 0.21973157119634676, 'gamma': 0.027676022039082624, 'epsilon': 0.0021897962576847736}. Best is trial 156 with value: -0.0056736269798483355.\u001b[0m\n",
      "\u001b[32m[I 2021-06-25 13:58:14,863]\u001b[0m Trial 394 finished with value: -0.005694739971031444 and parameters: {'kernel': 'rbf', 'C': 0.12964731636199556, 'gamma': 0.022957594147924337, 'epsilon': 0.0011852431262518205}. Best is trial 156 with value: -0.0056736269798483355.\u001b[0m\n",
      "\u001b[32m[I 2021-06-25 13:58:15,261]\u001b[0m Trial 395 finished with value: -0.005736772439046133 and parameters: {'kernel': 'rbf', 'C': 0.0918499052361965, 'gamma': 0.01967431628618393, 'epsilon': 0.0017722020743220475}. Best is trial 156 with value: -0.0056736269798483355.\u001b[0m\n",
      "\u001b[32m[I 2021-06-25 13:58:15,797]\u001b[0m Trial 396 finished with value: -0.005762635082799886 and parameters: {'kernel': 'rbf', 'C': 0.14855255271198695, 'gamma': 0.034766389379269826, 'epsilon': 0.0013988722839800131}. Best is trial 156 with value: -0.0056736269798483355.\u001b[0m\n",
      "\u001b[32m[I 2021-06-25 13:58:16,396]\u001b[0m Trial 397 finished with value: -0.0057249317144429665 and parameters: {'kernel': 'rbf', 'C': 0.17312166151456634, 'gamma': 0.029329046692902257, 'epsilon': 0.001613282780986967}. Best is trial 156 with value: -0.0056736269798483355.\u001b[0m\n",
      "\u001b[32m[I 2021-06-25 13:58:17,182]\u001b[0m Trial 398 finished with value: -0.0057036356658837885 and parameters: {'kernel': 'rbf', 'C': 0.19657115875113304, 'gamma': 0.024337654849133333, 'epsilon': 0.0012464504519709904}. Best is trial 156 with value: -0.0056736269798483355.\u001b[0m\n"
     ]
    },
    {
     "name": "stderr",
     "output_type": "stream",
     "text": [
      "\u001b[32m[I 2021-06-25 13:58:17,797]\u001b[0m Trial 399 finished with value: -0.005707999594132638 and parameters: {'kernel': 'rbf', 'C': 0.12207728300684968, 'gamma': 0.019215814956333333, 'epsilon': 0.0014938926932495553}. Best is trial 156 with value: -0.0056736269798483355.\u001b[0m\n",
      "\u001b[32m[I 2021-06-25 13:58:18,445]\u001b[0m Trial 400 finished with value: -0.005743639981954332 and parameters: {'kernel': 'rbf', 'C': 0.1515583153776948, 'gamma': 0.01595884498977938, 'epsilon': 0.0010998361400015267}. Best is trial 156 with value: -0.0056736269798483355.\u001b[0m\n",
      "\u001b[32m[I 2021-06-25 13:58:18,852]\u001b[0m Trial 401 finished with value: -0.005708581868875589 and parameters: {'kernel': 'rbf', 'C': 0.13661363712772703, 'gamma': 0.02596412172574994, 'epsilon': 0.0018973744303333556}. Best is trial 156 with value: -0.0056736269798483355.\u001b[0m\n",
      "\u001b[32m[I 2021-06-25 13:58:19,560]\u001b[0m Trial 402 finished with value: -0.005704297052092726 and parameters: {'kernel': 'rbf', 'C': 0.17193858635964882, 'gamma': 0.02207083194388769, 'epsilon': 0.0010184895392526118}. Best is trial 156 with value: -0.0056736269798483355.\u001b[0m\n",
      "\u001b[32m[I 2021-06-25 13:58:20,567]\u001b[0m Trial 403 finished with value: -0.005811755761082459 and parameters: {'kernel': 'rbf', 'C': 0.23270468019526797, 'gamma': 0.03060656072772828, 'epsilon': 0.0013220113013247973}. Best is trial 156 with value: -0.0056736269798483355.\u001b[0m\n",
      "\u001b[32m[I 2021-06-25 13:58:21,148]\u001b[0m Trial 404 finished with value: -0.00569037695296893 and parameters: {'kernel': 'rbf', 'C': 0.104350929126509, 'gamma': 0.025846488785822137, 'epsilon': 0.0016307021380443545}. Best is trial 156 with value: -0.0056736269798483355.\u001b[0m\n",
      "\u001b[32m[I 2021-06-25 13:58:21,782]\u001b[0m Trial 405 finished with value: -0.005700730248193623 and parameters: {'kernel': 'rbf', 'C': 0.20013099704870133, 'gamma': 0.0212750286863557, 'epsilon': 0.001413428052606536}. Best is trial 156 with value: -0.0056736269798483355.\u001b[0m\n",
      "\u001b[32m[I 2021-06-25 13:58:22,480]\u001b[0m Trial 406 finished with value: -0.005754050423022269 and parameters: {'kernel': 'rbf', 'C': 0.16019724891907544, 'gamma': 0.013656900954841091, 'epsilon': 0.0011770978960105312}. Best is trial 156 with value: -0.0056736269798483355.\u001b[0m\n",
      "\u001b[32m[I 2021-06-25 13:58:23,142]\u001b[0m Trial 407 finished with value: -0.005727443385490618 and parameters: {'kernel': 'rbf', 'C': 0.1389443764764799, 'gamma': 0.017687173614081928, 'epsilon': 0.0010059078794510722}. Best is trial 156 with value: -0.0056736269798483355.\u001b[0m\n",
      "\u001b[32m[I 2021-06-25 13:58:23,496]\u001b[0m Trial 408 finished with value: -0.005728500745678597 and parameters: {'kernel': 'rbf', 'C': 0.11992694095036932, 'gamma': 0.03262940653345202, 'epsilon': 0.0021155622365765956}. Best is trial 156 with value: -0.0056736269798483355.\u001b[0m\n",
      "\u001b[32m[I 2021-06-25 13:58:24,136]\u001b[0m Trial 409 finished with value: -0.00586315591815354 and parameters: {'kernel': 'rbf', 'C': 0.1712019134712431, 'gamma': 0.046224047523948444, 'epsilon': 0.0017220381860381174}. Best is trial 156 with value: -0.0056736269798483355.\u001b[0m\n",
      "\u001b[32m[I 2021-06-25 13:58:25,063]\u001b[0m Trial 410 finished with value: -0.005818000408502885 and parameters: {'kernel': 'rbf', 'C': 0.32303450081062113, 'gamma': 0.02334821835480696, 'epsilon': 0.0013048633319841308}. Best is trial 156 with value: -0.0056736269798483355.\u001b[0m\n",
      "\u001b[32m[I 2021-06-25 13:58:25,903]\u001b[0m Trial 411 finished with value: -0.005727632467338086 and parameters: {'kernel': 'rbf', 'C': 0.19090361947812143, 'gamma': 0.02771298109990364, 'epsilon': 0.0015239463377083346}. Best is trial 156 with value: -0.0056736269798483355.\u001b[0m\n",
      "\u001b[32m[I 2021-06-25 13:58:25,947]\u001b[0m Trial 412 finished with value: -0.04522358590646344 and parameters: {'kernel': 'rbf', 'C': 0.15203298887791458, 'gamma': 0.019291008776359215, 'epsilon': 0.565772882107976}. Best is trial 156 with value: -0.0056736269798483355.\u001b[0m\n",
      "\u001b[32m[I 2021-06-25 13:58:26,894]\u001b[0m Trial 413 finished with value: -0.006328596103248364 and parameters: {'kernel': 'poly', 'C': 0.2619449595316327, 'gamma': 0.02374148482118948, 'epsilon': 0.001225728222581503}. Best is trial 156 with value: -0.0056736269798483355.\u001b[0m\n",
      "\u001b[32m[I 2021-06-25 13:58:27,282]\u001b[0m Trial 414 finished with value: -0.005714795555054621 and parameters: {'kernel': 'rbf', 'C': 0.1326287803430138, 'gamma': 0.020987209898378482, 'epsilon': 0.0018608085838022247}. Best is trial 156 with value: -0.0056736269798483355.\u001b[0m\n",
      "\u001b[32m[I 2021-06-25 13:58:27,884]\u001b[0m Trial 415 finished with value: -0.005745883212427282 and parameters: {'kernel': 'rbf', 'C': 0.22574181697574688, 'gamma': 0.026973264759903935, 'epsilon': 0.0016197459983751078}. Best is trial 156 with value: -0.0056736269798483355.\u001b[0m\n",
      "\u001b[32m[I 2021-06-25 13:58:28,442]\u001b[0m Trial 416 finished with value: -0.0057093728565619445 and parameters: {'kernel': 'rbf', 'C': 0.18052077073795697, 'gamma': 0.01754671937098332, 'epsilon': 0.0014198183102847948}. Best is trial 156 with value: -0.0056736269798483355.\u001b[0m\n",
      "\u001b[32m[I 2021-06-25 13:58:29,009]\u001b[0m Trial 417 finished with value: -0.005745718362580333 and parameters: {'kernel': 'rbf', 'C': 0.15337684069249152, 'gamma': 0.03142652327811073, 'epsilon': 0.001131607107238978}. Best is trial 156 with value: -0.0056736269798483355.\u001b[0m\n",
      "\u001b[32m[I 2021-06-25 13:58:29,677]\u001b[0m Trial 418 finished with value: -0.005692461646160823 and parameters: {'kernel': 'rbf', 'C': 0.11346864250923545, 'gamma': 0.023741912324019517, 'epsilon': 0.0013853386479811135}. Best is trial 156 with value: -0.0056736269798483355.\u001b[0m\n",
      "\u001b[32m[I 2021-06-25 13:58:29,743]\u001b[0m Trial 419 finished with value: -0.01399053637769739 and parameters: {'kernel': 'rbf', 'C': 0.13350998997081862, 'gamma': 0.020710099025802762, 'epsilon': 0.0204832393302495}. Best is trial 156 with value: -0.0056736269798483355.\u001b[0m\n",
      "\u001b[32m[I 2021-06-25 13:58:30,124]\u001b[0m Trial 420 finished with value: -0.007465567754962934 and parameters: {'kernel': 'rbf', 'C': 0.01464216171515176, 'gamma': 0.5861838943409938, 'epsilon': 0.002254956140984254}. Best is trial 156 with value: -0.0056736269798483355.\u001b[0m\n",
      "\u001b[32m[I 2021-06-25 13:58:30,770]\u001b[0m Trial 421 finished with value: -0.0058278131846495745 and parameters: {'kernel': 'rbf', 'C': 0.19926817999938315, 'gamma': 0.03722912508121345, 'epsilon': 0.0016839134653221476}. Best is trial 156 with value: -0.0056736269798483355.\u001b[0m\n",
      "\u001b[32m[I 2021-06-25 13:58:31,473]\u001b[0m Trial 422 finished with value: -0.00570103210049059 and parameters: {'kernel': 'rbf', 'C': 0.16250845249373916, 'gamma': 0.026637088153857028, 'epsilon': 0.001284276813304253}. Best is trial 156 with value: -0.0056736269798483355.\u001b[0m\n",
      "\u001b[32m[I 2021-06-25 13:58:32,102]\u001b[0m Trial 423 finished with value: -0.005744449425958437 and parameters: {'kernel': 'rbf', 'C': 0.14511913691213904, 'gamma': 0.015854960706031547, 'epsilon': 0.0010117617998974405}. Best is trial 156 with value: -0.0056736269798483355.\u001b[0m\n",
      "\u001b[32m[I 2021-06-25 13:58:32,847]\u001b[0m Trial 424 finished with value: -0.005878159072901737 and parameters: {'kernel': 'rbf', 'C': 0.381656465866393, 'gamma': 0.02919234355802399, 'epsilon': 0.0014905367195691827}. Best is trial 156 with value: -0.0056736269798483355.\u001b[0m\n",
      "\u001b[32m[I 2021-06-25 13:58:33,347]\u001b[0m Trial 425 finished with value: -0.00570764972382594 and parameters: {'kernel': 'rbf', 'C': 0.2196149405328214, 'gamma': 0.02181579148092425, 'epsilon': 0.0018533204989412547}. Best is trial 156 with value: -0.0056736269798483355.\u001b[0m\n",
      "\u001b[32m[I 2021-06-25 13:58:34,080]\u001b[0m Trial 426 finished with value: -0.005695313842887 and parameters: {'kernel': 'rbf', 'C': 0.17281896501737048, 'gamma': 0.019172769328719693, 'epsilon': 0.0011691663546345243}. Best is trial 156 with value: -0.0056736269798483355.\u001b[0m\n",
      "\u001b[32m[I 2021-06-25 13:58:34,717]\u001b[0m Trial 427 finished with value: -0.0056811872824946265 and parameters: {'kernel': 'rbf', 'C': 0.12365371271387844, 'gamma': 0.02453317609734292, 'epsilon': 0.0015081801962266324}. Best is trial 156 with value: -0.0056736269798483355.\u001b[0m\n",
      "\u001b[32m[I 2021-06-25 13:58:35,326]\u001b[0m Trial 428 finished with value: -0.0056970557815853 and parameters: {'kernel': 'rbf', 'C': 0.10527640467123191, 'gamma': 0.022340557669315527, 'epsilon': 0.0013001375786983573}. Best is trial 156 with value: -0.0056736269798483355.\u001b[0m\n",
      "\u001b[32m[I 2021-06-25 13:58:36,026]\u001b[0m Trial 429 finished with value: -0.005709844976370187 and parameters: {'kernel': 'rbf', 'C': 0.11736929737857765, 'gamma': 0.0268719496897294, 'epsilon': 0.0010046702281167692}. Best is trial 156 with value: -0.0056736269798483355.\u001b[0m\n"
     ]
    },
    {
     "name": "stderr",
     "output_type": "stream",
     "text": [
      "\u001b[32m[I 2021-06-25 13:58:36,614]\u001b[0m Trial 430 finished with value: -0.005714338874263751 and parameters: {'kernel': 'rbf', 'C': 0.08821725791488942, 'gamma': 0.03221834451693729, 'epsilon': 0.0014356467471409301}. Best is trial 156 with value: -0.0056736269798483355.\u001b[0m\n",
      "\u001b[32m[I 2021-06-25 13:58:37,225]\u001b[0m Trial 431 finished with value: -0.005731738982857993 and parameters: {'kernel': 'rbf', 'C': 0.12641725452769026, 'gamma': 0.018120155572958277, 'epsilon': 0.0012186361837282762}. Best is trial 156 with value: -0.0056736269798483355.\u001b[0m\n",
      "\u001b[32m[I 2021-06-25 13:58:37,852]\u001b[0m Trial 432 finished with value: -0.0056849262801798835 and parameters: {'kernel': 'rbf', 'C': 0.18839150492210208, 'gamma': 0.02422050211203797, 'epsilon': 0.0015394797785510878}. Best is trial 156 with value: -0.0056736269798483355.\u001b[0m\n",
      "\u001b[32m[I 2021-06-25 13:58:38,541]\u001b[0m Trial 433 finished with value: -0.005699347335213563 and parameters: {'kernel': 'rbf', 'C': 0.15865036682876246, 'gamma': 0.020145696194175177, 'epsilon': 0.0011211470113496355}. Best is trial 156 with value: -0.0056736269798483355.\u001b[0m\n",
      "\u001b[32m[I 2021-06-25 13:58:39,123]\u001b[0m Trial 434 finished with value: -0.005700933994482217 and parameters: {'kernel': 'rbf', 'C': 0.10005779960149014, 'gamma': 0.02920265351201491, 'epsilon': 0.0013778028636399608}. Best is trial 156 with value: -0.0056736269798483355.\u001b[0m\n",
      "\u001b[32m[I 2021-06-25 13:58:39,478]\u001b[0m Trial 435 finished with value: -0.006689639269991973 and parameters: {'kernel': 'rbf', 'C': 0.15015617631316375, 'gamma': 0.1801678121646064, 'epsilon': 0.0020064688064963627}. Best is trial 156 with value: -0.0056736269798483355.\u001b[0m\n",
      "\u001b[32m[I 2021-06-25 13:58:40,021]\u001b[0m Trial 436 finished with value: -0.00571942115079858 and parameters: {'kernel': 'rbf', 'C': 0.21303630570835047, 'gamma': 0.0151995868508805, 'epsilon': 0.0016120470637050598}. Best is trial 156 with value: -0.0056736269798483355.\u001b[0m\n",
      "\u001b[32m[I 2021-06-25 13:58:40,723]\u001b[0m Trial 437 finished with value: -0.005759682300569731 and parameters: {'kernel': 'rbf', 'C': 0.1790932765022331, 'gamma': 0.01085367769852708, 'epsilon': 0.0010082983510188639}. Best is trial 156 with value: -0.0056736269798483355.\u001b[0m\n",
      "\u001b[32m[I 2021-06-25 13:58:41,299]\u001b[0m Trial 438 finished with value: -0.005685070368382714 and parameters: {'kernel': 'rbf', 'C': 0.1269150575119939, 'gamma': 0.024774427264504618, 'epsilon': 0.0012714197747298202}. Best is trial 156 with value: -0.0056736269798483355.\u001b[0m\n",
      "\u001b[32m[I 2021-06-25 13:58:42,028]\u001b[0m Trial 439 finished with value: -0.0058539491447135205 and parameters: {'kernel': 'rbf', 'C': 0.26062076175191584, 'gamma': 0.034370888111181275, 'epsilon': 0.0014882041592045718}. Best is trial 156 with value: -0.0056736269798483355.\u001b[0m\n",
      "\u001b[32m[I 2021-06-25 13:58:42,245]\u001b[0m Trial 440 finished with value: -0.006047468682644393 and parameters: {'kernel': 'rbf', 'C': 0.16191770960247082, 'gamma': 0.021212672751425278, 'epsilon': 0.005610741219490619}. Best is trial 156 with value: -0.0056736269798483355.\u001b[0m\n",
      "\u001b[32m[I 2021-06-25 13:58:42,719]\u001b[0m Trial 441 finished with value: -0.006328150729593272 and parameters: {'kernel': 'poly', 'C': 0.13865865206914807, 'gamma': 0.018574146684411708, 'epsilon': 0.0017792706998813622}. Best is trial 156 with value: -0.0056736269798483355.\u001b[0m\n",
      "\u001b[32m[I 2021-06-25 13:58:43,315]\u001b[0m Trial 442 finished with value: -0.005698852691650456 and parameters: {'kernel': 'rbf', 'C': 0.11521677300953874, 'gamma': 0.027691664729293564, 'epsilon': 0.0011860810375640199}. Best is trial 156 with value: -0.0056736269798483355.\u001b[0m\n",
      "\u001b[32m[I 2021-06-25 13:58:43,877]\u001b[0m Trial 443 finished with value: -0.005854441154874758 and parameters: {'kernel': 'rbf', 'C': 0.18775885076328908, 'gamma': 0.04217253572315739, 'epsilon': 0.0013942099542402437}. Best is trial 156 with value: -0.0056736269798483355.\u001b[0m\n",
      "\u001b[32m[I 2021-06-25 13:58:44,267]\u001b[0m Trial 444 finished with value: -0.005697940717372098 and parameters: {'kernel': 'rbf', 'C': 0.15222759369047312, 'gamma': 0.02312682471968265, 'epsilon': 0.001997046398196215}. Best is trial 156 with value: -0.0056736269798483355.\u001b[0m\n",
      "\u001b[32m[I 2021-06-25 13:58:44,961]\u001b[0m Trial 445 finished with value: -0.005721014878457997 and parameters: {'kernel': 'rbf', 'C': 0.17819524359788202, 'gamma': 0.02533688242560368, 'epsilon': 0.0010039239017372822}. Best is trial 156 with value: -0.0056736269798483355.\u001b[0m\n",
      "\u001b[32m[I 2021-06-25 13:58:45,506]\u001b[0m Trial 446 finished with value: -0.0057019728225999045 and parameters: {'kernel': 'rbf', 'C': 0.21472708530522938, 'gamma': 0.01674798055542475, 'epsilon': 0.001616152788618321}. Best is trial 156 with value: -0.0056736269798483355.\u001b[0m\n",
      "\u001b[32m[I 2021-06-25 13:58:46,073]\u001b[0m Trial 447 finished with value: -0.0056875374565631305 and parameters: {'kernel': 'rbf', 'C': 0.13126138744640234, 'gamma': 0.020920619490685837, 'epsilon': 0.0012858585931241038}. Best is trial 156 with value: -0.0056736269798483355.\u001b[0m\n",
      "\u001b[32m[I 2021-06-25 13:58:46,757]\u001b[0m Trial 448 finished with value: -0.005736093384743538 and parameters: {'kernel': 'rbf', 'C': 0.16049846630219664, 'gamma': 0.03035446081321236, 'epsilon': 0.0011444001983283573}. Best is trial 156 with value: -0.0056736269798483355.\u001b[0m\n",
      "\u001b[32m[I 2021-06-25 13:58:47,187]\u001b[0m Trial 449 finished with value: -0.005699445745540176 and parameters: {'kernel': 'rbf', 'C': 0.11225094052824114, 'gamma': 0.023292296330950642, 'epsilon': 0.001510260588900918}. Best is trial 156 with value: -0.0056736269798483355.\u001b[0m\n",
      "\u001b[32m[I 2021-06-25 13:58:47,577]\u001b[0m Trial 450 finished with value: -0.0057646766547696515 and parameters: {'kernel': 'rbf', 'C': 0.1421442399317563, 'gamma': 0.013632445713539783, 'epsilon': 0.0017714082265595024}. Best is trial 156 with value: -0.0056736269798483355.\u001b[0m\n",
      "\u001b[32m[I 2021-06-25 13:58:48,127]\u001b[0m Trial 451 finished with value: -0.005687743999710895 and parameters: {'kernel': 'rbf', 'C': 0.19205736097311044, 'gamma': 0.018680314301847176, 'epsilon': 0.001333878963263317}. Best is trial 156 with value: -0.0056736269798483355.\u001b[0m\n",
      "\u001b[32m[I 2021-06-25 13:58:48,827]\u001b[0m Trial 452 finished with value: -0.005794450527476709 and parameters: {'kernel': 'rbf', 'C': 0.23250476734031583, 'gamma': 0.027211092723209884, 'epsilon': 0.0011000235133731772}. Best is trial 156 with value: -0.0056736269798483355.\u001b[0m\n",
      "\u001b[32m[I 2021-06-25 13:58:48,974]\u001b[0m Trial 453 finished with value: -0.006836095448464631 and parameters: {'kernel': 'rbf', 'C': 0.16826476657044465, 'gamma': 0.03524089755506837, 'epsilon': 0.008251758359182704}. Best is trial 156 with value: -0.0056736269798483355.\u001b[0m\n",
      "\u001b[32m[I 2021-06-25 13:58:49,276]\u001b[0m Trial 454 finished with value: -0.005735210360200606 and parameters: {'kernel': 'rbf', 'C': 0.12579278269903071, 'gamma': 0.021926336606852143, 'epsilon': 0.0025010248790992714}. Best is trial 156 with value: -0.0056736269798483355.\u001b[0m\n",
      "\u001b[32m[I 2021-06-25 13:58:49,704]\u001b[0m Trial 455 finished with value: -0.005697589253417463 and parameters: {'kernel': 'rbf', 'C': 0.0973924259097724, 'gamma': 0.02578061675492135, 'epsilon': 0.001500772361384175}. Best is trial 156 with value: -0.0056736269798483355.\u001b[0m\n",
      "\u001b[32m[I 2021-06-25 13:58:50,102]\u001b[0m Trial 456 finished with value: -0.005734345150111911 and parameters: {'kernel': 'rbf', 'C': 0.14655151909816486, 'gamma': 0.017182875865919225, 'epsilon': 0.0017837387370968395}. Best is trial 156 with value: -0.0056736269798483355.\u001b[0m\n",
      "\u001b[32m[I 2021-06-25 13:58:50,694]\u001b[0m Trial 457 finished with value: -0.00579291296703005 and parameters: {'kernel': 'rbf', 'C': 0.19885710513134172, 'gamma': 0.030768793788740756, 'epsilon': 0.0012835433276997851}. Best is trial 156 with value: -0.0056736269798483355.\u001b[0m\n",
      "\u001b[32m[I 2021-06-25 13:58:50,725]\u001b[0m Trial 458 finished with value: -0.04522358590646345 and parameters: {'kernel': 'rbf', 'C': 0.28115020362460763, 'gamma': 0.020153270821733738, 'epsilon': 0.11801787255719731}. Best is trial 156 with value: -0.0056736269798483355.\u001b[0m\n",
      "\u001b[32m[I 2021-06-25 13:58:51,362]\u001b[0m Trial 459 finished with value: -0.0057049352093082395 and parameters: {'kernel': 'rbf', 'C': 0.169355608397602, 'gamma': 0.023485218400816663, 'epsilon': 0.0010071343644574378}. Best is trial 156 with value: -0.0056736269798483355.\u001b[0m\n"
     ]
    },
    {
     "name": "stderr",
     "output_type": "stream",
     "text": [
      "\u001b[32m[I 2021-06-25 13:58:51,718]\u001b[0m Trial 460 finished with value: -0.005701487758335639 and parameters: {'kernel': 'rbf', 'C': 0.1396788149688503, 'gamma': 0.027390132193926442, 'epsilon': 0.002134786851491571}. Best is trial 156 with value: -0.0056736269798483355.\u001b[0m\n",
      "\u001b[32m[I 2021-06-25 13:58:52,152]\u001b[0m Trial 461 finished with value: -0.005720252067552905 and parameters: {'kernel': 'rbf', 'C': 0.11329577888282047, 'gamma': 0.020063085968031386, 'epsilon': 0.0015681481122027043}. Best is trial 156 with value: -0.0056736269798483355.\u001b[0m\n",
      "\u001b[32m[I 2021-06-25 13:58:52,656]\u001b[0m Trial 462 finished with value: -0.005682019059077416 and parameters: {'kernel': 'rbf', 'C': 0.15970336779959496, 'gamma': 0.0246587515815197, 'epsilon': 0.0013765901525824773}. Best is trial 156 with value: -0.0056736269798483355.\u001b[0m\n",
      "\u001b[32m[I 2021-06-25 13:58:53,247]\u001b[0m Trial 463 finished with value: -0.0058238397267989656 and parameters: {'kernel': 'rbf', 'C': 0.19693197853401312, 'gamma': 0.032667614581308554, 'epsilon': 0.0011947125646449566}. Best is trial 156 with value: -0.0056736269798483355.\u001b[0m\n",
      "\u001b[32m[I 2021-06-25 13:58:53,813]\u001b[0m Trial 464 finished with value: -0.005799509859930861 and parameters: {'kernel': 'rbf', 'C': 0.22771420153020167, 'gamma': 0.028568774180232476, 'epsilon': 0.0013539499110698456}. Best is trial 156 with value: -0.0056736269798483355.\u001b[0m\n",
      "\u001b[32m[I 2021-06-25 13:58:54,098]\u001b[0m Trial 465 finished with value: -0.005755099866172218 and parameters: {'kernel': 'rbf', 'C': 0.1685253554680962, 'gamma': 0.024901747720483845, 'epsilon': 0.0028963733312406042}. Best is trial 156 with value: -0.0056736269798483355.\u001b[0m\n",
      "\u001b[32m[I 2021-06-25 13:58:54,645]\u001b[0m Trial 466 finished with value: -0.005713852995159911 and parameters: {'kernel': 'rbf', 'C': 0.18413188356101778, 'gamma': 0.01624256119248696, 'epsilon': 0.0012283759001849252}. Best is trial 156 with value: -0.0056736269798483355.\u001b[0m\n",
      "\u001b[32m[I 2021-06-25 13:58:55,203]\u001b[0m Trial 467 finished with value: -0.005694791164781832 and parameters: {'kernel': 'rbf', 'C': 0.1554346623958942, 'gamma': 0.021088983460921678, 'epsilon': 0.001095735898587667}. Best is trial 156 with value: -0.0056736269798483355.\u001b[0m\n",
      "\u001b[32m[I 2021-06-25 13:58:55,689]\u001b[0m Trial 468 finished with value: -0.005758785555044342 and parameters: {'kernel': 'rbf', 'C': 0.12893287739433024, 'gamma': 0.03668816239212584, 'epsilon': 0.001387679777000636}. Best is trial 156 with value: -0.0056736269798483355.\u001b[0m\n",
      "\u001b[32m[I 2021-06-25 13:58:56,196]\u001b[0m Trial 469 finished with value: -0.005688469016377055 and parameters: {'kernel': 'rbf', 'C': 0.1576511515890848, 'gamma': 0.02404199756618781, 'epsilon': 0.0017254586902716016}. Best is trial 156 with value: -0.0056736269798483355.\u001b[0m\n",
      "\u001b[32m[I 2021-06-25 13:58:56,785]\u001b[0m Trial 470 finished with value: -0.006328954478338725 and parameters: {'kernel': 'poly', 'C': 0.2102322350166733, 'gamma': 0.019001552011277102, 'epsilon': 0.001436707345757547}. Best is trial 156 with value: -0.0056736269798483355.\u001b[0m\n",
      "\u001b[32m[I 2021-06-25 13:58:57,409]\u001b[0m Trial 471 finished with value: -0.005755629964335642 and parameters: {'kernel': 'rbf', 'C': 0.18015834998145439, 'gamma': 0.029643290646131283, 'epsilon': 0.001128568616454232}. Best is trial 156 with value: -0.0056736269798483355.\u001b[0m\n",
      "\u001b[32m[I 2021-06-25 13:58:57,995]\u001b[0m Trial 472 finished with value: -0.005701535139716684 and parameters: {'kernel': 'rbf', 'C': 0.14377630802013958, 'gamma': 0.022405691808638058, 'epsilon': 0.001003816511695201}. Best is trial 156 with value: -0.0056736269798483355.\u001b[0m\n",
      "\u001b[32m[I 2021-06-25 13:58:58,497]\u001b[0m Trial 473 finished with value: -0.005751837476147228 and parameters: {'kernel': 'rbf', 'C': 0.2391897812559665, 'gamma': 0.02600573146733624, 'epsilon': 0.0016439202290982815}. Best is trial 156 with value: -0.0056736269798483355.\u001b[0m\n",
      "\u001b[32m[I 2021-06-25 13:58:58,814]\u001b[0m Trial 474 finished with value: -0.005757793207521942 and parameters: {'kernel': 'rbf', 'C': 0.08466754403202481, 'gamma': 0.017983027996406067, 'epsilon': 0.0019568159025523902}. Best is trial 156 with value: -0.0056736269798483355.\u001b[0m\n",
      "\u001b[32m[I 2021-06-25 13:58:59,320]\u001b[0m Trial 475 finished with value: -0.005693552063857923 and parameters: {'kernel': 'rbf', 'C': 0.12800303589310727, 'gamma': 0.02224536447344961, 'epsilon': 0.0013192213031597315}. Best is trial 156 with value: -0.0056736269798483355.\u001b[0m\n",
      "\u001b[32m[I 2021-06-25 13:58:59,822]\u001b[0m Trial 476 finished with value: -0.005753043900445725 and parameters: {'kernel': 'rbf', 'C': 0.17528077729377622, 'gamma': 0.031264443812050076, 'epsilon': 0.001485276988454562}. Best is trial 156 with value: -0.0056736269798483355.\u001b[0m\n",
      "\u001b[32m[I 2021-06-25 13:59:00,361]\u001b[0m Trial 477 finished with value: -0.005697419366120342 and parameters: {'kernel': 'rbf', 'C': 0.15249713871027362, 'gamma': 0.026614597350165164, 'epsilon': 0.0012048068196514265}. Best is trial 156 with value: -0.0056736269798483355.\u001b[0m\n",
      "\u001b[32m[I 2021-06-25 13:59:00,932]\u001b[0m Trial 478 finished with value: -0.005730308464418584 and parameters: {'kernel': 'rbf', 'C': 0.20573856998083231, 'gamma': 0.014471096236936383, 'epsilon': 0.001575852053189604}. Best is trial 156 with value: -0.0056736269798483355.\u001b[0m\n",
      "\u001b[32m[I 2021-06-25 13:59:01,455]\u001b[0m Trial 479 finished with value: -0.0057243838059983995 and parameters: {'kernel': 'rbf', 'C': 0.11079550699204982, 'gamma': 0.019967181814002876, 'epsilon': 0.001329983189251636}. Best is trial 156 with value: -0.0056736269798483355.\u001b[0m\n",
      "\u001b[32m[I 2021-06-25 13:59:01,899]\u001b[0m Trial 480 finished with value: -0.00568421931770403 and parameters: {'kernel': 'rbf', 'C': 0.17429589547450963, 'gamma': 0.02415414597338785, 'epsilon': 0.0019027100308815078}. Best is trial 156 with value: -0.0056736269798483355.\u001b[0m\n",
      "\u001b[32m[I 2021-06-25 13:59:02,545]\u001b[0m Trial 481 finished with value: -0.005710270855963401 and parameters: {'kernel': 'rbf', 'C': 0.13222712378649598, 'gamma': 0.028023665434557424, 'epsilon': 0.001151499997982924}. Best is trial 156 with value: -0.0056736269798483355.\u001b[0m\n",
      "\u001b[32m[I 2021-06-25 13:59:03,147]\u001b[0m Trial 482 finished with value: -0.005817257562278265 and parameters: {'kernel': 'rbf', 'C': 0.15572611412454768, 'gamma': 0.03990221951663354, 'epsilon': 0.0014404581151630969}. Best is trial 156 with value: -0.0056736269798483355.\u001b[0m\n",
      "\u001b[32m[I 2021-06-25 13:59:03,592]\u001b[0m Trial 483 finished with value: -0.005714178767040557 and parameters: {'kernel': 'rbf', 'C': 0.1992464764885371, 'gamma': 0.016807667508043963, 'epsilon': 0.0017646089289825554}. Best is trial 156 with value: -0.0056736269798483355.\u001b[0m\n",
      "\u001b[32m[I 2021-06-25 13:59:04,179]\u001b[0m Trial 484 finished with value: -0.005711109651954163 and parameters: {'kernel': 'rbf', 'C': 0.12064900205298153, 'gamma': 0.02186642771317674, 'epsilon': 0.0010214402123308913}. Best is trial 156 with value: -0.0056736269798483355.\u001b[0m\n",
      "\u001b[32m[I 2021-06-25 13:59:04,741]\u001b[0m Trial 485 finished with value: -0.005760721099198868 and parameters: {'kernel': 'rbf', 'C': 0.14500330577487316, 'gamma': 0.034263672316499336, 'epsilon': 0.0012996730768182036}. Best is trial 156 with value: -0.0056736269798483355.\u001b[0m\n",
      "\u001b[32m[I 2021-06-25 13:59:05,268]\u001b[0m Trial 486 finished with value: -0.005687368058959196 and parameters: {'kernel': 'rbf', 'C': 0.17188482508345962, 'gamma': 0.025580823819165877, 'epsilon': 0.0016168500258620189}. Best is trial 156 with value: -0.0056736269798483355.\u001b[0m\n",
      "\u001b[32m[I 2021-06-25 13:59:05,831]\u001b[0m Trial 487 finished with value: -0.005725774653159939 and parameters: {'kernel': 'rbf', 'C': 0.10178840466369576, 'gamma': 0.019113052554476727, 'epsilon': 0.0011640880874982436}. Best is trial 156 with value: -0.0056736269798483355.\u001b[0m\n",
      "\u001b[32m[I 2021-06-25 13:59:06,274]\u001b[0m Trial 488 finished with value: -0.005832352840982449 and parameters: {'kernel': 'rbf', 'C': 0.2538632126398845, 'gamma': 0.029732578988597307, 'epsilon': 0.0021700582917342456}. Best is trial 156 with value: -0.0056736269798483355.\u001b[0m\n",
      "\u001b[32m[I 2021-06-25 13:59:06,880]\u001b[0m Trial 489 finished with value: -0.005696592152989362 and parameters: {'kernel': 'rbf', 'C': 0.21010314310609712, 'gamma': 0.02212736619786668, 'epsilon': 0.0014387924017107813}. Best is trial 156 with value: -0.0056736269798483355.\u001b[0m\n"
     ]
    },
    {
     "name": "stderr",
     "output_type": "stream",
     "text": [
      "\u001b[32m[I 2021-06-25 13:59:07,346]\u001b[0m Trial 490 finished with value: -0.00568687427306587 and parameters: {'kernel': 'rbf', 'C': 0.13636280560508277, 'gamma': 0.025001771412770844, 'epsilon': 0.001693580380917245}. Best is trial 156 with value: -0.0056736269798483355.\u001b[0m\n",
      "\u001b[32m[I 2021-06-25 13:59:07,913]\u001b[0m Trial 491 finished with value: -0.005694182298902479 and parameters: {'kernel': 'rbf', 'C': 0.15969446600396844, 'gamma': 0.019943025563345217, 'epsilon': 0.0012790426714483305}. Best is trial 156 with value: -0.0056736269798483355.\u001b[0m\n",
      "\u001b[32m[I 2021-06-25 13:59:09,078]\u001b[0m Trial 492 finished with value: -0.005718436400239534 and parameters: {'kernel': 'rbf', 'C': 0.18910760377708027, 'gamma': 0.016402292872944507, 'epsilon': 0.001000942037637517}. Best is trial 156 with value: -0.0056736269798483355.\u001b[0m\n",
      "\u001b[32m[I 2021-06-25 13:59:09,545]\u001b[0m Trial 493 finished with value: -0.005699833555064874 and parameters: {'kernel': 'rbf', 'C': 0.12041810219235641, 'gamma': 0.02867797532817861, 'epsilon': 0.0014707697198395814}. Best is trial 156 with value: -0.0056736269798483355.\u001b[0m\n",
      "\u001b[32m[I 2021-06-25 13:59:10,134]\u001b[0m Trial 494 finished with value: -0.005757989229530744 and parameters: {'kernel': 'rbf', 'C': 0.3041847869672139, 'gamma': 0.022784439416446502, 'epsilon': 0.0019230559465128964}. Best is trial 156 with value: -0.0056736269798483355.\u001b[0m\n",
      "\u001b[32m[I 2021-06-25 13:59:10,811]\u001b[0m Trial 495 finished with value: -0.005755308312466279 and parameters: {'kernel': 'rbf', 'C': 0.1455101719225064, 'gamma': 0.033659648301577874, 'epsilon': 0.0011575729725840022}. Best is trial 156 with value: -0.0056736269798483355.\u001b[0m\n",
      "\u001b[32m[I 2021-06-25 13:59:11,299]\u001b[0m Trial 496 finished with value: -0.005685125722979578 and parameters: {'kernel': 'rbf', 'C': 0.16327760566199698, 'gamma': 0.02536190296912209, 'epsilon': 0.0015960622268848285}. Best is trial 156 with value: -0.0056736269798483355.\u001b[0m\n",
      "\u001b[32m[I 2021-06-25 13:59:11,829]\u001b[0m Trial 497 finished with value: -0.005696310848761683 and parameters: {'kernel': 'rbf', 'C': 0.17894369923036718, 'gamma': 0.01842959303025409, 'epsilon': 0.0013187381975254093}. Best is trial 156 with value: -0.0056736269798483355.\u001b[0m\n",
      "\u001b[32m[I 2021-06-25 13:59:12,507]\u001b[0m Trial 498 finished with value: -0.006335011787937162 and parameters: {'kernel': 'poly', 'C': 0.22743100200142674, 'gamma': 0.02095713088512284, 'epsilon': 0.001452926903982128}. Best is trial 156 with value: -0.0056736269798483355.\u001b[0m\n",
      "\u001b[32m[I 2021-06-25 13:59:13,249]\u001b[0m Trial 499 finished with value: -0.00571853723734663 and parameters: {'kernel': 'rbf', 'C': 0.13204026507939295, 'gamma': 0.028658024048332016, 'epsilon': 0.0010099334861027828}. Best is trial 156 with value: -0.0056736269798483355.\u001b[0m\n",
      "\u001b[32m[I 2021-06-25 13:59:13,996]\u001b[0m Trial 500 finished with value: -0.005690238763859333 and parameters: {'kernel': 'rbf', 'C': 0.15317395075968124, 'gamma': 0.023344487635801537, 'epsilon': 0.001222291495744186}. Best is trial 156 with value: -0.0056736269798483355.\u001b[0m\n",
      "\u001b[32m[I 2021-06-25 13:59:14,441]\u001b[0m Trial 501 finished with value: -0.00574911439444479 and parameters: {'kernel': 'rbf', 'C': 0.188871435772935, 'gamma': 0.014648177324127782, 'epsilon': 0.001784995270508771}. Best is trial 156 with value: -0.0056736269798483355.\u001b[0m\n",
      "\u001b[32m[I 2021-06-25 13:59:14,774]\u001b[0m Trial 502 finished with value: -0.005729456751458978 and parameters: {'kernel': 'rbf', 'C': 0.1099733258062728, 'gamma': 0.026228626561204834, 'epsilon': 0.002356227913970401}. Best is trial 156 with value: -0.0056736269798483355.\u001b[0m\n",
      "\u001b[32m[I 2021-06-25 13:59:15,235]\u001b[0m Trial 503 finished with value: -0.005699225918136066 and parameters: {'kernel': 'rbf', 'C': 0.13491844363327876, 'gamma': 0.019662795714861382, 'epsilon': 0.0015809640638217801}. Best is trial 156 with value: -0.0056736269798483355.\u001b[0m\n",
      "\u001b[32m[I 2021-06-25 13:59:16,245]\u001b[0m Trial 504 finished with value: -0.005935844408121078 and parameters: {'kernel': 'rbf', 'C': 0.4634258168565079, 'gamma': 0.03331585030757541, 'epsilon': 0.0011149187083060834}. Best is trial 156 with value: -0.0056736269798483355.\u001b[0m\n",
      "\u001b[32m[I 2021-06-25 13:59:16,841]\u001b[0m Trial 505 finished with value: -0.005744734094225101 and parameters: {'kernel': 'rbf', 'C': 0.1660265010995387, 'gamma': 0.01218146375933259, 'epsilon': 0.0013678008521200106}. Best is trial 156 with value: -0.0056736269798483355.\u001b[0m\n",
      "\u001b[32m[I 2021-06-25 13:59:17,299]\u001b[0m Trial 506 finished with value: -0.0056984995312514474 and parameters: {'kernel': 'rbf', 'C': 0.2041928877224139, 'gamma': 0.022692256396162902, 'epsilon': 0.001936761956121761}. Best is trial 156 with value: -0.0056736269798483355.\u001b[0m\n",
      "\u001b[32m[I 2021-06-25 13:59:17,928]\u001b[0m Trial 507 finished with value: -0.005740062180895104 and parameters: {'kernel': 'rbf', 'C': 0.12001554136663782, 'gamma': 0.017577130369339465, 'epsilon': 0.0012875558334893076}. Best is trial 156 with value: -0.0056736269798483355.\u001b[0m\n",
      "\u001b[32m[I 2021-06-25 13:59:18,404]\u001b[0m Trial 508 finished with value: -0.005699240113465281 and parameters: {'kernel': 'rbf', 'C': 0.14698557063905932, 'gamma': 0.029838232134837526, 'epsilon': 0.0016395412351399548}. Best is trial 156 with value: -0.0056736269798483355.\u001b[0m\n",
      "\u001b[32m[I 2021-06-25 13:59:18,931]\u001b[0m Trial 509 finished with value: -0.005699566834808431 and parameters: {'kernel': 'rbf', 'C': 0.09411715708082803, 'gamma': 0.025573183095901966, 'epsilon': 0.0014668716349102815}. Best is trial 156 with value: -0.0056736269798483355.\u001b[0m\n",
      "\u001b[32m[I 2021-06-25 13:59:19,758]\u001b[0m Trial 510 finished with value: -0.0057423843414504475 and parameters: {'kernel': 'rbf', 'C': 0.24667040044983543, 'gamma': 0.021247990782008275, 'epsilon': 0.0010055252332011925}. Best is trial 156 with value: -0.0056736269798483355.\u001b[0m\n",
      "\u001b[32m[I 2021-06-25 13:59:20,449]\u001b[0m Trial 511 finished with value: -0.005701803437682565 and parameters: {'kernel': 'rbf', 'C': 0.17781144445575392, 'gamma': 0.024081495961563844, 'epsilon': 0.001176262002446674}. Best is trial 156 with value: -0.0056736269798483355.\u001b[0m\n",
      "\u001b[32m[I 2021-06-25 13:59:20,933]\u001b[0m Trial 512 finished with value: -0.005727267835778487 and parameters: {'kernel': 'rbf', 'C': 0.15619985554517848, 'gamma': 0.018993364814877605, 'epsilon': 0.0016940295004792343}. Best is trial 156 with value: -0.0056736269798483355.\u001b[0m\n",
      "\u001b[32m[I 2021-06-25 13:59:21,645]\u001b[0m Trial 513 finished with value: -0.005852230650757043 and parameters: {'kernel': 'rbf', 'C': 0.21124355777725107, 'gamma': 0.03861142314976128, 'epsilon': 0.0013951652051037752}. Best is trial 156 with value: -0.0056736269798483355.\u001b[0m\n",
      "\u001b[32m[I 2021-06-25 13:59:22,335]\u001b[0m Trial 514 finished with value: -0.005700092485033583 and parameters: {'kernel': 'rbf', 'C': 0.13561977997026178, 'gamma': 0.02815683252958915, 'epsilon': 0.001290497139839035}. Best is trial 156 with value: -0.0056736269798483355.\u001b[0m\n",
      "\u001b[32m[I 2021-06-25 13:59:22,788]\u001b[0m Trial 515 finished with value: -0.005708591457591614 and parameters: {'kernel': 'rbf', 'C': 0.18442766879889888, 'gamma': 0.021077268107661584, 'epsilon': 0.002174693725067704}. Best is trial 156 with value: -0.0056736269798483355.\u001b[0m\n",
      "\u001b[32m[I 2021-06-25 13:59:23,339]\u001b[0m Trial 516 finished with value: -0.005755169117659488 and parameters: {'kernel': 'rbf', 'C': 0.12207055215912592, 'gamma': 0.016887900032504323, 'epsilon': 0.001886075970456593}. Best is trial 156 with value: -0.0056736269798483355.\u001b[0m\n",
      "\u001b[32m[I 2021-06-25 13:59:24,299]\u001b[0m Trial 517 finished with value: -0.00575063225718364 and parameters: {'kernel': 'rbf', 'C': 0.15785866347292707, 'gamma': 0.03100550337622929, 'epsilon': 0.0010019079245718995}. Best is trial 156 with value: -0.0056736269798483355.\u001b[0m\n",
      "\u001b[32m[I 2021-06-25 13:59:24,872]\u001b[0m Trial 518 finished with value: -0.005683395061489717 and parameters: {'kernel': 'rbf', 'C': 0.1412316156195234, 'gamma': 0.025270860395990875, 'epsilon': 0.0015329999833158063}. Best is trial 156 with value: -0.0056736269798483355.\u001b[0m\n",
      "\u001b[32m[I 2021-06-25 13:59:25,436]\u001b[0m Trial 519 finished with value: -0.0056953241817116924 and parameters: {'kernel': 'rbf', 'C': 0.11053457348734155, 'gamma': 0.027735694986150097, 'epsilon': 0.0015955538533961055}. Best is trial 156 with value: -0.0056736269798483355.\u001b[0m\n",
      "\u001b[32m[I 2021-06-25 13:59:25,988]\u001b[0m Trial 520 finished with value: -0.005716277186457647 and parameters: {'kernel': 'rbf', 'C': 0.12936896265766681, 'gamma': 0.032889486435698785, 'epsilon': 0.0018042044374226285}. Best is trial 156 with value: -0.0056736269798483355.\u001b[0m\n"
     ]
    },
    {
     "name": "stderr",
     "output_type": "stream",
     "text": [
      "\u001b[32m[I 2021-06-25 13:59:26,529]\u001b[0m Trial 521 finished with value: -0.005687949071442725 and parameters: {'kernel': 'rbf', 'C': 0.1069179186789572, 'gamma': 0.025215451174820262, 'epsilon': 0.0014973819082631623}. Best is trial 156 with value: -0.0056736269798483355.\u001b[0m\n",
      "\u001b[32m[I 2021-06-25 13:59:27,068]\u001b[0m Trial 522 finished with value: -0.005695653661706022 and parameters: {'kernel': 'rbf', 'C': 0.14267993701725293, 'gamma': 0.02394742308264999, 'epsilon': 0.002002922201488671}. Best is trial 156 with value: -0.0056736269798483355.\u001b[0m\n",
      "\u001b[32m[I 2021-06-25 13:59:27,809]\u001b[0m Trial 523 finished with value: -0.005700678235037134 and parameters: {'kernel': 'rbf', 'C': 0.12406480215647793, 'gamma': 0.027706312335324987, 'epsilon': 0.0011992214056295444}. Best is trial 156 with value: -0.0056736269798483355.\u001b[0m\n",
      "\u001b[32m[I 2021-06-25 13:59:28,497]\u001b[0m Trial 524 finished with value: -0.005681976614357755 and parameters: {'kernel': 'rbf', 'C': 0.14439738139973032, 'gamma': 0.022865910160812367, 'epsilon': 0.0014520642859051534}. Best is trial 156 with value: -0.0056736269798483355.\u001b[0m\n",
      "\u001b[32m[I 2021-06-25 13:59:29,012]\u001b[0m Trial 525 finished with value: -0.0057087109899870815 and parameters: {'kernel': 'rbf', 'C': 0.10140216182600563, 'gamma': 0.03458462732929796, 'epsilon': 0.0016906679279697784}. Best is trial 156 with value: -0.0056736269798483355.\u001b[0m\n",
      "\u001b[32m[I 2021-06-25 13:59:29,712]\u001b[0m Trial 526 finished with value: -0.0057167328172196595 and parameters: {'kernel': 'rbf', 'C': 0.13876409607820828, 'gamma': 0.03080293518534318, 'epsilon': 0.0014874402262302485}. Best is trial 156 with value: -0.0056736269798483355.\u001b[0m\n",
      "\u001b[32m[I 2021-06-25 13:59:30,242]\u001b[0m Trial 527 finished with value: -0.006303928609771293 and parameters: {'kernel': 'poly', 'C': 0.12402735621501243, 'gamma': 0.025517157056038516, 'epsilon': 0.002670408466618238}. Best is trial 156 with value: -0.0056736269798483355.\u001b[0m\n",
      "\u001b[32m[I 2021-06-25 13:59:30,973]\u001b[0m Trial 528 finished with value: -0.005701478522633273 and parameters: {'kernel': 'rbf', 'C': 0.14745149945309446, 'gamma': 0.02256433748559285, 'epsilon': 0.00113611036965933}. Best is trial 156 with value: -0.0056736269798483355.\u001b[0m\n",
      "\u001b[32m[I 2021-06-25 13:59:31,624]\u001b[0m Trial 529 finished with value: -0.005817246544471519 and parameters: {'kernel': 'rbf', 'C': 0.09718900743553563, 'gamma': 0.04927289854834465, 'epsilon': 0.001335932802932328}. Best is trial 156 with value: -0.0056736269798483355.\u001b[0m\n",
      "\u001b[32m[I 2021-06-25 13:59:32,125]\u001b[0m Trial 530 finished with value: -0.005695631602906375 and parameters: {'kernel': 'rbf', 'C': 0.11901681887754793, 'gamma': 0.02778881311444169, 'epsilon': 0.0017620299392993816}. Best is trial 156 with value: -0.0056736269798483355.\u001b[0m\n",
      "\u001b[32m[I 2021-06-25 13:59:32,626]\u001b[0m Trial 531 finished with value: -0.005702199231413186 and parameters: {'kernel': 'rbf', 'C': 0.16159251612520603, 'gamma': 0.022858277598675415, 'epsilon': 0.002211909110474476}. Best is trial 156 with value: -0.0056736269798483355.\u001b[0m\n",
      "\u001b[32m[I 2021-06-25 13:59:33,075]\u001b[0m Trial 532 finished with value: -0.0057342969045476215 and parameters: {'kernel': 'rbf', 'C': 0.08852249638081174, 'gamma': 0.03792739452152035, 'epsilon': 0.0015344457265986562}. Best is trial 156 with value: -0.0056736269798483355.\u001b[0m\n",
      "\u001b[32m[I 2021-06-25 13:59:33,620]\u001b[0m Trial 533 finished with value: -0.005694652874606308 and parameters: {'kernel': 'rbf', 'C': 0.1440164504008498, 'gamma': 0.02046320009058785, 'epsilon': 0.0012825455235519862}. Best is trial 156 with value: -0.0056736269798483355.\u001b[0m\n",
      "\u001b[32m[I 2021-06-25 13:59:34,298]\u001b[0m Trial 534 finished with value: -0.005704876531034921 and parameters: {'kernel': 'rbf', 'C': 0.16618924454938042, 'gamma': 0.02600791104453373, 'epsilon': 0.0010881617869862759}. Best is trial 156 with value: -0.0056736269798483355.\u001b[0m\n",
      "\u001b[32m[I 2021-06-25 13:59:34,880]\u001b[0m Trial 535 finished with value: -0.005721717886022894 and parameters: {'kernel': 'rbf', 'C': 0.13039994139894356, 'gamma': 0.03226051786621228, 'epsilon': 0.0016544952129295722}. Best is trial 156 with value: -0.0056736269798483355.\u001b[0m\n",
      "\u001b[32m[I 2021-06-25 13:59:35,457]\u001b[0m Trial 536 finished with value: -0.005698263219087506 and parameters: {'kernel': 'rbf', 'C': 0.11082859686349614, 'gamma': 0.023965100802642154, 'epsilon': 0.0014087638288900908}. Best is trial 156 with value: -0.0056736269798483355.\u001b[0m\n",
      "\u001b[32m[I 2021-06-25 13:59:35,973]\u001b[0m Trial 537 finished with value: -0.005708291229090792 and parameters: {'kernel': 'rbf', 'C': 0.1535106331745014, 'gamma': 0.02995549123733307, 'epsilon': 0.0020096804179756816}. Best is trial 156 with value: -0.0056736269798483355.\u001b[0m\n",
      "\u001b[32m[I 2021-06-25 13:59:36,640]\u001b[0m Trial 538 finished with value: -0.005690928987714331 and parameters: {'kernel': 'rbf', 'C': 0.17949301521346292, 'gamma': 0.019406674679061205, 'epsilon': 0.0012298752379292248}. Best is trial 156 with value: -0.0056736269798483355.\u001b[0m\n",
      "\u001b[32m[I 2021-06-25 13:59:37,207]\u001b[0m Trial 539 finished with value: -0.0056941553283974934 and parameters: {'kernel': 'rbf', 'C': 0.13499362988420804, 'gamma': 0.022994878330432296, 'epsilon': 0.0015091545624859614}. Best is trial 156 with value: -0.0056736269798483355.\u001b[0m\n",
      "\u001b[32m[I 2021-06-25 13:59:37,646]\u001b[0m Trial 540 finished with value: -0.00569538687718477 and parameters: {'kernel': 'rbf', 'C': 0.16548266790615027, 'gamma': 0.02712686630609734, 'epsilon': 0.0017894468019697323}. Best is trial 156 with value: -0.0056736269798483355.\u001b[0m\n",
      "\u001b[32m[I 2021-06-25 13:59:38,251]\u001b[0m Trial 541 finished with value: -0.0057240104005269075 and parameters: {'kernel': 'rbf', 'C': 0.11758678855767624, 'gamma': 0.02058362688862925, 'epsilon': 0.0010998519599546529}. Best is trial 156 with value: -0.0056736269798483355.\u001b[0m\n",
      "\u001b[32m[I 2021-06-25 13:59:38,805]\u001b[0m Trial 542 finished with value: -0.005730750661093599 and parameters: {'kernel': 'rbf', 'C': 0.14440535312219305, 'gamma': 0.017195780717330002, 'epsilon': 0.0013436705244287465}. Best is trial 156 with value: -0.0056736269798483355.\u001b[0m\n",
      "\u001b[32m[I 2021-06-25 13:59:39,358]\u001b[0m Trial 543 finished with value: -0.005690729746729617 and parameters: {'kernel': 'rbf', 'C': 0.187892292859893, 'gamma': 0.025226108852964498, 'epsilon': 0.001568595887213619}. Best is trial 156 with value: -0.0056736269798483355.\u001b[0m\n",
      "\u001b[32m[I 2021-06-25 13:59:39,997]\u001b[0m Trial 544 finished with value: -0.005724540888874185 and parameters: {'kernel': 'rbf', 'C': 0.1463634134592091, 'gamma': 0.029559674194785522, 'epsilon': 0.0012120159457494066}. Best is trial 156 with value: -0.0056736269798483355.\u001b[0m\n",
      "\u001b[32m[I 2021-06-25 13:59:40,438]\u001b[0m Trial 545 finished with value: -0.005702671971952081 and parameters: {'kernel': 'rbf', 'C': 0.170255062481192, 'gamma': 0.021812125150082587, 'epsilon': 0.0018911421374241937}. Best is trial 156 with value: -0.0056736269798483355.\u001b[0m\n",
      "\u001b[32m[I 2021-06-25 13:59:41,057]\u001b[0m Trial 546 finished with value: -0.005747390753114555 and parameters: {'kernel': 'rbf', 'C': 0.1256649793329757, 'gamma': 0.03538892961732129, 'epsilon': 0.0014167536486754788}. Best is trial 156 with value: -0.0056736269798483355.\u001b[0m\n",
      "\u001b[32m[I 2021-06-25 13:59:41,648]\u001b[0m Trial 547 finished with value: -0.005736384168374751 and parameters: {'kernel': 'rbf', 'C': 0.104961538404407, 'gamma': 0.018673334355159648, 'epsilon': 0.0010827016458843529}. Best is trial 156 with value: -0.0056736269798483355.\u001b[0m\n",
      "\u001b[32m[I 2021-06-25 13:59:42,152]\u001b[0m Trial 548 finished with value: -0.0056925425151825694 and parameters: {'kernel': 'rbf', 'C': 0.18649296315174857, 'gamma': 0.02544298890177144, 'epsilon': 0.0016410267065135034}. Best is trial 156 with value: -0.0056736269798483355.\u001b[0m\n",
      "\u001b[32m[I 2021-06-25 13:59:42,631]\u001b[0m Trial 549 finished with value: -0.005736576171980311 and parameters: {'kernel': 'rbf', 'C': 0.07590447522282506, 'gamma': 0.02290093288769428, 'epsilon': 0.0012863314482813848}. Best is trial 156 with value: -0.0056736269798483355.\u001b[0m\n",
      "\u001b[32m[I 2021-06-25 13:59:43,157]\u001b[0m Trial 550 finished with value: -0.005714231909027243 and parameters: {'kernel': 'rbf', 'C': 0.15901032019630965, 'gamma': 0.02852358085963726, 'epsilon': 0.0014433738293898202}. Best is trial 156 with value: -0.0056736269798483355.\u001b[0m\n",
      "\u001b[32m[I 2021-06-25 13:59:43,533]\u001b[0m Trial 551 finished with value: -0.005731540728101056 and parameters: {'kernel': 'rbf', 'C': 0.13566487048691064, 'gamma': 0.019129190696384323, 'epsilon': 0.0020780414996217494}. Best is trial 156 with value: -0.0056736269798483355.\u001b[0m\n"
     ]
    },
    {
     "name": "stderr",
     "output_type": "stream",
     "text": [
      "\u001b[32m[I 2021-06-25 13:59:44,219]\u001b[0m Trial 552 finished with value: -0.005717077577884232 and parameters: {'kernel': 'rbf', 'C': 0.20302731430746163, 'gamma': 0.015905389421208067, 'epsilon': 0.001001870301738639}. Best is trial 156 with value: -0.0056736269798483355.\u001b[0m\n",
      "\u001b[32m[I 2021-06-25 13:59:44,688]\u001b[0m Trial 553 finished with value: -0.005696856701189017 and parameters: {'kernel': 'rbf', 'C': 0.15552597483452876, 'gamma': 0.021926329070935346, 'epsilon': 0.0016604257998053158}. Best is trial 156 with value: -0.0056736269798483355.\u001b[0m\n",
      "\u001b[32m[I 2021-06-25 13:59:44,991]\u001b[0m Trial 554 finished with value: -0.006438287135147526 and parameters: {'kernel': 'poly', 'C': 0.03014176203538101, 'gamma': 0.026097396238366, 'epsilon': 0.002376108817264578}. Best is trial 156 with value: -0.0056736269798483355.\u001b[0m\n",
      "\u001b[32m[I 2021-06-25 13:59:45,624]\u001b[0m Trial 555 finished with value: -0.005720886983825249 and parameters: {'kernel': 'rbf', 'C': 0.12682607498251602, 'gamma': 0.031014747995795792, 'epsilon': 0.0012140364491203977}. Best is trial 156 with value: -0.0056736269798483355.\u001b[0m\n",
      "\u001b[32m[I 2021-06-25 13:59:46,203]\u001b[0m Trial 556 finished with value: -0.005682564997751474 and parameters: {'kernel': 'rbf', 'C': 0.1755343074733104, 'gamma': 0.024239737689844654, 'epsilon': 0.0014141949085981164}. Best is trial 156 with value: -0.0056736269798483355.\u001b[0m\n",
      "\u001b[32m[I 2021-06-25 13:59:47,021]\u001b[0m Trial 557 finished with value: -0.005748367359986816 and parameters: {'kernel': 'rbf', 'C': 0.22948832557399476, 'gamma': 0.024818452809188925, 'epsilon': 0.0010030030888956722}. Best is trial 156 with value: -0.0056736269798483355.\u001b[0m\n",
      "\u001b[32m[I 2021-06-25 13:59:47,999]\u001b[0m Trial 558 finished with value: -0.00587529273310873 and parameters: {'kernel': 'rbf', 'C': 0.19359031847136615, 'gamma': 0.04358617407789478, 'epsilon': 0.0014225959281794981}. Best is trial 156 with value: -0.0056736269798483355.\u001b[0m\n",
      "\u001b[32m[I 2021-06-25 13:59:48,453]\u001b[0m Trial 559 finished with value: -0.005707412583815639 and parameters: {'kernel': 'rbf', 'C': 0.1720384507355872, 'gamma': 0.02092326265613758, 'epsilon': 0.0017748216225958997}. Best is trial 156 with value: -0.0056736269798483355.\u001b[0m\n",
      "\u001b[32m[I 2021-06-25 13:59:49,215]\u001b[0m Trial 560 finished with value: -0.005857687340821316 and parameters: {'kernel': 'rbf', 'C': 0.21452468388796556, 'gamma': 0.0350633823302146, 'epsilon': 0.0011397251031100796}. Best is trial 156 with value: -0.0056736269798483355.\u001b[0m\n",
      "\u001b[32m[I 2021-06-25 13:59:50,917]\u001b[0m Trial 561 finished with value: -0.006193209177616094 and parameters: {'kernel': 'rbf', 'C': 1.5625885754438797, 'gamma': 0.02853477545390393, 'epsilon': 0.001286425138537758}. Best is trial 156 with value: -0.0056736269798483355.\u001b[0m\n",
      "\u001b[32m[I 2021-06-25 13:59:51,576]\u001b[0m Trial 562 finished with value: -0.005685280729324864 and parameters: {'kernel': 'rbf', 'C': 0.17969127152822906, 'gamma': 0.024004010484320645, 'epsilon': 0.0015431332639459221}. Best is trial 156 with value: -0.0056736269798483355.\u001b[0m\n",
      "\u001b[32m[I 2021-06-25 13:59:52,118]\u001b[0m Trial 563 finished with value: -0.005725194130890354 and parameters: {'kernel': 'rbf', 'C': 0.2731254119549238, 'gamma': 0.01878986335998507, 'epsilon': 0.0019581959244649194}. Best is trial 156 with value: -0.0056736269798483355.\u001b[0m\n",
      "\u001b[32m[I 2021-06-25 13:59:52,735]\u001b[0m Trial 564 finished with value: -0.005707313870161302 and parameters: {'kernel': 'rbf', 'C': 0.1517353944717259, 'gamma': 0.027495910890908738, 'epsilon': 0.0013429329632455773}. Best is trial 156 with value: -0.0056736269798483355.\u001b[0m\n",
      "\u001b[32m[I 2021-06-25 13:59:53,334]\u001b[0m Trial 565 finished with value: -0.005702651088091224 and parameters: {'kernel': 'rbf', 'C': 0.19848589115676565, 'gamma': 0.021540009031749883, 'epsilon': 0.0017085510112526867}. Best is trial 156 with value: -0.0056736269798483355.\u001b[0m\n",
      "\u001b[32m[I 2021-06-25 13:59:54,198]\u001b[0m Trial 566 finished with value: -0.00578114021441777 and parameters: {'kernel': 'rbf', 'C': 0.17040246574019294, 'gamma': 0.03242019927663873, 'epsilon': 0.0011325456091891102}. Best is trial 156 with value: -0.0056736269798483355.\u001b[0m\n",
      "\u001b[32m[I 2021-06-25 13:59:54,781]\u001b[0m Trial 567 finished with value: -0.005680802835602285 and parameters: {'kernel': 'rbf', 'C': 0.14241368360193118, 'gamma': 0.024296856519907664, 'epsilon': 0.0014912034850936785}. Best is trial 156 with value: -0.0056736269798483355.\u001b[0m\n",
      "\u001b[32m[I 2021-06-25 13:59:54,876]\u001b[0m Trial 568 finished with value: -0.00856470973045661 and parameters: {'kernel': 'rbf', 'C': 0.228325519652159, 'gamma': 0.015419597218157588, 'epsilon': 0.01292163943253987}. Best is trial 156 with value: -0.0056736269798483355.\u001b[0m\n",
      "\u001b[32m[I 2021-06-25 13:59:54,916]\u001b[0m Trial 569 finished with value: -0.04522358590646345 and parameters: {'kernel': 'rbf', 'C': 0.1543087458834012, 'gamma': 0.017956017039718275, 'epsilon': 0.08717597983233942}. Best is trial 156 with value: -0.0056736269798483355.\u001b[0m\n",
      "\u001b[32m[I 2021-06-25 13:59:55,516]\u001b[0m Trial 570 finished with value: -0.005702657590081786 and parameters: {'kernel': 'rbf', 'C': 0.10890386720933844, 'gamma': 0.021293646920051226, 'epsilon': 0.0012631316696243772}. Best is trial 156 with value: -0.0056736269798483355.\u001b[0m\n",
      "\u001b[32m[I 2021-06-25 13:59:56,193]\u001b[0m Trial 571 finished with value: -0.0056844085362317215 and parameters: {'kernel': 'rbf', 'C': 0.18585200252437836, 'gamma': 0.023521737343777722, 'epsilon': 0.0014339733014578889}. Best is trial 156 with value: -0.0056736269798483355.\u001b[0m\n",
      "\u001b[32m[I 2021-06-25 13:59:56,918]\u001b[0m Trial 572 finished with value: -0.005707544299995134 and parameters: {'kernel': 'rbf', 'C': 0.1358772603524304, 'gamma': 0.029128077886805683, 'epsilon': 0.0010933823061368396}. Best is trial 156 with value: -0.0056736269798483355.\u001b[0m\n",
      "\u001b[32m[I 2021-06-25 13:59:59,353]\u001b[0m Trial 573 finished with value: -0.0063197896859313015 and parameters: {'kernel': 'rbf', 'C': 5.201095149195661, 'gamma': 0.019450276254770686, 'epsilon': 0.0018254028719579046}. Best is trial 156 with value: -0.0056736269798483355.\u001b[0m\n",
      "\u001b[32m[I 2021-06-25 13:59:59,958]\u001b[0m Trial 574 finished with value: -0.005700708164775766 and parameters: {'kernel': 'rbf', 'C': 0.16624487466193147, 'gamma': 0.026821523603603823, 'epsilon': 0.001268446437513048}. Best is trial 156 with value: -0.0056736269798483355.\u001b[0m\n",
      "\u001b[32m[I 2021-06-25 14:00:00,914]\u001b[0m Trial 575 finished with value: -0.005797713030235754 and parameters: {'kernel': 'rbf', 'C': 0.11465908105631076, 'gamma': 0.040411104074081106, 'epsilon': 0.0010050271816347137}. Best is trial 156 with value: -0.0056736269798483355.\u001b[0m\n",
      "\u001b[32m[I 2021-06-25 14:00:02,282]\u001b[0m Trial 576 finished with value: -0.005746686532257402 and parameters: {'kernel': 'rbf', 'C': 0.20258643582351432, 'gamma': 0.013523458875371711, 'epsilon': 0.0015636873261287727}. Best is trial 156 with value: -0.0056736269798483355.\u001b[0m\n",
      "\u001b[32m[I 2021-06-25 14:00:04,505]\u001b[0m Trial 577 finished with value: -0.006185273307315689 and parameters: {'kernel': 'rbf', 'C': 0.14037866606739452, 'gamma': 0.08470011685013971, 'epsilon': 0.001394345973698049}. Best is trial 156 with value: -0.0056736269798483355.\u001b[0m\n",
      "\u001b[32m[I 2021-06-25 14:00:05,497]\u001b[0m Trial 578 finished with value: -0.00568971229809661 and parameters: {'kernel': 'rbf', 'C': 0.16674857333910975, 'gamma': 0.022679282294345578, 'epsilon': 0.0016127515262856227}. Best is trial 156 with value: -0.0056736269798483355.\u001b[0m\n",
      "\u001b[32m[I 2021-06-25 14:00:05,878]\u001b[0m Trial 579 finished with value: -0.0057115729983353266 and parameters: {'kernel': 'rbf', 'C': 0.12588358603517086, 'gamma': 0.031289618095067674, 'epsilon': 0.002095729863593149}. Best is trial 156 with value: -0.0056736269798483355.\u001b[0m\n",
      "\u001b[32m[I 2021-06-25 14:00:06,589]\u001b[0m Trial 580 finished with value: -0.005723553529656169 and parameters: {'kernel': 'rbf', 'C': 0.15402452376239162, 'gamma': 0.017053775249659446, 'epsilon': 0.0012942400955253891}. Best is trial 156 with value: -0.0056736269798483355.\u001b[0m\n",
      "\u001b[32m[I 2021-06-25 14:00:07,548]\u001b[0m Trial 581 finished with value: -0.00570490214357405 and parameters: {'kernel': 'rbf', 'C': 0.18554402630896497, 'gamma': 0.020460697047142096, 'epsilon': 0.00101139900435312}. Best is trial 156 with value: -0.0056736269798483355.\u001b[0m\n",
      "\u001b[32m[I 2021-06-25 14:00:07,818]\u001b[0m Trial 582 finished with value: -0.005899639942269702 and parameters: {'kernel': 'rbf', 'C': 0.09233601424517275, 'gamma': 0.02517305415597769, 'epsilon': 0.004282616501036004}. Best is trial 156 with value: -0.0056736269798483355.\u001b[0m\n"
     ]
    },
    {
     "name": "stderr",
     "output_type": "stream",
     "text": [
      "\u001b[32m[I 2021-06-25 14:00:08,839]\u001b[0m Trial 583 finished with value: -0.0063094821187461335 and parameters: {'kernel': 'poly', 'C': 0.23502497302683545, 'gamma': 0.02411601257829348, 'epsilon': 0.0011875617590615607}. Best is trial 156 with value: -0.0056736269798483355.\u001b[0m\n",
      "\u001b[32m[I 2021-06-25 14:00:09,391]\u001b[0m Trial 584 finished with value: -0.005697723705596343 and parameters: {'kernel': 'rbf', 'C': 0.14456676059942794, 'gamma': 0.027697848323641642, 'epsilon': 0.0017945596439172995}. Best is trial 156 with value: -0.0056736269798483355.\u001b[0m\n",
      "\u001b[32m[I 2021-06-25 14:00:09,925]\u001b[0m Trial 585 finished with value: -0.005711655668117176 and parameters: {'kernel': 'rbf', 'C': 0.12114863479992741, 'gamma': 0.020403852297832453, 'epsilon': 0.0014897497645973267}. Best is trial 156 with value: -0.0056736269798483355.\u001b[0m\n",
      "\u001b[32m[I 2021-06-25 14:00:10,601]\u001b[0m Trial 586 finished with value: -0.005822816324594166 and parameters: {'kernel': 'rbf', 'C': 0.17269039857586732, 'gamma': 0.03575995880287137, 'epsilon': 0.0011287757738658046}. Best is trial 156 with value: -0.0056736269798483355.\u001b[0m\n",
      "\u001b[32m[I 2021-06-25 14:00:11,210]\u001b[0m Trial 587 finished with value: -0.005696296611482548 and parameters: {'kernel': 'rbf', 'C': 0.21242138893212223, 'gamma': 0.01752365262742049, 'epsilon': 0.0013756593860978722}. Best is trial 156 with value: -0.0056736269798483355.\u001b[0m\n",
      "\u001b[32m[I 2021-06-25 14:00:11,772]\u001b[0m Trial 588 finished with value: -0.005712893683105867 and parameters: {'kernel': 'rbf', 'C': 0.13706576236255535, 'gamma': 0.030717959828615034, 'epsilon': 0.0016738630176323201}. Best is trial 156 with value: -0.0056736269798483355.\u001b[0m\n",
      "\u001b[32m[I 2021-06-25 14:00:12,364]\u001b[0m Trial 589 finished with value: -0.0056894247786254985 and parameters: {'kernel': 'rbf', 'C': 0.1576591426652227, 'gamma': 0.022851105176407628, 'epsilon': 0.001476668067609416}. Best is trial 156 with value: -0.0056736269798483355.\u001b[0m\n",
      "\u001b[32m[I 2021-06-25 14:00:12,906]\u001b[0m Trial 590 finished with value: -0.005707064496212254 and parameters: {'kernel': 'rbf', 'C': 0.1865444429981844, 'gamma': 0.026554363459761362, 'epsilon': 0.0019603606947808604}. Best is trial 156 with value: -0.0056736269798483355.\u001b[0m\n",
      "\u001b[32m[I 2021-06-25 14:00:13,571]\u001b[0m Trial 591 finished with value: -0.0057221920952546254 and parameters: {'kernel': 'rbf', 'C': 0.10478207523337948, 'gamma': 0.021191544468674696, 'epsilon': 0.001238481975178856}. Best is trial 156 with value: -0.0056736269798483355.\u001b[0m\n",
      "\u001b[32m[I 2021-06-25 14:00:14,040]\u001b[0m Trial 592 finished with value: -0.005786326515982693 and parameters: {'kernel': 'rbf', 'C': 0.13100357598631399, 'gamma': 0.015496461288795324, 'epsilon': 0.002278052663041868}. Best is trial 156 with value: -0.0056736269798483355.\u001b[0m\n",
      "\u001b[32m[I 2021-06-25 14:00:15,893]\u001b[0m Trial 593 finished with value: -0.006128376580956531 and parameters: {'kernel': 'rbf', 'C': 2.170681471543087, 'gamma': 0.023228307471697372, 'epsilon': 0.0016533874949986422}. Best is trial 156 with value: -0.0056736269798483355.\u001b[0m\n",
      "\u001b[32m[I 2021-06-25 14:00:16,615]\u001b[0m Trial 594 finished with value: -0.005767001617185377 and parameters: {'kernel': 'rbf', 'C': 0.16113387291712866, 'gamma': 0.032416359035129565, 'epsilon': 0.001140031549551018}. Best is trial 156 with value: -0.0056736269798483355.\u001b[0m\n",
      "\u001b[32m[I 2021-06-25 14:00:17,305]\u001b[0m Trial 595 finished with value: -0.005692513391408252 and parameters: {'kernel': 'rbf', 'C': 0.20069126216462652, 'gamma': 0.019561473065389808, 'epsilon': 0.0013474402443822027}. Best is trial 156 with value: -0.0056736269798483355.\u001b[0m\n",
      "\u001b[32m[I 2021-06-25 14:00:17,831]\u001b[0m Trial 596 finished with value: -0.005797381570803987 and parameters: {'kernel': 'rbf', 'C': 0.25713347004274417, 'gamma': 0.02757506067541989, 'epsilon': 0.001837959103078317}. Best is trial 156 with value: -0.0056736269798483355.\u001b[0m\n",
      "\u001b[32m[I 2021-06-25 14:00:18,410]\u001b[0m Trial 597 finished with value: -0.005706862837799952 and parameters: {'kernel': 'rbf', 'C': 0.11422675016252763, 'gamma': 0.024583827194820284, 'epsilon': 0.0010169795308732053}. Best is trial 156 with value: -0.0056736269798483355.\u001b[0m\n",
      "\u001b[32m[I 2021-06-25 14:00:18,983]\u001b[0m Trial 598 finished with value: -0.005712676627151132 and parameters: {'kernel': 'rbf', 'C': 0.1467660641679773, 'gamma': 0.018204161267108235, 'epsilon': 0.0015291368322405596}. Best is trial 156 with value: -0.0056736269798483355.\u001b[0m\n",
      "\u001b[32m[I 2021-06-25 14:00:19,597]\u001b[0m Trial 599 finished with value: -0.005692159099474753 and parameters: {'kernel': 'rbf', 'C': 0.17594238102958903, 'gamma': 0.02132451145528465, 'epsilon': 0.001257917959816775}. Best is trial 156 with value: -0.0056736269798483355.\u001b[0m\n",
      "\u001b[32m[I 2021-06-25 14:00:19,666]\u001b[0m Trial 600 finished with value: -0.02846326875130978 and parameters: {'kernel': 'rbf', 'C': 0.13735207646390377, 'gamma': 0.02961007416754657, 'epsilon': 0.03400138883115099}. Best is trial 156 with value: -0.0056736269798483355.\u001b[0m\n",
      "\u001b[32m[I 2021-06-25 14:00:20,401]\u001b[0m Trial 601 finished with value: -0.005739925584246907 and parameters: {'kernel': 'rbf', 'C': 0.2100911763258414, 'gamma': 0.02552875890929969, 'epsilon': 0.001000006060695257}. Best is trial 156 with value: -0.0056736269798483355.\u001b[0m\n",
      "\u001b[32m[I 2021-06-25 14:00:20,904]\u001b[0m Trial 602 finished with value: -0.0056878430812623915 and parameters: {'kernel': 'rbf', 'C': 0.16310650348697547, 'gamma': 0.022781379339058938, 'epsilon': 0.0014109373937413515}. Best is trial 156 with value: -0.0056736269798483355.\u001b[0m\n",
      "\u001b[32m[I 2021-06-25 14:00:21,306]\u001b[0m Trial 603 finished with value: -0.0057311457816667 and parameters: {'kernel': 'rbf', 'C': 0.11920413711665928, 'gamma': 0.03608540554299858, 'epsilon': 0.0016521555307181465}. Best is trial 156 with value: -0.0056736269798483355.\u001b[0m\n",
      "\u001b[32m[I 2021-06-25 14:00:21,822]\u001b[0m Trial 604 finished with value: -0.005717241817615684 and parameters: {'kernel': 'rbf', 'C': 0.14848289691492753, 'gamma': 0.018268588644360057, 'epsilon': 0.001180083218603358}. Best is trial 156 with value: -0.0056736269798483355.\u001b[0m\n",
      "\u001b[32m[I 2021-06-25 14:00:22,387]\u001b[0m Trial 605 finished with value: -0.005719832316389233 and parameters: {'kernel': 'rbf', 'C': 0.17920964233012002, 'gamma': 0.027901436100611618, 'epsilon': 0.0014646507737067274}. Best is trial 156 with value: -0.0056736269798483355.\u001b[0m\n",
      "\u001b[32m[I 2021-06-25 14:00:22,747]\u001b[0m Trial 606 finished with value: -0.005722997483788339 and parameters: {'kernel': 'rbf', 'C': 0.12759721406476207, 'gamma': 0.020318778421786077, 'epsilon': 0.0019871637244070635}. Best is trial 156 with value: -0.0056736269798483355.\u001b[0m\n",
      "\u001b[32m[I 2021-06-25 14:00:23,360]\u001b[0m Trial 607 finished with value: -0.0057047498268237755 and parameters: {'kernel': 'rbf', 'C': 0.18819219276447424, 'gamma': 0.024725087000475696, 'epsilon': 0.0012648882330255598}. Best is trial 156 with value: -0.0056736269798483355.\u001b[0m\n",
      "\u001b[32m[I 2021-06-25 14:00:23,723]\u001b[0m Trial 608 finished with value: -0.005716351166168157 and parameters: {'kernel': 'rbf', 'C': 0.0848217743880021, 'gamma': 0.03147791009366546, 'epsilon': 0.0017458595196840848}. Best is trial 156 with value: -0.0056736269798483355.\u001b[0m\n",
      "\u001b[32m[I 2021-06-25 14:00:24,019]\u001b[0m Trial 609 finished with value: -0.005774173779947035 and parameters: {'kernel': 'rbf', 'C': 0.15469149702507576, 'gamma': 0.015466144687182947, 'epsilon': 0.0025653201711534853}. Best is trial 156 with value: -0.0056736269798483355.\u001b[0m\n",
      "\u001b[32m[I 2021-06-25 14:00:24,459]\u001b[0m Trial 610 finished with value: -0.005697027605256866 and parameters: {'kernel': 'rbf', 'C': 0.10455515593835975, 'gamma': 0.023119179673183318, 'epsilon': 0.0014114649296057048}. Best is trial 156 with value: -0.0056736269798483355.\u001b[0m\n",
      "\u001b[32m[I 2021-06-25 14:00:25,106]\u001b[0m Trial 611 finished with value: -0.005766259975711156 and parameters: {'kernel': 'rbf', 'C': 0.20837476229792795, 'gamma': 0.027409738479584823, 'epsilon': 0.0011242528343651487}. Best is trial 156 with value: -0.0056736269798483355.\u001b[0m\n",
      "\u001b[32m[I 2021-06-25 14:00:32,204]\u001b[0m Trial 612 finished with value: -0.006391448015650996 and parameters: {'kernel': 'poly', 'C': 7.416070133578275, 'gamma': 0.020279293071897648, 'epsilon': 0.001548788941081259}. Best is trial 156 with value: -0.0056736269798483355.\u001b[0m\n"
     ]
    },
    {
     "name": "stderr",
     "output_type": "stream",
     "text": [
      "\u001b[32m[I 2021-06-25 14:00:32,898]\u001b[0m Trial 613 finished with value: -0.005704783886847611 and parameters: {'kernel': 'rbf', 'C': 0.2379916678031527, 'gamma': 0.016999917844530393, 'epsilon': 0.0013240021091358578}. Best is trial 156 with value: -0.0056736269798483355.\u001b[0m\n",
      "\u001b[32m[I 2021-06-25 14:00:33,383]\u001b[0m Trial 614 finished with value: -0.005692820870065094 and parameters: {'kernel': 'rbf', 'C': 0.134878815852331, 'gamma': 0.023913824727566892, 'epsilon': 0.0018122482535801098}. Best is trial 156 with value: -0.0056736269798483355.\u001b[0m\n",
      "\u001b[32m[I 2021-06-25 14:00:33,965]\u001b[0m Trial 615 finished with value: -0.0057505058817009375 and parameters: {'kernel': 'rbf', 'C': 0.1678969807737456, 'gamma': 0.031783971307032935, 'epsilon': 0.0015809131919112443}. Best is trial 156 with value: -0.0056736269798483355.\u001b[0m\n",
      "\u001b[32m[I 2021-06-25 14:00:34,508]\u001b[0m Trial 616 finished with value: -0.005689733739474514 and parameters: {'kernel': 'rbf', 'C': 0.146819428480514, 'gamma': 0.021516042085857515, 'epsilon': 0.0011326796051144606}. Best is trial 156 with value: -0.0056736269798483355.\u001b[0m\n",
      "\u001b[32m[I 2021-06-25 14:00:34,823]\u001b[0m Trial 617 finished with value: -0.005709455999337749 and parameters: {'kernel': 'rbf', 'C': 0.12041603204650365, 'gamma': 0.02677174661030321, 'epsilon': 0.0022411874326324905}. Best is trial 156 with value: -0.0056736269798483355.\u001b[0m\n",
      "\u001b[32m[I 2021-06-25 14:00:35,392]\u001b[0m Trial 618 finished with value: -0.005836921878542098 and parameters: {'kernel': 'rbf', 'C': 0.18317089080289853, 'gamma': 0.03878801670019632, 'epsilon': 0.0013099334244745643}. Best is trial 156 with value: -0.0056736269798483355.\u001b[0m\n",
      "\u001b[32m[I 2021-06-25 14:00:36,216]\u001b[0m Trial 619 finished with value: -0.005711347295330675 and parameters: {'kernel': 'rbf', 'C': 0.16007778451620727, 'gamma': 0.018949649039994503, 'epsilon': 0.0010012627160458341}. Best is trial 156 with value: -0.0056736269798483355.\u001b[0m\n",
      "\u001b[32m[I 2021-06-25 14:00:36,722]\u001b[0m Trial 620 finished with value: -0.005688791130502621 and parameters: {'kernel': 'rbf', 'C': 0.1314703907895771, 'gamma': 0.02544772026586777, 'epsilon': 0.001556542422801292}. Best is trial 156 with value: -0.0056736269798483355.\u001b[0m\n",
      "\u001b[32m[I 2021-06-25 14:00:37,217]\u001b[0m Trial 621 finished with value: -0.005837173618658594 and parameters: {'kernel': 'rbf', 'C': 0.2888853130437968, 'gamma': 0.029562064016612287, 'epsilon': 0.0019423927503528374}. Best is trial 156 with value: -0.0056736269798483355.\u001b[0m\n",
      "\u001b[32m[I 2021-06-25 14:00:37,843]\u001b[0m Trial 622 finished with value: -0.005702349246210578 and parameters: {'kernel': 'rbf', 'C': 0.21592324575395316, 'gamma': 0.022124698331278957, 'epsilon': 0.0013720082030152087}. Best is trial 156 with value: -0.0056736269798483355.\u001b[0m\n",
      "\u001b[32m[I 2021-06-25 14:00:37,888]\u001b[0m Trial 623 finished with value: -0.04522358590646345 and parameters: {'kernel': 'rbf', 'C': 0.17393508845707542, 'gamma': 0.03387850508568821, 'epsilon': 0.3146764313597825}. Best is trial 156 with value: -0.0056736269798483355.\u001b[0m\n",
      "\u001b[32m[I 2021-06-25 14:00:38,386]\u001b[0m Trial 624 finished with value: -0.005767437087428236 and parameters: {'kernel': 'rbf', 'C': 0.09685534833647916, 'gamma': 0.013843898922376491, 'epsilon': 0.001008653425057622}. Best is trial 156 with value: -0.0056736269798483355.\u001b[0m\n",
      "\u001b[32m[I 2021-06-25 14:00:38,921]\u001b[0m Trial 625 finished with value: -0.005686682875236982 and parameters: {'kernel': 'rbf', 'C': 0.1426797539462092, 'gamma': 0.024546256333084406, 'epsilon': 0.0012005993231994552}. Best is trial 156 with value: -0.0056736269798483355.\u001b[0m\n",
      "\u001b[32m[I 2021-06-25 14:00:39,392]\u001b[0m Trial 626 finished with value: -0.00571938369626895 and parameters: {'kernel': 'rbf', 'C': 0.19396902598461233, 'gamma': 0.018432481102901507, 'epsilon': 0.0016975257411148104}. Best is trial 156 with value: -0.0056736269798483355.\u001b[0m\n",
      "\u001b[32m[I 2021-06-25 14:00:39,874]\u001b[0m Trial 627 finished with value: -0.00571232905590515 and parameters: {'kernel': 'rbf', 'C': 0.11585070971650285, 'gamma': 0.021426694105909878, 'epsilon': 0.0014211139072740002}. Best is trial 156 with value: -0.0056736269798483355.\u001b[0m\n",
      "\u001b[32m[I 2021-06-25 14:00:40,487]\u001b[0m Trial 628 finished with value: -0.0057275133946026536 and parameters: {'kernel': 'rbf', 'C': 0.15738912415795986, 'gamma': 0.02837193524712882, 'epsilon': 0.0010022006720825948}. Best is trial 156 with value: -0.0056736269798483355.\u001b[0m\n",
      "\u001b[32m[I 2021-06-25 14:00:40,999]\u001b[0m Trial 629 finished with value: -0.005736570177943869 and parameters: {'kernel': 'rbf', 'C': 0.1406544245779118, 'gamma': 0.016830298360433142, 'epsilon': 0.0012479113400863551}. Best is trial 156 with value: -0.0056736269798483355.\u001b[0m\n",
      "\u001b[32m[I 2021-06-25 14:00:41,481]\u001b[0m Trial 630 finished with value: -0.005685006653942319 and parameters: {'kernel': 'rbf', 'C': 0.16744199371341423, 'gamma': 0.025435498027636377, 'epsilon': 0.0016456544307942309}. Best is trial 156 with value: -0.0056736269798483355.\u001b[0m\n",
      "\u001b[32m[I 2021-06-25 14:00:42,034]\u001b[0m Trial 631 finished with value: -0.005716332257762149 and parameters: {'kernel': 'rbf', 'C': 0.24223461780424352, 'gamma': 0.02025952016376597, 'epsilon': 0.002003731170566163}. Best is trial 156 with value: -0.0056736269798483355.\u001b[0m\n",
      "\u001b[32m[I 2021-06-25 14:00:42,683]\u001b[0m Trial 632 finished with value: -0.005766319611073457 and parameters: {'kernel': 'rbf', 'C': 0.19642755299867093, 'gamma': 0.030250174199429197, 'epsilon': 0.0014688589234726772}. Best is trial 156 with value: -0.0056736269798483355.\u001b[0m\n",
      "\u001b[32m[I 2021-06-25 14:00:43,712]\u001b[0m Trial 633 finished with value: -0.005850210187368793 and parameters: {'kernel': 'rbf', 'C': 0.3594753981962511, 'gamma': 0.02317717255662283, 'epsilon': 0.0011546944721862159}. Best is trial 156 with value: -0.0056736269798483355.\u001b[0m\n",
      "\u001b[32m[I 2021-06-25 14:00:44,176]\u001b[0m Trial 634 finished with value: -0.005698664447713192 and parameters: {'kernel': 'rbf', 'C': 0.12610854700284754, 'gamma': 0.027190083364967577, 'epsilon': 0.0017666438804834147}. Best is trial 156 with value: -0.0056736269798483355.\u001b[0m\n",
      "\u001b[32m[I 2021-06-25 14:00:44,736]\u001b[0m Trial 635 finished with value: -0.005698599498019073 and parameters: {'kernel': 'rbf', 'C': 0.15124602090504063, 'gamma': 0.019421438426509757, 'epsilon': 0.0013617466829953405}. Best is trial 156 with value: -0.0056736269798483355.\u001b[0m\n",
      "\u001b[32m[I 2021-06-25 14:00:45,418]\u001b[0m Trial 636 finished with value: -0.0056847106654403234 and parameters: {'kernel': 'rbf', 'C': 0.1779316650575263, 'gamma': 0.02271017865568253, 'epsilon': 0.0015349060550109974}. Best is trial 156 with value: -0.0056736269798483355.\u001b[0m\n",
      "\u001b[32m[I 2021-06-25 14:00:46,120]\u001b[0m Trial 637 finished with value: -0.005736667989792311 and parameters: {'kernel': 'rbf', 'C': 0.11393256531255438, 'gamma': 0.034719604668115994, 'epsilon': 0.0011584106310008418}. Best is trial 156 with value: -0.0056736269798483355.\u001b[0m\n",
      "\u001b[32m[I 2021-06-25 14:00:46,811]\u001b[0m Trial 638 finished with value: -0.005689688571248355 and parameters: {'kernel': 'rbf', 'C': 0.13335795541937495, 'gamma': 0.025763299089652886, 'epsilon': 0.0013169311029068128}. Best is trial 156 with value: -0.0056736269798483355.\u001b[0m\n",
      "\u001b[32m[I 2021-06-25 14:00:47,434]\u001b[0m Trial 639 finished with value: -0.006326606080265523 and parameters: {'kernel': 'poly', 'C': 0.21037257169442225, 'gamma': 0.01689628961894376, 'epsilon': 0.0015654828123681038}. Best is trial 156 with value: -0.0056736269798483355.\u001b[0m\n",
      "\u001b[32m[I 2021-06-25 14:00:47,872]\u001b[0m Trial 640 finished with value: -0.0057042371069142795 and parameters: {'kernel': 'rbf', 'C': 0.15824067454615237, 'gamma': 0.020839113059372284, 'epsilon': 0.0018360668513579732}. Best is trial 156 with value: -0.0056736269798483355.\u001b[0m\n",
      "\u001b[32m[I 2021-06-25 14:00:48,492]\u001b[0m Trial 641 finished with value: -0.005732406285408949 and parameters: {'kernel': 'rbf', 'C': 0.1819635744679695, 'gamma': 0.028009627874577402, 'epsilon': 0.0011279006762594328}. Best is trial 156 with value: -0.0056736269798483355.\u001b[0m\n",
      "\u001b[32m[I 2021-06-25 14:00:49,150]\u001b[0m Trial 642 finished with value: -0.005690373108246602 and parameters: {'kernel': 'rbf', 'C': 0.14568349477783174, 'gamma': 0.02282840144611784, 'epsilon': 0.0013225347813228697}. Best is trial 156 with value: -0.0056736269798483355.\u001b[0m\n"
     ]
    },
    {
     "name": "stderr",
     "output_type": "stream",
     "text": [
      "\u001b[32m[I 2021-06-25 14:00:49,887]\u001b[0m Trial 643 finished with value: -0.005733399540476361 and parameters: {'kernel': 'rbf', 'C': 0.1055971932312086, 'gamma': 0.03242036313385022, 'epsilon': 0.0010038548374732244}. Best is trial 156 with value: -0.0056736269798483355.\u001b[0m\n",
      "\u001b[32m[I 2021-06-25 14:00:49,922]\u001b[0m Trial 644 finished with value: -0.04522358590646345 and parameters: {'kernel': 'rbf', 'C': 0.12630068383249984, 'gamma': 0.03999259250526477, 'epsilon': 0.19339146616505465}. Best is trial 156 with value: -0.0056736269798483355.\u001b[0m\n",
      "\u001b[32m[I 2021-06-25 14:00:50,309]\u001b[0m Trial 645 finished with value: -0.005802224029376948 and parameters: {'kernel': 'rbf', 'C': 0.1641831753401199, 'gamma': 0.018557493628488984, 'epsilon': 0.0031840532608251194}. Best is trial 156 with value: -0.0056736269798483355.\u001b[0m\n",
      "\u001b[32m[I 2021-06-25 14:00:51,003]\u001b[0m Trial 646 finished with value: -0.0057176059446980045 and parameters: {'kernel': 'rbf', 'C': 0.2283135134486298, 'gamma': 0.024782949270218787, 'epsilon': 0.001694724229316908}. Best is trial 156 with value: -0.0056736269798483355.\u001b[0m\n",
      "\u001b[32m[I 2021-06-25 14:00:51,479]\u001b[0m Trial 647 finished with value: -0.005763693523686463 and parameters: {'kernel': 'rbf', 'C': 0.19314426881949698, 'gamma': 0.015142454367431212, 'epsilon': 0.0021545164859416988}. Best is trial 156 with value: -0.0056736269798483355.\u001b[0m\n",
      "\u001b[32m[I 2021-06-25 14:00:52,072]\u001b[0m Trial 648 finished with value: -0.005726900229803269 and parameters: {'kernel': 'rbf', 'C': 0.14224100013404448, 'gamma': 0.030127093648779142, 'epsilon': 0.0014346606548455438}. Best is trial 156 with value: -0.0056736269798483355.\u001b[0m\n",
      "\u001b[32m[I 2021-06-25 14:00:52,808]\u001b[0m Trial 649 finished with value: -0.005691576969464831 and parameters: {'kernel': 'rbf', 'C': 0.16517823437734155, 'gamma': 0.021858889630034826, 'epsilon': 0.0012330940281885289}. Best is trial 156 with value: -0.0056736269798483355.\u001b[0m\n",
      "\u001b[32m[I 2021-06-25 14:00:53,312]\u001b[0m Trial 650 finished with value: -0.00568041362100656 and parameters: {'kernel': 'rbf', 'C': 0.12315107709465598, 'gamma': 0.0253835090986819, 'epsilon': 0.0014954301746557487}. Best is trial 156 with value: -0.0056736269798483355.\u001b[0m\n",
      "\u001b[32m[I 2021-06-25 14:00:53,719]\u001b[0m Trial 651 finished with value: -0.005701992264468359 and parameters: {'kernel': 'rbf', 'C': 0.10790248074113783, 'gamma': 0.027580299097784033, 'epsilon': 0.0018742869240513192}. Best is trial 156 with value: -0.0056736269798483355.\u001b[0m\n",
      "\u001b[32m[I 2021-06-25 14:00:54,240]\u001b[0m Trial 652 finished with value: -0.005731529516994553 and parameters: {'kernel': 'rbf', 'C': 0.09161952549806973, 'gamma': 0.0362294455318164, 'epsilon': 0.0015676194263960544}. Best is trial 156 with value: -0.0056736269798483355.\u001b[0m\n",
      "\u001b[32m[I 2021-06-25 14:00:54,862]\u001b[0m Trial 653 finished with value: -0.005717137704481783 and parameters: {'kernel': 'rbf', 'C': 0.08202652886837948, 'gamma': 0.024618333727026986, 'epsilon': 0.0011274561303460764}. Best is trial 156 with value: -0.0056736269798483355.\u001b[0m\n",
      "\u001b[32m[I 2021-06-25 14:00:55,484]\u001b[0m Trial 654 finished with value: -0.0057059175498666405 and parameters: {'kernel': 'rbf', 'C': 0.11887948630495301, 'gamma': 0.031220588483243845, 'epsilon': 0.001351491469816055}. Best is trial 156 with value: -0.0056736269798483355.\u001b[0m\n",
      "\u001b[32m[I 2021-06-25 14:00:55,810]\u001b[0m Trial 655 finished with value: -0.005744891464487934 and parameters: {'kernel': 'rbf', 'C': 0.09710989139392011, 'gamma': 0.02015264186368864, 'epsilon': 0.0022637928673235573}. Best is trial 156 with value: -0.0056736269798483355.\u001b[0m\n",
      "\u001b[32m[I 2021-06-25 14:00:56,259]\u001b[0m Trial 656 finished with value: -0.006374500758087968 and parameters: {'kernel': 'rbf', 'C': 0.12658825218411224, 'gamma': 0.11779273408170118, 'epsilon': 0.0017099040130146466}. Best is trial 156 with value: -0.0056736269798483355.\u001b[0m\n",
      "\u001b[32m[I 2021-06-25 14:00:56,796]\u001b[0m Trial 657 finished with value: -0.0056895692546805356 and parameters: {'kernel': 'rbf', 'C': 0.113004537126355, 'gamma': 0.026515792752781275, 'epsilon': 0.0014725684512389451}. Best is trial 156 with value: -0.0056736269798483355.\u001b[0m\n",
      "\u001b[32m[I 2021-06-25 14:00:57,404]\u001b[0m Trial 658 finished with value: -0.005738985582458366 and parameters: {'kernel': 'rbf', 'C': 0.07008049095279306, 'gamma': 0.021747990963973278, 'epsilon': 0.0012369881326597617}. Best is trial 156 with value: -0.0056736269798483355.\u001b[0m\n",
      "\u001b[32m[I 2021-06-25 14:00:58,064]\u001b[0m Trial 659 finished with value: -0.005700191914686845 and parameters: {'kernel': 'rbf', 'C': 0.1331298938819251, 'gamma': 0.028882447498056366, 'epsilon': 0.0015379618623096718}. Best is trial 156 with value: -0.0056736269798483355.\u001b[0m\n",
      "\u001b[32m[I 2021-06-25 14:00:58,458]\u001b[0m Trial 660 finished with value: -0.005731081425243311 and parameters: {'kernel': 'rbf', 'C': 0.14242815873518394, 'gamma': 0.017888858399078826, 'epsilon': 0.0019196976796815222}. Best is trial 156 with value: -0.0056736269798483355.\u001b[0m\n",
      "\u001b[32m[I 2021-06-25 14:00:59,106]\u001b[0m Trial 661 finished with value: -0.0057083669177038525 and parameters: {'kernel': 'rbf', 'C': 0.10446609541267733, 'gamma': 0.02521156338861438, 'epsilon': 0.0010034169686470931}. Best is trial 156 with value: -0.0056736269798483355.\u001b[0m\n",
      "\u001b[32m[I 2021-06-25 14:00:59,795]\u001b[0m Trial 662 finished with value: -0.005689211465147281 and parameters: {'kernel': 'rbf', 'C': 0.12140637926598347, 'gamma': 0.023405168719036924, 'epsilon': 0.001291470435043093}. Best is trial 156 with value: -0.0056736269798483355.\u001b[0m\n",
      "\u001b[32m[I 2021-06-25 14:01:00,539]\u001b[0m Trial 663 finished with value: -0.00576893365711486 and parameters: {'kernel': 'rbf', 'C': 0.15036481206953398, 'gamma': 0.03347037626543109, 'epsilon': 0.0011219519706374187}. Best is trial 156 with value: -0.0056736269798483355.\u001b[0m\n",
      "\u001b[32m[I 2021-06-25 14:01:01,140]\u001b[0m Trial 664 finished with value: -0.0057164344883457036 and parameters: {'kernel': 'rbf', 'C': 0.13694319889509532, 'gamma': 0.01970837489295639, 'epsilon': 0.0016550318927157364}. Best is trial 156 with value: -0.0056736269798483355.\u001b[0m\n",
      "\u001b[32m[I 2021-06-25 14:01:01,777]\u001b[0m Trial 665 finished with value: -0.005730614383715763 and parameters: {'kernel': 'rbf', 'C': 0.17756468346155313, 'gamma': 0.028747950664169315, 'epsilon': 0.0013990455977385208}. Best is trial 156 with value: -0.0056736269798483355.\u001b[0m\n",
      "\u001b[32m[I 2021-06-25 14:01:02,470]\u001b[0m Trial 666 finished with value: -0.006320763390442886 and parameters: {'kernel': 'poly', 'C': 0.15287206296638, 'gamma': 0.023119318156783975, 'epsilon': 0.0018037886963465832}. Best is trial 156 with value: -0.0056736269798483355.\u001b[0m\n",
      "\u001b[32m[I 2021-06-25 14:01:03,049]\u001b[0m Trial 667 finished with value: -0.005739380644018413 and parameters: {'kernel': 'rbf', 'C': 0.11847273010899176, 'gamma': 0.016807227992813766, 'epsilon': 0.001306226654634418}. Best is trial 156 with value: -0.0056736269798483355.\u001b[0m\n",
      "\u001b[32m[I 2021-06-25 14:01:03,085]\u001b[0m Trial 668 finished with value: -0.04522358590646344 and parameters: {'kernel': 'rbf', 'C': 0.1906712751824599, 'gamma': 0.02706438743065602, 'epsilon': 0.5491351446729454}. Best is trial 156 with value: -0.0056736269798483355.\u001b[0m\n",
      "\u001b[32m[I 2021-06-25 14:01:03,541]\u001b[0m Trial 669 finished with value: -0.005742628280993453 and parameters: {'kernel': 'rbf', 'C': 0.09764592565235337, 'gamma': 0.02019390456508547, 'epsilon': 0.002050717983936244}. Best is trial 156 with value: -0.0056736269798483355.\u001b[0m\n",
      "\u001b[32m[I 2021-06-25 14:01:04,415]\u001b[0m Trial 670 finished with value: -0.005872964811457469 and parameters: {'kernel': 'rbf', 'C': 0.16288581768928614, 'gamma': 0.043588984173068564, 'epsilon': 0.001007780773602678}. Best is trial 156 with value: -0.0056736269798483355.\u001b[0m\n",
      "\u001b[32m[I 2021-06-25 14:01:06,544]\u001b[0m Trial 671 finished with value: -0.006404813569393465 and parameters: {'kernel': 'rbf', 'C': 3.407599625523331, 'gamma': 0.031637082504237315, 'epsilon': 0.0015036863842841286}. Best is trial 156 with value: -0.0056736269798483355.\u001b[0m\n",
      "\u001b[32m[I 2021-06-25 14:01:07,061]\u001b[0m Trial 672 finished with value: -0.005766402490383124 and parameters: {'kernel': 'rbf', 'C': 0.26398330732448594, 'gamma': 0.02459796145542907, 'epsilon': 0.0024834547299591165}. Best is trial 156 with value: -0.0056736269798483355.\u001b[0m\n",
      "\u001b[32m[I 2021-06-25 14:01:07,589]\u001b[0m Trial 673 finished with value: -0.005704410331617897 and parameters: {'kernel': 'rbf', 'C': 0.1333748486614963, 'gamma': 0.022599186751964314, 'epsilon': 0.001220681439296227}. Best is trial 156 with value: -0.0056736269798483355.\u001b[0m\n"
     ]
    },
    {
     "name": "stderr",
     "output_type": "stream",
     "text": [
      "\u001b[32m[I 2021-06-25 14:01:08,076]\u001b[0m Trial 674 finished with value: -0.005753381136841502 and parameters: {'kernel': 'rbf', 'C': 0.21874927299217095, 'gamma': 0.013180127595896492, 'epsilon': 0.0016998501290005036}. Best is trial 156 with value: -0.0056736269798483355.\u001b[0m\n",
      "\u001b[32m[I 2021-06-25 14:01:08,771]\u001b[0m Trial 675 finished with value: -0.005708544171285613 and parameters: {'kernel': 'rbf', 'C': 0.15140266935577087, 'gamma': 0.026872481139944615, 'epsilon': 0.0011185654316821245}. Best is trial 156 with value: -0.0056736269798483355.\u001b[0m\n",
      "\u001b[32m[I 2021-06-25 14:01:09,373]\u001b[0m Trial 676 finished with value: -0.00569724802428283 and parameters: {'kernel': 'rbf', 'C': 0.17675904771160844, 'gamma': 0.018989056003367377, 'epsilon': 0.0013910127112895026}. Best is trial 156 with value: -0.0056736269798483355.\u001b[0m\n",
      "\u001b[32m[I 2021-06-25 14:01:09,902]\u001b[0m Trial 677 finished with value: -0.0057070791658801285 and parameters: {'kernel': 'rbf', 'C': 0.12735962857499128, 'gamma': 0.021261901681710032, 'epsilon': 0.0015560027491108494}. Best is trial 156 with value: -0.0056736269798483355.\u001b[0m\n",
      "\u001b[32m[I 2021-06-25 14:01:10,560]\u001b[0m Trial 678 finished with value: -0.005812711140769228 and parameters: {'kernel': 'rbf', 'C': 0.19829995519245225, 'gamma': 0.03155253207301559, 'epsilon': 0.0012266068914378182}. Best is trial 156 with value: -0.0056736269798483355.\u001b[0m\n",
      "\u001b[32m[I 2021-06-25 14:01:11,282]\u001b[0m Trial 679 finished with value: -0.005821480207966378 and parameters: {'kernel': 'rbf', 'C': 0.14949790309733865, 'gamma': 0.03737032721559104, 'epsilon': 0.0010089594781435944}. Best is trial 156 with value: -0.0056736269798483355.\u001b[0m\n",
      "\u001b[32m[I 2021-06-25 14:01:11,626]\u001b[0m Trial 680 finished with value: -0.006035444958577048 and parameters: {'kernel': 'rbf', 'C': 0.022392360000315838, 'gamma': 0.025615650528310083, 'epsilon': 0.0014432504257885217}. Best is trial 156 with value: -0.0056736269798483355.\u001b[0m\n",
      "\u001b[32m[I 2021-06-25 14:01:12,001]\u001b[0m Trial 681 finished with value: -0.0057644074414087655 and parameters: {'kernel': 'rbf', 'C': 0.10739444726085488, 'gamma': 0.018030668964578448, 'epsilon': 0.002047294418793963}. Best is trial 156 with value: -0.0056736269798483355.\u001b[0m\n",
      "\u001b[32m[I 2021-06-25 14:01:12,079]\u001b[0m Trial 682 finished with value: -0.012256559172113152 and parameters: {'kernel': 'rbf', 'C': 0.16880317461944855, 'gamma': 0.015171845147236471, 'epsilon': 0.01872712035447772}. Best is trial 156 with value: -0.0056736269798483355.\u001b[0m\n",
      "\u001b[32m[I 2021-06-25 14:01:12,467]\u001b[0m Trial 683 finished with value: -0.0058325864164346965 and parameters: {'kernel': 'rbf', 'C': 0.13236329733158064, 'gamma': 0.009439717272055805, 'epsilon': 0.0017382573394246258}. Best is trial 156 with value: -0.0056736269798483355.\u001b[0m\n",
      "\u001b[32m[I 2021-06-25 14:01:13,077]\u001b[0m Trial 684 finished with value: -0.005696800211055536 and parameters: {'kernel': 'rbf', 'C': 0.19136040424966944, 'gamma': 0.0224970866185259, 'epsilon': 0.001319291040247547}. Best is trial 156 with value: -0.0056736269798483355.\u001b[0m\n",
      "\u001b[32m[I 2021-06-25 14:01:13,671]\u001b[0m Trial 685 finished with value: -0.005710994343560251 and parameters: {'kernel': 'rbf', 'C': 0.11601019370552786, 'gamma': 0.03001603637950582, 'epsilon': 0.001144391271048303}. Best is trial 156 with value: -0.0056736269798483355.\u001b[0m\n",
      "\u001b[32m[I 2021-06-25 14:01:14,195]\u001b[0m Trial 686 finished with value: -0.00568661348183646 and parameters: {'kernel': 'rbf', 'C': 0.14678735129752007, 'gamma': 0.025300011918988688, 'epsilon': 0.0015585028365985713}. Best is trial 156 with value: -0.0056736269798483355.\u001b[0m\n",
      "\u001b[32m[I 2021-06-25 14:01:14,731]\u001b[0m Trial 687 finished with value: -0.005690259817816945 and parameters: {'kernel': 'rbf', 'C': 0.16788289701291878, 'gamma': 0.022205909002782406, 'epsilon': 0.0014139720834987623}. Best is trial 156 with value: -0.0056736269798483355.\u001b[0m\n",
      "\u001b[32m[I 2021-06-25 14:01:15,203]\u001b[0m Trial 688 finished with value: -0.0057117621425980016 and parameters: {'kernel': 'rbf', 'C': 0.22106106167917627, 'gamma': 0.019353282781164223, 'epsilon': 0.0018620015377632168}. Best is trial 156 with value: -0.0056736269798483355.\u001b[0m\n",
      "\u001b[32m[I 2021-06-25 14:01:15,786]\u001b[0m Trial 689 finished with value: -0.005700391796513076 and parameters: {'kernel': 'rbf', 'C': 0.13719513649339488, 'gamma': 0.02822531916473603, 'epsilon': 0.0012299845407913316}. Best is trial 156 with value: -0.0056736269798483355.\u001b[0m\n",
      "\u001b[32m[I 2021-06-25 14:01:16,308]\u001b[0m Trial 690 finished with value: -0.00567989700907066 and parameters: {'kernel': 'rbf', 'C': 0.16261094275611615, 'gamma': 0.02389565186514574, 'epsilon': 0.001646509686665281}. Best is trial 156 with value: -0.0056736269798483355.\u001b[0m\n",
      "\u001b[32m[I 2021-06-25 14:01:16,722]\u001b[0m Trial 691 finished with value: -0.00574726563007141 and parameters: {'kernel': 'rbf', 'C': 0.24127496965759562, 'gamma': 0.01646120375100432, 'epsilon': 0.0024158482285085436}. Best is trial 156 with value: -0.0056736269798483355.\u001b[0m\n",
      "\u001b[32m[I 2021-06-25 14:01:17,243]\u001b[0m Trial 692 finished with value: -0.005752043164065964 and parameters: {'kernel': 'rbf', 'C': 0.3198528171777993, 'gamma': 0.0207629005875051, 'epsilon': 0.002056880414639646}. Best is trial 156 with value: -0.0056736269798483355.\u001b[0m\n",
      "\u001b[32m[I 2021-06-25 14:01:17,782]\u001b[0m Trial 693 finished with value: -0.005690969492659338 and parameters: {'kernel': 'rbf', 'C': 0.20141308659874266, 'gamma': 0.02383354014377744, 'epsilon': 0.0017859940681900634}. Best is trial 156 with value: -0.0056736269798483355.\u001b[0m\n",
      "\u001b[32m[I 2021-06-25 14:01:18,177]\u001b[0m Trial 694 finished with value: -0.005835525358945583 and parameters: {'kernel': 'rbf', 'C': 0.18123168686246535, 'gamma': 0.034525275898945794, 'epsilon': 0.0027963459083632986}. Best is trial 156 with value: -0.0056736269798483355.\u001b[0m\n",
      "\u001b[32m[I 2021-06-25 14:01:19,767]\u001b[0m Trial 695 finished with value: -0.0063566382140720174 and parameters: {'kernel': 'poly', 'C': 1.1770012017898415, 'gamma': 0.01874156359566464, 'epsilon': 0.001589843024319353}. Best is trial 156 with value: -0.0056736269798483355.\u001b[0m\n",
      "\u001b[32m[I 2021-06-25 14:01:20,188]\u001b[0m Trial 696 finished with value: -0.005711638804851374 and parameters: {'kernel': 'rbf', 'C': 0.16207591136231894, 'gamma': 0.027231837813982987, 'epsilon': 0.0021902548006186642}. Best is trial 156 with value: -0.0056736269798483355.\u001b[0m\n",
      "\u001b[32m[I 2021-06-25 14:01:20,658]\u001b[0m Trial 697 finished with value: -0.005694794685518439 and parameters: {'kernel': 'rbf', 'C': 0.16846938756154556, 'gamma': 0.023061782527333086, 'epsilon': 0.0018924527089130292}. Best is trial 156 with value: -0.0056736269798483355.\u001b[0m\n",
      "\u001b[32m[I 2021-06-25 14:01:21,254]\u001b[0m Trial 698 finished with value: -0.005715331671404741 and parameters: {'kernel': 'rbf', 'C': 0.2193489792566281, 'gamma': 0.020610764324159075, 'epsilon': 0.0016891988578869143}. Best is trial 156 with value: -0.0056736269798483355.\u001b[0m\n",
      "\u001b[32m[I 2021-06-25 14:01:21,857]\u001b[0m Trial 699 finished with value: -0.005719566777579306 and parameters: {'kernel': 'rbf', 'C': 0.14765708795042384, 'gamma': 0.030460004782039096, 'epsilon': 0.0015105385620020838}. Best is trial 156 with value: -0.0056736269798483355.\u001b[0m\n",
      "\u001b[32m[I 2021-06-25 14:01:22,366]\u001b[0m Trial 700 finished with value: -0.00568022917265391 and parameters: {'kernel': 'rbf', 'C': 0.12174489486275648, 'gamma': 0.025471972631093992, 'epsilon': 0.0016448970836685432}. Best is trial 156 with value: -0.0056736269798483355.\u001b[0m\n",
      "\u001b[32m[I 2021-06-25 14:01:22,918]\u001b[0m Trial 701 finished with value: -0.005697691874687427 and parameters: {'kernel': 'rbf', 'C': 0.09946122361701971, 'gamma': 0.025830803143787818, 'epsilon': 0.0014431786682552164}. Best is trial 156 with value: -0.0056736269798483355.\u001b[0m\n",
      "\u001b[32m[I 2021-06-25 14:01:23,327]\u001b[0m Trial 702 finished with value: -0.0057491582117944985 and parameters: {'kernel': 'rbf', 'C': 0.07654841045356786, 'gamma': 0.017080492185184374, 'epsilon': 0.0017659553950099675}. Best is trial 156 with value: -0.0056736269798483355.\u001b[0m\n",
      "\u001b[32m[I 2021-06-25 14:01:23,702]\u001b[0m Trial 703 finished with value: -0.005732980353535589 and parameters: {'kernel': 'rbf', 'C': 0.09076600762657623, 'gamma': 0.021572381097201918, 'epsilon': 0.002104250182176662}. Best is trial 156 with value: -0.0056736269798483355.\u001b[0m\n"
     ]
    },
    {
     "name": "stderr",
     "output_type": "stream",
     "text": [
      "\u001b[32m[I 2021-06-25 14:01:24,208]\u001b[0m Trial 704 finished with value: -0.005697946638016174 and parameters: {'kernel': 'rbf', 'C': 0.11980374504938132, 'gamma': 0.028423590785094988, 'epsilon': 0.0015715460789918914}. Best is trial 156 with value: -0.0056736269798483355.\u001b[0m\n",
      "\u001b[32m[I 2021-06-25 14:01:24,711]\u001b[0m Trial 705 finished with value: -0.005734560048406993 and parameters: {'kernel': 'rbf', 'C': 0.1104807545253217, 'gamma': 0.014692221770662123, 'epsilon': 0.0013596564165923582}. Best is trial 156 with value: -0.0056736269798483355.\u001b[0m\n",
      "\u001b[32m[I 2021-06-25 14:01:25,143]\u001b[0m Trial 706 finished with value: -0.00569246300857584 and parameters: {'kernel': 'rbf', 'C': 0.12531025194825474, 'gamma': 0.024167099780241657, 'epsilon': 0.001662035408399209}. Best is trial 156 with value: -0.0056736269798483355.\u001b[0m\n",
      "\u001b[32m[I 2021-06-25 14:01:25,672]\u001b[0m Trial 707 finished with value: -0.005755725972848701 and parameters: {'kernel': 'rbf', 'C': 0.1355135186485481, 'gamma': 0.035467082169932614, 'epsilon': 0.0013592048744327124}. Best is trial 156 with value: -0.0056736269798483355.\u001b[0m\n",
      "\u001b[32m[I 2021-06-25 14:01:26,220]\u001b[0m Trial 708 finished with value: -0.0057172812160311915 and parameters: {'kernel': 'rbf', 'C': 0.1950063282562328, 'gamma': 0.019035991100969787, 'epsilon': 0.0019767646998794628}. Best is trial 156 with value: -0.0056736269798483355.\u001b[0m\n",
      "\u001b[32m[I 2021-06-25 14:01:26,832]\u001b[0m Trial 709 finished with value: -0.005708309743466079 and parameters: {'kernel': 'rbf', 'C': 0.1022529728627788, 'gamma': 0.02490730383955515, 'epsilon': 0.0010961737974649354}. Best is trial 156 with value: -0.0056736269798483355.\u001b[0m\n",
      "\u001b[32m[I 2021-06-25 14:01:27,463]\u001b[0m Trial 710 finished with value: -0.005736906379588076 and parameters: {'kernel': 'rbf', 'C': 0.15997852618200412, 'gamma': 0.030370521603152806, 'epsilon': 0.0012649764261518125}. Best is trial 156 with value: -0.0056736269798483355.\u001b[0m\n",
      "\u001b[32m[I 2021-06-25 14:01:27,942]\u001b[0m Trial 711 finished with value: -0.005704838856320185 and parameters: {'kernel': 'rbf', 'C': 0.12095459419448369, 'gamma': 0.02123619043755274, 'epsilon': 0.0015025548185944055}. Best is trial 156 with value: -0.0056736269798483355.\u001b[0m\n",
      "\u001b[32m[I 2021-06-25 14:01:28,480]\u001b[0m Trial 712 finished with value: -0.005698245533855874 and parameters: {'kernel': 'rbf', 'C': 0.18303522899174468, 'gamma': 0.026920186208084756, 'epsilon': 0.001817238067751415}. Best is trial 156 with value: -0.0056736269798483355.\u001b[0m\n",
      "\u001b[32m[I 2021-06-25 14:01:29,038]\u001b[0m Trial 713 finished with value: -0.00573012261397948 and parameters: {'kernel': 'rbf', 'C': 0.2577827397687198, 'gamma': 0.02315087898554537, 'epsilon': 0.0015475139896317363}. Best is trial 156 with value: -0.0056736269798483355.\u001b[0m\n",
      "\u001b[32m[I 2021-06-25 14:01:29,560]\u001b[0m Trial 714 finished with value: -0.005712747009362752 and parameters: {'kernel': 'rbf', 'C': 0.14677155964365934, 'gamma': 0.01775613915421926, 'epsilon': 0.0012528946762614059}. Best is trial 156 with value: -0.0056736269798483355.\u001b[0m\n",
      "\u001b[32m[I 2021-06-25 14:01:30,086]\u001b[0m Trial 715 finished with value: -0.005725378812246388 and parameters: {'kernel': 'rbf', 'C': 0.08610143064126798, 'gamma': 0.03294168217158763, 'epsilon': 0.00110994837326942}. Best is trial 156 with value: -0.0056736269798483355.\u001b[0m\n",
      "\u001b[32m[I 2021-06-25 14:01:30,504]\u001b[0m Trial 716 finished with value: -0.0057176131842714 and parameters: {'kernel': 'rbf', 'C': 0.12951032955159772, 'gamma': 0.020483827667212875, 'epsilon': 0.0016882427236169218}. Best is trial 156 with value: -0.0056736269798483355.\u001b[0m\n",
      "\u001b[32m[I 2021-06-25 14:01:31,123]\u001b[0m Trial 717 finished with value: -0.005720979520432271 and parameters: {'kernel': 'rbf', 'C': 0.1728355725824899, 'gamma': 0.028197582538460466, 'epsilon': 0.0014439374341939455}. Best is trial 156 with value: -0.0056736269798483355.\u001b[0m\n",
      "\u001b[32m[I 2021-06-25 14:01:31,502]\u001b[0m Trial 718 finished with value: -0.005705419827381927 and parameters: {'kernel': 'rbf', 'C': 0.15043575374541845, 'gamma': 0.02423723941134449, 'epsilon': 0.00225874183609817}. Best is trial 156 with value: -0.0056736269798483355.\u001b[0m\n",
      "\u001b[32m[I 2021-06-25 14:01:32,006]\u001b[0m Trial 719 finished with value: -0.005726043648160507 and parameters: {'kernel': 'rbf', 'C': 0.11169665219148167, 'gamma': 0.01978612226114794, 'epsilon': 0.0013464208609316392}. Best is trial 156 with value: -0.0056736269798483355.\u001b[0m\n",
      "\u001b[32m[I 2021-06-25 14:01:32,441]\u001b[0m Trial 720 finished with value: -0.005709045247116269 and parameters: {'kernel': 'rbf', 'C': 0.21025560866357612, 'gamma': 0.016708188183282128, 'epsilon': 0.0019399118325806287}. Best is trial 156 with value: -0.0056736269798483355.\u001b[0m\n",
      "\u001b[32m[I 2021-06-25 14:01:33,178]\u001b[0m Trial 721 finished with value: -0.005852520259782564 and parameters: {'kernel': 'rbf', 'C': 0.17526953260683034, 'gamma': 0.03948086897915991, 'epsilon': 0.0011201361944503574}. Best is trial 156 with value: -0.0056736269798483355.\u001b[0m\n",
      "\u001b[32m[I 2021-06-25 14:01:34,036]\u001b[0m Trial 722 finished with value: -0.0063734823407333935 and parameters: {'kernel': 'poly', 'C': 0.13572971376839005, 'gamma': 0.023199585891346776, 'epsilon': 0.001006475180171897}. Best is trial 156 with value: -0.0056736269798483355.\u001b[0m\n",
      "\u001b[32m[I 2021-06-25 14:01:34,577]\u001b[0m Trial 723 finished with value: -0.005689047523224175 and parameters: {'kernel': 'rbf', 'C': 0.1580454527387844, 'gamma': 0.027355350724545754, 'epsilon': 0.0016433544700072348}. Best is trial 156 with value: -0.0056736269798483355.\u001b[0m\n",
      "\u001b[32m[I 2021-06-25 14:01:35,147]\u001b[0m Trial 724 finished with value: -0.005805563569945028 and parameters: {'kernel': 'rbf', 'C': 0.19965019179975343, 'gamma': 0.03178728964826709, 'epsilon': 0.0013831947649756563}. Best is trial 156 with value: -0.0056736269798483355.\u001b[0m\n",
      "\u001b[32m[I 2021-06-25 14:01:35,721]\u001b[0m Trial 725 finished with value: -0.005689580352562815 and parameters: {'kernel': 'rbf', 'C': 0.12810826133893924, 'gamma': 0.022228167305300278, 'epsilon': 0.0012359549961113998}. Best is trial 156 with value: -0.0056736269798483355.\u001b[0m\n",
      "\u001b[32m[I 2021-06-25 14:01:36,289]\u001b[0m Trial 726 finished with value: -0.005682133319172011 and parameters: {'kernel': 'rbf', 'C': 0.14696729983638687, 'gamma': 0.025793936093179252, 'epsilon': 0.0015730804691525498}. Best is trial 156 with value: -0.0056736269798483355.\u001b[0m\n",
      "\u001b[32m[I 2021-06-25 14:01:36,761]\u001b[0m Trial 727 finished with value: -0.005701456246229621 and parameters: {'kernel': 'rbf', 'C': 0.1119046521749311, 'gamma': 0.028977137995279956, 'epsilon': 0.0017396934228715052}. Best is trial 156 with value: -0.0056736269798483355.\u001b[0m\n",
      "\u001b[32m[I 2021-06-25 14:01:37,265]\u001b[0m Trial 728 finished with value: -0.0057201291173214165 and parameters: {'kernel': 'rbf', 'C': 0.0993844916469579, 'gamma': 0.03577251133697276, 'epsilon': 0.0014468235039796233}. Best is trial 156 with value: -0.0056736269798483355.\u001b[0m\n",
      "\u001b[32m[I 2021-06-25 14:01:37,909]\u001b[0m Trial 729 finished with value: -0.005695305864556067 and parameters: {'kernel': 'rbf', 'C': 0.14079721002570658, 'gamma': 0.025991593384954163, 'epsilon': 0.0012116619569698503}. Best is trial 156 with value: -0.0056736269798483355.\u001b[0m\n",
      "\u001b[32m[I 2021-06-25 14:01:38,308]\u001b[0m Trial 730 finished with value: -0.005710656356153414 and parameters: {'kernel': 'rbf', 'C': 0.11989205976374084, 'gamma': 0.03115621022682915, 'epsilon': 0.001956601101757003}. Best is trial 156 with value: -0.0056736269798483355.\u001b[0m\n",
      "\u001b[32m[I 2021-06-25 14:01:38,899]\u001b[0m Trial 731 finished with value: -0.005692163698764851 and parameters: {'kernel': 'rbf', 'C': 0.1639751215749166, 'gamma': 0.025877472883550617, 'epsilon': 0.0015876695882639541}. Best is trial 156 with value: -0.0056736269798483355.\u001b[0m\n",
      "\u001b[32m[I 2021-06-25 14:01:39,547]\u001b[0m Trial 732 finished with value: -0.005873540429037892 and parameters: {'kernel': 'rbf', 'C': 0.1408007197109707, 'gamma': 0.04870267053997676, 'epsilon': 0.0013590195365628726}. Best is trial 156 with value: -0.0056736269798483355.\u001b[0m\n",
      "\u001b[32m[I 2021-06-25 14:01:40,279]\u001b[0m Trial 733 finished with value: -0.005693147151856745 and parameters: {'kernel': 'rbf', 'C': 0.18460896705548818, 'gamma': 0.02023037119600135, 'epsilon': 0.0011203791353606774}. Best is trial 156 with value: -0.0056736269798483355.\u001b[0m\n",
      "\u001b[32m[I 2021-06-25 14:01:40,905]\u001b[0m Trial 734 finished with value: -0.005711492286738447 and parameters: {'kernel': 'rbf', 'C': 0.23097625868492752, 'gamma': 0.024240122074620393, 'epsilon': 0.0018120615999481977}. Best is trial 156 with value: -0.0056736269798483355.\u001b[0m\n"
     ]
    },
    {
     "name": "stderr",
     "output_type": "stream",
     "text": [
      "\u001b[32m[I 2021-06-25 14:01:40,952]\u001b[0m Trial 735 finished with value: -0.04522358590646345 and parameters: {'kernel': 'rbf', 'C': 0.1483266495982549, 'gamma': 0.029266808465517123, 'epsilon': 0.061801372664493016}. Best is trial 156 with value: -0.0056736269798483355.\u001b[0m\n",
      "\u001b[32m[I 2021-06-25 14:01:41,000]\u001b[0m Trial 736 finished with value: -0.04522358590646345 and parameters: {'kernel': 'rbf', 'C': 0.12157833917250167, 'gamma': 0.01859169424333858, 'epsilon': 0.14715738752377064}. Best is trial 156 with value: -0.0056736269798483355.\u001b[0m\n",
      "\u001b[32m[I 2021-06-25 14:01:41,588]\u001b[0m Trial 737 finished with value: -0.005718022381506901 and parameters: {'kernel': 'rbf', 'C': 0.08960290505679702, 'gamma': 0.021717695101766674, 'epsilon': 0.0014951340296160682}. Best is trial 156 with value: -0.0056736269798483355.\u001b[0m\n",
      "\u001b[32m[I 2021-06-25 14:01:42,416]\u001b[0m Trial 738 finished with value: -0.0058056527174684056 and parameters: {'kernel': 'rbf', 'C': 0.1689042160090861, 'gamma': 0.03516898927166089, 'epsilon': 0.0012563031866288064}. Best is trial 156 with value: -0.0056736269798483355.\u001b[0m\n",
      "\u001b[32m[I 2021-06-25 14:01:43,077]\u001b[0m Trial 739 finished with value: -0.005709848306511246 and parameters: {'kernel': 'rbf', 'C': 0.1341491855128539, 'gamma': 0.025888818738271122, 'epsilon': 0.0010013958363250814}. Best is trial 156 with value: -0.0056736269798483355.\u001b[0m\n",
      "\u001b[32m[I 2021-06-25 14:01:43,651]\u001b[0m Trial 740 finished with value: -0.005721180543156394 and parameters: {'kernel': 'rbf', 'C': 0.1951198428913216, 'gamma': 0.015496959034430767, 'epsilon': 0.0016223456719295561}. Best is trial 156 with value: -0.0056736269798483355.\u001b[0m\n",
      "\u001b[32m[I 2021-06-25 14:01:44,151]\u001b[0m Trial 741 finished with value: -0.00578061653496748 and parameters: {'kernel': 'rbf', 'C': 0.10580146336392736, 'gamma': 0.011749057506085583, 'epsilon': 0.0013951585385681387}. Best is trial 156 with value: -0.0056736269798483355.\u001b[0m\n",
      "\u001b[32m[I 2021-06-25 14:01:44,565]\u001b[0m Trial 742 finished with value: -0.00572592644446442 and parameters: {'kernel': 'rbf', 'C': 0.15716767144144675, 'gamma': 0.022393859299215464, 'epsilon': 0.002359314948334614}. Best is trial 156 with value: -0.0056736269798483355.\u001b[0m\n",
      "\u001b[32m[I 2021-06-25 14:01:45,109]\u001b[0m Trial 743 finished with value: -0.005748887480969453 and parameters: {'kernel': 'rbf', 'C': 0.18140449863081906, 'gamma': 0.030423502449211708, 'epsilon': 0.0019775406559510043}. Best is trial 156 with value: -0.0056736269798483355.\u001b[0m\n",
      "\u001b[32m[I 2021-06-25 14:01:45,835]\u001b[0m Trial 744 finished with value: -0.005719860768442623 and parameters: {'kernel': 'rbf', 'C': 0.13115873208387707, 'gamma': 0.026419014585438008, 'epsilon': 0.0010040464097997674}. Best is trial 156 with value: -0.0056736269798483355.\u001b[0m\n",
      "\u001b[32m[I 2021-06-25 14:01:46,521]\u001b[0m Trial 745 finished with value: -0.0056912320573494464 and parameters: {'kernel': 'rbf', 'C': 0.1544756864525614, 'gamma': 0.018829567805359455, 'epsilon': 0.00124104131267865}. Best is trial 156 with value: -0.0056736269798483355.\u001b[0m\n",
      "\u001b[32m[I 2021-06-25 14:01:47,394]\u001b[0m Trial 746 finished with value: -0.0057676408641248395 and parameters: {'kernel': 'rbf', 'C': 0.290548539459855, 'gamma': 0.023746093301603266, 'epsilon': 0.0015623469872116308}. Best is trial 156 with value: -0.0056736269798483355.\u001b[0m\n",
      "\u001b[32m[I 2021-06-25 14:01:48,375]\u001b[0m Trial 747 finished with value: -0.00588382926760291 and parameters: {'kernel': 'rbf', 'C': 0.218522801641582, 'gamma': 0.04179151191065468, 'epsilon': 0.0017801012050612647}. Best is trial 156 with value: -0.0056736269798483355.\u001b[0m\n",
      "\u001b[32m[I 2021-06-25 14:01:49,043]\u001b[0m Trial 748 finished with value: -0.005733317977821371 and parameters: {'kernel': 'rbf', 'C': 0.06091013889563478, 'gamma': 0.021431346887616953, 'epsilon': 0.0013584663832854542}. Best is trial 156 with value: -0.0056736269798483355.\u001b[0m\n",
      "\u001b[32m[I 2021-06-25 14:01:49,753]\u001b[0m Trial 749 finished with value: -0.007130355921202387 and parameters: {'kernel': 'rbf', 'C': 0.11383399160992612, 'gamma': 0.3459371466842118, 'epsilon': 0.0011317904451125748}. Best is trial 156 with value: -0.0056736269798483355.\u001b[0m\n",
      "\u001b[32m[I 2021-06-25 14:01:50,451]\u001b[0m Trial 750 finished with value: -0.005714868468112512 and parameters: {'kernel': 'rbf', 'C': 0.175415682527243, 'gamma': 0.028117065463698073, 'epsilon': 0.001466785175256385}. Best is trial 156 with value: -0.0056736269798483355.\u001b[0m\n",
      "\u001b[32m[I 2021-06-25 14:01:50,996]\u001b[0m Trial 751 finished with value: -0.005734301978454701 and parameters: {'kernel': 'rbf', 'C': 0.14016590423528943, 'gamma': 0.017291442902037178, 'epsilon': 0.0016862425680869684}. Best is trial 156 with value: -0.0056736269798483355.\u001b[0m\n",
      "\u001b[32m[I 2021-06-25 14:01:52,354]\u001b[0m Trial 752 finished with value: -0.006393364780139874 and parameters: {'kernel': 'poly', 'C': 0.19787233393598477, 'gamma': 0.033588790713673516, 'epsilon': 0.001266433253615905}. Best is trial 156 with value: -0.0056736269798483355.\u001b[0m\n",
      "\u001b[32m[I 2021-06-25 14:01:53,421]\u001b[0m Trial 753 finished with value: -0.005697156777688752 and parameters: {'kernel': 'rbf', 'C': 0.15238061550590282, 'gamma': 0.024549327529102653, 'epsilon': 0.0010097557785329486}. Best is trial 156 with value: -0.0056736269798483355.\u001b[0m\n",
      "\u001b[32m[I 2021-06-25 14:01:53,468]\u001b[0m Trial 754 finished with value: -0.04522358590646345 and parameters: {'kernel': 'rbf', 'C': 0.2482227621389881, 'gamma': 0.020578961011441695, 'epsilon': 0.7383801631840309}. Best is trial 156 with value: -0.0056736269798483355.\u001b[0m\n",
      "\u001b[32m[I 2021-06-25 14:01:53,935]\u001b[0m Trial 755 finished with value: -0.005834873401597616 and parameters: {'kernel': 'rbf', 'C': 0.17045357471546654, 'gamma': 0.003966324470012469, 'epsilon': 0.002130767233153306}. Best is trial 156 with value: -0.0056736269798483355.\u001b[0m\n",
      "\u001b[32m[I 2021-06-25 14:01:54,760]\u001b[0m Trial 756 finished with value: -0.005697244392408589 and parameters: {'kernel': 'rbf', 'C': 0.1256534571829673, 'gamma': 0.028002543520637066, 'epsilon': 0.0014607678762303662}. Best is trial 156 with value: -0.0056736269798483355.\u001b[0m\n",
      "\u001b[32m[I 2021-06-25 14:01:55,611]\u001b[0m Trial 757 finished with value: -0.005685038722206991 and parameters: {'kernel': 'rbf', 'C': 0.1019282978335922, 'gamma': 0.02448948471100504, 'epsilon': 0.001182209607251455}. Best is trial 156 with value: -0.0056736269798483355.\u001b[0m\n",
      "\u001b[32m[I 2021-06-25 14:01:56,152]\u001b[0m Trial 758 finished with value: -0.005735968364380152 and parameters: {'kernel': 'rbf', 'C': 0.14617501136237884, 'gamma': 0.03321621195492187, 'epsilon': 0.0018367202900889815}. Best is trial 156 with value: -0.0056736269798483355.\u001b[0m\n",
      "\u001b[32m[I 2021-06-25 14:01:56,655]\u001b[0m Trial 759 finished with value: -0.005702237505699436 and parameters: {'kernel': 'rbf', 'C': 0.19728847604485347, 'gamma': 0.019520072008816627, 'epsilon': 0.0016022800878239037}. Best is trial 156 with value: -0.0056736269798483355.\u001b[0m\n",
      "\u001b[32m[I 2021-06-25 14:01:57,125]\u001b[0m Trial 760 finished with value: -0.005733413988611903 and parameters: {'kernel': 'rbf', 'C': 0.12229408954207956, 'gamma': 0.013750558522255993, 'epsilon': 0.0013370630859056054}. Best is trial 156 with value: -0.0056736269798483355.\u001b[0m\n",
      "\u001b[32m[I 2021-06-25 14:01:57,423]\u001b[0m Trial 761 finished with value: -0.0057334257659662395 and parameters: {'kernel': 'rbf', 'C': 0.1652194110355341, 'gamma': 0.02275919312202647, 'epsilon': 0.0026999780218378688}. Best is trial 156 with value: -0.0056736269798483355.\u001b[0m\n",
      "\u001b[32m[I 2021-06-25 14:01:58,163]\u001b[0m Trial 762 finished with value: -0.0057117873004204995 and parameters: {'kernel': 'rbf', 'C': 0.1396216920191475, 'gamma': 0.029051258619915584, 'epsilon': 0.0011068425300972031}. Best is trial 156 with value: -0.0056736269798483355.\u001b[0m\n",
      "\u001b[32m[I 2021-06-25 14:01:58,926]\u001b[0m Trial 763 finished with value: -0.005723965617322466 and parameters: {'kernel': 'rbf', 'C': 0.22253463875671547, 'gamma': 0.02567279517130286, 'epsilon': 0.0014889374139677469}. Best is trial 156 with value: -0.0056736269798483355.\u001b[0m\n",
      "\u001b[32m[I 2021-06-25 14:01:59,488]\u001b[0m Trial 764 finished with value: -0.005709931204068435 and parameters: {'kernel': 'rbf', 'C': 0.18039994719376207, 'gamma': 0.018292654354265626, 'epsilon': 0.001805254650229965}. Best is trial 156 with value: -0.0056736269798483355.\u001b[0m\n",
      "\u001b[32m[I 2021-06-25 14:02:00,197]\u001b[0m Trial 765 finished with value: -0.005702289474084281 and parameters: {'kernel': 'rbf', 'C': 0.11509941810108443, 'gamma': 0.02195300975604524, 'epsilon': 0.001270826322384706}. Best is trial 156 with value: -0.0056736269798483355.\u001b[0m\n"
     ]
    },
    {
     "name": "stderr",
     "output_type": "stream",
     "text": [
      "\u001b[32m[I 2021-06-25 14:02:00,673]\u001b[0m Trial 766 finished with value: -0.005815260982821483 and parameters: {'kernel': 'rbf', 'C': 0.15568410126267404, 'gamma': 0.038983915890234956, 'epsilon': 0.0020954269431711116}. Best is trial 156 with value: -0.0056736269798483355.\u001b[0m\n",
      "\u001b[32m[I 2021-06-25 14:02:01,478]\u001b[0m Trial 767 finished with value: -0.005733738614385413 and parameters: {'kernel': 'rbf', 'C': 0.13146751866536857, 'gamma': 0.030850775279133994, 'epsilon': 0.001000007195087766}. Best is trial 156 with value: -0.0056736269798483355.\u001b[0m\n",
      "\u001b[32m[I 2021-06-25 14:02:01,983]\u001b[0m Trial 768 finished with value: -0.005742425098648866 and parameters: {'kernel': 'rbf', 'C': 0.09265672572760837, 'gamma': 0.01648921845222965, 'epsilon': 0.0016237022520041871}. Best is trial 156 with value: -0.0056736269798483355.\u001b[0m\n",
      "\u001b[32m[I 2021-06-25 14:02:02,740]\u001b[0m Trial 769 finished with value: -0.005708700433516234 and parameters: {'kernel': 'rbf', 'C': 0.19419088825913602, 'gamma': 0.025274387834642358, 'epsilon': 0.001302863326862273}. Best is trial 156 with value: -0.0056736269798483355.\u001b[0m\n",
      "\u001b[32m[I 2021-06-25 14:02:03,402]\u001b[0m Trial 770 finished with value: -0.005693216059853483 and parameters: {'kernel': 'rbf', 'C': 0.1608853880980742, 'gamma': 0.020622533764222354, 'epsilon': 0.00145890464721757}. Best is trial 156 with value: -0.0056736269798483355.\u001b[0m\n",
      "\u001b[32m[I 2021-06-25 14:02:04,188]\u001b[0m Trial 771 finished with value: -0.005929468395597023 and parameters: {'kernel': 'rbf', 'C': 0.5594776273542685, 'gamma': 0.028374050929659146, 'epsilon': 0.0017476818815165517}. Best is trial 156 with value: -0.0056736269798483355.\u001b[0m\n",
      "\u001b[32m[I 2021-06-25 14:02:04,830]\u001b[0m Trial 772 finished with value: -0.005697172828552372 and parameters: {'kernel': 'rbf', 'C': 0.1418214224997703, 'gamma': 0.02198983314928975, 'epsilon': 0.0011698041196626413}. Best is trial 156 with value: -0.0056736269798483355.\u001b[0m\n",
      "\u001b[32m[I 2021-06-25 14:02:05,375]\u001b[0m Trial 773 finished with value: -0.005693236443780422 and parameters: {'kernel': 'rbf', 'C': 0.11600669138415498, 'gamma': 0.02538156808863386, 'epsilon': 0.0014682980710943358}. Best is trial 156 with value: -0.0056736269798483355.\u001b[0m\n",
      "\u001b[32m[I 2021-06-25 14:02:06,200]\u001b[0m Trial 774 finished with value: -0.005693735529126674 and parameters: {'kernel': 'rbf', 'C': 0.2160103688923084, 'gamma': 0.018846855202384043, 'epsilon': 0.001132860487994679}. Best is trial 156 with value: -0.0056736269798483355.\u001b[0m\n",
      "\u001b[32m[I 2021-06-25 14:02:07,039]\u001b[0m Trial 775 finished with value: -0.005678476889654514 and parameters: {'kernel': 'rbf', 'C': 0.17583580198275162, 'gamma': 0.02343632236424613, 'epsilon': 0.0013201893433549808}. Best is trial 156 with value: -0.0056736269798483355.\u001b[0m\n",
      "\u001b[32m[I 2021-06-25 14:02:07,448]\u001b[0m Trial 776 finished with value: -0.005715237833244871 and parameters: {'kernel': 'rbf', 'C': 0.10401951206063541, 'gamma': 0.0327859428976753, 'epsilon': 0.0019454283353844712}. Best is trial 156 with value: -0.0056736269798483355.\u001b[0m\n",
      "\u001b[32m[I 2021-06-25 14:02:07,726]\u001b[0m Trial 777 finished with value: -0.00583064978348636 and parameters: {'kernel': 'rbf', 'C': 0.03910722029376884, 'gamma': 0.027642931021378235, 'epsilon': 0.0023374319344058024}. Best is trial 156 with value: -0.0056736269798483355.\u001b[0m\n",
      "\u001b[32m[I 2021-06-25 14:02:08,228]\u001b[0m Trial 778 finished with value: -0.005681370354849519 and parameters: {'kernel': 'rbf', 'C': 0.16663053627201313, 'gamma': 0.02393844073764361, 'epsilon': 0.0016588372373111833}. Best is trial 156 with value: -0.0056736269798483355.\u001b[0m\n",
      "\u001b[32m[I 2021-06-25 14:02:08,593]\u001b[0m Trial 779 finished with value: -0.005726701523429511 and parameters: {'kernel': 'rbf', 'C': 0.07560277130514619, 'gamma': 0.023469397412307007, 'epsilon': 0.001686365170448713}. Best is trial 156 with value: -0.0056736269798483355.\u001b[0m\n",
      "\u001b[32m[I 2021-06-25 14:02:09,291]\u001b[0m Trial 780 finished with value: -0.006328434582963512 and parameters: {'kernel': 'poly', 'C': 0.1715085279543488, 'gamma': 0.03040957013847456, 'epsilon': 0.002004691239438928}. Best is trial 156 with value: -0.0056736269798483355.\u001b[0m\n",
      "\u001b[32m[I 2021-06-25 14:02:09,826]\u001b[0m Trial 781 finished with value: -0.00569255026005118 and parameters: {'kernel': 'rbf', 'C': 0.1287074101323061, 'gamma': 0.02609822436198107, 'epsilon': 0.001393265242541035}. Best is trial 156 with value: -0.0056736269798483355.\u001b[0m\n",
      "\u001b[32m[I 2021-06-25 14:02:10,259]\u001b[0m Trial 782 finished with value: -0.005687090239012193 and parameters: {'kernel': 'rbf', 'C': 0.1508738612647572, 'gamma': 0.02273275086502076, 'epsilon': 0.0016406112351456538}. Best is trial 156 with value: -0.0056736269798483355.\u001b[0m\n",
      "\u001b[32m[I 2021-06-25 14:02:10,514]\u001b[0m Trial 783 finished with value: -0.005937333703053326 and parameters: {'kernel': 'rbf', 'C': 0.1866131943810125, 'gamma': 0.03753234061469535, 'epsilon': 0.0036476270405244103}. Best is trial 156 with value: -0.0056736269798483355.\u001b[0m\n",
      "\u001b[32m[I 2021-06-25 14:02:10,995]\u001b[0m Trial 784 finished with value: -0.0056954181635303636 and parameters: {'kernel': 'rbf', 'C': 0.1323005017704381, 'gamma': 0.027468382464142443, 'epsilon': 0.001356962960894039}. Best is trial 156 with value: -0.0056736269798483355.\u001b[0m\n",
      "\u001b[32m[I 2021-06-25 14:02:11,568]\u001b[0m Trial 785 finished with value: -0.005708554138903958 and parameters: {'kernel': 'rbf', 'C': 0.1632095847439384, 'gamma': 0.02174333068989465, 'epsilon': 0.0018297387325605023}. Best is trial 156 with value: -0.0056736269798483355.\u001b[0m\n",
      "\u001b[32m[I 2021-06-25 14:02:12,097]\u001b[0m Trial 786 finished with value: -0.005838571119350974 and parameters: {'kernel': 'rbf', 'C': 0.24204795456832273, 'gamma': 0.033565702015831415, 'epsilon': 0.0015723864721366968}. Best is trial 156 with value: -0.0056736269798483355.\u001b[0m\n",
      "\u001b[32m[I 2021-06-25 14:02:12,787]\u001b[0m Trial 787 finished with value: -0.0056779114617243375 and parameters: {'kernel': 'rbf', 'C': 0.1444353050751228, 'gamma': 0.023863287949981722, 'epsilon': 0.0012986068723343574}. Best is trial 156 with value: -0.0056736269798483355.\u001b[0m\n",
      "\u001b[32m[I 2021-06-25 14:02:13,210]\u001b[0m Trial 788 finished with value: -0.005731327422340663 and parameters: {'kernel': 'rbf', 'C': 0.0852167724840766, 'gamma': 0.02939977577199091, 'epsilon': 0.0022173699422237125}. Best is trial 156 with value: -0.0056736269798483355.\u001b[0m\n",
      "\u001b[32m[I 2021-06-25 14:02:13,759]\u001b[0m Trial 789 finished with value: -0.005692834781495033 and parameters: {'kernel': 'rbf', 'C': 0.1056227509351311, 'gamma': 0.024568989055512136, 'epsilon': 0.00152160522417666}. Best is trial 156 with value: -0.0056736269798483355.\u001b[0m\n",
      "\u001b[32m[I 2021-06-25 14:02:14,368]\u001b[0m Trial 790 finished with value: -0.005688096885648006 and parameters: {'kernel': 'rbf', 'C': 0.11689377529184741, 'gamma': 0.026089011365862745, 'epsilon': 0.0013329561140588185}. Best is trial 156 with value: -0.0056736269798483355.\u001b[0m\n",
      "\u001b[32m[I 2021-06-25 14:02:14,846]\u001b[0m Trial 791 finished with value: -0.005708134235163309 and parameters: {'kernel': 'rbf', 'C': 0.13679379859259616, 'gamma': 0.020635687011779834, 'epsilon': 0.0018546346881659365}. Best is trial 156 with value: -0.0056736269798483355.\u001b[0m\n",
      "\u001b[32m[I 2021-06-25 14:02:15,354]\u001b[0m Trial 792 finished with value: -0.005704463702325135 and parameters: {'kernel': 'rbf', 'C': 0.12141495053809408, 'gamma': 0.030679206636058814, 'epsilon': 0.0016347967856964593}. Best is trial 156 with value: -0.0056736269798483355.\u001b[0m\n",
      "\u001b[32m[I 2021-06-25 14:02:15,920]\u001b[0m Trial 793 finished with value: -0.005685381308619404 and parameters: {'kernel': 'rbf', 'C': 0.14841674492236112, 'gamma': 0.0235052648325888, 'epsilon': 0.0013841421046857038}. Best is trial 156 with value: -0.0056736269798483355.\u001b[0m\n",
      "\u001b[32m[I 2021-06-25 14:02:16,615]\u001b[0m Trial 794 finished with value: -0.005706209486095074 and parameters: {'kernel': 'rbf', 'C': 0.10038048852106354, 'gamma': 0.026818360262127763, 'epsilon': 0.0011548281802118482}. Best is trial 156 with value: -0.0056736269798483355.\u001b[0m\n",
      "\u001b[32m[I 2021-06-25 14:02:17,111]\u001b[0m Trial 795 finished with value: -0.005769733678357515 and parameters: {'kernel': 'rbf', 'C': 0.1401112626022773, 'gamma': 0.0356706082306949, 'epsilon': 0.0015471032417746023}. Best is trial 156 with value: -0.0056736269798483355.\u001b[0m\n",
      "\u001b[32m[I 2021-06-25 14:02:17,557]\u001b[0m Trial 796 finished with value: -0.005731973375758197 and parameters: {'kernel': 'rbf', 'C': 0.12369557721370811, 'gamma': 0.020230518490550888, 'epsilon': 0.001917009497748309}. Best is trial 156 with value: -0.0056736269798483355.\u001b[0m\n"
     ]
    },
    {
     "name": "stderr",
     "output_type": "stream",
     "text": [
      "\u001b[32m[I 2021-06-25 14:02:17,889]\u001b[0m Trial 797 finished with value: -0.005715572470193618 and parameters: {'kernel': 'rbf', 'C': 0.15412449099148767, 'gamma': 0.024174430147222287, 'epsilon': 0.002513019885226423}. Best is trial 156 with value: -0.0056736269798483355.\u001b[0m\n",
      "\u001b[32m[I 2021-06-25 14:02:18,442]\u001b[0m Trial 798 finished with value: -0.005755747086357697 and parameters: {'kernel': 'rbf', 'C': 0.17681282851983038, 'gamma': 0.030571301579582544, 'epsilon': 0.0012646621784037316}. Best is trial 156 with value: -0.0056736269798483355.\u001b[0m\n",
      "\u001b[32m[I 2021-06-25 14:02:19,055]\u001b[0m Trial 799 finished with value: -0.005711565052030295 and parameters: {'kernel': 'rbf', 'C': 0.11525055616576989, 'gamma': 0.021516525092180074, 'epsilon': 0.0010041415459443976}. Best is trial 156 with value: -0.0056736269798483355.\u001b[0m\n",
      "\u001b[32m[I 2021-06-25 14:02:19,628]\u001b[0m Trial 800 finished with value: -0.005694987776866039 and parameters: {'kernel': 'rbf', 'C': 0.13721926549698776, 'gamma': 0.02758783507172145, 'epsilon': 0.0016762060044817578}. Best is trial 156 with value: -0.0056736269798483355.\u001b[0m\n",
      "\u001b[32m[I 2021-06-25 14:02:20,150]\u001b[0m Trial 801 finished with value: -0.005698348489714024 and parameters: {'kernel': 'rbf', 'C': 0.15991221073790593, 'gamma': 0.01940002474365927, 'epsilon': 0.0013497733191582184}. Best is trial 156 with value: -0.0056736269798483355.\u001b[0m\n",
      "\u001b[32m[I 2021-06-25 14:02:20,602]\u001b[0m Trial 802 finished with value: -0.005693698980750066 and parameters: {'kernel': 'rbf', 'C': 0.0959514272083592, 'gamma': 0.024017203417548372, 'epsilon': 0.0014838453674634285}. Best is trial 156 with value: -0.0056736269798483355.\u001b[0m\n",
      "\u001b[32m[I 2021-06-25 14:02:21,316]\u001b[0m Trial 803 finished with value: -0.005730671802478947 and parameters: {'kernel': 'rbf', 'C': 0.18298956358037075, 'gamma': 0.027164845199294754, 'epsilon': 0.0011300762383204643}. Best is trial 156 with value: -0.0056736269798483355.\u001b[0m\n",
      "\u001b[32m[I 2021-06-25 14:02:21,493]\u001b[0m Trial 804 finished with value: -0.006475579318177611 and parameters: {'kernel': 'rbf', 'C': 0.13397929419164709, 'gamma': 0.03195057661980438, 'epsilon': 0.0071801106870589835}. Best is trial 156 with value: -0.0056736269798483355.\u001b[0m\n",
      "\u001b[32m[I 2021-06-25 14:02:21,901]\u001b[0m Trial 805 finished with value: -0.005838521167926449 and parameters: {'kernel': 'rbf', 'C': 0.15467123496654242, 'gamma': 0.043247668241774694, 'epsilon': 0.0020544462407297115}. Best is trial 156 with value: -0.0056736269798483355.\u001b[0m\n",
      "\u001b[32m[I 2021-06-25 14:02:22,311]\u001b[0m Trial 806 finished with value: -0.005704208625769608 and parameters: {'kernel': 'rbf', 'C': 0.11212807891417846, 'gamma': 0.022700002848027614, 'epsilon': 0.0017394458538957569}. Best is trial 156 with value: -0.0056736269798483355.\u001b[0m\n",
      "\u001b[32m[I 2021-06-25 14:02:22,931]\u001b[0m Trial 807 finished with value: -0.005694073149132972 and parameters: {'kernel': 'rbf', 'C': 0.19936907257983363, 'gamma': 0.01909296603280475, 'epsilon': 0.0012839221519376706}. Best is trial 156 with value: -0.0056736269798483355.\u001b[0m\n",
      "\u001b[32m[I 2021-06-25 14:02:23,624]\u001b[0m Trial 808 finished with value: -0.00635092424463531 and parameters: {'kernel': 'poly', 'C': 0.16774263541625437, 'gamma': 0.025139685330100737, 'epsilon': 0.0014802562048148236}. Best is trial 156 with value: -0.0056736269798483355.\u001b[0m\n",
      "\u001b[32m[I 2021-06-25 14:02:24,169]\u001b[0m Trial 809 finished with value: -0.005697410792175328 and parameters: {'kernel': 'rbf', 'C': 0.1386849983333203, 'gamma': 0.021338625252017174, 'epsilon': 0.0012175709669124883}. Best is trial 156 with value: -0.0056736269798483355.\u001b[0m\n",
      "\u001b[32m[I 2021-06-25 14:02:24,804]\u001b[0m Trial 810 finished with value: -0.0057487511349260225 and parameters: {'kernel': 'rbf', 'C': 0.12501195196328665, 'gamma': 0.016975978354112117, 'epsilon': 0.001004396500563686}. Best is trial 156 with value: -0.0056736269798483355.\u001b[0m\n",
      "\u001b[32m[I 2021-06-25 14:02:25,320]\u001b[0m Trial 811 finished with value: -0.005758242507435976 and parameters: {'kernel': 'rbf', 'C': 0.15203985994556504, 'gamma': 0.03483852982956906, 'epsilon': 0.001761204617924945}. Best is trial 156 with value: -0.0056736269798483355.\u001b[0m\n",
      "\u001b[32m[I 2021-06-25 14:02:26,160]\u001b[0m Trial 812 finished with value: -0.005757494659547487 and parameters: {'kernel': 'rbf', 'C': 0.20936283426569788, 'gamma': 0.0284960370866825, 'epsilon': 0.0014263656524380905}. Best is trial 156 with value: -0.0056736269798483355.\u001b[0m\n",
      "\u001b[32m[I 2021-06-25 14:02:26,225]\u001b[0m Trial 813 finished with value: -0.018258022866284796 and parameters: {'kernel': 'rbf', 'C': 0.17602112482850368, 'gamma': 0.02381830072842324, 'epsilon': 0.025253085062564375}. Best is trial 156 with value: -0.0056736269798483355.\u001b[0m\n",
      "\u001b[32m[I 2021-06-25 14:02:26,725]\u001b[0m Trial 814 finished with value: -0.005705809571529353 and parameters: {'kernel': 'rbf', 'C': 0.11009589274946582, 'gamma': 0.03062856630882971, 'epsilon': 0.001616843015672533}. Best is trial 156 with value: -0.0056736269798483355.\u001b[0m\n",
      "\u001b[32m[I 2021-06-25 14:02:27,265]\u001b[0m Trial 815 finished with value: -0.00569198186248353 and parameters: {'kernel': 'rbf', 'C': 0.14479935263818167, 'gamma': 0.020761891082095613, 'epsilon': 0.0012566846854597917}. Best is trial 156 with value: -0.0056736269798483355.\u001b[0m\n",
      "\u001b[32m[I 2021-06-25 14:02:27,648]\u001b[0m Trial 816 finished with value: -0.0057026603669534486 and parameters: {'kernel': 'rbf', 'C': 0.1813885478643556, 'gamma': 0.026024646859686647, 'epsilon': 0.0020792173932173722}. Best is trial 156 with value: -0.0056736269798483355.\u001b[0m\n",
      "\u001b[32m[I 2021-06-25 14:02:28,775]\u001b[0m Trial 817 finished with value: -0.0059655552527289645 and parameters: {'kernel': 'rbf', 'C': 0.8195787719924873, 'gamma': 0.01852959759891801, 'epsilon': 0.0011335906811688727}. Best is trial 156 with value: -0.0056736269798483355.\u001b[0m\n",
      "\u001b[32m[I 2021-06-25 14:02:29,254]\u001b[0m Trial 818 finished with value: -0.005685779795411856 and parameters: {'kernel': 'rbf', 'C': 0.1259432723608989, 'gamma': 0.023748194875445775, 'epsilon': 0.0014416209257479674}. Best is trial 156 with value: -0.0056736269798483355.\u001b[0m\n",
      "\u001b[32m[I 2021-06-25 14:02:29,684]\u001b[0m Trial 819 finished with value: -0.0057083985187077095 and parameters: {'kernel': 'rbf', 'C': 0.15886378321756783, 'gamma': 0.02935905870900319, 'epsilon': 0.001800192871212041}. Best is trial 156 with value: -0.0056736269798483355.\u001b[0m\n",
      "\u001b[32m[I 2021-06-25 14:02:30,257]\u001b[0m Trial 820 finished with value: -0.005845478174646278 and parameters: {'kernel': 'rbf', 'C': 0.21211343308818678, 'gamma': 0.037187231383569136, 'epsilon': 0.0015693237827321095}. Best is trial 156 with value: -0.0056736269798483355.\u001b[0m\n",
      "\u001b[32m[I 2021-06-25 14:02:30,786]\u001b[0m Trial 821 finished with value: -0.005725983794748475 and parameters: {'kernel': 'rbf', 'C': 0.09166625662465488, 'gamma': 0.020781994280950702, 'epsilon': 0.001340701619042265}. Best is trial 156 with value: -0.0056736269798483355.\u001b[0m\n",
      "\u001b[32m[I 2021-06-25 14:02:31,405]\u001b[0m Trial 822 finished with value: -0.005704505733933424 and parameters: {'kernel': 'rbf', 'C': 0.13916574497823708, 'gamma': 0.02719925035642469, 'epsilon': 0.0011699746642730602}. Best is trial 156 with value: -0.0056736269798483355.\u001b[0m\n",
      "\u001b[32m[I 2021-06-25 14:02:31,765]\u001b[0m Trial 823 finished with value: -0.0057170077514876565 and parameters: {'kernel': 'rbf', 'C': 0.16857103057690903, 'gamma': 0.023439340371677355, 'epsilon': 0.002350885498113068}. Best is trial 156 with value: -0.0056736269798483355.\u001b[0m\n",
      "\u001b[32m[I 2021-06-25 14:02:32,461]\u001b[0m Trial 824 finished with value: -0.005727974604556958 and parameters: {'kernel': 'rbf', 'C': 0.27752722047684514, 'gamma': 0.017952913177654274, 'epsilon': 0.001897710749370525}. Best is trial 156 with value: -0.0056736269798483355.\u001b[0m\n",
      "\u001b[32m[I 2021-06-25 14:02:32,634]\u001b[0m Trial 825 finished with value: -0.007225510717308581 and parameters: {'kernel': 'rbf', 'C': 0.12242598232570656, 'gamma': 0.03227069943350327, 'epsilon': 0.009174755131463548}. Best is trial 156 with value: -0.0056736269798483355.\u001b[0m\n",
      "\u001b[32m[I 2021-06-25 14:02:33,185]\u001b[0m Trial 826 finished with value: -0.0057427304664597325 and parameters: {'kernel': 'rbf', 'C': 0.14801708825622023, 'gamma': 0.015488759375841215, 'epsilon': 0.0015947403830009086}. Best is trial 156 with value: -0.0056736269798483355.\u001b[0m\n"
     ]
    },
    {
     "name": "stderr",
     "output_type": "stream",
     "text": [
      "\u001b[32m[I 2021-06-25 14:02:33,964]\u001b[0m Trial 827 finished with value: -0.005709461836708289 and parameters: {'kernel': 'rbf', 'C': 0.1918576301140994, 'gamma': 0.025730172202507083, 'epsilon': 0.0013937404881001507}. Best is trial 156 with value: -0.0056736269798483355.\u001b[0m\n",
      "\u001b[32m[I 2021-06-25 14:02:34,198]\u001b[0m Trial 828 finished with value: -0.006199449166130448 and parameters: {'kernel': 'rbf', 'C': 0.10698032915348159, 'gamma': 0.021362505604740296, 'epsilon': 0.005927708171482555}. Best is trial 156 with value: -0.0056736269798483355.\u001b[0m\n",
      "\u001b[32m[I 2021-06-25 14:02:35,129]\u001b[0m Trial 829 finished with value: -0.005736957085171455 and parameters: {'kernel': 'rbf', 'C': 0.235517118989728, 'gamma': 0.023650683393410546, 'epsilon': 0.0010196931919380873}. Best is trial 156 with value: -0.0056736269798483355.\u001b[0m\n",
      "\u001b[32m[I 2021-06-25 14:02:35,847]\u001b[0m Trial 830 finished with value: -0.005725553331138285 and parameters: {'kernel': 'rbf', 'C': 0.16227304715187488, 'gamma': 0.029185678052950935, 'epsilon': 0.0012582329343786061}. Best is trial 156 with value: -0.0056736269798483355.\u001b[0m\n",
      "\u001b[32m[I 2021-06-25 14:02:36,499]\u001b[0m Trial 831 finished with value: -0.005715714136868052 and parameters: {'kernel': 'rbf', 'C': 0.13786607369307544, 'gamma': 0.019649958590702385, 'epsilon': 0.0016635122680068834}. Best is trial 156 with value: -0.0056736269798483355.\u001b[0m\n",
      "\u001b[32m[I 2021-06-25 14:02:37,363]\u001b[0m Trial 832 finished with value: -0.005710772153239241 and parameters: {'kernel': 'rbf', 'C': 0.18963451730220574, 'gamma': 0.02611581006418918, 'epsilon': 0.0014196390454234591}. Best is trial 156 with value: -0.0056736269798483355.\u001b[0m\n",
      "\u001b[32m[I 2021-06-25 14:02:38,106]\u001b[0m Trial 833 finished with value: -0.005704041271368501 and parameters: {'kernel': 'rbf', 'C': 0.12408732848939528, 'gamma': 0.02210182531017656, 'epsilon': 0.0011115516609469162}. Best is trial 156 with value: -0.0056736269798483355.\u001b[0m\n",
      "\u001b[32m[I 2021-06-25 14:02:38,625]\u001b[0m Trial 834 finished with value: -0.005728736572712087 and parameters: {'kernel': 'rbf', 'C': 0.1537587500147845, 'gamma': 0.0319466023880571, 'epsilon': 0.001949314694326429}. Best is trial 156 with value: -0.0056736269798483355.\u001b[0m\n",
      "\u001b[32m[I 2021-06-25 14:02:39,258]\u001b[0m Trial 835 finished with value: -0.005709691217864484 and parameters: {'kernel': 'rbf', 'C': 0.17681147008377202, 'gamma': 0.016572802327838327, 'epsilon': 0.0015253740175769064}. Best is trial 156 with value: -0.0056736269798483355.\u001b[0m\n",
      "\u001b[32m[I 2021-06-25 14:02:40,020]\u001b[0m Trial 836 finished with value: -0.005695285556255027 and parameters: {'kernel': 'rbf', 'C': 0.10383873954341519, 'gamma': 0.026851798150091706, 'epsilon': 0.0013063515496326036}. Best is trial 156 with value: -0.0056736269798483355.\u001b[0m\n",
      "\u001b[32m[I 2021-06-25 14:02:40,867]\u001b[0m Trial 837 finished with value: -0.005708150539215184 and parameters: {'kernel': 'rbf', 'C': 0.21998376231148484, 'gamma': 0.019962591636680564, 'epsilon': 0.0010113172912802864}. Best is trial 156 with value: -0.0056736269798483355.\u001b[0m\n",
      "\u001b[32m[I 2021-06-25 14:02:41,628]\u001b[0m Trial 838 finished with value: -0.006318229404570952 and parameters: {'kernel': 'poly', 'C': 0.1332103653238309, 'gamma': 0.02331122385436292, 'epsilon': 0.0017311544108914493}. Best is trial 156 with value: -0.0056736269798483355.\u001b[0m\n",
      "\u001b[32m[I 2021-06-25 14:02:42,011]\u001b[0m Trial 839 finished with value: -0.0057252529499735375 and parameters: {'kernel': 'rbf', 'C': 0.08565450135812352, 'gamma': 0.029094219311067746, 'epsilon': 0.0021587165913080734}. Best is trial 156 with value: -0.0056736269798483355.\u001b[0m\n",
      "\u001b[32m[I 2021-06-25 14:02:42,048]\u001b[0m Trial 840 finished with value: -0.04522358590646345 and parameters: {'kernel': 'rbf', 'C': 0.1559850362024577, 'gamma': 0.03913336389812417, 'epsilon': 0.08464870388951849}. Best is trial 156 with value: -0.0056736269798483355.\u001b[0m\n",
      "\u001b[32m[I 2021-06-25 14:02:42,721]\u001b[0m Trial 841 finished with value: -0.005733257026741312 and parameters: {'kernel': 'rbf', 'C': 0.11507785663738895, 'gamma': 0.018375369951242497, 'epsilon': 0.0012424729932310047}. Best is trial 156 with value: -0.0056736269798483355.\u001b[0m\n",
      "\u001b[32m[I 2021-06-25 14:02:43,266]\u001b[0m Trial 842 finished with value: -0.0058081946038048725 and parameters: {'kernel': 'rbf', 'C': 0.1922515843547771, 'gamma': 0.033532528493224696, 'epsilon': 0.0015233010826864284}. Best is trial 156 with value: -0.0056736269798483355.\u001b[0m\n",
      "\u001b[32m[I 2021-06-25 14:02:43,677]\u001b[0m Trial 843 finished with value: -0.005689180464956736 and parameters: {'kernel': 'rbf', 'C': 0.14165337588886023, 'gamma': 0.025192308619993137, 'epsilon': 0.0018234353641152254}. Best is trial 156 with value: -0.0056736269798483355.\u001b[0m\n",
      "\u001b[32m[I 2021-06-25 14:02:44,256]\u001b[0m Trial 844 finished with value: -0.0056868391993759185 and parameters: {'kernel': 'rbf', 'C': 0.1710707947656193, 'gamma': 0.02240347513868856, 'epsilon': 0.0011174319092768638}. Best is trial 156 with value: -0.0056736269798483355.\u001b[0m\n",
      "\u001b[32m[I 2021-06-25 14:02:44,791]\u001b[0m Trial 845 finished with value: -0.005696572702176124 and parameters: {'kernel': 'rbf', 'C': 0.12846128578160043, 'gamma': 0.02733661875502424, 'epsilon': 0.0013695065048675882}. Best is trial 156 with value: -0.0056736269798483355.\u001b[0m\n",
      "\u001b[32m[I 2021-06-25 14:02:45,591]\u001b[0m Trial 846 finished with value: -0.005708141937027403 and parameters: {'kernel': 'rbf', 'C': 0.2038969469719908, 'gamma': 0.02003396771547458, 'epsilon': 0.0010040610792357591}. Best is trial 156 with value: -0.0056736269798483355.\u001b[0m\n",
      "\u001b[32m[I 2021-06-25 14:02:46,124]\u001b[0m Trial 847 finished with value: -0.005686600538496723 and parameters: {'kernel': 'rbf', 'C': 0.15497239860659243, 'gamma': 0.023522907629501776, 'epsilon': 0.0016070480845634357}. Best is trial 156 with value: -0.0056736269798483355.\u001b[0m\n",
      "\u001b[32m[I 2021-06-25 14:02:46,780]\u001b[0m Trial 848 finished with value: -0.005838949213805441 and parameters: {'kernel': 'rbf', 'C': 0.255204116041086, 'gamma': 0.030201830043895667, 'epsilon': 0.0012792446902767675}. Best is trial 156 with value: -0.0056736269798483355.\u001b[0m\n",
      "\u001b[32m[I 2021-06-25 14:02:47,488]\u001b[0m Trial 849 finished with value: -0.005749738386888359 and parameters: {'kernel': 'rbf', 'C': 0.4183992919784362, 'gamma': 0.017435493818000292, 'epsilon': 0.001449103690595278}. Best is trial 156 with value: -0.0056736269798483355.\u001b[0m\n",
      "\u001b[32m[I 2021-06-25 14:02:47,980]\u001b[0m Trial 850 finished with value: -0.005702669236464206 and parameters: {'kernel': 'rbf', 'C': 0.1723848013118509, 'gamma': 0.021546448734099184, 'epsilon': 0.0018148271228646676}. Best is trial 156 with value: -0.0056736269798483355.\u001b[0m\n",
      "\u001b[32m[I 2021-06-25 14:02:48,597]\u001b[0m Trial 851 finished with value: -0.005699349721805522 and parameters: {'kernel': 'rbf', 'C': 0.11688250770839852, 'gamma': 0.024569985163399817, 'epsilon': 0.0011351761804184982}. Best is trial 156 with value: -0.0056736269798483355.\u001b[0m\n",
      "\u001b[32m[I 2021-06-25 14:02:48,913]\u001b[0m Trial 852 finished with value: -0.005752516100373942 and parameters: {'kernel': 'rbf', 'C': 0.14155301951112698, 'gamma': 0.02722506497495405, 'epsilon': 0.002948866089770322}. Best is trial 156 with value: -0.0056736269798483355.\u001b[0m\n",
      "\u001b[32m[I 2021-06-25 14:02:49,287]\u001b[0m Trial 853 finished with value: -0.005725998633474591 and parameters: {'kernel': 'rbf', 'C': 0.09607625405464303, 'gamma': 0.03460071248008211, 'epsilon': 0.0021107156495737494}. Best is trial 156 with value: -0.0056736269798483355.\u001b[0m\n",
      "\u001b[32m[I 2021-06-25 14:02:49,778]\u001b[0m Trial 854 finished with value: -0.005700552148814479 and parameters: {'kernel': 'rbf', 'C': 0.18280937196651473, 'gamma': 0.019887993541312737, 'epsilon': 0.0015942033287296424}. Best is trial 156 with value: -0.0056736269798483355.\u001b[0m\n",
      "\u001b[32m[I 2021-06-25 14:02:50,369]\u001b[0m Trial 855 finished with value: -0.005748115524459807 and parameters: {'kernel': 'rbf', 'C': 0.15509876438298256, 'gamma': 0.015220768596015134, 'epsilon': 0.001304832790792636}. Best is trial 156 with value: -0.0056736269798483355.\u001b[0m\n",
      "\u001b[32m[I 2021-06-25 14:02:50,934]\u001b[0m Trial 856 finished with value: -0.005687999933773256 and parameters: {'kernel': 'rbf', 'C': 0.127012031046555, 'gamma': 0.02460414837511367, 'epsilon': 0.001452222950433583}. Best is trial 156 with value: -0.0056736269798483355.\u001b[0m\n",
      "\u001b[32m[I 2021-06-25 14:02:51,414]\u001b[0m Trial 857 finished with value: -0.005841312212761313 and parameters: {'kernel': 'rbf', 'C': 0.21750286081432613, 'gamma': 0.0053783568808607575, 'epsilon': 0.0017313038564648988}. Best is trial 156 with value: -0.0056736269798483355.\u001b[0m\n"
     ]
    },
    {
     "name": "stderr",
     "output_type": "stream",
     "text": [
      "\u001b[32m[I 2021-06-25 14:02:52,029]\u001b[0m Trial 858 finished with value: -0.005730271997183198 and parameters: {'kernel': 'rbf', 'C': 0.14112898662456255, 'gamma': 0.029500814264376563, 'epsilon': 0.001000364036983063}. Best is trial 156 with value: -0.0056736269798483355.\u001b[0m\n",
      "\u001b[32m[I 2021-06-25 14:02:52,634]\u001b[0m Trial 859 finished with value: -0.0059216775850813195 and parameters: {'kernel': 'rbf', 'C': 0.10862647749249776, 'gamma': 0.05919208052470783, 'epsilon': 0.0011704066162847378}. Best is trial 156 with value: -0.0056736269798483355.\u001b[0m\n",
      "\u001b[32m[I 2021-06-25 14:02:52,985]\u001b[0m Trial 860 finished with value: -0.005732864609104798 and parameters: {'kernel': 'rbf', 'C': 0.17405981328295425, 'gamma': 0.022050768209463684, 'epsilon': 0.0024996148195083473}. Best is trial 156 with value: -0.0056736269798483355.\u001b[0m\n",
      "\u001b[32m[I 2021-06-25 14:02:53,518]\u001b[0m Trial 861 finished with value: -0.005685381475943861 and parameters: {'kernel': 'rbf', 'C': 0.1547376559080751, 'gamma': 0.02632255043781343, 'epsilon': 0.0014778815002727049}. Best is trial 156 with value: -0.0056736269798483355.\u001b[0m\n",
      "\u001b[32m[I 2021-06-25 14:02:53,937]\u001b[0m Trial 862 finished with value: -0.006338586630142598 and parameters: {'kernel': 'poly', 'C': 0.1325263067793596, 'gamma': 0.018302175019301807, 'epsilon': 0.0019706198288478765}. Best is trial 156 with value: -0.0056736269798483355.\u001b[0m\n",
      "\u001b[32m[I 2021-06-25 14:02:54,646]\u001b[0m Trial 863 finished with value: -0.005697917423139305 and parameters: {'kernel': 'rbf', 'C': 0.20509875377791562, 'gamma': 0.021932134189802423, 'epsilon': 0.0012869971981120613}. Best is trial 156 with value: -0.0056736269798483355.\u001b[0m\n",
      "\u001b[32m[I 2021-06-25 14:02:55,166]\u001b[0m Trial 864 finished with value: -0.005745273246424594 and parameters: {'kernel': 'rbf', 'C': 0.1681665851230396, 'gamma': 0.031544949235607814, 'epsilon': 0.001663057422941654}. Best is trial 156 with value: -0.0056736269798483355.\u001b[0m\n",
      "\u001b[32m[I 2021-06-25 14:02:55,690]\u001b[0m Trial 865 finished with value: -0.005692566885373308 and parameters: {'kernel': 'rbf', 'C': 0.11811594723878004, 'gamma': 0.024918049316363624, 'epsilon': 0.0014099904360512707}. Best is trial 156 with value: -0.0056736269798483355.\u001b[0m\n",
      "\u001b[32m[I 2021-06-25 14:02:56,261]\u001b[0m Trial 866 finished with value: -0.007596543470199933 and parameters: {'kernel': 'rbf', 'C': 0.1935159996446603, 'gamma': 0.7139355951237801, 'epsilon': 0.0011618402953431485}. Best is trial 156 with value: -0.0056736269798483355.\u001b[0m\n",
      "\u001b[32m[I 2021-06-25 14:02:56,797]\u001b[0m Trial 867 finished with value: -0.005773817238143302 and parameters: {'kernel': 'rbf', 'C': 0.14442469507553574, 'gamma': 0.037046145153473875, 'epsilon': 0.001619923859744988}. Best is trial 156 with value: -0.0056736269798483355.\u001b[0m\n",
      "\u001b[32m[I 2021-06-25 14:02:57,188]\u001b[0m Trial 868 finished with value: -0.005737204652227572 and parameters: {'kernel': 'rbf', 'C': 0.10063552821245209, 'gamma': 0.020839130233390957, 'epsilon': 0.0019252792700081864}. Best is trial 156 with value: -0.0056736269798483355.\u001b[0m\n",
      "\u001b[32m[I 2021-06-25 14:02:57,708]\u001b[0m Trial 869 finished with value: -0.005692331206187403 and parameters: {'kernel': 'rbf', 'C': 0.12621827421106224, 'gamma': 0.02822378622482697, 'epsilon': 0.0012718468098545169}. Best is trial 156 with value: -0.0056736269798483355.\u001b[0m\n",
      "\u001b[32m[I 2021-06-25 14:02:58,219]\u001b[0m Trial 870 finished with value: -0.005706854136240087 and parameters: {'kernel': 'rbf', 'C': 0.16845669527650622, 'gamma': 0.01850710815613619, 'epsilon': 0.00143738533430151}. Best is trial 156 with value: -0.0056736269798483355.\u001b[0m\n",
      "\u001b[32m[I 2021-06-25 14:02:58,806]\u001b[0m Trial 871 finished with value: -0.005682831160466834 and parameters: {'kernel': 'rbf', 'C': 0.14690313535633373, 'gamma': 0.023885269635446855, 'epsilon': 0.0011442811259254543}. Best is trial 156 with value: -0.0056736269798483355.\u001b[0m\n",
      "\u001b[32m[I 2021-06-25 14:02:59,324]\u001b[0m Trial 872 finished with value: -0.00579492991986106 and parameters: {'kernel': 'rbf', 'C': 0.2448220916295346, 'gamma': 0.027973871154013816, 'epsilon': 0.001754926842670157}. Best is trial 156 with value: -0.0056736269798483355.\u001b[0m\n",
      "\u001b[32m[I 2021-06-25 14:02:59,445]\u001b[0m Trial 873 finished with value: -0.008473740675573755 and parameters: {'kernel': 'rbf', 'C': 0.1893239655609535, 'gamma': 0.03304699465582968, 'epsilon': 0.01223314026236054}. Best is trial 156 with value: -0.0056736269798483355.\u001b[0m\n",
      "\u001b[32m[I 2021-06-25 14:02:59,788]\u001b[0m Trial 874 finished with value: -0.005728870851028744 and parameters: {'kernel': 'rbf', 'C': 0.11228908798968287, 'gamma': 0.020969940407874855, 'epsilon': 0.002182955793127195}. Best is trial 156 with value: -0.0056736269798483355.\u001b[0m\n",
      "\u001b[32m[I 2021-06-25 14:03:00,003]\u001b[0m Trial 875 finished with value: -0.005978423413445258 and parameters: {'kernel': 'rbf', 'C': 0.1588501169083143, 'gamma': 0.016323209745485602, 'epsilon': 0.004757780918687674}. Best is trial 156 with value: -0.0056736269798483355.\u001b[0m\n",
      "\u001b[32m[I 2021-06-25 14:03:00,497]\u001b[0m Trial 876 finished with value: -0.00569089491250558 and parameters: {'kernel': 'rbf', 'C': 0.13208060484022027, 'gamma': 0.025874453692808132, 'epsilon': 0.0015096634642004238}. Best is trial 156 with value: -0.0056736269798483355.\u001b[0m\n",
      "\u001b[32m[I 2021-06-25 14:03:01,263]\u001b[0m Trial 877 finished with value: -0.005897440351208251 and parameters: {'kernel': 'rbf', 'C': 0.20645343846216177, 'gamma': 0.043108339010197706, 'epsilon': 0.001001635147330383}. Best is trial 156 with value: -0.0056736269798483355.\u001b[0m\n",
      "\u001b[32m[I 2021-06-25 14:03:01,920]\u001b[0m Trial 878 finished with value: -0.005691130182124606 and parameters: {'kernel': 'rbf', 'C': 0.17769664406115962, 'gamma': 0.02139128651769452, 'epsilon': 0.001303609562994655}. Best is trial 156 with value: -0.0056736269798483355.\u001b[0m\n",
      "\u001b[32m[I 2021-06-25 14:03:01,971]\u001b[0m Trial 879 finished with value: -0.04522358590646345 and parameters: {'kernel': 'rbf', 'C': 0.14635404163841692, 'gamma': 0.024064424699809493, 'epsilon': 0.38674751746377783}. Best is trial 156 with value: -0.0056736269798483355.\u001b[0m\n",
      "\u001b[32m[I 2021-06-25 14:03:02,468]\u001b[0m Trial 880 finished with value: -0.0056992069820516284 and parameters: {'kernel': 'rbf', 'C': 0.12380343406328623, 'gamma': 0.031090700268140134, 'epsilon': 0.0016462551560724042}. Best is trial 156 with value: -0.0056736269798483355.\u001b[0m\n",
      "\u001b[32m[I 2021-06-25 14:03:02,987]\u001b[0m Trial 881 finished with value: -0.005694736903828143 and parameters: {'kernel': 'rbf', 'C': 0.1643435749129643, 'gamma': 0.019326596271580877, 'epsilon': 0.0013805088758473089}. Best is trial 156 with value: -0.0056736269798483355.\u001b[0m\n",
      "\u001b[32m[I 2021-06-25 14:03:03,710]\u001b[0m Trial 882 finished with value: -0.005808403586625301 and parameters: {'kernel': 'rbf', 'C': 0.23147476144781054, 'gamma': 0.02738821232843503, 'epsilon': 0.0010052687885049444}. Best is trial 156 with value: -0.0056736269798483355.\u001b[0m\n",
      "\u001b[32m[I 2021-06-25 14:03:04,352]\u001b[0m Trial 883 finished with value: -0.005702841208600898 and parameters: {'kernel': 'rbf', 'C': 0.14052332365728118, 'gamma': 0.023045635781147114, 'epsilon': 0.0011446655468443686}. Best is trial 156 with value: -0.0056736269798483355.\u001b[0m\n",
      "\u001b[32m[I 2021-06-25 14:03:04,730]\u001b[0m Trial 884 finished with value: -0.005713076463997485 and parameters: {'kernel': 'rbf', 'C': 0.09708522968546442, 'gamma': 0.03419006052756777, 'epsilon': 0.0018515831137597325}. Best is trial 156 with value: -0.0056736269798483355.\u001b[0m\n",
      "\u001b[32m[I 2021-06-25 14:03:05,274]\u001b[0m Trial 885 finished with value: -0.005706390746399749 and parameters: {'kernel': 'rbf', 'C': 0.18615381094705846, 'gamma': 0.01660470601012443, 'epsilon': 0.0015200558476926268}. Best is trial 156 with value: -0.0056736269798483355.\u001b[0m\n",
      "\u001b[32m[I 2021-06-25 14:03:05,816]\u001b[0m Trial 886 finished with value: -0.005692896930913345 and parameters: {'kernel': 'rbf', 'C': 0.11500113221694923, 'gamma': 0.026736885488139708, 'epsilon': 0.001285840390427152}. Best is trial 156 with value: -0.0056736269798483355.\u001b[0m\n",
      "\u001b[32m[I 2021-06-25 14:03:05,881]\u001b[0m Trial 887 finished with value: -0.02281305103591204 and parameters: {'kernel': 'rbf', 'C': 0.15705693736617068, 'gamma': 0.01951117821203886, 'epsilon': 0.0296231912376195}. Best is trial 156 with value: -0.0056736269798483355.\u001b[0m\n",
      "\u001b[32m[I 2021-06-25 14:03:06,408]\u001b[0m Trial 888 finished with value: -0.005690336993815937 and parameters: {'kernel': 'rbf', 'C': 0.1368824822201623, 'gamma': 0.02293592586754398, 'epsilon': 0.0016329241111346265}. Best is trial 156 with value: -0.0056736269798483355.\u001b[0m\n"
     ]
    },
    {
     "name": "stderr",
     "output_type": "stream",
     "text": [
      "\u001b[32m[I 2021-06-25 14:03:07,205]\u001b[0m Trial 889 finished with value: -0.005799548199912509 and parameters: {'kernel': 'rbf', 'C': 0.21096058871881193, 'gamma': 0.029784031224940753, 'epsilon': 0.0012378197962454305}. Best is trial 156 with value: -0.0056736269798483355.\u001b[0m\n",
      "\u001b[32m[I 2021-06-25 14:03:07,779]\u001b[0m Trial 890 finished with value: -0.006359392137249777 and parameters: {'kernel': 'poly', 'C': 0.1693561119455023, 'gamma': 0.024603994359353322, 'epsilon': 0.00199461882680855}. Best is trial 156 with value: -0.0056736269798483355.\u001b[0m\n",
      "\u001b[32m[I 2021-06-25 14:03:08,177]\u001b[0m Trial 891 finished with value: -0.005760458298355072 and parameters: {'kernel': 'rbf', 'C': 0.08727413582754888, 'gamma': 0.01416727082339427, 'epsilon': 0.0014464934924173108}. Best is trial 156 with value: -0.0056736269798483355.\u001b[0m\n",
      "\u001b[32m[I 2021-06-25 14:03:08,713]\u001b[0m Trial 892 finished with value: -0.005723644641703696 and parameters: {'kernel': 'rbf', 'C': 0.12767947606663066, 'gamma': 0.017922585219577826, 'epsilon': 0.0011111943383325896}. Best is trial 156 with value: -0.0056736269798483355.\u001b[0m\n",
      "\u001b[32m[I 2021-06-25 14:03:09,153]\u001b[0m Trial 893 finished with value: -0.005707357444457534 and parameters: {'kernel': 'rbf', 'C': 0.1535281688704808, 'gamma': 0.02151610095948952, 'epsilon': 0.0017721383880006814}. Best is trial 156 with value: -0.0056736269798483355.\u001b[0m\n",
      "\u001b[32m[I 2021-06-25 14:03:11,638]\u001b[0m Trial 894 finished with value: -0.006413131050229275 and parameters: {'kernel': 'rbf', 'C': 4.0787894006959124, 'gamma': 0.028189666238311567, 'epsilon': 0.0013886220736622848}. Best is trial 156 with value: -0.0056736269798483355.\u001b[0m\n",
      "\u001b[32m[I 2021-06-25 14:03:12,000]\u001b[0m Trial 895 finished with value: -0.005715130482407328 and parameters: {'kernel': 'rbf', 'C': 0.06938063135099133, 'gamma': 0.023851170262791578, 'epsilon': 0.0015795544111854116}. Best is trial 156 with value: -0.0056736269798483355.\u001b[0m\n",
      "\u001b[32m[I 2021-06-25 14:03:12,310]\u001b[0m Trial 896 finished with value: -0.005878492106609273 and parameters: {'kernel': 'rbf', 'C': 0.18702629349678543, 'gamma': 0.003147016611311114, 'epsilon': 0.0023400537295023434}. Best is trial 156 with value: -0.0056736269798483355.\u001b[0m\n",
      "\u001b[32m[I 2021-06-25 14:03:12,828]\u001b[0m Trial 897 finished with value: -0.005756945675763076 and parameters: {'kernel': 'rbf', 'C': 0.10900689714536912, 'gamma': 0.037953094658712515, 'epsilon': 0.0012447146350456773}. Best is trial 156 with value: -0.0056736269798483355.\u001b[0m\n",
      "\u001b[32m[I 2021-06-25 14:03:13,318]\u001b[0m Trial 898 finished with value: -0.005713710495356214 and parameters: {'kernel': 'rbf', 'C': 0.1421859816418223, 'gamma': 0.03167193922029174, 'epsilon': 0.001895150304048477}. Best is trial 156 with value: -0.0056736269798483355.\u001b[0m\n",
      "\u001b[32m[I 2021-06-25 14:03:14,028]\u001b[0m Trial 899 finished with value: -0.0057359344710196875 and parameters: {'kernel': 'rbf', 'C': 0.32758077170742567, 'gamma': 0.01997029936282499, 'epsilon': 0.001422899016083635}. Best is trial 156 with value: -0.0056736269798483355.\u001b[0m\n",
      "\u001b[32m[I 2021-06-25 14:03:14,727]\u001b[0m Trial 900 finished with value: -0.005710623784204248 and parameters: {'kernel': 'rbf', 'C': 0.1662742381771405, 'gamma': 0.027149933331371025, 'epsilon': 0.0011171916540169483}. Best is trial 156 with value: -0.0056736269798483355.\u001b[0m\n",
      "\u001b[32m[I 2021-06-25 14:03:15,525]\u001b[0m Trial 901 finished with value: -0.005733880679264495 and parameters: {'kernel': 'rbf', 'C': 0.2744955035680298, 'gamma': 0.022804993022026036, 'epsilon': 0.0015522322620864816}. Best is trial 156 with value: -0.0056736269798483355.\u001b[0m\n",
      "\u001b[32m[I 2021-06-25 14:03:16,029]\u001b[0m Trial 902 finished with value: -0.00570659890275622 and parameters: {'kernel': 'rbf', 'C': 0.08039536785245266, 'gamma': 0.025694807425681948, 'epsilon': 0.0012827132428773818}. Best is trial 156 with value: -0.0056736269798483355.\u001b[0m\n",
      "\u001b[32m[I 2021-06-25 14:03:16,759]\u001b[0m Trial 903 finished with value: -0.005743046402968885 and parameters: {'kernel': 'rbf', 'C': 0.12416208581011619, 'gamma': 0.01781901979812777, 'epsilon': 0.0010071326205554063}. Best is trial 156 with value: -0.0056736269798483355.\u001b[0m\n",
      "\u001b[32m[I 2021-06-25 14:03:17,358]\u001b[0m Trial 904 finished with value: -0.005709256755138714 and parameters: {'kernel': 'rbf', 'C': 0.22280374647871884, 'gamma': 0.02101578110948003, 'epsilon': 0.0017099344561464867}. Best is trial 156 with value: -0.0056736269798483355.\u001b[0m\n",
      "\u001b[32m[I 2021-06-25 14:03:17,820]\u001b[0m Trial 905 finished with value: -0.005772753480929379 and parameters: {'kernel': 'rbf', 'C': 0.19130263303885, 'gamma': 0.03110556181356456, 'epsilon': 0.0021350538975609397}. Best is trial 156 with value: -0.0056736269798483355.\u001b[0m\n",
      "\u001b[32m[I 2021-06-25 14:03:18,430]\u001b[0m Trial 906 finished with value: -0.0056874913736040325 and parameters: {'kernel': 'rbf', 'C': 0.14889895324854419, 'gamma': 0.023999962142136046, 'epsilon': 0.001397510520993211}. Best is trial 156 with value: -0.0056736269798483355.\u001b[0m\n",
      "\u001b[32m[I 2021-06-25 14:03:19,137]\u001b[0m Trial 907 finished with value: -0.00570332502222692 and parameters: {'kernel': 'rbf', 'C': 0.13097848161812495, 'gamma': 0.028037337391900844, 'epsilon': 0.0011352991026769208}. Best is trial 156 with value: -0.0056736269798483355.\u001b[0m\n",
      "\u001b[32m[I 2021-06-25 14:03:19,597]\u001b[0m Trial 908 finished with value: -0.005725313164838191 and parameters: {'kernel': 'rbf', 'C': 0.1030628244875219, 'gamma': 0.035415691695977386, 'epsilon': 0.0016117292999743027}. Best is trial 156 with value: -0.0056736269798483355.\u001b[0m\n",
      "\u001b[32m[I 2021-06-25 14:03:20,099]\u001b[0m Trial 909 finished with value: -0.005854209782149782 and parameters: {'kernel': 'rbf', 'C': 0.17347300857181241, 'gamma': 0.007693592553382198, 'epsilon': 0.0018330029452500998}. Best is trial 156 with value: -0.0056736269798483355.\u001b[0m\n",
      "\u001b[32m[I 2021-06-25 14:03:20,736]\u001b[0m Trial 910 finished with value: -0.005696773566338447 and parameters: {'kernel': 'rbf', 'C': 0.153123137154057, 'gamma': 0.020162003091474676, 'epsilon': 0.0012883493904676737}. Best is trial 156 with value: -0.0056736269798483355.\u001b[0m\n",
      "\u001b[32m[I 2021-06-25 14:03:21,305]\u001b[0m Trial 911 finished with value: -0.00569382725746178 and parameters: {'kernel': 'rbf', 'C': 0.11258612856755587, 'gamma': 0.02525508109603844, 'epsilon': 0.0014636735441559503}. Best is trial 156 with value: -0.0056736269798483355.\u001b[0m\n",
      "\u001b[32m[I 2021-06-25 14:03:21,724]\u001b[0m Trial 912 finished with value: -0.005796751991458617 and parameters: {'kernel': 'rbf', 'C': 0.05428488023453581, 'gamma': 0.0174687830540807, 'epsilon': 0.001691448582576568}. Best is trial 156 with value: -0.0056736269798483355.\u001b[0m\n",
      "\u001b[32m[I 2021-06-25 14:03:22,245]\u001b[0m Trial 913 finished with value: -0.006198025201321418 and parameters: {'kernel': 'rbf', 'C': 0.20685974716419678, 'gamma': 0.0015172006696506232, 'epsilon': 0.00122150758137849}. Best is trial 156 with value: -0.0056736269798483355.\u001b[0m\n",
      "\u001b[32m[I 2021-06-25 14:03:22,779]\u001b[0m Trial 914 finished with value: -0.005677550413337752 and parameters: {'kernel': 'rbf', 'C': 0.13756832894368468, 'gamma': 0.023054060474522634, 'epsilon': 0.0014073299806943676}. Best is trial 156 with value: -0.0056736269798483355.\u001b[0m\n",
      "\u001b[32m[I 2021-06-25 14:03:23,137]\u001b[0m Trial 915 finished with value: -0.005705541106959685 and parameters: {'kernel': 'rbf', 'C': 0.12554060101751424, 'gamma': 0.03010327605391905, 'epsilon': 0.002005897602133013}. Best is trial 156 with value: -0.0056736269798483355.\u001b[0m\n",
      "\u001b[32m[I 2021-06-25 14:03:23,733]\u001b[0m Trial 916 finished with value: -0.00569263801831026 and parameters: {'kernel': 'rbf', 'C': 0.174347819172955, 'gamma': 0.021119960225843053, 'epsilon': 0.001515390839111089}. Best is trial 156 with value: -0.0056736269798483355.\u001b[0m\n",
      "\u001b[32m[I 2021-06-25 14:03:24,165]\u001b[0m Trial 917 finished with value: -0.005716674351340518 and parameters: {'kernel': 'rbf', 'C': 0.14860978509298392, 'gamma': 0.02567989031049933, 'epsilon': 0.002549642097261608}. Best is trial 156 with value: -0.0056736269798483355.\u001b[0m\n",
      "\u001b[32m[I 2021-06-25 14:03:24,224]\u001b[0m Trial 918 finished with value: -0.039319066525165834 and parameters: {'kernel': 'rbf', 'C': 0.13341532077960855, 'gamma': 0.02300546128169159, 'epsilon': 0.04357328606262273}. Best is trial 156 with value: -0.0056736269798483355.\u001b[0m\n",
      "\u001b[32m[I 2021-06-25 14:03:24,935]\u001b[0m Trial 919 finished with value: -0.0058370449076479295 and parameters: {'kernel': 'rbf', 'C': 0.24301467031464505, 'gamma': 0.0338114184754931, 'epsilon': 0.0017796029568238414}. Best is trial 156 with value: -0.0056736269798483355.\u001b[0m\n"
     ]
    },
    {
     "name": "stderr",
     "output_type": "stream",
     "text": [
      "\u001b[32m[I 2021-06-25 14:03:25,918]\u001b[0m Trial 920 finished with value: -0.006365676556649969 and parameters: {'kernel': 'poly', 'C': 0.18923587906947667, 'gamma': 0.02808917332462654, 'epsilon': 0.0014895551673303733}. Best is trial 156 with value: -0.0056736269798483355.\u001b[0m\n",
      "\u001b[32m[I 2021-06-25 14:03:26,540]\u001b[0m Trial 921 finished with value: -0.005729669925976506 and parameters: {'kernel': 'rbf', 'C': 0.16110992881669486, 'gamma': 0.016574881614393827, 'epsilon': 0.0013698403376348526}. Best is trial 156 with value: -0.0056736269798483355.\u001b[0m\n",
      "\u001b[32m[I 2021-06-25 14:03:26,914]\u001b[0m Trial 922 finished with value: -0.005755542234253252 and parameters: {'kernel': 'rbf', 'C': 0.11269843641531528, 'gamma': 0.01910268854055101, 'epsilon': 0.002195900537299417}. Best is trial 156 with value: -0.0056736269798483355.\u001b[0m\n",
      "\u001b[32m[I 2021-06-25 14:03:27,511]\u001b[0m Trial 923 finished with value: -0.005693517203433122 and parameters: {'kernel': 'rbf', 'C': 0.13762161772148454, 'gamma': 0.02231972741763087, 'epsilon': 0.0017208440400369807}. Best is trial 156 with value: -0.0056736269798483355.\u001b[0m\n",
      "\u001b[32m[I 2021-06-25 14:03:28,120]\u001b[0m Trial 924 finished with value: -0.005716426604584976 and parameters: {'kernel': 'rbf', 'C': 0.09795436433130378, 'gamma': 0.025513940545772974, 'epsilon': 0.0010040432599897119}. Best is trial 156 with value: -0.0056736269798483355.\u001b[0m\n",
      "\u001b[32m[I 2021-06-25 14:03:28,777]\u001b[0m Trial 925 finished with value: -0.005741863240960688 and parameters: {'kernel': 'rbf', 'C': 0.1674376803553242, 'gamma': 0.029176780288506347, 'epsilon': 0.0011432718159941511}. Best is trial 156 with value: -0.0056736269798483355.\u001b[0m\n",
      "\u001b[32m[I 2021-06-25 14:03:29,210]\u001b[0m Trial 926 finished with value: -0.005718633175104082 and parameters: {'kernel': 'rbf', 'C': 0.20381608672641116, 'gamma': 0.02022090755364715, 'epsilon': 0.0019522144885890747}. Best is trial 156 with value: -0.0056736269798483355.\u001b[0m\n",
      "\u001b[32m[I 2021-06-25 14:03:29,762]\u001b[0m Trial 927 finished with value: -0.005691457156443923 and parameters: {'kernel': 'rbf', 'C': 0.12258763239902414, 'gamma': 0.02307836128905368, 'epsilon': 0.0013518775820872543}. Best is trial 156 with value: -0.0056736269798483355.\u001b[0m\n",
      "\u001b[32m[I 2021-06-25 14:03:30,250]\u001b[0m Trial 928 finished with value: -0.005823918270476868 and parameters: {'kernel': 'rbf', 'C': 0.15020715155584127, 'gamma': 0.040546169045802556, 'epsilon': 0.0015360252246500307}. Best is trial 156 with value: -0.0056736269798483355.\u001b[0m\n",
      "\u001b[32m[I 2021-06-25 14:03:30,831]\u001b[0m Trial 929 finished with value: -0.005733541563989906 and parameters: {'kernel': 'rbf', 'C': 0.1820333819907916, 'gamma': 0.015378059913151535, 'epsilon': 0.0016379589408180286}. Best is trial 156 with value: -0.0056736269798483355.\u001b[0m\n",
      "\u001b[32m[I 2021-06-25 14:03:31,379]\u001b[0m Trial 930 finished with value: -0.005742327737965053 and parameters: {'kernel': 'rbf', 'C': 0.15220717589530727, 'gamma': 0.03164159315737831, 'epsilon': 0.0012501648998303235}. Best is trial 156 with value: -0.0056736269798483355.\u001b[0m\n",
      "\u001b[32m[I 2021-06-25 14:03:31,952]\u001b[0m Trial 931 finished with value: -0.00568161543451997 and parameters: {'kernel': 'rbf', 'C': 0.1321459344651006, 'gamma': 0.026239275578186574, 'epsilon': 0.0013954407623374284}. Best is trial 156 with value: -0.0056736269798483355.\u001b[0m\n",
      "\u001b[32m[I 2021-06-25 14:03:32,590]\u001b[0m Trial 932 finished with value: -0.005731583324023566 and parameters: {'kernel': 'rbf', 'C': 0.09572662653251392, 'gamma': 0.03428090144530587, 'epsilon': 0.0011062787982185278}. Best is trial 156 with value: -0.0056736269798483355.\u001b[0m\n",
      "\u001b[32m[I 2021-06-25 14:03:33,028]\u001b[0m Trial 933 finished with value: -0.005700562555443965 and parameters: {'kernel': 'rbf', 'C': 0.11099109925647403, 'gamma': 0.026841227302777583, 'epsilon': 0.0018285843279190704}. Best is trial 156 with value: -0.0056736269798483355.\u001b[0m\n",
      "\u001b[32m[I 2021-06-25 14:03:33,622]\u001b[0m Trial 934 finished with value: -0.00571995995061124 and parameters: {'kernel': 'rbf', 'C': 0.11968471662476118, 'gamma': 0.031069798732050517, 'epsilon': 0.0013394573166237013}. Best is trial 156 with value: -0.0056736269798483355.\u001b[0m\n",
      "\u001b[32m[I 2021-06-25 14:03:34,064]\u001b[0m Trial 935 finished with value: -0.00568759219759461 and parameters: {'kernel': 'rbf', 'C': 0.13090306560958015, 'gamma': 0.02626832742539682, 'epsilon': 0.0015766022255888372}. Best is trial 156 with value: -0.0056736269798483355.\u001b[0m\n",
      "\u001b[32m[I 2021-06-25 14:03:34,591]\u001b[0m Trial 936 finished with value: -0.005714831597916446 and parameters: {'kernel': 'rbf', 'C': 0.10834383095128028, 'gamma': 0.021416379074375956, 'epsilon': 0.0012354695349544053}. Best is trial 156 with value: -0.0056736269798483355.\u001b[0m\n",
      "\u001b[32m[I 2021-06-25 14:03:34,957]\u001b[0m Trial 937 finished with value: -0.005737233720094607 and parameters: {'kernel': 'rbf', 'C': 0.07875132289437643, 'gamma': 0.03714758997101873, 'epsilon': 0.0021057706196298356}. Best is trial 156 with value: -0.0056736269798483355.\u001b[0m\n",
      "\u001b[32m[I 2021-06-25 14:03:35,491]\u001b[0m Trial 938 finished with value: -0.0057031754567026015 and parameters: {'kernel': 'rbf', 'C': 0.13192577147854975, 'gamma': 0.02855523252498302, 'epsilon': 0.0014722821727161182}. Best is trial 156 with value: -0.0056736269798483355.\u001b[0m\n",
      "\u001b[32m[I 2021-06-25 14:03:35,860]\u001b[0m Trial 939 finished with value: -0.006422988168890587 and parameters: {'kernel': 'rbf', 'C': 0.01324262515773455, 'gamma': 0.05000400961004932, 'epsilon': 0.0010856294621158019}. Best is trial 156 with value: -0.0056736269798483355.\u001b[0m\n",
      "\u001b[32m[I 2021-06-25 14:03:38,947]\u001b[0m Trial 940 finished with value: -0.006257303447272365 and parameters: {'kernel': 'rbf', 'C': 2.741491414391531, 'gamma': 0.02398504432843444, 'epsilon': 0.0010066226813805073}. Best is trial 156 with value: -0.0056736269798483355.\u001b[0m\n",
      "\u001b[32m[I 2021-06-25 14:03:39,416]\u001b[0m Trial 941 finished with value: -0.005740233837102919 and parameters: {'kernel': 'rbf', 'C': 0.09233677564111065, 'gamma': 0.018119537870522697, 'epsilon': 0.0017169796512392164}. Best is trial 156 with value: -0.0056736269798483355.\u001b[0m\n",
      "\u001b[32m[I 2021-06-25 14:03:39,970]\u001b[0m Trial 942 finished with value: -0.005681437404969643 and parameters: {'kernel': 'rbf', 'C': 0.14036037254651063, 'gamma': 0.02561856464860134, 'epsilon': 0.0013243046686425759}. Best is trial 156 with value: -0.0056736269798483355.\u001b[0m\n",
      "\u001b[32m[I 2021-06-25 14:03:40,574]\u001b[0m Trial 943 finished with value: -0.0057101796852081915 and parameters: {'kernel': 'rbf', 'C': 0.11913672758517974, 'gamma': 0.029940913082212226, 'epsilon': 0.0012299822249009482}. Best is trial 156 with value: -0.0056736269798483355.\u001b[0m\n",
      "\u001b[32m[I 2021-06-25 14:03:41,209]\u001b[0m Trial 944 finished with value: -0.005715708798914393 and parameters: {'kernel': 'rbf', 'C': 0.1389952953036879, 'gamma': 0.026525395306416504, 'epsilon': 0.0010034211521807162}. Best is trial 156 with value: -0.0056736269798483355.\u001b[0m\n",
      "\u001b[32m[I 2021-06-25 14:03:41,724]\u001b[0m Trial 945 finished with value: -0.005722589918376773 and parameters: {'kernel': 'rbf', 'C': 0.10567299502173098, 'gamma': 0.03319443936485572, 'epsilon': 0.0013722354728478374}. Best is trial 156 with value: -0.0056736269798483355.\u001b[0m\n",
      "\u001b[32m[I 2021-06-25 14:03:42,339]\u001b[0m Trial 946 finished with value: -0.0063259982449549584 and parameters: {'kernel': 'poly', 'C': 0.13159022219455244, 'gamma': 0.021677359626464485, 'epsilon': 0.0015721717870899067}. Best is trial 156 with value: -0.0056736269798483355.\u001b[0m\n",
      "\u001b[32m[I 2021-06-25 14:03:42,943]\u001b[0m Trial 947 finished with value: -0.0056892972238663285 and parameters: {'kernel': 'rbf', 'C': 0.1171862920350766, 'gamma': 0.02490431675019395, 'epsilon': 0.0011824974319938812}. Best is trial 156 with value: -0.0056736269798483355.\u001b[0m\n",
      "\u001b[32m[I 2021-06-25 14:03:43,520]\u001b[0m Trial 948 finished with value: -0.005835535630141015 and parameters: {'kernel': 'rbf', 'C': 0.15130902405031066, 'gamma': 0.04176012687056637, 'epsilon': 0.0018958158653753227}. Best is trial 156 with value: -0.0056736269798483355.\u001b[0m\n",
      "\u001b[32m[I 2021-06-25 14:03:44,153]\u001b[0m Trial 949 finished with value: -0.0056976120815015975 and parameters: {'kernel': 'rbf', 'C': 0.14381171241557136, 'gamma': 0.01971931445537076, 'epsilon': 0.0013694218113474064}. Best is trial 156 with value: -0.0056736269798483355.\u001b[0m\n"
     ]
    },
    {
     "name": "stderr",
     "output_type": "stream",
     "text": [
      "\u001b[32m[I 2021-06-25 14:03:44,609]\u001b[0m Trial 950 finished with value: -0.005703746121717839 and parameters: {'kernel': 'rbf', 'C': 0.10476727751707693, 'gamma': 0.029156170260469502, 'epsilon': 0.001666701502443317}. Best is trial 156 with value: -0.0056736269798483355.\u001b[0m\n",
      "\u001b[32m[I 2021-06-25 14:03:45,240]\u001b[0m Trial 951 finished with value: -0.005690951524685493 and parameters: {'kernel': 'rbf', 'C': 0.16057706202793132, 'gamma': 0.02292110323748702, 'epsilon': 0.0012101383395495022}. Best is trial 156 with value: -0.0056736269798483355.\u001b[0m\n",
      "\u001b[32m[I 2021-06-25 14:03:45,808]\u001b[0m Trial 952 finished with value: -0.005764453512866409 and parameters: {'kernel': 'rbf', 'C': 0.13924426650892385, 'gamma': 0.03642636784692747, 'epsilon': 0.0014791014701785912}. Best is trial 156 with value: -0.0056736269798483355.\u001b[0m\n",
      "\u001b[32m[I 2021-06-25 14:03:46,489]\u001b[0m Trial 953 finished with value: -0.005694261395631873 and parameters: {'kernel': 'rbf', 'C': 0.12132314233747286, 'gamma': 0.02522466675797129, 'epsilon': 0.0011177416536901185}. Best is trial 156 with value: -0.0056736269798483355.\u001b[0m\n",
      "\u001b[32m[I 2021-06-25 14:03:46,868]\u001b[0m Trial 954 finished with value: -0.0057340192899418595 and parameters: {'kernel': 'rbf', 'C': 0.16838281872042749, 'gamma': 0.018991705052008548, 'epsilon': 0.0023630170496800646}. Best is trial 156 with value: -0.0056736269798483355.\u001b[0m\n",
      "\u001b[32m[I 2021-06-25 14:03:47,350]\u001b[0m Trial 955 finished with value: -0.0057120973472460845 and parameters: {'kernel': 'rbf', 'C': 0.0894076757182377, 'gamma': 0.027788065016185855, 'epsilon': 0.0018785711040825866}. Best is trial 156 with value: -0.0056736269798483355.\u001b[0m\n",
      "\u001b[32m[I 2021-06-25 14:03:47,899]\u001b[0m Trial 956 finished with value: -0.0057011249652808215 and parameters: {'kernel': 'rbf', 'C': 0.12722101889390947, 'gamma': 0.02127561746694866, 'epsilon': 0.0013553794529232834}. Best is trial 156 with value: -0.0056736269798483355.\u001b[0m\n",
      "\u001b[32m[I 2021-06-25 14:03:48,468]\u001b[0m Trial 957 finished with value: -0.005740090148242393 and parameters: {'kernel': 'rbf', 'C': 0.1580928121030586, 'gamma': 0.032449370459804464, 'epsilon': 0.0016426337565414182}. Best is trial 156 with value: -0.0056736269798483355.\u001b[0m\n",
      "\u001b[32m[I 2021-06-25 14:03:49,166]\u001b[0m Trial 958 finished with value: -0.005690847570982943 and parameters: {'kernel': 'rbf', 'C': 0.18756644047444365, 'gamma': 0.02273351431421185, 'epsilon': 0.001503111591163506}. Best is trial 156 with value: -0.0056736269798483355.\u001b[0m\n",
      "\u001b[32m[I 2021-06-25 14:03:49,876]\u001b[0m Trial 959 finished with value: -0.0057149510286816745 and parameters: {'kernel': 'rbf', 'C': 0.13916128836978045, 'gamma': 0.027525233668249955, 'epsilon': 0.0010061668020942115}. Best is trial 156 with value: -0.0056736269798483355.\u001b[0m\n",
      "\u001b[32m[I 2021-06-25 14:03:50,431]\u001b[0m Trial 960 finished with value: -0.005741683987285886 and parameters: {'kernel': 'rbf', 'C': 0.10396209121149327, 'gamma': 0.016013590512157092, 'epsilon': 0.0012608017719070062}. Best is trial 156 with value: -0.0056736269798483355.\u001b[0m\n",
      "\u001b[32m[I 2021-06-25 14:03:50,825]\u001b[0m Trial 961 finished with value: -0.005702198990540675 and parameters: {'kernel': 'rbf', 'C': 0.12097727598910316, 'gamma': 0.025245250859013416, 'epsilon': 0.0020515901051309593}. Best is trial 156 with value: -0.0056736269798483355.\u001b[0m\n",
      "\u001b[32m[I 2021-06-25 14:03:51,299]\u001b[0m Trial 962 finished with value: -0.005704771108882254 and parameters: {'kernel': 'rbf', 'C': 0.16094384608153714, 'gamma': 0.021432792097344805, 'epsilon': 0.0017227241263147216}. Best is trial 156 with value: -0.0056736269798483355.\u001b[0m\n",
      "\u001b[32m[I 2021-06-25 14:03:51,836]\u001b[0m Trial 963 finished with value: -0.005717088908474654 and parameters: {'kernel': 'rbf', 'C': 0.14361236072926564, 'gamma': 0.01874348292771842, 'epsilon': 0.0013980940958254122}. Best is trial 156 with value: -0.0056736269798483355.\u001b[0m\n",
      "\u001b[32m[I 2021-06-25 14:03:52,419]\u001b[0m Trial 964 finished with value: -0.005755909621307893 and parameters: {'kernel': 'rbf', 'C': 0.18233379265411476, 'gamma': 0.012665709536153973, 'epsilon': 0.001112933633480753}. Best is trial 156 with value: -0.0056736269798483355.\u001b[0m\n",
      "\u001b[32m[I 2021-06-25 14:03:53,192]\u001b[0m Trial 965 finished with value: -0.005825889617737608 and parameters: {'kernel': 'rbf', 'C': 0.2085278045539628, 'gamma': 0.030709368873904925, 'epsilon': 0.0010012396729694672}. Best is trial 156 with value: -0.0056736269798483355.\u001b[0m\n",
      "\u001b[32m[I 2021-06-25 14:03:53,728]\u001b[0m Trial 966 finished with value: -0.005690516994369075 and parameters: {'kernel': 'rbf', 'C': 0.1176451453172562, 'gamma': 0.02470473107483658, 'epsilon': 0.0015394530878685474}. Best is trial 156 with value: -0.0056736269798483355.\u001b[0m\n",
      "\u001b[32m[I 2021-06-25 14:03:54,354]\u001b[0m Trial 967 finished with value: -0.0057210870774444 and parameters: {'kernel': 'rbf', 'C': 0.16045430613708986, 'gamma': 0.028878074869834895, 'epsilon': 0.0012780806516968135}. Best is trial 156 with value: -0.0056736269798483355.\u001b[0m\n",
      "\u001b[32m[I 2021-06-25 14:03:54,809]\u001b[0m Trial 968 finished with value: -0.0057321434968418995 and parameters: {'kernel': 'rbf', 'C': 0.13605807789615423, 'gamma': 0.019562143850060377, 'epsilon': 0.001793796859534019}. Best is trial 156 with value: -0.0056736269798483355.\u001b[0m\n",
      "\u001b[32m[I 2021-06-25 14:03:55,386]\u001b[0m Trial 969 finished with value: -0.005803294083514457 and parameters: {'kernel': 'rbf', 'C': 0.17860113297697927, 'gamma': 0.03558971279704772, 'epsilon': 0.0015265957514158963}. Best is trial 156 with value: -0.0056736269798483355.\u001b[0m\n",
      "\u001b[32m[I 2021-06-25 14:03:55,967]\u001b[0m Trial 970 finished with value: -0.005690105204949628 and parameters: {'kernel': 'rbf', 'C': 0.10239299505390531, 'gamma': 0.023330343152539148, 'epsilon': 0.0012116382690573664}. Best is trial 156 with value: -0.0056736269798483355.\u001b[0m\n",
      "\u001b[32m[I 2021-06-25 14:03:56,498]\u001b[0m Trial 971 finished with value: -0.005741766276110057 and parameters: {'kernel': 'rbf', 'C': 0.22776812374380076, 'gamma': 0.02654498016854936, 'epsilon': 0.002045663893806838}. Best is trial 156 with value: -0.0056736269798483355.\u001b[0m\n",
      "\u001b[32m[I 2021-06-25 14:03:57,059]\u001b[0m Trial 972 finished with value: -0.005694733444688061 and parameters: {'kernel': 'rbf', 'C': 0.1504091418539909, 'gamma': 0.021532854053778087, 'epsilon': 0.0014880273501215553}. Best is trial 156 with value: -0.0056736269798483355.\u001b[0m\n",
      "\u001b[32m[I 2021-06-25 14:03:57,640]\u001b[0m Trial 973 finished with value: -0.0057367877147729085 and parameters: {'kernel': 'rbf', 'C': 0.12430953036339548, 'gamma': 0.017772394457295185, 'epsilon': 0.0013367101136482532}. Best is trial 156 with value: -0.0056736269798483355.\u001b[0m\n",
      "\u001b[32m[I 2021-06-25 14:03:58,149]\u001b[0m Trial 974 finished with value: -0.005732274507486767 and parameters: {'kernel': 'rbf', 'C': 0.1680067153128454, 'gamma': 0.031040652735880858, 'epsilon': 0.0016595038458611714}. Best is trial 156 with value: -0.0056736269798483355.\u001b[0m\n",
      "\u001b[32m[I 2021-06-25 14:03:58,605]\u001b[0m Trial 975 finished with value: -0.006454245209798958 and parameters: {'kernel': 'poly', 'C': 0.1392505105724559, 'gamma': 0.01458277625715523, 'epsilon': 0.001114670983964757}. Best is trial 156 with value: -0.0056736269798483355.\u001b[0m\n",
      "\u001b[32m[I 2021-06-25 14:03:59,318]\u001b[0m Trial 976 finished with value: -0.005699680339744593 and parameters: {'kernel': 'rbf', 'C': 0.19541556878820068, 'gamma': 0.024449545106404957, 'epsilon': 0.0018620768408235035}. Best is trial 156 with value: -0.0056736269798483355.\u001b[0m\n",
      "\u001b[32m[I 2021-06-25 14:03:59,641]\u001b[0m Trial 977 finished with value: -0.005773524887637379 and parameters: {'kernel': 'rbf', 'C': 0.11763777502848281, 'gamma': 0.020902215410109736, 'epsilon': 0.0029200523564699957}. Best is trial 156 with value: -0.0056736269798483355.\u001b[0m\n",
      "\u001b[32m[I 2021-06-25 14:04:00,318]\u001b[0m Trial 978 finished with value: -0.005727066247268803 and parameters: {'kernel': 'rbf', 'C': 0.1574244668394075, 'gamma': 0.02753173318747573, 'epsilon': 0.0010019729907297982}. Best is trial 156 with value: -0.0056736269798483355.\u001b[0m\n",
      "\u001b[32m[I 2021-06-25 14:04:00,814]\u001b[0m Trial 979 finished with value: -0.005713858467614676 and parameters: {'kernel': 'rbf', 'C': 0.08940262039192515, 'gamma': 0.032735679190549066, 'epsilon': 0.0013547363296616784}. Best is trial 156 with value: -0.0056736269798483355.\u001b[0m\n"
     ]
    },
    {
     "name": "stderr",
     "output_type": "stream",
     "text": [
      "\u001b[32m[I 2021-06-25 14:04:01,272]\u001b[0m Trial 980 finished with value: -0.005681450232293224 and parameters: {'kernel': 'rbf', 'C': 0.13497012661751823, 'gamma': 0.02417278418638317, 'epsilon': 0.0016057569766900462}. Best is trial 156 with value: -0.0056736269798483355.\u001b[0m\n",
      "\u001b[32m[I 2021-06-25 14:04:01,596]\u001b[0m Trial 981 finished with value: -0.005765994289684364 and parameters: {'kernel': 'rbf', 'C': 0.10161524444554351, 'gamma': 0.03933988539565508, 'epsilon': 0.0023242795766134083}. Best is trial 156 with value: -0.0056736269798483355.\u001b[0m\n",
      "\u001b[32m[I 2021-06-25 14:04:02,018]\u001b[0m Trial 982 finished with value: -0.005697830480028598 and parameters: {'kernel': 'rbf', 'C': 0.11997802878806034, 'gamma': 0.028588481982303068, 'epsilon': 0.001985811640971725}. Best is trial 156 with value: -0.0056736269798483355.\u001b[0m\n",
      "\u001b[32m[I 2021-06-25 14:04:02,551]\u001b[0m Trial 983 finished with value: -0.005681743016109768 and parameters: {'kernel': 'rbf', 'C': 0.12968739416650252, 'gamma': 0.023796656940697037, 'epsilon': 0.0017048151095284054}. Best is trial 156 with value: -0.0056736269798483355.\u001b[0m\n",
      "\u001b[32m[I 2021-06-25 14:04:02,898]\u001b[0m Trial 984 finished with value: -0.00578157230859637 and parameters: {'kernel': 'rbf', 'C': 0.08285343339663453, 'gamma': 0.018059381144302115, 'epsilon': 0.0023353114172514583}. Best is trial 156 with value: -0.0056736269798483355.\u001b[0m\n",
      "\u001b[32m[I 2021-06-25 14:04:03,285]\u001b[0m Trial 985 finished with value: -0.005719455052540841 and parameters: {'kernel': 'rbf', 'C': 0.10314697510935546, 'gamma': 0.022253568442670877, 'epsilon': 0.0017983079885481772}. Best is trial 156 with value: -0.0056736269798483355.\u001b[0m\n",
      "\u001b[32m[I 2021-06-25 14:04:03,575]\u001b[0m Trial 986 finished with value: -0.005771543665800536 and parameters: {'kernel': 'rbf', 'C': 0.1115708459042147, 'gamma': 0.020315452360345987, 'epsilon': 0.0027499721065254185}. Best is trial 156 with value: -0.0056736269798483355.\u001b[0m\n",
      "\u001b[32m[I 2021-06-25 14:04:03,965]\u001b[0m Trial 987 finished with value: -0.006617810463089155 and parameters: {'kernel': 'rbf', 'C': 0.12877849318069176, 'gamma': 0.17574979205149022, 'epsilon': 0.002132493829787627}. Best is trial 156 with value: -0.0056736269798483355.\u001b[0m\n",
      "\u001b[32m[I 2021-06-25 14:04:04,480]\u001b[0m Trial 988 finished with value: -0.005720238506529573 and parameters: {'kernel': 'rbf', 'C': 0.09236105904249535, 'gamma': 0.023805643716597526, 'epsilon': 0.0017526997710626718}. Best is trial 156 with value: -0.0056736269798483355.\u001b[0m\n",
      "\u001b[32m[I 2021-06-25 14:04:04,949]\u001b[0m Trial 989 finished with value: -0.0057475591240992155 and parameters: {'kernel': 'rbf', 'C': 0.11775414330594873, 'gamma': 0.01672526468672743, 'epsilon': 0.001566918137724821}. Best is trial 156 with value: -0.0056736269798483355.\u001b[0m\n",
      "\u001b[32m[I 2021-06-25 14:04:05,473]\u001b[0m Trial 990 finished with value: -0.005685462561268613 and parameters: {'kernel': 'rbf', 'C': 0.1354715283185394, 'gamma': 0.024947534897270432, 'epsilon': 0.0012754719204355293}. Best is trial 156 with value: -0.0056736269798483355.\u001b[0m\n",
      "\u001b[32m[I 2021-06-25 14:04:05,954]\u001b[0m Trial 991 finished with value: -0.005714446852120252 and parameters: {'kernel': 'rbf', 'C': 0.13052652661462544, 'gamma': 0.01925878010635783, 'epsilon': 0.0014514224859094385}. Best is trial 156 with value: -0.0056736269798483355.\u001b[0m\n",
      "\u001b[32m[I 2021-06-25 14:04:06,369]\u001b[0m Trial 992 finished with value: -0.0057147970387288645 and parameters: {'kernel': 'rbf', 'C': 0.1021304546210787, 'gamma': 0.022633762660289724, 'epsilon': 0.001837266778973117}. Best is trial 156 with value: -0.0056736269798483355.\u001b[0m\n",
      "\u001b[32m[I 2021-06-25 14:04:06,938]\u001b[0m Trial 993 finished with value: -0.005706729545799412 and parameters: {'kernel': 'rbf', 'C': 0.1086671979701193, 'gamma': 0.029070054976819817, 'epsilon': 0.001194141822811721}. Best is trial 156 with value: -0.0056736269798483355.\u001b[0m\n",
      "\u001b[32m[I 2021-06-25 14:04:07,474]\u001b[0m Trial 994 finished with value: -0.005687988508902363 and parameters: {'kernel': 'rbf', 'C': 0.13299139415787048, 'gamma': 0.02628106946273507, 'epsilon': 0.001628394046730004}. Best is trial 156 with value: -0.0056736269798483355.\u001b[0m\n",
      "\u001b[32m[I 2021-06-25 14:04:07,868]\u001b[0m Trial 995 finished with value: -0.005768230767541026 and parameters: {'kernel': 'rbf', 'C': 0.07002776549250773, 'gamma': 0.020354279367909508, 'epsilon': 0.002060544666063512}. Best is trial 156 with value: -0.0056736269798483355.\u001b[0m\n",
      "\u001b[32m[I 2021-06-25 14:04:08,415]\u001b[0m Trial 996 finished with value: -0.0057415869908376835 and parameters: {'kernel': 'rbf', 'C': 0.14419955742117707, 'gamma': 0.03313205728659184, 'epsilon': 0.001391289573887955}. Best is trial 156 with value: -0.0056736269798483355.\u001b[0m\n",
      "\u001b[32m[I 2021-06-25 14:04:08,520]\u001b[0m Trial 997 finished with value: -0.010315319178864154 and parameters: {'kernel': 'rbf', 'C': 0.11886308532484871, 'gamma': 0.02353208992957381, 'epsilon': 0.014769604036571113}. Best is trial 156 with value: -0.0056736269798483355.\u001b[0m\n",
      "\u001b[32m[I 2021-06-25 14:04:09,044]\u001b[0m Trial 998 finished with value: -0.0057340245276488845 and parameters: {'kernel': 'rbf', 'C': 0.16651131334462368, 'gamma': 0.016104850551438416, 'epsilon': 0.0016779414443160866}. Best is trial 156 with value: -0.0056736269798483355.\u001b[0m\n",
      "\u001b[32m[I 2021-06-25 14:04:09,582]\u001b[0m Trial 999 finished with value: -0.005713069882601299 and parameters: {'kernel': 'rbf', 'C': 0.14591168520469738, 'gamma': 0.028280623670820595, 'epsilon': 0.0013908186924064315}. Best is trial 156 with value: -0.0056736269798483355.\u001b[0m\n",
      "\u001b[32m[I 2021-06-25 14:04:10,153]\u001b[0m Trial 1000 finished with value: -0.005719145586974714 and parameters: {'kernel': 'rbf', 'C': 0.09117734405862632, 'gamma': 0.021895723872320232, 'epsilon': 0.001172172747189973}. Best is trial 156 with value: -0.0056736269798483355.\u001b[0m\n",
      "\u001b[32m[I 2021-06-25 14:04:10,541]\u001b[0m Trial 1001 finished with value: -0.0057450389495210035 and parameters: {'kernel': 'rbf', 'C': 0.11297122290125561, 'gamma': 0.01838025312067469, 'epsilon': 0.0018832638148627732}. Best is trial 156 with value: -0.0056736269798483355.\u001b[0m\n",
      "\u001b[32m[I 2021-06-25 14:04:11,178]\u001b[0m Trial 1002 finished with value: -0.006323172751170548 and parameters: {'kernel': 'poly', 'C': 0.12953467783365846, 'gamma': 0.02550874877358197, 'epsilon': 0.0015519561441850638}. Best is trial 156 with value: -0.0056736269798483355.\u001b[0m\n",
      "\u001b[32m[I 2021-06-25 14:04:11,919]\u001b[0m Trial 1003 finished with value: -0.005785435383796921 and parameters: {'kernel': 'rbf', 'C': 0.17993609371634064, 'gamma': 0.031184786987774823, 'epsilon': 0.0011067542067592813}. Best is trial 156 with value: -0.0056736269798483355.\u001b[0m\n",
      "\u001b[32m[I 2021-06-25 14:04:12,562]\u001b[0m Trial 1004 finished with value: -0.005690428306451185 and parameters: {'kernel': 'rbf', 'C': 0.15261719050000636, 'gamma': 0.02052171039164062, 'epsilon': 0.0013123733284392057}. Best is trial 156 with value: -0.0056736269798483355.\u001b[0m\n",
      "\u001b[32m[I 2021-06-25 14:04:13,133]\u001b[0m Trial 1005 finished with value: -0.0056797975221704 and parameters: {'kernel': 'rbf', 'C': 0.13225864282278305, 'gamma': 0.024496160915311007, 'epsilon': 0.0015923737199930261}. Best is trial 156 with value: -0.0056736269798483355.\u001b[0m\n",
      "\u001b[32m[I 2021-06-25 14:04:13,542]\u001b[0m Trial 1006 finished with value: -0.005728549441773294 and parameters: {'kernel': 'rbf', 'C': 0.09490166674273678, 'gamma': 0.023189072552822872, 'epsilon': 0.002025289853064359}. Best is trial 156 with value: -0.0056736269798483355.\u001b[0m\n",
      "\u001b[32m[I 2021-06-25 14:04:13,878]\u001b[0m Trial 1007 finished with value: -0.00574264294976045 and parameters: {'kernel': 'rbf', 'C': 0.10709332233225462, 'gamma': 0.02754936182876759, 'epsilon': 0.002617291268325065}. Best is trial 156 with value: -0.0056736269798483355.\u001b[0m\n",
      "\u001b[32m[I 2021-06-25 14:04:14,268]\u001b[0m Trial 1008 finished with value: -0.0057428731459564794 and parameters: {'kernel': 'rbf', 'C': 0.11611946161166721, 'gamma': 0.019099960462422894, 'epsilon': 0.0022492091420074794}. Best is trial 156 with value: -0.0056736269798483355.\u001b[0m\n",
      "\u001b[32m[I 2021-06-25 14:04:14,744]\u001b[0m Trial 1009 finished with value: -0.0057406023339520605 and parameters: {'kernel': 'rbf', 'C': 0.1338345281246484, 'gamma': 0.034869028499008914, 'epsilon': 0.0018566916035503598}. Best is trial 156 with value: -0.0056736269798483355.\u001b[0m\n"
     ]
    },
    {
     "name": "stderr",
     "output_type": "stream",
     "text": [
      "\u001b[32m[I 2021-06-25 14:04:15,665]\u001b[0m Trial 1010 finished with value: -0.005938047223432426 and parameters: {'kernel': 'rbf', 'C': 0.6978562364033964, 'gamma': 0.022400573608202377, 'epsilon': 0.0016203054322388767}. Best is trial 156 with value: -0.0056736269798483355.\u001b[0m\n",
      "\u001b[32m[I 2021-06-25 14:04:16,175]\u001b[0m Trial 1011 finished with value: -0.005716164451149701 and parameters: {'kernel': 'rbf', 'C': 0.0821266919196782, 'gamma': 0.02595726090487271, 'epsilon': 0.001772340355760369}. Best is trial 156 with value: -0.0056736269798483355.\u001b[0m\n",
      "\u001b[32m[I 2021-06-25 14:04:16,643]\u001b[0m Trial 1012 finished with value: -0.005699981440731785 and parameters: {'kernel': 'rbf', 'C': 0.1036336715232263, 'gamma': 0.02994614173667413, 'epsilon': 0.001553244539194931}. Best is trial 156 with value: -0.0056736269798483355.\u001b[0m\n",
      "\u001b[32m[I 2021-06-25 14:04:17,024]\u001b[0m Trial 1013 finished with value: -0.005785604812368474 and parameters: {'kernel': 'rbf', 'C': 0.12438478519501275, 'gamma': 0.014643753592163392, 'epsilon': 0.002236029857346723}. Best is trial 156 with value: -0.0056736269798483355.\u001b[0m\n",
      "\u001b[32m[I 2021-06-25 14:04:17,447]\u001b[0m Trial 1014 finished with value: -0.0057369590936036585 and parameters: {'kernel': 'rbf', 'C': 0.12083628425107708, 'gamma': 0.01769656543414898, 'epsilon': 0.0017393818294980578}. Best is trial 156 with value: -0.0056736269798483355.\u001b[0m\n",
      "\u001b[32m[I 2021-06-25 14:04:18,032]\u001b[0m Trial 1015 finished with value: -0.005700996207150567 and parameters: {'kernel': 'rbf', 'C': 0.14233570373098234, 'gamma': 0.02120945690715097, 'epsilon': 0.0014738492999985722}. Best is trial 156 with value: -0.0056736269798483355.\u001b[0m\n",
      "\u001b[32m[I 2021-06-25 14:04:18,470]\u001b[0m Trial 1016 finished with value: -0.005697844400067092 and parameters: {'kernel': 'rbf', 'C': 0.1328703825172527, 'gamma': 0.024704681261346503, 'epsilon': 0.0020088322924309257}. Best is trial 156 with value: -0.0056736269798483355.\u001b[0m\n",
      "\u001b[32m[I 2021-06-25 14:04:19,019]\u001b[0m Trial 1017 finished with value: -0.005698461299581857 and parameters: {'kernel': 'rbf', 'C': 0.0963724052979775, 'gamma': 0.029700293207846062, 'epsilon': 0.0013317220019412742}. Best is trial 156 with value: -0.0056736269798483355.\u001b[0m\n",
      "\u001b[32m[I 2021-06-25 14:04:19,461]\u001b[0m Trial 1018 finished with value: -0.005720039765301152 and parameters: {'kernel': 'rbf', 'C': 0.1107034043413439, 'gamma': 0.035430972896918614, 'epsilon': 0.0016694953449011315}. Best is trial 156 with value: -0.0056736269798483355.\u001b[0m\n",
      "\u001b[32m[I 2021-06-25 14:04:20,204]\u001b[0m Trial 1019 finished with value: -0.005692628588583392 and parameters: {'kernel': 'rbf', 'C': 0.15845588517820333, 'gamma': 0.02618926629396726, 'epsilon': 0.0014544232205208805}. Best is trial 156 with value: -0.0056736269798483355.\u001b[0m\n",
      "\u001b[32m[I 2021-06-25 14:04:20,746]\u001b[0m Trial 1020 finished with value: -0.005697283869834473 and parameters: {'kernel': 'rbf', 'C': 0.1397718314343116, 'gamma': 0.020045629360461517, 'epsilon': 0.001192823287615237}. Best is trial 156 with value: -0.0056736269798483355.\u001b[0m\n",
      "\u001b[32m[I 2021-06-25 14:04:21,012]\u001b[0m Trial 1021 finished with value: -0.005776848957795791 and parameters: {'kernel': 'rbf', 'C': 0.17379976904431915, 'gamma': 0.023445578641522326, 'epsilon': 0.0033132678098222166}. Best is trial 156 with value: -0.0056736269798483355.\u001b[0m\n",
      "\u001b[32m[I 2021-06-25 14:04:21,365]\u001b[0m Trial 1022 finished with value: -0.0057488889816630605 and parameters: {'kernel': 'rbf', 'C': 0.1215737106763232, 'gamma': 0.017141655306115576, 'epsilon': 0.0019297095890856797}. Best is trial 156 with value: -0.0056736269798483355.\u001b[0m\n",
      "\u001b[32m[I 2021-06-25 14:04:21,824]\u001b[0m Trial 1023 finished with value: -0.005693214504498931 and parameters: {'kernel': 'rbf', 'C': 0.15279964959678077, 'gamma': 0.02804816159379469, 'epsilon': 0.0016305978272340839}. Best is trial 156 with value: -0.0056736269798483355.\u001b[0m\n",
      "\u001b[32m[I 2021-06-25 14:04:22,416]\u001b[0m Trial 1024 finished with value: -0.0056956299948469 and parameters: {'kernel': 'rbf', 'C': 0.20176914618013164, 'gamma': 0.022658101204559158, 'epsilon': 0.0012539511059686027}. Best is trial 156 with value: -0.0056736269798483355.\u001b[0m\n",
      "\u001b[32m[I 2021-06-25 14:04:22,909]\u001b[0m Trial 1025 finished with value: -0.005737359913113236 and parameters: {'kernel': 'rbf', 'C': 0.13267644384513513, 'gamma': 0.032742964507881105, 'epsilon': 0.0014283449245433102}. Best is trial 156 with value: -0.0056736269798483355.\u001b[0m\n",
      "\u001b[32m[I 2021-06-25 14:04:23,199]\u001b[0m Trial 1026 finished with value: -0.005822683196850739 and parameters: {'kernel': 'rbf', 'C': 0.11036342104122687, 'gamma': 0.04538432902673019, 'epsilon': 0.0023965959543504355}. Best is trial 156 with value: -0.0056736269798483355.\u001b[0m\n",
      "\u001b[32m[I 2021-06-25 14:04:23,664]\u001b[0m Trial 1027 finished with value: -0.005705684581591747 and parameters: {'kernel': 'rbf', 'C': 0.16561153559774563, 'gamma': 0.019914528035536064, 'epsilon': 0.0017079524853360003}. Best is trial 156 with value: -0.0056736269798483355.\u001b[0m\n",
      "\u001b[32m[I 2021-06-25 14:04:24,304]\u001b[0m Trial 1028 finished with value: -0.005692488884863123 and parameters: {'kernel': 'rbf', 'C': 0.1475728842574379, 'gamma': 0.025453192840638104, 'epsilon': 0.0011300019179778416}. Best is trial 156 with value: -0.0056736269798483355.\u001b[0m\n",
      "\u001b[32m[I 2021-06-25 14:04:24,939]\u001b[0m Trial 1029 finished with value: -0.00569096929369295 and parameters: {'kernel': 'rbf', 'C': 0.1890038249155589, 'gamma': 0.021870446861992764, 'epsilon': 0.0014428904825262965}. Best is trial 156 with value: -0.0056736269798483355.\u001b[0m\n",
      "\u001b[32m[I 2021-06-25 14:04:25,610]\u001b[0m Trial 1030 finished with value: -0.005724079659817434 and parameters: {'kernel': 'rbf', 'C': 0.09773322906210884, 'gamma': 0.029393514466872394, 'epsilon': 0.0010045517997197967}. Best is trial 156 with value: -0.0056736269798483355.\u001b[0m\n",
      "\u001b[32m[I 2021-06-25 14:04:26,686]\u001b[0m Trial 1031 finished with value: -0.006328574750193667 and parameters: {'kernel': 'poly', 'C': 0.12831810620858142, 'gamma': 0.039268216462750166, 'epsilon': 0.0019413326567829675}. Best is trial 156 with value: -0.0056736269798483355.\u001b[0m\n",
      "\u001b[32m[I 2021-06-25 14:04:27,354]\u001b[0m Trial 1032 finished with value: -0.005682067442009685 and parameters: {'kernel': 'rbf', 'C': 0.16056729631724834, 'gamma': 0.025439028925738974, 'epsilon': 0.0013302044362669399}. Best is trial 156 with value: -0.0056736269798483355.\u001b[0m\n",
      "\u001b[32m[I 2021-06-25 14:04:28,117]\u001b[0m Trial 1033 finished with value: -0.005705871792009598 and parameters: {'kernel': 'rbf', 'C': 0.25675795687292363, 'gamma': 0.01874214369660886, 'epsilon': 0.0015735805610989637}. Best is trial 156 with value: -0.0056736269798483355.\u001b[0m\n",
      "\u001b[32m[I 2021-06-25 14:04:28,909]\u001b[0m Trial 1034 finished with value: -0.005705976783207564 and parameters: {'kernel': 'rbf', 'C': 0.11358538629992461, 'gamma': 0.02322422227146029, 'epsilon': 0.0010033599616432447}. Best is trial 156 with value: -0.0056736269798483355.\u001b[0m\n",
      "\u001b[32m[I 2021-06-25 14:04:29,706]\u001b[0m Trial 1035 finished with value: -0.005706752965262427 and parameters: {'kernel': 'rbf', 'C': 0.21951197843413897, 'gamma': 0.01569456443398634, 'epsilon': 0.0012278987021655551}. Best is trial 156 with value: -0.0056736269798483355.\u001b[0m\n",
      "\u001b[32m[I 2021-06-25 14:04:30,196]\u001b[0m Trial 1036 finished with value: -0.005720125704528273 and parameters: {'kernel': 'rbf', 'C': 0.08227132961009431, 'gamma': 0.03153690519121056, 'epsilon': 0.0017994576941791364}. Best is trial 156 with value: -0.0056736269798483355.\u001b[0m\n",
      "\u001b[32m[I 2021-06-25 14:04:30,751]\u001b[0m Trial 1037 finished with value: -0.005695014997194786 and parameters: {'kernel': 'rbf', 'C': 0.14174370817253512, 'gamma': 0.02667384419028122, 'epsilon': 0.0014644951791154513}. Best is trial 156 with value: -0.0056736269798483355.\u001b[0m\n",
      "\u001b[32m[I 2021-06-25 14:04:31,306]\u001b[0m Trial 1038 finished with value: -0.005698313260123517 and parameters: {'kernel': 'rbf', 'C': 0.17774291554936314, 'gamma': 0.020893573272990844, 'epsilon': 0.001307092445316825}. Best is trial 156 with value: -0.0056736269798483355.\u001b[0m\n",
      "\u001b[32m[I 2021-06-25 14:04:31,669]\u001b[0m Trial 1039 finished with value: -0.005709189907944746 and parameters: {'kernel': 'rbf', 'C': 0.12725535796433987, 'gamma': 0.023103323924854882, 'epsilon': 0.0021330403285525}. Best is trial 156 with value: -0.0056736269798483355.\u001b[0m\n"
     ]
    },
    {
     "name": "stderr",
     "output_type": "stream",
     "text": [
      "\u001b[32m[I 2021-06-25 14:04:32,318]\u001b[0m Trial 1040 finished with value: -0.005694839502404789 and parameters: {'kernel': 'rbf', 'C': 0.15001097546429698, 'gamma': 0.028174643694488202, 'epsilon': 0.0016682063695009723}. Best is trial 156 with value: -0.0056736269798483355.\u001b[0m\n",
      "\u001b[32m[I 2021-06-25 14:04:33,046]\u001b[0m Trial 1041 finished with value: -0.005691894620841427 and parameters: {'kernel': 'rbf', 'C': 0.19081300744406957, 'gamma': 0.01867772158869401, 'epsilon': 0.0011098202385617932}. Best is trial 156 with value: -0.0056736269798483355.\u001b[0m\n",
      "\u001b[32m[I 2021-06-25 14:04:33,686]\u001b[0m Trial 1042 finished with value: -0.005775636563753565 and parameters: {'kernel': 'rbf', 'C': 0.1659091090141576, 'gamma': 0.03407880458017119, 'epsilon': 0.0015208551518535696}. Best is trial 156 with value: -0.0056736269798483355.\u001b[0m\n",
      "\u001b[32m[I 2021-06-25 14:04:34,294]\u001b[0m Trial 1043 finished with value: -0.005693788818146969 and parameters: {'kernel': 'rbf', 'C': 0.11139021445811816, 'gamma': 0.02539553645258959, 'epsilon': 0.0012542337985821128}. Best is trial 156 with value: -0.0056736269798483355.\u001b[0m\n",
      "\u001b[32m[I 2021-06-25 14:04:34,828]\u001b[0m Trial 1044 finished with value: -0.005720697348458492 and parameters: {'kernel': 'rbf', 'C': 0.13655125517322944, 'gamma': 0.02062794659113344, 'epsilon': 0.0018266322596166514}. Best is trial 156 with value: -0.0056736269798483355.\u001b[0m\n",
      "\u001b[32m[I 2021-06-25 14:04:35,634]\u001b[0m Trial 1045 finished with value: -0.005718069675272954 and parameters: {'kernel': 'rbf', 'C': 0.153547042415583, 'gamma': 0.029557068968230113, 'epsilon': 0.0014245064020879964}. Best is trial 156 with value: -0.0056736269798483355.\u001b[0m\n",
      "\u001b[32m[I 2021-06-25 14:04:36,227]\u001b[0m Trial 1046 finished with value: -0.005698566016004807 and parameters: {'kernel': 'rbf', 'C': 0.09884717491908315, 'gamma': 0.024082922437931052, 'epsilon': 0.0016442595344067436}. Best is trial 156 with value: -0.0056736269798483355.\u001b[0m\n",
      "\u001b[32m[I 2021-06-25 14:04:36,845]\u001b[0m Trial 1047 finished with value: -0.005705683532753222 and parameters: {'kernel': 'rbf', 'C': 0.20841108866512592, 'gamma': 0.016711513145413498, 'epsilon': 0.0011057544233640906}. Best is trial 156 with value: -0.0056736269798483355.\u001b[0m\n",
      "\u001b[32m[I 2021-06-25 14:04:37,414]\u001b[0m Trial 1048 finished with value: -0.0057224567374045245 and parameters: {'kernel': 'rbf', 'C': 0.12557865463587756, 'gamma': 0.020754518848415237, 'epsilon': 0.0010009566131151222}. Best is trial 156 with value: -0.0056736269798483355.\u001b[0m\n",
      "\u001b[32m[I 2021-06-25 14:04:37,870]\u001b[0m Trial 1049 finished with value: -0.00570509291191882 and parameters: {'kernel': 'rbf', 'C': 0.17627685314072666, 'gamma': 0.02743087125774818, 'epsilon': 0.0020366321695933507}. Best is trial 156 with value: -0.0056736269798483355.\u001b[0m\n",
      "\u001b[32m[I 2021-06-25 14:04:38,516]\u001b[0m Trial 1050 finished with value: -0.005683855192001108 and parameters: {'kernel': 'rbf', 'C': 0.1476376738243765, 'gamma': 0.0230588887366396, 'epsilon': 0.0012628423997000466}. Best is trial 156 with value: -0.0056736269798483355.\u001b[0m\n",
      "\u001b[32m[I 2021-06-25 14:04:39,088]\u001b[0m Trial 1051 finished with value: -0.005715491307978834 and parameters: {'kernel': 'rbf', 'C': 0.11601269009777836, 'gamma': 0.03203961462634375, 'epsilon': 0.0014797847432609498}. Best is trial 156 with value: -0.0056736269798483355.\u001b[0m\n",
      "\u001b[32m[I 2021-06-25 14:04:39,640]\u001b[0m Trial 1052 finished with value: -0.005775842686518348 and parameters: {'kernel': 'rbf', 'C': 0.17189839725676487, 'gamma': 0.013443676374297836, 'epsilon': 0.001728552394827968}. Best is trial 156 with value: -0.0056736269798483355.\u001b[0m\n",
      "\u001b[32m[I 2021-06-25 14:04:40,224]\u001b[0m Trial 1053 finished with value: -0.005719093567319723 and parameters: {'kernel': 'rbf', 'C': 0.14116753456854775, 'gamma': 0.01795098248468098, 'epsilon': 0.0013564798173534075}. Best is trial 156 with value: -0.0056736269798483355.\u001b[0m\n",
      "\u001b[32m[I 2021-06-25 14:04:40,600]\u001b[0m Trial 1054 finished with value: -0.0057717771458999576 and parameters: {'kernel': 'rbf', 'C': 0.12680649880028183, 'gamma': 0.03703680616662325, 'epsilon': 0.002548065803057704}. Best is trial 156 with value: -0.0056736269798483355.\u001b[0m\n",
      "\u001b[32m[I 2021-06-25 14:04:41,227]\u001b[0m Trial 1055 finished with value: -0.005747235326886226 and parameters: {'kernel': 'rbf', 'C': 0.22556494358719714, 'gamma': 0.02630810634878994, 'epsilon': 0.0016171311308772302}. Best is trial 156 with value: -0.0056736269798483355.\u001b[0m\n",
      "\u001b[32m[I 2021-06-25 14:04:41,958]\u001b[0m Trial 1056 finished with value: -0.005706911059225235 and parameters: {'kernel': 'rbf', 'C': 0.19205498439418106, 'gamma': 0.020972029774982894, 'epsilon': 0.0011841240136563533}. Best is trial 156 with value: -0.0056736269798483355.\u001b[0m\n",
      "\u001b[32m[I 2021-06-25 14:04:42,473]\u001b[0m Trial 1057 finished with value: -0.005689922356916577 and parameters: {'kernel': 'rbf', 'C': 0.15953672272492375, 'gamma': 0.024210126593545458, 'epsilon': 0.0019192742062213387}. Best is trial 156 with value: -0.0056736269798483355.\u001b[0m\n",
      "\u001b[32m[I 2021-06-25 14:04:43,209]\u001b[0m Trial 1058 finished with value: -0.006323585154720234 and parameters: {'kernel': 'poly', 'C': 0.1050831885541434, 'gamma': 0.030538167098999813, 'epsilon': 0.0014130516931476075}. Best is trial 156 with value: -0.0056736269798483355.\u001b[0m\n",
      "\u001b[32m[I 2021-06-25 14:04:43,721]\u001b[0m Trial 1059 finished with value: -0.005710850724226269 and parameters: {'kernel': 'rbf', 'C': 0.14019356897251162, 'gamma': 0.019620768936144034, 'epsilon': 0.0015565573214927886}. Best is trial 156 with value: -0.0056736269798483355.\u001b[0m\n",
      "\u001b[32m[I 2021-06-25 14:04:44,157]\u001b[0m Trial 1060 finished with value: -0.005734890392898627 and parameters: {'kernel': 'rbf', 'C': 0.09305140858979088, 'gamma': 0.027045741423121696, 'epsilon': 0.002199871317497521}. Best is trial 156 with value: -0.0056736269798483355.\u001b[0m\n",
      "\u001b[32m[I 2021-06-25 14:04:44,766]\u001b[0m Trial 1061 finished with value: -0.005690948390788345 and parameters: {'kernel': 'rbf', 'C': 0.12062608357908032, 'gamma': 0.022765726508310272, 'epsilon': 0.0012780018392798897}. Best is trial 156 with value: -0.0056736269798483355.\u001b[0m\n",
      "\u001b[32m[I 2021-06-25 14:04:45,405]\u001b[0m Trial 1062 finished with value: -0.0057283198806867075 and parameters: {'kernel': 'rbf', 'C': 0.17984962229056198, 'gamma': 0.016714953032395626, 'epsilon': 0.0011115551202279628}. Best is trial 156 with value: -0.0056736269798483355.\u001b[0m\n",
      "\u001b[32m[I 2021-06-25 14:04:46,039]\u001b[0m Trial 1063 finished with value: -0.0058406566892876466 and parameters: {'kernel': 'rbf', 'C': 0.29475613414573154, 'gamma': 0.02939030269820029, 'epsilon': 0.001748490932809559}. Best is trial 156 with value: -0.0056736269798483355.\u001b[0m\n",
      "\u001b[32m[I 2021-06-25 14:04:46,665]\u001b[0m Trial 1064 finished with value: -0.0056841515720457425 and parameters: {'kernel': 'rbf', 'C': 0.15674196851911823, 'gamma': 0.023459872607452508, 'epsilon': 0.0013887630047061327}. Best is trial 156 with value: -0.0056736269798483355.\u001b[0m\n",
      "\u001b[32m[I 2021-06-25 14:04:47,300]\u001b[0m Trial 1065 finished with value: -0.005753575094790502 and parameters: {'kernel': 'rbf', 'C': 0.13273305584968798, 'gamma': 0.033958456960534275, 'epsilon': 0.0010028694091428342}. Best is trial 156 with value: -0.0056736269798483355.\u001b[0m\n",
      "\u001b[32m[I 2021-06-25 14:04:47,891]\u001b[0m Trial 1066 finished with value: -0.005696216859436401 and parameters: {'kernel': 'rbf', 'C': 0.20024748320954816, 'gamma': 0.019237996677736034, 'epsilon': 0.001561923648890305}. Best is trial 156 with value: -0.0056736269798483355.\u001b[0m\n",
      "\u001b[32m[I 2021-06-25 14:04:48,319]\u001b[0m Trial 1067 finished with value: -0.0057008257399906144 and parameters: {'kernel': 'rbf', 'C': 0.10933162532542753, 'gamma': 0.026934502085180452, 'epsilon': 0.0018989089918784537}. Best is trial 156 with value: -0.0056736269798483355.\u001b[0m\n",
      "\u001b[32m[I 2021-06-25 14:04:48,893]\u001b[0m Trial 1068 finished with value: -0.00569346181967068 and parameters: {'kernel': 'rbf', 'C': 0.15241566955848276, 'gamma': 0.022035650769615632, 'epsilon': 0.0012569570135516715}. Best is trial 156 with value: -0.0056736269798483355.\u001b[0m\n",
      "\u001b[32m[I 2021-06-25 14:04:49,494]\u001b[0m Trial 1069 finished with value: -0.005690230151106596 and parameters: {'kernel': 'rbf', 'C': 0.17292114344585924, 'gamma': 0.025059856197123483, 'epsilon': 0.0014349712859334845}. Best is trial 156 with value: -0.0056736269798483355.\u001b[0m\n"
     ]
    },
    {
     "name": "stderr",
     "output_type": "stream",
     "text": [
      "\u001b[32m[I 2021-06-25 14:04:50,143]\u001b[0m Trial 1070 finished with value: -0.0057168056236674425 and parameters: {'kernel': 'rbf', 'C': 0.1310046725818014, 'gamma': 0.029637027905322008, 'epsilon': 0.001159446876750926}. Best is trial 156 with value: -0.0056736269798483355.\u001b[0m\n",
      "\u001b[32m[I 2021-06-25 14:04:50,766]\u001b[0m Trial 1071 finished with value: -0.0057069746473652596 and parameters: {'kernel': 'rbf', 'C': 0.2217154177990034, 'gamma': 0.021100750670386446, 'epsilon': 0.0017445650361001997}. Best is trial 156 with value: -0.0056736269798483355.\u001b[0m\n",
      "\u001b[32m[I 2021-06-25 14:04:51,297]\u001b[0m Trial 1072 finished with value: -0.0057877077728084635 and parameters: {'kernel': 'rbf', 'C': 0.144077092363641, 'gamma': 0.038354171481310054, 'epsilon': 0.0015965378829480648}. Best is trial 156 with value: -0.0056736269798483355.\u001b[0m\n",
      "\u001b[32m[I 2021-06-25 14:04:51,632]\u001b[0m Trial 1073 finished with value: -0.0062939640254068225 and parameters: {'kernel': 'rbf', 'C': 0.07567539051778274, 'gamma': 0.002469893295867778, 'epsilon': 0.002176570492592029}. Best is trial 156 with value: -0.0056736269798483355.\u001b[0m\n",
      "\u001b[32m[I 2021-06-25 14:04:52,273]\u001b[0m Trial 1074 finished with value: -0.005694400209613278 and parameters: {'kernel': 'rbf', 'C': 0.16748964236070452, 'gamma': 0.018211235732375895, 'epsilon': 0.0013131617813917044}. Best is trial 156 with value: -0.0056736269798483355.\u001b[0m\n",
      "\u001b[32m[I 2021-06-25 14:04:52,902]\u001b[0m Trial 1075 finished with value: -0.005726470708654573 and parameters: {'kernel': 'rbf', 'C': 0.11737540073197199, 'gamma': 0.014793520942499598, 'epsilon': 0.001003339675603402}. Best is trial 156 with value: -0.0056736269798483355.\u001b[0m\n",
      "\u001b[32m[I 2021-06-25 14:04:53,438]\u001b[0m Trial 1076 finished with value: -0.00570635182272235 and parameters: {'kernel': 'rbf', 'C': 0.1893582648924017, 'gamma': 0.02588413983733176, 'epsilon': 0.0014628956402077122}. Best is trial 156 with value: -0.0056736269798483355.\u001b[0m\n",
      "\u001b[32m[I 2021-06-25 14:04:53,813]\u001b[0m Trial 1077 finished with value: -0.005702449688523438 and parameters: {'kernel': 'rbf', 'C': 0.1324694127909403, 'gamma': 0.0236401022082278, 'epsilon': 0.0019491591095078186}. Best is trial 156 with value: -0.0056736269798483355.\u001b[0m\n",
      "\u001b[32m[I 2021-06-25 14:04:54,467]\u001b[0m Trial 1078 finished with value: -0.005829942602925433 and parameters: {'kernel': 'rbf', 'C': 0.2511135725627376, 'gamma': 0.02901426821544881, 'epsilon': 0.0012335735956767592}. Best is trial 156 with value: -0.0056736269798483355.\u001b[0m\n",
      "\u001b[32m[I 2021-06-25 14:04:54,792]\u001b[0m Trial 1079 finished with value: -0.006557225790959228 and parameters: {'kernel': 'rbf', 'C': 0.08859806130107377, 'gamma': 0.001278801096106026, 'epsilon': 0.0015985817387436933}. Best is trial 156 with value: -0.0056736269798483355.\u001b[0m\n",
      "\u001b[32m[I 2021-06-25 14:04:55,353]\u001b[0m Trial 1080 finished with value: -0.005696678925101953 and parameters: {'kernel': 'rbf', 'C': 0.15462522071957996, 'gamma': 0.02067991278262821, 'epsilon': 0.0011196754597849882}. Best is trial 156 with value: -0.0056736269798483355.\u001b[0m\n",
      "\u001b[32m[I 2021-06-25 14:04:55,838]\u001b[0m Trial 1081 finished with value: -0.005725754347475877 and parameters: {'kernel': 'rbf', 'C': 0.10555361237839483, 'gamma': 0.033063169391552426, 'epsilon': 0.0013804206342149623}. Best is trial 156 with value: -0.0056736269798483355.\u001b[0m\n",
      "\u001b[32m[I 2021-06-25 14:04:56,263]\u001b[0m Trial 1082 finished with value: -0.005698252047056883 and parameters: {'kernel': 'rbf', 'C': 0.12309426791940274, 'gamma': 0.024787026876499658, 'epsilon': 0.0018139800054211923}. Best is trial 156 with value: -0.0056736269798483355.\u001b[0m\n",
      "\u001b[32m[I 2021-06-25 14:04:56,842]\u001b[0m Trial 1083 finished with value: -0.005720486927980983 and parameters: {'kernel': 'rbf', 'C': 0.1477773095268494, 'gamma': 0.01791050727380076, 'epsilon': 0.0010023594972794943}. Best is trial 156 with value: -0.0056736269798483355.\u001b[0m\n",
      "\u001b[32m[I 2021-06-25 14:04:57,411]\u001b[0m Trial 1084 finished with value: -0.00588208075744544 and parameters: {'kernel': 'rbf', 'C': 0.1988775856255935, 'gamma': 0.04423147869459795, 'epsilon': 0.0016033985275573158}. Best is trial 156 with value: -0.0056736269798483355.\u001b[0m\n",
      "\u001b[32m[I 2021-06-25 14:04:58,039]\u001b[0m Trial 1085 finished with value: -0.006343206078890759 and parameters: {'kernel': 'poly', 'C': 0.1702821932968282, 'gamma': 0.021789926685413137, 'epsilon': 0.0012532852859720549}. Best is trial 156 with value: -0.0056736269798483355.\u001b[0m\n",
      "\u001b[32m[I 2021-06-25 14:04:58,583]\u001b[0m Trial 1086 finished with value: -0.0056987423114157046 and parameters: {'kernel': 'rbf', 'C': 0.13332623934347393, 'gamma': 0.027862878331301407, 'epsilon': 0.0014355195780068278}. Best is trial 156 with value: -0.0056736269798483355.\u001b[0m\n",
      "\u001b[32m[I 2021-06-25 14:04:59,083]\u001b[0m Trial 1087 finished with value: -0.005696154957807561 and parameters: {'kernel': 'rbf', 'C': 0.11304353143144204, 'gamma': 0.02419914173504733, 'epsilon': 0.0017996871432743396}. Best is trial 156 with value: -0.0056736269798483355.\u001b[0m\n",
      "\u001b[32m[I 2021-06-25 14:04:59,543]\u001b[0m Trial 1088 finished with value: -0.005748041198261166 and parameters: {'kernel': 'rbf', 'C': 0.16972148458983716, 'gamma': 0.03224037568309516, 'epsilon': 0.0021757530086308646}. Best is trial 156 with value: -0.0056736269798483355.\u001b[0m\n",
      "\u001b[32m[I 2021-06-25 14:05:00,261]\u001b[0m Trial 1089 finished with value: -0.0057035532986530225 and parameters: {'kernel': 'rbf', 'C': 0.1424132813199912, 'gamma': 0.019568499540566903, 'epsilon': 0.0011092243477115913}. Best is trial 156 with value: -0.0056736269798483355.\u001b[0m\n",
      "\u001b[32m[I 2021-06-25 14:05:00,345]\u001b[0m Trial 1090 finished with value: -0.012064984672361828 and parameters: {'kernel': 'rbf', 'C': 0.5122726421339046, 'gamma': 0.02623719435401825, 'epsilon': 0.020778682072358223}. Best is trial 156 with value: -0.0056736269798483355.\u001b[0m\n",
      "\u001b[32m[I 2021-06-25 14:05:00,869]\u001b[0m Trial 1091 finished with value: -0.005696850039924264 and parameters: {'kernel': 'rbf', 'C': 0.1554079502994016, 'gamma': 0.02213453405198068, 'epsilon': 0.001342635082249397}. Best is trial 156 with value: -0.0056736269798483355.\u001b[0m\n",
      "\u001b[32m[I 2021-06-25 14:05:01,501]\u001b[0m Trial 1092 finished with value: -0.005727518908845923 and parameters: {'kernel': 'rbf', 'C': 0.36399901922095296, 'gamma': 0.016593684976651132, 'epsilon': 0.0015705703570411862}. Best is trial 156 with value: -0.0056736269798483355.\u001b[0m\n",
      "\u001b[32m[I 2021-06-25 14:05:02,147]\u001b[0m Trial 1093 finished with value: -0.005813411208637123 and parameters: {'kernel': 'rbf', 'C': 0.22060095901328536, 'gamma': 0.02982933121971505, 'epsilon': 0.0012274569647857821}. Best is trial 156 with value: -0.0056736269798483355.\u001b[0m\n",
      "\u001b[32m[I 2021-06-25 14:05:02,592]\u001b[0m Trial 1094 finished with value: -0.005828897325653784 and parameters: {'kernel': 'rbf', 'C': 0.18945039439023525, 'gamma': 0.03744306223025147, 'epsilon': 0.0018680164522040775}. Best is trial 156 with value: -0.0056736269798483355.\u001b[0m\n",
      "\u001b[32m[I 2021-06-25 14:05:03,031]\u001b[0m Trial 1095 finished with value: -0.005704678811752077 and parameters: {'kernel': 'rbf', 'C': 0.11775517438633173, 'gamma': 0.022145461391382168, 'epsilon': 0.0015156053474812544}. Best is trial 156 with value: -0.0056736269798483355.\u001b[0m\n",
      "\u001b[32m[I 2021-06-25 14:05:03,493]\u001b[0m Trial 1096 finished with value: -0.005695703373484198 and parameters: {'kernel': 'rbf', 'C': 0.10447330316054838, 'gamma': 0.026201831552768673, 'epsilon': 0.0013572197664671053}. Best is trial 156 with value: -0.0056736269798483355.\u001b[0m\n",
      "\u001b[32m[I 2021-06-25 14:05:03,934]\u001b[0m Trial 1097 finished with value: -0.0057200218666181675 and parameters: {'kernel': 'rbf', 'C': 0.13229774856429874, 'gamma': 0.01895120063470547, 'epsilon': 0.0016684369397825284}. Best is trial 156 with value: -0.0056736269798483355.\u001b[0m\n",
      "\u001b[32m[I 2021-06-25 14:05:04,275]\u001b[0m Trial 1098 finished with value: -0.005712615087344442 and parameters: {'kernel': 'rbf', 'C': 0.16748622391298026, 'gamma': 0.024233956369741964, 'epsilon': 0.0023905474193759452}. Best is trial 156 with value: -0.0056736269798483355.\u001b[0m\n",
      "\u001b[32m[I 2021-06-25 14:05:04,816]\u001b[0m Trial 1099 finished with value: -0.005733537324989873 and parameters: {'kernel': 'rbf', 'C': 0.09572567812291527, 'gamma': 0.03178569344286067, 'epsilon': 0.0010029114227107108}. Best is trial 156 with value: -0.0056736269798483355.\u001b[0m\n"
     ]
    },
    {
     "name": "stderr",
     "output_type": "stream",
     "text": [
      "\u001b[32m[I 2021-06-25 14:05:05,373]\u001b[0m Trial 1100 finished with value: -0.005691096838505569 and parameters: {'kernel': 'rbf', 'C': 0.14707556460783366, 'gamma': 0.02061650479016229, 'epsilon': 0.0011954939116053302}. Best is trial 156 with value: -0.0056736269798483355.\u001b[0m\n",
      "\u001b[32m[I 2021-06-25 14:05:05,793]\u001b[0m Trial 1101 finished with value: -0.005714835304481411 and parameters: {'kernel': 'rbf', 'C': 0.2003456843317312, 'gamma': 0.027129519969245276, 'epsilon': 0.0019737296129551008}. Best is trial 156 with value: -0.0056736269798483355.\u001b[0m\n",
      "\u001b[32m[I 2021-06-25 14:05:06,293]\u001b[0m Trial 1102 finished with value: -0.005690097725283605 and parameters: {'kernel': 'rbf', 'C': 0.1237905283037445, 'gamma': 0.022591419384675012, 'epsilon': 0.0014533832263922577}. Best is trial 156 with value: -0.0056736269798483355.\u001b[0m\n",
      "\u001b[32m[I 2021-06-25 14:05:06,737]\u001b[0m Trial 1103 finished with value: -0.005735849157758536 and parameters: {'kernel': 'rbf', 'C': 0.17565439055890253, 'gamma': 0.015556105257297097, 'epsilon': 0.0017476501372751267}. Best is trial 156 with value: -0.0056736269798483355.\u001b[0m\n",
      "\u001b[32m[I 2021-06-25 14:05:07,248]\u001b[0m Trial 1104 finished with value: -0.005706443438112153 and parameters: {'kernel': 'rbf', 'C': 0.14509403538926416, 'gamma': 0.028693232544220876, 'epsilon': 0.0013140403375882384}. Best is trial 156 with value: -0.0056736269798483355.\u001b[0m\n",
      "\u001b[32m[I 2021-06-25 14:05:07,885]\u001b[0m Trial 1105 finished with value: -0.00570227889450194 and parameters: {'kernel': 'rbf', 'C': 0.24593646425527813, 'gamma': 0.019044270231677204, 'epsilon': 0.0011330207434671242}. Best is trial 156 with value: -0.0056736269798483355.\u001b[0m\n",
      "\u001b[32m[I 2021-06-25 14:05:08,348]\u001b[0m Trial 1106 finished with value: -0.005680784765174182 and parameters: {'kernel': 'rbf', 'C': 0.1267561427827753, 'gamma': 0.024661810079156524, 'epsilon': 0.001532259913042722}. Best is trial 156 with value: -0.0056736269798483355.\u001b[0m\n",
      "\u001b[32m[I 2021-06-25 14:05:08,675]\u001b[0m Trial 1107 finished with value: -0.005733437945237874 and parameters: {'kernel': 'rbf', 'C': 0.09545609848949506, 'gamma': 0.0341983034825634, 'epsilon': 0.002217571661903726}. Best is trial 156 with value: -0.0056736269798483355.\u001b[0m\n",
      "\u001b[32m[I 2021-06-25 14:05:08,950]\u001b[0m Trial 1108 finished with value: -0.0057646424113171335 and parameters: {'kernel': 'rbf', 'C': 0.07805939808907744, 'gamma': 0.0304813213979816, 'epsilon': 0.0026806902367291106}. Best is trial 156 with value: -0.0056736269798483355.\u001b[0m\n",
      "\u001b[32m[I 2021-06-25 14:05:09,375]\u001b[0m Trial 1109 finished with value: -0.005692156734961629 and parameters: {'kernel': 'rbf', 'C': 0.10645769571610458, 'gamma': 0.02631380066991194, 'epsilon': 0.001648140665765736}. Best is trial 156 with value: -0.0056736269798483355.\u001b[0m\n",
      "\u001b[32m[I 2021-06-25 14:05:10,129]\u001b[0m Trial 1110 finished with value: -0.006213467141873455 and parameters: {'kernel': 'rbf', 'C': 0.9446067291054187, 'gamma': 0.03592142170502167, 'epsilon': 0.0019469717295312594}. Best is trial 156 with value: -0.0056736269798483355.\u001b[0m\n",
      "\u001b[32m[I 2021-06-25 14:05:10,622]\u001b[0m Trial 1111 finished with value: -0.00568337328836727 and parameters: {'kernel': 'rbf', 'C': 0.12330720253506941, 'gamma': 0.024790504390247502, 'epsilon': 0.0015610548546263145}. Best is trial 156 with value: -0.0056736269798483355.\u001b[0m\n",
      "\u001b[32m[I 2021-06-25 14:05:11,003]\u001b[0m Trial 1112 finished with value: -0.005714086763332422 and parameters: {'kernel': 'rbf', 'C': 0.08631159957552823, 'gamma': 0.02884380668585529, 'epsilon': 0.0017589137840874774}. Best is trial 156 with value: -0.0056736269798483355.\u001b[0m\n",
      "\u001b[32m[I 2021-06-25 14:05:11,550]\u001b[0m Trial 1113 finished with value: -0.006346709908654412 and parameters: {'kernel': 'poly', 'C': 0.1133988893398883, 'gamma': 0.023273140577382397, 'epsilon': 0.0013846266707655739}. Best is trial 156 with value: -0.0056736269798483355.\u001b[0m\n",
      "\u001b[32m[I 2021-06-25 14:05:11,934]\u001b[0m Trial 1114 finished with value: -0.005698068704011928 and parameters: {'kernel': 'rbf', 'C': 0.12601316116045433, 'gamma': 0.025586672595678754, 'epsilon': 0.002052134093101797}. Best is trial 156 with value: -0.0056736269798483355.\u001b[0m\n",
      "\u001b[32m[I 2021-06-25 14:05:12,370]\u001b[0m Trial 1115 finished with value: -0.005712222647715451 and parameters: {'kernel': 'rbf', 'C': 0.10040138975001707, 'gamma': 0.03121702467836936, 'epsilon': 0.0014995834746152382}. Best is trial 156 with value: -0.0056736269798483355.\u001b[0m\n",
      "\u001b[32m[I 2021-06-25 14:05:12,878]\u001b[0m Trial 1116 finished with value: -0.005695820735602613 and parameters: {'kernel': 'rbf', 'C': 0.13820359133973745, 'gamma': 0.020718650914357737, 'epsilon': 0.0012721101648499552}. Best is trial 156 with value: -0.0056736269798483355.\u001b[0m\n",
      "\u001b[32m[I 2021-06-25 14:05:13,340]\u001b[0m Trial 1117 finished with value: -0.005825532095533573 and parameters: {'kernel': 'rbf', 'C': 0.15988525950502358, 'gamma': 0.0402104029076847, 'epsilon': 0.0017271221171182613}. Best is trial 156 with value: -0.0056736269798483355.\u001b[0m\n",
      "\u001b[32m[I 2021-06-25 14:05:13,760]\u001b[0m Trial 1118 finished with value: -0.005723785085228468 and parameters: {'kernel': 'rbf', 'C': 0.06123131638203371, 'gamma': 0.02739234135228601, 'epsilon': 0.0012161671740208943}. Best is trial 156 with value: -0.0056736269798483355.\u001b[0m\n",
      "\u001b[32m[I 2021-06-25 14:05:14,305]\u001b[0m Trial 1119 finished with value: -0.0057024585981127465 and parameters: {'kernel': 'rbf', 'C': 0.11523941014880801, 'gamma': 0.022838506019342616, 'epsilon': 0.0010042346861532654}. Best is trial 156 with value: -0.0056736269798483355.\u001b[0m\n",
      "\u001b[32m[I 2021-06-25 14:05:14,801]\u001b[0m Trial 1120 finished with value: -0.005719282634083438 and parameters: {'kernel': 'rbf', 'C': 0.1349722934120468, 'gamma': 0.017835446016102714, 'epsilon': 0.001553713960208079}. Best is trial 156 with value: -0.0056736269798483355.\u001b[0m\n",
      "\u001b[32m[I 2021-06-25 14:05:15,243]\u001b[0m Trial 1121 finished with value: -0.005767737660243692 and parameters: {'kernel': 'rbf', 'C': 0.18167189905145245, 'gamma': 0.03268008917995952, 'epsilon': 0.0019537430978548006}. Best is trial 156 with value: -0.0056736269798483355.\u001b[0m\n",
      "\u001b[32m[I 2021-06-25 14:05:15,801]\u001b[0m Trial 1122 finished with value: -0.005698632374848426 and parameters: {'kernel': 'rbf', 'C': 0.162840086082139, 'gamma': 0.020997385169568863, 'epsilon': 0.0013761570372744943}. Best is trial 156 with value: -0.0056736269798483355.\u001b[0m\n",
      "\u001b[32m[I 2021-06-25 14:05:16,399]\u001b[0m Trial 1123 finished with value: -0.005690565788932188 and parameters: {'kernel': 'rbf', 'C': 0.11144008012827607, 'gamma': 0.025138513879968682, 'epsilon': 0.0011226984101313027}. Best is trial 156 with value: -0.0056736269798483355.\u001b[0m\n",
      "\u001b[32m[I 2021-06-25 14:05:16,874]\u001b[0m Trial 1124 finished with value: -0.005693418685946065 and parameters: {'kernel': 'rbf', 'C': 0.14564789140836118, 'gamma': 0.027363959266340637, 'epsilon': 0.0016422556949017403}. Best is trial 156 with value: -0.0056736269798483355.\u001b[0m\n",
      "\u001b[32m[I 2021-06-25 14:05:17,370]\u001b[0m Trial 1125 finished with value: -0.005697316131179952 and parameters: {'kernel': 'rbf', 'C': 0.127496512010899, 'gamma': 0.020100176190647426, 'epsilon': 0.0014193504294700277}. Best is trial 156 with value: -0.0056736269798483355.\u001b[0m\n",
      "\u001b[32m[I 2021-06-25 14:05:17,852]\u001b[0m Trial 1126 finished with value: -0.005700992159344699 and parameters: {'kernel': 'rbf', 'C': 0.1964896244177117, 'gamma': 0.02353493750263341, 'epsilon': 0.0018220521005738951}. Best is trial 156 with value: -0.0056736269798483355.\u001b[0m\n",
      "\u001b[32m[I 2021-06-25 14:05:18,108]\u001b[0m Trial 1127 finished with value: -0.005892664470802268 and parameters: {'kernel': 'rbf', 'C': 0.15882346474292963, 'gamma': 0.03088960652816917, 'epsilon': 0.004135371041996209}. Best is trial 156 with value: -0.0056736269798483355.\u001b[0m\n",
      "\u001b[32m[I 2021-06-25 14:05:18,606]\u001b[0m Trial 1128 finished with value: -0.005742294178448899 and parameters: {'kernel': 'rbf', 'C': 0.09704964549405552, 'gamma': 0.017722175041184722, 'epsilon': 0.0011256185953313512}. Best is trial 156 with value: -0.0056736269798483355.\u001b[0m\n",
      "\u001b[32m[I 2021-06-25 14:05:18,992]\u001b[0m Trial 1129 finished with value: -0.005734422640069434 and parameters: {'kernel': 'rbf', 'C': 0.21470976910014758, 'gamma': 0.02647553591481394, 'epsilon': 0.0022990984231179915}. Best is trial 156 with value: -0.0056736269798483355.\u001b[0m\n"
     ]
    },
    {
     "name": "stderr",
     "output_type": "stream",
     "text": [
      "\u001b[32m[I 2021-06-25 14:05:19,508]\u001b[0m Trial 1130 finished with value: -0.005766065550362531 and parameters: {'kernel': 'rbf', 'C': 0.13035517008627737, 'gamma': 0.03589591704651708, 'epsilon': 0.0012957161874397698}. Best is trial 156 with value: -0.0056736269798483355.\u001b[0m\n",
      "\u001b[32m[I 2021-06-25 14:05:19,984]\u001b[0m Trial 1131 finished with value: -0.005691853312614282 and parameters: {'kernel': 'rbf', 'C': 0.14989582045104205, 'gamma': 0.0220734865526848, 'epsilon': 0.0015305930748605165}. Best is trial 156 with value: -0.0056736269798483355.\u001b[0m\n",
      "\u001b[32m[I 2021-06-25 14:05:20,461]\u001b[0m Trial 1132 finished with value: -0.005716836055709288 and parameters: {'kernel': 'rbf', 'C': 0.1785395066826452, 'gamma': 0.02859690148969302, 'epsilon': 0.00168717970974624}. Best is trial 156 with value: -0.0056736269798483355.\u001b[0m\n",
      "\u001b[32m[I 2021-06-25 14:05:20,969]\u001b[0m Trial 1133 finished with value: -0.0056844684547836645 and parameters: {'kernel': 'rbf', 'C': 0.11927864374630323, 'gamma': 0.023886112957349732, 'epsilon': 0.001260199713408949}. Best is trial 156 with value: -0.0056736269798483355.\u001b[0m\n",
      "\u001b[32m[I 2021-06-25 14:05:21,438]\u001b[0m Trial 1134 finished with value: -0.005718932576400916 and parameters: {'kernel': 'rbf', 'C': 0.14216359879925156, 'gamma': 0.019386460692553818, 'epsilon': 0.0014520102624242823}. Best is trial 156 with value: -0.0056736269798483355.\u001b[0m\n",
      "\u001b[32m[I 2021-06-25 14:05:22,192]\u001b[0m Trial 1135 finished with value: -0.005810272946016052 and parameters: {'kernel': 'rbf', 'C': 0.2720663672888957, 'gamma': 0.025119548175044942, 'epsilon': 0.0010058573608290986}. Best is trial 156 with value: -0.0056736269798483355.\u001b[0m\n",
      "\u001b[32m[I 2021-06-25 14:05:22,543]\u001b[0m Trial 1136 finished with value: -0.00578553176061625 and parameters: {'kernel': 'rbf', 'C': 0.10124031974047328, 'gamma': 0.01625503302198714, 'epsilon': 0.0020399702415996876}. Best is trial 156 with value: -0.0056736269798483355.\u001b[0m\n",
      "\u001b[32m[I 2021-06-25 14:05:22,975]\u001b[0m Trial 1137 finished with value: -0.005700856816972885 and parameters: {'kernel': 'rbf', 'C': 0.16899035607927337, 'gamma': 0.021272798594676203, 'epsilon': 0.0017507768770396112}. Best is trial 156 with value: -0.0056736269798483355.\u001b[0m\n",
      "\u001b[32m[I 2021-06-25 14:05:23,507]\u001b[0m Trial 1138 finished with value: -0.005719884985679553 and parameters: {'kernel': 'rbf', 'C': 0.1141421456640024, 'gamma': 0.030288437709521353, 'epsilon': 0.0011440043724288407}. Best is trial 156 with value: -0.0056736269798483355.\u001b[0m\n",
      "\u001b[32m[I 2021-06-25 14:05:24,007]\u001b[0m Trial 1139 finished with value: -0.0057441959285851356 and parameters: {'kernel': 'rbf', 'C': 0.13310993042141883, 'gamma': 0.034378004732713685, 'epsilon': 0.0014008330938250996}. Best is trial 156 with value: -0.0056736269798483355.\u001b[0m\n",
      "\u001b[32m[I 2021-06-25 14:05:24,498]\u001b[0m Trial 1140 finished with value: -0.005711579589723063 and parameters: {'kernel': 'rbf', 'C': 0.19534521510321082, 'gamma': 0.026614805072064478, 'epsilon': 0.0015915691521150783}. Best is trial 156 with value: -0.0056736269798483355.\u001b[0m\n",
      "\u001b[32m[I 2021-06-25 14:05:25,115]\u001b[0m Trial 1141 finished with value: -0.006348811359637996 and parameters: {'kernel': 'poly', 'C': 0.15637038985763438, 'gamma': 0.022350010901202012, 'epsilon': 0.001225195384805675}. Best is trial 156 with value: -0.0056736269798483355.\u001b[0m\n",
      "\u001b[32m[I 2021-06-25 14:05:25,559]\u001b[0m Trial 1142 finished with value: -0.005721241214736939 and parameters: {'kernel': 'rbf', 'C': 0.21988956118245115, 'gamma': 0.019127872317846985, 'epsilon': 0.0019427107468652659}. Best is trial 156 with value: -0.0056736269798483355.\u001b[0m\n",
      "\u001b[32m[I 2021-06-25 14:05:25,999]\u001b[0m Trial 1143 finished with value: -0.0057038429770758505 and parameters: {'kernel': 'rbf', 'C': 0.08461516107119667, 'gamma': 0.029202155818582782, 'epsilon': 0.0014104238541683262}. Best is trial 156 with value: -0.0056736269798483355.\u001b[0m\n",
      "\u001b[32m[I 2021-06-25 14:05:26,487]\u001b[0m Trial 1144 finished with value: -0.005691711133791525 and parameters: {'kernel': 'rbf', 'C': 0.12801633034585547, 'gamma': 0.024201426486886102, 'epsilon': 0.001598692265635398}. Best is trial 156 with value: -0.0056736269798483355.\u001b[0m\n",
      "\u001b[32m[I 2021-06-25 14:05:26,822]\u001b[0m Trial 1145 finished with value: -0.005785277091869954 and parameters: {'kernel': 'rbf', 'C': 0.1792522890437754, 'gamma': 0.014468429096788821, 'epsilon': 0.002459803889800807}. Best is trial 156 with value: -0.0056736269798483355.\u001b[0m\n",
      "\u001b[32m[I 2021-06-25 14:05:27,352]\u001b[0m Trial 1146 finished with value: -0.005700589924391567 and parameters: {'kernel': 'rbf', 'C': 0.15372819117537673, 'gamma': 0.021055471588614733, 'epsilon': 0.0012926310056800808}. Best is trial 156 with value: -0.0056736269798483355.\u001b[0m\n",
      "\u001b[32m[I 2021-06-25 14:05:27,873]\u001b[0m Trial 1147 finished with value: -0.0056969610343673635 and parameters: {'kernel': 'rbf', 'C': 0.10575500515722454, 'gamma': 0.025817749137511142, 'epsilon': 0.0011195071287261435}. Best is trial 156 with value: -0.0056736269798483355.\u001b[0m\n",
      "\u001b[32m[I 2021-06-25 14:05:28,298]\u001b[0m Trial 1148 finished with value: -0.005705535210574739 and parameters: {'kernel': 'rbf', 'C': 0.13414902625972028, 'gamma': 0.030903146642368956, 'epsilon': 0.0017860235390304065}. Best is trial 156 with value: -0.0056736269798483355.\u001b[0m\n",
      "\u001b[32m[I 2021-06-25 14:05:28,349]\u001b[0m Trial 1149 finished with value: -0.04522358590646345 and parameters: {'kernel': 'rbf', 'C': 0.1622072397099352, 'gamma': 0.01771489580381875, 'epsilon': 0.054005193763261954}. Best is trial 156 with value: -0.0056736269798483355.\u001b[0m\n",
      "\u001b[32m[I 2021-06-25 14:05:28,827]\u001b[0m Trial 1150 finished with value: -0.005771848987308568 and parameters: {'kernel': 'rbf', 'C': 0.11856773897889282, 'gamma': 0.04083334801966066, 'epsilon': 0.0014723376760787737}. Best is trial 156 with value: -0.0056736269798483355.\u001b[0m\n",
      "\u001b[32m[I 2021-06-25 14:05:29,267]\u001b[0m Trial 1151 finished with value: -0.005702383906695477 and parameters: {'kernel': 'rbf', 'C': 0.1840645215762757, 'gamma': 0.022933093500900836, 'epsilon': 0.002065466152493842}. Best is trial 156 with value: -0.0056736269798483355.\u001b[0m\n",
      "\u001b[32m[I 2021-06-25 14:05:29,911]\u001b[0m Trial 1152 finished with value: -0.005713255228110159 and parameters: {'kernel': 'rbf', 'C': 0.14899254238971937, 'gamma': 0.02787844117800396, 'epsilon': 0.0010105732750122457}. Best is trial 156 with value: -0.0056736269798483355.\u001b[0m\n",
      "\u001b[32m[I 2021-06-25 14:05:30,382]\u001b[0m Trial 1153 finished with value: -0.005730079355698418 and parameters: {'kernel': 'rbf', 'C': 0.09117875905109911, 'gamma': 0.01978443533101766, 'epsilon': 0.0012978250321519836}. Best is trial 156 with value: -0.0056736269798483355.\u001b[0m\n",
      "\u001b[32m[I 2021-06-25 14:05:31,460]\u001b[0m Trial 1154 finished with value: -0.005864662065696455 and parameters: {'kernel': 'rbf', 'C': 0.23280639614230783, 'gamma': 0.033072482987352624, 'epsilon': 0.001000258243056528}. Best is trial 156 with value: -0.0056736269798483355.\u001b[0m\n",
      "\u001b[32m[I 2021-06-25 14:05:32,013]\u001b[0m Trial 1155 finished with value: -0.005682083561023919 and parameters: {'kernel': 'rbf', 'C': 0.12950009935727033, 'gamma': 0.024122748232614448, 'epsilon': 0.0016288535611242798}. Best is trial 156 with value: -0.0056736269798483355.\u001b[0m\n",
      "\u001b[32m[I 2021-06-25 14:05:32,059]\u001b[0m Trial 1156 finished with value: -0.04522358590646345 and parameters: {'kernel': 'rbf', 'C': 0.1428983439428042, 'gamma': 0.02735454004855645, 'epsilon': 0.1467459654467233}. Best is trial 156 with value: -0.0056736269798483355.\u001b[0m\n",
      "\u001b[32m[I 2021-06-25 14:05:32,599]\u001b[0m Trial 1157 finished with value: -0.005695905125049146 and parameters: {'kernel': 'rbf', 'C': 0.1952827702134142, 'gamma': 0.022008173191646867, 'epsilon': 0.0014573932241446139}. Best is trial 156 with value: -0.0056736269798483355.\u001b[0m\n",
      "\u001b[32m[I 2021-06-25 14:05:32,939]\u001b[0m Trial 1158 finished with value: -0.006079724438280513 and parameters: {'kernel': 'rbf', 'C': 0.16999785254244804, 'gamma': 0.0020385268922031223, 'epsilon': 0.0017792093912856112}. Best is trial 156 with value: -0.0056736269798483355.\u001b[0m\n",
      "\u001b[32m[I 2021-06-25 14:05:32,990]\u001b[0m Trial 1159 finished with value: -0.04522358590646345 and parameters: {'kernel': 'rbf', 'C': 0.1139630888980804, 'gamma': 0.01698266369895113, 'epsilon': 0.25239463156572034}. Best is trial 156 with value: -0.0056736269798483355.\u001b[0m\n"
     ]
    },
    {
     "name": "stderr",
     "output_type": "stream",
     "text": [
      "\u001b[32m[I 2021-06-25 14:05:33,568]\u001b[0m Trial 1160 finished with value: -0.005694251412519453 and parameters: {'kernel': 'rbf', 'C': 0.14580735487785687, 'gamma': 0.02491073729222233, 'epsilon': 0.001181476001558875}. Best is trial 156 with value: -0.0056736269798483355.\u001b[0m\n",
      "\u001b[32m[I 2021-06-25 14:05:34,040]\u001b[0m Trial 1161 finished with value: -0.005742885391694711 and parameters: {'kernel': 'rbf', 'C': 0.10503569215972709, 'gamma': 0.019641743426740906, 'epsilon': 0.0013170341919797564}. Best is trial 156 with value: -0.0056736269798483355.\u001b[0m\n",
      "\u001b[32m[I 2021-06-25 14:05:34,491]\u001b[0m Trial 1162 finished with value: -0.005734011778318203 and parameters: {'kernel': 'rbf', 'C': 0.12383656086434942, 'gamma': 0.03550057268776287, 'epsilon': 0.0015539202844770603}. Best is trial 156 with value: -0.0056736269798483355.\u001b[0m\n",
      "\u001b[32m[I 2021-06-25 14:05:34,892]\u001b[0m Trial 1163 finished with value: -0.005716983224720099 and parameters: {'kernel': 'rbf', 'C': 0.17398501126744723, 'gamma': 0.029311608561028688, 'epsilon': 0.0019041169921811723}. Best is trial 156 with value: -0.0056736269798483355.\u001b[0m\n",
      "\u001b[32m[I 2021-06-25 14:05:35,435]\u001b[0m Trial 1164 finished with value: -0.005698792858207009 and parameters: {'kernel': 'rbf', 'C': 0.2120810897146197, 'gamma': 0.02225944151636167, 'epsilon': 0.0013800471261402687}. Best is trial 156 with value: -0.0056736269798483355.\u001b[0m\n",
      "\u001b[32m[I 2021-06-25 14:05:35,555]\u001b[0m Trial 1165 finished with value: -0.008064316178797543 and parameters: {'kernel': 'rbf', 'C': 0.14677194071768937, 'gamma': 0.025874624648789868, 'epsilon': 0.011082335939088205}. Best is trial 156 with value: -0.0056736269798483355.\u001b[0m\n",
      "\u001b[32m[I 2021-06-25 14:05:35,924]\u001b[0m Trial 1166 finished with value: -0.0057284114555204045 and parameters: {'kernel': 'rbf', 'C': 0.1597580961210727, 'gamma': 0.020872806089140078, 'epsilon': 0.0021695902861677673}. Best is trial 156 with value: -0.0056736269798483355.\u001b[0m\n",
      "\u001b[32m[I 2021-06-25 14:05:36,581]\u001b[0m Trial 1167 finished with value: -0.0057313811222192805 and parameters: {'kernel': 'rbf', 'C': 0.13076357224723878, 'gamma': 0.03210945755738568, 'epsilon': 0.0011275674780247742}. Best is trial 156 with value: -0.0056736269798483355.\u001b[0m\n",
      "\u001b[32m[I 2021-06-25 14:05:37,083]\u001b[0m Trial 1168 finished with value: -0.005691302553286224 and parameters: {'kernel': 'rbf', 'C': 0.18790836678792158, 'gamma': 0.024317238119767968, 'epsilon': 0.0016795640793335637}. Best is trial 156 with value: -0.0056736269798483355.\u001b[0m\n",
      "\u001b[32m[I 2021-06-25 14:05:37,532]\u001b[0m Trial 1169 finished with value: -0.0063652672701713 and parameters: {'kernel': 'poly', 'C': 0.11374045051105322, 'gamma': 0.01890009631843022, 'epsilon': 0.0014744367959828564}. Best is trial 156 with value: -0.0056736269798483355.\u001b[0m\n",
      "\u001b[32m[I 2021-06-25 14:05:38,047]\u001b[0m Trial 1170 finished with value: -0.005747612831969923 and parameters: {'kernel': 'rbf', 'C': 0.13909640967611292, 'gamma': 0.015703887638473, 'epsilon': 0.0012581595306857326}. Best is trial 156 with value: -0.0056736269798483355.\u001b[0m\n",
      "\u001b[32m[I 2021-06-25 14:05:38,415]\u001b[0m Trial 1171 finished with value: -0.005801349919601846 and parameters: {'kernel': 'rbf', 'C': 0.09710243694309607, 'gamma': 0.012637901238104394, 'epsilon': 0.0018063919973573257}. Best is trial 156 with value: -0.0056736269798483355.\u001b[0m\n",
      "\u001b[32m[I 2021-06-25 14:05:38,893]\u001b[0m Trial 1172 finished with value: -0.005708876918963983 and parameters: {'kernel': 'rbf', 'C': 0.16558704405459276, 'gamma': 0.028128001356832952, 'epsilon': 0.001562181505712231}. Best is trial 156 with value: -0.0056736269798483355.\u001b[0m\n",
      "\u001b[32m[I 2021-06-25 14:05:39,528]\u001b[0m Trial 1173 finished with value: -0.005708439341573367 and parameters: {'kernel': 'rbf', 'C': 0.20357430971222462, 'gamma': 0.02329896506075982, 'epsilon': 0.0011170078650879869}. Best is trial 156 with value: -0.0056736269798483355.\u001b[0m\n",
      "\u001b[32m[I 2021-06-25 14:05:40,134]\u001b[0m Trial 1174 finished with value: -0.005806523563347527 and parameters: {'kernel': 'rbf', 'C': 0.2375464945036857, 'gamma': 0.028444298868250225, 'epsilon': 0.0013431935953942481}. Best is trial 156 with value: -0.0056736269798483355.\u001b[0m\n",
      "\u001b[32m[I 2021-06-25 14:05:40,545]\u001b[0m Trial 1175 finished with value: -0.0057215807614666644 and parameters: {'kernel': 'rbf', 'C': 0.12336308709264572, 'gamma': 0.02041365642178035, 'epsilon': 0.0016123051077266205}. Best is trial 156 with value: -0.0056736269798483355.\u001b[0m\n",
      "\u001b[32m[I 2021-06-25 14:05:40,944]\u001b[0m Trial 1176 finished with value: -0.005696702085016321 and parameters: {'kernel': 'rbf', 'C': 0.15901686030127507, 'gamma': 0.0248561762853428, 'epsilon': 0.0019744399252615897}. Best is trial 156 with value: -0.0056736269798483355.\u001b[0m\n",
      "\u001b[32m[I 2021-06-25 14:05:41,259]\u001b[0m Trial 1177 finished with value: -0.005799835450935297 and parameters: {'kernel': 'rbf', 'C': 0.1395141517518542, 'gamma': 0.03822703256829281, 'epsilon': 0.0024743298840337294}. Best is trial 156 with value: -0.0056736269798483355.\u001b[0m\n",
      "\u001b[32m[I 2021-06-25 14:05:41,746]\u001b[0m Trial 1178 finished with value: -0.005742427843710103 and parameters: {'kernel': 'rbf', 'C': 0.10931025977559887, 'gamma': 0.01735024348867903, 'epsilon': 0.0012271022853845676}. Best is trial 156 with value: -0.0056736269798483355.\u001b[0m\n",
      "\u001b[32m[I 2021-06-25 14:05:42,286]\u001b[0m Trial 1179 finished with value: -0.0057901090805359545 and parameters: {'kernel': 'rbf', 'C': 0.18403681404814254, 'gamma': 0.033055316828262966, 'epsilon': 0.0014227012075646475}. Best is trial 156 with value: -0.0056736269798483355.\u001b[0m\n",
      "\u001b[32m[I 2021-06-25 14:05:42,705]\u001b[0m Trial 1180 finished with value: -0.005691349663023646 and parameters: {'kernel': 'rbf', 'C': 0.15235283330981392, 'gamma': 0.021580727129194673, 'epsilon': 0.0017439161640235793}. Best is trial 156 with value: -0.0056736269798483355.\u001b[0m\n",
      "\u001b[32m[I 2021-06-25 14:05:43,170]\u001b[0m Trial 1181 finished with value: -0.005696177006942578 and parameters: {'kernel': 'rbf', 'C': 0.12544641303834903, 'gamma': 0.027277570533135353, 'epsilon': 0.001471349158837461}. Best is trial 156 with value: -0.0056736269798483355.\u001b[0m\n",
      "\u001b[32m[I 2021-06-25 14:05:43,669]\u001b[0m Trial 1182 finished with value: -0.005716254532382541 and parameters: {'kernel': 'rbf', 'C': 0.08597429396383079, 'gamma': 0.02342123439087161, 'epsilon': 0.00108321685979502}. Best is trial 156 with value: -0.0056736269798483355.\u001b[0m\n",
      "\u001b[32m[I 2021-06-25 14:05:44,252]\u001b[0m Trial 1183 finished with value: -0.005885640428276581 and parameters: {'kernel': 'rbf', 'C': 0.17571202819485388, 'gamma': 0.045977160792377375, 'epsilon': 0.0012903142403023781}. Best is trial 156 with value: -0.0056736269798483355.\u001b[0m\n",
      "\u001b[32m[I 2021-06-25 14:05:44,685]\u001b[0m Trial 1184 finished with value: -0.005709420547407353 and parameters: {'kernel': 'rbf', 'C': 0.14223302697261747, 'gamma': 0.030463746514701216, 'epsilon': 0.0017012830821032082}. Best is trial 156 with value: -0.0056736269798483355.\u001b[0m\n",
      "\u001b[32m[I 2021-06-25 14:05:45,103]\u001b[0m Trial 1185 finished with value: -0.005742983085180592 and parameters: {'kernel': 'rbf', 'C': 0.29432114366874734, 'gamma': 0.019453950533416423, 'epsilon': 0.002207540509139147}. Best is trial 156 with value: -0.0056736269798483355.\u001b[0m\n",
      "\u001b[32m[I 2021-06-25 14:05:45,545]\u001b[0m Trial 1186 finished with value: -0.005697002261240249 and parameters: {'kernel': 'rbf', 'C': 0.10569796644675646, 'gamma': 0.025801887686412662, 'epsilon': 0.001505893378425419}. Best is trial 156 with value: -0.0056736269798483355.\u001b[0m\n",
      "\u001b[32m[I 2021-06-25 14:05:46,300]\u001b[0m Trial 1187 finished with value: -0.005698936494346719 and parameters: {'kernel': 'rbf', 'C': 0.20668030038510699, 'gamma': 0.022733268276155714, 'epsilon': 0.0011803403927648775}. Best is trial 156 with value: -0.0056736269798483355.\u001b[0m\n",
      "\u001b[32m[I 2021-06-25 14:05:46,776]\u001b[0m Trial 1188 finished with value: -0.005773743795359495 and parameters: {'kernel': 'rbf', 'C': 0.15904344050962457, 'gamma': 0.028495176882255422, 'epsilon': 0.0030455945565736916}. Best is trial 156 with value: -0.0056736269798483355.\u001b[0m\n",
      "\u001b[32m[I 2021-06-25 14:05:47,249]\u001b[0m Trial 1189 finished with value: -0.0057299199784031215 and parameters: {'kernel': 'rbf', 'C': 0.1311596726771144, 'gamma': 0.01860220198857874, 'epsilon': 0.0019385076768431207}. Best is trial 156 with value: -0.0056736269798483355.\u001b[0m\n"
     ]
    },
    {
     "name": "stderr",
     "output_type": "stream",
     "text": [
      "\u001b[32m[I 2021-06-25 14:05:47,741]\u001b[0m Trial 1190 finished with value: -0.005704284008035898 and parameters: {'kernel': 'rbf', 'C': 0.11912278585299149, 'gamma': 0.021556297659924853, 'epsilon': 0.0013538044742973274}. Best is trial 156 with value: -0.0056736269798483355.\u001b[0m\n",
      "\u001b[32m[I 2021-06-25 14:05:48,221]\u001b[0m Trial 1191 finished with value: -0.005768084967155507 and parameters: {'kernel': 'rbf', 'C': 0.17662429785975572, 'gamma': 0.03303821726331419, 'epsilon': 0.0016207319187016716}. Best is trial 156 with value: -0.0056736269798483355.\u001b[0m\n",
      "\u001b[32m[I 2021-06-25 14:05:48,785]\u001b[0m Trial 1192 finished with value: -0.005695313413629578 and parameters: {'kernel': 'rbf', 'C': 0.1439482251588763, 'gamma': 0.025037911839037797, 'epsilon': 0.0010091711952249021}. Best is trial 156 with value: -0.0056736269798483355.\u001b[0m\n",
      "\u001b[32m[I 2021-06-25 14:05:53,112]\u001b[0m Trial 1193 finished with value: -0.006346366067569702 and parameters: {'kernel': 'rbf', 'C': 9.609412797032387, 'gamma': 0.015818054506934878, 'epsilon': 0.0012166699557629025}. Best is trial 156 with value: -0.0056736269798483355.\u001b[0m\n",
      "\u001b[32m[I 2021-06-25 14:05:53,467]\u001b[0m Trial 1194 finished with value: -0.005743518459641335 and parameters: {'kernel': 'rbf', 'C': 0.06959835306091287, 'gamma': 0.026396442925382586, 'epsilon': 0.0018720421755401802}. Best is trial 156 with value: -0.0056736269798483355.\u001b[0m\n",
      "\u001b[32m[I 2021-06-25 14:05:53,895]\u001b[0m Trial 1195 finished with value: -0.005722360378923551 and parameters: {'kernel': 'rbf', 'C': 0.09739653707997444, 'gamma': 0.020870526607288796, 'epsilon': 0.0014603950469659263}. Best is trial 156 with value: -0.0056736269798483355.\u001b[0m\n",
      "\u001b[32m[I 2021-06-25 14:05:54,677]\u001b[0m Trial 1196 finished with value: -0.0063470373159165774 and parameters: {'kernel': 'poly', 'C': 0.1592139982629937, 'gamma': 0.030163950036419595, 'epsilon': 0.001327628298695026}. Best is trial 156 with value: -0.0056736269798483355.\u001b[0m\n",
      "\u001b[32m[I 2021-06-25 14:05:55,096]\u001b[0m Trial 1197 finished with value: -0.005743152814250216 and parameters: {'kernel': 'rbf', 'C': 0.12439831783871572, 'gamma': 0.03602029556479732, 'epsilon': 0.0016401970507560594}. Best is trial 156 with value: -0.0056736269798483355.\u001b[0m\n",
      "\u001b[32m[I 2021-06-25 14:05:55,781]\u001b[0m Trial 1198 finished with value: -0.005750026868662231 and parameters: {'kernel': 'rbf', 'C': 0.24339304073261897, 'gamma': 0.02340271911725141, 'epsilon': 0.0010993255878915071}. Best is trial 156 with value: -0.0056736269798483355.\u001b[0m\n",
      "\u001b[32m[I 2021-06-25 14:05:55,933]\u001b[0m Trial 1199 finished with value: -0.006691025865307859 and parameters: {'kernel': 'rbf', 'C': 0.1964351586861532, 'gamma': 0.018452804668565893, 'epsilon': 0.007996877639262524}. Best is trial 156 with value: -0.0056736269798483355.\u001b[0m\n",
      "\u001b[32m[I 2021-06-25 14:05:56,537]\u001b[0m Trial 1200 finished with value: -0.005715954697307814 and parameters: {'kernel': 'rbf', 'C': 0.14503132448996223, 'gamma': 0.026312728824680068, 'epsilon': 0.00100949369364913}. Best is trial 156 with value: -0.0056736269798483355.\u001b[0m\n",
      "\u001b[32m[I 2021-06-25 14:05:56,942]\u001b[0m Trial 1201 finished with value: -0.005703954125488131 and parameters: {'kernel': 'rbf', 'C': 0.1767888412998936, 'gamma': 0.022052042074068925, 'epsilon': 0.002060290393510794}. Best is trial 156 with value: -0.0056736269798483355.\u001b[0m\n",
      "\u001b[32m[I 2021-06-25 14:05:57,386]\u001b[0m Trial 1202 finished with value: -0.005700961747657202 and parameters: {'kernel': 'rbf', 'C': 0.10916961386474265, 'gamma': 0.029620416426978265, 'epsilon': 0.0014783772294443066}. Best is trial 156 with value: -0.0056736269798483355.\u001b[0m\n",
      "\u001b[32m[I 2021-06-25 14:05:57,777]\u001b[0m Trial 1203 finished with value: -0.005705954484108691 and parameters: {'kernel': 'rbf', 'C': 0.12837722312080663, 'gamma': 0.024723954437943143, 'epsilon': 0.001792406160061936}. Best is trial 156 with value: -0.0056736269798483355.\u001b[0m\n",
      "\u001b[32m[I 2021-06-25 14:05:58,306]\u001b[0m Trial 1204 finished with value: -0.00569124098284058 and parameters: {'kernel': 'rbf', 'C': 0.16132364735811938, 'gamma': 0.019763263297082594, 'epsilon': 0.0012467358101304793}. Best is trial 156 with value: -0.0056736269798483355.\u001b[0m\n",
      "\u001b[32m[I 2021-06-25 14:05:58,744]\u001b[0m Trial 1205 finished with value: -0.00571263956410371 and parameters: {'kernel': 'rbf', 'C': 0.13956525613178536, 'gamma': 0.030973179135689567, 'epsilon': 0.0015991382091924296}. Best is trial 156 with value: -0.0056736269798483355.\u001b[0m\n",
      "\u001b[32m[I 2021-06-25 14:05:59,314]\u001b[0m Trial 1206 finished with value: -0.005697014202037206 and parameters: {'kernel': 'rbf', 'C': 0.2014866295253215, 'gamma': 0.02339833502719491, 'epsilon': 0.0013625545303759833}. Best is trial 156 with value: -0.0056736269798483355.\u001b[0m\n",
      "\u001b[32m[I 2021-06-25 14:05:59,842]\u001b[0m Trial 1207 finished with value: -0.005730326928175793 and parameters: {'kernel': 'rbf', 'C': 0.11390807577176079, 'gamma': 0.014437625043367649, 'epsilon': 0.0011421234886752312}. Best is trial 156 with value: -0.0056736269798483355.\u001b[0m\n",
      "\u001b[32m[I 2021-06-25 14:06:00,218]\u001b[0m Trial 1208 finished with value: -0.005705896544142607 and parameters: {'kernel': 'rbf', 'C': 0.16469508656450127, 'gamma': 0.026985556705709273, 'epsilon': 0.0021980593394617166}. Best is trial 156 with value: -0.0056736269798483355.\u001b[0m\n",
      "\u001b[32m[I 2021-06-25 14:06:00,628]\u001b[0m Trial 1209 finished with value: -0.005742589996089502 and parameters: {'kernel': 'rbf', 'C': 0.09393096793423727, 'gamma': 0.01719742065732624, 'epsilon': 0.00178202419681116}. Best is trial 156 with value: -0.0056736269798483355.\u001b[0m\n",
      "\u001b[32m[I 2021-06-25 14:06:01,131]\u001b[0m Trial 1210 finished with value: -0.0057617767884225 and parameters: {'kernel': 'rbf', 'C': 0.13744915683058453, 'gamma': 0.03728841890505558, 'epsilon': 0.001476968531022967}. Best is trial 156 with value: -0.0056736269798483355.\u001b[0m\n",
      "\u001b[32m[I 2021-06-25 14:06:01,720]\u001b[0m Trial 1211 finished with value: -0.005695099663031731 and parameters: {'kernel': 'rbf', 'C': 0.2301841095057403, 'gamma': 0.020566439454913984, 'epsilon': 0.0012957069361676018}. Best is trial 156 with value: -0.0056736269798483355.\u001b[0m\n",
      "\u001b[32m[I 2021-06-25 14:06:02,209]\u001b[0m Trial 1212 finished with value: -0.005712520905363707 and parameters: {'kernel': 'rbf', 'C': 0.18244964304677805, 'gamma': 0.026764270043964193, 'epsilon': 0.0016150666222789353}. Best is trial 156 with value: -0.0056736269798483355.\u001b[0m\n",
      "\u001b[32m[I 2021-06-25 14:06:02,627]\u001b[0m Trial 1213 finished with value: -0.005694786896839845 and parameters: {'kernel': 'rbf', 'C': 0.15070240904724166, 'gamma': 0.023187653411064584, 'epsilon': 0.0019171064575271971}. Best is trial 156 with value: -0.0056736269798483355.\u001b[0m\n",
      "\u001b[32m[I 2021-06-25 14:06:03,094]\u001b[0m Trial 1214 finished with value: -0.005706882648059581 and parameters: {'kernel': 'rbf', 'C': 0.11598086465594509, 'gamma': 0.03099587730571602, 'epsilon': 0.0013600796206442764}. Best is trial 156 with value: -0.0056736269798483355.\u001b[0m\n",
      "\u001b[32m[I 2021-06-25 14:06:03,769]\u001b[0m Trial 1215 finished with value: -0.00572947522861595 and parameters: {'kernel': 'rbf', 'C': 0.12694484587519783, 'gamma': 0.018035941843508083, 'epsilon': 0.0010138388110694427}. Best is trial 156 with value: -0.0056736269798483355.\u001b[0m\n",
      "\u001b[32m[I 2021-06-25 14:06:04,422]\u001b[0m Trial 1216 finished with value: -0.005766576068058617 and parameters: {'kernel': 'rbf', 'C': 0.16222356573382873, 'gamma': 0.010645322165555231, 'epsilon': 0.0011875276478108768}. Best is trial 156 with value: -0.0056736269798483355.\u001b[0m\n",
      "\u001b[32m[I 2021-06-25 14:06:04,886]\u001b[0m Trial 1217 finished with value: -0.005728784003891286 and parameters: {'kernel': 'rbf', 'C': 0.07953714260491382, 'gamma': 0.020910952376112363, 'epsilon': 0.0015528275018868224}. Best is trial 156 with value: -0.0056736269798483355.\u001b[0m\n",
      "\u001b[32m[I 2021-06-25 14:06:04,929]\u001b[0m Trial 1218 finished with value: -0.04522358590646345 and parameters: {'kernel': 'rbf', 'C': 0.21401940670393554, 'gamma': 0.025125980863696402, 'epsilon': 0.8628642380332435}. Best is trial 156 with value: -0.0056736269798483355.\u001b[0m\n",
      "\u001b[32m[I 2021-06-25 14:06:05,466]\u001b[0m Trial 1219 finished with value: -0.0057452113233544535 and parameters: {'kernel': 'rbf', 'C': 0.14073097296789444, 'gamma': 0.03471934657967153, 'epsilon': 0.001778215061363753}. Best is trial 156 with value: -0.0056736269798483355.\u001b[0m\n"
     ]
    },
    {
     "name": "stderr",
     "output_type": "stream",
     "text": [
      "\u001b[32m[I 2021-06-25 14:06:05,786]\u001b[0m Trial 1220 finished with value: -0.005893396432872261 and parameters: {'kernel': 'rbf', 'C': 0.1056333704209721, 'gamma': 0.05371532711794516, 'epsilon': 0.002686286571522136}. Best is trial 156 with value: -0.0056736269798483355.\u001b[0m\n",
      "\u001b[32m[I 2021-06-25 14:06:06,494]\u001b[0m Trial 1221 finished with value: -0.005744627153438366 and parameters: {'kernel': 'rbf', 'C': 0.18188771087914188, 'gamma': 0.028410609715007227, 'epsilon': 0.0010050065325727558}. Best is trial 156 with value: -0.0056736269798483355.\u001b[0m\n",
      "\u001b[32m[I 2021-06-25 14:06:06,981]\u001b[0m Trial 1222 finished with value: -0.005692431125522268 and parameters: {'kernel': 'rbf', 'C': 0.12964429859455914, 'gamma': 0.022055812322210114, 'epsilon': 0.00139349351814846}. Best is trial 156 with value: -0.0056736269798483355.\u001b[0m\n",
      "\u001b[32m[I 2021-06-25 14:06:07,666]\u001b[0m Trial 1223 finished with value: -0.006339358937135373 and parameters: {'kernel': 'poly', 'C': 0.15794964313745793, 'gamma': 0.024523649938547793, 'epsilon': 0.0012191623449922648}. Best is trial 156 with value: -0.0056736269798483355.\u001b[0m\n",
      "\u001b[32m[I 2021-06-25 14:06:08,170]\u001b[0m Trial 1224 finished with value: -0.005725817513476751 and parameters: {'kernel': 'rbf', 'C': 0.11995784594700684, 'gamma': 0.018715607740146866, 'epsilon': 0.0015815764487351652}. Best is trial 156 with value: -0.0056736269798483355.\u001b[0m\n",
      "\u001b[32m[I 2021-06-25 14:06:08,652]\u001b[0m Trial 1225 finished with value: -0.00581664410207524 and parameters: {'kernel': 'rbf', 'C': 0.2595976775723349, 'gamma': 0.02835962534650392, 'epsilon': 0.002298102285555525}. Best is trial 156 with value: -0.0056736269798483355.\u001b[0m\n",
      "\u001b[32m[I 2021-06-25 14:06:09,201]\u001b[0m Trial 1226 finished with value: -0.005697524932059759 and parameters: {'kernel': 'rbf', 'C': 0.18476922920137762, 'gamma': 0.022277192102231128, 'epsilon': 0.002013021648426208}. Best is trial 156 with value: -0.0056736269798483355.\u001b[0m\n",
      "\u001b[32m[I 2021-06-25 14:06:09,859]\u001b[0m Trial 1227 finished with value: -0.005734325194178429 and parameters: {'kernel': 'rbf', 'C': 0.1449329545431209, 'gamma': 0.03145469684181496, 'epsilon': 0.0013681820267456314}. Best is trial 156 with value: -0.0056736269798483355.\u001b[0m\n",
      "\u001b[32m[I 2021-06-25 14:06:10,538]\u001b[0m Trial 1228 finished with value: -0.005705001971844102 and parameters: {'kernel': 'rbf', 'C': 0.09866590204461208, 'gamma': 0.026792022358886936, 'epsilon': 0.0011337494368826111}. Best is trial 156 with value: -0.0056736269798483355.\u001b[0m\n",
      "\u001b[32m[I 2021-06-25 14:06:11,043]\u001b[0m Trial 1229 finished with value: -0.007367404466274391 and parameters: {'kernel': 'rbf', 'C': 0.16609308960917765, 'gamma': 0.4310152420215225, 'epsilon': 0.0017108928095297307}. Best is trial 156 with value: -0.0056736269798483355.\u001b[0m\n",
      "\u001b[32m[I 2021-06-25 14:06:11,106]\u001b[0m Trial 1230 finished with value: -0.04522358590646345 and parameters: {'kernel': 'rbf', 'C': 0.2046614833508244, 'gamma': 0.039932434096276836, 'epsilon': 0.08983265696167766}. Best is trial 156 with value: -0.0056736269798483355.\u001b[0m\n",
      "\u001b[32m[I 2021-06-25 14:06:11,714]\u001b[0m Trial 1231 finished with value: -0.005743877467178317 and parameters: {'kernel': 'rbf', 'C': 0.13791201237475928, 'gamma': 0.01672899676893136, 'epsilon': 0.0014679188545005165}. Best is trial 156 with value: -0.0056736269798483355.\u001b[0m\n",
      "\u001b[32m[I 2021-06-25 14:06:12,349]\u001b[0m Trial 1232 finished with value: -0.005716967197767959 and parameters: {'kernel': 'rbf', 'C': 0.11692445649185824, 'gamma': 0.019479343383244647, 'epsilon': 0.001254894564169334}. Best is trial 156 with value: -0.0056736269798483355.\u001b[0m\n",
      "\u001b[32m[I 2021-06-25 14:06:12,974]\u001b[0m Trial 1233 finished with value: -0.005695352670078545 and parameters: {'kernel': 'rbf', 'C': 0.15388881221325507, 'gamma': 0.02371000479344649, 'epsilon': 0.0017856790006003515}. Best is trial 156 with value: -0.0056736269798483355.\u001b[0m\n",
      "\u001b[32m[I 2021-06-25 14:06:13,611]\u001b[0m Trial 1234 finished with value: -0.005781712901690626 and parameters: {'kernel': 'rbf', 'C': 0.1757266536547744, 'gamma': 0.03363647367482142, 'epsilon': 0.0015253342864964203}. Best is trial 156 with value: -0.0056736269798483355.\u001b[0m\n",
      "\u001b[32m[I 2021-06-25 14:06:14,307]\u001b[0m Trial 1235 finished with value: -0.005704793320343511 and parameters: {'kernel': 'rbf', 'C': 0.13726625669419865, 'gamma': 0.020939990180363056, 'epsilon': 0.001000477925566566}. Best is trial 156 with value: -0.0056736269798483355.\u001b[0m\n",
      "\u001b[32m[I 2021-06-25 14:06:15,040]\u001b[0m Trial 1236 finished with value: -0.00570478825321314 and parameters: {'kernel': 'rbf', 'C': 0.10696084859970677, 'gamma': 0.025781601969853383, 'epsilon': 0.0013260624141172525}. Best is trial 156 with value: -0.0056736269798483355.\u001b[0m\n",
      "\u001b[32m[I 2021-06-25 14:06:15,478]\u001b[0m Trial 1237 finished with value: -0.005705777791062788 and parameters: {'kernel': 'rbf', 'C': 0.12392650789145185, 'gamma': 0.029136869516089122, 'epsilon': 0.0019704927510202524}. Best is trial 156 with value: -0.0056736269798483355.\u001b[0m\n",
      "\u001b[32m[I 2021-06-25 14:06:16,425]\u001b[0m Trial 1238 finished with value: -0.005717540463017368 and parameters: {'kernel': 'rbf', 'C': 0.21708179237060304, 'gamma': 0.023622800800390423, 'epsilon': 0.0011553156290780308}. Best is trial 156 with value: -0.0056736269798483355.\u001b[0m\n",
      "\u001b[32m[I 2021-06-25 14:06:16,996]\u001b[0m Trial 1239 finished with value: -0.0057027044341361145 and parameters: {'kernel': 'rbf', 'C': 0.15912018677548861, 'gamma': 0.020538993546624973, 'epsilon': 0.0016313605281465954}. Best is trial 156 with value: -0.0056736269798483355.\u001b[0m\n",
      "\u001b[32m[I 2021-06-25 14:06:17,549]\u001b[0m Trial 1240 finished with value: -0.005738535217004331 and parameters: {'kernel': 'rbf', 'C': 0.1421767229729243, 'gamma': 0.016143800066142876, 'epsilon': 0.001416806587919322}. Best is trial 156 with value: -0.0056736269798483355.\u001b[0m\n",
      "\u001b[32m[I 2021-06-25 14:06:18,094]\u001b[0m Trial 1241 finished with value: -0.005702221227816054 and parameters: {'kernel': 'rbf', 'C': 0.18712327646745228, 'gamma': 0.026657811309868232, 'epsilon': 0.0016808537819825592}. Best is trial 156 with value: -0.0056736269798483355.\u001b[0m\n",
      "\u001b[32m[I 2021-06-25 14:06:18,694]\u001b[0m Trial 1242 finished with value: -0.005719656583479206 and parameters: {'kernel': 'rbf', 'C': 0.08715417391780016, 'gamma': 0.03178901872840014, 'epsilon': 0.0012239104432634905}. Best is trial 156 with value: -0.0056736269798483355.\u001b[0m\n",
      "\u001b[32m[I 2021-06-25 14:06:19,060]\u001b[0m Trial 1243 finished with value: -0.005710139150388166 and parameters: {'kernel': 'rbf', 'C': 0.12039901085337212, 'gamma': 0.023059695609477075, 'epsilon': 0.002211354956598342}. Best is trial 156 with value: -0.0056736269798483355.\u001b[0m\n",
      "\u001b[32m[I 2021-06-25 14:06:19,621]\u001b[0m Trial 1244 finished with value: -0.005707399757883144 and parameters: {'kernel': 'rbf', 'C': 0.15988876080513828, 'gamma': 0.018688156950536435, 'epsilon': 0.0014677695627747479}. Best is trial 156 with value: -0.0056736269798483355.\u001b[0m\n",
      "\u001b[32m[I 2021-06-25 14:06:19,984]\u001b[0m Trial 1245 finished with value: -0.0057844389782369145 and parameters: {'kernel': 'rbf', 'C': 0.04601995949679085, 'gamma': 0.027239229970302477, 'epsilon': 0.0018388553616597461}. Best is trial 156 with value: -0.0056736269798483355.\u001b[0m\n",
      "\u001b[32m[I 2021-06-25 14:06:20,464]\u001b[0m Trial 1246 finished with value: -0.006000066230800366 and parameters: {'kernel': 'rbf', 'C': 0.10180584485257359, 'gamma': 0.07007278188223692, 'epsilon': 0.0013321775830472625}. Best is trial 156 with value: -0.0056736269798483355.\u001b[0m\n",
      "\u001b[32m[I 2021-06-25 14:06:21,064]\u001b[0m Trial 1247 finished with value: -0.0057008699465444625 and parameters: {'kernel': 'rbf', 'C': 0.13371471035972016, 'gamma': 0.02146279708780153, 'epsilon': 0.001106696563601646}. Best is trial 156 with value: -0.0056736269798483355.\u001b[0m\n",
      "\u001b[32m[I 2021-06-25 14:06:21,582]\u001b[0m Trial 1248 finished with value: -0.005683711410338255 and parameters: {'kernel': 'rbf', 'C': 0.18817754451487997, 'gamma': 0.024761199992210953, 'epsilon': 0.001638883022341018}. Best is trial 156 with value: -0.0056736269798483355.\u001b[0m\n",
      "\u001b[32m[I 2021-06-25 14:06:22,232]\u001b[0m Trial 1249 finished with value: -0.005711627407664143 and parameters: {'kernel': 'rbf', 'C': 0.15509088256636788, 'gamma': 0.02953165544317589, 'epsilon': 0.0015133273426434256}. Best is trial 156 with value: -0.0056736269798483355.\u001b[0m\n"
     ]
    },
    {
     "name": "stderr",
     "output_type": "stream",
     "text": [
      "\u001b[32m[I 2021-06-25 14:06:22,872]\u001b[0m Trial 1250 finished with value: -0.006379225766564536 and parameters: {'kernel': 'poly', 'C': 0.11938178485372189, 'gamma': 0.019426161901808493, 'epsilon': 0.0012657592605129775}. Best is trial 156 with value: -0.0056736269798483355.\u001b[0m\n",
      "\u001b[32m[I 2021-06-25 14:06:23,344]\u001b[0m Trial 1251 finished with value: -0.005758567057665729 and parameters: {'kernel': 'rbf', 'C': 0.1684059281532133, 'gamma': 0.03367406477305147, 'epsilon': 0.00182061847165416}. Best is trial 156 with value: -0.0056736269798483355.\u001b[0m\n",
      "\u001b[32m[I 2021-06-25 14:06:23,863]\u001b[0m Trial 1252 finished with value: -0.006537933833663538 and parameters: {'kernel': 'rbf', 'C': 0.13526286121505882, 'gamma': 0.0010311525603162953, 'epsilon': 0.0011043851389597394}. Best is trial 156 with value: -0.0056736269798483355.\u001b[0m\n",
      "\u001b[32m[I 2021-06-25 14:06:24,289]\u001b[0m Trial 1253 finished with value: -0.005728095316613031 and parameters: {'kernel': 'rbf', 'C': 0.22792782487863888, 'gamma': 0.024832459587065613, 'epsilon': 0.002085889692377343}. Best is trial 156 with value: -0.0056736269798483355.\u001b[0m\n",
      "\u001b[32m[I 2021-06-25 14:06:24,956]\u001b[0m Trial 1254 finished with value: -0.005747352186857902 and parameters: {'kernel': 'rbf', 'C': 0.19703518386023616, 'gamma': 0.01417164673418161, 'epsilon': 0.0010077593283476247}. Best is trial 156 with value: -0.0056736269798483355.\u001b[0m\n",
      "\u001b[32m[I 2021-06-25 14:06:25,522]\u001b[0m Trial 1255 finished with value: -0.005709230899146215 and parameters: {'kernel': 'rbf', 'C': 0.1084739191214224, 'gamma': 0.021943142023704097, 'epsilon': 0.0014379218214762217}. Best is trial 156 with value: -0.0056736269798483355.\u001b[0m\n",
      "\u001b[32m[I 2021-06-25 14:06:25,605]\u001b[0m Trial 1256 finished with value: -0.03145889044806159 and parameters: {'kernel': 'rbf', 'C': 0.14290156824653688, 'gamma': 0.04274347762383671, 'epsilon': 0.03586156827713843}. Best is trial 156 with value: -0.0056736269798483355.\u001b[0m\n",
      "\u001b[32m[I 2021-06-25 14:06:25,930]\u001b[0m Trial 1257 finished with value: -0.005778120068846366 and parameters: {'kernel': 'rbf', 'C': 0.0924262429751849, 'gamma': 0.01712607497560611, 'epsilon': 0.0024383649841008105}. Best is trial 156 with value: -0.0056736269798483355.\u001b[0m\n",
      "\u001b[32m[I 2021-06-25 14:06:26,938]\u001b[0m Trial 1258 finished with value: -0.005719550098095959 and parameters: {'kernel': 'rbf', 'C': 0.17119376962247676, 'gamma': 0.028013723632525443, 'epsilon': 0.001288879749428906}. Best is trial 156 with value: -0.0056736269798483355.\u001b[0m\n",
      "\u001b[32m[I 2021-06-25 14:06:27,574]\u001b[0m Trial 1259 finished with value: -0.005818632788456486 and parameters: {'kernel': 'rbf', 'C': 0.3165282238106059, 'gamma': 0.024853376694796325, 'epsilon': 0.0015965677681906596}. Best is trial 156 with value: -0.0056736269798483355.\u001b[0m\n",
      "\u001b[32m[I 2021-06-25 14:06:27,957]\u001b[0m Trial 1260 finished with value: -0.00572481554126669 and parameters: {'kernel': 'rbf', 'C': 0.12640281440028467, 'gamma': 0.020674684819244973, 'epsilon': 0.0018939662177349169}. Best is trial 156 with value: -0.0056736269798483355.\u001b[0m\n",
      "\u001b[32m[I 2021-06-25 14:06:28,297]\u001b[0m Trial 1261 finished with value: -0.006055216688182127 and parameters: {'kernel': 'rbf', 'C': 0.022460048142355197, 'gamma': 0.03489696394949797, 'epsilon': 0.0014096126728021458}. Best is trial 156 with value: -0.0056736269798483355.\u001b[0m\n",
      "\u001b[32m[I 2021-06-25 14:06:28,886]\u001b[0m Trial 1262 finished with value: -0.005732319595182243 and parameters: {'kernel': 'rbf', 'C': 0.1585948233657318, 'gamma': 0.029978279653713316, 'epsilon': 0.0012141817237237907}. Best is trial 156 with value: -0.0056736269798483355.\u001b[0m\n",
      "\u001b[32m[I 2021-06-25 14:06:29,346]\u001b[0m Trial 1263 finished with value: -0.005685426252915955 and parameters: {'kernel': 'rbf', 'C': 0.1457317744052068, 'gamma': 0.022708093510346892, 'epsilon': 0.0016680770870119237}. Best is trial 156 with value: -0.0056736269798483355.\u001b[0m\n",
      "\u001b[32m[I 2021-06-25 14:06:29,833]\u001b[0m Trial 1264 finished with value: -0.005731894974215467 and parameters: {'kernel': 'rbf', 'C': 0.11238732513083795, 'gamma': 0.018799720939045906, 'epsilon': 0.0014356703273342905}. Best is trial 156 with value: -0.0056736269798483355.\u001b[0m\n",
      "\u001b[32m[I 2021-06-25 14:06:30,572]\u001b[0m Trial 1265 finished with value: -0.005833179697075437 and parameters: {'kernel': 'rbf', 'C': 0.2635340823267451, 'gamma': 0.02680361372773436, 'epsilon': 0.0011150989100474477}. Best is trial 156 with value: -0.0056736269798483355.\u001b[0m\n",
      "\u001b[32m[I 2021-06-25 14:06:31,057]\u001b[0m Trial 1266 finished with value: -0.005704020113787257 and parameters: {'kernel': 'rbf', 'C': 0.20292501884920044, 'gamma': 0.02390990511835752, 'epsilon': 0.001934226393142572}. Best is trial 156 with value: -0.0056736269798483355.\u001b[0m\n",
      "\u001b[32m[I 2021-06-25 14:06:31,630]\u001b[0m Trial 1267 finished with value: -0.005742192188151572 and parameters: {'kernel': 'rbf', 'C': 0.18020306924396715, 'gamma': 0.029768370051873917, 'epsilon': 0.0016069800079795873}. Best is trial 156 with value: -0.0056736269798483355.\u001b[0m\n",
      "\u001b[32m[I 2021-06-25 14:06:32,201]\u001b[0m Trial 1268 finished with value: -0.005688674339988715 and parameters: {'kernel': 'rbf', 'C': 0.1336861474200705, 'gamma': 0.022545946523987604, 'epsilon': 0.0012997526319174185}. Best is trial 156 with value: -0.0056736269798483355.\u001b[0m\n",
      "\u001b[32m[I 2021-06-25 14:06:32,709]\u001b[0m Trial 1269 finished with value: -0.005721096130409456 and parameters: {'kernel': 'rbf', 'C': 0.1510551696768434, 'gamma': 0.01682533211613136, 'epsilon': 0.001517396751815754}. Best is trial 156 with value: -0.0056736269798483355.\u001b[0m\n",
      "\u001b[32m[I 2021-06-25 14:06:33,353]\u001b[0m Trial 1270 finished with value: -0.005707941113708118 and parameters: {'kernel': 'rbf', 'C': 0.12118923534474146, 'gamma': 0.02612975945822195, 'epsilon': 0.0010076891981429521}. Best is trial 156 with value: -0.0056736269798483355.\u001b[0m\n",
      "\u001b[32m[I 2021-06-25 14:06:33,751]\u001b[0m Trial 1271 finished with value: -0.005820839412851779 and parameters: {'kernel': 'rbf', 'C': 0.17523935423458542, 'gamma': 0.03741506231802541, 'epsilon': 0.002084507865300836}. Best is trial 156 with value: -0.0056736269798483355.\u001b[0m\n",
      "\u001b[32m[I 2021-06-25 14:06:34,126]\u001b[0m Trial 1272 finished with value: -0.00574226372155424 and parameters: {'kernel': 'rbf', 'C': 0.10789245898178303, 'gamma': 0.018881111175964714, 'epsilon': 0.0017809649872513851}. Best is trial 156 with value: -0.0056736269798483355.\u001b[0m\n",
      "\u001b[32m[I 2021-06-25 14:06:34,661]\u001b[0m Trial 1273 finished with value: -0.005701470958680299 and parameters: {'kernel': 'rbf', 'C': 0.1486695396624359, 'gamma': 0.021229947552116223, 'epsilon': 0.0012091698670510286}. Best is trial 156 with value: -0.0056736269798483355.\u001b[0m\n",
      "\u001b[32m[I 2021-06-25 14:06:35,336]\u001b[0m Trial 1274 finished with value: -0.0057881922880711825 and parameters: {'kernel': 'rbf', 'C': 0.21499317252770153, 'gamma': 0.030131607991053046, 'epsilon': 0.0014368029892057185}. Best is trial 156 with value: -0.0056736269798483355.\u001b[0m\n",
      "\u001b[32m[I 2021-06-25 14:06:35,899]\u001b[0m Trial 1275 finished with value: -0.00569769853876417 and parameters: {'kernel': 'rbf', 'C': 0.129880969726734, 'gamma': 0.02603070634516178, 'epsilon': 0.0017170006450119492}. Best is trial 156 with value: -0.0056736269798483355.\u001b[0m\n",
      "\u001b[32m[I 2021-06-25 14:06:36,473]\u001b[0m Trial 1276 finished with value: -0.005691767729280099 and parameters: {'kernel': 'rbf', 'C': 0.17392502099002885, 'gamma': 0.0231920713829786, 'epsilon': 0.0013246636783255982}. Best is trial 156 with value: -0.0056736269798483355.\u001b[0m\n",
      "\u001b[32m[I 2021-06-25 14:06:37,367]\u001b[0m Trial 1277 finished with value: -0.00634784737952726 and parameters: {'kernel': 'poly', 'C': 0.09793231782353243, 'gamma': 0.03280885974441883, 'epsilon': 0.0011097223615586088}. Best is trial 156 with value: -0.0056736269798483355.\u001b[0m\n",
      "\u001b[32m[I 2021-06-25 14:06:38,120]\u001b[0m Trial 1278 finished with value: -0.005695973417975484 and parameters: {'kernel': 'rbf', 'C': 0.14867011144136794, 'gamma': 0.02017142694338579, 'epsilon': 0.0015100766238578748}. Best is trial 156 with value: -0.0056736269798483355.\u001b[0m\n",
      "\u001b[32m[I 2021-06-25 14:06:38,716]\u001b[0m Trial 1279 finished with value: -0.005690948137651028 and parameters: {'kernel': 'rbf', 'C': 0.12370847684922776, 'gamma': 0.026291340785293955, 'epsilon': 0.0012910102099288469}. Best is trial 156 with value: -0.0056736269798483355.\u001b[0m\n"
     ]
    },
    {
     "name": "stderr",
     "output_type": "stream",
     "text": [
      "\u001b[32m[I 2021-06-25 14:06:39,290]\u001b[0m Trial 1280 finished with value: -0.005706469438931695 and parameters: {'kernel': 'rbf', 'C': 0.19939540272630368, 'gamma': 0.02259743924633061, 'epsilon': 0.0017621631262007297}. Best is trial 156 with value: -0.0056736269798483355.\u001b[0m\n",
      "\u001b[32m[I 2021-06-25 14:06:39,671]\u001b[0m Trial 1281 finished with value: -0.005750539360733401 and parameters: {'kernel': 'rbf', 'C': 0.17046825698822587, 'gamma': 0.01577862905945858, 'epsilon': 0.002114701465306099}. Best is trial 156 with value: -0.0056736269798483355.\u001b[0m\n",
      "\u001b[32m[I 2021-06-25 14:06:39,722]\u001b[0m Trial 1282 finished with value: -0.04522358590646345 and parameters: {'kernel': 'rbf', 'C': 0.08347777153235983, 'gamma': 0.02872351021688634, 'epsilon': 0.4176781455206491}. Best is trial 156 with value: -0.0056736269798483355.\u001b[0m\n",
      "\u001b[32m[I 2021-06-25 14:06:41,702]\u001b[0m Trial 1283 finished with value: -0.006012259601162219 and parameters: {'kernel': 'rbf', 'C': 1.3783758571654579, 'gamma': 0.020180405255055822, 'epsilon': 0.0010088454873472936}. Best is trial 156 with value: -0.0056736269798483355.\u001b[0m\n",
      "\u001b[32m[I 2021-06-25 14:06:42,164]\u001b[0m Trial 1284 finished with value: -0.005679908362820202 and parameters: {'kernel': 'rbf', 'C': 0.13583002834263458, 'gamma': 0.0243973178059764, 'epsilon': 0.001585044925449128}. Best is trial 156 with value: -0.0056736269798483355.\u001b[0m\n",
      "\u001b[32m[I 2021-06-25 14:06:42,677]\u001b[0m Trial 1285 finished with value: -0.005733550276936586 and parameters: {'kernel': 'rbf', 'C': 0.10204267202526916, 'gamma': 0.034353565719867425, 'epsilon': 0.0024970981494146344}. Best is trial 156 with value: -0.0056736269798483355.\u001b[0m\n",
      "\u001b[32m[I 2021-06-25 14:06:43,066]\u001b[0m Trial 1286 finished with value: -0.005705579597192707 and parameters: {'kernel': 'rbf', 'C': 0.1114959338840456, 'gamma': 0.02524620373394195, 'epsilon': 0.0020357762534785437}. Best is trial 156 with value: -0.0056736269798483355.\u001b[0m\n",
      "\u001b[32m[I 2021-06-25 14:06:43,483]\u001b[0m Trial 1287 finished with value: -0.0057024201360912396 and parameters: {'kernel': 'rbf', 'C': 0.11924621189509804, 'gamma': 0.029318727861432962, 'epsilon': 0.0018400684577449305}. Best is trial 156 with value: -0.0056736269798483355.\u001b[0m\n",
      "\u001b[32m[I 2021-06-25 14:06:43,886]\u001b[0m Trial 1288 finished with value: -0.005733590358342867 and parameters: {'kernel': 'rbf', 'C': 0.0964840850873298, 'gamma': 0.01846831356586753, 'epsilon': 0.0016545854042333058}. Best is trial 156 with value: -0.0056736269798483355.\u001b[0m\n",
      "\u001b[32m[I 2021-06-25 14:06:44,245]\u001b[0m Trial 1289 finished with value: -0.005704857773850956 and parameters: {'kernel': 'rbf', 'C': 0.1314943997765077, 'gamma': 0.023576241891282466, 'epsilon': 0.002192163385609969}. Best is trial 156 with value: -0.0056736269798483355.\u001b[0m\n",
      "\u001b[32m[I 2021-06-25 14:06:44,672]\u001b[0m Trial 1290 finished with value: -0.005731626287139258 and parameters: {'kernel': 'rbf', 'C': 0.07686471248931594, 'gamma': 0.03772665256024868, 'epsilon': 0.0016075735438732701}. Best is trial 156 with value: -0.0056736269798483355.\u001b[0m\n",
      "\u001b[32m[I 2021-06-25 14:06:45,148]\u001b[0m Trial 1291 finished with value: -0.005705169636134146 and parameters: {'kernel': 'rbf', 'C': 0.11626771981477971, 'gamma': 0.027566662645093776, 'epsilon': 0.0018787381872948845}. Best is trial 156 with value: -0.0056736269798483355.\u001b[0m\n",
      "\u001b[32m[I 2021-06-25 14:06:45,718]\u001b[0m Trial 1292 finished with value: -0.0056982719578919415 and parameters: {'kernel': 'rbf', 'C': 0.13787748362970315, 'gamma': 0.02139187714879533, 'epsilon': 0.0015219355039494307}. Best is trial 156 with value: -0.0056736269798483355.\u001b[0m\n",
      "\u001b[32m[I 2021-06-25 14:06:45,840]\u001b[0m Trial 1293 finished with value: -0.011761674314991538 and parameters: {'kernel': 'rbf', 'C': 0.12991526063128073, 'gamma': 0.03093168483545432, 'epsilon': 0.016715142534392737}. Best is trial 156 with value: -0.0056736269798483355.\u001b[0m\n",
      "\u001b[32m[I 2021-06-25 14:06:46,205]\u001b[0m Trial 1294 finished with value: -0.005742889946606493 and parameters: {'kernel': 'rbf', 'C': 0.10752470217514876, 'gamma': 0.02528519614994838, 'epsilon': 0.002728927419720005}. Best is trial 156 with value: -0.0056736269798483355.\u001b[0m\n",
      "\u001b[32m[I 2021-06-25 14:06:46,565]\u001b[0m Trial 1295 finished with value: -0.005757923596037451 and parameters: {'kernel': 'rbf', 'C': 0.14682849873769596, 'gamma': 0.017275197880766206, 'epsilon': 0.0023369423262744804}. Best is trial 156 with value: -0.0056736269798483355.\u001b[0m\n",
      "\u001b[32m[I 2021-06-25 14:06:47,005]\u001b[0m Trial 1296 finished with value: -0.0057224683317927015 and parameters: {'kernel': 'rbf', 'C': 0.12585861890507863, 'gamma': 0.020853343590545234, 'epsilon': 0.0018239319074528722}. Best is trial 156 with value: -0.0056736269798483355.\u001b[0m\n",
      "\u001b[32m[I 2021-06-25 14:06:47,472]\u001b[0m Trial 1297 finished with value: -0.00571245552487568 and parameters: {'kernel': 'rbf', 'C': 0.09094867611582683, 'gamma': 0.024143998602550874, 'epsilon': 0.0014395364720025555}. Best is trial 156 with value: -0.0056736269798483355.\u001b[0m\n",
      "\u001b[32m[I 2021-06-25 14:06:47,979]\u001b[0m Trial 1298 finished with value: -0.005740778284493152 and parameters: {'kernel': 'rbf', 'C': 0.15082586144009835, 'gamma': 0.03342941231891358, 'epsilon': 0.0015349016387234474}. Best is trial 156 with value: -0.0056736269798483355.\u001b[0m\n",
      "\u001b[32m[I 2021-06-25 14:06:48,408]\u001b[0m Trial 1299 finished with value: -0.00570157781525251 and parameters: {'kernel': 'rbf', 'C': 0.11018856109056883, 'gamma': 0.027345420346516353, 'epsilon': 0.001671470815005274}. Best is trial 156 with value: -0.0056736269798483355.\u001b[0m\n",
      "\u001b[32m[I 2021-06-25 14:06:48,986]\u001b[0m Trial 1300 finished with value: -0.005713494041163727 and parameters: {'kernel': 'rbf', 'C': 0.13442014968244317, 'gamma': 0.01879571629140057, 'epsilon': 0.0013290139652046564}. Best is trial 156 with value: -0.0056736269798483355.\u001b[0m\n",
      "\u001b[32m[I 2021-06-25 14:06:49,402]\u001b[0m Trial 1301 finished with value: -0.0057082927122922055 and parameters: {'kernel': 'rbf', 'C': 0.14855728250255565, 'gamma': 0.022277166579216474, 'epsilon': 0.0019239949795921982}. Best is trial 156 with value: -0.0056736269798483355.\u001b[0m\n",
      "\u001b[32m[I 2021-06-25 14:06:50,038]\u001b[0m Trial 1302 finished with value: -0.005699226759469496 and parameters: {'kernel': 'rbf', 'C': 0.1193566183038419, 'gamma': 0.028355716379154208, 'epsilon': 0.001185617600124978}. Best is trial 156 with value: -0.0056736269798483355.\u001b[0m\n",
      "\u001b[32m[I 2021-06-25 14:06:50,578]\u001b[0m Trial 1303 finished with value: -0.005764748827142888 and parameters: {'kernel': 'rbf', 'C': 0.1626368469951551, 'gamma': 0.013469368738068045, 'epsilon': 0.0014133391344131451}. Best is trial 156 with value: -0.0056736269798483355.\u001b[0m\n",
      "\u001b[32m[I 2021-06-25 14:06:51,010]\u001b[0m Trial 1304 finished with value: -0.005703441574765769 and parameters: {'kernel': 'rbf', 'C': 0.09912557857417745, 'gamma': 0.024590711630772047, 'epsilon': 0.0016036084255362842}. Best is trial 156 with value: -0.0056736269798483355.\u001b[0m\n",
      "\u001b[32m[I 2021-06-25 14:06:51,512]\u001b[0m Trial 1305 finished with value: -0.0057173918758173575 and parameters: {'kernel': 'rbf', 'C': 0.14119565584226823, 'gamma': 0.03190403492105905, 'epsilon': 0.002085712742750438}. Best is trial 156 with value: -0.0056736269798483355.\u001b[0m\n",
      "\u001b[32m[I 2021-06-25 14:06:52,070]\u001b[0m Trial 1306 finished with value: -0.005795974278921474 and parameters: {'kernel': 'rbf', 'C': 0.12542369127695524, 'gamma': 0.04122207663888219, 'epsilon': 0.0012459592077453982}. Best is trial 156 with value: -0.0056736269798483355.\u001b[0m\n",
      "\u001b[32m[I 2021-06-25 14:06:52,587]\u001b[0m Trial 1307 finished with value: -0.006326121962294136 and parameters: {'kernel': 'poly', 'C': 0.17603578818699325, 'gamma': 0.020974732164564976, 'epsilon': 0.0017700559119455173}. Best is trial 156 with value: -0.0056736269798483355.\u001b[0m\n",
      "\u001b[32m[I 2021-06-25 14:06:53,309]\u001b[0m Trial 1308 finished with value: -0.005869369049588585 and parameters: {'kernel': 'rbf', 'C': 0.40154859610393845, 'gamma': 0.025621513248789776, 'epsilon': 0.0014013908931206547}. Best is trial 156 with value: -0.0056736269798483355.\u001b[0m\n",
      "\u001b[32m[I 2021-06-25 14:06:53,840]\u001b[0m Trial 1309 finished with value: -0.005737294741331923 and parameters: {'kernel': 'rbf', 'C': 0.1593706216166334, 'gamma': 0.015447483161426264, 'epsilon': 0.0016052162357370365}. Best is trial 156 with value: -0.0056736269798483355.\u001b[0m\n"
     ]
    },
    {
     "name": "stderr",
     "output_type": "stream",
     "text": [
      "\u001b[32m[I 2021-06-25 14:06:54,455]\u001b[0m Trial 1310 finished with value: -0.005724490171564875 and parameters: {'kernel': 'rbf', 'C': 0.13563592763494509, 'gamma': 0.01797380608015642, 'epsilon': 0.001129770983234608}. Best is trial 156 with value: -0.0056736269798483355.\u001b[0m\n",
      "\u001b[32m[I 2021-06-25 14:06:55,137]\u001b[0m Trial 1311 finished with value: -0.00570717736015991 and parameters: {'kernel': 'rbf', 'C': 0.10989334621127408, 'gamma': 0.022630968145050633, 'epsilon': 0.0010051521022394108}. Best is trial 156 with value: -0.0056736269798483355.\u001b[0m\n",
      "\u001b[32m[I 2021-06-25 14:06:55,716]\u001b[0m Trial 1312 finished with value: -0.005747755493483089 and parameters: {'kernel': 'rbf', 'C': 0.18806930559571858, 'gamma': 0.028706765151385087, 'epsilon': 0.001331225354750415}. Best is trial 156 with value: -0.0056736269798483355.\u001b[0m\n",
      "\u001b[32m[I 2021-06-25 14:06:56,254]\u001b[0m Trial 1313 finished with value: -0.005705342129421782 and parameters: {'kernel': 'rbf', 'C': 0.15428016137802764, 'gamma': 0.02051474087947579, 'epsilon': 0.001956477932620095}. Best is trial 156 with value: -0.0056736269798483355.\u001b[0m\n",
      "\u001b[32m[I 2021-06-25 14:06:56,724]\u001b[0m Trial 1314 finished with value: -0.005710587681389333 and parameters: {'kernel': 'rbf', 'C': 0.08736586096958633, 'gamma': 0.0246637459184516, 'epsilon': 0.0015303113661646818}. Best is trial 156 with value: -0.0056736269798483355.\u001b[0m\n",
      "\u001b[32m[I 2021-06-25 14:06:57,197]\u001b[0m Trial 1315 finished with value: -0.00571099238122363 and parameters: {'kernel': 'rbf', 'C': 0.11787555307816258, 'gamma': 0.032289963978882175, 'epsilon': 0.001723341608936613}. Best is trial 156 with value: -0.0056736269798483355.\u001b[0m\n",
      "\u001b[32m[I 2021-06-25 14:06:57,750]\u001b[0m Trial 1316 finished with value: -0.005706176978992045 and parameters: {'kernel': 'rbf', 'C': 0.13715410901998765, 'gamma': 0.027228548365295167, 'epsilon': 0.0011968549610345315}. Best is trial 156 with value: -0.0056736269798483355.\u001b[0m\n",
      "\u001b[32m[I 2021-06-25 14:06:58,084]\u001b[0m Trial 1317 finished with value: -0.0057144233071404925 and parameters: {'kernel': 'rbf', 'C': 0.16460977020951198, 'gamma': 0.022974467542840167, 'epsilon': 0.0023540007939046284}. Best is trial 156 with value: -0.0056736269798483355.\u001b[0m\n",
      "\u001b[32m[I 2021-06-25 14:06:58,740]\u001b[0m Trial 1318 finished with value: -0.005701861557750887 and parameters: {'kernel': 'rbf', 'C': 0.23685406678925192, 'gamma': 0.018824470959439482, 'epsilon': 0.00137478998862909}. Best is trial 156 with value: -0.0056736269798483355.\u001b[0m\n",
      "\u001b[32m[I 2021-06-25 14:06:59,253]\u001b[0m Trial 1319 finished with value: -0.0057454269374086694 and parameters: {'kernel': 'rbf', 'C': 0.19299713459192902, 'gamma': 0.029128067455378794, 'epsilon': 0.0015258827139884718}. Best is trial 156 with value: -0.0056736269798483355.\u001b[0m\n",
      "\u001b[32m[I 2021-06-25 14:06:59,712]\u001b[0m Trial 1320 finished with value: -0.00573176404222148 and parameters: {'kernel': 'rbf', 'C': 0.10224575878682085, 'gamma': 0.021009557724461836, 'epsilon': 0.0017125112953569044}. Best is trial 156 with value: -0.0056736269798483355.\u001b[0m\n",
      "\u001b[32m[I 2021-06-25 14:07:00,275]\u001b[0m Trial 1321 finished with value: -0.005769563750287848 and parameters: {'kernel': 'rbf', 'C': 0.13343679775983697, 'gamma': 0.03621328496721288, 'epsilon': 0.0012551798961964397}. Best is trial 156 with value: -0.0056736269798483355.\u001b[0m\n",
      "\u001b[32m[I 2021-06-25 14:07:00,725]\u001b[0m Trial 1322 finished with value: -0.005692927812345489 and parameters: {'kernel': 'rbf', 'C': 0.14937271354288206, 'gamma': 0.025342770924734158, 'epsilon': 0.0019032706939183896}. Best is trial 156 with value: -0.0056736269798483355.\u001b[0m\n",
      "\u001b[32m[I 2021-06-25 14:07:01,325]\u001b[0m Trial 1323 finished with value: -0.005691068197935235 and parameters: {'kernel': 'rbf', 'C': 0.11695575506807494, 'gamma': 0.022722976582626668, 'epsilon': 0.0011371774468288904}. Best is trial 156 with value: -0.0056736269798483355.\u001b[0m\n",
      "\u001b[32m[I 2021-06-25 14:07:01,949]\u001b[0m Trial 1324 finished with value: -0.005711751542655786 and parameters: {'kernel': 'rbf', 'C': 0.18001704324956325, 'gamma': 0.017078113874329878, 'epsilon': 0.0014321490066526849}. Best is trial 156 with value: -0.0056736269798483355.\u001b[0m\n",
      "\u001b[32m[I 2021-06-25 14:07:02,334]\u001b[0m Trial 1325 finished with value: -0.005730583260068895 and parameters: {'kernel': 'rbf', 'C': 0.1535253472563178, 'gamma': 0.03132568361525509, 'epsilon': 0.002151871907777774}. Best is trial 156 with value: -0.0056736269798483355.\u001b[0m\n",
      "\u001b[32m[I 2021-06-25 14:07:03,007]\u001b[0m Trial 1326 finished with value: -0.005720798870055358 and parameters: {'kernel': 'rbf', 'C': 0.12488718393452042, 'gamma': 0.025704643027993627, 'epsilon': 0.001008044873982135}. Best is trial 156 with value: -0.0056736269798483355.\u001b[0m\n",
      "\u001b[32m[I 2021-06-25 14:07:03,571]\u001b[0m Trial 1327 finished with value: -0.005700575569143618 and parameters: {'kernel': 'rbf', 'C': 0.2049872578468383, 'gamma': 0.01964396163144367, 'epsilon': 0.0016501573553394466}. Best is trial 156 with value: -0.0056736269798483355.\u001b[0m\n",
      "\u001b[32m[I 2021-06-25 14:07:04,092]\u001b[0m Trial 1328 finished with value: -0.005692313058788562 and parameters: {'kernel': 'rbf', 'C': 0.14001173865171856, 'gamma': 0.027231924780636727, 'epsilon': 0.0013418002961827734}. Best is trial 156 with value: -0.0056736269798483355.\u001b[0m\n",
      "\u001b[32m[I 2021-06-25 14:07:04,635]\u001b[0m Trial 1329 finished with value: -0.00568932085326358 and parameters: {'kernel': 'rbf', 'C': 0.1727195470339341, 'gamma': 0.022424647308055, 'epsilon': 0.0015145994937816652}. Best is trial 156 with value: -0.0056736269798483355.\u001b[0m\n",
      "\u001b[32m[I 2021-06-25 14:07:04,793]\u001b[0m Trial 1330 finished with value: -0.0063426005414882235 and parameters: {'kernel': 'rbf', 'C': 0.10487894639923907, 'gamma': 0.031960434498546776, 'epsilon': 0.006623097415649115}. Best is trial 156 with value: -0.0056736269798483355.\u001b[0m\n",
      "\u001b[32m[I 2021-06-25 14:07:05,265]\u001b[0m Trial 1331 finished with value: -0.006396989555684838 and parameters: {'kernel': 'rbf', 'C': 0.12622220975317422, 'gamma': 0.12800325701671356, 'epsilon': 0.0018200981978139625}. Best is trial 156 with value: -0.0056736269798483355.\u001b[0m\n",
      "\u001b[32m[I 2021-06-25 14:07:06,139]\u001b[0m Trial 1332 finished with value: -0.006356685098863525 and parameters: {'kernel': 'poly', 'C': 0.16646872373306068, 'gamma': 0.019844517744063504, 'epsilon': 0.0012237780909450644}. Best is trial 156 with value: -0.0056736269798483355.\u001b[0m\n",
      "\u001b[32m[I 2021-06-25 14:07:06,869]\u001b[0m Trial 1333 finished with value: -0.0056795541186299885 and parameters: {'kernel': 'rbf', 'C': 0.14474044782938558, 'gamma': 0.02403530715831813, 'epsilon': 0.001414699223257102}. Best is trial 156 with value: -0.0056736269798483355.\u001b[0m\n",
      "\u001b[32m[I 2021-06-25 14:07:07,312]\u001b[0m Trial 1334 finished with value: -0.005769866666892498 and parameters: {'kernel': 'rbf', 'C': 0.09116482515245408, 'gamma': 0.016156125739050353, 'epsilon': 0.002010050354483565}. Best is trial 156 with value: -0.0056736269798483355.\u001b[0m\n",
      "\u001b[32m[I 2021-06-25 14:07:07,842]\u001b[0m Trial 1335 finished with value: -0.005692022359351164 and parameters: {'kernel': 'rbf', 'C': 0.11595377245301389, 'gamma': 0.024550198356648692, 'epsilon': 0.0017221084488354764}. Best is trial 156 with value: -0.0056736269798483355.\u001b[0m\n",
      "\u001b[32m[I 2021-06-25 14:07:08,438]\u001b[0m Trial 1336 finished with value: -0.005697822211263766 and parameters: {'kernel': 'rbf', 'C': 0.1037503166204501, 'gamma': 0.02860835402087143, 'epsilon': 0.0015432741034243087}. Best is trial 156 with value: -0.0056736269798483355.\u001b[0m\n",
      "\u001b[32m[I 2021-06-25 14:07:08,835]\u001b[0m Trial 1337 finished with value: -0.00574303463063577 and parameters: {'kernel': 'rbf', 'C': 0.13113194678682744, 'gamma': 0.021974477988261482, 'epsilon': 0.0024430288094381566}. Best is trial 156 with value: -0.0056736269798483355.\u001b[0m\n",
      "\u001b[32m[I 2021-06-25 14:07:09,313]\u001b[0m Trial 1338 finished with value: -0.0057335117939096665 and parameters: {'kernel': 'rbf', 'C': 0.06737760177514401, 'gamma': 0.01932166989648062, 'epsilon': 0.001420683378470688}. Best is trial 156 with value: -0.0056736269798483355.\u001b[0m\n",
      "\u001b[32m[I 2021-06-25 14:07:09,777]\u001b[0m Trial 1339 finished with value: -0.0057869346396995066 and parameters: {'kernel': 'rbf', 'C': 0.1431024918822368, 'gamma': 0.03864595256533198, 'epsilon': 0.001857531123033719}. Best is trial 156 with value: -0.0056736269798483355.\u001b[0m\n"
     ]
    },
    {
     "name": "stderr",
     "output_type": "stream",
     "text": [
      "\u001b[32m[I 2021-06-25 14:07:10,262]\u001b[0m Trial 1340 finished with value: -0.005696223651172315 and parameters: {'kernel': 'rbf', 'C': 0.11776258758034665, 'gamma': 0.0258850962213029, 'epsilon': 0.0015991591274493022}. Best is trial 156 with value: -0.0056736269798483355.\u001b[0m\n",
      "\u001b[32m[I 2021-06-25 14:07:10,862]\u001b[0m Trial 1341 finished with value: -0.0056838951392297644 and parameters: {'kernel': 'rbf', 'C': 0.1493095050108307, 'gamma': 0.023270619836375076, 'epsilon': 0.0013529399788884868}. Best is trial 156 with value: -0.0056736269798483355.\u001b[0m\n",
      "\u001b[32m[I 2021-06-25 14:07:11,438]\u001b[0m Trial 1342 finished with value: -0.00570097366245289 and parameters: {'kernel': 'rbf', 'C': 0.12906372588749643, 'gamma': 0.02957727178326332, 'epsilon': 0.0011400769513073405}. Best is trial 156 with value: -0.0056736269798483355.\u001b[0m\n",
      "\u001b[32m[I 2021-06-25 14:07:11,694]\u001b[0m Trial 1343 finished with value: -0.006106176286680218 and parameters: {'kernel': 'rbf', 'C': 0.0938204711205728, 'gamma': 0.017534323989952087, 'epsilon': 0.0053373462043457545}. Best is trial 156 with value: -0.0056736269798483355.\u001b[0m\n",
      "\u001b[32m[I 2021-06-25 14:07:12,091]\u001b[0m Trial 1344 finished with value: -0.005719834332875565 and parameters: {'kernel': 'rbf', 'C': 0.11417061319926795, 'gamma': 0.034098114801705166, 'epsilon': 0.0019701182448917678}. Best is trial 156 with value: -0.0056736269798483355.\u001b[0m\n",
      "\u001b[32m[I 2021-06-25 14:07:12,647]\u001b[0m Trial 1345 finished with value: -0.00570053535785106 and parameters: {'kernel': 'rbf', 'C': 0.15895804677861408, 'gamma': 0.021408283742466585, 'epsilon': 0.0016882386874051622}. Best is trial 156 with value: -0.0056736269798483355.\u001b[0m\n",
      "\u001b[32m[I 2021-06-25 14:07:13,140]\u001b[0m Trial 1346 finished with value: -0.00576694638661588 and parameters: {'kernel': 'rbf', 'C': 0.14121856824931775, 'gamma': 0.01439118047034034, 'epsilon': 0.001447305874383771}. Best is trial 156 with value: -0.0056736269798483355.\u001b[0m\n",
      "\u001b[32m[I 2021-06-25 14:07:13,776]\u001b[0m Trial 1347 finished with value: -0.005713732285359765 and parameters: {'kernel': 'rbf', 'C': 0.17554569779854792, 'gamma': 0.026553259971764442, 'epsilon': 0.001260306320743481}. Best is trial 156 with value: -0.0056736269798483355.\u001b[0m\n",
      "\u001b[32m[I 2021-06-25 14:07:14,257]\u001b[0m Trial 1348 finished with value: -0.005720478283359319 and parameters: {'kernel': 'rbf', 'C': 0.07799040576618817, 'gamma': 0.023828711581554446, 'epsilon': 0.0015805004717144686}. Best is trial 156 with value: -0.0056736269798483355.\u001b[0m\n",
      "\u001b[32m[I 2021-06-25 14:07:14,729]\u001b[0m Trial 1349 finished with value: -0.005753154839359388 and parameters: {'kernel': 'rbf', 'C': 0.10655048033460185, 'gamma': 0.019883430794851772, 'epsilon': 0.0022460329753261747}. Best is trial 156 with value: -0.0056736269798483355.\u001b[0m\n",
      "\u001b[32m[I 2021-06-25 14:07:15,427]\u001b[0m Trial 1350 finished with value: -0.005712895044584732 and parameters: {'kernel': 'rbf', 'C': 0.13317042614628435, 'gamma': 0.027641551521962876, 'epsilon': 0.0011098229055474143}. Best is trial 156 with value: -0.0056736269798483355.\u001b[0m\n",
      "\u001b[32m[I 2021-06-25 14:07:16,150]\u001b[0m Trial 1351 finished with value: -0.00571964269199576 and parameters: {'kernel': 'rbf', 'C': 0.21977300553242277, 'gamma': 0.02389045829283062, 'epsilon': 0.0013898478992450918}. Best is trial 156 with value: -0.0056736269798483355.\u001b[0m\n",
      "\u001b[32m[I 2021-06-25 14:07:16,643]\u001b[0m Trial 1352 finished with value: -0.005730375787966664 and parameters: {'kernel': 'rbf', 'C': 0.15610557234217984, 'gamma': 0.03159469145513864, 'epsilon': 0.0018320271777745808}. Best is trial 156 with value: -0.0056736269798483355.\u001b[0m\n",
      "\u001b[32m[I 2021-06-25 14:07:17,317]\u001b[0m Trial 1353 finished with value: -0.005684979753648983 and parameters: {'kernel': 'rbf', 'C': 0.18907584148313877, 'gamma': 0.018183777955391014, 'epsilon': 0.0012727740386048686}. Best is trial 156 with value: -0.0056736269798483355.\u001b[0m\n",
      "\u001b[32m[I 2021-06-25 14:07:18,047]\u001b[0m Trial 1354 finished with value: -0.005708668407041012 and parameters: {'kernel': 'rbf', 'C': 0.12187780937878552, 'gamma': 0.021428034565844013, 'epsilon': 0.001003303062425975}. Best is trial 156 with value: -0.0056736269798483355.\u001b[0m\n",
      "\u001b[32m[I 2021-06-25 14:07:18,593]\u001b[0m Trial 1355 finished with value: -0.005707020254436074 and parameters: {'kernel': 'rbf', 'C': 0.14418058866468653, 'gamma': 0.028396915162709015, 'epsilon': 0.0015753032276962999}. Best is trial 156 with value: -0.0056736269798483355.\u001b[0m\n",
      "\u001b[32m[I 2021-06-25 14:07:19,000]\u001b[0m Trial 1356 finished with value: -0.005772183527501768 and parameters: {'kernel': 'rbf', 'C': 0.1597548816471997, 'gamma': 0.03524208339777473, 'epsilon': 0.0020977867591496432}. Best is trial 156 with value: -0.0056736269798483355.\u001b[0m\n",
      "\u001b[32m[I 2021-06-25 14:07:19,500]\u001b[0m Trial 1357 finished with value: -0.005692054434707377 and parameters: {'kernel': 'rbf', 'C': 0.108611287067943, 'gamma': 0.02517324002232641, 'epsilon': 0.001741869192791373}. Best is trial 156 with value: -0.0056736269798483355.\u001b[0m\n",
      "\u001b[32m[I 2021-06-25 14:07:19,842]\u001b[0m Trial 1358 finished with value: -0.0057725461140529415 and parameters: {'kernel': 'rbf', 'C': 0.13026037485641306, 'gamma': 0.020171675365208797, 'epsilon': 0.0029884761565510984}. Best is trial 156 with value: -0.0056736269798483355.\u001b[0m\n",
      "\u001b[32m[I 2021-06-25 14:07:20,463]\u001b[0m Trial 1359 finished with value: -0.005686436206669611 and parameters: {'kernel': 'rbf', 'C': 0.18479140143955236, 'gamma': 0.02330883926329568, 'epsilon': 0.0014214407033034864}. Best is trial 156 with value: -0.0056736269798483355.\u001b[0m\n",
      "\u001b[32m[I 2021-06-25 14:07:21,415]\u001b[0m Trial 1360 finished with value: -0.006326934288811791 and parameters: {'kernel': 'poly', 'C': 0.14604923491329488, 'gamma': 0.030879981677444338, 'epsilon': 0.0012190444180580533}. Best is trial 156 with value: -0.0056736269798483355.\u001b[0m\n",
      "\u001b[32m[I 2021-06-25 14:07:21,910]\u001b[0m Trial 1361 finished with value: -0.005770431614983814 and parameters: {'kernel': 'rbf', 'C': 0.09165577647387814, 'gamma': 0.043264668739556505, 'epsilon': 0.0015324753505873202}. Best is trial 156 with value: -0.0056736269798483355.\u001b[0m\n",
      "\u001b[32m[I 2021-06-25 14:07:22,342]\u001b[0m Trial 1362 finished with value: -0.005765478701319782 and parameters: {'kernel': 'rbf', 'C': 0.11708978786671408, 'gamma': 0.016462983602077753, 'epsilon': 0.0018232242640557881}. Best is trial 156 with value: -0.0056736269798483355.\u001b[0m\n",
      "\u001b[32m[I 2021-06-25 14:07:24,311]\u001b[0m Trial 1363 finished with value: -0.006236222270588354 and parameters: {'kernel': 'rbf', 'C': 2.001245944632803, 'gamma': 0.02688595913454255, 'epsilon': 0.001322999714746472}. Best is trial 156 with value: -0.0056736269798483355.\u001b[0m\n",
      "\u001b[32m[I 2021-06-25 14:07:25,034]\u001b[0m Trial 1364 finished with value: -0.0056990255824293625 and parameters: {'kernel': 'rbf', 'C': 0.168654718161396, 'gamma': 0.021674824585317703, 'epsilon': 0.0011177279834080826}. Best is trial 156 with value: -0.0056736269798483355.\u001b[0m\n",
      "\u001b[32m[I 2021-06-25 14:07:25,639]\u001b[0m Trial 1365 finished with value: -0.0057002230200263945 and parameters: {'kernel': 'rbf', 'C': 0.20370354280933053, 'gamma': 0.024992978152585724, 'epsilon': 0.0016863759168229751}. Best is trial 156 with value: -0.0056736269798483355.\u001b[0m\n",
      "\u001b[32m[I 2021-06-25 14:07:26,214]\u001b[0m Trial 1366 finished with value: -0.005708909902686109 and parameters: {'kernel': 'rbf', 'C': 0.13687906311294762, 'gamma': 0.019476293267401336, 'epsilon': 0.001449468002496693}. Best is trial 156 with value: -0.0056736269798483355.\u001b[0m\n",
      "\u001b[32m[I 2021-06-25 14:07:26,902]\u001b[0m Trial 1367 finished with value: -0.005821587826644416 and parameters: {'kernel': 'rbf', 'C': 0.24417976138690603, 'gamma': 0.029551641542285696, 'epsilon': 0.0013273108776584608}. Best is trial 156 with value: -0.0056736269798483355.\u001b[0m\n",
      "\u001b[32m[I 2021-06-25 14:07:27,347]\u001b[0m Trial 1368 finished with value: -0.005724830389131549 and parameters: {'kernel': 'rbf', 'C': 0.10019938792568583, 'gamma': 0.02303126958229971, 'epsilon': 0.0021433752722706256}. Best is trial 156 with value: -0.0056736269798483355.\u001b[0m\n",
      "\u001b[32m[I 2021-06-25 14:07:27,895]\u001b[0m Trial 1369 finished with value: -0.005791936166893241 and parameters: {'kernel': 'rbf', 'C': 0.1659105486225641, 'gamma': 0.035181544547036744, 'epsilon': 0.0016004986643960955}. Best is trial 156 with value: -0.0056736269798483355.\u001b[0m\n"
     ]
    },
    {
     "name": "stderr",
     "output_type": "stream",
     "text": [
      "\u001b[32m[I 2021-06-25 14:07:28,546]\u001b[0m Trial 1370 finished with value: -0.005710678022238513 and parameters: {'kernel': 'rbf', 'C': 0.12286653448424212, 'gamma': 0.027596418101991243, 'epsilon': 0.0010056223681990158}. Best is trial 156 with value: -0.0056736269798483355.\u001b[0m\n",
      "\u001b[32m[I 2021-06-25 14:07:28,971]\u001b[0m Trial 1371 finished with value: -0.005739767535015871 and parameters: {'kernel': 'rbf', 'C': 0.14211546582772358, 'gamma': 0.017933736127980143, 'epsilon': 0.0019220148127434087}. Best is trial 156 with value: -0.0056736269798483355.\u001b[0m\n",
      "\u001b[32m[I 2021-06-25 14:07:29,710]\u001b[0m Trial 1372 finished with value: -0.005693529127153357 and parameters: {'kernel': 'rbf', 'C': 0.18165893285656715, 'gamma': 0.021849559632918805, 'epsilon': 0.0011569345815495903}. Best is trial 156 with value: -0.0056736269798483355.\u001b[0m\n",
      "\u001b[32m[I 2021-06-25 14:07:30,306]\u001b[0m Trial 1373 finished with value: -0.005686287815573904 and parameters: {'kernel': 'rbf', 'C': 0.15224336270326938, 'gamma': 0.025043668349845238, 'epsilon': 0.0014952581249236827}. Best is trial 156 with value: -0.0056736269798483355.\u001b[0m\n",
      "\u001b[32m[I 2021-06-25 14:07:30,659]\u001b[0m Trial 1374 finished with value: -0.00573348150298119 and parameters: {'kernel': 'rbf', 'C': 0.11092867247014931, 'gamma': 0.031413565437069996, 'epsilon': 0.0026085604656235504}. Best is trial 156 with value: -0.0056736269798483355.\u001b[0m\n",
      "\u001b[32m[I 2021-06-25 14:07:31,326]\u001b[0m Trial 1375 finished with value: -0.005692999456260326 and parameters: {'kernel': 'rbf', 'C': 0.21442260727402063, 'gamma': 0.0203214717712118, 'epsilon': 0.001247277986261558}. Best is trial 156 with value: -0.0056736269798483355.\u001b[0m\n",
      "\u001b[32m[I 2021-06-25 14:07:31,943]\u001b[0m Trial 1376 finished with value: -0.005707805638930137 and parameters: {'kernel': 'rbf', 'C': 0.13166607141469971, 'gamma': 0.02698886910173231, 'epsilon': 0.0010000899814643707}. Best is trial 156 with value: -0.0056736269798483355.\u001b[0m\n",
      "\u001b[32m[I 2021-06-25 14:07:32,501]\u001b[0m Trial 1377 finished with value: -0.005734643696338727 and parameters: {'kernel': 'rbf', 'C': 0.16878746458223975, 'gamma': 0.01600952649499103, 'epsilon': 0.0017541520267190796}. Best is trial 156 with value: -0.0056736269798483355.\u001b[0m\n",
      "\u001b[32m[I 2021-06-25 14:07:33,194]\u001b[0m Trial 1378 finished with value: -0.005758657183926325 and parameters: {'kernel': 'rbf', 'C': 0.27658215121389074, 'gamma': 0.02356307191850006, 'epsilon': 0.0014320224823527676}. Best is trial 156 with value: -0.0056736269798483355.\u001b[0m\n",
      "\u001b[32m[I 2021-06-25 14:07:33,629]\u001b[0m Trial 1379 finished with value: -0.005745308368369673 and parameters: {'kernel': 'rbf', 'C': 0.12317710029532591, 'gamma': 0.018780539504047403, 'epsilon': 0.0020081240452923606}. Best is trial 156 with value: -0.0056736269798483355.\u001b[0m\n",
      "\u001b[32m[I 2021-06-25 14:07:34,259]\u001b[0m Trial 1380 finished with value: -0.005808006791924328 and parameters: {'kernel': 'rbf', 'C': 0.15139656908207452, 'gamma': 0.03795102754873309, 'epsilon': 0.001262956599141517}. Best is trial 156 with value: -0.0056736269798483355.\u001b[0m\n",
      "\u001b[32m[I 2021-06-25 14:07:34,799]\u001b[0m Trial 1381 finished with value: -0.005739081890396912 and parameters: {'kernel': 'rbf', 'C': 0.19261511204573364, 'gamma': 0.02923464377015277, 'epsilon': 0.001645721854430104}. Best is trial 156 with value: -0.0056736269798483355.\u001b[0m\n",
      "\u001b[32m[I 2021-06-25 14:07:35,291]\u001b[0m Trial 1382 finished with value: -0.005686948192592599 and parameters: {'kernel': 'rbf', 'C': 0.10793868471685977, 'gamma': 0.024344038773160433, 'epsilon': 0.0014650055033871292}. Best is trial 156 with value: -0.0056736269798483355.\u001b[0m\n",
      "\u001b[32m[I 2021-06-25 14:07:35,949]\u001b[0m Trial 1383 finished with value: -0.005694943862658733 and parameters: {'kernel': 'rbf', 'C': 0.1380315033840501, 'gamma': 0.021526793800509, 'epsilon': 0.0011243948012598138}. Best is trial 156 with value: -0.0056736269798483355.\u001b[0m\n",
      "\u001b[32m[I 2021-06-25 14:07:36,476]\u001b[0m Trial 1384 finished with value: -0.005732553984377953 and parameters: {'kernel': 'rbf', 'C': 0.08531213773384853, 'gamma': 0.03337994192489968, 'epsilon': 0.0017450612426108375}. Best is trial 156 with value: -0.0056736269798483355.\u001b[0m\n",
      "\u001b[32m[I 2021-06-25 14:07:37,118]\u001b[0m Trial 1385 finished with value: -0.005713100352409694 and parameters: {'kernel': 'rbf', 'C': 0.16605961313403583, 'gamma': 0.02771401696360909, 'epsilon': 0.0013920091833286065}. Best is trial 156 with value: -0.0056736269798483355.\u001b[0m\n",
      "\u001b[32m[I 2021-06-25 14:07:37,451]\u001b[0m Trial 1386 finished with value: -0.005804915880686916 and parameters: {'kernel': 'rbf', 'C': 0.1251369709887716, 'gamma': 0.02486192263114956, 'epsilon': 0.0035605080085017683}. Best is trial 156 with value: -0.0056736269798483355.\u001b[0m\n",
      "\u001b[32m[I 2021-06-25 14:07:37,557]\u001b[0m Trial 1387 finished with value: -0.02317450303472292 and parameters: {'kernel': 'rbf', 'C': 0.09607627682665389, 'gamma': 0.020227477308999257, 'epsilon': 0.029009082761385672}. Best is trial 156 with value: -0.0056736269798483355.\u001b[0m\n",
      "\u001b[32m[I 2021-06-25 14:07:38,345]\u001b[0m Trial 1388 finished with value: -0.005727832712559944 and parameters: {'kernel': 'rbf', 'C': 0.18940104344660372, 'gamma': 0.015126381189637871, 'epsilon': 0.0012337422819142794}. Best is trial 156 with value: -0.0056736269798483355.\u001b[0m\n",
      "\u001b[32m[I 2021-06-25 14:07:38,818]\u001b[0m Trial 1389 finished with value: -0.005891467177693946 and parameters: {'kernel': 'rbf', 'C': 0.15100736167098525, 'gamma': 0.049213346263148106, 'epsilon': 0.0021818248117720053}. Best is trial 156 with value: -0.0056736269798483355.\u001b[0m\n",
      "\u001b[32m[I 2021-06-25 14:07:39,503]\u001b[0m Trial 1390 finished with value: -0.0063138860951665945 and parameters: {'kernel': 'poly', 'C': 0.2343574017089572, 'gamma': 0.017749714666797083, 'epsilon': 0.0015964848559198784}. Best is trial 156 with value: -0.0056736269798483355.\u001b[0m\n",
      "\u001b[32m[I 2021-06-25 14:07:39,952]\u001b[0m Trial 1391 finished with value: -0.00571405474009181 and parameters: {'kernel': 'rbf', 'C': 0.11512248190651433, 'gamma': 0.03107057669106882, 'epsilon': 0.0018792307174837792}. Best is trial 156 with value: -0.0056736269798483355.\u001b[0m\n",
      "\u001b[32m[I 2021-06-25 14:07:40,624]\u001b[0m Trial 1392 finished with value: -0.005679198175918794 and parameters: {'kernel': 'rbf', 'C': 0.1480347454081371, 'gamma': 0.02223566206501857, 'epsilon': 0.0013563821696994975}. Best is trial 156 with value: -0.0056736269798483355.\u001b[0m\n",
      "\u001b[32m[I 2021-06-25 14:07:41,293]\u001b[0m Trial 1393 finished with value: -0.005698806522604172 and parameters: {'kernel': 'rbf', 'C': 0.18458654017987575, 'gamma': 0.017736972123119275, 'epsilon': 0.0010837871813224754}. Best is trial 156 with value: -0.0056736269798483355.\u001b[0m\n",
      "\u001b[32m[I 2021-06-25 14:07:42,057]\u001b[0m Trial 1394 finished with value: -0.00570785479822102 and parameters: {'kernel': 'rbf', 'C': 0.2174024298672926, 'gamma': 0.02036533379304156, 'epsilon': 0.001132928961807776}. Best is trial 156 with value: -0.0056736269798483355.\u001b[0m\n",
      "\u001b[32m[I 2021-06-25 14:07:42,652]\u001b[0m Trial 1395 finished with value: -0.005687310651204677 and parameters: {'kernel': 'rbf', 'C': 0.16146869567759725, 'gamma': 0.022063600022191113, 'epsilon': 0.0013045036925978899}. Best is trial 156 with value: -0.0056736269798483355.\u001b[0m\n",
      "\u001b[32m[I 2021-06-25 14:07:43,411]\u001b[0m Trial 1396 finished with value: -0.005740061596461238 and parameters: {'kernel': 'rbf', 'C': 0.2002080641130948, 'gamma': 0.02653062644519053, 'epsilon': 0.0010923097434529412}. Best is trial 156 with value: -0.0056736269798483355.\u001b[0m\n",
      "\u001b[32m[I 2021-06-25 14:07:44,014]\u001b[0m Trial 1397 finished with value: -0.005763968426427781 and parameters: {'kernel': 'rbf', 'C': 0.16681303043248563, 'gamma': 0.014002213592786273, 'epsilon': 0.0012183519359283469}. Best is trial 156 with value: -0.0056736269798483355.\u001b[0m\n",
      "\u001b[32m[I 2021-06-25 14:07:44,638]\u001b[0m Trial 1398 finished with value: -0.005734823096310426 and parameters: {'kernel': 'rbf', 'C': 0.14974876364454892, 'gamma': 0.012280830059973885, 'epsilon': 0.0010084098970730357}. Best is trial 156 with value: -0.0056736269798483355.\u001b[0m\n",
      "\u001b[32m[I 2021-06-25 14:07:45,273]\u001b[0m Trial 1399 finished with value: -0.00569442768068407 and parameters: {'kernel': 'rbf', 'C': 0.17582971743792009, 'gamma': 0.01893259460364496, 'epsilon': 0.0013611386765050243}. Best is trial 156 with value: -0.0056736269798483355.\u001b[0m\n"
     ]
    },
    {
     "name": "stderr",
     "output_type": "stream",
     "text": [
      "\u001b[32m[I 2021-06-25 14:07:45,846]\u001b[0m Trial 1400 finished with value: -0.005694613316295956 and parameters: {'kernel': 'rbf', 'C': 0.14377246127105914, 'gamma': 0.021735591062510076, 'epsilon': 0.001299241659853516}. Best is trial 156 with value: -0.0056736269798483355.\u001b[0m\n",
      "\u001b[32m[I 2021-06-25 14:07:46,609]\u001b[0m Trial 1401 finished with value: -0.005720551997011547 and parameters: {'kernel': 'rbf', 'C': 0.19499874945405335, 'gamma': 0.02495390688636893, 'epsilon': 0.0010067834305650574}. Best is trial 156 with value: -0.0056736269798483355.\u001b[0m\n",
      "\u001b[32m[I 2021-06-25 14:07:47,159]\u001b[0m Trial 1402 finished with value: -0.0057282975362085145 and parameters: {'kernel': 'rbf', 'C': 0.16118513966936918, 'gamma': 0.01614138653323681, 'epsilon': 0.001446041531376611}. Best is trial 156 with value: -0.0056736269798483355.\u001b[0m\n",
      "\u001b[32m[I 2021-06-25 14:07:47,807]\u001b[0m Trial 1403 finished with value: -0.005711557197128489 and parameters: {'kernel': 'rbf', 'C': 0.13731539990877487, 'gamma': 0.02902897524195812, 'epsilon': 0.001215749447992662}. Best is trial 156 with value: -0.0056736269798483355.\u001b[0m\n",
      "\u001b[32m[I 2021-06-25 14:07:48,389]\u001b[0m Trial 1404 finished with value: -0.005692658907696664 and parameters: {'kernel': 'rbf', 'C': 0.18500794941355944, 'gamma': 0.022237436759132582, 'epsilon': 0.0014744183473744275}. Best is trial 156 with value: -0.0056736269798483355.\u001b[0m\n",
      "\u001b[32m[I 2021-06-25 14:07:49,136]\u001b[0m Trial 1405 finished with value: -0.005755758948879169 and parameters: {'kernel': 'rbf', 'C': 0.2196810096197213, 'gamma': 0.026520803017063558, 'epsilon': 0.0011889662272462488}. Best is trial 156 with value: -0.0056736269798483355.\u001b[0m\n",
      "\u001b[32m[I 2021-06-25 14:07:49,735]\u001b[0m Trial 1406 finished with value: -0.005722632153149297 and parameters: {'kernel': 'rbf', 'C': 0.14847940654273487, 'gamma': 0.01760481203918362, 'epsilon': 0.0013624600200655302}. Best is trial 156 with value: -0.0056736269798483355.\u001b[0m\n",
      "\u001b[32m[I 2021-06-25 14:07:50,286]\u001b[0m Trial 1407 finished with value: -0.005679012501538367 and parameters: {'kernel': 'rbf', 'C': 0.1266652480177984, 'gamma': 0.023231045670058983, 'epsilon': 0.001534565133650058}. Best is trial 156 with value: -0.0056736269798483355.\u001b[0m\n",
      "\u001b[32m[I 2021-06-25 14:07:50,731]\u001b[0m Trial 1408 finished with value: -0.005710119379657874 and parameters: {'kernel': 'rbf', 'C': 0.11756489383217596, 'gamma': 0.020298522291172454, 'epsilon': 0.001599768726351773}. Best is trial 156 with value: -0.0056736269798483355.\u001b[0m\n",
      "\u001b[32m[I 2021-06-25 14:07:51,293]\u001b[0m Trial 1409 finished with value: -0.005708114833978216 and parameters: {'kernel': 'rbf', 'C': 0.16781819078445898, 'gamma': 0.019094890159122493, 'epsilon': 0.0015958439819995234}. Best is trial 156 with value: -0.0056736269798483355.\u001b[0m\n",
      "\u001b[32m[I 2021-06-25 14:07:51,744]\u001b[0m Trial 1410 finished with value: -0.005757958935111503 and parameters: {'kernel': 'rbf', 'C': 0.1323628789606944, 'gamma': 0.015997506563496, 'epsilon': 0.0018166567341635332}. Best is trial 156 with value: -0.0056736269798483355.\u001b[0m\n",
      "\u001b[32m[I 2021-06-25 14:07:52,383]\u001b[0m Trial 1411 finished with value: -0.005720465861158698 and parameters: {'kernel': 'rbf', 'C': 0.2553678497000969, 'gamma': 0.02251724772637708, 'epsilon': 0.0015206672766424872}. Best is trial 156 with value: -0.0056736269798483355.\u001b[0m\n",
      "\u001b[32m[I 2021-06-25 14:07:52,808]\u001b[0m Trial 1412 finished with value: -0.005735601103708806 and parameters: {'kernel': 'rbf', 'C': 0.1047703006656503, 'gamma': 0.01898312876826184, 'epsilon': 0.0016785017583447392}. Best is trial 156 with value: -0.0056736269798483355.\u001b[0m\n",
      "\u001b[32m[I 2021-06-25 14:07:53,433]\u001b[0m Trial 1413 finished with value: -0.005683240892875813 and parameters: {'kernel': 'rbf', 'C': 0.14990526864098203, 'gamma': 0.023604207498587975, 'epsilon': 0.0013302920223025407}. Best is trial 156 with value: -0.0056736269798483355.\u001b[0m\n",
      "\u001b[32m[I 2021-06-25 14:07:53,839]\u001b[0m Trial 1414 finished with value: -0.005720069098391878 and parameters: {'kernel': 'rbf', 'C': 0.12480699431551803, 'gamma': 0.02084250490094853, 'epsilon': 0.0019006103868807822}. Best is trial 156 with value: -0.0056736269798483355.\u001b[0m\n",
      "\u001b[32m[I 2021-06-25 14:07:54,405]\u001b[0m Trial 1415 finished with value: -0.005705452541628475 and parameters: {'kernel': 'rbf', 'C': 0.17580721323304768, 'gamma': 0.017203672485691147, 'epsilon': 0.0014879095355370027}. Best is trial 156 with value: -0.0056736269798483355.\u001b[0m\n",
      "\u001b[32m[I 2021-06-25 14:07:55,089]\u001b[0m Trial 1416 finished with value: -0.005686400273974122 and parameters: {'kernel': 'rbf', 'C': 0.1505049880853473, 'gamma': 0.02325366074552767, 'epsilon': 0.0012368574184368685}. Best is trial 156 with value: -0.0056736269798483355.\u001b[0m\n",
      "\u001b[32m[I 2021-06-25 14:07:55,594]\u001b[0m Trial 1417 finished with value: -0.00569734753250225 and parameters: {'kernel': 'rbf', 'C': 0.19792177564704536, 'gamma': 0.019608723827010364, 'epsilon': 0.0015653975875363196}. Best is trial 156 with value: -0.0056736269798483355.\u001b[0m\n",
      "\u001b[32m[I 2021-06-25 14:07:56,358]\u001b[0m Trial 1418 finished with value: -0.006364569621164756 and parameters: {'kernel': 'poly', 'C': 0.11402781521906946, 'gamma': 0.02440103082874315, 'epsilon': 0.0011561701164570749}. Best is trial 156 with value: -0.0056736269798483355.\u001b[0m\n",
      "\u001b[32m[I 2021-06-25 14:07:56,882]\u001b[0m Trial 1419 finished with value: -0.005753216382437189 and parameters: {'kernel': 'rbf', 'C': 0.13464706116213324, 'gamma': 0.01498489868405452, 'epsilon': 0.0013831419093809322}. Best is trial 156 with value: -0.0056736269798483355.\u001b[0m\n",
      "\u001b[32m[I 2021-06-25 14:07:57,264]\u001b[0m Trial 1420 finished with value: -0.005734060267574855 and parameters: {'kernel': 'rbf', 'C': 0.09933862719581171, 'gamma': 0.02137971004552318, 'epsilon': 0.0020400182047154397}. Best is trial 156 with value: -0.0056736269798483355.\u001b[0m\n",
      "\u001b[32m[I 2021-06-25 14:07:57,819]\u001b[0m Trial 1421 finished with value: -0.005698627467574925 and parameters: {'kernel': 'rbf', 'C': 0.15894533488386495, 'gamma': 0.028428118356856137, 'epsilon': 0.0016871401265707905}. Best is trial 156 with value: -0.0056736269798483355.\u001b[0m\n",
      "\u001b[32m[I 2021-06-25 14:07:58,512]\u001b[0m Trial 1422 finished with value: -0.005709970872225879 and parameters: {'kernel': 'rbf', 'C': 0.1357447377200517, 'gamma': 0.025446208236903155, 'epsilon': 0.0010110687444360852}. Best is trial 156 with value: -0.0056736269798483355.\u001b[0m\n",
      "\u001b[32m[I 2021-06-25 14:07:59,206]\u001b[0m Trial 1423 finished with value: -0.005719506489809983 and parameters: {'kernel': 'rbf', 'C': 0.17394982354509067, 'gamma': 0.01799156985903429, 'epsilon': 0.001005283715937035}. Best is trial 156 with value: -0.0056736269798483355.\u001b[0m\n",
      "\u001b[32m[I 2021-06-25 14:07:59,929]\u001b[0m Trial 1424 finished with value: -0.005695279102016378 and parameters: {'kernel': 'rbf', 'C': 0.22229319506807577, 'gamma': 0.022126403165758233, 'epsilon': 0.0014491712448022355}. Best is trial 156 with value: -0.0056736269798483355.\u001b[0m\n",
      "\u001b[32m[I 2021-06-25 14:08:00,575]\u001b[0m Trial 1425 finished with value: -0.00572119677836733 and parameters: {'kernel': 'rbf', 'C': 0.11695178804084577, 'gamma': 0.03240722002240857, 'epsilon': 0.001255362567865589}. Best is trial 156 with value: -0.0056736269798483355.\u001b[0m\n",
      "\u001b[32m[I 2021-06-25 14:08:01,122]\u001b[0m Trial 1426 finished with value: -0.005900718370414014 and parameters: {'kernel': 'rbf', 'C': 0.46908135394220946, 'gamma': 0.026494601817964182, 'epsilon': 0.002284318230239059}. Best is trial 156 with value: -0.0056736269798483355.\u001b[0m\n",
      "\u001b[32m[I 2021-06-25 14:08:01,585]\u001b[0m Trial 1427 finished with value: -0.005714104054567462 and parameters: {'kernel': 'rbf', 'C': 0.1532849059023079, 'gamma': 0.020316623389929615, 'epsilon': 0.0018064049442186663}. Best is trial 156 with value: -0.0056736269798483355.\u001b[0m\n",
      "\u001b[32m[I 2021-06-25 14:08:02,261]\u001b[0m Trial 1428 finished with value: -0.0056914339171962695 and parameters: {'kernel': 'rbf', 'C': 0.1915714011139321, 'gamma': 0.02359343809300507, 'epsilon': 0.0015648593472302943}. Best is trial 156 with value: -0.0056736269798483355.\u001b[0m\n",
      "\u001b[32m[I 2021-06-25 14:08:02,997]\u001b[0m Trial 1429 finished with value: -0.005720033429806533 and parameters: {'kernel': 'rbf', 'C': 0.08401722843255684, 'gamma': 0.029438646290147724, 'epsilon': 0.0011280831484900406}. Best is trial 156 with value: -0.0056736269798483355.\u001b[0m\n"
     ]
    },
    {
     "name": "stderr",
     "output_type": "stream",
     "text": [
      "\u001b[32m[I 2021-06-25 14:08:03,603]\u001b[0m Trial 1430 finished with value: -0.005688572739412083 and parameters: {'kernel': 'rbf', 'C': 0.13209730316639104, 'gamma': 0.025505608233169413, 'epsilon': 0.0013308365230341596}. Best is trial 156 with value: -0.0056736269798483355.\u001b[0m\n",
      "\u001b[32m[I 2021-06-25 14:08:04,048]\u001b[0m Trial 1431 finished with value: -0.005753821008401477 and parameters: {'kernel': 'rbf', 'C': 0.10487885229285053, 'gamma': 0.018078717594022114, 'epsilon': 0.0019438997622763779}. Best is trial 156 with value: -0.0056736269798483355.\u001b[0m\n",
      "\u001b[32m[I 2021-06-25 14:08:04,661]\u001b[0m Trial 1432 finished with value: -0.0057909719949469874 and parameters: {'kernel': 'rbf', 'C': 0.33949263914043176, 'gamma': 0.021994041161186532, 'epsilon': 0.0016462830653643575}. Best is trial 156 with value: -0.0056736269798483355.\u001b[0m\n",
      "\u001b[32m[I 2021-06-25 14:08:05,267]\u001b[0m Trial 1433 finished with value: -0.005781680557938273 and parameters: {'kernel': 'rbf', 'C': 0.16557482940477058, 'gamma': 0.034209676894523214, 'epsilon': 0.0013974757754149632}. Best is trial 156 with value: -0.0056736269798483355.\u001b[0m\n",
      "\u001b[32m[I 2021-06-25 14:08:05,825]\u001b[0m Trial 1434 finished with value: -0.0057072960000748236 and parameters: {'kernel': 'rbf', 'C': 0.14145831421023686, 'gamma': 0.028769800950209493, 'epsilon': 0.001146622836218892}. Best is trial 156 with value: -0.0056736269798483355.\u001b[0m\n",
      "\u001b[32m[I 2021-06-25 14:08:05,972]\u001b[0m Trial 1435 finished with value: -0.007369965845424992 and parameters: {'kernel': 'rbf', 'C': 0.12186771241391756, 'gamma': 0.023955588522955883, 'epsilon': 0.00938851439627814}. Best is trial 156 with value: -0.0056736269798483355.\u001b[0m\n",
      "\u001b[32m[I 2021-06-25 14:08:06,562]\u001b[0m Trial 1436 finished with value: -0.005709499089708116 and parameters: {'kernel': 'rbf', 'C': 0.19690661605100362, 'gamma': 0.020290188277755705, 'epsilon': 0.0017557457367681447}. Best is trial 156 with value: -0.0056736269798483355.\u001b[0m\n",
      "\u001b[32m[I 2021-06-25 14:08:07,214]\u001b[0m Trial 1437 finished with value: -0.005703548433609814 and parameters: {'kernel': 'rbf', 'C': 0.16443880941022063, 'gamma': 0.027699758796770724, 'epsilon': 0.0015019916414531773}. Best is trial 156 with value: -0.0056736269798483355.\u001b[0m\n",
      "\u001b[32m[I 2021-06-25 14:08:07,867]\u001b[0m Trial 1438 finished with value: -0.005730579245166561 and parameters: {'kernel': 'rbf', 'C': 0.13857978751695704, 'gamma': 0.016996808822372086, 'epsilon': 0.001003749997741717}. Best is trial 156 with value: -0.0056736269798483355.\u001b[0m\n",
      "\u001b[32m[I 2021-06-25 14:08:08,415]\u001b[0m Trial 1439 finished with value: -0.005694120061824432 and parameters: {'kernel': 'rbf', 'C': 0.09639076652460134, 'gamma': 0.023533561319365612, 'epsilon': 0.0012281502341182186}. Best is trial 156 with value: -0.0056736269798483355.\u001b[0m\n",
      "\u001b[32m[I 2021-06-25 14:08:08,846]\u001b[0m Trial 1440 finished with value: -0.005724689830898578 and parameters: {'kernel': 'rbf', 'C': 0.11928141816990145, 'gamma': 0.01979352560315649, 'epsilon': 0.001996004315761098}. Best is trial 156 with value: -0.0056736269798483355.\u001b[0m\n",
      "\u001b[32m[I 2021-06-25 14:08:09,406]\u001b[0m Trial 1441 finished with value: -0.005722700390335095 and parameters: {'kernel': 'rbf', 'C': 0.1523415734738886, 'gamma': 0.030932825946521386, 'epsilon': 0.0014713375382088647}. Best is trial 156 with value: -0.0056736269798483355.\u001b[0m\n",
      "\u001b[32m[I 2021-06-25 14:08:09,997]\u001b[0m Trial 1442 finished with value: -0.005749022241726918 and parameters: {'kernel': 'rbf', 'C': 0.2255993000831238, 'gamma': 0.012895628944545405, 'epsilon': 0.0013034378737143202}. Best is trial 156 with value: -0.0056736269798483355.\u001b[0m\n",
      "\u001b[32m[I 2021-06-25 14:08:10,606]\u001b[0m Trial 1443 finished with value: -0.006358483814121002 and parameters: {'kernel': 'poly', 'C': 0.17639971422886905, 'gamma': 0.0264083493512257, 'epsilon': 0.0017165532234006472}. Best is trial 156 with value: -0.0056736269798483355.\u001b[0m\n",
      "\u001b[32m[I 2021-06-25 14:08:10,970]\u001b[0m Trial 1444 finished with value: -0.005793352665312851 and parameters: {'kernel': 'rbf', 'C': 0.12929508732148334, 'gamma': 0.03918052776299499, 'epsilon': 0.002220116963727681}. Best is trial 156 with value: -0.0056736269798483355.\u001b[0m\n",
      "\u001b[32m[I 2021-06-25 14:08:11,530]\u001b[0m Trial 1445 finished with value: -0.005706212044295468 and parameters: {'kernel': 'rbf', 'C': 0.10843613111493075, 'gamma': 0.022069589255772036, 'epsilon': 0.0010044167313540988}. Best is trial 156 with value: -0.0056736269798483355.\u001b[0m\n",
      "\u001b[32m[I 2021-06-25 14:08:12,074]\u001b[0m Trial 1446 finished with value: -0.005716147158224837 and parameters: {'kernel': 'rbf', 'C': 0.1489766706385854, 'gamma': 0.03166734030373126, 'epsilon': 0.0015571137585577383}. Best is trial 156 with value: -0.0056736269798483355.\u001b[0m\n",
      "\u001b[32m[I 2021-06-25 14:08:12,693]\u001b[0m Trial 1447 finished with value: -0.005732579138095669 and parameters: {'kernel': 'rbf', 'C': 0.18199598195755967, 'gamma': 0.01557141232133702, 'epsilon': 0.0012826538974311707}. Best is trial 156 with value: -0.0056736269798483355.\u001b[0m\n",
      "\u001b[32m[I 2021-06-25 14:08:13,453]\u001b[0m Trial 1448 finished with value: -0.005719871385431569 and parameters: {'kernel': 'rbf', 'C': 0.20454138341689881, 'gamma': 0.025240702847041545, 'epsilon': 0.001127970209220597}. Best is trial 156 with value: -0.0056736269798483355.\u001b[0m\n",
      "\u001b[32m[I 2021-06-25 14:08:13,944]\u001b[0m Trial 1449 finished with value: -0.00572237172231638 and parameters: {'kernel': 'rbf', 'C': 0.12448194560057092, 'gamma': 0.019391790235312262, 'epsilon': 0.0018197076778494923}. Best is trial 156 with value: -0.0056736269798483355.\u001b[0m\n",
      "\u001b[32m[I 2021-06-25 14:08:14,474]\u001b[0m Trial 1450 finished with value: -0.005681695822230273 and parameters: {'kernel': 'rbf', 'C': 0.1579106211078658, 'gamma': 0.02236047786033652, 'epsilon': 0.0013984882136509808}. Best is trial 156 with value: -0.0056736269798483355.\u001b[0m\n",
      "\u001b[32m[I 2021-06-25 14:08:14,948]\u001b[0m Trial 1451 finished with value: -0.0056891626255165815 and parameters: {'kernel': 'rbf', 'C': 0.1390129116236672, 'gamma': 0.0273504736584138, 'epsilon': 0.0015849439989694192}. Best is trial 156 with value: -0.0056736269798483355.\u001b[0m\n",
      "\u001b[32m[I 2021-06-25 14:08:15,364]\u001b[0m Trial 1452 finished with value: -0.005894612447304791 and parameters: {'kernel': 'rbf', 'C': 0.26173969007529485, 'gamma': 0.03545891174786716, 'epsilon': 0.002554057220021448}. Best is trial 156 with value: -0.0056736269798483355.\u001b[0m\n",
      "\u001b[32m[I 2021-06-25 14:08:15,897]\u001b[0m Trial 1453 finished with value: -0.005696695992375242 and parameters: {'kernel': 'rbf', 'C': 0.11061053927481294, 'gamma': 0.022902803855586948, 'epsilon': 0.0013385138229739732}. Best is trial 156 with value: -0.0056736269798483355.\u001b[0m\n",
      "\u001b[32m[I 2021-06-25 14:08:16,391]\u001b[0m Trial 1454 finished with value: -0.005729790642908204 and parameters: {'kernel': 'rbf', 'C': 0.16763915501418614, 'gamma': 0.018184412005964445, 'epsilon': 0.0020212761540280492}. Best is trial 156 with value: -0.0056736269798483355.\u001b[0m\n",
      "\u001b[32m[I 2021-06-25 14:08:16,725]\u001b[0m Trial 1455 finished with value: -0.006420206882116915 and parameters: {'kernel': 'rbf', 'C': 0.010140701835788937, 'gamma': 0.029720693968016385, 'epsilon': 0.0016878720038714893}. Best is trial 156 with value: -0.0056736269798483355.\u001b[0m\n",
      "\u001b[32m[I 2021-06-25 14:08:17,271]\u001b[0m Trial 1456 finished with value: -0.005702312758824287 and parameters: {'kernel': 'rbf', 'C': 0.08920546772209963, 'gamma': 0.02491406085087704, 'epsilon': 0.0011353545225979004}. Best is trial 156 with value: -0.0056736269798483355.\u001b[0m\n",
      "\u001b[32m[I 2021-06-25 14:08:17,892]\u001b[0m Trial 1457 finished with value: -0.00570192488909838 and parameters: {'kernel': 'rbf', 'C': 0.14025620964272525, 'gamma': 0.020995509630713186, 'epsilon': 0.0014827397657395905}. Best is trial 156 with value: -0.0056736269798483355.\u001b[0m\n",
      "\u001b[32m[I 2021-06-25 14:08:18,516]\u001b[0m Trial 1458 finished with value: -0.0057099331816901355 and parameters: {'kernel': 'rbf', 'C': 0.1849998448638732, 'gamma': 0.026862748379253253, 'epsilon': 0.0012260148361041676}. Best is trial 156 with value: -0.0056736269798483355.\u001b[0m\n",
      "\u001b[32m[I 2021-06-25 14:08:18,998]\u001b[0m Trial 1459 finished with value: -0.005712411241075629 and parameters: {'kernel': 'rbf', 'C': 0.12295162005090175, 'gamma': 0.020931755119022174, 'epsilon': 0.0016805945453630176}. Best is trial 156 with value: -0.0056736269798483355.\u001b[0m\n"
     ]
    },
    {
     "name": "stderr",
     "output_type": "stream",
     "text": [
      "\u001b[32m[I 2021-06-25 14:08:19,572]\u001b[0m Trial 1460 finished with value: -0.005755689513675294 and parameters: {'kernel': 'rbf', 'C': 0.15560472395475708, 'gamma': 0.03269715550956525, 'epsilon': 0.0013897320969115455}. Best is trial 156 with value: -0.0056736269798483355.\u001b[0m\n",
      "\u001b[32m[I 2021-06-25 14:08:20,108]\u001b[0m Trial 1461 finished with value: -0.005713329049130934 and parameters: {'kernel': 'rbf', 'C': 0.20536965096965992, 'gamma': 0.017420576356166333, 'epsilon': 0.0018612170994875643}. Best is trial 156 with value: -0.0056736269798483355.\u001b[0m\n",
      "\u001b[32m[I 2021-06-25 14:08:20,585]\u001b[0m Trial 1462 finished with value: -0.005724780128804323 and parameters: {'kernel': 'rbf', 'C': 0.07302101920031573, 'gamma': 0.02432217765098508, 'epsilon': 0.0014531769401879102}. Best is trial 156 with value: -0.0056736269798483355.\u001b[0m\n",
      "\u001b[32m[I 2021-06-25 14:08:21,225]\u001b[0m Trial 1463 finished with value: -0.0057150557899074 and parameters: {'kernel': 'rbf', 'C': 0.0989918453286738, 'gamma': 0.029371399831016456, 'epsilon': 0.001001632399063833}. Best is trial 156 with value: -0.0056736269798483355.\u001b[0m\n",
      "\u001b[32m[I 2021-06-25 14:08:21,791]\u001b[0m Trial 1464 finished with value: -0.005700891160864418 and parameters: {'kernel': 'rbf', 'C': 0.1356338946531775, 'gamma': 0.019919892204458944, 'epsilon': 0.0012435521678163788}. Best is trial 156 with value: -0.0056736269798483355.\u001b[0m\n",
      "\u001b[32m[I 2021-06-25 14:08:22,238]\u001b[0m Trial 1465 finished with value: -0.005709230747716531 and parameters: {'kernel': 'rbf', 'C': 0.17134973340169868, 'gamma': 0.024712987541413805, 'epsilon': 0.0022625779738248562}. Best is trial 156 with value: -0.0056736269798483355.\u001b[0m\n",
      "\u001b[32m[I 2021-06-25 14:08:22,291]\u001b[0m Trial 1466 finished with value: -0.04522358590646345 and parameters: {'kernel': 'rbf', 'C': 0.11348143995319251, 'gamma': 0.027872652854993994, 'epsilon': 0.10252312640992002}. Best is trial 156 with value: -0.0056736269798483355.\u001b[0m\n",
      "\u001b[32m[I 2021-06-25 14:08:22,887]\u001b[0m Trial 1467 finished with value: -0.005693793664118359 and parameters: {'kernel': 'rbf', 'C': 0.14514386119123113, 'gamma': 0.022320187573831394, 'epsilon': 0.0016129944645132891}. Best is trial 156 with value: -0.0056736269798483355.\u001b[0m\n",
      "\u001b[32m[I 2021-06-25 14:08:23,403]\u001b[0m Trial 1468 finished with value: -0.005851110555084744 and parameters: {'kernel': 'rbf', 'C': 0.23333164243877166, 'gamma': 0.037303282620818126, 'epsilon': 0.0019576582746679548}. Best is trial 156 with value: -0.0056736269798483355.\u001b[0m\n",
      "\u001b[32m[I 2021-06-25 14:08:24,015]\u001b[0m Trial 1469 finished with value: -0.005750055554819236 and parameters: {'kernel': 'rbf', 'C': 0.12311888600619747, 'gamma': 0.016581994679396323, 'epsilon': 0.0011424405554448381}. Best is trial 156 with value: -0.0056736269798483355.\u001b[0m\n",
      "\u001b[32m[I 2021-06-25 14:08:47,519]\u001b[0m Trial 1470 finished with value: -0.006395420474823274 and parameters: {'kernel': 'poly', 'C': 0.17023260599378987, 'gamma': 0.22182516148120637, 'epsilon': 0.0013630052408342404}. Best is trial 156 with value: -0.0056736269798483355.\u001b[0m\n",
      "\u001b[32m[I 2021-06-25 14:08:47,982]\u001b[0m Trial 1471 finished with value: -0.005673212500245352 and parameters: {'kernel': 'rbf', 'C': 0.14784953519746086, 'gamma': 0.025548599370524356, 'epsilon': 0.0016058809956497162}. Best is trial 1471 with value: -0.005673212500245352.\u001b[0m\n",
      "\u001b[32m[I 2021-06-25 14:08:48,541]\u001b[0m Trial 1472 finished with value: -0.005807127689498248 and parameters: {'kernel': 'rbf', 'C': 0.20136471927408114, 'gamma': 0.03275050910426033, 'epsilon': 0.0017839556725206362}. Best is trial 1471 with value: -0.005673212500245352.\u001b[0m\n",
      "\u001b[32m[I 2021-06-25 14:08:49,114]\u001b[0m Trial 1473 finished with value: -0.005731753419032148 and parameters: {'kernel': 'rbf', 'C': 0.1779462277856723, 'gamma': 0.029691634351306895, 'epsilon': 0.0014944053138895893}. Best is trial 1471 with value: -0.005673212500245352.\u001b[0m\n",
      "\u001b[32m[I 2021-06-25 14:08:49,752]\u001b[0m Trial 1474 finished with value: -0.005849182841604882 and parameters: {'kernel': 'rbf', 'C': 0.15853839728944194, 'gamma': 0.041632193245225595, 'epsilon': 0.001264309430637054}. Best is trial 1471 with value: -0.005673212500245352.\u001b[0m\n",
      "\u001b[32m[I 2021-06-25 14:08:50,553]\u001b[0m Trial 1475 finished with value: -0.0057417870954925435 and parameters: {'kernel': 'rbf', 'C': 0.21175363327471086, 'gamma': 0.026196482929420173, 'epsilon': 0.001097755179410923}. Best is trial 1471 with value: -0.005673212500245352.\u001b[0m\n",
      "\u001b[32m[I 2021-06-25 14:08:51,310]\u001b[0m Trial 1476 finished with value: -0.00580553744126622 and parameters: {'kernel': 'rbf', 'C': 0.1890992091762505, 'gamma': 0.03421072178350884, 'epsilon': 0.0015420696634296557}. Best is trial 1471 with value: -0.005673212500245352.\u001b[0m\n",
      "\u001b[32m[I 2021-06-25 14:08:51,689]\u001b[0m Trial 1477 finished with value: -0.005700893149160822 and parameters: {'kernel': 'rbf', 'C': 0.14934732380156698, 'gamma': 0.027632323194308514, 'epsilon': 0.0020453263976909913}. Best is trial 1471 with value: -0.005673212500245352.\u001b[0m\n",
      "\u001b[32m[I 2021-06-25 14:08:52,581]\u001b[0m Trial 1478 finished with value: -0.005704832246331448 and parameters: {'kernel': 'rbf', 'C': 0.1519708533738681, 'gamma': 0.02113887677026055, 'epsilon': 0.0010050485434106057}. Best is trial 1471 with value: -0.005673212500245352.\u001b[0m\n",
      "\u001b[32m[I 2021-06-25 14:08:53,486]\u001b[0m Trial 1479 finished with value: -0.005680835490157393 and parameters: {'kernel': 'rbf', 'C': 0.17403298906917827, 'gamma': 0.023406470335177773, 'epsilon': 0.0013388810191598622}. Best is trial 1471 with value: -0.005673212500245352.\u001b[0m\n",
      "\u001b[32m[I 2021-06-25 14:08:54,132]\u001b[0m Trial 1480 finished with value: -0.005736631885266681 and parameters: {'kernel': 'rbf', 'C': 0.21132855735329897, 'gamma': 0.014186798281296424, 'epsilon': 0.0017865658092377401}. Best is trial 1471 with value: -0.005673212500245352.\u001b[0m\n",
      "\u001b[32m[I 2021-06-25 14:08:55,256]\u001b[0m Trial 1481 finished with value: -0.005698591186062032 and parameters: {'kernel': 'rbf', 'C': 0.22246874343956732, 'gamma': 0.018236850966434844, 'epsilon': 0.0013780238778840393}. Best is trial 1471 with value: -0.005673212500245352.\u001b[0m\n",
      "\u001b[32m[I 2021-06-25 14:08:56,145]\u001b[0m Trial 1482 finished with value: -0.005730749394554838 and parameters: {'kernel': 'rbf', 'C': 0.30878011808636074, 'gamma': 0.019278526277531658, 'epsilon': 0.0016169567769660335}. Best is trial 1471 with value: -0.005673212500245352.\u001b[0m\n",
      "\u001b[32m[I 2021-06-25 14:08:57,181]\u001b[0m Trial 1483 finished with value: -0.005704364077523041 and parameters: {'kernel': 'rbf', 'C': 0.2432317817292582, 'gamma': 0.022149012770203657, 'epsilon': 0.0012224867821327122}. Best is trial 1471 with value: -0.005673212500245352.\u001b[0m\n",
      "\u001b[32m[I 2021-06-25 14:08:57,861]\u001b[0m Trial 1484 finished with value: -0.005700588159086203 and parameters: {'kernel': 'rbf', 'C': 0.19264737092578094, 'gamma': 0.023502523566882934, 'epsilon': 0.0018516998382621152}. Best is trial 1471 with value: -0.005673212500245352.\u001b[0m\n",
      "\u001b[32m[I 2021-06-25 14:08:58,478]\u001b[0m Trial 1485 finished with value: -0.005741519453363843 and parameters: {'kernel': 'rbf', 'C': 0.1841361028986309, 'gamma': 0.019556112282682697, 'epsilon': 0.0023059004347703175}. Best is trial 1471 with value: -0.005673212500245352.\u001b[0m\n",
      "\u001b[32m[I 2021-06-25 14:09:02,971]\u001b[0m Trial 1486 finished with value: -0.006133918579446546 and parameters: {'kernel': 'rbf', 'C': 6.2279130547188855, 'gamma': 0.014809445645158148, 'epsilon': 0.001451709030050973}. Best is trial 1471 with value: -0.005673212500245352.\u001b[0m\n",
      "\u001b[32m[I 2021-06-25 14:09:03,536]\u001b[0m Trial 1487 finished with value: -0.0057240029654084075 and parameters: {'kernel': 'rbf', 'C': 0.2510049199757751, 'gamma': 0.023205508493568186, 'epsilon': 0.0016548902255700871}. Best is trial 1471 with value: -0.005673212500245352.\u001b[0m\n",
      "\u001b[32m[I 2021-06-25 14:09:04,496]\u001b[0m Trial 1488 finished with value: -0.005712168852010697 and parameters: {'kernel': 'rbf', 'C': 0.28667594075633757, 'gamma': 0.016916489043745868, 'epsilon': 0.0011077080842261352}. Best is trial 1471 with value: -0.005673212500245352.\u001b[0m\n",
      "\u001b[32m[I 2021-06-25 14:09:05,200]\u001b[0m Trial 1489 finished with value: -0.005687333508901923 and parameters: {'kernel': 'rbf', 'C': 0.17994564659150628, 'gamma': 0.021045067904745283, 'epsilon': 0.001318034331216919}. Best is trial 1471 with value: -0.005673212500245352.\u001b[0m\n"
     ]
    },
    {
     "name": "stderr",
     "output_type": "stream",
     "text": [
      "\u001b[32m[I 2021-06-25 14:09:05,984]\u001b[0m Trial 1490 finished with value: -0.0057484151169614915 and parameters: {'kernel': 'rbf', 'C': 0.23070285826662643, 'gamma': 0.02629879406450859, 'epsilon': 0.0014984098606712311}. Best is trial 1471 with value: -0.005673212500245352.\u001b[0m\n",
      "\u001b[32m[I 2021-06-25 14:09:06,396]\u001b[0m Trial 1491 finished with value: -0.005692631286730716 and parameters: {'kernel': 'rbf', 'C': 0.20243453843441309, 'gamma': 0.02425263907594879, 'epsilon': 0.001996009098703495}. Best is trial 1471 with value: -0.005673212500245352.\u001b[0m\n",
      "\u001b[32m[I 2021-06-25 14:09:07,244]\u001b[0m Trial 1492 finished with value: -0.005760012241839513 and parameters: {'kernel': 'rbf', 'C': 0.1693244197562397, 'gamma': 0.030689352122632275, 'epsilon': 0.001237472981181471}. Best is trial 1471 with value: -0.005673212500245352.\u001b[0m\n",
      "\u001b[32m[I 2021-06-25 14:09:07,998]\u001b[0m Trial 1493 finished with value: -0.0057104746371355935 and parameters: {'kernel': 'rbf', 'C': 0.16775099112350622, 'gamma': 0.01906970430819348, 'epsilon': 0.0010026328723094656}. Best is trial 1471 with value: -0.005673212500245352.\u001b[0m\n",
      "\u001b[32m[I 2021-06-25 14:09:08,508]\u001b[0m Trial 1494 finished with value: -0.005714580463927092 and parameters: {'kernel': 'rbf', 'C': 0.19515219557010283, 'gamma': 0.027786531534980792, 'epsilon': 0.0017441494829102996}. Best is trial 1471 with value: -0.005673212500245352.\u001b[0m\n",
      "\u001b[32m[I 2021-06-25 14:09:09,058]\u001b[0m Trial 1495 finished with value: -0.005692744963545416 and parameters: {'kernel': 'rbf', 'C': 0.16905372878022368, 'gamma': 0.021766470311975615, 'epsilon': 0.001478454709382683}. Best is trial 1471 with value: -0.005673212500245352.\u001b[0m\n",
      "\u001b[32m[I 2021-06-25 14:09:09,676]\u001b[0m Trial 1496 finished with value: -0.005686571155934132 and parameters: {'kernel': 'rbf', 'C': 0.1568568436418656, 'gamma': 0.024375889713661433, 'epsilon': 0.001329488744199922}. Best is trial 1471 with value: -0.005673212500245352.\u001b[0m\n",
      "\u001b[32m[I 2021-06-25 14:09:10,276]\u001b[0m Trial 1497 finished with value: -0.005711552481788447 and parameters: {'kernel': 'rbf', 'C': 0.21914215049947733, 'gamma': 0.018338028975901904, 'epsilon': 0.0016574617381046534}. Best is trial 1471 with value: -0.005673212500245352.\u001b[0m\n",
      "\u001b[32m[I 2021-06-25 14:09:11,095]\u001b[0m Trial 1498 finished with value: -0.006313089181562155 and parameters: {'kernel': 'poly', 'C': 0.18586322760085328, 'gamma': 0.029921034431280892, 'epsilon': 0.002058078620487297}. Best is trial 1471 with value: -0.005673212500245352.\u001b[0m\n",
      "\u001b[32m[I 2021-06-25 14:09:11,728]\u001b[0m Trial 1499 finished with value: -0.0057013755016705366 and parameters: {'kernel': 'rbf', 'C': 0.16219500740196774, 'gamma': 0.02110313290545452, 'epsilon': 0.001154784220281842}. Best is trial 1471 with value: -0.005673212500245352.\u001b[0m\n",
      "\u001b[32m[I 2021-06-25 14:09:12,088]\u001b[0m Trial 1500 finished with value: -0.005713577800208464 and parameters: {'kernel': 'rbf', 'C': 0.14214590610533068, 'gamma': 0.02586444111955127, 'epsilon': 0.002467814913048824}. Best is trial 1471 with value: -0.005673212500245352.\u001b[0m\n",
      "\u001b[32m[I 2021-06-25 14:09:12,612]\u001b[0m Trial 1501 finished with value: -0.005710796230333358 and parameters: {'kernel': 'rbf', 'C': 0.18554212918517346, 'gamma': 0.016239087837449085, 'epsilon': 0.00145293730847707}. Best is trial 1471 with value: -0.005673212500245352.\u001b[0m\n",
      "\u001b[32m[I 2021-06-25 14:09:13,031]\u001b[0m Trial 1502 finished with value: -0.005699611276712473 and parameters: {'kernel': 'rbf', 'C': 0.13299097880408203, 'gamma': 0.022462966758413014, 'epsilon': 0.0018216736167343003}. Best is trial 1471 with value: -0.005673212500245352.\u001b[0m\n",
      "\u001b[32m[I 2021-06-25 14:09:13,750]\u001b[0m Trial 1503 finished with value: -0.005773312245929738 and parameters: {'kernel': 'rbf', 'C': 0.15445528667736094, 'gamma': 0.03463615796996834, 'epsilon': 0.0013059342990310908}. Best is trial 1471 with value: -0.005673212500245352.\u001b[0m\n",
      "\u001b[32m[I 2021-06-25 14:09:14,479]\u001b[0m Trial 1504 finished with value: -0.005795240432525069 and parameters: {'kernel': 'rbf', 'C': 0.25680685092360916, 'gamma': 0.027339816467467377, 'epsilon': 0.0015175282638470403}. Best is trial 1471 with value: -0.005673212500245352.\u001b[0m\n",
      "\u001b[32m[I 2021-06-25 14:09:15,243]\u001b[0m Trial 1505 finished with value: -0.005700642269740112 and parameters: {'kernel': 'rbf', 'C': 0.21003938088677102, 'gamma': 0.019704868242980532, 'epsilon': 0.0011417201924989334}. Best is trial 1471 with value: -0.005673212500245352.\u001b[0m\n",
      "\u001b[32m[I 2021-06-25 14:09:15,681]\u001b[0m Trial 1506 finished with value: -0.005691550266675366 and parameters: {'kernel': 'rbf', 'C': 0.12864252967871875, 'gamma': 0.024582246401622956, 'epsilon': 0.0016843795360923582}. Best is trial 1471 with value: -0.005673212500245352.\u001b[0m\n",
      "\u001b[32m[I 2021-06-25 14:09:16,247]\u001b[0m Trial 1507 finished with value: -0.005737665207492105 and parameters: {'kernel': 'rbf', 'C': 0.16930340779263417, 'gamma': 0.02983951878327579, 'epsilon': 0.0013541774058455482}. Best is trial 1471 with value: -0.005673212500245352.\u001b[0m\n",
      "\u001b[32m[I 2021-06-25 14:09:16,627]\u001b[0m Trial 1508 finished with value: -0.0057019396992641054 and parameters: {'kernel': 'rbf', 'C': 0.1456590385866316, 'gamma': 0.02213577998751421, 'epsilon': 0.0019300674901828157}. Best is trial 1471 with value: -0.005673212500245352.\u001b[0m\n",
      "\u001b[32m[I 2021-06-25 14:09:17,069]\u001b[0m Trial 1509 finished with value: -0.0057341959712099225 and parameters: {'kernel': 'rbf', 'C': 0.11423701638329288, 'gamma': 0.01870817244828707, 'epsilon': 0.0015690730417288355}. Best is trial 1471 with value: -0.005673212500245352.\u001b[0m\n",
      "\u001b[32m[I 2021-06-25 14:09:17,883]\u001b[0m Trial 1510 finished with value: -0.005713816639609854 and parameters: {'kernel': 'rbf', 'C': 0.18140512538150372, 'gamma': 0.02581432200875256, 'epsilon': 0.0011205613343013925}. Best is trial 1471 with value: -0.005673212500245352.\u001b[0m\n",
      "\u001b[32m[I 2021-06-25 14:09:18,556]\u001b[0m Trial 1511 finished with value: -0.005684833627169113 and parameters: {'kernel': 'rbf', 'C': 0.14790077265119866, 'gamma': 0.021930424766875237, 'epsilon': 0.0012714193826417403}. Best is trial 1471 with value: -0.005673212500245352.\u001b[0m\n",
      "\u001b[32m[I 2021-06-25 14:09:19,207]\u001b[0m Trial 1512 finished with value: -0.005713391306349134 and parameters: {'kernel': 'rbf', 'C': 0.13098024265153782, 'gamma': 0.0309924773740185, 'epsilon': 0.0016843338185300136}. Best is trial 1471 with value: -0.005673212500245352.\u001b[0m\n",
      "\u001b[32m[I 2021-06-25 14:09:19,622]\u001b[0m Trial 1513 finished with value: -0.005701396458286386 and parameters: {'kernel': 'rbf', 'C': 0.16188575873089303, 'gamma': 0.025033838326689, 'epsilon': 0.002153946396205611}. Best is trial 1471 with value: -0.005673212500245352.\u001b[0m\n",
      "\u001b[32m[I 2021-06-25 14:09:20,388]\u001b[0m Trial 1514 finished with value: -0.005706386758106812 and parameters: {'kernel': 'rbf', 'C': 0.2056203797593542, 'gamma': 0.02010559958995833, 'epsilon': 0.0014579534496864002}. Best is trial 1471 with value: -0.005673212500245352.\u001b[0m\n",
      "\u001b[32m[I 2021-06-25 14:09:20,971]\u001b[0m Trial 1515 finished with value: -0.005738771174961255 and parameters: {'kernel': 'rbf', 'C': 0.10610405782002266, 'gamma': 0.017243683167407927, 'epsilon': 0.0012791345789552363}. Best is trial 1471 with value: -0.005673212500245352.\u001b[0m\n",
      "\u001b[32m[I 2021-06-25 14:09:21,563]\u001b[0m Trial 1516 finished with value: -0.005743366880881486 and parameters: {'kernel': 'rbf', 'C': 0.12098820654187668, 'gamma': 0.03696139641078086, 'epsilon': 0.001832770775201008}. Best is trial 1471 with value: -0.005673212500245352.\u001b[0m\n",
      "\u001b[32m[I 2021-06-25 14:09:22,225]\u001b[0m Trial 1517 finished with value: -0.005697617801902063 and parameters: {'kernel': 'rbf', 'C': 0.14530929116250263, 'gamma': 0.02742952703256933, 'epsilon': 0.0015476596846242892}. Best is trial 1471 with value: -0.005673212500245352.\u001b[0m\n",
      "\u001b[32m[I 2021-06-25 14:09:23,012]\u001b[0m Trial 1518 finished with value: -0.005694859687826977 and parameters: {'kernel': 'rbf', 'C': 0.17319958651910783, 'gamma': 0.02319149321043706, 'epsilon': 0.0011018085035330715}. Best is trial 1471 with value: -0.005673212500245352.\u001b[0m\n",
      "\u001b[32m[I 2021-06-25 14:09:23,504]\u001b[0m Trial 1519 finished with value: -0.005753926050562349 and parameters: {'kernel': 'rbf', 'C': 0.13028161986257278, 'gamma': 0.0320719504317177, 'epsilon': 0.0027718316050844884}. Best is trial 1471 with value: -0.005673212500245352.\u001b[0m\n"
     ]
    },
    {
     "name": "stderr",
     "output_type": "stream",
     "text": [
      "\u001b[32m[I 2021-06-25 14:09:24,318]\u001b[0m Trial 1520 finished with value: -0.00571698396033033 and parameters: {'kernel': 'rbf', 'C': 0.1935743103083888, 'gamma': 0.026960743715848497, 'epsilon': 0.0013982801886755019}. Best is trial 1471 with value: -0.005673212500245352.\u001b[0m\n",
      "\u001b[32m[I 2021-06-25 14:09:24,944]\u001b[0m Trial 1521 finished with value: -0.00571629710871267 and parameters: {'kernel': 'rbf', 'C': 0.23831191089116333, 'gamma': 0.020272892718563414, 'epsilon': 0.0017019354879075177}. Best is trial 1471 with value: -0.005673212500245352.\u001b[0m\n",
      "\u001b[32m[I 2021-06-25 14:09:25,006]\u001b[0m Trial 1522 finished with value: -0.04522358590646345 and parameters: {'kernel': 'rbf', 'C': 0.1486783216563333, 'gamma': 0.02344467160449568, 'epsilon': 0.1807867923550582}. Best is trial 1471 with value: -0.005673212500245352.\u001b[0m\n",
      "\u001b[32m[I 2021-06-25 14:09:25,553]\u001b[0m Trial 1523 finished with value: -0.005748706067808851 and parameters: {'kernel': 'rbf', 'C': 0.099677789842458, 'gamma': 0.01448691199782372, 'epsilon': 0.0012242774575632026}. Best is trial 1471 with value: -0.005673212500245352.\u001b[0m\n",
      "\u001b[32m[I 2021-06-25 14:09:26,075]\u001b[0m Trial 1524 finished with value: -0.005704459447689815 and parameters: {'kernel': 'rbf', 'C': 0.1615474005109355, 'gamma': 0.028890296684610933, 'epsilon': 0.0019790184739484355}. Best is trial 1471 with value: -0.005673212500245352.\u001b[0m\n",
      "\u001b[32m[I 2021-06-25 14:09:26,620]\u001b[0m Trial 1525 finished with value: -0.006370713736931335 and parameters: {'kernel': 'poly', 'C': 0.11912476088158391, 'gamma': 0.018629986551603427, 'epsilon': 0.0014796241165231391}. Best is trial 1471 with value: -0.005673212500245352.\u001b[0m\n",
      "\u001b[32m[I 2021-06-25 14:09:27,283]\u001b[0m Trial 1526 finished with value: -0.005697400781431782 and parameters: {'kernel': 'rbf', 'C': 0.13963074274661472, 'gamma': 0.023618643445732654, 'epsilon': 0.0011008559459970064}. Best is trial 1471 with value: -0.005673212500245352.\u001b[0m\n",
      "\u001b[32m[I 2021-06-25 14:09:28,054]\u001b[0m Trial 1527 finished with value: -0.005782249006356929 and parameters: {'kernel': 'rbf', 'C': 0.17584034594645778, 'gamma': 0.032971470493143556, 'epsilon': 0.001344810960454635}. Best is trial 1471 with value: -0.005673212500245352.\u001b[0m\n",
      "\u001b[32m[I 2021-06-25 14:09:29,040]\u001b[0m Trial 1528 finished with value: -0.005925296372846543 and parameters: {'kernel': 'rbf', 'C': 0.6271057977616873, 'gamma': 0.020891467024404045, 'epsilon': 0.0016275401701220538}. Best is trial 1471 with value: -0.005673212500245352.\u001b[0m\n",
      "\u001b[32m[I 2021-06-25 14:09:29,565]\u001b[0m Trial 1529 finished with value: -0.0057406277114519675 and parameters: {'kernel': 'rbf', 'C': 0.21670132658959682, 'gamma': 0.02646075852172832, 'epsilon': 0.002317988563515491}. Best is trial 1471 with value: -0.005673212500245352.\u001b[0m\n",
      "\u001b[32m[I 2021-06-25 14:09:30,205]\u001b[0m Trial 1530 finished with value: -0.005753666752024891 and parameters: {'kernel': 'rbf', 'C': 0.12472429754044709, 'gamma': 0.01586652822860759, 'epsilon': 0.0017852685175485637}. Best is trial 1471 with value: -0.005673212500245352.\u001b[0m\n",
      "\u001b[32m[I 2021-06-25 14:09:30,940]\u001b[0m Trial 1531 finished with value: -0.005745460020265422 and parameters: {'kernel': 'rbf', 'C': 0.15801230325760796, 'gamma': 0.01139087320191678, 'epsilon': 0.0012344500949256587}. Best is trial 1471 with value: -0.005673212500245352.\u001b[0m\n",
      "\u001b[32m[I 2021-06-25 14:09:31,884]\u001b[0m Trial 1532 finished with value: -0.005774377610937513 and parameters: {'kernel': 'rbf', 'C': 0.19048512504982698, 'gamma': 0.029930093616794818, 'epsilon': 0.0010143706574130369}. Best is trial 1471 with value: -0.005673212500245352.\u001b[0m\n",
      "\u001b[32m[I 2021-06-25 14:09:32,425]\u001b[0m Trial 1533 finished with value: -0.005720044593184853 and parameters: {'kernel': 'rbf', 'C': 0.08550795979260169, 'gamma': 0.022979527189161717, 'epsilon': 0.0014869305349507857}. Best is trial 1471 with value: -0.005673212500245352.\u001b[0m\n",
      "\u001b[32m[I 2021-06-25 14:09:33,020]\u001b[0m Trial 1534 finished with value: -0.005693407891541988 and parameters: {'kernel': 'rbf', 'C': 0.1352926234180185, 'gamma': 0.025494752276833867, 'epsilon': 0.001986953482090189}. Best is trial 1471 with value: -0.005673212500245352.\u001b[0m\n",
      "\u001b[32m[I 2021-06-25 14:09:33,669]\u001b[0m Trial 1535 finished with value: -0.00573758205764843 and parameters: {'kernel': 'rbf', 'C': 0.11374706608274582, 'gamma': 0.017831294284673695, 'epsilon': 0.0013748195877943568}. Best is trial 1471 with value: -0.005673212500245352.\u001b[0m\n",
      "\u001b[32m[I 2021-06-25 14:09:34,457]\u001b[0m Trial 1536 finished with value: -0.005726425261708897 and parameters: {'kernel': 'rbf', 'C': 0.2715461964501593, 'gamma': 0.02116946788932344, 'epsilon': 0.0016767022111689968}. Best is trial 1471 with value: -0.005673212500245352.\u001b[0m\n",
      "\u001b[32m[I 2021-06-25 14:09:34,514]\u001b[0m Trial 1537 finished with value: -0.04522358590646345 and parameters: {'kernel': 'rbf', 'C': 0.1570507034457641, 'gamma': 0.0364519176151377, 'epsilon': 0.6524344412833231}. Best is trial 1471 with value: -0.005673212500245352.\u001b[0m\n",
      "\u001b[32m[I 2021-06-25 14:09:35,234]\u001b[0m Trial 1538 finished with value: -0.0057166478874320845 and parameters: {'kernel': 'rbf', 'C': 0.10239671166591484, 'gamma': 0.028577454282670188, 'epsilon': 0.001009927029393874}. Best is trial 1471 with value: -0.005673212500245352.\u001b[0m\n",
      "\u001b[32m[I 2021-06-25 14:09:35,297]\u001b[0m Trial 1539 finished with value: -0.04522358590646345 and parameters: {'kernel': 'rbf', 'C': 0.17808167956997162, 'gamma': 0.024442294346938374, 'epsilon': 0.06635798038494091}. Best is trial 1471 with value: -0.005673212500245352.\u001b[0m\n",
      "\u001b[32m[I 2021-06-25 14:09:35,988]\u001b[0m Trial 1540 finished with value: -0.005840701742433577 and parameters: {'kernel': 'rbf', 'C': 0.13996143048370108, 'gamma': 0.043060627452124876, 'epsilon': 0.0012072225254032216}. Best is trial 1471 with value: -0.005673212500245352.\u001b[0m\n",
      "\u001b[32m[I 2021-06-25 14:09:36,581]\u001b[0m Trial 1541 finished with value: -0.005712111502065965 and parameters: {'kernel': 'rbf', 'C': 0.1267210898983504, 'gamma': 0.01999944129389809, 'epsilon': 0.001421178415128639}. Best is trial 1471 with value: -0.005673212500245352.\u001b[0m\n",
      "\u001b[32m[I 2021-06-25 14:09:37,384]\u001b[0m Trial 1542 finished with value: -0.005734878006478866 and parameters: {'kernel': 'rbf', 'C': 0.15808987973724964, 'gamma': 0.03155680827976433, 'epsilon': 0.0015884291383767549}. Best is trial 1471 with value: -0.005673212500245352.\u001b[0m\n",
      "\u001b[32m[I 2021-06-25 14:09:38,245]\u001b[0m Trial 1543 finished with value: -0.005714899726048199 and parameters: {'kernel': 'rbf', 'C': 0.21007657472226085, 'gamma': 0.022660734067954116, 'epsilon': 0.0010030012031225686}. Best is trial 1471 with value: -0.005673212500245352.\u001b[0m\n",
      "\u001b[32m[I 2021-06-25 14:09:38,816]\u001b[0m Trial 1544 finished with value: -0.005742287206196608 and parameters: {'kernel': 'rbf', 'C': 0.11170263338210742, 'gamma': 0.017469769028157816, 'epsilon': 0.0018394367722093337}. Best is trial 1471 with value: -0.005673212500245352.\u001b[0m\n",
      "\u001b[32m[I 2021-06-25 14:09:39,768]\u001b[0m Trial 1545 finished with value: -0.005712916069470441 and parameters: {'kernel': 'rbf', 'C': 0.1779586772947611, 'gamma': 0.026876550870214486, 'epsilon': 0.0012736606582996308}. Best is trial 1471 with value: -0.005673212500245352.\u001b[0m\n",
      "\u001b[32m[I 2021-06-25 14:09:40,389]\u001b[0m Trial 1546 finished with value: -0.005734776038718921 and parameters: {'kernel': 'rbf', 'C': 0.1427221699120808, 'gamma': 0.02046559712512802, 'epsilon': 0.0021720845952155113}. Best is trial 1471 with value: -0.005673212500245352.\u001b[0m\n",
      "\u001b[32m[I 2021-06-25 14:09:40,954]\u001b[0m Trial 1547 finished with value: -0.00569783806650466 and parameters: {'kernel': 'rbf', 'C': 0.09219194148355016, 'gamma': 0.024915225730247778, 'epsilon': 0.0015311163698647418}. Best is trial 1471 with value: -0.005673212500245352.\u001b[0m\n",
      "\u001b[32m[I 2021-06-25 14:09:41,707]\u001b[0m Trial 1548 finished with value: -0.00572005168547655 and parameters: {'kernel': 'rbf', 'C': 0.15730304396531583, 'gamma': 0.02884851669027438, 'epsilon': 0.001168683543420014}. Best is trial 1471 with value: -0.005673212500245352.\u001b[0m\n",
      "\u001b[32m[I 2021-06-25 14:09:41,785]\u001b[0m Trial 1549 finished with value: -0.04522358590646345 and parameters: {'kernel': 'rbf', 'C': 0.12534242072243096, 'gamma': 0.02244450478073551, 'epsilon': 0.31986334824580187}. Best is trial 1471 with value: -0.005673212500245352.\u001b[0m\n"
     ]
    },
    {
     "name": "stderr",
     "output_type": "stream",
     "text": [
      "\u001b[32m[I 2021-06-25 14:09:42,534]\u001b[0m Trial 1550 finished with value: -0.005700997273494774 and parameters: {'kernel': 'rbf', 'C': 0.19302883410228647, 'gamma': 0.026202234022496208, 'epsilon': 0.0017711411823546348}. Best is trial 1471 with value: -0.005673212500245352.\u001b[0m\n",
      "\u001b[32m[I 2021-06-25 14:09:43,318]\u001b[0m Trial 1551 finished with value: -0.005760265445257345 and parameters: {'kernel': 'rbf', 'C': 0.1442533989052468, 'gamma': 0.03422341460804697, 'epsilon': 0.0013802917358339975}. Best is trial 1471 with value: -0.005673212500245352.\u001b[0m\n",
      "\u001b[32m[I 2021-06-25 14:09:43,951]\u001b[0m Trial 1552 finished with value: -0.00637402253362938 and parameters: {'kernel': 'poly', 'C': 0.10898014190519138, 'gamma': 0.018641845424171757, 'epsilon': 0.0015475181143977752}. Best is trial 1471 with value: -0.005673212500245352.\u001b[0m\n",
      "\u001b[32m[I 2021-06-25 14:09:44,900]\u001b[0m Trial 1553 finished with value: -0.0057029139326555435 and parameters: {'kernel': 'rbf', 'C': 0.16955164623907165, 'gamma': 0.02271758183212991, 'epsilon': 0.0010018365952131861}. Best is trial 1471 with value: -0.005673212500245352.\u001b[0m\n",
      "\u001b[32m[I 2021-06-25 14:09:45,582]\u001b[0m Trial 1554 finished with value: -0.0057040011311631595 and parameters: {'kernel': 'rbf', 'C': 0.21990773654250986, 'gamma': 0.01594237492439584, 'epsilon': 0.0013272433318904672}. Best is trial 1471 with value: -0.005673212500245352.\u001b[0m\n",
      "\u001b[32m[I 2021-06-25 14:09:46,173]\u001b[0m Trial 1555 finished with value: -0.005711831134743456 and parameters: {'kernel': 'rbf', 'C': 0.13603869011762143, 'gamma': 0.029043743224646496, 'epsilon': 0.001988250775142413}. Best is trial 1471 with value: -0.005673212500245352.\u001b[0m\n",
      "\u001b[32m[I 2021-06-25 14:09:46,808]\u001b[0m Trial 1556 finished with value: -0.005709915738223106 and parameters: {'kernel': 'rbf', 'C': 0.12049551242420842, 'gamma': 0.020297301667933067, 'epsilon': 0.0011342243132447948}. Best is trial 1471 with value: -0.005673212500245352.\u001b[0m\n",
      "\u001b[32m[I 2021-06-25 14:09:47,345]\u001b[0m Trial 1557 finished with value: -0.005692307237182528 and parameters: {'kernel': 'rbf', 'C': 0.16203302780643333, 'gamma': 0.025072849666443357, 'epsilon': 0.0016541393798977708}. Best is trial 1471 with value: -0.005673212500245352.\u001b[0m\n",
      "\u001b[32m[I 2021-06-25 14:09:48,255]\u001b[0m Trial 1558 finished with value: -0.005783812664707309 and parameters: {'kernel': 'rbf', 'C': 0.19196065870294943, 'gamma': 0.03137367094274439, 'epsilon': 0.0014069348084663521}. Best is trial 1471 with value: -0.005673212500245352.\u001b[0m\n",
      "\u001b[32m[I 2021-06-25 14:09:48,856]\u001b[0m Trial 1559 finished with value: -0.005717317661101695 and parameters: {'kernel': 'rbf', 'C': 0.2348879403150766, 'gamma': 0.023259364473149417, 'epsilon': 0.0018178722390150143}. Best is trial 1471 with value: -0.005673212500245352.\u001b[0m\n",
      "\u001b[32m[I 2021-06-25 14:09:49,227]\u001b[0m Trial 1560 finished with value: -0.005794583184103641 and parameters: {'kernel': 'rbf', 'C': 0.14120213211519617, 'gamma': 0.03814962902726835, 'epsilon': 0.00241151866894837}. Best is trial 1471 with value: -0.005673212500245352.\u001b[0m\n",
      "\u001b[32m[I 2021-06-25 14:09:49,824]\u001b[0m Trial 1561 finished with value: -0.005731043060117059 and parameters: {'kernel': 'rbf', 'C': 0.09918510679907734, 'gamma': 0.018363978505578655, 'epsilon': 0.0012426036740384018}. Best is trial 1471 with value: -0.005673212500245352.\u001b[0m\n",
      "\u001b[32m[I 2021-06-25 14:09:50,395]\u001b[0m Trial 1562 finished with value: -0.005685048918681288 and parameters: {'kernel': 'rbf', 'C': 0.12591349582428774, 'gamma': 0.027027018976292234, 'epsilon': 0.0015424667901777062}. Best is trial 1471 with value: -0.005673212500245352.\u001b[0m\n",
      "\u001b[32m[I 2021-06-25 14:09:50,993]\u001b[0m Trial 1563 finished with value: -0.005697523552464052 and parameters: {'kernel': 'rbf', 'C': 0.16729698968007886, 'gamma': 0.020906121882401173, 'epsilon': 0.0013438794409168387}. Best is trial 1471 with value: -0.005673212500245352.\u001b[0m\n",
      "\u001b[32m[I 2021-06-25 14:09:51,381]\u001b[0m Trial 1564 finished with value: -0.005735690183972973 and parameters: {'kernel': 'rbf', 'C': 0.07751057721790029, 'gamma': 0.024545523141507104, 'epsilon': 0.0020672199469375053}. Best is trial 1471 with value: -0.005673212500245352.\u001b[0m\n",
      "\u001b[32m[I 2021-06-25 14:09:52,031]\u001b[0m Trial 1565 finished with value: -0.005742591268832853 and parameters: {'kernel': 'rbf', 'C': 0.14983790884421058, 'gamma': 0.031230926489820447, 'epsilon': 0.0011394022309559517}. Best is trial 1471 with value: -0.005673212500245352.\u001b[0m\n",
      "\u001b[32m[I 2021-06-25 14:09:52,445]\u001b[0m Trial 1566 finished with value: -0.00571396468833425 and parameters: {'kernel': 'rbf', 'C': 0.11129700467645227, 'gamma': 0.021856080885857086, 'epsilon': 0.001684711073759546}. Best is trial 1471 with value: -0.005673212500245352.\u001b[0m\n",
      "\u001b[32m[I 2021-06-25 14:09:53,021]\u001b[0m Trial 1567 finished with value: -0.005724381890980591 and parameters: {'kernel': 'rbf', 'C': 0.19098757912038275, 'gamma': 0.027844851801809404, 'epsilon': 0.0015296650423563024}. Best is trial 1471 with value: -0.005673212500245352.\u001b[0m\n",
      "\u001b[32m[I 2021-06-25 14:09:53,540]\u001b[0m Trial 1568 finished with value: -0.005745603808690626 and parameters: {'kernel': 'rbf', 'C': 0.1355531023246447, 'gamma': 0.016206535135025818, 'epsilon': 0.0013214329894294938}. Best is trial 1471 with value: -0.005673212500245352.\u001b[0m\n",
      "\u001b[32m[I 2021-06-25 14:09:54,006]\u001b[0m Trial 1569 finished with value: -0.005711825025694212 and parameters: {'kernel': 'rbf', 'C': 0.17021420002157084, 'gamma': 0.01899141782267038, 'epsilon': 0.0017868618512957837}. Best is trial 1471 with value: -0.005673212500245352.\u001b[0m\n",
      "\u001b[32m[I 2021-06-25 14:09:59,390]\u001b[0m Trial 1570 finished with value: -0.0065669240898149454 and parameters: {'kernel': 'rbf', 'C': 7.6887783828344585, 'gamma': 0.02543062242329515, 'epsilon': 0.0010075850640980937}. Best is trial 1471 with value: -0.005673212500245352.\u001b[0m\n",
      "\u001b[32m[I 2021-06-25 14:10:00,010]\u001b[0m Trial 1571 finished with value: -0.0057389522443474185 and parameters: {'kernel': 'rbf', 'C': 0.11620188689163433, 'gamma': 0.0135862163086218, 'epsilon': 0.0015067385527751818}. Best is trial 1471 with value: -0.005673212500245352.\u001b[0m\n",
      "\u001b[32m[I 2021-06-25 14:10:00,779]\u001b[0m Trial 1572 finished with value: -0.0057616828348983845 and parameters: {'kernel': 'rbf', 'C': 0.15031514613982538, 'gamma': 0.03315853140138481, 'epsilon': 0.0011884876195690606}. Best is trial 1471 with value: -0.005673212500245352.\u001b[0m\n",
      "\u001b[32m[I 2021-06-25 14:10:01,240]\u001b[0m Trial 1573 finished with value: -0.005697818598048657 and parameters: {'kernel': 'rbf', 'C': 0.1298725537943028, 'gamma': 0.022286003422250428, 'epsilon': 0.0018957065455707113}. Best is trial 1471 with value: -0.005673212500245352.\u001b[0m\n",
      "\u001b[32m[I 2021-06-25 14:10:01,866]\u001b[0m Trial 1574 finished with value: -0.005743409662498259 and parameters: {'kernel': 'rbf', 'C': 0.19661331758104345, 'gamma': 0.02807410255749855, 'epsilon': 0.0014002441091333958}. Best is trial 1471 with value: -0.005673212500245352.\u001b[0m\n",
      "\u001b[32m[I 2021-06-25 14:10:02,570]\u001b[0m Trial 1575 finished with value: -0.00592790145526409 and parameters: {'kernel': 'rbf', 'C': 0.05685954221334757, 'gamma': 0.006270998660956988, 'epsilon': 0.0010029451608223718}. Best is trial 1471 with value: -0.005673212500245352.\u001b[0m\n",
      "\u001b[32m[I 2021-06-25 14:10:03,118]\u001b[0m Trial 1576 finished with value: -0.0057094848472893965 and parameters: {'kernel': 'rbf', 'C': 0.15461783770685006, 'gamma': 0.0200603082767578, 'epsilon': 0.001620071051849699}. Best is trial 1471 with value: -0.005673212500245352.\u001b[0m\n",
      "\u001b[32m[I 2021-06-25 14:10:03,828]\u001b[0m Trial 1577 finished with value: -0.005694939739351683 and parameters: {'kernel': 'rbf', 'C': 0.09808482360386729, 'gamma': 0.024736516681589896, 'epsilon': 0.0012468930357059055}. Best is trial 1471 with value: -0.005673212500245352.\u001b[0m\n",
      "\u001b[32m[I 2021-06-25 14:10:04,289]\u001b[0m Trial 1578 finished with value: -0.005719164841597072 and parameters: {'kernel': 'rbf', 'C': 0.2340820965813432, 'gamma': 0.023224110760785434, 'epsilon': 0.0021760474094804317}. Best is trial 1471 with value: -0.005673212500245352.\u001b[0m\n",
      "\u001b[32m[I 2021-06-25 14:10:04,401]\u001b[0m Trial 1579 finished with value: -0.015677496358039528 and parameters: {'kernel': 'poly', 'C': 0.17897706660864435, 'gamma': 0.030411874707990002, 'epsilon': 0.021669295252105186}. Best is trial 1471 with value: -0.005673212500245352.\u001b[0m\n"
     ]
    },
    {
     "name": "stderr",
     "output_type": "stream",
     "text": [
      "\u001b[32m[I 2021-06-25 14:10:04,961]\u001b[0m Trial 1580 finished with value: -0.005732168793236674 and parameters: {'kernel': 'rbf', 'C': 0.12923153116759906, 'gamma': 0.017545519442184868, 'epsilon': 0.0014178814326666917}. Best is trial 1471 with value: -0.005673212500245352.\u001b[0m\n",
      "\u001b[32m[I 2021-06-25 14:10:05,463]\u001b[0m Trial 1581 finished with value: -0.005776378874165204 and parameters: {'kernel': 'rbf', 'C': 0.1484934864872591, 'gamma': 0.036617156589053304, 'epsilon': 0.001767773831408995}. Best is trial 1471 with value: -0.005673212500245352.\u001b[0m\n",
      "\u001b[32m[I 2021-06-25 14:10:06,150]\u001b[0m Trial 1582 finished with value: -0.005702667975130531 and parameters: {'kernel': 'rbf', 'C': 0.16772655212465504, 'gamma': 0.02036427955198324, 'epsilon': 0.00112562967185739}. Best is trial 1471 with value: -0.005673212500245352.\u001b[0m\n",
      "\u001b[32m[I 2021-06-25 14:10:06,793]\u001b[0m Trial 1583 finished with value: -0.0056980307436984455 and parameters: {'kernel': 'rbf', 'C': 0.10600437171218144, 'gamma': 0.02667576114085535, 'epsilon': 0.0015929583793409651}. Best is trial 1471 with value: -0.005673212500245352.\u001b[0m\n",
      "\u001b[32m[I 2021-06-25 14:10:07,732]\u001b[0m Trial 1584 finished with value: -0.005777437851059932 and parameters: {'kernel': 'rbf', 'C': 0.2831298635071934, 'gamma': 0.023905441906075357, 'epsilon': 0.0013213583162476686}. Best is trial 1471 with value: -0.005673212500245352.\u001b[0m\n",
      "\u001b[32m[I 2021-06-25 14:10:08,419]\u001b[0m Trial 1585 finished with value: -0.005755305272107786 and parameters: {'kernel': 'rbf', 'C': 0.20804870840863154, 'gamma': 0.028683033061411636, 'epsilon': 0.0019995730031156095}. Best is trial 1471 with value: -0.005673212500245352.\u001b[0m\n",
      "\u001b[32m[I 2021-06-25 14:10:09,130]\u001b[0m Trial 1586 finished with value: -0.0057145524582856745 and parameters: {'kernel': 'rbf', 'C': 0.12028279475288677, 'gamma': 0.02116588146296822, 'epsilon': 0.001521008077809822}. Best is trial 1471 with value: -0.005673212500245352.\u001b[0m\n",
      "\u001b[32m[I 2021-06-25 14:10:09,555]\u001b[0m Trial 1587 finished with value: -0.0057904529055731796 and parameters: {'kernel': 'rbf', 'C': 0.14200525482664453, 'gamma': 0.0154912361812518, 'epsilon': 0.002756043046264122}. Best is trial 1471 with value: -0.005673212500245352.\u001b[0m\n",
      "\u001b[32m[I 2021-06-25 14:10:10,373]\u001b[0m Trial 1588 finished with value: -0.005804982788103145 and parameters: {'kernel': 'rbf', 'C': 0.17766206055843073, 'gamma': 0.03394269787417209, 'epsilon': 0.0012107600367531328}. Best is trial 1471 with value: -0.005673212500245352.\u001b[0m\n",
      "\u001b[32m[I 2021-06-25 14:10:10,953]\u001b[0m Trial 1589 finished with value: -0.005739739238444515 and parameters: {'kernel': 'rbf', 'C': 0.1300798878676767, 'gamma': 0.018386773402843795, 'epsilon': 0.0017923628826267796}. Best is trial 1471 with value: -0.005673212500245352.\u001b[0m\n",
      "\u001b[32m[I 2021-06-25 14:10:11,544]\u001b[0m Trial 1590 finished with value: -0.005811312191656343 and parameters: {'kernel': 'rbf', 'C': 0.15583699782922633, 'gamma': 0.004446915240847511, 'epsilon': 0.0013586117009032335}. Best is trial 1471 with value: -0.005673212500245352.\u001b[0m\n",
      "\u001b[32m[I 2021-06-25 14:10:11,636]\u001b[0m Trial 1591 finished with value: -0.04522358590646345 and parameters: {'kernel': 'rbf', 'C': 0.09309478377154926, 'gamma': 0.0251070996708574, 'epsilon': 0.05263346558325597}. Best is trial 1471 with value: -0.005673212500245352.\u001b[0m\n",
      "\u001b[32m[I 2021-06-25 14:10:12,403]\u001b[0m Trial 1592 finished with value: -0.005711194044993287 and parameters: {'kernel': 'rbf', 'C': 0.11332243281857063, 'gamma': 0.021360289300532336, 'epsilon': 0.0011203631426257132}. Best is trial 1471 with value: -0.005673212500245352.\u001b[0m\n",
      "\u001b[32m[I 2021-06-25 14:10:13,079]\u001b[0m Trial 1593 finished with value: -0.005764704631269736 and parameters: {'kernel': 'rbf', 'C': 0.20136675467161705, 'gamma': 0.03005548249212657, 'epsilon': 0.0016625006782648975}. Best is trial 1471 with value: -0.005673212500245352.\u001b[0m\n",
      "\u001b[32m[I 2021-06-25 14:10:13,790]\u001b[0m Trial 1594 finished with value: -0.005691153721650272 and parameters: {'kernel': 'rbf', 'C': 0.140103586393818, 'gamma': 0.026335506371054175, 'epsilon': 0.0014515340385107456}. Best is trial 1471 with value: -0.005673212500245352.\u001b[0m\n",
      "\u001b[32m[I 2021-06-25 14:10:14,329]\u001b[0m Trial 1595 finished with value: -0.005694203818567819 and parameters: {'kernel': 'rbf', 'C': 0.1659743655278849, 'gamma': 0.023373130426491123, 'epsilon': 0.0021005154108418157}. Best is trial 1471 with value: -0.005673212500245352.\u001b[0m\n",
      "\u001b[32m[I 2021-06-25 14:10:15,085]\u001b[0m Trial 1596 finished with value: -0.00573381293163205 and parameters: {'kernel': 'rbf', 'C': 0.12175954584355227, 'gamma': 0.018890972053685166, 'epsilon': 0.0010005228528529573}. Best is trial 1471 with value: -0.005673212500245352.\u001b[0m\n",
      "\u001b[32m[I 2021-06-25 14:10:15,770]\u001b[0m Trial 1597 finished with value: -0.005720230745660762 and parameters: {'kernel': 'rbf', 'C': 0.18273511976608542, 'gamma': 0.02718331632361503, 'epsilon': 0.001317777230222945}. Best is trial 1471 with value: -0.005673212500245352.\u001b[0m\n",
      "\u001b[32m[I 2021-06-25 14:10:16,433]\u001b[0m Trial 1598 finished with value: -0.005691615068062518 and parameters: {'kernel': 'rbf', 'C': 0.15119477155610267, 'gamma': 0.022255950561626638, 'epsilon': 0.0016040013582746516}. Best is trial 1471 with value: -0.005673212500245352.\u001b[0m\n",
      "\u001b[32m[I 2021-06-25 14:10:16,846]\u001b[0m Trial 1599 finished with value: -0.005835397523027853 and parameters: {'kernel': 'rbf', 'C': 0.248758117887914, 'gamma': 0.03148382698699285, 'epsilon': 0.0024558801258871784}. Best is trial 1471 with value: -0.005673212500245352.\u001b[0m\n",
      "\u001b[32m[I 2021-06-25 14:10:17,412]\u001b[0m Trial 1600 finished with value: -0.007562991605871705 and parameters: {'kernel': 'rbf', 'C': 0.10513351680952902, 'gamma': 0.7373620213357123, 'epsilon': 0.0019252734869881327}. Best is trial 1471 with value: -0.005673212500245352.\u001b[0m\n",
      "\u001b[32m[I 2021-06-25 14:10:18,188]\u001b[0m Trial 1601 finished with value: -0.005803722057905854 and parameters: {'kernel': 'rbf', 'C': 0.13128019980731076, 'gamma': 0.03894752019784289, 'epsilon': 0.0011595832014306459}. Best is trial 1471 with value: -0.005673212500245352.\u001b[0m\n",
      "\u001b[32m[I 2021-06-25 14:10:18,787]\u001b[0m Trial 1602 finished with value: -0.005726263935353873 and parameters: {'kernel': 'rbf', 'C': 0.1673486046395291, 'gamma': 0.01663493062380731, 'epsilon': 0.0014736271983932477}. Best is trial 1471 with value: -0.005673212500245352.\u001b[0m\n",
      "\u001b[32m[I 2021-06-25 14:10:19,358]\u001b[0m Trial 1603 finished with value: -0.005931217967611393 and parameters: {'kernel': 'rbf', 'C': 0.20634792664384502, 'gamma': 0.04708613659764493, 'epsilon': 0.001754349227076603}. Best is trial 1471 with value: -0.005673212500245352.\u001b[0m\n",
      "\u001b[32m[I 2021-06-25 14:10:20,145]\u001b[0m Trial 1604 finished with value: -0.005686828773346875 and parameters: {'kernel': 'rbf', 'C': 0.14288689416777264, 'gamma': 0.024275989509784015, 'epsilon': 0.0012324941352415358}. Best is trial 1471 with value: -0.005673212500245352.\u001b[0m\n",
      "\u001b[32m[I 2021-06-25 14:10:20,723]\u001b[0m Trial 1605 finished with value: -0.005737141939388505 and parameters: {'kernel': 'rbf', 'C': 0.08573025739119346, 'gamma': 0.01993768039073352, 'epsilon': 0.0014758144680827624}. Best is trial 1471 with value: -0.005673212500245352.\u001b[0m\n",
      "\u001b[32m[I 2021-06-25 14:10:21,371]\u001b[0m Trial 1606 finished with value: -0.005695154711462799 and parameters: {'kernel': 'rbf', 'C': 0.11607267105519607, 'gamma': 0.02800890213885223, 'epsilon': 0.0016804497766839907}. Best is trial 1471 with value: -0.005673212500245352.\u001b[0m\n",
      "\u001b[32m[I 2021-06-25 14:10:22,193]\u001b[0m Trial 1607 finished with value: -0.006325980081167728 and parameters: {'kernel': 'poly', 'C': 0.18249898162104802, 'gamma': 0.022784579385418453, 'epsilon': 0.0013247194951979122}. Best is trial 1471 with value: -0.005673212500245352.\u001b[0m\n",
      "\u001b[32m[I 2021-06-25 14:10:23,060]\u001b[0m Trial 1608 finished with value: -0.005776017689741105 and parameters: {'kernel': 'rbf', 'C': 0.15241785941187574, 'gamma': 0.033534759691861316, 'epsilon': 0.0011223005875348813}. Best is trial 1471 with value: -0.005673212500245352.\u001b[0m\n",
      "\u001b[32m[I 2021-06-25 14:10:23,627]\u001b[0m Trial 1609 finished with value: -0.005700744485487711 and parameters: {'kernel': 'rbf', 'C': 0.12368547922226754, 'gamma': 0.025738535860730927, 'epsilon': 0.0019396984530228969}. Best is trial 1471 with value: -0.005673212500245352.\u001b[0m\n"
     ]
    },
    {
     "name": "stderr",
     "output_type": "stream",
     "text": [
      "\u001b[32m[I 2021-06-25 14:10:24,207]\u001b[0m Trial 1610 finished with value: -0.005707329055614884 and parameters: {'kernel': 'rbf', 'C': 0.1358568179758584, 'gamma': 0.020468269376649535, 'epsilon': 0.001478214263042603}. Best is trial 1471 with value: -0.005673212500245352.\u001b[0m\n",
      "\u001b[32m[I 2021-06-25 14:10:24,642]\u001b[0m Trial 1611 finished with value: -0.006341210186058742 and parameters: {'kernel': 'rbf', 'C': 0.15896540226528444, 'gamma': 0.09974865248793285, 'epsilon': 0.00230200916890574}. Best is trial 1471 with value: -0.005673212500245352.\u001b[0m\n",
      "\u001b[32m[I 2021-06-25 14:10:25,288]\u001b[0m Trial 1612 finished with value: -0.005699177376516103 and parameters: {'kernel': 'rbf', 'C': 0.21455359469145613, 'gamma': 0.017307423807765978, 'epsilon': 0.0012677780193240337}. Best is trial 1471 with value: -0.005673212500245352.\u001b[0m\n",
      "\u001b[32m[I 2021-06-25 14:10:25,863]\u001b[0m Trial 1613 finished with value: -0.00569958588955886 and parameters: {'kernel': 'rbf', 'C': 0.10304967891139186, 'gamma': 0.03060834339084214, 'epsilon': 0.0015925800145656262}. Best is trial 1471 with value: -0.005673212500245352.\u001b[0m\n",
      "\u001b[32m[I 2021-06-25 14:10:26,549]\u001b[0m Trial 1614 finished with value: -0.005695094333142473 and parameters: {'kernel': 'rbf', 'C': 0.17449081274798678, 'gamma': 0.023862245620796845, 'epsilon': 0.001817026056640272}. Best is trial 1471 with value: -0.005673212500245352.\u001b[0m\n",
      "\u001b[32m[I 2021-06-25 14:10:27,301]\u001b[0m Trial 1615 finished with value: -0.005703987009928374 and parameters: {'kernel': 'rbf', 'C': 0.14451095446247558, 'gamma': 0.02763165318530308, 'epsilon': 0.0013652081008205452}. Best is trial 1471 with value: -0.005673212500245352.\u001b[0m\n",
      "\u001b[32m[I 2021-06-25 14:10:27,820]\u001b[0m Trial 1616 finished with value: -0.005847597826945382 and parameters: {'kernel': 'rbf', 'C': 0.0371526291049949, 'gamma': 0.020490563234257384, 'epsilon': 0.0011365890159575273}. Best is trial 1471 with value: -0.005673212500245352.\u001b[0m\n",
      "\u001b[32m[I 2021-06-25 14:10:28,498]\u001b[0m Trial 1617 finished with value: -0.005705341647662873 and parameters: {'kernel': 'rbf', 'C': 0.12477866308436009, 'gamma': 0.023236896609139263, 'epsilon': 0.0010022777200836958}. Best is trial 1471 with value: -0.005673212500245352.\u001b[0m\n",
      "\u001b[32m[I 2021-06-25 14:10:29,058]\u001b[0m Trial 1618 finished with value: -0.005699388694805481 and parameters: {'kernel': 'rbf', 'C': 0.18911438555154306, 'gamma': 0.02681120382410258, 'epsilon': 0.0016182906377418473}. Best is trial 1471 with value: -0.005673212500245352.\u001b[0m\n",
      "\u001b[32m[I 2021-06-25 14:10:29,555]\u001b[0m Trial 1619 finished with value: -0.005732475818415861 and parameters: {'kernel': 'rbf', 'C': 0.11059767948379967, 'gamma': 0.01838291367792241, 'epsilon': 0.0014011895745168607}. Best is trial 1471 with value: -0.005673212500245352.\u001b[0m\n",
      "\u001b[32m[I 2021-06-25 14:10:30,029]\u001b[0m Trial 1620 finished with value: -0.005702612702537582 and parameters: {'kernel': 'rbf', 'C': 0.15972822899753306, 'gamma': 0.021211776508634515, 'epsilon': 0.00191359277384879}. Best is trial 1471 with value: -0.005673212500245352.\u001b[0m\n",
      "\u001b[32m[I 2021-06-25 14:10:30,554]\u001b[0m Trial 1621 finished with value: -0.0057375852733065795 and parameters: {'kernel': 'rbf', 'C': 0.1352911240008423, 'gamma': 0.014497869239116114, 'epsilon': 0.0012131440275652498}. Best is trial 1471 with value: -0.005673212500245352.\u001b[0m\n",
      "\u001b[32m[I 2021-06-25 14:10:31,193]\u001b[0m Trial 1622 finished with value: -0.005817890260506304 and parameters: {'kernel': 'rbf', 'C': 0.21671876466908593, 'gamma': 0.03425694724048955, 'epsilon': 0.0015631552489583913}. Best is trial 1471 with value: -0.005673212500245352.\u001b[0m\n",
      "\u001b[32m[I 2021-06-25 14:10:31,589]\u001b[0m Trial 1623 finished with value: -0.005692753294032914 and parameters: {'kernel': 'rbf', 'C': 0.17624130751264278, 'gamma': 0.024920873938837552, 'epsilon': 0.0020943626694008527}. Best is trial 1471 with value: -0.005673212500245352.\u001b[0m\n",
      "\u001b[32m[I 2021-06-25 14:10:32,142]\u001b[0m Trial 1624 finished with value: -0.005695698578666214 and parameters: {'kernel': 'rbf', 'C': 0.1454306855169366, 'gamma': 0.028815258685979426, 'epsilon': 0.0017205397474982199}. Best is trial 1471 with value: -0.005673212500245352.\u001b[0m\n",
      "\u001b[32m[I 2021-06-25 14:10:32,660]\u001b[0m Trial 1625 finished with value: -0.005722720102125059 and parameters: {'kernel': 'rbf', 'C': 0.09649860479691551, 'gamma': 0.02149358530258945, 'epsilon': 0.0013553578368474986}. Best is trial 1471 with value: -0.005673212500245352.\u001b[0m\n",
      "\u001b[32m[I 2021-06-25 14:10:33,230]\u001b[0m Trial 1626 finished with value: -0.005734180825504947 and parameters: {'kernel': 'rbf', 'C': 0.11703088704991772, 'gamma': 0.018045203872167268, 'epsilon': 0.0014807089136338763}. Best is trial 1471 with value: -0.005673212500245352.\u001b[0m\n",
      "\u001b[32m[I 2021-06-25 14:10:33,958]\u001b[0m Trial 1627 finished with value: -0.00575221568384135 and parameters: {'kernel': 'rbf', 'C': 0.15846630618088203, 'gamma': 0.030932494112669955, 'epsilon': 0.001126424740435476}. Best is trial 1471 with value: -0.005673212500245352.\u001b[0m\n",
      "\u001b[32m[I 2021-06-25 14:10:34,482]\u001b[0m Trial 1628 finished with value: -0.005680078598731109 and parameters: {'kernel': 'rbf', 'C': 0.13448714079503535, 'gamma': 0.02469274368141425, 'epsilon': 0.001255510741744599}. Best is trial 1471 with value: -0.005673212500245352.\u001b[0m\n",
      "\u001b[32m[I 2021-06-25 14:10:35,099]\u001b[0m Trial 1629 finished with value: -0.005756123885277697 and parameters: {'kernel': 'rbf', 'C': 0.08038560587497308, 'gamma': 0.03973528053463501, 'epsilon': 0.0010293137282965002}. Best is trial 1471 with value: -0.005673212500245352.\u001b[0m\n",
      "\u001b[32m[I 2021-06-25 14:10:35,785]\u001b[0m Trial 1630 finished with value: -0.005712519688508558 and parameters: {'kernel': 'rbf', 'C': 0.09137886525559773, 'gamma': 0.026664389865071234, 'epsilon': 0.001020686250200486}. Best is trial 1471 with value: -0.005673212500245352.\u001b[0m\n",
      "\u001b[32m[I 2021-06-25 14:10:36,638]\u001b[0m Trial 1631 finished with value: -0.005739759777691106 and parameters: {'kernel': 'rbf', 'C': 0.10729142597831327, 'gamma': 0.03467828737795694, 'epsilon': 0.0010987211955875817}. Best is trial 1471 with value: -0.005673212500245352.\u001b[0m\n",
      "\u001b[32m[I 2021-06-25 14:10:37,373]\u001b[0m Trial 1632 finished with value: -0.005709888385349919 and parameters: {'kernel': 'rbf', 'C': 0.11722697379826189, 'gamma': 0.02495696503836694, 'epsilon': 0.0010020975175427608}. Best is trial 1471 with value: -0.005673212500245352.\u001b[0m\n",
      "\u001b[32m[I 2021-06-25 14:10:37,890]\u001b[0m Trial 1633 finished with value: -0.005708548345057577 and parameters: {'kernel': 'rbf', 'C': 0.10403120846137803, 'gamma': 0.029307026640503414, 'epsilon': 0.0012275183175420466}. Best is trial 1471 with value: -0.005673212500245352.\u001b[0m\n",
      "\u001b[32m[I 2021-06-25 14:10:38,557]\u001b[0m Trial 1634 finished with value: -0.006353648256329854 and parameters: {'kernel': 'poly', 'C': 0.12536392080998696, 'gamma': 0.02299451722709818, 'epsilon': 0.0012643674311182166}. Best is trial 1471 with value: -0.005673212500245352.\u001b[0m\n",
      "\u001b[32m[I 2021-06-25 14:10:39,205]\u001b[0m Trial 1635 finished with value: -0.005714619194439397 and parameters: {'kernel': 'rbf', 'C': 0.1293140143366756, 'gamma': 0.01939887652719063, 'epsilon': 0.0011501493040363489}. Best is trial 1471 with value: -0.005673212500245352.\u001b[0m\n",
      "\u001b[32m[I 2021-06-25 14:10:39,896]\u001b[0m Trial 1636 finished with value: -0.005713633582190456 and parameters: {'kernel': 'rbf', 'C': 0.10737792486392003, 'gamma': 0.0293325841700835, 'epsilon': 0.00113124453429151}. Best is trial 1471 with value: -0.005673212500245352.\u001b[0m\n",
      "\u001b[32m[I 2021-06-25 14:10:40,443]\u001b[0m Trial 1637 finished with value: -0.005684216494693081 and parameters: {'kernel': 'rbf', 'C': 0.12942950561687477, 'gamma': 0.022088083423930472, 'epsilon': 0.001241079981027049}. Best is trial 1471 with value: -0.005673212500245352.\u001b[0m\n",
      "\u001b[32m[I 2021-06-25 14:10:40,937]\u001b[0m Trial 1638 finished with value: -0.0056874811171658745 and parameters: {'kernel': 'rbf', 'C': 0.11467766436727411, 'gamma': 0.025890278230240045, 'epsilon': 0.0013057157914641974}. Best is trial 1471 with value: -0.005673212500245352.\u001b[0m\n",
      "\u001b[32m[I 2021-06-25 14:10:41,447]\u001b[0m Trial 1639 finished with value: -0.00573792229418284 and parameters: {'kernel': 'rbf', 'C': 0.13484135756548152, 'gamma': 0.03349134647006573, 'epsilon': 0.0013553921572677602}. Best is trial 1471 with value: -0.005673212500245352.\u001b[0m\n"
     ]
    },
    {
     "name": "stderr",
     "output_type": "stream",
     "text": [
      "\u001b[32m[I 2021-06-25 14:10:42,022]\u001b[0m Trial 1640 finished with value: -0.005731683268584183 and parameters: {'kernel': 'rbf', 'C': 0.09211474107212668, 'gamma': 0.015823167304651303, 'epsilon': 0.001135888256910722}. Best is trial 1471 with value: -0.005673212500245352.\u001b[0m\n",
      "\u001b[32m[I 2021-06-25 14:10:42,430]\u001b[0m Trial 1641 finished with value: -0.005734907911309743 and parameters: {'kernel': 'rbf', 'C': 0.07087314024208623, 'gamma': 0.02032845335117258, 'epsilon': 0.0013831981045852712}. Best is trial 1471 with value: -0.005673212500245352.\u001b[0m\n",
      "\u001b[32m[I 2021-06-25 14:10:43,004]\u001b[0m Trial 1642 finished with value: -0.005697020800124603 and parameters: {'kernel': 'rbf', 'C': 0.1400796592445449, 'gamma': 0.02378530237236855, 'epsilon': 0.0010137083387768335}. Best is trial 1471 with value: -0.005673212500245352.\u001b[0m\n",
      "\u001b[32m[I 2021-06-25 14:10:43,501]\u001b[0m Trial 1643 finished with value: -0.005697237127244743 and parameters: {'kernel': 'rbf', 'C': 0.11425670761564649, 'gamma': 0.026803734319232386, 'epsilon': 0.001232213000849722}. Best is trial 1471 with value: -0.005673212500245352.\u001b[0m\n",
      "\u001b[32m[I 2021-06-25 14:10:44,083]\u001b[0m Trial 1644 finished with value: -0.005709749497972392 and parameters: {'kernel': 'rbf', 'C': 0.14364636739010841, 'gamma': 0.030080431258397065, 'epsilon': 0.0014589786324381998}. Best is trial 1471 with value: -0.005673212500245352.\u001b[0m\n",
      "\u001b[32m[I 2021-06-25 14:10:44,690]\u001b[0m Trial 1645 finished with value: -0.005724294820233767 and parameters: {'kernel': 'rbf', 'C': 0.12495196145918426, 'gamma': 0.01894221089803869, 'epsilon': 0.0011055791824272439}. Best is trial 1471 with value: -0.005673212500245352.\u001b[0m\n",
      "\u001b[32m[I 2021-06-25 14:10:45,163]\u001b[0m Trial 1646 finished with value: -0.005714581969557576 and parameters: {'kernel': 'rbf', 'C': 0.09237829295496552, 'gamma': 0.02206053687529134, 'epsilon': 0.0013252431097594362}. Best is trial 1471 with value: -0.005673212500245352.\u001b[0m\n",
      "\u001b[32m[I 2021-06-25 14:10:45,702]\u001b[0m Trial 1647 finished with value: -0.005695285534410365 and parameters: {'kernel': 'rbf', 'C': 0.1495696457213564, 'gamma': 0.025120674648525243, 'epsilon': 0.0015168588915131893}. Best is trial 1471 with value: -0.005673212500245352.\u001b[0m\n",
      "\u001b[32m[I 2021-06-25 14:10:46,268]\u001b[0m Trial 1648 finished with value: -0.005739285258928316 and parameters: {'kernel': 'rbf', 'C': 0.10946706695270948, 'gamma': 0.03588341830583296, 'epsilon': 0.0012509221493034422}. Best is trial 1471 with value: -0.005673212500245352.\u001b[0m\n",
      "\u001b[32m[I 2021-06-25 14:10:46,815]\u001b[0m Trial 1649 finished with value: -0.005730718021525999 and parameters: {'kernel': 'rbf', 'C': 0.1305839500742853, 'gamma': 0.017425752890279544, 'epsilon': 0.0014278721930079778}. Best is trial 1471 with value: -0.005673212500245352.\u001b[0m\n",
      "\u001b[32m[I 2021-06-25 14:10:47,592]\u001b[0m Trial 1650 finished with value: -0.005724267941634875 and parameters: {'kernel': 'rbf', 'C': 0.15111336651675192, 'gamma': 0.028203694265510868, 'epsilon': 0.001093048298496292}. Best is trial 1471 with value: -0.005673212500245352.\u001b[0m\n",
      "\u001b[32m[I 2021-06-25 14:10:48,084]\u001b[0m Trial 1651 finished with value: -0.005715110832367827 and parameters: {'kernel': 'rbf', 'C': 0.1001878910227972, 'gamma': 0.02214820088348185, 'epsilon': 0.001587233408827133}. Best is trial 1471 with value: -0.005673212500245352.\u001b[0m\n",
      "\u001b[32m[I 2021-06-25 14:10:48,881]\u001b[0m Trial 1652 finished with value: -0.005691163116969033 and parameters: {'kernel': 'rbf', 'C': 0.12998198966438362, 'gamma': 0.025501711062656782, 'epsilon': 0.001271507973319554}. Best is trial 1471 with value: -0.005673212500245352.\u001b[0m\n",
      "\u001b[32m[I 2021-06-25 14:10:49,588]\u001b[0m Trial 1653 finished with value: -0.0057412977098181125 and parameters: {'kernel': 'rbf', 'C': 0.16268954442254882, 'gamma': 0.0298446436780804, 'epsilon': 0.001013802772929601}. Best is trial 1471 with value: -0.005673212500245352.\u001b[0m\n",
      "\u001b[32m[I 2021-06-25 14:10:50,119]\u001b[0m Trial 1654 finished with value: -0.005717971090829101 and parameters: {'kernel': 'rbf', 'C': 0.11391768903921037, 'gamma': 0.020036058412866615, 'epsilon': 0.00148262558582565}. Best is trial 1471 with value: -0.005673212500245352.\u001b[0m\n",
      "\u001b[32m[I 2021-06-25 14:10:50,594]\u001b[0m Trial 1655 finished with value: -0.0056871500798923525 and parameters: {'kernel': 'rbf', 'C': 0.14498267514455615, 'gamma': 0.02365152131287185, 'epsilon': 0.001651893266524219}. Best is trial 1471 with value: -0.005673212500245352.\u001b[0m\n",
      "\u001b[32m[I 2021-06-25 14:10:51,269]\u001b[0m Trial 1656 finished with value: -0.005858264044645939 and parameters: {'kernel': 'rbf', 'C': 0.17733606729162493, 'gamma': 0.041431468294927484, 'epsilon': 0.0012566711818122246}. Best is trial 1471 with value: -0.005673212500245352.\u001b[0m\n",
      "\u001b[32m[I 2021-06-25 14:10:51,760]\u001b[0m Trial 1657 finished with value: -0.005717293040440823 and parameters: {'kernel': 'rbf', 'C': 0.12473285220966293, 'gamma': 0.02036981902892119, 'epsilon': 0.0014023686710034065}. Best is trial 1471 with value: -0.005673212500245352.\u001b[0m\n",
      "\u001b[32m[I 2021-06-25 14:10:51,843]\u001b[0m Trial 1658 finished with value: -0.04522358590646345 and parameters: {'kernel': 'rbf', 'C': 0.15368618381706048, 'gamma': 0.0324006617747658, 'epsilon': 0.9739014814498164}. Best is trial 1471 with value: -0.005673212500245352.\u001b[0m\n",
      "\u001b[32m[I 2021-06-25 14:10:52,473]\u001b[0m Trial 1659 finished with value: -0.005681573171837071 and parameters: {'kernel': 'rbf', 'C': 0.13977830499612426, 'gamma': 0.026305170200451592, 'epsilon': 0.001744723465527105}. Best is trial 1471 with value: -0.005673212500245352.\u001b[0m\n",
      "\u001b[32m[I 2021-06-25 14:10:53,115]\u001b[0m Trial 1660 finished with value: -0.00570751363336413 and parameters: {'kernel': 'rbf', 'C': 0.18291828724172185, 'gamma': 0.01737513180422914, 'epsilon': 0.0011657911995718276}. Best is trial 1471 with value: -0.005673212500245352.\u001b[0m\n",
      "\u001b[32m[I 2021-06-25 14:10:53,560]\u001b[0m Trial 1661 finished with value: -0.005695718428392271 and parameters: {'kernel': 'rbf', 'C': 0.1028249868781023, 'gamma': 0.022808896697569987, 'epsilon': 0.001458778066808866}. Best is trial 1471 with value: -0.005673212500245352.\u001b[0m\n",
      "\u001b[32m[I 2021-06-25 14:10:54,314]\u001b[0m Trial 1662 finished with value: -0.005765900841241252 and parameters: {'kernel': 'rbf', 'C': 0.11889140495488736, 'gamma': 0.012619713183697949, 'epsilon': 0.0016689723121672074}. Best is trial 1471 with value: -0.005673212500245352.\u001b[0m\n",
      "\u001b[32m[I 2021-06-25 14:10:55,129]\u001b[0m Trial 1663 finished with value: -0.006345747837560796 and parameters: {'kernel': 'poly', 'C': 0.08006471594095968, 'gamma': 0.02916224767217292, 'epsilon': 0.0013560765659883893}. Best is trial 1471 with value: -0.005673212500245352.\u001b[0m\n",
      "\u001b[32m[I 2021-06-25 14:10:55,563]\u001b[0m Trial 1664 finished with value: -0.006210215667923446 and parameters: {'kernel': 'rbf', 'C': 0.1620325990849409, 'gamma': 0.0017044410420999473, 'epsilon': 0.0010011336596565024}. Best is trial 1471 with value: -0.005673212500245352.\u001b[0m\n",
      "\u001b[32m[I 2021-06-25 14:10:56,379]\u001b[0m Trial 1665 finished with value: -0.005697537280275206 and parameters: {'kernel': 'rbf', 'C': 0.12906465039109088, 'gamma': 0.02466805174484172, 'epsilon': 0.0011328238253514775}. Best is trial 1471 with value: -0.005673212500245352.\u001b[0m\n",
      "\u001b[32m[I 2021-06-25 14:10:57,131]\u001b[0m Trial 1666 finished with value: -0.005727670759778738 and parameters: {'kernel': 'rbf', 'C': 0.14111177195872723, 'gamma': 0.019932714239730198, 'epsilon': 0.001819182522259217}. Best is trial 1471 with value: -0.005673212500245352.\u001b[0m\n",
      "\u001b[32m[I 2021-06-25 14:10:57,717]\u001b[0m Trial 1667 finished with value: -0.005718650571010488 and parameters: {'kernel': 'rbf', 'C': 0.19543932426449726, 'gamma': 0.015486356698985062, 'epsilon': 0.001519002834515}. Best is trial 1471 with value: -0.005673212500245352.\u001b[0m\n",
      "\u001b[32m[I 2021-06-25 14:10:58,420]\u001b[0m Trial 1668 finished with value: -0.005784407759463398 and parameters: {'kernel': 'rbf', 'C': 0.1646098076190751, 'gamma': 0.03266560830702904, 'epsilon': 0.0010035383091749218}. Best is trial 1471 with value: -0.005673212500245352.\u001b[0m\n",
      "\u001b[32m[I 2021-06-25 14:10:59,015]\u001b[0m Trial 1669 finished with value: -0.005705314914567526 and parameters: {'kernel': 'rbf', 'C': 0.11612328927133113, 'gamma': 0.026280222083877987, 'epsilon': 0.0010000488520335042}. Best is trial 1471 with value: -0.005673212500245352.\u001b[0m\n"
     ]
    },
    {
     "name": "stderr",
     "output_type": "stream",
     "text": [
      "\u001b[32m[I 2021-06-25 14:10:59,601]\u001b[0m Trial 1670 finished with value: -0.005687367756926733 and parameters: {'kernel': 'rbf', 'C': 0.14361724393356545, 'gamma': 0.023329716409728283, 'epsilon': 0.0012312587554383942}. Best is trial 1471 with value: -0.005673212500245352.\u001b[0m\n",
      "\u001b[32m[I 2021-06-25 14:11:00,410]\u001b[0m Trial 1671 finished with value: -0.005873468938213273 and parameters: {'kernel': 'rbf', 'C': 0.36681088161168696, 'gamma': 0.02859603336874572, 'epsilon': 0.0013839902097943966}. Best is trial 1471 with value: -0.005673212500245352.\u001b[0m\n",
      "\u001b[32m[I 2021-06-25 14:11:01,093]\u001b[0m Trial 1672 finished with value: -0.005729525047753596 and parameters: {'kernel': 'rbf', 'C': 0.09773044937514112, 'gamma': 0.021045247199806997, 'epsilon': 0.0016562711481854472}. Best is trial 1471 with value: -0.005673212500245352.\u001b[0m\n",
      "\u001b[32m[I 2021-06-25 14:11:02,179]\u001b[0m Trial 1673 finished with value: -0.005838928327215369 and parameters: {'kernel': 'rbf', 'C': 0.17009874415236675, 'gamma': 0.0364314764459974, 'epsilon': 0.001005441060123832}. Best is trial 1471 with value: -0.005673212500245352.\u001b[0m\n",
      "\u001b[32m[I 2021-06-25 14:11:02,720]\u001b[0m Trial 1674 finished with value: -0.00571876501010122 and parameters: {'kernel': 'rbf', 'C': 0.13190243492166678, 'gamma': 0.019540250641315544, 'epsilon': 0.0018868009858788264}. Best is trial 1471 with value: -0.005673212500245352.\u001b[0m\n",
      "\u001b[32m[I 2021-06-25 14:11:03,428]\u001b[0m Trial 1675 finished with value: -0.0056906552025746725 and parameters: {'kernel': 'rbf', 'C': 0.19285225319542268, 'gamma': 0.022776120308454835, 'epsilon': 0.0012515069331159143}. Best is trial 1471 with value: -0.005673212500245352.\u001b[0m\n",
      "\u001b[32m[I 2021-06-25 14:11:04,216]\u001b[0m Trial 1676 finished with value: -0.00769092316508587 and parameters: {'kernel': 'rbf', 'C': 0.15495505211576663, 'gamma': 0.9878063296039473, 'epsilon': 0.001495657936048152}. Best is trial 1471 with value: -0.005673212500245352.\u001b[0m\n",
      "\u001b[32m[I 2021-06-25 14:11:04,735]\u001b[0m Trial 1677 finished with value: -0.005696235477363756 and parameters: {'kernel': 'rbf', 'C': 0.10780462412090966, 'gamma': 0.0256429271348572, 'epsilon': 0.0015524418543600817}. Best is trial 1471 with value: -0.005673212500245352.\u001b[0m\n",
      "\u001b[32m[I 2021-06-25 14:11:05,419]\u001b[0m Trial 1678 finished with value: -0.0057075013236863635 and parameters: {'kernel': 'rbf', 'C': 0.2516129092899203, 'gamma': 0.017308834297189428, 'epsilon': 0.0012877454771539816}. Best is trial 1471 with value: -0.005673212500245352.\u001b[0m\n",
      "\u001b[32m[I 2021-06-25 14:11:05,529]\u001b[0m Trial 1679 finished with value: -0.01009928618169835 and parameters: {'kernel': 'rbf', 'C': 0.12567344763907884, 'gamma': 0.02989430697696651, 'epsilon': 0.014359636304552597}. Best is trial 1471 with value: -0.005673212500245352.\u001b[0m\n",
      "\u001b[32m[I 2021-06-25 14:11:06,172]\u001b[0m Trial 1680 finished with value: -0.005699958371302061 and parameters: {'kernel': 'rbf', 'C': 0.14690726415396865, 'gamma': 0.02225268215604933, 'epsilon': 0.0018347743020841866}. Best is trial 1471 with value: -0.005673212500245352.\u001b[0m\n",
      "\u001b[32m[I 2021-06-25 14:11:06,975]\u001b[0m Trial 1681 finished with value: -0.005720563710907213 and parameters: {'kernel': 'rbf', 'C': 0.1763271776450578, 'gamma': 0.026730103790197263, 'epsilon': 0.0011189447439626217}. Best is trial 1471 with value: -0.005673212500245352.\u001b[0m\n",
      "\u001b[32m[I 2021-06-25 14:11:07,342]\u001b[0m Trial 1682 finished with value: -0.005754535842666569 and parameters: {'kernel': 'rbf', 'C': 0.08430645047392171, 'gamma': 0.019371052820394148, 'epsilon': 0.0020873383512676758}. Best is trial 1471 with value: -0.005673212500245352.\u001b[0m\n",
      "\u001b[32m[I 2021-06-25 14:11:07,649]\u001b[0m Trial 1683 finished with value: -0.005876275592291288 and parameters: {'kernel': 'rbf', 'C': 0.22568660135859858, 'gamma': 0.03167066524299513, 'epsilon': 0.003230962894518731}. Best is trial 1471 with value: -0.005673212500245352.\u001b[0m\n",
      "\u001b[32m[I 2021-06-25 14:11:08,229]\u001b[0m Trial 1684 finished with value: -0.005686403209960926 and parameters: {'kernel': 'rbf', 'C': 0.1336809569171534, 'gamma': 0.024328118557359873, 'epsilon': 0.0013957628705896631}. Best is trial 1471 with value: -0.005673212500245352.\u001b[0m\n",
      "\u001b[32m[I 2021-06-25 14:11:08,632]\u001b[0m Trial 1685 finished with value: -0.005703571271567604 and parameters: {'kernel': 'rbf', 'C': 0.11416194200216176, 'gamma': 0.02210683292350061, 'epsilon': 0.0017071079820068856}. Best is trial 1471 with value: -0.005673212500245352.\u001b[0m\n",
      "\u001b[32m[I 2021-06-25 14:11:09,319]\u001b[0m Trial 1686 finished with value: -0.005702521454744379 and parameters: {'kernel': 'rbf', 'C': 0.16123171971732422, 'gamma': 0.02714093659995508, 'epsilon': 0.0012421633141667528}. Best is trial 1471 with value: -0.005673212500245352.\u001b[0m\n",
      "\u001b[32m[I 2021-06-25 14:11:09,964]\u001b[0m Trial 1687 finished with value: -0.005707494797219129 and parameters: {'kernel': 'rbf', 'C': 0.19610480032909167, 'gamma': 0.015849807560158066, 'epsilon': 0.0015259558677375822}. Best is trial 1471 with value: -0.005673212500245352.\u001b[0m\n",
      "\u001b[32m[I 2021-06-25 14:11:10,574]\u001b[0m Trial 1688 finished with value: -0.005709585931375443 and parameters: {'kernel': 'rbf', 'C': 0.1494210781624088, 'gamma': 0.018676168126729308, 'epsilon': 0.0014050866093504373}. Best is trial 1471 with value: -0.005673212500245352.\u001b[0m\n",
      "\u001b[32m[I 2021-06-25 14:11:11,781]\u001b[0m Trial 1689 finished with value: -0.006334596303589879 and parameters: {'kernel': 'poly', 'C': 0.10181673229356739, 'gamma': 0.03445479869681155, 'epsilon': 0.0011148870078658787}. Best is trial 1471 with value: -0.005673212500245352.\u001b[0m\n",
      "\u001b[32m[I 2021-06-25 14:11:12,237]\u001b[0m Trial 1690 finished with value: -0.005710614221289065 and parameters: {'kernel': 'rbf', 'C': 0.12220228877376747, 'gamma': 0.021789511702992623, 'epsilon': 0.0017118240404263795}. Best is trial 1471 with value: -0.005673212500245352.\u001b[0m\n",
      "\u001b[32m[I 2021-06-25 14:11:12,624]\u001b[0m Trial 1691 finished with value: -0.005707230998776017 and parameters: {'kernel': 'rbf', 'C': 0.16849062947770574, 'gamma': 0.027442397534567405, 'epsilon': 0.0020245314669946313}. Best is trial 1471 with value: -0.005673212500245352.\u001b[0m\n",
      "\u001b[32m[I 2021-06-25 14:11:13,188]\u001b[0m Trial 1692 finished with value: -0.005679418787867881 and parameters: {'kernel': 'rbf', 'C': 0.14014624022843133, 'gamma': 0.023645600461447466, 'epsilon': 0.001322489392251807}. Best is trial 1471 with value: -0.005673212500245352.\u001b[0m\n",
      "\u001b[32m[I 2021-06-25 14:11:13,972]\u001b[0m Trial 1693 finished with value: -0.005695790465002498 and parameters: {'kernel': 'rbf', 'C': 0.20109023327159045, 'gamma': 0.017071177755915243, 'epsilon': 0.0011089734901869601}. Best is trial 1471 with value: -0.005673212500245352.\u001b[0m\n",
      "\u001b[32m[I 2021-06-25 14:11:14,782]\u001b[0m Trial 1694 finished with value: -0.005705455071324581 and parameters: {'kernel': 'rbf', 'C': 0.16368734016777547, 'gamma': 0.01922356094831657, 'epsilon': 0.0010011985191948302}. Best is trial 1471 with value: -0.005673212500245352.\u001b[0m\n",
      "\u001b[32m[I 2021-06-25 14:11:15,520]\u001b[0m Trial 1695 finished with value: -0.005751333286562883 and parameters: {'kernel': 'rbf', 'C': 0.18530622861461035, 'gamma': 0.01380949598135073, 'epsilon': 0.001219820902182958}. Best is trial 1471 with value: -0.005673212500245352.\u001b[0m\n",
      "\u001b[32m[I 2021-06-25 14:11:16,191]\u001b[0m Trial 1696 finished with value: -0.007369744287697078 and parameters: {'kernel': 'rbf', 'C': 0.1441479338122903, 'gamma': 0.4560919260756185, 'epsilon': 0.0012363635423993668}. Best is trial 1471 with value: -0.005673212500245352.\u001b[0m\n",
      "\u001b[32m[I 2021-06-25 14:11:16,889]\u001b[0m Trial 1697 finished with value: -0.005732033049463107 and parameters: {'kernel': 'rbf', 'C': 0.2347729385789751, 'gamma': 0.02385561669710475, 'epsilon': 0.0011396009046672493}. Best is trial 1471 with value: -0.005673212500245352.\u001b[0m\n",
      "\u001b[32m[I 2021-06-25 14:11:17,604]\u001b[0m Trial 1698 finished with value: -0.005706503603834249 and parameters: {'kernel': 'rbf', 'C': 0.17782859323010056, 'gamma': 0.021030236686765263, 'epsilon': 0.0010002947370879494}. Best is trial 1471 with value: -0.005673212500245352.\u001b[0m\n",
      "\u001b[32m[I 2021-06-25 14:11:18,238]\u001b[0m Trial 1699 finished with value: -0.005681974560368612 and parameters: {'kernel': 'rbf', 'C': 0.15348512613447302, 'gamma': 0.024567823694800636, 'epsilon': 0.0013502089424730932}. Best is trial 1471 with value: -0.005673212500245352.\u001b[0m\n"
     ]
    },
    {
     "name": "stderr",
     "output_type": "stream",
     "text": [
      "\u001b[32m[I 2021-06-25 14:11:18,866]\u001b[0m Trial 1700 finished with value: -0.005749788598164985 and parameters: {'kernel': 'rbf', 'C': 0.20098960558516987, 'gamma': 0.028089074085959644, 'epsilon': 0.0013335119820176344}. Best is trial 1471 with value: -0.005673212500245352.\u001b[0m\n",
      "\u001b[32m[I 2021-06-25 14:11:19,509]\u001b[0m Trial 1701 finished with value: -0.005721394960661459 and parameters: {'kernel': 'rbf', 'C': 0.13698052324374144, 'gamma': 0.018613048843031794, 'epsilon': 0.001121464606753057}. Best is trial 1471 with value: -0.005673212500245352.\u001b[0m\n",
      "\u001b[32m[I 2021-06-25 14:11:19,766]\u001b[0m Trial 1702 finished with value: -0.005945609038449343 and parameters: {'kernel': 'rbf', 'C': 0.16544544757360027, 'gamma': 0.031131769454937334, 'epsilon': 0.00445657911924729}. Best is trial 1471 with value: -0.005673212500245352.\u001b[0m\n",
      "\u001b[32m[I 2021-06-25 14:11:20,326]\u001b[0m Trial 1703 finished with value: -0.005684202268371311 and parameters: {'kernel': 'rbf', 'C': 0.14014930344707938, 'gamma': 0.02257694655633934, 'epsilon': 0.001459355565334776}. Best is trial 1471 with value: -0.005673212500245352.\u001b[0m\n",
      "\u001b[32m[I 2021-06-25 14:11:21,025]\u001b[0m Trial 1704 finished with value: -0.005712396097320587 and parameters: {'kernel': 'rbf', 'C': 0.18331339504883642, 'gamma': 0.02119397809082281, 'epsilon': 0.0010074509661697987}. Best is trial 1471 with value: -0.005673212500245352.\u001b[0m\n",
      "\u001b[32m[I 2021-06-25 14:11:21,654]\u001b[0m Trial 1705 finished with value: -0.005688724755131712 and parameters: {'kernel': 'rbf', 'C': 0.15256974275931257, 'gamma': 0.025194120298408756, 'epsilon': 0.0012241208867274673}. Best is trial 1471 with value: -0.005673212500245352.\u001b[0m\n",
      "\u001b[32m[I 2021-06-25 14:11:22,179]\u001b[0m Trial 1706 finished with value: -0.005747338914967644 and parameters: {'kernel': 'rbf', 'C': 0.13053364896711356, 'gamma': 0.016223667192279956, 'epsilon': 0.0014892241218410578}. Best is trial 1471 with value: -0.005673212500245352.\u001b[0m\n",
      "\u001b[32m[I 2021-06-25 14:11:22,813]\u001b[0m Trial 1707 finished with value: -0.00579311003450302 and parameters: {'kernel': 'rbf', 'C': 0.21591964285632978, 'gamma': 0.029135712122432114, 'epsilon': 0.001327322069492325}. Best is trial 1471 with value: -0.005673212500245352.\u001b[0m\n",
      "\u001b[32m[I 2021-06-25 14:11:23,313]\u001b[0m Trial 1708 finished with value: -0.005802601107608177 and parameters: {'kernel': 'rbf', 'C': 0.16434063501562127, 'gamma': 0.036741615734567086, 'epsilon': 0.00160184401384268}. Best is trial 1471 with value: -0.005673212500245352.\u001b[0m\n",
      "\u001b[32m[I 2021-06-25 14:11:24,053]\u001b[0m Trial 1709 finished with value: -0.005696937847142744 and parameters: {'kernel': 'rbf', 'C': 0.13686006200993345, 'gamma': 0.02066585247193074, 'epsilon': 0.001201834250162207}. Best is trial 1471 with value: -0.005673212500245352.\u001b[0m\n",
      "\u001b[32m[I 2021-06-25 14:11:24,131]\u001b[0m Trial 1710 finished with value: -0.04522358590646345 and parameters: {'kernel': 'rbf', 'C': 0.28124421720769116, 'gamma': 0.02431983012702118, 'epsilon': 0.20957946694851645}. Best is trial 1471 with value: -0.005673212500245352.\u001b[0m\n",
      "\u001b[32m[I 2021-06-25 14:11:24,820]\u001b[0m Trial 1711 finished with value: -0.005688329553254018 and parameters: {'kernel': 'rbf', 'C': 0.18848153380137003, 'gamma': 0.01873273804411012, 'epsilon': 0.0013776748182164822}. Best is trial 1471 with value: -0.005673212500245352.\u001b[0m\n",
      "\u001b[32m[I 2021-06-25 14:11:24,870]\u001b[0m Trial 1712 finished with value: -0.04522358590646345 and parameters: {'kernel': 'rbf', 'C': 0.1202418410400872, 'gamma': 0.02701675024154775, 'epsilon': 0.13884059619504074}. Best is trial 1471 with value: -0.005673212500245352.\u001b[0m\n",
      "\u001b[32m[I 2021-06-25 14:11:25,337]\u001b[0m Trial 1713 finished with value: -0.005692065845855916 and parameters: {'kernel': 'rbf', 'C': 0.15627844373604205, 'gamma': 0.02264473947813012, 'epsilon': 0.0016485617897410284}. Best is trial 1471 with value: -0.005673212500245352.\u001b[0m\n",
      "\u001b[32m[I 2021-06-25 14:11:25,925]\u001b[0m Trial 1714 finished with value: -0.005721450071010309 and parameters: {'kernel': 'rbf', 'C': 0.1377193698793339, 'gamma': 0.031688388057070374, 'epsilon': 0.0015224480375854905}. Best is trial 1471 with value: -0.005673212500245352.\u001b[0m\n",
      "\u001b[32m[I 2021-06-25 14:11:26,603]\u001b[0m Trial 1715 finished with value: -0.005703627553076587 and parameters: {'kernel': 'rbf', 'C': 0.17910639521519106, 'gamma': 0.024847698464554674, 'epsilon': 0.0011270962681288817}. Best is trial 1471 with value: -0.005673212500245352.\u001b[0m\n",
      "\u001b[32m[I 2021-06-25 14:11:27,426]\u001b[0m Trial 1716 finished with value: -0.005712744777404938 and parameters: {'kernel': 'rbf', 'C': 0.2204220744287729, 'gamma': 0.02049736850419256, 'epsilon': 0.0010036787357379459}. Best is trial 1471 with value: -0.005673212500245352.\u001b[0m\n",
      "\u001b[32m[I 2021-06-25 14:11:27,955]\u001b[0m Trial 1717 finished with value: -0.006402606349886643 and parameters: {'kernel': 'poly', 'C': 0.11977910997284821, 'gamma': 0.017327904192375163, 'epsilon': 0.0013122351980775133}. Best is trial 1471 with value: -0.005673212500245352.\u001b[0m\n",
      "\u001b[32m[I 2021-06-25 14:11:28,406]\u001b[0m Trial 1718 finished with value: -0.005701193783898269 and parameters: {'kernel': 'rbf', 'C': 0.15591788460654252, 'gamma': 0.02881783849573027, 'epsilon': 0.0018051406379262277}. Best is trial 1471 with value: -0.005673212500245352.\u001b[0m\n",
      "\u001b[32m[I 2021-06-25 14:11:29,077]\u001b[0m Trial 1719 finished with value: -0.005828361738793017 and parameters: {'kernel': 'rbf', 'C': 0.14172097487776197, 'gamma': 0.04004561698720824, 'epsilon': 0.0010018787933364288}. Best is trial 1471 with value: -0.005673212500245352.\u001b[0m\n",
      "\u001b[32m[I 2021-06-25 14:11:29,209]\u001b[0m Trial 1720 finished with value: -0.011884155461756384 and parameters: {'kernel': 'rbf', 'C': 0.17549555665625818, 'gamma': 0.025397094599961773, 'epsilon': 0.01801194149446024}. Best is trial 1471 with value: -0.005673212500245352.\u001b[0m\n",
      "\u001b[32m[I 2021-06-25 14:11:29,673]\u001b[0m Trial 1721 finished with value: -0.005700367081898933 and parameters: {'kernel': 'rbf', 'C': 0.11338065310608539, 'gamma': 0.021933568438848017, 'epsilon': 0.0014910201475145388}. Best is trial 1471 with value: -0.005673212500245352.\u001b[0m\n",
      "\u001b[32m[I 2021-06-25 14:11:30,329]\u001b[0m Trial 1722 finished with value: -0.005821218099632729 and parameters: {'kernel': 'rbf', 'C': 0.2015085213553667, 'gamma': 0.03235207768338912, 'epsilon': 0.0012228161809403543}. Best is trial 1471 with value: -0.005673212500245352.\u001b[0m\n",
      "\u001b[32m[I 2021-06-25 14:11:30,872]\u001b[0m Trial 1723 finished with value: -0.0057142707254170914 and parameters: {'kernel': 'rbf', 'C': 0.1502238561503994, 'gamma': 0.019124108620136224, 'epsilon': 0.001822025545824256}. Best is trial 1471 with value: -0.005673212500245352.\u001b[0m\n",
      "\u001b[32m[I 2021-06-25 14:11:31,550]\u001b[0m Trial 1724 finished with value: -0.005731190598269144 and parameters: {'kernel': 'rbf', 'C': 0.12750889701292806, 'gamma': 0.014475845176641975, 'epsilon': 0.0013807894183511893}. Best is trial 1471 with value: -0.005673212500245352.\u001b[0m\n",
      "\u001b[32m[I 2021-06-25 14:11:32,079]\u001b[0m Trial 1725 finished with value: -0.005705044401492813 and parameters: {'kernel': 'rbf', 'C': 0.16942928026190213, 'gamma': 0.026888022455072314, 'epsilon': 0.00162488132940863}. Best is trial 1471 with value: -0.005673212500245352.\u001b[0m\n",
      "\u001b[32m[I 2021-06-25 14:11:32,722]\u001b[0m Trial 1726 finished with value: -0.005692557533327945 and parameters: {'kernel': 'rbf', 'C': 0.13599288424350447, 'gamma': 0.022925266831316935, 'epsilon': 0.0011551968825964302}. Best is trial 1471 with value: -0.005673212500245352.\u001b[0m\n",
      "\u001b[32m[I 2021-06-25 14:11:33,437]\u001b[0m Trial 1727 finished with value: -0.005720959946501492 and parameters: {'kernel': 'rbf', 'C': 0.10748205539485282, 'gamma': 0.028986917685217394, 'epsilon': 0.0010000151981829138}. Best is trial 1471 with value: -0.005673212500245352.\u001b[0m\n",
      "\u001b[32m[I 2021-06-25 14:11:34,028]\u001b[0m Trial 1728 finished with value: -0.005763794479462197 and parameters: {'kernel': 'rbf', 'C': 0.2450200924983841, 'gamma': 0.02499956923612024, 'epsilon': 0.002333643337566097}. Best is trial 1471 with value: -0.005673212500245352.\u001b[0m\n",
      "\u001b[32m[I 2021-06-25 14:11:34,625]\u001b[0m Trial 1729 finished with value: -0.005704703399932766 and parameters: {'kernel': 'rbf', 'C': 0.1606778609722518, 'gamma': 0.02045669437282598, 'epsilon': 0.0013641834345701758}. Best is trial 1471 with value: -0.005673212500245352.\u001b[0m\n"
     ]
    },
    {
     "name": "stderr",
     "output_type": "stream",
     "text": [
      "\u001b[32m[I 2021-06-25 14:11:35,075]\u001b[0m Trial 1730 finished with value: -0.005731046400409725 and parameters: {'kernel': 'rbf', 'C': 0.12663408733170184, 'gamma': 0.01771061399465107, 'epsilon': 0.0016077898423801633}. Best is trial 1471 with value: -0.005673212500245352.\u001b[0m\n",
      "\u001b[32m[I 2021-06-25 14:11:35,635]\u001b[0m Trial 1731 finished with value: -0.0057892106185497725 and parameters: {'kernel': 'rbf', 'C': 0.1857774224327156, 'gamma': 0.03316503542296176, 'epsilon': 0.0019180146542292374}. Best is trial 1471 with value: -0.005673212500245352.\u001b[0m\n",
      "\u001b[32m[I 2021-06-25 14:11:36,194]\u001b[0m Trial 1732 finished with value: -0.005686409510367016 and parameters: {'kernel': 'rbf', 'C': 0.14474355218696375, 'gamma': 0.023072104756357178, 'epsilon': 0.0012531672639725555}. Best is trial 1471 with value: -0.005673212500245352.\u001b[0m\n",
      "\u001b[32m[I 2021-06-25 14:11:36,740]\u001b[0m Trial 1733 finished with value: -0.005763021487329445 and parameters: {'kernel': 'rbf', 'C': 0.2150745670590201, 'gamma': 0.028167730424611123, 'epsilon': 0.0015199651687377586}. Best is trial 1471 with value: -0.005673212500245352.\u001b[0m\n",
      "\u001b[32m[I 2021-06-25 14:11:37,213]\u001b[0m Trial 1734 finished with value: -0.005722396298721607 and parameters: {'kernel': 'rbf', 'C': 0.09769618495729239, 'gamma': 0.020797200870460913, 'epsilon': 0.0013324143221394213}. Best is trial 1471 with value: -0.005673212500245352.\u001b[0m\n",
      "\u001b[32m[I 2021-06-25 14:11:37,807]\u001b[0m Trial 1735 finished with value: -0.005832446414729128 and parameters: {'kernel': 'rbf', 'C': 0.11764539381007795, 'gamma': 0.04379677658569708, 'epsilon': 0.0010047556246796773}. Best is trial 1471 with value: -0.005673212500245352.\u001b[0m\n",
      "\u001b[32m[I 2021-06-25 14:11:38,237]\u001b[0m Trial 1736 finished with value: -0.0056999265623315495 and parameters: {'kernel': 'rbf', 'C': 0.15624196560487089, 'gamma': 0.02558298141691531, 'epsilon': 0.0017985318893780676}. Best is trial 1471 with value: -0.005673212500245352.\u001b[0m\n",
      "\u001b[32m[I 2021-06-25 14:11:38,744]\u001b[0m Trial 1737 finished with value: -0.005743179027904055 and parameters: {'kernel': 'rbf', 'C': 0.1877986975190008, 'gamma': 0.016768449293446376, 'epsilon': 0.002129143090071986}. Best is trial 1471 with value: -0.005673212500245352.\u001b[0m\n",
      "\u001b[32m[I 2021-06-25 14:11:39,399]\u001b[0m Trial 1738 finished with value: -0.005769837251437495 and parameters: {'kernel': 'rbf', 'C': 0.13504900718664384, 'gamma': 0.03575632953901645, 'epsilon': 0.001145576157098131}. Best is trial 1471 with value: -0.005673212500245352.\u001b[0m\n",
      "\u001b[32m[I 2021-06-25 14:11:39,950]\u001b[0m Trial 1739 finished with value: -0.005689818353776708 and parameters: {'kernel': 'rbf', 'C': 0.16836023888170987, 'gamma': 0.02281913555431169, 'epsilon': 0.0015471162191756534}. Best is trial 1471 with value: -0.005673212500245352.\u001b[0m\n",
      "\u001b[32m[I 2021-06-25 14:11:40,425]\u001b[0m Trial 1740 finished with value: -0.005702842317048744 and parameters: {'kernel': 'rbf', 'C': 0.1169443186037339, 'gamma': 0.030427700214568962, 'epsilon': 0.001374132293999475}. Best is trial 1471 with value: -0.005673212500245352.\u001b[0m\n",
      "\u001b[32m[I 2021-06-25 14:11:40,878]\u001b[0m Trial 1741 finished with value: -0.005717144292186261 and parameters: {'kernel': 'rbf', 'C': 0.15114437294225277, 'gamma': 0.019202016918823825, 'epsilon': 0.0016524889012037001}. Best is trial 1471 with value: -0.005673212500245352.\u001b[0m\n",
      "\u001b[32m[I 2021-06-25 14:11:41,460]\u001b[0m Trial 1742 finished with value: -0.005696115749267816 and parameters: {'kernel': 'rbf', 'C': 0.13293839560442947, 'gamma': 0.025271801986000285, 'epsilon': 0.0012170272309876818}. Best is trial 1471 with value: -0.005673212500245352.\u001b[0m\n",
      "\u001b[32m[I 2021-06-25 14:11:41,828]\u001b[0m Trial 1743 finished with value: -0.00573113273185704 and parameters: {'kernel': 'rbf', 'C': 0.09167311012349184, 'gamma': 0.021697420129281057, 'epsilon': 0.0018725938069685038}. Best is trial 1471 with value: -0.005673212500245352.\u001b[0m\n",
      "\u001b[32m[I 2021-06-25 14:11:41,879]\u001b[0m Trial 1744 finished with value: -0.041375173636623984 and parameters: {'kernel': 'rbf', 'C': 0.20506149846516655, 'gamma': 0.027501748116066427, 'epsilon': 0.045287384605783285}. Best is trial 1471 with value: -0.005673212500245352.\u001b[0m\n",
      "\u001b[32m[I 2021-06-25 14:11:42,394]\u001b[0m Trial 1745 finished with value: -0.005740051717902587 and parameters: {'kernel': 'rbf', 'C': 0.1689049793713599, 'gamma': 0.03118575057651415, 'epsilon': 0.0014913311117052146}. Best is trial 1471 with value: -0.005673212500245352.\u001b[0m\n",
      "\u001b[32m[I 2021-06-25 14:11:42,921]\u001b[0m Trial 1746 finished with value: -0.005696084615699741 and parameters: {'kernel': 'rbf', 'C': 0.10965945953105175, 'gamma': 0.02386778264939615, 'epsilon': 0.0011315870893889009}. Best is trial 1471 with value: -0.005673212500245352.\u001b[0m\n",
      "\u001b[32m[I 2021-06-25 14:11:43,400]\u001b[0m Trial 1747 finished with value: -0.005760525115865638 and parameters: {'kernel': 'rbf', 'C': 0.14776052222449854, 'gamma': 0.015195445073378574, 'epsilon': 0.0013749781008999134}. Best is trial 1471 with value: -0.005673212500245352.\u001b[0m\n",
      "\u001b[32m[I 2021-06-25 14:11:43,811]\u001b[0m Trial 1748 finished with value: -0.005720378549157086 and parameters: {'kernel': 'rbf', 'C': 0.12833965874894565, 'gamma': 0.019550023320234294, 'epsilon': 0.0017159446727753823}. Best is trial 1471 with value: -0.005673212500245352.\u001b[0m\n",
      "\u001b[32m[I 2021-06-25 14:11:44,668]\u001b[0m Trial 1749 finished with value: -0.006357432108297106 and parameters: {'kernel': 'poly', 'C': 0.1759209501329666, 'gamma': 0.026657256197917333, 'epsilon': 0.0010012239165620093}. Best is trial 1471 with value: -0.005673212500245352.\u001b[0m\n",
      "\u001b[32m[I 2021-06-25 14:11:45,050]\u001b[0m Trial 1750 finished with value: -0.005707815551125486 and parameters: {'kernel': 'rbf', 'C': 0.14754070066424674, 'gamma': 0.02198220898768538, 'epsilon': 0.0020400949362532543}. Best is trial 1471 with value: -0.005673212500245352.\u001b[0m\n",
      "\u001b[32m[I 2021-06-25 14:11:45,627]\u001b[0m Trial 1751 finished with value: -0.005700967086742877 and parameters: {'kernel': 'rbf', 'C': 0.19272122294436814, 'gamma': 0.017904429684413286, 'epsilon': 0.001248226920403717}. Best is trial 1471 with value: -0.005673212500245352.\u001b[0m\n",
      "\u001b[32m[I 2021-06-25 14:11:46,046]\u001b[0m Trial 1752 finished with value: -0.005711759890846722 and parameters: {'kernel': 'rbf', 'C': 0.1036477100168817, 'gamma': 0.03236018923272036, 'epsilon': 0.0015514421404003206}. Best is trial 1471 with value: -0.005673212500245352.\u001b[0m\n",
      "\u001b[32m[I 2021-06-25 14:11:46,614]\u001b[0m Trial 1753 finished with value: -0.005734353122964514 and parameters: {'kernel': 'rbf', 'C': 0.23517646414565624, 'gamma': 0.024525474123675735, 'epsilon': 0.0014223420152231394}. Best is trial 1471 with value: -0.005673212500245352.\u001b[0m\n",
      "\u001b[32m[I 2021-06-25 14:11:47,042]\u001b[0m Trial 1754 finished with value: -0.005694758353257417 and parameters: {'kernel': 'rbf', 'C': 0.1253744041566294, 'gamma': 0.028121760778669853, 'epsilon': 0.0016832066519848715}. Best is trial 1471 with value: -0.005673212500245352.\u001b[0m\n",
      "\u001b[32m[I 2021-06-25 14:11:47,582]\u001b[0m Trial 1755 finished with value: -0.005821288357708822 and parameters: {'kernel': 'rbf', 'C': 0.15859692120762514, 'gamma': 0.03777121066540739, 'epsilon': 0.0012694919717867214}. Best is trial 1471 with value: -0.005673212500245352.\u001b[0m\n",
      "\u001b[32m[I 2021-06-25 14:11:48,324]\u001b[0m Trial 1756 finished with value: -0.005761285673803697 and parameters: {'kernel': 'rbf', 'C': 0.31253393339803653, 'gamma': 0.020523064422188944, 'epsilon': 0.001105431646999985}. Best is trial 1471 with value: -0.005673212500245352.\u001b[0m\n",
      "\u001b[32m[I 2021-06-25 14:11:48,669]\u001b[0m Trial 1757 finished with value: -0.005712977075837959 and parameters: {'kernel': 'rbf', 'C': 0.1381420319880708, 'gamma': 0.023331393984215104, 'epsilon': 0.0022629735339887427}. Best is trial 1471 with value: -0.005673212500245352.\u001b[0m\n",
      "\u001b[32m[I 2021-06-25 14:11:49,114]\u001b[0m Trial 1758 finished with value: -0.005696694503826881 and parameters: {'kernel': 'rbf', 'C': 0.1790955854192928, 'gamma': 0.026993765089260324, 'epsilon': 0.001895500059123327}. Best is trial 1471 with value: -0.005673212500245352.\u001b[0m\n",
      "\u001b[32m[I 2021-06-25 14:11:49,566]\u001b[0m Trial 1759 finished with value: -0.005736663210089726 and parameters: {'kernel': 'rbf', 'C': 0.1149267353136528, 'gamma': 0.018472276132367522, 'epsilon': 0.0014116642631763067}. Best is trial 1471 with value: -0.005673212500245352.\u001b[0m\n"
     ]
    },
    {
     "name": "stderr",
     "output_type": "stream",
     "text": [
      "\u001b[32m[I 2021-06-25 14:11:50,031]\u001b[0m Trial 1760 finished with value: -0.005716375237896718 and parameters: {'kernel': 'rbf', 'C': 0.15281958983573057, 'gamma': 0.030491599256119814, 'epsilon': 0.0016257977831811016}. Best is trial 1471 with value: -0.005673212500245352.\u001b[0m\n",
      "\u001b[32m[I 2021-06-25 14:11:50,606]\u001b[0m Trial 1761 finished with value: -0.0056981607050879965 and parameters: {'kernel': 'rbf', 'C': 0.2122262568074233, 'gamma': 0.021794104394994858, 'epsilon': 0.0012592780461850076}. Best is trial 1471 with value: -0.005673212500245352.\u001b[0m\n",
      "\u001b[32m[I 2021-06-25 14:11:50,657]\u001b[0m Trial 1762 finished with value: -0.04522358590646345 and parameters: {'kernel': 'rbf', 'C': 0.12947339814668357, 'gamma': 0.024481125768571824, 'epsilon': 0.07711492427152322}. Best is trial 1471 with value: -0.005673212500245352.\u001b[0m\n",
      "\u001b[32m[I 2021-06-25 14:11:51,170]\u001b[0m Trial 1763 finished with value: -0.005704285839869862 and parameters: {'kernel': 'rbf', 'C': 0.16852818339282516, 'gamma': 0.020504438151489234, 'epsilon': 0.0014381035806748839}. Best is trial 1471 with value: -0.005673212500245352.\u001b[0m\n",
      "\u001b[32m[I 2021-06-25 14:11:51,521]\u001b[0m Trial 1764 finished with value: -0.005750624090652637 and parameters: {'kernel': 'rbf', 'C': 0.10076668974811182, 'gamma': 0.01648968974900828, 'epsilon': 0.0018297224890642197}. Best is trial 1471 with value: -0.005673212500245352.\u001b[0m\n",
      "\u001b[32m[I 2021-06-25 14:11:52,090]\u001b[0m Trial 1765 finished with value: -0.005743173589196526 and parameters: {'kernel': 'rbf', 'C': 0.11573059538581364, 'gamma': 0.03451551944032014, 'epsilon': 0.0010059102853433972}. Best is trial 1471 with value: -0.005673212500245352.\u001b[0m\n",
      "\u001b[32m[I 2021-06-25 14:11:52,641]\u001b[0m Trial 1766 finished with value: -0.005700539004816398 and parameters: {'kernel': 'rbf', 'C': 0.1420596386219049, 'gamma': 0.025963573039979274, 'epsilon': 0.0011535498900620172}. Best is trial 1471 with value: -0.005673212500245352.\u001b[0m\n",
      "\u001b[32m[I 2021-06-25 14:11:53,124]\u001b[0m Trial 1767 finished with value: -0.005726112307408683 and parameters: {'kernel': 'rbf', 'C': 0.17578350901542622, 'gamma': 0.02950612998798654, 'epsilon': 0.0015865804982017652}. Best is trial 1471 with value: -0.005673212500245352.\u001b[0m\n",
      "\u001b[32m[I 2021-06-25 14:11:53,637]\u001b[0m Trial 1768 finished with value: -0.005687009425414624 and parameters: {'kernel': 'rbf', 'C': 0.1369434095992485, 'gamma': 0.023008513454283945, 'epsilon': 0.0013027317397667757}. Best is trial 1471 with value: -0.005673212500245352.\u001b[0m\n",
      "\u001b[32m[I 2021-06-25 14:11:54,020]\u001b[0m Trial 1769 finished with value: -0.00572088456877473 and parameters: {'kernel': 'rbf', 'C': 0.19804530319930125, 'gamma': 0.019095542313315027, 'epsilon': 0.0021630046416347107}. Best is trial 1471 with value: -0.005673212500245352.\u001b[0m\n",
      "\u001b[32m[I 2021-06-25 14:11:54,622]\u001b[0m Trial 1770 finished with value: -0.005714404401137713 and parameters: {'kernel': 'rbf', 'C': 0.15771632141493833, 'gamma': 0.026762770137268313, 'epsilon': 0.0010009479475514382}. Best is trial 1471 with value: -0.005673212500245352.\u001b[0m\n",
      "\u001b[32m[I 2021-06-25 14:11:55,093]\u001b[0m Trial 1771 finished with value: -0.0063537406706803455 and parameters: {'kernel': 'poly', 'C': 0.08897674324138066, 'gamma': 0.022296892257991516, 'epsilon': 0.0015104562398470071}. Best is trial 1471 with value: -0.005673212500245352.\u001b[0m\n",
      "\u001b[32m[I 2021-06-25 14:11:55,601]\u001b[0m Trial 1772 finished with value: -0.00581752702130503 and parameters: {'kernel': 'rbf', 'C': 0.25934316116528655, 'gamma': 0.029529111822126284, 'epsilon': 0.0017176579989366507}. Best is trial 1471 with value: -0.005673212500245352.\u001b[0m\n",
      "\u001b[32m[I 2021-06-25 14:11:55,927]\u001b[0m Trial 1773 finished with value: -0.005725441319451004 and parameters: {'kernel': 'rbf', 'C': 0.12305030176376058, 'gamma': 0.02476989938266871, 'epsilon': 0.002477838045183453}. Best is trial 1471 with value: -0.005673212500245352.\u001b[0m\n",
      "\u001b[32m[I 2021-06-25 14:11:56,251]\u001b[0m Trial 1774 finished with value: -0.006140403234978484 and parameters: {'kernel': 'rbf', 'C': 0.01665554241779674, 'gamma': 0.017755372040247425, 'epsilon': 0.001318157456889465}. Best is trial 1471 with value: -0.005673212500245352.\u001b[0m\n",
      "\u001b[32m[I 2021-06-25 14:11:56,822]\u001b[0m Trial 1775 finished with value: -0.005770118026167025 and parameters: {'kernel': 'rbf', 'C': 0.14828917620021853, 'gamma': 0.0340599938916352, 'epsilon': 0.0011530363554367357}. Best is trial 1471 with value: -0.005673212500245352.\u001b[0m\n",
      "\u001b[32m[I 2021-06-25 14:11:57,268]\u001b[0m Trial 1776 finished with value: -0.005718119731816916 and parameters: {'kernel': 'rbf', 'C': 0.19098910164798755, 'gamma': 0.020518678760952095, 'epsilon': 0.001918663194918994}. Best is trial 1471 with value: -0.005673212500245352.\u001b[0m\n",
      "\u001b[32m[I 2021-06-25 14:11:57,672]\u001b[0m Trial 1777 finished with value: -0.005760042356726634 and parameters: {'kernel': 'rbf', 'C': 0.10858700999427918, 'gamma': 0.012919414803551927, 'epsilon': 0.001451919351858183}. Best is trial 1471 with value: -0.005673212500245352.\u001b[0m\n",
      "\u001b[32m[I 2021-06-25 14:11:58,123]\u001b[0m Trial 1778 finished with value: -0.0056865727366385245 and parameters: {'kernel': 'rbf', 'C': 0.12710561917742388, 'gamma': 0.025045289804010412, 'epsilon': 0.001647371091067377}. Best is trial 1471 with value: -0.005673212500245352.\u001b[0m\n",
      "\u001b[32m[I 2021-06-25 14:11:58,678]\u001b[0m Trial 1779 finished with value: -0.00573173030265538 and parameters: {'kernel': 'rbf', 'C': 0.16399858051117364, 'gamma': 0.015642528376341367, 'epsilon': 0.0011337631076393045}. Best is trial 1471 with value: -0.005673212500245352.\u001b[0m\n",
      "\u001b[32m[I 2021-06-25 14:11:59,253]\u001b[0m Trial 1780 finished with value: -0.005790824750151058 and parameters: {'kernel': 'rbf', 'C': 0.21962201508967724, 'gamma': 0.029243994472470385, 'epsilon': 0.0013781434691613244}. Best is trial 1471 with value: -0.005673212500245352.\u001b[0m\n",
      "\u001b[32m[I 2021-06-25 14:11:59,686]\u001b[0m Trial 1781 finished with value: -0.005697836093349548 and parameters: {'kernel': 'rbf', 'C': 0.14221862711560102, 'gamma': 0.022298749885750695, 'epsilon': 0.0017802204446295143}. Best is trial 1471 with value: -0.005673212500245352.\u001b[0m\n",
      "\u001b[32m[I 2021-06-25 14:12:00,229]\u001b[0m Trial 1782 finished with value: -0.005709095359265898 and parameters: {'kernel': 'rbf', 'C': 0.16819383878111768, 'gamma': 0.02707027666148255, 'epsilon': 0.0012602231610700804}. Best is trial 1471 with value: -0.005673212500245352.\u001b[0m\n",
      "\u001b[32m[I 2021-06-25 14:12:00,670]\u001b[0m Trial 1783 finished with value: -0.005724171765016686 and parameters: {'kernel': 'rbf', 'C': 0.11778085645812265, 'gamma': 0.019805850530220874, 'epsilon': 0.001549656095427282}. Best is trial 1471 with value: -0.005673212500245352.\u001b[0m\n",
      "\u001b[32m[I 2021-06-25 14:12:01,155]\u001b[0m Trial 1784 finished with value: -0.00578655939394733 and parameters: {'kernel': 'rbf', 'C': 0.1387990123630509, 'gamma': 0.03832271326234439, 'epsilon': 0.0014429740356712358}. Best is trial 1471 with value: -0.005673212500245352.\u001b[0m\n",
      "\u001b[32m[I 2021-06-25 14:12:01,545]\u001b[0m Trial 1785 finished with value: -0.005704990163970115 and parameters: {'kernel': 'rbf', 'C': 0.19043058295378823, 'gamma': 0.023269550563105784, 'epsilon': 0.0020111701555312854}. Best is trial 1471 with value: -0.005673212500245352.\u001b[0m\n",
      "\u001b[32m[I 2021-06-25 14:12:02,070]\u001b[0m Trial 1786 finished with value: -0.005722640903112752 and parameters: {'kernel': 'rbf', 'C': 0.1009968278839589, 'gamma': 0.030960454120935645, 'epsilon': 0.0011116970533150917}. Best is trial 1471 with value: -0.005673212500245352.\u001b[0m\n",
      "\u001b[32m[I 2021-06-25 14:12:02,597]\u001b[0m Trial 1787 finished with value: -0.005682645389620819 and parameters: {'kernel': 'rbf', 'C': 0.15839938600324682, 'gamma': 0.024913922051561694, 'epsilon': 0.0012640459219681374}. Best is trial 1471 with value: -0.005673212500245352.\u001b[0m\n",
      "\u001b[32m[I 2021-06-25 14:12:03,008]\u001b[0m Trial 1788 finished with value: -0.005728585115873763 and parameters: {'kernel': 'rbf', 'C': 0.12878047215331925, 'gamma': 0.018251467025518518, 'epsilon': 0.001754984030683076}. Best is trial 1471 with value: -0.005673212500245352.\u001b[0m\n",
      "\u001b[32m[I 2021-06-25 14:12:03,515]\u001b[0m Trial 1789 finished with value: -0.005690922917223426 and parameters: {'kernel': 'rbf', 'C': 0.18150237614588435, 'gamma': 0.020904728270039582, 'epsilon': 0.0015103719243339964}. Best is trial 1471 with value: -0.005673212500245352.\u001b[0m\n"
     ]
    },
    {
     "name": "stderr",
     "output_type": "stream",
     "text": [
      "\u001b[32m[I 2021-06-25 14:12:04,031]\u001b[0m Trial 1790 finished with value: -0.0057056324221205585 and parameters: {'kernel': 'rbf', 'C': 0.14892516895897362, 'gamma': 0.028072234118057253, 'epsilon': 0.0013512108150622454}. Best is trial 1471 with value: -0.005673212500245352.\u001b[0m\n",
      "\u001b[32m[I 2021-06-25 14:12:04,476]\u001b[0m Trial 1791 finished with value: -0.005706284859365174 and parameters: {'kernel': 'rbf', 'C': 0.11353142029815885, 'gamma': 0.03290232545429965, 'epsilon': 0.0016116291188239076}. Best is trial 1471 with value: -0.005673212500245352.\u001b[0m\n",
      "\u001b[32m[I 2021-06-25 14:12:05,142]\u001b[0m Trial 1792 finished with value: -0.005725968052531644 and parameters: {'kernel': 'rbf', 'C': 0.21650070980964767, 'gamma': 0.023327244315524603, 'epsilon': 0.0010073154453895407}. Best is trial 1471 with value: -0.005673212500245352.\u001b[0m\n",
      "\u001b[32m[I 2021-06-25 14:12:05,441]\u001b[0m Trial 1793 finished with value: -0.0057346085903647245 and parameters: {'kernel': 'rbf', 'C': 0.13167340709056388, 'gamma': 0.026286107872020736, 'epsilon': 0.0027695257702010753}. Best is trial 1471 with value: -0.005673212500245352.\u001b[0m\n",
      "\u001b[32m[I 2021-06-25 14:12:05,769]\u001b[0m Trial 1794 finished with value: -0.005756514076730432 and parameters: {'kernel': 'rbf', 'C': 0.06266507392217031, 'gamma': 0.02072213838089459, 'epsilon': 0.0019290947897677554}. Best is trial 1471 with value: -0.005673212500245352.\u001b[0m\n",
      "\u001b[32m[I 2021-06-25 14:12:06,228]\u001b[0m Trial 1795 finished with value: -0.0057317411062688265 and parameters: {'kernel': 'rbf', 'C': 0.0858394177168077, 'gamma': 0.017888311258528054, 'epsilon': 0.0012076857305360485}. Best is trial 1471 with value: -0.005673212500245352.\u001b[0m\n",
      "\u001b[32m[I 2021-06-25 14:12:06,720]\u001b[0m Trial 1796 finished with value: -0.005745784429883944 and parameters: {'kernel': 'rbf', 'C': 0.16407144540176904, 'gamma': 0.015220596725815563, 'epsilon': 0.0014047375711104075}. Best is trial 1471 with value: -0.005673212500245352.\u001b[0m\n",
      "\u001b[32m[I 2021-06-25 14:12:07,159]\u001b[0m Trial 1797 finished with value: -0.005686859148015817 and parameters: {'kernel': 'rbf', 'C': 0.14459641336718565, 'gamma': 0.02334981465729978, 'epsilon': 0.0016574913474324898}. Best is trial 1471 with value: -0.005673212500245352.\u001b[0m\n",
      "\u001b[32m[I 2021-06-25 14:12:07,487]\u001b[0m Trial 1798 finished with value: -0.005716899863518944 and parameters: {'kernel': 'rbf', 'C': 0.10552218967508334, 'gamma': 0.028964687516179914, 'epsilon': 0.002201241093485665}. Best is trial 1471 with value: -0.005673212500245352.\u001b[0m\n",
      "\u001b[32m[I 2021-06-25 14:12:08,323]\u001b[0m Trial 1799 finished with value: -0.006332416609532258 and parameters: {'kernel': 'poly', 'C': 0.19515666754043762, 'gamma': 0.02563217591399532, 'epsilon': 0.0011357751533019483}. Best is trial 1471 with value: -0.005673212500245352.\u001b[0m\n",
      "\u001b[32m[I 2021-06-25 14:12:08,801]\u001b[0m Trial 1800 finished with value: -0.005708918135325099 and parameters: {'kernel': 'rbf', 'C': 0.12751588645511736, 'gamma': 0.02022195484979214, 'epsilon': 0.001340477286524657}. Best is trial 1471 with value: -0.005673212500245352.\u001b[0m\n",
      "\u001b[32m[I 2021-06-25 14:12:09,434]\u001b[0m Trial 1801 finished with value: -0.005807164067294756 and parameters: {'kernel': 'rbf', 'C': 0.16630046314274272, 'gamma': 0.03416771003489665, 'epsilon': 0.0010040171879763173}. Best is trial 1471 with value: -0.005673212500245352.\u001b[0m\n",
      "\u001b[32m[I 2021-06-25 14:12:09,983]\u001b[0m Trial 1802 finished with value: -0.005709728358787282 and parameters: {'kernel': 'rbf', 'C': 0.2450034750020178, 'gamma': 0.02236364631111945, 'epsilon': 0.0015791719012986476}. Best is trial 1471 with value: -0.005673212500245352.\u001b[0m\n",
      "\u001b[32m[I 2021-06-25 14:12:10,375]\u001b[0m Trial 1803 finished with value: -0.005788845320294393 and parameters: {'kernel': 'rbf', 'C': 0.11822930507779551, 'gamma': 0.042832422683872204, 'epsilon': 0.001868642232882607}. Best is trial 1471 with value: -0.005673212500245352.\u001b[0m\n",
      "\u001b[32m[I 2021-06-25 14:12:10,922]\u001b[0m Trial 1804 finished with value: -0.005710096402344392 and parameters: {'kernel': 'rbf', 'C': 0.15582947719814433, 'gamma': 0.027626069013565492, 'epsilon': 0.001256957346733291}. Best is trial 1471 with value: -0.005673212500245352.\u001b[0m\n",
      "\u001b[32m[I 2021-06-25 14:12:11,432]\u001b[0m Trial 1805 finished with value: -0.005710101022709809 and parameters: {'kernel': 'rbf', 'C': 0.18050081734717774, 'gamma': 0.01712615539345326, 'epsilon': 0.0014744715193311057}. Best is trial 1471 with value: -0.005673212500245352.\u001b[0m\n",
      "\u001b[32m[I 2021-06-25 14:12:12,048]\u001b[0m Trial 1806 finished with value: -0.005739915377640205 and parameters: {'kernel': 'rbf', 'C': 0.1431044422302691, 'gamma': 0.031243351654722903, 'epsilon': 0.001002442034795961}. Best is trial 1471 with value: -0.005673212500245352.\u001b[0m\n",
      "\u001b[32m[I 2021-06-25 14:12:12,437]\u001b[0m Trial 1807 finished with value: -0.005702329034855645 and parameters: {'kernel': 'rbf', 'C': 0.09811765098707761, 'gamma': 0.024854767210492793, 'epsilon': 0.0017030136417840022}. Best is trial 1471 with value: -0.005673212500245352.\u001b[0m\n",
      "\u001b[32m[I 2021-06-25 14:12:12,956]\u001b[0m Trial 1808 finished with value: -0.00571382249502619 and parameters: {'kernel': 'rbf', 'C': 0.12416807763315134, 'gamma': 0.019999430544440845, 'epsilon': 0.00122579949417191}. Best is trial 1471 with value: -0.005673212500245352.\u001b[0m\n",
      "\u001b[32m[I 2021-06-25 14:12:13,361]\u001b[0m Trial 1809 finished with value: -0.005707737200791173 and parameters: {'kernel': 'rbf', 'C': 0.19866444291579197, 'gamma': 0.022508175239805434, 'epsilon': 0.0020993865663404753}. Best is trial 1471 with value: -0.005673212500245352.\u001b[0m\n",
      "\u001b[32m[I 2021-06-25 14:12:13,843]\u001b[0m Trial 1810 finished with value: -0.005699585065439147 and parameters: {'kernel': 'rbf', 'C': 0.1378084051800756, 'gamma': 0.027098775862920498, 'epsilon': 0.0014376315952863887}. Best is trial 1471 with value: -0.005673212500245352.\u001b[0m\n",
      "\u001b[32m[I 2021-06-25 14:12:14,276]\u001b[0m Trial 1811 finished with value: -0.005716211286713505 and parameters: {'kernel': 'rbf', 'C': 0.17177988003213399, 'gamma': 0.01873147089569358, 'epsilon': 0.0016968952730904837}. Best is trial 1471 with value: -0.005673212500245352.\u001b[0m\n",
      "\u001b[32m[I 2021-06-25 14:12:14,755]\u001b[0m Trial 1812 finished with value: -0.005744511379631584 and parameters: {'kernel': 'rbf', 'C': 0.10931843738472367, 'gamma': 0.03724392573943372, 'epsilon': 0.0013585568173620868}. Best is trial 1471 with value: -0.005673212500245352.\u001b[0m\n",
      "\u001b[32m[I 2021-06-25 14:12:15,295]\u001b[0m Trial 1813 finished with value: -0.0056812592608321355 and parameters: {'kernel': 'rbf', 'C': 0.1525383069422807, 'gamma': 0.02375389232876248, 'epsilon': 0.0012092802821503262}. Best is trial 1471 with value: -0.005673212500245352.\u001b[0m\n",
      "\u001b[32m[I 2021-06-25 14:12:15,966]\u001b[0m Trial 1814 finished with value: -0.005844560139622191 and parameters: {'kernel': 'rbf', 'C': 0.2276331483253854, 'gamma': 0.031183858457571673, 'epsilon': 0.0011215436151475946}. Best is trial 1471 with value: -0.005673212500245352.\u001b[0m\n",
      "\u001b[32m[I 2021-06-25 14:12:16,420]\u001b[0m Trial 1815 finished with value: -0.005705247435501762 and parameters: {'kernel': 'rbf', 'C': 0.12683919159735452, 'gamma': 0.021105747482835516, 'epsilon': 0.0015127532038605432}. Best is trial 1471 with value: -0.005673212500245352.\u001b[0m\n",
      "\u001b[32m[I 2021-06-25 14:12:16,754]\u001b[0m Trial 1816 finished with value: -0.005718807026045909 and parameters: {'kernel': 'rbf', 'C': 0.15307259805078968, 'gamma': 0.026389668283166502, 'epsilon': 0.002417855108185019}. Best is trial 1471 with value: -0.005673212500245352.\u001b[0m\n",
      "\u001b[32m[I 2021-06-25 14:12:17,110]\u001b[0m Trial 1817 finished with value: -0.00576796440231584 and parameters: {'kernel': 'rbf', 'C': 0.09539361885897674, 'gamma': 0.016363286946421883, 'epsilon': 0.0018962666311517226}. Best is trial 1471 with value: -0.005673212500245352.\u001b[0m\n",
      "\u001b[32m[I 2021-06-25 14:12:17,580]\u001b[0m Trial 1818 finished with value: -0.00568895658830526 and parameters: {'kernel': 'rbf', 'C': 0.1787896904643337, 'gamma': 0.023825779429922683, 'epsilon': 0.0016326540502090562}. Best is trial 1471 with value: -0.005673212500245352.\u001b[0m\n",
      "\u001b[32m[I 2021-06-25 14:12:18,083]\u001b[0m Trial 1819 finished with value: -0.00571458382330757 and parameters: {'kernel': 'rbf', 'C': 0.13645385838747293, 'gamma': 0.029362792881442095, 'epsilon': 0.001340990404390767}. Best is trial 1471 with value: -0.005673212500245352.\u001b[0m\n"
     ]
    },
    {
     "name": "stderr",
     "output_type": "stream",
     "text": [
      "\u001b[32m[I 2021-06-25 14:12:18,183]\u001b[0m Trial 1820 finished with value: -0.008776070982730895 and parameters: {'kernel': 'rbf', 'C': 0.11453013056534495, 'gamma': 0.019476476976976506, 'epsilon': 0.012023777549024344}. Best is trial 1471 with value: -0.005673212500245352.\u001b[0m\n",
      "\u001b[32m[I 2021-06-25 14:12:18,750]\u001b[0m Trial 1821 finished with value: -0.005695177460215073 and parameters: {'kernel': 'rbf', 'C': 0.16160119513655613, 'gamma': 0.021918004952762783, 'epsilon': 0.0011152246640617639}. Best is trial 1471 with value: -0.005673212500245352.\u001b[0m\n",
      "\u001b[32m[I 2021-06-25 14:12:19,158]\u001b[0m Trial 1822 finished with value: -0.005713782965316577 and parameters: {'kernel': 'rbf', 'C': 0.07680521852451756, 'gamma': 0.025769895269142123, 'epsilon': 0.0014821996677667525}. Best is trial 1471 with value: -0.005673212500245352.\u001b[0m\n",
      "\u001b[32m[I 2021-06-25 14:12:19,586]\u001b[0m Trial 1823 finished with value: -0.005815029741759188 and parameters: {'kernel': 'rbf', 'C': 0.2054947712477124, 'gamma': 0.03281138267453154, 'epsilon': 0.001849299181535504}. Best is trial 1471 with value: -0.005673212500245352.\u001b[0m\n",
      "\u001b[32m[I 2021-06-25 14:12:22,239]\u001b[0m Trial 1824 finished with value: -0.0060807426632061325 and parameters: {'kernel': 'rbf', 'C': 5.076361400517131, 'gamma': 0.01389723042722004, 'epsilon': 0.001281062991368253}. Best is trial 1471 with value: -0.005673212500245352.\u001b[0m\n",
      "\u001b[32m[I 2021-06-25 14:12:23,525]\u001b[0m Trial 1825 finished with value: -0.006175482199245824 and parameters: {'kernel': 'rbf', 'C': 1.7033961155746444, 'gamma': 0.027292465495456157, 'epsilon': 0.0015775356586908876}. Best is trial 1471 with value: -0.005673212500245352.\u001b[0m\n",
      "\u001b[32m[I 2021-06-25 14:12:24,031]\u001b[0m Trial 1826 finished with value: -0.006355180755082196 and parameters: {'kernel': 'poly', 'C': 0.27538717079139774, 'gamma': 0.021212192521486553, 'epsilon': 0.0020655376468684122}. Best is trial 1471 with value: -0.005673212500245352.\u001b[0m\n",
      "\u001b[32m[I 2021-06-25 14:12:24,572]\u001b[0m Trial 1827 finished with value: -0.005727561656992601 and parameters: {'kernel': 'rbf', 'C': 0.14426566634163313, 'gamma': 0.017828360127962357, 'epsilon': 0.0011197444363199949}. Best is trial 1471 with value: -0.005673212500245352.\u001b[0m\n",
      "\u001b[32m[I 2021-06-25 14:12:25,045]\u001b[0m Trial 1828 finished with value: -0.005679154573988769 and parameters: {'kernel': 'rbf', 'C': 0.1192034656702484, 'gamma': 0.02394553175184206, 'epsilon': 0.0013814341935731514}. Best is trial 1471 with value: -0.005673212500245352.\u001b[0m\n",
      "\u001b[32m[I 2021-06-25 14:12:25,449]\u001b[0m Trial 1829 finished with value: -0.0060020828240910295 and parameters: {'kernel': 'rbf', 'C': 0.08945334325040397, 'gamma': 0.00361147017279929, 'epsilon': 0.0010008675717133274}. Best is trial 1471 with value: -0.005673212500245352.\u001b[0m\n",
      "\u001b[32m[I 2021-06-25 14:12:25,822]\u001b[0m Trial 1830 finished with value: -0.0057382372942526684 and parameters: {'kernel': 'rbf', 'C': 0.0937339481039475, 'gamma': 0.0188872592928259, 'epsilon': 0.0018363662791051746}. Best is trial 1471 with value: -0.005673212500245352.\u001b[0m\n",
      "\u001b[32m[I 2021-06-25 14:12:26,349]\u001b[0m Trial 1831 finished with value: -0.0056907024126117275 and parameters: {'kernel': 'rbf', 'C': 0.10281248400962627, 'gamma': 0.023269298150237885, 'epsilon': 0.0014286732595121118}. Best is trial 1471 with value: -0.005673212500245352.\u001b[0m\n",
      "\u001b[32m[I 2021-06-25 14:12:26,401]\u001b[0m Trial 1832 finished with value: -0.04522358590646345 and parameters: {'kernel': 'rbf', 'C': 0.07573681784315692, 'gamma': 0.015451540929785977, 'epsilon': 0.49070791581544637}. Best is trial 1471 with value: -0.005673212500245352.\u001b[0m\n",
      "\u001b[32m[I 2021-06-25 14:12:26,812]\u001b[0m Trial 1833 finished with value: -0.005714868250183716 and parameters: {'kernel': 'rbf', 'C': 0.10734339547514841, 'gamma': 0.021407877857471398, 'epsilon': 0.0016871606039732632}. Best is trial 1471 with value: -0.005673212500245352.\u001b[0m\n",
      "\u001b[32m[I 2021-06-25 14:12:27,315]\u001b[0m Trial 1834 finished with value: -0.005696841192658908 and parameters: {'kernel': 'rbf', 'C': 0.09420925923228149, 'gamma': 0.025012982205065953, 'epsilon': 0.0013767969105954474}. Best is trial 1471 with value: -0.005673212500245352.\u001b[0m\n",
      "\u001b[32m[I 2021-06-25 14:12:27,739]\u001b[0m Trial 1835 finished with value: -0.005704068385789873 and parameters: {'kernel': 'rbf', 'C': 0.11143991888780762, 'gamma': 0.029561744839176885, 'epsilon': 0.0016233031920002622}. Best is trial 1471 with value: -0.005673212500245352.\u001b[0m\n",
      "\u001b[32m[I 2021-06-25 14:12:28,246]\u001b[0m Trial 1836 finished with value: -0.0057143924455522075 and parameters: {'kernel': 'rbf', 'C': 0.1141491073332543, 'gamma': 0.02022126206030598, 'epsilon': 0.0012575437859796562}. Best is trial 1471 with value: -0.005673212500245352.\u001b[0m\n",
      "\u001b[32m[I 2021-06-25 14:12:28,573]\u001b[0m Trial 1837 finished with value: -0.005708127534409171 and parameters: {'kernel': 'rbf', 'C': 0.10645936067587677, 'gamma': 0.024198477807189495, 'epsilon': 0.002078426329852243}. Best is trial 1471 with value: -0.005673212500245352.\u001b[0m\n",
      "\u001b[32m[I 2021-06-25 14:12:28,971]\u001b[0m Trial 1838 finished with value: -0.0057411137768301375 and parameters: {'kernel': 'rbf', 'C': 0.08592693560874022, 'gamma': 0.017205435900104486, 'epsilon': 0.0015082722383525792}. Best is trial 1471 with value: -0.005673212500245352.\u001b[0m\n",
      "\u001b[32m[I 2021-06-25 14:12:29,370]\u001b[0m Trial 1839 finished with value: -0.0057050113493306845 and parameters: {'kernel': 'rbf', 'C': 0.11313234443647692, 'gamma': 0.02829781015824832, 'epsilon': 0.001770785042366685}. Best is trial 1471 with value: -0.005673212500245352.\u001b[0m\n",
      "\u001b[32m[I 2021-06-25 14:12:29,898]\u001b[0m Trial 1840 finished with value: -0.005754394838210342 and parameters: {'kernel': 'rbf', 'C': 0.12175484779700038, 'gamma': 0.035935910147689286, 'epsilon': 0.0012351572153931538}. Best is trial 1471 with value: -0.005673212500245352.\u001b[0m\n",
      "\u001b[32m[I 2021-06-25 14:12:30,336]\u001b[0m Trial 1841 finished with value: -0.005714014191079198 and parameters: {'kernel': 'rbf', 'C': 0.09819149978271757, 'gamma': 0.022374723251962, 'epsilon': 0.001434506506135495}. Best is trial 1471 with value: -0.005673212500245352.\u001b[0m\n",
      "\u001b[32m[I 2021-06-25 14:12:30,897]\u001b[0m Trial 1842 finished with value: -0.005865979166479514 and parameters: {'kernel': 'rbf', 'C': 0.12257620073988848, 'gamma': 0.049774720204256925, 'epsilon': 0.0011154685405644492}. Best is trial 1471 with value: -0.005673212500245352.\u001b[0m\n",
      "\u001b[32m[I 2021-06-25 14:12:31,406]\u001b[0m Trial 1843 finished with value: -0.005722712246416402 and parameters: {'kernel': 'rbf', 'C': 0.08154065404170292, 'gamma': 0.025701495637022773, 'epsilon': 0.0010046358825773756}. Best is trial 1471 with value: -0.005673212500245352.\u001b[0m\n",
      "\u001b[32m[I 2021-06-25 14:12:31,712]\u001b[0m Trial 1844 finished with value: -0.005749309508460788 and parameters: {'kernel': 'rbf', 'C': 0.12524119944905554, 'gamma': 0.01905610559368113, 'epsilon': 0.002327663723415286}. Best is trial 1471 with value: -0.005673212500245352.\u001b[0m\n",
      "\u001b[32m[I 2021-06-25 14:12:32,009]\u001b[0m Trial 1845 finished with value: -0.006342519264611032 and parameters: {'kernel': 'rbf', 'C': 0.012646530480186737, 'gamma': 0.03148867223133598, 'epsilon': 0.0017034515874360418}. Best is trial 1471 with value: -0.005673212500245352.\u001b[0m\n",
      "\u001b[32m[I 2021-06-25 14:12:32,476]\u001b[0m Trial 1846 finished with value: -0.00570000287856738 and parameters: {'kernel': 'rbf', 'C': 0.10018788090392257, 'gamma': 0.022637162625572055, 'epsilon': 0.0013384057427578975}. Best is trial 1471 with value: -0.005673212500245352.\u001b[0m\n",
      "\u001b[32m[I 2021-06-25 14:12:32,931]\u001b[0m Trial 1847 finished with value: -0.005690243678855993 and parameters: {'kernel': 'rbf', 'C': 0.12872264089949664, 'gamma': 0.027292802808849836, 'epsilon': 0.0015235902323948427}. Best is trial 1471 with value: -0.005673212500245352.\u001b[0m\n",
      "\u001b[32m[I 2021-06-25 14:12:33,002]\u001b[0m Trial 1848 finished with value: -0.019967334546951366 and parameters: {'kernel': 'rbf', 'C': 0.12022626745904691, 'gamma': 0.02003590689516073, 'epsilon': 0.026398064879000944}. Best is trial 1471 with value: -0.005673212500245352.\u001b[0m\n",
      "\u001b[32m[I 2021-06-25 14:12:33,055]\u001b[0m Trial 1849 finished with value: -0.034273113732474506 and parameters: {'kernel': 'rbf', 'C': 0.13465359334464963, 'gamma': 0.02447849944715385, 'epsilon': 0.03929810523867286}. Best is trial 1471 with value: -0.005673212500245352.\u001b[0m\n"
     ]
    },
    {
     "name": "stderr",
     "output_type": "stream",
     "text": [
      "\u001b[32m[I 2021-06-25 14:12:33,402]\u001b[0m Trial 1850 finished with value: -0.005757459578073201 and parameters: {'kernel': 'rbf', 'C': 0.10907238485701316, 'gamma': 0.017022658597724734, 'epsilon': 0.0019222645609242555}. Best is trial 1471 with value: -0.005673212500245352.\u001b[0m\n",
      "\u001b[32m[I 2021-06-25 14:12:33,923]\u001b[0m Trial 1851 finished with value: -0.00572462973710281 and parameters: {'kernel': 'rbf', 'C': 0.13483256987794343, 'gamma': 0.03076493374589631, 'epsilon': 0.0012426100059728634}. Best is trial 1471 with value: -0.005673212500245352.\u001b[0m\n",
      "\u001b[32m[I 2021-06-25 14:12:34,345]\u001b[0m Trial 1852 finished with value: -0.00571969266494523 and parameters: {'kernel': 'rbf', 'C': 0.09071627785195091, 'gamma': 0.021584288254305525, 'epsilon': 0.001528257983926958}. Best is trial 1471 with value: -0.005673212500245352.\u001b[0m\n",
      "\u001b[32m[I 2021-06-25 14:12:34,741]\u001b[0m Trial 1853 finished with value: -0.005751761676925701 and parameters: {'kernel': 'rbf', 'C': 0.050272160052310326, 'gamma': 0.026458592474670414, 'epsilon': 0.0012932311096884356}. Best is trial 1471 with value: -0.005673212500245352.\u001b[0m\n",
      "\u001b[32m[I 2021-06-25 14:12:35,108]\u001b[0m Trial 1854 finished with value: -0.005738630137453994 and parameters: {'kernel': 'rbf', 'C': 0.06982900833422898, 'gamma': 0.03491358068062128, 'epsilon': 0.0017572868574195213}. Best is trial 1471 with value: -0.005673212500245352.\u001b[0m\n",
      "\u001b[32m[I 2021-06-25 14:12:35,273]\u001b[0m Trial 1855 finished with value: -0.006160771295644289 and parameters: {'kernel': 'rbf', 'C': 0.1169660508120806, 'gamma': 0.023485508132102477, 'epsilon': 0.005906635376022942}. Best is trial 1471 with value: -0.005673212500245352.\u001b[0m\n",
      "\u001b[32m[I 2021-06-25 14:12:35,778]\u001b[0m Trial 1856 finished with value: -0.006343120623969714 and parameters: {'kernel': 'poly', 'C': 0.14437975174406764, 'gamma': 0.01899976805219709, 'epsilon': 0.0014530882893558268}. Best is trial 1471 with value: -0.005673212500245352.\u001b[0m\n",
      "\u001b[32m[I 2021-06-25 14:12:36,329]\u001b[0m Trial 1857 finished with value: -0.005717802875733215 and parameters: {'kernel': 'rbf', 'C': 0.1329975572065064, 'gamma': 0.02878880578986474, 'epsilon': 0.00111802632537618}. Best is trial 1471 with value: -0.005673212500245352.\u001b[0m\n",
      "\u001b[32m[I 2021-06-25 14:12:36,676]\u001b[0m Trial 1858 finished with value: -0.005702748761925902 and parameters: {'kernel': 'rbf', 'C': 0.11125313846572926, 'gamma': 0.024656023900610124, 'epsilon': 0.0021437312957218037}. Best is trial 1471 with value: -0.005673212500245352.\u001b[0m\n",
      "\u001b[32m[I 2021-06-25 14:12:37,095]\u001b[0m Trial 1859 finished with value: -0.00571388058578239 and parameters: {'kernel': 'rbf', 'C': 0.14062004586182197, 'gamma': 0.02096694300575664, 'epsilon': 0.0016731287527725102}. Best is trial 1471 with value: -0.005673212500245352.\u001b[0m\n",
      "\u001b[32m[I 2021-06-25 14:12:37,583]\u001b[0m Trial 1860 finished with value: -0.005733884125437465 and parameters: {'kernel': 'rbf', 'C': 0.12419958737223293, 'gamma': 0.01497977565429981, 'epsilon': 0.0013655640634870749}. Best is trial 1471 with value: -0.005673212500245352.\u001b[0m\n",
      "\u001b[32m[I 2021-06-25 14:12:37,889]\u001b[0m Trial 1861 finished with value: -0.005743337016506852 and parameters: {'kernel': 'rbf', 'C': 0.09967178995580374, 'gamma': 0.02724268945732059, 'epsilon': 0.0026144171835704583}. Best is trial 1471 with value: -0.005673212500245352.\u001b[0m\n",
      "\u001b[32m[I 2021-06-25 14:12:38,443]\u001b[0m Trial 1862 finished with value: -0.005724204262826091 and parameters: {'kernel': 'rbf', 'C': 0.15231713202167715, 'gamma': 0.01747327638116146, 'epsilon': 0.0011023802568957825}. Best is trial 1471 with value: -0.005673212500245352.\u001b[0m\n",
      "\u001b[32m[I 2021-06-25 14:12:38,820]\u001b[0m Trial 1863 finished with value: -0.005719749380769118 and parameters: {'kernel': 'rbf', 'C': 0.13174330253988026, 'gamma': 0.03294352556008972, 'epsilon': 0.00193650889643522}. Best is trial 1471 with value: -0.005673212500245352.\u001b[0m\n",
      "\u001b[32m[I 2021-06-25 14:12:39,455]\u001b[0m Trial 1864 finished with value: -0.005841178778447759 and parameters: {'kernel': 'rbf', 'C': 0.15421651352227667, 'gamma': 0.03885717395492176, 'epsilon': 0.001000364763326956}. Best is trial 1471 with value: -0.005673212500245352.\u001b[0m\n",
      "\u001b[32m[I 2021-06-25 14:12:39,888]\u001b[0m Trial 1865 finished with value: -0.005705164616151129 and parameters: {'kernel': 'rbf', 'C': 0.11267444448671281, 'gamma': 0.02188216182099173, 'epsilon': 0.001544946016781033}. Best is trial 1471 with value: -0.005673212500245352.\u001b[0m\n",
      "\u001b[32m[I 2021-06-25 14:12:40,395]\u001b[0m Trial 1866 finished with value: -0.005681589431461124 and parameters: {'kernel': 'rbf', 'C': 0.14118391637207392, 'gamma': 0.025044457311164614, 'epsilon': 0.0013519193373540336}. Best is trial 1471 with value: -0.005673212500245352.\u001b[0m\n",
      "\u001b[32m[I 2021-06-25 14:12:40,899]\u001b[0m Trial 1867 finished with value: -0.005730659059464902 and parameters: {'kernel': 'rbf', 'C': 0.09881420090543487, 'gamma': 0.019810742505130992, 'epsilon': 0.001231455029845492}. Best is trial 1471 with value: -0.005673212500245352.\u001b[0m\n",
      "\u001b[32m[I 2021-06-25 14:12:41,545]\u001b[0m Trial 1868 finished with value: -0.005903987091567901 and parameters: {'kernel': 'rbf', 'C': 0.4442307957458789, 'gamma': 0.029330222361924493, 'epsilon': 0.001705775813481008}. Best is trial 1471 with value: -0.005673212500245352.\u001b[0m\n",
      "\u001b[32m[I 2021-06-25 14:12:42,040]\u001b[0m Trial 1869 finished with value: -0.005687405525566145 and parameters: {'kernel': 'rbf', 'C': 0.1602674546716969, 'gamma': 0.02318009638749801, 'epsilon': 0.0015165006027504713}. Best is trial 1471 with value: -0.005673212500245352.\u001b[0m\n",
      "\u001b[32m[I 2021-06-25 14:12:42,564]\u001b[0m Trial 1870 finished with value: -0.005704581223637077 and parameters: {'kernel': 'rbf', 'C': 0.12630550778886282, 'gamma': 0.026769892521533622, 'epsilon': 0.0011812053235067306}. Best is trial 1471 with value: -0.005673212500245352.\u001b[0m\n",
      "\u001b[32m[I 2021-06-25 14:12:42,964]\u001b[0m Trial 1871 finished with value: -0.005719890593491599 and parameters: {'kernel': 'rbf', 'C': 0.16299938092665905, 'gamma': 0.019913696088015097, 'epsilon': 0.001936540880484494}. Best is trial 1471 with value: -0.005673212500245352.\u001b[0m\n",
      "\u001b[32m[I 2021-06-25 14:12:43,445]\u001b[0m Trial 1872 finished with value: -0.0057182718063181 and parameters: {'kernel': 'rbf', 'C': 0.11738683829953693, 'gamma': 0.03189360018421124, 'epsilon': 0.0013548514420266718}. Best is trial 1471 with value: -0.005673212500245352.\u001b[0m\n",
      "\u001b[32m[I 2021-06-25 14:12:43,877]\u001b[0m Trial 1873 finished with value: -0.005693708424917882 and parameters: {'kernel': 'rbf', 'C': 0.14150925531833955, 'gamma': 0.023717765501819376, 'epsilon': 0.0017742593654195894}. Best is trial 1471 with value: -0.005673212500245352.\u001b[0m\n",
      "\u001b[32m[I 2021-06-25 14:12:44,411]\u001b[0m Trial 1874 finished with value: -0.005739827314440476 and parameters: {'kernel': 'rbf', 'C': 0.10598995279772497, 'gamma': 0.016821731267080316, 'epsilon': 0.0010062311927867239}. Best is trial 1471 with value: -0.005673212500245352.\u001b[0m\n",
      "\u001b[32m[I 2021-06-25 14:12:44,914]\u001b[0m Trial 1875 finished with value: -0.005695110799237915 and parameters: {'kernel': 'rbf', 'C': 0.17687606674217665, 'gamma': 0.021596509898850695, 'epsilon': 0.0015281979053365037}. Best is trial 1471 with value: -0.005673212500245352.\u001b[0m\n",
      "\u001b[32m[I 2021-06-25 14:12:45,384]\u001b[0m Trial 1876 finished with value: -0.005707033486373796 and parameters: {'kernel': 'rbf', 'C': 0.08693026853526577, 'gamma': 0.02847864378688357, 'epsilon': 0.0012220928939145827}. Best is trial 1471 with value: -0.005673212500245352.\u001b[0m\n",
      "\u001b[32m[I 2021-06-25 14:12:45,974]\u001b[0m Trial 1877 finished with value: -0.005702542570007913 and parameters: {'kernel': 'rbf', 'C': 0.1256400403082976, 'gamma': 0.02574045133642756, 'epsilon': 0.0010016960289586953}. Best is trial 1471 with value: -0.005673212500245352.\u001b[0m\n",
      "\u001b[32m[I 2021-06-25 14:12:46,095]\u001b[0m Trial 1878 finished with value: -0.007321132830983064 and parameters: {'kernel': 'rbf', 'C': 0.15256958253880853, 'gamma': 0.01967373839157428, 'epsilon': 0.009501000963647995}. Best is trial 1471 with value: -0.005673212500245352.\u001b[0m\n",
      "\u001b[32m[I 2021-06-25 14:12:46,460]\u001b[0m Trial 1879 finished with value: -0.005697459065141828 and parameters: {'kernel': 'rbf', 'C': 0.17601862563589285, 'gamma': 0.02325410201960995, 'epsilon': 0.0022130221646397964}. Best is trial 1471 with value: -0.005673212500245352.\u001b[0m\n"
     ]
    },
    {
     "name": "stderr",
     "output_type": "stream",
     "text": [
      "\u001b[32m[I 2021-06-25 14:12:46,903]\u001b[0m Trial 1880 finished with value: -0.005767636780359146 and parameters: {'kernel': 'rbf', 'C': 0.13659146794467278, 'gamma': 0.011198810130247355, 'epsilon': 0.001395843091897621}. Best is trial 1471 with value: -0.005673212500245352.\u001b[0m\n",
      "\u001b[32m[I 2021-06-25 14:12:47,320]\u001b[0m Trial 1881 finished with value: -0.005704992280348052 and parameters: {'kernel': 'rbf', 'C': 0.11912094933721987, 'gamma': 0.03133782913699904, 'epsilon': 0.0016803684078084491}. Best is trial 1471 with value: -0.005673212500245352.\u001b[0m\n",
      "\u001b[32m[I 2021-06-25 14:12:47,834]\u001b[0m Trial 1882 finished with value: -0.006399052794638143 and parameters: {'kernel': 'poly', 'C': 0.14254910728905681, 'gamma': 0.01789964093904056, 'epsilon': 0.0011499241494666906}. Best is trial 1471 with value: -0.005673212500245352.\u001b[0m\n",
      "\u001b[32m[I 2021-06-25 14:12:48,342]\u001b[0m Trial 1883 finished with value: -0.005792485132218809 and parameters: {'kernel': 'rbf', 'C': 0.1698881248120965, 'gamma': 0.0357608646330367, 'epsilon': 0.00149779255880972}. Best is trial 1471 with value: -0.005673212500245352.\u001b[0m\n",
      "\u001b[32m[I 2021-06-25 14:12:48,801]\u001b[0m Trial 1884 finished with value: -0.005701106502296387 and parameters: {'kernel': 'rbf', 'C': 0.09851921246647523, 'gamma': 0.026658470920723654, 'epsilon': 0.0013151333620439105}. Best is trial 1471 with value: -0.005673212500245352.\u001b[0m\n",
      "\u001b[32m[I 2021-06-25 14:12:49,220]\u001b[0m Trial 1885 finished with value: -0.005695090867085472 and parameters: {'kernel': 'rbf', 'C': 0.18810744145961328, 'gamma': 0.022324462710113853, 'epsilon': 0.0019211878310123308}. Best is trial 1471 with value: -0.005673212500245352.\u001b[0m\n",
      "\u001b[32m[I 2021-06-25 14:12:49,700]\u001b[0m Trial 1886 finished with value: -0.005704230613554156 and parameters: {'kernel': 'rbf', 'C': 0.15122696665351695, 'gamma': 0.028881753607870923, 'epsilon': 0.0015825474646211817}. Best is trial 1471 with value: -0.005673212500245352.\u001b[0m\n",
      "\u001b[32m[I 2021-06-25 14:12:50,211]\u001b[0m Trial 1887 finished with value: -0.005690512479346147 and parameters: {'kernel': 'rbf', 'C': 0.12755934738085503, 'gamma': 0.024607746176057235, 'epsilon': 0.0012632338000458168}. Best is trial 1471 with value: -0.005673212500245352.\u001b[0m\n",
      "\u001b[32m[I 2021-06-25 14:12:50,663]\u001b[0m Trial 1888 finished with value: -0.0057166052706025434 and parameters: {'kernel': 'rbf', 'C': 0.15820663767665727, 'gamma': 0.019391286860711406, 'epsilon': 0.0017556994723599898}. Best is trial 1471 with value: -0.005673212500245352.\u001b[0m\n",
      "\u001b[32m[I 2021-06-25 14:12:51,147]\u001b[0m Trial 1889 finished with value: -0.005744007989716302 and parameters: {'kernel': 'rbf', 'C': 0.10586164601182377, 'gamma': 0.014942066132466418, 'epsilon': 0.0011252209894821153}. Best is trial 1471 with value: -0.005673212500245352.\u001b[0m\n",
      "\u001b[32m[I 2021-06-25 14:12:51,626]\u001b[0m Trial 1890 finished with value: -0.005696441248905885 and parameters: {'kernel': 'rbf', 'C': 0.13444322876775122, 'gamma': 0.02139743678056936, 'epsilon': 0.0014316193171626194}. Best is trial 1471 with value: -0.005673212500245352.\u001b[0m\n",
      "\u001b[32m[I 2021-06-25 14:12:51,964]\u001b[0m Trial 1891 finished with value: -0.00580628362642432 and parameters: {'kernel': 'rbf', 'C': 0.1192171834883422, 'gamma': 0.04401546491478441, 'epsilon': 0.002069525326515199}. Best is trial 1471 with value: -0.005673212500245352.\u001b[0m\n",
      "\u001b[32m[I 2021-06-25 14:12:52,466]\u001b[0m Trial 1892 finished with value: -0.005703333249992099 and parameters: {'kernel': 'rbf', 'C': 0.19871841903151938, 'gamma': 0.02546642130080207, 'epsilon': 0.0016213652570217718}. Best is trial 1471 with value: -0.005673212500245352.\u001b[0m\n",
      "\u001b[32m[I 2021-06-25 14:12:52,918]\u001b[0m Trial 1893 finished with value: -0.005717818913584094 and parameters: {'kernel': 'rbf', 'C': 0.08292973466079821, 'gamma': 0.031842931638754415, 'epsilon': 0.0013501429376077442}. Best is trial 1471 with value: -0.005673212500245352.\u001b[0m\n",
      "\u001b[32m[I 2021-06-25 14:12:53,507]\u001b[0m Trial 1894 finished with value: -0.00570095060971201 and parameters: {'kernel': 'rbf', 'C': 0.17089327933238044, 'gamma': 0.02234760932230511, 'epsilon': 0.0011208918179625858}. Best is trial 1471 with value: -0.005673212500245352.\u001b[0m\n",
      "\u001b[32m[I 2021-06-25 14:12:53,663]\u001b[0m Trial 1895 finished with value: -0.006615333315572673 and parameters: {'kernel': 'rbf', 'C': 0.1481641665451733, 'gamma': 0.017207408160631283, 'epsilon': 0.007544162982261915}. Best is trial 1471 with value: -0.005673212500245352.\u001b[0m\n",
      "\u001b[32m[I 2021-06-25 14:12:54,104]\u001b[0m Trial 1896 finished with value: -0.005691923965499691 and parameters: {'kernel': 'rbf', 'C': 0.10845298427837813, 'gamma': 0.028271041311639215, 'epsilon': 0.0014916932849916114}. Best is trial 1471 with value: -0.005673212500245352.\u001b[0m\n",
      "\u001b[32m[I 2021-06-25 14:12:54,512]\u001b[0m Trial 1897 finished with value: -0.005699108574533636 and parameters: {'kernel': 'rbf', 'C': 0.13570486227427245, 'gamma': 0.025127820019166906, 'epsilon': 0.0018295841081254795}. Best is trial 1471 with value: -0.005673212500245352.\u001b[0m\n",
      "\u001b[32m[I 2021-06-25 14:12:55,124]\u001b[0m Trial 1898 finished with value: -0.005699837456009364 and parameters: {'kernel': 'rbf', 'C': 0.17511273942805292, 'gamma': 0.018941747634659115, 'epsilon': 0.0010017650505343737}. Best is trial 1471 with value: -0.005673212500245352.\u001b[0m\n",
      "\u001b[32m[I 2021-06-25 14:12:55,646]\u001b[0m Trial 1899 finished with value: -0.005778045659615379 and parameters: {'kernel': 'rbf', 'C': 0.1216694037047489, 'gamma': 0.03754527869659577, 'epsilon': 0.0012581666174971563}. Best is trial 1471 with value: -0.005673212500245352.\u001b[0m\n",
      "\u001b[32m[I 2021-06-25 14:12:56,113]\u001b[0m Trial 1900 finished with value: -0.005691709161396183 and parameters: {'kernel': 'rbf', 'C': 0.1503967165861145, 'gamma': 0.021713790516274027, 'epsilon': 0.0016391587318723643}. Best is trial 1471 with value: -0.005673212500245352.\u001b[0m\n",
      "\u001b[32m[I 2021-06-25 14:12:56,494]\u001b[0m Trial 1901 finished with value: -0.0057594670781230504 and parameters: {'kernel': 'rbf', 'C': 0.20756301978420086, 'gamma': 0.028450963399550732, 'epsilon': 0.0022561955506684894}. Best is trial 1471 with value: -0.005673212500245352.\u001b[0m\n",
      "\u001b[32m[I 2021-06-25 14:12:56,915]\u001b[0m Trial 1902 finished with value: -0.005766773420012296 and parameters: {'kernel': 'rbf', 'C': 0.09300834745188866, 'gamma': 0.013160942952689242, 'epsilon': 0.0013834890291530928}. Best is trial 1471 with value: -0.005673212500245352.\u001b[0m\n",
      "\u001b[32m[I 2021-06-25 14:12:57,436]\u001b[0m Trial 1903 finished with value: -0.005684745943583738 and parameters: {'kernel': 'rbf', 'C': 0.1357577864333325, 'gamma': 0.02390997182056755, 'epsilon': 0.001234110474676614}. Best is trial 1471 with value: -0.005673212500245352.\u001b[0m\n",
      "\u001b[32m[I 2021-06-25 14:12:57,843]\u001b[0m Trial 1904 finished with value: -0.005754166694982244 and parameters: {'kernel': 'rbf', 'C': 0.16583800264247237, 'gamma': 0.03283937270302487, 'epsilon': 0.0019048622049132166}. Best is trial 1471 with value: -0.005673212500245352.\u001b[0m\n",
      "\u001b[32m[I 2021-06-25 14:12:58,261]\u001b[0m Trial 1905 finished with value: -0.005725308611039939 and parameters: {'kernel': 'rbf', 'C': 0.1126880619619346, 'gamma': 0.018879598403212617, 'epsilon': 0.0015509015283446342}. Best is trial 1471 with value: -0.005673212500245352.\u001b[0m\n",
      "\u001b[32m[I 2021-06-25 14:12:58,790]\u001b[0m Trial 1906 finished with value: -0.005702854353359481 and parameters: {'kernel': 'rbf', 'C': 0.18772648337986253, 'gamma': 0.026026003817725258, 'epsilon': 0.0013724709890972505}. Best is trial 1471 with value: -0.005673212500245352.\u001b[0m\n",
      "\u001b[32m[I 2021-06-25 14:12:59,351]\u001b[0m Trial 1907 finished with value: -0.005709486697967309 and parameters: {'kernel': 'rbf', 'C': 0.14904229888270842, 'gamma': 0.020993885559623962, 'epsilon': 0.0011111299243312955}. Best is trial 1471 with value: -0.005673212500245352.\u001b[0m\n",
      "\u001b[32m[I 2021-06-25 14:12:59,990]\u001b[0m Trial 1908 finished with value: -0.006350688081610104 and parameters: {'kernel': 'poly', 'C': 0.12355519278899785, 'gamma': 0.029591297114083075, 'epsilon': 0.0017419303198399501}. Best is trial 1471 with value: -0.005673212500245352.\u001b[0m\n",
      "\u001b[32m[I 2021-06-25 14:13:00,602]\u001b[0m Trial 1909 finished with value: -0.005695201169034922 and parameters: {'kernel': 'rbf', 'C': 0.16343873923942692, 'gamma': 0.023720531916109244, 'epsilon': 0.0010053457932854757}. Best is trial 1471 with value: -0.005673212500245352.\u001b[0m\n"
     ]
    },
    {
     "name": "stderr",
     "output_type": "stream",
     "text": [
      "\u001b[32m[I 2021-06-25 14:13:01,038]\u001b[0m Trial 1910 finished with value: -0.005758639781307333 and parameters: {'kernel': 'rbf', 'C': 0.13154994068519882, 'gamma': 0.01594797039268079, 'epsilon': 0.001507718745364026}. Best is trial 1471 with value: -0.005673212500245352.\u001b[0m\n",
      "\u001b[32m[I 2021-06-25 14:13:01,497]\u001b[0m Trial 1911 finished with value: -0.0057152378781824996 and parameters: {'kernel': 'rbf', 'C': 0.10043922151424589, 'gamma': 0.021335637951309355, 'epsilon': 0.0012176816698575227}. Best is trial 1471 with value: -0.005673212500245352.\u001b[0m\n",
      "\u001b[32m[I 2021-06-25 14:13:01,862]\u001b[0m Trial 1912 finished with value: -0.005756870460644256 and parameters: {'kernel': 'rbf', 'C': 0.2161812309574558, 'gamma': 0.02606279166631105, 'epsilon': 0.002602422021862395}. Best is trial 1471 with value: -0.005673212500245352.\u001b[0m\n",
      "\u001b[32m[I 2021-06-25 14:13:02,273]\u001b[0m Trial 1913 finished with value: -0.005793865325558482 and parameters: {'kernel': 'rbf', 'C': 0.1830381088542679, 'gamma': 0.03377440510447841, 'epsilon': 0.001993575848040619}. Best is trial 1471 with value: -0.005673212500245352.\u001b[0m\n",
      "\u001b[32m[I 2021-06-25 14:13:02,763]\u001b[0m Trial 1914 finished with value: -0.00571407068378816 and parameters: {'kernel': 'rbf', 'C': 0.13931083717737971, 'gamma': 0.01949137428997669, 'epsilon': 0.0014100466039494058}. Best is trial 1471 with value: -0.005673212500245352.\u001b[0m\n",
      "\u001b[32m[I 2021-06-25 14:13:03,190]\u001b[0m Trial 1915 finished with value: -0.005695192116833098 and parameters: {'kernel': 'rbf', 'C': 0.11486005422397957, 'gamma': 0.027798412348051263, 'epsilon': 0.0015982525992290948}. Best is trial 1471 with value: -0.005673212500245352.\u001b[0m\n",
      "\u001b[32m[I 2021-06-25 14:13:04,982]\u001b[0m Trial 1916 finished with value: -0.006161042587155279 and parameters: {'kernel': 'rbf', 'C': 2.421478263798787, 'gamma': 0.023253285122720516, 'epsilon': 0.001255214736744488}. Best is trial 1471 with value: -0.005673212500245352.\u001b[0m\n",
      "\u001b[32m[I 2021-06-25 14:13:05,435]\u001b[0m Trial 1917 finished with value: -0.005715449229222422 and parameters: {'kernel': 'rbf', 'C': 0.15272464179626036, 'gamma': 0.03022468886795935, 'epsilon': 0.0016808067457769916}. Best is trial 1471 with value: -0.005673212500245352.\u001b[0m\n",
      "\u001b[32m[I 2021-06-25 14:13:05,936]\u001b[0m Trial 1918 finished with value: -0.005713555738350137 and parameters: {'kernel': 'rbf', 'C': 0.16515007092661482, 'gamma': 0.017198136638952356, 'epsilon': 0.0013895983571727353}. Best is trial 1471 with value: -0.005673212500245352.\u001b[0m\n",
      "\u001b[32m[I 2021-06-25 14:13:06,614]\u001b[0m Trial 1919 finished with value: -0.005751730498365156 and parameters: {'kernel': 'rbf', 'C': 0.24218100084318203, 'gamma': 0.024427383123435755, 'epsilon': 0.001127621852214024}. Best is trial 1471 with value: -0.005673212500245352.\u001b[0m\n",
      "\u001b[32m[I 2021-06-25 14:13:07,030]\u001b[0m Trial 1920 finished with value: -0.0057086623076628195 and parameters: {'kernel': 'rbf', 'C': 0.12746100882144085, 'gamma': 0.0214161159127958, 'epsilon': 0.0017185003125305325}. Best is trial 1471 with value: -0.005673212500245352.\u001b[0m\n",
      "\u001b[32m[I 2021-06-25 14:13:07,380]\u001b[0m Trial 1921 finished with value: -0.0057078945552126205 and parameters: {'kernel': 'rbf', 'C': 0.10800258656956972, 'gamma': 0.027609564332721343, 'epsilon': 0.002033092534427747}. Best is trial 1471 with value: -0.005673212500245352.\u001b[0m\n",
      "\u001b[32m[I 2021-06-25 14:13:08,027]\u001b[0m Trial 1922 finished with value: -0.005697169613560752 and parameters: {'kernel': 'rbf', 'C': 0.19036902235729072, 'gamma': 0.020130802211622934, 'epsilon': 0.0010019495558895954}. Best is trial 1471 with value: -0.005673212500245352.\u001b[0m\n",
      "\u001b[32m[I 2021-06-25 14:13:08,514]\u001b[0m Trial 1923 finished with value: -0.0058021944809937415 and parameters: {'kernel': 'rbf', 'C': 0.1451999106321553, 'gamma': 0.03958536533891554, 'epsilon': 0.0014768263152905776}. Best is trial 1471 with value: -0.005673212500245352.\u001b[0m\n",
      "\u001b[32m[I 2021-06-25 14:13:09,068]\u001b[0m Trial 1924 finished with value: -0.00568013724656482 and parameters: {'kernel': 'rbf', 'C': 0.1287577852714284, 'gamma': 0.02443245653453161, 'epsilon': 0.0012660846485474206}. Best is trial 1471 with value: -0.005673212500245352.\u001b[0m\n",
      "\u001b[32m[I 2021-06-25 14:13:09,560]\u001b[0m Trial 1925 finished with value: -0.005737610358569632 and parameters: {'kernel': 'rbf', 'C': 0.0857906631213191, 'gamma': 0.01671683597485105, 'epsilon': 0.001096540703877375}. Best is trial 1471 with value: -0.005673212500245352.\u001b[0m\n",
      "\u001b[32m[I 2021-06-25 14:13:10,077]\u001b[0m Trial 1926 finished with value: -0.005727000067075325 and parameters: {'kernel': 'rbf', 'C': 0.10126905568739875, 'gamma': 0.018239832958580726, 'epsilon': 0.0011065395163827752}. Best is trial 1471 with value: -0.005673212500245352.\u001b[0m\n",
      "\u001b[32m[I 2021-06-25 14:13:10,568]\u001b[0m Trial 1927 finished with value: -0.005685894448213181 and parameters: {'kernel': 'rbf', 'C': 0.09927974792328219, 'gamma': 0.02379812992227596, 'epsilon': 0.0012041647060747035}. Best is trial 1471 with value: -0.005673212500245352.\u001b[0m\n",
      "\u001b[32m[I 2021-06-25 14:13:11,062]\u001b[0m Trial 1928 finished with value: -0.005700257298264775 and parameters: {'kernel': 'rbf', 'C': 0.11186344480370129, 'gamma': 0.021998723657107495, 'epsilon': 0.0012775523402182526}. Best is trial 1471 with value: -0.005673212500245352.\u001b[0m\n",
      "\u001b[32m[I 2021-06-25 14:13:11,548]\u001b[0m Trial 1929 finished with value: -0.005728949945634076 and parameters: {'kernel': 'rbf', 'C': 0.09548078040108118, 'gamma': 0.018822405961376066, 'epsilon': 0.001136214919760124}. Best is trial 1471 with value: -0.005673212500245352.\u001b[0m\n",
      "\u001b[32m[I 2021-06-25 14:13:11,987]\u001b[0m Trial 1930 finished with value: -0.00573028258213699 and parameters: {'kernel': 'rbf', 'C': 0.07021399988613522, 'gamma': 0.025459703729353012, 'epsilon': 0.0012904844893239587}. Best is trial 1471 with value: -0.005673212500245352.\u001b[0m\n",
      "\u001b[32m[I 2021-06-25 14:13:12,493]\u001b[0m Trial 1931 finished with value: -0.005737633035101057 and parameters: {'kernel': 'rbf', 'C': 0.116778606579783, 'gamma': 0.014710280195215638, 'epsilon': 0.0011148445441315276}. Best is trial 1471 with value: -0.005673212500245352.\u001b[0m\n",
      "\u001b[32m[I 2021-06-25 14:13:12,907]\u001b[0m Trial 1932 finished with value: -0.005830879760260199 and parameters: {'kernel': 'rbf', 'C': 0.0888941587172009, 'gamma': 0.00830744654241005, 'epsilon': 0.0013253687412476413}. Best is trial 1471 with value: -0.005673212500245352.\u001b[0m\n",
      "\u001b[32m[I 2021-06-25 14:13:13,387]\u001b[0m Trial 1933 finished with value: -0.005697471013897371 and parameters: {'kernel': 'rbf', 'C': 0.12197541413689166, 'gamma': 0.021079294977182035, 'epsilon': 0.0014068055486877087}. Best is trial 1471 with value: -0.005673212500245352.\u001b[0m\n",
      "\u001b[32m[I 2021-06-25 14:13:13,801]\u001b[0m Trial 1934 finished with value: -0.005947122739910403 and parameters: {'kernel': 'rbf', 'C': 0.02781681864348408, 'gamma': 0.029697541972854347, 'epsilon': 0.0011162711414766826}. Best is trial 1471 with value: -0.005673212500245352.\u001b[0m\n",
      "\u001b[32m[I 2021-06-25 14:13:14,258]\u001b[0m Trial 1935 finished with value: -0.006399422983502471 and parameters: {'kernel': 'rbf', 'C': 0.07836408755132822, 'gamma': 0.14399732528758513, 'epsilon': 0.0012081562894891258}. Best is trial 1471 with value: -0.005673212500245352.\u001b[0m\n",
      "\u001b[32m[I 2021-06-25 14:13:14,725]\u001b[0m Trial 1936 finished with value: -0.005680314991752206 and parameters: {'kernel': 'rbf', 'C': 0.12858507295284483, 'gamma': 0.02397162277908035, 'epsilon': 0.0015115457249984356}. Best is trial 1471 with value: -0.005673212500245352.\u001b[0m\n",
      "\u001b[32m[I 2021-06-25 14:13:15,062]\u001b[0m Trial 1937 finished with value: -0.005724407253817887 and parameters: {'kernel': 'rbf', 'C': 0.10263966438364992, 'gamma': 0.02755896838193075, 'epsilon': 0.0022863384530347128}. Best is trial 1471 with value: -0.005673212500245352.\u001b[0m\n",
      "\u001b[32m[I 2021-06-25 14:13:15,614]\u001b[0m Trial 1938 finished with value: -0.006371117686080808 and parameters: {'kernel': 'poly', 'C': 0.10759692717666117, 'gamma': 0.03408715212758988, 'epsilon': 0.0018565029806398546}. Best is trial 1471 with value: -0.005673212500245352.\u001b[0m\n",
      "\u001b[32m[I 2021-06-25 14:13:16,006]\u001b[0m Trial 1939 finished with value: -0.005710990065195924 and parameters: {'kernel': 'rbf', 'C': 0.0881279028891056, 'gamma': 0.024866894585165264, 'epsilon': 0.0016480653560920185}. Best is trial 1471 with value: -0.005673212500245352.\u001b[0m\n"
     ]
    },
    {
     "name": "stderr",
     "output_type": "stream",
     "text": [
      "\u001b[32m[I 2021-06-25 14:13:16,360]\u001b[0m Trial 1940 finished with value: -0.005735781613848635 and parameters: {'kernel': 'rbf', 'C': 0.1087550254695402, 'gamma': 0.02012880168314098, 'epsilon': 0.0019011557902215849}. Best is trial 1471 with value: -0.005673212500245352.\u001b[0m\n",
      "\u001b[32m[I 2021-06-25 14:13:16,768]\u001b[0m Trial 1941 finished with value: -0.007165448437097156 and parameters: {'kernel': 'rbf', 'C': 0.12029330755780784, 'gamma': 0.35242229724213514, 'epsilon': 0.0016097606195667432}. Best is trial 1471 with value: -0.005673212500245352.\u001b[0m\n",
      "\u001b[32m[I 2021-06-25 14:13:17,189]\u001b[0m Trial 1942 finished with value: -0.0057063259201921 and parameters: {'kernel': 'rbf', 'C': 0.1012998149492895, 'gamma': 0.03182021435644034, 'epsilon': 0.0015588532969121175}. Best is trial 1471 with value: -0.005673212500245352.\u001b[0m\n",
      "\u001b[32m[I 2021-06-25 14:13:17,598]\u001b[0m Trial 1943 finished with value: -0.005698518851747638 and parameters: {'kernel': 'rbf', 'C': 0.12292372241787215, 'gamma': 0.026536561490686682, 'epsilon': 0.0018459386595535263}. Best is trial 1471 with value: -0.005673212500245352.\u001b[0m\n",
      "\u001b[32m[I 2021-06-25 14:13:18,047]\u001b[0m Trial 1944 finished with value: -0.005695941590524451 and parameters: {'kernel': 'rbf', 'C': 0.11828146691376337, 'gamma': 0.02250678159779839, 'epsilon': 0.001516808890819043}. Best is trial 1471 with value: -0.005673212500245352.\u001b[0m\n",
      "\u001b[32m[I 2021-06-25 14:13:18,563]\u001b[0m Trial 1945 finished with value: -0.005735659920300922 and parameters: {'kernel': 'rbf', 'C': 0.09191450616021432, 'gamma': 0.018743425975769442, 'epsilon': 0.0010004477943901368}. Best is trial 1471 with value: -0.005673212500245352.\u001b[0m\n",
      "\u001b[32m[I 2021-06-25 14:13:18,917]\u001b[0m Trial 1946 finished with value: -0.005706402864779972 and parameters: {'kernel': 'rbf', 'C': 0.12947373637064993, 'gamma': 0.023808051052957687, 'epsilon': 0.0020964859965423694}. Best is trial 1471 with value: -0.005673212500245352.\u001b[0m\n",
      "\u001b[32m[I 2021-06-25 14:13:19,309]\u001b[0m Trial 1947 finished with value: -0.005717857813285131 and parameters: {'kernel': 'rbf', 'C': 0.10831949110099409, 'gamma': 0.029413755069233376, 'epsilon': 0.001810858527726001}. Best is trial 1471 with value: -0.005673212500245352.\u001b[0m\n",
      "\u001b[32m[I 2021-06-25 14:13:19,543]\u001b[0m Trial 1948 finished with value: -0.005844484430151126 and parameters: {'kernel': 'rbf', 'C': 0.12969279711290516, 'gamma': 0.021083506649261254, 'epsilon': 0.0037247064946081565}. Best is trial 1471 with value: -0.005673212500245352.\u001b[0m\n",
      "\u001b[32m[I 2021-06-25 14:13:19,837]\u001b[0m Trial 1949 finished with value: -0.0057616435365712 and parameters: {'kernel': 'rbf', 'C': 0.11642053110124714, 'gamma': 0.02643326406094606, 'epsilon': 0.002913266245130595}. Best is trial 1471 with value: -0.005673212500245352.\u001b[0m\n",
      "\u001b[32m[I 2021-06-25 14:13:20,302]\u001b[0m Trial 1950 finished with value: -0.005734028339139732 and parameters: {'kernel': 'rbf', 'C': 0.13300199027147588, 'gamma': 0.016815006343267574, 'epsilon': 0.0014717969586466458}. Best is trial 1471 with value: -0.005673212500245352.\u001b[0m\n",
      "\u001b[32m[I 2021-06-25 14:13:20,607]\u001b[0m Trial 1951 finished with value: -0.00573558062036103 and parameters: {'kernel': 'rbf', 'C': 0.0946030185023732, 'gamma': 0.03577638664755857, 'epsilon': 0.0024477480083162197}. Best is trial 1471 with value: -0.005673212500245352.\u001b[0m\n",
      "\u001b[32m[I 2021-06-25 14:13:21,036]\u001b[0m Trial 1952 finished with value: -0.005707940702307142 and parameters: {'kernel': 'rbf', 'C': 0.11015944004844043, 'gamma': 0.02308516998794509, 'epsilon': 0.0016725400675233035}. Best is trial 1471 with value: -0.005673212500245352.\u001b[0m\n",
      "\u001b[32m[I 2021-06-25 14:13:21,483]\u001b[0m Trial 1953 finished with value: -0.005719390733909689 and parameters: {'kernel': 'rbf', 'C': 0.07752386078988717, 'gamma': 0.030899079602133804, 'epsilon': 0.0013951965904559747}. Best is trial 1471 with value: -0.005673212500245352.\u001b[0m\n",
      "\u001b[32m[I 2021-06-25 14:13:21,903]\u001b[0m Trial 1954 finished with value: -0.005699448786530122 and parameters: {'kernel': 'rbf', 'C': 0.1338584233846022, 'gamma': 0.026065407603321444, 'epsilon': 0.0021235776201380513}. Best is trial 1471 with value: -0.005673212500245352.\u001b[0m\n",
      "\u001b[32m[I 2021-06-25 14:13:22,444]\u001b[0m Trial 1955 finished with value: -0.005704470691914726 and parameters: {'kernel': 'rbf', 'C': 0.1201679951896705, 'gamma': 0.02122732388778767, 'epsilon': 0.0013039305483176498}. Best is trial 1471 with value: -0.005673212500245352.\u001b[0m\n",
      "\u001b[32m[I 2021-06-25 14:13:23,201]\u001b[0m Trial 1956 finished with value: -0.005733149771567771 and parameters: {'kernel': 'rbf', 'C': 0.13245511769823956, 'gamma': 0.01841202360526035, 'epsilon': 0.001000240964221865}. Best is trial 1471 with value: -0.005673212500245352.\u001b[0m\n",
      "\u001b[32m[I 2021-06-25 14:13:23,659]\u001b[0m Trial 1957 finished with value: -0.005679260802935469 and parameters: {'kernel': 'rbf', 'C': 0.14079266667210888, 'gamma': 0.024300326029733862, 'epsilon': 0.0015757776139466637}. Best is trial 1471 with value: -0.005673212500245352.\u001b[0m\n",
      "\u001b[32m[I 2021-06-25 14:13:24,101]\u001b[0m Trial 1958 finished with value: -0.005689420458582856 and parameters: {'kernel': 'rbf', 'C': 0.09933052412997402, 'gamma': 0.02371577634582393, 'epsilon': 0.001489675012381412}. Best is trial 1471 with value: -0.005673212500245352.\u001b[0m\n",
      "\u001b[32m[I 2021-06-25 14:13:26,449]\u001b[0m Trial 1959 finished with value: -0.006378364982753302 and parameters: {'kernel': 'rbf', 'C': 4.029587147836074, 'gamma': 0.027755926461657303, 'epsilon': 0.0017139539716124245}. Best is trial 1471 with value: -0.005673212500245352.\u001b[0m\n",
      "\u001b[32m[I 2021-06-25 14:13:27,010]\u001b[0m Trial 1960 finished with value: -0.005722882467829271 and parameters: {'kernel': 'rbf', 'C': 0.11113620999120591, 'gamma': 0.01990545442144719, 'epsilon': 0.0012564847431343607}. Best is trial 1471 with value: -0.005673212500245352.\u001b[0m\n",
      "\u001b[32m[I 2021-06-25 14:13:27,423]\u001b[0m Trial 1961 finished with value: -0.005749130685026447 and parameters: {'kernel': 'rbf', 'C': 0.08800178573142806, 'gamma': 0.01604652184249373, 'epsilon': 0.0014880604425049724}. Best is trial 1471 with value: -0.005673212500245352.\u001b[0m\n",
      "\u001b[32m[I 2021-06-25 14:13:27,812]\u001b[0m Trial 1962 finished with value: -0.005701542733096528 and parameters: {'kernel': 'rbf', 'C': 0.10216880256139424, 'gamma': 0.03070190871669162, 'epsilon': 0.001834462325669588}. Best is trial 1471 with value: -0.005673212500245352.\u001b[0m\n",
      "\u001b[32m[I 2021-06-25 14:13:28,320]\u001b[0m Trial 1963 finished with value: -0.0056908146548322255 and parameters: {'kernel': 'rbf', 'C': 0.11966985182608142, 'gamma': 0.02273542980927031, 'epsilon': 0.0013545150233387811}. Best is trial 1471 with value: -0.005673212500245352.\u001b[0m\n",
      "\u001b[32m[I 2021-06-25 14:13:29,129]\u001b[0m Trial 1964 finished with value: -0.006362334921753623 and parameters: {'kernel': 'poly', 'C': 0.13567766048109303, 'gamma': 0.027676465961871493, 'epsilon': 0.0010017415987847583}. Best is trial 1471 with value: -0.005673212500245352.\u001b[0m\n",
      "\u001b[32m[I 2021-06-25 14:13:29,574]\u001b[0m Trial 1965 finished with value: -0.0056952979588845674 and parameters: {'kernel': 'rbf', 'C': 0.1182064314350836, 'gamma': 0.02453523659366194, 'epsilon': 0.0016245571157664708}. Best is trial 1471 with value: -0.005673212500245352.\u001b[0m\n",
      "\u001b[32m[I 2021-06-25 14:13:30,120]\u001b[0m Trial 1966 finished with value: -0.005706641755842283 and parameters: {'kernel': 'rbf', 'C': 0.13469298871642535, 'gamma': 0.019693207448251423, 'epsilon': 0.0012901325453773184}. Best is trial 1471 with value: -0.005673212500245352.\u001b[0m\n",
      "\u001b[32m[I 2021-06-25 14:13:30,544]\u001b[0m Trial 1967 finished with value: -0.005712915767537877 and parameters: {'kernel': 'rbf', 'C': 0.10459235324581997, 'gamma': 0.02180257510434152, 'epsilon': 0.0015317697694890247}. Best is trial 1471 with value: -0.005673212500245352.\u001b[0m\n",
      "\u001b[32m[I 2021-06-25 14:13:30,925]\u001b[0m Trial 1968 finished with value: -0.005733669588089393 and parameters: {'kernel': 'rbf', 'C': 0.14235868095188917, 'gamma': 0.033704349525159535, 'epsilon': 0.0020442154513292403}. Best is trial 1471 with value: -0.005673212500245352.\u001b[0m\n",
      "\u001b[32m[I 2021-06-25 14:13:31,458]\u001b[0m Trial 1969 finished with value: -0.005698363541616236 and parameters: {'kernel': 'rbf', 'C': 0.11999121200017585, 'gamma': 0.02549535438645969, 'epsilon': 0.0011559191210987613}. Best is trial 1471 with value: -0.005673212500245352.\u001b[0m\n"
     ]
    },
    {
     "name": "stderr",
     "output_type": "stream",
     "text": [
      "\u001b[32m[I 2021-06-25 14:13:31,803]\u001b[0m Trial 1970 finished with value: -0.005787538964915362 and parameters: {'kernel': 'rbf', 'C': 0.08266055382137977, 'gamma': 0.014161294280867407, 'epsilon': 0.0017691571690315942}. Best is trial 1471 with value: -0.005673212500245352.\u001b[0m\n",
      "\u001b[32m[I 2021-06-25 14:13:32,296]\u001b[0m Trial 1971 finished with value: -0.005712370212090017 and parameters: {'kernel': 'rbf', 'C': 0.14083910584398257, 'gamma': 0.018406235560636454, 'epsilon': 0.0014059444962152916}. Best is trial 1471 with value: -0.005673212500245352.\u001b[0m\n",
      "\u001b[32m[I 2021-06-25 14:13:32,836]\u001b[0m Trial 1972 finished with value: -0.005714383304738791 and parameters: {'kernel': 'rbf', 'C': 0.09411796619785216, 'gamma': 0.02997259385286839, 'epsilon': 0.001005740149036818}. Best is trial 1471 with value: -0.005673212500245352.\u001b[0m\n",
      "\u001b[32m[I 2021-06-25 14:13:33,342]\u001b[0m Trial 1973 finished with value: -0.005712769889417049 and parameters: {'kernel': 'rbf', 'C': 0.10772264774195027, 'gamma': 0.0213980194635339, 'epsilon': 0.0012220460357139314}. Best is trial 1471 with value: -0.005673212500245352.\u001b[0m\n",
      "\u001b[32m[I 2021-06-25 14:13:33,798]\u001b[0m Trial 1974 finished with value: -0.0057652640670685885 and parameters: {'kernel': 'rbf', 'C': 0.12449834615797359, 'gamma': 0.03948429359237124, 'epsilon': 0.0015946310428380539}. Best is trial 1471 with value: -0.005673212500245352.\u001b[0m\n",
      "\u001b[32m[I 2021-06-25 14:13:34,303]\u001b[0m Trial 1975 finished with value: -0.0056914834154708415 and parameters: {'kernel': 'rbf', 'C': 0.14309503171191323, 'gamma': 0.02569787109713475, 'epsilon': 0.0014561162938905971}. Best is trial 1471 with value: -0.005673212500245352.\u001b[0m\n",
      "\u001b[32m[I 2021-06-25 14:13:34,633]\u001b[0m Trial 1976 finished with value: -0.005715842051862426 and parameters: {'kernel': 'rbf', 'C': 0.1230624799191791, 'gamma': 0.0237882808405917, 'epsilon': 0.002332712837618923}. Best is trial 1471 with value: -0.005673212500245352.\u001b[0m\n",
      "\u001b[32m[I 2021-06-25 14:13:35,034]\u001b[0m Trial 1977 finished with value: -0.005699720877604244 and parameters: {'kernel': 'rbf', 'C': 0.14396395435945566, 'gamma': 0.028360230550054422, 'epsilon': 0.001876511737348446}. Best is trial 1471 with value: -0.005673212500245352.\u001b[0m\n",
      "\u001b[32m[I 2021-06-25 14:13:35,495]\u001b[0m Trial 1978 finished with value: -0.0057443726733113105 and parameters: {'kernel': 'rbf', 'C': 0.10912026294371246, 'gamma': 0.01654522930233937, 'epsilon': 0.0012297510190937108}. Best is trial 1471 with value: -0.005673212500245352.\u001b[0m\n",
      "\u001b[32m[I 2021-06-25 14:13:35,936]\u001b[0m Trial 1979 finished with value: -0.0057169166675365935 and parameters: {'kernel': 'rbf', 'C': 0.1371756431214473, 'gamma': 0.020339916889557125, 'epsilon': 0.001705021615347445}. Best is trial 1471 with value: -0.005673212500245352.\u001b[0m\n",
      "\u001b[32m[I 2021-06-25 14:13:36,388]\u001b[0m Trial 1980 finished with value: -0.005722369785341133 and parameters: {'kernel': 'rbf', 'C': 0.09550808860017929, 'gamma': 0.03391805837376128, 'epsilon': 0.001419550136710177}. Best is trial 1471 with value: -0.005673212500245352.\u001b[0m\n",
      "\u001b[32m[I 2021-06-25 14:13:36,928]\u001b[0m Trial 1981 finished with value: -0.005697918607946607 and parameters: {'kernel': 'rbf', 'C': 0.12287248307081057, 'gamma': 0.023849133494374453, 'epsilon': 0.0011568686836415736}. Best is trial 1471 with value: -0.005673212500245352.\u001b[0m\n",
      "\u001b[32m[I 2021-06-25 14:13:37,396]\u001b[0m Trial 1982 finished with value: -0.00570144276844457 and parameters: {'kernel': 'rbf', 'C': 0.15220677533418978, 'gamma': 0.018255136392028387, 'epsilon': 0.0015786028304878193}. Best is trial 1471 with value: -0.005673212500245352.\u001b[0m\n",
      "\u001b[32m[I 2021-06-25 14:13:37,886]\u001b[0m Trial 1983 finished with value: -0.005695145797914238 and parameters: {'kernel': 'rbf', 'C': 0.10942493102152694, 'gamma': 0.028634059578109557, 'epsilon': 0.001349564072762075}. Best is trial 1471 with value: -0.005673212500245352.\u001b[0m\n",
      "\u001b[32m[I 2021-06-25 14:13:38,470]\u001b[0m Trial 1984 finished with value: -0.005703046860687021 and parameters: {'kernel': 'rbf', 'C': 0.13575861686393478, 'gamma': 0.02147838859137644, 'epsilon': 0.0010004264722268488}. Best is trial 1471 with value: -0.005673212500245352.\u001b[0m\n",
      "\u001b[32m[I 2021-06-25 14:13:39,088]\u001b[0m Trial 1985 finished with value: -0.005717226138751186 and parameters: {'kernel': 'rbf', 'C': 0.15026670540332251, 'gamma': 0.026854576377011156, 'epsilon': 0.0010032846247483033}. Best is trial 1471 with value: -0.005673212500245352.\u001b[0m\n",
      "\u001b[32m[I 2021-06-25 14:13:39,482]\u001b[0m Trial 1986 finished with value: -0.005690197537704156 and parameters: {'kernel': 'rbf', 'C': 0.12424097478529866, 'gamma': 0.02458063390878178, 'epsilon': 0.0018319785851747506}. Best is trial 1471 with value: -0.005673212500245352.\u001b[0m\n",
      "\u001b[32m[I 2021-06-25 14:13:39,817]\u001b[0m Trial 1987 finished with value: -0.00570853875442926 and parameters: {'kernel': 'rbf', 'C': 0.10538855895063659, 'gamma': 0.03156306373437268, 'epsilon': 0.0020696161931322557}. Best is trial 1471 with value: -0.005673212500245352.\u001b[0m\n",
      "\u001b[32m[I 2021-06-25 14:13:40,351]\u001b[0m Trial 1988 finished with value: -0.005699201816096869 and parameters: {'kernel': 'rbf', 'C': 0.1494645206503179, 'gamma': 0.0209866409112985, 'epsilon': 0.0012566892704772704}. Best is trial 1471 with value: -0.005673212500245352.\u001b[0m\n",
      "\u001b[32m[I 2021-06-25 14:13:40,417]\u001b[0m Trial 1989 finished with value: -0.04522358590646345 and parameters: {'kernel': 'rbf', 'C': 0.1271225164072497, 'gamma': 0.023224381929813454, 'epsilon': 0.24792158169332718}. Best is trial 1471 with value: -0.005673212500245352.\u001b[0m\n",
      "\u001b[32m[I 2021-06-25 14:13:40,814]\u001b[0m Trial 1990 finished with value: -0.005738959837840452 and parameters: {'kernel': 'rbf', 'C': 0.08964111731697541, 'gamma': 0.018564383281405757, 'epsilon': 0.0015315500736946752}. Best is trial 1471 with value: -0.005673212500245352.\u001b[0m\n",
      "\u001b[32m[I 2021-06-25 14:13:41,316]\u001b[0m Trial 1991 finished with value: -0.005686816246545374 and parameters: {'kernel': 'rbf', 'C': 0.15121763357735665, 'gamma': 0.0265032426604323, 'epsilon': 0.0014046546474229713}. Best is trial 1471 with value: -0.005673212500245352.\u001b[0m\n",
      "\u001b[32m[I 2021-06-25 14:13:41,914]\u001b[0m Trial 1992 finished with value: -0.006349733991026173 and parameters: {'kernel': 'poly', 'C': 0.11467714397686983, 'gamma': 0.030640728413175812, 'epsilon': 0.0017101272912610455}. Best is trial 1471 with value: -0.005673212500245352.\u001b[0m\n",
      "\u001b[32m[I 2021-06-25 14:13:42,487]\u001b[0m Trial 1993 finished with value: -0.005770836607258301 and parameters: {'kernel': 'rbf', 'C': 0.1280068711412819, 'gamma': 0.03658078325850815, 'epsilon': 0.0011250396742866332}. Best is trial 1471 with value: -0.005673212500245352.\u001b[0m\n",
      "\u001b[32m[I 2021-06-25 14:13:43,006]\u001b[0m Trial 1994 finished with value: -0.005739700008820369 and parameters: {'kernel': 'rbf', 'C': 0.1521024605706473, 'gamma': 0.015562267942056795, 'epsilon': 0.0012843383844169073}. Best is trial 1471 with value: -0.005673212500245352.\u001b[0m\n",
      "\u001b[32m[I 2021-06-25 14:13:43,433]\u001b[0m Trial 1995 finished with value: -0.0057155023881377 and parameters: {'kernel': 'rbf', 'C': 0.10448266465747483, 'gamma': 0.022402542259171713, 'epsilon': 0.0016194021084914663}. Best is trial 1471 with value: -0.005673212500245352.\u001b[0m\n",
      "\u001b[32m[I 2021-06-25 14:13:43,784]\u001b[0m Trial 1996 finished with value: -0.005737364709930567 and parameters: {'kernel': 'rbf', 'C': 0.13198938430596252, 'gamma': 0.019457247261576514, 'epsilon': 0.0021624923421532287}. Best is trial 1471 with value: -0.005673212500245352.\u001b[0m\n",
      "\u001b[32m[I 2021-06-25 14:13:44,297]\u001b[0m Trial 1997 finished with value: -0.0056913728509507275 and parameters: {'kernel': 'rbf', 'C': 0.1521674035834503, 'gamma': 0.02606809897942751, 'epsilon': 0.001362116165254648}. Best is trial 1471 with value: -0.005673212500245352.\u001b[0m\n",
      "\u001b[32m[I 2021-06-25 14:13:44,666]\u001b[0m Trial 1998 finished with value: -0.005712174446704031 and parameters: {'kernel': 'rbf', 'C': 0.11531940010657575, 'gamma': 0.022464181575489725, 'epsilon': 0.0019003896663155326}. Best is trial 1471 with value: -0.005673212500245352.\u001b[0m\n",
      "\u001b[32m[I 2021-06-25 14:13:45,235]\u001b[0m Trial 1999 finished with value: -0.005712751397136391 and parameters: {'kernel': 'rbf', 'C': 0.13241611968514622, 'gamma': 0.027954494143877184, 'epsilon': 0.0011228359348572125}. Best is trial 1471 with value: -0.005673212500245352.\u001b[0m\n"
     ]
    },
    {
     "name": "stdout",
     "output_type": "stream",
     "text": [
      "Wall time: 19min 15s\n"
     ]
    }
   ],
   "source": [
    "%%time\n",
    "# pass the objective function to method optimize()\n",
    "\n",
    "study_nl_svm_all.optimize(objective, n_trials=2000)"
   ]
  },
  {
   "cell_type": "code",
   "execution_count": 72,
   "metadata": {
    "scrolled": false
   },
   "outputs": [
    {
     "name": "stdout",
     "output_type": "stream",
     "text": [
      "{'kernel': 'rbf', 'C': 0.14784953519746086, 'gamma': 0.025548599370524356, 'epsilon': 0.0016058809956497162}\n"
     ]
    }
   ],
   "source": [
    "print(study_nl_svm_all.best_params)"
   ]
  },
  {
   "cell_type": "code",
   "execution_count": 73,
   "metadata": {},
   "outputs": [
    {
     "name": "stdout",
     "output_type": "stream",
     "text": [
      "0.005673212500245352\n"
     ]
    }
   ],
   "source": [
    "print(-study_nl_svm_all.best_value)"
   ]
  },
  {
   "cell_type": "code",
   "execution_count": 74,
   "metadata": {
    "scrolled": true
   },
   "outputs": [
    {
     "name": "stdout",
     "output_type": "stream",
     "text": [
      "Cross validation scores\n",
      "Cross-validation RMSE\n",
      "Scores: [0.0064026541 0.0054019905 0.0052149929]\n",
      "Mean: 0.005673212500245352\n",
      "Standard deviation: 0.0005214120679179681\n",
      "\n",
      "Cross-validation adjR2\n",
      "Scores: [0.5427940247 0.4571109486 0.6191301042]\n",
      "Mean: 0.5396783591595875\n",
      "Standard deviation: 0.06618072341721398\n",
      "\n",
      "\n",
      "Scores on training set\n",
      "RMSE score: 0.004758352054788734\n",
      "Adjusted R2 score: 0.6895064114592311\n"
     ]
    }
   ],
   "source": [
    "nl_svm_all = SVR(degree=2).set_params(**study_nl_svm_all.best_params)\n",
    "test_regressor(nl_svm_all, dataset_prepared_stand, dataset_labels)"
   ]
  },
  {
   "cell_type": "code",
   "execution_count": 75,
   "metadata": {},
   "outputs": [
    {
     "data": {
      "image/png": "[encoded data removed]",
      "text/plain": [
       "<Figure size 432x288 with 1 Axes>"
      ]
     },
     "metadata": {
      "needs_background": "light"
     },
     "output_type": "display_data"
    }
   ],
   "source": [
    "plot_learning_curves(nl_svm_all, dataset_prepared_stand, dataset_labels)"
   ]
  },
  {
   "cell_type": "markdown",
   "metadata": {},
   "source": [
    "### Export model"
   ]
  },
  {
   "cell_type": "code",
   "execution_count": 78,
   "metadata": {
    "scrolled": false
   },
   "outputs": [],
   "source": [
    "ml_model = nl_svm_all\n",
    "feats = features\n",
    "pipeline = transformation_pipeline"
   ]
  },
  {
   "cell_type": "markdown",
   "metadata": {},
   "source": [
    "#### For ABM"
   ]
  },
  {
   "cell_type": "code",
   "execution_count": 67,
   "metadata": {},
   "outputs": [],
   "source": [
    "import csv\n",
    "from numpy import savetxt \n",
    "\n",
    "def export_model_for_abm(ml_model, feats, pipeline, folder_path):\n",
    "    scaler = StandardScaler() # Needs to be instantiated to be passed to the ABM if not fit in its initialization\n",
    "    dataset_only_transf = pipeline.fit_transform(dataset) ##\n",
    "    scaler.fit(dataset_only_transf)\n",
    "    model_for_abm = Pipeline([\n",
    "        (\"scaling\", scaler),\n",
    "        (\"regressor\", ml_model)\n",
    "    ])\n",
    "    joblib.dump(model_for_abm, os.path.join(folder_path, 'model.pkl'))\n",
    "    # Check\n",
    "    print(model_for_abm.predict(dataset_only_transf[0, :].reshape(1, -1))[0])\n",
    "    \n",
    "    #Export features name\n",
    "    with open(os.path.join(folder_path, 'features.csv'), \"w+\") as file:\n",
    "        wr = csv.writer(file)\n",
    "        wr.writerow(feats)\n",
    "    \n",
    "    savetxt(os.path.join(folder_path, 'dataset.csv'), dataset_only_transf, delimiter=',')\n",
    "    savetxt(os.path.join(folder_path, 'labels.csv'), dataset_labels.values,  delimiter=',') ##"
   ]
  },
  {
   "cell_type": "code",
   "execution_count": 80,
   "metadata": {},
   "outputs": [],
   "source": [
    "folder_path = './Models for ABM/all_adoption/regressor'"
   ]
  },
  {
   "cell_type": "code",
   "execution_count": 81,
   "metadata": {},
   "outputs": [
    {
     "name": "stdout",
     "output_type": "stream",
     "text": [
      "0.0018124758813949197\n"
     ]
    }
   ],
   "source": [
    "export_model_for_abm(ml_model, feats, pipeline, folder_path)"
   ]
  },
  {
   "cell_type": "markdown",
   "metadata": {},
   "source": [
    "#### For model analysis"
   ]
  },
  {
   "cell_type": "code",
   "execution_count": null,
   "metadata": {},
   "outputs": [],
   "source": [
    "joblib.dump(ml_model, './Models to analyse/all_adoption/regressor/nl_svm.pkl')"
   ]
  }
 ],
 "metadata": {
  "kernelspec": {
   "display_name": "data_analysis",
   "language": "python",
   "name": "data_analysis"
  },
  "language_info": {
   "codemirror_mode": {
    "name": "ipython",
    "version": 3
   },
   "file_extension": ".py",
   "mimetype": "text/x-python",
   "name": "python",
   "nbconvert_exporter": "python",
   "pygments_lexer": "ipython3",
   "version": "3.7.9"
  }
 },
 "nbformat": 4,
 "nbformat_minor": 4
}
