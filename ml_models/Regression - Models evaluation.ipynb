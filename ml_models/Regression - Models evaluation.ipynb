{
 "cells": [
  {
   "cell_type": "markdown",
   "metadata": {},
   "source": [
    "## Content\n",
    "* Data ingestion\n",
    "    * Remove outliers\n",
    "    * Remove adoption features not in ABM\n",
    "    * Data splitting for CV\n",
    "* Features preparation\n",
    "    * Pipeline preparation\n",
    "    * Features names collection\n",
    "* Model selection\n",
    "    * Functions for models results\n",
    "    * Functions for models' error analyis\n",
    "    * Models training\n",
    "    * Results\n",
    "* Final models tuning and training"
   ]
  },
  {
   "cell_type": "code",
   "execution_count": 1,
   "metadata": {},
   "outputs": [],
   "source": [
    "import numpy as np\n",
    "import pandas as pd\n",
    "import math\n",
    "import joblib\n",
    "import os"
   ]
  },
  {
   "cell_type": "code",
   "execution_count": 2,
   "metadata": {},
   "outputs": [
    {
     "data": {
      "text/plain": [
       "<module 'custom_transformers' from 'C:\\\\Users\\\\giaco\\\\sbp-adoption-abm-operational\\\\ml_models\\\\custom_transformers.py'>"
      ]
     },
     "execution_count": 2,
     "metadata": {},
     "output_type": "execute_result"
    }
   ],
   "source": [
    "import custom_transformers\n",
    "from importlib import reload\n",
    "reload(custom_transformers)"
   ]
  },
  {
   "cell_type": "code",
   "execution_count": 3,
   "metadata": {},
   "outputs": [],
   "source": [
    "from custom_transformers import (\n",
    "    TransformAdoptionFeatures,\n",
    "    TransformCensusFeatures, \n",
    "    TransformClimateFeatures,\n",
    "    TransformSoilFeatures,\n",
    "    TransformEconomicFeatures,\n",
    ")"
   ]
  },
  {
   "cell_type": "code",
   "execution_count": 4,
   "metadata": {},
   "outputs": [],
   "source": [
    "# For plotting\n",
    "%matplotlib inline\n",
    "import matplotlib as mpl\n",
    "import matplotlib.pyplot as plt\n",
    "mpl.rc('axes', labelsize=14)\n",
    "mpl.rc('xtick', labelsize=12)\n",
    "mpl.rc('ytick', labelsize=12)"
   ]
  },
  {
   "cell_type": "code",
   "execution_count": 5,
   "metadata": {},
   "outputs": [],
   "source": [
    "# Where to save the figures\n",
    "PROJECT_ROOT_DIR = \".\"\n",
    "IMAGES_PATH = os.path.join(PROJECT_ROOT_DIR, \"images\")\n",
    "os.makedirs(IMAGES_PATH, exist_ok=True)\n",
    "\n",
    "def save_fig(fig_id, tight_layout=True, fig_extension=\"jpeg\", resolution=300):\n",
    "    path = os.path.join(IMAGES_PATH, fig_id + \".\" + fig_extension)\n",
    "    print(\"Saving figure\", fig_id)\n",
    "    if tight_layout:\n",
    "        plt.tight_layout()\n",
    "    plt.savefig(path, format=fig_extension, dpi=resolution)"
   ]
  },
  {
   "cell_type": "code",
   "execution_count": 6,
   "metadata": {},
   "outputs": [],
   "source": [
    " # How to display floats\n",
    "pd.options.display.float_format = '{:.6f}'.format\n",
    "np.set_printoptions(precision=10)"
   ]
  },
  {
   "cell_type": "markdown",
   "metadata": {},
   "source": [
    "# Data ingestion"
   ]
  },
  {
   "cell_type": "code",
   "execution_count": 7,
   "metadata": {},
   "outputs": [],
   "source": [
    "path_to_dataset = \"Municipalities final dataset for analysis.csv\""
   ]
  },
  {
   "cell_type": "code",
   "execution_count": 8,
   "metadata": {},
   "outputs": [],
   "source": [
    "dataset_original = pd.read_csv(path_to_dataset, index_col=['Municipality', 'Year'])"
   ]
  },
  {
   "cell_type": "code",
   "execution_count": 9,
   "metadata": {},
   "outputs": [
    {
     "name": "stdout",
     "output_type": "stream",
     "text": [
      "MultiIndex([('Alcochete', 2010),\n",
      "            ('Alcochete', 2011),\n",
      "            ('Alcochete', 2012)],\n",
      "           names=['Municipality', 'Year'])\n"
     ]
    }
   ],
   "source": [
    "# Remove outliers adoption_in_year\n",
    "outliers = dataset_original.loc[dataset_original['adoption_in_year'] > 0.12].index\n",
    "dataset_original = dataset_original.drop(outliers)\n",
    "print(outliers)"
   ]
  },
  {
   "cell_type": "code",
   "execution_count": 10,
   "metadata": {},
   "outputs": [
    {
     "data": {
      "text/plain": [
       "(1238, 45)"
      ]
     },
     "execution_count": 10,
     "metadata": {},
     "output_type": "execute_result"
    }
   ],
   "source": [
    "dataset_original.shape"
   ]
  },
  {
   "cell_type": "code",
   "execution_count": 11,
   "metadata": {},
   "outputs": [],
   "source": [
    "dataset = dataset_original.reset_index(drop=True)"
   ]
  },
  {
   "cell_type": "markdown",
   "metadata": {},
   "source": [
    "### Create a mapping of each new instance to municipality and year it's referring to"
   ]
  },
  {
   "cell_type": "code",
   "execution_count": 12,
   "metadata": {},
   "outputs": [],
   "source": [
    "map_instances_to_munic_year = dict(zip(dataset.index, dataset_original.index))"
   ]
  },
  {
   "cell_type": "markdown",
   "metadata": {},
   "source": [
    "## Final number of instances and features"
   ]
  },
  {
   "cell_type": "code",
   "execution_count": 13,
   "metadata": {
    "scrolled": true
   },
   "outputs": [
    {
     "data": {
      "text/plain": [
       "(1238, 45)"
      ]
     },
     "execution_count": 13,
     "metadata": {},
     "output_type": "execute_result"
    }
   ],
   "source": [
    "dataset.shape"
   ]
  },
  {
   "cell_type": "markdown",
   "metadata": {},
   "source": [
    "## Copy the data splitting label and features"
   ]
  },
  {
   "cell_type": "code",
   "execution_count": 14,
   "metadata": {},
   "outputs": [],
   "source": [
    "dataset_labels = dataset['adoption_in_year'].copy()\n",
    "dataset = dataset.drop('adoption_in_year', axis=1)"
   ]
  },
  {
   "cell_type": "code",
   "execution_count": 15,
   "metadata": {},
   "outputs": [
    {
     "data": {
      "text/plain": [
       "count   1238.000000\n",
       "mean       0.005416\n",
       "std        0.007733\n",
       "min        0.000000\n",
       "25%        0.001189\n",
       "50%        0.002468\n",
       "75%        0.006698\n",
       "max        0.086224\n",
       "Name: adoption_in_year, dtype: float64"
      ]
     },
     "execution_count": 15,
     "metadata": {},
     "output_type": "execute_result"
    }
   ],
   "source": [
    "dataset_labels.describe()"
   ]
  },
  {
   "cell_type": "markdown",
   "metadata": {},
   "source": [
    "## Split for cross-validation"
   ]
  },
  {
   "cell_type": "markdown",
   "metadata": {},
   "source": [
    "Split used in all the cross-validation, stratified based on the number of data points before the PCF project and during it"
   ]
  },
  {
   "cell_type": "code",
   "execution_count": 16,
   "metadata": {},
   "outputs": [],
   "source": [
    "from sklearn.model_selection import StratifiedKFold, PredefinedSplit"
   ]
  },
  {
   "cell_type": "markdown",
   "metadata": {},
   "source": [
    "First, generate the feature to split, the year of the instance"
   ]
  },
  {
   "cell_type": "code",
   "execution_count": 17,
   "metadata": {},
   "outputs": [],
   "source": [
    "dataset_split = dataset_original.copy()"
   ]
  },
  {
   "cell_type": "code",
   "execution_count": 18,
   "metadata": {},
   "outputs": [],
   "source": [
    "years = dataset_split.index.get_level_values(1).to_list()\n",
    "dataset_split['Year'] = years"
   ]
  },
  {
   "cell_type": "markdown",
   "metadata": {},
   "source": [
    "Second, get for each instance the test fold it has to belong to based on the split based on the created category"
   ]
  },
  {
   "cell_type": "code",
   "execution_count": 19,
   "metadata": {},
   "outputs": [],
   "source": [
    "n_folds = 3\n",
    "strat_split = StratifiedKFold(n_splits=n_folds, shuffle=True)"
   ]
  },
  {
   "cell_type": "code",
   "execution_count": 20,
   "metadata": {},
   "outputs": [],
   "source": [
    "test_indexes = np.zeros(len(dataset_split))\n",
    "fold = 0\n",
    "for _, test_index in strat_split.split(dataset_split, dataset_split['Year']):\n",
    "    for i in test_index:\n",
    "        test_indexes[i] = fold\n",
    "    fold += 1"
   ]
  },
  {
   "cell_type": "markdown",
   "metadata": {},
   "source": [
    "Third, pass to the list of test folds indexes to generate the PredefinedSplit"
   ]
  },
  {
   "cell_type": "code",
   "execution_count": 21,
   "metadata": {},
   "outputs": [],
   "source": [
    "cv_split = PredefinedSplit(test_indexes)"
   ]
  },
  {
   "cell_type": "code",
   "execution_count": 22,
   "metadata": {},
   "outputs": [
    {
     "name": "stdout",
     "output_type": "stream",
     "text": [
      "0.05896607431340872 0.05811138014527845\n"
     ]
    }
   ],
   "source": [
    "# Check ratio is kept\n",
    "ratio_PCF_dataset = len(dataset_split.loc[(slice(None), [2007]), :]) / len(dataset_split)\n",
    "test_set = dataset_split.iloc[np.where(test_indexes==1)]\n",
    "ratio_PCF_test_set = len(test_set.loc[(slice(None), [2007]), :]) / len(test_set)\n",
    "print(ratio_PCF_dataset, ratio_PCF_test_set)"
   ]
  },
  {
   "cell_type": "markdown",
   "metadata": {},
   "source": [
    "# Features preparation"
   ]
  },
  {
   "cell_type": "markdown",
   "metadata": {},
   "source": [
    "## Features names collection"
   ]
  },
  {
   "cell_type": "markdown",
   "metadata": {},
   "source": [
    "### Pre-transformation"
   ]
  },
  {
   "cell_type": "code",
   "execution_count": 23,
   "metadata": {},
   "outputs": [],
   "source": [
    "features_original = [feat for feat in dataset.columns]"
   ]
  },
  {
   "cell_type": "code",
   "execution_count": 24,
   "metadata": {},
   "outputs": [],
   "source": [
    "features_adoption = [feat for feat in features_original if 'adoption' in feat]\n",
    "features_climate = [feat for feat in features_original if '_t_' in feat or '_prec_' in feat]\n",
    "features_soil = ['CaCO3_mean_munic', 'CN_mean_munic', 'N_mean_munic', 'P_mean_munic', 'pH_mean_munic']\n",
    "features_economic = ['sbp_payment']\n",
    "\n",
    "features_not_census = (features_adoption + features_climate + features_soil + features_economic)\n",
    "features_census = [feat for feat in features_original if feat not in features_not_census]"
   ]
  },
  {
   "cell_type": "code",
   "execution_count": 25,
   "metadata": {},
   "outputs": [
    {
     "data": {
      "text/plain": [
       "44"
      ]
     },
     "execution_count": 25,
     "metadata": {},
     "output_type": "execute_result"
    }
   ],
   "source": [
    "len(features_census) + len(features_not_census)"
   ]
  },
  {
   "cell_type": "markdown",
   "metadata": {},
   "source": [
    "### Post-transformation"
   ]
  },
  {
   "cell_type": "code",
   "execution_count": 26,
   "metadata": {},
   "outputs": [],
   "source": [
    "# Get features names\n",
    "feat_lists = [features_adoption, features_census, features_climate, features_soil, features_economic]\n",
    "transformers = [TransformAdoptionFeatures(), TransformCensusFeatures(),\n",
    "                TransformClimateFeatures(), TransformSoilFeatures(), TransformEconomicFeatures()]\n",
    "\n",
    "features = []\n",
    "for f, t in zip(feat_lists, transformers):\n",
    "    features_ind = t.transform(dataset[f]).columns.to_list()\n",
    "    features = features + features_ind"
   ]
  },
  {
   "cell_type": "code",
   "execution_count": 27,
   "metadata": {},
   "outputs": [
    {
     "data": {
      "text/plain": [
       "19"
      ]
     },
     "execution_count": 27,
     "metadata": {},
     "output_type": "execute_result"
    }
   ],
   "source": [
    "len(features)"
   ]
  },
  {
   "cell_type": "markdown",
   "metadata": {},
   "source": [
    "#### With squared cumulative adoption"
   ]
  },
  {
   "cell_type": "code",
   "execution_count": 28,
   "metadata": {
    "scrolled": false
   },
   "outputs": [],
   "source": [
    "# Get features names\n",
    "feat_lists = [features_adoption, features_census, features_climate, features_soil, features_economic]\n",
    "transformers = [TransformAdoptionFeatures(add_square_cumul_adoption=True),\n",
    "                TransformCensusFeatures(), TransformClimateFeatures(), TransformSoilFeatures(), TransformEconomicFeatures()]\n",
    "\n",
    "features_sq = []\n",
    "for f, t in zip(feat_lists, transformers):\n",
    "    features_ind = t.transform(dataset[f]).columns.to_list()\n",
    "    features_sq = features_sq + features_ind"
   ]
  },
  {
   "cell_type": "code",
   "execution_count": 29,
   "metadata": {
    "scrolled": false
   },
   "outputs": [
    {
     "data": {
      "text/plain": [
       "20"
      ]
     },
     "execution_count": 29,
     "metadata": {},
     "output_type": "execute_result"
    }
   ],
   "source": [
    "len(features_sq)"
   ]
  },
  {
   "cell_type": "markdown",
   "metadata": {},
   "source": [
    "## Preparation pipeline"
   ]
  },
  {
   "cell_type": "code",
   "execution_count": 30,
   "metadata": {},
   "outputs": [],
   "source": [
    "from sklearn.pipeline import Pipeline\n",
    "from sklearn.compose import ColumnTransformer\n",
    "from sklearn.preprocessing import StandardScaler"
   ]
  },
  {
   "cell_type": "code",
   "execution_count": 31,
   "metadata": {},
   "outputs": [],
   "source": [
    "transformation_pipeline = ColumnTransformer([\n",
    "    ('adoption', TransformAdoptionFeatures(), features_adoption),\n",
    "    ('census', TransformCensusFeatures(), features_census),\n",
    "    ('climate', TransformClimateFeatures(), features_climate),\n",
    "    ('soil', TransformSoilFeatures(), features_soil),\n",
    "    ('economic', TransformEconomicFeatures(), features_economic)\n",
    "],\n",
    "    remainder='drop')\n",
    "\n",
    "dataset_transf = transformation_pipeline.fit_transform(dataset)"
   ]
  },
  {
   "cell_type": "code",
   "execution_count": 32,
   "metadata": {},
   "outputs": [],
   "source": [
    "full_pipeline_stand = Pipeline([\n",
    "    ('transformation', transformation_pipeline),\n",
    "    ('scaling', StandardScaler())\n",
    "])"
   ]
  },
  {
   "cell_type": "code",
   "execution_count": 33,
   "metadata": {},
   "outputs": [],
   "source": [
    "dataset_prepared_stand = full_pipeline_stand.fit_transform(dataset)"
   ]
  },
  {
   "cell_type": "code",
   "execution_count": 34,
   "metadata": {},
   "outputs": [
    {
     "data": {
      "text/plain": [
       "(1238, 19)"
      ]
     },
     "execution_count": 34,
     "metadata": {},
     "output_type": "execute_result"
    }
   ],
   "source": [
    "dataset_prepared_stand.shape"
   ]
  },
  {
   "cell_type": "code",
   "execution_count": 35,
   "metadata": {},
   "outputs": [
    {
     "data": {
      "text/html": [
       "<div>\n",
       "<style scoped>\n",
       "    .dataframe tbody tr th:only-of-type {\n",
       "        vertical-align: middle;\n",
       "    }\n",
       "\n",
       "    .dataframe tbody tr th {\n",
       "        vertical-align: top;\n",
       "    }\n",
       "\n",
       "    .dataframe thead th {\n",
       "        text-align: right;\n",
       "    }\n",
       "</style>\n",
       "<table border=\"1\" class=\"dataframe\">\n",
       "  <thead>\n",
       "    <tr style=\"text-align: right;\">\n",
       "      <th></th>\n",
       "      <th>tot_cumul_adoption_pr_y_munic</th>\n",
       "      <th>tot_cumul_adoption_pr_y_port</th>\n",
       "      <th>pastures_area_var</th>\n",
       "      <th>pastures_area_mean</th>\n",
       "      <th>educ_second_super</th>\n",
       "      <th>farmers_over65</th>\n",
       "      <th>inc_mainly_ext</th>\n",
       "      <th>educ_none</th>\n",
       "      <th>work_unit_100ha</th>\n",
       "      <th>agric_area_owned</th>\n",
       "      <th>lu_per_agric_area</th>\n",
       "      <th>av_d_mean_t_average_munic</th>\n",
       "      <th>av_d_max_t_average_munic</th>\n",
       "      <th>cons_days_no_prec_average_munic</th>\n",
       "      <th>CaCO3_mean_munic</th>\n",
       "      <th>CN_mean_munic</th>\n",
       "      <th>N_mean_munic</th>\n",
       "      <th>P_mean_munic</th>\n",
       "      <th>sbp_payment</th>\n",
       "    </tr>\n",
       "  </thead>\n",
       "  <tbody>\n",
       "    <tr>\n",
       "      <th>0</th>\n",
       "      <td>-0.696230</td>\n",
       "      <td>-1.196227</td>\n",
       "      <td>-1.153109</td>\n",
       "      <td>-0.943122</td>\n",
       "      <td>-0.320601</td>\n",
       "      <td>0.507995</td>\n",
       "      <td>1.278940</td>\n",
       "      <td>0.210649</td>\n",
       "      <td>1.518544</td>\n",
       "      <td>1.697841</td>\n",
       "      <td>-0.382745</td>\n",
       "      <td>0.065617</td>\n",
       "      <td>-0.290110</td>\n",
       "      <td>-0.215745</td>\n",
       "      <td>-0.642702</td>\n",
       "      <td>2.669322</td>\n",
       "      <td>-0.637856</td>\n",
       "      <td>-1.278869</td>\n",
       "      <td>-0.550178</td>\n",
       "    </tr>\n",
       "    <tr>\n",
       "      <th>1</th>\n",
       "      <td>-0.420883</td>\n",
       "      <td>-1.153950</td>\n",
       "      <td>-1.187311</td>\n",
       "      <td>-0.944092</td>\n",
       "      <td>-0.317685</td>\n",
       "      <td>0.675081</td>\n",
       "      <td>1.296645</td>\n",
       "      <td>0.101147</td>\n",
       "      <td>1.508777</td>\n",
       "      <td>1.800497</td>\n",
       "      <td>-0.397201</td>\n",
       "      <td>0.065617</td>\n",
       "      <td>-0.290110</td>\n",
       "      <td>-0.215745</td>\n",
       "      <td>-0.642702</td>\n",
       "      <td>2.669322</td>\n",
       "      <td>-0.637856</td>\n",
       "      <td>-1.278869</td>\n",
       "      <td>-0.550178</td>\n",
       "    </tr>\n",
       "    <tr>\n",
       "      <th>2</th>\n",
       "      <td>-0.270694</td>\n",
       "      <td>-1.105143</td>\n",
       "      <td>-1.221514</td>\n",
       "      <td>-0.945117</td>\n",
       "      <td>-0.314770</td>\n",
       "      <td>0.851517</td>\n",
       "      <td>1.314419</td>\n",
       "      <td>-0.008356</td>\n",
       "      <td>1.499009</td>\n",
       "      <td>1.903545</td>\n",
       "      <td>-0.411657</td>\n",
       "      <td>0.065617</td>\n",
       "      <td>-0.290110</td>\n",
       "      <td>-0.215745</td>\n",
       "      <td>-0.642702</td>\n",
       "      <td>2.669322</td>\n",
       "      <td>-0.637856</td>\n",
       "      <td>-1.278869</td>\n",
       "      <td>-0.550178</td>\n",
       "    </tr>\n",
       "    <tr>\n",
       "      <th>3</th>\n",
       "      <td>-0.227782</td>\n",
       "      <td>-1.002478</td>\n",
       "      <td>-1.255717</td>\n",
       "      <td>-0.946200</td>\n",
       "      <td>-0.311854</td>\n",
       "      <td>1.038112</td>\n",
       "      <td>1.332261</td>\n",
       "      <td>-0.117859</td>\n",
       "      <td>1.489242</td>\n",
       "      <td>2.006989</td>\n",
       "      <td>-0.426112</td>\n",
       "      <td>0.065617</td>\n",
       "      <td>-0.290110</td>\n",
       "      <td>-0.215745</td>\n",
       "      <td>-0.642702</td>\n",
       "      <td>2.669322</td>\n",
       "      <td>-0.637856</td>\n",
       "      <td>-1.278869</td>\n",
       "      <td>-0.550178</td>\n",
       "    </tr>\n",
       "    <tr>\n",
       "      <th>4</th>\n",
       "      <td>-0.088321</td>\n",
       "      <td>-0.901823</td>\n",
       "      <td>-1.289920</td>\n",
       "      <td>-0.947348</td>\n",
       "      <td>-0.308938</td>\n",
       "      <td>1.235767</td>\n",
       "      <td>1.350171</td>\n",
       "      <td>-0.227361</td>\n",
       "      <td>1.479474</td>\n",
       "      <td>2.110830</td>\n",
       "      <td>-0.440568</td>\n",
       "      <td>0.065617</td>\n",
       "      <td>-0.290110</td>\n",
       "      <td>-0.215745</td>\n",
       "      <td>-0.642702</td>\n",
       "      <td>2.669322</td>\n",
       "      <td>-0.637856</td>\n",
       "      <td>-1.278869</td>\n",
       "      <td>-0.550178</td>\n",
       "    </tr>\n",
       "  </tbody>\n",
       "</table>\n",
       "</div>"
      ],
      "text/plain": [
       "   tot_cumul_adoption_pr_y_munic  tot_cumul_adoption_pr_y_port  \\\n",
       "0                      -0.696230                     -1.196227   \n",
       "1                      -0.420883                     -1.153950   \n",
       "2                      -0.270694                     -1.105143   \n",
       "3                      -0.227782                     -1.002478   \n",
       "4                      -0.088321                     -0.901823   \n",
       "\n",
       "   pastures_area_var  pastures_area_mean  educ_second_super  farmers_over65  \\\n",
       "0          -1.153109           -0.943122          -0.320601        0.507995   \n",
       "1          -1.187311           -0.944092          -0.317685        0.675081   \n",
       "2          -1.221514           -0.945117          -0.314770        0.851517   \n",
       "3          -1.255717           -0.946200          -0.311854        1.038112   \n",
       "4          -1.289920           -0.947348          -0.308938        1.235767   \n",
       "\n",
       "   inc_mainly_ext  educ_none  work_unit_100ha  agric_area_owned  \\\n",
       "0        1.278940   0.210649         1.518544          1.697841   \n",
       "1        1.296645   0.101147         1.508777          1.800497   \n",
       "2        1.314419  -0.008356         1.499009          1.903545   \n",
       "3        1.332261  -0.117859         1.489242          2.006989   \n",
       "4        1.350171  -0.227361         1.479474          2.110830   \n",
       "\n",
       "   lu_per_agric_area  av_d_mean_t_average_munic  av_d_max_t_average_munic  \\\n",
       "0          -0.382745                   0.065617                 -0.290110   \n",
       "1          -0.397201                   0.065617                 -0.290110   \n",
       "2          -0.411657                   0.065617                 -0.290110   \n",
       "3          -0.426112                   0.065617                 -0.290110   \n",
       "4          -0.440568                   0.065617                 -0.290110   \n",
       "\n",
       "   cons_days_no_prec_average_munic  CaCO3_mean_munic  CN_mean_munic  \\\n",
       "0                        -0.215745         -0.642702       2.669322   \n",
       "1                        -0.215745         -0.642702       2.669322   \n",
       "2                        -0.215745         -0.642702       2.669322   \n",
       "3                        -0.215745         -0.642702       2.669322   \n",
       "4                        -0.215745         -0.642702       2.669322   \n",
       "\n",
       "   N_mean_munic  P_mean_munic  sbp_payment  \n",
       "0     -0.637856     -1.278869    -0.550178  \n",
       "1     -0.637856     -1.278869    -0.550178  \n",
       "2     -0.637856     -1.278869    -0.550178  \n",
       "3     -0.637856     -1.278869    -0.550178  \n",
       "4     -0.637856     -1.278869    -0.550178  "
      ]
     },
     "execution_count": 35,
     "metadata": {},
     "output_type": "execute_result"
    }
   ],
   "source": [
    "# Print prepared data as a DataFrame\n",
    "pd.DataFrame(dataset_prepared_stand, columns=features, index=dataset.index).head()"
   ]
  },
  {
   "cell_type": "markdown",
   "metadata": {},
   "source": [
    "### With squared cumulative adoption"
   ]
  },
  {
   "cell_type": "code",
   "execution_count": 36,
   "metadata": {},
   "outputs": [],
   "source": [
    "transformation_pipeline_sq = ColumnTransformer([\n",
    "    ('adoption', TransformAdoptionFeatures(add_square_cumul_adoption=True),\n",
    "     features_adoption),\n",
    "    ('census', TransformCensusFeatures(), features_census),\n",
    "    ('climate', TransformClimateFeatures(), features_climate),\n",
    "    ('soil', TransformSoilFeatures(), features_soil),\n",
    "    ('economic', TransformEconomicFeatures(), features_economic)\n",
    "],\n",
    "    remainder='drop')"
   ]
  },
  {
   "cell_type": "code",
   "execution_count": 37,
   "metadata": {},
   "outputs": [],
   "source": [
    "full_pipeline_stand_sq = Pipeline([\n",
    "    ('transformation', transformation_pipeline_sq),\n",
    "    ('scaling', StandardScaler())\n",
    "])"
   ]
  },
  {
   "cell_type": "code",
   "execution_count": 38,
   "metadata": {},
   "outputs": [],
   "source": [
    "dataset_stand_sq_cum_ad = full_pipeline_stand_sq.fit_transform(dataset)"
   ]
  },
  {
   "cell_type": "code",
   "execution_count": 39,
   "metadata": {},
   "outputs": [
    {
     "data": {
      "text/plain": [
       "(1238, 20)"
      ]
     },
     "execution_count": 39,
     "metadata": {},
     "output_type": "execute_result"
    }
   ],
   "source": [
    "dataset_stand_sq_cum_ad.shape"
   ]
  },
  {
   "cell_type": "markdown",
   "metadata": {},
   "source": [
    "# Model selection"
   ]
  },
  {
   "cell_type": "markdown",
   "metadata": {},
   "source": [
    "* Linear regression with Elastic Net regularization\n",
    "    * With squared cumulative adoption\n",
    "    * Polynomial\n",
    "* SVM\n",
    "    * Linear\n",
    "    * With squared cumulative adoption\n",
    "    * Non-linear"
   ]
  },
  {
   "cell_type": "code",
   "execution_count": 40,
   "metadata": {},
   "outputs": [],
   "source": [
    "from sklearn.model_selection import cross_validate, cross_val_predict\n",
    "from sklearn.metrics import r2_score, mean_squared_error\n",
    "from sklearn.base import clone"
   ]
  },
  {
   "cell_type": "code",
   "execution_count": 41,
   "metadata": {},
   "outputs": [],
   "source": [
    "from sklearn.model_selection import RandomizedSearchCV, GridSearchCV, StratifiedKFold"
   ]
  },
  {
   "cell_type": "code",
   "execution_count": 42,
   "metadata": {},
   "outputs": [],
   "source": [
    "from scipy.stats import expon, uniform, reciprocal"
   ]
  },
  {
   "cell_type": "markdown",
   "metadata": {},
   "source": [
    "## Functions for models results"
   ]
  },
  {
   "cell_type": "code",
   "execution_count": 43,
   "metadata": {},
   "outputs": [],
   "source": [
    "cols = ['cv RMSE_mean', 'cv RMSE std', 'cv adjR2 mean', 'cv adjR2 std', 'train set RMSE', 'train set adjR2']\n",
    "models_results = pd.DataFrame(columns=cols, dtype=np.float64)"
   ]
  },
  {
   "cell_type": "code",
   "execution_count": 44,
   "metadata": {},
   "outputs": [],
   "source": [
    "def display_scores(scores, score_name):\n",
    "    print('Cross-validation', score_name)\n",
    "    print('Scores:', scores)\n",
    "    print('Mean:', scores.mean())\n",
    "    print('Standard deviation:', scores.std())\n",
    "    print('')"
   ]
  },
  {
   "cell_type": "code",
   "execution_count": 45,
   "metadata": {},
   "outputs": [],
   "source": [
    "def adjusted_r2(r2, n, p):\n",
    "    return 1-(1-r2)*(n-1)/(n-p-1)"
   ]
  },
  {
   "cell_type": "code",
   "execution_count": 46,
   "metadata": {},
   "outputs": [],
   "source": [
    "from sklearn.model_selection import KFold\n",
    "\n",
    "def cross_val_rmse_r2(reg, dataset_prepared, cv_split):\n",
    "    scores = cross_validate(reg, dataset_prepared, dataset_labels,\n",
    "                            scoring=['neg_mean_squared_error', 'r2'], cv=cv_split)\n",
    "    rmse_scores = np.sqrt(-scores['test_neg_mean_squared_error'])\n",
    "    r2_scores = scores['test_r2']\n",
    "    adj_r2_scores = adjusted_r2(r2_scores, (dataset_prepared.shape[0] // n_folds), dataset_prepared.shape[1])\n",
    "    cv_scores = {'RMSE': rmse_scores, 'adjR2': adj_r2_scores}\n",
    "    return cv_scores"
   ]
  },
  {
   "cell_type": "code",
   "execution_count": 47,
   "metadata": {},
   "outputs": [],
   "source": [
    "def predict_train_set(reg, dataset_prepared):\n",
    "    reg.fit(dataset_prepared, dataset_labels)\n",
    "    predictions = reg.predict(dataset_prepared)\n",
    "    mse = mean_squared_error(dataset_labels, predictions)\n",
    "    rmse = np.sqrt(mse)\n",
    "    r2 = r2_score(dataset_labels, predictions)\n",
    "    adj_r2 = adjusted_r2(r2, dataset_prepared.shape[0], dataset_prepared.shape[1])\n",
    "    print('Scores on training set')\n",
    "    print('RMSE score:', rmse)\n",
    "    print('Adjusted R2 score:', adj_r2)\n",
    "    return (rmse, adj_r2)"
   ]
  },
  {
   "cell_type": "code",
   "execution_count": 48,
   "metadata": {},
   "outputs": [],
   "source": [
    "def load_model_results(reg, reg_name, results_df, cv_scores, train_results):\n",
    "    df_cols = results_df.columns\n",
    "    \n",
    "    # Add cv columns\n",
    "    for score_name, score_values in cv_scores.items():\n",
    "        col_mean = [col for col in df_cols if ('cv' in col) and (score_name in col) and ('mean' in col)]\n",
    "        col_std = [col for col in df_cols if ('cv' in col) and (score_name in col) and ('std' in col)]\n",
    "        results_df.loc[reg_name, col_mean] = score_values.mean()\n",
    "        results_df.loc[reg_name, col_std] = score_values.std()\n",
    "    # Add training set results columns\n",
    "    cols_train = [col for col in df_cols if ('train' in col)]\n",
    "    results_df.loc[reg_name, cols_train] = train_results"
   ]
  },
  {
   "cell_type": "code",
   "execution_count": 49,
   "metadata": {},
   "outputs": [],
   "source": [
    "def test_regressor(reg, dataset_prepared, labels, reg_name=None, results_df=models_results, cv_split=cv_split):  \n",
    "    \"\"\"\n",
    "    Function to:\n",
    "    - train a regressor using cross validation, reporting both RMSE and adjusted R2 score\n",
    "    - train a regressor on the training set, to check it for overfiting\n",
    "    - load the model performances in a dataframe to keep all models results\n",
    "    \n",
    "    reg_name: how to report the model's results in the DataFrame with the results. If None, do not add it.\n",
    "    \"\"\"\n",
    "    cv_scores = cross_val_rmse_r2(reg, dataset_prepared, cv_split)\n",
    "    print(\"Cross validation scores\")\n",
    "    for score_name, score_value in cv_scores.items():\n",
    "        display_scores(score_value, score_name)\n",
    "    print(\"\")\n",
    "\n",
    "    train_results = predict_train_set(reg, dataset_prepared)\n",
    "        \n",
    "    if reg_name != None:\n",
    "        load_model_results(reg, reg_name, results_df, cv_scores, train_results)"
   ]
  },
  {
   "cell_type": "code",
   "execution_count": 50,
   "metadata": {},
   "outputs": [],
   "source": [
    "def get_grid_search_results(gs):\n",
    "    best_est = gs.best_estimator_\n",
    "    print(\"Best estimator:\", best_est)\n",
    "    print(\"Best parameters:\", gs.best_params_)\n",
    "    for scorer_name in gs.scorer_.keys():\n",
    "        res_test = gs.cv_results_['mean_test_' + scorer_name][gs.best_index_]\n",
    "        res_train = gs.cv_results_['mean_train_' + scorer_name][gs.best_index_]\n",
    "        print(\"\")\n",
    "        print(scorer_name + ' mean on test sets:', res_test)\n",
    "        print(scorer_name + ' mean on train sets:', res_train)"
   ]
  },
  {
   "cell_type": "markdown",
   "metadata": {},
   "source": [
    "## Functions for models' analysis"
   ]
  },
  {
   "cell_type": "code",
   "execution_count": 51,
   "metadata": {},
   "outputs": [],
   "source": [
    "def plot_validation_curves(estimator, param_name, param_values, scoring, dataset, labels):\n",
    "    train_errors, val_errors = [], []\n",
    "    for param in param_values:\n",
    "        estimator.set_params(**{param_name:param})\n",
    "        scores = cross_validate(estimator, dataset, labels, scoring=scoring, \n",
    "                                cv=cv_split, n_jobs=-1, return_train_score=True)\n",
    "        train_errors.append(-scores['train_score'].mean())\n",
    "        val_errors.append(-scores['test_score'].mean())\n",
    "\n",
    "    plt.plot(val_errors, \"b-\", linewidth=2, label=\"Validation set\")\n",
    "    plt.plot(train_errors, \"r--\", linewidth=2, label=\"Training set\")\n",
    "    plt.legend(loc=\"upper right\", fontsize=12)\n",
    "    x = np.arange(0, len(param_values), 1)\n",
    "    plt.xticks(x, np.round(param_values, 2))\n",
    "    plt.xlabel(param_name + \" value\", fontsize=14)\n",
    "    plt.ylabel(\"RMSE\", fontsize=14)\n",
    "    plt.show()"
   ]
  },
  {
   "cell_type": "code",
   "execution_count": 52,
   "metadata": {},
   "outputs": [],
   "source": [
    "from sklearn.metrics import mean_squared_error\n",
    "from sklearn.model_selection import train_test_split\n",
    "\n",
    "def plot_learning_curves(model, X, y, fig_name=None):\n",
    "    X_train, X_val, y_train, y_val = train_test_split(X, y, test_size=0.2, random_state=42)\n",
    "    train_errors, val_errors = [], []\n",
    "    steps = np.arange(100, len(X_train), 100)\n",
    "    for m in steps:\n",
    "        model.fit(X_train[:m], y_train[:m])\n",
    "        y_train_predict = model.predict(X_train[:m])\n",
    "        y_val_predict = model.predict(X_val)\n",
    "        train_errors.append(mean_squared_error(y_train[:m], y_train_predict))\n",
    "        val_errors.append(mean_squared_error(y_val, y_val_predict))\n",
    "\n",
    "    plt.plot(steps, np.sqrt(train_errors), \"r-+\", linewidth=2, label=\"Training error\")\n",
    "    plt.plot(steps, np.sqrt(val_errors), \"b-\", linewidth=3, label=\"Validation error\")\n",
    "    plt.legend(loc=\"lower right\", fontsize=13)   \n",
    "    plt.xlabel(\"Training set size\", fontsize=14)\n",
    "    plt.ylabel(\"Root mean squared error\", fontsize=14)\n",
    "    \n",
    "    if fig_name != None:\n",
    "        save_fig((fig_name))"
   ]
  },
  {
   "cell_type": "markdown",
   "metadata": {},
   "source": [
    "### Errors analysis"
   ]
  },
  {
   "cell_type": "code",
   "execution_count": 53,
   "metadata": {},
   "outputs": [],
   "source": [
    "def plot_pred_lab(preds, labels):\n",
    "    # Bigger axis\n",
    "    fig = plt.figure(figsize=(15, 8))\n",
    "    ax1 = fig.add_subplot(2, 2, 1)\n",
    "    ax1.hist(preds, bins=20, range=[0., 0.35])\n",
    "    ax1.set(title='Predictions')\n",
    "    ax1.set_ylim([0, 2000])\n",
    "    ax2 = fig.add_subplot(2, 2, 2)\n",
    "    ax2.hist(labels, bins=20, range=[0., 0.35])\n",
    "    ax2.set(title='Labels')\n",
    "    ax2.set_ylim([0, 2000])\n",
    "    \n",
    "    #Zoom closer to 0\n",
    "    restr_preds = preds[preds > 0.0000001]\n",
    "    restr_labels = labels[labels > 0.0000001]\n",
    "    ax3 = fig.add_subplot(2, 2, 3)\n",
    "    ax3.hist(restr_preds, bins=20, range=[0., 0.05])\n",
    "    ax3.set(title='Predictions no 0, restricted x axis')\n",
    "    ax3.set_ylim([0, 1000])\n",
    "    ax4 = fig.add_subplot(2, 2, 4)\n",
    "    ax4.hist(restr_labels, bins=20, range=[0., 0.05])\n",
    "    ax4.set(title='Labels no 0, restricted x axis')  \n",
    "    ax4.set_ylim([0, 1000])"
   ]
  },
  {
   "cell_type": "code",
   "execution_count": 54,
   "metadata": {},
   "outputs": [],
   "source": [
    "def compare_pred_lab_distribution(preds, labels):\n",
    "    plot_pred_lab(preds, labels)"
   ]
  },
  {
   "cell_type": "code",
   "execution_count": 55,
   "metadata": {},
   "outputs": [],
   "source": [
    "def compare_total_adoption(preds, labels):\n",
    "    # Uses the dataset already split but before further manipulation (as standardization)\n",
    "    pastures_area_munic = dataset['pastures_area_munic'].to_numpy()\n",
    "    tot_area_pred = (pastures_area_munic * preds).sum()\n",
    "    tot_area_actual = (pastures_area_munic * labels).sum()\n",
    "    print(\"Total area adopted predicted:\", str(tot_area_pred))\n",
    "    print(\"Actual total area adopted:\", str(tot_area_actual))\n",
    "    print(\"\")"
   ]
  },
  {
   "cell_type": "code",
   "execution_count": 56,
   "metadata": {},
   "outputs": [],
   "source": [
    "def compare_percentile(preds, labels, percentile, how=None):\n",
    "    \"\"\"\n",
    "    Function to compare the predictions on the data with label below a percentile or above it (strictly)\n",
    "    \"\"\"\n",
    "    perc_value = np.percentile(labels, percentile)\n",
    "    if perc_value < 0.0000001:\n",
    "        raise ValueError(\"The percentile value is 0. Choose a higher percentile.\")\n",
    "    if how == 'below':\n",
    "        id_lab_in_perc = np.where((labels > 0.0000001) & (labels <= perc_value))\n",
    "    elif how == 'above':\n",
    "        id_lab_in_perc = np.where(labels > perc_value)\n",
    "    else:\n",
    "        raise ValueError(\"Value of 'how' not correctly specified (can be 'below' or 'above')\")\n",
    "    lab_in_perc = labels[id_lab_in_perc]\n",
    "    pred_in_perc = preds[id_lab_in_perc]\n",
    "\n",
    "    mse = mean_squared_error(lab_in_perc, pred_in_perc)\n",
    "    print(\"Labels' \" + str(percentile) + 'th percentile = ' + str(perc_value))\n",
    "    print('Average label on data', how, str(percentile) + 'th percentile:', str(np.mean(lab_in_perc)))\n",
    "    print('Average prediction on data', how, str(percentile) + 'th percentile:', str(np.mean(pred_in_perc)))\n",
    "    print('RMSE on instances on data', how, str(percentile) + 'th percentile:', str(np.sqrt(mse)))\n",
    "    print(\"\")"
   ]
  },
  {
   "cell_type": "code",
   "execution_count": 57,
   "metadata": {},
   "outputs": [],
   "source": [
    "def compare_first_adoption(preds, labels, dataset_prep, dataset_labels):\n",
    "    idx = np.where((dataset_labels > 0.0000001) & (dataset_prepared_stand[:, 0] < 0.0000001))\n",
    "    lab = labels[idx]\n",
    "    pred = preds[idx]\n",
    "    \n",
    "    mse = mean_squared_error(lab, pred)\n",
    "    print('Prediction on years with adoption after a year with no adoption')\n",
    "    print('Average label:', str(np.mean(lab)))\n",
    "    print('Average prediction:', str(np.mean(pred)))\n",
    "    print('RMSE:', str(np.sqrt(mse)))\n",
    "    print(\"\")"
   ]
  },
  {
   "cell_type": "code",
   "execution_count": 58,
   "metadata": {},
   "outputs": [],
   "source": [
    "def check_predicted_negative(preds, labels):\n",
    "    idx_0_pred = np.where(preds < -0.000000001)\n",
    "    pred_0 = preds[idx_0_pred]\n",
    "    if pred_0.size == 0:\n",
    "        print(\"For no instance a negative value is predicted\")\n",
    "    else:\n",
    "        print(\"For\", str(len(pred_0)), \"instances a negative value is the predicted\")\n",
    "        print(\"Average value for these predictions:\", str(np.mean(pred_0)))\n",
    "        lab_corr = labels[idx_0_pred]\n",
    "        print(\"Average value for the labels on these instances:\", str(np.mean(lab_corr)))\n",
    "    print(\"\")    "
   ]
  },
  {
   "cell_type": "code",
   "execution_count": 59,
   "metadata": {},
   "outputs": [],
   "source": [
    "def check_predicted_0s(preds, labels):\n",
    "    idx_0_pred = np.where((preds < 0.000000001) & (preds > -0.000000001))\n",
    "    pred_0 = preds[idx_0_pred]\n",
    "    if pred_0.size == 0:\n",
    "        print(\"For no instance 0 is the predicted value\")\n",
    "    else:\n",
    "        print(\"For\", str(len(pred_0)), \"instances 0 is the predicted value\")\n",
    "        lab_corr = labels[idx_0_pred]\n",
    "        print(\"Average value for the labels on these instances:\", str(np.mean(lab_corr)))\n",
    "    print(\"\")"
   ]
  },
  {
   "cell_type": "code",
   "execution_count": 60,
   "metadata": {},
   "outputs": [],
   "source": [
    "from IPython.display import display\n",
    "    \n",
    "def worst_predictions(preds, labels, num):\n",
    "    # Uses the dataset already split but before further manipulation (as standardization)\n",
    "    diff = abs(preds - labels)\n",
    "    id_max_err = (-diff).argsort()[:num]\n",
    "    pred_max_err = preds[id_max_err]\n",
    "    lab_max_err = labels[id_max_err]\n",
    "    pred_lab_diff = pred_max_err - lab_max_err\n",
    "\n",
    "    dataset_with_indexes = dataset.rename(index=map_instances_to_munic_year)\n",
    "    data_max_err_rows = dataset_with_indexes.iloc[id_max_err, :]\n",
    "    data_max_err_rows.insert(0, 'Prediction', pred_max_err)\n",
    "    data_max_err_rows.insert(1, 'Label', lab_max_err)\n",
    "    data_max_err_rows.insert(2, 'Prediction - label', pred_lab_diff)\n",
    "    \n",
    "    print(\"Worst\", str(num), \"predictions:\")\n",
    "    display(data_max_err_rows)"
   ]
  },
  {
   "cell_type": "code",
   "execution_count": 61,
   "metadata": {},
   "outputs": [],
   "source": [
    "def analyse_errors(reg, dataset_prep, dataset_labels, percentile=50, worse_pred_num=10):\n",
    "    \"\"\" \n",
    "    Differs from the one in the Notebook for the 1 stage ML only from having taken away the performance on the labels = 0\n",
    "    \"\"\"\n",
    "    labels = dataset_labels.to_numpy()\n",
    "    preds = cross_val_predict(reg, dataset_prep, dataset_labels, cv=KFold(n_splits=3, random_state=42, shuffle=True))\n",
    "\n",
    "    compare_pred_lab_distribution(preds, labels)\n",
    "    compare_total_adoption(preds, labels)\n",
    "    \n",
    "    check_predicted_negative(preds, labels)\n",
    "    check_predicted_0s(preds, labels)\n",
    "    compare_percentile(preds, labels, percentile, how='below')\n",
    "    compare_percentile(preds, labels, percentile, how='above')\n",
    "    compare_first_adoption(preds, labels, dataset_prep, dataset_labels)\n",
    "\n",
    "    worst_predictions(preds, labels, worse_pred_num)"
   ]
  },
  {
   "cell_type": "markdown",
   "metadata": {},
   "source": [
    "## Linear regression (elastic net)"
   ]
  },
  {
   "cell_type": "code",
   "execution_count": 62,
   "metadata": {},
   "outputs": [],
   "source": [
    "from sklearn.linear_model import SGDRegressor"
   ]
  },
  {
   "cell_type": "code",
   "execution_count": 63,
   "metadata": {},
   "outputs": [
    {
     "name": "stdout",
     "output_type": "stream",
     "text": [
      "Fitting 3 folds for each of 24 candidates, totalling 72 fits\n"
     ]
    },
    {
     "name": "stderr",
     "output_type": "stream",
     "text": [
      "[Parallel(n_jobs=1)]: Using backend SequentialBackend with 1 concurrent workers.\n",
      "[Parallel(n_jobs=1)]: Done  72 out of  72 | elapsed:    1.3s finished\n"
     ]
    },
    {
     "data": {
      "text/plain": [
       "GridSearchCV(cv=PredefinedSplit(test_fold=array([0, 2, ..., 1, 1])),\n",
       "             estimator=SGDRegressor(learning_rate='adaptive',\n",
       "                                    penalty='elasticnet'),\n",
       "             param_grid={'alpha': [0.001, 0.005, 0.01, 0.05, 0.1, 1],\n",
       "                         'l1_ratio': array([0.  , 0.25, 0.5 , 0.75])},\n",
       "             refit='neg_root_mean_squared_error', return_train_score=True,\n",
       "             scoring=['neg_root_mean_squared_error', 'r2'], verbose=1)"
      ]
     },
     "execution_count": 63,
     "metadata": {},
     "output_type": "execute_result"
    }
   ],
   "source": [
    "el_net_lin_reg = SGDRegressor(penalty='elasticnet', learning_rate='adaptive')\n",
    "\n",
    "param_grid = {\n",
    "    #\"tol\": [5e-3],\n",
    "    #\"max_iter\": [10000],\n",
    "    \"alpha\": [0.001, 0.005, 0.01, 0.05, 0.1, 1],\n",
    "    \"l1_ratio\": np.arange(0.0, 1.0, 0.25),\n",
    "    }\n",
    "\n",
    "srch_lin_reg = GridSearchCV(el_net_lin_reg, param_grid, cv=cv_split,\n",
    "                            scoring=['neg_root_mean_squared_error', 'r2'], refit='neg_root_mean_squared_error',\n",
    "                            return_train_score=True, verbose=1)\n",
    "\n",
    "srch_lin_reg.fit(dataset_prepared_stand, dataset_labels)"
   ]
  },
  {
   "cell_type": "code",
   "execution_count": 64,
   "metadata": {},
   "outputs": [
    {
     "name": "stdout",
     "output_type": "stream",
     "text": [
      "Best estimator: SGDRegressor(alpha=0.1, l1_ratio=0.0, learning_rate='adaptive',\n",
      "             penalty='elasticnet')\n",
      "Best parameters: {'alpha': 0.1, 'l1_ratio': 0.0}\n",
      "\n",
      "neg_root_mean_squared_error mean on test sets: -0.006961433460046376\n",
      "neg_root_mean_squared_error mean on train sets: -0.006791123843371938\n",
      "\n",
      "r2 mean on test sets: 0.18408061187787408\n",
      "r2 mean on train sets: 0.22680912029873704\n"
     ]
    }
   ],
   "source": [
    "get_grid_search_results(srch_lin_reg)"
   ]
  },
  {
   "cell_type": "code",
   "execution_count": 65,
   "metadata": {
    "scrolled": true
   },
   "outputs": [
    {
     "name": "stdout",
     "output_type": "stream",
     "text": [
      "Cross validation scores\n",
      "Cross-validation RMSE\n",
      "Scores: [0.0068281308 0.007217244  0.0068464851]\n",
      "Mean: 0.006963953307810036\n",
      "Standard deviation: 0.00017926025747785784\n",
      "\n",
      "Cross-validation adjR2\n",
      "Scores: [0.0971747588 0.1846152313 0.1499256864]\n",
      "Mean: 0.1439052254763449\n",
      "Standard deviation: 0.035950368744154845\n",
      "\n",
      "\n",
      "Scores on training set\n",
      "RMSE score: 0.006824177558907431\n",
      "Adjusted R2 score: 0.2084394246413679\n"
     ]
    }
   ],
   "source": [
    "lin_reg = srch_lin_reg.best_estimator_\n",
    "test_regressor(lin_reg, dataset_prepared_stand, dataset_labels)"
   ]
  },
  {
   "cell_type": "markdown",
   "metadata": {},
   "source": [
    "### Second iteration"
   ]
  },
  {
   "cell_type": "code",
   "execution_count": 66,
   "metadata": {
    "scrolled": true
   },
   "outputs": [
    {
     "name": "stdout",
     "output_type": "stream",
     "text": [
      "Fitting 3 folds for each of 1000 candidates, totalling 3000 fits\n"
     ]
    },
    {
     "name": "stderr",
     "output_type": "stream",
     "text": [
      "[Parallel(n_jobs=1)]: Using backend SequentialBackend with 1 concurrent workers.\n",
      "[Parallel(n_jobs=1)]: Done 3000 out of 3000 | elapsed:   40.3s finished\n"
     ]
    },
    {
     "data": {
      "text/plain": [
       "RandomizedSearchCV(cv=PredefinedSplit(test_fold=array([0, 2, ..., 1, 1])),\n",
       "                   estimator=SGDRegressor(learning_rate='adaptive',\n",
       "                                          penalty='elasticnet'),\n",
       "                   n_iter=1000,\n",
       "                   param_distributions={'alpha': <scipy.stats._distn_infrastructure.rv_frozen object at 0x00000232738811C8>,\n",
       "                                        'l1_ratio': <scipy.stats._distn_infrastructure.rv_frozen object at 0x00000232738816C8>,\n",
       "                                        'max_iter': [3000]},\n",
       "                   refit='neg_root_mean_squared_error', return_train_score=True,\n",
       "                   scoring=['neg_root_mean_squared_error', 'r2'], verbose=1)"
      ]
     },
     "execution_count": 66,
     "metadata": {},
     "output_type": "execute_result"
    }
   ],
   "source": [
    "param_grid = {\n",
    "    'max_iter': [3000],\n",
    "    \"alpha\": expon(scale=0.05),\n",
    "    \"l1_ratio\": uniform(0.0, 1.0),\n",
    "    }\n",
    "\n",
    "srch_lin_reg_2 = RandomizedSearchCV(el_net_lin_reg, param_grid, cv=cv_split, n_iter=1000,\n",
    "                                    scoring=['neg_root_mean_squared_error', 'r2'], refit='neg_root_mean_squared_error',\n",
    "                                    return_train_score=True, verbose=1)\n",
    "\n",
    "srch_lin_reg_2.fit(dataset_prepared_stand, dataset_labels)"
   ]
  },
  {
   "cell_type": "code",
   "execution_count": 67,
   "metadata": {},
   "outputs": [
    {
     "name": "stdout",
     "output_type": "stream",
     "text": [
      "Best estimator: SGDRegressor(alpha=0.003138605151528447, l1_ratio=0.016941262870387663,\n",
      "             learning_rate='adaptive', max_iter=3000, penalty='elasticnet')\n",
      "Best parameters: {'alpha': 0.003138605151528447, 'l1_ratio': 0.016941262870387663, 'max_iter': 3000}\n",
      "\n",
      "neg_root_mean_squared_error mean on test sets: -0.006971117705904404\n",
      "neg_root_mean_squared_error mean on train sets: -0.0067851758088169\n",
      "\n",
      "r2 mean on test sets: 0.1813228649374924\n",
      "r2 mean on train sets: 0.22815039481829127\n"
     ]
    }
   ],
   "source": [
    "get_grid_search_results(srch_lin_reg_2)"
   ]
  },
  {
   "cell_type": "code",
   "execution_count": 68,
   "metadata": {
    "scrolled": true
   },
   "outputs": [
    {
     "name": "stdout",
     "output_type": "stream",
     "text": [
      "Cross validation scores\n",
      "Cross-validation RMSE\n",
      "Scores: [0.0068755792 0.0071831819 0.0068859068]\n",
      "Mean: 0.006981555981080086\n",
      "Standard deviation: 0.00014263340532169358\n",
      "\n",
      "Cross-validation adjR2\n",
      "Scores: [0.0845837733 0.1922935561 0.1401081328]\n",
      "Mean: 0.1389951540669592\n",
      "Standard deviation: 0.04397937677294308\n",
      "\n",
      "\n",
      "Scores on training set\n",
      "RMSE score: 0.006818492498411265\n",
      "Adjusted R2 score: 0.20975773597420277\n"
     ]
    }
   ],
   "source": [
    "lin_reg = srch_lin_reg_2.best_estimator_\n",
    "test_regressor(lin_reg, dataset_prepared_stand, dataset_labels, 'Linear Regression')"
   ]
  },
  {
   "cell_type": "markdown",
   "metadata": {},
   "source": [
    "## Linear Regression with squared cumulative adoption"
   ]
  },
  {
   "cell_type": "code",
   "execution_count": 69,
   "metadata": {},
   "outputs": [],
   "source": [
    "from sklearn.linear_model import SGDRegressor\n",
    "el_net_lin_reg = SGDRegressor(penalty='elasticnet', learning_rate='adaptive')"
   ]
  },
  {
   "cell_type": "code",
   "execution_count": 70,
   "metadata": {},
   "outputs": [
    {
     "name": "stdout",
     "output_type": "stream",
     "text": [
      "Fitting 3 folds for each of 1000 candidates, totalling 3000 fits\n"
     ]
    },
    {
     "name": "stderr",
     "output_type": "stream",
     "text": [
      "[Parallel(n_jobs=1)]: Using backend SequentialBackend with 1 concurrent workers.\n",
      "[Parallel(n_jobs=1)]: Done 3000 out of 3000 | elapsed:   33.0s finished\n"
     ]
    },
    {
     "data": {
      "text/plain": [
       "RandomizedSearchCV(cv=PredefinedSplit(test_fold=array([0, 2, ..., 1, 1])),\n",
       "                   estimator=SGDRegressor(learning_rate='adaptive',\n",
       "                                          penalty='elasticnet'),\n",
       "                   n_iter=1000,\n",
       "                   param_distributions={'alpha': <scipy.stats._distn_infrastructure.rv_frozen object at 0x0000023274251688>,\n",
       "                                        'l1_ratio': <scipy.stats._distn_infrastructure.rv_frozen object at 0x000002327424D5C8>,\n",
       "                                        'max_iter': [3000]},\n",
       "                   refit='neg_root_mean_squared_error', return_train_score=True,\n",
       "                   scoring=['neg_root_mean_squared_error', 'r2'], verbose=1)"
      ]
     },
     "execution_count": 70,
     "metadata": {},
     "output_type": "execute_result"
    }
   ],
   "source": [
    "param_grid = {\n",
    "    'max_iter': [3000],\n",
    "    \"alpha\": uniform(0.001, 0.05),\n",
    "    \"l1_ratio\": uniform(0.0, 1.0),\n",
    "    }\n",
    "\n",
    "srch_lin_reg_sq = RandomizedSearchCV(el_net_lin_reg, param_grid, cv=cv_split, n_iter=1000,\n",
    "                                    scoring=['neg_root_mean_squared_error', 'r2'], refit='neg_root_mean_squared_error',\n",
    "                                    return_train_score=True, verbose=1)\n",
    "\n",
    "srch_lin_reg_sq.fit(dataset_stand_sq_cum_ad, dataset_labels)"
   ]
  },
  {
   "cell_type": "code",
   "execution_count": 71,
   "metadata": {},
   "outputs": [
    {
     "name": "stdout",
     "output_type": "stream",
     "text": [
      "Best estimator: SGDRegressor(alpha=0.002088577098971466, l1_ratio=0.0017565592256356677,\n",
      "             learning_rate='adaptive', max_iter=3000, penalty='elasticnet')\n",
      "Best parameters: {'alpha': 0.002088577098971466, 'l1_ratio': 0.0017565592256356677, 'max_iter': 3000}\n",
      "\n",
      "neg_root_mean_squared_error mean on test sets: -0.006710085302421481\n",
      "neg_root_mean_squared_error mean on train sets: -0.00651235280683278\n",
      "\n",
      "r2 mean on test sets: 0.24227553761454912\n",
      "r2 mean on train sets: 0.2891410941762882\n"
     ]
    }
   ],
   "source": [
    "get_grid_search_results(srch_lin_reg_sq)"
   ]
  },
  {
   "cell_type": "code",
   "execution_count": 72,
   "metadata": {},
   "outputs": [
    {
     "name": "stdout",
     "output_type": "stream",
     "text": [
      "Cross validation scores\n",
      "Cross-validation RMSE\n",
      "Scores: [0.0064803859 0.0069567914 0.0066570874]\n",
      "Mean: 0.006698088269331802\n",
      "Standard deviation: 0.00019664068955736728\n",
      "\n",
      "Cross-validation adjR2\n",
      "Scores: [0.1847119442 0.2404662287 0.1942517065]\n",
      "Mean: 0.20647662645442585\n",
      "Standard deviation: 0.024347779657841642\n",
      "\n",
      "\n",
      "Scores on training set\n",
      "RMSE score: 0.006539540772329467\n",
      "Adjusted R2 score: 0.2724970935197494\n"
     ]
    }
   ],
   "source": [
    "lin_reg_sq = srch_lin_reg_sq.best_estimator_\n",
    "name = \"Linear regression + cum_ad_sq\"\n",
    "test_regressor(lin_reg_sq, dataset_stand_sq_cum_ad, dataset_labels, name)"
   ]
  },
  {
   "cell_type": "markdown",
   "metadata": {},
   "source": [
    "## Polynomial regression"
   ]
  },
  {
   "cell_type": "code",
   "execution_count": 73,
   "metadata": {},
   "outputs": [],
   "source": [
    "from sklearn.preprocessing import PolynomialFeatures"
   ]
  },
  {
   "cell_type": "code",
   "execution_count": 74,
   "metadata": {},
   "outputs": [],
   "source": [
    "poly_features = PolynomialFeatures(degree=2, include_bias=False) # Already added by Elastic Net"
   ]
  },
  {
   "cell_type": "code",
   "execution_count": 75,
   "metadata": {},
   "outputs": [],
   "source": [
    "full_pipeline_stand_poly = Pipeline([\n",
    "    ('transformation', transformation_pipeline),\n",
    "    ('poly_features', poly_features),\n",
    "    ('scaling', StandardScaler())\n",
    "])"
   ]
  },
  {
   "cell_type": "code",
   "execution_count": 76,
   "metadata": {},
   "outputs": [],
   "source": [
    "dataset_prepared_stand_poly = full_pipeline_stand_poly.fit_transform(dataset)"
   ]
  },
  {
   "cell_type": "code",
   "execution_count": 77,
   "metadata": {},
   "outputs": [
    {
     "data": {
      "text/plain": [
       "(1238, 209)"
      ]
     },
     "execution_count": 77,
     "metadata": {},
     "output_type": "execute_result"
    }
   ],
   "source": [
    "dataset_prepared_stand_poly.shape"
   ]
  },
  {
   "cell_type": "markdown",
   "metadata": {},
   "source": [
    "\n",
    "### Hyperparameters search on polynomial regression with elastic net regularization"
   ]
  },
  {
   "cell_type": "code",
   "execution_count": 78,
   "metadata": {},
   "outputs": [
    {
     "name": "stdout",
     "output_type": "stream",
     "text": [
      "Fitting 3 folds for each of 12 candidates, totalling 36 fits\n"
     ]
    },
    {
     "name": "stderr",
     "output_type": "stream",
     "text": [
      "[Parallel(n_jobs=1)]: Using backend SequentialBackend with 1 concurrent workers.\n",
      "C:\\Users\\giaco\\anaconda3\\envs\\data_analysis\\lib\\site-packages\\sklearn\\linear_model\\_stochastic_gradient.py:1211: ConvergenceWarning: Maximum number of iteration reached before convergence. Consider increasing max_iter to improve the fit.\n",
      "  ConvergenceWarning)\n",
      "C:\\Users\\giaco\\anaconda3\\envs\\data_analysis\\lib\\site-packages\\sklearn\\linear_model\\_stochastic_gradient.py:1211: ConvergenceWarning: Maximum number of iteration reached before convergence. Consider increasing max_iter to improve the fit.\n",
      "  ConvergenceWarning)\n",
      "C:\\Users\\giaco\\anaconda3\\envs\\data_analysis\\lib\\site-packages\\sklearn\\linear_model\\_stochastic_gradient.py:1211: ConvergenceWarning: Maximum number of iteration reached before convergence. Consider increasing max_iter to improve the fit.\n",
      "  ConvergenceWarning)\n",
      "C:\\Users\\giaco\\anaconda3\\envs\\data_analysis\\lib\\site-packages\\sklearn\\linear_model\\_stochastic_gradient.py:1211: ConvergenceWarning: Maximum number of iteration reached before convergence. Consider increasing max_iter to improve the fit.\n",
      "  ConvergenceWarning)\n",
      "C:\\Users\\giaco\\anaconda3\\envs\\data_analysis\\lib\\site-packages\\sklearn\\linear_model\\_stochastic_gradient.py:1211: ConvergenceWarning: Maximum number of iteration reached before convergence. Consider increasing max_iter to improve the fit.\n",
      "  ConvergenceWarning)\n",
      "C:\\Users\\giaco\\anaconda3\\envs\\data_analysis\\lib\\site-packages\\sklearn\\linear_model\\_stochastic_gradient.py:1211: ConvergenceWarning: Maximum number of iteration reached before convergence. Consider increasing max_iter to improve the fit.\n",
      "  ConvergenceWarning)\n",
      "C:\\Users\\giaco\\anaconda3\\envs\\data_analysis\\lib\\site-packages\\sklearn\\linear_model\\_stochastic_gradient.py:1211: ConvergenceWarning: Maximum number of iteration reached before convergence. Consider increasing max_iter to improve the fit.\n",
      "  ConvergenceWarning)\n",
      "[Parallel(n_jobs=1)]: Done  36 out of  36 | elapsed:   27.0s finished\n",
      "C:\\Users\\giaco\\anaconda3\\envs\\data_analysis\\lib\\site-packages\\sklearn\\linear_model\\_stochastic_gradient.py:1211: ConvergenceWarning: Maximum number of iteration reached before convergence. Consider increasing max_iter to improve the fit.\n",
      "  ConvergenceWarning)\n"
     ]
    },
    {
     "data": {
      "text/plain": [
       "GridSearchCV(cv=PredefinedSplit(test_fold=array([0, 2, ..., 1, 1])),\n",
       "             estimator=SGDRegressor(learning_rate='optimal',\n",
       "                                    penalty='elasticnet'),\n",
       "             param_grid={'alpha': [0.01, 0.1, 1],\n",
       "                         'l1_ratio': array([0.  , 0.25, 0.5 , 0.75]),\n",
       "                         'max_iter': [3000]},\n",
       "             refit='neg_root_mean_squared_error', return_train_score=True,\n",
       "             scoring=['neg_root_mean_squared_error', 'r2'], verbose=1)"
      ]
     },
     "execution_count": 78,
     "metadata": {},
     "output_type": "execute_result"
    }
   ],
   "source": [
    "from sklearn.linear_model import SGDRegressor\n",
    "\n",
    "el_net_pol_reg = SGDRegressor(penalty='elasticnet', learning_rate='optimal') # Optimal much faster and converging\n",
    "\n",
    "param_grid = {\n",
    "    \"max_iter\": [3000],\n",
    "    \"alpha\": [0.01, 0.1, 1],\n",
    "    \"l1_ratio\": np.arange(0.0, 1.0, 0.25),\n",
    "    }\n",
    "\n",
    "srch_pol_reg = GridSearchCV(el_net_pol_reg, param_grid, cv=cv_split,\n",
    "                                   scoring=['neg_root_mean_squared_error', 'r2'], refit='neg_root_mean_squared_error',\n",
    "                                   return_train_score=True, verbose=1)\n",
    "\n",
    "srch_pol_reg.fit(dataset_prepared_stand_poly, dataset_labels)"
   ]
  },
  {
   "cell_type": "code",
   "execution_count": 79,
   "metadata": {},
   "outputs": [
    {
     "name": "stdout",
     "output_type": "stream",
     "text": [
      "Best estimator: SGDRegressor(alpha=0.1, l1_ratio=0.25, learning_rate='optimal', max_iter=3000,\n",
      "             penalty='elasticnet')\n",
      "Best parameters: {'alpha': 0.1, 'l1_ratio': 0.25, 'max_iter': 3000}\n",
      "\n",
      "neg_root_mean_squared_error mean on test sets: -0.007724907700068509\n",
      "neg_root_mean_squared_error mean on train sets: -0.007727231004019708\n",
      "\n",
      "r2 mean on test sets: -0.0023958935400603862\n",
      "r2 mean on train sets: -0.0003001282693805655\n"
     ]
    }
   ],
   "source": [
    "get_grid_search_results(srch_pol_reg)"
   ]
  },
  {
   "cell_type": "code",
   "execution_count": 80,
   "metadata": {
    "scrolled": true
   },
   "outputs": [
    {
     "name": "stdout",
     "output_type": "stream",
     "text": [
      "Cross validation scores\n",
      "Cross-validation RMSE\n",
      "Scores: [7.3583196186e-03 3.8160182642e+07 7.6306424876e-03]\n",
      "Mean: 12720060.885803578\n",
      "Standard deviation: 17988882.60831615\n",
      "\n",
      "Cross-validation adjR2\n",
      "Scores: [-1.0346608118e+00 -4.4235954471e+19 -1.0491722743e+00]\n",
      "Mean: -1.4745318157030414e+19\n",
      "Standard deviation: 2.0853028919178658e+19\n",
      "\n",
      "\n",
      "Scores on training set\n",
      "RMSE score: 0.007731137055736371\n",
      "Adjusted R2 score: -0.20371712020818444\n"
     ]
    },
    {
     "name": "stderr",
     "output_type": "stream",
     "text": [
      "C:\\Users\\giaco\\anaconda3\\envs\\data_analysis\\lib\\site-packages\\sklearn\\linear_model\\_stochastic_gradient.py:1211: ConvergenceWarning: Maximum number of iteration reached before convergence. Consider increasing max_iter to improve the fit.\n",
      "  ConvergenceWarning)\n"
     ]
    }
   ],
   "source": [
    "pol_reg = srch_pol_reg.best_estimator_\n",
    "test_regressor(pol_reg, dataset_prepared_stand_poly, dataset_labels)"
   ]
  },
  {
   "cell_type": "markdown",
   "metadata": {},
   "source": [
    "### Second iteration"
   ]
  },
  {
   "cell_type": "code",
   "execution_count": 81,
   "metadata": {},
   "outputs": [
    {
     "name": "stderr",
     "output_type": "stream",
     "text": [
      "[Parallel(n_jobs=1)]: Using backend SequentialBackend with 1 concurrent workers.\n"
     ]
    },
    {
     "name": "stdout",
     "output_type": "stream",
     "text": [
      "Fitting 3 folds for each of 100 candidates, totalling 300 fits\n"
     ]
    },
    {
     "name": "stderr",
     "output_type": "stream",
     "text": [
      "C:\\Users\\giaco\\anaconda3\\envs\\data_analysis\\lib\\site-packages\\sklearn\\linear_model\\_stochastic_gradient.py:1211: ConvergenceWarning: Maximum number of iteration reached before convergence. Consider increasing max_iter to improve the fit.\n",
      "  ConvergenceWarning)\n",
      "C:\\Users\\giaco\\anaconda3\\envs\\data_analysis\\lib\\site-packages\\sklearn\\linear_model\\_stochastic_gradient.py:1211: ConvergenceWarning: Maximum number of iteration reached before convergence. Consider increasing max_iter to improve the fit.\n",
      "  ConvergenceWarning)\n",
      "C:\\Users\\giaco\\anaconda3\\envs\\data_analysis\\lib\\site-packages\\sklearn\\linear_model\\_stochastic_gradient.py:1211: ConvergenceWarning: Maximum number of iteration reached before convergence. Consider increasing max_iter to improve the fit.\n",
      "  ConvergenceWarning)\n",
      "C:\\Users\\giaco\\anaconda3\\envs\\data_analysis\\lib\\site-packages\\sklearn\\linear_model\\_stochastic_gradient.py:1211: ConvergenceWarning: Maximum number of iteration reached before convergence. Consider increasing max_iter to improve the fit.\n",
      "  ConvergenceWarning)\n",
      "C:\\Users\\giaco\\anaconda3\\envs\\data_analysis\\lib\\site-packages\\sklearn\\linear_model\\_stochastic_gradient.py:1211: ConvergenceWarning: Maximum number of iteration reached before convergence. Consider increasing max_iter to improve the fit.\n",
      "  ConvergenceWarning)\n",
      "C:\\Users\\giaco\\anaconda3\\envs\\data_analysis\\lib\\site-packages\\sklearn\\linear_model\\_stochastic_gradient.py:1211: ConvergenceWarning: Maximum number of iteration reached before convergence. Consider increasing max_iter to improve the fit.\n",
      "  ConvergenceWarning)\n",
      "C:\\Users\\giaco\\anaconda3\\envs\\data_analysis\\lib\\site-packages\\sklearn\\linear_model\\_stochastic_gradient.py:1211: ConvergenceWarning: Maximum number of iteration reached before convergence. Consider increasing max_iter to improve the fit.\n",
      "  ConvergenceWarning)\n",
      "C:\\Users\\giaco\\anaconda3\\envs\\data_analysis\\lib\\site-packages\\sklearn\\linear_model\\_stochastic_gradient.py:1211: ConvergenceWarning: Maximum number of iteration reached before convergence. Consider increasing max_iter to improve the fit.\n",
      "  ConvergenceWarning)\n",
      "C:\\Users\\giaco\\anaconda3\\envs\\data_analysis\\lib\\site-packages\\sklearn\\linear_model\\_stochastic_gradient.py:1211: ConvergenceWarning: Maximum number of iteration reached before convergence. Consider increasing max_iter to improve the fit.\n",
      "  ConvergenceWarning)\n",
      "C:\\Users\\giaco\\anaconda3\\envs\\data_analysis\\lib\\site-packages\\sklearn\\linear_model\\_stochastic_gradient.py:1211: ConvergenceWarning: Maximum number of iteration reached before convergence. Consider increasing max_iter to improve the fit.\n",
      "  ConvergenceWarning)\n",
      "C:\\Users\\giaco\\anaconda3\\envs\\data_analysis\\lib\\site-packages\\sklearn\\linear_model\\_stochastic_gradient.py:1211: ConvergenceWarning: Maximum number of iteration reached before convergence. Consider increasing max_iter to improve the fit.\n",
      "  ConvergenceWarning)\n",
      "C:\\Users\\giaco\\anaconda3\\envs\\data_analysis\\lib\\site-packages\\sklearn\\linear_model\\_stochastic_gradient.py:1211: ConvergenceWarning: Maximum number of iteration reached before convergence. Consider increasing max_iter to improve the fit.\n",
      "  ConvergenceWarning)\n",
      "C:\\Users\\giaco\\anaconda3\\envs\\data_analysis\\lib\\site-packages\\sklearn\\linear_model\\_stochastic_gradient.py:1211: ConvergenceWarning: Maximum number of iteration reached before convergence. Consider increasing max_iter to improve the fit.\n",
      "  ConvergenceWarning)\n",
      "C:\\Users\\giaco\\anaconda3\\envs\\data_analysis\\lib\\site-packages\\sklearn\\linear_model\\_stochastic_gradient.py:1211: ConvergenceWarning: Maximum number of iteration reached before convergence. Consider increasing max_iter to improve the fit.\n",
      "  ConvergenceWarning)\n",
      "C:\\Users\\giaco\\anaconda3\\envs\\data_analysis\\lib\\site-packages\\sklearn\\linear_model\\_stochastic_gradient.py:1211: ConvergenceWarning: Maximum number of iteration reached before convergence. Consider increasing max_iter to improve the fit.\n",
      "  ConvergenceWarning)\n",
      "C:\\Users\\giaco\\anaconda3\\envs\\data_analysis\\lib\\site-packages\\sklearn\\linear_model\\_stochastic_gradient.py:1211: ConvergenceWarning: Maximum number of iteration reached before convergence. Consider increasing max_iter to improve the fit.\n",
      "  ConvergenceWarning)\n",
      "C:\\Users\\giaco\\anaconda3\\envs\\data_analysis\\lib\\site-packages\\sklearn\\linear_model\\_stochastic_gradient.py:1211: ConvergenceWarning: Maximum number of iteration reached before convergence. Consider increasing max_iter to improve the fit.\n",
      "  ConvergenceWarning)\n",
      "C:\\Users\\giaco\\anaconda3\\envs\\data_analysis\\lib\\site-packages\\sklearn\\linear_model\\_stochastic_gradient.py:1211: ConvergenceWarning: Maximum number of iteration reached before convergence. Consider increasing max_iter to improve the fit.\n",
      "  ConvergenceWarning)\n",
      "C:\\Users\\giaco\\anaconda3\\envs\\data_analysis\\lib\\site-packages\\sklearn\\linear_model\\_stochastic_gradient.py:1211: ConvergenceWarning: Maximum number of iteration reached before convergence. Consider increasing max_iter to improve the fit.\n",
      "  ConvergenceWarning)\n",
      "C:\\Users\\giaco\\anaconda3\\envs\\data_analysis\\lib\\site-packages\\sklearn\\linear_model\\_stochastic_gradient.py:1211: ConvergenceWarning: Maximum number of iteration reached before convergence. Consider increasing max_iter to improve the fit.\n",
      "  ConvergenceWarning)\n",
      "C:\\Users\\giaco\\anaconda3\\envs\\data_analysis\\lib\\site-packages\\sklearn\\linear_model\\_stochastic_gradient.py:1211: ConvergenceWarning: Maximum number of iteration reached before convergence. Consider increasing max_iter to improve the fit.\n",
      "  ConvergenceWarning)\n",
      "C:\\Users\\giaco\\anaconda3\\envs\\data_analysis\\lib\\site-packages\\sklearn\\linear_model\\_stochastic_gradient.py:1211: ConvergenceWarning: Maximum number of iteration reached before convergence. Consider increasing max_iter to improve the fit.\n",
      "  ConvergenceWarning)\n",
      "C:\\Users\\giaco\\anaconda3\\envs\\data_analysis\\lib\\site-packages\\sklearn\\linear_model\\_stochastic_gradient.py:1211: ConvergenceWarning: Maximum number of iteration reached before convergence. Consider increasing max_iter to improve the fit.\n",
      "  ConvergenceWarning)\n",
      "C:\\Users\\giaco\\anaconda3\\envs\\data_analysis\\lib\\site-packages\\sklearn\\linear_model\\_stochastic_gradient.py:1211: ConvergenceWarning: Maximum number of iteration reached before convergence. Consider increasing max_iter to improve the fit.\n",
      "  ConvergenceWarning)\n",
      "C:\\Users\\giaco\\anaconda3\\envs\\data_analysis\\lib\\site-packages\\sklearn\\linear_model\\_stochastic_gradient.py:1211: ConvergenceWarning: Maximum number of iteration reached before convergence. Consider increasing max_iter to improve the fit.\n",
      "  ConvergenceWarning)\n",
      "C:\\Users\\giaco\\anaconda3\\envs\\data_analysis\\lib\\site-packages\\sklearn\\linear_model\\_stochastic_gradient.py:1211: ConvergenceWarning: Maximum number of iteration reached before convergence. Consider increasing max_iter to improve the fit.\n",
      "  ConvergenceWarning)\n",
      "C:\\Users\\giaco\\anaconda3\\envs\\data_analysis\\lib\\site-packages\\sklearn\\linear_model\\_stochastic_gradient.py:1211: ConvergenceWarning: Maximum number of iteration reached before convergence. Consider increasing max_iter to improve the fit.\n",
      "  ConvergenceWarning)\n",
      "C:\\Users\\giaco\\anaconda3\\envs\\data_analysis\\lib\\site-packages\\sklearn\\linear_model\\_stochastic_gradient.py:1211: ConvergenceWarning: Maximum number of iteration reached before convergence. Consider increasing max_iter to improve the fit.\n",
      "  ConvergenceWarning)\n",
      "C:\\Users\\giaco\\anaconda3\\envs\\data_analysis\\lib\\site-packages\\sklearn\\linear_model\\_stochastic_gradient.py:1211: ConvergenceWarning: Maximum number of iteration reached before convergence. Consider increasing max_iter to improve the fit.\n",
      "  ConvergenceWarning)\n",
      "C:\\Users\\giaco\\anaconda3\\envs\\data_analysis\\lib\\site-packages\\sklearn\\linear_model\\_stochastic_gradient.py:1211: ConvergenceWarning: Maximum number of iteration reached before convergence. Consider increasing max_iter to improve the fit.\n",
      "  ConvergenceWarning)\n",
      "C:\\Users\\giaco\\anaconda3\\envs\\data_analysis\\lib\\site-packages\\sklearn\\linear_model\\_stochastic_gradient.py:1211: ConvergenceWarning: Maximum number of iteration reached before convergence. Consider increasing max_iter to improve the fit.\n",
      "  ConvergenceWarning)\n",
      "C:\\Users\\giaco\\anaconda3\\envs\\data_analysis\\lib\\site-packages\\sklearn\\linear_model\\_stochastic_gradient.py:1211: ConvergenceWarning: Maximum number of iteration reached before convergence. Consider increasing max_iter to improve the fit.\n",
      "  ConvergenceWarning)\n"
     ]
    },
    {
     "name": "stderr",
     "output_type": "stream",
     "text": [
      "C:\\Users\\giaco\\anaconda3\\envs\\data_analysis\\lib\\site-packages\\sklearn\\linear_model\\_stochastic_gradient.py:1211: ConvergenceWarning: Maximum number of iteration reached before convergence. Consider increasing max_iter to improve the fit.\n",
      "  ConvergenceWarning)\n",
      "C:\\Users\\giaco\\anaconda3\\envs\\data_analysis\\lib\\site-packages\\sklearn\\linear_model\\_stochastic_gradient.py:1211: ConvergenceWarning: Maximum number of iteration reached before convergence. Consider increasing max_iter to improve the fit.\n",
      "  ConvergenceWarning)\n",
      "[Parallel(n_jobs=1)]: Done 300 out of 300 | elapsed:  2.6min finished\n"
     ]
    },
    {
     "data": {
      "text/plain": [
       "RandomizedSearchCV(cv=PredefinedSplit(test_fold=array([0, 2, ..., 1, 1])),\n",
       "                   estimator=SGDRegressor(learning_rate='optimal',\n",
       "                                          penalty='elasticnet'),\n",
       "                   n_iter=100,\n",
       "                   param_distributions={'alpha': <scipy.stats._distn_infrastructure.rv_frozen object at 0x00000232742EF908>,\n",
       "                                        'l1_ratio': <scipy.stats._distn_infrastructure.rv_frozen object at 0x00000232742F4FC8>,\n",
       "                                        'max_iter': [3000]},\n",
       "                   refit='neg_root_mean_squared_error', return_train_score=True,\n",
       "                   scoring=['neg_root_mean_squared_error', 'r2'], verbose=1)"
      ]
     },
     "execution_count": 81,
     "metadata": {},
     "output_type": "execute_result"
    }
   ],
   "source": [
    "param_grid = {\n",
    "    'max_iter': [3000],\n",
    "    \"alpha\": expon(scale=0.01),\n",
    "    \"l1_ratio\": uniform(0, 0.5),\n",
    "    }\n",
    "\n",
    "srch_pol_reg_2 = RandomizedSearchCV(el_net_pol_reg, param_grid, cv=cv_split, n_iter=100,\n",
    "                                        scoring=['neg_root_mean_squared_error', 'r2'], refit='neg_root_mean_squared_error',\n",
    "                                        return_train_score=True, verbose=1)\n",
    "\n",
    "srch_pol_reg_2.fit(dataset_prepared_stand_poly, dataset_labels)"
   ]
  },
  {
   "cell_type": "code",
   "execution_count": 82,
   "metadata": {},
   "outputs": [
    {
     "name": "stdout",
     "output_type": "stream",
     "text": [
      "Best estimator: SGDRegressor(alpha=0.0629985133150877, l1_ratio=0.4751546713633335,\n",
      "             learning_rate='optimal', max_iter=3000, penalty='elasticnet')\n",
      "Best parameters: {'alpha': 0.0629985133150877, 'l1_ratio': 0.4751546713633335, 'max_iter': 3000}\n",
      "\n",
      "neg_root_mean_squared_error mean on test sets: -0.007718589172359691\n",
      "neg_root_mean_squared_error mean on train sets: -0.007733580381857942\n",
      "\n",
      "r2 mean on test sets: -0.0008269147282153148\n",
      "r2 mean on train sets: -0.0019552537607551526\n"
     ]
    }
   ],
   "source": [
    "get_grid_search_results(srch_pol_reg_2)"
   ]
  },
  {
   "cell_type": "code",
   "execution_count": 83,
   "metadata": {},
   "outputs": [
    {
     "name": "stdout",
     "output_type": "stream",
     "text": [
      "Cross validation scores\n",
      "Cross-validation RMSE\n",
      "Scores: [0.0073583759 0.008203056  0.0076692942]\n",
      "Mean: 0.007743575340281778\n",
      "Standard deviation: 0.0003488164568576335\n",
      "\n",
      "Cross-validation adjR2\n",
      "Scores: [-1.0346919125 -1.0441175211 -1.0699843201]\n",
      "Mean: -1.0495979178845616\n",
      "Standard deviation: 0.014920111036491374\n",
      "\n",
      "\n",
      "Scores on training set\n",
      "RMSE score: 0.007729836716993171\n",
      "Adjusted R2 score: -0.20331223581325264\n"
     ]
    }
   ],
   "source": [
    "pol_reg = srch_pol_reg_2.best_estimator_\n",
    "name = 'Polynomial Regression'\n",
    "test_regressor(pol_reg, dataset_prepared_stand_poly, dataset_labels, name)"
   ]
  },
  {
   "cell_type": "markdown",
   "metadata": {},
   "source": [
    "## Linear SVM"
   ]
  },
  {
   "cell_type": "code",
   "execution_count": 84,
   "metadata": {},
   "outputs": [],
   "source": [
    "from sklearn.svm import LinearSVR"
   ]
  },
  {
   "cell_type": "code",
   "execution_count": 85,
   "metadata": {
    "scrolled": true
   },
   "outputs": [
    {
     "name": "stdout",
     "output_type": "stream",
     "text": [
      "Fitting 3 folds for each of 40 candidates, totalling 120 fits\n"
     ]
    },
    {
     "name": "stderr",
     "output_type": "stream",
     "text": [
      "[Parallel(n_jobs=1)]: Using backend SequentialBackend with 1 concurrent workers.\n",
      "C:\\Users\\giaco\\anaconda3\\envs\\data_analysis\\lib\\site-packages\\sklearn\\svm\\_base.py:977: ConvergenceWarning: Liblinear failed to converge, increase the number of iterations.\n",
      "  \"the number of iterations.\", ConvergenceWarning)\n",
      "C:\\Users\\giaco\\anaconda3\\envs\\data_analysis\\lib\\site-packages\\sklearn\\svm\\_base.py:977: ConvergenceWarning: Liblinear failed to converge, increase the number of iterations.\n",
      "  \"the number of iterations.\", ConvergenceWarning)\n",
      "C:\\Users\\giaco\\anaconda3\\envs\\data_analysis\\lib\\site-packages\\sklearn\\svm\\_base.py:977: ConvergenceWarning: Liblinear failed to converge, increase the number of iterations.\n",
      "  \"the number of iterations.\", ConvergenceWarning)\n",
      "C:\\Users\\giaco\\anaconda3\\envs\\data_analysis\\lib\\site-packages\\sklearn\\svm\\_base.py:977: ConvergenceWarning: Liblinear failed to converge, increase the number of iterations.\n",
      "  \"the number of iterations.\", ConvergenceWarning)\n",
      "C:\\Users\\giaco\\anaconda3\\envs\\data_analysis\\lib\\site-packages\\sklearn\\svm\\_base.py:977: ConvergenceWarning: Liblinear failed to converge, increase the number of iterations.\n",
      "  \"the number of iterations.\", ConvergenceWarning)\n",
      "C:\\Users\\giaco\\anaconda3\\envs\\data_analysis\\lib\\site-packages\\sklearn\\svm\\_base.py:977: ConvergenceWarning: Liblinear failed to converge, increase the number of iterations.\n",
      "  \"the number of iterations.\", ConvergenceWarning)\n",
      "C:\\Users\\giaco\\anaconda3\\envs\\data_analysis\\lib\\site-packages\\sklearn\\svm\\_base.py:977: ConvergenceWarning: Liblinear failed to converge, increase the number of iterations.\n",
      "  \"the number of iterations.\", ConvergenceWarning)\n",
      "C:\\Users\\giaco\\anaconda3\\envs\\data_analysis\\lib\\site-packages\\sklearn\\svm\\_base.py:977: ConvergenceWarning: Liblinear failed to converge, increase the number of iterations.\n",
      "  \"the number of iterations.\", ConvergenceWarning)\n",
      "C:\\Users\\giaco\\anaconda3\\envs\\data_analysis\\lib\\site-packages\\sklearn\\svm\\_base.py:977: ConvergenceWarning: Liblinear failed to converge, increase the number of iterations.\n",
      "  \"the number of iterations.\", ConvergenceWarning)\n",
      "C:\\Users\\giaco\\anaconda3\\envs\\data_analysis\\lib\\site-packages\\sklearn\\svm\\_base.py:977: ConvergenceWarning: Liblinear failed to converge, increase the number of iterations.\n",
      "  \"the number of iterations.\", ConvergenceWarning)\n",
      "C:\\Users\\giaco\\anaconda3\\envs\\data_analysis\\lib\\site-packages\\sklearn\\svm\\_base.py:977: ConvergenceWarning: Liblinear failed to converge, increase the number of iterations.\n",
      "  \"the number of iterations.\", ConvergenceWarning)\n",
      "C:\\Users\\giaco\\anaconda3\\envs\\data_analysis\\lib\\site-packages\\sklearn\\svm\\_base.py:977: ConvergenceWarning: Liblinear failed to converge, increase the number of iterations.\n",
      "  \"the number of iterations.\", ConvergenceWarning)\n",
      "C:\\Users\\giaco\\anaconda3\\envs\\data_analysis\\lib\\site-packages\\sklearn\\svm\\_base.py:977: ConvergenceWarning: Liblinear failed to converge, increase the number of iterations.\n",
      "  \"the number of iterations.\", ConvergenceWarning)\n",
      "C:\\Users\\giaco\\anaconda3\\envs\\data_analysis\\lib\\site-packages\\sklearn\\svm\\_base.py:977: ConvergenceWarning: Liblinear failed to converge, increase the number of iterations.\n",
      "  \"the number of iterations.\", ConvergenceWarning)\n",
      "C:\\Users\\giaco\\anaconda3\\envs\\data_analysis\\lib\\site-packages\\sklearn\\svm\\_base.py:977: ConvergenceWarning: Liblinear failed to converge, increase the number of iterations.\n",
      "  \"the number of iterations.\", ConvergenceWarning)\n",
      "C:\\Users\\giaco\\anaconda3\\envs\\data_analysis\\lib\\site-packages\\sklearn\\svm\\_base.py:977: ConvergenceWarning: Liblinear failed to converge, increase the number of iterations.\n",
      "  \"the number of iterations.\", ConvergenceWarning)\n",
      "C:\\Users\\giaco\\anaconda3\\envs\\data_analysis\\lib\\site-packages\\sklearn\\svm\\_base.py:977: ConvergenceWarning: Liblinear failed to converge, increase the number of iterations.\n",
      "  \"the number of iterations.\", ConvergenceWarning)\n",
      "C:\\Users\\giaco\\anaconda3\\envs\\data_analysis\\lib\\site-packages\\sklearn\\svm\\_base.py:977: ConvergenceWarning: Liblinear failed to converge, increase the number of iterations.\n",
      "  \"the number of iterations.\", ConvergenceWarning)\n",
      "C:\\Users\\giaco\\anaconda3\\envs\\data_analysis\\lib\\site-packages\\sklearn\\svm\\_base.py:977: ConvergenceWarning: Liblinear failed to converge, increase the number of iterations.\n",
      "  \"the number of iterations.\", ConvergenceWarning)\n",
      "C:\\Users\\giaco\\anaconda3\\envs\\data_analysis\\lib\\site-packages\\sklearn\\svm\\_base.py:977: ConvergenceWarning: Liblinear failed to converge, increase the number of iterations.\n",
      "  \"the number of iterations.\", ConvergenceWarning)\n",
      "C:\\Users\\giaco\\anaconda3\\envs\\data_analysis\\lib\\site-packages\\sklearn\\svm\\_base.py:977: ConvergenceWarning: Liblinear failed to converge, increase the number of iterations.\n",
      "  \"the number of iterations.\", ConvergenceWarning)\n",
      "C:\\Users\\giaco\\anaconda3\\envs\\data_analysis\\lib\\site-packages\\sklearn\\svm\\_base.py:977: ConvergenceWarning: Liblinear failed to converge, increase the number of iterations.\n",
      "  \"the number of iterations.\", ConvergenceWarning)\n",
      "C:\\Users\\giaco\\anaconda3\\envs\\data_analysis\\lib\\site-packages\\sklearn\\svm\\_base.py:977: ConvergenceWarning: Liblinear failed to converge, increase the number of iterations.\n",
      "  \"the number of iterations.\", ConvergenceWarning)\n",
      "C:\\Users\\giaco\\anaconda3\\envs\\data_analysis\\lib\\site-packages\\sklearn\\svm\\_base.py:977: ConvergenceWarning: Liblinear failed to converge, increase the number of iterations.\n",
      "  \"the number of iterations.\", ConvergenceWarning)\n",
      "C:\\Users\\giaco\\anaconda3\\envs\\data_analysis\\lib\\site-packages\\sklearn\\svm\\_base.py:977: ConvergenceWarning: Liblinear failed to converge, increase the number of iterations.\n",
      "  \"the number of iterations.\", ConvergenceWarning)\n",
      "C:\\Users\\giaco\\anaconda3\\envs\\data_analysis\\lib\\site-packages\\sklearn\\svm\\_base.py:977: ConvergenceWarning: Liblinear failed to converge, increase the number of iterations.\n",
      "  \"the number of iterations.\", ConvergenceWarning)\n",
      "C:\\Users\\giaco\\anaconda3\\envs\\data_analysis\\lib\\site-packages\\sklearn\\svm\\_base.py:977: ConvergenceWarning: Liblinear failed to converge, increase the number of iterations.\n",
      "  \"the number of iterations.\", ConvergenceWarning)\n",
      "C:\\Users\\giaco\\anaconda3\\envs\\data_analysis\\lib\\site-packages\\sklearn\\svm\\_base.py:977: ConvergenceWarning: Liblinear failed to converge, increase the number of iterations.\n",
      "  \"the number of iterations.\", ConvergenceWarning)\n",
      "C:\\Users\\giaco\\anaconda3\\envs\\data_analysis\\lib\\site-packages\\sklearn\\svm\\_base.py:977: ConvergenceWarning: Liblinear failed to converge, increase the number of iterations.\n",
      "  \"the number of iterations.\", ConvergenceWarning)\n",
      "C:\\Users\\giaco\\anaconda3\\envs\\data_analysis\\lib\\site-packages\\sklearn\\svm\\_base.py:977: ConvergenceWarning: Liblinear failed to converge, increase the number of iterations.\n",
      "  \"the number of iterations.\", ConvergenceWarning)\n",
      "C:\\Users\\giaco\\anaconda3\\envs\\data_analysis\\lib\\site-packages\\sklearn\\svm\\_base.py:977: ConvergenceWarning: Liblinear failed to converge, increase the number of iterations.\n",
      "  \"the number of iterations.\", ConvergenceWarning)\n",
      "C:\\Users\\giaco\\anaconda3\\envs\\data_analysis\\lib\\site-packages\\sklearn\\svm\\_base.py:977: ConvergenceWarning: Liblinear failed to converge, increase the number of iterations.\n",
      "  \"the number of iterations.\", ConvergenceWarning)\n",
      "C:\\Users\\giaco\\anaconda3\\envs\\data_analysis\\lib\\site-packages\\sklearn\\svm\\_base.py:977: ConvergenceWarning: Liblinear failed to converge, increase the number of iterations.\n",
      "  \"the number of iterations.\", ConvergenceWarning)\n",
      "C:\\Users\\giaco\\anaconda3\\envs\\data_analysis\\lib\\site-packages\\sklearn\\svm\\_base.py:977: ConvergenceWarning: Liblinear failed to converge, increase the number of iterations.\n",
      "  \"the number of iterations.\", ConvergenceWarning)\n",
      "C:\\Users\\giaco\\anaconda3\\envs\\data_analysis\\lib\\site-packages\\sklearn\\svm\\_base.py:977: ConvergenceWarning: Liblinear failed to converge, increase the number of iterations.\n",
      "  \"the number of iterations.\", ConvergenceWarning)\n",
      "C:\\Users\\giaco\\anaconda3\\envs\\data_analysis\\lib\\site-packages\\sklearn\\svm\\_base.py:977: ConvergenceWarning: Liblinear failed to converge, increase the number of iterations.\n",
      "  \"the number of iterations.\", ConvergenceWarning)\n",
      "C:\\Users\\giaco\\anaconda3\\envs\\data_analysis\\lib\\site-packages\\sklearn\\svm\\_base.py:977: ConvergenceWarning: Liblinear failed to converge, increase the number of iterations.\n",
      "  \"the number of iterations.\", ConvergenceWarning)\n"
     ]
    },
    {
     "name": "stderr",
     "output_type": "stream",
     "text": [
      "C:\\Users\\giaco\\anaconda3\\envs\\data_analysis\\lib\\site-packages\\sklearn\\svm\\_base.py:977: ConvergenceWarning: Liblinear failed to converge, increase the number of iterations.\n",
      "  \"the number of iterations.\", ConvergenceWarning)\n",
      "C:\\Users\\giaco\\anaconda3\\envs\\data_analysis\\lib\\site-packages\\sklearn\\svm\\_base.py:977: ConvergenceWarning: Liblinear failed to converge, increase the number of iterations.\n",
      "  \"the number of iterations.\", ConvergenceWarning)\n",
      "C:\\Users\\giaco\\anaconda3\\envs\\data_analysis\\lib\\site-packages\\sklearn\\svm\\_base.py:977: ConvergenceWarning: Liblinear failed to converge, increase the number of iterations.\n",
      "  \"the number of iterations.\", ConvergenceWarning)\n",
      "C:\\Users\\giaco\\anaconda3\\envs\\data_analysis\\lib\\site-packages\\sklearn\\svm\\_base.py:977: ConvergenceWarning: Liblinear failed to converge, increase the number of iterations.\n",
      "  \"the number of iterations.\", ConvergenceWarning)\n",
      "C:\\Users\\giaco\\anaconda3\\envs\\data_analysis\\lib\\site-packages\\sklearn\\svm\\_base.py:977: ConvergenceWarning: Liblinear failed to converge, increase the number of iterations.\n",
      "  \"the number of iterations.\", ConvergenceWarning)\n",
      "C:\\Users\\giaco\\anaconda3\\envs\\data_analysis\\lib\\site-packages\\sklearn\\svm\\_base.py:977: ConvergenceWarning: Liblinear failed to converge, increase the number of iterations.\n",
      "  \"the number of iterations.\", ConvergenceWarning)\n",
      "C:\\Users\\giaco\\anaconda3\\envs\\data_analysis\\lib\\site-packages\\sklearn\\svm\\_base.py:977: ConvergenceWarning: Liblinear failed to converge, increase the number of iterations.\n",
      "  \"the number of iterations.\", ConvergenceWarning)\n",
      "[Parallel(n_jobs=1)]: Done 120 out of 120 | elapsed:    8.0s finished\n"
     ]
    },
    {
     "data": {
      "text/plain": [
       "GridSearchCV(cv=PredefinedSplit(test_fold=array([0, 2, ..., 1, 1])),\n",
       "             estimator=LinearSVR(max_iter=3000),\n",
       "             param_grid={'C': [0.001, 0.01, 0.1, 1, 10],\n",
       "                         'epsilon': [0, 0.001, 0.01, 1],\n",
       "                         'loss': ['epsilon_insensitive',\n",
       "                                  'squared_epsilon_insensitive']},\n",
       "             refit='neg_root_mean_squared_error', return_train_score=True,\n",
       "             scoring=['neg_root_mean_squared_error', 'r2'], verbose=1)"
      ]
     },
     "execution_count": 85,
     "metadata": {},
     "output_type": "execute_result"
    }
   ],
   "source": [
    "lin_svr = LinearSVR(max_iter=3000)\n",
    "\n",
    "param_grid = {\n",
    "    \"epsilon\": [0, 0.001, 0.01, 1],\n",
    "    \"C\": [0.001, 0.01, 0.1, 1, 10],\n",
    "    \"loss\": [\"epsilon_insensitive\", \"squared_epsilon_insensitive\"]\n",
    "    }\n",
    "\n",
    "srch_lin_svr = GridSearchCV(lin_svr, param_grid, cv=cv_split,\n",
    "                                  scoring=['neg_root_mean_squared_error', 'r2'], refit='neg_root_mean_squared_error',\n",
    "                                  return_train_score=True, verbose=1)\n",
    "\n",
    "srch_lin_svr.fit(dataset_prepared_stand, dataset_labels)"
   ]
  },
  {
   "cell_type": "code",
   "execution_count": 86,
   "metadata": {},
   "outputs": [
    {
     "name": "stdout",
     "output_type": "stream",
     "text": [
      "Best estimator: LinearSVR(C=0.01, epsilon=0, loss='squared_epsilon_insensitive', max_iter=3000)\n",
      "Best parameters: {'C': 0.01, 'epsilon': 0, 'loss': 'squared_epsilon_insensitive'}\n",
      "\n",
      "neg_root_mean_squared_error mean on test sets: -0.006969010208365412\n",
      "neg_root_mean_squared_error mean on train sets: -0.006787353472561469\n",
      "\n",
      "r2 mean on test sets: 0.18242066602700427\n",
      "r2 mean on train sets: 0.22769417561307695\n"
     ]
    }
   ],
   "source": [
    "get_grid_search_results(srch_lin_svr)"
   ]
  },
  {
   "cell_type": "code",
   "execution_count": 87,
   "metadata": {
    "scrolled": true
   },
   "outputs": [
    {
     "name": "stdout",
     "output_type": "stream",
     "text": [
      "Cross validation scores\n",
      "Cross-validation RMSE\n",
      "Scores: [0.0068431782 0.0072470283 0.0068830986]\n",
      "Mean: 0.006991101701809999\n",
      "Standard deviation: 0.00018169981010727912\n",
      "\n",
      "Cross-validation adjR2\n",
      "Scores: [0.0931912063 0.1778714483 0.1408093452]\n",
      "Mean: 0.13729066659517783\n",
      "Standard deviation: 0.03465998334238015\n",
      "\n",
      "\n",
      "Scores on training set\n",
      "RMSE score: 0.006807525614128264\n",
      "Adjusted R2 score: 0.21229774781938981\n"
     ]
    }
   ],
   "source": [
    "lin_svr = srch_lin_svr.best_estimator_\n",
    "test_regressor(lin_reg_sq, dataset_prepared_stand, dataset_labels)"
   ]
  },
  {
   "cell_type": "markdown",
   "metadata": {},
   "source": [
    "### Second iteration"
   ]
  },
  {
   "cell_type": "code",
   "execution_count": 88,
   "metadata": {},
   "outputs": [
    {
     "name": "stdout",
     "output_type": "stream",
     "text": [
      "Fitting 3 folds for each of 50 candidates, totalling 150 fits\n"
     ]
    },
    {
     "name": "stderr",
     "output_type": "stream",
     "text": [
      "[Parallel(n_jobs=1)]: Using backend SequentialBackend with 1 concurrent workers.\n",
      "[Parallel(n_jobs=1)]: Done 150 out of 150 | elapsed:    1.5s finished\n"
     ]
    },
    {
     "data": {
      "text/plain": [
       "RandomizedSearchCV(cv=PredefinedSplit(test_fold=array([0, 2, ..., 1, 1])),\n",
       "                   estimator=LinearSVR(C=0.01, epsilon=0,\n",
       "                                       loss='squared_epsilon_insensitive',\n",
       "                                       max_iter=3000),\n",
       "                   n_iter=50,\n",
       "                   param_distributions={'C': <scipy.stats._distn_infrastructure.rv_frozen object at 0x0000023273FBD8C8>,\n",
       "                                        'epsilon': <scipy.stats._distn_infrastructure.rv_frozen object at 0x0000023273FC6A48>,\n",
       "                                        'loss': ['squared_epsilon_insensitive']},\n",
       "                   refit='neg_root_mean_squared_error', return_train_score=True,\n",
       "                   scoring=['neg_root_mean_squared_error', 'r2'], verbose=1)"
      ]
     },
     "execution_count": 88,
     "metadata": {},
     "output_type": "execute_result"
    }
   ],
   "source": [
    "param_grid = {\n",
    "    \"epsilon\": expon(scale=0),\n",
    "    \"C\": expon(scale=0.1),\n",
    "    \"loss\": [\"squared_epsilon_insensitive\"]\n",
    "    }\n",
    "\n",
    "srch_lin_svr_2 = RandomizedSearchCV(lin_svr, param_grid, cv=cv_split, n_iter=50,\n",
    "                                  scoring=['neg_root_mean_squared_error', 'r2'], refit='neg_root_mean_squared_error',\n",
    "                                  return_train_score=True, verbose=1)\n",
    "\n",
    "srch_lin_svr_2.fit(dataset_prepared_stand, dataset_labels)"
   ]
  },
  {
   "cell_type": "code",
   "execution_count": 89,
   "metadata": {},
   "outputs": [
    {
     "name": "stdout",
     "output_type": "stream",
     "text": [
      "Cross validation scores\n",
      "Cross-validation RMSE\n",
      "Scores: [0.0068404131 0.0072545182 0.0068843839]\n",
      "Mean: 0.006993105072331303\n",
      "Standard deviation: 0.0001857166192840848\n",
      "\n",
      "Cross-validation adjR2\n",
      "Scores: [0.0939238752 0.1761711993 0.1404884496]\n",
      "Mean: 0.13686117468601663\n",
      "Standard deviation: 0.03367514833919346\n",
      "\n",
      "\n",
      "Scores on training set\n",
      "RMSE score: 0.0068077177796571665\n",
      "Adjusted R2 score: 0.21225327604948596\n"
     ]
    }
   ],
   "source": [
    "lin_svr = srch_lin_svr.best_estimator_\n",
    "test_regressor(lin_reg_sq, dataset_prepared_stand, dataset_labels, 'Linear SVM')"
   ]
  },
  {
   "cell_type": "markdown",
   "metadata": {},
   "source": [
    "## Linear SVM with squared cumulative adoption"
   ]
  },
  {
   "cell_type": "code",
   "execution_count": 90,
   "metadata": {},
   "outputs": [
    {
     "name": "stderr",
     "output_type": "stream",
     "text": [
      "[Parallel(n_jobs=1)]: Using backend SequentialBackend with 1 concurrent workers.\n"
     ]
    },
    {
     "name": "stdout",
     "output_type": "stream",
     "text": [
      "Fitting 3 folds for each of 50 candidates, totalling 150 fits\n"
     ]
    },
    {
     "name": "stderr",
     "output_type": "stream",
     "text": [
      "[Parallel(n_jobs=1)]: Done 150 out of 150 | elapsed:    2.8s finished\n"
     ]
    },
    {
     "data": {
      "text/plain": [
       "RandomizedSearchCV(cv=PredefinedSplit(test_fold=array([0, 2, ..., 1, 1])),\n",
       "                   estimator=LinearSVR(C=0.01, epsilon=0,\n",
       "                                       loss='squared_epsilon_insensitive',\n",
       "                                       max_iter=3000),\n",
       "                   n_iter=50,\n",
       "                   param_distributions={'C': <scipy.stats._distn_infrastructure.rv_frozen object at 0x0000023273FB1288>,\n",
       "                                        'epsilon': <scipy.stats._distn_infrastructure.rv_frozen object at 0x0000023273FC1648>,\n",
       "                                        'loss': ['squared_epsilon_insensitive']},\n",
       "                   refit='neg_root_mean_squared_error', return_train_score=True,\n",
       "                   scoring=['neg_root_mean_squared_error', 'r2'], verbose=1)"
      ]
     },
     "execution_count": 90,
     "metadata": {},
     "output_type": "execute_result"
    }
   ],
   "source": [
    "param_grid = {\n",
    "    \"epsilon\": expon(scale=0),\n",
    "    \"C\": expon(scale=0.1),\n",
    "    \"loss\": [\"squared_epsilon_insensitive\"]\n",
    "    }\n",
    "\n",
    "srch_lin_svr_sq_2 = RandomizedSearchCV(lin_svr, param_grid, cv=cv_split, n_iter=50,\n",
    "                                  scoring=['neg_root_mean_squared_error', 'r2'], refit='neg_root_mean_squared_error',\n",
    "                                  return_train_score=True, verbose=1)\n",
    "\n",
    "srch_lin_svr_sq_2.fit(dataset_stand_sq_cum_ad, dataset_labels)"
   ]
  },
  {
   "cell_type": "code",
   "execution_count": 91,
   "metadata": {},
   "outputs": [
    {
     "name": "stdout",
     "output_type": "stream",
     "text": [
      "Best estimator: LinearSVR(C=0.5534785384380068, loss='squared_epsilon_insensitive',\n",
      "          max_iter=3000)\n",
      "Best parameters: {'C': 0.5534785384380068, 'epsilon': 0.0, 'loss': 'squared_epsilon_insensitive'}\n",
      "\n",
      "neg_root_mean_squared_error mean on test sets: -0.006693175807011859\n",
      "neg_root_mean_squared_error mean on train sets: -0.006505222706168364\n",
      "\n",
      "r2 mean on test sets: 0.24620326867489803\n",
      "r2 mean on train sets: 0.2906710911884742\n"
     ]
    }
   ],
   "source": [
    "get_grid_search_results(srch_lin_svr_sq_2)"
   ]
  },
  {
   "cell_type": "code",
   "execution_count": 92,
   "metadata": {},
   "outputs": [
    {
     "name": "stdout",
     "output_type": "stream",
     "text": [
      "Cross validation scores\n",
      "Cross-validation RMSE\n",
      "Scores: [0.0064714281 0.0069506374 0.0066586532]\n",
      "Mean: 0.006693572906571649\n",
      "Standard deviation: 0.00019718847490015384\n",
      "\n",
      "Cross-validation adjR2\n",
      "Scores: [0.1869643377 0.2418093988 0.19387264  ]\n",
      "Mean: 0.20754879216989333\n",
      "Standard deviation: 0.024389520091372883\n",
      "\n",
      "\n",
      "Scores on training set\n",
      "RMSE score: 0.0065370662257006485\n",
      "Adjusted R2 score: 0.27304756008127495\n"
     ]
    }
   ],
   "source": [
    "lin_svr_sq = srch_lin_svr_sq_2.best_estimator_\n",
    "name = \"Linear SVM + cum_ad_sq\"\n",
    "test_regressor(lin_svr_sq, dataset_stand_sq_cum_ad, dataset_labels, name)"
   ]
  },
  {
   "cell_type": "markdown",
   "metadata": {},
   "source": [
    "## Non-linear SVM"
   ]
  },
  {
   "cell_type": "code",
   "execution_count": 93,
   "metadata": {},
   "outputs": [],
   "source": [
    "from sklearn.svm import SVR"
   ]
  },
  {
   "cell_type": "raw",
   "metadata": {
    "scrolled": true
   },
   "source": [
    "nl_svr = SVR()\n",
    "test_model(nl_svr, None, dataset_prepared_stand)"
   ]
  },
  {
   "cell_type": "markdown",
   "metadata": {},
   "source": [
    "### GridSearchCV"
   ]
  },
  {
   "cell_type": "code",
   "execution_count": 94,
   "metadata": {},
   "outputs": [],
   "source": [
    "from sklearn.model_selection import KFold"
   ]
  },
  {
   "cell_type": "code",
   "execution_count": 95,
   "metadata": {},
   "outputs": [
    {
     "name": "stdout",
     "output_type": "stream",
     "text": [
      "Fitting 3 folds for each of 96 candidates, totalling 288 fits\n"
     ]
    },
    {
     "name": "stderr",
     "output_type": "stream",
     "text": [
      "[Parallel(n_jobs=1)]: Using backend SequentialBackend with 1 concurrent workers.\n",
      "[Parallel(n_jobs=1)]: Done 288 out of 288 | elapsed:   14.9s finished\n"
     ]
    },
    {
     "data": {
      "text/plain": [
       "GridSearchCV(cv=PredefinedSplit(test_fold=array([0, 2, ..., 1, 1])),\n",
       "             estimator=SVR(),\n",
       "             param_grid={'C': [0.001, 0.01, 0.1, 1], 'degree': [2, 3],\n",
       "                         'epsilon': [0.0001, 0.001, 0.1],\n",
       "                         'gamma': [0.001, 0.01, 0.1, 1]},\n",
       "             refit='neg_root_mean_squared_error', return_train_score=True,\n",
       "             scoring=['neg_root_mean_squared_error', 'r2'], verbose=1)"
      ]
     },
     "execution_count": 95,
     "metadata": {},
     "output_type": "execute_result"
    }
   ],
   "source": [
    "nl_svr = SVR()\n",
    "\n",
    "param_grid = {\n",
    "    \"degree\": [2, 3],\n",
    "    \"epsilon\": [0.0001, 0.001, 0.1],\n",
    "    \"C\": [0.001, 0.01, 0.1, 1],\n",
    "    \"gamma\": [0.001, 0.01, 0.1, 1],\n",
    "    }\n",
    " \n",
    "srch_nl_svr = GridSearchCV(nl_svr, param_grid, cv=cv_split,\n",
    "                                  scoring=['neg_root_mean_squared_error', 'r2'], refit='neg_root_mean_squared_error',\n",
    "                                  return_train_score=True, verbose=1)\n",
    "\n",
    "srch_nl_svr.fit(dataset_prepared_stand, dataset_labels)"
   ]
  },
  {
   "cell_type": "code",
   "execution_count": 96,
   "metadata": {},
   "outputs": [
    {
     "name": "stdout",
     "output_type": "stream",
     "text": [
      "Best estimator: SVR(C=0.01, degree=2, epsilon=0.001, gamma=0.1)\n",
      "Best parameters: {'C': 0.01, 'degree': 2, 'epsilon': 0.001, 'gamma': 0.1}\n",
      "\n",
      "neg_root_mean_squared_error mean on test sets: -0.006189450443366463\n",
      "neg_root_mean_squared_error mean on train sets: -0.0054603361233182554\n",
      "\n",
      "r2 mean on test sets: 0.3555829778148179\n",
      "r2 mean on train sets: 0.500638687990551\n"
     ]
    }
   ],
   "source": [
    "get_grid_search_results(srch_nl_svr)"
   ]
  },
  {
   "cell_type": "code",
   "execution_count": 97,
   "metadata": {},
   "outputs": [
    {
     "name": "stdout",
     "output_type": "stream",
     "text": [
      "Cross validation scores\n",
      "Cross-validation RMSE\n",
      "Scores: [0.0059452512 0.0064414843 0.0061816159]\n",
      "Mean: 0.006189450443366463\n",
      "Standard deviation: 0.00020266205650297945\n",
      "\n",
      "Cross-validation adjR2\n",
      "Scores: [0.3155520266 0.3504812079 0.3070122034]\n",
      "Mean: 0.32434847929053606\n",
      "Standard deviation: 0.018804640774544155\n",
      "\n",
      "\n",
      "Scores on training set\n",
      "RMSE score: 0.005532546142797762\n",
      "Adjusted R2 score: 0.47972422061953546\n"
     ]
    }
   ],
   "source": [
    "best_nl_svr = srch_nl_svr.best_estimator_\n",
    "test_regressor(best_nl_svr, dataset_prepared_stand, dataset_labels)"
   ]
  },
  {
   "cell_type": "markdown",
   "metadata": {},
   "source": [
    "### Second iteration"
   ]
  },
  {
   "cell_type": "code",
   "execution_count": 98,
   "metadata": {},
   "outputs": [
    {
     "name": "stdout",
     "output_type": "stream",
     "text": [
      "Fitting 3 folds for each of 300 candidates, totalling 900 fits\n"
     ]
    },
    {
     "name": "stderr",
     "output_type": "stream",
     "text": [
      "[Parallel(n_jobs=1)]: Using backend SequentialBackend with 1 concurrent workers.\n",
      "[Parallel(n_jobs=1)]: Done 900 out of 900 | elapsed:   56.1s finished\n"
     ]
    },
    {
     "data": {
      "text/plain": [
       "RandomizedSearchCV(cv=PredefinedSplit(test_fold=array([0, 2, ..., 1, 1])),\n",
       "                   estimator=SVR(), n_iter=300,\n",
       "                   param_distributions={'C': <scipy.stats._distn_infrastructure.rv_frozen object at 0x0000023273FD5308>,\n",
       "                                        'degree': [2],\n",
       "                                        'epsilon': <scipy.stats._distn_infrastructure.rv_frozen object at 0x0000023273FD5DC8>,\n",
       "                                        'gamma': <scipy.stats._distn_infrastructure.rv_frozen object at 0x0000023273FD5048>},\n",
       "                   refit='neg_root_mean_squared_error', return_train_score=True,\n",
       "                   scoring=['neg_root_mean_squared_error', 'r2'], verbose=1)"
      ]
     },
     "execution_count": 98,
     "metadata": {},
     "output_type": "execute_result"
    }
   ],
   "source": [
    "nl_svr = SVR()\n",
    "\n",
    "param_grid = {\n",
    "    \"degree\": [2],\n",
    "    \"epsilon\": expon(scale = 0.001),\n",
    "    \"C\": expon(scale = 0.1),\n",
    "    \"gamma\": expon(scale=0.01)\n",
    "    }\n",
    "\n",
    "srch_nl_svr_2 = RandomizedSearchCV(nl_svr, param_grid, cv=cv_split, n_iter=300,\n",
    "                                  scoring=['neg_root_mean_squared_error', 'r2'], refit='neg_root_mean_squared_error',\n",
    "                                  return_train_score=True, verbose=1)\n",
    "\n",
    "srch_nl_svr_2.fit(dataset_prepared_stand, dataset_labels)"
   ]
  },
  {
   "cell_type": "code",
   "execution_count": 99,
   "metadata": {},
   "outputs": [
    {
     "name": "stdout",
     "output_type": "stream",
     "text": [
      "Best estimator: SVR(C=0.04426005290076512, degree=2, epsilon=0.0023379804957184,\n",
      "    gamma=0.03241953111615956)\n",
      "Best parameters: {'C': 0.04426005290076512, 'degree': 2, 'epsilon': 0.0023379804957184, 'gamma': 0.03241953111615956}\n",
      "\n",
      "neg_root_mean_squared_error mean on test sets: -0.006231825404602888\n",
      "neg_root_mean_squared_error mean on train sets: -0.005439492383074816\n",
      "\n",
      "r2 mean on test sets: 0.3472230349801559\n",
      "r2 mean on train sets: 0.504312124722867\n"
     ]
    }
   ],
   "source": [
    "get_grid_search_results(srch_nl_svr_2)"
   ]
  },
  {
   "cell_type": "code",
   "execution_count": 100,
   "metadata": {},
   "outputs": [
    {
     "name": "stdout",
     "output_type": "stream",
     "text": [
      "Cross validation scores\n",
      "Cross-validation RMSE\n",
      "Scores: [0.0060124727 0.0065793985 0.006103605 ]\n",
      "Mean: 0.006231825404602888\n",
      "Standard deviation: 0.00024857135076988\n",
      "\n",
      "Cross-validation adjR2\n",
      "Scores: [0.299986748  0.322370662  0.3243925955]\n",
      "Mean: 0.31558333514501036\n",
      "Standard deviation: 0.011059300807066977\n",
      "\n",
      "\n",
      "Scores on training set\n",
      "RMSE score: 0.005506046142999872\n",
      "Adjusted R2 score: 0.4846963575732497\n"
     ]
    }
   ],
   "source": [
    "best_nl_svr = srch_nl_svr_2.best_estimator_\n",
    "test_regressor(best_nl_svr, dataset_prepared_stand, dataset_labels)"
   ]
  },
  {
   "cell_type": "markdown",
   "metadata": {},
   "source": [
    "### Third iteration"
   ]
  },
  {
   "cell_type": "code",
   "execution_count": 101,
   "metadata": {},
   "outputs": [
    {
     "name": "stdout",
     "output_type": "stream",
     "text": [
      "Best estimator: SVR(C=0.01, degree=2, epsilon=0.001, gamma=0.1)\n",
      "Best parameters: {'C': 0.01, 'degree': 2, 'epsilon': 0.001, 'gamma': 0.1}\n",
      "\n",
      "neg_root_mean_squared_error mean on test sets: -0.006189450443366463\n",
      "neg_root_mean_squared_error mean on train sets: -0.0054603361233182554\n",
      "\n",
      "r2 mean on test sets: 0.3555829778148179\n",
      "r2 mean on train sets: 0.500638687990551\n",
      "\n",
      "Best estimator: SVR(C=0.04426005290076512, degree=2, epsilon=0.0023379804957184,\n",
      "    gamma=0.03241953111615956)\n",
      "Best parameters: {'C': 0.04426005290076512, 'degree': 2, 'epsilon': 0.0023379804957184, 'gamma': 0.03241953111615956}\n",
      "\n",
      "neg_root_mean_squared_error mean on test sets: -0.006231825404602888\n",
      "neg_root_mean_squared_error mean on train sets: -0.005439492383074816\n",
      "\n",
      "r2 mean on test sets: 0.3472230349801559\n",
      "r2 mean on train sets: 0.504312124722867\n"
     ]
    }
   ],
   "source": [
    "get_grid_search_results(srch_nl_svr)\n",
    "print(\"\")\n",
    "get_grid_search_results(srch_nl_svr_2)"
   ]
  },
  {
   "cell_type": "code",
   "execution_count": 102,
   "metadata": {},
   "outputs": [
    {
     "name": "stdout",
     "output_type": "stream",
     "text": [
      "Fitting 3 folds for each of 500 candidates, totalling 1500 fits\n"
     ]
    },
    {
     "name": "stderr",
     "output_type": "stream",
     "text": [
      "[Parallel(n_jobs=1)]: Using backend SequentialBackend with 1 concurrent workers.\n",
      "[Parallel(n_jobs=1)]: Done 1500 out of 1500 | elapsed:  1.9min finished\n"
     ]
    },
    {
     "data": {
      "text/plain": [
       "RandomizedSearchCV(cv=PredefinedSplit(test_fold=array([0, 2, ..., 1, 1])),\n",
       "                   estimator=SVR(), n_iter=500,\n",
       "                   param_distributions={'C': <scipy.stats._distn_infrastructure.rv_frozen object at 0x0000023274064788>,\n",
       "                                        'degree': [2],\n",
       "                                        'epsilon': <scipy.stats._distn_infrastructure.rv_frozen object at 0x0000023274064AC8>,\n",
       "                                        'gamma': <scipy.stats._distn_infrastructure.rv_frozen object at 0x0000023274064088>},\n",
       "                   refit='neg_root_mean_squared_error', return_train_score=True,\n",
       "                   scoring=['neg_root_mean_squared_error', 'r2'], verbose=1)"
      ]
     },
     "execution_count": 102,
     "metadata": {},
     "output_type": "execute_result"
    }
   ],
   "source": [
    "from sklearn.svm import SVR\n",
    "nl_svr = SVR()\n",
    "\n",
    "param_grid = {\n",
    "    \"degree\": [2],\n",
    "    \"epsilon\": expon(scale = 0.0017),\n",
    "    \"C\": expon(scale = 0.26),\n",
    "    \"gamma\": expon(scale=0.004)\n",
    "    }\n",
    " \n",
    "srch_nl_svr_3 = RandomizedSearchCV(nl_svr, param_grid, cv=cv_split, n_iter=500,\n",
    "                                  scoring=['neg_root_mean_squared_error', 'r2'], refit='neg_root_mean_squared_error',\n",
    "                                  return_train_score=True, verbose=1)\n",
    "srch_nl_svr_3.fit(dataset_prepared_stand, dataset_labels)"
   ]
  },
  {
   "cell_type": "code",
   "execution_count": 103,
   "metadata": {},
   "outputs": [
    {
     "name": "stdout",
     "output_type": "stream",
     "text": [
      "Best estimator: SVR(C=0.11514122657802402, degree=2, epsilon=0.002419863071211297,\n",
      "    gamma=0.011484700267443705)\n",
      "Best parameters: {'C': 0.11514122657802402, 'degree': 2, 'epsilon': 0.002419863071211297, 'gamma': 0.011484700267443705}\n",
      "\n",
      "neg_root_mean_squared_error mean on test sets: -0.006259856269701307\n",
      "neg_root_mean_squared_error mean on train sets: -0.005754742544672463\n",
      "\n",
      "r2 mean on test sets: 0.34117485144908005\n",
      "r2 mean on train sets: 0.44518936865033537\n"
     ]
    }
   ],
   "source": [
    "get_grid_search_results(srch_nl_svr_3)"
   ]
  },
  {
   "cell_type": "code",
   "execution_count": 104,
   "metadata": {},
   "outputs": [
    {
     "name": "stdout",
     "output_type": "stream",
     "text": [
      "Cross validation scores\n",
      "Cross-validation RMSE\n",
      "Scores: [0.0058651655 0.0065508539 0.0063635495]\n",
      "Mean: 0.006259856269701307\n",
      "Standard deviation: 0.0002893744477700403\n",
      "\n",
      "Cross-validation adjR2\n",
      "Scores: [0.3338675886 0.3282376791 0.2656207319]\n",
      "Mean: 0.3092419998611528\n",
      "Standard deviation: 0.030930408306649483\n",
      "\n",
      "\n",
      "Scores on training set\n",
      "RMSE score: 0.005803305984066052\n",
      "Adjusted R2 score: 0.4275540878661227\n"
     ]
    }
   ],
   "source": [
    "best_nl_svr = srch_nl_svr_3.best_estimator_\n",
    "name = \"Non-linear SVM\"\n",
    "test_regressor(best_nl_svr, dataset_prepared_stand, dataset_labels, name)"
   ]
  },
  {
   "cell_type": "raw",
   "metadata": {},
   "source": [
    "plot_validation_curves(best_nl_svr, \"C\", np.arange(0.01, 0.15, 0.01), 'neg_root_mean_squared_error',\n",
    "                       dataset_prepared_stand, dataset_labels)"
   ]
  },
  {
   "cell_type": "markdown",
   "metadata": {},
   "source": [
    "# Models summary"
   ]
  },
  {
   "cell_type": "code",
   "execution_count": 105,
   "metadata": {
    "scrolled": true
   },
   "outputs": [
    {
     "data": {
      "text/plain": [
       "count   1238.000000\n",
       "mean       0.005416\n",
       "std        0.007733\n",
       "min        0.000000\n",
       "25%        0.001189\n",
       "50%        0.002468\n",
       "75%        0.006698\n",
       "max        0.086224\n",
       "Name: adoption_in_year, dtype: float64"
      ]
     },
     "execution_count": 105,
     "metadata": {},
     "output_type": "execute_result"
    }
   ],
   "source": [
    "dataset_labels.describe()"
   ]
  },
  {
   "cell_type": "code",
   "execution_count": 106,
   "metadata": {},
   "outputs": [
    {
     "data": {
      "text/html": [
       "<div>\n",
       "<style scoped>\n",
       "    .dataframe tbody tr th:only-of-type {\n",
       "        vertical-align: middle;\n",
       "    }\n",
       "\n",
       "    .dataframe tbody tr th {\n",
       "        vertical-align: top;\n",
       "    }\n",
       "\n",
       "    .dataframe thead th {\n",
       "        text-align: right;\n",
       "    }\n",
       "</style>\n",
       "<table border=\"1\" class=\"dataframe\">\n",
       "  <thead>\n",
       "    <tr style=\"text-align: right;\">\n",
       "      <th></th>\n",
       "      <th>cv RMSE_mean</th>\n",
       "      <th>cv RMSE std</th>\n",
       "      <th>cv adjR2 mean</th>\n",
       "      <th>cv adjR2 std</th>\n",
       "      <th>train set RMSE</th>\n",
       "      <th>train set adjR2</th>\n",
       "    </tr>\n",
       "  </thead>\n",
       "  <tbody>\n",
       "    <tr>\n",
       "      <th>Linear Regression</th>\n",
       "      <td>0.006982</td>\n",
       "      <td>0.000143</td>\n",
       "      <td>0.138995</td>\n",
       "      <td>0.043979</td>\n",
       "      <td>0.006818</td>\n",
       "      <td>0.209758</td>\n",
       "    </tr>\n",
       "    <tr>\n",
       "      <th>Linear regression + cum_ad_sq</th>\n",
       "      <td>0.006698</td>\n",
       "      <td>0.000197</td>\n",
       "      <td>0.206477</td>\n",
       "      <td>0.024348</td>\n",
       "      <td>0.006540</td>\n",
       "      <td>0.272497</td>\n",
       "    </tr>\n",
       "    <tr>\n",
       "      <th>Polynomial Regression</th>\n",
       "      <td>0.007744</td>\n",
       "      <td>0.000349</td>\n",
       "      <td>-1.049598</td>\n",
       "      <td>0.014920</td>\n",
       "      <td>0.007730</td>\n",
       "      <td>-0.203312</td>\n",
       "    </tr>\n",
       "    <tr>\n",
       "      <th>Linear SVM</th>\n",
       "      <td>0.006993</td>\n",
       "      <td>0.000186</td>\n",
       "      <td>0.136861</td>\n",
       "      <td>0.033675</td>\n",
       "      <td>0.006808</td>\n",
       "      <td>0.212253</td>\n",
       "    </tr>\n",
       "    <tr>\n",
       "      <th>Linear SVM + cum_ad_sq</th>\n",
       "      <td>0.006694</td>\n",
       "      <td>0.000197</td>\n",
       "      <td>0.207549</td>\n",
       "      <td>0.024390</td>\n",
       "      <td>0.006537</td>\n",
       "      <td>0.273048</td>\n",
       "    </tr>\n",
       "    <tr>\n",
       "      <th>Non-linear SVM</th>\n",
       "      <td>0.006260</td>\n",
       "      <td>0.000289</td>\n",
       "      <td>0.309242</td>\n",
       "      <td>0.030930</td>\n",
       "      <td>0.005803</td>\n",
       "      <td>0.427554</td>\n",
       "    </tr>\n",
       "  </tbody>\n",
       "</table>\n",
       "</div>"
      ],
      "text/plain": [
       "                               cv RMSE_mean  cv RMSE std  cv adjR2 mean  \\\n",
       "Linear Regression                  0.006982     0.000143       0.138995   \n",
       "Linear regression + cum_ad_sq      0.006698     0.000197       0.206477   \n",
       "Polynomial Regression              0.007744     0.000349      -1.049598   \n",
       "Linear SVM                         0.006993     0.000186       0.136861   \n",
       "Linear SVM + cum_ad_sq             0.006694     0.000197       0.207549   \n",
       "Non-linear SVM                     0.006260     0.000289       0.309242   \n",
       "\n",
       "                               cv adjR2 std  train set RMSE  train set adjR2  \n",
       "Linear Regression                  0.043979        0.006818         0.209758  \n",
       "Linear regression + cum_ad_sq      0.024348        0.006540         0.272497  \n",
       "Polynomial Regression              0.014920        0.007730        -0.203312  \n",
       "Linear SVM                         0.033675        0.006808         0.212253  \n",
       "Linear SVM + cum_ad_sq             0.024390        0.006537         0.273048  \n",
       "Non-linear SVM                     0.030930        0.005803         0.427554  "
      ]
     },
     "execution_count": 106,
     "metadata": {},
     "output_type": "execute_result"
    }
   ],
   "source": [
    "models_results"
   ]
  },
  {
   "cell_type": "code",
   "execution_count": 107,
   "metadata": {
    "scrolled": true
   },
   "outputs": [
    {
     "data": {
      "text/html": [
       "<div>\n",
       "<style scoped>\n",
       "    .dataframe tbody tr th:only-of-type {\n",
       "        vertical-align: middle;\n",
       "    }\n",
       "\n",
       "    .dataframe tbody tr th {\n",
       "        vertical-align: top;\n",
       "    }\n",
       "\n",
       "    .dataframe thead th {\n",
       "        text-align: right;\n",
       "    }\n",
       "</style>\n",
       "<table border=\"1\" class=\"dataframe\">\n",
       "  <thead>\n",
       "    <tr style=\"text-align: right;\">\n",
       "      <th></th>\n",
       "      <th>cv RMSE_mean</th>\n",
       "      <th>cv adjR2 mean</th>\n",
       "      <th>train set RMSE</th>\n",
       "      <th>train set adjR2</th>\n",
       "    </tr>\n",
       "  </thead>\n",
       "  <tbody>\n",
       "    <tr>\n",
       "      <th>Linear Regression</th>\n",
       "      <td>0.006982</td>\n",
       "      <td>0.138995</td>\n",
       "      <td>0.006818</td>\n",
       "      <td>0.209758</td>\n",
       "    </tr>\n",
       "    <tr>\n",
       "      <th>Linear regression + cum_ad_sq</th>\n",
       "      <td>0.006698</td>\n",
       "      <td>0.206477</td>\n",
       "      <td>0.006540</td>\n",
       "      <td>0.272497</td>\n",
       "    </tr>\n",
       "    <tr>\n",
       "      <th>Polynomial Regression</th>\n",
       "      <td>0.007744</td>\n",
       "      <td>-1.049598</td>\n",
       "      <td>0.007730</td>\n",
       "      <td>-0.203312</td>\n",
       "    </tr>\n",
       "    <tr>\n",
       "      <th>Linear SVM</th>\n",
       "      <td>0.006993</td>\n",
       "      <td>0.136861</td>\n",
       "      <td>0.006808</td>\n",
       "      <td>0.212253</td>\n",
       "    </tr>\n",
       "    <tr>\n",
       "      <th>Linear SVM + cum_ad_sq</th>\n",
       "      <td>0.006694</td>\n",
       "      <td>0.207549</td>\n",
       "      <td>0.006537</td>\n",
       "      <td>0.273048</td>\n",
       "    </tr>\n",
       "    <tr>\n",
       "      <th>Non-linear SVM</th>\n",
       "      <td>0.006260</td>\n",
       "      <td>0.309242</td>\n",
       "      <td>0.005803</td>\n",
       "      <td>0.427554</td>\n",
       "    </tr>\n",
       "  </tbody>\n",
       "</table>\n",
       "</div>"
      ],
      "text/plain": [
       "                               cv RMSE_mean  cv adjR2 mean  train set RMSE  \\\n",
       "Linear Regression                  0.006982       0.138995        0.006818   \n",
       "Linear regression + cum_ad_sq      0.006698       0.206477        0.006540   \n",
       "Polynomial Regression              0.007744      -1.049598        0.007730   \n",
       "Linear SVM                         0.006993       0.136861        0.006808   \n",
       "Linear SVM + cum_ad_sq             0.006694       0.207549        0.006537   \n",
       "Non-linear SVM                     0.006260       0.309242        0.005803   \n",
       "\n",
       "                               train set adjR2  \n",
       "Linear Regression                     0.209758  \n",
       "Linear regression + cum_ad_sq         0.272497  \n",
       "Polynomial Regression                -0.203312  \n",
       "Linear SVM                            0.212253  \n",
       "Linear SVM + cum_ad_sq                0.273048  \n",
       "Non-linear SVM                        0.427554  "
      ]
     },
     "execution_count": 107,
     "metadata": {},
     "output_type": "execute_result"
    }
   ],
   "source": [
    "models_results[['cv RMSE_mean', 'cv adjR2 mean', 'train set RMSE', 'train set adjR2']]"
   ]
  },
  {
   "cell_type": "markdown",
   "metadata": {},
   "source": [
    "# Final models tuning and training\n",
    "Using the Optuna library for Bayesian Optimization"
   ]
  },
  {
   "cell_type": "code",
   "execution_count": 108,
   "metadata": {},
   "outputs": [],
   "source": [
    "from sklearn.model_selection import cross_val_score \n",
    "import optuna \n",
    "from optuna.samplers import TPESampler"
   ]
  },
  {
   "cell_type": "code",
   "execution_count": 109,
   "metadata": {},
   "outputs": [],
   "source": [
    "from sklearn.svm import SVR"
   ]
  },
  {
   "cell_type": "code",
   "execution_count": 110,
   "metadata": {},
   "outputs": [],
   "source": [
    "X = dataset_prepared_stand\n",
    "\n",
    "def objective(trial):\n",
    "    # Define the search space\n",
    "    kernel = trial.suggest_categorical('kernel', ['rbf', 'poly'])\n",
    "    C = trial.suggest_loguniform('C', 0.01, 10)\n",
    "    gamma = trial.suggest_loguniform('gamma', 0.001, 1)\n",
    "    epsilon = trial.suggest_loguniform('epsilon', 0.001, 1)\n",
    "\n",
    "    reg = SVR(degree=2,\n",
    "              kernel=kernel,\n",
    "              C=C,\n",
    "              gamma=gamma,\n",
    "              epsilon=epsilon)\n",
    "    score = cross_val_score(reg, X, dataset_labels, scoring='neg_root_mean_squared_error',\n",
    "                            cv=cv_split).mean()\n",
    "\n",
    "    return score"
   ]
  },
  {
   "cell_type": "code",
   "execution_count": 111,
   "metadata": {},
   "outputs": [
    {
     "name": "stderr",
     "output_type": "stream",
     "text": [
      "\u001b[32m[I 2022-07-24 18:06:35,523]\u001b[0m A new study created in memory with name: nl_svr_optimization_all\u001b[0m\n"
     ]
    }
   ],
   "source": [
    "study_nl_svm_all = optuna.create_study(study_name=\"nl_svr_optimization_all\",\n",
    "                                        direction=\"maximize\",\n",
    "                                        sampler=TPESampler())"
   ]
  },
  {
   "cell_type": "code",
   "execution_count": 112,
   "metadata": {
    "scrolled": true
   },
   "outputs": [
    {
     "name": "stderr",
     "output_type": "stream",
     "text": [
      "\u001b[32m[I 2022-07-24 18:06:35,587]\u001b[0m Trial 0 finished with value: -0.030130768433350653 and parameters: {'kernel': 'rbf', 'C': 0.1847538974706291, 'gamma': 0.018031151202833457, 'epsilon': 0.03757961554848734}. Best is trial 0 with value: -0.030130768433350653.\u001b[0m\n",
      "\u001b[32m[I 2022-07-24 18:06:35,603]\u001b[0m Trial 1 finished with value: -0.03564469137116574 and parameters: {'kernel': 'rbf', 'C': 2.383091282420848, 'gamma': 0.025795940392481488, 'epsilon': 0.049207196122075414}. Best is trial 0 with value: -0.030130768433350653.\u001b[0m\n",
      "\u001b[32m[I 2022-07-24 18:06:35,733]\u001b[0m Trial 2 finished with value: -0.0064902364731021026 and parameters: {'kernel': 'rbf', 'C': 0.04413401298518994, 'gamma': 0.11930624982013716, 'epsilon': 0.0030793217782857083}. Best is trial 2 with value: -0.0064902364731021026.\u001b[0m\n",
      "\u001b[32m[I 2022-07-24 18:06:35,748]\u001b[0m Trial 3 finished with value: -0.03564469137116573 and parameters: {'kernel': 'poly', 'C': 0.06639028516718058, 'gamma': 0.001516530333556347, 'epsilon': 0.7814632362124664}. Best is trial 2 with value: -0.0064902364731021026.\u001b[0m\n",
      "\u001b[32m[I 2022-07-24 18:06:35,764]\u001b[0m Trial 4 finished with value: -0.03564469137116575 and parameters: {'kernel': 'poly', 'C': 0.012894862823346715, 'gamma': 0.21929735075777146, 'epsilon': 0.25158117678933395}. Best is trial 2 with value: -0.0064902364731021026.\u001b[0m\n",
      "\u001b[32m[I 2022-07-24 18:06:35,813]\u001b[0m Trial 5 finished with value: -0.012028986137068562 and parameters: {'kernel': 'rbf', 'C': 0.02059063139093314, 'gamma': 0.6822455751832123, 'epsilon': 0.01355683644548308}. Best is trial 2 with value: -0.0064902364731021026.\u001b[0m\n",
      "\u001b[32m[I 2022-07-24 18:06:35,989]\u001b[0m Trial 6 finished with value: -0.007004679492763767 and parameters: {'kernel': 'rbf', 'C': 0.2011625206791733, 'gamma': 0.15429060511802573, 'epsilon': 0.0024118948200043504}. Best is trial 2 with value: -0.0064902364731021026.\u001b[0m\n",
      "\u001b[32m[I 2022-07-24 18:06:36,004]\u001b[0m Trial 7 finished with value: -0.03564469137116573 and parameters: {'kernel': 'rbf', 'C': 0.05763242119556343, 'gamma': 0.3285061648853717, 'epsilon': 0.7355039329011647}. Best is trial 2 with value: -0.0064902364731021026.\u001b[0m\n",
      "\u001b[32m[I 2022-07-24 18:06:36,070]\u001b[0m Trial 8 finished with value: -0.010166153210581388 and parameters: {'kernel': 'rbf', 'C': 6.954291882465788, 'gamma': 0.41615896191010365, 'epsilon': 0.010710589299069045}. Best is trial 2 with value: -0.0064902364731021026.\u001b[0m\n",
      "\u001b[32m[I 2022-07-24 18:06:36,085]\u001b[0m Trial 9 finished with value: -0.03564469137116575 and parameters: {'kernel': 'poly', 'C': 0.01575539830101299, 'gamma': 0.00584890620329871, 'epsilon': 0.30448386063511196}. Best is trial 2 with value: -0.0064902364731021026.\u001b[0m\n",
      "\u001b[32m[I 2022-07-24 18:06:36,643]\u001b[0m Trial 10 finished with value: -0.007113388531115414 and parameters: {'kernel': 'rbf', 'C': 0.7865100594062968, 'gamma': 0.07347645056250897, 'epsilon': 0.0012085504639027607}. Best is trial 2 with value: -0.0064902364731021026.\u001b[0m\n",
      "\u001b[32m[I 2022-07-24 18:06:37,002]\u001b[0m Trial 11 finished with value: -0.0069484459483666605 and parameters: {'kernel': 'rbf', 'C': 0.2994713543263254, 'gamma': 0.0920026294161922, 'epsilon': 0.0012229332647750843}. Best is trial 2 with value: -0.0064902364731021026.\u001b[0m\n",
      "\u001b[32m[I 2022-07-24 18:06:37,329]\u001b[0m Trial 12 finished with value: -0.0076251949601507905 and parameters: {'kernel': 'rbf', 'C': 1.2870699957477356, 'gamma': 0.08012255394168473, 'epsilon': 0.0028245698969953346}. Best is trial 2 with value: -0.0064902364731021026.\u001b[0m\n",
      "\u001b[32m[I 2022-07-24 18:06:37,719]\u001b[0m Trial 13 finished with value: -0.006406959197139406 and parameters: {'kernel': 'rbf', 'C': 0.06877978020607256, 'gamma': 0.06689167810953571, 'epsilon': 0.0011618136610114364}. Best is trial 13 with value: -0.006406959197139406.\u001b[0m\n",
      "\u001b[32m[I 2022-07-24 18:06:37,818]\u001b[0m Trial 14 finished with value: -0.006531846363154552 and parameters: {'kernel': 'rbf', 'C': 0.05625626311101214, 'gamma': 0.014778954457347289, 'epsilon': 0.005202817205706074}. Best is trial 13 with value: -0.006406959197139406.\u001b[0m\n",
      "\u001b[32m[I 2022-07-24 18:06:38,028]\u001b[0m Trial 15 finished with value: -0.00622291509137272 and parameters: {'kernel': 'rbf', 'C': 0.03174129756318114, 'gamma': 0.049093204247346506, 'epsilon': 0.001243294827569066}. Best is trial 15 with value: -0.00622291509137272.\u001b[0m\n",
      "\u001b[32m[I 2022-07-24 18:06:38,197]\u001b[0m Trial 16 finished with value: -0.007515832317835543 and parameters: {'kernel': 'poly', 'C': 0.0999047719383454, 'gamma': 0.0041024240252575525, 'epsilon': 0.001049421241395017}. Best is trial 15 with value: -0.00622291509137272.\u001b[0m\n",
      "\u001b[32m[I 2022-07-24 18:06:38,260]\u001b[0m Trial 17 finished with value: -0.008568120226434743 and parameters: {'kernel': 'rbf', 'C': 0.020968106513781233, 'gamma': 0.04303948405741989, 'epsilon': 0.009808947204972244}. Best is trial 15 with value: -0.00622291509137272.\u001b[0m\n",
      "\u001b[32m[I 2022-07-24 18:06:38,535]\u001b[0m Trial 18 finished with value: -0.006588748975075872 and parameters: {'kernel': 'rbf', 'C': 0.029995465973802315, 'gamma': 0.007076571844394403, 'epsilon': 0.0010814196969518182}. Best is trial 15 with value: -0.00622291509137272.\u001b[0m\n",
      "\u001b[32m[I 2022-07-24 18:06:38,675]\u001b[0m Trial 19 finished with value: -0.03564469137116574 and parameters: {'kernel': 'rbf', 'C': 0.01085225306457808, 'gamma': 0.047159623454127955, 'epsilon': 0.08562763169213014}. Best is trial 15 with value: -0.00622291509137272.\u001b[0m\n",
      "\u001b[32m[I 2022-07-24 18:06:38,922]\u001b[0m Trial 20 finished with value: -0.007610883388600095 and parameters: {'kernel': 'rbf', 'C': 0.12555032303248767, 'gamma': 0.984314183613623, 'epsilon': 0.005342243330640565}. Best is trial 15 with value: -0.00622291509137272.\u001b[0m\n",
      "\u001b[32m[I 2022-07-24 18:06:39,079]\u001b[0m Trial 21 finished with value: -0.0064884626500531645 and parameters: {'kernel': 'rbf', 'C': 0.03859415254660643, 'gamma': 0.14839603892890432, 'epsilon': 0.002540406085535862}. Best is trial 15 with value: -0.00622291509137272.\u001b[0m\n",
      "\u001b[32m[I 2022-07-24 18:06:39,252]\u001b[0m Trial 22 finished with value: -0.006191706968881502 and parameters: {'kernel': 'rbf', 'C': 0.029434546388293174, 'gamma': 0.04283771225346898, 'epsilon': 0.0018856675228625733}. Best is trial 22 with value: -0.006191706968881502.\u001b[0m\n",
      "\u001b[32m[I 2022-07-24 18:06:39,537]\u001b[0m Trial 23 finished with value: -0.006305770030202911 and parameters: {'kernel': 'rbf', 'C': 0.10412737960182765, 'gamma': 0.011560455159284748, 'epsilon': 0.001694701021564332}. Best is trial 22 with value: -0.006191706968881502.\u001b[0m\n",
      "\u001b[32m[I 2022-07-24 18:06:39,637]\u001b[0m Trial 24 finished with value: -0.006652556310103939 and parameters: {'kernel': 'rbf', 'C': 0.028308761327719683, 'gamma': 0.014297085797687455, 'epsilon': 0.005331010669406136}. Best is trial 22 with value: -0.006191706968881502.\u001b[0m\n",
      "\u001b[32m[I 2022-07-24 18:06:39,891]\u001b[0m Trial 25 finished with value: -0.006460992124954904 and parameters: {'kernel': 'rbf', 'C': 0.40293673386469486, 'gamma': 0.002446617330853494, 'epsilon': 0.0018263947382821482}. Best is trial 22 with value: -0.006191706968881502.\u001b[0m\n",
      "\u001b[32m[I 2022-07-24 18:06:39,941]\u001b[0m Trial 26 finished with value: -0.013526863083990473 and parameters: {'kernel': 'poly', 'C': 0.10884076502812436, 'gamma': 0.024438131679007213, 'epsilon': 0.018082057053153362}. Best is trial 22 with value: -0.006191706968881502.\u001b[0m\n",
      "\u001b[32m[I 2022-07-24 18:06:40,106]\u001b[0m Trial 27 finished with value: -0.006618526031509264 and parameters: {'kernel': 'rbf', 'C': 0.01009269992277879, 'gamma': 0.011744615379693492, 'epsilon': 0.0019938068846266322}. Best is trial 22 with value: -0.006191706968881502.\u001b[0m\n",
      "\u001b[32m[I 2022-07-24 18:06:40,254]\u001b[0m Trial 28 finished with value: -0.0069695297190440035 and parameters: {'kernel': 'rbf', 'C': 0.449510763770105, 'gamma': 0.038968280201363156, 'epsilon': 0.006000530816989947}. Best is trial 22 with value: -0.006191706968881502.\u001b[0m\n",
      "\u001b[32m[I 2022-07-24 18:06:40,553]\u001b[0m Trial 29 finished with value: -0.006332459113749202 and parameters: {'kernel': 'rbf', 'C': 0.18284044612674089, 'gamma': 0.010229232942143797, 'epsilon': 0.0037777657441757794}. Best is trial 22 with value: -0.006191706968881502.\u001b[0m\n",
      "\u001b[32m[I 2022-07-24 18:06:40,670]\u001b[0m Trial 30 finished with value: -0.017183112713962712 and parameters: {'kernel': 'rbf', 'C': 0.026290133285007653, 'gamma': 0.019743444046361153, 'epsilon': 0.021359834811741064}. Best is trial 22 with value: -0.006191706968881502.\u001b[0m\n"
     ]
    },
    {
     "name": "stderr",
     "output_type": "stream",
     "text": [
      "\u001b[32m[I 2022-07-24 18:06:40,929]\u001b[0m Trial 31 finished with value: -0.0062902391547929965 and parameters: {'kernel': 'rbf', 'C': 0.18715716743119826, 'gamma': 0.008768962111110038, 'epsilon': 0.001866474346453064}. Best is trial 22 with value: -0.006191706968881502.\u001b[0m\n",
      "\u001b[32m[I 2022-07-24 18:06:41,246]\u001b[0m Trial 32 finished with value: -0.006483588539062764 and parameters: {'kernel': 'rbf', 'C': 0.2542468567561499, 'gamma': 0.028707076459201435, 'epsilon': 0.0015148026128100583}. Best is trial 22 with value: -0.006191706968881502.\u001b[0m\n",
      "\u001b[32m[I 2022-07-24 18:06:41,460]\u001b[0m Trial 33 finished with value: -0.006464724727713607 and parameters: {'kernel': 'rbf', 'C': 0.14663193885932765, 'gamma': 0.003930704268421286, 'epsilon': 0.0017097325519465527}. Best is trial 22 with value: -0.006191706968881502.\u001b[0m\n",
      "\u001b[32m[I 2022-07-24 18:06:41,648]\u001b[0m Trial 34 finished with value: -0.006549355833439997 and parameters: {'kernel': 'rbf', 'C': 0.04086048120148991, 'gamma': 0.008303115466230223, 'epsilon': 0.004171846507434394}. Best is trial 22 with value: -0.006191706968881502.\u001b[0m\n",
      "\u001b[32m[I 2022-07-24 18:06:41,788]\u001b[0m Trial 35 finished with value: -0.006913216084166691 and parameters: {'kernel': 'rbf', 'C': 0.08691894809136834, 'gamma': 0.0010427298531471639, 'epsilon': 0.0032652517314422686}. Best is trial 22 with value: -0.006191706968881502.\u001b[0m\n",
      "\u001b[32m[I 2022-07-24 18:06:41,920]\u001b[0m Trial 36 finished with value: -0.007149855601740275 and parameters: {'kernel': 'rbf', 'C': 0.7595715796577921, 'gamma': 0.01919648419818262, 'epsilon': 0.00773981606185119}. Best is trial 22 with value: -0.006191706968881502.\u001b[0m\n",
      "\u001b[32m[I 2022-07-24 18:06:42,120]\u001b[0m Trial 37 finished with value: -0.006839644076071486 and parameters: {'kernel': 'poly', 'C': 0.01681018275660399, 'gamma': 0.05471287819969718, 'epsilon': 0.0020702562015228157}. Best is trial 22 with value: -0.006191706968881502.\u001b[0m\n",
      "\u001b[32m[I 2022-07-24 18:06:42,156]\u001b[0m Trial 38 finished with value: -0.03564469137116574 and parameters: {'kernel': 'rbf', 'C': 0.08120337413358421, 'gamma': 0.025605613459583062, 'epsilon': 0.0489829874690599}. Best is trial 22 with value: -0.006191706968881502.\u001b[0m\n",
      "\u001b[32m[I 2022-07-24 18:06:42,355]\u001b[0m Trial 39 finished with value: -0.006619723924991531 and parameters: {'kernel': 'rbf', 'C': 0.053304928168905925, 'gamma': 0.004602845314206512, 'epsilon': 0.001564036833269048}. Best is trial 22 with value: -0.006191706968881502.\u001b[0m\n",
      "\u001b[32m[I 2022-07-24 18:06:42,494]\u001b[0m Trial 40 finished with value: -0.006264002113062824 and parameters: {'kernel': 'rbf', 'C': 0.04141947828660748, 'gamma': 0.03468786921203595, 'epsilon': 0.0032090673954509328}. Best is trial 22 with value: -0.006191706968881502.\u001b[0m\n",
      "\u001b[32m[I 2022-07-24 18:06:42,632]\u001b[0m Trial 41 finished with value: -0.006222029302629867 and parameters: {'kernel': 'rbf', 'C': 0.03991656697877002, 'gamma': 0.0342101436027131, 'epsilon': 0.0027840933433720644}. Best is trial 22 with value: -0.006191706968881502.\u001b[0m\n",
      "\u001b[32m[I 2022-07-24 18:06:42,774]\u001b[0m Trial 42 finished with value: -0.006226425585011124 and parameters: {'kernel': 'rbf', 'C': 0.039496281243369714, 'gamma': 0.035125853690089956, 'epsilon': 0.00288001161984874}. Best is trial 22 with value: -0.006191706968881502.\u001b[0m\n",
      "\u001b[32m[I 2022-07-24 18:06:42,890]\u001b[0m Trial 43 finished with value: -0.006247576827616144 and parameters: {'kernel': 'rbf', 'C': 0.039499838647389846, 'gamma': 0.033261957524664675, 'epsilon': 0.003206770649224853}. Best is trial 22 with value: -0.006191706968881502.\u001b[0m\n",
      "\u001b[32m[I 2022-07-24 18:06:42,959]\u001b[0m Trial 44 finished with value: -0.00781952115314814 and parameters: {'kernel': 'rbf', 'C': 0.015987395354893765, 'gamma': 0.1095004778461904, 'epsilon': 0.007839061169103686}. Best is trial 22 with value: -0.006191706968881502.\u001b[0m\n",
      "\u001b[32m[I 2022-07-24 18:06:43,086]\u001b[0m Trial 45 finished with value: -0.006361452430493257 and parameters: {'kernel': 'rbf', 'C': 0.022098496647029967, 'gamma': 0.1711966663198039, 'epsilon': 0.0026479619060033872}. Best is trial 22 with value: -0.006191706968881502.\u001b[0m\n",
      "\u001b[32m[I 2022-07-24 18:06:43,195]\u001b[0m Trial 46 finished with value: -0.0063877140491758536 and parameters: {'kernel': 'rbf', 'C': 0.03210808757790284, 'gamma': 0.056779851361799694, 'epsilon': 0.004087026570967459}. Best is trial 22 with value: -0.006191706968881502.\u001b[0m\n",
      "\u001b[32m[I 2022-07-24 18:06:46,517]\u001b[0m Trial 47 finished with value: -0.0066978088468261894 and parameters: {'kernel': 'poly', 'C': 0.05305813831662133, 'gamma': 0.2567042964241233, 'epsilon': 0.0010133478762686153}. Best is trial 22 with value: -0.006191706968881502.\u001b[0m\n",
      "\u001b[32m[I 2022-07-24 18:06:46,556]\u001b[0m Trial 48 finished with value: -0.03564469137116574 and parameters: {'kernel': 'rbf', 'C': 0.014555442759543888, 'gamma': 0.08797596949905839, 'epsilon': 0.11374516628671333}. Best is trial 22 with value: -0.006191706968881502.\u001b[0m\n",
      "\u001b[32m[I 2022-07-24 18:06:46,725]\u001b[0m Trial 49 finished with value: -0.006238800450110529 and parameters: {'kernel': 'rbf', 'C': 0.02288415673968858, 'gamma': 0.03270565865129936, 'epsilon': 0.001344677953178163}. Best is trial 22 with value: -0.006191706968881502.\u001b[0m\n",
      "\u001b[32m[I 2022-07-24 18:06:46,893]\u001b[0m Trial 50 finished with value: -0.00639931021003077 and parameters: {'kernel': 'rbf', 'C': 0.011852178196539291, 'gamma': 0.02142142445173499, 'epsilon': 0.0012600712670147948}. Best is trial 22 with value: -0.006191706968881502.\u001b[0m\n",
      "\u001b[32m[I 2022-07-24 18:06:47,623]\u001b[0m Trial 51 finished with value: -0.007800243050473271 and parameters: {'kernel': 'rbf', 'C': 7.106481206688812, 'gamma': 0.030963400367679125, 'epsilon': 0.00257626156939031}. Best is trial 22 with value: -0.006191706968881502.\u001b[0m\n",
      "\u001b[32m[I 2022-07-24 18:06:47,848]\u001b[0m Trial 52 finished with value: -0.006190978837313999 and parameters: {'kernel': 'rbf', 'C': 0.022816438202123656, 'gamma': 0.05830825435349394, 'epsilon': 0.0013219836851662598}. Best is trial 52 with value: -0.006190978837313999.\u001b[0m\n",
      "\u001b[32m[I 2022-07-24 18:06:48,609]\u001b[0m Trial 53 finished with value: -0.006189690377769602 and parameters: {'kernel': 'rbf', 'C': 0.022035021023035884, 'gamma': 0.06522676262640609, 'epsilon': 0.0010192215472864786}. Best is trial 53 with value: -0.006189690377769602.\u001b[0m\n",
      "\u001b[32m[I 2022-07-24 18:06:49,237]\u001b[0m Trial 54 finished with value: -0.00636160293895389 and parameters: {'kernel': 'rbf', 'C': 0.0716836066227698, 'gamma': 0.05952444062694218, 'epsilon': 0.002324624265245046}. Best is trial 53 with value: -0.006189690377769602.\u001b[0m\n",
      "\u001b[32m[I 2022-07-24 18:06:49,469]\u001b[0m Trial 55 finished with value: -0.006245295864205219 and parameters: {'kernel': 'rbf', 'C': 0.018140722623590417, 'gamma': 0.11766882463309597, 'epsilon': 0.00123657472059257}. Best is trial 53 with value: -0.006189690377769602.\u001b[0m\n",
      "\u001b[32m[I 2022-07-24 18:06:49,671]\u001b[0m Trial 56 finished with value: -0.006279999236710966 and parameters: {'kernel': 'rbf', 'C': 0.030843518568426737, 'gamma': 0.07464823555995663, 'epsilon': 0.0010516197845567565}. Best is trial 53 with value: -0.006189690377769602.\u001b[0m\n",
      "\u001b[32m[I 2022-07-24 18:06:50,186]\u001b[0m Trial 57 finished with value: -0.007743715415519522 and parameters: {'kernel': 'rbf', 'C': 3.3972304271137816, 'gamma': 0.04558436161475307, 'epsilon': 0.002302747015591375}. Best is trial 53 with value: -0.006189690377769602.\u001b[0m\n",
      "\u001b[32m[I 2022-07-24 18:06:50,343]\u001b[0m Trial 58 finished with value: -0.006475301746190282 and parameters: {'kernel': 'rbf', 'C': 0.0131786750497073, 'gamma': 0.015425011870269734, 'epsilon': 0.001467985337673048}. Best is trial 53 with value: -0.006189690377769602.\u001b[0m\n",
      "\u001b[32m[I 2022-07-24 18:06:50,467]\u001b[0m Trial 59 finished with value: -0.008945186465486076 and parameters: {'kernel': 'poly', 'C': 0.048338316513520774, 'gamma': 0.09593478498348512, 'epsilon': 0.011089490681620654}. Best is trial 53 with value: -0.006189690377769602.\u001b[0m\n",
      "\u001b[32m[I 2022-07-24 18:06:50,497]\u001b[0m Trial 60 finished with value: -0.03564469137116575 and parameters: {'kernel': 'rbf', 'C': 0.023353643392063337, 'gamma': 0.05093599682139989, 'epsilon': 0.4945097573587332}. Best is trial 53 with value: -0.006189690377769602.\u001b[0m\n",
      "\u001b[32m[I 2022-07-24 18:06:50,665]\u001b[0m Trial 61 finished with value: -0.006226260807138576 and parameters: {'kernel': 'rbf', 'C': 0.01914155287768434, 'gamma': 0.03976335455910538, 'epsilon': 0.0014095253197526135}. Best is trial 53 with value: -0.006189690377769602.\u001b[0m\n"
     ]
    },
    {
     "name": "stderr",
     "output_type": "stream",
     "text": [
      "\u001b[32m[I 2022-07-24 18:06:50,871]\u001b[0m Trial 62 finished with value: -0.006289400514385139 and parameters: {'kernel': 'rbf', 'C': 0.034005293815936526, 'gamma': 0.07288671397371749, 'epsilon': 0.001047747393434995}. Best is trial 53 with value: -0.006189690377769602.\u001b[0m\n",
      "\u001b[32m[I 2022-07-24 18:06:51,015]\u001b[0m Trial 63 finished with value: -0.006203249484539865 and parameters: {'kernel': 'rbf', 'C': 0.018604215802381627, 'gamma': 0.0406839246252728, 'epsilon': 0.001963724585466273}. Best is trial 53 with value: -0.006189690377769602.\u001b[0m\n",
      "\u001b[32m[I 2022-07-24 18:06:51,161]\u001b[0m Trial 64 finished with value: -0.006197666765523274 and parameters: {'kernel': 'rbf', 'C': 0.0188874585782988, 'gamma': 0.04286671095453275, 'epsilon': 0.002004216669338852}. Best is trial 53 with value: -0.006189690377769602.\u001b[0m\n",
      "\u001b[32m[I 2022-07-24 18:06:51,341]\u001b[0m Trial 65 finished with value: -0.006235588864435336 and parameters: {'kernel': 'rbf', 'C': 0.011755272693613924, 'gamma': 0.13968717529673103, 'epsilon': 0.0010011881323230172}. Best is trial 53 with value: -0.006189690377769602.\u001b[0m\n",
      "\u001b[32m[I 2022-07-24 18:06:51,491]\u001b[0m Trial 66 finished with value: -0.00617121279734318 and parameters: {'kernel': 'rbf', 'C': 0.025152458983257346, 'gamma': 0.06003593845610963, 'epsilon': 0.0019491218285216517}. Best is trial 66 with value: -0.00617121279734318.\u001b[0m\n",
      "\u001b[32m[I 2022-07-24 18:06:51,597]\u001b[0m Trial 67 finished with value: -0.006426421176910471 and parameters: {'kernel': 'rbf', 'C': 0.010037896934544335, 'gamma': 0.06302756111523748, 'epsilon': 0.004446707657692783}. Best is trial 66 with value: -0.00617121279734318.\u001b[0m\n",
      "\u001b[32m[I 2022-07-24 18:06:51,747]\u001b[0m Trial 68 finished with value: -0.006226858387999033 and parameters: {'kernel': 'rbf', 'C': 0.024288934758333342, 'gamma': 0.09463902848654711, 'epsilon': 0.002134078936442844}. Best is trial 66 with value: -0.00617121279734318.\u001b[0m\n",
      "\u001b[32m[I 2022-07-24 18:06:51,863]\u001b[0m Trial 69 finished with value: -0.0063607833353652304 and parameters: {'kernel': 'rbf', 'C': 0.015893029929222303, 'gamma': 0.024893725100908527, 'epsilon': 0.0036902192349106515}. Best is trial 66 with value: -0.00617121279734318.\u001b[0m\n",
      "\u001b[32m[I 2022-07-24 18:06:52,064]\u001b[0m Trial 70 finished with value: -0.006288627009500146 and parameters: {'kernel': 'rbf', 'C': 0.06183959851396015, 'gamma': 0.04555776149183891, 'epsilon': 0.001868386952237236}. Best is trial 66 with value: -0.00617121279734318.\u001b[0m\n",
      "\u001b[32m[I 2022-07-24 18:06:52,236]\u001b[0m Trial 71 finished with value: -0.00616431250259565 and parameters: {'kernel': 'rbf', 'C': 0.0194841058731917, 'gamma': 0.06505187448507137, 'epsilon': 0.0016568265497150722}. Best is trial 71 with value: -0.00616431250259565.\u001b[0m\n",
      "\u001b[32m[I 2022-07-24 18:06:52,411]\u001b[0m Trial 72 finished with value: -0.00630024008102856 and parameters: {'kernel': 'rbf', 'C': 0.019444861243300013, 'gamma': 0.1889420146581821, 'epsilon': 0.0016738986323917775}. Best is trial 71 with value: -0.00616431250259565.\u001b[0m\n",
      "\u001b[32m[I 2022-07-24 18:06:52,574]\u001b[0m Trial 73 finished with value: -0.006205880673914415 and parameters: {'kernel': 'rbf', 'C': 0.028685657896120233, 'gamma': 0.06671240508028523, 'epsilon': 0.0019606833431282562}. Best is trial 71 with value: -0.00616431250259565.\u001b[0m\n",
      "\u001b[32m[I 2022-07-24 18:06:52,725]\u001b[0m Trial 74 finished with value: -0.006214748355427071 and parameters: {'kernel': 'rbf', 'C': 0.02669669882941454, 'gamma': 0.07818757117819647, 'epsilon': 0.0020510551086016585}. Best is trial 71 with value: -0.00616431250259565.\u001b[0m\n",
      "\u001b[32m[I 2022-07-24 18:06:52,894]\u001b[0m Trial 75 finished with value: -0.0061707169256341845 and parameters: {'kernel': 'rbf', 'C': 0.013825175635495634, 'gamma': 0.06660279775915805, 'epsilon': 0.0015203869861844}. Best is trial 71 with value: -0.00616431250259565.\u001b[0m\n",
      "\u001b[32m[I 2022-07-24 18:06:53,060]\u001b[0m Trial 76 finished with value: -0.0062333964482842496 and parameters: {'kernel': 'rbf', 'C': 0.014598020801726095, 'gamma': 0.13097939751501841, 'epsilon': 0.00135358749459646}. Best is trial 71 with value: -0.00616431250259565.\u001b[0m\n",
      "\u001b[32m[I 2022-07-24 18:06:53,211]\u001b[0m Trial 77 finished with value: -0.00618477754680663 and parameters: {'kernel': 'rbf', 'C': 0.01021219981999413, 'gamma': 0.10069461262317876, 'epsilon': 0.0015574990780505389}. Best is trial 71 with value: -0.00616431250259565.\u001b[0m\n",
      "\u001b[32m[I 2022-07-24 18:06:53,369]\u001b[0m Trial 78 finished with value: -0.006256113990320336 and parameters: {'kernel': 'rbf', 'C': 0.013938693163463557, 'gamma': 0.23041484708233287, 'epsilon': 0.0016097357006358284}. Best is trial 71 with value: -0.00616431250259565.\u001b[0m\n",
      "\u001b[32m[I 2022-07-24 18:06:53,549]\u001b[0m Trial 79 finished with value: -0.0061958996546732465 and parameters: {'kernel': 'rbf', 'C': 0.010784495688699672, 'gamma': 0.1069042115546573, 'epsilon': 0.0011774379929807505}. Best is trial 71 with value: -0.00616431250259565.\u001b[0m\n",
      "\u001b[32m[I 2022-07-24 18:06:56,635]\u001b[0m Trial 80 finished with value: -0.006694972420216693 and parameters: {'kernel': 'poly', 'C': 0.010201917208286905, 'gamma': 0.49102167015228, 'epsilon': 0.0010153952088409431}. Best is trial 71 with value: -0.00616431250259565.\u001b[0m\n",
      "\u001b[32m[I 2022-07-24 18:06:56,817]\u001b[0m Trial 81 finished with value: -0.0062002955599941715 and parameters: {'kernel': 'rbf', 'C': 0.012243638364195763, 'gamma': 0.10985679462427819, 'epsilon': 0.0011968089782708488}. Best is trial 71 with value: -0.00616431250259565.\u001b[0m\n",
      "\u001b[32m[I 2022-07-24 18:06:56,983]\u001b[0m Trial 82 finished with value: -0.00618421100155079 and parameters: {'kernel': 'rbf', 'C': 0.01047522956585765, 'gamma': 0.09957008032871013, 'epsilon': 0.0014667053816965086}. Best is trial 71 with value: -0.00616431250259565.\u001b[0m\n",
      "\u001b[32m[I 2022-07-24 18:06:57,137]\u001b[0m Trial 83 finished with value: -0.006170194184892056 and parameters: {'kernel': 'rbf', 'C': 0.01039865225215174, 'gamma': 0.08946563694306081, 'epsilon': 0.0015370419639337306}. Best is trial 71 with value: -0.00616431250259565.\u001b[0m\n",
      "\u001b[32m[I 2022-07-24 18:06:57,301]\u001b[0m Trial 84 finished with value: -0.006251721494409539 and parameters: {'kernel': 'rbf', 'C': 0.01311353417742023, 'gamma': 0.16190842284442608, 'epsilon': 0.0014344791557173219}. Best is trial 71 with value: -0.00616431250259565.\u001b[0m\n",
      "\u001b[32m[I 2022-07-24 18:06:57,466]\u001b[0m Trial 85 finished with value: -0.0061928308716263465 and parameters: {'kernel': 'rbf', 'C': 0.021502111065146524, 'gamma': 0.08436502631415665, 'epsilon': 0.001642904855019198}. Best is trial 71 with value: -0.00616431250259565.\u001b[0m\n",
      "\u001b[32m[I 2022-07-24 18:06:57,604]\u001b[0m Trial 86 finished with value: -0.006213228611531789 and parameters: {'kernel': 'rbf', 'C': 0.01040052526216119, 'gamma': 0.05484550408545423, 'epsilon': 0.0023727725512258705}. Best is trial 71 with value: -0.00616431250259565.\u001b[0m\n",
      "\u001b[32m[I 2022-07-24 18:06:57,719]\u001b[0m Trial 87 finished with value: -0.006239775702669498 and parameters: {'kernel': 'rbf', 'C': 0.016139956843135978, 'gamma': 0.06618064285702834, 'epsilon': 0.003294559195680803}. Best is trial 71 with value: -0.00616431250259565.\u001b[0m\n",
      "\u001b[32m[I 2022-07-24 18:06:57,854]\u001b[0m Trial 88 finished with value: -0.00632976122637294 and parameters: {'kernel': 'rbf', 'C': 0.0249058278038543, 'gamma': 0.1289627672105123, 'epsilon': 0.00249475556514986}. Best is trial 71 with value: -0.00616431250259565.\u001b[0m\n",
      "\u001b[32m[I 2022-07-24 18:06:58,043]\u001b[0m Trial 89 finished with value: -0.006203881737163745 and parameters: {'kernel': 'rbf', 'C': 0.014166467562092297, 'gamma': 0.09618987725261718, 'epsilon': 0.0010054568383203683}. Best is trial 71 with value: -0.00616431250259565.\u001b[0m\n",
      "\u001b[32m[I 2022-07-24 18:06:58,219]\u001b[0m Trial 90 finished with value: -0.006512559985392377 and parameters: {'kernel': 'rbf', 'C': 0.03463420476075217, 'gamma': 0.2995232025776265, 'epsilon': 0.0017233664195669938}. Best is trial 71 with value: -0.00616431250259565.\u001b[0m\n",
      "\u001b[32m[I 2022-07-24 18:06:58,406]\u001b[0m Trial 91 finished with value: -0.006198133202221852 and parameters: {'kernel': 'rbf', 'C': 0.022799647238355508, 'gamma': 0.08026036216626425, 'epsilon': 0.0015884502906301627}. Best is trial 71 with value: -0.00616431250259565.\u001b[0m\n",
      "\u001b[32m[I 2022-07-24 18:06:58,581]\u001b[0m Trial 92 finished with value: -0.006197763115400544 and parameters: {'kernel': 'rbf', 'C': 0.017184922256816174, 'gamma': 0.08571999206429412, 'epsilon': 0.00130864141725377}. Best is trial 71 with value: -0.00616431250259565.\u001b[0m\n"
     ]
    },
    {
     "name": "stderr",
     "output_type": "stream",
     "text": [
      "\u001b[32m[I 2022-07-24 18:06:58,768]\u001b[0m Trial 93 finished with value: -0.006202927948242479 and parameters: {'kernel': 'rbf', 'C': 0.02064414764896785, 'gamma': 0.05175895550816438, 'epsilon': 0.001168916785595187}. Best is trial 71 with value: -0.00616431250259565.\u001b[0m\n",
      "\u001b[32m[I 2022-07-24 18:06:58,940]\u001b[0m Trial 94 finished with value: -0.006390753540330225 and parameters: {'kernel': 'rbf', 'C': 0.027085578532688764, 'gamma': 0.18840618241717808, 'epsilon': 0.00153671640866565}. Best is trial 71 with value: -0.00616431250259565.\u001b[0m\n",
      "\u001b[32m[I 2022-07-24 18:06:59,055]\u001b[0m Trial 95 finished with value: -0.006201696701238316 and parameters: {'kernel': 'rbf', 'C': 0.0116320065810673, 'gamma': 0.062459111793206366, 'epsilon': 0.0029764172431372897}. Best is trial 71 with value: -0.00616431250259565.\u001b[0m\n",
      "\u001b[32m[I 2022-07-24 18:06:59,252]\u001b[0m Trial 96 finished with value: -0.006245703319982071 and parameters: {'kernel': 'rbf', 'C': 0.034944641142646504, 'gamma': 0.07172812300688884, 'epsilon': 0.0017954541371939389}. Best is trial 71 with value: -0.00616431250259565.\u001b[0m\n",
      "\u001b[32m[I 2022-07-24 18:06:59,400]\u001b[0m Trial 97 finished with value: -0.00648486548347317 and parameters: {'kernel': 'rbf', 'C': 0.04891601903037467, 'gamma': 0.11962341709323591, 'epsilon': 0.002323083029651495}. Best is trial 71 with value: -0.00616431250259565.\u001b[0m\n",
      "\u001b[32m[I 2022-07-24 18:06:59,564]\u001b[0m Trial 98 finished with value: -0.006180885825883911 and parameters: {'kernel': 'rbf', 'C': 0.01571790434741771, 'gamma': 0.08730779082881869, 'epsilon': 0.0014290231151060998}. Best is trial 71 with value: -0.00616431250259565.\u001b[0m\n",
      "\u001b[32m[I 2022-07-24 18:06:59,739]\u001b[0m Trial 99 finished with value: -0.006293099945777141 and parameters: {'kernel': 'rbf', 'C': 0.016504051563057617, 'gamma': 0.02814849802600767, 'epsilon': 0.0013647203896490225}. Best is trial 71 with value: -0.00616431250259565.\u001b[0m\n",
      "\u001b[32m[I 2022-07-24 18:06:59,924]\u001b[0m Trial 100 finished with value: -0.006197864070179593 and parameters: {'kernel': 'rbf', 'C': 0.013383843639967183, 'gamma': 0.10017860832525648, 'epsilon': 0.0011568032505464474}. Best is trial 71 with value: -0.00616431250259565.\u001b[0m\n",
      "\u001b[32m[I 2022-07-24 18:07:00,121]\u001b[0m Trial 101 finished with value: -0.006197489034224363 and parameters: {'kernel': 'rbf', 'C': 0.020733114851386663, 'gamma': 0.08565863780173713, 'epsilon': 0.001688066209761709}. Best is trial 71 with value: -0.00616431250259565.\u001b[0m\n",
      "\u001b[32m[I 2022-07-24 18:07:00,296]\u001b[0m Trial 102 finished with value: -0.0062169943263340605 and parameters: {'kernel': 'rbf', 'C': 0.010200537422448443, 'gamma': 0.05792984344480483, 'epsilon': 0.0014543955456573208}. Best is trial 71 with value: -0.00616431250259565.\u001b[0m\n",
      "\u001b[32m[I 2022-07-24 18:07:00,451]\u001b[0m Trial 103 finished with value: -0.006440179736310785 and parameters: {'kernel': 'rbf', 'C': 0.029580151638348765, 'gamma': 0.14881298240668825, 'epsilon': 0.0029025279009323554}. Best is trial 71 with value: -0.00616431250259565.\u001b[0m\n",
      "\u001b[32m[I 2022-07-24 18:07:00,645]\u001b[0m Trial 104 finished with value: -0.006188739650771832 and parameters: {'kernel': 'rbf', 'C': 0.015226514195769189, 'gamma': 0.07322983990251586, 'epsilon': 0.0010047187803700315}. Best is trial 71 with value: -0.00616431250259565.\u001b[0m\n",
      "\u001b[32m[I 2022-07-24 18:07:00,832]\u001b[0m Trial 105 finished with value: -0.006256732124180921 and parameters: {'kernel': 'rbf', 'C': 0.012187252299189582, 'gamma': 0.04939168406613918, 'epsilon': 0.001005792865575306}. Best is trial 71 with value: -0.00616431250259565.\u001b[0m\n",
      "\u001b[32m[I 2022-07-24 18:07:00,866]\u001b[0m Trial 106 finished with value: -0.03564469137116574 and parameters: {'kernel': 'rbf', 'C': 0.015665788231392516, 'gamma': 0.0381848868340332, 'epsilon': 0.10284785569214014}. Best is trial 71 with value: -0.00616431250259565.\u001b[0m\n",
      "\u001b[32m[I 2022-07-24 18:07:00,909]\u001b[0m Trial 107 finished with value: -0.024656481807331997 and parameters: {'kernel': 'rbf', 'C': 0.01794308580731357, 'gamma': 0.07017824023604693, 'epsilon': 0.029189371352641016}. Best is trial 71 with value: -0.00616431250259565.\u001b[0m\n",
      "\u001b[32m[I 2022-07-24 18:07:01,104]\u001b[0m Trial 108 finished with value: -0.006839407897727012 and parameters: {'kernel': 'poly', 'C': 0.010074513939870086, 'gamma': 0.06149570466452899, 'epsilon': 0.0021484418431917686}. Best is trial 71 with value: -0.00616431250259565.\u001b[0m\n",
      "\u001b[32m[I 2022-07-24 18:07:01,300]\u001b[0m Trial 109 finished with value: -0.006295791616041112 and parameters: {'kernel': 'rbf', 'C': 0.024794571595789405, 'gamma': 0.12218108532697672, 'epsilon': 0.001127947572746538}. Best is trial 71 with value: -0.00616431250259565.\u001b[0m\n",
      "\u001b[32m[I 2022-07-24 18:07:01,412]\u001b[0m Trial 110 finished with value: -0.006268512804094065 and parameters: {'kernel': 'rbf', 'C': 0.01470145090261663, 'gamma': 0.04634783376369035, 'epsilon': 0.003607742305350646}. Best is trial 71 with value: -0.00616431250259565.\u001b[0m\n",
      "\u001b[32m[I 2022-07-24 18:07:01,605]\u001b[0m Trial 111 finished with value: -0.006216027112735696 and parameters: {'kernel': 'rbf', 'C': 0.020993776027135605, 'gamma': 0.08024304871471798, 'epsilon': 0.0012937979294494265}. Best is trial 71 with value: -0.00616431250259565.\u001b[0m\n",
      "\u001b[32m[I 2022-07-24 18:07:01,776]\u001b[0m Trial 112 finished with value: -0.0061947272659583505 and parameters: {'kernel': 'rbf', 'C': 0.01840034323496864, 'gamma': 0.09398897116008385, 'epsilon': 0.00153255331970642}. Best is trial 71 with value: -0.00616431250259565.\u001b[0m\n",
      "\u001b[32m[I 2022-07-24 18:07:01,936]\u001b[0m Trial 113 finished with value: -0.006241266171429328 and parameters: {'kernel': 'rbf', 'C': 0.022720466538888873, 'gamma': 0.10631796994985737, 'epsilon': 0.0018352092025377914}. Best is trial 71 with value: -0.00616431250259565.\u001b[0m\n",
      "\u001b[32m[I 2022-07-24 18:07:02,125]\u001b[0m Trial 114 finished with value: -0.006187613096119429 and parameters: {'kernel': 'rbf', 'C': 0.011915967264434007, 'gamma': 0.0751535533014755, 'epsilon': 0.0010014529711645781}. Best is trial 71 with value: -0.00616431250259565.\u001b[0m\n",
      "\u001b[32m[I 2022-07-24 18:07:02,345]\u001b[0m Trial 115 finished with value: -0.006231865449116814 and parameters: {'kernel': 'rbf', 'C': 0.011844459941546549, 'gamma': 0.05486624007134732, 'epsilon': 0.0010004221096415434}. Best is trial 71 with value: -0.00616431250259565.\u001b[0m\n",
      "\u001b[32m[I 2022-07-24 18:07:02,520]\u001b[0m Trial 116 finished with value: -0.006174495565615835 and parameters: {'kernel': 'rbf', 'C': 0.013439016269153458, 'gamma': 0.07131356118626977, 'epsilon': 0.0012931538300109237}. Best is trial 71 with value: -0.00616431250259565.\u001b[0m\n",
      "\u001b[32m[I 2022-07-24 18:07:02,715]\u001b[0m Trial 117 finished with value: -0.006172127727048561 and parameters: {'kernel': 'rbf', 'C': 0.013234311172518798, 'gamma': 0.07111322865292395, 'epsilon': 0.0011319267968176623}. Best is trial 71 with value: -0.00616431250259565.\u001b[0m\n",
      "\u001b[32m[I 2022-07-24 18:07:02,901]\u001b[0m Trial 118 finished with value: -0.006169735361549161 and parameters: {'kernel': 'rbf', 'C': 0.01349459375945256, 'gamma': 0.07332537216203744, 'epsilon': 0.0010215183218491562}. Best is trial 71 with value: -0.00616431250259565.\u001b[0m\n",
      "\u001b[32m[I 2022-07-24 18:07:03,079]\u001b[0m Trial 119 finished with value: -0.00617611299745451 and parameters: {'kernel': 'rbf', 'C': 0.013278451520038901, 'gamma': 0.06988121181384958, 'epsilon': 0.0011351423862721408}. Best is trial 71 with value: -0.00616431250259565.\u001b[0m\n",
      "\u001b[32m[I 2022-07-24 18:07:03,261]\u001b[0m Trial 120 finished with value: -0.006246072431795874 and parameters: {'kernel': 'rbf', 'C': 0.010090235282434915, 'gamma': 0.18305712346214284, 'epsilon': 0.0011722227091417944}. Best is trial 71 with value: -0.00616431250259565.\u001b[0m\n",
      "\u001b[32m[I 2022-07-24 18:07:03,467]\u001b[0m Trial 121 finished with value: -0.006169453761856423 and parameters: {'kernel': 'rbf', 'C': 0.013006759358361502, 'gamma': 0.07425886377460632, 'epsilon': 0.0013531274512271387}. Best is trial 71 with value: -0.00616431250259565.\u001b[0m\n",
      "\u001b[32m[I 2022-07-24 18:07:03,648]\u001b[0m Trial 122 finished with value: -0.006239284371762611 and parameters: {'kernel': 'rbf', 'C': 0.01312789146804387, 'gamma': 0.1462578521046154, 'epsilon': 0.001309410928783401}. Best is trial 71 with value: -0.00616431250259565.\u001b[0m\n",
      "\u001b[32m[I 2022-07-24 18:07:03,817]\u001b[0m Trial 123 finished with value: -0.006171336973269106 and parameters: {'kernel': 'rbf', 'C': 0.011118216193486758, 'gamma': 0.08938674808231413, 'epsilon': 0.0014550811363933352}. Best is trial 71 with value: -0.00616431250259565.\u001b[0m\n"
     ]
    },
    {
     "name": "stderr",
     "output_type": "stream",
     "text": [
      "\u001b[32m[I 2022-07-24 18:07:03,981]\u001b[0m Trial 124 finished with value: -0.0061927751023920195 and parameters: {'kernel': 'rbf', 'C': 0.010142242793896531, 'gamma': 0.10308348970173481, 'epsilon': 0.0014489931832645923}. Best is trial 71 with value: -0.00616431250259565.\u001b[0m\n",
      "\u001b[32m[I 2022-07-24 18:07:04,144]\u001b[0m Trial 125 finished with value: -0.006161801624099547 and parameters: {'kernel': 'rbf', 'C': 0.013688017005461506, 'gamma': 0.0933774877804338, 'epsilon': 0.0017577646861417627}. Best is trial 125 with value: -0.006161801624099547.\u001b[0m\n",
      "\u001b[32m[I 2022-07-24 18:07:04,282]\u001b[0m Trial 126 finished with value: -0.006240022442208421 and parameters: {'kernel': 'rbf', 'C': 0.01356121540300276, 'gamma': 0.13690755706606014, 'epsilon': 0.002177632593823189}. Best is trial 125 with value: -0.006161801624099547.\u001b[0m\n",
      "\u001b[32m[I 2022-07-24 18:07:04,865]\u001b[0m Trial 127 finished with value: -0.008336448344687702 and parameters: {'kernel': 'rbf', 'C': 9.846024939079399, 'gamma': 0.08756867098852779, 'epsilon': 0.0025919502582202473}. Best is trial 125 with value: -0.006161801624099547.\u001b[0m\n",
      "\u001b[32m[I 2022-07-24 18:07:05,012]\u001b[0m Trial 128 finished with value: -0.0062300712081740294 and parameters: {'kernel': 'rbf', 'C': 0.016860838374811157, 'gamma': 0.12162592443327959, 'epsilon': 0.0018365456508325623}. Best is trial 125 with value: -0.006161801624099547.\u001b[0m\n",
      "\u001b[32m[I 2022-07-24 18:07:05,191]\u001b[0m Trial 129 finished with value: -0.006193765465777491 and parameters: {'kernel': 'rbf', 'C': 0.01148855980887424, 'gamma': 0.06845463841084844, 'epsilon': 0.0011799250340884995}. Best is trial 125 with value: -0.006161801624099547.\u001b[0m\n",
      "\u001b[32m[I 2022-07-24 18:07:05,332]\u001b[0m Trial 130 finished with value: -0.006154350575252344 and parameters: {'kernel': 'rbf', 'C': 0.014568493760939733, 'gamma': 0.08580752217223703, 'epsilon': 0.002074252493438692}. Best is trial 130 with value: -0.006154350575252344.\u001b[0m\n",
      "\u001b[32m[I 2022-07-24 18:07:05,476]\u001b[0m Trial 131 finished with value: -0.006147839553665944 and parameters: {'kernel': 'rbf', 'C': 0.013824265056295526, 'gamma': 0.08619292837587574, 'epsilon': 0.0020922169217916296}. Best is trial 131 with value: -0.006147839553665944.\u001b[0m\n",
      "\u001b[32m[I 2022-07-24 18:07:05,616]\u001b[0m Trial 132 finished with value: -0.0061424034811414984 and parameters: {'kernel': 'rbf', 'C': 0.014261534423077033, 'gamma': 0.0772652298758906, 'epsilon': 0.002021676538057864}. Best is trial 132 with value: -0.0061424034811414984.\u001b[0m\n",
      "\u001b[32m[I 2022-07-24 18:07:05,756]\u001b[0m Trial 133 finished with value: -0.00615940641533153 and parameters: {'kernel': 'rbf', 'C': 0.013044594082179227, 'gamma': 0.06192118184985373, 'epsilon': 0.0022377514883024667}. Best is trial 132 with value: -0.0061424034811414984.\u001b[0m\n",
      "\u001b[32m[I 2022-07-24 18:07:05,887]\u001b[0m Trial 134 finished with value: -0.006178580892231354 and parameters: {'kernel': 'rbf', 'C': 0.014296244670717719, 'gamma': 0.05251054886700944, 'epsilon': 0.002662834177674269}. Best is trial 132 with value: -0.0061424034811414984.\u001b[0m\n",
      "\u001b[32m[I 2022-07-24 18:07:06,034]\u001b[0m Trial 135 finished with value: -0.006149723534471113 and parameters: {'kernel': 'rbf', 'C': 0.018652402794067442, 'gamma': 0.061556160124069954, 'epsilon': 0.002123581144459221}. Best is trial 132 with value: -0.0061424034811414984.\u001b[0m\n",
      "\u001b[32m[I 2022-07-24 18:07:06,182]\u001b[0m Trial 136 finished with value: -0.006140773787988712 and parameters: {'kernel': 'rbf', 'C': 0.018628181601535006, 'gamma': 0.05961739923941597, 'epsilon': 0.0019995756591344896}. Best is trial 136 with value: -0.006140773787988712.\u001b[0m\n",
      "\u001b[32m[I 2022-07-24 18:07:06,329]\u001b[0m Trial 137 finished with value: -0.006141157828216909 and parameters: {'kernel': 'rbf', 'C': 0.0188877847135321, 'gamma': 0.05997320820195338, 'epsilon': 0.002208820421356315}. Best is trial 136 with value: -0.006140773787988712.\u001b[0m\n",
      "\u001b[32m[I 2022-07-24 18:07:06,465]\u001b[0m Trial 138 finished with value: -0.006200482193997921 and parameters: {'kernel': 'rbf', 'C': 0.01716408697434091, 'gamma': 0.04419562451135142, 'epsilon': 0.0022627584974954473}. Best is trial 136 with value: -0.006140773787988712.\u001b[0m\n",
      "\u001b[32m[I 2022-07-24 18:07:06,582]\u001b[0m Trial 139 finished with value: -0.006206155649344638 and parameters: {'kernel': 'rbf', 'C': 0.019531467339071407, 'gamma': 0.060250639786240616, 'epsilon': 0.0030982312721863775}. Best is trial 136 with value: -0.006140773787988712.\u001b[0m\n",
      "\u001b[32m[I 2022-07-24 18:07:06,754]\u001b[0m Trial 140 finished with value: -0.006868411106024593 and parameters: {'kernel': 'poly', 'C': 0.017691128015671315, 'gamma': 0.03975313524358955, 'epsilon': 0.0019914336489343875}. Best is trial 136 with value: -0.006140773787988712.\u001b[0m\n",
      "\u001b[32m[I 2022-07-24 18:07:06,886]\u001b[0m Trial 141 finished with value: -0.006173161959366119 and parameters: {'kernel': 'rbf', 'C': 0.015837348558957246, 'gamma': 0.05021386691238216, 'epsilon': 0.0024672792903334003}. Best is trial 136 with value: -0.006140773787988712.\u001b[0m\n",
      "\u001b[32m[I 2022-07-24 18:07:07,036]\u001b[0m Trial 142 finished with value: -0.00615902100922483 and parameters: {'kernel': 'rbf', 'C': 0.011757969556358768, 'gamma': 0.08209452742594872, 'epsilon': 0.0017933433946611995}. Best is trial 136 with value: -0.006140773787988712.\u001b[0m\n",
      "\u001b[32m[I 2022-07-24 18:07:07,132]\u001b[0m Trial 143 finished with value: -0.0065147741107214364 and parameters: {'kernel': 'rbf', 'C': 0.019305358772762855, 'gamma': 0.05707473882851585, 'epsilon': 0.004921799491318865}. Best is trial 136 with value: -0.006140773787988712.\u001b[0m\n",
      "\u001b[32m[I 2022-07-24 18:07:07,284]\u001b[0m Trial 144 finished with value: -0.0062190020429476285 and parameters: {'kernel': 'rbf', 'C': 0.0263307134451173, 'gamma': 0.08131909326791205, 'epsilon': 0.002104497731663732}. Best is trial 136 with value: -0.006140773787988712.\u001b[0m\n",
      "\u001b[32m[I 2022-07-24 18:07:07,641]\u001b[0m Trial 145 finished with value: -0.0072156903536688645 and parameters: {'kernel': 'rbf', 'C': 1.1177985958452674, 'gamma': 0.06308622605244063, 'epsilon': 0.0027170245710300884}. Best is trial 136 with value: -0.006140773787988712.\u001b[0m\n",
      "\u001b[32m[I 2022-07-24 18:07:07,792]\u001b[0m Trial 146 finished with value: -0.00619523199409936 and parameters: {'kernel': 'rbf', 'C': 0.01525551219102856, 'gamma': 0.11189990437106502, 'epsilon': 0.0018227958140228193}. Best is trial 136 with value: -0.006140773787988712.\u001b[0m\n",
      "\u001b[32m[I 2022-07-24 18:07:07,898]\u001b[0m Trial 147 finished with value: -0.006275738304005172 and parameters: {'kernel': 'rbf', 'C': 0.012277211431371199, 'gamma': 0.07974117033514765, 'epsilon': 0.003498942553494868}. Best is trial 136 with value: -0.006140773787988712.\u001b[0m\n",
      "\u001b[32m[I 2022-07-24 18:07:08,039]\u001b[0m Trial 148 finished with value: -0.006160906907749327 and parameters: {'kernel': 'rbf', 'C': 0.020282252259585392, 'gamma': 0.047436810616431783, 'epsilon': 0.002238836799397642}. Best is trial 136 with value: -0.006140773787988712.\u001b[0m\n",
      "\u001b[32m[I 2022-07-24 18:07:08,177]\u001b[0m Trial 149 finished with value: -0.006157459942138003 and parameters: {'kernel': 'rbf', 'C': 0.018582219574377102, 'gamma': 0.05093668830031233, 'epsilon': 0.0024536474250418283}. Best is trial 136 with value: -0.006140773787988712.\u001b[0m\n",
      "\u001b[32m[I 2022-07-24 18:07:08,287]\u001b[0m Trial 150 finished with value: -0.00630881946563653 and parameters: {'kernel': 'rbf', 'C': 0.019847588971593486, 'gamma': 0.03567712085234927, 'epsilon': 0.003910273672229365}. Best is trial 136 with value: -0.006140773787988712.\u001b[0m\n",
      "\u001b[32m[I 2022-07-24 18:07:08,420]\u001b[0m Trial 151 finished with value: -0.0061726055115957365 and parameters: {'kernel': 'rbf', 'C': 0.016873748696307696, 'gamma': 0.04758529633001078, 'epsilon': 0.0024143472612705315}. Best is trial 136 with value: -0.006140773787988712.\u001b[0m\n",
      "\u001b[32m[I 2022-07-24 18:07:08,540]\u001b[0m Trial 152 finished with value: -0.006192919030411209 and parameters: {'kernel': 'rbf', 'C': 0.014788790967828038, 'gamma': 0.053008203896770835, 'epsilon': 0.0029760230796794887}. Best is trial 136 with value: -0.006140773787988712.\u001b[0m\n",
      "\u001b[32m[I 2022-07-24 18:07:08,693]\u001b[0m Trial 153 finished with value: -0.006185315621640506 and parameters: {'kernel': 'rbf', 'C': 0.011646289261789466, 'gamma': 0.06622146497243628, 'epsilon': 0.0016881682056985594}. Best is trial 136 with value: -0.006140773787988712.\u001b[0m\n",
      "\u001b[32m[I 2022-07-24 18:07:08,838]\u001b[0m Trial 154 finished with value: -0.006180594040017824 and parameters: {'kernel': 'rbf', 'C': 0.021409671887236446, 'gamma': 0.042267465505765135, 'epsilon': 0.0021179880445278097}. Best is trial 136 with value: -0.006140773787988712.\u001b[0m\n"
     ]
    },
    {
     "name": "stderr",
     "output_type": "stream",
     "text": [
      "\u001b[32m[I 2022-07-24 18:07:08,976]\u001b[0m Trial 155 finished with value: -0.006200870474889152 and parameters: {'kernel': 'rbf', 'C': 0.01824258278492133, 'gamma': 0.09130872530760532, 'epsilon': 0.0022858010068708317}. Best is trial 136 with value: -0.006140773787988712.\u001b[0m\n",
      "\u001b[32m[I 2022-07-24 18:07:09,124]\u001b[0m Trial 156 finished with value: -0.006151817085715168 and parameters: {'kernel': 'rbf', 'C': 0.01465323030243845, 'gamma': 0.07949049128656942, 'epsilon': 0.0018356832717899118}. Best is trial 136 with value: -0.006140773787988712.\u001b[0m\n",
      "\u001b[32m[I 2022-07-24 18:07:09,353]\u001b[0m Trial 157 finished with value: -0.006154219287745038 and parameters: {'kernel': 'rbf', 'C': 0.01501276619588571, 'gamma': 0.0768822574618817, 'epsilon': 0.0019702519369127324}. Best is trial 136 with value: -0.006140773787988712.\u001b[0m\n",
      "\u001b[32m[I 2022-07-24 18:07:09,784]\u001b[0m Trial 158 finished with value: -0.006180943311997676 and parameters: {'kernel': 'rbf', 'C': 0.015559865654307604, 'gamma': 0.054143707344977955, 'epsilon': 0.0027545030703834588}. Best is trial 136 with value: -0.006140773787988712.\u001b[0m\n",
      "\u001b[32m[I 2022-07-24 18:07:09,974]\u001b[0m Trial 159 finished with value: -0.006200227105180676 and parameters: {'kernel': 'rbf', 'C': 0.024092426506393625, 'gamma': 0.07763915316689772, 'epsilon': 0.0019441390303754958}. Best is trial 136 with value: -0.006140773787988712.\u001b[0m\n",
      "\u001b[32m[I 2022-07-24 18:07:10,133]\u001b[0m Trial 160 finished with value: -0.006166826513041207 and parameters: {'kernel': 'rbf', 'C': 0.019007805840612294, 'gamma': 0.05968321596195415, 'epsilon': 0.0024828974108575402}. Best is trial 136 with value: -0.006140773787988712.\u001b[0m\n",
      "\u001b[32m[I 2022-07-24 18:07:10,288]\u001b[0m Trial 161 finished with value: -0.00616847776200443 and parameters: {'kernel': 'rbf', 'C': 0.01938166156980735, 'gamma': 0.06159190611029822, 'epsilon': 0.0025730919622639864}. Best is trial 136 with value: -0.006140773787988712.\u001b[0m\n",
      "\u001b[32m[I 2022-07-24 18:07:10,686]\u001b[0m Trial 162 finished with value: -0.006221917069127507 and parameters: {'kernel': 'rbf', 'C': 0.02024049245679794, 'gamma': 0.06024323554388976, 'epsilon': 0.0031223179401461167}. Best is trial 136 with value: -0.006140773787988712.\u001b[0m\n",
      "\u001b[32m[I 2022-07-24 18:07:10,886]\u001b[0m Trial 163 finished with value: -0.006173253442328057 and parameters: {'kernel': 'rbf', 'C': 0.02710338753731256, 'gamma': 0.04612164963542384, 'epsilon': 0.002319001804636817}. Best is trial 136 with value: -0.006140773787988712.\u001b[0m\n",
      "\u001b[32m[I 2022-07-24 18:07:11,034]\u001b[0m Trial 164 finished with value: -0.006173504072836527 and parameters: {'kernel': 'rbf', 'C': 0.017415465788686232, 'gamma': 0.05785725275778494, 'epsilon': 0.0026669836607554403}. Best is trial 136 with value: -0.006140773787988712.\u001b[0m\n",
      "\u001b[32m[I 2022-07-24 18:07:11,206]\u001b[0m Trial 165 finished with value: -0.0061747721028876075 and parameters: {'kernel': 'rbf', 'C': 0.021878026458415394, 'gamma': 0.049659737172593435, 'epsilon': 0.0017670688148515952}. Best is trial 136 with value: -0.006140773787988712.\u001b[0m\n",
      "\u001b[32m[I 2022-07-24 18:07:11,362]\u001b[0m Trial 166 finished with value: -0.006270019103870393 and parameters: {'kernel': 'rbf', 'C': 0.017387214486034117, 'gamma': 0.030652370740081317, 'epsilon': 0.0020631001037042223}. Best is trial 136 with value: -0.006140773787988712.\u001b[0m\n",
      "\u001b[32m[I 2022-07-24 18:07:11,480]\u001b[0m Trial 167 finished with value: -0.006352787571383107 and parameters: {'kernel': 'rbf', 'C': 0.0316866940327969, 'gamma': 0.07931142086655292, 'epsilon': 0.003425730316465471}. Best is trial 136 with value: -0.006140773787988712.\u001b[0m\n",
      "\u001b[32m[I 2022-07-24 18:07:11,593]\u001b[0m Trial 168 finished with value: -0.006500426433719195 and parameters: {'kernel': 'rbf', 'C': 0.014658784902323406, 'gamma': 0.09876598472220709, 'epsilon': 0.004515383054844019}. Best is trial 136 with value: -0.006140773787988712.\u001b[0m\n",
      "\u001b[32m[I 2022-07-24 18:07:11,732]\u001b[0m Trial 169 finished with value: -0.006159686901834709 and parameters: {'kernel': 'rbf', 'C': 0.01963537171629345, 'gamma': 0.064983044513277, 'epsilon': 0.002458901030202372}. Best is trial 136 with value: -0.006140773787988712.\u001b[0m\n",
      "\u001b[32m[I 2022-07-24 18:07:11,890]\u001b[0m Trial 170 finished with value: -0.006192467796005224 and parameters: {'kernel': 'rbf', 'C': 0.024663396081790745, 'gamma': 0.06322034323846784, 'epsilon': 0.0023831534073402985}. Best is trial 136 with value: -0.006140773787988712.\u001b[0m\n",
      "\u001b[32m[I 2022-07-24 18:07:12,059]\u001b[0m Trial 171 finished with value: -0.006162066274696403 and parameters: {'kernel': 'rbf', 'C': 0.019821213519828493, 'gamma': 0.06525484223624631, 'epsilon': 0.0018634947792122562}. Best is trial 136 with value: -0.006140773787988712.\u001b[0m\n",
      "\u001b[32m[I 2022-07-24 18:07:12,248]\u001b[0m Trial 172 finished with value: -0.006153228709236715 and parameters: {'kernel': 'rbf', 'C': 0.019545146729881172, 'gamma': 0.06408077773162187, 'epsilon': 0.0018877641417462665}. Best is trial 136 with value: -0.006140773787988712.\u001b[0m\n",
      "\u001b[32m[I 2022-07-24 18:07:12,426]\u001b[0m Trial 173 finished with value: -0.006184304842350295 and parameters: {'kernel': 'rbf', 'C': 0.02285095446539242, 'gamma': 0.040660666580582344, 'epsilon': 0.0017326722996919195}. Best is trial 136 with value: -0.006140773787988712.\u001b[0m\n",
      "\u001b[32m[I 2022-07-24 18:07:12,597]\u001b[0m Trial 174 finished with value: -0.006185494603178464 and parameters: {'kernel': 'rbf', 'C': 0.02809926646614403, 'gamma': 0.05312968835234391, 'epsilon': 0.0019212542958387362}. Best is trial 136 with value: -0.006140773787988712.\u001b[0m\n",
      "\u001b[32m[I 2022-07-24 18:07:12,749]\u001b[0m Trial 175 finished with value: -0.006187650713750572 and parameters: {'kernel': 'rbf', 'C': 0.019300997336448945, 'gamma': 0.08481261612484514, 'epsilon': 0.002069372516953653}. Best is trial 136 with value: -0.006140773787988712.\u001b[0m\n",
      "\u001b[32m[I 2022-07-24 18:07:12,877]\u001b[0m Trial 176 finished with value: -0.00618258480639942 and parameters: {'kernel': 'rbf', 'C': 0.016321185029131668, 'gamma': 0.07024965225188926, 'epsilon': 0.0028555191719067765}. Best is trial 136 with value: -0.006140773787988712.\u001b[0m\n",
      "\u001b[32m[I 2022-07-24 18:07:13,433]\u001b[0m Trial 177 finished with value: -0.007934169815569958 and parameters: {'kernel': 'rbf', 'C': 3.067972669614917, 'gamma': 0.10793181350126928, 'epsilon': 0.0016893530454078615}. Best is trial 136 with value: -0.006140773787988712.\u001b[0m\n",
      "\u001b[32m[I 2022-07-24 18:07:13,586]\u001b[0m Trial 178 finished with value: -0.006168978240478187 and parameters: {'kernel': 'rbf', 'C': 0.02218725264312518, 'gamma': 0.047686773449768224, 'epsilon': 0.0021777790793943573}. Best is trial 136 with value: -0.006140773787988712.\u001b[0m\n",
      "\u001b[32m[I 2022-07-24 18:07:13,729]\u001b[0m Trial 179 finished with value: -0.006143124996177013 and parameters: {'kernel': 'rbf', 'C': 0.015481618265143922, 'gamma': 0.06496334217053389, 'epsilon': 0.0024148568799281017}. Best is trial 136 with value: -0.006140773787988712.\u001b[0m\n",
      "\u001b[32m[I 2022-07-24 18:07:13,878]\u001b[0m Trial 180 finished with value: -0.006146468859460078 and parameters: {'kernel': 'rbf', 'C': 0.014643907860063192, 'gamma': 0.08194166228789482, 'epsilon': 0.001917116668785786}. Best is trial 136 with value: -0.006140773787988712.\u001b[0m\n",
      "\u001b[32m[I 2022-07-24 18:07:14,030]\u001b[0m Trial 181 finished with value: -0.006173761605126986 and parameters: {'kernel': 'rbf', 'C': 0.015043780656889147, 'gamma': 0.09305885949152996, 'epsilon': 0.001916318154758235}. Best is trial 136 with value: -0.006140773787988712.\u001b[0m\n",
      "\u001b[32m[I 2022-07-24 18:07:14,187]\u001b[0m Trial 182 finished with value: -0.006161884432534535 and parameters: {'kernel': 'rbf', 'C': 0.012474331135068106, 'gamma': 0.0795561446741168, 'epsilon': 0.0017234170371635273}. Best is trial 136 with value: -0.006140773787988712.\u001b[0m\n",
      "\u001b[32m[I 2022-07-24 18:07:14,328]\u001b[0m Trial 183 finished with value: -0.006146304295296399 and parameters: {'kernel': 'rbf', 'C': 0.013059268790670545, 'gamma': 0.07982021055188374, 'epsilon': 0.0022509728830492955}. Best is trial 136 with value: -0.006140773787988712.\u001b[0m\n",
      "\u001b[32m[I 2022-07-24 18:07:14,472]\u001b[0m Trial 184 finished with value: -0.0061640980719001315 and parameters: {'kernel': 'rbf', 'C': 0.011168415348770801, 'gamma': 0.08198909656086635, 'epsilon': 0.002367438969276253}. Best is trial 136 with value: -0.006140773787988712.\u001b[0m\n",
      "\u001b[32m[I 2022-07-24 18:07:14,621]\u001b[0m Trial 185 finished with value: -0.00615587677516426 and parameters: {'kernel': 'rbf', 'C': 0.012523888315850664, 'gamma': 0.07887361908612725, 'epsilon': 0.0022056643379030493}. Best is trial 136 with value: -0.006140773787988712.\u001b[0m\n"
     ]
    },
    {
     "name": "stderr",
     "output_type": "stream",
     "text": [
      "\u001b[32m[I 2022-07-24 18:07:14,749]\u001b[0m Trial 186 finished with value: -0.00626046849232647 and parameters: {'kernel': 'rbf', 'C': 0.014315529209680329, 'gamma': 0.11596534513114065, 'epsilon': 0.002890082592730675}. Best is trial 136 with value: -0.006140773787988712.\u001b[0m\n",
      "\u001b[32m[I 2022-07-24 18:07:14,892]\u001b[0m Trial 187 finished with value: -0.006154177126794826 and parameters: {'kernel': 'rbf', 'C': 0.012110144436836633, 'gamma': 0.10211424268489305, 'epsilon': 0.002110005117601336}. Best is trial 136 with value: -0.006140773787988712.\u001b[0m\n",
      "\u001b[32m[I 2022-07-24 18:07:15,007]\u001b[0m Trial 188 finished with value: -0.006234331210038922 and parameters: {'kernel': 'rbf', 'C': 0.012360690109511416, 'gamma': 0.07315553744046481, 'epsilon': 0.0033118159846447985}. Best is trial 136 with value: -0.006140773787988712.\u001b[0m\n",
      "\u001b[32m[I 2022-07-24 18:07:15,257]\u001b[0m Trial 189 finished with value: -0.006771903201401589 and parameters: {'kernel': 'poly', 'C': 0.010723858693822188, 'gamma': 0.09509713362858957, 'epsilon': 0.0021236907891793496}. Best is trial 136 with value: -0.006140773787988712.\u001b[0m\n",
      "\u001b[32m[I 2022-07-24 18:07:15,398]\u001b[0m Trial 190 finished with value: -0.00624376538005527 and parameters: {'kernel': 'rbf', 'C': 0.01620273587998644, 'gamma': 0.1275833917599613, 'epsilon': 0.0025145288999516807}. Best is trial 136 with value: -0.006140773787988712.\u001b[0m\n",
      "\u001b[32m[I 2022-07-24 18:07:15,539]\u001b[0m Trial 191 finished with value: -0.006168368684775469 and parameters: {'kernel': 'rbf', 'C': 0.010044686758736937, 'gamma': 0.10088036098288815, 'epsilon': 0.0021761807108910923}. Best is trial 136 with value: -0.006140773787988712.\u001b[0m\n",
      "\u001b[32m[I 2022-07-24 18:07:15,689]\u001b[0m Trial 192 finished with value: -0.006141885352729867 and parameters: {'kernel': 'rbf', 'C': 0.013579206090549955, 'gamma': 0.08803077415039941, 'epsilon': 0.0020588870364842216}. Best is trial 136 with value: -0.006140773787988712.\u001b[0m\n",
      "\u001b[32m[I 2022-07-24 18:07:15,824]\u001b[0m Trial 193 finished with value: -0.006164583932712383 and parameters: {'kernel': 'rbf', 'C': 0.012111959856924174, 'gamma': 0.0821586942839275, 'epsilon': 0.002688933152675043}. Best is trial 136 with value: -0.006140773787988712.\u001b[0m\n",
      "\u001b[32m[I 2022-07-24 18:07:15,965]\u001b[0m Trial 194 finished with value: -0.0061476578628646165 and parameters: {'kernel': 'rbf', 'C': 0.01463233485697362, 'gamma': 0.0683004206681689, 'epsilon': 0.002264789103345669}. Best is trial 136 with value: -0.006140773787988712.\u001b[0m\n",
      "\u001b[32m[I 2022-07-24 18:07:16,118]\u001b[0m Trial 195 finished with value: -0.00615715315733794 and parameters: {'kernel': 'rbf', 'C': 0.014606431503323908, 'gamma': 0.07051272654504442, 'epsilon': 0.0020209157579884982}. Best is trial 136 with value: -0.006140773787988712.\u001b[0m\n",
      "\u001b[32m[I 2022-07-24 18:07:16,272]\u001b[0m Trial 196 finished with value: -0.006196242167997363 and parameters: {'kernel': 'rbf', 'C': 0.01512599499391126, 'gamma': 0.10885423383762853, 'epsilon': 0.0019360591745467648}. Best is trial 136 with value: -0.006140773787988712.\u001b[0m\n",
      "\u001b[32m[I 2022-07-24 18:07:16,412]\u001b[0m Trial 197 finished with value: -0.006150154781069028 and parameters: {'kernel': 'rbf', 'C': 0.013019626484270911, 'gamma': 0.0752766725112265, 'epsilon': 0.0020005038394529857}. Best is trial 136 with value: -0.006140773787988712.\u001b[0m\n",
      "\u001b[32m[I 2022-07-24 18:07:16,572]\u001b[0m Trial 198 finished with value: -0.0061764215467810775 and parameters: {'kernel': 'rbf', 'C': 0.011503329721971734, 'gamma': 0.07534536884259412, 'epsilon': 0.0016458976622364613}. Best is trial 136 with value: -0.006140773787988712.\u001b[0m\n",
      "\u001b[32m[I 2022-07-24 18:07:16,726]\u001b[0m Trial 199 finished with value: -0.006156067358218854 and parameters: {'kernel': 'rbf', 'C': 0.013672563778055834, 'gamma': 0.08288432629144019, 'epsilon': 0.0020147912429535828}. Best is trial 136 with value: -0.006140773787988712.\u001b[0m\n",
      "\u001b[32m[I 2022-07-24 18:07:16,847]\u001b[0m Trial 200 finished with value: -0.006245474004490169 and parameters: {'kernel': 'rbf', 'C': 0.01444718722667346, 'gamma': 0.09109836393653237, 'epsilon': 0.003050867090994845}. Best is trial 136 with value: -0.006140773787988712.\u001b[0m\n",
      "\u001b[32m[I 2022-07-24 18:07:16,996]\u001b[0m Trial 201 finished with value: -0.006155782378684314 and parameters: {'kernel': 'rbf', 'C': 0.016540305491370873, 'gamma': 0.08509380714220438, 'epsilon': 0.002011410807484315}. Best is trial 136 with value: -0.006140773787988712.\u001b[0m\n",
      "\u001b[32m[I 2022-07-24 18:07:17,148]\u001b[0m Trial 202 finished with value: -0.006150467587391199 and parameters: {'kernel': 'rbf', 'C': 0.017108751549401904, 'gamma': 0.07165672985502317, 'epsilon': 0.00198004571689417}. Best is trial 136 with value: -0.006140773787988712.\u001b[0m\n",
      "\u001b[32m[I 2022-07-24 18:07:17,309]\u001b[0m Trial 203 finished with value: -0.0061530623791668125 and parameters: {'kernel': 'rbf', 'C': 0.016306706915142546, 'gamma': 0.07144456819893721, 'epsilon': 0.0019539277149461264}. Best is trial 136 with value: -0.006140773787988712.\u001b[0m\n",
      "\u001b[32m[I 2022-07-24 18:07:17,475]\u001b[0m Trial 204 finished with value: -0.006211441214519865 and parameters: {'kernel': 'rbf', 'C': 0.01659620258940001, 'gamma': 0.10688513502758812, 'epsilon': 0.0015559896564457147}. Best is trial 136 with value: -0.006140773787988712.\u001b[0m\n",
      "\u001b[32m[I 2022-07-24 18:07:17,629]\u001b[0m Trial 205 finished with value: -0.006157552628938631 and parameters: {'kernel': 'rbf', 'C': 0.016570947560979488, 'gamma': 0.08568585263104624, 'epsilon': 0.001981511510115278}. Best is trial 136 with value: -0.006140773787988712.\u001b[0m\n",
      "\u001b[32m[I 2022-07-24 18:07:17,807]\u001b[0m Trial 206 finished with value: -0.006147600239867119 and parameters: {'kernel': 'rbf', 'C': 0.01305127730604319, 'gamma': 0.07286837616441755, 'epsilon': 0.002125784449672956}. Best is trial 136 with value: -0.006140773787988712.\u001b[0m\n",
      "\u001b[32m[I 2022-07-24 18:07:18,027]\u001b[0m Trial 207 finished with value: -0.006177094176840697 and parameters: {'kernel': 'rbf', 'C': 0.012740190961566271, 'gamma': 0.07047909486658216, 'epsilon': 0.0016520345884509853}. Best is trial 136 with value: -0.006140773787988712.\u001b[0m\n",
      "\u001b[32m[I 2022-07-24 18:07:18,178]\u001b[0m Trial 208 finished with value: -0.006179682251895698 and parameters: {'kernel': 'rbf', 'C': 0.016384884841989945, 'gamma': 0.0930125761508215, 'epsilon': 0.002272317239975741}. Best is trial 136 with value: -0.006140773787988712.\u001b[0m\n",
      "\u001b[32m[I 2022-07-24 18:07:18,324]\u001b[0m Trial 209 finished with value: -0.006191924480941973 and parameters: {'kernel': 'rbf', 'C': 0.010144405741434104, 'gamma': 0.07216724801735247, 'epsilon': 0.002657993236898862}. Best is trial 136 with value: -0.006140773787988712.\u001b[0m\n",
      "\u001b[32m[I 2022-07-24 18:07:18,486]\u001b[0m Trial 210 finished with value: -0.006217587576791631 and parameters: {'kernel': 'rbf', 'C': 0.013490731605485695, 'gamma': 0.12389761806028357, 'epsilon': 0.001818818026750403}. Best is trial 136 with value: -0.006140773787988712.\u001b[0m\n",
      "\u001b[32m[I 2022-07-24 18:07:18,742]\u001b[0m Trial 211 finished with value: -0.006147646324014409 and parameters: {'kernel': 'rbf', 'C': 0.0141940241539516, 'gamma': 0.07844664520029597, 'epsilon': 0.0020364247910999007}. Best is trial 136 with value: -0.006140773787988712.\u001b[0m\n",
      "\u001b[32m[I 2022-07-24 18:07:18,914]\u001b[0m Trial 212 finished with value: -0.0061469625714456405 and parameters: {'kernel': 'rbf', 'C': 0.0152730031487985, 'gamma': 0.07712344433686598, 'epsilon': 0.0021650435301106665}. Best is trial 136 with value: -0.006140773787988712.\u001b[0m\n",
      "\u001b[32m[I 2022-07-24 18:07:19,084]\u001b[0m Trial 213 finished with value: -0.0061991250567363715 and parameters: {'kernel': 'rbf', 'C': 0.016891869947485684, 'gamma': 0.0979508875649299, 'epsilon': 0.001586088251122421}. Best is trial 136 with value: -0.006140773787988712.\u001b[0m\n",
      "\u001b[32m[I 2022-07-24 18:07:19,254]\u001b[0m Trial 214 finished with value: -0.006159131817442117 and parameters: {'kernel': 'rbf', 'C': 0.015125389597940728, 'gamma': 0.06691262279880575, 'epsilon': 0.0019001002594851164}. Best is trial 136 with value: -0.006140773787988712.\u001b[0m\n",
      "\u001b[32m[I 2022-07-24 18:07:19,294]\u001b[0m Trial 215 finished with value: -0.03564469137116573 and parameters: {'kernel': 'rbf', 'C': 0.014434167019536676, 'gamma': 0.05791630121738463, 'epsilon': 0.933728958022277}. Best is trial 136 with value: -0.006140773787988712.\u001b[0m\n",
      "\u001b[32m[I 2022-07-24 18:07:19,464]\u001b[0m Trial 216 finished with value: -0.0061634241927114855 and parameters: {'kernel': 'rbf', 'C': 0.017055419818344, 'gamma': 0.07649837134425849, 'epsilon': 0.0022432590889882066}. Best is trial 136 with value: -0.006140773787988712.\u001b[0m\n"
     ]
    },
    {
     "name": "stderr",
     "output_type": "stream",
     "text": [
      "\u001b[32m[I 2022-07-24 18:07:19,660]\u001b[0m Trial 217 finished with value: -0.0061850028253220305 and parameters: {'kernel': 'rbf', 'C': 0.01130158217961652, 'gamma': 0.08661613970078733, 'epsilon': 0.0027626655524459628}. Best is trial 136 with value: -0.006140773787988712.\u001b[0m\n",
      "\u001b[32m[I 2022-07-24 18:07:19,824]\u001b[0m Trial 218 finished with value: -0.0062135112224571435 and parameters: {'kernel': 'rbf', 'C': 0.0176909522999634, 'gamma': 0.10696091794465525, 'epsilon': 0.001948754166907999}. Best is trial 136 with value: -0.006140773787988712.\u001b[0m\n",
      "\u001b[32m[I 2022-07-24 18:07:20,001]\u001b[0m Trial 219 finished with value: -0.006168300253002285 and parameters: {'kernel': 'rbf', 'C': 0.015077918141291034, 'gamma': 0.06761677684523981, 'epsilon': 0.0015547050861923772}. Best is trial 136 with value: -0.006140773787988712.\u001b[0m\n",
      "\u001b[32m[I 2022-07-24 18:07:20,147]\u001b[0m Trial 220 finished with value: -0.006170070024323831 and parameters: {'kernel': 'rbf', 'C': 0.013237203016653619, 'gamma': 0.056894651686012036, 'epsilon': 0.0024401611621620595}. Best is trial 136 with value: -0.006140773787988712.\u001b[0m\n",
      "\u001b[32m[I 2022-07-24 18:07:20,300]\u001b[0m Trial 221 finished with value: -0.006147763654239555 and parameters: {'kernel': 'rbf', 'C': 0.012305596819926145, 'gamma': 0.07712807572572083, 'epsilon': 0.0021745969465197354}. Best is trial 136 with value: -0.006140773787988712.\u001b[0m\n",
      "\u001b[32m[I 2022-07-24 18:07:20,448]\u001b[0m Trial 222 finished with value: -0.00616978743390965 and parameters: {'kernel': 'rbf', 'C': 0.010114621871022253, 'gamma': 0.07518951211278531, 'epsilon': 0.002120861424047989}. Best is trial 136 with value: -0.006140773787988712.\u001b[0m\n",
      "\u001b[32m[I 2022-07-24 18:07:20,603]\u001b[0m Trial 223 finished with value: -0.00615848642826499 and parameters: {'kernel': 'rbf', 'C': 0.012053361257622028, 'gamma': 0.09121893003950793, 'epsilon': 0.001829074084187682}. Best is trial 136 with value: -0.006140773787988712.\u001b[0m\n",
      "\u001b[32m[I 2022-07-24 18:07:20,751]\u001b[0m Trial 224 finished with value: -0.006151705136240881 and parameters: {'kernel': 'rbf', 'C': 0.015177939768709849, 'gamma': 0.06466491184621923, 'epsilon': 0.002384669322962001}. Best is trial 136 with value: -0.006140773787988712.\u001b[0m\n",
      "\u001b[32m[I 2022-07-24 18:07:20,900]\u001b[0m Trial 225 finished with value: -0.006153333743755472 and parameters: {'kernel': 'rbf', 'C': 0.013835680325484287, 'gamma': 0.06377128621931348, 'epsilon': 0.002401863286429391}. Best is trial 136 with value: -0.006140773787988712.\u001b[0m\n",
      "\u001b[32m[I 2022-07-24 18:07:21,045]\u001b[0m Trial 226 finished with value: -0.006161013324597962 and parameters: {'kernel': 'rbf', 'C': 0.012754025767781578, 'gamma': 0.06533647217190038, 'epsilon': 0.0025192912808558597}. Best is trial 136 with value: -0.006140773787988712.\u001b[0m\n",
      "\u001b[32m[I 2022-07-24 18:07:21,181]\u001b[0m Trial 227 finished with value: -0.006215365439728442 and parameters: {'kernel': 'rbf', 'C': 0.011336786080970222, 'gamma': 0.05746621016411583, 'epsilon': 0.0028900643063490454}. Best is trial 136 with value: -0.006140773787988712.\u001b[0m\n",
      "\u001b[32m[I 2022-07-24 18:07:21,228]\u001b[0m Trial 228 finished with value: -0.03564469137116574 and parameters: {'kernel': 'rbf', 'C': 0.014105505770312082, 'gamma': 0.06429266668170032, 'epsilon': 0.0597245572636301}. Best is trial 136 with value: -0.006140773787988712.\u001b[0m\n",
      "\u001b[32m[I 2022-07-24 18:07:21,404]\u001b[0m Trial 229 finished with value: -0.006223726222605322 and parameters: {'kernel': 'rbf', 'C': 0.01004764234495295, 'gamma': 0.055956501459444453, 'epsilon': 0.002381561944807391}. Best is trial 136 with value: -0.006140773787988712.\u001b[0m\n",
      "\u001b[32m[I 2022-07-24 18:07:21,709]\u001b[0m Trial 230 finished with value: -0.006154298446951842 and parameters: {'kernel': 'rbf', 'C': 0.01855534788917756, 'gamma': 0.07186560288546034, 'epsilon': 0.0017299635768917372}. Best is trial 136 with value: -0.006140773787988712.\u001b[0m\n",
      "\u001b[32m[I 2022-07-24 18:07:21,891]\u001b[0m Trial 231 finished with value: -0.006164899482775856 and parameters: {'kernel': 'rbf', 'C': 0.017965735247898768, 'gamma': 0.07090603423898628, 'epsilon': 0.0017604077594819928}. Best is trial 136 with value: -0.006140773787988712.\u001b[0m\n",
      "\u001b[32m[I 2022-07-24 18:07:22,061]\u001b[0m Trial 232 finished with value: -0.006144205475558773 and parameters: {'kernel': 'rbf', 'C': 0.0152838805555877, 'gamma': 0.0752134901718018, 'epsilon': 0.002196674870251668}. Best is trial 136 with value: -0.006140773787988712.\u001b[0m\n",
      "\u001b[32m[I 2022-07-24 18:07:22,217]\u001b[0m Trial 233 finished with value: -0.006153325719648862 and parameters: {'kernel': 'rbf', 'C': 0.015286969355066557, 'gamma': 0.0754800372685364, 'epsilon': 0.0023292119285726535}. Best is trial 136 with value: -0.006140773787988712.\u001b[0m\n",
      "\u001b[32m[I 2022-07-24 18:07:22,408]\u001b[0m Trial 234 finished with value: -0.006161881349826065 and parameters: {'kernel': 'rbf', 'C': 0.013237383080796994, 'gamma': 0.06209161192051284, 'epsilon': 0.0022926811389280695}. Best is trial 136 with value: -0.006140773787988712.\u001b[0m\n",
      "\u001b[32m[I 2022-07-24 18:07:22,457]\u001b[0m Trial 235 finished with value: -0.03564469137116574 and parameters: {'kernel': 'rbf', 'C': 0.01565624805678824, 'gamma': 0.07869670727777031, 'epsilon': 0.1638064263767986}. Best is trial 136 with value: -0.006140773787988712.\u001b[0m\n",
      "\u001b[32m[I 2022-07-24 18:07:22,590]\u001b[0m Trial 236 finished with value: -0.006181161487978811 and parameters: {'kernel': 'rbf', 'C': 0.011553212947941045, 'gamma': 0.0637591575548893, 'epsilon': 0.0027657609343126354}. Best is trial 136 with value: -0.006140773787988712.\u001b[0m\n",
      "\u001b[32m[I 2022-07-24 18:07:22,741]\u001b[0m Trial 237 finished with value: -0.006172222579404637 and parameters: {'kernel': 'rbf', 'C': 0.0139052309428611, 'gamma': 0.053696676707117814, 'epsilon': 0.002219709915346599}. Best is trial 136 with value: -0.006140773787988712.\u001b[0m\n",
      "\u001b[32m[I 2022-07-24 18:07:22,863]\u001b[0m Trial 238 finished with value: -0.0062664449621865756 and parameters: {'kernel': 'rbf', 'C': 0.016096910376589182, 'gamma': 0.09490974136048512, 'epsilon': 0.003153173074491689}. Best is trial 136 with value: -0.006140773787988712.\u001b[0m\n",
      "\u001b[32m[I 2022-07-24 18:07:23,003]\u001b[0m Trial 239 finished with value: -0.0061748727487205115 and parameters: {'kernel': 'rbf', 'C': 0.017852662719871893, 'gamma': 0.07436156330406875, 'epsilon': 0.002526908236596626}. Best is trial 136 with value: -0.006140773787988712.\u001b[0m\n",
      "\u001b[32m[I 2022-07-24 18:07:23,065]\u001b[0m Trial 240 finished with value: -0.011851027792544848 and parameters: {'kernel': 'rbf', 'C': 0.012714111667995723, 'gamma': 0.06433878182492893, 'epsilon': 0.014179790727798658}. Best is trial 136 with value: -0.006140773787988712.\u001b[0m\n",
      "\u001b[32m[I 2022-07-24 18:07:23,366]\u001b[0m Trial 241 finished with value: -0.007064135575604566 and parameters: {'kernel': 'rbf', 'C': 0.5410286818953781, 'gamma': 0.07962197306958878, 'epsilon': 0.0021044161435053157}. Best is trial 136 with value: -0.006140773787988712.\u001b[0m\n",
      "\u001b[32m[I 2022-07-24 18:07:23,523]\u001b[0m Trial 242 finished with value: -0.006152364114786875 and parameters: {'kernel': 'rbf', 'C': 0.014961327265432894, 'gamma': 0.07517766238165888, 'epsilon': 0.001930164381725401}. Best is trial 136 with value: -0.006140773787988712.\u001b[0m\n",
      "\u001b[32m[I 2022-07-24 18:07:23,667]\u001b[0m Trial 243 finished with value: -0.006149496642767927 and parameters: {'kernel': 'rbf', 'C': 0.01453841742690038, 'gamma': 0.07002361037736803, 'epsilon': 0.002238981442942227}. Best is trial 136 with value: -0.006140773787988712.\u001b[0m\n",
      "\u001b[32m[I 2022-07-24 18:07:23,800]\u001b[0m Trial 244 finished with value: -0.006154283927291001 and parameters: {'kernel': 'rbf', 'C': 0.015162552669524421, 'gamma': 0.06836561130938994, 'epsilon': 0.0025420412112852927}. Best is trial 136 with value: -0.006140773787988712.\u001b[0m\n",
      "\u001b[32m[I 2022-07-24 18:07:23,968]\u001b[0m Trial 245 finished with value: -0.006166166593354918 and parameters: {'kernel': 'rbf', 'C': 0.02143926961119099, 'gamma': 0.057090769290102976, 'epsilon': 0.0018454369663612768}. Best is trial 136 with value: -0.006140773787988712.\u001b[0m\n",
      "\u001b[32m[I 2022-07-24 18:07:24,223]\u001b[0m Trial 246 finished with value: -0.006737545007021897 and parameters: {'kernel': 'poly', 'C': 0.017264218814267308, 'gamma': 0.08496248493343721, 'epsilon': 0.0023723799444486772}. Best is trial 136 with value: -0.006140773787988712.\u001b[0m\n",
      "\u001b[32m[I 2022-07-24 18:07:24,394]\u001b[0m Trial 247 finished with value: -0.006176251927590672 and parameters: {'kernel': 'rbf', 'C': 0.014087863129557902, 'gamma': 0.06844194687765155, 'epsilon': 0.0015160790860530304}. Best is trial 136 with value: -0.006140773787988712.\u001b[0m\n"
     ]
    },
    {
     "name": "stderr",
     "output_type": "stream",
     "text": [
      "\u001b[32m[I 2022-07-24 18:07:24,544]\u001b[0m Trial 248 finished with value: -0.006150305376417142 and parameters: {'kernel': 'rbf', 'C': 0.015817864597748508, 'gamma': 0.07700526964817578, 'epsilon': 0.0020793549502490303}. Best is trial 136 with value: -0.006140773787988712.\u001b[0m\n",
      "\u001b[32m[I 2022-07-24 18:07:24,704]\u001b[0m Trial 249 finished with value: -0.006171951571071814 and parameters: {'kernel': 'rbf', 'C': 0.01886032821363551, 'gamma': 0.07743097860141858, 'epsilon': 0.001960712589464297}. Best is trial 136 with value: -0.006140773787988712.\u001b[0m\n",
      "\u001b[32m[I 2022-07-24 18:07:24,874]\u001b[0m Trial 250 finished with value: -0.006191943929060239 and parameters: {'kernel': 'rbf', 'C': 0.017297157743843206, 'gamma': 0.0885622522647175, 'epsilon': 0.0016883662370024812}. Best is trial 136 with value: -0.006140773787988712.\u001b[0m\n",
      "\u001b[32m[I 2022-07-24 18:07:25,023]\u001b[0m Trial 251 finished with value: -0.0061422335276119094 and parameters: {'kernel': 'rbf', 'C': 0.015868127891621224, 'gamma': 0.07528691753320581, 'epsilon': 0.002175007021085969}. Best is trial 136 with value: -0.006140773787988712.\u001b[0m\n",
      "\u001b[32m[I 2022-07-24 18:07:25,180]\u001b[0m Trial 252 finished with value: -0.006191492184487445 and parameters: {'kernel': 'rbf', 'C': 0.019974425937473044, 'gamma': 0.0894413685055333, 'epsilon': 0.0020316737780577696}. Best is trial 136 with value: -0.006140773787988712.\u001b[0m\n",
      "\u001b[32m[I 2022-07-24 18:07:25,351]\u001b[0m Trial 253 finished with value: -0.006176046385151443 and parameters: {'kernel': 'rbf', 'C': 0.01605906742546853, 'gamma': 0.05280961254583297, 'epsilon': 0.0017153543183367381}. Best is trial 136 with value: -0.006140773787988712.\u001b[0m\n",
      "\u001b[32m[I 2022-07-24 18:07:25,541]\u001b[0m Trial 254 finished with value: -0.00620231521639215 and parameters: {'kernel': 'rbf', 'C': 0.02167491015843273, 'gamma': 0.07127044808145541, 'epsilon': 0.0014629167827472879}. Best is trial 136 with value: -0.006140773787988712.\u001b[0m\n",
      "\u001b[32m[I 2022-07-24 18:07:25,690]\u001b[0m Trial 255 finished with value: -0.006150389781516522 and parameters: {'kernel': 'rbf', 'C': 0.013243616120192937, 'gamma': 0.0801566172829885, 'epsilon': 0.002130830414947515}. Best is trial 136 with value: -0.006140773787988712.\u001b[0m\n",
      "\u001b[32m[I 2022-07-24 18:07:25,813]\u001b[0m Trial 256 finished with value: -0.00621889576659948 and parameters: {'kernel': 'rbf', 'C': 0.011497738596141659, 'gamma': 0.09840617016932651, 'epsilon': 0.002849428397768804}. Best is trial 136 with value: -0.006140773787988712.\u001b[0m\n",
      "\u001b[32m[I 2022-07-24 18:07:25,977]\u001b[0m Trial 257 finished with value: -0.006684529772296049 and parameters: {'kernel': 'rbf', 'C': 0.013016104597388702, 'gamma': 0.9954110749928644, 'epsilon': 0.002140943773046211}. Best is trial 136 with value: -0.006140773787988712.\u001b[0m\n",
      "\u001b[32m[I 2022-07-24 18:07:26,223]\u001b[0m Trial 258 finished with value: -0.006894943847539019 and parameters: {'kernel': 'rbf', 'C': 0.23885825256456192, 'gamma': 0.0821896231048328, 'epsilon': 0.0022025332156921005}. Best is trial 136 with value: -0.006140773787988712.\u001b[0m\n",
      "\u001b[32m[I 2022-07-24 18:07:26,382]\u001b[0m Trial 259 finished with value: -0.006160693709668094 and parameters: {'kernel': 'rbf', 'C': 0.014868155256573104, 'gamma': 0.07796101202620101, 'epsilon': 0.0019122860353824583}. Best is trial 136 with value: -0.006140773787988712.\u001b[0m\n",
      "\u001b[32m[I 2022-07-24 18:07:26,511]\u001b[0m Trial 260 finished with value: -0.006199497202112381 and parameters: {'kernel': 'rbf', 'C': 0.011087877989533607, 'gamma': 0.09412315179656111, 'epsilon': 0.00272326454385809}. Best is trial 136 with value: -0.006140773787988712.\u001b[0m\n",
      "\u001b[32m[I 2022-07-24 18:07:26,624]\u001b[0m Trial 261 finished with value: -0.006230778635968399 and parameters: {'kernel': 'rbf', 'C': 0.013105306259187625, 'gamma': 0.05772644769696987, 'epsilon': 0.00324824180780053}. Best is trial 136 with value: -0.006140773787988712.\u001b[0m\n",
      "\u001b[32m[I 2022-07-24 18:07:26,760]\u001b[0m Trial 262 finished with value: -0.006228785435535331 and parameters: {'kernel': 'rbf', 'C': 0.015285295437667119, 'gamma': 0.11548047548613832, 'epsilon': 0.002497362632547663}. Best is trial 136 with value: -0.006140773787988712.\u001b[0m\n",
      "\u001b[32m[I 2022-07-24 18:07:26,937]\u001b[0m Trial 263 finished with value: -0.006164854682559393 and parameters: {'kernel': 'rbf', 'C': 0.016847325948080256, 'gamma': 0.0712027012928815, 'epsilon': 0.0016321096008505489}. Best is trial 136 with value: -0.006140773787988712.\u001b[0m\n",
      "\u001b[32m[I 2022-07-24 18:07:27,083]\u001b[0m Trial 264 finished with value: -0.006144518252802669 and parameters: {'kernel': 'rbf', 'C': 0.012762712854466332, 'gamma': 0.08667901510120331, 'epsilon': 0.0021121687033949753}. Best is trial 136 with value: -0.006140773787988712.\u001b[0m\n",
      "\u001b[32m[I 2022-07-24 18:07:27,223]\u001b[0m Trial 265 finished with value: -0.006178806341552999 and parameters: {'kernel': 'rbf', 'C': 0.010434224863968587, 'gamma': 0.10646269236678113, 'epsilon': 0.002167161362933428}. Best is trial 136 with value: -0.006140773787988712.\u001b[0m\n",
      "\u001b[32m[I 2022-07-24 18:07:27,387]\u001b[0m Trial 266 finished with value: -0.006781804595782443 and parameters: {'kernel': 'rbf', 'C': 0.14529693392295293, 'gamma': 0.08646246456352406, 'epsilon': 0.0028101312999645627}. Best is trial 136 with value: -0.006140773787988712.\u001b[0m\n",
      "\u001b[32m[I 2022-07-24 18:07:27,545]\u001b[0m Trial 267 finished with value: -0.006150642432156644 and parameters: {'kernel': 'rbf', 'C': 0.012256327437901005, 'gamma': 0.08514681907334079, 'epsilon': 0.0018209598972494226}. Best is trial 136 with value: -0.006140773787988712.\u001b[0m\n",
      "\u001b[32m[I 2022-07-24 18:07:27,686]\u001b[0m Trial 268 finished with value: -0.006165748857693813 and parameters: {'kernel': 'rbf', 'C': 0.011333576887191962, 'gamma': 0.09833856445663737, 'epsilon': 0.0023196876744031266}. Best is trial 136 with value: -0.006140773787988712.\u001b[0m\n",
      "\u001b[32m[I 2022-07-24 18:07:27,837]\u001b[0m Trial 269 finished with value: -0.006168442010568118 and parameters: {'kernel': 'rbf', 'C': 0.012403674004830813, 'gamma': 0.08824668771083556, 'epsilon': 0.0017029316213723854}. Best is trial 136 with value: -0.006140773787988712.\u001b[0m\n",
      "\u001b[32m[I 2022-07-24 18:07:27,960]\u001b[0m Trial 270 finished with value: -0.0061980449662238845 and parameters: {'kernel': 'rbf', 'C': 0.01005961784822315, 'gamma': 0.06196934993682123, 'epsilon': 0.0025902553091532174}. Best is trial 136 with value: -0.006140773787988712.\u001b[0m\n",
      "\u001b[32m[I 2022-07-24 18:07:28,130]\u001b[0m Trial 271 finished with value: -0.006180463815079303 and parameters: {'kernel': 'rbf', 'C': 0.013230908436529385, 'gamma': 0.08512553716732522, 'epsilon': 0.001521310649689319}. Best is trial 136 with value: -0.006140773787988712.\u001b[0m\n",
      "\u001b[32m[I 2022-07-24 18:07:28,272]\u001b[0m Trial 272 finished with value: -0.006154714888051697 and parameters: {'kernel': 'rbf', 'C': 0.012163707617970634, 'gamma': 0.10156315415104701, 'epsilon': 0.0021482433188167774}. Best is trial 136 with value: -0.006140773787988712.\u001b[0m\n",
      "\u001b[32m[I 2022-07-24 18:07:28,359]\u001b[0m Trial 273 finished with value: -0.007101793736472663 and parameters: {'kernel': 'rbf', 'C': 0.01362465803312202, 'gamma': 0.07864119629057817, 'epsilon': 0.006567957471503544}. Best is trial 136 with value: -0.006140773787988712.\u001b[0m\n",
      "\u001b[32m[I 2022-07-24 18:07:28,504]\u001b[0m Trial 274 finished with value: -0.00619706613419424 and parameters: {'kernel': 'rbf', 'C': 0.010164583582986752, 'gamma': 0.06608491389319776, 'epsilon': 0.0018144257477889132}. Best is trial 136 with value: -0.006140773787988712.\u001b[0m\n",
      "\u001b[32m[I 2022-07-24 18:07:28,616]\u001b[0m Trial 275 finished with value: -0.006284998797086855 and parameters: {'kernel': 'rbf', 'C': 0.013950948794462029, 'gamma': 0.05103985191721799, 'epsilon': 0.003715788175783918}. Best is trial 136 with value: -0.006140773787988712.\u001b[0m\n",
      "\u001b[32m[I 2022-07-24 18:07:28,795]\u001b[0m Trial 276 finished with value: -0.007060547634244141 and parameters: {'kernel': 'rbf', 'C': 0.011597033525110961, 'gamma': 0.002016986695298382, 'epsilon': 0.002261776512117201}. Best is trial 136 with value: -0.006140773787988712.\u001b[0m\n",
      "\u001b[32m[I 2022-07-24 18:07:29,091]\u001b[0m Trial 277 finished with value: -0.006740442977421696 and parameters: {'kernel': 'poly', 'C': 0.017770840742414643, 'gamma': 0.12397841698902147, 'epsilon': 0.003004198894298132}. Best is trial 136 with value: -0.006140773787988712.\u001b[0m\n",
      "\u001b[32m[I 2022-07-24 18:07:29,241]\u001b[0m Trial 278 finished with value: -0.006156633773996135 and parameters: {'kernel': 'rbf', 'C': 0.01523466119590247, 'gamma': 0.08224773863986788, 'epsilon': 0.001911920163582558}. Best is trial 136 with value: -0.006140773787988712.\u001b[0m\n"
     ]
    },
    {
     "name": "stderr",
     "output_type": "stream",
     "text": [
      "\u001b[32m[I 2022-07-24 18:07:29,370]\u001b[0m Trial 279 finished with value: -0.006162178696880949 and parameters: {'kernel': 'rbf', 'C': 0.012834460459540791, 'gamma': 0.061383602793603054, 'epsilon': 0.0025195456553111215}. Best is trial 136 with value: -0.006140773787988712.\u001b[0m\n",
      "\u001b[32m[I 2022-07-24 18:07:29,547]\u001b[0m Trial 280 finished with value: -0.006196641201718332 and parameters: {'kernel': 'rbf', 'C': 0.017134512383275652, 'gamma': 0.09323704952152134, 'epsilon': 0.001416547044159841}. Best is trial 136 with value: -0.006140773787988712.\u001b[0m\n",
      "\u001b[32m[I 2022-07-24 18:07:29,685]\u001b[0m Trial 281 finished with value: -0.006166338698516893 and parameters: {'kernel': 'rbf', 'C': 0.011085752215947903, 'gamma': 0.10791509498486203, 'epsilon': 0.002109425956241984}. Best is trial 136 with value: -0.006140773787988712.\u001b[0m\n",
      "\u001b[32m[I 2022-07-24 18:07:29,855]\u001b[0m Trial 282 finished with value: -0.006169621151400604 and parameters: {'kernel': 'rbf', 'C': 0.014716912129658779, 'gamma': 0.07551267217205575, 'epsilon': 0.0016409752143566967}. Best is trial 136 with value: -0.006140773787988712.\u001b[0m\n",
      "\u001b[32m[I 2022-07-24 18:07:29,989]\u001b[0m Trial 283 finished with value: -0.006174038838850847 and parameters: {'kernel': 'rbf', 'C': 0.018951120029893992, 'gamma': 0.06923525249613209, 'epsilon': 0.0025004270536651517}. Best is trial 136 with value: -0.006140773787988712.\u001b[0m\n",
      "\u001b[32m[I 2022-07-24 18:07:30,143]\u001b[0m Trial 284 finished with value: -0.006181184896763378 and parameters: {'kernel': 'rbf', 'C': 0.013118811125012897, 'gamma': 0.056603979854333276, 'epsilon': 0.0018574084744222724}. Best is trial 136 with value: -0.006140773787988712.\u001b[0m\n",
      "\u001b[32m[I 2022-07-24 18:07:30,285]\u001b[0m Trial 285 finished with value: -0.006150502627911527 and parameters: {'kernel': 'rbf', 'C': 0.015491759863566105, 'gamma': 0.0869973115036686, 'epsilon': 0.0022182751742033666}. Best is trial 136 with value: -0.006140773787988712.\u001b[0m\n",
      "\u001b[32m[I 2022-07-24 18:07:30,420]\u001b[0m Trial 286 finished with value: -0.006276279905019771 and parameters: {'kernel': 'rbf', 'C': 0.023552551438888097, 'gamma': 0.09650144924709356, 'epsilon': 0.0029091328939318283}. Best is trial 136 with value: -0.006140773787988712.\u001b[0m\n",
      "\u001b[32m[I 2022-07-24 18:07:30,566]\u001b[0m Trial 287 finished with value: -0.006226228465458058 and parameters: {'kernel': 'rbf', 'C': 0.016722858273687944, 'gamma': 0.1128934231097706, 'epsilon': 0.0022476104709333103}. Best is trial 136 with value: -0.006140773787988712.\u001b[0m\n",
      "\u001b[32m[I 2022-07-24 18:07:30,707]\u001b[0m Trial 288 finished with value: -0.0061942253759731695 and parameters: {'kernel': 'rbf', 'C': 0.010133575967888072, 'gamma': 0.08906643255993431, 'epsilon': 0.0026335027815211133}. Best is trial 136 with value: -0.006140773787988712.\u001b[0m\n",
      "\u001b[32m[I 2022-07-24 18:07:30,876]\u001b[0m Trial 289 finished with value: -0.0061708611629222405 and parameters: {'kernel': 'rbf', 'C': 0.020824627611264735, 'gamma': 0.06671357327028951, 'epsilon': 0.0021324320449303373}. Best is trial 136 with value: -0.006140773787988712.\u001b[0m\n",
      "\u001b[32m[I 2022-07-24 18:07:30,922]\u001b[0m Trial 290 finished with value: -0.03564469137116575 and parameters: {'kernel': 'rbf', 'C': 0.012536369804435562, 'gamma': 0.0793911970219797, 'epsilon': 0.43847414462453455}. Best is trial 136 with value: -0.006140773787988712.\u001b[0m\n",
      "\u001b[32m[I 2022-07-24 18:07:31,044]\u001b[0m Trial 291 finished with value: -0.006236081544687411 and parameters: {'kernel': 'rbf', 'C': 0.015542387513013036, 'gamma': 0.050445129433808286, 'epsilon': 0.003376115510986122}. Best is trial 136 with value: -0.006140773787988712.\u001b[0m\n",
      "\u001b[32m[I 2022-07-24 18:07:31,191]\u001b[0m Trial 292 finished with value: -0.006154228239703202 and parameters: {'kernel': 'rbf', 'C': 0.018019724598081467, 'gamma': 0.06094517437633901, 'epsilon': 0.0023771196231561127}. Best is trial 136 with value: -0.006140773787988712.\u001b[0m\n",
      "\u001b[32m[I 2022-07-24 18:07:31,336]\u001b[0m Trial 293 finished with value: -0.006146233283816461 and parameters: {'kernel': 'rbf', 'C': 0.014024291221088555, 'gamma': 0.07132120360535207, 'epsilon': 0.002009885698891506}. Best is trial 136 with value: -0.006140773787988712.\u001b[0m\n",
      "\u001b[32m[I 2022-07-24 18:07:31,492]\u001b[0m Trial 294 finished with value: -0.00621275532585282 and parameters: {'kernel': 'rbf', 'C': 0.011492124602732044, 'gamma': 0.13781296632818094, 'epsilon': 0.0016569265441651626}. Best is trial 136 with value: -0.006140773787988712.\u001b[0m\n",
      "\u001b[32m[I 2022-07-24 18:07:31,655]\u001b[0m Trial 295 finished with value: -0.00615601014141311 and parameters: {'kernel': 'rbf', 'C': 0.01326804335831878, 'gamma': 0.08798171463760195, 'epsilon': 0.0018956351741176618}. Best is trial 136 with value: -0.006140773787988712.\u001b[0m\n",
      "\u001b[32m[I 2022-07-24 18:07:31,827]\u001b[0m Trial 296 finished with value: -0.0061821601951598205 and parameters: {'kernel': 'rbf', 'C': 0.013971825164761842, 'gamma': 0.07270336817106134, 'epsilon': 0.0013663806422387348}. Best is trial 136 with value: -0.006140773787988712.\u001b[0m\n",
      "\u001b[32m[I 2022-07-24 18:07:31,966]\u001b[0m Trial 297 finished with value: -0.006167953810897069 and parameters: {'kernel': 'rbf', 'C': 0.01228126287092101, 'gamma': 0.10430525011987395, 'epsilon': 0.0020596424146601235}. Best is trial 136 with value: -0.006140773787988712.\u001b[0m\n",
      "\u001b[32m[I 2022-07-24 18:07:32,129]\u001b[0m Trial 298 finished with value: -0.00617904364633972 and parameters: {'kernel': 'rbf', 'C': 0.01876504552264936, 'gamma': 0.0770068336707113, 'epsilon': 0.0017545525013026389}. Best is trial 136 with value: -0.006140773787988712.\u001b[0m\n",
      "\u001b[32m[I 2022-07-24 18:07:32,270]\u001b[0m Trial 299 finished with value: -0.0061592970309441416 and parameters: {'kernel': 'rbf', 'C': 0.010986706253151941, 'gamma': 0.08665497095569057, 'epsilon': 0.002076340522237931}. Best is trial 136 with value: -0.006140773787988712.\u001b[0m\n",
      "\u001b[32m[I 2022-07-24 18:07:32,398]\u001b[0m Trial 300 finished with value: -0.006170497801665742 and parameters: {'kernel': 'rbf', 'C': 0.015516243920698346, 'gamma': 0.06927481847721584, 'epsilon': 0.002645142309493036}. Best is trial 136 with value: -0.006140773787988712.\u001b[0m\n",
      "\u001b[32m[I 2022-07-24 18:07:32,562]\u001b[0m Trial 301 finished with value: -0.006175034596603749 and parameters: {'kernel': 'rbf', 'C': 0.016643631589909294, 'gamma': 0.05748430165308721, 'epsilon': 0.001527560236071678}. Best is trial 136 with value: -0.006140773787988712.\u001b[0m\n",
      "\u001b[32m[I 2022-07-24 18:07:32,719]\u001b[0m Trial 302 finished with value: -0.006161177775606105 and parameters: {'kernel': 'rbf', 'C': 0.014068048071524755, 'gamma': 0.09654098171504966, 'epsilon': 0.001959039694657007}. Best is trial 136 with value: -0.006140773787988712.\u001b[0m\n",
      "\u001b[32m[I 2022-07-24 18:07:32,863]\u001b[0m Trial 303 finished with value: -0.006162790640764647 and parameters: {'kernel': 'rbf', 'C': 0.021582960832797125, 'gamma': 0.04603175313968993, 'epsilon': 0.002295622003109774}. Best is trial 136 with value: -0.006140773787988712.\u001b[0m\n",
      "\u001b[32m[I 2022-07-24 18:07:32,979]\u001b[0m Trial 304 finished with value: -0.006219167542940951 and parameters: {'kernel': 'rbf', 'C': 0.01002837393144833, 'gamma': 0.07428565456316134, 'epsilon': 0.0029410377972464955}. Best is trial 136 with value: -0.006140773787988712.\u001b[0m\n",
      "\u001b[32m[I 2022-07-24 18:07:33,230]\u001b[0m Trial 305 finished with value: -0.006824059359938697 and parameters: {'kernel': 'poly', 'C': 0.012029774452352421, 'gamma': 0.0829782102488275, 'epsilon': 0.0017472715289350762}. Best is trial 136 with value: -0.006140773787988712.\u001b[0m\n",
      "\u001b[32m[I 2022-07-24 18:07:33,378]\u001b[0m Trial 306 finished with value: -0.006156046527034123 and parameters: {'kernel': 'rbf', 'C': 0.014052323025157442, 'gamma': 0.06585731659001717, 'epsilon': 0.0021018466267673365}. Best is trial 136 with value: -0.006140773787988712.\u001b[0m\n",
      "\u001b[32m[I 2022-07-24 18:07:33,506]\u001b[0m Trial 307 finished with value: -0.006214088317044748 and parameters: {'kernel': 'rbf', 'C': 0.010028168181204718, 'gamma': 0.11296762264571716, 'epsilon': 0.0025254409427965924}. Best is trial 136 with value: -0.006140773787988712.\u001b[0m\n",
      "\u001b[32m[I 2022-07-24 18:07:33,667]\u001b[0m Trial 308 finished with value: -0.006190808968163435 and parameters: {'kernel': 'rbf', 'C': 0.01827612717511024, 'gamma': 0.09534626181515866, 'epsilon': 0.0018177347883546215}. Best is trial 136 with value: -0.006140773787988712.\u001b[0m\n",
      "\u001b[32m[I 2022-07-24 18:07:33,815]\u001b[0m Trial 309 finished with value: -0.006152914065043424 and parameters: {'kernel': 'rbf', 'C': 0.015957045858915334, 'gamma': 0.05420019935310659, 'epsilon': 0.002270215091765011}. Best is trial 136 with value: -0.006140773787988712.\u001b[0m\n"
     ]
    },
    {
     "name": "stderr",
     "output_type": "stream",
     "text": [
      "\u001b[32m[I 2022-07-24 18:07:33,971]\u001b[0m Trial 310 finished with value: -0.006169449358209791 and parameters: {'kernel': 'rbf', 'C': 0.012263946552482679, 'gamma': 0.07632856862984079, 'epsilon': 0.0016252011768009191}. Best is trial 136 with value: -0.006140773787988712.\u001b[0m\n",
      "\u001b[32m[I 2022-07-24 18:07:34,152]\u001b[0m Trial 311 finished with value: -0.00620670233227489 and parameters: {'kernel': 'rbf', 'C': 0.01999006117867968, 'gamma': 0.08321297020170992, 'epsilon': 0.0013673853326786306}. Best is trial 136 with value: -0.006140773787988712.\u001b[0m\n",
      "\u001b[32m[I 2022-07-24 18:07:34,445]\u001b[0m Trial 312 finished with value: -0.007440382291350255 and parameters: {'kernel': 'rbf', 'C': 1.6395779402092263, 'gamma': 0.0599014591139401, 'epsilon': 0.003127562386521805}. Best is trial 136 with value: -0.006140773787988712.\u001b[0m\n",
      "\u001b[32m[I 2022-07-24 18:07:34,588]\u001b[0m Trial 313 finished with value: -0.006153270637108622 and parameters: {'kernel': 'rbf', 'C': 0.014001717069032745, 'gamma': 0.07009518151841913, 'epsilon': 0.00202758990820707}. Best is trial 136 with value: -0.006140773787988712.\u001b[0m\n",
      "\u001b[32m[I 2022-07-24 18:07:34,733]\u001b[0m Trial 314 finished with value: -0.006240321331725195 and parameters: {'kernel': 'rbf', 'C': 0.016685798653699173, 'gamma': 0.10109474263651831, 'epsilon': 0.0027854494960972975}. Best is trial 136 with value: -0.006140773787988712.\u001b[0m\n",
      "\u001b[32m[I 2022-07-24 18:07:34,892]\u001b[0m Trial 315 finished with value: -0.006165106090030212 and parameters: {'kernel': 'rbf', 'C': 0.011295472209766188, 'gamma': 0.08690979444123517, 'epsilon': 0.0022420564959869105}. Best is trial 136 with value: -0.006140773787988712.\u001b[0m\n",
      "\u001b[32m[I 2022-07-24 18:07:35,081]\u001b[0m Trial 316 finished with value: -0.006185005421800729 and parameters: {'kernel': 'rbf', 'C': 0.013631074216954463, 'gamma': 0.06355053828310579, 'epsilon': 0.0015703768993250863}. Best is trial 136 with value: -0.006140773787988712.\u001b[0m\n",
      "\u001b[32m[I 2022-07-24 18:07:35,238]\u001b[0m Trial 317 finished with value: -0.006193834710274537 and parameters: {'kernel': 'rbf', 'C': 0.010022388412844191, 'gamma': 0.11726787030875607, 'epsilon': 0.001843548635307769}. Best is trial 136 with value: -0.006140773787988712.\u001b[0m\n",
      "\u001b[32m[I 2022-07-24 18:07:35,285]\u001b[0m Trial 318 finished with value: -0.024231237168614167 and parameters: {'kernel': 'rbf', 'C': 0.01571179254657603, 'gamma': 0.075434973880365, 'epsilon': 0.028643187254163385}. Best is trial 136 with value: -0.006140773787988712.\u001b[0m\n",
      "\u001b[32m[I 2022-07-24 18:07:35,424]\u001b[0m Trial 319 finished with value: -0.0062234537865036394 and parameters: {'kernel': 'rbf', 'C': 0.01844705165183557, 'gamma': 0.09097160982745103, 'epsilon': 0.0025060508093770035}. Best is trial 136 with value: -0.006140773787988712.\u001b[0m\n",
      "\u001b[32m[I 2022-07-24 18:07:35,586]\u001b[0m Trial 320 finished with value: -0.006178461145130401 and parameters: {'kernel': 'rbf', 'C': 0.0247701956733017, 'gamma': 0.044323475465738386, 'epsilon': 0.0020483942410443336}. Best is trial 136 with value: -0.006140773787988712.\u001b[0m\n",
      "\u001b[32m[I 2022-07-24 18:07:35,736]\u001b[0m Trial 321 finished with value: -0.006195511503524692 and parameters: {'kernel': 'rbf', 'C': 0.012391543199190875, 'gamma': 0.0528885550722675, 'epsilon': 0.002367357577484425}. Best is trial 136 with value: -0.006140773787988712.\u001b[0m\n",
      "\u001b[32m[I 2022-07-24 18:07:35,894]\u001b[0m Trial 322 finished with value: -0.0061612977292124825 and parameters: {'kernel': 'rbf', 'C': 0.015468747839033193, 'gamma': 0.06840285273706143, 'epsilon': 0.0018289641598828847}. Best is trial 136 with value: -0.006140773787988712.\u001b[0m\n",
      "\u001b[32m[I 2022-07-24 18:07:36,032]\u001b[0m Trial 323 finished with value: -0.0062077858253112355 and parameters: {'kernel': 'rbf', 'C': 0.02076517814944024, 'gamma': 0.07814220681260346, 'epsilon': 0.002610614376785849}. Best is trial 136 with value: -0.006140773787988712.\u001b[0m\n",
      "\u001b[32m[I 2022-07-24 18:07:36,209]\u001b[0m Trial 324 finished with value: -0.006183875053770886 and parameters: {'kernel': 'rbf', 'C': 0.013369560096023456, 'gamma': 0.10009923499563428, 'epsilon': 0.0014727948577978546}. Best is trial 136 with value: -0.006140773787988712.\u001b[0m\n",
      "\u001b[32m[I 2022-07-24 18:07:36,376]\u001b[0m Trial 325 finished with value: -0.006149060293958362 and parameters: {'kernel': 'rbf', 'C': 0.017147499639224524, 'gamma': 0.06070526619485274, 'epsilon': 0.00207303040829764}. Best is trial 136 with value: -0.006140773787988712.\u001b[0m\n",
      "\u001b[32m[I 2022-07-24 18:07:36,721]\u001b[0m Trial 326 finished with value: -0.0061453817861509595 and parameters: {'kernel': 'rbf', 'C': 0.018207798287108452, 'gamma': 0.058094131242934104, 'epsilon': 0.00211978014438062}. Best is trial 136 with value: -0.006140773787988712.\u001b[0m\n",
      "\u001b[32m[I 2022-07-24 18:07:36,859]\u001b[0m Trial 327 finished with value: -0.006224564970949492 and parameters: {'kernel': 'rbf', 'C': 0.02327207470489068, 'gamma': 0.04903094734979117, 'epsilon': 0.0031200656250959984}. Best is trial 136 with value: -0.006140773787988712.\u001b[0m\n",
      "\u001b[32m[I 2022-07-24 18:07:37,016]\u001b[0m Trial 328 finished with value: -0.006149871574454229 and parameters: {'kernel': 'rbf', 'C': 0.018860274513297373, 'gamma': 0.05595070969180197, 'epsilon': 0.002050960807853662}. Best is trial 136 with value: -0.006140773787988712.\u001b[0m\n",
      "\u001b[32m[I 2022-07-24 18:07:37,169]\u001b[0m Trial 329 finished with value: -0.006179997990007413 and parameters: {'kernel': 'rbf', 'C': 0.02079603418564452, 'gamma': 0.055761044269447745, 'epsilon': 0.002724982108239595}. Best is trial 136 with value: -0.006140773787988712.\u001b[0m\n",
      "\u001b[32m[I 2022-07-24 18:07:37,342]\u001b[0m Trial 330 finished with value: -0.006211780600597366 and parameters: {'kernel': 'rbf', 'C': 0.018666892069369917, 'gamma': 0.03906871379313778, 'epsilon': 0.0021815245897631986}. Best is trial 136 with value: -0.006140773787988712.\u001b[0m\n",
      "\u001b[32m[I 2022-07-24 18:07:37,497]\u001b[0m Trial 331 finished with value: -0.006168447787680814 and parameters: {'kernel': 'rbf', 'C': 0.02257500612284634, 'gamma': 0.04370268423282423, 'epsilon': 0.0023380213517394566}. Best is trial 136 with value: -0.006140773787988712.\u001b[0m\n",
      "\u001b[32m[I 2022-07-24 18:07:37,674]\u001b[0m Trial 332 finished with value: -0.00616892604870081 and parameters: {'kernel': 'rbf', 'C': 0.018057710385237603, 'gamma': 0.05774561532142001, 'epsilon': 0.0016914268554013396}. Best is trial 136 with value: -0.006140773787988712.\u001b[0m\n",
      "\u001b[32m[I 2022-07-24 18:07:37,806]\u001b[0m Trial 333 finished with value: -0.006749097215708898 and parameters: {'kernel': 'poly', 'C': 0.016927869373919283, 'gamma': 0.050672204089431336, 'epsilon': 0.003739637596795512}. Best is trial 136 with value: -0.006140773787988712.\u001b[0m\n",
      "\u001b[32m[I 2022-07-24 18:07:37,967]\u001b[0m Trial 334 finished with value: -0.006178866412328653 and parameters: {'kernel': 'rbf', 'C': 0.025115527977745033, 'gamma': 0.06372523390819498, 'epsilon': 0.0019213011016417651}. Best is trial 136 with value: -0.006140773787988712.\u001b[0m\n",
      "\u001b[32m[I 2022-07-24 18:07:38,111]\u001b[0m Trial 335 finished with value: -0.0061786588983724355 and parameters: {'kernel': 'rbf', 'C': 0.01996282061365592, 'gamma': 0.061719068200020835, 'epsilon': 0.0026264045748654627}. Best is trial 136 with value: -0.006140773787988712.\u001b[0m\n",
      "\u001b[32m[I 2022-07-24 18:07:38,277]\u001b[0m Trial 336 finished with value: -0.006183763630135143 and parameters: {'kernel': 'rbf', 'C': 0.014380793907202849, 'gamma': 0.04960303794018573, 'epsilon': 0.002071855152865468}. Best is trial 136 with value: -0.006140773787988712.\u001b[0m\n",
      "\u001b[32m[I 2022-07-24 18:07:38,428]\u001b[0m Trial 337 finished with value: -0.006148247946530909 and parameters: {'kernel': 'rbf', 'C': 0.016825375516363192, 'gamma': 0.05742099409550359, 'epsilon': 0.002359291244272733}. Best is trial 136 with value: -0.006140773787988712.\u001b[0m\n",
      "\u001b[32m[I 2022-07-24 18:07:38,600]\u001b[0m Trial 338 finished with value: -0.006223153353412313 and parameters: {'kernel': 'rbf', 'C': 0.01888219478234724, 'gamma': 0.043472815415967356, 'epsilon': 0.0031213675332428955}. Best is trial 136 with value: -0.006140773787988712.\u001b[0m\n",
      "\u001b[32m[I 2022-07-24 18:07:38,752]\u001b[0m Trial 339 finished with value: -0.0061634746958352665 and parameters: {'kernel': 'rbf', 'C': 0.021458834691647093, 'gamma': 0.05730103401415444, 'epsilon': 0.0024643084705618353}. Best is trial 136 with value: -0.006140773787988712.\u001b[0m\n",
      "\u001b[32m[I 2022-07-24 18:07:38,930]\u001b[0m Trial 340 finished with value: -0.006168669463630437 and parameters: {'kernel': 'rbf', 'C': 0.016705268403534517, 'gamma': 0.059332846950359945, 'epsilon': 0.0016365835261670063}. Best is trial 136 with value: -0.006140773787988712.\u001b[0m\n"
     ]
    },
    {
     "name": "stderr",
     "output_type": "stream",
     "text": [
      "\u001b[32m[I 2022-07-24 18:07:39,074]\u001b[0m Trial 341 finished with value: -0.006184561506365638 and parameters: {'kernel': 'rbf', 'C': 0.01546711483019452, 'gamma': 0.05018402106643736, 'epsilon': 0.0027825547482863006}. Best is trial 136 with value: -0.006140773787988712.\u001b[0m\n",
      "\u001b[32m[I 2022-07-24 18:07:39,247]\u001b[0m Trial 342 finished with value: -0.006226339817408735 and parameters: {'kernel': 'rbf', 'C': 0.019242878749825724, 'gamma': 0.035125013499754304, 'epsilon': 0.0019495992631399432}. Best is trial 136 with value: -0.006140773787988712.\u001b[0m\n",
      "\u001b[32m[I 2022-07-24 18:07:39,415]\u001b[0m Trial 343 finished with value: -0.006663862382580544 and parameters: {'kernel': 'rbf', 'C': 0.017607309759694947, 'gamma': 0.7313217697092296, 'epsilon': 0.0023881245645762535}. Best is trial 136 with value: -0.006140773787988712.\u001b[0m\n",
      "\u001b[32m[I 2022-07-24 18:07:39,583]\u001b[0m Trial 344 finished with value: -0.006192461213105728 and parameters: {'kernel': 'rbf', 'C': 0.027939638522255145, 'gamma': 0.0660795367199814, 'epsilon': 0.00202687982423135}. Best is trial 136 with value: -0.006140773787988712.\u001b[0m\n",
      "\u001b[32m[I 2022-07-24 18:07:39,758]\u001b[0m Trial 345 finished with value: -0.006161821231082008 and parameters: {'kernel': 'rbf', 'C': 0.01397819680568745, 'gamma': 0.06789572908098455, 'epsilon': 0.0017059730570168307}. Best is trial 136 with value: -0.006140773787988712.\u001b[0m\n",
      "\u001b[32m[I 2022-07-24 18:07:39,905]\u001b[0m Trial 346 finished with value: -0.006159041637950926 and parameters: {'kernel': 'rbf', 'C': 0.015855789706116948, 'gamma': 0.057089648240789936, 'epsilon': 0.0023811732808409125}. Best is trial 136 with value: -0.006140773787988712.\u001b[0m\n",
      "\u001b[32m[I 2022-07-24 18:07:40,103]\u001b[0m Trial 347 finished with value: -0.006180757699347723 and parameters: {'kernel': 'rbf', 'C': 0.021062297819192437, 'gamma': 0.05269544825848796, 'epsilon': 0.0013623011988329837}. Best is trial 136 with value: -0.006140773787988712.\u001b[0m\n",
      "\u001b[32m[I 2022-07-24 18:07:40,241]\u001b[0m Trial 348 finished with value: -0.006191131210439987 and parameters: {'kernel': 'rbf', 'C': 0.011242356150780055, 'gamma': 0.06940091332780109, 'epsilon': 0.0027947277343721303}. Best is trial 136 with value: -0.006140773787988712.\u001b[0m\n",
      "\u001b[32m[I 2022-07-24 18:07:40,367]\u001b[0m Trial 349 finished with value: -0.006252518151653207 and parameters: {'kernel': 'rbf', 'C': 0.014472719196684412, 'gamma': 0.06092741735148571, 'epsilon': 0.0034538515870490747}. Best is trial 136 with value: -0.006140773787988712.\u001b[0m\n",
      "\u001b[32m[I 2022-07-24 18:07:40,581]\u001b[0m Trial 350 finished with value: -0.006515990763350806 and parameters: {'kernel': 'rbf', 'C': 0.08622175260101726, 'gamma': 0.07140645475666375, 'epsilon': 0.0022031420495970725}. Best is trial 136 with value: -0.006140773787988712.\u001b[0m\n",
      "\u001b[32m[I 2022-07-24 18:07:40,766]\u001b[0m Trial 351 finished with value: -0.006198820388000057 and parameters: {'kernel': 'rbf', 'C': 0.016543305947684, 'gamma': 0.0454044058350839, 'epsilon': 0.001988636551228205}. Best is trial 136 with value: -0.006140773787988712.\u001b[0m\n",
      "\u001b[32m[I 2022-07-24 18:07:41,040]\u001b[0m Trial 352 finished with value: -0.006178281232833487 and parameters: {'kernel': 'rbf', 'C': 0.023528838902484566, 'gamma': 0.06193228389850584, 'epsilon': 0.0017436181564145898}. Best is trial 136 with value: -0.006140773787988712.\u001b[0m\n",
      "\u001b[32m[I 2022-07-24 18:07:41,284]\u001b[0m Trial 353 finished with value: -0.006177019488262121 and parameters: {'kernel': 'rbf', 'C': 0.012953809116229977, 'gamma': 0.07577383355695717, 'epsilon': 0.0015076113907556165}. Best is trial 136 with value: -0.006140773787988712.\u001b[0m\n",
      "\u001b[32m[I 2022-07-24 18:07:41,448]\u001b[0m Trial 354 finished with value: -0.00615103021366725 and parameters: {'kernel': 'rbf', 'C': 0.01808567734271451, 'gamma': 0.054164032268249236, 'epsilon': 0.0025618985356405557}. Best is trial 136 with value: -0.006140773787988712.\u001b[0m\n",
      "\u001b[32m[I 2022-07-24 18:07:41,601]\u001b[0m Trial 355 finished with value: -0.006148605407191453 and parameters: {'kernel': 'rbf', 'C': 0.014223289375254753, 'gamma': 0.06998121854335056, 'epsilon': 0.002239697693634823}. Best is trial 136 with value: -0.006140773787988712.\u001b[0m\n",
      "\u001b[32m[I 2022-07-24 18:07:41,736]\u001b[0m Trial 356 finished with value: -0.006277059212393455 and parameters: {'kernel': 'rbf', 'C': 0.011263325296016997, 'gamma': 0.04034764211075879, 'epsilon': 0.002987707221231996}. Best is trial 136 with value: -0.006140773787988712.\u001b[0m\n",
      "\u001b[32m[I 2022-07-24 18:07:41,885]\u001b[0m Trial 357 finished with value: -0.00616091019339303 and parameters: {'kernel': 'rbf', 'C': 0.01394642492622486, 'gamma': 0.06531818337434762, 'epsilon': 0.0023254576602832998}. Best is trial 136 with value: -0.006140773787988712.\u001b[0m\n",
      "\u001b[32m[I 2022-07-24 18:07:42,049]\u001b[0m Trial 358 finished with value: -0.006228039782901745 and parameters: {'kernel': 'rbf', 'C': 0.01222907152317038, 'gamma': 0.04858853644611611, 'epsilon': 0.0018631104241784871}. Best is trial 136 with value: -0.006140773787988712.\u001b[0m\n",
      "\u001b[32m[I 2022-07-24 18:07:42,210]\u001b[0m Trial 359 finished with value: -0.006157406193039293 and parameters: {'kernel': 'rbf', 'C': 0.014764265760518478, 'gamma': 0.0577671903246976, 'epsilon': 0.0022648125123145156}. Best is trial 136 with value: -0.006140773787988712.\u001b[0m\n",
      "\u001b[32m[I 2022-07-24 18:07:42,357]\u001b[0m Trial 360 finished with value: -0.006179139990924753 and parameters: {'kernel': 'rbf', 'C': 0.018090272904781754, 'gamma': 0.0705680807321247, 'epsilon': 0.0026236223040592395}. Best is trial 136 with value: -0.006140773787988712.\u001b[0m\n",
      "\u001b[32m[I 2022-07-24 18:07:42,539]\u001b[0m Trial 361 finished with value: -0.006176585618808854 and parameters: {'kernel': 'rbf', 'C': 0.010267097928196177, 'gamma': 0.08175789830918175, 'epsilon': 0.0016509414439738852}. Best is trial 136 with value: -0.006140773787988712.\u001b[0m\n",
      "\u001b[32m[I 2022-07-24 18:07:42,709]\u001b[0m Trial 362 finished with value: -0.006185026931466112 and parameters: {'kernel': 'rbf', 'C': 0.012478477097000208, 'gamma': 0.06438307030506756, 'epsilon': 0.0020065829519859257}. Best is trial 136 with value: -0.006140773787988712.\u001b[0m\n",
      "\u001b[32m[I 2022-07-24 18:07:42,834]\u001b[0m Trial 363 finished with value: -0.006238198193905284 and parameters: {'kernel': 'rbf', 'C': 0.010036055415298476, 'gamma': 0.05384446773134161, 'epsilon': 0.002984034537384992}. Best is trial 136 with value: -0.006140773787988712.\u001b[0m\n",
      "\u001b[32m[I 2022-07-24 18:07:43,069]\u001b[0m Trial 364 finished with value: -0.006761629355869936 and parameters: {'kernel': 'poly', 'C': 0.01501872285780259, 'gamma': 0.0737450456086152, 'epsilon': 0.002325811161637248}. Best is trial 136 with value: -0.006140773787988712.\u001b[0m\n",
      "\u001b[32m[I 2022-07-24 18:07:43,142]\u001b[0m Trial 365 finished with value: -0.008741402495559011 and parameters: {'kernel': 'rbf', 'C': 0.02084846979190715, 'gamma': 0.09107072904845019, 'epsilon': 0.009670352307822773}. Best is trial 136 with value: -0.006140773787988712.\u001b[0m\n",
      "\u001b[32m[I 2022-07-24 18:07:43,312]\u001b[0m Trial 366 finished with value: -0.006151866182362033 and parameters: {'kernel': 'rbf', 'C': 0.016684548261352253, 'gamma': 0.06241878359878911, 'epsilon': 0.0018404492936584498}. Best is trial 136 with value: -0.006140773787988712.\u001b[0m\n",
      "\u001b[32m[I 2022-07-24 18:07:43,485]\u001b[0m Trial 367 finished with value: -0.006177008581866893 and parameters: {'kernel': 'rbf', 'C': 0.013165642411853383, 'gamma': 0.07918503608690558, 'epsilon': 0.001541248408682577}. Best is trial 136 with value: -0.006140773787988712.\u001b[0m\n",
      "\u001b[32m[I 2022-07-24 18:07:43,625]\u001b[0m Trial 368 finished with value: -0.006181086733151884 and parameters: {'kernel': 'rbf', 'C': 0.011145397812719848, 'gamma': 0.0691264713359897, 'epsilon': 0.002609897716956824}. Best is trial 136 with value: -0.006140773787988712.\u001b[0m\n",
      "\u001b[32m[I 2022-07-24 18:07:43,743]\u001b[0m Trial 369 finished with value: -0.006433173360525089 and parameters: {'kernel': 'rbf', 'C': 0.015046103266040542, 'gamma': 0.09698549987925655, 'epsilon': 0.004154427847271593}. Best is trial 136 with value: -0.006140773787988712.\u001b[0m\n",
      "\u001b[32m[I 2022-07-24 18:07:43,911]\u001b[0m Trial 370 finished with value: -0.006176032544391682 and parameters: {'kernel': 'rbf', 'C': 0.018077878236703544, 'gamma': 0.04675525746049919, 'epsilon': 0.002159146927860868}. Best is trial 136 with value: -0.006140773787988712.\u001b[0m\n",
      "\u001b[32m[I 2022-07-24 18:07:44,079]\u001b[0m Trial 371 finished with value: -0.006173369886227291 and parameters: {'kernel': 'rbf', 'C': 0.01359499648534498, 'gamma': 0.058410071564304236, 'epsilon': 0.0018544778067736299}. Best is trial 136 with value: -0.006140773787988712.\u001b[0m\n"
     ]
    },
    {
     "name": "stderr",
     "output_type": "stream",
     "text": [
      "\u001b[32m[I 2022-07-24 18:07:44,295]\u001b[0m Trial 372 finished with value: -0.006237564342493264 and parameters: {'kernel': 'rbf', 'C': 0.025928289980163943, 'gamma': 0.08092803964316755, 'epsilon': 0.0013157175843922972}. Best is trial 136 with value: -0.006140773787988712.\u001b[0m\n",
      "\u001b[32m[I 2022-07-24 18:07:44,455]\u001b[0m Trial 373 finished with value: -0.006232282415003602 and parameters: {'kernel': 'rbf', 'C': 0.019561208569119647, 'gamma': 0.10864118921242692, 'epsilon': 0.002167177196555157}. Best is trial 136 with value: -0.006140773787988712.\u001b[0m\n",
      "\u001b[32m[I 2022-07-24 18:07:44,587]\u001b[0m Trial 374 finished with value: -0.006252356990024852 and parameters: {'kernel': 'rbf', 'C': 0.01638204766776443, 'gamma': 0.07081703338281262, 'epsilon': 0.0033166971053538562}. Best is trial 136 with value: -0.006140773787988712.\u001b[0m\n",
      "\u001b[32m[I 2022-07-24 18:07:44,733]\u001b[0m Trial 375 finished with value: -0.006209486642309117 and parameters: {'kernel': 'rbf', 'C': 0.011659827605876374, 'gamma': 0.05356454335917363, 'epsilon': 0.0025536430412034655}. Best is trial 136 with value: -0.006140773787988712.\u001b[0m\n",
      "\u001b[32m[I 2022-07-24 18:07:44,907]\u001b[0m Trial 376 finished with value: -0.006145936298651421 and parameters: {'kernel': 'rbf', 'C': 0.01407935203145849, 'gamma': 0.08608828258877033, 'epsilon': 0.001958464408692419}. Best is trial 136 with value: -0.006140773787988712.\u001b[0m\n",
      "\u001b[32m[I 2022-07-24 18:07:45,087]\u001b[0m Trial 377 finished with value: -0.006295822106910016 and parameters: {'kernel': 'rbf', 'C': 0.02306189785694449, 'gamma': 0.1398130215863859, 'epsilon': 0.0017051298280213632}. Best is trial 136 with value: -0.006140773787988712.\u001b[0m\n",
      "\u001b[32m[I 2022-07-24 18:07:45,260]\u001b[0m Trial 378 finished with value: -0.006167238550035394 and parameters: {'kernel': 'rbf', 'C': 0.014997804091038012, 'gamma': 0.09150343453918793, 'epsilon': 0.002341047427440362}. Best is trial 136 with value: -0.006140773787988712.\u001b[0m\n",
      "\u001b[32m[I 2022-07-24 18:07:45,435]\u001b[0m Trial 379 finished with value: -0.006221443610899797 and parameters: {'kernel': 'rbf', 'C': 0.017623024014597696, 'gamma': 0.11384482214655223, 'epsilon': 0.0019845251753225915}. Best is trial 136 with value: -0.006140773787988712.\u001b[0m\n",
      "\u001b[32m[I 2022-07-24 18:07:45,586]\u001b[0m Trial 380 finished with value: -0.006245335921159859 and parameters: {'kernel': 'rbf', 'C': 0.020072456733384907, 'gamma': 0.08553739125786386, 'epsilon': 0.0028558747053694803}. Best is trial 136 with value: -0.006140773787988712.\u001b[0m\n",
      "\u001b[32m[I 2022-07-24 18:07:45,776]\u001b[0m Trial 381 finished with value: -0.00617738685520805 and parameters: {'kernel': 'rbf', 'C': 0.01397044842471747, 'gamma': 0.06447029331515174, 'epsilon': 0.0015371593671616938}. Best is trial 136 with value: -0.006140773787988712.\u001b[0m\n",
      "\u001b[32m[I 2022-07-24 18:07:45,939]\u001b[0m Trial 382 finished with value: -0.006201356190010755 and parameters: {'kernel': 'rbf', 'C': 0.016962504246945457, 'gamma': 0.09824986216140463, 'epsilon': 0.0021634589497489583}. Best is trial 136 with value: -0.006140773787988712.\u001b[0m\n",
      "\u001b[32m[I 2022-07-24 18:07:46,105]\u001b[0m Trial 383 finished with value: -0.006157123912182226 and parameters: {'kernel': 'rbf', 'C': 0.01219929226925699, 'gamma': 0.0805999025746573, 'epsilon': 0.0018921470209951137}. Best is trial 136 with value: -0.006140773787988712.\u001b[0m\n",
      "\u001b[32m[I 2022-07-24 18:07:46,256]\u001b[0m Trial 384 finished with value: -0.006175437835576866 and parameters: {'kernel': 'rbf', 'C': 0.010016244518781267, 'gamma': 0.07086315144458086, 'epsilon': 0.002540944694602782}. Best is trial 136 with value: -0.006140773787988712.\u001b[0m\n",
      "\u001b[32m[I 2022-07-24 18:07:46,573]\u001b[0m Trial 385 finished with value: -0.006824719355216221 and parameters: {'kernel': 'rbf', 'C': 0.3204301582379341, 'gamma': 0.05741060556756144, 'epsilon': 0.0017242765174055913}. Best is trial 136 with value: -0.006140773787988712.\u001b[0m\n",
      "\u001b[32m[I 2022-07-24 18:07:46,735]\u001b[0m Trial 386 finished with value: -0.0062055800966264564 and parameters: {'kernel': 'rbf', 'C': 0.015588262923866003, 'gamma': 0.041311544496962616, 'epsilon': 0.0023485750170043193}. Best is trial 136 with value: -0.006140773787988712.\u001b[0m\n",
      "\u001b[32m[I 2022-07-24 18:07:46,883]\u001b[0m Trial 387 finished with value: -0.006266263539748446 and parameters: {'kernel': 'rbf', 'C': 0.013970938171451182, 'gamma': 0.1236664944202077, 'epsilon': 0.0028550705770915793}. Best is trial 136 with value: -0.006140773787988712.\u001b[0m\n",
      "\u001b[32m[I 2022-07-24 18:07:47,043]\u001b[0m Trial 388 finished with value: -0.006195038267065431 and parameters: {'kernel': 'rbf', 'C': 0.01967015697824417, 'gamma': 0.08647846023461989, 'epsilon': 0.002097702436173979}. Best is trial 136 with value: -0.006140773787988712.\u001b[0m\n",
      "\u001b[32m[I 2022-07-24 18:07:47,246]\u001b[0m Trial 389 finished with value: -0.006233575751039433 and parameters: {'kernel': 'rbf', 'C': 0.011477651761537202, 'gamma': 0.05050550918022528, 'epsilon': 0.0014123709245694141}. Best is trial 136 with value: -0.006140773787988712.\u001b[0m\n",
      "\u001b[32m[I 2022-07-24 18:07:47,414]\u001b[0m Trial 390 finished with value: -0.006155242050461233 and parameters: {'kernel': 'rbf', 'C': 0.01658518837322268, 'gamma': 0.06396613106083068, 'epsilon': 0.0017824883246257718}. Best is trial 136 with value: -0.006140773787988712.\u001b[0m\n",
      "\u001b[32m[I 2022-07-24 18:07:47,554]\u001b[0m Trial 391 finished with value: -0.006294184113465749 and parameters: {'kernel': 'rbf', 'C': 0.022388044215767407, 'gamma': 0.023393586786143696, 'epsilon': 0.0033769180439906545}. Best is trial 136 with value: -0.006140773787988712.\u001b[0m\n",
      "\u001b[32m[I 2022-07-24 18:07:47,709]\u001b[0m Trial 392 finished with value: -0.006152410085421218 and parameters: {'kernel': 'rbf', 'C': 0.013049522029275062, 'gamma': 0.07823486164468742, 'epsilon': 0.0024138912438391095}. Best is trial 136 with value: -0.006140773787988712.\u001b[0m\n",
      "\u001b[32m[I 2022-07-24 18:08:09,825]\u001b[0m Trial 393 finished with value: -0.0066445698696807895 and parameters: {'kernel': 'poly', 'C': 4.672012000890942, 'gamma': 0.10504342235546625, 'epsilon': 0.0020199680675379757}. Best is trial 136 with value: -0.006140773787988712.\u001b[0m\n",
      "\u001b[32m[I 2022-07-24 18:08:10,057]\u001b[0m Trial 394 finished with value: -0.00616919129809555 and parameters: {'kernel': 'rbf', 'C': 0.015522373328427572, 'gamma': 0.06941545979241123, 'epsilon': 0.0026621388473310205}. Best is trial 136 with value: -0.006140773787988712.\u001b[0m\n",
      "\u001b[32m[I 2022-07-24 18:08:10,280]\u001b[0m Trial 395 finished with value: -0.006202255293315424 and parameters: {'kernel': 'rbf', 'C': 0.01791338971601614, 'gamma': 0.09011167684074634, 'epsilon': 0.0015883322490210156}. Best is trial 136 with value: -0.006140773787988712.\u001b[0m\n",
      "\u001b[32m[I 2022-07-24 18:08:10,484]\u001b[0m Trial 396 finished with value: -0.006163616463106796 and parameters: {'kernel': 'rbf', 'C': 0.01359682337459726, 'gamma': 0.05919502402306803, 'epsilon': 0.0022579460698388667}. Best is trial 136 with value: -0.006140773787988712.\u001b[0m\n",
      "\u001b[32m[I 2022-07-24 18:08:10,785]\u001b[0m Trial 397 finished with value: -0.006240059338142726 and parameters: {'kernel': 'rbf', 'C': 0.01151812941534593, 'gamma': 0.04658897840626325, 'epsilon': 0.0018887535696866917}. Best is trial 136 with value: -0.006140773787988712.\u001b[0m\n",
      "\u001b[32m[I 2022-07-24 18:08:10,977]\u001b[0m Trial 398 finished with value: -0.00622509020310037 and parameters: {'kernel': 'rbf', 'C': 0.01995357876229048, 'gamma': 0.07619775626205084, 'epsilon': 0.002961174122987688}. Best is trial 136 with value: -0.006140773787988712.\u001b[0m\n",
      "\u001b[32m[I 2022-07-24 18:08:11,212]\u001b[0m Trial 399 finished with value: -0.006176619920882062 and parameters: {'kernel': 'rbf', 'C': 0.014450885156658398, 'gamma': 0.0647481464048262, 'epsilon': 0.0012431726816524952}. Best is trial 136 with value: -0.006140773787988712.\u001b[0m\n",
      "\u001b[32m[I 2022-07-24 18:08:11,448]\u001b[0m Trial 400 finished with value: -0.006190249652554595 and parameters: {'kernel': 'rbf', 'C': 0.016748626143077715, 'gamma': 0.09792690516676822, 'epsilon': 0.0021648174382231542}. Best is trial 136 with value: -0.006140773787988712.\u001b[0m\n",
      "\u001b[32m[I 2022-07-24 18:08:11,676]\u001b[0m Trial 401 finished with value: -0.006424183551467709 and parameters: {'kernel': 'rbf', 'C': 0.01286068843851276, 'gamma': 0.017539939203563858, 'epsilon': 0.0016381929726964725}. Best is trial 136 with value: -0.006140773787988712.\u001b[0m\n",
      "\u001b[32m[I 2022-07-24 18:08:11,855]\u001b[0m Trial 402 finished with value: -0.0062164700010249865 and parameters: {'kernel': 'rbf', 'C': 0.025333963929165638, 'gamma': 0.07308295660646383, 'epsilon': 0.0025020485884850317}. Best is trial 136 with value: -0.006140773787988712.\u001b[0m\n"
     ]
    },
    {
     "name": "stderr",
     "output_type": "stream",
     "text": [
      "\u001b[32m[I 2022-07-24 18:08:12,064]\u001b[0m Trial 403 finished with value: -0.006168153538308407 and parameters: {'kernel': 'rbf', 'C': 0.015291709268684199, 'gamma': 0.0566555849525958, 'epsilon': 0.0018983498006220235}. Best is trial 136 with value: -0.006140773787988712.\u001b[0m\n",
      "\u001b[32m[I 2022-07-24 18:08:12,373]\u001b[0m Trial 404 finished with value: -0.0061539717267769046 and parameters: {'kernel': 'rbf', 'C': 0.010984683868460654, 'gamma': 0.08455921859167936, 'epsilon': 0.0021546584628709398}. Best is trial 136 with value: -0.006140773787988712.\u001b[0m\n",
      "\u001b[32m[I 2022-07-24 18:08:12,559]\u001b[0m Trial 405 finished with value: -0.006170231800629598 and parameters: {'kernel': 'rbf', 'C': 0.018244576505553584, 'gamma': 0.050767646415860276, 'epsilon': 0.0017884876918010401}. Best is trial 136 with value: -0.006140773787988712.\u001b[0m\n",
      "\u001b[32m[I 2022-07-24 18:08:12,764]\u001b[0m Trial 406 finished with value: -0.0062070838594295115 and parameters: {'kernel': 'rbf', 'C': 0.021076799998776964, 'gamma': 0.035145479870689104, 'epsilon': 0.0026069234469308297}. Best is trial 136 with value: -0.006140773787988712.\u001b[0m\n",
      "\u001b[32m[I 2022-07-24 18:08:12,982]\u001b[0m Trial 407 finished with value: -0.006586874602195747 and parameters: {'kernel': 'rbf', 'C': 0.11503318273808254, 'gamma': 0.06615434493125989, 'epsilon': 0.0020733506425905926}. Best is trial 136 with value: -0.006140773787988712.\u001b[0m\n",
      "\u001b[32m[I 2022-07-24 18:08:13,189]\u001b[0m Trial 408 finished with value: -0.006166934718260776 and parameters: {'kernel': 'rbf', 'C': 0.012637424095364424, 'gamma': 0.0788206384866394, 'epsilon': 0.0014665876484524808}. Best is trial 136 with value: -0.006140773787988712.\u001b[0m\n",
      "\u001b[32m[I 2022-07-24 18:08:13,314]\u001b[0m Trial 409 finished with value: -0.006166652137960416 and parameters: {'kernel': 'rbf', 'C': 0.015040777856774523, 'gamma': 0.09408329348882431, 'epsilon': 0.002416115706765349}. Best is trial 136 with value: -0.006140773787988712.\u001b[0m\n",
      "\u001b[32m[I 2022-07-24 18:08:13,464]\u001b[0m Trial 410 finished with value: -0.006198897283269955 and parameters: {'kernel': 'rbf', 'C': 0.030670646929771502, 'gamma': 0.05857101022800751, 'epsilon': 0.0018455593024823}. Best is trial 136 with value: -0.006140773787988712.\u001b[0m\n",
      "\u001b[32m[I 2022-07-24 18:08:13,563]\u001b[0m Trial 411 finished with value: -0.0062357858148768125 and parameters: {'kernel': 'rbf', 'C': 0.01775608272952656, 'gamma': 0.07249437576662335, 'epsilon': 0.0031317279557244483}. Best is trial 136 with value: -0.006140773787988712.\u001b[0m\n",
      "\u001b[32m[I 2022-07-24 18:08:13,677]\u001b[0m Trial 412 finished with value: -0.006175709279567143 and parameters: {'kernel': 'rbf', 'C': 0.010024051325083468, 'gamma': 0.1053288069861487, 'epsilon': 0.002153440388101364}. Best is trial 136 with value: -0.006140773787988712.\u001b[0m\n",
      "\u001b[32m[I 2022-07-24 18:08:13,713]\u001b[0m Trial 413 finished with value: -0.01808837012115883 and parameters: {'kernel': 'rbf', 'C': 0.014066577275192473, 'gamma': 0.0866009386580304, 'epsilon': 0.021654964241729736}. Best is trial 136 with value: -0.006140773787988712.\u001b[0m\n",
      "\u001b[32m[I 2022-07-24 18:08:13,816]\u001b[0m Trial 414 finished with value: -0.006203955893966102 and parameters: {'kernel': 'rbf', 'C': 0.010019911418353993, 'gamma': 0.06534980143224252, 'epsilon': 0.002675045946358113}. Best is trial 136 with value: -0.006140773787988712.\u001b[0m\n",
      "\u001b[32m[I 2022-07-24 18:08:14,047]\u001b[0m Trial 415 finished with value: -0.0062245277528795535 and parameters: {'kernel': 'rbf', 'C': 0.011986663714066086, 'gamma': 0.05245391247274071, 'epsilon': 0.0016095830485496436}. Best is trial 136 with value: -0.006140773787988712.\u001b[0m\n",
      "\u001b[32m[I 2022-07-24 18:08:14,160]\u001b[0m Trial 416 finished with value: -0.006234424443146695 and parameters: {'kernel': 'rbf', 'C': 0.016098939926874833, 'gamma': 0.12397755695374538, 'epsilon': 0.0022952991427252715}. Best is trial 136 with value: -0.006140773787988712.\u001b[0m\n",
      "\u001b[32m[I 2022-07-24 18:08:14,276]\u001b[0m Trial 417 finished with value: -0.0061855389674806355 and parameters: {'kernel': 'rbf', 'C': 0.022282231789222506, 'gamma': 0.07622231126477852, 'epsilon': 0.0019492763663638173}. Best is trial 136 with value: -0.006140773787988712.\u001b[0m\n",
      "\u001b[32m[I 2022-07-24 18:08:14,357]\u001b[0m Trial 418 finished with value: -0.006303018837712681 and parameters: {'kernel': 'rbf', 'C': 0.018932348365015218, 'gamma': 0.045639474214772345, 'epsilon': 0.003803855836562707}. Best is trial 136 with value: -0.006140773787988712.\u001b[0m\n",
      "\u001b[32m[I 2022-07-24 18:08:14,448]\u001b[0m Trial 419 finished with value: -0.007618705938398774 and parameters: {'kernel': 'poly', 'C': 0.01368561496972019, 'gamma': 0.005257032237298898, 'epsilon': 0.002852120644546776}. Best is trial 136 with value: -0.006140773787988712.\u001b[0m\n",
      "\u001b[32m[I 2022-07-24 18:08:14,481]\u001b[0m Trial 420 finished with value: -0.03564469137116574 and parameters: {'kernel': 'rbf', 'C': 0.015649545209306524, 'gamma': 0.15796834927074466, 'epsilon': 0.05579040758983401}. Best is trial 136 with value: -0.006140773787988712.\u001b[0m\n",
      "\u001b[32m[I 2022-07-24 18:08:14,638]\u001b[0m Trial 421 finished with value: -0.006385296024426615 and parameters: {'kernel': 'rbf', 'C': 0.07348416495441269, 'gamma': 0.061661158561627655, 'epsilon': 0.0017307385127415368}. Best is trial 136 with value: -0.006140773787988712.\u001b[0m\n",
      "\u001b[32m[I 2022-07-24 18:08:14,741]\u001b[0m Trial 422 finished with value: -0.006158054453805549 and parameters: {'kernel': 'rbf', 'C': 0.01229549036521008, 'gamma': 0.08659404178423617, 'epsilon': 0.002400476778094019}. Best is trial 136 with value: -0.006140773787988712.\u001b[0m\n",
      "\u001b[32m[I 2022-07-24 18:08:14,856]\u001b[0m Trial 423 finished with value: -0.006151589203463385 and parameters: {'kernel': 'rbf', 'C': 0.017568253012970988, 'gamma': 0.07096426898917799, 'epsilon': 0.0020535351294196586}. Best is trial 136 with value: -0.006140773787988712.\u001b[0m\n",
      "\u001b[32m[I 2022-07-24 18:08:14,996]\u001b[0m Trial 424 finished with value: -0.006179962407901506 and parameters: {'kernel': 'rbf', 'C': 0.014672008367703373, 'gamma': 0.05489490369186794, 'epsilon': 0.0018836212452158056}. Best is trial 136 with value: -0.006140773787988712.\u001b[0m\n",
      "\u001b[32m[I 2022-07-24 18:08:15,144]\u001b[0m Trial 425 finished with value: -0.006215588222636181 and parameters: {'kernel': 'rbf', 'C': 0.020191564771135987, 'gamma': 0.10137388991923926, 'epsilon': 0.0015755273912314834}. Best is trial 136 with value: -0.006140773787988712.\u001b[0m\n",
      "\u001b[32m[I 2022-07-24 18:08:15,394]\u001b[0m Trial 426 finished with value: -0.007141382412747674 and parameters: {'kernel': 'rbf', 'C': 0.7166261239632655, 'gamma': 0.07890334827889207, 'epsilon': 0.0023574459017131097}. Best is trial 136 with value: -0.006140773787988712.\u001b[0m\n",
      "\u001b[32m[I 2022-07-24 18:08:15,487]\u001b[0m Trial 427 finished with value: -0.006176798920139069 and parameters: {'kernel': 'rbf', 'C': 0.011664345160094793, 'gamma': 0.06416555160517537, 'epsilon': 0.0027722318925202647}. Best is trial 136 with value: -0.006140773787988712.\u001b[0m\n",
      "\u001b[32m[I 2022-07-24 18:08:15,591]\u001b[0m Trial 428 finished with value: -0.006225522611275939 and parameters: {'kernel': 'rbf', 'C': 0.01643813092379468, 'gamma': 0.038993103053917046, 'epsilon': 0.002075234563908815}. Best is trial 136 with value: -0.006140773787988712.\u001b[0m\n",
      "\u001b[32m[I 2022-07-24 18:08:15,710]\u001b[0m Trial 429 finished with value: -0.006170597032895967 and parameters: {'kernel': 'rbf', 'C': 0.013749430116404712, 'gamma': 0.08434784326266449, 'epsilon': 0.0014561376261906392}. Best is trial 136 with value: -0.006140773787988712.\u001b[0m\n",
      "\u001b[32m[I 2022-07-24 18:08:15,798]\u001b[0m Trial 430 finished with value: -0.006223165038578761 and parameters: {'kernel': 'rbf', 'C': 0.011065286333750672, 'gamma': 0.07255521388065361, 'epsilon': 0.003197482167065067}. Best is trial 136 with value: -0.006140773787988712.\u001b[0m\n",
      "\u001b[32m[I 2022-07-24 18:08:15,929]\u001b[0m Trial 431 finished with value: -0.006253228233072287 and parameters: {'kernel': 'rbf', 'C': 0.02440610372578533, 'gamma': 0.029050487262635597, 'epsilon': 0.0017572055969240195}. Best is trial 136 with value: -0.006140773787988712.\u001b[0m\n",
      "\u001b[32m[I 2022-07-24 18:08:16,077]\u001b[0m Trial 432 finished with value: -0.006179566844076646 and parameters: {'kernel': 'rbf', 'C': 0.018509218166635397, 'gamma': 0.058765845341076164, 'epsilon': 0.001275283929114147}. Best is trial 136 with value: -0.006140773787988712.\u001b[0m\n",
      "\u001b[32m[I 2022-07-24 18:08:16,194]\u001b[0m Trial 433 finished with value: -0.006170518658223871 and parameters: {'kernel': 'rbf', 'C': 0.012738305197773789, 'gamma': 0.0955875827642045, 'epsilon': 0.002366914113342714}. Best is trial 136 with value: -0.006140773787988712.\u001b[0m\n"
     ]
    },
    {
     "name": "stderr",
     "output_type": "stream",
     "text": [
      "\u001b[32m[I 2022-07-24 18:08:16,379]\u001b[0m Trial 434 finished with value: -0.006205740836526322 and parameters: {'kernel': 'rbf', 'C': 0.015931549295826485, 'gamma': 0.11150409046398403, 'epsilon': 0.002035353036984795}. Best is trial 136 with value: -0.006140773787988712.\u001b[0m\n",
      "\u001b[32m[I 2022-07-24 18:08:16,550]\u001b[0m Trial 435 finished with value: -0.006186541814268935 and parameters: {'kernel': 'rbf', 'C': 0.01439826371683278, 'gamma': 0.04964215392967265, 'epsilon': 0.002615332903499382}. Best is trial 136 with value: -0.006140773787988712.\u001b[0m\n",
      "\u001b[32m[I 2022-07-24 18:08:16,650]\u001b[0m Trial 436 finished with value: -0.0061737944984827575 and parameters: {'kernel': 'rbf', 'C': 0.021148484254586705, 'gamma': 0.06720436722274437, 'epsilon': 0.002171526064640863}. Best is trial 136 with value: -0.006140773787988712.\u001b[0m\n",
      "\u001b[32m[I 2022-07-24 18:08:16,680]\u001b[0m Trial 437 finished with value: -0.03564469137116574 and parameters: {'kernel': 'rbf', 'C': 0.017368725843558152, 'gamma': 0.08281648785006421, 'epsilon': 0.15181190439937353}. Best is trial 136 with value: -0.006140773787988712.\u001b[0m\n",
      "\u001b[32m[I 2022-07-24 18:08:16,790]\u001b[0m Trial 438 finished with value: -0.006162174393934757 and parameters: {'kernel': 'rbf', 'C': 0.012930168601235085, 'gamma': 0.07132000369032243, 'epsilon': 0.0017835844026640008}. Best is trial 136 with value: -0.006140773787988712.\u001b[0m\n",
      "\u001b[32m[I 2022-07-24 18:08:16,884]\u001b[0m Trial 439 finished with value: -0.00615695698526611 and parameters: {'kernel': 'rbf', 'C': 0.01532150885489299, 'gamma': 0.058382008518779165, 'epsilon': 0.002362039127132124}. Best is trial 136 with value: -0.006140773787988712.\u001b[0m\n",
      "\u001b[32m[I 2022-07-24 18:08:17,007]\u001b[0m Trial 440 finished with value: -0.0062446875375709076 and parameters: {'kernel': 'rbf', 'C': 0.011715421475262286, 'gamma': 0.043460132119809564, 'epsilon': 0.0019083258102720196}. Best is trial 136 with value: -0.006140773787988712.\u001b[0m\n",
      "\u001b[32m[I 2022-07-24 18:08:17,129]\u001b[0m Trial 441 finished with value: -0.006244341477033345 and parameters: {'kernel': 'rbf', 'C': 0.019036161724920116, 'gamma': 0.09348137641227491, 'epsilon': 0.0027692760414040943}. Best is trial 136 with value: -0.006140773787988712.\u001b[0m\n",
      "\u001b[32m[I 2022-07-24 18:08:17,273]\u001b[0m Trial 442 finished with value: -0.006163346802068831 and parameters: {'kernel': 'rbf', 'C': 0.014174102090391308, 'gamma': 0.07638734519545477, 'epsilon': 0.00157402890912385}. Best is trial 136 with value: -0.006140773787988712.\u001b[0m\n",
      "\u001b[32m[I 2022-07-24 18:08:17,386]\u001b[0m Trial 443 finished with value: -0.006149723229042887 and parameters: {'kernel': 'rbf', 'C': 0.016877114960761764, 'gamma': 0.06363871805347063, 'epsilon': 0.002129457069406389}. Best is trial 136 with value: -0.006140773787988712.\u001b[0m\n",
      "\u001b[32m[I 2022-07-24 18:08:17,472]\u001b[0m Trial 444 finished with value: -0.006246685824080562 and parameters: {'kernel': 'rbf', 'C': 0.010245395859287403, 'gamma': 0.06605591568590287, 'epsilon': 0.0032875476755333155}. Best is trial 136 with value: -0.006140773787988712.\u001b[0m\n",
      "\u001b[32m[I 2022-07-24 18:08:17,574]\u001b[0m Trial 445 finished with value: -0.006191340098055773 and parameters: {'kernel': 'rbf', 'C': 0.01611631938364711, 'gamma': 0.08860688167308478, 'epsilon': 0.0024601838752609908}. Best is trial 136 with value: -0.006140773787988712.\u001b[0m\n",
      "\u001b[32m[I 2022-07-24 18:08:17,686]\u001b[0m Trial 446 finished with value: -0.006155745875595917 and parameters: {'kernel': 'rbf', 'C': 0.013650763163126318, 'gamma': 0.07928161839828933, 'epsilon': 0.0021657702108653374}. Best is trial 136 with value: -0.006140773787988712.\u001b[0m\n",
      "\u001b[32m[I 2022-07-24 18:08:17,860]\u001b[0m Trial 447 finished with value: -0.006741505969751077 and parameters: {'kernel': 'poly', 'C': 0.011256874640324903, 'gamma': 0.11312004893703508, 'epsilon': 0.0028840109290337733}. Best is trial 136 with value: -0.006140773787988712.\u001b[0m\n",
      "\u001b[32m[I 2022-07-24 18:08:17,960]\u001b[0m Trial 448 finished with value: -0.006162079517829107 and parameters: {'kernel': 'rbf', 'C': 0.01636993672729003, 'gamma': 0.06526601007987576, 'epsilon': 0.0017340673153447516}. Best is trial 136 with value: -0.006140773787988712.\u001b[0m\n",
      "\u001b[32m[I 2022-07-24 18:08:18,050]\u001b[0m Trial 449 finished with value: -0.006180884048193269 and parameters: {'kernel': 'rbf', 'C': 0.010101880537920965, 'gamma': 0.07490705598047952, 'epsilon': 0.002431105315527561}. Best is trial 136 with value: -0.006140773787988712.\u001b[0m\n",
      "\u001b[32m[I 2022-07-24 18:08:18,147]\u001b[0m Trial 450 finished with value: -0.0061496998753806965 and parameters: {'kernel': 'rbf', 'C': 0.012820929968475232, 'gamma': 0.09601385529301702, 'epsilon': 0.0019358186786215385}. Best is trial 136 with value: -0.006140773787988712.\u001b[0m\n",
      "\u001b[32m[I 2022-07-24 18:08:18,272]\u001b[0m Trial 451 finished with value: -0.006178668027640965 and parameters: {'kernel': 'rbf', 'C': 0.012562999125666588, 'gamma': 0.09851706018390373, 'epsilon': 0.001425811288992803}. Best is trial 136 with value: -0.006140773787988712.\u001b[0m\n",
      "\u001b[32m[I 2022-07-24 18:08:18,370]\u001b[0m Trial 452 finished with value: -0.00616558325874868 and parameters: {'kernel': 'rbf', 'C': 0.012663298066528172, 'gamma': 0.10451362547041171, 'epsilon': 0.0018567931859188407}. Best is trial 136 with value: -0.006140773787988712.\u001b[0m\n",
      "\u001b[32m[I 2022-07-24 18:08:18,470]\u001b[0m Trial 453 finished with value: -0.006194316433908702 and parameters: {'kernel': 'rbf', 'C': 0.010046569092810737, 'gamma': 0.11949072547796559, 'epsilon': 0.0016193065258629485}. Best is trial 136 with value: -0.006140773787988712.\u001b[0m\n",
      "\u001b[32m[I 2022-07-24 18:08:18,560]\u001b[0m Trial 454 finished with value: -0.006153101324864789 and parameters: {'kernel': 'rbf', 'C': 0.014091990967896161, 'gamma': 0.08620764539329537, 'epsilon': 0.0020196915040567613}. Best is trial 136 with value: -0.006140773787988712.\u001b[0m\n",
      "\u001b[32m[I 2022-07-24 18:08:18,660]\u001b[0m Trial 455 finished with value: -0.0061563344316541944 and parameters: {'kernel': 'rbf', 'C': 0.011361055418720126, 'gamma': 0.0929587741397115, 'epsilon': 0.002273495369136482}. Best is trial 136 with value: -0.006140773787988712.\u001b[0m\n",
      "\u001b[32m[I 2022-07-24 18:08:18,760]\u001b[0m Trial 456 finished with value: -0.006183588216291724 and parameters: {'kernel': 'rbf', 'C': 0.010003661934305201, 'gamma': 0.10633022257958553, 'epsilon': 0.001794648355284395}. Best is trial 136 with value: -0.006140773787988712.\u001b[0m\n",
      "\u001b[32m[I 2022-07-24 18:08:18,858]\u001b[0m Trial 457 finished with value: -0.006260209041888456 and parameters: {'kernel': 'rbf', 'C': 0.014601646556664898, 'gamma': 0.1326300659801219, 'epsilon': 0.002593886678020661}. Best is trial 136 with value: -0.006140773787988712.\u001b[0m\n",
      "\u001b[32m[I 2022-07-24 18:08:18,995]\u001b[0m Trial 458 finished with value: -0.006178727577023628 and parameters: {'kernel': 'rbf', 'C': 0.012312910564949982, 'gamma': 0.08311689984984046, 'epsilon': 0.0013325165218601744}. Best is trial 136 with value: -0.006140773787988712.\u001b[0m\n",
      "\u001b[32m[I 2022-07-24 18:08:19,110]\u001b[0m Trial 459 finished with value: -0.006153332403742811 and parameters: {'kernel': 'rbf', 'C': 0.014995675219282039, 'gamma': 0.07294631018371124, 'epsilon': 0.0020453088785868773}. Best is trial 136 with value: -0.006140773787988712.\u001b[0m\n",
      "\u001b[32m[I 2022-07-24 18:08:19,218]\u001b[0m Trial 460 finished with value: -0.006217018753621135 and parameters: {'kernel': 'rbf', 'C': 0.013155319766700122, 'gamma': 0.09330489733787133, 'epsilon': 0.0029783519942809507}. Best is trial 136 with value: -0.006140773787988712.\u001b[0m\n",
      "\u001b[32m[I 2022-07-24 18:08:19,355]\u001b[0m Trial 461 finished with value: -0.006179889703844174 and parameters: {'kernel': 'rbf', 'C': 0.01583971174780303, 'gamma': 0.07969038992697886, 'epsilon': 0.0016295276738200052}. Best is trial 136 with value: -0.006140773787988712.\u001b[0m\n",
      "\u001b[32m[I 2022-07-24 18:08:19,456]\u001b[0m Trial 462 finished with value: -0.006161455812767548 and parameters: {'kernel': 'rbf', 'C': 0.011060109670660168, 'gamma': 0.06831552960095098, 'epsilon': 0.002232389315558325}. Best is trial 136 with value: -0.006140773787988712.\u001b[0m\n",
      "\u001b[32m[I 2022-07-24 18:08:19,568]\u001b[0m Trial 463 finished with value: -0.006180893990279671 and parameters: {'kernel': 'rbf', 'C': 0.01718303826937955, 'gamma': 0.09215042670930618, 'epsilon': 0.0018698640517578163}. Best is trial 136 with value: -0.006140773787988712.\u001b[0m\n",
      "\u001b[32m[I 2022-07-24 18:08:19,668]\u001b[0m Trial 464 finished with value: -0.006249703295811932 and parameters: {'kernel': 'rbf', 'C': 0.01329146995446472, 'gamma': 0.13330260766393737, 'epsilon': 0.0025534913839626687}. Best is trial 136 with value: -0.006140773787988712.\u001b[0m\n"
     ]
    },
    {
     "name": "stderr",
     "output_type": "stream",
     "text": [
      "\u001b[32m[I 2022-07-24 18:08:19,744]\u001b[0m Trial 465 finished with value: -0.006256157899591993 and parameters: {'kernel': 'rbf', 'C': 0.014386497183270425, 'gamma': 0.061798526319199104, 'epsilon': 0.0034990097968852336}. Best is trial 136 with value: -0.006140773787988712.\u001b[0m\n",
      "\u001b[32m[I 2022-07-24 18:08:19,841]\u001b[0m Trial 466 finished with value: -0.006153007231427362 and parameters: {'kernel': 'rbf', 'C': 0.011717110966003348, 'gamma': 0.07867340701181823, 'epsilon': 0.002124945212979725}. Best is trial 136 with value: -0.006140773787988712.\u001b[0m\n",
      "\u001b[32m[I 2022-07-24 18:08:19,970]\u001b[0m Trial 467 finished with value: -0.006179395194489765 and parameters: {'kernel': 'rbf', 'C': 0.01707110318255867, 'gamma': 0.05362042944823962, 'epsilon': 0.0015090033679393477}. Best is trial 136 with value: -0.006140773787988712.\u001b[0m\n",
      "\u001b[32m[I 2022-07-24 18:08:20,071]\u001b[0m Trial 468 finished with value: -0.0061701268637103105 and parameters: {'kernel': 'rbf', 'C': 0.013215922581266054, 'gamma': 0.10450228177134076, 'epsilon': 0.001874966278816473}. Best is trial 136 with value: -0.006140773787988712.\u001b[0m\n",
      "\u001b[32m[I 2022-07-24 18:08:20,101]\u001b[0m Trial 469 finished with value: -0.031574788662732826 and parameters: {'kernel': 'rbf', 'C': 0.020030224822608095, 'gamma': 0.0683845893724096, 'epsilon': 0.03737522610753447}. Best is trial 136 with value: -0.006140773787988712.\u001b[0m\n",
      "\u001b[32m[I 2022-07-24 18:08:20,207]\u001b[0m Trial 470 finished with value: -0.0061581500033334345 and parameters: {'kernel': 'rbf', 'C': 0.015295577601296748, 'gamma': 0.08447966195610433, 'epsilon': 0.002347746967412469}. Best is trial 136 with value: -0.006140773787988712.\u001b[0m\n",
      "\u001b[32m[I 2022-07-24 18:08:20,295]\u001b[0m Trial 471 finished with value: -0.0062104725669408405 and parameters: {'kernel': 'rbf', 'C': 0.01011300416109108, 'gamma': 0.06070690701216935, 'epsilon': 0.0027398338638285683}. Best is trial 136 with value: -0.006140773787988712.\u001b[0m\n",
      "\u001b[32m[I 2022-07-24 18:08:20,412]\u001b[0m Trial 472 finished with value: -0.006164127998743176 and parameters: {'kernel': 'rbf', 'C': 0.01747141084799814, 'gamma': 0.07303270282349518, 'epsilon': 0.001689460437427925}. Best is trial 136 with value: -0.006140773787988712.\u001b[0m\n",
      "\u001b[32m[I 2022-07-24 18:08:20,529]\u001b[0m Trial 473 finished with value: -0.006184024848684029 and parameters: {'kernel': 'rbf', 'C': 0.012165555741285718, 'gamma': 0.11566097399911535, 'epsilon': 0.0020144605498776356}. Best is trial 136 with value: -0.006140773787988712.\u001b[0m\n",
      "\u001b[32m[I 2022-07-24 18:08:20,643]\u001b[0m Trial 474 finished with value: -0.006182183703904811 and parameters: {'kernel': 'rbf', 'C': 0.014713763160718879, 'gamma': 0.05120488996306248, 'epsilon': 0.0021266699469840267}. Best is trial 136 with value: -0.006140773787988712.\u001b[0m\n",
      "\u001b[32m[I 2022-07-24 18:08:20,849]\u001b[0m Trial 475 finished with value: -0.006726654852040179 and parameters: {'kernel': 'poly', 'C': 0.022908473486342878, 'gamma': 0.09309867165283522, 'epsilon': 0.0024659410555361457}. Best is trial 136 with value: -0.006140773787988712.\u001b[0m\n",
      "\u001b[32m[I 2022-07-24 18:08:20,930]\u001b[0m Trial 476 finished with value: -0.006198775192737367 and parameters: {'kernel': 'rbf', 'C': 0.017374251674258153, 'gamma': 0.07910110350696198, 'epsilon': 0.002842051817993206}. Best is trial 136 with value: -0.006140773787988712.\u001b[0m\n",
      "\u001b[32m[I 2022-07-24 18:08:21,050]\u001b[0m Trial 477 finished with value: -0.006194642294009058 and parameters: {'kernel': 'rbf', 'C': 0.011215367915573746, 'gamma': 0.06708058343300138, 'epsilon': 0.0011937197753029052}. Best is trial 136 with value: -0.006140773787988712.\u001b[0m\n",
      "\u001b[32m[I 2022-07-24 18:08:21,171]\u001b[0m Trial 478 finished with value: -0.006175578424929415 and parameters: {'kernel': 'rbf', 'C': 0.013353353058510315, 'gamma': 0.05988735065663113, 'epsilon': 0.0017512733640871298}. Best is trial 136 with value: -0.006140773787988712.\u001b[0m\n",
      "\u001b[32m[I 2022-07-24 18:08:21,489]\u001b[0m Trial 479 finished with value: -0.006198322392685376 and parameters: {'kernel': 'rbf', 'C': 0.015426036062877851, 'gamma': 0.10019832690715981, 'epsilon': 0.0014483016770793168}. Best is trial 136 with value: -0.006140773787988712.\u001b[0m\n",
      "\u001b[32m[I 2022-07-24 18:08:21,625]\u001b[0m Trial 480 finished with value: -0.007060397254674967 and parameters: {'kernel': 'rbf', 'C': 0.01983315252719957, 'gamma': 0.0012028523245074414, 'epsilon': 0.002284524001409146}. Best is trial 136 with value: -0.006140773787988712.\u001b[0m\n",
      "\u001b[32m[I 2022-07-24 18:08:21,790]\u001b[0m Trial 481 finished with value: -0.0061415978365095296 and parameters: {'kernel': 'rbf', 'C': 0.013522707187862274, 'gamma': 0.0827198409010395, 'epsilon': 0.00195627733485127}. Best is trial 136 with value: -0.006140773787988712.\u001b[0m\n",
      "\u001b[32m[I 2022-07-24 18:08:21,932]\u001b[0m Trial 482 finished with value: -0.006156108747707666 and parameters: {'kernel': 'rbf', 'C': 0.011238493246918583, 'gamma': 0.08893924435939676, 'epsilon': 0.0018587749264137796}. Best is trial 136 with value: -0.006140773787988712.\u001b[0m\n",
      "\u001b[32m[I 2022-07-24 18:08:22,084]\u001b[0m Trial 483 finished with value: -0.006193000958520834 and parameters: {'kernel': 'rbf', 'C': 0.012646725638770591, 'gamma': 0.11360580228852281, 'epsilon': 0.001626064202256193}. Best is trial 136 with value: -0.006140773787988712.\u001b[0m\n",
      "\u001b[32m[I 2022-07-24 18:08:22,216]\u001b[0m Trial 484 finished with value: -0.006179535910827367 and parameters: {'kernel': 'rbf', 'C': 0.010038687500101538, 'gamma': 0.08147253904983755, 'epsilon': 0.0019647990606513695}. Best is trial 136 with value: -0.006140773787988712.\u001b[0m\n",
      "\u001b[32m[I 2022-07-24 18:08:22,359]\u001b[0m Trial 485 finished with value: -0.006257261573612127 and parameters: {'kernel': 'rbf', 'C': 0.013892824895966696, 'gamma': 0.15070023093483487, 'epsilon': 0.0024497276622950375}. Best is trial 136 with value: -0.006140773787988712.\u001b[0m\n",
      "\u001b[32m[I 2022-07-24 18:08:22,642]\u001b[0m Trial 486 finished with value: -0.006190196765674209 and parameters: {'kernel': 'rbf', 'C': 0.01231342625209224, 'gamma': 0.09940783858117352, 'epsilon': 0.001444507056223844}. Best is trial 136 with value: -0.006140773787988712.\u001b[0m\n",
      "\u001b[32m[I 2022-07-24 18:08:22,804]\u001b[0m Trial 487 finished with value: -0.0061764794770965935 and parameters: {'kernel': 'rbf', 'C': 0.010041767221891007, 'gamma': 0.07526056821361256, 'epsilon': 0.0018787861819294298}. Best is trial 136 with value: -0.006140773787988712.\u001b[0m\n",
      "\u001b[32m[I 2022-07-24 18:08:22,927]\u001b[0m Trial 488 finished with value: -0.006172826645044653 and parameters: {'kernel': 'rbf', 'C': 0.014612228327330614, 'gamma': 0.08355986416160095, 'epsilon': 0.0026288919416381346}. Best is trial 136 with value: -0.006140773787988712.\u001b[0m\n",
      "\u001b[32m[I 2022-07-24 18:08:23,059]\u001b[0m Trial 489 finished with value: -0.006299725905885573 and parameters: {'kernel': 'rbf', 'C': 0.012280042487414647, 'gamma': 0.126248508874055, 'epsilon': 0.0031573303458299687}. Best is trial 136 with value: -0.006140773787988712.\u001b[0m\n",
      "\u001b[32m[I 2022-07-24 18:08:23,183]\u001b[0m Trial 490 finished with value: -0.0061769190151647535 and parameters: {'kernel': 'rbf', 'C': 0.015614839112695943, 'gamma': 0.08986008909640036, 'epsilon': 0.002326064676715472}. Best is trial 136 with value: -0.006140773787988712.\u001b[0m\n",
      "\u001b[32m[I 2022-07-24 18:08:23,351]\u001b[0m Trial 491 finished with value: -0.006159837496837177 and parameters: {'kernel': 'rbf', 'C': 0.01367417924605609, 'gamma': 0.07255529106903423, 'epsilon': 0.0016420705974956116}. Best is trial 136 with value: -0.006140773787988712.\u001b[0m\n",
      "\u001b[32m[I 2022-07-24 18:08:23,468]\u001b[0m Trial 492 finished with value: -0.00616442035095843 and parameters: {'kernel': 'rbf', 'C': 0.011168829653388808, 'gamma': 0.10468100799715047, 'epsilon': 0.0020458208799943012}. Best is trial 136 with value: -0.006140773787988712.\u001b[0m\n",
      "\u001b[32m[I 2022-07-24 18:08:23,639]\u001b[0m Trial 493 finished with value: -0.006171549104638327 and parameters: {'kernel': 'rbf', 'C': 0.018545244637282486, 'gamma': 0.07249626196883219, 'epsilon': 0.0022846219019539045}. Best is trial 136 with value: -0.006140773787988712.\u001b[0m\n",
      "\u001b[32m[I 2022-07-24 18:08:23,870]\u001b[0m Trial 494 finished with value: -0.0062105252570766436 and parameters: {'kernel': 'rbf', 'C': 0.01579843262403091, 'gamma': 0.08869458698461086, 'epsilon': 0.002793775716654965}. Best is trial 136 with value: -0.006140773787988712.\u001b[0m\n",
      "\u001b[32m[I 2022-07-24 18:08:24,000]\u001b[0m Trial 495 finished with value: -0.006188445040944843 and parameters: {'kernel': 'rbf', 'C': 0.01357559556992061, 'gamma': 0.059123982518430075, 'epsilon': 0.0018364350272726349}. Best is trial 136 with value: -0.006140773787988712.\u001b[0m\n"
     ]
    },
    {
     "name": "stderr",
     "output_type": "stream",
     "text": [
      "\u001b[32m[I 2022-07-24 18:08:24,101]\u001b[0m Trial 496 finished with value: -0.006309499655908129 and parameters: {'kernel': 'rbf', 'C': 0.011127875135203627, 'gamma': 0.07808026124899983, 'epsilon': 0.0036440004495355877}. Best is trial 136 with value: -0.006140773787988712.\u001b[0m\n",
      "\u001b[32m[I 2022-07-24 18:08:24,136]\u001b[0m Trial 497 finished with value: -0.03564469137116574 and parameters: {'kernel': 'rbf', 'C': 0.01676651162960467, 'gamma': 0.0682890141876344, 'epsilon': 0.08195898582278631}. Best is trial 136 with value: -0.006140773787988712.\u001b[0m\n",
      "\u001b[32m[I 2022-07-24 18:08:24,290]\u001b[0m Trial 498 finished with value: -0.006583100018560461 and parameters: {'kernel': 'rbf', 'C': 0.013083636898721836, 'gamma': 0.011053932558958665, 'epsilon': 0.0012875983845706644}. Best is trial 136 with value: -0.006140773787988712.\u001b[0m\n",
      "\u001b[32m[I 2022-07-24 18:08:24,440]\u001b[0m Trial 499 finished with value: -0.006164020076304791 and parameters: {'kernel': 'rbf', 'C': 0.020377904092241494, 'gamma': 0.04899745629923623, 'epsilon': 0.0020740058314445355}. Best is trial 136 with value: -0.006140773787988712.\u001b[0m\n",
      "\u001b[32m[I 2022-07-24 18:08:24,580]\u001b[0m Trial 500 finished with value: -0.006181238555445511 and parameters: {'kernel': 'rbf', 'C': 0.01452004852756544, 'gamma': 0.09873483571120692, 'epsilon': 0.0016248889279882983}. Best is trial 136 with value: -0.006140773787988712.\u001b[0m\n",
      "\u001b[32m[I 2022-07-24 18:08:24,701]\u001b[0m Trial 501 finished with value: -0.006208167051674234 and parameters: {'kernel': 'rbf', 'C': 0.010008118334912764, 'gamma': 0.08188258823012129, 'epsilon': 0.002618671116149009}. Best is trial 136 with value: -0.006140773787988712.\u001b[0m\n",
      "\u001b[32m[I 2022-07-24 18:08:24,850]\u001b[0m Trial 502 finished with value: -0.006146561142181429 and parameters: {'kernel': 'rbf', 'C': 0.018356984168173645, 'gamma': 0.05504726797429984, 'epsilon': 0.0022235189915476372}. Best is trial 136 with value: -0.006140773787988712.\u001b[0m\n",
      "\u001b[32m[I 2022-07-24 18:08:25,045]\u001b[0m Trial 503 finished with value: -0.006764458023922354 and parameters: {'kernel': 'poly', 'C': 0.02759081702411779, 'gamma': 0.04195648282733735, 'epsilon': 0.0030290672099055845}. Best is trial 136 with value: -0.006140773787988712.\u001b[0m\n",
      "\u001b[32m[I 2022-07-24 18:08:25,278]\u001b[0m Trial 504 finished with value: -0.0061573689308680075 and parameters: {'kernel': 'rbf', 'C': 0.019104228675647802, 'gamma': 0.05405501217297091, 'epsilon': 0.002361038730192012}. Best is trial 136 with value: -0.006140773787988712.\u001b[0m\n",
      "\u001b[32m[I 2022-07-24 18:08:25,503]\u001b[0m Trial 505 finished with value: -0.0061682940941770485 and parameters: {'kernel': 'rbf', 'C': 0.02527204864104478, 'gamma': 0.04813852454852081, 'epsilon': 0.002228733877038936}. Best is trial 136 with value: -0.006140773787988712.\u001b[0m\n",
      "\u001b[32m[I 2022-07-24 18:08:25,709]\u001b[0m Trial 506 finished with value: -0.0061694618809641265 and parameters: {'kernel': 'rbf', 'C': 0.022405341867779774, 'gamma': 0.05554273289996455, 'epsilon': 0.002578524529530033}. Best is trial 136 with value: -0.006140773787988712.\u001b[0m\n",
      "\u001b[32m[I 2022-07-24 18:08:25,872]\u001b[0m Trial 507 finished with value: -0.0062263051456692515 and parameters: {'kernel': 'rbf', 'C': 0.018358445763674527, 'gamma': 0.06284345833914097, 'epsilon': 0.003123042769273813}. Best is trial 136 with value: -0.006140773787988712.\u001b[0m\n",
      "\u001b[32m[I 2022-07-24 18:08:26,029]\u001b[0m Trial 508 finished with value: -0.006806419610032907 and parameters: {'kernel': 'rbf', 'C': 0.022448805662042708, 'gamma': 0.0035911203008784443, 'epsilon': 0.002110625591005122}. Best is trial 136 with value: -0.006140773787988712.\u001b[0m\n",
      "\u001b[32m[I 2022-07-24 18:08:26,227]\u001b[0m Trial 509 finished with value: -0.006156821959987409 and parameters: {'kernel': 'rbf', 'C': 0.017238798354404974, 'gamma': 0.06559177829667233, 'epsilon': 0.0017449493589804044}. Best is trial 136 with value: -0.006140773787988712.\u001b[0m\n",
      "\u001b[32m[I 2022-07-24 18:08:26,451]\u001b[0m Trial 510 finished with value: -0.006158743729727193 and parameters: {'kernel': 'rbf', 'C': 0.015491652490081444, 'gamma': 0.058367294881904314, 'epsilon': 0.0025529944374307924}. Best is trial 136 with value: -0.006140773787988712.\u001b[0m\n",
      "\u001b[32m[I 2022-07-24 18:08:26,650]\u001b[0m Trial 511 finished with value: -0.006159374432362907 and parameters: {'kernel': 'rbf', 'C': 0.01925729914369617, 'gamma': 0.07000733372410257, 'epsilon': 0.0019800848214044145}. Best is trial 136 with value: -0.006140773787988712.\u001b[0m\n",
      "\u001b[32m[I 2022-07-24 18:08:26,738]\u001b[0m Trial 512 finished with value: -0.006366682951101395 and parameters: {'kernel': 'rbf', 'C': 0.015962175521200436, 'gamma': 0.05011195109780848, 'epsilon': 0.004260590147966987}. Best is trial 136 with value: -0.006140773787988712.\u001b[0m\n",
      "\u001b[32m[I 2022-07-24 18:08:26,867]\u001b[0m Trial 513 finished with value: -0.006183323277241797 and parameters: {'kernel': 'rbf', 'C': 0.02157678922837162, 'gamma': 0.0717191554851006, 'epsilon': 0.002258332767423969}. Best is trial 136 with value: -0.006140773787988712.\u001b[0m\n",
      "\u001b[32m[I 2022-07-24 18:08:27,024]\u001b[0m Trial 514 finished with value: -0.006575193902194628 and parameters: {'kernel': 'rbf', 'C': 0.19401602280556612, 'gamma': 0.0446133266458587, 'epsilon': 0.0028096168204479787}. Best is trial 136 with value: -0.006140773787988712.\u001b[0m\n",
      "\u001b[32m[I 2022-07-24 18:08:27,154]\u001b[0m Trial 515 finished with value: -0.006180951328530539 and parameters: {'kernel': 'rbf', 'C': 0.01479689571237396, 'gamma': 0.05731267351118327, 'epsilon': 0.0017280022332139431}. Best is trial 136 with value: -0.006140773787988712.\u001b[0m\n",
      "\u001b[32m[I 2022-07-24 18:08:27,296]\u001b[0m Trial 516 finished with value: -0.006166019387185966 and parameters: {'kernel': 'rbf', 'C': 0.017206344191845035, 'gamma': 0.06648022100177309, 'epsilon': 0.001519635979514957}. Best is trial 136 with value: -0.006140773787988712.\u001b[0m\n",
      "\u001b[32m[I 2022-07-24 18:08:27,431]\u001b[0m Trial 517 finished with value: -0.0061492334314067225 and parameters: {'kernel': 'rbf', 'C': 0.01463353668801852, 'gamma': 0.08051818710259846, 'epsilon': 0.0022898201455467566}. Best is trial 136 with value: -0.006140773787988712.\u001b[0m\n",
      "\u001b[32m[I 2022-07-24 18:08:27,557]\u001b[0m Trial 518 finished with value: -0.006183782933340061 and parameters: {'kernel': 'rbf', 'C': 0.01912194339593919, 'gamma': 0.07728795208531167, 'epsilon': 0.002520773072538415}. Best is trial 136 with value: -0.006140773787988712.\u001b[0m\n",
      "\u001b[32m[I 2022-07-24 18:08:27,691]\u001b[0m Trial 519 finished with value: -0.00613998788448157 and parameters: {'kernel': 'rbf', 'C': 0.012311709370025991, 'gamma': 0.08570540286986596, 'epsilon': 0.001980833232980271}. Best is trial 519 with value: -0.00613998788448157.\u001b[0m\n",
      "\u001b[32m[I 2022-07-24 18:08:27,816]\u001b[0m Trial 520 finished with value: -0.006168741316240143 and parameters: {'kernel': 'rbf', 'C': 0.011370092906301999, 'gamma': 0.08996536138028736, 'epsilon': 0.0018835091700319711}. Best is trial 519 with value: -0.00613998788448157.\u001b[0m\n",
      "\u001b[32m[I 2022-07-24 18:08:27,950]\u001b[0m Trial 521 finished with value: -0.006180499084251924 and parameters: {'kernel': 'rbf', 'C': 0.012108137532805424, 'gamma': 0.10991086269110452, 'epsilon': 0.0015145018674556769}. Best is trial 519 with value: -0.00613998788448157.\u001b[0m\n",
      "\u001b[32m[I 2022-07-24 18:08:27,994]\u001b[0m Trial 522 finished with value: -0.01134985011364592 and parameters: {'kernel': 'rbf', 'C': 0.012836349049682694, 'gamma': 0.08534521039542721, 'epsilon': 0.013438470079282306}. Best is trial 519 with value: -0.00613998788448157.\u001b[0m\n",
      "\u001b[32m[I 2022-07-24 18:08:28,109]\u001b[0m Trial 523 finished with value: -0.006150295188990385 and parameters: {'kernel': 'rbf', 'C': 0.016897470990271404, 'gamma': 0.061579167384069856, 'epsilon': 0.0020157963952774217}. Best is trial 519 with value: -0.00613998788448157.\u001b[0m\n",
      "\u001b[32m[I 2022-07-24 18:08:28,233]\u001b[0m Trial 524 finished with value: -0.00616905459326737 and parameters: {'kernel': 'rbf', 'C': 0.011077731353466833, 'gamma': 0.07556299460320166, 'epsilon': 0.0017658984260271744}. Best is trial 519 with value: -0.00613998788448157.\u001b[0m\n",
      "\u001b[32m[I 2022-07-24 18:08:28,276]\u001b[0m Trial 525 finished with value: -0.03564469137116575 and parameters: {'kernel': 'rbf', 'C': 0.013744963824176754, 'gamma': 0.09148546340432319, 'epsilon': 0.27194392825286645}. Best is trial 519 with value: -0.00613998788448157.\u001b[0m\n",
      "\u001b[32m[I 2022-07-24 18:08:28,465]\u001b[0m Trial 526 finished with value: -0.006249821233526075 and parameters: {'kernel': 'rbf', 'C': 0.016058368281155415, 'gamma': 0.03797518449728315, 'epsilon': 0.0013842797533213777}. Best is trial 519 with value: -0.00613998788448157.\u001b[0m\n"
     ]
    },
    {
     "name": "stderr",
     "output_type": "stream",
     "text": [
      "\u001b[32m[I 2022-07-24 18:08:28,601]\u001b[0m Trial 527 finished with value: -0.006193157672024159 and parameters: {'kernel': 'rbf', 'C': 0.012278949416656684, 'gamma': 0.05567935200152915, 'epsilon': 0.0019872297097397137}. Best is trial 519 with value: -0.00613998788448157.\u001b[0m\n",
      "\u001b[32m[I 2022-07-24 18:08:28,740]\u001b[0m Trial 528 finished with value: -0.006187963894651985 and parameters: {'kernel': 'rbf', 'C': 0.010162923547687342, 'gamma': 0.06805713894288723, 'epsilon': 0.0022424667482634315}. Best is trial 519 with value: -0.00613998788448157.\u001b[0m\n",
      "\u001b[32m[I 2022-07-24 18:08:28,884]\u001b[0m Trial 529 finished with value: -0.006162640476864381 and parameters: {'kernel': 'rbf', 'C': 0.014357792269701967, 'gamma': 0.08026435398589273, 'epsilon': 0.001768287054079015}. Best is trial 519 with value: -0.00613998788448157.\u001b[0m\n",
      "\u001b[32m[I 2022-07-24 18:08:28,999]\u001b[0m Trial 530 finished with value: -0.006258103576253092 and parameters: {'kernel': 'rbf', 'C': 0.02050848686523554, 'gamma': 0.09774434953344849, 'epsilon': 0.002799595574697489}. Best is trial 519 with value: -0.00613998788448157.\u001b[0m\n",
      "\u001b[32m[I 2022-07-24 18:08:33,469]\u001b[0m Trial 531 finished with value: -0.0070856268349718705 and parameters: {'kernel': 'poly', 'C': 1.4588581253538042, 'gamma': 0.1208589660728498, 'epsilon': 0.005713536810221366}. Best is trial 519 with value: -0.00613998788448157.\u001b[0m\n",
      "\u001b[32m[I 2022-07-24 18:08:33,620]\u001b[0m Trial 532 finished with value: -0.006178064254065946 and parameters: {'kernel': 'rbf', 'C': 0.013353985419593017, 'gamma': 0.06221244271109415, 'epsilon': 0.0015916934894970572}. Best is trial 519 with value: -0.00613998788448157.\u001b[0m\n",
      "\u001b[32m[I 2022-07-24 18:08:33,898]\u001b[0m Trial 533 finished with value: -0.006552472489809132 and parameters: {'kernel': 'rbf', 'C': 0.15408456452072045, 'gamma': 0.052365057606777794, 'epsilon': 0.0020463060512426992}. Best is trial 519 with value: -0.00613998788448157.\u001b[0m\n",
      "\u001b[32m[I 2022-07-24 18:08:34,127]\u001b[0m Trial 534 finished with value: -0.006432426723974014 and parameters: {'kernel': 'rbf', 'C': 0.01822565759757794, 'gamma': 0.36522334635168857, 'epsilon': 0.0024380383367012004}. Best is trial 519 with value: -0.00613998788448157.\u001b[0m\n",
      "\u001b[32m[I 2022-07-24 18:08:34,326]\u001b[0m Trial 535 finished with value: -0.006244132626690244 and parameters: {'kernel': 'rbf', 'C': 0.01617313900680291, 'gamma': 0.07358272722432564, 'epsilon': 0.003247276500038643}. Best is trial 519 with value: -0.00613998788448157.\u001b[0m\n",
      "\u001b[32m[I 2022-07-24 18:08:34,866]\u001b[0m Trial 536 finished with value: -0.006164248801628528 and parameters: {'kernel': 'rbf', 'C': 0.011124788326462144, 'gamma': 0.0856438358003966, 'epsilon': 0.0018733373124001874}. Best is trial 519 with value: -0.00613998788448157.\u001b[0m\n",
      "\u001b[32m[I 2022-07-24 18:08:35,066]\u001b[0m Trial 537 finished with value: -0.006163128940792771 and parameters: {'kernel': 'rbf', 'C': 0.023175496162718995, 'gamma': 0.046649260012436446, 'epsilon': 0.0022142096221328244}. Best is trial 519 with value: -0.00613998788448157.\u001b[0m\n",
      "\u001b[32m[I 2022-07-24 18:08:35,297]\u001b[0m Trial 538 finished with value: -0.006424719242366267 and parameters: {'kernel': 'rbf', 'C': 0.044756853888068965, 'gamma': 0.10674376299334667, 'epsilon': 0.00262074919645537}. Best is trial 519 with value: -0.00613998788448157.\u001b[0m\n",
      "\u001b[32m[I 2022-07-24 18:08:35,481]\u001b[0m Trial 539 finished with value: -0.006158983549063511 and parameters: {'kernel': 'rbf', 'C': 0.01476751408262684, 'gamma': 0.06640060938133618, 'epsilon': 0.001620733488214368}. Best is trial 519 with value: -0.00613998788448157.\u001b[0m\n",
      "\u001b[32m[I 2022-07-24 18:08:35,621]\u001b[0m Trial 540 finished with value: -0.006151837415687862 and parameters: {'kernel': 'rbf', 'C': 0.012626910516710166, 'gamma': 0.07596647583855189, 'epsilon': 0.002023160293115824}. Best is trial 519 with value: -0.00613998788448157.\u001b[0m\n",
      "\u001b[32m[I 2022-07-24 18:08:35,792]\u001b[0m Trial 541 finished with value: -0.006199072148851628 and parameters: {'kernel': 'rbf', 'C': 0.017552276619904383, 'gamma': 0.08826242793892633, 'epsilon': 0.0013455329928198593}. Best is trial 519 with value: -0.00613998788448157.\u001b[0m\n",
      "\u001b[32m[I 2022-07-24 18:08:35,963]\u001b[0m Trial 542 finished with value: -0.006263863683029765 and parameters: {'kernel': 'rbf', 'C': 0.014371603476644273, 'gamma': 0.032463789320255024, 'epsilon': 0.002376912196524137}. Best is trial 519 with value: -0.00613998788448157.\u001b[0m\n",
      "\u001b[32m[I 2022-07-24 18:08:36,317]\u001b[0m Trial 543 finished with value: -0.0061999614549129905 and parameters: {'kernel': 'rbf', 'C': 0.020262993125185928, 'gamma': 0.05948044220110867, 'epsilon': 0.002981451798689878}. Best is trial 519 with value: -0.00613998788448157.\u001b[0m\n",
      "\u001b[32m[I 2022-07-24 18:08:36,875]\u001b[0m Trial 544 finished with value: -0.0061629510102953365 and parameters: {'kernel': 'rbf', 'C': 0.011770320222537196, 'gamma': 0.07105501383621228, 'epsilon': 0.0017964155179069567}. Best is trial 519 with value: -0.00613998788448157.\u001b[0m\n",
      "\u001b[32m[I 2022-07-24 18:08:37,039]\u001b[0m Trial 545 finished with value: -0.0061606076588032735 and parameters: {'kernel': 'rbf', 'C': 0.016117100259511994, 'gamma': 0.05425846601417114, 'epsilon': 0.002154608969910204}. Best is trial 519 with value: -0.00613998788448157.\u001b[0m\n",
      "\u001b[32m[I 2022-07-24 18:08:37,129]\u001b[0m Trial 546 finished with value: -0.0077935768665763116 and parameters: {'kernel': 'rbf', 'C': 0.01302639078659052, 'gamma': 0.10194121061188825, 'epsilon': 0.00781207879771554}. Best is trial 519 with value: -0.00613998788448157.\u001b[0m\n",
      "\u001b[32m[I 2022-07-24 18:08:37,309]\u001b[0m Trial 547 finished with value: -0.006255189503883541 and parameters: {'kernel': 'rbf', 'C': 0.027838539856804387, 'gamma': 0.08270422384532326, 'epsilon': 0.00257174712990141}. Best is trial 519 with value: -0.00613998788448157.\u001b[0m\n",
      "\u001b[32m[I 2022-07-24 18:08:37,508]\u001b[0m Trial 548 finished with value: -0.006193840798639803 and parameters: {'kernel': 'rbf', 'C': 0.010232387487373677, 'gamma': 0.06421754227397525, 'epsilon': 0.0019039618511338028}. Best is trial 519 with value: -0.00613998788448157.\u001b[0m\n",
      "\u001b[32m[I 2022-07-24 18:08:37,878]\u001b[0m Trial 549 finished with value: -0.006308757525096849 and parameters: {'kernel': 'rbf', 'C': 0.03724046031844972, 'gamma': 0.07448291864157568, 'epsilon': 0.001153705890560232}. Best is trial 519 with value: -0.00613998788448157.\u001b[0m\n",
      "\u001b[32m[I 2022-07-24 18:08:38,151]\u001b[0m Trial 550 finished with value: -0.0062011472527232075 and parameters: {'kernel': 'rbf', 'C': 0.018639227744412977, 'gamma': 0.09213398918013326, 'epsilon': 0.0015803282917096213}. Best is trial 519 with value: -0.00613998788448157.\u001b[0m\n",
      "\u001b[32m[I 2022-07-24 18:08:38,345]\u001b[0m Trial 551 finished with value: -0.006187530350226563 and parameters: {'kernel': 'rbf', 'C': 0.015483874666360435, 'gamma': 0.047713509705906695, 'epsilon': 0.0022109113417441277}. Best is trial 519 with value: -0.00613998788448157.\u001b[0m\n",
      "\u001b[32m[I 2022-07-24 18:08:38,484]\u001b[0m Trial 552 finished with value: -0.006265760318622975 and parameters: {'kernel': 'rbf', 'C': 0.013768387328689732, 'gamma': 0.0651149210987791, 'epsilon': 0.0034767239348908628}. Best is trial 519 with value: -0.00613998788448157.\u001b[0m\n",
      "\u001b[32m[I 2022-07-24 18:08:38,675]\u001b[0m Trial 553 finished with value: -0.006189216972550298 and parameters: {'kernel': 'rbf', 'C': 0.021862566804600334, 'gamma': 0.08141978501831582, 'epsilon': 0.0018192489373591127}. Best is trial 519 with value: -0.00613998788448157.\u001b[0m\n",
      "\u001b[32m[I 2022-07-24 18:08:38,862]\u001b[0m Trial 554 finished with value: -0.006198997452415612 and parameters: {'kernel': 'rbf', 'C': 0.011438351167468962, 'gamma': 0.056626413947045255, 'epsilon': 0.0024912606378893333}. Best is trial 519 with value: -0.00613998788448157.\u001b[0m\n",
      "\u001b[32m[I 2022-07-24 18:08:39,060]\u001b[0m Trial 555 finished with value: -0.006182167819154611 and parameters: {'kernel': 'rbf', 'C': 0.016953071398062892, 'gamma': 0.0967488412538309, 'epsilon': 0.002041797010643702}. Best is trial 519 with value: -0.00613998788448157.\u001b[0m\n",
      "\u001b[32m[I 2022-07-24 18:08:39,191]\u001b[0m Trial 556 finished with value: -0.006232625656079293 and parameters: {'kernel': 'rbf', 'C': 0.010136557582884665, 'gamma': 0.11431903053184032, 'epsilon': 0.002701165359225031}. Best is trial 519 with value: -0.00613998788448157.\u001b[0m\n",
      "\u001b[32m[I 2022-07-24 18:08:39,382]\u001b[0m Trial 557 finished with value: -0.006169037984810218 and parameters: {'kernel': 'rbf', 'C': 0.012601814890900573, 'gamma': 0.07314450580633122, 'epsilon': 0.0016866735114658708}. Best is trial 519 with value: -0.00613998788448157.\u001b[0m\n"
     ]
    },
    {
     "name": "stderr",
     "output_type": "stream",
     "text": [
      "\u001b[32m[I 2022-07-24 18:08:39,585]\u001b[0m Trial 558 finished with value: -0.006151491451815181 and parameters: {'kernel': 'rbf', 'C': 0.014775057388620517, 'gamma': 0.08396865337300292, 'epsilon': 0.002193842042657291}. Best is trial 519 with value: -0.00613998788448157.\u001b[0m\n",
      "\u001b[32m[I 2022-07-24 18:08:39,769]\u001b[0m Trial 559 finished with value: -0.006922987282549188 and parameters: {'kernel': 'poly', 'C': 0.010010067495428413, 'gamma': 0.04058923697468004, 'epsilon': 0.0019606724216698814}. Best is trial 519 with value: -0.00613998788448157.\u001b[0m\n",
      "\u001b[32m[I 2022-07-24 18:08:39,962]\u001b[0m Trial 560 finished with value: -0.006179617526255936 and parameters: {'kernel': 'rbf', 'C': 0.01754629632700729, 'gamma': 0.06314649165928148, 'epsilon': 0.0013881022954599148}. Best is trial 519 with value: -0.00613998788448157.\u001b[0m\n",
      "\u001b[32m[I 2022-07-24 18:08:40,100]\u001b[0m Trial 561 finished with value: -0.006183166896344291 and parameters: {'kernel': 'rbf', 'C': 0.019107399683617424, 'gamma': 0.053241662425203506, 'epsilon': 0.0029175944931467183}. Best is trial 519 with value: -0.00613998788448157.\u001b[0m\n",
      "\u001b[32m[I 2022-07-24 18:08:40,240]\u001b[0m Trial 562 finished with value: -0.006199842160534974 and parameters: {'kernel': 'rbf', 'C': 0.02459373451320914, 'gamma': 0.07197219512342716, 'epsilon': 0.0023507060586153415}. Best is trial 519 with value: -0.00613998788448157.\u001b[0m\n",
      "\u001b[32m[I 2022-07-24 18:08:40,415]\u001b[0m Trial 563 finished with value: -0.006171678349627907 and parameters: {'kernel': 'rbf', 'C': 0.013850546980580303, 'gamma': 0.0861551666690118, 'epsilon': 0.001632754580039535}. Best is trial 519 with value: -0.00613998788448157.\u001b[0m\n",
      "\u001b[32m[I 2022-07-24 18:08:40,641]\u001b[0m Trial 564 finished with value: -0.006150985735159112 and parameters: {'kernel': 'rbf', 'C': 0.01630770110147352, 'gamma': 0.06101345165438506, 'epsilon': 0.001981246196934585}. Best is trial 519 with value: -0.00613998788448157.\u001b[0m\n",
      "\u001b[32m[I 2022-07-24 18:08:40,753]\u001b[0m Trial 565 finished with value: -0.006228868752309838 and parameters: {'kernel': 'rbf', 'C': 0.012476098552942079, 'gamma': 0.1328310304976278, 'epsilon': 0.0023604046854060665}. Best is trial 519 with value: -0.00613998788448157.\u001b[0m\n",
      "\u001b[32m[I 2022-07-24 18:08:40,860]\u001b[0m Trial 566 finished with value: -0.006223601669791914 and parameters: {'kernel': 'rbf', 'C': 0.014357510620450434, 'gamma': 0.10512598495634239, 'epsilon': 0.0026907068086155545}. Best is trial 519 with value: -0.00613998788448157.\u001b[0m\n",
      "\u001b[32m[I 2022-07-24 18:08:40,974]\u001b[0m Trial 567 finished with value: -0.006168682405747655 and parameters: {'kernel': 'rbf', 'C': 0.011497486043112702, 'gamma': 0.0709892376797723, 'epsilon': 0.0018447936662087745}. Best is trial 519 with value: -0.00613998788448157.\u001b[0m\n",
      "\u001b[32m[I 2022-07-24 18:08:41,113]\u001b[0m Trial 568 finished with value: -0.006216608777940611 and parameters: {'kernel': 'rbf', 'C': 0.020261074582514343, 'gamma': 0.09319782090200633, 'epsilon': 0.0014880855258738853}. Best is trial 519 with value: -0.00613998788448157.\u001b[0m\n",
      "\u001b[32m[I 2022-07-24 18:08:41,230]\u001b[0m Trial 569 finished with value: -0.006146785755410861 and parameters: {'kernel': 'rbf', 'C': 0.015772743997008693, 'gamma': 0.07931200279394925, 'epsilon': 0.002189090994348682}. Best is trial 519 with value: -0.00613998788448157.\u001b[0m\n",
      "\u001b[32m[I 2022-07-24 18:08:41,331]\u001b[0m Trial 570 finished with value: -0.006268031042818839 and parameters: {'kernel': 'rbf', 'C': 0.012989850819390724, 'gamma': 0.08161171023103994, 'epsilon': 0.0034168363376277508}. Best is trial 519 with value: -0.00613998788448157.\u001b[0m\n",
      "\u001b[32m[I 2022-07-24 18:08:41,470]\u001b[0m Trial 571 finished with value: -0.006233162793392964 and parameters: {'kernel': 'rbf', 'C': 0.015428756164777022, 'gamma': 0.11716854216560106, 'epsilon': 0.0023615588496526552}. Best is trial 519 with value: -0.00613998788448157.\u001b[0m\n",
      "\u001b[32m[I 2022-07-24 18:08:41,519]\u001b[0m Trial 572 finished with value: -0.03564469137116575 and parameters: {'kernel': 'rbf', 'C': 0.011196168773694162, 'gamma': 0.09969048987847222, 'epsilon': 0.5206464919693508}. Best is trial 519 with value: -0.00613998788448157.\u001b[0m\n",
      "\u001b[32m[I 2022-07-24 18:08:41,621]\u001b[0m Trial 573 finished with value: -0.006181592187666558 and parameters: {'kernel': 'rbf', 'C': 0.014436326887294397, 'gamma': 0.08165660972775292, 'epsilon': 0.0027902924224488764}. Best is trial 519 with value: -0.00613998788448157.\u001b[0m\n",
      "\u001b[32m[I 2022-07-24 18:08:41,740]\u001b[0m Trial 574 finished with value: -0.006183461457984486 and parameters: {'kernel': 'rbf', 'C': 0.016453737690872522, 'gamma': 0.0928401980298531, 'epsilon': 0.002167430805379448}. Best is trial 519 with value: -0.00613998788448157.\u001b[0m\n",
      "\u001b[32m[I 2022-07-24 18:08:41,870]\u001b[0m Trial 575 finished with value: -0.006175204391541939 and parameters: {'kernel': 'rbf', 'C': 0.010047032576258075, 'gamma': 0.07532004608765985, 'epsilon': 0.0017363595936466215}. Best is trial 519 with value: -0.00613998788448157.\u001b[0m\n",
      "\u001b[32m[I 2022-07-24 18:08:41,971]\u001b[0m Trial 576 finished with value: -0.006196197622907687 and parameters: {'kernel': 'rbf', 'C': 0.012542826155379914, 'gamma': 0.06850842187500271, 'epsilon': 0.0029712504494704135}. Best is trial 519 with value: -0.00613998788448157.\u001b[0m\n",
      "\u001b[32m[I 2022-07-24 18:08:42,099]\u001b[0m Trial 577 finished with value: -0.006214750043182467 and parameters: {'kernel': 'rbf', 'C': 0.01472222987316319, 'gamma': 0.10837836210769963, 'epsilon': 0.0025082024338539317}. Best is trial 519 with value: -0.00613998788448157.\u001b[0m\n",
      "\u001b[32m[I 2022-07-24 18:08:42,370]\u001b[0m Trial 578 finished with value: -0.007363906614232061 and parameters: {'kernel': 'rbf', 'C': 0.9851398596218872, 'gamma': 0.08703792546648488, 'epsilon': 0.002090647420350043}. Best is trial 519 with value: -0.00613998788448157.\u001b[0m\n",
      "\u001b[32m[I 2022-07-24 18:08:42,495]\u001b[0m Trial 579 finished with value: -0.006174082601569128 and parameters: {'kernel': 'rbf', 'C': 0.019548983746637872, 'gamma': 0.07564432225887453, 'epsilon': 0.001875216865119394}. Best is trial 519 with value: -0.00613998788448157.\u001b[0m\n",
      "\u001b[32m[I 2022-07-24 18:08:42,600]\u001b[0m Trial 580 finished with value: -0.0061535570426129544 and parameters: {'kernel': 'rbf', 'C': 0.01274034744667091, 'gamma': 0.09050502406923829, 'epsilon': 0.002298934242183865}. Best is trial 519 with value: -0.00613998788448157.\u001b[0m\n",
      "\u001b[32m[I 2022-07-24 18:08:42,728]\u001b[0m Trial 581 finished with value: -0.006517048806717951 and parameters: {'kernel': 'rbf', 'C': 0.017622305932255104, 'gamma': 0.06779617577886204, 'epsilon': 0.004851125650555949}. Best is trial 519 with value: -0.00613998788448157.\u001b[0m\n",
      "\u001b[32m[I 2022-07-24 18:08:42,929]\u001b[0m Trial 582 finished with value: -0.006175691591763628 and parameters: {'kernel': 'rbf', 'C': 0.015460399711996977, 'gamma': 0.07584294242815842, 'epsilon': 0.0016019029912445997}. Best is trial 519 with value: -0.00613998788448157.\u001b[0m\n",
      "\u001b[32m[I 2022-07-24 18:08:43,091]\u001b[0m Trial 583 finished with value: -0.006191795001907227 and parameters: {'kernel': 'rbf', 'C': 0.010028377665648017, 'gamma': 0.10069863236648693, 'epsilon': 0.002568283984154573}. Best is trial 519 with value: -0.00613998788448157.\u001b[0m\n",
      "\u001b[32m[I 2022-07-24 18:08:43,315]\u001b[0m Trial 584 finished with value: -0.006177884727189949 and parameters: {'kernel': 'rbf', 'C': 0.01190334584065349, 'gamma': 0.062019748802278334, 'epsilon': 0.002032043179365966}. Best is trial 519 with value: -0.00613998788448157.\u001b[0m\n",
      "\u001b[32m[I 2022-07-24 18:08:43,470]\u001b[0m Trial 585 finished with value: -0.006485196197627619 and parameters: {'kernel': 'rbf', 'C': 0.06311204857058281, 'gamma': 0.08246949253006475, 'epsilon': 0.003179853762445395}. Best is trial 519 with value: -0.00613998788448157.\u001b[0m\n",
      "\u001b[32m[I 2022-07-24 18:08:43,581]\u001b[0m Trial 586 finished with value: -0.006315722586498693 and parameters: {'kernel': 'rbf', 'C': 0.013793112219102623, 'gamma': 0.05419669473783898, 'epsilon': 0.003868368058661752}. Best is trial 519 with value: -0.00613998788448157.\u001b[0m\n",
      "\u001b[32m[I 2022-07-24 18:08:43,940]\u001b[0m Trial 587 finished with value: -0.006791245624607703 and parameters: {'kernel': 'poly', 'C': 0.016008396788371893, 'gamma': 0.12054117163591625, 'epsilon': 0.001769755958114987}. Best is trial 519 with value: -0.00613998788448157.\u001b[0m\n",
      "\u001b[32m[I 2022-07-24 18:08:44,130]\u001b[0m Trial 588 finished with value: -0.006174445145573498 and parameters: {'kernel': 'rbf', 'C': 0.022069247328005425, 'gamma': 0.0674807629305609, 'epsilon': 0.0022758613519048196}. Best is trial 519 with value: -0.00613998788448157.\u001b[0m\n"
     ]
    },
    {
     "name": "stderr",
     "output_type": "stream",
     "text": [
      "\u001b[32m[I 2022-07-24 18:08:44,362]\u001b[0m Trial 589 finished with value: -0.006216886376451497 and parameters: {'kernel': 'rbf', 'C': 0.018382434978233955, 'gamma': 0.09264832267786022, 'epsilon': 0.0013651583959821045}. Best is trial 519 with value: -0.00613998788448157.\u001b[0m\n",
      "\u001b[32m[I 2022-07-24 18:08:44,691]\u001b[0m Trial 590 finished with value: -0.007880353495220127 and parameters: {'kernel': 'rbf', 'C': 1.918380388225926, 'gamma': 0.07697064957336693, 'epsilon': 0.0020100332442555342}. Best is trial 519 with value: -0.00613998788448157.\u001b[0m\n",
      "\u001b[32m[I 2022-07-24 18:08:44,801]\u001b[0m Trial 591 finished with value: -0.006239757318812017 and parameters: {'kernel': 'rbf', 'C': 0.01154332326523871, 'gamma': 0.04495133763812076, 'epsilon': 0.002601408746208901}. Best is trial 519 with value: -0.00613998788448157.\u001b[0m\n",
      "\u001b[32m[I 2022-07-24 18:08:45,573]\u001b[0m Trial 592 finished with value: -0.008178876484259875 and parameters: {'kernel': 'rbf', 'C': 8.298965096071122, 'gamma': 0.05767521439527143, 'epsilon': 0.0016945601232375243}. Best is trial 519 with value: -0.00613998788448157.\u001b[0m\n",
      "\u001b[32m[I 2022-07-24 18:08:45,684]\u001b[0m Trial 593 finished with value: -0.006137730482857886 and parameters: {'kernel': 'rbf', 'C': 0.01296820960310612, 'gamma': 0.08282981640492267, 'epsilon': 0.0022204111663997887}. Best is trial 593 with value: -0.006137730482857886.\u001b[0m\n",
      "\u001b[32m[I 2022-07-24 18:08:45,812]\u001b[0m Trial 594 finished with value: -0.006700670305065507 and parameters: {'kernel': 'rbf', 'C': 0.01097857543740131, 'gamma': 0.00865977262850493, 'epsilon': 0.0018680009810967564}. Best is trial 593 with value: -0.006137730482857886.\u001b[0m\n",
      "\u001b[32m[I 2022-07-24 18:08:45,911]\u001b[0m Trial 595 finished with value: -0.006241815443543301 and parameters: {'kernel': 'rbf', 'C': 0.01341117690547459, 'gamma': 0.10649831896372534, 'epsilon': 0.002872078262041914}. Best is trial 593 with value: -0.006137730482857886.\u001b[0m\n",
      "\u001b[32m[I 2022-07-24 18:08:46,032]\u001b[0m Trial 596 finished with value: -0.006223627183000819 and parameters: {'kernel': 'rbf', 'C': 0.012591343932385465, 'gamma': 0.13797414185874252, 'epsilon': 0.0015123533385687268}. Best is trial 593 with value: -0.006137730482857886.\u001b[0m\n",
      "\u001b[32m[I 2022-07-24 18:08:46,148]\u001b[0m Trial 597 finished with value: -0.006168579357153536 and parameters: {'kernel': 'rbf', 'C': 0.016299232349250934, 'gamma': 0.08906168899909796, 'epsilon': 0.002196080136450052}. Best is trial 593 with value: -0.006137730482857886.\u001b[0m\n",
      "\u001b[32m[I 2022-07-24 18:08:46,300]\u001b[0m Trial 598 finished with value: -0.006186397896262033 and parameters: {'kernel': 'rbf', 'C': 0.014186373240843748, 'gamma': 0.09997313640908545, 'epsilon': 0.0024139754571152906}. Best is trial 593 with value: -0.006137730482857886.\u001b[0m\n",
      "\u001b[32m[I 2022-07-24 18:08:46,460]\u001b[0m Trial 599 finished with value: -0.006173633915536291 and parameters: {'kernel': 'rbf', 'C': 0.010118049918729883, 'gamma': 0.07981341595505857, 'epsilon': 0.00198841012061366}. Best is trial 593 with value: -0.006137730482857886.\u001b[0m\n",
      "\u001b[32m[I 2022-07-24 18:08:46,691]\u001b[0m Trial 600 finished with value: -0.006182685931851644 and parameters: {'kernel': 'rbf', 'C': 0.01858192671825898, 'gamma': 0.08683133052537093, 'epsilon': 0.0017298151032638803}. Best is trial 593 with value: -0.006137730482857886.\u001b[0m\n",
      "\u001b[32m[I 2022-07-24 18:08:46,790]\u001b[0m Trial 601 finished with value: -0.006226753812608459 and parameters: {'kernel': 'rbf', 'C': 0.01142840838023157, 'gamma': 0.11362608012422663, 'epsilon': 0.002659426594611912}. Best is trial 593 with value: -0.006137730482857886.\u001b[0m\n",
      "\u001b[32m[I 2022-07-24 18:08:46,910]\u001b[0m Trial 602 finished with value: -0.0061527974435145495 and parameters: {'kernel': 'rbf', 'C': 0.015649350077321645, 'gamma': 0.06989686712345532, 'epsilon': 0.002169189334964558}. Best is trial 593 with value: -0.006137730482857886.\u001b[0m\n",
      "\u001b[32m[I 2022-07-24 18:08:47,050]\u001b[0m Trial 603 finished with value: -0.006196665903531442 and parameters: {'kernel': 'rbf', 'C': 0.021047214144547074, 'gamma': 0.09498820613748668, 'epsilon': 0.0019042582026047514}. Best is trial 593 with value: -0.006137730482857886.\u001b[0m\n",
      "\u001b[32m[I 2022-07-24 18:08:47,242]\u001b[0m Trial 604 finished with value: -0.006171927009954822 and parameters: {'kernel': 'rbf', 'C': 0.013131960614756088, 'gamma': 0.0790910426082554, 'epsilon': 0.0011843394857272672}. Best is trial 593 with value: -0.006137730482857886.\u001b[0m\n",
      "\u001b[32m[I 2022-07-24 18:08:47,375]\u001b[0m Trial 605 finished with value: -0.006209741513799108 and parameters: {'kernel': 'rbf', 'C': 0.017502278613238765, 'gamma': 0.06378660889877752, 'epsilon': 0.0030894107680742807}. Best is trial 593 with value: -0.006137730482857886.\u001b[0m\n",
      "\u001b[32m[I 2022-07-24 18:08:47,520]\u001b[0m Trial 606 finished with value: -0.006226585250901313 and parameters: {'kernel': 'rbf', 'C': 0.02517130366058071, 'gamma': 0.08122223684216662, 'epsilon': 0.002480824041556524}. Best is trial 593 with value: -0.006137730482857886.\u001b[0m\n",
      "\u001b[32m[I 2022-07-24 18:08:47,690]\u001b[0m Trial 607 finished with value: -0.006206780860252562 and parameters: {'kernel': 'rbf', 'C': 0.014305728142832704, 'gamma': 0.04893744878556325, 'epsilon': 0.0016064550433110363}. Best is trial 593 with value: -0.006137730482857886.\u001b[0m\n",
      "\u001b[32m[I 2022-07-24 18:08:47,891]\u001b[0m Trial 608 finished with value: -0.007208625379060721 and parameters: {'kernel': 'rbf', 'C': 0.3415838246293271, 'gamma': 0.22592390229194168, 'epsilon': 0.0021543745630532712}. Best is trial 593 with value: -0.006137730482857886.\u001b[0m\n",
      "\u001b[32m[I 2022-07-24 18:08:48,010]\u001b[0m Trial 609 finished with value: -0.006161267000113332 and parameters: {'kernel': 'rbf', 'C': 0.01163053957767657, 'gamma': 0.10257888536484469, 'epsilon': 0.0018652440766944456}. Best is trial 593 with value: -0.006137730482857886.\u001b[0m\n",
      "\u001b[32m[I 2022-07-24 18:08:48,205]\u001b[0m Trial 610 finished with value: -0.006255544784915219 and parameters: {'kernel': 'rbf', 'C': 0.015519514537294998, 'gamma': 0.1677058363795948, 'epsilon': 0.0014410535899756188}. Best is trial 593 with value: -0.006137730482857886.\u001b[0m\n",
      "\u001b[32m[I 2022-07-24 18:08:48,345]\u001b[0m Trial 611 finished with value: -0.006160862990342704 and parameters: {'kernel': 'rbf', 'C': 0.012675891068944796, 'gamma': 0.06886420457872132, 'epsilon': 0.0024107458995208065}. Best is trial 593 with value: -0.006137730482857886.\u001b[0m\n",
      "\u001b[32m[I 2022-07-24 18:08:48,522]\u001b[0m Trial 612 finished with value: -0.0068970409918829925 and parameters: {'kernel': 'rbf', 'C': 0.2328276610824768, 'gamma': 0.08723067595606059, 'epsilon': 0.0021030339452707612}. Best is trial 593 with value: -0.006137730482857886.\u001b[0m\n",
      "\u001b[32m[I 2022-07-24 18:08:48,631]\u001b[0m Trial 613 finished with value: -0.006161666433453762 and parameters: {'kernel': 'rbf', 'C': 0.017459167908887085, 'gamma': 0.060479695902405164, 'epsilon': 0.0026806298820310085}. Best is trial 593 with value: -0.006137730482857886.\u001b[0m\n",
      "\u001b[32m[I 2022-07-24 18:08:48,764]\u001b[0m Trial 614 finished with value: -0.006247438878778042 and parameters: {'kernel': 'rbf', 'C': 0.02069068883905367, 'gamma': 0.12429084576659448, 'epsilon': 0.001738958891131454}. Best is trial 593 with value: -0.006137730482857886.\u001b[0m\n",
      "\u001b[32m[I 2022-07-24 18:08:48,942]\u001b[0m Trial 615 finished with value: -0.006788456718334994 and parameters: {'kernel': 'poly', 'C': 0.010062562833732408, 'gamma': 0.07667220896303553, 'epsilon': 0.0023592096981205285}. Best is trial 593 with value: -0.006137730482857886.\u001b[0m\n",
      "\u001b[32m[I 2022-07-24 18:08:49,147]\u001b[0m Trial 616 finished with value: -0.006249193157465492 and parameters: {'kernel': 'rbf', 'C': 0.03131639619924096, 'gamma': 0.05300007197954086, 'epsilon': 0.0029800547084635094}. Best is trial 593 with value: -0.006137730482857886.\u001b[0m\n",
      "\u001b[32m[I 2022-07-24 18:08:49,239]\u001b[0m Trial 617 finished with value: -0.01842853754691056 and parameters: {'kernel': 'rbf', 'C': 0.014428876671095074, 'gamma': 0.09195979937120319, 'epsilon': 0.022013410573705636}. Best is trial 593 with value: -0.006137730482857886.\u001b[0m\n",
      "\u001b[32m[I 2022-07-24 18:08:49,637]\u001b[0m Trial 618 finished with value: -0.006176855119983474 and parameters: {'kernel': 'rbf', 'C': 0.011356353179770573, 'gamma': 0.07169758348639343, 'epsilon': 0.001981648076832706}. Best is trial 593 with value: -0.006137730482857886.\u001b[0m\n",
      "\u001b[32m[I 2022-07-24 18:08:49,967]\u001b[0m Trial 619 finished with value: -0.006176325303329851 and parameters: {'kernel': 'rbf', 'C': 0.016598647119348896, 'gamma': 0.06282231783696933, 'epsilon': 0.0015290277970462236}. Best is trial 593 with value: -0.006137730482857886.\u001b[0m\n"
     ]
    },
    {
     "name": "stderr",
     "output_type": "stream",
     "text": [
      "\u001b[32m[I 2022-07-24 18:08:50,289]\u001b[0m Trial 620 finished with value: -0.006172340268494335 and parameters: {'kernel': 'rbf', 'C': 0.018670188451514885, 'gamma': 0.07856601870791453, 'epsilon': 0.0021878613788986565}. Best is trial 593 with value: -0.006137730482857886.\u001b[0m\n",
      "\u001b[32m[I 2022-07-24 18:08:50,713]\u001b[0m Trial 621 finished with value: -0.006171075807296834 and parameters: {'kernel': 'rbf', 'C': 0.013234620211330867, 'gamma': 0.09843082821038415, 'epsilon': 0.001758822508337214}. Best is trial 593 with value: -0.006137730482857886.\u001b[0m\n",
      "\u001b[32m[I 2022-07-24 18:08:50,998]\u001b[0m Trial 622 finished with value: -0.0061669000653894815 and parameters: {'kernel': 'rbf', 'C': 0.014853824702035964, 'gamma': 0.07004922024270782, 'epsilon': 0.0025298605663960283}. Best is trial 593 with value: -0.006137730482857886.\u001b[0m\n",
      "\u001b[32m[I 2022-07-24 18:08:51,220]\u001b[0m Trial 623 finished with value: -0.006705864707564405 and parameters: {'kernel': 'rbf', 'C': 0.10007915869309453, 'gamma': 0.11004718599683389, 'epsilon': 0.001971223938117782}. Best is trial 593 with value: -0.006137730482857886.\u001b[0m\n",
      "\u001b[32m[I 2022-07-24 18:08:51,472]\u001b[0m Trial 624 finished with value: -0.006165291574014176 and parameters: {'kernel': 'rbf', 'C': 0.012537328449591382, 'gamma': 0.058940824183671414, 'epsilon': 0.002306149505953259}. Best is trial 593 with value: -0.006137730482857886.\u001b[0m\n",
      "\u001b[32m[I 2022-07-24 18:08:51,642]\u001b[0m Trial 625 finished with value: -0.006264166438395234 and parameters: {'kernel': 'rbf', 'C': 0.010083743258554191, 'gamma': 0.08959801135391106, 'epsilon': 0.003300402161187493}. Best is trial 593 with value: -0.006137730482857886.\u001b[0m\n",
      "\u001b[32m[I 2022-07-24 18:08:51,783]\u001b[0m Trial 626 finished with value: -0.006238229787281721 and parameters: {'kernel': 'rbf', 'C': 0.022856109047550373, 'gamma': 0.08300623708852788, 'epsilon': 0.0028531829523961677}. Best is trial 593 with value: -0.006137730482857886.\u001b[0m\n",
      "\u001b[32m[I 2022-07-24 18:08:52,132]\u001b[0m Trial 627 finished with value: -0.0061842163124178895 and parameters: {'kernel': 'rbf', 'C': 0.01626509239931012, 'gamma': 0.05295188006988887, 'epsilon': 0.001688918206766864}. Best is trial 593 with value: -0.006137730482857886.\u001b[0m\n",
      "\u001b[32m[I 2022-07-24 18:08:52,534]\u001b[0m Trial 628 finished with value: -0.006153514941219345 and parameters: {'kernel': 'rbf', 'C': 0.014004355627763018, 'gamma': 0.06668240887514978, 'epsilon': 0.0019946539018862054}. Best is trial 593 with value: -0.006137730482857886.\u001b[0m\n",
      "\u001b[32m[I 2022-07-24 18:08:52,737]\u001b[0m Trial 629 finished with value: -0.006182888928587811 and parameters: {'kernel': 'rbf', 'C': 0.019379155101026373, 'gamma': 0.072440744404699, 'epsilon': 0.0013213880930108834}. Best is trial 593 with value: -0.006137730482857886.\u001b[0m\n",
      "\u001b[32m[I 2022-07-24 18:08:52,912]\u001b[0m Trial 630 finished with value: -0.0061646726575194264 and parameters: {'kernel': 'rbf', 'C': 0.011172461131438695, 'gamma': 0.08056631931547391, 'epsilon': 0.0024366336039701856}. Best is trial 593 with value: -0.006137730482857886.\u001b[0m\n",
      "\u001b[32m[I 2022-07-24 18:08:53,079]\u001b[0m Trial 631 finished with value: -0.006187949900200294 and parameters: {'kernel': 'rbf', 'C': 0.01588238714767038, 'gamma': 0.10196236469419574, 'epsilon': 0.0021052430124134515}. Best is trial 593 with value: -0.006137730482857886.\u001b[0m\n",
      "\u001b[32m[I 2022-07-24 18:08:53,259]\u001b[0m Trial 632 finished with value: -0.006303045842423152 and parameters: {'kernel': 'rbf', 'C': 0.013084324482733427, 'gamma': 0.027009408645038598, 'epsilon': 0.0018213972115495253}. Best is trial 593 with value: -0.006137730482857886.\u001b[0m\n",
      "\u001b[32m[I 2022-07-24 18:08:53,390]\u001b[0m Trial 633 finished with value: -0.006161658979439186 and parameters: {'kernel': 'rbf', 'C': 0.017861951665429886, 'gamma': 0.06071780779477611, 'epsilon': 0.0027057900638565785}. Best is trial 593 with value: -0.006137730482857886.\u001b[0m\n",
      "\u001b[32m[I 2022-07-24 18:08:53,545]\u001b[0m Trial 634 finished with value: -0.0062493857041135545 and parameters: {'kernel': 'rbf', 'C': 0.011919234002079872, 'gamma': 0.04357479149253957, 'epsilon': 0.0015683789566314247}. Best is trial 593 with value: -0.006137730482857886.\u001b[0m\n",
      "\u001b[32m[I 2022-07-24 18:08:53,660]\u001b[0m Trial 635 finished with value: -0.006164153807461831 and parameters: {'kernel': 'rbf', 'C': 0.01453003345561785, 'gamma': 0.08917503225973589, 'epsilon': 0.002282437141570183}. Best is trial 593 with value: -0.006137730482857886.\u001b[0m\n",
      "\u001b[32m[I 2022-07-24 18:08:53,801]\u001b[0m Trial 636 finished with value: -0.006206478027136455 and parameters: {'kernel': 'rbf', 'C': 0.020956195960058325, 'gamma': 0.035380787693511585, 'epsilon': 0.00194149108782627}. Best is trial 593 with value: -0.006137730482857886.\u001b[0m\n",
      "\u001b[32m[I 2022-07-24 18:08:53,930]\u001b[0m Trial 637 finished with value: -0.00615260215848398 and parameters: {'kernel': 'rbf', 'C': 0.015955359162970837, 'gamma': 0.07370549293265231, 'epsilon': 0.0022446322601446652}. Best is trial 593 with value: -0.006137730482857886.\u001b[0m\n",
      "\u001b[32m[I 2022-07-24 18:08:54,041]\u001b[0m Trial 638 finished with value: -0.0062082516704068105 and parameters: {'kernel': 'rbf', 'C': 0.012973543893529579, 'gamma': 0.04987276667397822, 'epsilon': 0.0027074746243264383}. Best is trial 593 with value: -0.006137730482857886.\u001b[0m\n",
      "\u001b[32m[I 2022-07-24 18:08:54,171]\u001b[0m Trial 639 finished with value: -0.006231415910156853 and parameters: {'kernel': 'rbf', 'C': 0.01807206023998513, 'gamma': 0.1208166527345262, 'epsilon': 0.001673096340871457}. Best is trial 593 with value: -0.006137730482857886.\u001b[0m\n",
      "\u001b[32m[I 2022-07-24 18:08:54,261]\u001b[0m Trial 640 finished with value: -0.006325837669414399 and parameters: {'kernel': 'rbf', 'C': 0.011026765665774345, 'gamma': 0.06453202515597971, 'epsilon': 0.0038358469185438837}. Best is trial 593 with value: -0.006137730482857886.\u001b[0m\n",
      "\u001b[32m[I 2022-07-24 18:08:54,400]\u001b[0m Trial 641 finished with value: -0.006154703090026137 and parameters: {'kernel': 'rbf', 'C': 0.01434659066104815, 'gamma': 0.08193735257590934, 'epsilon': 0.0019765090122686748}. Best is trial 593 with value: -0.006137730482857886.\u001b[0m\n",
      "\u001b[32m[I 2022-07-24 18:08:54,551]\u001b[0m Trial 642 finished with value: -0.0061931176395559505 and parameters: {'kernel': 'rbf', 'C': 0.023457267311586486, 'gamma': 0.05611996301235056, 'epsilon': 0.0014101248558879877}. Best is trial 593 with value: -0.006137730482857886.\u001b[0m\n",
      "\u001b[32m[I 2022-07-24 18:08:54,661]\u001b[0m Trial 643 finished with value: -0.006198652396117026 and parameters: {'kernel': 'rbf', 'C': 0.015971549728633554, 'gamma': 0.09513170376144872, 'epsilon': 0.0024716606184793243}. Best is trial 593 with value: -0.006137730482857886.\u001b[0m\n",
      "\u001b[32m[I 2022-07-24 18:08:54,805]\u001b[0m Trial 644 finished with value: -0.006747510254879514 and parameters: {'kernel': 'poly', 'C': 0.010165997561986136, 'gamma': 0.07265424965606386, 'epsilon': 0.00317090525406899}. Best is trial 593 with value: -0.006137730482857886.\u001b[0m\n",
      "\u001b[32m[I 2022-07-24 18:08:55,109]\u001b[0m Trial 645 finished with value: -0.007187841616869827 and parameters: {'kernel': 'rbf', 'C': 0.5539290407475439, 'gamma': 0.10866586200172394, 'epsilon': 0.0018084130366295152}. Best is trial 593 with value: -0.006137730482857886.\u001b[0m\n",
      "\u001b[32m[I 2022-07-24 18:08:55,231]\u001b[0m Trial 646 finished with value: -0.006157078550113001 and parameters: {'kernel': 'rbf', 'C': 0.012712661146450355, 'gamma': 0.0657843456032213, 'epsilon': 0.0021331873986626896}. Best is trial 593 with value: -0.006137730482857886.\u001b[0m\n",
      "\u001b[32m[I 2022-07-24 18:08:55,384]\u001b[0m Trial 647 finished with value: -0.0061917304898340434 and parameters: {'kernel': 'rbf', 'C': 0.01945405455048304, 'gamma': 0.08622277232415267, 'epsilon': 0.0024683247589556575}. Best is trial 593 with value: -0.006137730482857886.\u001b[0m\n",
      "\u001b[32m[I 2022-07-24 18:08:55,622]\u001b[0m Trial 648 finished with value: -0.0061655566309030095 and parameters: {'kernel': 'rbf', 'C': 0.014105367121340766, 'gamma': 0.07635886753945596, 'epsilon': 0.0015533004311064614}. Best is trial 593 with value: -0.006137730482857886.\u001b[0m\n",
      "\u001b[32m[I 2022-07-24 18:08:55,807]\u001b[0m Trial 649 finished with value: -0.0061663936438941585 and parameters: {'kernel': 'rbf', 'C': 0.017157549483128524, 'gamma': 0.056594040305994416, 'epsilon': 0.002123676684224491}. Best is trial 593 with value: -0.006137730482857886.\u001b[0m\n",
      "\u001b[32m[I 2022-07-24 18:08:56,029]\u001b[0m Trial 650 finished with value: -0.006223786443773836 and parameters: {'kernel': 'rbf', 'C': 0.011282914504684842, 'gamma': 0.09207570861534058, 'epsilon': 0.0029180611598079546}. Best is trial 593 with value: -0.006137730482857886.\u001b[0m\n"
     ]
    },
    {
     "name": "stderr",
     "output_type": "stream",
     "text": [
      "\u001b[32m[I 2022-07-24 18:08:56,202]\u001b[0m Trial 651 finished with value: -0.006149774783295438 and parameters: {'kernel': 'rbf', 'C': 0.015325083993895369, 'gamma': 0.06417167242114112, 'epsilon': 0.0017547480452950047}. Best is trial 593 with value: -0.006137730482857886.\u001b[0m\n",
      "\u001b[32m[I 2022-07-24 18:08:56,335]\u001b[0m Trial 652 finished with value: -0.006218806209415719 and parameters: {'kernel': 'rbf', 'C': 0.012446642184730225, 'gamma': 0.04897435435549626, 'epsilon': 0.0019562691272469557}. Best is trial 593 with value: -0.006137730482857886.\u001b[0m\n",
      "\u001b[32m[I 2022-07-24 18:08:56,456]\u001b[0m Trial 653 finished with value: -0.0061670664804583135 and parameters: {'kernel': 'rbf', 'C': 0.010106489156595592, 'gamma': 0.07785592083619304, 'epsilon': 0.0024272458719257674}. Best is trial 593 with value: -0.006137730482857886.\u001b[0m\n",
      "\u001b[32m[I 2022-07-24 18:08:57,040]\u001b[0m Trial 654 finished with value: -0.007985730929135822 and parameters: {'kernel': 'rbf', 'C': 4.297063740426744, 'gamma': 0.1056911466147049, 'epsilon': 0.0012615100420236012}. Best is trial 593 with value: -0.006137730482857886.\u001b[0m\n",
      "\u001b[32m[I 2022-07-24 18:08:57,196]\u001b[0m Trial 655 finished with value: -0.006211478486345187 and parameters: {'kernel': 'rbf', 'C': 0.026298534682585462, 'gamma': 0.07022457920198043, 'epsilon': 0.002195096873112374}. Best is trial 593 with value: -0.006137730482857886.\u001b[0m\n",
      "\u001b[32m[I 2022-07-24 18:08:57,329]\u001b[0m Trial 656 finished with value: -0.006231290587413659 and parameters: {'kernel': 'rbf', 'C': 0.02011150297045312, 'gamma': 0.0873884365675992, 'epsilon': 0.002721141385711674}. Best is trial 593 with value: -0.006137730482857886.\u001b[0m\n",
      "\u001b[32m[I 2022-07-24 18:08:57,574]\u001b[0m Trial 657 finished with value: -0.006232076773615272 and parameters: {'kernel': 'rbf', 'C': 0.013865414040752989, 'gamma': 0.14190302798165025, 'epsilon': 0.0018357628943435473}. Best is trial 593 with value: -0.006137730482857886.\u001b[0m\n",
      "\u001b[32m[I 2022-07-24 18:08:57,755]\u001b[0m Trial 658 finished with value: -0.006174620529940926 and parameters: {'kernel': 'rbf', 'C': 0.017477330139366504, 'gamma': 0.06172394369361248, 'epsilon': 0.0015077539687929444}. Best is trial 593 with value: -0.006137730482857886.\u001b[0m\n",
      "\u001b[32m[I 2022-07-24 18:08:57,855]\u001b[0m Trial 659 finished with value: -0.006270809334981878 and parameters: {'kernel': 'rbf', 'C': 0.012009176845350774, 'gamma': 0.07858023508425903, 'epsilon': 0.0034248539820144956}. Best is trial 593 with value: -0.006137730482857886.\u001b[0m\n",
      "\u001b[32m[I 2022-07-24 18:08:57,987]\u001b[0m Trial 660 finished with value: -0.00617505108363254 and parameters: {'kernel': 'rbf', 'C': 0.015565628701824569, 'gamma': 0.09585084173523693, 'epsilon': 0.0022112889841901275}. Best is trial 593 with value: -0.006137730482857886.\u001b[0m\n",
      "\u001b[32m[I 2022-07-24 18:08:58,106]\u001b[0m Trial 661 finished with value: -0.006223225684846743 and parameters: {'kernel': 'rbf', 'C': 0.010031949905891135, 'gamma': 0.055362376572668896, 'epsilon': 0.0019180795139596438}. Best is trial 593 with value: -0.006137730482857886.\u001b[0m\n",
      "\u001b[32m[I 2022-07-24 18:08:58,265]\u001b[0m Trial 662 finished with value: -0.006244718066565197 and parameters: {'kernel': 'rbf', 'C': 0.013676107571040921, 'gamma': 0.039524295507616894, 'epsilon': 0.0025741669445883556}. Best is trial 593 with value: -0.006137730482857886.\u001b[0m\n",
      "\u001b[32m[I 2022-07-24 18:08:58,481]\u001b[0m Trial 663 finished with value: -0.0061630383272503475 and parameters: {'kernel': 'rbf', 'C': 0.018081752302202814, 'gamma': 0.06852007852926256, 'epsilon': 0.0016822265557251386}. Best is trial 593 with value: -0.006137730482857886.\u001b[0m\n",
      "\u001b[32m[I 2022-07-24 18:08:58,718]\u001b[0m Trial 664 finished with value: -0.0062744503262030585 and parameters: {'kernel': 'rbf', 'C': 0.021771378918534406, 'gamma': 0.11690909614773196, 'epsilon': 0.0021911805579603034}. Best is trial 593 with value: -0.006137730482857886.\u001b[0m\n",
      "\u001b[32m[I 2022-07-24 18:08:58,818]\u001b[0m Trial 665 finished with value: -0.006196391378965274 and parameters: {'kernel': 'rbf', 'C': 0.015646157340024527, 'gamma': 0.08200422639562158, 'epsilon': 0.002869315389591611}. Best is trial 593 with value: -0.006137730482857886.\u001b[0m\n",
      "\u001b[32m[I 2022-07-24 18:08:58,918]\u001b[0m Trial 666 finished with value: -0.006165836885301885 and parameters: {'kernel': 'rbf', 'C': 0.011947472019469517, 'gamma': 0.07230469709064988, 'epsilon': 0.0019905838839921752}. Best is trial 593 with value: -0.006137730482857886.\u001b[0m\n",
      "\u001b[32m[I 2022-07-24 18:08:59,033]\u001b[0m Trial 667 finished with value: -0.006169079481219506 and parameters: {'kernel': 'rbf', 'C': 0.013421140518672227, 'gamma': 0.09756132549141816, 'epsilon': 0.0023633312150459188}. Best is trial 593 with value: -0.006137730482857886.\u001b[0m\n",
      "\u001b[32m[I 2022-07-24 18:08:59,101]\u001b[0m Trial 668 finished with value: -0.008253274428003778 and parameters: {'kernel': 'rbf', 'C': 0.016876870751647496, 'gamma': 0.05950140984824362, 'epsilon': 0.00905997488615634}. Best is trial 593 with value: -0.006137730482857886.\u001b[0m\n",
      "\u001b[32m[I 2022-07-24 18:08:59,247]\u001b[0m Trial 669 finished with value: -0.006209520343667924 and parameters: {'kernel': 'rbf', 'C': 0.014896001389963035, 'gamma': 0.04621651680781187, 'epsilon': 0.001689910748096387}. Best is trial 593 with value: -0.006137730482857886.\u001b[0m\n",
      "\u001b[32m[I 2022-07-24 18:08:59,383]\u001b[0m Trial 670 finished with value: -0.00620642745965234 and parameters: {'kernel': 'rbf', 'C': 0.01965796216699141, 'gamma': 0.08450634569502287, 'epsilon': 0.002491043952731878}. Best is trial 593 with value: -0.006137730482857886.\u001b[0m\n",
      "\u001b[32m[I 2022-07-24 18:08:59,548]\u001b[0m Trial 671 finished with value: -0.006895631667589805 and parameters: {'kernel': 'poly', 'C': 0.011194613497610549, 'gamma': 0.06619377674352137, 'epsilon': 0.0014778622716009266}. Best is trial 593 with value: -0.006137730482857886.\u001b[0m\n",
      "\u001b[32m[I 2022-07-24 18:08:59,664]\u001b[0m Trial 672 finished with value: -0.00614463749234536 and parameters: {'kernel': 'rbf', 'C': 0.013053372477080076, 'gamma': 0.07654958307575821, 'epsilon': 0.0020187186620752333}. Best is trial 593 with value: -0.006137730482857886.\u001b[0m\n",
      "\u001b[32m[I 2022-07-24 18:08:59,780]\u001b[0m Trial 673 finished with value: -0.006151918879750913 and parameters: {'kernel': 'rbf', 'C': 0.011395418880568456, 'gamma': 0.10269806831926181, 'epsilon': 0.0018344852820196482}. Best is trial 593 with value: -0.006137730482857886.\u001b[0m\n",
      "\u001b[32m[I 2022-07-24 18:08:59,918]\u001b[0m Trial 674 finished with value: -0.006168756607813446 and parameters: {'kernel': 'rbf', 'C': 0.012635898440969951, 'gamma': 0.0865479798031017, 'epsilon': 0.0013685935294910879}. Best is trial 593 with value: -0.006137730482857886.\u001b[0m\n",
      "\u001b[32m[I 2022-07-24 18:09:00,065]\u001b[0m Trial 675 finished with value: -0.00614951431746476 and parameters: {'kernel': 'rbf', 'C': 0.012897403501182052, 'gamma': 0.07758174368174132, 'epsilon': 0.0019456905184904252}. Best is trial 593 with value: -0.006137730482857886.\u001b[0m\n",
      "\u001b[32m[I 2022-07-24 18:09:00,194]\u001b[0m Trial 676 finished with value: -0.0061935068769949095 and parameters: {'kernel': 'rbf', 'C': 0.010160792127199806, 'gamma': 0.12211070023306218, 'epsilon': 0.001609701734576716}. Best is trial 593 with value: -0.006137730482857886.\u001b[0m\n",
      "\u001b[32m[I 2022-07-24 18:09:00,304]\u001b[0m Trial 677 finished with value: -0.006153935752797333 and parameters: {'kernel': 'rbf', 'C': 0.014415105138788352, 'gamma': 0.09228653501309578, 'epsilon': 0.002016423868472902}. Best is trial 593 with value: -0.006137730482857886.\u001b[0m\n",
      "\u001b[32m[I 2022-07-24 18:09:00,458]\u001b[0m Trial 678 finished with value: -0.006161551011590466 and parameters: {'kernel': 'rbf', 'C': 0.011440317983603851, 'gamma': 0.07537603259053235, 'epsilon': 0.0016921610200817123}. Best is trial 593 with value: -0.006137730482857886.\u001b[0m\n",
      "\u001b[32m[I 2022-07-24 18:09:00,644]\u001b[0m Trial 679 finished with value: -0.006208445811892387 and parameters: {'kernel': 'rbf', 'C': 0.01373330977094207, 'gamma': 0.10768272490591145, 'epsilon': 0.001082744745963456}. Best is trial 593 with value: -0.006137730482857886.\u001b[0m\n",
      "\u001b[32m[I 2022-07-24 18:09:00,751]\u001b[0m Trial 680 finished with value: -0.0061444254645669286 and parameters: {'kernel': 'rbf', 'C': 0.012733556032869365, 'gamma': 0.08549427943271733, 'epsilon': 0.002217322716472754}. Best is trial 593 with value: -0.006137730482857886.\u001b[0m\n",
      "\u001b[32m[I 2022-07-24 18:09:00,836]\u001b[0m Trial 681 finished with value: -0.00616458542215254 and parameters: {'kernel': 'rbf', 'C': 0.010643237951233146, 'gamma': 0.07436620194447248, 'epsilon': 0.002201681242357774}. Best is trial 593 with value: -0.006137730482857886.\u001b[0m\n"
     ]
    },
    {
     "name": "stderr",
     "output_type": "stream",
     "text": [
      "\u001b[32m[I 2022-07-24 18:09:00,936]\u001b[0m Trial 682 finished with value: -0.0065173661444010945 and parameters: {'kernel': 'rbf', 'C': 0.012397734549320421, 'gamma': 0.014102041646241638, 'epsilon': 0.0027043335332335755}. Best is trial 593 with value: -0.006137730482857886.\u001b[0m\n",
      "\u001b[32m[I 2022-07-24 18:09:01,071]\u001b[0m Trial 683 finished with value: -0.0061535973178731725 and parameters: {'kernel': 'rbf', 'C': 0.014269062612790694, 'gamma': 0.08999798643346023, 'epsilon': 0.002078476514053196}. Best is trial 593 with value: -0.006137730482857886.\u001b[0m\n",
      "\u001b[32m[I 2022-07-24 18:09:01,157]\u001b[0m Trial 684 finished with value: -0.006227212317886193 and parameters: {'kernel': 'rbf', 'C': 0.010246000998378281, 'gamma': 0.06803682038064894, 'epsilon': 0.0031092239670303585}. Best is trial 593 with value: -0.006137730482857886.\u001b[0m\n",
      "\u001b[32m[I 2022-07-24 18:09:01,255]\u001b[0m Trial 685 finished with value: -0.006156174467793763 and parameters: {'kernel': 'rbf', 'C': 0.011993638460515708, 'gamma': 0.0986065484394469, 'epsilon': 0.0018170000070271016}. Best is trial 593 with value: -0.006137730482857886.\u001b[0m\n",
      "\u001b[32m[I 2022-07-24 18:09:01,384]\u001b[0m Trial 686 finished with value: -0.006175195858511481 and parameters: {'kernel': 'rbf', 'C': 0.010005477453522612, 'gamma': 0.08171428404692994, 'epsilon': 0.002337567456028728}. Best is trial 593 with value: -0.006137730482857886.\u001b[0m\n",
      "\u001b[32m[I 2022-07-24 18:09:01,543]\u001b[0m Trial 687 finished with value: -0.006693895841690309 and parameters: {'kernel': 'rbf', 'C': 0.01535491654841162, 'gamma': 0.006902793312310244, 'epsilon': 0.0015273060820312355}. Best is trial 593 with value: -0.006137730482857886.\u001b[0m\n",
      "\u001b[32m[I 2022-07-24 18:09:01,639]\u001b[0m Trial 688 finished with value: -0.00616446134473089 and parameters: {'kernel': 'rbf', 'C': 0.013055691254799958, 'gamma': 0.06667263990404743, 'epsilon': 0.002097933149942465}. Best is trial 593 with value: -0.006137730482857886.\u001b[0m\n",
      "\u001b[32m[I 2022-07-24 18:09:01,738]\u001b[0m Trial 689 finished with value: -0.006180663700119063 and parameters: {'kernel': 'rbf', 'C': 0.016589504406525315, 'gamma': 0.08126288321916872, 'epsilon': 0.002569112085978535}. Best is trial 593 with value: -0.006137730482857886.\u001b[0m\n",
      "\u001b[32m[I 2022-07-24 18:09:01,847]\u001b[0m Trial 690 finished with value: -0.006174089099921319 and parameters: {'kernel': 'rbf', 'C': 0.01004462901324865, 'gamma': 0.0990771138589937, 'epsilon': 0.001792289496882459}. Best is trial 593 with value: -0.006137730482857886.\u001b[0m\n",
      "\u001b[32m[I 2022-07-24 18:09:02,062]\u001b[0m Trial 691 finished with value: -0.006330279092482561 and parameters: {'kernel': 'rbf', 'C': 0.05309372621313602, 'gamma': 0.07237949036848891, 'epsilon': 0.0022878071285474433}. Best is trial 593 with value: -0.006137730482857886.\u001b[0m\n",
      "\u001b[32m[I 2022-07-24 18:09:02,167]\u001b[0m Trial 692 finished with value: -0.006175183059649275 and parameters: {'kernel': 'rbf', 'C': 0.011722860831165442, 'gamma': 0.06233662756284661, 'epsilon': 0.0018889080063450817}. Best is trial 593 with value: -0.006137730482857886.\u001b[0m\n",
      "\u001b[32m[I 2022-07-24 18:09:02,270]\u001b[0m Trial 693 finished with value: -0.006187399527143071 and parameters: {'kernel': 'rbf', 'C': 0.014559070421886526, 'gamma': 0.08689691725941537, 'epsilon': 0.0026988427801473394}. Best is trial 593 with value: -0.006137730482857886.\u001b[0m\n",
      "\u001b[32m[I 2022-07-24 18:09:02,385]\u001b[0m Trial 694 finished with value: -0.006164661979746813 and parameters: {'kernel': 'rbf', 'C': 0.018145106449835646, 'gamma': 0.07560328553975539, 'epsilon': 0.0020865549274751904}. Best is trial 593 with value: -0.006137730482857886.\u001b[0m\n",
      "\u001b[32m[I 2022-07-24 18:09:02,442]\u001b[0m Trial 695 finished with value: -0.014734112968921255 and parameters: {'kernel': 'rbf', 'C': 0.013197255794483024, 'gamma': 0.11251633605473792, 'epsilon': 0.017584179660759657}. Best is trial 593 with value: -0.006137730482857886.\u001b[0m\n",
      "\u001b[32m[I 2022-07-24 18:09:02,593]\u001b[0m Trial 696 finished with value: -0.006179973486079972 and parameters: {'kernel': 'rbf', 'C': 0.01581124565782824, 'gamma': 0.05542358603016097, 'epsilon': 0.0015490270032801194}. Best is trial 593 with value: -0.006137730482857886.\u001b[0m\n",
      "\u001b[32m[I 2022-07-24 18:09:02,743]\u001b[0m Trial 697 finished with value: -0.006156558713431233 and parameters: {'kernel': 'rbf', 'C': 0.011254193669729556, 'gamma': 0.09209538489724245, 'epsilon': 0.00235868482846702}. Best is trial 593 with value: -0.006137730482857886.\u001b[0m\n",
      "\u001b[32m[I 2022-07-24 18:09:02,913]\u001b[0m Trial 698 finished with value: -0.006193214188836195 and parameters: {'kernel': 'rbf', 'C': 0.013202301955479022, 'gamma': 0.07015530697110087, 'epsilon': 0.0030043833609355026}. Best is trial 593 with value: -0.006137730482857886.\u001b[0m\n",
      "\u001b[32m[I 2022-07-24 18:09:03,486]\u001b[0m Trial 699 finished with value: -0.006830693297287524 and parameters: {'kernel': 'poly', 'C': 0.018354474207275713, 'gamma': 0.14025485482427869, 'epsilon': 0.001245207394621039}. Best is trial 593 with value: -0.006137730482857886.\u001b[0m\n",
      "\u001b[32m[I 2022-07-24 18:09:03,629]\u001b[0m Trial 700 finished with value: -0.006154018390253003 and parameters: {'kernel': 'rbf', 'C': 0.01555139391506525, 'gamma': 0.08275566034455424, 'epsilon': 0.0017559861595888217}. Best is trial 593 with value: -0.006137730482857886.\u001b[0m\n",
      "\u001b[32m[I 2022-07-24 18:09:03,742]\u001b[0m Trial 701 finished with value: -0.006167730356418009 and parameters: {'kernel': 'rbf', 'C': 0.020907869799368695, 'gamma': 0.06240899561179877, 'epsilon': 0.0020336880393966666}. Best is trial 593 with value: -0.006137730482857886.\u001b[0m\n",
      "\u001b[32m[I 2022-07-24 18:09:03,839]\u001b[0m Trial 702 finished with value: -0.0061925037256713765 and parameters: {'kernel': 'rbf', 'C': 0.013973500932111214, 'gamma': 0.10726855072550553, 'epsilon': 0.0024063275725415734}. Best is trial 593 with value: -0.006137730482857886.\u001b[0m\n",
      "\u001b[32m[I 2022-07-24 18:09:03,932]\u001b[0m Trial 703 finished with value: -0.006280584213065187 and parameters: {'kernel': 'rbf', 'C': 0.011766667271654036, 'gamma': 0.0766562272511302, 'epsilon': 0.003501634690424678}. Best is trial 593 with value: -0.006137730482857886.\u001b[0m\n",
      "\u001b[32m[I 2022-07-24 18:09:04,042]\u001b[0m Trial 704 finished with value: -0.0061665784534073315 and parameters: {'kernel': 'rbf', 'C': 0.016228145884977136, 'gamma': 0.09281727726269294, 'epsilon': 0.001890449497916259}. Best is trial 593 with value: -0.006137730482857886.\u001b[0m\n",
      "\u001b[32m[I 2022-07-24 18:09:04,163]\u001b[0m Trial 705 finished with value: -0.006212151876232419 and parameters: {'kernel': 'rbf', 'C': 0.010021968449109997, 'gamma': 0.06473621465129081, 'epsilon': 0.001407708379442209}. Best is trial 593 with value: -0.006137730482857886.\u001b[0m\n",
      "\u001b[32m[I 2022-07-24 18:09:04,254]\u001b[0m Trial 706 finished with value: -0.0062012183876851605 and parameters: {'kernel': 'rbf', 'C': 0.013073670226486313, 'gamma': 0.05275528736551892, 'epsilon': 0.0027126390935623187}. Best is trial 593 with value: -0.006137730482857886.\u001b[0m\n",
      "\u001b[32m[I 2022-07-24 18:09:04,368]\u001b[0m Trial 707 finished with value: -0.006514255036906784 and parameters: {'kernel': 'rbf', 'C': 0.018214409881816548, 'gamma': 0.5113303580009019, 'epsilon': 0.00217788803757608}. Best is trial 593 with value: -0.006137730482857886.\u001b[0m\n",
      "\u001b[32m[I 2022-07-24 18:09:04,496]\u001b[0m Trial 708 finished with value: -0.006220397187220516 and parameters: {'kernel': 'rbf', 'C': 0.014919718540196322, 'gamma': 0.12435336929883833, 'epsilon': 0.0016636339020000717}. Best is trial 593 with value: -0.006137730482857886.\u001b[0m\n",
      "\u001b[32m[I 2022-07-24 18:09:04,599]\u001b[0m Trial 709 finished with value: -0.00621663804020912 and parameters: {'kernel': 'rbf', 'C': 0.024616388329426784, 'gamma': 0.08048093850169497, 'epsilon': 0.00246160943673796}. Best is trial 593 with value: -0.006137730482857886.\u001b[0m\n",
      "\u001b[32m[I 2022-07-24 18:09:04,692]\u001b[0m Trial 710 finished with value: -0.0061617213076601935 and parameters: {'kernel': 'rbf', 'C': 0.01145481312650576, 'gamma': 0.06974442755918465, 'epsilon': 0.002003852427266952}. Best is trial 593 with value: -0.006137730482857886.\u001b[0m\n",
      "\u001b[32m[I 2022-07-24 18:09:04,789]\u001b[0m Trial 711 finished with value: -0.006270988067806502 and parameters: {'kernel': 'rbf', 'C': 0.017325572836891415, 'gamma': 0.09605570787578256, 'epsilon': 0.003081454338748699}. Best is trial 593 with value: -0.006137730482857886.\u001b[0m\n",
      "\u001b[32m[I 2022-07-24 18:09:04,890]\u001b[0m Trial 712 finished with value: -0.0062118574260681516 and parameters: {'kernel': 'rbf', 'C': 0.010090425634891011, 'gamma': 0.05994546795505451, 'epsilon': 0.001691117763552483}. Best is trial 593 with value: -0.006137730482857886.\u001b[0m\n"
     ]
    },
    {
     "name": "stderr",
     "output_type": "stream",
     "text": [
      "\u001b[32m[I 2022-07-24 18:09:04,982]\u001b[0m Trial 713 finished with value: -0.006148989535011089 and parameters: {'kernel': 'rbf', 'C': 0.013922581017514854, 'gamma': 0.08528966307485407, 'epsilon': 0.0021717859051485237}. Best is trial 593 with value: -0.006137730482857886.\u001b[0m\n",
      "\u001b[32m[I 2022-07-24 18:09:05,077]\u001b[0m Trial 714 finished with value: -0.006181755776516661 and parameters: {'kernel': 'rbf', 'C': 0.020155492726532363, 'gamma': 0.07090088213525322, 'epsilon': 0.002548557922152813}. Best is trial 593 with value: -0.006137730482857886.\u001b[0m\n",
      "\u001b[32m[I 2022-07-24 18:09:05,175]\u001b[0m Trial 715 finished with value: -0.006166492667208497 and parameters: {'kernel': 'rbf', 'C': 0.012077785108538372, 'gamma': 0.10373823369066099, 'epsilon': 0.001886474642366391}. Best is trial 593 with value: -0.006137730482857886.\u001b[0m\n",
      "\u001b[32m[I 2022-07-24 18:09:05,264]\u001b[0m Trial 716 finished with value: -0.006148852020742124 and parameters: {'kernel': 'rbf', 'C': 0.015644515783300415, 'gamma': 0.07846019572693866, 'epsilon': 0.0022125593204848433}. Best is trial 593 with value: -0.006137730482857886.\u001b[0m\n",
      "\u001b[32m[I 2022-07-24 18:09:05,391]\u001b[0m Trial 717 finished with value: -0.006189558575252569 and parameters: {'kernel': 'rbf', 'C': 0.01318814115113264, 'gamma': 0.053932662378788285, 'epsilon': 0.001495452612563427}. Best is trial 593 with value: -0.006137730482857886.\u001b[0m\n",
      "\u001b[32m[I 2022-07-24 18:09:05,488]\u001b[0m Trial 718 finished with value: -0.006182782742394824 and parameters: {'kernel': 'rbf', 'C': 0.01666162049833977, 'gamma': 0.06401501406204617, 'epsilon': 0.0028917661487035656}. Best is trial 593 with value: -0.006137730482857886.\u001b[0m\n",
      "\u001b[32m[I 2022-07-24 18:09:05,580]\u001b[0m Trial 719 finished with value: -0.006177036523371757 and parameters: {'kernel': 'rbf', 'C': 0.010042928514582305, 'gamma': 0.08987825606025142, 'epsilon': 0.0018633426106905917}. Best is trial 593 with value: -0.006137730482857886.\u001b[0m\n",
      "\u001b[32m[I 2022-07-24 18:09:05,682]\u001b[0m Trial 720 finished with value: -0.00619804360232298 and parameters: {'kernel': 'rbf', 'C': 0.022123433871243114, 'gamma': 0.07228590719434345, 'epsilon': 0.002359658609062228}. Best is trial 593 with value: -0.006137730482857886.\u001b[0m\n",
      "\u001b[32m[I 2022-07-24 18:09:05,802]\u001b[0m Trial 721 finished with value: -0.006159020517509103 and parameters: {'kernel': 'rbf', 'C': 0.014532963137598451, 'gamma': 0.08250837107771332, 'epsilon': 0.0016478915796852257}. Best is trial 593 with value: -0.006137730482857886.\u001b[0m\n",
      "\u001b[32m[I 2022-07-24 18:09:05,938]\u001b[0m Trial 722 finished with value: -0.006184557608432446 and parameters: {'kernel': 'rbf', 'C': 0.012013563662835769, 'gamma': 0.05841768131114676, 'epsilon': 0.0020435584583258894}. Best is trial 593 with value: -0.006137730482857886.\u001b[0m\n",
      "\u001b[32m[I 2022-07-24 18:09:06,026]\u001b[0m Trial 723 finished with value: -0.006258917027611519 and parameters: {'kernel': 'rbf', 'C': 0.018832407990050048, 'gamma': 0.11758307697435724, 'epsilon': 0.002542187291026646}. Best is trial 593 with value: -0.006137730482857886.\u001b[0m\n",
      "\u001b[32m[I 2022-07-24 18:09:06,139]\u001b[0m Trial 724 finished with value: -0.006174898465558718 and parameters: {'kernel': 'rbf', 'C': 0.015442157590004044, 'gamma': 0.04975406200469574, 'epsilon': 0.0021878398280121333}. Best is trial 593 with value: -0.006137730482857886.\u001b[0m\n",
      "\u001b[32m[I 2022-07-24 18:09:06,260]\u001b[0m Trial 725 finished with value: -0.006180408099433745 and parameters: {'kernel': 'rbf', 'C': 0.012997525057413332, 'gamma': 0.09971316740582875, 'epsilon': 0.0013370543595876891}. Best is trial 593 with value: -0.006137730482857886.\u001b[0m\n",
      "\u001b[32m[I 2022-07-24 18:09:06,376]\u001b[0m Trial 726 finished with value: -0.006180252969609301 and parameters: {'kernel': 'rbf', 'C': 0.011263579958867287, 'gamma': 0.06996538231722467, 'epsilon': 0.001865835813628312}. Best is trial 593 with value: -0.006137730482857886.\u001b[0m\n",
      "\u001b[32m[I 2022-07-24 18:09:06,539]\u001b[0m Trial 727 finished with value: -0.006731142680917391 and parameters: {'kernel': 'poly', 'C': 0.016802633259885024, 'gamma': 0.08709690724154899, 'epsilon': 0.002775794666734741}. Best is trial 593 with value: -0.006137730482857886.\u001b[0m\n",
      "\u001b[32m[I 2022-07-24 18:09:06,662]\u001b[0m Trial 728 finished with value: -0.006173786487917161 and parameters: {'kernel': 'rbf', 'C': 0.014485927483609828, 'gamma': 0.06251617951187237, 'epsilon': 0.0016645208901008312}. Best is trial 593 with value: -0.006137730482857886.\u001b[0m\n",
      "\u001b[32m[I 2022-07-24 18:09:06,816]\u001b[0m Trial 729 finished with value: -0.006177104477256064 and parameters: {'kernel': 'rbf', 'C': 0.01910113120205882, 'gamma': 0.07797247268475785, 'epsilon': 0.002267085317673907}. Best is trial 593 with value: -0.006137730482857886.\u001b[0m\n",
      "\u001b[32m[I 2022-07-24 18:09:06,965]\u001b[0m Trial 730 finished with value: -0.006151135673881566 and parameters: {'kernel': 'rbf', 'C': 0.012545015122128559, 'gamma': 0.09522428230359818, 'epsilon': 0.001973627925958227}. Best is trial 593 with value: -0.006137730482857886.\u001b[0m\n",
      "\u001b[32m[I 2022-07-24 18:09:07,109]\u001b[0m Trial 731 finished with value: -0.006157004928442202 and parameters: {'kernel': 'rbf', 'C': 0.01446186162487478, 'gamma': 0.07257945221855135, 'epsilon': 0.0024514846522325144}. Best is trial 593 with value: -0.006137730482857886.\u001b[0m\n",
      "\u001b[32m[I 2022-07-24 18:09:07,276]\u001b[0m Trial 732 finished with value: -0.006308455066442106 and parameters: {'kernel': 'rbf', 'C': 0.02941442246853418, 'gamma': 0.02136885748290437, 'epsilon': 0.0036345690776694224}. Best is trial 593 with value: -0.006137730482857886.\u001b[0m\n",
      "\u001b[32m[I 2022-07-24 18:09:07,404]\u001b[0m Trial 733 finished with value: -0.0061612506419520055 and parameters: {'kernel': 'rbf', 'C': 0.022812951655026083, 'gamma': 0.058458569046563456, 'epsilon': 0.001800664325401581}. Best is trial 593 with value: -0.006137730482857886.\u001b[0m\n",
      "\u001b[32m[I 2022-07-24 18:09:07,549]\u001b[0m Trial 734 finished with value: -0.006209571502487451 and parameters: {'kernel': 'rbf', 'C': 0.01710268851204284, 'gamma': 0.043739459493068726, 'epsilon': 0.001501261015942157}. Best is trial 593 with value: -0.006137730482857886.\u001b[0m\n",
      "\u001b[32m[I 2022-07-24 18:09:07,643]\u001b[0m Trial 735 finished with value: -0.006199465563923294 and parameters: {'kernel': 'rbf', 'C': 0.011137227210408876, 'gamma': 0.08239390660330115, 'epsilon': 0.002950273978540645}. Best is trial 593 with value: -0.006137730482857886.\u001b[0m\n",
      "\u001b[32m[I 2022-07-24 18:09:07,774]\u001b[0m Trial 736 finished with value: -0.006187045737183122 and parameters: {'kernel': 'rbf', 'C': 0.013356580448279079, 'gamma': 0.11315461552358419, 'epsilon': 0.0021132795662980527}. Best is trial 593 with value: -0.006137730482857886.\u001b[0m\n",
      "\u001b[32m[I 2022-07-24 18:09:07,885]\u001b[0m Trial 737 finished with value: -0.006193655909256254 and parameters: {'kernel': 'rbf', 'C': 0.010004518340346122, 'gamma': 0.06658630932219377, 'epsilon': 0.0025989750082602097}. Best is trial 593 with value: -0.006137730482857886.\u001b[0m\n",
      "\u001b[32m[I 2022-07-24 18:09:08,017]\u001b[0m Trial 738 finished with value: -0.006155475802914683 and parameters: {'kernel': 'rbf', 'C': 0.015630847769115625, 'gamma': 0.08940614202311493, 'epsilon': 0.002033029442669989}. Best is trial 593 with value: -0.006137730482857886.\u001b[0m\n",
      "\u001b[32m[I 2022-07-24 18:09:08,138]\u001b[0m Trial 739 finished with value: -0.006166341023456811 and parameters: {'kernel': 'rbf', 'C': 0.019647591365233957, 'gamma': 0.07500729070897476, 'epsilon': 0.0017008956308558671}. Best is trial 593 with value: -0.006137730482857886.\u001b[0m\n",
      "\u001b[32m[I 2022-07-24 18:09:08,222]\u001b[0m Trial 740 finished with value: -0.006181328742173538 and parameters: {'kernel': 'rbf', 'C': 0.012460213032814652, 'gamma': 0.05324240862941587, 'epsilon': 0.002326334124644328}. Best is trial 593 with value: -0.006137730482857886.\u001b[0m\n",
      "\u001b[32m[I 2022-07-24 18:09:08,336]\u001b[0m Trial 741 finished with value: -0.006204718181025894 and parameters: {'kernel': 'rbf', 'C': 0.017746040466912194, 'gamma': 0.10319356780033291, 'epsilon': 0.0018997530908725188}. Best is trial 593 with value: -0.006137730482857886.\u001b[0m\n",
      "\u001b[32m[I 2022-07-24 18:09:08,432]\u001b[0m Trial 742 finished with value: -0.006234641766760709 and parameters: {'kernel': 'rbf', 'C': 0.01417535735655399, 'gamma': 0.0666568519544169, 'epsilon': 0.0033431161855847144}. Best is trial 593 with value: -0.006137730482857886.\u001b[0m\n",
      "\u001b[32m[I 2022-07-24 18:09:08,566]\u001b[0m Trial 743 finished with value: -0.0061809598568975605 and parameters: {'kernel': 'rbf', 'C': 0.011540828269569457, 'gamma': 0.07977706856277958, 'epsilon': 0.0011876780053895932}. Best is trial 593 with value: -0.006137730482857886.\u001b[0m\n"
     ]
    },
    {
     "name": "stderr",
     "output_type": "stream",
     "text": [
      "\u001b[32m[I 2022-07-24 18:09:08,662]\u001b[0m Trial 744 finished with value: -0.006154712527506999 and parameters: {'kernel': 'rbf', 'C': 0.016780307855551273, 'gamma': 0.05998121078514642, 'epsilon': 0.0022514313661908965}. Best is trial 593 with value: -0.006137730482857886.\u001b[0m\n",
      "\u001b[32m[I 2022-07-24 18:09:08,744]\u001b[0m Trial 745 finished with value: -0.006193897757458301 and parameters: {'kernel': 'rbf', 'C': 0.010081502020955636, 'gamma': 0.08988198835083894, 'epsilon': 0.0027034764995336183}. Best is trial 593 with value: -0.006137730482857886.\u001b[0m\n",
      "\u001b[32m[I 2022-07-24 18:09:08,845]\u001b[0m Trial 746 finished with value: -0.006157533915518283 and parameters: {'kernel': 'rbf', 'C': 0.01420981725755266, 'gamma': 0.07029337937671953, 'epsilon': 0.0017425187150927057}. Best is trial 593 with value: -0.006137730482857886.\u001b[0m\n",
      "\u001b[32m[I 2022-07-24 18:09:08,956]\u001b[0m Trial 747 finished with value: -0.006223284815252477 and parameters: {'kernel': 'rbf', 'C': 0.020629158143641795, 'gamma': 0.10178053897262661, 'epsilon': 0.002115629943519628}. Best is trial 593 with value: -0.006137730482857886.\u001b[0m\n",
      "\u001b[32m[I 2022-07-24 18:09:09,058]\u001b[0m Trial 748 finished with value: -0.006227327448909213 and parameters: {'kernel': 'rbf', 'C': 0.012802238471356628, 'gamma': 0.1329391708994824, 'epsilon': 0.0014649431160312556}. Best is trial 593 with value: -0.006137730482857886.\u001b[0m\n",
      "\u001b[32m[I 2022-07-24 18:09:09,158]\u001b[0m Trial 749 finished with value: -0.006175258961528478 and parameters: {'kernel': 'rbf', 'C': 0.01648813079386676, 'gamma': 0.04818254391815482, 'epsilon': 0.0025058135018609334}. Best is trial 593 with value: -0.006137730482857886.\u001b[0m\n",
      "\u001b[32m[I 2022-07-24 18:09:09,272]\u001b[0m Trial 750 finished with value: -0.006148365754249923 and parameters: {'kernel': 'rbf', 'C': 0.014613416125509657, 'gamma': 0.07964498896955119, 'epsilon': 0.0019696912099147253}. Best is trial 593 with value: -0.006137730482857886.\u001b[0m\n",
      "\u001b[32m[I 2022-07-24 18:09:09,352]\u001b[0m Trial 751 finished with value: -0.006213973636197751 and parameters: {'kernel': 'rbf', 'C': 0.011512366133989078, 'gamma': 0.06248455441077725, 'epsilon': 0.0029749308290944725}. Best is trial 593 with value: -0.006137730482857886.\u001b[0m\n",
      "\u001b[32m[I 2022-07-24 18:09:09,481]\u001b[0m Trial 752 finished with value: -0.006235070447536527 and parameters: {'kernel': 'rbf', 'C': 0.024845254183741255, 'gamma': 0.09324918238102572, 'epsilon': 0.001557114815182021}. Best is trial 593 with value: -0.006137730482857886.\u001b[0m\n",
      "\u001b[32m[I 2022-07-24 18:09:09,549]\u001b[0m Trial 753 finished with value: -0.03564469137116575 and parameters: {'kernel': 'rbf', 'C': 0.0186941407952195, 'gamma': 0.0719596272053652, 'epsilon': 0.2038577133453}. Best is trial 593 with value: -0.006137730482857886.\u001b[0m\n",
      "\u001b[32m[I 2022-07-24 18:09:09,666]\u001b[0m Trial 754 finished with value: -0.006408502685593831 and parameters: {'kernel': 'rbf', 'C': 0.01005150327672632, 'gamma': 0.054618649408392186, 'epsilon': 0.0042788204179248675}. Best is trial 593 with value: -0.006137730482857886.\u001b[0m\n",
      "\u001b[32m[I 2022-07-24 18:09:09,832]\u001b[0m Trial 755 finished with value: -0.006161485733070175 and parameters: {'kernel': 'rbf', 'C': 0.01523300899292672, 'gamma': 0.08454269042369333, 'epsilon': 0.0023527360029003234}. Best is trial 593 with value: -0.006137730482857886.\u001b[0m\n",
      "\u001b[32m[I 2022-07-24 18:09:10,105]\u001b[0m Trial 756 finished with value: -0.006782898762534442 and parameters: {'kernel': 'poly', 'C': 0.012971754496669463, 'gamma': 0.1097671716388149, 'epsilon': 0.0017560507536291644}. Best is trial 593 with value: -0.006137730482857886.\u001b[0m\n",
      "\u001b[32m[I 2022-07-24 18:09:10,211]\u001b[0m Trial 757 finished with value: -0.00615578788820265 and parameters: {'kernel': 'rbf', 'C': 0.016572289414008175, 'gamma': 0.0647390865144682, 'epsilon': 0.0021243338094708206}. Best is trial 593 with value: -0.006137730482857886.\u001b[0m\n",
      "\u001b[32m[I 2022-07-24 18:09:10,343]\u001b[0m Trial 758 finished with value: -0.006146182229266666 and parameters: {'kernel': 'rbf', 'C': 0.013297592079956278, 'gamma': 0.07674120138343644, 'epsilon': 0.0019073045669150794}. Best is trial 593 with value: -0.006137730482857886.\u001b[0m\n",
      "\u001b[32m[I 2022-07-24 18:09:10,394]\u001b[0m Trial 759 finished with value: -0.03564469137116574 and parameters: {'kernel': 'rbf', 'C': 0.021440062175414783, 'gamma': 0.07733746490066364, 'epsilon': 0.07834237369815315}. Best is trial 593 with value: -0.006137730482857886.\u001b[0m\n",
      "\u001b[32m[I 2022-07-24 18:09:10,562]\u001b[0m Trial 760 finished with value: -0.006187558473640178 and parameters: {'kernel': 'rbf', 'C': 0.01472128284067812, 'gamma': 0.09112578441972541, 'epsilon': 0.0013650987230933733}. Best is trial 593 with value: -0.006137730482857886.\u001b[0m\n",
      "\u001b[32m[I 2022-07-24 18:09:10,705]\u001b[0m Trial 761 finished with value: -0.006168572943942634 and parameters: {'kernel': 'rbf', 'C': 0.01886657679425257, 'gamma': 0.05692259021543885, 'epsilon': 0.0016116777080871355}. Best is trial 593 with value: -0.006137730482857886.\u001b[0m\n",
      "\u001b[32m[I 2022-07-24 18:09:10,824]\u001b[0m Trial 762 finished with value: -0.006166545839417979 and parameters: {'kernel': 'rbf', 'C': 0.01274010247538259, 'gamma': 0.07007465601494828, 'epsilon': 0.0018262305473213901}. Best is trial 593 with value: -0.006137730482857886.\u001b[0m\n",
      "\u001b[32m[I 2022-07-24 18:09:10,937]\u001b[0m Trial 763 finished with value: -0.006158561317777873 and parameters: {'kernel': 'rbf', 'C': 0.016215784236608757, 'gamma': 0.0863768351019795, 'epsilon': 0.0019013313668550145}. Best is trial 593 with value: -0.006137730482857886.\u001b[0m\n",
      "\u001b[32m[I 2022-07-24 18:09:11,064]\u001b[0m Trial 764 finished with value: -0.00620477269749106 and parameters: {'kernel': 'rbf', 'C': 0.013855403321792465, 'gamma': 0.04927840332424919, 'epsilon': 0.0012658239417120346}. Best is trial 593 with value: -0.006137730482857886.\u001b[0m\n",
      "\u001b[32m[I 2022-07-24 18:09:11,196]\u001b[0m Trial 765 finished with value: -0.006195685335871978 and parameters: {'kernel': 'rbf', 'C': 0.017820878407506888, 'gamma': 0.07597935161002733, 'epsilon': 0.0014665688390997726}. Best is trial 593 with value: -0.006137730482857886.\u001b[0m\n",
      "\u001b[32m[I 2022-07-24 18:09:11,344]\u001b[0m Trial 766 finished with value: -0.0061697607302575235 and parameters: {'kernel': 'rbf', 'C': 0.011120422856907033, 'gamma': 0.10214888913634748, 'epsilon': 0.0020234804853510413}. Best is trial 593 with value: -0.006137730482857886.\u001b[0m\n",
      "\u001b[32m[I 2022-07-24 18:09:11,532]\u001b[0m Trial 767 finished with value: -0.0061532347841821225 and parameters: {'kernel': 'rbf', 'C': 0.015451718145730759, 'gamma': 0.06554512167621102, 'epsilon': 0.0024365773985883387}. Best is trial 593 with value: -0.006137730482857886.\u001b[0m\n",
      "\u001b[32m[I 2022-07-24 18:09:11,705]\u001b[0m Trial 768 finished with value: -0.006216270205605966 and parameters: {'kernel': 'rbf', 'C': 0.013480135211121236, 'gamma': 0.12634184174876478, 'epsilon': 0.0017111666510282568}. Best is trial 593 with value: -0.006137730482857886.\u001b[0m\n",
      "\u001b[32m[I 2022-07-24 18:09:11,810]\u001b[0m Trial 769 finished with value: -0.006196273248440777 and parameters: {'kernel': 'rbf', 'C': 0.02232204111106196, 'gamma': 0.08200003507749398, 'epsilon': 0.0021886448846530366}. Best is trial 593 with value: -0.006137730482857886.\u001b[0m\n",
      "\u001b[32m[I 2022-07-24 18:09:11,905]\u001b[0m Trial 770 finished with value: -0.006186484564056734 and parameters: {'kernel': 'rbf', 'C': 0.011813645211291118, 'gamma': 0.05859066636965417, 'epsilon': 0.002684842531420283}. Best is trial 593 with value: -0.006137730482857886.\u001b[0m\n",
      "\u001b[32m[I 2022-07-24 18:09:12,003]\u001b[0m Trial 771 finished with value: -0.00618831303684015 and parameters: {'kernel': 'rbf', 'C': 0.018210200180949033, 'gamma': 0.0925483780539265, 'epsilon': 0.00194364152437903}. Best is trial 593 with value: -0.006137730482857886.\u001b[0m\n",
      "\u001b[32m[I 2022-07-24 18:09:12,112]\u001b[0m Trial 772 finished with value: -0.006236651667407746 and parameters: {'kernel': 'rbf', 'C': 0.015116063810299866, 'gamma': 0.04153506456612526, 'epsilon': 0.0015577557712845148}. Best is trial 593 with value: -0.006137730482857886.\u001b[0m\n",
      "\u001b[32m[I 2022-07-24 18:09:12,237]\u001b[0m Trial 773 finished with value: -0.0061491904100246944 and parameters: {'kernel': 'rbf', 'C': 0.013109419789083835, 'gamma': 0.06963331622791119, 'epsilon': 0.002332698295865312}. Best is trial 593 with value: -0.006137730482857886.\u001b[0m\n",
      "\u001b[32m[I 2022-07-24 18:09:12,290]\u001b[0m Trial 774 finished with value: -0.010490280985521225 and parameters: {'kernel': 'rbf', 'C': 0.011007391726668167, 'gamma': 0.11139330666955684, 'epsilon': 0.012044270809257178}. Best is trial 593 with value: -0.006137730482857886.\u001b[0m\n"
     ]
    },
    {
     "name": "stderr",
     "output_type": "stream",
     "text": [
      "\u001b[32m[I 2022-07-24 18:09:12,395]\u001b[0m Trial 775 finished with value: -0.006151368396245857 and parameters: {'kernel': 'rbf', 'C': 0.016862458630518863, 'gamma': 0.0748382977976036, 'epsilon': 0.0018438436057126614}. Best is trial 593 with value: -0.006137730482857886.\u001b[0m\n",
      "\u001b[32m[I 2022-07-24 18:09:12,491]\u001b[0m Trial 776 finished with value: -0.006201452672294907 and parameters: {'kernel': 'rbf', 'C': 0.020280161391723724, 'gamma': 0.06295643415517785, 'epsilon': 0.002874349909365799}. Best is trial 593 with value: -0.006137730482857886.\u001b[0m\n",
      "\u001b[32m[I 2022-07-24 18:09:12,647]\u001b[0m Trial 777 finished with value: -0.006178950609066786 and parameters: {'kernel': 'rbf', 'C': 0.026642568541227388, 'gamma': 0.05148813120892665, 'epsilon': 0.002178634994834848}. Best is trial 593 with value: -0.006137730482857886.\u001b[0m\n",
      "\u001b[32m[I 2022-07-24 18:09:12,810]\u001b[0m Trial 778 finished with value: -0.006169719676117424 and parameters: {'kernel': 'rbf', 'C': 0.014133803257282777, 'gamma': 0.08396489933762276, 'epsilon': 0.0016545874826426397}. Best is trial 593 with value: -0.006137730482857886.\u001b[0m\n",
      "\u001b[32m[I 2022-07-24 18:09:12,925]\u001b[0m Trial 779 finished with value: -0.006188438751506614 and parameters: {'kernel': 'rbf', 'C': 0.012506642157332949, 'gamma': 0.09785827927659746, 'epsilon': 0.002603713396397004}. Best is trial 593 with value: -0.006137730482857886.\u001b[0m\n",
      "\u001b[32m[I 2022-07-24 18:09:13,040]\u001b[0m Trial 780 finished with value: -0.006185013851536158 and parameters: {'kernel': 'rbf', 'C': 0.010047645243136814, 'gamma': 0.07305880679981205, 'epsilon': 0.002001081735025246}. Best is trial 593 with value: -0.006137730482857886.\u001b[0m\n",
      "\u001b[32m[I 2022-07-24 18:09:13,152]\u001b[0m Trial 781 finished with value: -0.006146669802511985 and parameters: {'kernel': 'rbf', 'C': 0.01571193145467321, 'gamma': 0.059540164847047494, 'epsilon': 0.0023837547355886036}. Best is trial 593 with value: -0.006137730482857886.\u001b[0m\n",
      "\u001b[32m[I 2022-07-24 18:09:13,256]\u001b[0m Trial 782 finished with value: -0.0062162888204730996 and parameters: {'kernel': 'rbf', 'C': 0.01828766436876379, 'gamma': 0.037774905761878516, 'epsilon': 0.0024630803628037713}. Best is trial 593 with value: -0.006137730482857886.\u001b[0m\n",
      "\u001b[32m[I 2022-07-24 18:09:13,387]\u001b[0m Trial 783 finished with value: -0.006768648666749594 and parameters: {'kernel': 'poly', 'C': 0.02314916320668717, 'gamma': 0.0471736831145675, 'epsilon': 0.0028646609847520267}. Best is trial 593 with value: -0.006137730482857886.\u001b[0m\n",
      "\u001b[32m[I 2022-07-24 18:09:13,503]\u001b[0m Trial 784 finished with value: -0.006171768788597037 and parameters: {'kernel': 'rbf', 'C': 0.016092336414309124, 'gamma': 0.05567011295858286, 'epsilon': 0.001833128043761048}. Best is trial 593 with value: -0.006137730482857886.\u001b[0m\n",
      "\u001b[32m[I 2022-07-24 18:09:13,589]\u001b[0m Trial 785 finished with value: -0.006235345689494105 and parameters: {'kernel': 'rbf', 'C': 0.014896398922081297, 'gamma': 0.06424616757980553, 'epsilon': 0.0032968828579995934}. Best is trial 593 with value: -0.006137730482857886.\u001b[0m\n",
      "\u001b[32m[I 2022-07-24 18:09:13,681]\u001b[0m Trial 786 finished with value: -0.006150817011441704 and parameters: {'kernel': 'rbf', 'C': 0.01985914727864284, 'gamma': 0.05608452626868913, 'epsilon': 0.002264617041191558}. Best is trial 593 with value: -0.006137730482857886.\u001b[0m\n",
      "\u001b[32m[I 2022-07-24 18:09:13,808]\u001b[0m Trial 787 finished with value: -0.006189344733604569 and parameters: {'kernel': 'rbf', 'C': 0.016653279187884267, 'gamma': 0.08220415963855045, 'epsilon': 0.001424484706430706}. Best is trial 593 with value: -0.006137730482857886.\u001b[0m\n",
      "\u001b[32m[I 2022-07-24 18:09:13,953]\u001b[0m Trial 788 finished with value: -0.006207336602156225 and parameters: {'kernel': 'rbf', 'C': 0.012654588297256183, 'gamma': 0.05081613891504393, 'epsilon': 0.0020522409244341255}. Best is trial 593 with value: -0.006137730482857886.\u001b[0m\n",
      "\u001b[32m[I 2022-07-24 18:09:14,093]\u001b[0m Trial 789 finished with value: -0.006256729608709183 and parameters: {'kernel': 'rbf', 'C': 0.011268651429099854, 'gamma': 0.043956875707925114, 'epsilon': 0.001661940697418961}. Best is trial 593 with value: -0.006137730482857886.\u001b[0m\n",
      "\u001b[32m[I 2022-07-24 18:09:14,624]\u001b[0m Trial 790 finished with value: -0.00802696414523568 and parameters: {'kernel': 'rbf', 'C': 2.567772655355589, 'gamma': 0.06188170003911269, 'epsilon': 0.0010618361679662182}. Best is trial 593 with value: -0.006137730482857886.\u001b[0m\n",
      "\u001b[32m[I 2022-07-24 18:09:14,666]\u001b[0m Trial 791 finished with value: -0.0324366049147859 and parameters: {'kernel': 'rbf', 'C': 0.014476996008136449, 'gamma': 0.0983466184960546, 'epsilon': 0.03859477599613692}. Best is trial 593 with value: -0.006137730482857886.\u001b[0m\n",
      "\u001b[32m[I 2022-07-24 18:09:14,797]\u001b[0m Trial 792 finished with value: -0.006298698807640126 and parameters: {'kernel': 'rbf', 'C': 0.01818903484728328, 'gamma': 0.15233180752586487, 'epsilon': 0.0025612966867800823}. Best is trial 593 with value: -0.006137730482857886.\u001b[0m\n",
      "\u001b[32m[I 2022-07-24 18:09:14,954]\u001b[0m Trial 793 finished with value: -0.006241558784616565 and parameters: {'kernel': 'rbf', 'C': 0.021299006793849544, 'gamma': 0.11395260323319521, 'epsilon': 0.0020668447986375653}. Best is trial 593 with value: -0.006137730482857886.\u001b[0m\n",
      "\u001b[32m[I 2022-07-24 18:09:15,083]\u001b[0m Trial 794 finished with value: -0.006365247114670145 and parameters: {'kernel': 'rbf', 'C': 0.013615098246539942, 'gamma': 0.19046854848207576, 'epsilon': 0.003033869595776206}. Best is trial 593 with value: -0.006137730482857886.\u001b[0m\n",
      "\u001b[32m[I 2022-07-24 18:09:15,211]\u001b[0m Trial 795 finished with value: -0.006155833883480291 and parameters: {'kernel': 'rbf', 'C': 0.016093202152549037, 'gamma': 0.07289687623311585, 'epsilon': 0.0023519573762444007}. Best is trial 593 with value: -0.006137730482857886.\u001b[0m\n",
      "\u001b[32m[I 2022-07-24 18:09:15,325]\u001b[0m Trial 796 finished with value: -0.006297776046363838 and parameters: {'kernel': 'rbf', 'C': 0.011879130729824806, 'gamma': 0.031444924129195584, 'epsilon': 0.0017979285392968796}. Best is trial 593 with value: -0.006137730482857886.\u001b[0m\n",
      "\u001b[32m[I 2022-07-24 18:09:15,430]\u001b[0m Trial 797 finished with value: -0.006158243394218769 and parameters: {'kernel': 'rbf', 'C': 0.015481815290916152, 'gamma': 0.0836161973850267, 'epsilon': 0.00197626819783257}. Best is trial 593 with value: -0.006137730482857886.\u001b[0m\n",
      "\u001b[32m[I 2022-07-24 18:09:15,526]\u001b[0m Trial 798 finished with value: -0.006169653401687607 and parameters: {'kernel': 'rbf', 'C': 0.018491133459530455, 'gamma': 0.06506606479352055, 'epsilon': 0.002591835356302509}. Best is trial 593 with value: -0.006137730482857886.\u001b[0m\n",
      "\u001b[32m[I 2022-07-24 18:09:15,645]\u001b[0m Trial 799 finished with value: -0.0061727894774765675 and parameters: {'kernel': 'rbf', 'C': 0.013792562879918513, 'gamma': 0.09131757507864378, 'epsilon': 0.0016336448112078694}. Best is trial 593 with value: -0.006137730482857886.\u001b[0m\n",
      "\u001b[32m[I 2022-07-24 18:09:15,739]\u001b[0m Trial 800 finished with value: -0.006164082394518579 and parameters: {'kernel': 'rbf', 'C': 0.01132088058214282, 'gamma': 0.07508421658774916, 'epsilon': 0.0022361442466789037}. Best is trial 593 with value: -0.006137730482857886.\u001b[0m\n",
      "\u001b[32m[I 2022-07-24 18:09:15,857]\u001b[0m Trial 801 finished with value: -0.0061728656255325256 and parameters: {'kernel': 'rbf', 'C': 0.016733258177018734, 'gamma': 0.05938922379029367, 'epsilon': 0.0013737682160417292}. Best is trial 593 with value: -0.006137730482857886.\u001b[0m\n",
      "\u001b[32m[I 2022-07-24 18:09:15,988]\u001b[0m Trial 802 finished with value: -0.006173262172609613 and parameters: {'kernel': 'rbf', 'C': 0.013745462769695764, 'gamma': 0.10016178851945956, 'epsilon': 0.0018802777004032585}. Best is trial 593 with value: -0.006137730482857886.\u001b[0m\n",
      "\u001b[32m[I 2022-07-24 18:09:16,110]\u001b[0m Trial 803 finished with value: -0.0063161516059589825 and parameters: {'kernel': 'rbf', 'C': 0.010018275730289903, 'gamma': 0.06862935978052818, 'epsilon': 0.0038026185706337852}. Best is trial 593 with value: -0.006137730482857886.\u001b[0m\n",
      "\u001b[32m[I 2022-07-24 18:09:16,275]\u001b[0m Trial 804 finished with value: -0.006209899675868558 and parameters: {'kernel': 'rbf', 'C': 0.020666997724817202, 'gamma': 0.08233688850188044, 'epsilon': 0.002321888802847447}. Best is trial 593 with value: -0.006137730482857886.\u001b[0m\n",
      "\u001b[32m[I 2022-07-24 18:09:16,312]\u001b[0m Trial 805 finished with value: -0.03564469137116573 and parameters: {'kernel': 'rbf', 'C': 0.4464144743841549, 'gamma': 0.05123214391774321, 'epsilon': 0.6962049115192703}. Best is trial 593 with value: -0.006137730482857886.\u001b[0m\n"
     ]
    },
    {
     "name": "stderr",
     "output_type": "stream",
     "text": [
      "\u001b[32m[I 2022-07-24 18:09:16,394]\u001b[0m Trial 806 finished with value: -0.007466981313758562 and parameters: {'kernel': 'rbf', 'C': 0.012777574893283308, 'gamma': 0.12636291260295066, 'epsilon': 0.007022532084811789}. Best is trial 593 with value: -0.006137730482857886.\u001b[0m\n",
      "\u001b[32m[I 2022-07-24 18:09:16,464]\u001b[0m Trial 807 finished with value: -0.0062437211475923375 and parameters: {'kernel': 'rbf', 'C': 0.015499874212765986, 'gamma': 0.07580700615928514, 'epsilon': 0.0032285642482690253}. Best is trial 593 with value: -0.006137730482857886.\u001b[0m\n",
      "\u001b[32m[I 2022-07-24 18:09:16,570]\u001b[0m Trial 808 finished with value: -0.006182747401803496 and parameters: {'kernel': 'rbf', 'C': 0.011398797263604987, 'gamma': 0.09202323407445694, 'epsilon': 0.002658619717996642}. Best is trial 593 with value: -0.006137730482857886.\u001b[0m\n",
      "\u001b[32m[I 2022-07-24 18:09:16,695]\u001b[0m Trial 809 finished with value: -0.006209520136208529 and parameters: {'kernel': 'rbf', 'C': 0.03310429038682925, 'gamma': 0.0559183320042678, 'epsilon': 0.00206671972010073}. Best is trial 593 with value: -0.006137730482857886.\u001b[0m\n",
      "\u001b[32m[I 2022-07-24 18:09:16,841]\u001b[0m Trial 810 finished with value: -0.00686984528459432 and parameters: {'kernel': 'poly', 'C': 0.01759021901512053, 'gamma': 0.06478284093533901, 'epsilon': 0.0015782426397982074}. Best is trial 593 with value: -0.006137730482857886.\u001b[0m\n",
      "\u001b[32m[I 2022-07-24 18:09:16,941]\u001b[0m Trial 811 finished with value: -0.0061752357404148165 and parameters: {'kernel': 'rbf', 'C': 0.010019828235835106, 'gamma': 0.11024508404052667, 'epsilon': 0.0022640609706126927}. Best is trial 593 with value: -0.006137730482857886.\u001b[0m\n",
      "\u001b[32m[I 2022-07-24 18:09:17,052]\u001b[0m Trial 812 finished with value: -0.006212367078191963 and parameters: {'kernel': 'rbf', 'C': 0.02446806230900247, 'gamma': 0.08557074688808097, 'epsilon': 0.0017958058737540625}. Best is trial 593 with value: -0.006137730482857886.\u001b[0m\n",
      "\u001b[32m[I 2022-07-24 18:09:17,141]\u001b[0m Trial 813 finished with value: -0.006179205531295387 and parameters: {'kernel': 'rbf', 'C': 0.014270352232816997, 'gamma': 0.07269244932378421, 'epsilon': 0.002739435909261769}. Best is trial 593 with value: -0.006137730482857886.\u001b[0m\n",
      "\u001b[32m[I 2022-07-24 18:09:17,325]\u001b[0m Trial 814 finished with value: -0.006449293397095776 and parameters: {'kernel': 'rbf', 'C': 0.13751940558240516, 'gamma': 0.045558840215437574, 'epsilon': 0.0019342546463644434}. Best is trial 593 with value: -0.006137730482857886.\u001b[0m\n",
      "\u001b[32m[I 2022-07-24 18:09:17,429]\u001b[0m Trial 815 finished with value: -0.006162788533629734 and parameters: {'kernel': 'rbf', 'C': 0.01264803401887318, 'gamma': 0.05890869278448195, 'epsilon': 0.0024016553346845344}. Best is trial 593 with value: -0.006137730482857886.\u001b[0m\n",
      "\u001b[32m[I 2022-07-24 18:09:17,643]\u001b[0m Trial 816 finished with value: -0.006195473746581165 and parameters: {'kernel': 'rbf', 'C': 0.019236381901712396, 'gamma': 0.07846734078430519, 'epsilon': 0.0015631789142494558}. Best is trial 593 with value: -0.006137730482857886.\u001b[0m\n",
      "\u001b[32m[I 2022-07-24 18:09:17,720]\u001b[0m Trial 817 finished with value: -0.03564469137116575 and parameters: {'kernel': 'rbf', 'C': 0.016145306804172456, 'gamma': 0.10174610435588717, 'epsilon': 0.3556281632751211}. Best is trial 593 with value: -0.006137730482857886.\u001b[0m\n",
      "\u001b[32m[I 2022-07-24 18:09:17,847]\u001b[0m Trial 818 finished with value: -0.006143965297176851 and parameters: {'kernel': 'rbf', 'C': 0.01411744083201106, 'gamma': 0.06959270034127354, 'epsilon': 0.0021494505241370283}. Best is trial 593 with value: -0.006137730482857886.\u001b[0m\n",
      "\u001b[32m[I 2022-07-24 18:09:17,879]\u001b[0m Trial 819 finished with value: -0.03564469137116574 and parameters: {'kernel': 'rbf', 'C': 0.012581739958379844, 'gamma': 0.052568297587235975, 'epsilon': 0.11791172332352612}. Best is trial 593 with value: -0.006137730482857886.\u001b[0m\n",
      "\u001b[32m[I 2022-07-24 18:09:17,969]\u001b[0m Trial 820 finished with value: -0.006196443324393466 and parameters: {'kernel': 'rbf', 'C': 0.015054850793731872, 'gamma': 0.06479687962170307, 'epsilon': 0.003014318419013543}. Best is trial 593 with value: -0.006137730482857886.\u001b[0m\n",
      "\u001b[32m[I 2022-07-24 18:09:18,064]\u001b[0m Trial 821 finished with value: -0.006144842992651959 and parameters: {'kernel': 'rbf', 'C': 0.017937749468197258, 'gamma': 0.059902275777667796, 'epsilon': 0.0021275853361731357}. Best is trial 593 with value: -0.006137730482857886.\u001b[0m\n",
      "\u001b[32m[I 2022-07-24 18:09:18,163]\u001b[0m Trial 822 finished with value: -0.006175866881898344 and parameters: {'kernel': 'rbf', 'C': 0.02591650971312133, 'gamma': 0.04789794005794323, 'epsilon': 0.0024829425267790767}. Best is trial 593 with value: -0.006137730482857886.\u001b[0m\n",
      "\u001b[32m[I 2022-07-24 18:09:18,264]\u001b[0m Trial 823 finished with value: -0.006155962781328859 and parameters: {'kernel': 'rbf', 'C': 0.022698063665417625, 'gamma': 0.05721651081424242, 'epsilon': 0.002136897437896438}. Best is trial 593 with value: -0.006137730482857886.\u001b[0m\n",
      "\u001b[32m[I 2022-07-24 18:09:18,380]\u001b[0m Trial 824 finished with value: -0.006223256215481837 and parameters: {'kernel': 'rbf', 'C': 0.021180087476459483, 'gamma': 0.03517751336460076, 'epsilon': 0.0017825170961826237}. Best is trial 593 with value: -0.006137730482857886.\u001b[0m\n",
      "\u001b[32m[I 2022-07-24 18:09:18,482]\u001b[0m Trial 825 finished with value: -0.006202399668628163 and parameters: {'kernel': 'rbf', 'C': 0.019333478400502032, 'gamma': 0.040219111008247856, 'epsilon': 0.0026272541422175115}. Best is trial 593 with value: -0.006137730482857886.\u001b[0m\n",
      "\u001b[32m[I 2022-07-24 18:09:18,575]\u001b[0m Trial 826 finished with value: -0.006170387840998451 and parameters: {'kernel': 'rbf', 'C': 0.017774963428345714, 'gamma': 0.04800597032176331, 'epsilon': 0.0021107919866980183}. Best is trial 593 with value: -0.006137730482857886.\u001b[0m\n",
      "\u001b[32m[I 2022-07-24 18:09:18,730]\u001b[0m Trial 827 finished with value: -0.006193594224179248 and parameters: {'kernel': 'rbf', 'C': 0.022568173455954202, 'gamma': 0.057783712714977405, 'epsilon': 0.0012428258834991273}. Best is trial 593 with value: -0.006137730482857886.\u001b[0m\n",
      "\u001b[32m[I 2022-07-24 18:09:18,836]\u001b[0m Trial 828 finished with value: -0.006194909404134191 and parameters: {'kernel': 'rbf', 'C': 0.01907087348563738, 'gamma': 0.042058863346052, 'epsilon': 0.0019012998746059974}. Best is trial 593 with value: -0.006137730482857886.\u001b[0m\n",
      "\u001b[32m[I 2022-07-24 18:09:18,916]\u001b[0m Trial 829 finished with value: -0.006203289151197839 and parameters: {'kernel': 'rbf', 'C': 0.01716667618261602, 'gamma': 0.06616834060980528, 'epsilon': 0.003131835402793801}. Best is trial 593 with value: -0.006137730482857886.\u001b[0m\n",
      "\u001b[32m[I 2022-07-24 18:09:19,017]\u001b[0m Trial 830 finished with value: -0.006178445951734372 and parameters: {'kernel': 'rbf', 'C': 0.028415486286174615, 'gamma': 0.053314506459267934, 'epsilon': 0.0023366953879029274}. Best is trial 593 with value: -0.006137730482857886.\u001b[0m\n",
      "\u001b[32m[I 2022-07-24 18:09:19,140]\u001b[0m Trial 831 finished with value: -0.006170107582992985 and parameters: {'kernel': 'rbf', 'C': 0.019930158995410147, 'gamma': 0.06434553526733408, 'epsilon': 0.0015781278408866456}. Best is trial 593 with value: -0.006137730482857886.\u001b[0m\n",
      "\u001b[32m[I 2022-07-24 18:09:19,244]\u001b[0m Trial 832 finished with value: -0.006153405230890569 and parameters: {'kernel': 'rbf', 'C': 0.01583817337663682, 'gamma': 0.06986962168720373, 'epsilon': 0.002084130015185438}. Best is trial 593 with value: -0.006137730482857886.\u001b[0m\n",
      "\u001b[32m[I 2022-07-24 18:09:19,340]\u001b[0m Trial 833 finished with value: -0.006175885066469815 and parameters: {'kernel': 'rbf', 'C': 0.017374443891559444, 'gamma': 0.0608290820320853, 'epsilon': 0.0027146964699551798}. Best is trial 593 with value: -0.006137730482857886.\u001b[0m\n",
      "\u001b[32m[I 2022-07-24 18:09:19,464]\u001b[0m Trial 834 finished with value: -0.006173019896745217 and parameters: {'kernel': 'rbf', 'C': 0.024151032709573906, 'gamma': 0.05237540584306707, 'epsilon': 0.0017586037121022447}. Best is trial 593 with value: -0.006137730482857886.\u001b[0m\n",
      "\u001b[32m[I 2022-07-24 18:09:19,595]\u001b[0m Trial 835 finished with value: -0.006162770232483551 and parameters: {'kernel': 'rbf', 'C': 0.014922822850445959, 'gamma': 0.07578469603650287, 'epsilon': 0.002370057583512006}. Best is trial 593 with value: -0.006137730482857886.\u001b[0m\n",
      "\u001b[32m[I 2022-07-24 18:09:19,775]\u001b[0m Trial 836 finished with value: -0.006192882195575477 and parameters: {'kernel': 'rbf', 'C': 0.021060245853116524, 'gamma': 0.08823870501884373, 'epsilon': 0.001958425656061605}. Best is trial 593 with value: -0.006137730482857886.\u001b[0m\n"
     ]
    },
    {
     "name": "stderr",
     "output_type": "stream",
     "text": [
      "\u001b[32m[I 2022-07-24 18:09:19,932]\u001b[0m Trial 837 finished with value: -0.006173460379077206 and parameters: {'kernel': 'rbf', 'C': 0.016930004405859355, 'gamma': 0.06080894145096305, 'epsilon': 0.0013542678465738537}. Best is trial 593 with value: -0.006137730482857886.\u001b[0m\n",
      "\u001b[32m[I 2022-07-24 18:09:20,015]\u001b[0m Trial 838 finished with value: -0.006258258998701003 and parameters: {'kernel': 'rbf', 'C': 0.013975195379268406, 'gamma': 0.06998700167022484, 'epsilon': 0.003446025226960206}. Best is trial 593 with value: -0.006137730482857886.\u001b[0m\n",
      "\u001b[32m[I 2022-07-24 18:09:20,158]\u001b[0m Trial 839 finished with value: -0.006754043849142486 and parameters: {'kernel': 'poly', 'C': 0.018675175210642388, 'gamma': 0.0802606724970991, 'epsilon': 0.002780372393581776}. Best is trial 593 with value: -0.006137730482857886.\u001b[0m\n",
      "\u001b[32m[I 2022-07-24 18:09:20,249]\u001b[0m Trial 840 finished with value: -0.006175843516022452 and parameters: {'kernel': 'rbf', 'C': 0.015317967997870642, 'gamma': 0.04885156301672724, 'epsilon': 0.002220933673603819}. Best is trial 593 with value: -0.006137730482857886.\u001b[0m\n",
      "\u001b[32m[I 2022-07-24 18:09:20,361]\u001b[0m Trial 841 finished with value: -0.006168386288810582 and parameters: {'kernel': 'rbf', 'C': 0.013088179970211748, 'gamma': 0.08719575249742509, 'epsilon': 0.0016887815351255308}. Best is trial 593 with value: -0.006137730482857886.\u001b[0m\n",
      "\u001b[32m[I 2022-07-24 18:09:20,472]\u001b[0m Trial 842 finished with value: -0.00616995670817333 and parameters: {'kernel': 'rbf', 'C': 0.011236912551234643, 'gamma': 0.06757126217804037, 'epsilon': 0.001951045972825294}. Best is trial 593 with value: -0.006137730482857886.\u001b[0m\n",
      "\u001b[32m[I 2022-07-24 18:09:20,573]\u001b[0m Trial 843 finished with value: -0.00614642699824645 and parameters: {'kernel': 'rbf', 'C': 0.016087418100121646, 'gamma': 0.05771579253896926, 'epsilon': 0.0024337990142317876}. Best is trial 593 with value: -0.006137730482857886.\u001b[0m\n",
      "\u001b[32m[I 2022-07-24 18:09:20,675]\u001b[0m Trial 844 finished with value: -0.006214418327062657 and parameters: {'kernel': 'rbf', 'C': 0.019962792898563245, 'gamma': 0.04034385895116331, 'epsilon': 0.002916401276138164}. Best is trial 593 with value: -0.006137730482857886.\u001b[0m\n",
      "\u001b[32m[I 2022-07-24 18:09:20,772]\u001b[0m Trial 845 finished with value: -0.0061578200153678654 and parameters: {'kernel': 'rbf', 'C': 0.017243232962055245, 'gamma': 0.053396728357296065, 'epsilon': 0.0025171784193339978}. Best is trial 593 with value: -0.006137730482857886.\u001b[0m\n",
      "\u001b[32m[I 2022-07-24 18:09:20,844]\u001b[0m Trial 846 finished with value: -0.006240708219545338 and parameters: {'kernel': 'rbf', 'C': 0.021973114599985303, 'gamma': 0.050618807519748274, 'epsilon': 0.0033160555927848785}. Best is trial 593 with value: -0.006137730482857886.\u001b[0m\n",
      "\u001b[32m[I 2022-07-24 18:09:20,945]\u001b[0m Trial 847 finished with value: -0.006191393250409141 and parameters: {'kernel': 'rbf', 'C': 0.015645756999732464, 'gamma': 0.04800130208473103, 'epsilon': 0.0023879562319179155}. Best is trial 593 with value: -0.006137730482857886.\u001b[0m\n",
      "\u001b[32m[I 2022-07-24 18:09:21,038]\u001b[0m Trial 848 finished with value: -0.006182974007853707 and parameters: {'kernel': 'rbf', 'C': 0.013838705661694636, 'gamma': 0.06049609407767541, 'epsilon': 0.0028111371053795926}. Best is trial 593 with value: -0.006137730482857886.\u001b[0m\n",
      "\u001b[32m[I 2022-07-24 18:09:21,144]\u001b[0m Trial 849 finished with value: -0.0061749905434542425 and parameters: {'kernel': 'rbf', 'C': 0.018284260996622406, 'gamma': 0.04623347607962939, 'epsilon': 0.002171782571395548}. Best is trial 593 with value: -0.006137730482857886.\u001b[0m\n",
      "\u001b[32m[I 2022-07-24 18:09:21,234]\u001b[0m Trial 850 finished with value: -0.006192230970710019 and parameters: {'kernel': 'rbf', 'C': 0.011927354130748214, 'gamma': 0.05670667155039408, 'epsilon': 0.0024613500284015235}. Best is trial 593 with value: -0.006137730482857886.\u001b[0m\n",
      "\u001b[32m[I 2022-07-24 18:09:21,341]\u001b[0m Trial 851 finished with value: -0.0061697978891126415 and parameters: {'kernel': 'rbf', 'C': 0.015885610627379976, 'gamma': 0.0572272191427151, 'epsilon': 0.0017628319701238704}. Best is trial 593 with value: -0.006137730482857886.\u001b[0m\n",
      "\u001b[32m[I 2022-07-24 18:09:21,417]\u001b[0m Trial 852 finished with value: -0.006309958331715989 and parameters: {'kernel': 'rbf', 'C': 0.014013100620448677, 'gamma': 0.0657495934747923, 'epsilon': 0.003736311376425775}. Best is trial 593 with value: -0.006137730482857886.\u001b[0m\n",
      "\u001b[32m[I 2022-07-24 18:09:21,532]\u001b[0m Trial 853 finished with value: -0.006151387125200389 and parameters: {'kernel': 'rbf', 'C': 0.019919460685788298, 'gamma': 0.05420546706060576, 'epsilon': 0.0020792993280752234}. Best is trial 593 with value: -0.006137730482857886.\u001b[0m\n",
      "\u001b[32m[I 2022-07-24 18:09:21,670]\u001b[0m Trial 854 finished with value: -0.0062221122886477465 and parameters: {'kernel': 'rbf', 'C': 0.017133351092330034, 'gamma': 0.04218455025654868, 'epsilon': 0.0014671811019709412}. Best is trial 593 with value: -0.006137730482857886.\u001b[0m\n",
      "\u001b[32m[I 2022-07-24 18:09:21,770]\u001b[0m Trial 855 finished with value: -0.00621227727006658 and parameters: {'kernel': 'rbf', 'C': 0.025401065956119382, 'gamma': 0.07013698405737914, 'epsilon': 0.002586785904249625}. Best is trial 593 with value: -0.006137730482857886.\u001b[0m\n",
      "\u001b[32m[I 2022-07-24 18:09:21,887]\u001b[0m Trial 856 finished with value: -0.00616695191073471 and parameters: {'kernel': 'rbf', 'C': 0.012692764547813228, 'gamma': 0.06403596050807381, 'epsilon': 0.0018689740879674639}. Best is trial 593 with value: -0.006137730482857886.\u001b[0m\n",
      "\u001b[32m[I 2022-07-24 18:09:21,986]\u001b[0m Trial 857 finished with value: -0.0062727829287621386 and parameters: {'kernel': 'rbf', 'C': 0.011196751494495966, 'gamma': 0.036334709715549474, 'epsilon': 0.0022132809149079473}. Best is trial 593 with value: -0.006137730482857886.\u001b[0m\n",
      "\u001b[32m[I 2022-07-24 18:09:22,084]\u001b[0m Trial 858 finished with value: -0.00622841153802364 and parameters: {'kernel': 'rbf', 'C': 0.014746397396174789, 'gamma': 0.07252417884364792, 'epsilon': 0.0031584739259109353}. Best is trial 593 with value: -0.006137730482857886.\u001b[0m\n",
      "\u001b[32m[I 2022-07-24 18:09:22,227]\u001b[0m Trial 859 finished with value: -0.006195426277618358 and parameters: {'kernel': 'rbf', 'C': 0.01743063477826969, 'gamma': 0.09685048555316587, 'epsilon': 0.0016427868451014862}. Best is trial 593 with value: -0.006137730482857886.\u001b[0m\n",
      "\u001b[32m[I 2022-07-24 18:09:22,410]\u001b[0m Trial 860 finished with value: -0.006229312521889651 and parameters: {'kernel': 'rbf', 'C': 0.013396103561218679, 'gamma': 0.04344310235679207, 'epsilon': 0.0019378934941908443}. Best is trial 593 with value: -0.006137730482857886.\u001b[0m\n",
      "\u001b[32m[I 2022-07-24 18:09:22,562]\u001b[0m Trial 861 finished with value: -0.0061676651066296375 and parameters: {'kernel': 'rbf', 'C': 0.02246806673908616, 'gamma': 0.05892031978858222, 'epsilon': 0.0023524735436352947}. Best is trial 593 with value: -0.006137730482857886.\u001b[0m\n",
      "\u001b[32m[I 2022-07-24 18:09:22,727]\u001b[0m Trial 862 finished with value: -0.006201458307185027 and parameters: {'kernel': 'rbf', 'C': 0.010166338167220925, 'gamma': 0.07819769317626671, 'epsilon': 0.0029046495716778817}. Best is trial 593 with value: -0.006137730482857886.\u001b[0m\n",
      "\u001b[32m[I 2022-07-24 18:09:22,837]\u001b[0m Trial 863 finished with value: -0.006199098233181058 and parameters: {'kernel': 'rbf', 'C': 0.015401227382869928, 'gamma': 0.11098406058903242, 'epsilon': 0.0020893561979041736}. Best is trial 593 with value: -0.006137730482857886.\u001b[0m\n",
      "\u001b[32m[I 2022-07-24 18:09:22,975]\u001b[0m Trial 864 finished with value: -0.006162913463702982 and parameters: {'kernel': 'rbf', 'C': 0.011946323241647126, 'gamma': 0.08745383372662405, 'epsilon': 0.0015139871821981859}. Best is trial 593 with value: -0.006137730482857886.\u001b[0m\n",
      "\u001b[32m[I 2022-07-24 18:09:23,085]\u001b[0m Trial 865 finished with value: -0.006203978634303167 and parameters: {'kernel': 'rbf', 'C': 0.010042039408815207, 'gamma': 0.061612275921225305, 'epsilon': 0.002581950969309882}. Best is trial 593 with value: -0.006137730482857886.\u001b[0m\n",
      "\u001b[32m[I 2022-07-24 18:09:23,213]\u001b[0m Trial 866 finished with value: -0.0061621550946608684 and parameters: {'kernel': 'rbf', 'C': 0.017791526492309973, 'gamma': 0.07700716421537712, 'epsilon': 0.0017710004734085}. Best is trial 593 with value: -0.006137730482857886.\u001b[0m\n",
      "\u001b[32m[I 2022-07-24 18:09:23,375]\u001b[0m Trial 867 finished with value: -0.006838877878139492 and parameters: {'kernel': 'poly', 'C': 0.014068916251532906, 'gamma': 0.05164626192457307, 'epsilon': 0.0022718565373748795}. Best is trial 593 with value: -0.006137730482857886.\u001b[0m\n"
     ]
    },
    {
     "name": "stderr",
     "output_type": "stream",
     "text": [
      "\u001b[32m[I 2022-07-24 18:09:23,490]\u001b[0m Trial 868 finished with value: -0.006202570460303172 and parameters: {'kernel': 'rbf', 'C': 0.0124012493147825, 'gamma': 0.12593182163338656, 'epsilon': 0.0019481426443109463}. Best is trial 593 with value: -0.006137730482857886.\u001b[0m\n",
      "\u001b[32m[I 2022-07-24 18:09:23,582]\u001b[0m Trial 869 finished with value: -0.006189001776393368 and parameters: {'kernel': 'rbf', 'C': 0.019625193250958198, 'gamma': 0.06765677371730865, 'epsilon': 0.002663969335978647}. Best is trial 593 with value: -0.006137730482857886.\u001b[0m\n",
      "\u001b[32m[I 2022-07-24 18:09:23,705]\u001b[0m Trial 870 finished with value: -0.006180384364590297 and parameters: {'kernel': 'rbf', 'C': 0.015937421848124588, 'gamma': 0.09480908209778255, 'epsilon': 0.002148519262751456}. Best is trial 593 with value: -0.006137730482857886.\u001b[0m\n",
      "\u001b[32m[I 2022-07-24 18:09:23,818]\u001b[0m Trial 871 finished with value: -0.006165478016080827 and parameters: {'kernel': 'rbf', 'C': 0.013943978743102168, 'gamma': 0.08047295896528701, 'epsilon': 0.001709384975316586}. Best is trial 593 with value: -0.006137730482857886.\u001b[0m\n",
      "\u001b[32m[I 2022-07-24 18:09:23,941]\u001b[0m Trial 872 finished with value: -0.006872727106521519 and parameters: {'kernel': 'rbf', 'C': 0.01628801250549651, 'gamma': 0.003472917315300171, 'epsilon': 0.0024042725192333536}. Best is trial 593 with value: -0.006137730482857886.\u001b[0m\n",
      "\u001b[32m[I 2022-07-24 18:09:24,126]\u001b[0m Trial 873 finished with value: -0.006252950414481683 and parameters: {'kernel': 'rbf', 'C': 0.011133169325447397, 'gamma': 0.045474479604525886, 'epsilon': 0.0014522414723902057}. Best is trial 593 with value: -0.006137730482857886.\u001b[0m\n",
      "\u001b[32m[I 2022-07-24 18:09:24,274]\u001b[0m Trial 874 finished with value: -0.00614942880230823 and parameters: {'kernel': 'rbf', 'C': 0.020176324052972584, 'gamma': 0.0580724415244971, 'epsilon': 0.0019784084207629723}. Best is trial 593 with value: -0.006137730482857886.\u001b[0m\n",
      "\u001b[32m[I 2022-07-24 18:09:24,390]\u001b[0m Trial 875 finished with value: -0.006183339053255601 and parameters: {'kernel': 'rbf', 'C': 0.012651128807109637, 'gamma': 0.06963309119768535, 'epsilon': 0.002916445867418455}. Best is trial 593 with value: -0.006137730482857886.\u001b[0m\n",
      "\u001b[32m[I 2022-07-24 18:09:24,491]\u001b[0m Trial 876 finished with value: -0.006171047864685857 and parameters: {'kernel': 'rbf', 'C': 0.010017074159216698, 'gamma': 0.10226499034947881, 'epsilon': 0.0018418187276404187}. Best is trial 593 with value: -0.006137730482857886.\u001b[0m\n",
      "\u001b[32m[I 2022-07-24 18:09:24,616]\u001b[0m Trial 877 finished with value: -0.006183129448996826 and parameters: {'kernel': 'rbf', 'C': 0.014896072858865123, 'gamma': 0.08180968190877919, 'epsilon': 0.001240162247607199}. Best is trial 593 with value: -0.006137730482857886.\u001b[0m\n",
      "\u001b[32m[I 2022-07-24 18:09:24,737]\u001b[0m Trial 878 finished with value: -0.006148676053370301 and parameters: {'kernel': 'rbf', 'C': 0.017701008691419818, 'gamma': 0.05308141464564157, 'epsilon': 0.002283747696054654}. Best is trial 593 with value: -0.006137730482857886.\u001b[0m\n",
      "\u001b[32m[I 2022-07-24 18:09:24,856]\u001b[0m Trial 879 finished with value: -0.006208227577953321 and parameters: {'kernel': 'rbf', 'C': 0.027537436996068563, 'gamma': 0.06591353832391607, 'epsilon': 0.0016548455258535598}. Best is trial 593 with value: -0.006137730482857886.\u001b[0m\n",
      "\u001b[32m[I 2022-07-24 18:09:24,953]\u001b[0m Trial 880 finished with value: -0.006219310811968727 and parameters: {'kernel': 'rbf', 'C': 0.02190883873065787, 'gamma': 0.08853490434103002, 'epsilon': 0.002559932862393769}. Best is trial 593 with value: -0.006137730482857886.\u001b[0m\n",
      "\u001b[32m[I 2022-07-24 18:09:25,047]\u001b[0m Trial 881 finished with value: -0.006148481760368064 and parameters: {'kernel': 'rbf', 'C': 0.013152781613697023, 'gamma': 0.07666751138314702, 'epsilon': 0.002108246944458544}. Best is trial 593 with value: -0.006137730482857886.\u001b[0m\n",
      "\u001b[32m[I 2022-07-24 18:09:25,157]\u001b[0m Trial 882 finished with value: -0.0062246946770086594 and parameters: {'kernel': 'rbf', 'C': 0.015526594062774426, 'gamma': 0.06211354407410374, 'epsilon': 0.003288992533667005}. Best is trial 593 with value: -0.006137730482857886.\u001b[0m\n",
      "\u001b[32m[I 2022-07-24 18:09:25,416]\u001b[0m Trial 883 finished with value: -0.0070063692324361425 and parameters: {'kernel': 'rbf', 'C': 0.2692725196454064, 'gamma': 0.11301125836912401, 'epsilon': 0.0019136114432545756}. Best is trial 593 with value: -0.006137730482857886.\u001b[0m\n",
      "\u001b[32m[I 2022-07-24 18:09:25,530]\u001b[0m Trial 884 finished with value: -0.006175727291749322 and parameters: {'kernel': 'rbf', 'C': 0.010021555868846227, 'gamma': 0.09344428372915674, 'epsilon': 0.0023786053151444633}. Best is trial 593 with value: -0.006137730482857886.\u001b[0m\n",
      "\u001b[32m[I 2022-07-24 18:09:25,626]\u001b[0m Trial 885 finished with value: -0.006192268317576713 and parameters: {'kernel': 'rbf', 'C': 0.011760357229630088, 'gamma': 0.07138968785364129, 'epsilon': 0.0029027455737489776}. Best is trial 593 with value: -0.006137730482857886.\u001b[0m\n",
      "\u001b[32m[I 2022-07-24 18:09:25,767]\u001b[0m Trial 886 finished with value: -0.006178742585183798 and parameters: {'kernel': 'rbf', 'C': 0.018614531337106444, 'gamma': 0.05549488367033788, 'epsilon': 0.0015300074028041023}. Best is trial 593 with value: -0.006137730482857886.\u001b[0m\n",
      "\u001b[32m[I 2022-07-24 18:09:25,870]\u001b[0m Trial 887 finished with value: -0.006160220940923746 and parameters: {'kernel': 'rbf', 'C': 0.014020106881079112, 'gamma': 0.0811222919304174, 'epsilon': 0.0021139491730728243}. Best is trial 593 with value: -0.006137730482857886.\u001b[0m\n",
      "\u001b[32m[I 2022-07-24 18:09:25,997]\u001b[0m Trial 888 finished with value: -0.006200742526328646 and parameters: {'kernel': 'rbf', 'C': 0.01594718328472717, 'gamma': 0.04788698335697447, 'epsilon': 0.001779379969016394}. Best is trial 593 with value: -0.006137730482857886.\u001b[0m\n",
      "\u001b[32m[I 2022-07-24 18:09:26,117]\u001b[0m Trial 889 finished with value: -0.006163863367896714 and parameters: {'kernel': 'rbf', 'C': 0.012407077149226514, 'gamma': 0.07031403592662964, 'epsilon': 0.0025071459226081705}. Best is trial 593 with value: -0.006137730482857886.\u001b[0m\n",
      "\u001b[32m[I 2022-07-24 18:09:26,239]\u001b[0m Trial 890 finished with value: -0.006226751046501716 and parameters: {'kernel': 'rbf', 'C': 0.02370573130253268, 'gamma': 0.09745377083913323, 'epsilon': 0.002104032033511227}. Best is trial 593 with value: -0.006137730482857886.\u001b[0m\n",
      "\u001b[32m[I 2022-07-24 18:09:26,354]\u001b[0m Trial 891 finished with value: -0.006311784909844298 and parameters: {'kernel': 'rbf', 'C': 0.017838886310246244, 'gamma': 0.28634937767250773, 'epsilon': 0.0016793843637185244}. Best is trial 593 with value: -0.006137730482857886.\u001b[0m\n",
      "\u001b[32m[I 2022-07-24 18:09:26,442]\u001b[0m Trial 892 finished with value: -0.006372911814341645 and parameters: {'kernel': 'rbf', 'C': 0.015126312836155035, 'gamma': 0.0642374508458981, 'epsilon': 0.004196830347814526}. Best is trial 593 with value: -0.006137730482857886.\u001b[0m\n",
      "\u001b[32m[I 2022-07-24 18:09:26,536]\u001b[0m Trial 893 finished with value: -0.006177731284368728 and parameters: {'kernel': 'rbf', 'C': 0.013410555692816989, 'gamma': 0.0867106944256866, 'epsilon': 0.0027145316056283175}. Best is trial 593 with value: -0.006137730482857886.\u001b[0m\n",
      "\u001b[32m[I 2022-07-24 18:09:26,651]\u001b[0m Trial 894 finished with value: -0.006214033620948331 and parameters: {'kernel': 'rbf', 'C': 0.010021367521379235, 'gamma': 0.05935276638581801, 'epsilon': 0.0019237155237988586}. Best is trial 593 with value: -0.006137730482857886.\u001b[0m\n",
      "\u001b[32m[I 2022-07-24 18:09:29,273]\u001b[0m Trial 895 finished with value: -0.006707527122069933 and parameters: {'kernel': 'poly', 'C': 0.8717685069841126, 'gamma': 0.07314866043940552, 'epsilon': 0.0013585905187663862}. Best is trial 593 with value: -0.006137730482857886.\u001b[0m\n",
      "\u001b[32m[I 2022-07-24 18:09:29,378]\u001b[0m Trial 896 finished with value: -0.006188059120234207 and parameters: {'kernel': 'rbf', 'C': 0.019651838691144622, 'gamma': 0.08168080884428643, 'epsilon': 0.002265786936371847}. Best is trial 593 with value: -0.006137730482857886.\u001b[0m\n",
      "\u001b[32m[I 2022-07-24 18:09:29,482]\u001b[0m Trial 897 finished with value: -0.006704437195313714 and parameters: {'kernel': 'rbf', 'C': 0.07883642099076824, 'gamma': 0.14237181000785198, 'epsilon': 0.0024389067067610865}. Best is trial 593 with value: -0.006137730482857886.\u001b[0m\n",
      "\u001b[32m[I 2022-07-24 18:09:29,677]\u001b[0m Trial 898 finished with value: -0.006161311518418384 and parameters: {'kernel': 'rbf', 'C': 0.011509261192599042, 'gamma': 0.10149909909021398, 'epsilon': 0.001912201424294602}. Best is trial 593 with value: -0.006137730482857886.\u001b[0m\n"
     ]
    },
    {
     "name": "stderr",
     "output_type": "stream",
     "text": [
      "\u001b[32m[I 2022-07-24 18:09:29,854]\u001b[0m Trial 899 finished with value: -0.006190008688820817 and parameters: {'kernel': 'rbf', 'C': 0.01608907769508727, 'gamma': 0.05205426979157464, 'epsilon': 0.0029514081721962945}. Best is trial 593 with value: -0.006137730482857886.\u001b[0m\n",
      "\u001b[32m[I 2022-07-24 18:09:29,989]\u001b[0m Trial 900 finished with value: -0.00617596951508849 and parameters: {'kernel': 'rbf', 'C': 0.014679005430808554, 'gamma': 0.07417302775588933, 'epsilon': 0.0015787893198108613}. Best is trial 593 with value: -0.006137730482857886.\u001b[0m\n",
      "\u001b[32m[I 2022-07-24 18:09:30,087]\u001b[0m Trial 901 finished with value: -0.006229916295263665 and parameters: {'kernel': 'rbf', 'C': 0.01714434794614307, 'gamma': 0.11896968332445639, 'epsilon': 0.0021691777384566873}. Best is trial 593 with value: -0.006137730482857886.\u001b[0m\n",
      "\u001b[32m[I 2022-07-24 18:09:30,208]\u001b[0m Trial 902 finished with value: -0.0061665849063075725 and parameters: {'kernel': 'rbf', 'C': 0.013126064836771341, 'gamma': 0.06500597503493942, 'epsilon': 0.0017869693168264008}. Best is trial 593 with value: -0.006137730482857886.\u001b[0m\n",
      "\u001b[32m[I 2022-07-24 18:09:30,288]\u001b[0m Trial 903 finished with value: -0.0062877958129124055 and parameters: {'kernel': 'rbf', 'C': 0.01129543488341136, 'gamma': 0.08820173814295698, 'epsilon': 0.003446587451012075}. Best is trial 593 with value: -0.006137730482857886.\u001b[0m\n",
      "\u001b[32m[I 2022-07-24 18:09:30,326]\u001b[0m Trial 904 finished with value: -0.01307700212787602 and parameters: {'kernel': 'rbf', 'C': 0.02066775285021903, 'gamma': 0.05705975840740723, 'epsilon': 0.0164358908040344}. Best is trial 593 with value: -0.006137730482857886.\u001b[0m\n",
      "\u001b[32m[I 2022-07-24 18:09:30,426]\u001b[0m Trial 905 finished with value: -0.006175738663402915 and parameters: {'kernel': 'rbf', 'C': 0.017637403824558213, 'gamma': 0.07503865859337366, 'epsilon': 0.0025689051142184062}. Best is trial 593 with value: -0.006137730482857886.\u001b[0m\n",
      "\u001b[32m[I 2022-07-24 18:09:30,761]\u001b[0m Trial 906 finished with value: -0.008138877930395964 and parameters: {'kernel': 'rbf', 'C': 6.207159779064348, 'gamma': 0.10842657521244906, 'epsilon': 0.0021442051608477693}. Best is trial 593 with value: -0.006137730482857886.\u001b[0m\n",
      "\u001b[32m[I 2022-07-24 18:09:30,894]\u001b[0m Trial 907 finished with value: -0.0061562957187833505 and parameters: {'kernel': 'rbf', 'C': 0.014045247657037194, 'gamma': 0.09180990078976094, 'epsilon': 0.001898081214775831}. Best is trial 593 with value: -0.006137730482857886.\u001b[0m\n",
      "\u001b[32m[I 2022-07-24 18:09:30,959]\u001b[0m Trial 908 finished with value: -0.00657599599458509 and parameters: {'kernel': 'rbf', 'C': 0.011129088620171519, 'gamma': 0.04505679660959625, 'epsilon': 0.005007924499475368}. Best is trial 593 with value: -0.006137730482857886.\u001b[0m\n",
      "\u001b[32m[I 2022-07-24 18:09:31,071]\u001b[0m Trial 909 finished with value: -0.006157056839494217 and parameters: {'kernel': 'rbf', 'C': 0.012900567158821721, 'gamma': 0.06350832209449554, 'epsilon': 0.002342785716268743}. Best is trial 593 with value: -0.006137730482857886.\u001b[0m\n",
      "\u001b[32m[I 2022-07-24 18:09:31,194]\u001b[0m Trial 910 finished with value: -0.0061838080839288255 and parameters: {'kernel': 'rbf', 'C': 0.015610150087766275, 'gamma': 0.07906476870598415, 'epsilon': 0.0014522906856809464}. Best is trial 593 with value: -0.006137730482857886.\u001b[0m\n",
      "\u001b[32m[I 2022-07-24 18:09:31,343]\u001b[0m Trial 911 finished with value: -0.006235042045558257 and parameters: {'kernel': 'rbf', 'C': 0.019694054903168234, 'gamma': 0.032532350971225865, 'epsilon': 0.0026856511908499403}. Best is trial 593 with value: -0.006137730482857886.\u001b[0m\n",
      "\u001b[32m[I 2022-07-24 18:09:31,516]\u001b[0m Trial 912 finished with value: -0.00617432243274 and parameters: {'kernel': 'rbf', 'C': 0.014321738161392327, 'gamma': 0.06783577394723739, 'epsilon': 0.0016618259422282922}. Best is trial 593 with value: -0.006137730482857886.\u001b[0m\n",
      "\u001b[32m[I 2022-07-24 18:09:31,631]\u001b[0m Trial 913 finished with value: -0.006196436594137353 and parameters: {'kernel': 'rbf', 'C': 0.02436802116461831, 'gamma': 0.03843010910849839, 'epsilon': 0.002023199141825455}. Best is trial 593 with value: -0.006137730482857886.\u001b[0m\n",
      "\u001b[32m[I 2022-07-24 18:09:31,735]\u001b[0m Trial 914 finished with value: -0.0061524973174376454 and parameters: {'kernel': 'rbf', 'C': 0.017497032216223653, 'gamma': 0.051399204451883194, 'epsilon': 0.0022977638065979317}. Best is trial 593 with value: -0.006137730482857886.\u001b[0m\n",
      "\u001b[32m[I 2022-07-24 18:09:31,833]\u001b[0m Trial 915 finished with value: -0.006253288529085088 and parameters: {'kernel': 'rbf', 'C': 0.01275279131267527, 'gamma': 0.09447410223925751, 'epsilon': 0.0031174382280365494}. Best is trial 593 with value: -0.006137730482857886.\u001b[0m\n",
      "\u001b[32m[I 2022-07-24 18:09:31,946]\u001b[0m Trial 916 finished with value: -0.0061575963348262245 and parameters: {'kernel': 'rbf', 'C': 0.016508002186072512, 'gamma': 0.05923643981522032, 'epsilon': 0.0018086925171694644}. Best is trial 593 with value: -0.006137730482857886.\u001b[0m\n",
      "\u001b[32m[I 2022-07-24 18:09:32,098]\u001b[0m Trial 917 finished with value: -0.0061721821069717145 and parameters: {'kernel': 'rbf', 'C': 0.01121336857973921, 'gamma': 0.08233704456112223, 'epsilon': 0.0011867256861068127}. Best is trial 593 with value: -0.006137730482857886.\u001b[0m\n",
      "\u001b[32m[I 2022-07-24 18:09:32,250]\u001b[0m Trial 918 finished with value: -0.006148174010376745 and parameters: {'kernel': 'rbf', 'C': 0.014232000999293337, 'gamma': 0.07357417396319413, 'epsilon': 0.002051914468974263}. Best is trial 593 with value: -0.006137730482857886.\u001b[0m\n",
      "\u001b[32m[I 2022-07-24 18:09:32,370]\u001b[0m Trial 919 finished with value: -0.0061732706214035924 and parameters: {'kernel': 'rbf', 'C': 0.020357028744448637, 'gamma': 0.06603441742491094, 'epsilon': 0.0025144351620614213}. Best is trial 593 with value: -0.006137730482857886.\u001b[0m\n",
      "\u001b[32m[I 2022-07-24 18:09:32,497]\u001b[0m Trial 920 finished with value: -0.006184154545334529 and parameters: {'kernel': 'rbf', 'C': 0.010009504622640395, 'gamma': 0.10674698880913037, 'epsilon': 0.0016195913443415805}. Best is trial 593 with value: -0.006137730482857886.\u001b[0m\n",
      "\u001b[32m[I 2022-07-24 18:09:32,598]\u001b[0m Trial 921 finished with value: -0.0061867007499804135 and parameters: {'kernel': 'rbf', 'C': 0.012117421625139423, 'gamma': 0.08702383449130004, 'epsilon': 0.0027593284290380374}. Best is trial 593 with value: -0.006137730482857886.\u001b[0m\n",
      "\u001b[32m[I 2022-07-24 18:09:32,718]\u001b[0m Trial 922 finished with value: -0.006816863570797447 and parameters: {'kernel': 'poly', 'C': 0.01567994199604254, 'gamma': 0.05441941694911345, 'epsilon': 0.0022260493064711296}. Best is trial 593 with value: -0.006137730482857886.\u001b[0m\n",
      "\u001b[32m[I 2022-07-24 18:09:32,845]\u001b[0m Trial 923 finished with value: -0.0061633843333488295 and parameters: {'kernel': 'rbf', 'C': 0.01795306832375065, 'gamma': 0.07340961705964774, 'epsilon': 0.0019424196756583573}. Best is trial 593 with value: -0.006137730482857886.\u001b[0m\n",
      "\u001b[32m[I 2022-07-24 18:09:32,978]\u001b[0m Trial 924 finished with value: -0.006297123408553246 and parameters: {'kernel': 'rbf', 'C': 0.021999038817884675, 'gamma': 0.024165444641710877, 'epsilon': 0.0014001866966144797}. Best is trial 593 with value: -0.006137730482857886.\u001b[0m\n",
      "\u001b[32m[I 2022-07-24 18:09:33,086]\u001b[0m Trial 925 finished with value: -0.006178898324199901 and parameters: {'kernel': 'rbf', 'C': 0.014251178176414778, 'gamma': 0.061882848412092864, 'epsilon': 0.0017627700090231569}. Best is trial 593 with value: -0.006137730482857886.\u001b[0m\n",
      "\u001b[32m[I 2022-07-24 18:09:33,183]\u001b[0m Trial 926 finished with value: -0.006257899966299601 and parameters: {'kernel': 'rbf', 'C': 0.010046518451503235, 'gamma': 0.04502298615486852, 'epsilon': 0.002485161210601769}. Best is trial 593 with value: -0.006137730482857886.\u001b[0m\n",
      "\u001b[32m[I 2022-07-24 18:09:33,316]\u001b[0m Trial 927 finished with value: -0.006216113458303331 and parameters: {'kernel': 'rbf', 'C': 0.012263627516180901, 'gamma': 0.12369134575223571, 'epsilon': 0.002135117555551042}. Best is trial 593 with value: -0.006137730482857886.\u001b[0m\n",
      "\u001b[32m[I 2022-07-24 18:09:33,515]\u001b[0m Trial 928 finished with value: -0.007273327860698643 and parameters: {'kernel': 'rbf', 'C': 0.6522170456246198, 'gamma': 0.09884627481650447, 'epsilon': 0.002973823854632942}. Best is trial 593 with value: -0.006137730482857886.\u001b[0m\n",
      "\u001b[32m[I 2022-07-24 18:09:33,637]\u001b[0m Trial 929 finished with value: -0.006174165356859099 and parameters: {'kernel': 'rbf', 'C': 0.015421175989686545, 'gamma': 0.0839313873570192, 'epsilon': 0.0023281351930739946}. Best is trial 593 with value: -0.006137730482857886.\u001b[0m\n"
     ]
    },
    {
     "name": "stderr",
     "output_type": "stream",
     "text": [
      "\u001b[32m[I 2022-07-24 18:09:33,731]\u001b[0m Trial 930 finished with value: -0.006331363562917923 and parameters: {'kernel': 'rbf', 'C': 0.018686913613139764, 'gamma': 0.07471657620067865, 'epsilon': 0.003679154496741232}. Best is trial 593 with value: -0.006137730482857886.\u001b[0m\n",
      "\u001b[32m[I 2022-07-24 18:09:33,848]\u001b[0m Trial 931 finished with value: -0.00618170658001312 and parameters: {'kernel': 'rbf', 'C': 0.013436109075796105, 'gamma': 0.05878891867266673, 'epsilon': 0.0019167336458480663}. Best is trial 593 with value: -0.006137730482857886.\u001b[0m\n",
      "\u001b[32m[I 2022-07-24 18:09:33,958]\u001b[0m Trial 932 finished with value: -0.00618425143695154 and parameters: {'kernel': 'rbf', 'C': 0.016567513359292338, 'gamma': 0.08995905726971075, 'epsilon': 0.0017173386304071725}. Best is trial 593 with value: -0.006137730482857886.\u001b[0m\n",
      "\u001b[32m[I 2022-07-24 18:09:34,057]\u001b[0m Trial 933 finished with value: -0.006245400443311892 and parameters: {'kernel': 'rbf', 'C': 0.029857063459931044, 'gamma': 0.06856401753473969, 'epsilon': 0.002679402340736536}. Best is trial 593 with value: -0.006137730482857886.\u001b[0m\n",
      "\u001b[32m[I 2022-07-24 18:09:34,320]\u001b[0m Trial 934 finished with value: -0.007137347811097638 and parameters: {'kernel': 'rbf', 'C': 1.2084186422855296, 'gamma': 0.05313596755328611, 'epsilon': 0.0020700715704879955}. Best is trial 593 with value: -0.006137730482857886.\u001b[0m\n",
      "\u001b[32m[I 2022-07-24 18:09:34,452]\u001b[0m Trial 935 finished with value: -0.0062881260987685955 and parameters: {'kernel': 'rbf', 'C': 0.03933029645647784, 'gamma': 0.07695759567359742, 'epsilon': 0.0015669546320885596}. Best is trial 593 with value: -0.006137730482857886.\u001b[0m\n",
      "\u001b[32m[I 2022-07-24 18:09:34,571]\u001b[0m Trial 936 finished with value: -0.006841281587835227 and parameters: {'kernel': 'rbf', 'C': 0.16586085936809597, 'gamma': 0.10615331650471398, 'epsilon': 0.0023463334976241757}. Best is trial 593 with value: -0.006137730482857886.\u001b[0m\n",
      "\u001b[32m[I 2022-07-24 18:09:34,767]\u001b[0m Trial 937 finished with value: -0.006215637451606395 and parameters: {'kernel': 'rbf', 'C': 0.011491170207755074, 'gamma': 0.06130153419763746, 'epsilon': 0.0010200262066972702}. Best is trial 593 with value: -0.006137730482857886.\u001b[0m\n",
      "\u001b[32m[I 2022-07-24 18:09:34,915]\u001b[0m Trial 938 finished with value: -0.006156183332198519 and parameters: {'kernel': 'rbf', 'C': 0.013898372091216079, 'gamma': 0.0834792622296981, 'epsilon': 0.0019686707374708726}. Best is trial 593 with value: -0.006137730482857886.\u001b[0m\n",
      "\u001b[32m[I 2022-07-24 18:09:35,056]\u001b[0m Trial 939 finished with value: -0.006206795279643355 and parameters: {'kernel': 'rbf', 'C': 0.010016634084846108, 'gamma': 0.06818148657871259, 'epsilon': 0.0028167104349111948}. Best is trial 593 with value: -0.006137730482857886.\u001b[0m\n",
      "\u001b[32m[I 2022-07-24 18:09:35,185]\u001b[0m Trial 940 finished with value: -0.0061912628776834054 and parameters: {'kernel': 'rbf', 'C': 0.0191932593303938, 'gamma': 0.0904703769460296, 'epsilon': 0.002291156583982418}. Best is trial 593 with value: -0.006137730482857886.\u001b[0m\n",
      "\u001b[32m[I 2022-07-24 18:09:35,339]\u001b[0m Trial 941 finished with value: -0.006173357117100899 and parameters: {'kernel': 'rbf', 'C': 0.022275430059812352, 'gamma': 0.04794300158886998, 'epsilon': 0.0016705503518545544}. Best is trial 593 with value: -0.006137730482857886.\u001b[0m\n",
      "\u001b[32m[I 2022-07-24 18:09:35,469]\u001b[0m Trial 942 finished with value: -0.006171520698166313 and parameters: {'kernel': 'rbf', 'C': 0.015730273758173544, 'gamma': 0.0688685229556723, 'epsilon': 0.0013369110092960595}. Best is trial 593 with value: -0.006137730482857886.\u001b[0m\n",
      "\u001b[32m[I 2022-07-24 18:09:35,572]\u001b[0m Trial 943 finished with value: -0.006205199129908609 and parameters: {'kernel': 'rbf', 'C': 0.012594137954190976, 'gamma': 0.05517566565213398, 'epsilon': 0.0019842543219200236}. Best is trial 593 with value: -0.006137730482857886.\u001b[0m\n",
      "\u001b[32m[I 2022-07-24 18:09:35,677]\u001b[0m Trial 944 finished with value: -0.0061723437069736735 and parameters: {'kernel': 'rbf', 'C': 0.017126247096826246, 'gamma': 0.07910181244113813, 'epsilon': 0.0024169032013479893}. Best is trial 593 with value: -0.006137730482857886.\u001b[0m\n",
      "\u001b[32m[I 2022-07-24 18:09:35,761]\u001b[0m Trial 945 finished with value: -0.0062982646813403475 and parameters: {'kernel': 'rbf', 'C': 0.014102069465616781, 'gamma': 0.09919297094446047, 'epsilon': 0.003360016785073178}. Best is trial 593 with value: -0.006137730482857886.\u001b[0m\n",
      "\u001b[32m[I 2022-07-24 18:09:35,989]\u001b[0m Trial 946 finished with value: -0.006192057467870858 and parameters: {'kernel': 'rbf', 'C': 0.012146058307749152, 'gamma': 0.1173929944408132, 'epsilon': 0.001812704588006486}. Best is trial 593 with value: -0.006137730482857886.\u001b[0m\n",
      "\u001b[32m[I 2022-07-24 18:09:36,122]\u001b[0m Trial 947 finished with value: -0.006167068839616092 and parameters: {'kernel': 'rbf', 'C': 0.015230911300434082, 'gamma': 0.061915344354630954, 'epsilon': 0.0015364857469172218}. Best is trial 593 with value: -0.006137730482857886.\u001b[0m\n",
      "\u001b[32m[I 2022-07-24 18:09:36,216]\u001b[0m Trial 948 finished with value: -0.0062075087689434675 and parameters: {'kernel': 'rbf', 'C': 0.025681923450541242, 'gamma': 0.07735142550275372, 'epsilon': 0.002182416193974901}. Best is trial 593 with value: -0.006137730482857886.\u001b[0m\n",
      "\u001b[32m[I 2022-07-24 18:09:36,315]\u001b[0m Trial 949 finished with value: -0.0062238464478248795 and parameters: {'kernel': 'rbf', 'C': 0.019465469181714955, 'gamma': 0.08928384971111024, 'epsilon': 0.0026475299497764745}. Best is trial 593 with value: -0.006137730482857886.\u001b[0m\n",
      "\u001b[32m[I 2022-07-24 18:09:36,442]\u001b[0m Trial 950 finished with value: -0.006165656506510975 and parameters: {'kernel': 'rbf', 'C': 0.011351652215154199, 'gamma': 0.06931872984706554, 'epsilon': 0.002035701141238916}. Best is trial 593 with value: -0.006137730482857886.\u001b[0m\n",
      "\u001b[32m[I 2022-07-24 18:09:36,594]\u001b[0m Trial 951 finished with value: -0.006804253379119815 and parameters: {'kernel': 'poly', 'C': 0.017063910450215842, 'gamma': 0.04760421282747235, 'epsilon': 0.002960078482510805}. Best is trial 593 with value: -0.006137730482857886.\u001b[0m\n",
      "\u001b[32m[I 2022-07-24 18:09:36,739]\u001b[0m Trial 952 finished with value: -0.006245361683672558 and parameters: {'kernel': 'rbf', 'C': 0.013626836253038134, 'gamma': 0.04107641957999911, 'epsilon': 0.0017635660609989898}. Best is trial 593 with value: -0.006137730482857886.\u001b[0m\n",
      "\u001b[32m[I 2022-07-24 18:09:36,845]\u001b[0m Trial 953 finished with value: -0.006145713778956026 and parameters: {'kernel': 'rbf', 'C': 0.015495748302925109, 'gamma': 0.06059108773665417, 'epsilon': 0.0024577002671596175}. Best is trial 593 with value: -0.006137730482857886.\u001b[0m\n",
      "\u001b[32m[I 2022-07-24 18:09:36,978]\u001b[0m Trial 954 finished with value: -0.006245616324146142 and parameters: {'kernel': 'rbf', 'C': 0.012921618195577238, 'gamma': 0.04894598743727843, 'epsilon': 0.0032368793813429557}. Best is trial 593 with value: -0.006137730482857886.\u001b[0m\n",
      "\u001b[32m[I 2022-07-24 18:09:37,473]\u001b[0m Trial 955 finished with value: -0.0062033589391643044 and parameters: {'kernel': 'rbf', 'C': 0.011415281628100973, 'gamma': 0.05595902232410306, 'epsilon': 0.0026484071880137766}. Best is trial 593 with value: -0.006137730482857886.\u001b[0m\n",
      "\u001b[32m[I 2022-07-24 18:09:38,015]\u001b[0m Trial 956 finished with value: -0.006180878758228192 and parameters: {'kernel': 'rbf', 'C': 0.01498546649984915, 'gamma': 0.05150621813641889, 'epsilon': 0.002541826378279047}. Best is trial 593 with value: -0.006137730482857886.\u001b[0m\n",
      "\u001b[32m[I 2022-07-24 18:09:38,334]\u001b[0m Trial 957 finished with value: -0.006205272378972251 and parameters: {'kernel': 'rbf', 'C': 0.01847824439314301, 'gamma': 0.060070010832639624, 'epsilon': 0.003056651052528582}. Best is trial 593 with value: -0.006137730482857886.\u001b[0m\n",
      "\u001b[32m[I 2022-07-24 18:09:38,536]\u001b[0m Trial 958 finished with value: -0.006341715696410402 and parameters: {'kernel': 'rbf', 'C': 0.021139622324943777, 'gamma': 0.03719333475892391, 'epsilon': 0.004016569977875479}. Best is trial 593 with value: -0.006137730482857886.\u001b[0m\n",
      "\u001b[32m[I 2022-07-24 18:09:38,813]\u001b[0m Trial 959 finished with value: -0.006162366068365465 and parameters: {'kernel': 'rbf', 'C': 0.013658120938613245, 'gamma': 0.057237010799644834, 'epsilon': 0.00233516801910694}. Best is trial 593 with value: -0.006137730482857886.\u001b[0m\n",
      "\u001b[32m[I 2022-07-24 18:09:38,963]\u001b[0m Trial 960 finished with value: -0.006181082064231384 and parameters: {'kernel': 'rbf', 'C': 0.01090284576059517, 'gamma': 0.06285662821277303, 'epsilon': 0.0020699476203927094}. Best is trial 593 with value: -0.006137730482857886.\u001b[0m\n"
     ]
    },
    {
     "name": "stderr",
     "output_type": "stream",
     "text": [
      "\u001b[32m[I 2022-07-24 18:09:39,012]\u001b[0m Trial 961 finished with value: -0.03564469137116574 and parameters: {'kernel': 'rbf', 'C': 0.01658852182351258, 'gamma': 0.04234007427305668, 'epsilon': 0.06945721424376629}. Best is trial 593 with value: -0.006137730482857886.\u001b[0m\n",
      "\u001b[32m[I 2022-07-24 18:09:39,149]\u001b[0m Trial 962 finished with value: -0.006198123198645226 and parameters: {'kernel': 'rbf', 'C': 0.012883150772572672, 'gamma': 0.052402440246605564, 'epsilon': 0.0026901591031888456}. Best is trial 593 with value: -0.006137730482857886.\u001b[0m\n",
      "\u001b[32m[I 2022-07-24 18:09:39,337]\u001b[0m Trial 963 finished with value: -0.006169494520283979 and parameters: {'kernel': 'rbf', 'C': 0.015107811799612778, 'gamma': 0.06440773340428681, 'epsilon': 0.0018339883664580878}. Best is trial 593 with value: -0.006137730482857886.\u001b[0m\n",
      "\u001b[32m[I 2022-07-24 18:09:39,494]\u001b[0m Trial 964 finished with value: -0.006164760571605581 and parameters: {'kernel': 'rbf', 'C': 0.01807310090132569, 'gamma': 0.06998589394233988, 'epsilon': 0.00225548851656261}. Best is trial 593 with value: -0.006137730482857886.\u001b[0m\n",
      "\u001b[32m[I 2022-07-24 18:09:39,629]\u001b[0m Trial 965 finished with value: -0.006177849335885649 and parameters: {'kernel': 'rbf', 'C': 0.02415729195375811, 'gamma': 0.051109698330119274, 'epsilon': 0.001451128896901217}. Best is trial 593 with value: -0.006137730482857886.\u001b[0m\n",
      "\u001b[32m[I 2022-07-24 18:09:39,729]\u001b[0m Trial 966 finished with value: -0.00622814976312015 and parameters: {'kernel': 'rbf', 'C': 0.012326370462383355, 'gamma': 0.044174352160540394, 'epsilon': 0.0024273191478160943}. Best is trial 593 with value: -0.006137730482857886.\u001b[0m\n",
      "\u001b[32m[I 2022-07-24 18:09:39,847]\u001b[0m Trial 967 finished with value: -0.00616365586250106 and parameters: {'kernel': 'rbf', 'C': 0.014745238804442787, 'gamma': 0.06121245256309135, 'epsilon': 0.0019304803572308413}. Best is trial 593 with value: -0.006137730482857886.\u001b[0m\n",
      "\u001b[32m[I 2022-07-24 18:09:39,937]\u001b[0m Trial 968 finished with value: -0.006199943088380916 and parameters: {'kernel': 'rbf', 'C': 0.020339257407641233, 'gamma': 0.07146759724408464, 'epsilon': 0.0028782916102405246}. Best is trial 593 with value: -0.006137730482857886.\u001b[0m\n",
      "\u001b[32m[I 2022-07-24 18:09:39,990]\u001b[0m Trial 969 finished with value: -0.023228107943349088 and parameters: {'kernel': 'rbf', 'C': 0.016797568690811844, 'gamma': 0.05738491027658033, 'epsilon': 0.027850627701192794}. Best is trial 593 with value: -0.006137730482857886.\u001b[0m\n",
      "\u001b[32m[I 2022-07-24 18:09:40,098]\u001b[0m Trial 970 finished with value: -0.006170307016115944 and parameters: {'kernel': 'rbf', 'C': 0.01081127168907961, 'gamma': 0.08108771845971617, 'epsilon': 0.001661797119436966}. Best is trial 593 with value: -0.006137730482857886.\u001b[0m\n",
      "\u001b[32m[I 2022-07-24 18:09:40,221]\u001b[0m Trial 971 finished with value: -0.007023284983469636 and parameters: {'kernel': 'rbf', 'C': 0.013849980411191034, 'gamma': 0.0020188068530117456, 'epsilon': 0.0021093609414345365}. Best is trial 593 with value: -0.006137730482857886.\u001b[0m\n",
      "\u001b[32m[I 2022-07-24 18:09:40,339]\u001b[0m Trial 972 finished with value: -0.007108426961759319 and parameters: {'kernel': 'rbf', 'C': 0.016198087153562666, 'gamma': 0.0010164252422595159, 'epsilon': 0.002474274780582697}. Best is trial 593 with value: -0.006137730482857886.\u001b[0m\n",
      "\u001b[32m[I 2022-07-24 18:09:40,440]\u001b[0m Trial 973 finished with value: -0.006279436069834539 and parameters: {'kernel': 'rbf', 'C': 0.010057330925768508, 'gamma': 0.07040784690297594, 'epsilon': 0.003537551564145899}. Best is trial 593 with value: -0.006137730482857886.\u001b[0m\n",
      "\u001b[32m[I 2022-07-24 18:09:40,534]\u001b[0m Trial 974 finished with value: -0.006179983574209179 and parameters: {'kernel': 'rbf', 'C': 0.012249704248424127, 'gamma': 0.06459306413542805, 'epsilon': 0.0018678884836518294}. Best is trial 593 with value: -0.006137730482857886.\u001b[0m\n",
      "\u001b[32m[I 2022-07-24 18:09:40,665]\u001b[0m Trial 975 finished with value: -0.006199506626492736 and parameters: {'kernel': 'rbf', 'C': 0.01850022186861506, 'gamma': 0.095371684785148, 'epsilon': 0.0022088373097632753}. Best is trial 593 with value: -0.006137730482857886.\u001b[0m\n",
      "\u001b[32m[I 2022-07-24 18:09:40,831]\u001b[0m Trial 976 finished with value: -0.006222565011269432 and parameters: {'kernel': 'rbf', 'C': 0.014019005600873569, 'gamma': 0.13506003296080293, 'epsilon': 0.001546020450341621}. Best is trial 593 with value: -0.006137730482857886.\u001b[0m\n",
      "\u001b[32m[I 2022-07-24 18:09:40,937]\u001b[0m Trial 977 finished with value: -0.006224307867711384 and parameters: {'kernel': 'rbf', 'C': 0.022715830852554967, 'gamma': 0.07883002383969404, 'epsilon': 0.002798221997227921}. Best is trial 593 with value: -0.006137730482857886.\u001b[0m\n",
      "\u001b[32m[I 2022-07-24 18:09:41,060]\u001b[0m Trial 978 finished with value: -0.006856637515314443 and parameters: {'kernel': 'poly', 'C': 0.01579643468694866, 'gamma': 0.04885073887297843, 'epsilon': 0.0020080784089273897}. Best is trial 593 with value: -0.006137730482857886.\u001b[0m\n",
      "\u001b[32m[I 2022-07-24 18:09:41,204]\u001b[0m Trial 979 finished with value: -0.0062096241640258775 and parameters: {'kernel': 'rbf', 'C': 0.011380282420602536, 'gamma': 0.057541020504295964, 'epsilon': 0.0012818410213009768}. Best is trial 593 with value: -0.006137730482857886.\u001b[0m\n",
      "\u001b[32m[I 2022-07-24 18:09:41,360]\u001b[0m Trial 980 finished with value: -0.0061888399843236805 and parameters: {'kernel': 'rbf', 'C': 0.010019787789151618, 'gamma': 0.10383924458000046, 'epsilon': 0.0024232592122019085}. Best is trial 593 with value: -0.006137730482857886.\u001b[0m\n",
      "\u001b[32m[I 2022-07-24 18:09:41,493]\u001b[0m Trial 981 finished with value: -0.006156582211172536 and parameters: {'kernel': 'rbf', 'C': 0.013039005372230694, 'gamma': 0.08494989123747808, 'epsilon': 0.0018045128763976566}. Best is trial 593 with value: -0.006137730482857886.\u001b[0m\n",
      "\u001b[32m[I 2022-07-24 18:09:41,597]\u001b[0m Trial 982 finished with value: -0.0062776005841919105 and parameters: {'kernel': 'rbf', 'C': 0.0183798032550077, 'gamma': 0.02838331456254335, 'epsilon': 0.003227287120020168}. Best is trial 593 with value: -0.006137730482857886.\u001b[0m\n",
      "\u001b[32m[I 2022-07-24 18:09:41,699]\u001b[0m Trial 983 finished with value: -0.006152124890382456 and parameters: {'kernel': 'rbf', 'C': 0.014785247766037722, 'gamma': 0.06507689519136821, 'epsilon': 0.002180963552044767}. Best is trial 593 with value: -0.006137730482857886.\u001b[0m\n",
      "\u001b[32m[I 2022-07-24 18:09:41,737]\u001b[0m Trial 984 finished with value: -0.03564469137116574 and parameters: {'kernel': 'rbf', 'C': 0.020630632866547288, 'gamma': 0.07376314348610014, 'epsilon': 0.04812569121449483}. Best is trial 593 with value: -0.006137730482857886.\u001b[0m\n",
      "\u001b[32m[I 2022-07-24 18:09:41,859]\u001b[0m Trial 985 finished with value: -0.006186334232493246 and parameters: {'kernel': 'rbf', 'C': 0.01639676595995574, 'gamma': 0.05320502388317295, 'epsilon': 0.0016317508425366446}. Best is trial 593 with value: -0.006137730482857886.\u001b[0m\n",
      "\u001b[32m[I 2022-07-24 18:09:41,945]\u001b[0m Trial 986 finished with value: -0.006159749122540001 and parameters: {'kernel': 'rbf', 'C': 0.012271653300014028, 'gamma': 0.08496004311013931, 'epsilon': 0.00262861121392656}. Best is trial 593 with value: -0.006137730482857886.\u001b[0m\n",
      "\u001b[32m[I 2022-07-24 18:09:42,053]\u001b[0m Trial 987 finished with value: -0.006151114387322745 and parameters: {'kernel': 'rbf', 'C': 0.013825233326790087, 'gamma': 0.06961488620716358, 'epsilon': 0.001998324016711826}. Best is trial 593 with value: -0.006137730482857886.\u001b[0m\n",
      "\u001b[32m[I 2022-07-24 18:09:42,203]\u001b[0m Trial 988 finished with value: -0.00704145832647298 and parameters: {'kernel': 'rbf', 'C': 0.3752475480074347, 'gamma': 0.09268305049739631, 'epsilon': 0.0023473627908775475}. Best is trial 593 with value: -0.006137730482857886.\u001b[0m\n",
      "\u001b[32m[I 2022-07-24 18:09:42,304]\u001b[0m Trial 989 finished with value: -0.006186895724871294 and parameters: {'kernel': 'rbf', 'C': 0.017926200373876162, 'gamma': 0.045590778116712825, 'epsilon': 0.0018057621161511126}. Best is trial 593 with value: -0.006137730482857886.\u001b[0m\n",
      "\u001b[32m[I 2022-07-24 18:09:42,417]\u001b[0m Trial 990 finished with value: -0.006221513906478181 and parameters: {'kernel': 'rbf', 'C': 0.010098744697947994, 'gamma': 0.05748086739298545, 'epsilon': 0.0014738021853346217}. Best is trial 593 with value: -0.006137730482857886.\u001b[0m\n",
      "\u001b[32m[I 2022-07-24 18:09:42,548]\u001b[0m Trial 991 finished with value: -0.006747568661186508 and parameters: {'kernel': 'rbf', 'C': 0.01523246614717145, 'gamma': 0.755728443809119, 'epsilon': 0.002964485424842956}. Best is trial 593 with value: -0.006137730482857886.\u001b[0m\n"
     ]
    },
    {
     "name": "stderr",
     "output_type": "stream",
     "text": [
      "\u001b[32m[I 2022-07-24 18:09:42,682]\u001b[0m Trial 992 finished with value: -0.006146678978311609 and parameters: {'kernel': 'rbf', 'C': 0.012546176762949465, 'gamma': 0.07521709809484028, 'epsilon': 0.0021795645609814}. Best is trial 593 with value: -0.006137730482857886.\u001b[0m\n",
      "\u001b[32m[I 2022-07-24 18:09:42,864]\u001b[0m Trial 993 finished with value: -0.0062480503637070695 and parameters: {'kernel': 'rbf', 'C': 0.020704944894473085, 'gamma': 0.10830291856719122, 'epsilon': 0.0025010385897375324}. Best is trial 593 with value: -0.006137730482857886.\u001b[0m\n",
      "\u001b[32m[I 2022-07-24 18:09:42,999]\u001b[0m Trial 994 finished with value: -0.0061870290670646005 and parameters: {'kernel': 'rbf', 'C': 0.011350349350844313, 'gamma': 0.06565021513800673, 'epsilon': 0.001721510144511979}. Best is trial 593 with value: -0.006137730482857886.\u001b[0m\n",
      "\u001b[32m[I 2022-07-24 18:09:43,114]\u001b[0m Trial 995 finished with value: -0.0062262305307814875 and parameters: {'kernel': 'rbf', 'C': 0.02767532118666935, 'gamma': 0.08163902014863647, 'epsilon': 0.0019553191249285606}. Best is trial 593 with value: -0.006137730482857886.\u001b[0m\n",
      "\u001b[32m[I 2022-07-24 18:09:43,223]\u001b[0m Trial 996 finished with value: -0.006185558961804727 and parameters: {'kernel': 'rbf', 'C': 0.01697852578685568, 'gamma': 0.09724652932914805, 'epsilon': 0.0022229111988220935}. Best is trial 593 with value: -0.006137730482857886.\u001b[0m\n",
      "\u001b[32m[I 2022-07-24 18:09:43,338]\u001b[0m Trial 997 finished with value: -0.006169498167635659 and parameters: {'kernel': 'rbf', 'C': 0.013887697345823553, 'gamma': 0.06115752642182, 'epsilon': 0.002648079219273889}. Best is trial 593 with value: -0.006137730482857886.\u001b[0m\n",
      "\u001b[32m[I 2022-07-24 18:09:43,472]\u001b[0m Trial 998 finished with value: -0.00614538048134406 and parameters: {'kernel': 'rbf', 'C': 0.015071163554336586, 'gamma': 0.0736624314374615, 'epsilon': 0.001999965861072367}. Best is trial 593 with value: -0.006137730482857886.\u001b[0m\n",
      "\u001b[32m[I 2022-07-24 18:09:43,634]\u001b[0m Trial 999 finished with value: -0.0061747275014285945 and parameters: {'kernel': 'rbf', 'C': 0.011263736268997127, 'gamma': 0.09025487569449836, 'epsilon': 0.0013340749928623977}. Best is trial 593 with value: -0.006137730482857886.\u001b[0m\n",
      "\u001b[32m[I 2022-07-24 18:09:43,819]\u001b[0m Trial 1000 finished with value: -0.006208349693026992 and parameters: {'kernel': 'rbf', 'C': 0.01365656045145972, 'gamma': 0.12152705808797441, 'epsilon': 0.0015407416894474368}. Best is trial 593 with value: -0.006137730482857886.\u001b[0m\n",
      "\u001b[32m[I 2022-07-24 18:09:43,926]\u001b[0m Trial 1001 finished with value: -0.006164263389307342 and parameters: {'kernel': 'rbf', 'C': 0.012729205686825057, 'gamma': 0.07770476248816402, 'epsilon': 0.001719656007137103}. Best is trial 593 with value: -0.006137730482857886.\u001b[0m\n",
      "\u001b[32m[I 2022-07-24 18:09:44,074]\u001b[0m Trial 1002 finished with value: -0.006201747694020653 and parameters: {'kernel': 'rbf', 'C': 0.015588708918179631, 'gamma': 0.10306627036459644, 'epsilon': 0.0011453661692356722}. Best is trial 593 with value: -0.006137730482857886.\u001b[0m\n",
      "\u001b[32m[I 2022-07-24 18:09:44,188]\u001b[0m Trial 1003 finished with value: -0.006190476701554432 and parameters: {'kernel': 'rbf', 'C': 0.018778014026939766, 'gamma': 0.08896496810073644, 'epsilon': 0.0018707905950413341}. Best is trial 593 with value: -0.006137730482857886.\u001b[0m\n",
      "\u001b[32m[I 2022-07-24 18:09:44,360]\u001b[0m Trial 1004 finished with value: -0.006160238809853149 and parameters: {'kernel': 'rbf', 'C': 0.014619247599430004, 'gamma': 0.07529909585628948, 'epsilon': 0.0015399316729652552}. Best is trial 593 with value: -0.006137730482857886.\u001b[0m\n",
      "\u001b[32m[I 2022-07-24 18:09:44,567]\u001b[0m Trial 1005 finished with value: -0.006829777143765724 and parameters: {'kernel': 'poly', 'C': 0.010006201067756008, 'gamma': 0.08290286020454124, 'epsilon': 0.0018153192765101758}. Best is trial 593 with value: -0.006137730482857886.\u001b[0m\n",
      "\u001b[32m[I 2022-07-24 18:09:44,673]\u001b[0m Trial 1006 finished with value: -0.006191953595769523 and parameters: {'kernel': 'rbf', 'C': 0.010036811037287523, 'gamma': 0.06934945260578004, 'epsilon': 0.002034954568873534}. Best is trial 593 with value: -0.006137730482857886.\u001b[0m\n",
      "\u001b[32m[I 2022-07-24 18:09:44,787]\u001b[0m Trial 1007 finished with value: -0.006166630013938576 and parameters: {'kernel': 'rbf', 'C': 0.012642468022221921, 'gamma': 0.10746231506964524, 'epsilon': 0.0016564527754966121}. Best is trial 593 with value: -0.006137730482857886.\u001b[0m\n",
      "\u001b[32m[I 2022-07-24 18:09:44,891]\u001b[0m Trial 1008 finished with value: -0.006178195460405236 and parameters: {'kernel': 'rbf', 'C': 0.01673612938014093, 'gamma': 0.09150010464591171, 'epsilon': 0.002007289234102131}. Best is trial 593 with value: -0.006137730482857886.\u001b[0m\n",
      "\u001b[32m[I 2022-07-24 18:09:44,999]\u001b[0m Trial 1009 finished with value: -0.0061663356826321515 and parameters: {'kernel': 'rbf', 'C': 0.011422711046924746, 'gamma': 0.06917911409289569, 'epsilon': 0.002170654245756237}. Best is trial 593 with value: -0.006137730482857886.\u001b[0m\n",
      "\u001b[32m[I 2022-07-24 18:09:45,141]\u001b[0m Trial 1010 finished with value: -0.006167077996439676 and parameters: {'kernel': 'rbf', 'C': 0.014533283901516222, 'gamma': 0.07868502350555721, 'epsilon': 0.0014294653684847843}. Best is trial 593 with value: -0.006137730482857886.\u001b[0m\n",
      "\u001b[32m[I 2022-07-24 18:09:45,267]\u001b[0m Trial 1011 finished with value: -0.0061980962182456535 and parameters: {'kernel': 'rbf', 'C': 0.02072736614659686, 'gamma': 0.08940152027326297, 'epsilon': 0.001756270277897852}. Best is trial 593 with value: -0.006137730482857886.\u001b[0m\n",
      "\u001b[32m[I 2022-07-24 18:09:45,383]\u001b[0m Trial 1012 finished with value: -0.006182568996752224 and parameters: {'kernel': 'rbf', 'C': 0.023306420192729913, 'gamma': 0.0735054845157462, 'epsilon': 0.00204664288077507}. Best is trial 593 with value: -0.006137730482857886.\u001b[0m\n",
      "\u001b[32m[I 2022-07-24 18:09:45,486]\u001b[0m Trial 1013 finished with value: -0.006236355875388976 and parameters: {'kernel': 'rbf', 'C': 0.01742248405530971, 'gamma': 0.11467861330271148, 'epsilon': 0.0023961213421777473}. Best is trial 593 with value: -0.006137730482857886.\u001b[0m\n",
      "\u001b[32m[I 2022-07-24 18:09:45,595]\u001b[0m Trial 1014 finished with value: -0.006245721657772593 and parameters: {'kernel': 'rbf', 'C': 0.012915530200307205, 'gamma': 0.16288777750276645, 'epsilon': 0.001877194771983407}. Best is trial 593 with value: -0.006137730482857886.\u001b[0m\n",
      "\u001b[32m[I 2022-07-24 18:09:45,708]\u001b[0m Trial 1015 finished with value: -0.00614703710878618 and parameters: {'kernel': 'rbf', 'C': 0.014917172499299547, 'gamma': 0.06582311969903495, 'epsilon': 0.0021970260927212616}. Best is trial 593 with value: -0.006137730482857886.\u001b[0m\n",
      "\u001b[32m[I 2022-07-24 18:09:45,869]\u001b[0m Trial 1016 finished with value: -0.006307455050738749 and parameters: {'kernel': 'rbf', 'C': 0.03365387335065659, 'gamma': 0.09708721809852087, 'epsilon': 0.0014782826904990917}. Best is trial 593 with value: -0.006137730482857886.\u001b[0m\n",
      "\u001b[32m[I 2022-07-24 18:09:46,056]\u001b[0m Trial 1017 finished with value: -0.006160924136461345 and parameters: {'kernel': 'rbf', 'C': 0.011090210662586853, 'gamma': 0.0800302003200721, 'epsilon': 0.0016529660466882837}. Best is trial 593 with value: -0.006137730482857886.\u001b[0m\n",
      "\u001b[32m[I 2022-07-24 18:09:46,174]\u001b[0m Trial 1018 finished with value: -0.006183506579784205 and parameters: {'kernel': 'rbf', 'C': 0.019222408315507415, 'gamma': 0.072553293111754, 'epsilon': 0.0027240742301997585}. Best is trial 593 with value: -0.006137730482857886.\u001b[0m\n",
      "\u001b[32m[I 2022-07-24 18:09:46,277]\u001b[0m Trial 1019 finished with value: -0.006144542367992237 and parameters: {'kernel': 'rbf', 'C': 0.016909479036647197, 'gamma': 0.061655939565182005, 'epsilon': 0.0019916344615760542}. Best is trial 593 with value: -0.006137730482857886.\u001b[0m\n",
      "\u001b[32m[I 2022-07-24 18:09:46,425]\u001b[0m Trial 1020 finished with value: -0.00622466103954963 and parameters: {'kernel': 'rbf', 'C': 0.013336960478416973, 'gamma': 0.13808461335160996, 'epsilon': 0.001638061196313579}. Best is trial 593 with value: -0.006137730482857886.\u001b[0m\n",
      "\u001b[32m[I 2022-07-24 18:09:46,678]\u001b[0m Trial 1021 finished with value: -0.006708749135489824 and parameters: {'kernel': 'rbf', 'C': 0.1199554333539125, 'gamma': 0.08287666582012254, 'epsilon': 0.001185801277915194}. Best is trial 593 with value: -0.006137730482857886.\u001b[0m\n",
      "\u001b[32m[I 2022-07-24 18:09:46,783]\u001b[0m Trial 1022 finished with value: -0.006185185013268761 and parameters: {'kernel': 'rbf', 'C': 0.015835070355695004, 'gamma': 0.10074516808423986, 'epsilon': 0.0019687939911417728}. Best is trial 593 with value: -0.006137730482857886.\u001b[0m\n"
     ]
    },
    {
     "name": "stderr",
     "output_type": "stream",
     "text": [
      "\u001b[32m[I 2022-07-24 18:09:46,894]\u001b[0m Trial 1023 finished with value: -0.006169587557518448 and parameters: {'kernel': 'rbf', 'C': 0.012113867649710687, 'gamma': 0.06353453287121241, 'epsilon': 0.001879757746640615}. Best is trial 593 with value: -0.006137730482857886.\u001b[0m\n",
      "\u001b[32m[I 2022-07-24 18:09:47,069]\u001b[0m Trial 1024 finished with value: -0.006181369546415208 and parameters: {'kernel': 'rbf', 'C': 0.014732211294614623, 'gamma': 0.08665118503338781, 'epsilon': 0.001363740045758921}. Best is trial 593 with value: -0.006137730482857886.\u001b[0m\n",
      "\u001b[32m[I 2022-07-24 18:09:47,192]\u001b[0m Trial 1025 finished with value: -0.006175279303021878 and parameters: {'kernel': 'rbf', 'C': 0.010029757365014252, 'gamma': 0.0729145729027097, 'epsilon': 0.0017180716903421656}. Best is trial 593 with value: -0.006137730482857886.\u001b[0m\n",
      "\u001b[32m[I 2022-07-24 18:09:47,228]\u001b[0m Trial 1026 finished with value: -0.03564469137116574 and parameters: {'kernel': 'rbf', 'C': 0.013310162072755035, 'gamma': 0.06398828341315764, 'epsilon': 0.10789425716261157}. Best is trial 593 with value: -0.006137730482857886.\u001b[0m\n",
      "\u001b[32m[I 2022-07-24 18:09:47,385]\u001b[0m Trial 1027 finished with value: -0.006224735361676288 and parameters: {'kernel': 'rbf', 'C': 0.01658349007695448, 'gamma': 0.11854511074297205, 'epsilon': 0.002081831866472165}. Best is trial 593 with value: -0.006137730482857886.\u001b[0m\n",
      "\u001b[32m[I 2022-07-24 18:09:47,510]\u001b[0m Trial 1028 finished with value: -0.006176566313310293 and parameters: {'kernel': 'rbf', 'C': 0.01136812498538193, 'gamma': 0.07887568210925858, 'epsilon': 0.0015091616349745584}. Best is trial 593 with value: -0.006137730482857886.\u001b[0m\n",
      "\u001b[32m[I 2022-07-24 18:09:47,623]\u001b[0m Trial 1029 finished with value: -0.006179988246447029 and parameters: {'kernel': 'rbf', 'C': 0.014779922183616394, 'gamma': 0.09704511622796654, 'epsilon': 0.002342591111586497}. Best is trial 593 with value: -0.006137730482857886.\u001b[0m\n",
      "\u001b[32m[I 2022-07-24 18:09:47,754]\u001b[0m Trial 1030 finished with value: -0.006162239629996108 and parameters: {'kernel': 'rbf', 'C': 0.017599839715630273, 'gamma': 0.0720133534757592, 'epsilon': 0.0017306331218157915}. Best is trial 593 with value: -0.006137730482857886.\u001b[0m\n",
      "\u001b[32m[I 2022-07-24 18:09:47,860]\u001b[0m Trial 1031 finished with value: -0.006175560157275494 and parameters: {'kernel': 'rbf', 'C': 0.013049160418972605, 'gamma': 0.05752871106876004, 'epsilon': 0.0019890401362038118}. Best is trial 593 with value: -0.006137730482857886.\u001b[0m\n",
      "\u001b[32m[I 2022-07-24 18:09:47,981]\u001b[0m Trial 1032 finished with value: -0.0061610523997248446 and parameters: {'kernel': 'rbf', 'C': 0.012037378175291059, 'gamma': 0.08872905222932881, 'epsilon': 0.0024748894998520656}. Best is trial 593 with value: -0.006137730482857886.\u001b[0m\n",
      "\u001b[32m[I 2022-07-24 18:09:48,181]\u001b[0m Trial 1033 finished with value: -0.006800479733047613 and parameters: {'kernel': 'poly', 'C': 0.016202356004599124, 'gamma': 0.06673229945069474, 'epsilon': 0.002229260775014379}. Best is trial 593 with value: -0.006137730482857886.\u001b[0m\n",
      "\u001b[32m[I 2022-07-24 18:09:48,333]\u001b[0m Trial 1034 finished with value: -0.006150817639250218 and parameters: {'kernel': 'rbf', 'C': 0.013593286728470667, 'gamma': 0.08133387094747498, 'epsilon': 0.0018546370141192367}. Best is trial 593 with value: -0.006137730482857886.\u001b[0m\n",
      "\u001b[32m[I 2022-07-24 18:09:48,505]\u001b[0m Trial 1035 finished with value: -0.006229247424988259 and parameters: {'kernel': 'rbf', 'C': 0.019638457194848528, 'gamma': 0.10348479562821805, 'epsilon': 0.0013398765414511036}. Best is trial 593 with value: -0.006137730482857886.\u001b[0m\n",
      "\u001b[32m[I 2022-07-24 18:09:48,662]\u001b[0m Trial 1036 finished with value: -0.006472565353794116 and parameters: {'kernel': 'rbf', 'C': 0.011037747430679376, 'gamma': 0.017190812832789604, 'epsilon': 0.0026875186305720866}. Best is trial 593 with value: -0.006137730482857886.\u001b[0m\n",
      "\u001b[32m[I 2022-07-24 18:09:48,836]\u001b[0m Trial 1037 finished with value: -0.006181137909931824 and parameters: {'kernel': 'rbf', 'C': 0.014921040136249009, 'gamma': 0.05471325961901224, 'epsilon': 0.001579873685393021}. Best is trial 593 with value: -0.006137730482857886.\u001b[0m\n",
      "\u001b[32m[I 2022-07-24 18:09:48,944]\u001b[0m Trial 1038 finished with value: -0.006133775634474926 and parameters: {'kernel': 'rbf', 'C': 0.017794450102011264, 'gamma': 0.06557012648916476, 'epsilon': 0.0021129226278952177}. Best is trial 1038 with value: -0.006133775634474926.\u001b[0m\n",
      "\u001b[32m[I 2022-07-24 18:09:49,045]\u001b[0m Trial 1039 finished with value: -0.006225563859925419 and parameters: {'kernel': 'rbf', 'C': 0.02309637323514292, 'gamma': 0.05210950060230611, 'epsilon': 0.0031859438026503235}. Best is trial 1038 with value: -0.006133775634474926.\u001b[0m\n",
      "\u001b[32m[I 2022-07-24 18:09:49,160]\u001b[0m Trial 1040 finished with value: -0.006158203234311511 and parameters: {'kernel': 'rbf', 'C': 0.02060344271282156, 'gamma': 0.05944609117889731, 'epsilon': 0.0023671618672385175}. Best is trial 1038 with value: -0.006133775634474926.\u001b[0m\n",
      "\u001b[32m[I 2022-07-24 18:09:49,260]\u001b[0m Trial 1041 finished with value: -0.006196474243952512 and parameters: {'kernel': 'rbf', 'C': 0.025531339720960642, 'gamma': 0.04814319114937571, 'epsilon': 0.0028078670913203783}. Best is trial 1038 with value: -0.006133775634474926.\u001b[0m\n",
      "\u001b[32m[I 2022-07-24 18:09:49,436]\u001b[0m Trial 1042 finished with value: -0.006144102273304745 and parameters: {'kernel': 'rbf', 'C': 0.01888502218194936, 'gamma': 0.06389835534485412, 'epsilon': 0.002141621322765704}. Best is trial 1038 with value: -0.006133775634474926.\u001b[0m\n",
      "\u001b[32m[I 2022-07-24 18:09:49,599]\u001b[0m Trial 1043 finished with value: -0.006175334587714212 and parameters: {'kernel': 'rbf', 'C': 0.022657962916851456, 'gamma': 0.06695125378115148, 'epsilon': 0.00204882924544635}. Best is trial 1038 with value: -0.006133775634474926.\u001b[0m\n",
      "\u001b[32m[I 2022-07-24 18:09:49,722]\u001b[0m Trial 1044 finished with value: -0.00617739274489924 and parameters: {'kernel': 'rbf', 'C': 0.02287278890327268, 'gamma': 0.06384625801007118, 'epsilon': 0.0018451533174085957}. Best is trial 1038 with value: -0.006133775634474926.\u001b[0m\n",
      "\u001b[32m[I 2022-07-24 18:09:49,815]\u001b[0m Trial 1045 finished with value: -0.006166184948150817 and parameters: {'kernel': 'rbf', 'C': 0.019758471020032666, 'gamma': 0.07129217664051202, 'epsilon': 0.0020868737724312127}. Best is trial 1038 with value: -0.006133775634474926.\u001b[0m\n",
      "\u001b[32m[I 2022-07-24 18:09:49,942]\u001b[0m Trial 1046 finished with value: -0.006213949720543206 and parameters: {'kernel': 'rbf', 'C': 0.026444972734469607, 'gamma': 0.0755311951863515, 'epsilon': 0.0017337827734901755}. Best is trial 1038 with value: -0.006133775634474926.\u001b[0m\n",
      "\u001b[32m[I 2022-07-24 18:09:50,031]\u001b[0m Trial 1047 finished with value: -0.006146291405884997 and parameters: {'kernel': 'rbf', 'C': 0.019277945419812113, 'gamma': 0.06236084458702336, 'epsilon': 0.002169561357172198}. Best is trial 1038 with value: -0.006133775634474926.\u001b[0m\n",
      "\u001b[32m[I 2022-07-24 18:09:50,173]\u001b[0m Trial 1048 finished with value: -0.006168874106246019 and parameters: {'kernel': 'rbf', 'C': 0.023569475471988843, 'gamma': 0.05331678359122014, 'epsilon': 0.002088393667327071}. Best is trial 1038 with value: -0.006133775634474926.\u001b[0m\n",
      "\u001b[32m[I 2022-07-24 18:09:50,297]\u001b[0m Trial 1049 finished with value: -0.0061965298324428595 and parameters: {'kernel': 'rbf', 'C': 0.02920177752924343, 'gamma': 0.05889027684251004, 'epsilon': 0.0017588891664468388}. Best is trial 1038 with value: -0.006133775634474926.\u001b[0m\n",
      "\u001b[32m[I 2022-07-24 18:09:50,414]\u001b[0m Trial 1050 finished with value: -0.006185251491447452 and parameters: {'kernel': 'rbf', 'C': 0.021624423528538113, 'gamma': 0.04760361091789887, 'epsilon': 0.0015725327131217684}. Best is trial 1038 with value: -0.006133775634474926.\u001b[0m\n",
      "\u001b[32m[I 2022-07-24 18:09:50,554]\u001b[0m Trial 1051 finished with value: -0.006190393101936555 and parameters: {'kernel': 'rbf', 'C': 0.026627237762770952, 'gamma': 0.061345737092860085, 'epsilon': 0.002217073190582518}. Best is trial 1038 with value: -0.006133775634474926.\u001b[0m\n",
      "\u001b[32m[I 2022-07-24 18:09:50,718]\u001b[0m Trial 1052 finished with value: -0.006199578423906601 and parameters: {'kernel': 'rbf', 'C': 0.020902232724719378, 'gamma': 0.04044187243399104, 'epsilon': 0.0019154781166108236}. Best is trial 1038 with value: -0.006133775634474926.\u001b[0m\n"
     ]
    },
    {
     "name": "stderr",
     "output_type": "stream",
     "text": [
      "\u001b[32m[I 2022-07-24 18:09:50,832]\u001b[0m Trial 1053 finished with value: -0.006150808089121707 and parameters: {'kernel': 'rbf', 'C': 0.01885635639694677, 'gamma': 0.052051071585707404, 'epsilon': 0.0023139728105433183}. Best is trial 1038 with value: -0.006133775634474926.\u001b[0m\n",
      "\u001b[32m[I 2022-07-24 18:09:50,889]\u001b[0m Trial 1054 finished with value: -0.008188342007739999 and parameters: {'kernel': 'rbf', 'C': 0.02269839636009318, 'gamma': 0.06385652216061989, 'epsilon': 0.008989177279919446}. Best is trial 1038 with value: -0.006133775634474926.\u001b[0m\n",
      "\u001b[32m[I 2022-07-24 18:09:51,002]\u001b[0m Trial 1055 finished with value: -0.006145408471216054 and parameters: {'kernel': 'rbf', 'C': 0.01888481158086083, 'gamma': 0.05579291251184878, 'epsilon': 0.001937923048141202}. Best is trial 1038 with value: -0.006133775634474926.\u001b[0m\n",
      "\u001b[32m[I 2022-07-24 18:09:51,150]\u001b[0m Trial 1056 finished with value: -0.006189424854940454 and parameters: {'kernel': 'rbf', 'C': 0.018460330126964037, 'gamma': 0.048258101392388925, 'epsilon': 0.0014363660172098008}. Best is trial 1038 with value: -0.006133775634474926.\u001b[0m\n",
      "\u001b[32m[I 2022-07-24 18:09:51,283]\u001b[0m Trial 1057 finished with value: -0.006162189697797433 and parameters: {'kernel': 'rbf', 'C': 0.021753331699282407, 'gamma': 0.0543841596221984, 'epsilon': 0.0016691076967851552}. Best is trial 1038 with value: -0.006133775634474926.\u001b[0m\n",
      "\u001b[32m[I 2022-07-24 18:09:51,415]\u001b[0m Trial 1058 finished with value: -0.006244076955561597 and parameters: {'kernel': 'rbf', 'C': 0.01794211882910908, 'gamma': 0.03527599985563815, 'epsilon': 0.0013037174042591698}. Best is trial 1038 with value: -0.006133775634474926.\u001b[0m\n",
      "\u001b[32m[I 2022-07-24 18:09:51,560]\u001b[0m Trial 1059 finished with value: -0.0061604848641034216 and parameters: {'kernel': 'rbf', 'C': 0.019582297759070073, 'gamma': 0.055181446084489855, 'epsilon': 0.0018399812437664752}. Best is trial 1038 with value: -0.006133775634474926.\u001b[0m\n",
      "\u001b[32m[I 2022-07-24 18:09:51,741]\u001b[0m Trial 1060 finished with value: -0.0061990842685911126 and parameters: {'kernel': 'rbf', 'C': 0.023856559388139083, 'gamma': 0.06840733689029276, 'epsilon': 0.0015349169790092264}. Best is trial 1038 with value: -0.006133775634474926.\u001b[0m\n",
      "\u001b[32m[I 2022-07-24 18:09:51,892]\u001b[0m Trial 1061 finished with value: -0.006184213917865441 and parameters: {'kernel': 'rbf', 'C': 0.01761483187376714, 'gamma': 0.04554018995145229, 'epsilon': 0.001961870807168559}. Best is trial 1038 with value: -0.006133775634474926.\u001b[0m\n",
      "\u001b[32m[I 2022-07-24 18:09:52,051]\u001b[0m Trial 1062 finished with value: -0.0063505646244684045 and parameters: {'kernel': 'rbf', 'C': 0.09298483213234959, 'gamma': 0.040699120233434374, 'epsilon': 0.001620878494682352}. Best is trial 1038 with value: -0.006133775634474926.\u001b[0m\n",
      "\u001b[32m[I 2022-07-24 18:09:52,182]\u001b[0m Trial 1063 finished with value: -0.006212063871227827 and parameters: {'kernel': 'rbf', 'C': 0.030167360815172777, 'gamma': 0.06824121636240711, 'epsilon': 0.0018669656525115597}. Best is trial 1038 with value: -0.006133775634474926.\u001b[0m\n",
      "\u001b[32m[I 2022-07-24 18:09:52,285]\u001b[0m Trial 1064 finished with value: -0.0061636866439075955 and parameters: {'kernel': 'rbf', 'C': 0.020845800006433133, 'gamma': 0.05816661068381542, 'epsilon': 0.0024985693728679847}. Best is trial 1038 with value: -0.006133775634474926.\u001b[0m\n",
      "\u001b[32m[I 2022-07-24 18:09:52,396]\u001b[0m Trial 1065 finished with value: -0.006164779935949373 and parameters: {'kernel': 'rbf', 'C': 0.01769276224368773, 'gamma': 0.07493898160990804, 'epsilon': 0.001972662583508167}. Best is trial 1038 with value: -0.006133775634474926.\u001b[0m\n",
      "\u001b[32m[I 2022-07-24 18:09:52,546]\u001b[0m Trial 1066 finished with value: -0.00688600404508009 and parameters: {'kernel': 'poly', 'C': 0.02533215109246325, 'gamma': 0.0518791090561281, 'epsilon': 0.0014499815673572314}. Best is trial 1038 with value: -0.006133775634474926.\u001b[0m\n",
      "\u001b[32m[I 2022-07-24 18:09:52,649]\u001b[0m Trial 1067 finished with value: -0.006156283433080725 and parameters: {'kernel': 'rbf', 'C': 0.016808668283350977, 'gamma': 0.06425623944127086, 'epsilon': 0.0021117607486037457}. Best is trial 1038 with value: -0.006133775634474926.\u001b[0m\n",
      "\u001b[32m[I 2022-07-24 18:09:52,784]\u001b[0m Trial 1068 finished with value: -0.006161557167852415 and parameters: {'kernel': 'rbf', 'C': 0.018920946362905273, 'gamma': 0.07147694424711663, 'epsilon': 0.0017587973181249085}. Best is trial 1038 with value: -0.006133775634474926.\u001b[0m\n",
      "\u001b[32m[I 2022-07-24 18:09:52,922]\u001b[0m Trial 1069 finished with value: -0.006185940441055543 and parameters: {'kernel': 'rbf', 'C': 0.017285177282819114, 'gamma': 0.05972938824045714, 'epsilon': 0.001106184392968512}. Best is trial 1038 with value: -0.006133775634474926.\u001b[0m\n",
      "\u001b[32m[I 2022-07-24 18:09:53,007]\u001b[0m Trial 1070 finished with value: -0.006200356200023569 and parameters: {'kernel': 'rbf', 'C': 0.021735123245595418, 'gamma': 0.07926936842450931, 'epsilon': 0.002451227617601745}. Best is trial 1038 with value: -0.006133775634474926.\u001b[0m\n",
      "\u001b[32m[I 2022-07-24 18:09:53,131]\u001b[0m Trial 1071 finished with value: -0.006200597569205997 and parameters: {'kernel': 'rbf', 'C': 0.01674588797341996, 'gamma': 0.04474913085616316, 'epsilon': 0.0021703209972433924}. Best is trial 1038 with value: -0.006133775634474926.\u001b[0m\n",
      "\u001b[32m[I 2022-07-24 18:09:53,258]\u001b[0m Trial 1072 finished with value: -0.00619392043959879 and parameters: {'kernel': 'rbf', 'C': 0.020573560818678234, 'gamma': 0.08408772540861521, 'epsilon': 0.0016959721552613353}. Best is trial 1038 with value: -0.006133775634474926.\u001b[0m\n",
      "\u001b[32m[I 2022-07-24 18:09:53,363]\u001b[0m Trial 1073 finished with value: -0.006157206341302367 and parameters: {'kernel': 'rbf', 'C': 0.01588838426357617, 'gamma': 0.06817230176027562, 'epsilon': 0.0019331802456234075}. Best is trial 1038 with value: -0.006133775634474926.\u001b[0m\n",
      "\u001b[32m[I 2022-07-24 18:09:53,462]\u001b[0m Trial 1074 finished with value: -0.006159941194620576 and parameters: {'kernel': 'rbf', 'C': 0.01941789341347946, 'gamma': 0.05301845005081498, 'epsilon': 0.0025945667564606658}. Best is trial 1038 with value: -0.006133775634474926.\u001b[0m\n",
      "\u001b[32m[I 2022-07-24 18:09:53,578]\u001b[0m Trial 1075 finished with value: -0.006146910506134141 and parameters: {'kernel': 'rbf', 'C': 0.015878115388111666, 'gamma': 0.062288434594683174, 'epsilon': 0.002232798456284056}. Best is trial 1038 with value: -0.006133775634474926.\u001b[0m\n",
      "\u001b[32m[I 2022-07-24 18:09:53,732]\u001b[0m Trial 1076 finished with value: -0.006206451862069339 and parameters: {'kernel': 'rbf', 'C': 0.025735009110851723, 'gamma': 0.07555681083944103, 'epsilon': 0.0015958999366038347}. Best is trial 1038 with value: -0.006133775634474926.\u001b[0m\n",
      "\u001b[32m[I 2022-07-24 18:09:53,894]\u001b[0m Trial 1077 finished with value: -0.0061788972643697275 and parameters: {'kernel': 'rbf', 'C': 0.01754459088531066, 'gamma': 0.08936823605558523, 'epsilon': 0.0018987448188780272}. Best is trial 1038 with value: -0.006133775634474926.\u001b[0m\n",
      "\u001b[32m[I 2022-07-24 18:09:54,033]\u001b[0m Trial 1078 finished with value: -0.00617428310461255 and parameters: {'kernel': 'rbf', 'C': 0.014903961752154615, 'gamma': 0.07036250945762058, 'epsilon': 0.0012696758723917591}. Best is trial 1038 with value: -0.006133775634474926.\u001b[0m\n",
      "\u001b[32m[I 2022-07-24 18:09:54,145]\u001b[0m Trial 1079 finished with value: -0.006159511860310576 and parameters: {'kernel': 'rbf', 'C': 0.01908619454777283, 'gamma': 0.05656628581574289, 'epsilon': 0.00266537558403139}. Best is trial 1038 with value: -0.006133775634474926.\u001b[0m\n",
      "\u001b[32m[I 2022-07-24 18:09:54,261]\u001b[0m Trial 1080 finished with value: -0.006152009957334337 and parameters: {'kernel': 'rbf', 'C': 0.014686514208245505, 'gamma': 0.07998116291566472, 'epsilon': 0.0021897988322908076}. Best is trial 1038 with value: -0.006133775634474926.\u001b[0m\n",
      "\u001b[32m[I 2022-07-24 18:09:54,382]\u001b[0m Trial 1081 finished with value: -0.006174734763294096 and parameters: {'kernel': 'rbf', 'C': 0.022746908610949176, 'gamma': 0.06313063717661127, 'epsilon': 0.0017578179483315637}. Best is trial 1038 with value: -0.006133775634474926.\u001b[0m\n",
      "\u001b[32m[I 2022-07-24 18:09:54,479]\u001b[0m Trial 1082 finished with value: -0.006178633639208686 and parameters: {'kernel': 'rbf', 'C': 0.016527979411983078, 'gamma': 0.049242021146467446, 'epsilon': 0.002406423272303897}. Best is trial 1038 with value: -0.006133775634474926.\u001b[0m\n"
     ]
    },
    {
     "name": "stderr",
     "output_type": "stream",
     "text": [
      "\u001b[32m[I 2022-07-24 18:09:54,594]\u001b[0m Trial 1083 finished with value: -0.006177272562711958 and parameters: {'kernel': 'rbf', 'C': 0.01375530255340717, 'gamma': 0.09171619073845638, 'epsilon': 0.001511241309297319}. Best is trial 1038 with value: -0.006133775634474926.\u001b[0m\n",
      "\u001b[32m[I 2022-07-24 18:09:54,692]\u001b[0m Trial 1084 finished with value: -0.0063301064208116055 and parameters: {'kernel': 'rbf', 'C': 0.0450130042117727, 'gamma': 0.06995851390128371, 'epsilon': 0.0030139258779039437}. Best is trial 1038 with value: -0.006133775634474926.\u001b[0m\n",
      "\u001b[32m[I 2022-07-24 18:09:54,821]\u001b[0m Trial 1085 finished with value: -0.006313675453666067 and parameters: {'kernel': 'rbf', 'C': 0.05943651221145821, 'gamma': 0.059114208114102944, 'epsilon': 0.0020533077928000273}. Best is trial 1038 with value: -0.006133775634474926.\u001b[0m\n",
      "\u001b[32m[I 2022-07-24 18:09:54,934]\u001b[0m Trial 1086 finished with value: -0.006173284965671494 and parameters: {'kernel': 'rbf', 'C': 0.018405225969222217, 'gamma': 0.0797615236585913, 'epsilon': 0.00192128179235521}. Best is trial 1038 with value: -0.006133775634474926.\u001b[0m\n",
      "\u001b[32m[I 2022-07-24 18:09:55,041]\u001b[0m Trial 1087 finished with value: -0.006173397929515601 and parameters: {'kernel': 'rbf', 'C': 0.015119923441794601, 'gamma': 0.09069581420468704, 'epsilon': 0.0023125175669881067}. Best is trial 1038 with value: -0.006133775634474926.\u001b[0m\n",
      "\u001b[32m[I 2022-07-24 18:09:55,183]\u001b[0m Trial 1088 finished with value: -0.006183282214827085 and parameters: {'kernel': 'rbf', 'C': 0.020866250731719726, 'gamma': 0.07313358657417189, 'epsilon': 0.0016996841174385712}. Best is trial 1038 with value: -0.006133775634474926.\u001b[0m\n",
      "\u001b[32m[I 2022-07-24 18:09:55,352]\u001b[0m Trial 1089 finished with value: -0.006169028500309711 and parameters: {'kernel': 'rbf', 'C': 0.01691344398075129, 'gamma': 0.050688996669583486, 'epsilon': 0.002565752564740598}. Best is trial 1038 with value: -0.006133775634474926.\u001b[0m\n",
      "\u001b[32m[I 2022-07-24 18:09:55,517]\u001b[0m Trial 1090 finished with value: -0.006941197044032132 and parameters: {'kernel': 'poly', 'C': 0.01379511612982783, 'gamma': 0.04361675741549272, 'epsilon': 0.0013967363752305768}. Best is trial 1038 with value: -0.006133775634474926.\u001b[0m\n",
      "\u001b[32m[I 2022-07-24 18:09:55,577]\u001b[0m Trial 1091 finished with value: -0.021167690915437323 and parameters: {'kernel': 'rbf', 'C': 0.01275501841850344, 'gamma': 0.06439062964981523, 'epsilon': 0.025072469547895312}. Best is trial 1038 with value: -0.006133775634474926.\u001b[0m\n",
      "\u001b[32m[I 2022-07-24 18:09:55,684]\u001b[0m Trial 1092 finished with value: -0.006153577408247708 and parameters: {'kernel': 'rbf', 'C': 0.016499904985176967, 'gamma': 0.08002876367492834, 'epsilon': 0.002087146071661886}. Best is trial 1038 with value: -0.006133775634474926.\u001b[0m\n",
      "\u001b[32m[I 2022-07-24 18:09:55,794]\u001b[0m Trial 1093 finished with value: -0.006159616021564454 and parameters: {'kernel': 'rbf', 'C': 0.020282989472103868, 'gamma': 0.057849939712150904, 'epsilon': 0.00188092155751386}. Best is trial 1038 with value: -0.006133775634474926.\u001b[0m\n",
      "\u001b[32m[I 2022-07-24 18:09:55,935]\u001b[0m Trial 1094 finished with value: -0.006925075661978506 and parameters: {'kernel': 'rbf', 'C': 0.22001602282140809, 'gamma': 0.10768924178267456, 'epsilon': 0.002812312176370847}. Best is trial 1038 with value: -0.006133775634474926.\u001b[0m\n",
      "\u001b[32m[I 2022-07-24 18:09:56,035]\u001b[0m Trial 1095 finished with value: -0.006150825307330124 and parameters: {'kernel': 'rbf', 'C': 0.01429414819714034, 'gamma': 0.06898755240015998, 'epsilon': 0.002249113333416274}. Best is trial 1038 with value: -0.006133775634474926.\u001b[0m\n",
      "\u001b[32m[I 2022-07-24 18:09:56,203]\u001b[0m Trial 1096 finished with value: -0.006194854355347373 and parameters: {'kernel': 'rbf', 'C': 0.01822207634344988, 'gamma': 0.09293068046027599, 'epsilon': 0.0016377364651483442}. Best is trial 1038 with value: -0.006133775634474926.\u001b[0m\n",
      "\u001b[32m[I 2022-07-24 18:09:56,421]\u001b[0m Trial 1097 finished with value: -0.006216325406271861 and parameters: {'kernel': 'rbf', 'C': 0.027669451689102044, 'gamma': 0.07662979322059134, 'epsilon': 0.002020646863539541}. Best is trial 1038 with value: -0.006133775634474926.\u001b[0m\n",
      "\u001b[32m[I 2022-07-24 18:09:56,495]\u001b[0m Trial 1098 finished with value: -0.006847776341713008 and parameters: {'kernel': 'rbf', 'C': 0.023977699668406183, 'gamma': 0.0534776341210157, 'epsilon': 0.0060947614744153765}. Best is trial 1038 with value: -0.006133775634474926.\u001b[0m\n",
      "\u001b[32m[I 2022-07-24 18:09:56,584]\u001b[0m Trial 1099 finished with value: -0.0061531889227845705 and parameters: {'kernel': 'rbf', 'C': 0.01539559150263922, 'gamma': 0.06565239163794512, 'epsilon': 0.0024949498856781972}. Best is trial 1038 with value: -0.006133775634474926.\u001b[0m\n",
      "\u001b[32m[I 2022-07-24 18:09:56,697]\u001b[0m Trial 1100 finished with value: -0.006151200446343981 and parameters: {'kernel': 'rbf', 'C': 0.012124589143801693, 'gamma': 0.08416602303564974, 'epsilon': 0.001804856537293397}. Best is trial 1038 with value: -0.006133775634474926.\u001b[0m\n",
      "\u001b[32m[I 2022-07-24 18:09:56,814]\u001b[0m Trial 1101 finished with value: -0.006170943352775738 and parameters: {'kernel': 'rbf', 'C': 0.010017386184458294, 'gamma': 0.10516497489615645, 'epsilon': 0.002158263089235044}. Best is trial 1038 with value: -0.006133775634474926.\u001b[0m\n",
      "\u001b[32m[I 2022-07-24 18:09:56,903]\u001b[0m Trial 1102 finished with value: -0.006197768834485872 and parameters: {'kernel': 'rbf', 'C': 0.013773559777363427, 'gamma': 0.060330475359824776, 'epsilon': 0.002968542911563314}. Best is trial 1038 with value: -0.006133775634474926.\u001b[0m\n",
      "\u001b[32m[I 2022-07-24 18:09:57,022]\u001b[0m Trial 1103 finished with value: -0.0061638451180142636 and parameters: {'kernel': 'rbf', 'C': 0.01758026538891969, 'gamma': 0.0724985653852245, 'epsilon': 0.001480866694556979}. Best is trial 1038 with value: -0.006133775634474926.\u001b[0m\n",
      "\u001b[32m[I 2022-07-24 18:09:57,124]\u001b[0m Trial 1104 finished with value: -0.0061675836099429554 and parameters: {'kernel': 'rbf', 'C': 0.012104270926159665, 'gamma': 0.08729132303537687, 'epsilon': 0.0024600013385410726}. Best is trial 1038 with value: -0.006133775634474926.\u001b[0m\n",
      "\u001b[32m[I 2022-07-24 18:09:57,256]\u001b[0m Trial 1105 finished with value: -0.006247885440852976 and parameters: {'kernel': 'rbf', 'C': 0.010022424842976434, 'gamma': 0.048123526999555286, 'epsilon': 0.0018980897374767179}. Best is trial 1038 with value: -0.006133775634474926.\u001b[0m\n",
      "\u001b[32m[I 2022-07-24 18:09:57,384]\u001b[0m Trial 1106 finished with value: -0.00623079309957941 and parameters: {'kernel': 'rbf', 'C': 0.015564164332824666, 'gamma': 0.1265466463405522, 'epsilon': 0.0016234737158861213}. Best is trial 1038 with value: -0.006133775634474926.\u001b[0m\n",
      "\u001b[32m[I 2022-07-24 18:09:57,482]\u001b[0m Trial 1107 finished with value: -0.00615136787928391 and parameters: {'kernel': 'rbf', 'C': 0.020410544538752132, 'gamma': 0.06599536904084351, 'epsilon': 0.0021757028500729468}. Best is trial 1038 with value: -0.006133775634474926.\u001b[0m\n",
      "\u001b[32m[I 2022-07-24 18:09:57,567]\u001b[0m Trial 1108 finished with value: -0.006213518521649191 and parameters: {'kernel': 'rbf', 'C': 0.013752447169503823, 'gamma': 0.0976278595793379, 'epsilon': 0.0027813866074170813}. Best is trial 1038 with value: -0.006133775634474926.\u001b[0m\n",
      "\u001b[32m[I 2022-07-24 18:09:57,698]\u001b[0m Trial 1109 finished with value: -0.006236762969104383 and parameters: {'kernel': 'rbf', 'C': 0.017836784172976013, 'gamma': 0.03682810540089785, 'epsilon': 0.0012473987089202043}. Best is trial 1038 with value: -0.006133775634474926.\u001b[0m\n",
      "\u001b[32m[I 2022-07-24 18:09:57,798]\u001b[0m Trial 1110 finished with value: -0.006161729190336558 and parameters: {'kernel': 'rbf', 'C': 0.011257951725196521, 'gamma': 0.07615592467681145, 'epsilon': 0.0024059401970833293}. Best is trial 1038 with value: -0.006133775634474926.\u001b[0m\n",
      "\u001b[32m[I 2022-07-24 18:09:57,907]\u001b[0m Trial 1111 finished with value: -0.0061765437598554586 and parameters: {'kernel': 'rbf', 'C': 0.015410022053620732, 'gamma': 0.054944229898735146, 'epsilon': 0.0018683943677821487}. Best is trial 1038 with value: -0.006133775634474926.\u001b[0m\n",
      "\u001b[32m[I 2022-07-24 18:09:58,021]\u001b[0m Trial 1112 finished with value: -0.006141857150734777 and parameters: {'kernel': 'rbf', 'C': 0.0125103302290792, 'gamma': 0.08061443768196859, 'epsilon': 0.002096241254095272}. Best is trial 1038 with value: -0.006133775634474926.\u001b[0m\n"
     ]
    },
    {
     "name": "stderr",
     "output_type": "stream",
     "text": [
      "\u001b[32m[I 2022-07-24 18:09:58,112]\u001b[0m Trial 1113 finished with value: -0.006195573237518855 and parameters: {'kernel': 'rbf', 'C': 0.011739608785177958, 'gamma': 0.09752715935380735, 'epsilon': 0.002655453102212102}. Best is trial 1038 with value: -0.006133775634474926.\u001b[0m\n",
      "\u001b[32m[I 2022-07-24 18:09:58,223]\u001b[0m Trial 1114 finished with value: -0.006204986901260386 and parameters: {'kernel': 'rbf', 'C': 0.011332982645069052, 'gamma': 0.12161659116222834, 'epsilon': 0.0022522603360022164}. Best is trial 1038 with value: -0.006133775634474926.\u001b[0m\n",
      "\u001b[32m[I 2022-07-24 18:09:58,312]\u001b[0m Trial 1115 finished with value: -0.00624583294954402 and parameters: {'kernel': 'rbf', 'C': 0.010094260683571232, 'gamma': 0.08520383803743373, 'epsilon': 0.0032662839838920516}. Best is trial 1038 with value: -0.006133775634474926.\u001b[0m\n",
      "\u001b[32m[I 2022-07-24 18:09:58,409]\u001b[0m Trial 1116 finished with value: -0.006169628266088953 and parameters: {'kernel': 'rbf', 'C': 0.010023215739067304, 'gamma': 0.09741947417926723, 'epsilon': 0.0020426518929278505}. Best is trial 1038 with value: -0.006133775634474926.\u001b[0m\n",
      "\u001b[32m[I 2022-07-24 18:09:58,524]\u001b[0m Trial 1117 finished with value: -0.006161217786914107 and parameters: {'kernel': 'rbf', 'C': 0.012913072995876936, 'gamma': 0.0827967959660346, 'epsilon': 0.0017462620793584449}. Best is trial 1038 with value: -0.006133775634474926.\u001b[0m\n",
      "\u001b[32m[I 2022-07-24 18:09:58,632]\u001b[0m Trial 1118 finished with value: -0.006259599163772445 and parameters: {'kernel': 'rbf', 'C': 0.03442855510689929, 'gamma': 0.07561475642020377, 'epsilon': 0.002400224219334827}. Best is trial 1038 with value: -0.006133775634474926.\u001b[0m\n",
      "\u001b[32m[I 2022-07-24 18:09:58,779]\u001b[0m Trial 1119 finished with value: -0.006711304816254035 and parameters: {'kernel': 'poly', 'C': 0.01283509355046047, 'gamma': 0.10846564563807008, 'epsilon': 0.003597217378128422}. Best is trial 1038 with value: -0.006133775634474926.\u001b[0m\n",
      "\u001b[32m[I 2022-07-24 18:09:59,289]\u001b[0m Trial 1120 finished with value: -0.008224891737576514 and parameters: {'kernel': 'rbf', 'C': 9.879106142139445, 'gamma': 0.09028412599145222, 'epsilon': 0.002037236593100347}. Best is trial 1038 with value: -0.006133775634474926.\u001b[0m\n",
      "\u001b[32m[I 2022-07-24 18:09:59,394]\u001b[0m Trial 1121 finished with value: -0.006210383104238428 and parameters: {'kernel': 'rbf', 'C': 0.021974707921343085, 'gamma': 0.06556394650558964, 'epsilon': 0.0029332105995632674}. Best is trial 1038 with value: -0.006133775634474926.\u001b[0m\n",
      "\u001b[32m[I 2022-07-24 18:09:59,522]\u001b[0m Trial 1122 finished with value: -0.0061983260236321384 and parameters: {'kernel': 'rbf', 'C': 0.014763879364764332, 'gamma': 0.11040657868388355, 'epsilon': 0.001548258985678178}. Best is trial 1038 with value: -0.006133775634474926.\u001b[0m\n",
      "\u001b[32m[I 2022-07-24 18:09:59,645]\u001b[0m Trial 1123 finished with value: -0.006205450754374478 and parameters: {'kernel': 'rbf', 'C': 0.018853376983355728, 'gamma': 0.08126218763789864, 'epsilon': 0.0025225042533403986}. Best is trial 1038 with value: -0.006133775634474926.\u001b[0m\n",
      "\u001b[32m[I 2022-07-24 18:09:59,717]\u001b[0m Trial 1124 finished with value: -0.03564469137116574 and parameters: {'kernel': 'rbf', 'C': 1.9145669458029577, 'gamma': 0.05970339188340256, 'epsilon': 0.13530938097030157}. Best is trial 1038 with value: -0.006133775634474926.\u001b[0m\n",
      "\u001b[32m[I 2022-07-24 18:09:59,831]\u001b[0m Trial 1125 finished with value: -0.006145432356248946 and parameters: {'kernel': 'rbf', 'C': 0.016051734402386088, 'gamma': 0.0711732048299623, 'epsilon': 0.002182219119555439}. Best is trial 1038 with value: -0.006133775634474926.\u001b[0m\n",
      "\u001b[32m[I 2022-07-24 18:09:59,942]\u001b[0m Trial 1126 finished with value: -0.00620165760386034 and parameters: {'kernel': 'rbf', 'C': 0.021515532438277668, 'gamma': 0.04452973737075915, 'epsilon': 0.0029913798790938513}. Best is trial 1038 with value: -0.006133775634474926.\u001b[0m\n",
      "\u001b[32m[I 2022-07-24 18:10:00,084]\u001b[0m Trial 1127 finished with value: -0.006159985284695915 and parameters: {'kernel': 'rbf', 'C': 0.018714737609910867, 'gamma': 0.05599576562780011, 'epsilon': 0.0025156955818664436}. Best is trial 1038 with value: -0.006133775634474926.\u001b[0m\n",
      "\u001b[32m[I 2022-07-24 18:10:00,739]\u001b[0m Trial 1128 finished with value: -0.006209886522713208 and parameters: {'kernel': 'rbf', 'C': 0.026396755002203152, 'gamma': 0.06850702408925013, 'epsilon': 0.002235304008563191}. Best is trial 1038 with value: -0.006133775634474926.\u001b[0m\n",
      "\u001b[32m[I 2022-07-24 18:10:01,086]\u001b[0m Trial 1129 finished with value: -0.006180696212171911 and parameters: {'kernel': 'rbf', 'C': 0.024145373444503435, 'gamma': 0.051855196934744906, 'epsilon': 0.002747917666999595}. Best is trial 1038 with value: -0.006133775634474926.\u001b[0m\n",
      "\u001b[32m[I 2022-07-24 18:10:01,400]\u001b[0m Trial 1130 finished with value: -0.006149272783717304 and parameters: {'kernel': 'rbf', 'C': 0.016928594967507465, 'gamma': 0.06219832966998705, 'epsilon': 0.0022275945865182748}. Best is trial 1038 with value: -0.006133775634474926.\u001b[0m\n",
      "\u001b[32m[I 2022-07-24 18:10:01,512]\u001b[0m Trial 1131 finished with value: -0.006168347922503082 and parameters: {'kernel': 'rbf', 'C': 0.016286966545588873, 'gamma': 0.07117234845408786, 'epsilon': 0.0026083525822418246}. Best is trial 1038 with value: -0.006133775634474926.\u001b[0m\n",
      "\u001b[32m[I 2022-07-24 18:10:01,707]\u001b[0m Trial 1132 finished with value: -0.006305240325922297 and parameters: {'kernel': 'rbf', 'C': 0.018503291856409414, 'gamma': 0.08992684802291447, 'epsilon': 0.0033450583583817636}. Best is trial 1038 with value: -0.006133775634474926.\u001b[0m\n",
      "\u001b[32m[I 2022-07-24 18:10:01,842]\u001b[0m Trial 1133 finished with value: -0.006188349294130449 and parameters: {'kernel': 'rbf', 'C': 0.020252566212868344, 'gamma': 0.042032766686228844, 'epsilon': 0.0020927060552700205}. Best is trial 1038 with value: -0.006133775634474926.\u001b[0m\n",
      "\u001b[32m[I 2022-07-24 18:10:01,901]\u001b[0m Trial 1134 finished with value: -0.009683629555343553 and parameters: {'kernel': 'rbf', 'C': 0.01611896110461835, 'gamma': 0.06229528585723554, 'epsilon': 0.01118444122579367}. Best is trial 1038 with value: -0.006133775634474926.\u001b[0m\n",
      "\u001b[32m[I 2022-07-24 18:10:02,002]\u001b[0m Trial 1135 finished with value: -0.006149395600243507 and parameters: {'kernel': 'rbf', 'C': 0.014713240072077098, 'gamma': 0.07482650335867942, 'epsilon': 0.0022253859894726035}. Best is trial 1038 with value: -0.006133775634474926.\u001b[0m\n",
      "\u001b[32m[I 2022-07-24 18:10:02,117]\u001b[0m Trial 1136 finished with value: -0.006166204219023236 and parameters: {'kernel': 'rbf', 'C': 0.023701796258234334, 'gamma': 0.04919555526547333, 'epsilon': 0.0017904849297600545}. Best is trial 1038 with value: -0.006133775634474926.\u001b[0m\n",
      "\u001b[32m[I 2022-07-24 18:10:02,216]\u001b[0m Trial 1137 finished with value: -0.0061805861423869166 and parameters: {'kernel': 'rbf', 'C': 0.01688046484703889, 'gamma': 0.08406619008430868, 'epsilon': 0.002433191770148459}. Best is trial 1038 with value: -0.006133775634474926.\u001b[0m\n",
      "\u001b[32m[I 2022-07-24 18:10:02,306]\u001b[0m Trial 1138 finished with value: -0.00621226920972785 and parameters: {'kernel': 'rbf', 'C': 0.019501701751909004, 'gamma': 0.05842803599627623, 'epsilon': 0.0030616715321228638}. Best is trial 1038 with value: -0.006133775634474926.\u001b[0m\n",
      "\u001b[32m[I 2022-07-24 18:10:02,428]\u001b[0m Trial 1139 finished with value: -0.006152917426849133 and parameters: {'kernel': 'rbf', 'C': 0.014357490885021782, 'gamma': 0.07046056263188376, 'epsilon': 0.001984977713519715}. Best is trial 1038 with value: -0.006133775634474926.\u001b[0m\n",
      "\u001b[32m[I 2022-07-24 18:10:02,537]\u001b[0m Trial 1140 finished with value: -0.006215234710614036 and parameters: {'kernel': 'rbf', 'C': 0.016847079353356668, 'gamma': 0.09487818675691287, 'epsilon': 0.0025812651947826316}. Best is trial 1038 with value: -0.006133775634474926.\u001b[0m\n",
      "\u001b[32m[I 2022-07-24 18:10:02,650]\u001b[0m Trial 1141 finished with value: -0.006162022758102417 and parameters: {'kernel': 'rbf', 'C': 0.02020651107755023, 'gamma': 0.06595458702195336, 'epsilon': 0.0018678427387401671}. Best is trial 1038 with value: -0.006133775634474926.\u001b[0m\n",
      "\u001b[32m[I 2022-07-24 18:10:02,786]\u001b[0m Trial 1142 finished with value: -0.006146862966887531 and parameters: {'kernel': 'rbf', 'C': 0.012749305625039193, 'gamma': 0.08018192468660887, 'epsilon': 0.0022430501348158784}. Best is trial 1038 with value: -0.006133775634474926.\u001b[0m\n"
     ]
    },
    {
     "name": "stderr",
     "output_type": "stream",
     "text": [
      "\u001b[32m[I 2022-07-24 18:10:02,899]\u001b[0m Trial 1143 finished with value: -0.00618491049975101 and parameters: {'kernel': 'rbf', 'C': 0.015129210278690847, 'gamma': 0.055223228058530444, 'epsilon': 0.001670639972871921}. Best is trial 1038 with value: -0.006133775634474926.\u001b[0m\n",
      "\u001b[32m[I 2022-07-24 18:10:03,014]\u001b[0m Trial 1144 finished with value: -0.006316571030314532 and parameters: {'kernel': 'rbf', 'C': 0.01797437006453088, 'gamma': 0.1377936219732872, 'epsilon': 0.0028766539663382857}. Best is trial 1038 with value: -0.006133775634474926.\u001b[0m\n",
      "\u001b[32m[I 2022-07-24 18:10:03,332]\u001b[0m Trial 1145 finished with value: -0.00675432214704946 and parameters: {'kernel': 'poly', 'C': 0.02292028527379179, 'gamma': 0.10081433898667522, 'epsilon': 0.002028120851284135}. Best is trial 1038 with value: -0.006133775634474926.\u001b[0m\n",
      "\u001b[32m[I 2022-07-24 18:10:03,506]\u001b[0m Trial 1146 finished with value: -0.006149776553304821 and parameters: {'kernel': 'rbf', 'C': 0.014314927434551, 'gamma': 0.0726295858069897, 'epsilon': 0.002251768549744743}. Best is trial 1038 with value: -0.006133775634474926.\u001b[0m\n",
      "\u001b[32m[I 2022-07-24 18:10:03,604]\u001b[0m Trial 1147 finished with value: -0.006360224114354748 and parameters: {'kernel': 'rbf', 'C': 0.011220908027544933, 'gamma': 0.0847840106428773, 'epsilon': 0.0038898928693615635}. Best is trial 1038 with value: -0.006133775634474926.\u001b[0m\n",
      "\u001b[32m[I 2022-07-24 18:10:03,745]\u001b[0m Trial 1148 finished with value: -0.006159243412363958 and parameters: {'kernel': 'rbf', 'C': 0.016388100425100607, 'gamma': 0.06234882855735426, 'epsilon': 0.001768964340464348}. Best is trial 1038 with value: -0.006133775634474926.\u001b[0m\n",
      "\u001b[32m[I 2022-07-24 18:10:03,841]\u001b[0m Trial 1149 finished with value: -0.006160976282571413 and parameters: {'kernel': 'rbf', 'C': 0.013040176901307219, 'gamma': 0.07462306078715751, 'epsilon': 0.00253837505249095}. Best is trial 1038 with value: -0.006133775634474926.\u001b[0m\n",
      "\u001b[32m[I 2022-07-24 18:10:03,970]\u001b[0m Trial 1150 finished with value: -0.006251110755207283 and parameters: {'kernel': 'rbf', 'C': 0.02077073151217154, 'gamma': 0.11543717008676918, 'epsilon': 0.0014072503687541885}. Best is trial 1038 with value: -0.006133775634474926.\u001b[0m\n",
      "\u001b[32m[I 2022-07-24 18:10:04,005]\u001b[0m Trial 1151 finished with value: -0.029886624971073167 and parameters: {'kernel': 'rbf', 'C': 0.015376451472330492, 'gamma': 0.030318844970342637, 'epsilon': 0.034361603157069376}. Best is trial 1038 with value: -0.006133775634474926.\u001b[0m\n",
      "\u001b[32m[I 2022-07-24 18:10:04,124]\u001b[0m Trial 1152 finished with value: -0.006187329848205021 and parameters: {'kernel': 'rbf', 'C': 0.030356164853606073, 'gamma': 0.04694190138034043, 'epsilon': 0.002042985312171895}. Best is trial 1038 with value: -0.006133775634474926.\u001b[0m\n",
      "\u001b[32m[I 2022-07-24 18:10:04,223]\u001b[0m Trial 1153 finished with value: -0.006155924536391605 and parameters: {'kernel': 'rbf', 'C': 0.017680981862622496, 'gamma': 0.05419756748304268, 'epsilon': 0.0023623638274657393}. Best is trial 1038 with value: -0.006133775634474926.\u001b[0m\n",
      "\u001b[32m[I 2022-07-24 18:10:04,379]\u001b[0m Trial 1154 finished with value: -0.006166798518646805 and parameters: {'kernel': 'rbf', 'C': 0.012088040605855388, 'gamma': 0.08774870118509905, 'epsilon': 0.0017552142027450204}. Best is trial 1038 with value: -0.006133775634474926.\u001b[0m\n",
      "\u001b[32m[I 2022-07-24 18:10:04,531]\u001b[0m Trial 1155 finished with value: -0.006173634009732688 and parameters: {'kernel': 'rbf', 'C': 0.01380402956106929, 'gamma': 0.06716518468942351, 'epsilon': 0.00275235281028384}. Best is trial 1038 with value: -0.006133775634474926.\u001b[0m\n",
      "\u001b[32m[I 2022-07-24 18:10:04,589]\u001b[0m Trial 1156 finished with value: -0.03564469137116575 and parameters: {'kernel': 'rbf', 'C': 0.018056791460490086, 'gamma': 0.06069971375456746, 'epsilon': 0.1953405016853984}. Best is trial 1038 with value: -0.006133775634474926.\u001b[0m\n",
      "\u001b[32m[I 2022-07-24 18:10:04,705]\u001b[0m Trial 1157 finished with value: -0.006167476820639439 and parameters: {'kernel': 'rbf', 'C': 0.011231628066529442, 'gamma': 0.07692921472961056, 'epsilon': 0.0020180828544615094}. Best is trial 1038 with value: -0.006133775634474926.\u001b[0m\n",
      "\u001b[32m[I 2022-07-24 18:10:04,836]\u001b[0m Trial 1158 finished with value: -0.0061894047212299385 and parameters: {'kernel': 'rbf', 'C': 0.0156358207342886, 'gamma': 0.09608280635987558, 'epsilon': 0.0015611645677731855}. Best is trial 1038 with value: -0.006133775634474926.\u001b[0m\n",
      "\u001b[32m[I 2022-07-24 18:10:04,931]\u001b[0m Trial 1159 finished with value: -0.006179676611600026 and parameters: {'kernel': 'rbf', 'C': 0.010012417401529076, 'gamma': 0.06824746736171965, 'epsilon': 0.002280229389700292}. Best is trial 1038 with value: -0.006133775634474926.\u001b[0m\n",
      "\u001b[32m[I 2022-07-24 18:10:05,051]\u001b[0m Trial 1160 finished with value: -0.006205280910798056 and parameters: {'kernel': 'rbf', 'C': 0.021327115606533185, 'gamma': 0.039842913804146195, 'epsilon': 0.0019182664887040235}. Best is trial 1038 with value: -0.006133775634474926.\u001b[0m\n",
      "\u001b[32m[I 2022-07-24 18:10:05,140]\u001b[0m Trial 1161 finished with value: -0.006182093999415467 and parameters: {'kernel': 'rbf', 'C': 0.014043228894533598, 'gamma': 0.05310758552617845, 'epsilon': 0.0027721346923146157}. Best is trial 1038 with value: -0.006133775634474926.\u001b[0m\n",
      "\u001b[32m[I 2022-07-24 18:10:05,231]\u001b[0m Trial 1162 finished with value: -0.007109574434770779 and parameters: {'kernel': 'rbf', 'C': 0.01269941384106269, 'gamma': 0.0014222518563221953, 'epsilon': 0.003291370077402752}. Best is trial 1038 with value: -0.006133775634474926.\u001b[0m\n",
      "\u001b[32m[I 2022-07-24 18:10:05,355]\u001b[0m Trial 1163 finished with value: -0.006269535963278359 and parameters: {'kernel': 'rbf', 'C': 0.025359016355078735, 'gamma': 0.10801166658004711, 'epsilon': 0.0016363312345046123}. Best is trial 1038 with value: -0.006133775634474926.\u001b[0m\n",
      "\u001b[32m[I 2022-07-24 18:10:05,455]\u001b[0m Trial 1164 finished with value: -0.006185717727475007 and parameters: {'kernel': 'rbf', 'C': 0.019057435745455722, 'gamma': 0.08193850228289795, 'epsilon': 0.0023591513379944908}. Best is trial 1038 with value: -0.006133775634474926.\u001b[0m\n",
      "\u001b[32m[I 2022-07-24 18:10:05,561]\u001b[0m Trial 1165 finished with value: -0.006154390995552252 and parameters: {'kernel': 'rbf', 'C': 0.01562331463954805, 'gamma': 0.05970061172340973, 'epsilon': 0.0019473479166150173}. Best is trial 1038 with value: -0.006133775634474926.\u001b[0m\n",
      "\u001b[32m[I 2022-07-24 18:10:05,674]\u001b[0m Trial 1166 finished with value: -0.006164446477614535 and parameters: {'kernel': 'rbf', 'C': 0.017168458885020554, 'gamma': 0.072741582516133, 'epsilon': 0.0022040088319495647}. Best is trial 1038 with value: -0.006133775634474926.\u001b[0m\n",
      "\u001b[32m[I 2022-07-24 18:10:05,797]\u001b[0m Trial 1167 finished with value: -0.006174766449193198 and parameters: {'kernel': 'rbf', 'C': 0.012343711417488502, 'gamma': 0.09023175541799507, 'epsilon': 0.0013989960494614907}. Best is trial 1038 with value: -0.006133775634474926.\u001b[0m\n",
      "\u001b[32m[I 2022-07-24 18:10:05,899]\u001b[0m Trial 1168 finished with value: -0.0061887539581184986 and parameters: {'kernel': 'rbf', 'C': 0.014588625635159226, 'gamma': 0.05151896875131356, 'epsilon': 0.0025883572281755816}. Best is trial 1038 with value: -0.006133775634474926.\u001b[0m\n",
      "\u001b[32m[I 2022-07-24 18:10:06,010]\u001b[0m Trial 1169 finished with value: -0.006203508557644253 and parameters: {'kernel': 'rbf', 'C': 0.01002443014112873, 'gamma': 0.0665584681290387, 'epsilon': 0.0017408092005155864}. Best is trial 1038 with value: -0.006133775634474926.\u001b[0m\n",
      "\u001b[32m[I 2022-07-24 18:10:06,138]\u001b[0m Trial 1170 finished with value: -0.006188232087016808 and parameters: {'kernel': 'rbf', 'C': 0.01995321361540419, 'gamma': 0.08114082670396922, 'epsilon': 0.0021445364803617255}. Best is trial 1038 with value: -0.006133775634474926.\u001b[0m\n",
      "\u001b[32m[I 2022-07-24 18:10:06,189]\u001b[0m Trial 1171 finished with value: -0.012628813861169349 and parameters: {'kernel': 'rbf', 'C': 0.013693423376669964, 'gamma': 0.09938115202775384, 'epsilon': 0.015057618404943966}. Best is trial 1038 with value: -0.006133775634474926.\u001b[0m\n",
      "\u001b[32m[I 2022-07-24 18:10:06,358]\u001b[0m Trial 1172 finished with value: -0.006834331536419041 and parameters: {'kernel': 'poly', 'C': 0.01660430164672303, 'gamma': 0.059844270124412256, 'epsilon': 0.001897845992453975}. Best is trial 1038 with value: -0.006133775634474926.\u001b[0m\n"
     ]
    },
    {
     "name": "stderr",
     "output_type": "stream",
     "text": [
      "\u001b[32m[I 2022-07-24 18:10:06,467]\u001b[0m Trial 1173 finished with value: -0.006234790786374267 and parameters: {'kernel': 'rbf', 'C': 0.011615285126024834, 'gamma': 0.045398985135919986, 'epsilon': 0.0029112366299677683}. Best is trial 1038 with value: -0.006133775634474926.\u001b[0m\n",
      "\u001b[32m[I 2022-07-24 18:10:06,555]\u001b[0m Trial 1174 finished with value: -0.006173710762740709 and parameters: {'kernel': 'rbf', 'C': 0.018358388747859517, 'gamma': 0.07237408207093249, 'epsilon': 0.0025426574184725078}. Best is trial 1038 with value: -0.006133775634474926.\u001b[0m\n",
      "\u001b[32m[I 2022-07-24 18:10:06,684]\u001b[0m Trial 1175 finished with value: -0.006287293808367512 and parameters: {'kernel': 'rbf', 'C': 0.02323895256393877, 'gamma': 0.12666779847773707, 'epsilon': 0.0015583556262694714}. Best is trial 1038 with value: -0.006133775634474926.\u001b[0m\n",
      "\u001b[32m[I 2022-07-24 18:10:06,821]\u001b[0m Trial 1176 finished with value: -0.006162518598723584 and parameters: {'kernel': 'rbf', 'C': 0.015060246101432547, 'gamma': 0.08559375273430814, 'epsilon': 0.00208917809283958}. Best is trial 1038 with value: -0.006133775634474926.\u001b[0m\n",
      "\u001b[32m[I 2022-07-24 18:10:06,981]\u001b[0m Trial 1177 finished with value: -0.0064399915078584375 and parameters: {'kernel': 'rbf', 'C': 0.012970643809067171, 'gamma': 0.06539753429495268, 'epsilon': 0.004532300726098133}. Best is trial 1038 with value: -0.006133775634474926.\u001b[0m\n",
      "\u001b[32m[I 2022-07-24 18:10:07,180]\u001b[0m Trial 1178 finished with value: -0.006160848502267117 and parameters: {'kernel': 'rbf', 'C': 0.016637928048738784, 'gamma': 0.07628737926890565, 'epsilon': 0.0017472423203137646}. Best is trial 1038 with value: -0.006133775634474926.\u001b[0m\n",
      "\u001b[32m[I 2022-07-24 18:10:07,344]\u001b[0m Trial 1179 finished with value: -0.0061896663412684605 and parameters: {'kernel': 'rbf', 'C': 0.01128378410376133, 'gamma': 0.05680216929211015, 'epsilon': 0.0024075528868719095}. Best is trial 1038 with value: -0.006133775634474926.\u001b[0m\n",
      "\u001b[32m[I 2022-07-24 18:10:07,484]\u001b[0m Trial 1180 finished with value: -0.006202973810936857 and parameters: {'kernel': 'rbf', 'C': 0.021143937296814658, 'gamma': 0.09906848474276242, 'epsilon': 0.0019885157108432924}. Best is trial 1038 with value: -0.006133775634474926.\u001b[0m\n",
      "\u001b[32m[I 2022-07-24 18:10:07,581]\u001b[0m Trial 1181 finished with value: -0.00618280138183451 and parameters: {'kernel': 'rbf', 'C': 0.014170232732990434, 'gamma': 0.0502563477037695, 'epsilon': 0.0022500031758964124}. Best is trial 1038 with value: -0.006133775634474926.\u001b[0m\n",
      "\u001b[32m[I 2022-07-24 18:10:07,684]\u001b[0m Trial 1182 finished with value: -0.006253716239255055 and parameters: {'kernel': 'rbf', 'C': 0.01874598422739719, 'gamma': 0.0865211304020911, 'epsilon': 0.0030195859385085465}. Best is trial 1038 with value: -0.006133775634474926.\u001b[0m\n",
      "\u001b[32m[I 2022-07-24 18:10:07,835]\u001b[0m Trial 1183 finished with value: -0.00616974718334068 and parameters: {'kernel': 'rbf', 'C': 0.015795144467582515, 'gamma': 0.066413992436198, 'epsilon': 0.0017266204922344315}. Best is trial 1038 with value: -0.006133775634474926.\u001b[0m\n",
      "\u001b[32m[I 2022-07-24 18:10:07,940]\u001b[0m Trial 1184 finished with value: -0.006209433550850276 and parameters: {'kernel': 'rbf', 'C': 0.012420442106358292, 'gamma': 0.11363785420067099, 'epsilon': 0.0024639851451996432}. Best is trial 1038 with value: -0.006133775634474926.\u001b[0m\n",
      "\u001b[32m[I 2022-07-24 18:10:08,055]\u001b[0m Trial 1185 finished with value: -0.006233258512920145 and parameters: {'kernel': 'rbf', 'C': 0.014075363955651657, 'gamma': 0.15359345015147655, 'epsilon': 0.0019952888719040433}. Best is trial 1038 with value: -0.006133775634474926.\u001b[0m\n",
      "\u001b[32m[I 2022-07-24 18:10:08,193]\u001b[0m Trial 1186 finished with value: -0.006188604507874701 and parameters: {'kernel': 'rbf', 'C': 0.017289999030316444, 'gamma': 0.07624727190629452, 'epsilon': 0.0013060795698305956}. Best is trial 1038 with value: -0.006133775634474926.\u001b[0m\n",
      "\u001b[32m[I 2022-07-24 18:10:08,320]\u001b[0m Trial 1187 finished with value: -0.006182157260734009 and parameters: {'kernel': 'rbf', 'C': 0.011149260375255843, 'gamma': 0.06423348591105216, 'epsilon': 0.0014862199275487075}. Best is trial 1038 with value: -0.006133775634474926.\u001b[0m\n",
      "\u001b[32m[I 2022-07-24 18:10:08,435]\u001b[0m Trial 1188 finished with value: -0.00623004548179272 and parameters: {'kernel': 'rbf', 'C': 0.02431409450116297, 'gamma': 0.09245674625454399, 'epsilon': 0.0021778489274120873}. Best is trial 1038 with value: -0.006133775634474926.\u001b[0m\n",
      "\u001b[32m[I 2022-07-24 18:10:08,535]\u001b[0m Trial 1189 finished with value: -0.00616779436087684 and parameters: {'kernel': 'rbf', 'C': 0.02021678464850608, 'gamma': 0.05674929582066625, 'epsilon': 0.0027213502437311177}. Best is trial 1038 with value: -0.006133775634474926.\u001b[0m\n",
      "\u001b[32m[I 2022-07-24 18:10:08,676]\u001b[0m Trial 1190 finished with value: -0.006148339891594763 and parameters: {'kernel': 'rbf', 'C': 0.015638697203926605, 'gamma': 0.07565317442283727, 'epsilon': 0.0018653215966046635}. Best is trial 1038 with value: -0.006133775634474926.\u001b[0m\n",
      "\u001b[32m[I 2022-07-24 18:10:08,811]\u001b[0m Trial 1191 finished with value: -0.006242334510804016 and parameters: {'kernel': 'rbf', 'C': 0.01293877270787786, 'gamma': 0.04677695594591209, 'epsilon': 0.0016202477635308356}. Best is trial 1038 with value: -0.006133775634474926.\u001b[0m\n",
      "\u001b[32m[I 2022-07-24 18:10:08,908]\u001b[0m Trial 1192 finished with value: -0.006290838943618399 and parameters: {'kernel': 'rbf', 'C': 0.018036984307155588, 'gamma': 0.08332178544580988, 'epsilon': 0.003331639576310318}. Best is trial 1038 with value: -0.006133775634474926.\u001b[0m\n",
      "\u001b[32m[I 2022-07-24 18:10:09,041]\u001b[0m Trial 1193 finished with value: -0.006204765427798493 and parameters: {'kernel': 'rbf', 'C': 0.02739184126884449, 'gamma': 0.06871495663022481, 'epsilon': 0.00235737886718379}. Best is trial 1038 with value: -0.006133775634474926.\u001b[0m\n",
      "\u001b[32m[I 2022-07-24 18:10:09,174]\u001b[0m Trial 1194 finished with value: -0.006189493508882235 and parameters: {'kernel': 'rbf', 'C': 0.015031377759427296, 'gamma': 0.10445648264561706, 'epsilon': 0.0020475885825168814}. Best is trial 1038 with value: -0.006133775634474926.\u001b[0m\n",
      "\u001b[32m[I 2022-07-24 18:10:09,313]\u001b[0m Trial 1195 finished with value: -0.006187314842272337 and parameters: {'kernel': 'rbf', 'C': 0.01267648370932589, 'gamma': 0.058493271419297554, 'epsilon': 0.001789426714424666}. Best is trial 1038 with value: -0.006133775634474926.\u001b[0m\n",
      "\u001b[32m[I 2022-07-24 18:10:09,464]\u001b[0m Trial 1196 finished with value: -0.006268379434928696 and parameters: {'kernel': 'rbf', 'C': 0.011073741234398513, 'gamma': 0.03811305682034554, 'epsilon': 0.0026971762523557113}. Best is trial 1038 with value: -0.006133775634474926.\u001b[0m\n",
      "\u001b[32m[I 2022-07-24 18:10:09,601]\u001b[0m Trial 1197 finished with value: -0.006192175105345352 and parameters: {'kernel': 'rbf', 'C': 0.021996581829693225, 'gamma': 0.0742321228380148, 'epsilon': 0.0022843139576669597}. Best is trial 1038 with value: -0.006133775634474926.\u001b[0m\n",
      "\u001b[32m[I 2022-07-24 18:10:09,749]\u001b[0m Trial 1198 finished with value: -0.006175405183357338 and parameters: {'kernel': 'rbf', 'C': 0.010065798366789344, 'gamma': 0.0897368691433722, 'epsilon': 0.0019706741679218487}. Best is trial 1038 with value: -0.006133775634474926.\u001b[0m\n",
      "\u001b[32m[I 2022-07-24 18:10:10,428]\u001b[0m Trial 1199 finished with value: -0.008006689964137873 and parameters: {'kernel': 'rbf', 'C': 3.535570290013656, 'gamma': 0.06359432652820372, 'epsilon': 0.00162373012653366}. Best is trial 1038 with value: -0.006133775634474926.\u001b[0m\n",
      "\u001b[32m[I 2022-07-24 18:10:10,545]\u001b[0m Trial 1200 finished with value: -0.006824145740973672 and parameters: {'kernel': 'poly', 'C': 0.014062061439486807, 'gamma': 0.05142890999529842, 'epsilon': 0.0024956646833889174}. Best is trial 1038 with value: -0.006133775634474926.\u001b[0m\n",
      "\u001b[32m[I 2022-07-24 18:10:10,659]\u001b[0m Trial 1201 finished with value: -0.0062538693226874414 and parameters: {'kernel': 'rbf', 'C': 0.010014225163926471, 'gamma': 0.19532835078296934, 'epsilon': 0.002154673552651486}. Best is trial 1038 with value: -0.006133775634474926.\u001b[0m\n",
      "\u001b[32m[I 2022-07-24 18:10:10,757]\u001b[0m Trial 1202 finished with value: -0.006236919552361429 and parameters: {'kernel': 'rbf', 'C': 0.016922433468168293, 'gamma': 0.07947413572831773, 'epsilon': 0.00309519305397093}. Best is trial 1038 with value: -0.006133775634474926.\u001b[0m\n"
     ]
    },
    {
     "name": "stderr",
     "output_type": "stream",
     "text": [
      "\u001b[32m[I 2022-07-24 18:10:10,926]\u001b[0m Trial 1203 finished with value: -0.006198882023188977 and parameters: {'kernel': 'rbf', 'C': 0.019511624301847733, 'gamma': 0.09689390718021691, 'epsilon': 0.001832193683415092}. Best is trial 1038 with value: -0.006133775634474926.\u001b[0m\n",
      "\u001b[32m[I 2022-07-24 18:10:11,140]\u001b[0m Trial 1204 finished with value: -0.006184515561359805 and parameters: {'kernel': 'rbf', 'C': 0.01510749064252161, 'gamma': 0.06881363093420595, 'epsilon': 0.001462959740733786}. Best is trial 1038 with value: -0.006133775634474926.\u001b[0m\n",
      "\u001b[32m[I 2022-07-24 18:10:11,337]\u001b[0m Trial 1205 finished with value: -0.006223907705845628 and parameters: {'kernel': 'rbf', 'C': 0.01230400987379589, 'gamma': 0.05622679273198858, 'epsilon': 0.0010198238522944585}. Best is trial 1038 with value: -0.006133775634474926.\u001b[0m\n",
      "\u001b[32m[I 2022-07-24 18:10:11,440]\u001b[0m Trial 1206 finished with value: -0.006260652596051661 and parameters: {'kernel': 'rbf', 'C': 0.017785124604064846, 'gamma': 0.11616564725199519, 'epsilon': 0.002726415042318802}. Best is trial 1038 with value: -0.006133775634474926.\u001b[0m\n",
      "\u001b[32m[I 2022-07-24 18:10:11,537]\u001b[0m Trial 1207 finished with value: -0.0061483452069744406 and parameters: {'kernel': 'rbf', 'C': 0.013563636792136718, 'gamma': 0.08338107523689682, 'epsilon': 0.0022891657561304153}. Best is trial 1038 with value: -0.006133775634474926.\u001b[0m\n",
      "\u001b[32m[I 2022-07-24 18:10:11,635]\u001b[0m Trial 1208 finished with value: -0.006276277717996734 and parameters: {'kernel': 'rbf', 'C': 0.015625261266219277, 'gamma': 0.04279378002449128, 'epsilon': 0.0036709337236442824}. Best is trial 1038 with value: -0.006133775634474926.\u001b[0m\n",
      "\u001b[32m[I 2022-07-24 18:10:11,761]\u001b[0m Trial 1209 finished with value: -0.006158813551356717 and parameters: {'kernel': 'rbf', 'C': 0.020417283312719855, 'gamma': 0.06300170704014131, 'epsilon': 0.001957996966374499}. Best is trial 1038 with value: -0.006133775634474926.\u001b[0m\n",
      "\u001b[32m[I 2022-07-24 18:10:11,908]\u001b[0m Trial 1210 finished with value: -0.006177300113836067 and parameters: {'kernel': 'rbf', 'C': 0.01158352510560144, 'gamma': 0.07562108605845888, 'epsilon': 0.0015986415723422249}. Best is trial 1038 with value: -0.006133775634474926.\u001b[0m\n",
      "\u001b[32m[I 2022-07-24 18:10:12,015]\u001b[0m Trial 1211 finished with value: -0.0061662536406491145 and parameters: {'kernel': 'rbf', 'C': 0.016492901535053874, 'gamma': 0.049827792006829554, 'epsilon': 0.0021144011756502584}. Best is trial 1038 with value: -0.006133775634474926.\u001b[0m\n",
      "\u001b[32m[I 2022-07-24 18:10:12,122]\u001b[0m Trial 1212 finished with value: -0.006175592306965873 and parameters: {'kernel': 'rbf', 'C': 0.014016249753353076, 'gamma': 0.09075215882485616, 'epsilon': 0.002491538790211152}. Best is trial 1038 with value: -0.006133775634474926.\u001b[0m\n",
      "\u001b[32m[I 2022-07-24 18:10:12,241]\u001b[0m Trial 1213 finished with value: -0.006171520440008598 and parameters: {'kernel': 'rbf', 'C': 0.018914668254327523, 'gamma': 0.06948835988668224, 'epsilon': 0.001799537520624506}. Best is trial 1038 with value: -0.006133775634474926.\u001b[0m\n",
      "\u001b[32m[I 2022-07-24 18:10:12,333]\u001b[0m Trial 1214 finished with value: -0.006199967432808165 and parameters: {'kernel': 'rbf', 'C': 0.022782237571009153, 'gamma': 0.05974484579109245, 'epsilon': 0.0029184569518963736}. Best is trial 1038 with value: -0.006133775634474926.\u001b[0m\n",
      "\u001b[32m[I 2022-07-24 18:10:12,445]\u001b[0m Trial 1215 finished with value: -0.006153603472062465 and parameters: {'kernel': 'rbf', 'C': 0.012287160718131606, 'gamma': 0.10186693725496279, 'epsilon': 0.002118669586117539}. Best is trial 1038 with value: -0.006133775634474926.\u001b[0m\n",
      "\u001b[32m[I 2022-07-24 18:10:12,572]\u001b[0m Trial 1216 finished with value: -0.006191105139688451 and parameters: {'kernel': 'rbf', 'C': 0.016849590141344926, 'gamma': 0.08264201701792177, 'epsilon': 0.0012519117554483782}. Best is trial 1038 with value: -0.006133775634474926.\u001b[0m\n",
      "\u001b[32m[I 2022-07-24 18:10:12,669]\u001b[0m Trial 1217 finished with value: -0.006164804722382586 and parameters: {'kernel': 'rbf', 'C': 0.014049265816811263, 'gamma': 0.06810840941141992, 'epsilon': 0.002433302963144952}. Best is trial 1038 with value: -0.006133775634474926.\u001b[0m\n",
      "\u001b[32m[I 2022-07-24 18:10:12,794]\u001b[0m Trial 1218 finished with value: -0.006172672280716663 and parameters: {'kernel': 'rbf', 'C': 0.015647150335697635, 'gamma': 0.05684109532147702, 'epsilon': 0.0017977940341230563}. Best is trial 1038 with value: -0.006133775634474926.\u001b[0m\n",
      "\u001b[32m[I 2022-07-24 18:10:12,909]\u001b[0m Trial 1219 finished with value: -0.006165266383021307 and parameters: {'kernel': 'rbf', 'C': 0.010892870863344697, 'gamma': 0.07631688470978004, 'epsilon': 0.0020181209438345183}. Best is trial 1038 with value: -0.006133775634474926.\u001b[0m\n",
      "\u001b[32m[I 2022-07-24 18:10:12,950]\u001b[0m Trial 1220 finished with value: -0.03564469137116573 and parameters: {'kernel': 'rbf', 'C': 0.019128857038855165, 'gamma': 0.09131464635761233, 'epsilon': 0.7034392571039453}. Best is trial 1038 with value: -0.006133775634474926.\u001b[0m\n",
      "\u001b[32m[I 2022-07-24 18:10:13,056]\u001b[0m Trial 1221 finished with value: -0.006212275038550273 and parameters: {'kernel': 'rbf', 'C': 0.01329442405965376, 'gamma': 0.0499226842274209, 'epsilon': 0.0014566667737682328}. Best is trial 1038 with value: -0.006133775634474926.\u001b[0m\n",
      "\u001b[32m[I 2022-07-24 18:10:13,165]\u001b[0m Trial 1222 finished with value: -0.006201926029559939 and parameters: {'kernel': 'rbf', 'C': 0.02172532631298746, 'gamma': 0.06615535536346438, 'epsilon': 0.002682748618706314}. Best is trial 1038 with value: -0.006133775634474926.\u001b[0m\n",
      "\u001b[32m[I 2022-07-24 18:10:13,274]\u001b[0m Trial 1223 finished with value: -0.006218762035657861 and parameters: {'kernel': 'rbf', 'C': 0.016327036053426097, 'gamma': 0.11316943099881802, 'epsilon': 0.002294833621295527}. Best is trial 1038 with value: -0.006133775634474926.\u001b[0m\n",
      "\u001b[32m[I 2022-07-24 18:10:13,399]\u001b[0m Trial 1224 finished with value: -0.0062175555965599235 and parameters: {'kernel': 'rbf', 'C': 0.025566988272058267, 'gamma': 0.07852669176301191, 'epsilon': 0.0016697951474165323}. Best is trial 1038 with value: -0.006133775634474926.\u001b[0m\n",
      "\u001b[32m[I 2022-07-24 18:10:13,447]\u001b[0m Trial 1225 finished with value: -0.03564469137116573 and parameters: {'kernel': 'rbf', 'C': 0.012770248445006183, 'gamma': 0.059533747410609905, 'epsilon': 0.9761895104596983}. Best is trial 1038 with value: -0.006133775634474926.\u001b[0m\n",
      "\u001b[32m[I 2022-07-24 18:10:13,551]\u001b[0m Trial 1226 finished with value: -0.0061478991427109655 and parameters: {'kernel': 'rbf', 'C': 0.014848252168226004, 'gamma': 0.07109208440740995, 'epsilon': 0.001913313101017982}. Best is trial 1038 with value: -0.006133775634474926.\u001b[0m\n",
      "\u001b[32m[I 2022-07-24 18:10:13,740]\u001b[0m Trial 1227 finished with value: -0.006744076516140598 and parameters: {'kernel': 'poly', 'C': 0.01851355665848529, 'gamma': 0.09709059997268027, 'epsilon': 0.0023348351502248633}. Best is trial 1038 with value: -0.006133775634474926.\u001b[0m\n",
      "\u001b[32m[I 2022-07-24 18:10:13,912]\u001b[0m Trial 1228 finished with value: -0.006169163807880597 and parameters: {'kernel': 'rbf', 'C': 0.01007517235538699, 'gamma': 0.08460913819177471, 'epsilon': 0.0020997333213818034}. Best is trial 1038 with value: -0.006133775634474926.\u001b[0m\n",
      "\u001b[32m[I 2022-07-24 18:10:14,142]\u001b[0m Trial 1229 finished with value: -0.006216170691376665 and parameters: {'kernel': 'rbf', 'C': 0.011317993006894808, 'gamma': 0.13351103634383438, 'epsilon': 0.0017372663555121118}. Best is trial 1038 with value: -0.006133775634474926.\u001b[0m\n",
      "\u001b[32m[I 2022-07-24 18:10:14,261]\u001b[0m Trial 1230 finished with value: -0.006280752336897666 and parameters: {'kernel': 'rbf', 'C': 0.013896570804072176, 'gamma': 0.03258008521965729, 'epsilon': 0.002866317277124073}. Best is trial 1038 with value: -0.006133775634474926.\u001b[0m\n",
      "\u001b[32m[I 2022-07-24 18:10:14,368]\u001b[0m Trial 1231 finished with value: -0.006159479218355031 and parameters: {'kernel': 'rbf', 'C': 0.017036748463118312, 'gamma': 0.053290517541792946, 'epsilon': 0.002514426846186739}. Best is trial 1038 with value: -0.006133775634474926.\u001b[0m\n",
      "\u001b[32m[I 2022-07-24 18:10:14,471]\u001b[0m Trial 1232 finished with value: -0.00623193000478127 and parameters: {'kernel': 'rbf', 'C': 0.02151819713925476, 'gamma': 0.044092535107137024, 'epsilon': 0.0032570684059296806}. Best is trial 1038 with value: -0.006133775634474926.\u001b[0m\n"
     ]
    },
    {
     "name": "stderr",
     "output_type": "stream",
     "text": [
      "\u001b[32m[I 2022-07-24 18:10:14,582]\u001b[0m Trial 1233 finished with value: -0.006179537503882751 and parameters: {'kernel': 'rbf', 'C': 0.012345977916202844, 'gamma': 0.06631965469629972, 'epsilon': 0.001506424427854204}. Best is trial 1038 with value: -0.006133775634474926.\u001b[0m\n",
      "\u001b[32m[I 2022-07-24 18:10:14,686]\u001b[0m Trial 1234 finished with value: -0.006153184836593779 and parameters: {'kernel': 'rbf', 'C': 0.015222618864299074, 'gamma': 0.07661147326411494, 'epsilon': 0.001957336741699485}. Best is trial 1038 with value: -0.006133775634474926.\u001b[0m\n",
      "\u001b[32m[I 2022-07-24 18:10:14,802]\u001b[0m Trial 1235 finished with value: -0.006142728224365959 and parameters: {'kernel': 'rbf', 'C': 0.018082141103496725, 'gamma': 0.05890690003883784, 'epsilon': 0.002205243628478165}. Best is trial 1038 with value: -0.006133775634474926.\u001b[0m\n",
      "\u001b[32m[I 2022-07-24 18:10:14,899]\u001b[0m Trial 1236 finished with value: -0.0061945048702641255 and parameters: {'kernel': 'rbf', 'C': 0.02599072868986258, 'gamma': 0.04043649036645341, 'epsilon': 0.0026983823004128726}. Best is trial 1038 with value: -0.006133775634474926.\u001b[0m\n",
      "\u001b[32m[I 2022-07-24 18:10:15,004]\u001b[0m Trial 1237 finished with value: -0.0062136851300843635 and parameters: {'kernel': 'rbf', 'C': 0.022927477364181954, 'gamma': 0.04586236903100947, 'epsilon': 0.003098664070598802}. Best is trial 1038 with value: -0.006133775634474926.\u001b[0m\n",
      "\u001b[32m[I 2022-07-24 18:10:15,120]\u001b[0m Trial 1238 finished with value: -0.006161776650874657 and parameters: {'kernel': 'rbf', 'C': 0.022085697767452003, 'gamma': 0.051817520330999664, 'epsilon': 0.0023618887304246187}. Best is trial 1038 with value: -0.006133775634474926.\u001b[0m\n",
      "\u001b[32m[I 2022-07-24 18:10:15,229]\u001b[0m Trial 1239 finished with value: -0.006165152374272413 and parameters: {'kernel': 'rbf', 'C': 0.02025217005567979, 'gamma': 0.054903302999790474, 'epsilon': 0.002647814705572373}. Best is trial 1038 with value: -0.006133775634474926.\u001b[0m\n",
      "\u001b[32m[I 2022-07-24 18:10:15,353]\u001b[0m Trial 1240 finished with value: -0.0061604489252943375 and parameters: {'kernel': 'rbf', 'C': 0.019131435476390738, 'gamma': 0.048184154895832124, 'epsilon': 0.0022248787906259107}. Best is trial 1038 with value: -0.006133775634474926.\u001b[0m\n",
      "\u001b[32m[I 2022-07-24 18:10:15,454]\u001b[0m Trial 1241 finished with value: -0.006339333779049647 and parameters: {'kernel': 'rbf', 'C': 0.030617356018395558, 'gamma': 0.05768356468065457, 'epsilon': 0.0036742190565906266}. Best is trial 1038 with value: -0.006133775634474926.\u001b[0m\n",
      "\u001b[32m[I 2022-07-24 18:10:15,559]\u001b[0m Trial 1242 finished with value: -0.006157712668834587 and parameters: {'kernel': 'rbf', 'C': 0.018487453194640947, 'gamma': 0.059470711236191666, 'epsilon': 0.002359533917060802}. Best is trial 1038 with value: -0.006133775634474926.\u001b[0m\n",
      "\u001b[32m[I 2022-07-24 18:10:15,671]\u001b[0m Trial 1243 finished with value: -0.006170751842531123 and parameters: {'kernel': 'rbf', 'C': 0.024145276509910756, 'gamma': 0.05127121340696027, 'epsilon': 0.0020484762774647543}. Best is trial 1038 with value: -0.006133775634474926.\u001b[0m\n",
      "\u001b[32m[I 2022-07-24 18:10:15,722]\u001b[0m Trial 1244 finished with value: -0.03564469137116574 and parameters: {'kernel': 'rbf', 'C': 0.019593231947900254, 'gamma': 0.06205753989124722, 'epsilon': 0.04504344030722069}. Best is trial 1038 with value: -0.006133775634474926.\u001b[0m\n",
      "\u001b[32m[I 2022-07-24 18:10:15,831]\u001b[0m Trial 1245 finished with value: -0.006241468287123308 and parameters: {'kernel': 'rbf', 'C': 0.016905199006608532, 'gamma': 0.03625351272006382, 'epsilon': 0.0029773896133518224}. Best is trial 1038 with value: -0.006133775634474926.\u001b[0m\n",
      "\u001b[32m[I 2022-07-24 18:10:15,980]\u001b[0m Trial 1246 finished with value: -0.006183345856332921 and parameters: {'kernel': 'rbf', 'C': 0.027875600442620756, 'gamma': 0.04205650148279591, 'epsilon': 0.0025036607178059527}. Best is trial 1038 with value: -0.006133775634474926.\u001b[0m\n",
      "\u001b[32m[I 2022-07-24 18:10:16,154]\u001b[0m Trial 1247 finished with value: -0.0061402434927317244 and parameters: {'kernel': 'rbf', 'C': 0.01793768896254286, 'gamma': 0.06001844800798382, 'epsilon': 0.0022046055711149853}. Best is trial 1038 with value: -0.006133775634474926.\u001b[0m\n",
      "\u001b[32m[I 2022-07-24 18:10:16,294]\u001b[0m Trial 1248 finished with value: -0.00618216191024405 and parameters: {'kernel': 'rbf', 'C': 0.02253108262563007, 'gamma': 0.046932642807163374, 'epsilon': 0.0017162056152881277}. Best is trial 1038 with value: -0.006133775634474926.\u001b[0m\n",
      "\u001b[32m[I 2022-07-24 18:10:16,419]\u001b[0m Trial 1249 finished with value: -0.006159904911087884 and parameters: {'kernel': 'rbf', 'C': 0.020995716197091285, 'gamma': 0.06516981793220274, 'epsilon': 0.001877945253983081}. Best is trial 1038 with value: -0.006133775634474926.\u001b[0m\n",
      "\u001b[32m[I 2022-07-24 18:10:16,528]\u001b[0m Trial 1250 finished with value: -0.006168781982617372 and parameters: {'kernel': 'rbf', 'C': 0.02469190088568471, 'gamma': 0.053932726737012264, 'epsilon': 0.0020732938745245347}. Best is trial 1038 with value: -0.006133775634474926.\u001b[0m\n",
      "\u001b[32m[I 2022-07-24 18:10:16,749]\u001b[0m Trial 1251 finished with value: -0.006831420015911691 and parameters: {'kernel': 'rbf', 'C': 0.27415963027248386, 'gamma': 0.06079974717812454, 'epsilon': 0.0021401055527000535}. Best is trial 1038 with value: -0.006133775634474926.\u001b[0m\n",
      "\u001b[32m[I 2022-07-24 18:10:16,994]\u001b[0m Trial 1252 finished with value: -0.006406973250045365 and parameters: {'kernel': 'rbf', 'C': 0.0707729563956268, 'gamma': 0.06975831714577052, 'epsilon': 0.0017678070888874082}. Best is trial 1038 with value: -0.006133775634474926.\u001b[0m\n",
      "\u001b[32m[I 2022-07-24 18:10:17,148]\u001b[0m Trial 1253 finished with value: -0.006191311677416571 and parameters: {'kernel': 'rbf', 'C': 0.02019341681029411, 'gamma': 0.049708639494406306, 'epsilon': 0.001378794355589939}. Best is trial 1038 with value: -0.006133775634474926.\u001b[0m\n",
      "\u001b[32m[I 2022-07-24 18:10:17,294]\u001b[0m Trial 1254 finished with value: -0.006169726024888934 and parameters: {'kernel': 'rbf', 'C': 0.018355797550233036, 'gamma': 0.056755753033977056, 'epsilon': 0.0016114345337512111}. Best is trial 1038 with value: -0.006133775634474926.\u001b[0m\n",
      "\u001b[32m[I 2022-07-24 18:10:17,446]\u001b[0m Trial 1255 finished with value: -0.0067858799605960566 and parameters: {'kernel': 'poly', 'C': 0.018008373410090078, 'gamma': 0.069079757991917, 'epsilon': 0.002174504661397322}. Best is trial 1038 with value: -0.006133775634474926.\u001b[0m\n",
      "\u001b[32m[I 2022-07-24 18:10:17,576]\u001b[0m Trial 1256 finished with value: -0.006161537376523131 and parameters: {'kernel': 'rbf', 'C': 0.02155990794619404, 'gamma': 0.06442985580685574, 'epsilon': 0.0019440324164534506}. Best is trial 1038 with value: -0.006133775634474926.\u001b[0m\n",
      "\u001b[32m[I 2022-07-24 18:10:17,709]\u001b[0m Trial 1257 finished with value: -0.006168876966053973 and parameters: {'kernel': 'rbf', 'C': 0.025279975259024572, 'gamma': 0.054743981658862954, 'epsilon': 0.0018367438542901467}. Best is trial 1038 with value: -0.006133775634474926.\u001b[0m\n",
      "\u001b[32m[I 2022-07-24 18:10:17,833]\u001b[0m Trial 1258 finished with value: -0.0061737549736483556 and parameters: {'kernel': 'rbf', 'C': 0.017600240763309224, 'gamma': 0.07222174329677332, 'epsilon': 0.002280158080119632}. Best is trial 1038 with value: -0.006133775634474926.\u001b[0m\n",
      "\u001b[32m[I 2022-07-24 18:10:18,034]\u001b[0m Trial 1259 finished with value: -0.006197377179597899 and parameters: {'kernel': 'rbf', 'C': 0.020072921490088193, 'gamma': 0.04278038062124004, 'epsilon': 0.0016246975160211564}. Best is trial 1038 with value: -0.006133775634474926.\u001b[0m\n",
      "\u001b[32m[I 2022-07-24 18:10:18,211]\u001b[0m Trial 1260 finished with value: -0.006164456728594537 and parameters: {'kernel': 'rbf', 'C': 0.016665407756874688, 'gamma': 0.059386085355837004, 'epsilon': 0.0026959335627100567}. Best is trial 1038 with value: -0.006133775634474926.\u001b[0m\n",
      "\u001b[32m[I 2022-07-24 18:10:18,362]\u001b[0m Trial 1261 finished with value: -0.006215113437694945 and parameters: {'kernel': 'rbf', 'C': 0.02797992673817769, 'gamma': 0.07473082983286514, 'epsilon': 0.00214321291732733}. Best is trial 1038 with value: -0.006133775634474926.\u001b[0m\n",
      "\u001b[32m[I 2022-07-24 18:10:18,495]\u001b[0m Trial 1262 finished with value: -0.00615036598384093 and parameters: {'kernel': 'rbf', 'C': 0.01858243926470413, 'gamma': 0.06322799494170438, 'epsilon': 0.001889420432580591}. Best is trial 1038 with value: -0.006133775634474926.\u001b[0m\n"
     ]
    },
    {
     "name": "stderr",
     "output_type": "stream",
     "text": [
      "\u001b[32m[I 2022-07-24 18:10:18,612]\u001b[0m Trial 1263 finished with value: -0.006157620964857961 and parameters: {'kernel': 'rbf', 'C': 0.022331661430924632, 'gamma': 0.050971867149735416, 'epsilon': 0.0024708724450671913}. Best is trial 1038 with value: -0.006133775634474926.\u001b[0m\n",
      "\u001b[32m[I 2022-07-24 18:10:18,725]\u001b[0m Trial 1264 finished with value: -0.006147696731135357 and parameters: {'kernel': 'rbf', 'C': 0.016289990319608805, 'gamma': 0.08011740400190621, 'epsilon': 0.0021140763311495434}. Best is trial 1038 with value: -0.006133775634474926.\u001b[0m\n",
      "\u001b[32m[I 2022-07-24 18:10:18,849]\u001b[0m Trial 1265 finished with value: -0.006181631250572768 and parameters: {'kernel': 'rbf', 'C': 0.01559765042543979, 'gamma': 0.0706057787430826, 'epsilon': 0.001172562844225975}. Best is trial 1038 with value: -0.006133775634474926.\u001b[0m\n",
      "\u001b[32m[I 2022-07-24 18:10:18,972]\u001b[0m Trial 1266 finished with value: -0.00616312679343644 and parameters: {'kernel': 'rbf', 'C': 0.01946031418137092, 'gamma': 0.06320148720090346, 'epsilon': 0.0015514350527464202}. Best is trial 1038 with value: -0.006133775634474926.\u001b[0m\n",
      "\u001b[32m[I 2022-07-24 18:10:19,076]\u001b[0m Trial 1267 finished with value: -0.006163797021657599 and parameters: {'kernel': 'rbf', 'C': 0.014854867137218102, 'gamma': 0.08581285687170838, 'epsilon': 0.0018121019982318043}. Best is trial 1038 with value: -0.006133775634474926.\u001b[0m\n",
      "\u001b[32m[I 2022-07-24 18:10:19,186]\u001b[0m Trial 1268 finished with value: -0.006228291669246485 and parameters: {'kernel': 'rbf', 'C': 0.034682924464595206, 'gamma': 0.047031486931408455, 'epsilon': 0.0028072366470181325}. Best is trial 1038 with value: -0.006133775634474926.\u001b[0m\n",
      "\u001b[32m[I 2022-07-24 18:10:19,304]\u001b[0m Trial 1269 finished with value: -0.0061561860885425606 and parameters: {'kernel': 'rbf', 'C': 0.016830595513099997, 'gamma': 0.05522498343453064, 'epsilon': 0.002319647619147853}. Best is trial 1038 with value: -0.006133775634474926.\u001b[0m\n",
      "\u001b[32m[I 2022-07-24 18:10:19,756]\u001b[0m Trial 1270 finished with value: -0.006181286102229033 and parameters: {'kernel': 'rbf', 'C': 0.022661864984660843, 'gamma': 0.07443933499149528, 'epsilon': 0.0019838337611711703}. Best is trial 1038 with value: -0.006133775634474926.\u001b[0m\n",
      "\u001b[32m[I 2022-07-24 18:10:20,179]\u001b[0m Trial 1271 finished with value: -0.006150384658721049 and parameters: {'kernel': 'rbf', 'C': 0.01845106046998241, 'gamma': 0.06616788258772273, 'epsilon': 0.0023612938458594545}. Best is trial 1038 with value: -0.006133775634474926.\u001b[0m\n",
      "\u001b[32m[I 2022-07-24 18:10:20,363]\u001b[0m Trial 1272 finished with value: -0.0061746018576262565 and parameters: {'kernel': 'rbf', 'C': 0.014226640563945143, 'gamma': 0.08278369119195281, 'epsilon': 0.0013411390732995239}. Best is trial 1038 with value: -0.006133775634474926.\u001b[0m\n",
      "\u001b[32m[I 2022-07-24 18:10:20,469]\u001b[0m Trial 1273 finished with value: -0.0061626340488402575 and parameters: {'kernel': 'rbf', 'C': 0.016795896049151725, 'gamma': 0.05586258851164222, 'epsilon': 0.001750204529411611}. Best is trial 1038 with value: -0.006133775634474926.\u001b[0m\n",
      "\u001b[32m[I 2022-07-24 18:10:20,574]\u001b[0m Trial 1274 finished with value: -0.006160516588528148 and parameters: {'kernel': 'rbf', 'C': 0.01370244556492772, 'gamma': 0.07383130919614755, 'epsilon': 0.0025909832296415135}. Best is trial 1038 with value: -0.006133775634474926.\u001b[0m\n",
      "\u001b[32m[I 2022-07-24 18:10:20,814]\u001b[0m Trial 1275 finished with value: -0.006195281843837926 and parameters: {'kernel': 'rbf', 'C': 0.020141691797357072, 'gamma': 0.09344687173364523, 'epsilon': 0.00202741797946137}. Best is trial 1038 with value: -0.006133775634474926.\u001b[0m\n",
      "\u001b[32m[I 2022-07-24 18:10:21,014]\u001b[0m Trial 1276 finished with value: -0.006214732552799734 and parameters: {'kernel': 'rbf', 'C': 0.015413100987989243, 'gamma': 0.06126794849261839, 'epsilon': 0.0031360010807240093}. Best is trial 1038 with value: -0.006133775634474926.\u001b[0m\n",
      "\u001b[32m[I 2022-07-24 18:10:21,185]\u001b[0m Trial 1277 finished with value: -0.006186066389463808 and parameters: {'kernel': 'rbf', 'C': 0.025097244139722353, 'gamma': 0.04514655292740368, 'epsilon': 0.0014987361035132577}. Best is trial 1038 with value: -0.006133775634474926.\u001b[0m\n",
      "\u001b[32m[I 2022-07-24 18:10:21,388]\u001b[0m Trial 1278 finished with value: -0.00704578622538938 and parameters: {'kernel': 'rbf', 'C': 0.5688953342541141, 'gamma': 0.06951522760143759, 'epsilon': 0.0022154111665836367}. Best is trial 1038 with value: -0.006133775634474926.\u001b[0m\n",
      "\u001b[32m[I 2022-07-24 18:10:21,505]\u001b[0m Trial 1279 finished with value: -0.006403300549104052 and parameters: {'kernel': 'rbf', 'C': 0.012281959835952741, 'gamma': 0.020779073446083623, 'epsilon': 0.0017618094529973207}. Best is trial 1038 with value: -0.006133775634474926.\u001b[0m\n",
      "\u001b[32m[I 2022-07-24 18:10:21,644]\u001b[0m Trial 1280 finished with value: -0.006200074786541015 and parameters: {'kernel': 'rbf', 'C': 0.01786616129108104, 'gamma': 0.0795296214000076, 'epsilon': 0.0027450295392764676}. Best is trial 1038 with value: -0.006133775634474926.\u001b[0m\n",
      "\u001b[32m[I 2022-07-24 18:10:21,824]\u001b[0m Trial 1281 finished with value: -0.006178765925476167 and parameters: {'kernel': 'rbf', 'C': 0.014047199182064775, 'gamma': 0.05357800822321795, 'epsilon': 0.001995636536340964}. Best is trial 1038 with value: -0.006133775634474926.\u001b[0m\n",
      "\u001b[32m[I 2022-07-24 18:10:21,931]\u001b[0m Trial 1282 finished with value: -0.006230298540680599 and parameters: {'kernel': 'rbf', 'C': 0.020415980129665216, 'gamma': 0.09828176190286521, 'epsilon': 0.0023537346097816155}. Best is trial 1038 with value: -0.006133775634474926.\u001b[0m\n",
      "\u001b[32m[I 2022-07-24 18:10:22,082]\u001b[0m Trial 1283 finished with value: -0.006884920929053244 and parameters: {'kernel': 'poly', 'C': 0.011033599187715794, 'gamma': 0.06629004316333023, 'epsilon': 0.001660515352073542}. Best is trial 1038 with value: -0.006133775634474926.\u001b[0m\n",
      "\u001b[32m[I 2022-07-24 18:10:22,241]\u001b[0m Trial 1284 finished with value: -0.00616054916904944 and parameters: {'kernel': 'rbf', 'C': 0.016197071210923775, 'gamma': 0.0870945540845783, 'epsilon': 0.0021474258697439384}. Best is trial 1038 with value: -0.006133775634474926.\u001b[0m\n",
      "\u001b[32m[I 2022-07-24 18:10:22,390]\u001b[0m Trial 1285 finished with value: -0.006171586357393053 and parameters: {'kernel': 'rbf', 'C': 0.012732325343564718, 'gamma': 0.05919589911390669, 'epsilon': 0.002542051547622028}. Best is trial 1038 with value: -0.006133775634474926.\u001b[0m\n",
      "\u001b[32m[I 2022-07-24 18:10:22,594]\u001b[0m Trial 1286 finished with value: -0.006190193994635797 and parameters: {'kernel': 'rbf', 'C': 0.02289253919884652, 'gamma': 0.038778575230513264, 'epsilon': 0.0018979434632618595}. Best is trial 1038 with value: -0.006133775634474926.\u001b[0m\n",
      "\u001b[32m[I 2022-07-24 18:10:22,716]\u001b[0m Trial 1287 finished with value: -0.006166068934343974 and parameters: {'kernel': 'rbf', 'C': 0.01825879474524729, 'gamma': 0.0729367607757298, 'epsilon': 0.0016247086065795354}. Best is trial 1038 with value: -0.006133775634474926.\u001b[0m\n",
      "\u001b[32m[I 2022-07-24 18:10:22,833]\u001b[0m Trial 1288 finished with value: -0.0061912597437570145 and parameters: {'kernel': 'rbf', 'C': 0.01503189495223015, 'gamma': 0.04836205602162117, 'epsilon': 0.002267205881973716}. Best is trial 1038 with value: -0.006133775634474926.\u001b[0m\n",
      "\u001b[32m[I 2022-07-24 18:10:22,923]\u001b[0m Trial 1289 finished with value: -0.006204514907173094 and parameters: {'kernel': 'rbf', 'C': 0.013304343946184228, 'gamma': 0.08269425558787905, 'epsilon': 0.0029730167047719164}. Best is trial 1038 with value: -0.006133775634474926.\u001b[0m\n",
      "\u001b[32m[I 2022-07-24 18:10:23,059]\u001b[0m Trial 1290 finished with value: -0.006306078356935657 and parameters: {'kernel': 'rbf', 'C': 0.02932061521369328, 'gamma': 0.10890656878172877, 'epsilon': 0.001989480914460664}. Best is trial 1038 with value: -0.006133775634474926.\u001b[0m\n",
      "\u001b[32m[I 2022-07-24 18:10:23,185]\u001b[0m Trial 1291 finished with value: -0.00616949993179431 and parameters: {'kernel': 'rbf', 'C': 0.01663204790991033, 'gamma': 0.06100858021795024, 'epsilon': 0.0014559428597581347}. Best is trial 1038 with value: -0.006133775634474926.\u001b[0m\n",
      "\u001b[32m[I 2022-07-24 18:10:23,276]\u001b[0m Trial 1292 finished with value: -0.0061777676458584846 and parameters: {'kernel': 'rbf', 'C': 0.011111512309451958, 'gamma': 0.07284598812660491, 'epsilon': 0.002581941951470382}. Best is trial 1038 with value: -0.006133775634474926.\u001b[0m\n"
     ]
    },
    {
     "name": "stderr",
     "output_type": "stream",
     "text": [
      "\u001b[32m[I 2022-07-24 18:10:23,408]\u001b[0m Trial 1293 finished with value: -0.006198254283373606 and parameters: {'kernel': 'rbf', 'C': 0.01993677816274578, 'gamma': 0.09096921637287449, 'epsilon': 0.0018780356901099873}. Best is trial 1038 with value: -0.006133775634474926.\u001b[0m\n",
      "\u001b[32m[I 2022-07-24 18:10:23,555]\u001b[0m Trial 1294 finished with value: -0.006174200791262563 and parameters: {'kernel': 'rbf', 'C': 0.014631621629816368, 'gamma': 0.052321484960795715, 'epsilon': 0.0022205419376178973}. Best is trial 1038 with value: -0.006133775634474926.\u001b[0m\n",
      "\u001b[32m[I 2022-07-24 18:10:23,683]\u001b[0m Trial 1295 finished with value: -0.0061561794708741195 and parameters: {'kernel': 'rbf', 'C': 0.017439649338621684, 'gamma': 0.06541217621132568, 'epsilon': 0.0017808632383243558}. Best is trial 1038 with value: -0.006133775634474926.\u001b[0m\n",
      "\u001b[32m[I 2022-07-24 18:10:23,771]\u001b[0m Trial 1296 finished with value: -0.006164329680501714 and parameters: {'kernel': 'rbf', 'C': 0.013457951485795738, 'gamma': 0.07754461660277623, 'epsilon': 0.0024497309289649113}. Best is trial 1038 with value: -0.006133775634474926.\u001b[0m\n",
      "\u001b[32m[I 2022-07-24 18:10:23,868]\u001b[0m Trial 1297 finished with value: -0.006273847724033471 and parameters: {'kernel': 'rbf', 'C': 0.021570301199430444, 'gamma': 0.05931836650154853, 'epsilon': 0.003480135309336692}. Best is trial 1038 with value: -0.006133775634474926.\u001b[0m\n",
      "\u001b[32m[I 2022-07-24 18:10:23,981]\u001b[0m Trial 1298 finished with value: -0.006338498593478826 and parameters: {'kernel': 'rbf', 'C': 0.012027860258363526, 'gamma': 0.025506538304356757, 'epsilon': 0.0020939940189917986}. Best is trial 1038 with value: -0.006133775634474926.\u001b[0m\n",
      "\u001b[32m[I 2022-07-24 18:10:24,113]\u001b[0m Trial 1299 finished with value: -0.006241491471082269 and parameters: {'kernel': 'rbf', 'C': 0.015640736282355336, 'gamma': 0.10405156926544874, 'epsilon': 0.0028344099675946814}. Best is trial 1038 with value: -0.006133775634474926.\u001b[0m\n",
      "\u001b[32m[I 2022-07-24 18:10:24,266]\u001b[0m Trial 1300 finished with value: -0.0070596399083853595 and parameters: {'kernel': 'rbf', 'C': 0.010268688321550997, 'gamma': 0.0028689020369398383, 'epsilon': 0.001619110090254604}. Best is trial 1038 with value: -0.006133775634474926.\u001b[0m\n",
      "\u001b[32m[I 2022-07-24 18:10:24,336]\u001b[0m Trial 1301 finished with value: -0.03564469137116574 and parameters: {'kernel': 'rbf', 'C': 0.02508054211210254, 'gamma': 0.08429305724566526, 'epsilon': 0.09555244217502992}. Best is trial 1038 with value: -0.006133775634474926.\u001b[0m\n",
      "\u001b[32m[I 2022-07-24 18:10:24,466]\u001b[0m Trial 1302 finished with value: -0.006159146194759597 and parameters: {'kernel': 'rbf', 'C': 0.01908696297600336, 'gamma': 0.06812106804477493, 'epsilon': 0.0018790657320319367}. Best is trial 1038 with value: -0.006133775634474926.\u001b[0m\n",
      "\u001b[32m[I 2022-07-24 18:10:24,554]\u001b[0m Trial 1303 finished with value: -0.006195162639031315 and parameters: {'kernel': 'rbf', 'C': 0.014501881373337055, 'gamma': 0.04545814039863443, 'epsilon': 0.0022754409428251887}. Best is trial 1038 with value: -0.006133775634474926.\u001b[0m\n",
      "\u001b[32m[I 2022-07-24 18:10:24,684]\u001b[0m Trial 1304 finished with value: -0.006189422008670451 and parameters: {'kernel': 'rbf', 'C': 0.0100780912487825, 'gamma': 0.07615492251896899, 'epsilon': 0.0013887055171730575}. Best is trial 1038 with value: -0.006133775634474926.\u001b[0m\n",
      "\u001b[32m[I 2022-07-24 18:10:24,788]\u001b[0m Trial 1305 finished with value: -0.006165690761189169 and parameters: {'kernel': 'rbf', 'C': 0.017170642980444756, 'gamma': 0.05141897680902164, 'epsilon': 0.0024932140850530645}. Best is trial 1038 with value: -0.006133775634474926.\u001b[0m\n",
      "\u001b[32m[I 2022-07-24 18:10:24,904]\u001b[0m Trial 1306 finished with value: -0.006147097466979095 and parameters: {'kernel': 'rbf', 'C': 0.012732553848344048, 'gamma': 0.09521119362129242, 'epsilon': 0.002012548442966925}. Best is trial 1038 with value: -0.006133775634474926.\u001b[0m\n",
      "\u001b[32m[I 2022-07-24 18:10:25,021]\u001b[0m Trial 1307 finished with value: -0.006165874075257192 and parameters: {'kernel': 'rbf', 'C': 0.015333166311774272, 'gamma': 0.0655914858864081, 'epsilon': 0.0016585917330896927}. Best is trial 1038 with value: -0.006133775634474926.\u001b[0m\n",
      "\u001b[32m[I 2022-07-24 18:10:25,117]\u001b[0m Trial 1308 finished with value: -0.0061936540388123 and parameters: {'kernel': 'rbf', 'C': 0.020521877119672554, 'gamma': 0.05944278571283369, 'epsilon': 0.002954767451715715}. Best is trial 1038 with value: -0.006133775634474926.\u001b[0m\n",
      "\u001b[32m[I 2022-07-24 18:10:25,236]\u001b[0m Trial 1309 finished with value: -0.0061440265936022155 and parameters: {'kernel': 'rbf', 'C': 0.011931518303460481, 'gamma': 0.08130734597892081, 'epsilon': 0.0021592230218085685}. Best is trial 1038 with value: -0.006133775634474926.\u001b[0m\n",
      "\u001b[32m[I 2022-07-24 18:10:25,437]\u001b[0m Trial 1310 finished with value: -0.006177479590324987 and parameters: {'kernel': 'rbf', 'C': 0.010255904717961449, 'gamma': 0.11110565861803617, 'epsilon': 0.0018832202469505222}. Best is trial 1038 with value: -0.006133775634474926.\u001b[0m\n",
      "\u001b[32m[I 2022-07-24 18:10:25,678]\u001b[0m Trial 1311 finished with value: -0.006856955003776662 and parameters: {'kernel': 'poly', 'C': 0.010136769574819172, 'gamma': 0.13185671148975356, 'epsilon': 0.0012308953861768373}. Best is trial 1038 with value: -0.006133775634474926.\u001b[0m\n",
      "\u001b[32m[I 2022-07-24 18:10:25,800]\u001b[0m Trial 1312 finished with value: -0.006173540515088455 and parameters: {'kernel': 'rbf', 'C': 0.011180287575432218, 'gamma': 0.0960663967655251, 'epsilon': 0.002550797900055045}. Best is trial 1038 with value: -0.006133775634474926.\u001b[0m\n",
      "\u001b[32m[I 2022-07-24 18:10:25,937]\u001b[0m Trial 1313 finished with value: -0.006198488647234553 and parameters: {'kernel': 'rbf', 'C': 0.01009123072312211, 'gamma': 0.12064535839005779, 'epsilon': 0.0021858509969486387}. Best is trial 1038 with value: -0.006133775634474926.\u001b[0m\n",
      "\u001b[32m[I 2022-07-24 18:10:26,071]\u001b[0m Trial 1314 finished with value: -0.006167716837179843 and parameters: {'kernel': 'rbf', 'C': 0.01105646671142192, 'gamma': 0.0866735921467252, 'epsilon': 0.0015575759723258276}. Best is trial 1038 with value: -0.006133775634474926.\u001b[0m\n",
      "\u001b[32m[I 2022-07-24 18:10:26,209]\u001b[0m Trial 1315 finished with value: -0.006150751827405145 and parameters: {'kernel': 'rbf', 'C': 0.012043697656518403, 'gamma': 0.08754267636078483, 'epsilon': 0.001810401832380744}. Best is trial 1038 with value: -0.006133775634474926.\u001b[0m\n",
      "\u001b[32m[I 2022-07-24 18:10:26,332]\u001b[0m Trial 1316 finished with value: -0.006156432697259466 and parameters: {'kernel': 'rbf', 'C': 0.011941958212794614, 'gamma': 0.10160021455709133, 'epsilon': 0.0020446006597253617}. Best is trial 1038 with value: -0.006133775634474926.\u001b[0m\n",
      "\u001b[32m[I 2022-07-24 18:10:26,460]\u001b[0m Trial 1317 finished with value: -0.006157965077930647 and parameters: {'kernel': 'rbf', 'C': 0.012070446943741955, 'gamma': 0.0801868005404497, 'epsilon': 0.002575555375503882}. Best is trial 1038 with value: -0.006133775634474926.\u001b[0m\n",
      "\u001b[32m[I 2022-07-24 18:10:26,503]\u001b[0m Trial 1318 finished with value: -0.017378979727289696 and parameters: {'kernel': 'rbf', 'C': 0.012894564074717176, 'gamma': 0.0952035460001398, 'epsilon': 0.020768327891005363}. Best is trial 1038 with value: -0.006133775634474926.\u001b[0m\n",
      "\u001b[32m[I 2022-07-24 18:10:26,606]\u001b[0m Trial 1319 finished with value: -0.006149370649918433 and parameters: {'kernel': 'rbf', 'C': 0.01369848041074408, 'gamma': 0.07809260119477389, 'epsilon': 0.002286885004023385}. Best is trial 1038 with value: -0.006133775634474926.\u001b[0m\n",
      "\u001b[32m[I 2022-07-24 18:10:26,704]\u001b[0m Trial 1320 finished with value: -0.006306176256587078 and parameters: {'kernel': 'rbf', 'C': 0.011200364782198708, 'gamma': 0.10645443529659929, 'epsilon': 0.003393428190531234}. Best is trial 1038 with value: -0.006133775634474926.\u001b[0m\n",
      "\u001b[32m[I 2022-07-24 18:10:26,806]\u001b[0m Trial 1321 finished with value: -0.006157825279160503 and parameters: {'kernel': 'rbf', 'C': 0.013363903540752144, 'gamma': 0.08564537950681762, 'epsilon': 0.0018037669650861241}. Best is trial 1038 with value: -0.006133775634474926.\u001b[0m\n",
      "\u001b[32m[I 2022-07-24 18:10:26,935]\u001b[0m Trial 1322 finished with value: -0.0063063243258433535 and parameters: {'kernel': 'rbf', 'C': 0.010294689497234272, 'gamma': 0.03412863208148657, 'epsilon': 0.0014918661638641077}. Best is trial 1038 with value: -0.006133775634474926.\u001b[0m\n"
     ]
    },
    {
     "name": "stderr",
     "output_type": "stream",
     "text": [
      "\u001b[32m[I 2022-07-24 18:10:27,026]\u001b[0m Trial 1323 finished with value: -0.00618604884221826 and parameters: {'kernel': 'rbf', 'C': 0.012127711237309083, 'gamma': 0.07081822260874451, 'epsilon': 0.002786644378512513}. Best is trial 1038 with value: -0.006133775634474926.\u001b[0m\n",
      "\u001b[32m[I 2022-07-24 18:10:27,138]\u001b[0m Trial 1324 finished with value: -0.006153610165686926 and parameters: {'kernel': 'rbf', 'C': 0.014014013547108918, 'gamma': 0.0780307390295635, 'epsilon': 0.002023159575670613}. Best is trial 1038 with value: -0.006133775634474926.\u001b[0m\n",
      "\u001b[32m[I 2022-07-24 18:10:27,253]\u001b[0m Trial 1325 finished with value: -0.00616517400514358 and parameters: {'kernel': 'rbf', 'C': 0.014289759539241558, 'gamma': 0.05553265224393265, 'epsilon': 0.0022862597931875327}. Best is trial 1038 with value: -0.006133775634474926.\u001b[0m\n",
      "\u001b[32m[I 2022-07-24 18:10:27,380]\u001b[0m Trial 1326 finished with value: -0.006188914921036578 and parameters: {'kernel': 'rbf', 'C': 0.010191311661505543, 'gamma': 0.06745427661050152, 'epsilon': 0.0017337646998975124}. Best is trial 1038 with value: -0.006133775634474926.\u001b[0m\n",
      "\u001b[32m[I 2022-07-24 18:10:27,503]\u001b[0m Trial 1327 finished with value: -0.006188742797165663 and parameters: {'kernel': 'rbf', 'C': 0.010021180869924078, 'gamma': 0.0908432513753561, 'epsilon': 0.002435131139343802}. Best is trial 1038 with value: -0.006133775634474926.\u001b[0m\n",
      "\u001b[32m[I 2022-07-24 18:10:27,601]\u001b[0m Trial 1328 finished with value: -0.006191343468759464 and parameters: {'kernel': 'rbf', 'C': 0.012403846406665343, 'gamma': 0.11730480927967789, 'epsilon': 0.001964406321528868}. Best is trial 1038 with value: -0.006133775634474926.\u001b[0m\n",
      "\u001b[32m[I 2022-07-24 18:10:27,700]\u001b[0m Trial 1329 finished with value: -0.006240356697862483 and parameters: {'kernel': 'rbf', 'C': 0.015270143272676123, 'gamma': 0.03914435896804348, 'epsilon': 0.002981797305230502}. Best is trial 1038 with value: -0.006133775634474926.\u001b[0m\n",
      "\u001b[32m[I 2022-07-24 18:10:27,825]\u001b[0m Trial 1330 finished with value: -0.00643837902354705 and parameters: {'kernel': 'rbf', 'C': 0.017355119300124264, 'gamma': 0.49297568338411346, 'epsilon': 0.0016176995944002768}. Best is trial 1038 with value: -0.006133775634474926.\u001b[0m\n",
      "\u001b[32m[I 2022-07-24 18:10:27,931]\u001b[0m Trial 1331 finished with value: -0.006176662516242126 and parameters: {'kernel': 'rbf', 'C': 0.011544843225100349, 'gamma': 0.06238898245523027, 'epsilon': 0.002163754564179643}. Best is trial 1038 with value: -0.006133775634474926.\u001b[0m\n",
      "\u001b[32m[I 2022-07-24 18:10:28,020]\u001b[0m Trial 1332 finished with value: -0.006159350954365215 and parameters: {'kernel': 'rbf', 'C': 0.013250082629351857, 'gamma': 0.07919102969624624, 'epsilon': 0.0024412014284472252}. Best is trial 1038 with value: -0.006133775634474926.\u001b[0m\n",
      "\u001b[32m[I 2022-07-24 18:10:28,134]\u001b[0m Trial 1333 finished with value: -0.00616872396003651 and parameters: {'kernel': 'rbf', 'C': 0.018246742411503897, 'gamma': 0.052802014079738745, 'epsilon': 0.001924332822784848}. Best is trial 1038 with value: -0.006133775634474926.\u001b[0m\n",
      "\u001b[32m[I 2022-07-24 18:10:28,193]\u001b[0m Trial 1334 finished with value: -0.03564469137116574 and parameters: {'kernel': 'rbf', 'C': 0.014658359374123606, 'gamma': 0.07258193903948512, 'epsilon': 0.06057070407816941}. Best is trial 1038 with value: -0.006133775634474926.\u001b[0m\n",
      "\u001b[32m[I 2022-07-24 18:10:28,245]\u001b[0m Trial 1335 finished with value: -0.03564469137116575 and parameters: {'kernel': 'rbf', 'C': 0.01621988419659004, 'gamma': 0.10258207708661896, 'epsilon': 0.5716961439919732}. Best is trial 1038 with value: -0.006133775634474926.\u001b[0m\n",
      "\u001b[32m[I 2022-07-24 18:10:28,389]\u001b[0m Trial 1336 finished with value: -0.0061913453763181555 and parameters: {'kernel': 'rbf', 'C': 0.02231868966532308, 'gamma': 0.06281624704106933, 'epsilon': 0.001426231694572217}. Best is trial 1038 with value: -0.006133775634474926.\u001b[0m\n",
      "\u001b[32m[I 2022-07-24 18:10:28,492]\u001b[0m Trial 1337 finished with value: -0.006177010535488446 and parameters: {'kernel': 'rbf', 'C': 0.013001651859840873, 'gamma': 0.08877967448665694, 'epsilon': 0.0026934103509800903}. Best is trial 1038 with value: -0.006133775634474926.\u001b[0m\n",
      "\u001b[32m[I 2022-07-24 18:10:28,638]\u001b[0m Trial 1338 finished with value: -0.006766956887297073 and parameters: {'kernel': 'poly', 'C': 0.01857302203845333, 'gamma': 0.07062153572440916, 'epsilon': 0.0021239896627606412}. Best is trial 1038 with value: -0.006133775634474926.\u001b[0m\n",
      "\u001b[32m[I 2022-07-24 18:10:28,828]\u001b[0m Trial 1339 finished with value: -0.006240369869603347 and parameters: {'kernel': 'rbf', 'C': 0.011297660044468485, 'gamma': 0.04679498946702866, 'epsilon': 0.0016888844288873118}. Best is trial 1038 with value: -0.006133775634474926.\u001b[0m\n",
      "\u001b[32m[I 2022-07-24 18:10:28,919]\u001b[0m Trial 1340 finished with value: -0.00622352965391849 and parameters: {'kernel': 'rbf', 'C': 0.015446111922522805, 'gamma': 0.057797481095533426, 'epsilon': 0.003245732460578253}. Best is trial 1038 with value: -0.006133775634474926.\u001b[0m\n",
      "\u001b[32m[I 2022-07-24 18:10:29,058]\u001b[0m Trial 1341 finished with value: -0.006359987219628933 and parameters: {'kernel': 'rbf', 'C': 0.02505338835716224, 'gamma': 0.014386143261892538, 'epsilon': 0.001864385727185185}. Best is trial 1038 with value: -0.006133775634474926.\u001b[0m\n",
      "\u001b[32m[I 2022-07-24 18:10:29,166]\u001b[0m Trial 1342 finished with value: -0.006153287822386506 and parameters: {'kernel': 'rbf', 'C': 0.013768470284116126, 'gamma': 0.08092826518966774, 'epsilon': 0.0023307063395938384}. Best is trial 1038 with value: -0.006133775634474926.\u001b[0m\n",
      "\u001b[32m[I 2022-07-24 18:10:29,307]\u001b[0m Trial 1343 finished with value: -0.006225486580785702 and parameters: {'kernel': 'rbf', 'C': 0.020194390865158885, 'gamma': 0.09163075940368033, 'epsilon': 0.0013312559020051866}. Best is trial 1038 with value: -0.006133775634474926.\u001b[0m\n",
      "\u001b[32m[I 2022-07-24 18:10:29,435]\u001b[0m Trial 1344 finished with value: -0.006146934247712323 and parameters: {'kernel': 'rbf', 'C': 0.01699661777997215, 'gamma': 0.0661548779998192, 'epsilon': 0.002081790185156428}. Best is trial 1038 with value: -0.006133775634474926.\u001b[0m\n",
      "\u001b[32m[I 2022-07-24 18:10:29,547]\u001b[0m Trial 1345 finished with value: -0.006233408161294702 and parameters: {'kernel': 'rbf', 'C': 0.01006383361111086, 'gamma': 0.05228148757938471, 'epsilon': 0.002692802997140449}. Best is trial 1038 with value: -0.006133775634474926.\u001b[0m\n",
      "\u001b[32m[I 2022-07-24 18:10:29,648]\u001b[0m Trial 1346 finished with value: -0.006887933167558781 and parameters: {'kernel': 'rbf', 'C': 0.18540444483805305, 'gamma': 0.08104013629744469, 'epsilon': 0.004145779698834429}. Best is trial 1038 with value: -0.006133775634474926.\u001b[0m\n",
      "\u001b[32m[I 2022-07-24 18:10:29,772]\u001b[0m Trial 1347 finished with value: -0.006183295592571885 and parameters: {'kernel': 'rbf', 'C': 0.010020181267186299, 'gamma': 0.09950004904357405, 'epsilon': 0.0016715637463672476}. Best is trial 1038 with value: -0.006133775634474926.\u001b[0m\n",
      "\u001b[32m[I 2022-07-24 18:10:29,963]\u001b[0m Trial 1348 finished with value: -0.006152351926375538 and parameters: {'kernel': 'rbf', 'C': 0.01183008651297858, 'gamma': 0.07347561980060195, 'epsilon': 0.0023321922247387253}. Best is trial 1038 with value: -0.006133775634474926.\u001b[0m\n",
      "\u001b[32m[I 2022-07-24 18:10:30,151]\u001b[0m Trial 1349 finished with value: -0.006211249281202677 and parameters: {'kernel': 'rbf', 'C': 0.014770795793144862, 'gamma': 0.04264983850287413, 'epsilon': 0.0019354990686982813}. Best is trial 1038 with value: -0.006133775634474926.\u001b[0m\n",
      "\u001b[32m[I 2022-07-24 18:10:30,294]\u001b[0m Trial 1350 finished with value: -0.006170522747720672 and parameters: {'kernel': 'rbf', 'C': 0.018461522975481794, 'gamma': 0.06087311198657802, 'epsilon': 0.0026956726574729507}. Best is trial 1038 with value: -0.006133775634474926.\u001b[0m\n",
      "\u001b[32m[I 2022-07-24 18:10:30,431]\u001b[0m Trial 1351 finished with value: -0.00618869925629285 and parameters: {'kernel': 'rbf', 'C': 0.013086644718100891, 'gamma': 0.11421779110426432, 'epsilon': 0.002186019493279034}. Best is trial 1038 with value: -0.006133775634474926.\u001b[0m\n",
      "\u001b[32m[I 2022-07-24 18:10:30,549]\u001b[0m Trial 1352 finished with value: -0.00616704536735747 and parameters: {'kernel': 'rbf', 'C': 0.01599775259948567, 'gamma': 0.06792958862722699, 'epsilon': 0.0017604110725048026}. Best is trial 1038 with value: -0.006133775634474926.\u001b[0m\n"
     ]
    },
    {
     "name": "stderr",
     "output_type": "stream",
     "text": [
      "\u001b[32m[I 2022-07-24 18:10:30,676]\u001b[0m Trial 1353 finished with value: -0.0061625349908018155 and parameters: {'kernel': 'rbf', 'C': 0.02159786610286709, 'gamma': 0.05667403310150924, 'epsilon': 0.0020000149415150418}. Best is trial 1038 with value: -0.006133775634474926.\u001b[0m\n",
      "\u001b[32m[I 2022-07-24 18:10:31,252]\u001b[0m Trial 1354 finished with value: -0.008082970285196613 and parameters: {'kernel': 'rbf', 'C': 6.366867437692746, 'gamma': 0.08641222778073397, 'epsilon': 0.0015180260773994519}. Best is trial 1038 with value: -0.006133775634474926.\u001b[0m\n",
      "\u001b[32m[I 2022-07-24 18:10:31,395]\u001b[0m Trial 1355 finished with value: -0.00623868037400066 and parameters: {'kernel': 'rbf', 'C': 0.02892682283733776, 'gamma': 0.07607734786292579, 'epsilon': 0.0024828951035181786}. Best is trial 1038 with value: -0.006133775634474926.\u001b[0m\n",
      "\u001b[32m[I 2022-07-24 18:10:31,550]\u001b[0m Trial 1356 finished with value: -0.006274930727786266 and parameters: {'kernel': 'rbf', 'C': 0.01000361740920675, 'gamma': 0.04810361065869982, 'epsilon': 0.0011215234650873724}. Best is trial 1038 with value: -0.006133775634474926.\u001b[0m\n",
      "\u001b[32m[I 2022-07-24 18:10:31,640]\u001b[0m Trial 1357 finished with value: -0.006178685986730846 and parameters: {'kernel': 'rbf', 'C': 0.013968105910833722, 'gamma': 0.06100624854276897, 'epsilon': 0.002903199612098072}. Best is trial 1038 with value: -0.006133775634474926.\u001b[0m\n",
      "\u001b[32m[I 2022-07-24 18:10:31,770]\u001b[0m Trial 1358 finished with value: -0.0061901449008521315 and parameters: {'kernel': 'rbf', 'C': 0.016767314258238127, 'gamma': 0.1037239436812933, 'epsilon': 0.0017876429830631403}. Best is trial 1038 with value: -0.006133775634474926.\u001b[0m\n",
      "\u001b[32m[I 2022-07-24 18:10:31,901]\u001b[0m Trial 1359 finished with value: -0.00624337904410823 and parameters: {'kernel': 'rbf', 'C': 0.012179251871684615, 'gamma': 0.1528702242808883, 'epsilon': 0.0021646342314151105}. Best is trial 1038 with value: -0.006133775634474926.\u001b[0m\n",
      "\u001b[32m[I 2022-07-24 18:10:32,068]\u001b[0m Trial 1360 finished with value: -0.006170416883318777 and parameters: {'kernel': 'rbf', 'C': 0.01965554880967319, 'gamma': 0.06985194387476147, 'epsilon': 0.0024257801324311786}. Best is trial 1038 with value: -0.006133775634474926.\u001b[0m\n",
      "\u001b[32m[I 2022-07-24 18:10:32,254]\u001b[0m Trial 1361 finished with value: -0.006221804772843766 and parameters: {'kernel': 'rbf', 'C': 0.023577997087044143, 'gamma': 0.08733316240207885, 'epsilon': 0.0015487445885876065}. Best is trial 1038 with value: -0.006133775634474926.\u001b[0m\n",
      "\u001b[32m[I 2022-07-24 18:10:32,294]\u001b[0m Trial 1362 finished with value: -0.03564469137116575 and parameters: {'kernel': 'rbf', 'C': 0.015131774668283124, 'gamma': 0.07619380518509003, 'epsilon': 0.36682314827491047}. Best is trial 1038 with value: -0.006133775634474926.\u001b[0m\n",
      "\u001b[32m[I 2022-07-24 18:10:32,426]\u001b[0m Trial 1363 finished with value: -0.006199630987061257 and parameters: {'kernel': 'rbf', 'C': 0.011569485496422297, 'gamma': 0.053992321978516666, 'epsilon': 0.00198821593659418}. Best is trial 1038 with value: -0.006133775634474926.\u001b[0m\n",
      "\u001b[32m[I 2022-07-24 18:10:32,554]\u001b[0m Trial 1364 finished with value: -0.0061620345086461715 and parameters: {'kernel': 'rbf', 'C': 0.017420432830779164, 'gamma': 0.06651967232791782, 'epsilon': 0.0022826405374829326}. Best is trial 1038 with value: -0.006133775634474926.\u001b[0m\n",
      "\u001b[32m[I 2022-07-24 18:10:32,679]\u001b[0m Trial 1365 finished with value: -0.006771989004406229 and parameters: {'kernel': 'poly', 'C': 0.013585472531291843, 'gamma': 0.08879545506271548, 'epsilon': 0.0030531280753541366}. Best is trial 1038 with value: -0.006133775634474926.\u001b[0m\n",
      "\u001b[32m[I 2022-07-24 18:10:32,791]\u001b[0m Trial 1366 finished with value: -0.006249952030522091 and parameters: {'kernel': 'rbf', 'C': 0.019468869016345713, 'gamma': 0.13029770569636479, 'epsilon': 0.001813515538578621}. Best is trial 1038 with value: -0.006133775634474926.\u001b[0m\n",
      "\u001b[32m[I 2022-07-24 18:10:32,921]\u001b[0m Trial 1367 finished with value: -0.006167131665681114 and parameters: {'kernel': 'rbf', 'C': 0.016275497918097435, 'gamma': 0.06132585900609881, 'epsilon': 0.00264137131286958}. Best is trial 1038 with value: -0.006133775634474926.\u001b[0m\n",
      "\u001b[32m[I 2022-07-24 18:10:33,042]\u001b[0m Trial 1368 finished with value: -0.006161744523699583 and parameters: {'kernel': 'rbf', 'C': 0.012679127986197188, 'gamma': 0.09794900829641315, 'epsilon': 0.0020276986371977937}. Best is trial 1038 with value: -0.006133775634474926.\u001b[0m\n",
      "\u001b[32m[I 2022-07-24 18:10:33,286]\u001b[0m Trial 1369 finished with value: -0.006175768423795194 and parameters: {'kernel': 'rbf', 'C': 0.014443820425634493, 'gamma': 0.07952108895810679, 'epsilon': 0.0013379718449758671}. Best is trial 1038 with value: -0.006133775634474926.\u001b[0m\n",
      "\u001b[32m[I 2022-07-24 18:10:33,529]\u001b[0m Trial 1370 finished with value: -0.0061761006671841355 and parameters: {'kernel': 'rbf', 'C': 0.02295803984506397, 'gamma': 0.05373832612041017, 'epsilon': 0.0016792157461345378}. Best is trial 1038 with value: -0.006133775634474926.\u001b[0m\n",
      "\u001b[32m[I 2022-07-24 18:10:33,763]\u001b[0m Trial 1371 finished with value: -0.006243946133858809 and parameters: {'kernel': 'rbf', 'C': 0.011179561606399355, 'gamma': 0.04231913932200692, 'epsilon': 0.0022999137584697373}. Best is trial 1038 with value: -0.006133775634474926.\u001b[0m\n",
      "\u001b[32m[I 2022-07-24 18:10:33,947]\u001b[0m Trial 1372 finished with value: -0.0061576320197881985 and parameters: {'kernel': 'rbf', 'C': 0.018531408790882383, 'gamma': 0.07227418358933822, 'epsilon': 0.0019258370490645126}. Best is trial 1038 with value: -0.006133775634474926.\u001b[0m\n",
      "\u001b[32m[I 2022-07-24 18:10:34,079]\u001b[0m Trial 1373 finished with value: -0.006277605859411328 and parameters: {'kernel': 'rbf', 'C': 0.01558363009305655, 'gamma': 0.06710475942081476, 'epsilon': 0.0035364195520504894}. Best is trial 1038 with value: -0.006133775634474926.\u001b[0m\n",
      "\u001b[32m[I 2022-07-24 18:10:34,195]\u001b[0m Trial 1374 finished with value: -0.006160989917145739 and parameters: {'kernel': 'rbf', 'C': 0.013714166818060543, 'gamma': 0.08136135358062206, 'epsilon': 0.0026191261554251717}. Best is trial 1038 with value: -0.006133775634474926.\u001b[0m\n",
      "\u001b[32m[I 2022-07-24 18:10:34,334]\u001b[0m Trial 1375 finished with value: -0.006166079081139498 and parameters: {'kernel': 'rbf', 'C': 0.02083215541304768, 'gamma': 0.0470607357555287, 'epsilon': 0.0021038605967686292}. Best is trial 1038 with value: -0.006133775634474926.\u001b[0m\n",
      "\u001b[32m[I 2022-07-24 18:10:34,498]\u001b[0m Trial 1376 finished with value: -0.006643008583498294 and parameters: {'kernel': 'rbf', 'C': 0.017115311816886875, 'gamma': 0.059094145592905614, 'epsilon': 0.005478773592809604}. Best is trial 1038 with value: -0.006133775634474926.\u001b[0m\n",
      "\u001b[32m[I 2022-07-24 18:10:34,670]\u001b[0m Trial 1377 finished with value: -0.00618514933297767 and parameters: {'kernel': 'rbf', 'C': 0.01168273765618343, 'gamma': 0.10957608952907279, 'epsilon': 0.0015955326609296036}. Best is trial 1038 with value: -0.006133775634474926.\u001b[0m\n",
      "\u001b[32m[I 2022-07-24 18:10:34,909]\u001b[0m Trial 1378 finished with value: -0.006175306252792546 and parameters: {'kernel': 'rbf', 'C': 0.015278626361951802, 'gamma': 0.08978128510888113, 'epsilon': 0.002368179743362226}. Best is trial 1038 with value: -0.006133775634474926.\u001b[0m\n",
      "\u001b[32m[I 2022-07-24 18:10:35,125]\u001b[0m Trial 1379 finished with value: -0.006160056766165667 and parameters: {'kernel': 'rbf', 'C': 0.01801412503231547, 'gamma': 0.07272006940852553, 'epsilon': 0.0018222002482718089}. Best is trial 1038 with value: -0.006133775634474926.\u001b[0m\n",
      "\u001b[32m[I 2022-07-24 18:10:35,249]\u001b[0m Trial 1380 finished with value: -0.006198300658324826 and parameters: {'kernel': 'rbf', 'C': 0.01383876111633802, 'gamma': 0.06345827231742965, 'epsilon': 0.00296841403400101}. Best is trial 1038 with value: -0.006133775634474926.\u001b[0m\n",
      "\u001b[32m[I 2022-07-24 18:10:35,378]\u001b[0m Trial 1381 finished with value: -0.006178988621217776 and parameters: {'kernel': 'rbf', 'C': 0.027292347165154895, 'gamma': 0.05564071015739905, 'epsilon': 0.0021505666451492205}. Best is trial 1038 with value: -0.006133775634474926.\u001b[0m\n",
      "\u001b[32m[I 2022-07-24 18:10:35,505]\u001b[0m Trial 1382 finished with value: -0.006178526402503533 and parameters: {'kernel': 'rbf', 'C': 0.012521198828548085, 'gamma': 0.07910034592664318, 'epsilon': 0.0015290314167191099}. Best is trial 1038 with value: -0.006133775634474926.\u001b[0m\n"
     ]
    },
    {
     "name": "stderr",
     "output_type": "stream",
     "text": [
      "\u001b[32m[I 2022-07-24 18:10:35,639]\u001b[0m Trial 1383 finished with value: -0.006239651492984004 and parameters: {'kernel': 'rbf', 'C': 0.021134233281674214, 'gamma': 0.09524094589752415, 'epsilon': 0.002521576830409169}. Best is trial 1038 with value: -0.006133775634474926.\u001b[0m\n",
      "\u001b[32m[I 2022-07-24 18:10:35,766]\u001b[0m Trial 1384 finished with value: -0.00618720886837677 and parameters: {'kernel': 'rbf', 'C': 0.01619407331999893, 'gamma': 0.048775509896679, 'epsilon': 0.0018260709378963597}. Best is trial 1038 with value: -0.006133775634474926.\u001b[0m\n",
      "\u001b[32m[I 2022-07-24 18:10:35,888]\u001b[0m Trial 1385 finished with value: -0.006163721409651035 and parameters: {'kernel': 'rbf', 'C': 0.011326140863744972, 'gamma': 0.0695620303578107, 'epsilon': 0.002053133715721686}. Best is trial 1038 with value: -0.006133775634474926.\u001b[0m\n",
      "\u001b[32m[I 2022-07-24 18:10:35,993]\u001b[0m Trial 1386 finished with value: -0.006169251988921151 and parameters: {'kernel': 'rbf', 'C': 0.01004424656918819, 'gamma': 0.08409156403674294, 'epsilon': 0.002339319036713812}. Best is trial 1038 with value: -0.006133775634474926.\u001b[0m\n",
      "\u001b[32m[I 2022-07-24 18:10:36,099]\u001b[0m Trial 1387 finished with value: -0.0061886473519914146 and parameters: {'kernel': 'rbf', 'C': 0.01847723773455513, 'gamma': 0.06385440525537438, 'epsilon': 0.0027703608916058633}. Best is trial 1038 with value: -0.006133775634474926.\u001b[0m\n",
      "\u001b[32m[I 2022-07-24 18:10:36,248]\u001b[0m Trial 1388 finished with value: -0.006205962921912539 and parameters: {'kernel': 'rbf', 'C': 0.0143946913700689, 'gamma': 0.11793805913346832, 'epsilon': 0.0016899584168112432}. Best is trial 1038 with value: -0.006133775634474926.\u001b[0m\n",
      "\u001b[32m[I 2022-07-24 18:10:36,482]\u001b[0m Trial 1389 finished with value: -0.006194298985708031 and parameters: {'kernel': 'rbf', 'C': 0.013091960889967424, 'gamma': 0.10280025191091265, 'epsilon': 0.0013497827002383444}. Best is trial 1038 with value: -0.006133775634474926.\u001b[0m\n",
      "\u001b[32m[I 2022-07-24 18:10:36,633]\u001b[0m Trial 1390 finished with value: -0.006229653469858802 and parameters: {'kernel': 'rbf', 'C': 0.023851130131790806, 'gamma': 0.05562653277587392, 'epsilon': 0.003158702601906771}. Best is trial 1038 with value: -0.006133775634474926.\u001b[0m\n",
      "\u001b[32m[I 2022-07-24 18:10:36,752]\u001b[0m Trial 1391 finished with value: -0.006140893396337194 and parameters: {'kernel': 'rbf', 'C': 0.01650512934868813, 'gamma': 0.07324278526925251, 'epsilon': 0.002050759381346605}. Best is trial 1038 with value: -0.006133775634474926.\u001b[0m\n",
      "\u001b[32m[I 2022-07-24 18:10:39,344]\u001b[0m Trial 1392 finished with value: -0.006602568994556097 and parameters: {'kernel': 'poly', 'C': 0.9922046124553625, 'gamma': 0.092547556171576, 'epsilon': 0.002478008085730965}. Best is trial 1038 with value: -0.006133775634474926.\u001b[0m\n",
      "\u001b[32m[I 2022-07-24 18:10:39,450]\u001b[0m Trial 1393 finished with value: -0.006149970823707033 and parameters: {'kernel': 'rbf', 'C': 0.0123609280993278, 'gamma': 0.07903305941811735, 'epsilon': 0.0021911567348188573}. Best is trial 1038 with value: -0.006133775634474926.\u001b[0m\n",
      "\u001b[32m[I 2022-07-24 18:10:39,546]\u001b[0m Trial 1394 finished with value: -0.0062053428596924075 and parameters: {'kernel': 'rbf', 'C': 0.010030025076782113, 'gamma': 0.09642222363202473, 'epsilon': 0.0027326585803306115}. Best is trial 1038 with value: -0.006133775634474926.\u001b[0m\n",
      "\u001b[32m[I 2022-07-24 18:10:39,679]\u001b[0m Trial 1395 finished with value: -0.006710438230560945 and parameters: {'kernel': 'rbf', 'C': 0.015356480422919233, 'gamma': 0.006863060816934798, 'epsilon': 0.0021144027433653207}. Best is trial 1038 with value: -0.006133775634474926.\u001b[0m\n",
      "\u001b[32m[I 2022-07-24 18:10:39,776]\u001b[0m Trial 1396 finished with value: -0.00615665970554615 and parameters: {'kernel': 'rbf', 'C': 0.01406996180076274, 'gamma': 0.0843670805192789, 'epsilon': 0.002400072718055115}. Best is trial 1038 with value: -0.006133775634474926.\u001b[0m\n",
      "\u001b[32m[I 2022-07-24 18:10:39,894]\u001b[0m Trial 1397 finished with value: -0.006166319503436067 and parameters: {'kernel': 'rbf', 'C': 0.011634164321835977, 'gamma': 0.07515362963992339, 'epsilon': 0.001928461283734422}. Best is trial 1038 with value: -0.006133775634474926.\u001b[0m\n",
      "\u001b[32m[I 2022-07-24 18:10:39,998]\u001b[0m Trial 1398 finished with value: -0.0063087350268252644 and parameters: {'kernel': 'rbf', 'C': 0.015228799941795507, 'gamma': 0.10398414760059593, 'epsilon': 0.0033221295298196834}. Best is trial 1038 with value: -0.006133775634474926.\u001b[0m\n",
      "\u001b[32m[I 2022-07-24 18:10:40,117]\u001b[0m Trial 1399 finished with value: -0.006166677541390001 and parameters: {'kernel': 'rbf', 'C': 0.013333074441244605, 'gamma': 0.07520477074369483, 'epsilon': 0.0027297849086153135}. Best is trial 1038 with value: -0.006133775634474926.\u001b[0m\n",
      "\u001b[32m[I 2022-07-24 18:10:40,186]\u001b[0m Trial 1400 finished with value: -0.007494126877149541 and parameters: {'kernel': 'rbf', 'C': 0.016538180003295683, 'gamma': 0.08988181395486641, 'epsilon': 0.007340485767534207}. Best is trial 1038 with value: -0.006133775634474926.\u001b[0m\n",
      "\u001b[32m[I 2022-07-24 18:10:40,287]\u001b[0m Trial 1401 finished with value: -0.006198637527479915 and parameters: {'kernel': 'rbf', 'C': 0.011237317858703005, 'gamma': 0.12191725892669543, 'epsilon': 0.002174494395914527}. Best is trial 1038 with value: -0.006133775634474926.\u001b[0m\n",
      "\u001b[32m[I 2022-07-24 18:10:40,405]\u001b[0m Trial 1402 finished with value: -0.006153610103329454 and parameters: {'kernel': 'rbf', 'C': 0.012948301495467768, 'gamma': 0.0833115376774047, 'epsilon': 0.001741155275534275}. Best is trial 1038 with value: -0.006133775634474926.\u001b[0m\n",
      "\u001b[32m[I 2022-07-24 18:10:40,500]\u001b[0m Trial 1403 finished with value: -0.006169332038603263 and parameters: {'kernel': 'rbf', 'C': 0.01689325169182323, 'gamma': 0.07449094708063439, 'epsilon': 0.002287011892690707}. Best is trial 1038 with value: -0.006133775634474926.\u001b[0m\n",
      "\u001b[32m[I 2022-07-24 18:10:40,608]\u001b[0m Trial 1404 finished with value: -0.006150996214903132 and parameters: {'kernel': 'rbf', 'C': 0.014920790967008865, 'gamma': 0.0699643271861553, 'epsilon': 0.0018969447101799043}. Best is trial 1038 with value: -0.006133775634474926.\u001b[0m\n",
      "\u001b[32m[I 2022-07-24 18:10:40,726]\u001b[0m Trial 1405 finished with value: -0.006201370771171212 and parameters: {'kernel': 'rbf', 'C': 0.012981905341183039, 'gamma': 0.10701485023089354, 'epsilon': 0.002528701485672372}. Best is trial 1038 with value: -0.006133775634474926.\u001b[0m\n",
      "\u001b[32m[I 2022-07-24 18:10:40,851]\u001b[0m Trial 1406 finished with value: -0.006186970583537592 and parameters: {'kernel': 'rbf', 'C': 0.016244091483140224, 'gamma': 0.09073894257960313, 'epsilon': 0.0015722664251674944}. Best is trial 1038 with value: -0.006133775634474926.\u001b[0m\n",
      "\u001b[32m[I 2022-07-24 18:10:40,957]\u001b[0m Trial 1407 finished with value: -0.006152335005353332 and parameters: {'kernel': 'rbf', 'C': 0.01448913432680515, 'gamma': 0.06800865902914782, 'epsilon': 0.0020570241795428703}. Best is trial 1038 with value: -0.006133775634474926.\u001b[0m\n",
      "\u001b[32m[I 2022-07-24 18:10:41,058]\u001b[0m Trial 1408 finished with value: -0.00621944505539566 and parameters: {'kernel': 'rbf', 'C': 0.010922479633177457, 'gamma': 0.08242374894670083, 'epsilon': 0.0030326880825579296}. Best is trial 1038 with value: -0.006133775634474926.\u001b[0m\n",
      "\u001b[32m[I 2022-07-24 18:10:41,173]\u001b[0m Trial 1409 finished with value: -0.00615957677144761 and parameters: {'kernel': 'rbf', 'C': 0.017661568260240366, 'gamma': 0.064854464138744, 'epsilon': 0.0017777233290437024}. Best is trial 1038 with value: -0.006133775634474926.\u001b[0m\n",
      "\u001b[32m[I 2022-07-24 18:10:41,270]\u001b[0m Trial 1410 finished with value: -0.0061718170552431005 and parameters: {'kernel': 'rbf', 'C': 0.012218266570478213, 'gamma': 0.09471350758105052, 'epsilon': 0.0024216124126143408}. Best is trial 1038 with value: -0.006133775634474926.\u001b[0m\n",
      "\u001b[32m[I 2022-07-24 18:10:41,383]\u001b[0m Trial 1411 finished with value: -0.006261848883401223 and parameters: {'kernel': 'rbf', 'C': 0.018619852324496672, 'gamma': 0.14025790402999525, 'epsilon': 0.0020307180981974757}. Best is trial 1038 with value: -0.006133775634474926.\u001b[0m\n",
      "\u001b[32m[I 2022-07-24 18:10:41,485]\u001b[0m Trial 1412 finished with value: -0.006199787878635525 and parameters: {'kernel': 'rbf', 'C': 0.010150575167761928, 'gamma': 0.0741342380003402, 'epsilon': 0.0027879818707837152}. Best is trial 1038 with value: -0.006133775634474926.\u001b[0m\n"
     ]
    },
    {
     "name": "stderr",
     "output_type": "stream",
     "text": [
      "\u001b[32m[I 2022-07-24 18:10:41,606]\u001b[0m Trial 1413 finished with value: -0.006181510214852676 and parameters: {'kernel': 'rbf', 'C': 0.014478637096684274, 'gamma': 0.08205362222353177, 'epsilon': 0.0014630177339365902}. Best is trial 1038 with value: -0.006133775634474926.\u001b[0m\n",
      "\u001b[32m[I 2022-07-24 18:10:41,716]\u001b[0m Trial 1414 finished with value: -0.006194114464786807 and parameters: {'kernel': 'rbf', 'C': 0.010036394229516818, 'gamma': 0.06311471220160773, 'epsilon': 0.002246098816346054}. Best is trial 1038 with value: -0.006133775634474926.\u001b[0m\n",
      "\u001b[32m[I 2022-07-24 18:10:41,822]\u001b[0m Trial 1415 finished with value: -0.006210840157586133 and parameters: {'kernel': 'rbf', 'C': 0.017001490698404696, 'gamma': 0.1111267291946985, 'epsilon': 0.0017942207141202753}. Best is trial 1038 with value: -0.006133775634474926.\u001b[0m\n",
      "\u001b[32m[I 2022-07-24 18:10:41,932]\u001b[0m Trial 1416 finished with value: -0.006185659111309655 and parameters: {'kernel': 'rbf', 'C': 0.0200879222461462, 'gamma': 0.07390514325473842, 'epsilon': 0.002521122446015571}. Best is trial 1038 with value: -0.006133775634474926.\u001b[0m\n",
      "\u001b[32m[I 2022-07-24 18:10:42,033]\u001b[0m Trial 1417 finished with value: -0.006157328002796736 and parameters: {'kernel': 'rbf', 'C': 0.012794538310038017, 'gamma': 0.09484323196844804, 'epsilon': 0.0020775254691558047}. Best is trial 1038 with value: -0.006133775634474926.\u001b[0m\n",
      "\u001b[32m[I 2022-07-24 18:10:42,164]\u001b[0m Trial 1418 finished with value: -0.00617479298040854 and parameters: {'kernel': 'rbf', 'C': 0.015308721939485263, 'gamma': 0.06317913518926983, 'epsilon': 0.0016378972323185768}. Best is trial 1038 with value: -0.006133775634474926.\u001b[0m\n",
      "\u001b[32m[I 2022-07-24 18:10:42,246]\u001b[0m Trial 1419 finished with value: -0.006335488932092481 and parameters: {'kernel': 'rbf', 'C': 0.010017218140675984, 'gamma': 0.083044540670113, 'epsilon': 0.003799913804052269}. Best is trial 1038 with value: -0.006133775634474926.\u001b[0m\n",
      "\u001b[32m[I 2022-07-24 18:10:42,347]\u001b[0m Trial 1420 finished with value: -0.00615809905654429 and parameters: {'kernel': 'rbf', 'C': 0.01357205826847009, 'gamma': 0.07052283251185051, 'epsilon': 0.001952619300654565}. Best is trial 1038 with value: -0.006133775634474926.\u001b[0m\n",
      "\u001b[32m[I 2022-07-24 18:10:42,525]\u001b[0m Trial 1421 finished with value: -0.006740289150004845 and parameters: {'kernel': 'poly', 'C': 0.017001280918900828, 'gamma': 0.0987233320089935, 'epsilon': 0.0022770847964003215}. Best is trial 1038 with value: -0.006133775634474926.\u001b[0m\n",
      "\u001b[32m[I 2022-07-24 18:10:42,624]\u001b[0m Trial 1422 finished with value: -0.006193470017590964 and parameters: {'kernel': 'rbf', 'C': 0.012209487362216182, 'gamma': 0.08180463470311551, 'epsilon': 0.002950745351887123}. Best is trial 1038 with value: -0.006133775634474926.\u001b[0m\n",
      "\u001b[32m[I 2022-07-24 18:10:42,690]\u001b[0m Trial 1423 finished with value: -0.010747631391847349 and parameters: {'kernel': 'rbf', 'C': 0.02017947346577703, 'gamma': 0.06374287715170007, 'epsilon': 0.012943334868564452}. Best is trial 1038 with value: -0.006133775634474926.\u001b[0m\n",
      "\u001b[32m[I 2022-07-24 18:10:42,821]\u001b[0m Trial 1424 finished with value: -0.006162341005176568 and parameters: {'kernel': 'rbf', 'C': 0.015210936729393089, 'gamma': 0.07344314028782055, 'epsilon': 0.0017714456640246074}. Best is trial 1038 with value: -0.006133775634474926.\u001b[0m\n",
      "\u001b[32m[I 2022-07-24 18:10:42,948]\u001b[0m Trial 1425 finished with value: -0.0062227042958558606 and parameters: {'kernel': 'rbf', 'C': 0.011288954906041994, 'gamma': 0.12083096876945701, 'epsilon': 0.002495586148233849}. Best is trial 1038 with value: -0.006133775634474926.\u001b[0m\n",
      "\u001b[32m[I 2022-07-24 18:10:43,053]\u001b[0m Trial 1426 finished with value: -0.006153381081439642 and parameters: {'kernel': 'rbf', 'C': 0.014036778654543723, 'gamma': 0.08836771787619022, 'epsilon': 0.002181406652878332}. Best is trial 1038 with value: -0.006133775634474926.\u001b[0m\n",
      "\u001b[32m[I 2022-07-24 18:10:43,182]\u001b[0m Trial 1427 finished with value: -0.00618029147202413 and parameters: {'kernel': 'rbf', 'C': 0.018313236267196394, 'gamma': 0.05763416449012826, 'epsilon': 0.0013654014574070164}. Best is trial 1038 with value: -0.006133775634474926.\u001b[0m\n",
      "\u001b[32m[I 2022-07-24 18:10:43,295]\u001b[0m Trial 1428 finished with value: -0.006148643999809633 and parameters: {'kernel': 'rbf', 'C': 0.01576096113295976, 'gamma': 0.06627228124325019, 'epsilon': 0.0018714221238164328}. Best is trial 1038 with value: -0.006133775634474926.\u001b[0m\n",
      "\u001b[32m[I 2022-07-24 18:10:43,426]\u001b[0m Trial 1429 finished with value: -0.006539320338299817 and parameters: {'kernel': 'rbf', 'C': 0.02049303996662605, 'gamma': 0.00969161336648602, 'epsilon': 0.0015871442812458007}. Best is trial 1038 with value: -0.006133775634474926.\u001b[0m\n",
      "\u001b[32m[I 2022-07-24 18:10:43,527]\u001b[0m Trial 1430 finished with value: -0.006162843999334175 and parameters: {'kernel': 'rbf', 'C': 0.012640287984136757, 'gamma': 0.0721883253730581, 'epsilon': 0.0024583100132348993}. Best is trial 1038 with value: -0.006133775634474926.\u001b[0m\n",
      "\u001b[32m[I 2022-07-24 18:10:43,611]\u001b[0m Trial 1431 finished with value: -0.006308054425700504 and parameters: {'kernel': 'rbf', 'C': 0.016810841572775286, 'gamma': 0.10244217507593256, 'epsilon': 0.0032300207426338204}. Best is trial 1038 with value: -0.006133775634474926.\u001b[0m\n",
      "\u001b[32m[I 2022-07-24 18:10:43,725]\u001b[0m Trial 1432 finished with value: -0.006162626648342856 and parameters: {'kernel': 'rbf', 'C': 0.011183334249185571, 'gamma': 0.08576535416473952, 'epsilon': 0.002025792322896274}. Best is trial 1038 with value: -0.006133775634474926.\u001b[0m\n",
      "\u001b[32m[I 2022-07-24 18:10:43,825]\u001b[0m Trial 1433 finished with value: -0.006172638955272928 and parameters: {'kernel': 'rbf', 'C': 0.01404911496624552, 'gamma': 0.060736369022175385, 'epsilon': 0.002703863226958755}. Best is trial 1038 with value: -0.006133775634474926.\u001b[0m\n",
      "\u001b[32m[I 2022-07-24 18:10:43,934]\u001b[0m Trial 1434 finished with value: -0.006738627061891135 and parameters: {'kernel': 'rbf', 'C': 0.02328384870195515, 'gamma': 0.004748850865579794, 'epsilon': 0.0022087103659116166}. Best is trial 1038 with value: -0.006133775634474926.\u001b[0m\n",
      "\u001b[32m[I 2022-07-24 18:10:44,060]\u001b[0m Trial 1435 finished with value: -0.006176781962252957 and parameters: {'kernel': 'rbf', 'C': 0.019111850579290986, 'gamma': 0.07947603868839212, 'epsilon': 0.0017078062892850146}. Best is trial 1038 with value: -0.006133775634474926.\u001b[0m\n",
      "\u001b[32m[I 2022-07-24 18:10:44,168]\u001b[0m Trial 1436 finished with value: -0.006236783932355987 and parameters: {'kernel': 'rbf', 'C': 0.010038329506928753, 'gamma': 0.05453356415092678, 'epsilon': 0.0020053403513746876}. Best is trial 1038 with value: -0.006133775634474926.\u001b[0m\n",
      "\u001b[32m[I 2022-07-24 18:10:44,290]\u001b[0m Trial 1437 finished with value: -0.006166523728430285 and parameters: {'kernel': 'rbf', 'C': 0.015479563973260665, 'gamma': 0.07092085954201902, 'epsilon': 0.0026939036165343497}. Best is trial 1038 with value: -0.006133775634474926.\u001b[0m\n",
      "\u001b[32m[I 2022-07-24 18:10:44,407]\u001b[0m Trial 1438 finished with value: -0.006162789108683845 and parameters: {'kernel': 'rbf', 'C': 0.012576371739937215, 'gamma': 0.09517427336289061, 'epsilon': 0.0022961921587173143}. Best is trial 1038 with value: -0.006133775634474926.\u001b[0m\n",
      "\u001b[32m[I 2022-07-24 18:10:44,563]\u001b[0m Trial 1439 finished with value: -0.006175162830623981 and parameters: {'kernel': 'rbf', 'C': 0.017400645211024135, 'gamma': 0.07896373962923384, 'epsilon': 0.001149857212984575}. Best is trial 1038 with value: -0.006133775634474926.\u001b[0m\n",
      "\u001b[32m[I 2022-07-24 18:10:44,736]\u001b[0m Trial 1440 finished with value: -0.006308341157204283 and parameters: {'kernel': 'rbf', 'C': 0.050928049157768746, 'gamma': 0.06043867689259942, 'epsilon': 0.0014721496268102143}. Best is trial 1038 with value: -0.006133775634474926.\u001b[0m\n",
      "\u001b[32m[I 2022-07-24 18:10:44,873]\u001b[0m Trial 1441 finished with value: -0.006248351712797611 and parameters: {'kernel': 'rbf', 'C': 0.013980475921563916, 'gamma': 0.1728781671079765, 'epsilon': 0.0017833825962142713}. Best is trial 1038 with value: -0.006133775634474926.\u001b[0m\n",
      "\u001b[32m[I 2022-07-24 18:10:44,996]\u001b[0m Trial 1442 finished with value: -0.006194693870756184 and parameters: {'kernel': 'rbf', 'C': 0.01585334376869543, 'gamma': 0.10964452449017362, 'epsilon': 0.0020639045626014863}. Best is trial 1038 with value: -0.006133775634474926.\u001b[0m\n"
     ]
    },
    {
     "name": "stderr",
     "output_type": "stream",
     "text": [
      "\u001b[32m[I 2022-07-24 18:10:45,099]\u001b[0m Trial 1443 finished with value: -0.006158688014280823 and parameters: {'kernel': 'rbf', 'C': 0.021394541516550677, 'gamma': 0.05101122726160346, 'epsilon': 0.002436077785679457}. Best is trial 1038 with value: -0.006133775634474926.\u001b[0m\n",
      "\u001b[32m[I 2022-07-24 18:10:45,202]\u001b[0m Trial 1444 finished with value: -0.00621354519716751 and parameters: {'kernel': 'rbf', 'C': 0.011415666572537208, 'gamma': 0.06359940802721657, 'epsilon': 0.0029427424568912054}. Best is trial 1038 with value: -0.006133775634474926.\u001b[0m\n",
      "\u001b[32m[I 2022-07-24 18:10:45,306]\u001b[0m Trial 1445 finished with value: -0.006177652205305845 and parameters: {'kernel': 'rbf', 'C': 0.01823875824887983, 'gamma': 0.08640450105530037, 'epsilon': 0.0018428288484825359}. Best is trial 1038 with value: -0.006133775634474926.\u001b[0m\n",
      "\u001b[32m[I 2022-07-24 18:10:45,420]\u001b[0m Trial 1446 finished with value: -0.006143014513092199 and parameters: {'kernel': 'rbf', 'C': 0.013801441160032905, 'gamma': 0.06937009793636319, 'epsilon': 0.0022892421047852577}. Best is trial 1038 with value: -0.006133775634474926.\u001b[0m\n",
      "\u001b[32m[I 2022-07-24 18:10:45,543]\u001b[0m Trial 1447 finished with value: -0.006732773031881763 and parameters: {'kernel': 'poly', 'C': 0.011368083818878964, 'gamma': 0.09273329274951922, 'epsilon': 0.0031828405903387173}. Best is trial 1038 with value: -0.006133775634474926.\u001b[0m\n",
      "\u001b[32m[I 2022-07-24 18:10:45,641]\u001b[0m Trial 1448 finished with value: -0.006169557529421656 and parameters: {'kernel': 'rbf', 'C': 0.012708032290396364, 'gamma': 0.07739950474818726, 'epsilon': 0.002709745543417931}. Best is trial 1038 with value: -0.006133775634474926.\u001b[0m\n",
      "\u001b[32m[I 2022-07-24 18:10:45,779]\u001b[0m Trial 1449 finished with value: -0.006189037458559953 and parameters: {'kernel': 'rbf', 'C': 0.011289706719351877, 'gamma': 0.10196243362266014, 'epsilon': 0.002506838920921843}. Best is trial 1038 with value: -0.006133775634474926.\u001b[0m\n",
      "\u001b[32m[I 2022-07-24 18:10:45,888]\u001b[0m Trial 1450 finished with value: -0.006145620212142163 and parameters: {'kernel': 'rbf', 'C': 0.013346726657988042, 'gamma': 0.07547561868610665, 'epsilon': 0.0022630540649639214}. Best is trial 1038 with value: -0.006133775634474926.\u001b[0m\n",
      "\u001b[32m[I 2022-07-24 18:10:45,980]\u001b[0m Trial 1451 finished with value: -0.006173011549318008 and parameters: {'kernel': 'rbf', 'C': 0.010117843616874286, 'gamma': 0.08583911194160504, 'epsilon': 0.002266526999076263}. Best is trial 1038 with value: -0.006133775634474926.\u001b[0m\n",
      "\u001b[32m[I 2022-07-24 18:10:46,173]\u001b[0m Trial 1452 finished with value: -0.007468056874059823 and parameters: {'kernel': 'rbf', 'C': 1.3762117939822458, 'gamma': 0.06992850253465033, 'epsilon': 0.002841782250612836}. Best is trial 1038 with value: -0.006133775634474926.\u001b[0m\n",
      "\u001b[32m[I 2022-07-24 18:10:46,272]\u001b[0m Trial 1453 finished with value: -0.006337763651171522 and parameters: {'kernel': 'rbf', 'C': 0.013270035558709113, 'gamma': 0.12756790382146685, 'epsilon': 0.0033397881998433413}. Best is trial 1038 with value: -0.006133775634474926.\u001b[0m\n",
      "\u001b[32m[I 2022-07-24 18:10:46,391]\u001b[0m Trial 1454 finished with value: -0.006155395212158476 and parameters: {'kernel': 'rbf', 'C': 0.011569854704057867, 'gamma': 0.09064542545191008, 'epsilon': 0.0018939144471036362}. Best is trial 1038 with value: -0.006133775634474926.\u001b[0m\n",
      "\u001b[32m[I 2022-07-24 18:10:46,488]\u001b[0m Trial 1455 finished with value: -0.006159703495067305 and parameters: {'kernel': 'rbf', 'C': 0.013888362737967284, 'gamma': 0.07569440541715863, 'epsilon': 0.0025560878850675586}. Best is trial 1038 with value: -0.006133775634474926.\u001b[0m\n",
      "\u001b[32m[I 2022-07-24 18:10:46,577]\u001b[0m Trial 1456 finished with value: -0.006327698353419755 and parameters: {'kernel': 'rbf', 'C': 0.012316475097808692, 'gamma': 0.06604817084171848, 'epsilon': 0.003931403862995537}. Best is trial 1038 with value: -0.006133775634474926.\u001b[0m\n",
      "\u001b[32m[I 2022-07-24 18:10:46,679]\u001b[0m Trial 1457 finished with value: -0.0061970008008037855 and parameters: {'kernel': 'rbf', 'C': 0.014447587131963069, 'gamma': 0.1117137957135358, 'epsilon': 0.0016198437040703807}. Best is trial 1038 with value: -0.006133775634474926.\u001b[0m\n",
      "\u001b[32m[I 2022-07-24 18:10:46,804]\u001b[0m Trial 1458 finished with value: -0.006161392565659234 and parameters: {'kernel': 'rbf', 'C': 0.011048572417309445, 'gamma': 0.0808185345224392, 'epsilon': 0.0020220015710937936}. Best is trial 1038 with value: -0.006133775634474926.\u001b[0m\n",
      "\u001b[32m[I 2022-07-24 18:10:46,905]\u001b[0m Trial 1459 finished with value: -0.006165551432554134 and parameters: {'kernel': 'rbf', 'C': 0.014621792859218528, 'gamma': 0.09583017037993027, 'epsilon': 0.0022290614667032304}. Best is trial 1038 with value: -0.006133775634474926.\u001b[0m\n",
      "\u001b[32m[I 2022-07-24 18:10:47,004]\u001b[0m Trial 1460 finished with value: -0.006196434429530567 and parameters: {'kernel': 'rbf', 'C': 0.010091567289356677, 'gamma': 0.069706189612573, 'epsilon': 0.0026733435903012475}. Best is trial 1038 with value: -0.006133775634474926.\u001b[0m\n",
      "\u001b[32m[I 2022-07-24 18:10:47,185]\u001b[0m Trial 1461 finished with value: -0.007034240922503603 and parameters: {'kernel': 'rbf', 'C': 0.4472105953352817, 'gamma': 0.08166059161451496, 'epsilon': 0.0020390066713704014}. Best is trial 1038 with value: -0.006133775634474926.\u001b[0m\n",
      "\u001b[32m[I 2022-07-24 18:10:47,292]\u001b[0m Trial 1462 finished with value: -0.006176265219622091 and parameters: {'kernel': 'rbf', 'C': 0.012867182259017474, 'gamma': 0.06782487463451949, 'epsilon': 0.0016743755798325263}. Best is trial 1038 with value: -0.006133775634474926.\u001b[0m\n",
      "\u001b[32m[I 2022-07-24 18:10:47,402]\u001b[0m Trial 1463 finished with value: -0.006172492574641021 and parameters: {'kernel': 'rbf', 'C': 0.015392800054728754, 'gamma': 0.09222046513053958, 'epsilon': 0.002380036365784822}. Best is trial 1038 with value: -0.006133775634474926.\u001b[0m\n",
      "\u001b[32m[I 2022-07-24 18:10:47,491]\u001b[0m Trial 1464 finished with value: -0.006183900282781942 and parameters: {'kernel': 'rbf', 'C': 0.01246568922558935, 'gamma': 0.06973231420945641, 'epsilon': 0.0030183194888858994}. Best is trial 1038 with value: -0.006133775634474926.\u001b[0m\n",
      "\u001b[32m[I 2022-07-24 18:10:47,633]\u001b[0m Trial 1465 finished with value: -0.006587089789423316 and parameters: {'kernel': 'rbf', 'C': 0.015168219139887699, 'gamma': 0.8935878476601374, 'epsilon': 0.0012826310631854647}. Best is trial 1038 with value: -0.006133775634474926.\u001b[0m\n",
      "\u001b[32m[I 2022-07-24 18:10:47,746]\u001b[0m Trial 1466 finished with value: -0.006166435765631557 and parameters: {'kernel': 'rbf', 'C': 0.013516242104818003, 'gamma': 0.07675175463336512, 'epsilon': 0.0018801479186112385}. Best is trial 1038 with value: -0.006133775634474926.\u001b[0m\n",
      "\u001b[32m[I 2022-07-24 18:10:47,858]\u001b[0m Trial 1467 finished with value: -0.006162778049775823 and parameters: {'kernel': 'rbf', 'C': 0.012024337855600597, 'gamma': 0.1053256387778348, 'epsilon': 0.00217008123687573}. Best is trial 1038 with value: -0.006133775634474926.\u001b[0m\n",
      "\u001b[32m[I 2022-07-24 18:10:47,978]\u001b[0m Trial 1468 finished with value: -0.0061657184111353625 and parameters: {'kernel': 'rbf', 'C': 0.016103364747844403, 'gamma': 0.06118607510103348, 'epsilon': 0.0016045875829336198}. Best is trial 1038 with value: -0.006133775634474926.\u001b[0m\n",
      "\u001b[32m[I 2022-07-24 18:10:48,076]\u001b[0m Trial 1469 finished with value: -0.006171660001502815 and parameters: {'kernel': 'rbf', 'C': 0.011363465423881494, 'gamma': 0.08591601163288264, 'epsilon': 0.002418271661882609}. Best is trial 1038 with value: -0.006133775634474926.\u001b[0m\n",
      "\u001b[32m[I 2022-07-24 18:10:48,199]\u001b[0m Trial 1470 finished with value: -0.0061621755687044566 and parameters: {'kernel': 'rbf', 'C': 0.01433729419661414, 'gamma': 0.0769798992828331, 'epsilon': 0.0019075825400110301}. Best is trial 1038 with value: -0.006133775634474926.\u001b[0m\n",
      "\u001b[32m[I 2022-07-24 18:10:48,284]\u001b[0m Trial 1471 finished with value: -0.006167080078978821 and parameters: {'kernel': 'rbf', 'C': 0.01648779186734274, 'gamma': 0.06121813814451979, 'epsilon': 0.002745298849715982}. Best is trial 1038 with value: -0.006133775634474926.\u001b[0m\n",
      "\u001b[32m[I 2022-07-24 18:10:48,419]\u001b[0m Trial 1472 finished with value: -0.006189810710176848 and parameters: {'kernel': 'rbf', 'C': 0.01022822234734774, 'gamma': 0.09867115208190995, 'epsilon': 0.0014750528775736515}. Best is trial 1038 with value: -0.006133775634474926.\u001b[0m\n"
     ]
    },
    {
     "name": "stderr",
     "output_type": "stream",
     "text": [
      "\u001b[32m[I 2022-07-24 18:10:48,519]\u001b[0m Trial 1473 finished with value: -0.006156136943349803 and parameters: {'kernel': 'rbf', 'C': 0.013528863327591754, 'gamma': 0.0675374420528004, 'epsilon': 0.0021278636433405074}. Best is trial 1038 with value: -0.006133775634474926.\u001b[0m\n",
      "\u001b[32m[I 2022-07-24 18:10:48,637]\u001b[0m Trial 1474 finished with value: -0.006178335357383921 and parameters: {'kernel': 'rbf', 'C': 0.016643581600614382, 'gamma': 0.08551436574340139, 'epsilon': 0.001782474200152745}. Best is trial 1038 with value: -0.006133775634474926.\u001b[0m\n",
      "\u001b[32m[I 2022-07-24 18:10:48,843]\u001b[0m Trial 1475 finished with value: -0.006732807082624565 and parameters: {'kernel': 'poly', 'C': 0.01241151589010183, 'gamma': 0.12520940136317435, 'epsilon': 0.002345605048747075}. Best is trial 1038 with value: -0.006133775634474926.\u001b[0m\n",
      "\u001b[32m[I 2022-07-24 18:10:48,946]\u001b[0m Trial 1476 finished with value: -0.006388439808562174 and parameters: {'kernel': 'rbf', 'C': 0.014475284094360245, 'gamma': 0.3908008823491969, 'epsilon': 0.0020318885100052905}. Best is trial 1038 with value: -0.006133775634474926.\u001b[0m\n",
      "\u001b[32m[I 2022-07-24 18:10:49,044]\u001b[0m Trial 1477 finished with value: -0.006291847600979172 and parameters: {'kernel': 'rbf', 'C': 0.01720622896533492, 'gamma': 0.05610905399296427, 'epsilon': 0.003644893670719329}. Best is trial 1038 with value: -0.006133775634474926.\u001b[0m\n",
      "\u001b[32m[I 2022-07-24 18:10:49,159]\u001b[0m Trial 1478 finished with value: -0.006555709497741038 and parameters: {'kernel': 'rbf', 'C': 0.011262040917926236, 'gamma': 0.012336199191986981, 'epsilon': 0.0025802633322423827}. Best is trial 1038 with value: -0.006133775634474926.\u001b[0m\n",
      "\u001b[32m[I 2022-07-24 18:10:49,245]\u001b[0m Trial 1479 finished with value: -0.006394494043321166 and parameters: {'kernel': 'rbf', 'C': 0.010019946527080896, 'gamma': 0.246492932766232, 'epsilon': 0.0030476131288073587}. Best is trial 1038 with value: -0.006133775634474926.\u001b[0m\n",
      "\u001b[32m[I 2022-07-24 18:10:49,375]\u001b[0m Trial 1480 finished with value: -0.006157625492972943 and parameters: {'kernel': 'rbf', 'C': 0.014776595529350829, 'gamma': 0.07500524234727918, 'epsilon': 0.0016878560808481393}. Best is trial 1038 with value: -0.006133775634474926.\u001b[0m\n",
      "\u001b[32m[I 2022-07-24 18:10:49,467]\u001b[0m Trial 1481 finished with value: -0.006196374025299118 and parameters: {'kernel': 'rbf', 'C': 0.010038792542432434, 'gamma': 0.06506035447479788, 'epsilon': 0.002209012022344217}. Best is trial 1038 with value: -0.006133775634474926.\u001b[0m\n",
      "\u001b[32m[I 2022-07-24 18:10:49,580]\u001b[0m Trial 1482 finished with value: -0.006182320784819222 and parameters: {'kernel': 'rbf', 'C': 0.018416935963258614, 'gamma': 0.09239564530168948, 'epsilon': 0.0019116926081858452}. Best is trial 1038 with value: -0.006133775634474926.\u001b[0m\n",
      "\u001b[32m[I 2022-07-24 18:10:49,708]\u001b[0m Trial 1483 finished with value: -0.006167729159522031 and parameters: {'kernel': 'rbf', 'C': 0.012705356070986672, 'gamma': 0.08068289234425578, 'epsilon': 0.0015079394324351454}. Best is trial 1038 with value: -0.006133775634474926.\u001b[0m\n",
      "\u001b[32m[I 2022-07-24 18:10:49,817]\u001b[0m Trial 1484 finished with value: -0.006157720470403926 and parameters: {'kernel': 'rbf', 'C': 0.015360861853923434, 'gamma': 0.0567471647987141, 'epsilon': 0.002387338094374771}. Best is trial 1038 with value: -0.006133775634474926.\u001b[0m\n",
      "\u001b[32m[I 2022-07-24 18:10:49,939]\u001b[0m Trial 1485 finished with value: -0.006190761137723645 and parameters: {'kernel': 'rbf', 'C': 0.01358347743345373, 'gamma': 0.11092135123578208, 'epsilon': 0.0019843440308837095}. Best is trial 1038 with value: -0.006133775634474926.\u001b[0m\n",
      "\u001b[32m[I 2022-07-24 18:10:50,087]\u001b[0m Trial 1486 finished with value: -0.006169514434547267 and parameters: {'kernel': 'rbf', 'C': 0.016447123931429754, 'gamma': 0.07098173819926011, 'epsilon': 0.0027549391068016726}. Best is trial 1038 with value: -0.006133775634474926.\u001b[0m\n",
      "\u001b[32m[I 2022-07-24 18:10:50,226]\u001b[0m Trial 1487 finished with value: -0.006231019452005687 and parameters: {'kernel': 'rbf', 'C': 0.039911374023247, 'gamma': 0.049825426616252465, 'epsilon': 0.0017568866458336483}. Best is trial 1038 with value: -0.006133775634474926.\u001b[0m\n",
      "\u001b[32m[I 2022-07-24 18:10:50,332]\u001b[0m Trial 1488 finished with value: -0.006155945951001381 and parameters: {'kernel': 'rbf', 'C': 0.011254793658139245, 'gamma': 0.0858449821991489, 'epsilon': 0.0021732375980141284}. Best is trial 1038 with value: -0.006133775634474926.\u001b[0m\n",
      "\u001b[32m[I 2022-07-24 18:10:50,432]\u001b[0m Trial 1489 finished with value: -0.006162036840360453 and parameters: {'kernel': 'rbf', 'C': 0.0186559773826359, 'gamma': 0.06397601091626054, 'epsilon': 0.002485821143615086}. Best is trial 1038 with value: -0.006133775634474926.\u001b[0m\n",
      "\u001b[32m[I 2022-07-24 18:10:50,579]\u001b[0m Trial 1490 finished with value: -0.00618463028196816 and parameters: {'kernel': 'rbf', 'C': 0.012838003828486495, 'gamma': 0.10020685859743927, 'epsilon': 0.0013893117288504336}. Best is trial 1038 with value: -0.006133775634474926.\u001b[0m\n",
      "\u001b[32m[I 2022-07-24 18:10:50,704]\u001b[0m Trial 1491 finished with value: -0.006140474417005524 and parameters: {'kernel': 'rbf', 'C': 0.015253132041322595, 'gamma': 0.07450135988178737, 'epsilon': 0.0019365819845583731}. Best is trial 1038 with value: -0.006133775634474926.\u001b[0m\n",
      "\u001b[32m[I 2022-07-24 18:10:50,834]\u001b[0m Trial 1492 finished with value: -0.006290636697286456 and parameters: {'kernel': 'rbf', 'C': 0.02088271641670078, 'gamma': 0.14670535883417918, 'epsilon': 0.0016225486146654055}. Best is trial 1038 with value: -0.006133775634474926.\u001b[0m\n",
      "\u001b[32m[I 2022-07-24 18:10:50,967]\u001b[0m Trial 1493 finished with value: -0.006168222450581796 and parameters: {'kernel': 'rbf', 'C': 0.017031052128795507, 'gamma': 0.082681372666981, 'epsilon': 0.001817134416778984}. Best is trial 1038 with value: -0.006133775634474926.\u001b[0m\n",
      "\u001b[32m[I 2022-07-24 18:10:51,092]\u001b[0m Trial 1494 finished with value: -0.006151453330776276 and parameters: {'kernel': 'rbf', 'C': 0.013913059065632599, 'gamma': 0.058281565948054725, 'epsilon': 0.0022172706328728313}. Best is trial 1038 with value: -0.006133775634474926.\u001b[0m\n",
      "\u001b[32m[I 2022-07-24 18:10:51,232]\u001b[0m Trial 1495 finished with value: -0.006186059425737638 and parameters: {'kernel': 'rbf', 'C': 0.011336381457152028, 'gamma': 0.0707625879561667, 'epsilon': 0.0012540203103135886}. Best is trial 1038 with value: -0.006133775634474926.\u001b[0m\n",
      "\u001b[32m[I 2022-07-24 18:10:51,336]\u001b[0m Trial 1496 finished with value: -0.006262999549071787 and parameters: {'kernel': 'rbf', 'C': 0.01907565210471183, 'gamma': 0.09564158156175513, 'epsilon': 0.002979456789074405}. Best is trial 1038 with value: -0.006133775634474926.\u001b[0m\n",
      "\u001b[32m[I 2022-07-24 18:10:51,427]\u001b[0m Trial 1497 finished with value: -0.006493946460833258 and parameters: {'kernel': 'rbf', 'C': 0.010040034491847014, 'gamma': 0.07748840989695417, 'epsilon': 0.004588556790863899}. Best is trial 1038 with value: -0.006133775634474926.\u001b[0m\n",
      "\u001b[32m[I 2022-07-24 18:10:51,547]\u001b[0m Trial 1498 finished with value: -0.006203466342142038 and parameters: {'kernel': 'rbf', 'C': 0.015783717125277787, 'gamma': 0.11057641968522751, 'epsilon': 0.0019025560377272446}. Best is trial 1038 with value: -0.006133775634474926.\u001b[0m\n",
      "\u001b[32m[I 2022-07-24 18:10:51,669]\u001b[0m Trial 1499 finished with value: -0.0061940542724940985 and parameters: {'kernel': 'rbf', 'C': 0.013045737155092028, 'gamma': 0.05296215171253975, 'epsilon': 0.001506953165772711}. Best is trial 1038 with value: -0.006133775634474926.\u001b[0m\n",
      "\u001b[32m[I 2022-07-24 18:10:51,778]\u001b[0m Trial 1500 finished with value: -0.006203866194133323 and parameters: {'kernel': 'rbf', 'C': 0.010021273026503352, 'gamma': 0.06234408566416717, 'epsilon': 0.0025230830726728215}. Best is trial 1038 with value: -0.006133775634474926.\u001b[0m\n",
      "\u001b[32m[I 2022-07-24 18:10:51,897]\u001b[0m Trial 1501 finished with value: -0.00615119989207942 and parameters: {'kernel': 'rbf', 'C': 0.015061695986001745, 'gamma': 0.08713280689927226, 'epsilon': 0.0020881179531818195}. Best is trial 1038 with value: -0.006133775634474926.\u001b[0m\n",
      "\u001b[32m[I 2022-07-24 18:10:52,080]\u001b[0m Trial 1502 finished with value: -0.006823062241588479 and parameters: {'kernel': 'poly', 'C': 0.017553529588361757, 'gamma': 0.07021919494130231, 'epsilon': 0.0017760206435867025}. Best is trial 1038 with value: -0.006133775634474926.\u001b[0m\n"
     ]
    },
    {
     "name": "stderr",
     "output_type": "stream",
     "text": [
      "\u001b[32m[I 2022-07-24 18:10:52,243]\u001b[0m Trial 1503 finished with value: -0.006540606886345689 and parameters: {'kernel': 'rbf', 'C': 0.1093570553814555, 'gamma': 0.06377331892206643, 'epsilon': 0.0023799209844325435}. Best is trial 1038 with value: -0.006133775634474926.\u001b[0m\n",
      "\u001b[32m[I 2022-07-24 18:10:52,348]\u001b[0m Trial 1504 finished with value: -0.00623802132282785 and parameters: {'kernel': 'rbf', 'C': 0.012093405240210455, 'gamma': 0.07874621048351992, 'epsilon': 0.0032013834055850655}. Best is trial 1038 with value: -0.006133775634474926.\u001b[0m\n",
      "\u001b[32m[I 2022-07-24 18:10:52,484]\u001b[0m Trial 1505 finished with value: -0.006206863722514657 and parameters: {'kernel': 'rbf', 'C': 0.019762179857667338, 'gamma': 0.09656937607961187, 'epsilon': 0.001628599849808022}. Best is trial 1038 with value: -0.006133775634474926.\u001b[0m\n",
      "\u001b[32m[I 2022-07-24 18:10:52,600]\u001b[0m Trial 1506 finished with value: -0.006189078691583486 and parameters: {'kernel': 'rbf', 'C': 0.014567848786206788, 'gamma': 0.0517174881216266, 'epsilon': 0.0020818361667956724}. Best is trial 1038 with value: -0.006133775634474926.\u001b[0m\n",
      "\u001b[32m[I 2022-07-24 18:10:52,717]\u001b[0m Trial 1507 finished with value: -0.006181750527077236 and parameters: {'kernel': 'rbf', 'C': 0.01702574331914485, 'gamma': 0.06987258488119143, 'epsilon': 0.0027224934228489675}. Best is trial 1038 with value: -0.006133775634474926.\u001b[0m\n",
      "\u001b[32m[I 2022-07-24 18:10:52,821]\u001b[0m Trial 1508 finished with value: -0.006166266396280779 and parameters: {'kernel': 'rbf', 'C': 0.022381764640646333, 'gamma': 0.05813288981829143, 'epsilon': 0.002305099702425256}. Best is trial 1038 with value: -0.006133775634474926.\u001b[0m\n",
      "\u001b[32m[I 2022-07-24 18:10:52,942]\u001b[0m Trial 1509 finished with value: -0.006155539476715089 and parameters: {'kernel': 'rbf', 'C': 0.01245834537275541, 'gamma': 0.08884193786968185, 'epsilon': 0.0018699035623590216}. Best is trial 1038 with value: -0.006133775634474926.\u001b[0m\n",
      "\u001b[32m[I 2022-07-24 18:10:53,061]\u001b[0m Trial 1510 finished with value: -0.006144528108971301 and parameters: {'kernel': 'rbf', 'C': 0.014246309074078603, 'gamma': 0.07690052371044959, 'epsilon': 0.002072991841164241}. Best is trial 1038 with value: -0.006133775634474926.\u001b[0m\n",
      "\u001b[32m[I 2022-07-24 18:10:53,199]\u001b[0m Trial 1511 finished with value: -0.00621058505959788 and parameters: {'kernel': 'rbf', 'C': 0.011321002165919395, 'gamma': 0.12695632916150285, 'epsilon': 0.0014490637655491514}. Best is trial 1038 with value: -0.006133775634474926.\u001b[0m\n",
      "\u001b[32m[I 2022-07-24 18:10:53,516]\u001b[0m Trial 1512 finished with value: -0.007896397603197646 and parameters: {'kernel': 'rbf', 'C': 2.646497043679989, 'gamma': 0.10749438494268086, 'epsilon': 0.001680266265341384}. Best is trial 1038 with value: -0.006133775634474926.\u001b[0m\n",
      "\u001b[32m[I 2022-07-24 18:10:53,658]\u001b[0m Trial 1513 finished with value: -0.0061850422832738115 and parameters: {'kernel': 'rbf', 'C': 0.012545963007989195, 'gamma': 0.09339099871027783, 'epsilon': 0.0010512705823847986}. Best is trial 1038 with value: -0.006133775634474926.\u001b[0m\n",
      "\u001b[32m[I 2022-07-24 18:10:53,762]\u001b[0m Trial 1514 finished with value: -0.006145063044541253 and parameters: {'kernel': 'rbf', 'C': 0.013224972722494878, 'gamma': 0.08460499034659467, 'epsilon': 0.001976504952019407}. Best is trial 1038 with value: -0.006133775634474926.\u001b[0m\n",
      "\u001b[32m[I 2022-07-24 18:10:53,867]\u001b[0m Trial 1515 finished with value: -0.006194901625611885 and parameters: {'kernel': 'rbf', 'C': 0.011076126373778897, 'gamma': 0.10913297583377028, 'epsilon': 0.0025439637927209247}. Best is trial 1038 with value: -0.006133775634474926.\u001b[0m\n",
      "\u001b[32m[I 2022-07-24 18:10:53,983]\u001b[0m Trial 1516 finished with value: -0.006167165207956615 and parameters: {'kernel': 'rbf', 'C': 0.013912372806355697, 'gamma': 0.07937059877995589, 'epsilon': 0.001689703464477078}. Best is trial 1038 with value: -0.006133775634474926.\u001b[0m\n",
      "\u001b[32m[I 2022-07-24 18:10:54,112]\u001b[0m Trial 1517 finished with value: -0.006151029796026213 and parameters: {'kernel': 'rbf', 'C': 0.013938978068673518, 'gamma': 0.09009147756795773, 'epsilon': 0.002115674533684915}. Best is trial 1038 with value: -0.006133775634474926.\u001b[0m\n",
      "\u001b[32m[I 2022-07-24 18:10:54,297]\u001b[0m Trial 1518 finished with value: -0.006165259968287055 and parameters: {'kernel': 'rbf', 'C': 0.011361736761360307, 'gamma': 0.10176842963991786, 'epsilon': 0.0023514221706955754}. Best is trial 1038 with value: -0.006133775634474926.\u001b[0m\n",
      "\u001b[32m[I 2022-07-24 18:10:54,483]\u001b[0m Trial 1519 finished with value: -0.00616948491706045 and parameters: {'kernel': 'rbf', 'C': 0.0129275746024657, 'gamma': 0.0765695034585626, 'epsilon': 0.0013295490294366753}. Best is trial 1038 with value: -0.006133775634474926.\u001b[0m\n",
      "\u001b[32m[I 2022-07-24 18:10:54,603]\u001b[0m Trial 1520 finished with value: -0.006156823248821312 and parameters: {'kernel': 'rbf', 'C': 0.015013708101056577, 'gamma': 0.08661359209411876, 'epsilon': 0.0018473434540913975}. Best is trial 1038 with value: -0.006133775634474926.\u001b[0m\n",
      "\u001b[32m[I 2022-07-24 18:10:54,718]\u001b[0m Trial 1521 finished with value: -0.006175569237968029 and parameters: {'kernel': 'rbf', 'C': 0.010949410906421896, 'gamma': 0.07765377578637321, 'epsilon': 0.0026889864408379005}. Best is trial 1038 with value: -0.006133775634474926.\u001b[0m\n",
      "\u001b[32m[I 2022-07-24 18:10:54,852]\u001b[0m Trial 1522 finished with value: -0.006200546760735896 and parameters: {'kernel': 'rbf', 'C': 0.01006218087339443, 'gamma': 0.11894851973559548, 'epsilon': 0.001549258157263017}. Best is trial 1038 with value: -0.006133775634474926.\u001b[0m\n",
      "\u001b[32m[I 2022-07-24 18:10:54,951]\u001b[0m Trial 1523 finished with value: -0.006297946619303767 and parameters: {'kernel': 'rbf', 'C': 0.01257553431258645, 'gamma': 0.09335031135474063, 'epsilon': 0.00342777323472837}. Best is trial 1038 with value: -0.006133775634474926.\u001b[0m\n",
      "\u001b[32m[I 2022-07-24 18:10:55,048]\u001b[0m Trial 1524 finished with value: -0.006140458526331606 and parameters: {'kernel': 'rbf', 'C': 0.014850752271113944, 'gamma': 0.07143917117960419, 'epsilon': 0.0020823434335744202}. Best is trial 1038 with value: -0.006133775634474926.\u001b[0m\n",
      "\u001b[32m[I 2022-07-24 18:10:55,152]\u001b[0m Trial 1525 finished with value: -0.006196679227452571 and parameters: {'kernel': 'rbf', 'C': 0.016507362805262323, 'gamma': 0.06918918827277824, 'epsilon': 0.002873192687267163}. Best is trial 1038 with value: -0.006133775634474926.\u001b[0m\n",
      "\u001b[32m[I 2022-07-24 18:10:55,265]\u001b[0m Trial 1526 finished with value: -0.006141015496843981 and parameters: {'kernel': 'rbf', 'C': 0.015304975205277844, 'gamma': 0.06781636320680202, 'epsilon': 0.002335130806082645}. Best is trial 1038 with value: -0.006133775634474926.\u001b[0m\n",
      "\u001b[32m[I 2022-07-24 18:10:55,369]\u001b[0m Trial 1527 finished with value: -0.006280730245672884 and parameters: {'kernel': 'rbf', 'C': 0.014867110282069078, 'gamma': 0.07628223185677947, 'epsilon': 0.003459221002527888}. Best is trial 1038 with value: -0.006133775634474926.\u001b[0m\n",
      "\u001b[32m[I 2022-07-24 18:10:55,471]\u001b[0m Trial 1528 finished with value: -0.006225105526989836 and parameters: {'kernel': 'rbf', 'C': 0.014740554501422512, 'gamma': 0.08626454489142113, 'epsilon': 0.0030177499802069552}. Best is trial 1038 with value: -0.006133775634474926.\u001b[0m\n",
      "\u001b[32m[I 2022-07-24 18:10:55,591]\u001b[0m Trial 1529 finished with value: -0.006168404736743578 and parameters: {'kernel': 'rbf', 'C': 0.015169929141752992, 'gamma': 0.06988464086048131, 'epsilon': 0.00258514974943295}. Best is trial 1038 with value: -0.006133775634474926.\u001b[0m\n",
      "\u001b[32m[I 2022-07-24 18:10:55,701]\u001b[0m Trial 1530 finished with value: -0.006209977623486928 and parameters: {'kernel': 'rbf', 'C': 0.013583273244889227, 'gamma': 0.0795032226090673, 'epsilon': 0.003015409326841305}. Best is trial 1038 with value: -0.006133775634474926.\u001b[0m\n",
      "\u001b[32m[I 2022-07-24 18:10:55,804]\u001b[0m Trial 1531 finished with value: -0.006166751867099137 and parameters: {'kernel': 'rbf', 'C': 0.011984780824276686, 'gamma': 0.10191374796480573, 'epsilon': 0.0023862186845930193}. Best is trial 1038 with value: -0.006133775634474926.\u001b[0m\n",
      "\u001b[32m[I 2022-07-24 18:10:55,933]\u001b[0m Trial 1532 finished with value: -0.006767041221814321 and parameters: {'kernel': 'poly', 'C': 0.015409352137700968, 'gamma': 0.07269416814410055, 'epsilon': 0.0026361280006364945}. Best is trial 1038 with value: -0.006133775634474926.\u001b[0m\n"
     ]
    },
    {
     "name": "stderr",
     "output_type": "stream",
     "text": [
      "\u001b[32m[I 2022-07-24 18:10:56,048]\u001b[0m Trial 1533 finished with value: -0.006153528169305437 and parameters: {'kernel': 'rbf', 'C': 0.01314796029641567, 'gamma': 0.0854343016596338, 'epsilon': 0.0023193713168167224}. Best is trial 1038 with value: -0.006133775634474926.\u001b[0m\n",
      "\u001b[32m[I 2022-07-24 18:10:56,147]\u001b[0m Trial 1534 finished with value: -0.0061891263179326035 and parameters: {'kernel': 'rbf', 'C': 0.016049873717799555, 'gamma': 0.07066318584975775, 'epsilon': 0.002772180575302462}. Best is trial 1038 with value: -0.006133775634474926.\u001b[0m\n",
      "\u001b[32m[I 2022-07-24 18:10:56,188]\u001b[0m Trial 1535 finished with value: -0.035644691371165736 and parameters: {'kernel': 'rbf', 'C': 0.01380663113519826, 'gamma': 0.10179071850883015, 'epsilon': 0.24861769081276666}. Best is trial 1038 with value: -0.006133775634474926.\u001b[0m\n",
      "\u001b[32m[I 2022-07-24 18:10:56,305]\u001b[0m Trial 1536 finished with value: -0.006148968523139678 and parameters: {'kernel': 'rbf', 'C': 0.011303041355961215, 'gamma': 0.08174897458209712, 'epsilon': 0.0022624576088310735}. Best is trial 1038 with value: -0.006133775634474926.\u001b[0m\n",
      "\u001b[32m[I 2022-07-24 18:10:56,399]\u001b[0m Trial 1537 finished with value: -0.006293085819411712 and parameters: {'kernel': 'rbf', 'C': 0.016664588176202873, 'gamma': 0.0670396055212969, 'epsilon': 0.0035752460141212686}. Best is trial 1038 with value: -0.006133775634474926.\u001b[0m\n",
      "\u001b[32m[I 2022-07-24 18:10:56,515]\u001b[0m Trial 1538 finished with value: -0.006179566547880294 and parameters: {'kernel': 'rbf', 'C': 0.01408206412812825, 'gamma': 0.0927979457864191, 'epsilon': 0.002507824166926587}. Best is trial 1038 with value: -0.006133775634474926.\u001b[0m\n",
      "\u001b[32m[I 2022-07-24 18:10:56,635]\u001b[0m Trial 1539 finished with value: -0.006191971653811773 and parameters: {'kernel': 'rbf', 'C': 0.010000474946453026, 'gamma': 0.06532537968252325, 'epsilon': 0.0022061456733163494}. Best is trial 1038 with value: -0.006133775634474926.\u001b[0m\n",
      "\u001b[32m[I 2022-07-24 18:10:56,728]\u001b[0m Trial 1540 finished with value: -0.0062295554563586404 and parameters: {'kernel': 'rbf', 'C': 0.017396335988765978, 'gamma': 0.07561830338881968, 'epsilon': 0.0031218462491544936}. Best is trial 1038 with value: -0.006133775634474926.\u001b[0m\n",
      "\u001b[32m[I 2022-07-24 18:10:56,783]\u001b[0m Trial 1541 finished with value: -0.009297354188045786 and parameters: {'kernel': 'rbf', 'C': 0.012114568969466638, 'gamma': 0.08779119727497678, 'epsilon': 0.010417883945736468}. Best is trial 1038 with value: -0.006133775634474926.\u001b[0m\n",
      "\u001b[32m[I 2022-07-24 18:10:56,895]\u001b[0m Trial 1542 finished with value: -0.00620978824890966 and parameters: {'kernel': 'rbf', 'C': 0.015363033061153691, 'gamma': 0.11590878731956478, 'epsilon': 0.002094832633397723}. Best is trial 1038 with value: -0.006133775634474926.\u001b[0m\n",
      "\u001b[32m[I 2022-07-24 18:10:57,013]\u001b[0m Trial 1543 finished with value: -0.006178985753771867 and parameters: {'kernel': 'rbf', 'C': 0.012460560517080785, 'gamma': 0.0638636980607198, 'epsilon': 0.0027106420050290853}. Best is trial 1038 with value: -0.006133775634474926.\u001b[0m\n",
      "\u001b[32m[I 2022-07-24 18:10:57,112]\u001b[0m Trial 1544 finished with value: -0.006172694745435098 and parameters: {'kernel': 'rbf', 'C': 0.018574372799761246, 'gamma': 0.07705674150133318, 'epsilon': 0.002324041993537924}. Best is trial 1038 with value: -0.006133775634474926.\u001b[0m\n",
      "\u001b[32m[I 2022-07-24 18:10:57,235]\u001b[0m Trial 1545 finished with value: -0.006172329419452641 and parameters: {'kernel': 'rbf', 'C': 0.014230305687350875, 'gamma': 0.0977424459473929, 'epsilon': 0.0018902899393130322}. Best is trial 1038 with value: -0.006133775634474926.\u001b[0m\n",
      "\u001b[32m[I 2022-07-24 18:10:57,350]\u001b[0m Trial 1546 finished with value: -0.006158177932394682 and parameters: {'kernel': 'rbf', 'C': 0.016049137870177352, 'gamma': 0.06852938602944715, 'epsilon': 0.0025092650252510514}. Best is trial 1038 with value: -0.006133775634474926.\u001b[0m\n",
      "\u001b[32m[I 2022-07-24 18:10:57,525]\u001b[0m Trial 1547 finished with value: -0.006155056507435189 and parameters: {'kernel': 'rbf', 'C': 0.01186076961259247, 'gamma': 0.08235902654748484, 'epsilon': 0.0019479872767360913}. Best is trial 1038 with value: -0.006133775634474926.\u001b[0m\n",
      "\u001b[32m[I 2022-07-24 18:10:57,673]\u001b[0m Trial 1548 finished with value: -0.006153075292795874 and parameters: {'kernel': 'rbf', 'C': 0.018574897712456566, 'gamma': 0.05910247113189969, 'epsilon': 0.0021691854366596664}. Best is trial 1038 with value: -0.006133775634474926.\u001b[0m\n",
      "\u001b[32m[I 2022-07-24 18:10:57,796]\u001b[0m Trial 1549 finished with value: -0.006198707370988953 and parameters: {'kernel': 'rbf', 'C': 0.014058659590179616, 'gamma': 0.07203724725644099, 'epsilon': 0.002952765273390222}. Best is trial 1038 with value: -0.006133775634474926.\u001b[0m\n",
      "\u001b[32m[I 2022-07-24 18:10:57,929]\u001b[0m Trial 1550 finished with value: -0.0061895373550069485 and parameters: {'kernel': 'rbf', 'C': 0.016764162053995453, 'gamma': 0.09653347336593793, 'epsilon': 0.0023972226368199445}. Best is trial 1038 with value: -0.006133775634474926.\u001b[0m\n",
      "\u001b[32m[I 2022-07-24 18:10:58,067]\u001b[0m Trial 1551 finished with value: -0.006150417272901332 and parameters: {'kernel': 'rbf', 'C': 0.013210123391485308, 'gamma': 0.0829265147549864, 'epsilon': 0.0018200022881702702}. Best is trial 1038 with value: -0.006133775634474926.\u001b[0m\n",
      "\u001b[32m[I 2022-07-24 18:10:58,184]\u001b[0m Trial 1552 finished with value: -0.0061783661985937155 and parameters: {'kernel': 'rbf', 'C': 0.011355851168381052, 'gamma': 0.06386309561601679, 'epsilon': 0.0020953480474679522}. Best is trial 1038 with value: -0.006133775634474926.\u001b[0m\n",
      "\u001b[32m[I 2022-07-24 18:10:58,270]\u001b[0m Trial 1553 finished with value: -0.006420580269222112 and parameters: {'kernel': 'rbf', 'C': 0.015120823509086221, 'gamma': 0.11198988750819983, 'epsilon': 0.0039910836917638245}. Best is trial 1038 with value: -0.006133775634474926.\u001b[0m\n",
      "\u001b[32m[I 2022-07-24 18:10:58,380]\u001b[0m Trial 1554 finished with value: -0.0061907744802094595 and parameters: {'kernel': 'rbf', 'C': 0.01950038041463547, 'gamma': 0.07536419321502144, 'epsilon': 0.0027273802974271794}. Best is trial 1038 with value: -0.006133775634474926.\u001b[0m\n",
      "\u001b[32m[I 2022-07-24 18:10:58,491]\u001b[0m Trial 1555 finished with value: -0.006173275378859047 and parameters: {'kernel': 'rbf', 'C': 0.01005701071288562, 'gamma': 0.09160953608183478, 'epsilon': 0.002178335099917945}. Best is trial 1038 with value: -0.006133775634474926.\u001b[0m\n",
      "\u001b[32m[I 2022-07-24 18:10:58,532]\u001b[0m Trial 1556 finished with value: -0.03564469137116573 and parameters: {'kernel': 'rbf', 'C': 0.01579003023078937, 'gamma': 0.05896336324302748, 'epsilon': 0.8274733383334619}. Best is trial 1038 with value: -0.006133775634474926.\u001b[0m\n",
      "\u001b[32m[I 2022-07-24 18:10:58,939]\u001b[0m Trial 1557 finished with value: -0.006875288886079001 and parameters: {'kernel': 'rbf', 'C': 0.31832158619304, 'gamma': 0.06826573516359259, 'epsilon': 0.0017389114013262503}. Best is trial 1038 with value: -0.006133775634474926.\u001b[0m\n",
      "\u001b[32m[I 2022-07-24 18:10:59,083]\u001b[0m Trial 1558 finished with value: -0.006158511101766182 and parameters: {'kernel': 'rbf', 'C': 0.01301024052178634, 'gamma': 0.08033441153734981, 'epsilon': 0.002466946675141739}. Best is trial 1038 with value: -0.006133775634474926.\u001b[0m\n",
      "\u001b[32m[I 2022-07-24 18:10:59,367]\u001b[0m Trial 1559 finished with value: -0.0067494642784724085 and parameters: {'kernel': 'poly', 'C': 0.010133329913155234, 'gamma': 0.14542049920855737, 'epsilon': 0.0031869190981321095}. Best is trial 1038 with value: -0.006133775634474926.\u001b[0m\n",
      "\u001b[32m[I 2022-07-24 18:10:59,487]\u001b[0m Trial 1560 finished with value: -0.006236022369805067 and parameters: {'kernel': 'rbf', 'C': 0.01818006856846552, 'gamma': 0.13068639154261677, 'epsilon': 0.00199162767590966}. Best is trial 1038 with value: -0.006133775634474926.\u001b[0m\n",
      "\u001b[32m[I 2022-07-24 18:10:59,616]\u001b[0m Trial 1561 finished with value: -0.006176877843987991 and parameters: {'kernel': 'rbf', 'C': 0.014513711875035844, 'gamma': 0.09917948387785785, 'epsilon': 0.0022721335745233295}. Best is trial 1038 with value: -0.006133775634474926.\u001b[0m\n",
      "\u001b[32m[I 2022-07-24 18:10:59,763]\u001b[0m Trial 1562 finished with value: -0.006176243659300483 and parameters: {'kernel': 'rbf', 'C': 0.011637251412665372, 'gamma': 0.06804727205422503, 'epsilon': 0.0017039534175684065}. Best is trial 1038 with value: -0.006133775634474926.\u001b[0m\n"
     ]
    },
    {
     "name": "stderr",
     "output_type": "stream",
     "text": [
      "\u001b[32m[I 2022-07-24 18:10:59,881]\u001b[0m Trial 1563 finished with value: -0.0061820574682328565 and parameters: {'kernel': 'rbf', 'C': 0.016438989308011253, 'gamma': 0.0567116695568174, 'epsilon': 0.0027619594082960624}. Best is trial 1038 with value: -0.006133775634474926.\u001b[0m\n",
      "\u001b[32m[I 2022-07-24 18:11:00,045]\u001b[0m Trial 1564 finished with value: -0.006190263274272776 and parameters: {'kernel': 'rbf', 'C': 0.020978471338969462, 'gamma': 0.0864570192858888, 'epsilon': 0.0019695643990129065}. Best is trial 1038 with value: -0.006133775634474926.\u001b[0m\n",
      "\u001b[32m[I 2022-07-24 18:11:00,199]\u001b[0m Trial 1565 finished with value: -0.00669363625285294 and parameters: {'kernel': 'rbf', 'C': 0.13273070997352887, 'gamma': 0.0752656943475598, 'epsilon': 0.002445857874897191}. Best is trial 1038 with value: -0.006133775634474926.\u001b[0m\n",
      "\u001b[32m[I 2022-07-24 18:11:00,336]\u001b[0m Trial 1566 finished with value: -0.0061822164508599335 and parameters: {'kernel': 'rbf', 'C': 0.013372034484812428, 'gamma': 0.06412515921329726, 'epsilon': 0.001528508082180769}. Best is trial 1038 with value: -0.006133775634474926.\u001b[0m\n",
      "\u001b[32m[I 2022-07-24 18:11:00,447]\u001b[0m Trial 1567 finished with value: -0.00620810919026057 and parameters: {'kernel': 'rbf', 'C': 0.017156867142753482, 'gamma': 0.10544225535555744, 'epsilon': 0.0020881487820434293}. Best is trial 1038 with value: -0.006133775634474926.\u001b[0m\n",
      "\u001b[32m[I 2022-07-24 18:11:00,587]\u001b[0m Trial 1568 finished with value: -0.006152798609873506 and parameters: {'kernel': 'rbf', 'C': 0.012142573787745574, 'gamma': 0.08348200767103983, 'epsilon': 0.001884775536928803}. Best is trial 1038 with value: -0.006133775634474926.\u001b[0m\n",
      "\u001b[32m[I 2022-07-24 18:11:00,697]\u001b[0m Trial 1569 finished with value: -0.006185663207356695 and parameters: {'kernel': 'rbf', 'C': 0.014562198143929783, 'gamma': 0.05608441673959732, 'epsilon': 0.0027560593466052835}. Best is trial 1038 with value: -0.006133775634474926.\u001b[0m\n",
      "\u001b[32m[I 2022-07-24 18:11:00,810]\u001b[0m Trial 1570 finished with value: -0.006171095004380733 and parameters: {'kernel': 'rbf', 'C': 0.019199338077140523, 'gamma': 0.07220619221845039, 'epsilon': 0.002246426671979941}. Best is trial 1038 with value: -0.006133775634474926.\u001b[0m\n",
      "\u001b[32m[I 2022-07-24 18:11:00,942]\u001b[0m Trial 1571 finished with value: -0.006172431182033366 and parameters: {'kernel': 'rbf', 'C': 0.01556136173331963, 'gamma': 0.09098288111479408, 'epsilon': 0.0016822115490486634}. Best is trial 1038 with value: -0.006133775634474926.\u001b[0m\n",
      "\u001b[32m[I 2022-07-24 18:11:01,049]\u001b[0m Trial 1572 finished with value: -0.006208083048315087 and parameters: {'kernel': 'rbf', 'C': 0.010073070690506617, 'gamma': 0.06164113969383101, 'epsilon': 0.0024884449982435354}. Best is trial 1038 with value: -0.006133775634474926.\u001b[0m\n",
      "\u001b[32m[I 2022-07-24 18:11:01,130]\u001b[0m Trial 1573 finished with value: -0.006260887282572579 and parameters: {'kernel': 'rbf', 'C': 0.01291320586492876, 'gamma': 0.07619298713891712, 'epsilon': 0.0034223632883848653}. Best is trial 1038 with value: -0.006133775634474926.\u001b[0m\n",
      "\u001b[32m[I 2022-07-24 18:11:01,241]\u001b[0m Trial 1574 finished with value: -0.006177122668723409 and parameters: {'kernel': 'rbf', 'C': 0.011380919571525122, 'gamma': 0.11646816962127146, 'epsilon': 0.0019392964267008102}. Best is trial 1038 with value: -0.006133775634474926.\u001b[0m\n",
      "\u001b[32m[I 2022-07-24 18:11:01,381]\u001b[0m Trial 1575 finished with value: -0.006161564312105146 and parameters: {'kernel': 'rbf', 'C': 0.018135165226845266, 'gamma': 0.049687387151269656, 'epsilon': 0.002139909057405628}. Best is trial 1038 with value: -0.006133775634474926.\u001b[0m\n",
      "\u001b[32m[I 2022-07-24 18:11:01,516]\u001b[0m Trial 1576 finished with value: -0.00619176174393152 and parameters: {'kernel': 'rbf', 'C': 0.010061167270778344, 'gamma': 0.06710895832583365, 'epsilon': 0.0014895396719556825}. Best is trial 1038 with value: -0.006133775634474926.\u001b[0m\n",
      "\u001b[32m[I 2022-07-24 18:11:01,642]\u001b[0m Trial 1577 finished with value: -0.006162063880695733 and parameters: {'kernel': 'rbf', 'C': 0.014634033671745029, 'gamma': 0.08693073700532776, 'epsilon': 0.0017761519205829331}. Best is trial 1038 with value: -0.006133775634474926.\u001b[0m\n",
      "\u001b[32m[I 2022-07-24 18:11:01,741]\u001b[0m Trial 1578 finished with value: -0.0062602454197918924 and parameters: {'kernel': 'rbf', 'C': 0.021857092811601333, 'gamma': 0.10060786445784078, 'epsilon': 0.0025337789128439723}. Best is trial 1038 with value: -0.006133775634474926.\u001b[0m\n",
      "\u001b[32m[I 2022-07-24 18:11:01,867]\u001b[0m Trial 1579 finished with value: -0.006146080351670428 and parameters: {'kernel': 'rbf', 'C': 0.016125399055804377, 'gamma': 0.07683109252836172, 'epsilon': 0.0022715158112260633}. Best is trial 1038 with value: -0.006133775634474926.\u001b[0m\n",
      "\u001b[32m[I 2022-07-24 18:11:01,977]\u001b[0m Trial 1580 finished with value: -0.0061952990961095375 and parameters: {'kernel': 'rbf', 'C': 0.013504279919022848, 'gamma': 0.05880418744641615, 'epsilon': 0.0029878219663765204}. Best is trial 1038 with value: -0.006133775634474926.\u001b[0m\n",
      "\u001b[32m[I 2022-07-24 18:11:02,086]\u001b[0m Trial 1581 finished with value: -0.006180863672447527 and parameters: {'kernel': 'rbf', 'C': 0.011330415334801947, 'gamma': 0.06729528675729589, 'epsilon': 0.00184534603839676}. Best is trial 1038 with value: -0.006133775634474926.\u001b[0m\n",
      "\u001b[32m[I 2022-07-24 18:11:02,200]\u001b[0m Trial 1582 finished with value: -0.006153759647342942 and parameters: {'kernel': 'rbf', 'C': 0.020149801168600344, 'gamma': 0.05127928709798746, 'epsilon': 0.0020791027234145477}. Best is trial 1038 with value: -0.006133775634474926.\u001b[0m\n",
      "\u001b[32m[I 2022-07-24 18:11:02,337]\u001b[0m Trial 1583 finished with value: -0.006183440765035184 and parameters: {'kernel': 'rbf', 'C': 0.016948108727115503, 'gamma': 0.0888805738536798, 'epsilon': 0.0016219844723104797}. Best is trial 1038 with value: -0.006133775634474926.\u001b[0m\n",
      "\u001b[32m[I 2022-07-24 18:11:02,445]\u001b[0m Trial 1584 finished with value: -0.006181618865791982 and parameters: {'kernel': 'rbf', 'C': 0.013365416704556293, 'gamma': 0.07427679698854292, 'epsilon': 0.002820519933790799}. Best is trial 1038 with value: -0.006133775634474926.\u001b[0m\n",
      "\u001b[32m[I 2022-07-24 18:11:02,704]\u001b[0m Trial 1585 finished with value: -0.006699294683224138 and parameters: {'kernel': 'poly', 'C': 0.08434735747047115, 'gamma': 0.0652178636913404, 'epsilon': 0.002325742872898333}. Best is trial 1038 with value: -0.006133775634474926.\u001b[0m\n",
      "\u001b[32m[I 2022-07-24 18:11:02,828]\u001b[0m Trial 1586 finished with value: -0.006153087041579192 and parameters: {'kernel': 'rbf', 'C': 0.015216079402476683, 'gamma': 0.08134298946818856, 'epsilon': 0.0019886132332748068}. Best is trial 1038 with value: -0.006133775634474926.\u001b[0m\n",
      "\u001b[32m[I 2022-07-24 18:11:02,975]\u001b[0m Trial 1587 finished with value: -0.006204743989990821 and parameters: {'kernel': 'rbf', 'C': 0.012289297931484418, 'gamma': 0.05576246668369194, 'epsilon': 0.001316336832125774}. Best is trial 1038 with value: -0.006133775634474926.\u001b[0m\n",
      "\u001b[32m[I 2022-07-24 18:11:03,081]\u001b[0m Trial 1588 finished with value: -0.006231060920126138 and parameters: {'kernel': 'rbf', 'C': 0.018636087573269327, 'gamma': 0.0982640331172186, 'epsilon': 0.002580509253301311}. Best is trial 1038 with value: -0.006133775634474926.\u001b[0m\n",
      "\u001b[32m[I 2022-07-24 18:11:03,186]\u001b[0m Trial 1589 finished with value: -0.006181012290315689 and parameters: {'kernel': 'rbf', 'C': 0.010053997076469562, 'gamma': 0.06741246586421237, 'epsilon': 0.002260290804216073}. Best is trial 1038 with value: -0.006133775634474926.\u001b[0m\n",
      "\u001b[32m[I 2022-07-24 18:11:03,301]\u001b[0m Trial 1590 finished with value: -0.006204395764052303 and parameters: {'kernel': 'rbf', 'C': 0.014266789870394956, 'gamma': 0.11778216625473736, 'epsilon': 0.0018095695593079166}. Best is trial 1038 with value: -0.006133775634474926.\u001b[0m\n",
      "\u001b[32m[I 2022-07-24 18:11:03,435]\u001b[0m Trial 1591 finished with value: -0.00617924047764296 and parameters: {'kernel': 'rbf', 'C': 0.010021203511875002, 'gamma': 0.07632651764396568, 'epsilon': 0.001627407222205039}. Best is trial 1038 with value: -0.006133775634474926.\u001b[0m\n",
      "\u001b[32m[I 2022-07-24 18:11:03,534]\u001b[0m Trial 1592 finished with value: -0.006322528690065193 and parameters: {'kernel': 'rbf', 'C': 0.025055081678516035, 'gamma': 0.09236575384443729, 'epsilon': 0.003076844200177431}. Best is trial 1038 with value: -0.006133775634474926.\u001b[0m\n"
     ]
    },
    {
     "name": "stderr",
     "output_type": "stream",
     "text": [
      "\u001b[32m[I 2022-07-24 18:11:03,645]\u001b[0m Trial 1593 finished with value: -0.0061529190776599164 and parameters: {'kernel': 'rbf', 'C': 0.016448696034210904, 'gamma': 0.05839922316356067, 'epsilon': 0.002046228841103279}. Best is trial 1038 with value: -0.006133775634474926.\u001b[0m\n",
      "\u001b[32m[I 2022-07-24 18:11:03,759]\u001b[0m Trial 1594 finished with value: -0.006156659462496679 and parameters: {'kernel': 'rbf', 'C': 0.012178391497145039, 'gamma': 0.08244478979004541, 'epsilon': 0.002535346910114643}. Best is trial 1038 with value: -0.006133775634474926.\u001b[0m\n",
      "\u001b[32m[I 2022-07-24 18:11:03,876]\u001b[0m Trial 1595 finished with value: -0.006173709475542654 and parameters: {'kernel': 'rbf', 'C': 0.02084893967185968, 'gamma': 0.045847024215759764, 'epsilon': 0.002153255372561038}. Best is trial 1038 with value: -0.006133775634474926.\u001b[0m\n",
      "\u001b[32m[I 2022-07-24 18:11:03,999]\u001b[0m Trial 1596 finished with value: -0.006158823059076068 and parameters: {'kernel': 'rbf', 'C': 0.014043183439551472, 'gamma': 0.07057050143322781, 'epsilon': 0.0018094947161368703}. Best is trial 1038 with value: -0.006133775634474926.\u001b[0m\n",
      "\u001b[32m[I 2022-07-24 18:11:04,118]\u001b[0m Trial 1597 finished with value: -0.006206282522441785 and parameters: {'kernel': 'rbf', 'C': 0.017991819047371734, 'gamma': 0.10471939333566566, 'epsilon': 0.001534087809999886}. Best is trial 1038 with value: -0.006133775634474926.\u001b[0m\n",
      "\u001b[32m[I 2022-07-24 18:11:04,226]\u001b[0m Trial 1598 finished with value: -0.0061533045806492145 and parameters: {'kernel': 'rbf', 'C': 0.01604335948616594, 'gamma': 0.06113136058799951, 'epsilon': 0.0025130206147876734}. Best is trial 1038 with value: -0.006133775634474926.\u001b[0m\n",
      "\u001b[32m[I 2022-07-24 18:11:04,365]\u001b[0m Trial 1599 finished with value: -0.006158444597684099 and parameters: {'kernel': 'rbf', 'C': 0.012073615888209458, 'gamma': 0.08289902828192718, 'epsilon': 0.001978433791728845}. Best is trial 1038 with value: -0.006133775634474926.\u001b[0m\n",
      "\u001b[32m[I 2022-07-24 18:11:04,489]\u001b[0m Trial 1600 finished with value: -0.0061883648604715985 and parameters: {'kernel': 'rbf', 'C': 0.014096468728072431, 'gamma': 0.05223395983568388, 'epsilon': 0.002885411430103005}. Best is trial 1038 with value: -0.006133775634474926.\u001b[0m\n",
      "\u001b[32m[I 2022-07-24 18:11:04,605]\u001b[0m Trial 1601 finished with value: -0.0062552475287101054 and parameters: {'kernel': 'rbf', 'C': 0.019066361048210977, 'gamma': 0.029450648508139273, 'epsilon': 0.002226069389704919}. Best is trial 1038 with value: -0.006133775634474926.\u001b[0m\n",
      "\u001b[32m[I 2022-07-24 18:11:04,648]\u001b[0m Trial 1602 finished with value: -0.034337894023790734 and parameters: {'kernel': 'rbf', 'C': 0.016646957937323462, 'gamma': 0.07171494556420831, 'epsilon': 0.04155252136995862}. Best is trial 1038 with value: -0.006133775634474926.\u001b[0m\n",
      "\u001b[32m[I 2022-07-24 18:11:04,767]\u001b[0m Trial 1603 finished with value: -0.006175996591340403 and parameters: {'kernel': 'rbf', 'C': 0.01119180864137782, 'gamma': 0.09189131731679433, 'epsilon': 0.0013964542623687126}. Best is trial 1038 with value: -0.006133775634474926.\u001b[0m\n",
      "\u001b[32m[I 2022-07-24 18:11:04,872]\u001b[0m Trial 1604 finished with value: -0.006246562141011239 and parameters: {'kernel': 'rbf', 'C': 0.01330710289325477, 'gamma': 0.06042713447982839, 'epsilon': 0.0034000479542377155}. Best is trial 1038 with value: -0.006133775634474926.\u001b[0m\n",
      "\u001b[32m[I 2022-07-24 18:11:04,993]\u001b[0m Trial 1605 finished with value: -0.0061736613986631585 and parameters: {'kernel': 'rbf', 'C': 0.010004825423406253, 'gamma': 0.07699333696272329, 'epsilon': 0.0017522812011439032}. Best is trial 1038 with value: -0.006133775634474926.\u001b[0m\n",
      "\u001b[32m[I 2022-07-24 18:11:05,113]\u001b[0m Trial 1606 finished with value: -0.006177172200783069 and parameters: {'kernel': 'rbf', 'C': 0.022117175539514866, 'gamma': 0.0673945510392782, 'epsilon': 0.002435607423529147}. Best is trial 1038 with value: -0.006133775634474926.\u001b[0m\n",
      "\u001b[32m[I 2022-07-24 18:11:05,235]\u001b[0m Trial 1607 finished with value: -0.006183092984982986 and parameters: {'kernel': 'rbf', 'C': 0.015501969934954271, 'gamma': 0.1050540360568814, 'epsilon': 0.001998383887270838}. Best is trial 1038 with value: -0.006133775634474926.\u001b[0m\n",
      "\u001b[32m[I 2022-07-24 18:11:05,366]\u001b[0m Trial 1608 finished with value: -0.00621491448216419 and parameters: {'kernel': 'rbf', 'C': 0.012487162272507462, 'gamma': 0.12996097185705813, 'epsilon': 0.001189570812849893}. Best is trial 1038 with value: -0.006133775634474926.\u001b[0m\n",
      "\u001b[32m[I 2022-07-24 18:11:05,479]\u001b[0m Trial 1609 finished with value: -0.006205137928380926 and parameters: {'kernel': 'rbf', 'C': 0.017600391968138583, 'gamma': 0.08549098103226678, 'epsilon': 0.002699300448619827}. Best is trial 1038 with value: -0.006133775634474926.\u001b[0m\n",
      "\u001b[32m[I 2022-07-24 18:11:05,647]\u001b[0m Trial 1610 finished with value: -0.006158086563752825 and parameters: {'kernel': 'rbf', 'C': 0.014733268812996423, 'gamma': 0.06330330696346335, 'epsilon': 0.0021497760551140595}. Best is trial 1038 with value: -0.006133775634474926.\u001b[0m\n",
      "\u001b[32m[I 2022-07-24 18:11:05,790]\u001b[0m Trial 1611 finished with value: -0.006176819122692051 and parameters: {'kernel': 'rbf', 'C': 0.019864916050874676, 'gamma': 0.04908588587915257, 'epsilon': 0.0016846050685390172}. Best is trial 1038 with value: -0.006133775634474926.\u001b[0m\n",
      "\u001b[32m[I 2022-07-24 18:11:15,410]\u001b[0m Trial 1612 finished with value: -0.006667151473230669 and parameters: {'kernel': 'poly', 'C': 5.160825266888265, 'gamma': 0.07726437176793467, 'epsilon': 0.0023172693614644238}. Best is trial 1038 with value: -0.006133775634474926.\u001b[0m\n",
      "\u001b[32m[I 2022-07-24 18:11:15,517]\u001b[0m Trial 1613 finished with value: -0.00614764954875792 and parameters: {'kernel': 'rbf', 'C': 0.011463609146270079, 'gamma': 0.09085056005055339, 'epsilon': 0.0019415335880360012}. Best is trial 1038 with value: -0.006133775634474926.\u001b[0m\n",
      "\u001b[32m[I 2022-07-24 18:11:15,632]\u001b[0m Trial 1614 finished with value: -0.006178562804958425 and parameters: {'kernel': 'rbf', 'C': 0.013748172709657157, 'gamma': 0.05502851483839715, 'epsilon': 0.0027160796477323063}. Best is trial 1038 with value: -0.006133775634474926.\u001b[0m\n",
      "\u001b[32m[I 2022-07-24 18:11:15,670]\u001b[0m Trial 1615 finished with value: -0.015608747588351346 and parameters: {'kernel': 'rbf', 'C': 0.016134144862428975, 'gamma': 0.07080120705403727, 'epsilon': 0.019137389646936103}. Best is trial 1038 with value: -0.006133775634474926.\u001b[0m\n",
      "\u001b[32m[I 2022-07-24 18:11:15,792]\u001b[0m Trial 1616 finished with value: -0.006165916785376809 and parameters: {'kernel': 'rbf', 'C': 0.01308081169799649, 'gamma': 0.09836009246258665, 'epsilon': 0.0023066245974286688}. Best is trial 1038 with value: -0.006133775634474926.\u001b[0m\n",
      "\u001b[32m[I 2022-07-24 18:11:15,915]\u001b[0m Trial 1617 finished with value: -0.0061717694559623205 and parameters: {'kernel': 'rbf', 'C': 0.018230894450611653, 'gamma': 0.06406927323334843, 'epsilon': 0.0015016626161655396}. Best is trial 1038 with value: -0.006133775634474926.\u001b[0m\n",
      "\u001b[32m[I 2022-07-24 18:11:16,057]\u001b[0m Trial 1618 finished with value: -0.006196250630083365 and parameters: {'kernel': 'rbf', 'C': 0.023548444394428544, 'gamma': 0.08065396502194115, 'epsilon': 0.0017932324424524708}. Best is trial 1038 with value: -0.006133775634474926.\u001b[0m\n",
      "\u001b[32m[I 2022-07-24 18:11:16,237]\u001b[0m Trial 1619 finished with value: -0.006172664161557497 and parameters: {'kernel': 'rbf', 'C': 0.015237252428852373, 'gamma': 0.054780066422099205, 'epsilon': 0.0020082950820043744}. Best is trial 1038 with value: -0.006133775634474926.\u001b[0m\n",
      "\u001b[32m[I 2022-07-24 18:11:16,331]\u001b[0m Trial 1620 finished with value: -0.006267734064723321 and parameters: {'kernel': 'rbf', 'C': 0.011110291996126015, 'gamma': 0.04341248551418391, 'epsilon': 0.0030776602391598858}. Best is trial 1038 with value: -0.006133775634474926.\u001b[0m\n",
      "\u001b[32m[I 2022-07-24 18:11:16,448]\u001b[0m Trial 1621 finished with value: -0.006234627358591383 and parameters: {'kernel': 'rbf', 'C': 0.017643524438923218, 'gamma': 0.11240267578750116, 'epsilon': 0.0023734134839801346}. Best is trial 1038 with value: -0.006133775634474926.\u001b[0m\n",
      "\u001b[32m[I 2022-07-24 18:11:16,582]\u001b[0m Trial 1622 finished with value: -0.0061867074645127395 and parameters: {'kernel': 'rbf', 'C': 0.02106350898291779, 'gamma': 0.07252873199011858, 'epsilon': 0.0016551325486900866}. Best is trial 1038 with value: -0.006133775634474926.\u001b[0m\n"
     ]
    },
    {
     "name": "stderr",
     "output_type": "stream",
     "text": [
      "\u001b[32m[I 2022-07-24 18:11:16,700]\u001b[0m Trial 1623 finished with value: -0.0061500539047037945 and parameters: {'kernel': 'rbf', 'C': 0.01404301700587985, 'gamma': 0.08537872220627853, 'epsilon': 0.002037548713942158}. Best is trial 1038 with value: -0.006133775634474926.\u001b[0m\n",
      "\u001b[32m[I 2022-07-24 18:11:16,801]\u001b[0m Trial 1624 finished with value: -0.006178494824272522 and parameters: {'kernel': 'rbf', 'C': 0.012592217428756464, 'gamma': 0.0646121055163265, 'epsilon': 0.0026359219696736134}. Best is trial 1038 with value: -0.006133775634474926.\u001b[0m\n",
      "\u001b[32m[I 2022-07-24 18:11:16,887]\u001b[0m Trial 1625 finished with value: -0.006384821468217737 and parameters: {'kernel': 'rbf', 'C': 0.015816631289843876, 'gamma': 0.0941668079008465, 'epsilon': 0.003960390980848192}. Best is trial 1038 with value: -0.006133775634474926.\u001b[0m\n",
      "\u001b[32m[I 2022-07-24 18:11:16,927]\u001b[0m Trial 1626 finished with value: -0.021508688648564252 and parameters: {'kernel': 'rbf', 'C': 0.010001199548716793, 'gamma': 0.07483206723533412, 'epsilon': 0.025362726496041425}. Best is trial 1038 with value: -0.006133775634474926.\u001b[0m\n",
      "\u001b[32m[I 2022-07-24 18:11:17,068]\u001b[0m Trial 1627 finished with value: -0.006199064313091972 and parameters: {'kernel': 'rbf', 'C': 0.031218749875645033, 'gamma': 0.055120482471142034, 'epsilon': 0.0022239217242979825}. Best is trial 1038 with value: -0.006133775634474926.\u001b[0m\n",
      "\u001b[32m[I 2022-07-24 18:11:17,203]\u001b[0m Trial 1628 finished with value: -0.006184713977776107 and parameters: {'kernel': 'rbf', 'C': 0.011202733772749277, 'gamma': 0.06391581984224741, 'epsilon': 0.0018324437381202095}. Best is trial 1038 with value: -0.006133775634474926.\u001b[0m\n",
      "\u001b[32m[I 2022-07-24 18:11:17,322]\u001b[0m Trial 1629 finished with value: -0.006199341193264031 and parameters: {'kernel': 'rbf', 'C': 0.018629858173642558, 'gamma': 0.08129180211782908, 'epsilon': 0.0014663598779784475}. Best is trial 1038 with value: -0.006133775634474926.\u001b[0m\n",
      "\u001b[32m[I 2022-07-24 18:11:17,437]\u001b[0m Trial 1630 finished with value: -0.0062030573367608905 and parameters: {'kernel': 'rbf', 'C': 0.014581691238001399, 'gamma': 0.10445772694266678, 'epsilon': 0.0024546279525499946}. Best is trial 1038 with value: -0.006133775634474926.\u001b[0m\n",
      "\u001b[32m[I 2022-07-24 18:11:17,524]\u001b[0m Trial 1631 finished with value: -0.006178255450695871 and parameters: {'kernel': 'rbf', 'C': 0.012691653071102194, 'gamma': 0.07468336741149637, 'epsilon': 0.0029021171531546947}. Best is trial 1038 with value: -0.006133775634474926.\u001b[0m\n",
      "\u001b[32m[I 2022-07-24 18:11:17,790]\u001b[0m Trial 1632 finished with value: -0.007879018566653599 and parameters: {'kernel': 'rbf', 'C': 1.6995147723417305, 'gamma': 0.08983192144783239, 'epsilon': 0.001869689892990352}. Best is trial 1038 with value: -0.006133775634474926.\u001b[0m\n",
      "\u001b[32m[I 2022-07-24 18:11:18,014]\u001b[0m Trial 1633 finished with value: -0.0070003497476496925 and parameters: {'kernel': 'rbf', 'C': 0.7921662036173106, 'gamma': 0.04843872140405732, 'epsilon': 0.0021788681308355425}. Best is trial 1038 with value: -0.006133775634474926.\u001b[0m\n",
      "\u001b[32m[I 2022-07-24 18:11:18,122]\u001b[0m Trial 1634 finished with value: -0.006258569122442632 and parameters: {'kernel': 'rbf', 'C': 0.025231761878029044, 'gamma': 0.05966662865776623, 'epsilon': 0.0032353459966361613}. Best is trial 1038 with value: -0.006133775634474926.\u001b[0m\n",
      "\u001b[32m[I 2022-07-24 18:11:18,281]\u001b[0m Trial 1635 finished with value: -0.0061656029725273105 and parameters: {'kernel': 'rbf', 'C': 0.01697558540107616, 'gamma': 0.06705206229022874, 'epsilon': 0.0016479864060204477}. Best is trial 1038 with value: -0.006133775634474926.\u001b[0m\n",
      "\u001b[32m[I 2022-07-24 18:11:18,408]\u001b[0m Trial 1636 finished with value: -0.006266418180434081 and parameters: {'kernel': 'rbf', 'C': 0.020149790631711146, 'gamma': 0.11926276926558628, 'epsilon': 0.0026165809986880813}. Best is trial 1038 with value: -0.006133775634474926.\u001b[0m\n",
      "\u001b[32m[I 2022-07-24 18:11:18,526]\u001b[0m Trial 1637 finished with value: -0.0061574605685041405 and parameters: {'kernel': 'rbf', 'C': 0.014999039100367486, 'gamma': 0.08379603433662403, 'epsilon': 0.0020118102625381047}. Best is trial 1038 with value: -0.006133775634474926.\u001b[0m\n",
      "\u001b[32m[I 2022-07-24 18:11:18,603]\u001b[0m Trial 1638 finished with value: -0.008211008756548191 and parameters: {'kernel': 'rbf', 'C': 0.012535235138608432, 'gamma': 0.07558140706176239, 'epsilon': 0.008721719330078342}. Best is trial 1038 with value: -0.006133775634474926.\u001b[0m\n",
      "\u001b[32m[I 2022-07-24 18:11:18,716]\u001b[0m Trial 1639 finished with value: -0.006160726674835742 and parameters: {'kernel': 'rbf', 'C': 0.016377951569884138, 'gamma': 0.05721942614134213, 'epsilon': 0.0023233885705504216}. Best is trial 1038 with value: -0.006133775634474926.\u001b[0m\n",
      "\u001b[32m[I 2022-07-24 18:11:18,862]\u001b[0m Trial 1640 finished with value: -0.006839666690050578 and parameters: {'kernel': 'poly', 'C': 0.0137298765036725, 'gamma': 0.06949297358097342, 'epsilon': 0.0018333272467184224}. Best is trial 1038 with value: -0.006133775634474926.\u001b[0m\n",
      "\u001b[32m[I 2022-07-24 18:11:18,971]\u001b[0m Trial 1641 finished with value: -0.006155896705548762 and parameters: {'kernel': 'rbf', 'C': 0.011357329095278455, 'gamma': 0.09902864618028122, 'epsilon': 0.0021286302865019865}. Best is trial 1038 with value: -0.006133775634474926.\u001b[0m\n",
      "\u001b[32m[I 2022-07-24 18:11:19,109]\u001b[0m Trial 1642 finished with value: -0.006224585916048204 and parameters: {'kernel': 'rbf', 'C': 0.022662993532714344, 'gamma': 0.039945239059108566, 'epsilon': 0.0013443362044737938}. Best is trial 1038 with value: -0.006133775634474926.\u001b[0m\n",
      "\u001b[32m[I 2022-07-24 18:11:19,250]\u001b[0m Trial 1643 finished with value: -0.006192795761850476 and parameters: {'kernel': 'rbf', 'C': 0.018194500376170066, 'gamma': 0.0879342698241247, 'epsilon': 0.0016158044740740593}. Best is trial 1038 with value: -0.006133775634474926.\u001b[0m\n",
      "\u001b[32m[I 2022-07-24 18:11:19,357]\u001b[0m Trial 1644 finished with value: -0.006173813790453575 and parameters: {'kernel': 'rbf', 'C': 0.014995198467996431, 'gamma': 0.05103902641798953, 'epsilon': 0.0026042353670867324}. Best is trial 1038 with value: -0.006133775634474926.\u001b[0m\n",
      "\u001b[32m[I 2022-07-24 18:11:19,481]\u001b[0m Trial 1645 finished with value: -0.0061878771615085345 and parameters: {'kernel': 'rbf', 'C': 0.010064404441583973, 'gamma': 0.0652844967343989, 'epsilon': 0.0019481837272151254}. Best is trial 1038 with value: -0.006133775634474926.\u001b[0m\n",
      "\u001b[32m[I 2022-07-24 18:11:19,574]\u001b[0m Trial 1646 finished with value: -0.006147705037609258 and parameters: {'kernel': 'rbf', 'C': 0.012929440638795156, 'gamma': 0.07611220278686306, 'epsilon': 0.002333907912754118}. Best is trial 1038 with value: -0.006133775634474926.\u001b[0m\n",
      "\u001b[32m[I 2022-07-24 18:11:19,677]\u001b[0m Trial 1647 finished with value: -0.006173758146326365 and parameters: {'kernel': 'rbf', 'C': 0.01985531442761075, 'gamma': 0.0611992611550611, 'epsilon': 0.0027823901333239648}. Best is trial 1038 with value: -0.006133775634474926.\u001b[0m\n",
      "\u001b[32m[I 2022-07-24 18:11:19,799]\u001b[0m Trial 1648 finished with value: -0.006168332802485808 and parameters: {'kernel': 'rbf', 'C': 0.015467038697381077, 'gamma': 0.09275621630336911, 'epsilon': 0.0017609448948242327}. Best is trial 1038 with value: -0.006133775634474926.\u001b[0m\n",
      "\u001b[32m[I 2022-07-24 18:11:19,916]\u001b[0m Trial 1649 finished with value: -0.006162526800905436 and parameters: {'kernel': 'rbf', 'C': 0.011294757140002208, 'gamma': 0.07146725912075166, 'epsilon': 0.0021336579790797246}. Best is trial 1038 with value: -0.006133775634474926.\u001b[0m\n",
      "\u001b[32m[I 2022-07-24 18:11:20,010]\u001b[0m Trial 1650 finished with value: -0.006354778597965516 and parameters: {'kernel': 'rbf', 'C': 0.017061133931876794, 'gamma': 0.11175883972555059, 'epsilon': 0.0035037250448355225}. Best is trial 1038 with value: -0.006133775634474926.\u001b[0m\n",
      "\u001b[32m[I 2022-07-24 18:11:20,117]\u001b[0m Trial 1651 finished with value: -0.006163402844375866 and parameters: {'kernel': 'rbf', 'C': 0.010012876510094953, 'gamma': 0.07986325831880903, 'epsilon': 0.002403169790254193}. Best is trial 1038 with value: -0.006133775634474926.\u001b[0m\n",
      "\u001b[32m[I 2022-07-24 18:11:20,177]\u001b[0m Trial 1652 finished with value: -0.025420397596769506 and parameters: {'kernel': 'rbf', 'C': 0.15563336331245842, 'gamma': 0.05363217229502285, 'epsilon': 0.03107610819680187}. Best is trial 1038 with value: -0.006133775634474926.\u001b[0m\n"
     ]
    },
    {
     "name": "stderr",
     "output_type": "stream",
     "text": [
      "\u001b[32m[I 2022-07-24 18:11:20,300]\u001b[0m Trial 1653 finished with value: -0.00618174348521209 and parameters: {'kernel': 'rbf', 'C': 0.014150911576468353, 'gamma': 0.06135694102530784, 'epsilon': 0.0014922717977707816}. Best is trial 1038 with value: -0.006133775634474926.\u001b[0m\n",
      "\u001b[32m[I 2022-07-24 18:11:20,430]\u001b[0m Trial 1654 finished with value: -0.006225807941741444 and parameters: {'kernel': 'rbf', 'C': 0.013112694627441239, 'gamma': 0.04568258742965027, 'epsilon': 0.0018788968198014233}. Best is trial 1038 with value: -0.006133775634474926.\u001b[0m\n",
      "\u001b[32m[I 2022-07-24 18:11:20,519]\u001b[0m Trial 1655 finished with value: -0.006249317707636734 and parameters: {'kernel': 'rbf', 'C': 0.02054110285335421, 'gamma': 0.08387532334549855, 'epsilon': 0.0029372143609852773}. Best is trial 1038 with value: -0.006133775634474926.\u001b[0m\n",
      "\u001b[32m[I 2022-07-24 18:11:20,663]\u001b[0m Trial 1656 finished with value: -0.006188556554677459 and parameters: {'kernel': 'rbf', 'C': 0.01698921780375764, 'gamma': 0.07127422513416112, 'epsilon': 0.0010033680713665016}. Best is trial 1038 with value: -0.006133775634474926.\u001b[0m\n",
      "\u001b[32m[I 2022-07-24 18:11:20,788]\u001b[0m Trial 1657 finished with value: -0.006154463085112496 and parameters: {'kernel': 'rbf', 'C': 0.012284887010704237, 'gamma': 0.10022462246549878, 'epsilon': 0.0020974182465760905}. Best is trial 1038 with value: -0.006133775634474926.\u001b[0m\n",
      "\u001b[32m[I 2022-07-24 18:11:20,911]\u001b[0m Trial 1658 finished with value: -0.0061710798377702355 and parameters: {'kernel': 'rbf', 'C': 0.015488196948230644, 'gamma': 0.06732801290532475, 'epsilon': 0.0016539895089576022}. Best is trial 1038 with value: -0.006133775634474926.\u001b[0m\n",
      "\u001b[32m[I 2022-07-24 18:11:21,013]\u001b[0m Trial 1659 finished with value: -0.006350352977436759 and parameters: {'kernel': 'rbf', 'C': 0.026971838236243342, 'gamma': 0.12984658673015526, 'epsilon': 0.0024350467573568835}. Best is trial 1038 with value: -0.006133775634474926.\u001b[0m\n",
      "\u001b[32m[I 2022-07-24 18:11:21,160]\u001b[0m Trial 1660 finished with value: -0.006561703643249807 and parameters: {'kernel': 'rbf', 'C': 0.018425681894950856, 'gamma': 0.6251237328042746, 'epsilon': 0.002020357875679233}. Best is trial 1038 with value: -0.006133775634474926.\u001b[0m\n",
      "\u001b[32m[I 2022-07-24 18:11:21,266]\u001b[0m Trial 1661 finished with value: -0.006184516095925662 and parameters: {'kernel': 'rbf', 'C': 0.01399259557660907, 'gamma': 0.08929655997183054, 'epsilon': 0.0026057434213555704}. Best is trial 1038 with value: -0.006133775634474926.\u001b[0m\n",
      "\u001b[32m[I 2022-07-24 18:11:21,382]\u001b[0m Trial 1662 finished with value: -0.0061997760984045 and parameters: {'kernel': 'rbf', 'C': 0.011140978182060092, 'gamma': 0.05745003232256485, 'epsilon': 0.0017858667524359006}. Best is trial 1038 with value: -0.006133775634474926.\u001b[0m\n",
      "\u001b[32m[I 2022-07-24 18:11:21,532]\u001b[0m Trial 1663 finished with value: -0.006182938368660921 and parameters: {'kernel': 'rbf', 'C': 0.016803846385112498, 'gamma': 0.07787035452314316, 'epsilon': 0.001207617313687698}. Best is trial 1038 with value: -0.006133775634474926.\u001b[0m\n",
      "\u001b[32m[I 2022-07-24 18:11:21,649]\u001b[0m Trial 1664 finished with value: -0.00632153126245858 and parameters: {'kernel': 'rbf', 'C': 0.020850635652160072, 'gamma': 0.01866398627874685, 'epsilon': 0.0021927076983267357}. Best is trial 1038 with value: -0.006133775634474926.\u001b[0m\n",
      "\u001b[32m[I 2022-07-24 18:11:21,750]\u001b[0m Trial 1665 finished with value: -0.00619349459552149 and parameters: {'kernel': 'rbf', 'C': 0.014145058396411959, 'gamma': 0.06358937596815276, 'epsilon': 0.0029803663728780955}. Best is trial 1038 with value: -0.006133775634474926.\u001b[0m\n",
      "\u001b[32m[I 2022-07-24 18:11:21,894]\u001b[0m Trial 1666 finished with value: -0.006179959522070754 and parameters: {'kernel': 'rbf', 'C': 0.012339192661599092, 'gamma': 0.09391615116632007, 'epsilon': 0.0014939085595936452}. Best is trial 1038 with value: -0.006133775634474926.\u001b[0m\n",
      "\u001b[32m[I 2022-07-24 18:11:34,200]\u001b[0m Trial 1667 finished with value: -0.006645138985780948 and parameters: {'kernel': 'poly', 'C': 7.772944762373075, 'gamma': 0.07528180619786379, 'epsilon': 0.0023399474498425146}. Best is trial 1038 with value: -0.006133775634474926.\u001b[0m\n",
      "\u001b[32m[I 2022-07-24 18:11:34,331]\u001b[0m Trial 1668 finished with value: -0.006163709477665182 and parameters: {'kernel': 'rbf', 'C': 0.024177025770593982, 'gamma': 0.05157899306743075, 'epsilon': 0.0020049772544739196}. Best is trial 1038 with value: -0.006133775634474926.\u001b[0m\n",
      "\u001b[32m[I 2022-07-24 18:11:34,474]\u001b[0m Trial 1669 finished with value: -0.006200456454696714 and parameters: {'kernel': 'rbf', 'C': 0.015723528589817973, 'gamma': 0.10643632809314776, 'epsilon': 0.0017366213120886145}. Best is trial 1038 with value: -0.006133775634474926.\u001b[0m\n",
      "\u001b[32m[I 2022-07-24 18:11:34,612]\u001b[0m Trial 1670 finished with value: -0.006204995137997434 and parameters: {'kernel': 'rbf', 'C': 0.018495479649700303, 'gamma': 0.08315918123377486, 'epsilon': 0.0026396654396948598}. Best is trial 1038 with value: -0.006133775634474926.\u001b[0m\n",
      "\u001b[32m[I 2022-07-24 18:11:34,744]\u001b[0m Trial 1671 finished with value: -0.006161410118741104 and parameters: {'kernel': 'rbf', 'C': 0.011339353107580333, 'gamma': 0.06835406550049539, 'epsilon': 0.002151466008880338}. Best is trial 1038 with value: -0.006133775634474926.\u001b[0m\n",
      "\u001b[32m[I 2022-07-24 18:11:34,963]\u001b[0m Trial 1672 finished with value: -0.006847176526352154 and parameters: {'kernel': 'rbf', 'C': 0.3768787307781629, 'gamma': 0.05850628037624838, 'epsilon': 0.0018691157027039738}. Best is trial 1038 with value: -0.006133775634474926.\u001b[0m\n",
      "\u001b[32m[I 2022-07-24 18:11:35,067]\u001b[0m Trial 1673 finished with value: -0.006268898744648948 and parameters: {'kernel': 'rbf', 'C': 0.01343343917506331, 'gamma': 0.08536683229938846, 'epsilon': 0.003342493768450998}. Best is trial 1038 with value: -0.006133775634474926.\u001b[0m\n",
      "\u001b[32m[I 2022-07-24 18:11:35,183]\u001b[0m Trial 1674 finished with value: -0.006159427328463364 and parameters: {'kernel': 'rbf', 'C': 0.01571683860286143, 'gamma': 0.0710617295767362, 'epsilon': 0.0023508599497762362}. Best is trial 1038 with value: -0.006133775634474926.\u001b[0m\n",
      "\u001b[32m[I 2022-07-24 18:11:35,315]\u001b[0m Trial 1675 finished with value: -0.006182250861937525 and parameters: {'kernel': 'rbf', 'C': 0.019015173542071908, 'gamma': 0.04808962242364169, 'epsilon': 0.0016349641039640206}. Best is trial 1038 with value: -0.006133775634474926.\u001b[0m\n",
      "\u001b[32m[I 2022-07-24 18:11:35,458]\u001b[0m Trial 1676 finished with value: -0.006284170850273284 and parameters: {'kernel': 'rbf', 'C': 0.010031567430623004, 'gamma': 0.16054516469058183, 'epsilon': 0.002777958063674914}. Best is trial 1038 with value: -0.006133775634474926.\u001b[0m\n",
      "\u001b[32m[I 2022-07-24 18:11:35,647]\u001b[0m Trial 1677 finished with value: -0.0061724249412430906 and parameters: {'kernel': 'rbf', 'C': 0.012420920728487609, 'gamma': 0.06165162327786369, 'epsilon': 0.0019867628135952914}. Best is trial 1038 with value: -0.006133775634474926.\u001b[0m\n",
      "\u001b[32m[I 2022-07-24 18:11:35,782]\u001b[0m Trial 1678 finished with value: -0.006184419532304934 and parameters: {'kernel': 'rbf', 'C': 0.014958169184956247, 'gamma': 0.0976543047116564, 'epsilon': 0.002342878891134623}. Best is trial 1038 with value: -0.006133775634474926.\u001b[0m\n",
      "\u001b[32m[I 2022-07-24 18:11:35,962]\u001b[0m Trial 1679 finished with value: -0.0062218000299263275 and parameters: {'kernel': 'rbf', 'C': 0.02244838433306492, 'gamma': 0.07936148168072296, 'epsilon': 0.001313599744731923}. Best is trial 1038 with value: -0.006133775634474926.\u001b[0m\n",
      "\u001b[32m[I 2022-07-24 18:11:36,081]\u001b[0m Trial 1680 finished with value: -0.006162278495481563 and parameters: {'kernel': 'rbf', 'C': 0.01712266293457649, 'gamma': 0.07009011787849528, 'epsilon': 0.0018162281444217708}. Best is trial 1038 with value: -0.006133775634474926.\u001b[0m\n",
      "\u001b[32m[I 2022-07-24 18:11:36,192]\u001b[0m Trial 1681 finished with value: -0.006189491038789858 and parameters: {'kernel': 'rbf', 'C': 0.01371159848275147, 'gamma': 0.11269159986621465, 'epsilon': 0.002159886269846346}. Best is trial 1038 with value: -0.006133775634474926.\u001b[0m\n",
      "\u001b[32m[I 2022-07-24 18:11:36,299]\u001b[0m Trial 1682 finished with value: -0.006377935811372325 and parameters: {'kernel': 'rbf', 'C': 0.011187808589691973, 'gamma': 0.3163000680237336, 'epsilon': 0.0025768986663798187}. Best is trial 1038 with value: -0.006133775634474926.\u001b[0m\n"
     ]
    },
    {
     "name": "stderr",
     "output_type": "stream",
     "text": [
      "\u001b[32m[I 2022-07-24 18:11:36,435]\u001b[0m Trial 1683 finished with value: -0.006189356014655377 and parameters: {'kernel': 'rbf', 'C': 0.016699120021564744, 'gamma': 0.052642920736801914, 'epsilon': 0.001542207260180753}. Best is trial 1038 with value: -0.006133775634474926.\u001b[0m\n",
      "\u001b[32m[I 2022-07-24 18:11:36,537]\u001b[0m Trial 1684 finished with value: -0.006173721252790127 and parameters: {'kernel': 'rbf', 'C': 0.01004014729271838, 'gamma': 0.08905532951229009, 'epsilon': 0.0019677720329131275}. Best is trial 1038 with value: -0.006133775634474926.\u001b[0m\n",
      "\u001b[32m[I 2022-07-24 18:11:36,651]\u001b[0m Trial 1685 finished with value: -0.0062089694863846365 and parameters: {'kernel': 'rbf', 'C': 0.014223684575978165, 'gamma': 0.06041912415390416, 'epsilon': 0.0031596687926563976}. Best is trial 1038 with value: -0.006133775634474926.\u001b[0m\n",
      "\u001b[32m[I 2022-07-24 18:11:36,802]\u001b[0m Trial 1686 finished with value: -0.006230008800454959 and parameters: {'kernel': 'rbf', 'C': 0.019395919189517177, 'gamma': 0.03436843779145268, 'epsilon': 0.0023258137316468654}. Best is trial 1038 with value: -0.006133775634474926.\u001b[0m\n",
      "\u001b[32m[I 2022-07-24 18:11:36,911]\u001b[0m Trial 1687 finished with value: -0.006163820002382165 and parameters: {'kernel': 'rbf', 'C': 0.012053527909677331, 'gamma': 0.07474016657800371, 'epsilon': 0.0017264707881115705}. Best is trial 1038 with value: -0.006133775634474926.\u001b[0m\n",
      "\u001b[32m[I 2022-07-24 18:11:37,023]\u001b[0m Trial 1688 finished with value: -0.006186636147844607 and parameters: {'kernel': 'rbf', 'C': 0.014999729121601947, 'gamma': 0.08206757709236122, 'epsilon': 0.0028126976772716683}. Best is trial 1038 with value: -0.006133775634474926.\u001b[0m\n",
      "\u001b[32m[I 2022-07-24 18:11:37,131]\u001b[0m Trial 1689 finished with value: -0.006233163978700618 and parameters: {'kernel': 'rbf', 'C': 0.012809262801230572, 'gamma': 0.04322896817397782, 'epsilon': 0.0020920416124167998}. Best is trial 1038 with value: -0.006133775634474926.\u001b[0m\n",
      "\u001b[32m[I 2022-07-24 18:11:37,249]\u001b[0m Trial 1690 finished with value: -0.0061719455155705505 and parameters: {'kernel': 'rbf', 'C': 0.02127500242325249, 'gamma': 0.06529275308060337, 'epsilon': 0.002547319336544386}. Best is trial 1038 with value: -0.006133775634474926.\u001b[0m\n",
      "\u001b[32m[I 2022-07-24 18:11:37,389]\u001b[0m Trial 1691 finished with value: -0.0061910795677874 and parameters: {'kernel': 'rbf', 'C': 0.017463124006991224, 'gamma': 0.09280919859609442, 'epsilon': 0.001951723335226348}. Best is trial 1038 with value: -0.006133775634474926.\u001b[0m\n",
      "\u001b[32m[I 2022-07-24 18:11:37,507]\u001b[0m Trial 1692 finished with value: -0.006187082727750061 and parameters: {'kernel': 'rbf', 'C': 0.010011725910200425, 'gamma': 0.1035629841200329, 'epsilon': 0.0014217798780672038}. Best is trial 1038 with value: -0.006133775634474926.\u001b[0m\n",
      "\u001b[32m[I 2022-07-24 18:11:37,656]\u001b[0m Trial 1693 finished with value: -0.006159508336462008 and parameters: {'kernel': 'rbf', 'C': 0.015247025384699412, 'gamma': 0.05759717770586231, 'epsilon': 0.002289771052708368}. Best is trial 1038 with value: -0.006133775634474926.\u001b[0m\n",
      "\u001b[32m[I 2022-07-24 18:11:37,848]\u001b[0m Trial 1694 finished with value: -0.006875126512692148 and parameters: {'kernel': 'poly', 'C': 0.01337207427168683, 'gamma': 0.069403491828442, 'epsilon': 0.001655482477432724}. Best is trial 1038 with value: -0.006133775634474926.\u001b[0m\n",
      "\u001b[32m[I 2022-07-24 18:11:38,010]\u001b[0m Trial 1695 finished with value: -0.006171076589137425 and parameters: {'kernel': 'rbf', 'C': 0.018490773639313535, 'gamma': 0.0798146070480505, 'epsilon': 0.0019092640446561138}. Best is trial 1038 with value: -0.006133775634474926.\u001b[0m\n",
      "\u001b[32m[I 2022-07-24 18:11:38,143]\u001b[0m Trial 1696 finished with value: -0.006215852602169623 and parameters: {'kernel': 'rbf', 'C': 0.011487480949534518, 'gamma': 0.12100881505522058, 'epsilon': 0.0025294693360836742}. Best is trial 1038 with value: -0.006133775634474926.\u001b[0m\n",
      "\u001b[32m[I 2022-07-24 18:11:38,275]\u001b[0m Trial 1697 finished with value: -0.0061530155348282324 and parameters: {'kernel': 'rbf', 'C': 0.016108501808444767, 'gamma': 0.05496640562700635, 'epsilon': 0.002168170721412655}. Best is trial 1038 with value: -0.006133775634474926.\u001b[0m\n",
      "\u001b[32m[I 2022-07-24 18:11:38,386]\u001b[0m Trial 1698 finished with value: -0.006324573007998412 and parameters: {'kernel': 'rbf', 'C': 0.02270433520598636, 'gamma': 0.07051664039445722, 'epsilon': 0.003684055141865823}. Best is trial 1038 with value: -0.006133775634474926.\u001b[0m\n",
      "\u001b[32m[I 2022-07-24 18:11:38,567]\u001b[0m Trial 1699 finished with value: -0.006205940876926897 and parameters: {'kernel': 'rbf', 'C': 0.013720456443621073, 'gamma': 0.09315686987888325, 'epsilon': 0.0028281866600184144}. Best is trial 1038 with value: -0.006133775634474926.\u001b[0m\n",
      "\u001b[32m[I 2022-07-24 18:11:38,698]\u001b[0m Trial 1700 finished with value: -0.006278205940940332 and parameters: {'kernel': 'rbf', 'C': 0.01679945409950306, 'gamma': 0.21146402582913562, 'epsilon': 0.0017023676374530753}. Best is trial 1038 with value: -0.006133775634474926.\u001b[0m\n",
      "\u001b[32m[I 2022-07-24 18:11:38,827]\u001b[0m Trial 1701 finished with value: -0.006470898316867396 and parameters: {'kernel': 'rbf', 'C': 0.06562122657943031, 'gamma': 0.08055185456592986, 'epsilon': 0.0021367143572212886}. Best is trial 1038 with value: -0.006133775634474926.\u001b[0m\n",
      "\u001b[32m[I 2022-07-24 18:11:38,943]\u001b[0m Trial 1702 finished with value: -0.006172094784836042 and parameters: {'kernel': 'rbf', 'C': 0.012565262259750128, 'gamma': 0.06403173983994759, 'epsilon': 0.0018200385014439438}. Best is trial 1038 with value: -0.006133775634474926.\u001b[0m\n",
      "\u001b[32m[I 2022-07-24 18:11:39,062]\u001b[0m Trial 1703 finished with value: -0.006163192442334184 and parameters: {'kernel': 'rbf', 'C': 0.020513712501062657, 'gamma': 0.05054576577040285, 'epsilon': 0.0024683142113159176}. Best is trial 1038 with value: -0.006133775634474926.\u001b[0m\n",
      "\u001b[32m[I 2022-07-24 18:11:39,150]\u001b[0m Trial 1704 finished with value: -0.007018702409934544 and parameters: {'kernel': 'rbf', 'C': 0.014749328544555629, 'gamma': 0.07481550916931982, 'epsilon': 0.006407034193004317}. Best is trial 1038 with value: -0.006133775634474926.\u001b[0m\n",
      "\u001b[32m[I 2022-07-24 18:11:39,284]\u001b[0m Trial 1705 finished with value: -0.006180716421329397 and parameters: {'kernel': 'rbf', 'C': 0.01150773951177192, 'gamma': 0.1047172409384094, 'epsilon': 0.0014353564759021868}. Best is trial 1038 with value: -0.006133775634474926.\u001b[0m\n",
      "\u001b[32m[I 2022-07-24 18:11:39,416]\u001b[0m Trial 1706 finished with value: -0.006239292277686651 and parameters: {'kernel': 'rbf', 'C': 0.02729503567970943, 'gamma': 0.08779159554569504, 'epsilon': 0.0020915928744891735}. Best is trial 1038 with value: -0.006133775634474926.\u001b[0m\n",
      "\u001b[32m[I 2022-07-24 18:11:39,554]\u001b[0m Trial 1707 finished with value: -0.006221879104060468 and parameters: {'kernel': 'rbf', 'C': 0.018486803654079873, 'gamma': 0.06290812039281955, 'epsilon': 0.0032000335830287487}. Best is trial 1038 with value: -0.006133775634474926.\u001b[0m\n",
      "\u001b[32m[I 2022-07-24 18:11:39,683]\u001b[0m Trial 1708 finished with value: -0.006163568030095874 and parameters: {'kernel': 'rbf', 'C': 0.01424550908489905, 'gamma': 0.07330500065458342, 'epsilon': 0.001872086015932345}. Best is trial 1038 with value: -0.006133775634474926.\u001b[0m\n",
      "\u001b[32m[I 2022-07-24 18:11:39,818]\u001b[0m Trial 1709 finished with value: -0.006256060055044162 and parameters: {'kernel': 'rbf', 'C': 0.01590984185424315, 'gamma': 0.13610467707806795, 'epsilon': 0.0025668416640350898}. Best is trial 1038 with value: -0.006133775634474926.\u001b[0m\n",
      "\u001b[32m[I 2022-07-24 18:11:39,957]\u001b[0m Trial 1710 finished with value: -0.006277895270009122 and parameters: {'kernel': 'rbf', 'C': 0.010982528497819744, 'gamma': 0.038782947396793506, 'epsilon': 0.0016001356318649693}. Best is trial 1038 with value: -0.006133775634474926.\u001b[0m\n",
      "\u001b[32m[I 2022-07-24 18:11:40,063]\u001b[0m Trial 1711 finished with value: -0.00616718499253881 and parameters: {'kernel': 'rbf', 'C': 0.012617387170349128, 'gamma': 0.05818089766973809, 'epsilon': 0.0023770325284948437}. Best is trial 1038 with value: -0.006133775634474926.\u001b[0m\n",
      "\u001b[32m[I 2022-07-24 18:11:40,165]\u001b[0m Trial 1712 finished with value: -0.006210446621360739 and parameters: {'kernel': 'rbf', 'C': 0.0176910078535943, 'gamma': 0.0839987889278304, 'epsilon': 0.002861269727181536}. Best is trial 1038 with value: -0.006133775634474926.\u001b[0m\n"
     ]
    },
    {
     "name": "stderr",
     "output_type": "stream",
     "text": [
      "\u001b[32m[I 2022-07-24 18:11:40,269]\u001b[0m Trial 1713 finished with value: -0.006155836735466005 and parameters: {'kernel': 'rbf', 'C': 0.013990994512134902, 'gamma': 0.06624171814554755, 'epsilon': 0.002126602344305621}. Best is trial 1038 with value: -0.006133775634474926.\u001b[0m\n",
      "\u001b[32m[I 2022-07-24 18:11:40,406]\u001b[0m Trial 1714 finished with value: -0.006227661015225 and parameters: {'kernel': 'rbf', 'C': 0.02374899481279544, 'gamma': 0.0987771417944194, 'epsilon': 0.0018843025504629814}. Best is trial 1038 with value: -0.006133775634474926.\u001b[0m\n",
      "\u001b[32m[I 2022-07-24 18:11:40,524]\u001b[0m Trial 1715 finished with value: -0.0062857738740227835 and parameters: {'kernel': 'rbf', 'C': 0.020253572025448984, 'gamma': 0.02338665088381868, 'epsilon': 0.002241853684092761}. Best is trial 1038 with value: -0.006133775634474926.\u001b[0m\n",
      "\u001b[32m[I 2022-07-24 18:11:40,652]\u001b[0m Trial 1716 finished with value: -0.006212771710765594 and parameters: {'kernel': 'rbf', 'C': 0.015914069839912018, 'gamma': 0.04545105430316921, 'epsilon': 0.0016126926869267702}. Best is trial 1038 with value: -0.006133775634474926.\u001b[0m\n",
      "\u001b[32m[I 2022-07-24 18:11:40,780]\u001b[0m Trial 1717 finished with value: -0.006158477485942421 and parameters: {'kernel': 'rbf', 'C': 0.012482363634742422, 'gamma': 0.07608378918416095, 'epsilon': 0.0019129867208632918}. Best is trial 1038 with value: -0.006133775634474926.\u001b[0m\n",
      "\u001b[32m[I 2022-07-24 18:11:40,875]\u001b[0m Trial 1718 finished with value: -0.006221279584565126 and parameters: {'kernel': 'rbf', 'C': 0.011059854651626538, 'gamma': 0.05305565579644497, 'epsilon': 0.002645351814155939}. Best is trial 1038 with value: -0.006133775634474926.\u001b[0m\n",
      "\u001b[32m[I 2022-07-24 18:11:40,986]\u001b[0m Trial 1719 finished with value: -0.006155457993043278 and parameters: {'kernel': 'rbf', 'C': 0.017929085256238677, 'gamma': 0.06724552558498456, 'epsilon': 0.0022788852474402966}. Best is trial 1038 with value: -0.006133775634474926.\u001b[0m\n",
      "\u001b[32m[I 2022-07-24 18:11:41,127]\u001b[0m Trial 1720 finished with value: -0.006180187113996479 and parameters: {'kernel': 'rbf', 'C': 0.014010010028777772, 'gamma': 0.08910897710125357, 'epsilon': 0.0012636918538835558}. Best is trial 1038 with value: -0.006133775634474926.\u001b[0m\n",
      "\u001b[32m[I 2022-07-24 18:11:41,346]\u001b[0m Trial 1721 finished with value: -0.006754642723699865 and parameters: {'kernel': 'poly', 'C': 0.015988542821330297, 'gamma': 0.1152444856544074, 'epsilon': 0.0020217952909796304}. Best is trial 1038 with value: -0.006133775634474926.\u001b[0m\n",
      "\u001b[32m[I 2022-07-24 18:11:41,504]\u001b[0m Trial 1722 finished with value: -0.006236068248758272 and parameters: {'kernel': 'rbf', 'C': 0.010120320466789963, 'gamma': 0.05981990386776539, 'epsilon': 0.003060152463946336}. Best is trial 1038 with value: -0.006133775634474926.\u001b[0m\n",
      "\u001b[32m[I 2022-07-24 18:11:41,666]\u001b[0m Trial 1723 finished with value: -0.0061852386708593846 and parameters: {'kernel': 'rbf', 'C': 0.020086888137309755, 'gamma': 0.07791638889642633, 'epsilon': 0.0017194465951012345}. Best is trial 1038 with value: -0.006133775634474926.\u001b[0m\n",
      "\u001b[32m[I 2022-07-24 18:11:41,827]\u001b[0m Trial 1724 finished with value: -0.006159871594980274 and parameters: {'kernel': 'rbf', 'C': 0.012448452436135207, 'gamma': 0.09444980570894798, 'epsilon': 0.0024501762417522364}. Best is trial 1038 with value: -0.006133775634474926.\u001b[0m\n",
      "\u001b[32m[I 2022-07-24 18:11:41,973]\u001b[0m Trial 1725 finished with value: -0.006176468959201144 and parameters: {'kernel': 'rbf', 'C': 0.015117958201720008, 'gamma': 0.06871705066428714, 'epsilon': 0.0014129461049411068}. Best is trial 1038 with value: -0.006133775634474926.\u001b[0m\n",
      "\u001b[32m[I 2022-07-24 18:11:42,097]\u001b[0m Trial 1726 finished with value: -0.00617311750931025 and parameters: {'kernel': 'rbf', 'C': 0.017545274091005324, 'gamma': 0.08156908890333299, 'epsilon': 0.002129912337892834}. Best is trial 1038 with value: -0.006133775634474926.\u001b[0m\n",
      "\u001b[32m[I 2022-07-24 18:11:42,223]\u001b[0m Trial 1727 finished with value: -0.006219213186955573 and parameters: {'kernel': 'rbf', 'C': 0.010061531273210873, 'gamma': 0.055844224564284964, 'epsilon': 0.001836836782252789}. Best is trial 1038 with value: -0.006133775634474926.\u001b[0m\n",
      "\u001b[32m[I 2022-07-24 18:11:42,298]\u001b[0m Trial 1728 finished with value: -0.006371704728503211 and parameters: {'kernel': 'rbf', 'C': 0.013479616579040144, 'gamma': 0.04826201352556259, 'epsilon': 0.004301708331986999}. Best is trial 1038 with value: -0.006133775634474926.\u001b[0m\n",
      "\u001b[32m[I 2022-07-24 18:11:42,455]\u001b[0m Trial 1729 finished with value: -0.0062035251601346465 and parameters: {'kernel': 'rbf', 'C': 0.0237914406730135, 'gamma': 0.07147614507428206, 'epsilon': 0.0024692941715632757}. Best is trial 1038 with value: -0.006133775634474926.\u001b[0m\n",
      "\u001b[32m[I 2022-07-24 18:11:42,575]\u001b[0m Trial 1730 finished with value: -0.006259877562252999 and parameters: {'kernel': 'rbf', 'C': 0.015498503696109873, 'gamma': 0.10698351006865431, 'epsilon': 0.002921114995620594}. Best is trial 1038 with value: -0.006133775634474926.\u001b[0m\n",
      "\u001b[32m[I 2022-07-24 18:11:42,780]\u001b[0m Trial 1731 finished with value: -0.006174818050751071 and parameters: {'kernel': 'rbf', 'C': 0.012102717108866042, 'gamma': 0.0825273618153989, 'epsilon': 0.0015750638607941376}. Best is trial 1038 with value: -0.006133775634474926.\u001b[0m\n",
      "\u001b[32m[I 2022-07-24 18:11:42,932]\u001b[0m Trial 1732 finished with value: -0.0062033650546141446 and parameters: {'kernel': 'rbf', 'C': 0.01001535453125039, 'gamma': 0.059844247870913386, 'epsilon': 0.0020450339071738017}. Best is trial 1038 with value: -0.006133775634474926.\u001b[0m\n",
      "\u001b[32m[I 2022-07-24 18:11:43,039]\u001b[0m Trial 1733 finished with value: -0.006215117191787325 and parameters: {'kernel': 'rbf', 'C': 0.020030391601407165, 'gamma': 0.0953354006255871, 'epsilon': 0.0022997178843671426}. Best is trial 1038 with value: -0.006133775634474926.\u001b[0m\n",
      "\u001b[32m[I 2022-07-24 18:11:43,166]\u001b[0m Trial 1734 finished with value: -0.0061609446793140675 and parameters: {'kernel': 'rbf', 'C': 0.013942286815254848, 'gamma': 0.06824116843733638, 'epsilon': 0.0017990410082387033}. Best is trial 1038 with value: -0.006133775634474926.\u001b[0m\n",
      "\u001b[32m[I 2022-07-24 18:11:43,312]\u001b[0m Trial 1735 finished with value: -0.006182529787876212 and parameters: {'kernel': 'rbf', 'C': 0.017586881140812357, 'gamma': 0.07734238657891528, 'epsilon': 0.0026898359377410335}. Best is trial 1038 with value: -0.006133775634474926.\u001b[0m\n",
      "\u001b[32m[I 2022-07-24 18:11:43,358]\u001b[0m Trial 1736 finished with value: -0.03564469137116574 and parameters: {'kernel': 'rbf', 'C': 0.01145005004189988, 'gamma': 0.06033799857468379, 'epsilon': 0.05583569916044251}. Best is trial 1038 with value: -0.006133775634474926.\u001b[0m\n",
      "\u001b[32m[I 2022-07-24 18:11:43,481]\u001b[0m Trial 1737 finished with value: -0.006156315257917056 and parameters: {'kernel': 'rbf', 'C': 0.015883850444624772, 'gamma': 0.08977095970743158, 'epsilon': 0.0021356771566570284}. Best is trial 1038 with value: -0.006133775634474926.\u001b[0m\n",
      "\u001b[32m[I 2022-07-24 18:11:43,598]\u001b[0m Trial 1738 finished with value: -0.0062499783103082095 and parameters: {'kernel': 'rbf', 'C': 0.013524135455698128, 'gamma': 0.05159491992848758, 'epsilon': 0.003428238972624226}. Best is trial 1038 with value: -0.006133775634474926.\u001b[0m\n",
      "\u001b[32m[I 2022-07-24 18:11:43,737]\u001b[0m Trial 1739 finished with value: -0.006189843563349731 and parameters: {'kernel': 'rbf', 'C': 0.021260328689389024, 'gamma': 0.06863608535387423, 'epsilon': 0.0015917830488933935}. Best is trial 1038 with value: -0.006133775634474926.\u001b[0m\n",
      "\u001b[32m[I 2022-07-24 18:11:43,879]\u001b[0m Trial 1740 finished with value: -0.00618111745359217 and parameters: {'kernel': 'rbf', 'C': 0.018375297896044012, 'gamma': 0.08199091841429725, 'epsilon': 0.0019262275829487951}. Best is trial 1038 with value: -0.006133775634474926.\u001b[0m\n",
      "\u001b[32m[I 2022-07-24 18:11:43,996]\u001b[0m Trial 1741 finished with value: -0.006191096407647217 and parameters: {'kernel': 'rbf', 'C': 0.015185458185629089, 'gamma': 0.10342378525309588, 'epsilon': 0.0023531322918271536}. Best is trial 1038 with value: -0.006133775634474926.\u001b[0m\n",
      "\u001b[32m[I 2022-07-24 18:11:44,116]\u001b[0m Trial 1742 finished with value: -0.006183764685360835 and parameters: {'kernel': 'rbf', 'C': 0.012904669873217816, 'gamma': 0.06143459831748179, 'epsilon': 0.002764753010320774}. Best is trial 1038 with value: -0.006133775634474926.\u001b[0m\n"
     ]
    },
    {
     "name": "stderr",
     "output_type": "stream",
     "text": [
      "\u001b[32m[I 2022-07-24 18:11:44,232]\u001b[0m Trial 1743 finished with value: -0.00616048805192562 and parameters: {'kernel': 'rbf', 'C': 0.01122466714663028, 'gamma': 0.07656817162104351, 'epsilon': 0.0018017951276828917}. Best is trial 1038 with value: -0.006133775634474926.\u001b[0m\n",
      "\u001b[32m[I 2022-07-24 18:11:44,353]\u001b[0m Trial 1744 finished with value: -0.00618556923643222 and parameters: {'kernel': 'rbf', 'C': 0.01687655586612031, 'gamma': 0.045167431818168666, 'epsilon': 0.0021750358401488768}. Best is trial 1038 with value: -0.006133775634474926.\u001b[0m\n",
      "\u001b[32m[I 2022-07-24 18:11:44,461]\u001b[0m Trial 1745 finished with value: -0.006243483067135969 and parameters: {'kernel': 'rbf', 'C': 0.014439881739545407, 'gamma': 0.12396653658696742, 'epsilon': 0.00247055195721956}. Best is trial 1038 with value: -0.006133775634474926.\u001b[0m\n",
      "\u001b[32m[I 2022-07-24 18:11:44,600]\u001b[0m Trial 1746 finished with value: -0.006217455998004345 and parameters: {'kernel': 'rbf', 'C': 0.01934416932459767, 'gamma': 0.09327262494949023, 'epsilon': 0.0014827604974450646}. Best is trial 1038 with value: -0.006133775634474926.\u001b[0m\n",
      "\u001b[32m[I 2022-07-24 18:11:44,738]\u001b[0m Trial 1747 finished with value: -0.006158268295145664 and parameters: {'kernel': 'rbf', 'C': 0.012573785008854544, 'gamma': 0.06893787582571856, 'epsilon': 0.001948634232887142}. Best is trial 1038 with value: -0.006133775634474926.\u001b[0m\n",
      "\u001b[32m[I 2022-07-24 18:11:44,829]\u001b[0m Trial 1748 finished with value: -0.006227165925058657 and parameters: {'kernel': 'rbf', 'C': 0.024914646630396935, 'gamma': 0.05442239000160228, 'epsilon': 0.003059363861105533}. Best is trial 1038 with value: -0.006133775634474926.\u001b[0m\n",
      "\u001b[32m[I 2022-07-24 18:11:44,987]\u001b[0m Trial 1749 finished with value: -0.006173702272518902 and parameters: {'kernel': 'rbf', 'C': 0.01634755894432089, 'gamma': 0.08563813110484464, 'epsilon': 0.0016813106268136375}. Best is trial 1038 with value: -0.006133775634474926.\u001b[0m\n",
      "\u001b[32m[I 2022-07-24 18:11:45,563]\u001b[0m Trial 1750 finished with value: -0.006721652385710981 and parameters: {'kernel': 'poly', 'C': 0.2115911453549351, 'gamma': 0.06542324225839885, 'epsilon': 0.0022074438794282276}. Best is trial 1038 with value: -0.006133775634474926.\u001b[0m\n",
      "\u001b[32m[I 2022-07-24 18:11:45,687]\u001b[0m Trial 1751 finished with value: -0.006180224509991363 and parameters: {'kernel': 'rbf', 'C': 0.010014607260147336, 'gamma': 0.0741921875729359, 'epsilon': 0.0025712493779033235}. Best is trial 1038 with value: -0.006133775634474926.\u001b[0m\n",
      "\u001b[32m[I 2022-07-24 18:11:45,817]\u001b[0m Trial 1752 finished with value: -0.0061767311009507594 and parameters: {'kernel': 'rbf', 'C': 0.014451117910199058, 'gamma': 0.05833140122981679, 'epsilon': 0.0019684113693959854}. Best is trial 1038 with value: -0.006133775634474926.\u001b[0m\n",
      "\u001b[32m[I 2022-07-24 18:11:45,915]\u001b[0m Trial 1753 finished with value: -0.006181525974285027 and parameters: {'kernel': 'rbf', 'C': 0.01001099143995965, 'gamma': 0.10494435458122986, 'epsilon': 0.002349263189837125}. Best is trial 1038 with value: -0.006133775634474926.\u001b[0m\n",
      "\u001b[32m[I 2022-07-24 18:11:46,044]\u001b[0m Trial 1754 finished with value: -0.0061660750878430835 and parameters: {'kernel': 'rbf', 'C': 0.012109205760259032, 'gamma': 0.08600179345390235, 'epsilon': 0.0017354374322943232}. Best is trial 1038 with value: -0.006133775634474926.\u001b[0m\n",
      "\u001b[32m[I 2022-07-24 18:11:46,164]\u001b[0m Trial 1755 finished with value: -0.00621986477928315 and parameters: {'kernel': 'rbf', 'C': 0.022264042472950857, 'gamma': 0.07530357573112458, 'epsilon': 0.002775343932177473}. Best is trial 1038 with value: -0.006133775634474926.\u001b[0m\n",
      "\u001b[32m[I 2022-07-24 18:11:46,314]\u001b[0m Trial 1756 finished with value: -0.006152850599082965 and parameters: {'kernel': 'rbf', 'C': 0.01806711103120244, 'gamma': 0.06654848913406484, 'epsilon': 0.002031036244390209}. Best is trial 1038 with value: -0.006133775634474926.\u001b[0m\n",
      "\u001b[32m[I 2022-07-24 18:11:46,485]\u001b[0m Trial 1757 finished with value: -0.006233416466406654 and parameters: {'kernel': 'rbf', 'C': 0.03143839242159338, 'gamma': 0.05179415799154057, 'epsilon': 0.0012218455533418479}. Best is trial 1038 with value: -0.006133775634474926.\u001b[0m\n",
      "\u001b[32m[I 2022-07-24 18:11:46,617]\u001b[0m Trial 1758 finished with value: -0.006240105920588611 and parameters: {'kernel': 'rbf', 'C': 0.014829753351076813, 'gamma': 0.14285974484380368, 'epsilon': 0.0014221963040004031}. Best is trial 1038 with value: -0.006133775634474926.\u001b[0m\n",
      "\u001b[32m[I 2022-07-24 18:11:46,737]\u001b[0m Trial 1759 finished with value: -0.006154315608715581 and parameters: {'kernel': 'rbf', 'C': 0.013131735815534817, 'gamma': 0.09395725364075178, 'epsilon': 0.0023263126732232645}. Best is trial 1038 with value: -0.006133775634474926.\u001b[0m\n",
      "\u001b[32m[I 2022-07-24 18:11:46,886]\u001b[0m Trial 1760 finished with value: -0.0061606936149123555 and parameters: {'kernel': 'rbf', 'C': 0.0164270392181037, 'gamma': 0.07850913077414956, 'epsilon': 0.0018440607880240577}. Best is trial 1038 with value: -0.006133775634474926.\u001b[0m\n",
      "\u001b[32m[I 2022-07-24 18:11:47,032]\u001b[0m Trial 1761 finished with value: -0.006192764004165182 and parameters: {'kernel': 'rbf', 'C': 0.011421635270272727, 'gamma': 0.05938349012526892, 'epsilon': 0.002135020200147237}. Best is trial 1038 with value: -0.006133775634474926.\u001b[0m\n",
      "\u001b[32m[I 2022-07-24 18:11:47,145]\u001b[0m Trial 1762 finished with value: -0.00622457087953459 and parameters: {'kernel': 'rbf', 'C': 0.02052818329447346, 'gamma': 0.041258896326015114, 'epsilon': 0.003275708103527329}. Best is trial 1038 with value: -0.006133775634474926.\u001b[0m\n",
      "\u001b[32m[I 2022-07-24 18:11:47,286]\u001b[0m Trial 1763 finished with value: -0.0061723723287096105 and parameters: {'kernel': 'rbf', 'C': 0.01368865456121341, 'gamma': 0.06624138360719559, 'epsilon': 0.0016224594958050272}. Best is trial 1038 with value: -0.006133775634474926.\u001b[0m\n",
      "\u001b[32m[I 2022-07-24 18:11:47,410]\u001b[0m Trial 1764 finished with value: -0.006215258167926113 and parameters: {'kernel': 'rbf', 'C': 0.01742716230468935, 'gamma': 0.08485571908473026, 'epsilon': 0.0027731739899031754}. Best is trial 1038 with value: -0.006133775634474926.\u001b[0m\n",
      "\u001b[32m[I 2022-07-24 18:11:47,514]\u001b[0m Trial 1765 finished with value: -0.006210552078258993 and parameters: {'kernel': 'rbf', 'C': 0.015341560683106898, 'gamma': 0.10700366600775181, 'epsilon': 0.0024737886624518883}. Best is trial 1038 with value: -0.006133775634474926.\u001b[0m\n",
      "\u001b[32m[I 2022-07-24 18:11:47,634]\u001b[0m Trial 1766 finished with value: -0.006155057861296991 and parameters: {'kernel': 'rbf', 'C': 0.012283690156363486, 'gamma': 0.07330419478342307, 'epsilon': 0.0020400332739702568}. Best is trial 1038 with value: -0.006133775634474926.\u001b[0m\n",
      "\u001b[32m[I 2022-07-24 18:11:47,785]\u001b[0m Trial 1767 finished with value: -0.0061611498927923065 and parameters: {'kernel': 'rbf', 'C': 0.01950626731763788, 'gamma': 0.05558930434148037, 'epsilon': 0.0018058302768044587}. Best is trial 1038 with value: -0.006133775634474926.\u001b[0m\n",
      "\u001b[32m[I 2022-07-24 18:11:47,893]\u001b[0m Trial 1768 finished with value: -0.006161445454955402 and parameters: {'kernel': 'rbf', 'C': 0.013933996424128932, 'gamma': 0.09037447330862673, 'epsilon': 0.002258924557148992}. Best is trial 1038 with value: -0.006133775634474926.\u001b[0m\n",
      "\u001b[32m[I 2022-07-24 18:11:47,997]\u001b[0m Trial 1769 finished with value: -0.006145853790410304 and parameters: {'kernel': 'rbf', 'C': 0.017370744442827633, 'gamma': 0.06453578487693447, 'epsilon': 0.002515841714463766}. Best is trial 1038 with value: -0.006133775634474926.\u001b[0m\n",
      "\u001b[32m[I 2022-07-24 18:11:48,220]\u001b[0m Trial 1770 finished with value: -0.00617529177132246 and parameters: {'kernel': 'rbf', 'C': 0.011137396466649735, 'gamma': 0.07425845193184581, 'epsilon': 0.0015775413904999607}. Best is trial 1038 with value: -0.006133775634474926.\u001b[0m\n",
      "\u001b[32m[I 2022-07-24 18:11:48,351]\u001b[0m Trial 1771 finished with value: -0.0061890973338109825 and parameters: {'kernel': 'rbf', 'C': 0.015542212962649151, 'gamma': 0.04725534267450003, 'epsilon': 0.002020331133396797}. Best is trial 1038 with value: -0.006133775634474926.\u001b[0m\n",
      "\u001b[32m[I 2022-07-24 18:11:48,496]\u001b[0m Trial 1772 finished with value: -0.007385447145938318 and parameters: {'kernel': 'rbf', 'C': 0.6356262619726721, 'gamma': 0.11409947561032678, 'epsilon': 0.0037226461945097807}. Best is trial 1038 with value: -0.006133775634474926.\u001b[0m\n"
     ]
    },
    {
     "name": "stderr",
     "output_type": "stream",
     "text": [
      "\u001b[32m[I 2022-07-24 18:11:48,598]\u001b[0m Trial 1773 finished with value: -0.006246284419579375 and parameters: {'kernel': 'rbf', 'C': 0.021797166814039953, 'gamma': 0.08242001153164628, 'epsilon': 0.002960088490099739}. Best is trial 1038 with value: -0.006133775634474926.\u001b[0m\n",
      "\u001b[32m[I 2022-07-24 18:11:48,777]\u001b[0m Trial 1774 finished with value: -0.006254000134254933 and parameters: {'kernel': 'rbf', 'C': 0.02765958413650708, 'gamma': 0.09745712369937841, 'epsilon': 0.0018213795599997674}. Best is trial 1038 with value: -0.006133775634474926.\u001b[0m\n",
      "\u001b[32m[I 2022-07-24 18:11:48,930]\u001b[0m Trial 1775 finished with value: -0.006150514875137834 and parameters: {'kernel': 'rbf', 'C': 0.013217217114099782, 'gamma': 0.06381575829541616, 'epsilon': 0.0022371477890185676}. Best is trial 1038 with value: -0.006133775634474926.\u001b[0m\n",
      "\u001b[32m[I 2022-07-24 18:11:49,072]\u001b[0m Trial 1776 finished with value: -0.006796849755408267 and parameters: {'kernel': 'poly', 'C': 0.011181288694888821, 'gamma': 0.07383340637145559, 'epsilon': 0.0025612422977143593}. Best is trial 1038 with value: -0.006133775634474926.\u001b[0m\n",
      "\u001b[32m[I 2022-07-24 18:11:49,261]\u001b[0m Trial 1777 finished with value: -0.006177537376386612 and parameters: {'kernel': 'rbf', 'C': 0.01851170343710425, 'gamma': 0.05429493069899336, 'epsilon': 0.001361295087125432}. Best is trial 1038 with value: -0.006133775634474926.\u001b[0m\n",
      "\u001b[32m[I 2022-07-24 18:11:49,410]\u001b[0m Trial 1778 finished with value: -0.006159574245149233 and parameters: {'kernel': 'rbf', 'C': 0.015099457314320011, 'gamma': 0.08539589788562046, 'epsilon': 0.0020601921289421614}. Best is trial 1038 with value: -0.006133775634474926.\u001b[0m\n",
      "\u001b[32m[I 2022-07-24 18:11:49,592]\u001b[0m Trial 1779 finished with value: -0.006184308998558911 and parameters: {'kernel': 'rbf', 'C': 0.012609416079303194, 'gamma': 0.06185497911734325, 'epsilon': 0.0016302129324400432}. Best is trial 1038 with value: -0.006133775634474926.\u001b[0m\n",
      "\u001b[32m[I 2022-07-24 18:11:49,713]\u001b[0m Trial 1780 finished with value: -0.006155128880702479 and parameters: {'kernel': 'rbf', 'C': 0.01656042920566411, 'gamma': 0.07123000329332829, 'epsilon': 0.002323712116631976}. Best is trial 1038 with value: -0.006133775634474926.\u001b[0m\n",
      "\u001b[32m[I 2022-07-24 18:11:50,114]\u001b[0m Trial 1781 finished with value: -0.007971833352559162 and parameters: {'kernel': 'rbf', 'C': 3.481388984436163, 'gamma': 0.09065825981113451, 'epsilon': 0.001867495894406844}. Best is trial 1038 with value: -0.006133775634474926.\u001b[0m\n",
      "\u001b[32m[I 2022-07-24 18:11:50,242]\u001b[0m Trial 1782 finished with value: -0.006257315202636443 and parameters: {'kernel': 'rbf', 'C': 0.010097913197232241, 'gamma': 0.04908509690130151, 'epsilon': 0.0027752944114544467}. Best is trial 1038 with value: -0.006133775634474926.\u001b[0m\n",
      "\u001b[32m[I 2022-07-24 18:11:50,391]\u001b[0m Trial 1783 finished with value: -0.006139641529976872 and parameters: {'kernel': 'rbf', 'C': 0.014386307001577692, 'gamma': 0.0775686942646474, 'epsilon': 0.0020665668195386988}. Best is trial 1038 with value: -0.006133775634474926.\u001b[0m\n",
      "\u001b[32m[I 2022-07-24 18:11:50,537]\u001b[0m Trial 1784 finished with value: -0.0062579077531571825 and parameters: {'kernel': 'rbf', 'C': 0.022857758788733633, 'gamma': 0.11476104233700268, 'epsilon': 0.0017114054154252043}. Best is trial 1038 with value: -0.006133775634474926.\u001b[0m\n",
      "\u001b[32m[I 2022-07-24 18:11:50,636]\u001b[0m Trial 1785 finished with value: -0.006245663717745992 and parameters: {'kernel': 'rbf', 'C': 0.01866940626471179, 'gamma': 0.10439678964153484, 'epsilon': 0.0025155784479972652}. Best is trial 1038 with value: -0.006133775634474926.\u001b[0m\n",
      "\u001b[32m[I 2022-07-24 18:11:50,779]\u001b[0m Trial 1786 finished with value: -0.006151105801602948 and parameters: {'kernel': 'rbf', 'C': 0.01623440573108194, 'gamma': 0.06266815379257121, 'epsilon': 0.00196429103775522}. Best is trial 1038 with value: -0.006133775634474926.\u001b[0m\n",
      "\u001b[32m[I 2022-07-24 18:11:50,882]\u001b[0m Trial 1787 finished with value: -0.006242860830595048 and parameters: {'kernel': 'rbf', 'C': 0.012245874503507032, 'gamma': 0.08311473473157283, 'epsilon': 0.0031770483694206217}. Best is trial 1038 with value: -0.006133775634474926.\u001b[0m\n",
      "\u001b[32m[I 2022-07-24 18:11:51,075]\u001b[0m Trial 1788 finished with value: -0.006223532801928917 and parameters: {'kernel': 'rbf', 'C': 0.01972065544918991, 'gamma': 0.03670059952372857, 'epsilon': 0.0014642846187575254}. Best is trial 1038 with value: -0.006133775634474926.\u001b[0m\n",
      "\u001b[32m[I 2022-07-24 18:11:51,275]\u001b[0m Trial 1789 finished with value: -0.006153262715577516 and parameters: {'kernel': 'rbf', 'C': 0.014079108541053141, 'gamma': 0.07347113559399653, 'epsilon': 0.0022742869085470296}. Best is trial 1038 with value: -0.006133775634474926.\u001b[0m\n",
      "\u001b[32m[I 2022-07-24 18:11:51,413]\u001b[0m Trial 1790 finished with value: -0.006173220686536859 and parameters: {'kernel': 'rbf', 'C': 0.01645168298165521, 'gamma': 0.054724937478536316, 'epsilon': 0.0018290993827633033}. Best is trial 1038 with value: -0.006133775634474926.\u001b[0m\n",
      "\u001b[32m[I 2022-07-24 18:11:51,514]\u001b[0m Trial 1791 finished with value: -0.006198803956595504 and parameters: {'kernel': 'rbf', 'C': 0.011496814836986195, 'gamma': 0.09845625508615227, 'epsilon': 0.002706009243242861}. Best is trial 1038 with value: -0.006133775634474926.\u001b[0m\n",
      "\u001b[32m[I 2022-07-24 18:11:51,661]\u001b[0m Trial 1792 finished with value: -0.006153214090852358 and parameters: {'kernel': 'rbf', 'C': 0.014048756663289187, 'gamma': 0.06723227682849442, 'epsilon': 0.0021221539315263356}. Best is trial 1038 with value: -0.006133775634474926.\u001b[0m\n",
      "\u001b[32m[I 2022-07-24 18:11:51,888]\u001b[0m Trial 1793 finished with value: -0.006184657985658408 and parameters: {'kernel': 'rbf', 'C': 0.018640006317641143, 'gamma': 0.08250368271190131, 'epsilon': 0.002388972756643438}. Best is trial 1038 with value: -0.006133775634474926.\u001b[0m\n",
      "\u001b[32m[I 2022-07-24 18:11:52,078]\u001b[0m Trial 1794 finished with value: -0.006294166334702631 and parameters: {'kernel': 'rbf', 'C': 0.02432584862617026, 'gamma': 0.12744702310438094, 'epsilon': 0.0016546260746021192}. Best is trial 1038 with value: -0.006133775634474926.\u001b[0m\n",
      "\u001b[32m[I 2022-07-24 18:11:52,209]\u001b[0m Trial 1795 finished with value: -0.006167033145715091 and parameters: {'kernel': 'rbf', 'C': 0.015530150999281034, 'gamma': 0.056573206599535616, 'epsilon': 0.001980460035552449}. Best is trial 1038 with value: -0.006133775634474926.\u001b[0m\n",
      "\u001b[32m[I 2022-07-24 18:11:52,314]\u001b[0m Trial 1796 finished with value: -0.006207137599030808 and parameters: {'kernel': 'rbf', 'C': 0.012535127670382321, 'gamma': 0.07110103079044, 'epsilon': 0.0031033671614657254}. Best is trial 1038 with value: -0.006133775634474926.\u001b[0m\n",
      "\u001b[32m[I 2022-07-24 18:11:52,432]\u001b[0m Trial 1797 finished with value: -0.006216641322058896 and parameters: {'kernel': 'rbf', 'C': 0.020572672344174817, 'gamma': 0.09437119239752778, 'epsilon': 0.002279208584972782}. Best is trial 1038 with value: -0.006133775634474926.\u001b[0m\n",
      "\u001b[32m[I 2022-07-24 18:11:52,558]\u001b[0m Trial 1798 finished with value: -0.006165255529991264 and parameters: {'kernel': 'rbf', 'C': 0.011190081796244745, 'gamma': 0.08089304063350433, 'epsilon': 0.001519566104884087}. Best is trial 1038 with value: -0.006133775634474926.\u001b[0m\n",
      "\u001b[32m[I 2022-07-24 18:11:52,664]\u001b[0m Trial 1799 finished with value: -0.006209392944629066 and parameters: {'kernel': 'rbf', 'C': 0.010058907161501988, 'gamma': 0.06221642920622574, 'epsilon': 0.0026509770943551735}. Best is trial 1038 with value: -0.006133775634474926.\u001b[0m\n",
      "\u001b[32m[I 2022-07-24 18:11:52,791]\u001b[0m Trial 1800 finished with value: -0.006184145169608087 and parameters: {'kernel': 'rbf', 'C': 0.017083631561657823, 'gamma': 0.047538640916277956, 'epsilon': 0.0017993393855842887}. Best is trial 1038 with value: -0.006133775634474926.\u001b[0m\n",
      "\u001b[32m[I 2022-07-24 18:11:52,915]\u001b[0m Trial 1801 finished with value: -0.006146060479061306 and parameters: {'kernel': 'rbf', 'C': 0.01380146379267156, 'gamma': 0.06966845041660019, 'epsilon': 0.0021213714320716245}. Best is trial 1038 with value: -0.006133775634474926.\u001b[0m\n",
      "\u001b[32m[I 2022-07-24 18:11:53,026]\u001b[0m Trial 1802 finished with value: -0.006177168644532423 and parameters: {'kernel': 'rbf', 'C': 0.015034476025822894, 'gamma': 0.09149703915244277, 'epsilon': 0.0024766980940603136}. Best is trial 1038 with value: -0.006133775634474926.\u001b[0m\n"
     ]
    },
    {
     "name": "stderr",
     "output_type": "stream",
     "text": [
      "\u001b[32m[I 2022-07-24 18:11:53,211]\u001b[0m Trial 1803 finished with value: -0.006908039949694405 and parameters: {'kernel': 'poly', 'C': 0.01277661530482303, 'gamma': 0.07845693338400972, 'epsilon': 0.0012000992200924055}. Best is trial 1038 with value: -0.006133775634474926.\u001b[0m\n",
      "\u001b[32m[I 2022-07-24 18:11:53,336]\u001b[0m Trial 1804 finished with value: -0.006149575807980329 and parameters: {'kernel': 'rbf', 'C': 0.01744632446597157, 'gamma': 0.06041170767065209, 'epsilon': 0.0018675682399934038}. Best is trial 1038 with value: -0.006133775634474926.\u001b[0m\n",
      "\u001b[32m[I 2022-07-24 18:11:53,457]\u001b[0m Trial 1805 finished with value: -0.006230860918524243 and parameters: {'kernel': 'rbf', 'C': 0.021337746501108736, 'gamma': 0.10406151149553515, 'epsilon': 0.002155206184123615}. Best is trial 1038 with value: -0.006133775634474926.\u001b[0m\n",
      "\u001b[32m[I 2022-07-24 18:11:53,562]\u001b[0m Trial 1806 finished with value: -0.006223409021163607 and parameters: {'kernel': 'rbf', 'C': 0.014694561715527684, 'gamma': 0.04312047614951066, 'epsilon': 0.0028947710304638398}. Best is trial 1038 with value: -0.006133775634474926.\u001b[0m\n",
      "\u001b[32m[I 2022-07-24 18:11:53,693]\u001b[0m Trial 1807 finished with value: -0.006174903827060894 and parameters: {'kernel': 'rbf', 'C': 0.012306092401997716, 'gamma': 0.06867256494312253, 'epsilon': 0.0016454889797964558}. Best is trial 1038 with value: -0.006133775634474926.\u001b[0m\n",
      "\u001b[32m[I 2022-07-24 18:11:53,819]\u001b[0m Trial 1808 finished with value: -0.006168099920714244 and parameters: {'kernel': 'rbf', 'C': 0.018602443821517257, 'gamma': 0.05265105239213267, 'epsilon': 0.001938272749272533}. Best is trial 1038 with value: -0.006133775634474926.\u001b[0m\n",
      "\u001b[32m[I 2022-07-24 18:11:53,933]\u001b[0m Trial 1809 finished with value: -0.00616880490738933 and parameters: {'kernel': 'rbf', 'C': 0.015982842842759915, 'gamma': 0.08502315222067434, 'epsilon': 0.0024615133974364304}. Best is trial 1038 with value: -0.006133775634474926.\u001b[0m\n",
      "\u001b[32m[I 2022-07-24 18:11:54,028]\u001b[0m Trial 1810 finished with value: -0.00630943419945276 and parameters: {'kernel': 'rbf', 'C': 0.011175430158711483, 'gamma': 0.07514582866469717, 'epsilon': 0.0036834308138720597}. Best is trial 1038 with value: -0.006133775634474926.\u001b[0m\n",
      "\u001b[32m[I 2022-07-24 18:11:54,146]\u001b[0m Trial 1811 finished with value: -0.00615756748274613 and parameters: {'kernel': 'rbf', 'C': 0.013943808167972216, 'gamma': 0.06071162874515545, 'epsilon': 0.0021814597257976518}. Best is trial 1038 with value: -0.006133775634474926.\u001b[0m\n",
      "\u001b[32m[I 2022-07-24 18:11:54,282]\u001b[0m Trial 1812 finished with value: -0.006238643780229237 and parameters: {'kernel': 'rbf', 'C': 0.016926553875487523, 'gamma': 0.11856738414016689, 'epsilon': 0.001418844026192908}. Best is trial 1038 with value: -0.006133775634474926.\u001b[0m\n",
      "\u001b[32m[I 2022-07-24 18:11:54,414]\u001b[0m Trial 1813 finished with value: -0.006240509735312749 and parameters: {'kernel': 'rbf', 'C': 0.027374583992112345, 'gamma': 0.09407354446636877, 'epsilon': 0.001792709471504219}. Best is trial 1038 with value: -0.006133775634474926.\u001b[0m\n",
      "\u001b[32m[I 2022-07-24 18:11:54,500]\u001b[0m Trial 1814 finished with value: -0.006605362181049119 and parameters: {'kernel': 'rbf', 'C': 0.02177639022537475, 'gamma': 0.06582955594818483, 'epsilon': 0.005193042471230542}. Best is trial 1038 with value: -0.006133775634474926.\u001b[0m\n",
      "\u001b[32m[I 2022-07-24 18:11:54,603]\u001b[0m Trial 1815 finished with value: -0.006177282903509391 and parameters: {'kernel': 'rbf', 'C': 0.013130062245765066, 'gamma': 0.07984121625500411, 'epsilon': 0.002765269647881105}. Best is trial 1038 with value: -0.006133775634474926.\u001b[0m\n",
      "\u001b[32m[I 2022-07-24 18:11:54,651]\u001b[0m Trial 1816 finished with value: -0.03564469137116574 and parameters: {'kernel': 'rbf', 'C': 0.015150735211850008, 'gamma': 0.05594060997528711, 'epsilon': 0.07237215413543105}. Best is trial 1038 with value: -0.006133775634474926.\u001b[0m\n",
      "\u001b[32m[I 2022-07-24 18:11:54,875]\u001b[0m Trial 1817 finished with value: -0.006164249187016242 and parameters: {'kernel': 'rbf', 'C': 0.011238917806018192, 'gamma': 0.07191621009305785, 'epsilon': 0.002298212323795881}. Best is trial 1038 with value: -0.006133775634474926.\u001b[0m\n",
      "\u001b[32m[I 2022-07-24 18:11:54,993]\u001b[0m Trial 1818 finished with value: -0.006203797027588043 and parameters: {'kernel': 'rbf', 'C': 0.018820947609193627, 'gamma': 0.09989090660010176, 'epsilon': 0.0019963710297027323}. Best is trial 1038 with value: -0.006133775634474926.\u001b[0m\n",
      "\u001b[32m[I 2022-07-24 18:11:55,124]\u001b[0m Trial 1819 finished with value: -0.006164168786056132 and parameters: {'kernel': 'rbf', 'C': 0.013252552271896706, 'gamma': 0.08579081483143125, 'epsilon': 0.0016050402490954726}. Best is trial 1038 with value: -0.006133775634474926.\u001b[0m\n",
      "\u001b[32m[I 2022-07-24 18:11:55,232]\u001b[0m Trial 1820 finished with value: -0.0061545999082642895 and parameters: {'kernel': 'rbf', 'C': 0.0165275917060571, 'gamma': 0.0636242020628342, 'epsilon': 0.002546051510756127}. Best is trial 1038 with value: -0.006133775634474926.\u001b[0m\n",
      "\u001b[32m[I 2022-07-24 18:11:55,352]\u001b[0m Trial 1821 finished with value: -0.006191602968964107 and parameters: {'kernel': 'rbf', 'C': 0.015083865548480744, 'gamma': 0.04822172302999215, 'epsilon': 0.0020296669884036327}. Best is trial 1038 with value: -0.006133775634474926.\u001b[0m\n",
      "\u001b[32m[I 2022-07-24 18:11:55,462]\u001b[0m Trial 1822 finished with value: -0.006273701849434592 and parameters: {'kernel': 'rbf', 'C': 0.019531461255304663, 'gamma': 0.07695166762964394, 'epsilon': 0.0032576066720698942}. Best is trial 1038 with value: -0.006133775634474926.\u001b[0m\n",
      "\u001b[32m[I 2022-07-24 18:11:55,574]\u001b[0m Trial 1823 finished with value: -0.006179026736392332 and parameters: {'kernel': 'rbf', 'C': 0.01001055485977327, 'gamma': 0.0925896597609399, 'epsilon': 0.002311296504423179}. Best is trial 1038 with value: -0.006133775634474926.\u001b[0m\n",
      "\u001b[32m[I 2022-07-24 18:11:55,693]\u001b[0m Trial 1824 finished with value: -0.006231141878734126 and parameters: {'kernel': 'rbf', 'C': 0.010084433975686263, 'gamma': 0.05575391885962871, 'epsilon': 0.0018532011232479443}. Best is trial 1038 with value: -0.006133775634474926.\u001b[0m\n",
      "\u001b[32m[I 2022-07-24 18:11:55,811]\u001b[0m Trial 1825 finished with value: -0.006184521962284845 and parameters: {'kernel': 'rbf', 'C': 0.012367419572128443, 'gamma': 0.06511419192637434, 'epsilon': 0.002782792845722718}. Best is trial 1038 with value: -0.006133775634474926.\u001b[0m\n",
      "\u001b[32m[I 2022-07-24 18:11:55,971]\u001b[0m Trial 1826 finished with value: -0.006156635668874962 and parameters: {'kernel': 'rbf', 'C': 0.01425837853068721, 'gamma': 0.07900759662651194, 'epsilon': 0.001661932884995819}. Best is trial 1038 with value: -0.006133775634474926.\u001b[0m\n",
      "\u001b[32m[I 2022-07-24 18:11:56,125]\u001b[0m Trial 1827 finished with value: -0.00636475070690486 and parameters: {'kernel': 'rbf', 'C': 0.0374522525200131, 'gamma': 0.10468606259877275, 'epsilon': 0.0022328106605005965}. Best is trial 1038 with value: -0.006133775634474926.\u001b[0m\n",
      "\u001b[32m[I 2022-07-24 18:11:56,209]\u001b[0m Trial 1828 finished with value: -0.03564469137116574 and parameters: {'kernel': 'rbf', 'C': 0.022587654322561518, 'gamma': 0.0730565241595192, 'epsilon': 0.18176267125844828}. Best is trial 1038 with value: -0.006133775634474926.\u001b[0m\n",
      "\u001b[32m[I 2022-07-24 18:11:56,349]\u001b[0m Trial 1829 finished with value: -0.006180635224704374 and parameters: {'kernel': 'rbf', 'C': 0.017169309995293036, 'gamma': 0.08889312129213423, 'epsilon': 0.0019347916690311408}. Best is trial 1038 with value: -0.006133775634474926.\u001b[0m\n",
      "\u001b[32m[I 2022-07-24 18:11:56,626]\u001b[0m Trial 1830 finished with value: -0.006891967814637944 and parameters: {'kernel': 'poly', 'C': 0.011490395921582975, 'gamma': 0.06688207504834852, 'epsilon': 0.0013497595488953353}. Best is trial 1038 with value: -0.006133775634474926.\u001b[0m\n",
      "\u001b[32m[I 2022-07-24 18:11:56,893]\u001b[0m Trial 1831 finished with value: -0.006186053544368087 and parameters: {'kernel': 'rbf', 'C': 0.025124498950767214, 'gamma': 0.050547901576944526, 'epsilon': 0.002456879279894493}. Best is trial 1038 with value: -0.006133775634474926.\u001b[0m\n",
      "\u001b[32m[I 2022-07-24 18:11:57,207]\u001b[0m Trial 1832 finished with value: -0.006161040019148661 and parameters: {'kernel': 'rbf', 'C': 0.014127460682706271, 'gamma': 0.058671537019080205, 'epsilon': 0.0021334577719628297}. Best is trial 1038 with value: -0.006133775634474926.\u001b[0m\n"
     ]
    },
    {
     "name": "stderr",
     "output_type": "stream",
     "text": [
      "\u001b[32m[I 2022-07-24 18:11:57,444]\u001b[0m Trial 1833 finished with value: -0.006198092717837633 and parameters: {'kernel': 'rbf', 'C': 0.01829324068264949, 'gamma': 0.08495357939453566, 'epsilon': 0.0015435696950475}. Best is trial 1038 with value: -0.006133775634474926.\u001b[0m\n",
      "\u001b[32m[I 2022-07-24 18:11:57,573]\u001b[0m Trial 1834 finished with value: -0.006306505984046501 and parameters: {'kernel': 'rbf', 'C': 0.015682314841001275, 'gamma': 0.13742359938593662, 'epsilon': 0.002838367199969964}. Best is trial 1038 with value: -0.006133775634474926.\u001b[0m\n",
      "\u001b[32m[I 2022-07-24 18:11:57,714]\u001b[0m Trial 1835 finished with value: -0.006185220304862387 and parameters: {'kernel': 'rbf', 'C': 0.010020593346251928, 'gamma': 0.11691212649039005, 'epsilon': 0.0017485257674924883}. Best is trial 1038 with value: -0.006133775634474926.\u001b[0m\n",
      "\u001b[32m[I 2022-07-24 18:11:57,852]\u001b[0m Trial 1836 finished with value: -0.006151252936618635 and parameters: {'kernel': 'rbf', 'C': 0.012587406285769497, 'gamma': 0.07194362265818104, 'epsilon': 0.0023694635443117906}. Best is trial 1038 with value: -0.006133775634474926.\u001b[0m\n",
      "\u001b[32m[I 2022-07-24 18:11:57,999]\u001b[0m Trial 1837 finished with value: -0.0062126036711433325 and parameters: {'kernel': 'rbf', 'C': 0.021062531796804965, 'gamma': 0.09932709870246664, 'epsilon': 0.002001907624648308}. Best is trial 1038 with value: -0.006133775634474926.\u001b[0m\n",
      "\u001b[32m[I 2022-07-24 18:11:58,113]\u001b[0m Trial 1838 finished with value: -0.00616891134291549 and parameters: {'kernel': 'rbf', 'C': 0.01629262718199419, 'gamma': 0.06146123673756684, 'epsilon': 0.002604334129795993}. Best is trial 1038 with value: -0.006133775634474926.\u001b[0m\n",
      "\u001b[32m[I 2022-07-24 18:11:58,236]\u001b[0m Trial 1839 finished with value: -0.006245269704553116 and parameters: {'kernel': 'rbf', 'C': 0.013439149829686532, 'gamma': 0.07775868080469375, 'epsilon': 0.0032845605501069216}. Best is trial 1038 with value: -0.006133775634474926.\u001b[0m\n",
      "\u001b[32m[I 2022-07-24 18:11:58,308]\u001b[0m Trial 1840 finished with value: -0.03564469137116574 and parameters: {'kernel': 'rbf', 'C': 0.010034799777060375, 'gamma': 0.04042569023701385, 'epsilon': 0.12348927985264044}. Best is trial 1038 with value: -0.006133775634474926.\u001b[0m\n",
      "\u001b[32m[I 2022-07-24 18:11:58,459]\u001b[0m Trial 1841 finished with value: -0.006194597705499092 and parameters: {'kernel': 'rbf', 'C': 0.018974786545072283, 'gamma': 0.08822751165131651, 'epsilon': 0.0017115197882750747}. Best is trial 1038 with value: -0.006133775634474926.\u001b[0m\n",
      "\u001b[32m[I 2022-07-24 18:11:58,647]\u001b[0m Trial 1842 finished with value: -0.006188140188932121 and parameters: {'kernel': 'rbf', 'C': 0.011588185722845284, 'gamma': 0.05441799456233425, 'epsilon': 0.0021527696594321063}. Best is trial 1038 with value: -0.006133775634474926.\u001b[0m\n",
      "\u001b[32m[I 2022-07-24 18:11:58,879]\u001b[0m Trial 1843 finished with value: -0.0061424157823059405 and parameters: {'kernel': 'rbf', 'C': 0.014985646782617788, 'gamma': 0.07043014175054574, 'epsilon': 0.0019012085538143283}. Best is trial 1038 with value: -0.006133775634474926.\u001b[0m\n",
      "\u001b[32m[I 2022-07-24 18:11:59,162]\u001b[0m Trial 1844 finished with value: -0.006179424292901189 and parameters: {'kernel': 'rbf', 'C': 0.019143601101592862, 'gamma': 0.0516472694870645, 'epsilon': 0.0013380704065917171}. Best is trial 1038 with value: -0.006133775634474926.\u001b[0m\n",
      "\u001b[32m[I 2022-07-24 18:11:59,344]\u001b[0m Trial 1845 finished with value: -0.0062196842335707865 and parameters: {'kernel': 'rbf', 'C': 0.017220145998423832, 'gamma': 0.04676972155986576, 'epsilon': 0.001086381755089522}. Best is trial 1038 with value: -0.006133775634474926.\u001b[0m\n",
      "\u001b[32m[I 2022-07-24 18:11:59,512]\u001b[0m Trial 1846 finished with value: -0.006178967044005171 and parameters: {'kernel': 'rbf', 'C': 0.0226100680645182, 'gamma': 0.059594725462439664, 'epsilon': 0.0014665064928735961}. Best is trial 1038 with value: -0.006133775634474926.\u001b[0m\n",
      "\u001b[32m[I 2022-07-24 18:11:59,677]\u001b[0m Trial 1847 finished with value: -0.007030615008993854 and parameters: {'kernel': 'rbf', 'C': 0.017014966104691803, 'gamma': 0.0020079422032640098, 'epsilon': 0.0015330261673675058}. Best is trial 1038 with value: -0.006133775634474926.\u001b[0m\n",
      "\u001b[32m[I 2022-07-24 18:11:59,814]\u001b[0m Trial 1848 finished with value: -0.0061671406136113195 and parameters: {'kernel': 'rbf', 'C': 0.015915849531433202, 'gamma': 0.06568892093995483, 'epsilon': 0.0017552189712031591}. Best is trial 1038 with value: -0.006133775634474926.\u001b[0m\n",
      "\u001b[32m[I 2022-07-24 18:11:59,993]\u001b[0m Trial 1849 finished with value: -0.006179830908955579 and parameters: {'kernel': 'rbf', 'C': 0.019959152929160992, 'gamma': 0.057570642925997104, 'epsilon': 0.0012844338953510526}. Best is trial 1038 with value: -0.006133775634474926.\u001b[0m\n",
      "\u001b[32m[I 2022-07-24 18:12:00,169]\u001b[0m Trial 1850 finished with value: -0.006177334299941126 and parameters: {'kernel': 'rbf', 'C': 0.025051206251992596, 'gamma': 0.06401669253615638, 'epsilon': 0.0018455376670856933}. Best is trial 1038 with value: -0.006133775634474926.\u001b[0m\n",
      "\u001b[32m[I 2022-07-24 18:12:00,320]\u001b[0m Trial 1851 finished with value: -0.006230222148567434 and parameters: {'kernel': 'rbf', 'C': 0.015437885765606044, 'gamma': 0.042827508527868166, 'epsilon': 0.0014842672992647513}. Best is trial 1038 with value: -0.006133775634474926.\u001b[0m\n",
      "\u001b[32m[I 2022-07-24 18:12:00,480]\u001b[0m Trial 1852 finished with value: -0.00615694101640335 and parameters: {'kernel': 'rbf', 'C': 0.019932170323896187, 'gamma': 0.07025910673784878, 'epsilon': 0.001858669011162674}. Best is trial 1038 with value: -0.006133775634474926.\u001b[0m\n",
      "\u001b[32m[I 2022-07-24 18:12:00,639]\u001b[0m Trial 1853 finished with value: -0.006178495859780676 and parameters: {'kernel': 'rbf', 'C': 0.01761417426536809, 'gamma': 0.0510632304493347, 'epsilon': 0.0016989818985195472}. Best is trial 1038 with value: -0.006133775634474926.\u001b[0m\n",
      "\u001b[32m[I 2022-07-24 18:12:00,761]\u001b[0m Trial 1854 finished with value: -0.006159399274555894 and parameters: {'kernel': 'rbf', 'C': 0.014671754665012951, 'gamma': 0.05826890212836381, 'epsilon': 0.0020124256296248358}. Best is trial 1038 with value: -0.006133775634474926.\u001b[0m\n",
      "\u001b[32m[I 2022-07-24 18:12:00,890]\u001b[0m Trial 1855 finished with value: -0.006155884459804695 and parameters: {'kernel': 'rbf', 'C': 0.018050483467273427, 'gamma': 0.06841278179658387, 'epsilon': 0.002131329276846002}. Best is trial 1038 with value: -0.006133775634474926.\u001b[0m\n",
      "\u001b[32m[I 2022-07-24 18:12:01,058]\u001b[0m Trial 1856 finished with value: -0.00616226214105063 and parameters: {'kernel': 'rbf', 'C': 0.015382424946199675, 'gamma': 0.06513773821843129, 'epsilon': 0.0016224842448144272}. Best is trial 1038 with value: -0.006133775634474926.\u001b[0m\n",
      "\u001b[32m[I 2022-07-24 18:12:01,194]\u001b[0m Trial 1857 finished with value: -0.006148119108645072 and parameters: {'kernel': 'rbf', 'C': 0.01398114670481334, 'gamma': 0.07349986370935734, 'epsilon': 0.002375976674907178}. Best is trial 1038 with value: -0.006133775634474926.\u001b[0m\n",
      "\u001b[32m[I 2022-07-24 18:12:01,332]\u001b[0m Trial 1858 finished with value: -0.006242729419467771 and parameters: {'kernel': 'rbf', 'C': 0.021435122101787066, 'gamma': 0.031441589729178654, 'epsilon': 0.0019459301538761217}. Best is trial 1038 with value: -0.006133775634474926.\u001b[0m\n",
      "\u001b[32m[I 2022-07-24 18:12:01,476]\u001b[0m Trial 1859 finished with value: -0.006806382840681069 and parameters: {'kernel': 'poly', 'C': 0.016559736977288568, 'gamma': 0.05566630729199349, 'epsilon': 0.002233307468873003}. Best is trial 1038 with value: -0.006133775634474926.\u001b[0m\n",
      "\u001b[32m[I 2022-07-24 18:12:01,593]\u001b[0m Trial 1860 finished with value: -0.0061670587063307305 and parameters: {'kernel': 'rbf', 'C': 0.013766938941915956, 'gamma': 0.0704506886856941, 'epsilon': 0.0018086717782183064}. Best is trial 1038 with value: -0.006133775634474926.\u001b[0m\n",
      "\u001b[32m[I 2022-07-24 18:12:01,731]\u001b[0m Trial 1861 finished with value: -0.006185390058008266 and parameters: {'kernel': 'rbf', 'C': 0.01956403624580769, 'gamma': 0.049160572277857494, 'epsilon': 0.001465243228048242}. Best is trial 1038 with value: -0.006133775634474926.\u001b[0m\n",
      "\u001b[32m[I 2022-07-24 18:12:01,834]\u001b[0m Trial 1862 finished with value: -0.006160828293075955 and parameters: {'kernel': 'rbf', 'C': 0.015750808982545474, 'gamma': 0.06224737268284187, 'epsilon': 0.002527963373502632}. Best is trial 1038 with value: -0.006133775634474926.\u001b[0m\n"
     ]
    },
    {
     "name": "stderr",
     "output_type": "stream",
     "text": [
      "\u001b[32m[I 2022-07-24 18:12:01,980]\u001b[0m Trial 1863 finished with value: -0.00619042559058701 and parameters: {'kernel': 'rbf', 'C': 0.023322089120537837, 'gamma': 0.07700671253157879, 'epsilon': 0.001981923035447448}. Best is trial 1038 with value: -0.006133775634474926.\u001b[0m\n",
      "\u001b[32m[I 2022-07-24 18:12:02,095]\u001b[0m Trial 1864 finished with value: -0.006182821722871018 and parameters: {'kernel': 'rbf', 'C': 0.017569767351443243, 'gamma': 0.0598539907929272, 'epsilon': 0.0028671016398416314}. Best is trial 1038 with value: -0.006133775634474926.\u001b[0m\n",
      "\u001b[32m[I 2022-07-24 18:12:02,260]\u001b[0m Trial 1865 finished with value: -0.006171047930283234 and parameters: {'kernel': 'rbf', 'C': 0.014052465855582973, 'gamma': 0.07354215683247968, 'epsilon': 0.0016887574203167338}. Best is trial 1038 with value: -0.006133775634474926.\u001b[0m\n",
      "\u001b[32m[I 2022-07-24 18:12:02,331]\u001b[0m Trial 1866 finished with value: -0.012437378058417875 and parameters: {'kernel': 'rbf', 'C': 0.012525966727617698, 'gamma': 0.08094668853554789, 'epsilon': 0.01488241721089711}. Best is trial 1038 with value: -0.006133775634474926.\u001b[0m\n",
      "\u001b[32m[I 2022-07-24 18:12:02,455]\u001b[0m Trial 1867 finished with value: -0.006183973412977401 and parameters: {'kernel': 'rbf', 'C': 0.015328393386968425, 'gamma': 0.05300466759554146, 'epsilon': 0.00217322373757696}. Best is trial 1038 with value: -0.006133775634474926.\u001b[0m\n",
      "\u001b[32m[I 2022-07-24 18:12:02,566]\u001b[0m Trial 1868 finished with value: -0.006169517966980232 and parameters: {'kernel': 'rbf', 'C': 0.018777536280025608, 'gamma': 0.06588971777234358, 'epsilon': 0.0025485371700189876}. Best is trial 1038 with value: -0.006133775634474926.\u001b[0m\n",
      "\u001b[32m[I 2022-07-24 18:12:02,720]\u001b[0m Trial 1869 finished with value: -0.006235329838502337 and parameters: {'kernel': 'rbf', 'C': 0.013096041167003372, 'gamma': 0.04317221785526474, 'epsilon': 0.001962150509877624}. Best is trial 1038 with value: -0.006133775634474926.\u001b[0m\n",
      "\u001b[32m[I 2022-07-24 18:12:02,920]\u001b[0m Trial 1870 finished with value: -0.006371580595575382 and parameters: {'kernel': 'rbf', 'C': 0.05672313023576381, 'gamma': 0.0738512915871849, 'epsilon': 0.0012389203764429748}. Best is trial 1038 with value: -0.006133775634474926.\u001b[0m\n",
      "\u001b[32m[I 2022-07-24 18:12:03,061]\u001b[0m Trial 1871 finished with value: -0.006172932177446845 and parameters: {'kernel': 'rbf', 'C': 0.02107922449434666, 'gamma': 0.06337544642899019, 'epsilon': 0.0015930749216338767}. Best is trial 1038 with value: -0.006133775634474926.\u001b[0m\n",
      "\u001b[32m[I 2022-07-24 18:12:03,180]\u001b[0m Trial 1872 finished with value: -0.006166325415401969 and parameters: {'kernel': 'rbf', 'C': 0.016442092444352113, 'gamma': 0.08410645730256036, 'epsilon': 0.002281185411675117}. Best is trial 1038 with value: -0.006133775634474926.\u001b[0m\n",
      "\u001b[32m[I 2022-07-24 18:12:03,353]\u001b[0m Trial 1873 finished with value: -0.0061694845756298106 and parameters: {'kernel': 'rbf', 'C': 0.014565873743188821, 'gamma': 0.057207564185718374, 'epsilon': 0.0018266807823812924}. Best is trial 1038 with value: -0.006133775634474926.\u001b[0m\n",
      "\u001b[32m[I 2022-07-24 18:12:03,479]\u001b[0m Trial 1874 finished with value: -0.006206900113185111 and parameters: {'kernel': 'rbf', 'C': 0.017889389815135538, 'gamma': 0.06955526162613296, 'epsilon': 0.002967987782663573}. Best is trial 1038 with value: -0.006133775634474926.\u001b[0m\n",
      "\u001b[32m[I 2022-07-24 18:12:03,598]\u001b[0m Trial 1875 finished with value: -0.006204927223576791 and parameters: {'kernel': 'rbf', 'C': 0.012655094769744744, 'gamma': 0.049006844922438966, 'epsilon': 0.002134625046967146}. Best is trial 1038 with value: -0.006133775634474926.\u001b[0m\n",
      "\u001b[32m[I 2022-07-24 18:12:03,762]\u001b[0m Trial 1876 finished with value: -0.006250883658651382 and parameters: {'kernel': 'rbf', 'C': 0.02860989283780079, 'gamma': 0.0803160711231412, 'epsilon': 0.0025504609368743494}. Best is trial 1038 with value: -0.006133775634474926.\u001b[0m\n",
      "\u001b[32m[I 2022-07-24 18:12:03,893]\u001b[0m Trial 1877 finished with value: -0.006299127587905989 and parameters: {'kernel': 'rbf', 'C': 0.014995846965310937, 'gamma': 0.027159161860106005, 'epsilon': 0.0019497227038466891}. Best is trial 1038 with value: -0.006133775634474926.\u001b[0m\n",
      "\u001b[32m[I 2022-07-24 18:12:04,042]\u001b[0m Trial 1878 finished with value: -0.006183037005107211 and parameters: {'kernel': 'rbf', 'C': 0.0205522135567613, 'gamma': 0.06656915275663075, 'epsilon': 0.001624476201803153}. Best is trial 1038 with value: -0.006133775634474926.\u001b[0m\n",
      "\u001b[32m[I 2022-07-24 18:12:04,167]\u001b[0m Trial 1879 finished with value: -0.006152218736698048 and parameters: {'kernel': 'rbf', 'C': 0.011595245420747033, 'gamma': 0.08256388004986158, 'epsilon': 0.002388433049871951}. Best is trial 1038 with value: -0.006133775634474926.\u001b[0m\n",
      "\u001b[32m[I 2022-07-24 18:12:04,289]\u001b[0m Trial 1880 finished with value: -0.006156380773866001 and parameters: {'kernel': 'rbf', 'C': 0.017591411312366138, 'gamma': 0.05624379101334177, 'epsilon': 0.0022216304896707007}. Best is trial 1038 with value: -0.006133775634474926.\u001b[0m\n",
      "\u001b[32m[I 2022-07-24 18:12:04,454]\u001b[0m Trial 1881 finished with value: -0.006169097278078353 and parameters: {'kernel': 'rbf', 'C': 0.01347351626325522, 'gamma': 0.07308837971648825, 'epsilon': 0.0013809642375404514}. Best is trial 1038 with value: -0.006133775634474926.\u001b[0m\n",
      "\u001b[32m[I 2022-07-24 18:12:04,632]\u001b[0m Trial 1882 finished with value: -0.006269165905909396 and parameters: {'kernel': 'rbf', 'C': 0.024779742448217883, 'gamma': 0.0904934270216816, 'epsilon': 0.0029353240260662915}. Best is trial 1038 with value: -0.006133775634474926.\u001b[0m\n",
      "\u001b[32m[I 2022-07-24 18:12:04,760]\u001b[0m Trial 1883 finished with value: -0.006167356313578933 and parameters: {'kernel': 'rbf', 'C': 0.015171205131276209, 'gamma': 0.05992181543242666, 'epsilon': 0.0018339713592244375}. Best is trial 1038 with value: -0.006133775634474926.\u001b[0m\n",
      "\u001b[32m[I 2022-07-24 18:12:04,863]\u001b[0m Trial 1884 finished with value: -0.006166599928099393 and parameters: {'kernel': 'rbf', 'C': 0.016900946881202864, 'gamma': 0.07375628257235939, 'epsilon': 0.0026064730553023966}. Best is trial 1038 with value: -0.006133775634474926.\u001b[0m\n",
      "\u001b[32m[I 2022-07-24 18:12:05,049]\u001b[0m Trial 1885 finished with value: -0.006819447348855777 and parameters: {'kernel': 'poly', 'C': 0.012608263134424194, 'gamma': 0.06495079162380978, 'epsilon': 0.0020331444070000176}. Best is trial 1038 with value: -0.006133775634474926.\u001b[0m\n",
      "\u001b[32m[I 2022-07-24 18:12:05,149]\u001b[0m Trial 1886 finished with value: -0.006276101847022374 and parameters: {'kernel': 'rbf', 'C': 0.019792670311596393, 'gamma': 0.03633545636214535, 'epsilon': 0.003606336663193792}. Best is trial 1038 with value: -0.006133775634474926.\u001b[0m\n",
      "\u001b[32m[I 2022-07-24 18:12:05,282]\u001b[0m Trial 1887 finished with value: -0.006174297807906491 and parameters: {'kernel': 'rbf', 'C': 0.010010349923697346, 'gamma': 0.08453642829093101, 'epsilon': 0.0016863547748988776}. Best is trial 1038 with value: -0.006133775634474926.\u001b[0m\n",
      "\u001b[32m[I 2022-07-24 18:12:05,421]\u001b[0m Trial 1888 finished with value: -0.006160727899310052 and parameters: {'kernel': 'rbf', 'C': 0.014664390477973646, 'gamma': 0.09164525808944336, 'epsilon': 0.0022399198521517514}. Best is trial 1038 with value: -0.006133775634474926.\u001b[0m\n",
      "\u001b[32m[I 2022-07-24 18:12:05,562]\u001b[0m Trial 1889 finished with value: -0.006232942120430768 and parameters: {'kernel': 'rbf', 'C': 0.011309928780011925, 'gamma': 0.04509613186785106, 'epsilon': 0.002590117631404256}. Best is trial 1038 with value: -0.006133775634474926.\u001b[0m\n",
      "\u001b[32m[I 2022-07-24 18:12:05,706]\u001b[0m Trial 1890 finished with value: -0.006181804472482112 and parameters: {'kernel': 'rbf', 'C': 0.016583449242082406, 'gamma': 0.05553472212255429, 'epsilon': 0.0014983739084809997}. Best is trial 1038 with value: -0.006133775634474926.\u001b[0m\n",
      "\u001b[32m[I 2022-07-24 18:12:05,810]\u001b[0m Trial 1891 finished with value: -0.00615978690492729 and parameters: {'kernel': 'rbf', 'C': 0.013397802119467901, 'gamma': 0.07800673965363811, 'epsilon': 0.0019300122240840296}. Best is trial 1038 with value: -0.006133775634474926.\u001b[0m\n",
      "\u001b[32m[I 2022-07-24 18:12:05,945]\u001b[0m Trial 1892 finished with value: -0.0061561973957552875 and parameters: {'kernel': 'rbf', 'C': 0.018055292407931415, 'gamma': 0.07028442728475949, 'epsilon': 0.0022613770513504393}. Best is trial 1038 with value: -0.006133775634474926.\u001b[0m\n"
     ]
    },
    {
     "name": "stderr",
     "output_type": "stream",
     "text": [
      "\u001b[32m[I 2022-07-24 18:12:06,004]\u001b[0m Trial 1893 finished with value: -0.03564469137116575 and parameters: {'kernel': 'rbf', 'C': 0.023534635753061323, 'gamma': 0.05077973174363118, 'epsilon': 0.2385185698677349}. Best is trial 1038 with value: -0.006133775634474926.\u001b[0m\n",
      "\u001b[32m[I 2022-07-24 18:12:06,095]\u001b[0m Trial 1894 finished with value: -0.006205431179059387 and parameters: {'kernel': 'rbf', 'C': 0.01462099469244592, 'gamma': 0.062265589176636854, 'epsilon': 0.003134087063480316}. Best is trial 1038 with value: -0.006133775634474926.\u001b[0m\n",
      "\u001b[32m[I 2022-07-24 18:12:06,232]\u001b[0m Trial 1895 finished with value: -0.006170823424340939 and parameters: {'kernel': 'rbf', 'C': 0.011502821925418879, 'gamma': 0.09883838936490098, 'epsilon': 0.0017611565334871384}. Best is trial 1038 with value: -0.006133775634474926.\u001b[0m\n",
      "\u001b[32m[I 2022-07-24 18:12:06,395]\u001b[0m Trial 1896 finished with value: -0.006167337147077476 and parameters: {'kernel': 'rbf', 'C': 0.020947088798017544, 'gamma': 0.07525165369418393, 'epsilon': 0.0020743578509588153}. Best is trial 1038 with value: -0.006133775634474926.\u001b[0m\n",
      "\u001b[32m[I 2022-07-24 18:12:06,535]\u001b[0m Trial 1897 finished with value: -0.006155515162468385 and parameters: {'kernel': 'rbf', 'C': 0.012954479313338619, 'gamma': 0.08422371887393505, 'epsilon': 0.0024666781302223454}. Best is trial 1038 with value: -0.006133775634474926.\u001b[0m\n",
      "\u001b[32m[I 2022-07-24 18:12:06,669]\u001b[0m Trial 1898 finished with value: -0.00615969882818638 and parameters: {'kernel': 'rbf', 'C': 0.016485150938810856, 'gamma': 0.05967957360207798, 'epsilon': 0.0027548869034101668}. Best is trial 1038 with value: -0.006133775634474926.\u001b[0m\n",
      "\u001b[32m[I 2022-07-24 18:12:06,814]\u001b[0m Trial 1899 finished with value: -0.006188443609525011 and parameters: {'kernel': 'rbf', 'C': 0.01873842493807214, 'gamma': 0.06780951242133709, 'epsilon': 0.0010819001195296201}. Best is trial 1038 with value: -0.006133775634474926.\u001b[0m\n",
      "\u001b[32m[I 2022-07-24 18:12:06,980]\u001b[0m Trial 1900 finished with value: -0.006179339203729521 and parameters: {'kernel': 'rbf', 'C': 0.014836957567443354, 'gamma': 0.09509057948081462, 'epsilon': 0.0019923890411725504}. Best is trial 1038 with value: -0.006133775634474926.\u001b[0m\n",
      "\u001b[32m[I 2022-07-24 18:12:07,134]\u001b[0m Trial 1901 finished with value: -0.0061712233859559885 and parameters: {'kernel': 'rbf', 'C': 0.012773538188482942, 'gamma': 0.0785630324567319, 'epsilon': 0.001612158244632214}. Best is trial 1038 with value: -0.006133775634474926.\u001b[0m\n",
      "\u001b[32m[I 2022-07-24 18:12:07,627]\u001b[0m Trial 1902 finished with value: -0.0075194731126415 and parameters: {'kernel': 'rbf', 'C': 2.271312629756767, 'gamma': 0.05325487568733685, 'epsilon': 0.0022529370796718347}. Best is trial 1038 with value: -0.006133775634474926.\u001b[0m\n",
      "\u001b[32m[I 2022-07-24 18:12:07,855]\u001b[0m Trial 1903 finished with value: -0.006151737078048256 and parameters: {'kernel': 'rbf', 'C': 0.01617416093596507, 'gamma': 0.06648800550705786, 'epsilon': 0.0017926280996158896}. Best is trial 1038 with value: -0.006133775634474926.\u001b[0m\n",
      "\u001b[32m[I 2022-07-24 18:12:08,106]\u001b[0m Trial 1904 finished with value: -0.006432823749911589 and parameters: {'kernel': 'rbf', 'C': 0.01117411718204882, 'gamma': 0.10591021030444521, 'epsilon': 0.0041141611033771825}. Best is trial 1038 with value: -0.006133775634474926.\u001b[0m\n",
      "\u001b[32m[I 2022-07-24 18:12:08,319]\u001b[0m Trial 1905 finished with value: -0.006289277703414736 and parameters: {'kernel': 'rbf', 'C': 0.033681399028930026, 'gamma': 0.08369315218991326, 'epsilon': 0.0013571852347184859}. Best is trial 1038 with value: -0.006133775634474926.\u001b[0m\n",
      "\u001b[32m[I 2022-07-24 18:12:08,460]\u001b[0m Trial 1906 finished with value: -0.006162502744293987 and parameters: {'kernel': 'rbf', 'C': 0.01364632644416313, 'gamma': 0.07129427570066176, 'epsilon': 0.0024738478766908583}. Best is trial 1038 with value: -0.006133775634474926.\u001b[0m\n",
      "\u001b[32m[I 2022-07-24 18:12:08,606]\u001b[0m Trial 1907 finished with value: -0.006149992984232851 and parameters: {'kernel': 'rbf', 'C': 0.022214303690062765, 'gamma': 0.05862801302177561, 'epsilon': 0.0020443420398512675}. Best is trial 1038 with value: -0.006133775634474926.\u001b[0m\n",
      "\u001b[32m[I 2022-07-24 18:12:08,754]\u001b[0m Trial 1908 finished with value: -0.006275188947385458 and parameters: {'kernel': 'rbf', 'C': 0.018590180569327253, 'gamma': 0.09271916482399958, 'epsilon': 0.0031625554631674884}. Best is trial 1038 with value: -0.006133775634474926.\u001b[0m\n",
      "\u001b[32m[I 2022-07-24 18:12:08,847]\u001b[0m Trial 1909 finished with value: -0.03564469137116574 and parameters: {'kernel': 'rbf', 'C': 0.015397452502573017, 'gamma': 0.04596473343588668, 'epsilon': 0.08833447233882372}. Best is trial 1038 with value: -0.006133775634474926.\u001b[0m\n",
      "\u001b[32m[I 2022-07-24 18:12:09,019]\u001b[0m Trial 1910 finished with value: -0.006176047374651189 and parameters: {'kernel': 'rbf', 'C': 0.01230188385747262, 'gamma': 0.06416986508825201, 'epsilon': 0.0018331094437461066}. Best is trial 1038 with value: -0.006133775634474926.\u001b[0m\n",
      "\u001b[32m[I 2022-07-24 18:12:09,147]\u001b[0m Trial 1911 finished with value: -0.006174720650136446 and parameters: {'kernel': 'rbf', 'C': 0.017021079373356097, 'gamma': 0.07711782936810223, 'epsilon': 0.002306512652088173}. Best is trial 1038 with value: -0.006133775634474926.\u001b[0m\n",
      "\u001b[32m[I 2022-07-24 18:12:09,282]\u001b[0m Trial 1912 finished with value: -0.006224021984718102 and parameters: {'kernel': 'rbf', 'C': 0.011041198994851193, 'gamma': 0.05300570523053359, 'epsilon': 0.0027496848359772706}. Best is trial 1038 with value: -0.006133775634474926.\u001b[0m\n",
      "\u001b[32m[I 2022-07-24 18:12:09,412]\u001b[0m Trial 1913 finished with value: -0.006166059646806222 and parameters: {'kernel': 'rbf', 'C': 0.013567428225523587, 'gamma': 0.08799159494164056, 'epsilon': 0.0015789027587747655}. Best is trial 1038 with value: -0.006133775634474926.\u001b[0m\n",
      "\u001b[32m[I 2022-07-24 18:12:09,598]\u001b[0m Trial 1914 finished with value: -0.006795878101208988 and parameters: {'kernel': 'poly', 'C': 0.01948464091464408, 'gamma': 0.0715318038292202, 'epsilon': 0.0019670209985223216}. Best is trial 1038 with value: -0.006133775634474926.\u001b[0m\n",
      "\u001b[32m[I 2022-07-24 18:12:09,722]\u001b[0m Trial 1915 finished with value: -0.006210248479549878 and parameters: {'kernel': 'rbf', 'C': 0.015269530728522999, 'gamma': 0.11181379140212133, 'epsilon': 0.002264379777408108}. Best is trial 1038 with value: -0.006133775634474926.\u001b[0m\n",
      "\u001b[32m[I 2022-07-24 18:12:09,887]\u001b[0m Trial 1916 finished with value: -0.00616754670613548 and parameters: {'kernel': 'rbf', 'C': 0.013818017709854542, 'gamma': 0.06314302838936048, 'epsilon': 0.0017244750404316847}. Best is trial 1038 with value: -0.006133775634474926.\u001b[0m\n",
      "\u001b[32m[I 2022-07-24 18:12:10,044]\u001b[0m Trial 1917 finished with value: -0.006248761854010119 and parameters: {'kernel': 'rbf', 'C': 0.026639635168850945, 'gamma': 0.08037308087278963, 'epsilon': 0.002687161702885124}. Best is trial 1038 with value: -0.006133775634474926.\u001b[0m\n",
      "\u001b[32m[I 2022-07-24 18:12:10,186]\u001b[0m Trial 1918 finished with value: -0.006160060267482038 and parameters: {'kernel': 'rbf', 'C': 0.01736792584277804, 'gamma': 0.06923035628377368, 'epsilon': 0.002133792976373798}. Best is trial 1038 with value: -0.006133775634474926.\u001b[0m\n",
      "\u001b[32m[I 2022-07-24 18:12:10,331]\u001b[0m Trial 1919 finished with value: -0.006229973415067005 and parameters: {'kernel': 'rbf', 'C': 0.021386671136644452, 'gamma': 0.09782158375850904, 'epsilon': 0.0014183427924009595}. Best is trial 1038 with value: -0.006133775634474926.\u001b[0m\n",
      "\u001b[32m[I 2022-07-24 18:12:10,448]\u001b[0m Trial 1920 finished with value: -0.0062306645422486075 and parameters: {'kernel': 'rbf', 'C': 0.0100556614380488, 'gamma': 0.05472066509839831, 'epsilon': 0.002416906030966357}. Best is trial 1038 with value: -0.006133775634474926.\u001b[0m\n",
      "\u001b[32m[I 2022-07-24 18:12:10,569]\u001b[0m Trial 1921 finished with value: -0.006166895104900673 and parameters: {'kernel': 'rbf', 'C': 0.012219109601833594, 'gamma': 0.0861043227863215, 'epsilon': 0.0018880305775537567}. Best is trial 1038 with value: -0.006133775634474926.\u001b[0m\n",
      "\u001b[32m[I 2022-07-24 18:12:10,686]\u001b[0m Trial 1922 finished with value: -0.0061876110454856794 and parameters: {'kernel': 'rbf', 'C': 0.015303000342254063, 'gamma': 0.06135755890407937, 'epsilon': 0.0029137152484269404}. Best is trial 1038 with value: -0.006133775634474926.\u001b[0m\n"
     ]
    },
    {
     "name": "stderr",
     "output_type": "stream",
     "text": [
      "\u001b[32m[I 2022-07-24 18:12:10,814]\u001b[0m Trial 1923 finished with value: -0.00617232843825572 and parameters: {'kernel': 'rbf', 'C': 0.019537678849008894, 'gamma': 0.07580859417135602, 'epsilon': 0.002083575391913043}. Best is trial 1038 with value: -0.006133775634474926.\u001b[0m\n",
      "\u001b[32m[I 2022-07-24 18:12:10,949]\u001b[0m Trial 1924 finished with value: -0.0062072209027483295 and parameters: {'kernel': 'rbf', 'C': 0.014139232799146797, 'gamma': 0.04764095119516078, 'epsilon': 0.0016317860000414598}. Best is trial 1038 with value: -0.006133775634474926.\u001b[0m\n",
      "\u001b[32m[I 2022-07-24 18:12:11,063]\u001b[0m Trial 1925 finished with value: -0.006184319221896452 and parameters: {'kernel': 'rbf', 'C': 0.011501069973727733, 'gamma': 0.1028855563507173, 'epsilon': 0.0024606718258304927}. Best is trial 1038 with value: -0.006133775634474926.\u001b[0m\n",
      "\u001b[32m[I 2022-07-24 18:12:11,185]\u001b[0m Trial 1926 finished with value: -0.006260273519795678 and parameters: {'kernel': 'rbf', 'C': 0.016804587189963516, 'gamma': 0.06737838976329734, 'epsilon': 0.0034082755457050732}. Best is trial 1038 with value: -0.006133775634474926.\u001b[0m\n",
      "\u001b[32m[I 2022-07-24 18:12:11,318]\u001b[0m Trial 1927 finished with value: -0.0062530943868629564 and parameters: {'kernel': 'rbf', 'C': 0.013129582222791961, 'gamma': 0.039270792836733695, 'epsilon': 0.0018280523677609616}. Best is trial 1038 with value: -0.006133775634474926.\u001b[0m\n",
      "\u001b[32m[I 2022-07-24 18:12:11,451]\u001b[0m Trial 1928 finished with value: -0.006146460883026471 and parameters: {'kernel': 'rbf', 'C': 0.016487482603551054, 'gamma': 0.07800469827508041, 'epsilon': 0.0020730488951403577}. Best is trial 1038 with value: -0.006133775634474926.\u001b[0m\n",
      "\u001b[32m[I 2022-07-24 18:12:11,581]\u001b[0m Trial 1929 finished with value: -0.006167906091707093 and parameters: {'kernel': 'rbf', 'C': 0.021973246153216063, 'gamma': 0.05587766038114176, 'epsilon': 0.0024200204279354477}. Best is trial 1038 with value: -0.006133775634474926.\u001b[0m\n",
      "\u001b[32m[I 2022-07-24 18:12:11,727]\u001b[0m Trial 1930 finished with value: -0.006361472591333815 and parameters: {'kernel': 'rbf', 'C': 0.04447305638293165, 'gamma': 0.08874148285606612, 'epsilon': 0.0015684033717280068}. Best is trial 1038 with value: -0.006133775634474926.\u001b[0m\n",
      "\u001b[32m[I 2022-07-24 18:12:11,896]\u001b[0m Trial 1931 finished with value: -0.006193673111472424 and parameters: {'kernel': 'rbf', 'C': 0.0187320872169549, 'gamma': 0.06469261080085471, 'epsilon': 0.0012045632891033902}. Best is trial 1038 with value: -0.006133775634474926.\u001b[0m\n",
      "\u001b[32m[I 2022-07-24 18:12:12,012]\u001b[0m Trial 1932 finished with value: -0.0061862382352489325 and parameters: {'kernel': 'rbf', 'C': 0.014567636910908283, 'gamma': 0.07395933666840795, 'epsilon': 0.0027988923670319004}. Best is trial 1038 with value: -0.006133775634474926.\u001b[0m\n",
      "\u001b[32m[I 2022-07-24 18:12:12,120]\u001b[0m Trial 1933 finished with value: -0.006163167989129915 and parameters: {'kernel': 'rbf', 'C': 0.0113329852936622, 'gamma': 0.09402108072966996, 'epsilon': 0.0021445310452295327}. Best is trial 1038 with value: -0.006133775634474926.\u001b[0m\n",
      "\u001b[32m[I 2022-07-24 18:12:12,251]\u001b[0m Trial 1934 finished with value: -0.006207093503419997 and parameters: {'kernel': 'rbf', 'C': 0.010024253407113964, 'gamma': 0.06076825093122481, 'epsilon': 0.0018285533196561745}. Best is trial 1038 with value: -0.006133775634474926.\u001b[0m\n",
      "\u001b[32m[I 2022-07-24 18:12:12,360]\u001b[0m Trial 1935 finished with value: -0.006217903813353474 and parameters: {'kernel': 'rbf', 'C': 0.012625274736562355, 'gamma': 0.1207692855550278, 'epsilon': 0.0023611670250304143}. Best is trial 1038 with value: -0.006133775634474926.\u001b[0m\n",
      "\u001b[32m[I 2022-07-24 18:12:12,495]\u001b[0m Trial 1936 finished with value: -0.00618431120779829 and parameters: {'kernel': 'rbf', 'C': 0.016078534937983096, 'gamma': 0.05047653930858727, 'epsilon': 0.0019737862910452065}. Best is trial 1038 with value: -0.006133775634474926.\u001b[0m\n",
      "\u001b[32m[I 2022-07-24 18:12:12,788]\u001b[0m Trial 1937 finished with value: -0.007309555683284632 and parameters: {'kernel': 'rbf', 'C': 1.063714182163916, 'gamma': 0.08023782561736771, 'epsilon': 0.001522368489170374}. Best is trial 1038 with value: -0.006133775634474926.\u001b[0m\n",
      "\u001b[32m[I 2022-07-24 18:12:12,944]\u001b[0m Trial 1938 finished with value: -0.006210395421640108 and parameters: {'kernel': 'rbf', 'C': 0.024150222669295274, 'gamma': 0.07006197483758257, 'epsilon': 0.0026881843051443383}. Best is trial 1038 with value: -0.006133775634474926.\u001b[0m\n",
      "\u001b[32m[I 2022-07-24 18:12:13,113]\u001b[0m Trial 1939 finished with value: -0.006157395720613784 and parameters: {'kernel': 'rbf', 'C': 0.01410577958222888, 'gamma': 0.08586518868802918, 'epsilon': 0.0021722848382753177}. Best is trial 1038 with value: -0.006133775634474926.\u001b[0m\n",
      "\u001b[32m[I 2022-07-24 18:12:13,372]\u001b[0m Trial 1940 finished with value: -0.006871688592371792 and parameters: {'kernel': 'poly', 'C': 0.01704299004198808, 'gamma': 0.059232889642808546, 'epsilon': 0.0017494564900815558}. Best is trial 1038 with value: -0.006133775634474926.\u001b[0m\n",
      "\u001b[32m[I 2022-07-24 18:12:13,516]\u001b[0m Trial 1941 finished with value: -0.006304729518292353 and parameters: {'kernel': 'rbf', 'C': 0.020363137753456908, 'gamma': 0.09908462888791082, 'epsilon': 0.0031560140844823243}. Best is trial 1038 with value: -0.006133775634474926.\u001b[0m\n",
      "\u001b[32m[I 2022-07-24 18:12:13,665]\u001b[0m Trial 1942 finished with value: -0.0061751180113589444 and parameters: {'kernel': 'rbf', 'C': 0.010038335740781475, 'gamma': 0.07137033768420159, 'epsilon': 0.0025075532861888327}. Best is trial 1038 with value: -0.006133775634474926.\u001b[0m\n",
      "\u001b[32m[I 2022-07-24 18:12:13,783]\u001b[0m Trial 1943 finished with value: -0.006157196926362389 and parameters: {'kernel': 'rbf', 'C': 0.012074665102944498, 'gamma': 0.08248717829420942, 'epsilon': 0.0020323540271325073}. Best is trial 1038 with value: -0.006133775634474926.\u001b[0m\n",
      "\u001b[32m[I 2022-07-24 18:12:13,921]\u001b[0m Trial 1944 finished with value: -0.006194874666552973 and parameters: {'kernel': 'rbf', 'C': 0.01515333168871151, 'gamma': 0.053067274647644776, 'epsilon': 0.0017491689978004104}. Best is trial 1038 with value: -0.006133775634474926.\u001b[0m\n",
      "\u001b[32m[I 2022-07-24 18:12:13,997]\u001b[0m Trial 1945 finished with value: -0.03564469137116575 and parameters: {'kernel': 'rbf', 'C': 0.01873370729153299, 'gamma': 0.04299394553450489, 'epsilon': 0.4468500632503109}. Best is trial 1038 with value: -0.006133775634474926.\u001b[0m\n",
      "\u001b[32m[I 2022-07-24 18:12:14,155]\u001b[0m Trial 1946 finished with value: -0.0061944782019556855 and parameters: {'kernel': 'rbf', 'C': 0.013435999005022741, 'gamma': 0.10779307756462796, 'epsilon': 0.0013847820264060358}. Best is trial 1038 with value: -0.006133775634474926.\u001b[0m\n",
      "\u001b[32m[I 2022-07-24 18:12:14,273]\u001b[0m Trial 1947 finished with value: -0.006171825852004973 and parameters: {'kernel': 'rbf', 'C': 0.011243943404173265, 'gamma': 0.064957017424347, 'epsilon': 0.002197784567763622}. Best is trial 1038 with value: -0.006133775634474926.\u001b[0m\n",
      "\u001b[32m[I 2022-07-24 18:12:14,399]\u001b[0m Trial 1948 finished with value: -0.006185717678858747 and parameters: {'kernel': 'rbf', 'C': 0.015668657915548084, 'gamma': 0.0759009687417188, 'epsilon': 0.002837762754319662}. Best is trial 1038 with value: -0.006133775634474926.\u001b[0m\n",
      "\u001b[32m[I 2022-07-24 18:12:14,524]\u001b[0m Trial 1949 finished with value: -0.006190782548313514 and parameters: {'kernel': 'rbf', 'C': 0.01803174224718408, 'gamma': 0.0896464613173182, 'epsilon': 0.002344884875607833}. Best is trial 1038 with value: -0.006133775634474926.\u001b[0m\n",
      "\u001b[32m[I 2022-07-24 18:12:14,660]\u001b[0m Trial 1950 finished with value: -0.006220458827356399 and parameters: {'kernel': 'rbf', 'C': 0.010011651450966594, 'gamma': 0.05808356129890985, 'epsilon': 0.0018920122633433725}. Best is trial 1038 with value: -0.006133775634474926.\u001b[0m\n",
      "\u001b[32m[I 2022-07-24 18:12:14,792]\u001b[0m Trial 1951 finished with value: -0.00616353817563886 and parameters: {'kernel': 'rbf', 'C': 0.013712532682364624, 'gamma': 0.06710475341408292, 'epsilon': 0.0016202822469358294}. Best is trial 1038 with value: -0.006133775634474926.\u001b[0m\n",
      "\u001b[32m[I 2022-07-24 18:12:14,937]\u001b[0m Trial 1952 finished with value: -0.006159535771334326 and parameters: {'kernel': 'rbf', 'C': 0.012358934027377783, 'gamma': 0.07845642787962166, 'epsilon': 0.002540446481087299}. Best is trial 1038 with value: -0.006133775634474926.\u001b[0m\n"
     ]
    },
    {
     "name": "stderr",
     "output_type": "stream",
     "text": [
      "\u001b[32m[I 2022-07-24 18:12:15,183]\u001b[0m Trial 1953 finished with value: -0.006211812147833918 and parameters: {'kernel': 'rbf', 'C': 0.02171903264597042, 'gamma': 0.09654329175259452, 'epsilon': 0.0019744061358203994}. Best is trial 1038 with value: -0.006133775634474926.\u001b[0m\n",
      "\u001b[32m[I 2022-07-24 18:12:15,301]\u001b[0m Trial 1954 finished with value: -0.006147184122019662 and parameters: {'kernel': 'rbf', 'C': 0.015801830298441767, 'gamma': 0.07036026817005077, 'epsilon': 0.002178158354892867}. Best is trial 1038 with value: -0.006133775634474926.\u001b[0m\n",
      "\u001b[32m[I 2022-07-24 18:12:15,423]\u001b[0m Trial 1955 finished with value: -0.0061890022326165335 and parameters: {'kernel': 'rbf', 'C': 0.018177478814477843, 'gamma': 0.05220096268778072, 'epsilon': 0.003025001551107267}. Best is trial 1038 with value: -0.006133775634474926.\u001b[0m\n",
      "\u001b[32m[I 2022-07-24 18:12:15,571]\u001b[0m Trial 1956 finished with value: -0.006195940458468457 and parameters: {'kernel': 'rbf', 'C': 0.014197649799193324, 'gamma': 0.11653797348546953, 'epsilon': 0.0018180728288953111}. Best is trial 1038 with value: -0.006133775634474926.\u001b[0m\n",
      "\u001b[32m[I 2022-07-24 18:12:15,704]\u001b[0m Trial 1957 finished with value: -0.006194505662253166 and parameters: {'kernel': 'rbf', 'C': 0.025528326043415133, 'gamma': 0.060762931410226095, 'epsilon': 0.0024275870619340826}. Best is trial 1038 with value: -0.006133775634474926.\u001b[0m\n",
      "\u001b[32m[I 2022-07-24 18:12:15,837]\u001b[0m Trial 1958 finished with value: -0.006166677684587255 and parameters: {'kernel': 'rbf', 'C': 0.012345447649558734, 'gamma': 0.07903916491113108, 'epsilon': 0.0015577375215327042}. Best is trial 1038 with value: -0.006133775634474926.\u001b[0m\n",
      "\u001b[32m[I 2022-07-24 18:12:15,958]\u001b[0m Trial 1959 finished with value: -0.006333298826705555 and parameters: {'kernel': 'rbf', 'C': 0.016575110876250507, 'gamma': 0.08784891634890213, 'epsilon': 0.00362487520976052}. Best is trial 1038 with value: -0.006133775634474926.\u001b[0m\n",
      "\u001b[32m[I 2022-07-24 18:12:16,144]\u001b[0m Trial 1960 finished with value: -0.006173297523668815 and parameters: {'kernel': 'rbf', 'C': 0.019665512949950885, 'gamma': 0.049038994573924626, 'epsilon': 0.0021313601695926734}. Best is trial 1038 with value: -0.006133775634474926.\u001b[0m\n",
      "\u001b[32m[I 2022-07-24 18:12:16,244]\u001b[0m Trial 1961 finished with value: -0.006164726880713514 and parameters: {'kernel': 'rbf', 'C': 0.01448805057464904, 'gamma': 0.06843636942546437, 'epsilon': 0.0027042422827429843}. Best is trial 1038 with value: -0.006133775634474926.\u001b[0m\n",
      "\u001b[32m[I 2022-07-24 18:12:16,390]\u001b[0m Trial 1962 finished with value: -0.006196129623209384 and parameters: {'kernel': 'rbf', 'C': 0.011701647414584208, 'gamma': 0.05848553624708843, 'epsilon': 0.0019017230218483176}. Best is trial 1038 with value: -0.006133775634474926.\u001b[0m\n",
      "\u001b[32m[I 2022-07-24 18:12:16,529]\u001b[0m Trial 1963 finished with value: -0.00618797905757925 and parameters: {'kernel': 'rbf', 'C': 0.01749815833176076, 'gamma': 0.07699543675348099, 'epsilon': 0.0013599814883836357}. Best is trial 1038 with value: -0.006133775634474926.\u001b[0m\n",
      "\u001b[32m[I 2022-07-24 18:12:16,650]\u001b[0m Trial 1964 finished with value: -0.006267643333911662 and parameters: {'kernel': 'rbf', 'C': 0.013512614384738072, 'gamma': 0.16594145278480563, 'epsilon': 0.002320763148044542}. Best is trial 1038 with value: -0.006133775634474926.\u001b[0m\n",
      "\u001b[32m[I 2022-07-24 18:12:16,767]\u001b[0m Trial 1965 finished with value: -0.006178957289080235 and parameters: {'kernel': 'rbf', 'C': 0.015434290780417702, 'gamma': 0.10245968105749409, 'epsilon': 0.001760176379958271}. Best is trial 1038 with value: -0.006133775634474926.\u001b[0m\n",
      "\u001b[32m[I 2022-07-24 18:12:16,925]\u001b[0m Trial 1966 finished with value: -0.006522726124525102 and parameters: {'kernel': 'rbf', 'C': 0.10372297000929474, 'gamma': 0.06474572236390638, 'epsilon': 0.0021260754635526583}. Best is trial 1038 with value: -0.006133775634474926.\u001b[0m\n",
      "\u001b[32m[I 2022-07-24 18:12:17,118]\u001b[0m Trial 1967 finished with value: -0.006733428142381727 and parameters: {'kernel': 'poly', 'C': 0.02257163393808415, 'gamma': 0.08817294305645941, 'epsilon': 0.0025533901680269053}. Best is trial 1038 with value: -0.006133775634474926.\u001b[0m\n",
      "\u001b[32m[I 2022-07-24 18:12:17,247]\u001b[0m Trial 1968 finished with value: -0.006242347748583438 and parameters: {'kernel': 'rbf', 'C': 0.011300736321495492, 'gamma': 0.04643298853899024, 'epsilon': 0.0016651872076212562}. Best is trial 1038 with value: -0.006133775634474926.\u001b[0m\n",
      "\u001b[32m[I 2022-07-24 18:12:17,367]\u001b[0m Trial 1969 finished with value: -0.006171639585609269 and parameters: {'kernel': 'rbf', 'C': 0.01878030936558764, 'gamma': 0.07314348178810605, 'epsilon': 0.001963222230903466}. Best is trial 1038 with value: -0.006133775634474926.\u001b[0m\n",
      "\u001b[32m[I 2022-07-24 18:12:17,483]\u001b[0m Trial 1970 finished with value: -0.006303105069943075 and parameters: {'kernel': 'rbf', 'C': 0.013203202304757512, 'gamma': 0.13345556808787065, 'epsilon': 0.0030153959098838537}. Best is trial 1038 with value: -0.006133775634474926.\u001b[0m\n",
      "\u001b[32m[I 2022-07-24 18:12:17,598]\u001b[0m Trial 1971 finished with value: -0.006241640764740553 and parameters: {'kernel': 'rbf', 'C': 0.02965467807952162, 'gamma': 0.08397375844513762, 'epsilon': 0.0022929968072317713}. Best is trial 1038 with value: -0.006133775634474926.\u001b[0m\n",
      "\u001b[32m[I 2022-07-24 18:12:17,745]\u001b[0m Trial 1972 finished with value: -0.006171333402364881 and parameters: {'kernel': 'rbf', 'C': 0.016101021474400824, 'gamma': 0.055583311921982986, 'epsilon': 0.001479182004553688}. Best is trial 1038 with value: -0.006133775634474926.\u001b[0m\n",
      "\u001b[32m[I 2022-07-24 18:12:17,865]\u001b[0m Trial 1973 finished with value: -0.0061572471166011986 and parameters: {'kernel': 'rbf', 'C': 0.01453933409917728, 'gamma': 0.06508724214555092, 'epsilon': 0.001972662416522225}. Best is trial 1038 with value: -0.006133775634474926.\u001b[0m\n",
      "\u001b[32m[I 2022-07-24 18:12:17,932]\u001b[0m Trial 1974 finished with value: -0.03564469137116574 and parameters: {'kernel': 'rbf', 'C': 0.011082952468366358, 'gamma': 0.10708578090194304, 'epsilon': 0.15310511951734987}. Best is trial 1038 with value: -0.006133775634474926.\u001b[0m\n",
      "\u001b[32m[I 2022-07-24 18:12:18,070]\u001b[0m Trial 1975 finished with value: -0.006225496773818941 and parameters: {'kernel': 'rbf', 'C': 0.020635656882922043, 'gamma': 0.09496910582676175, 'epsilon': 0.00246042680196758}. Best is trial 1038 with value: -0.006133775634474926.\u001b[0m\n",
      "\u001b[32m[I 2022-07-24 18:12:18,214]\u001b[0m Trial 1976 finished with value: -0.006161479573517384 and parameters: {'kernel': 'rbf', 'C': 0.016804354898372387, 'gamma': 0.07626440154072979, 'epsilon': 0.0017278314395560716}. Best is trial 1038 with value: -0.006133775634474926.\u001b[0m\n",
      "\u001b[32m[I 2022-07-24 18:12:18,312]\u001b[0m Trial 1977 finished with value: -0.006177851727228438 and parameters: {'kernel': 'rbf', 'C': 0.012841468532485785, 'gamma': 0.06502961643030063, 'epsilon': 0.002776249203067407}. Best is trial 1038 with value: -0.006133775634474926.\u001b[0m\n",
      "\u001b[32m[I 2022-07-24 18:12:18,458]\u001b[0m Trial 1978 finished with value: -0.006150245734512675 and parameters: {'kernel': 'rbf', 'C': 0.01485982967575727, 'gamma': 0.08205010306647957, 'epsilon': 0.0020970107071951382}. Best is trial 1038 with value: -0.006133775634474926.\u001b[0m\n",
      "\u001b[32m[I 2022-07-24 18:12:18,596]\u001b[0m Trial 1979 finished with value: -0.00624697870096978 and parameters: {'kernel': 'rbf', 'C': 0.01826965434437528, 'gamma': 0.056538804046025924, 'epsilon': 0.0033498300743171126}. Best is trial 1038 with value: -0.006133775634474926.\u001b[0m\n",
      "\u001b[32m[I 2022-07-24 18:12:18,705]\u001b[0m Trial 1980 finished with value: -0.006264824810098509 and parameters: {'kernel': 'rbf', 'C': 0.012878661929829591, 'gamma': 0.037761494267763804, 'epsilon': 0.002334223404851474}. Best is trial 1038 with value: -0.006133775634474926.\u001b[0m\n",
      "\u001b[32m[I 2022-07-24 18:12:18,843]\u001b[0m Trial 1981 finished with value: -0.006172858979645775 and parameters: {'kernel': 'rbf', 'C': 0.010960288441210072, 'gamma': 0.07276088595031793, 'epsilon': 0.0018401783325927784}. Best is trial 1038 with value: -0.006133775634474926.\u001b[0m\n",
      "\u001b[32m[I 2022-07-24 18:12:18,954]\u001b[0m Trial 1982 finished with value: -0.006202702966556499 and parameters: {'kernel': 'rbf', 'C': 0.015961773402923905, 'gamma': 0.09174499814640909, 'epsilon': 0.0026283936608953156}. Best is trial 1038 with value: -0.006133775634474926.\u001b[0m\n"
     ]
    },
    {
     "name": "stderr",
     "output_type": "stream",
     "text": [
      "\u001b[32m[I 2022-07-24 18:12:19,099]\u001b[0m Trial 1983 finished with value: -0.006203645397847742 and parameters: {'kernel': 'rbf', 'C': 0.023576794275146345, 'gamma': 0.06064217191029556, 'epsilon': 0.0012036288170863675}. Best is trial 1038 with value: -0.006133775634474926.\u001b[0m\n",
      "\u001b[32m[I 2022-07-24 18:12:19,270]\u001b[0m Trial 1984 finished with value: -0.006193543216603353 and parameters: {'kernel': 'rbf', 'C': 0.020005818224661985, 'gamma': 0.04652803619784692, 'epsilon': 0.001491386012556603}. Best is trial 1038 with value: -0.006133775634474926.\u001b[0m\n",
      "\u001b[32m[I 2022-07-24 18:12:19,398]\u001b[0m Trial 1985 finished with value: -0.00614574727435242 and parameters: {'kernel': 'rbf', 'C': 0.014397396996882993, 'gamma': 0.075396195174628, 'epsilon': 0.0021047720077208326}. Best is trial 1038 with value: -0.006133775634474926.\u001b[0m\n",
      "\u001b[32m[I 2022-07-24 18:12:19,543]\u001b[0m Trial 1986 finished with value: -0.006184151667077055 and parameters: {'kernel': 'rbf', 'C': 0.010056378835752791, 'gamma': 0.1112241882919115, 'epsilon': 0.001660614974580758}. Best is trial 1038 with value: -0.006133775634474926.\u001b[0m\n",
      "\u001b[32m[I 2022-07-24 18:12:19,671]\u001b[0m Trial 1987 finished with value: -0.006156120960578264 and parameters: {'kernel': 'rbf', 'C': 0.012477232889159364, 'gamma': 0.0682248553635216, 'epsilon': 0.0022384545944726104}. Best is trial 1038 with value: -0.006133775634474926.\u001b[0m\n",
      "\u001b[32m[I 2022-07-24 18:12:19,788]\u001b[0m Trial 1988 finished with value: -0.006177092726963904 and parameters: {'kernel': 'rbf', 'C': 0.01705793633193481, 'gamma': 0.0854651354093403, 'epsilon': 0.001900146520426147}. Best is trial 1038 with value: -0.006133775634474926.\u001b[0m\n",
      "\u001b[32m[I 2022-07-24 18:12:19,899]\u001b[0m Trial 1989 finished with value: -0.006200365775652282 and parameters: {'kernel': 'rbf', 'C': 0.01417651793759958, 'gamma': 0.0515232710055102, 'epsilon': 0.0029946861908793894}. Best is trial 1038 with value: -0.006133775634474926.\u001b[0m\n",
      "\u001b[32m[I 2022-07-24 18:12:20,024]\u001b[0m Trial 1990 finished with value: -0.006205626173963197 and parameters: {'kernel': 'rbf', 'C': 0.018188489556416904, 'gamma': 0.09577512537719143, 'epsilon': 0.002418432485239712}. Best is trial 1038 with value: -0.006133775634474926.\u001b[0m\n",
      "\u001b[32m[I 2022-07-24 18:12:20,169]\u001b[0m Trial 1991 finished with value: -0.006179493053443265 and parameters: {'kernel': 'rbf', 'C': 0.011231363138298697, 'gamma': 0.06305192850259936, 'epsilon': 0.0019786616646089088}. Best is trial 1038 with value: -0.006133775634474926.\u001b[0m\n",
      "\u001b[32m[I 2022-07-24 18:12:20,283]\u001b[0m Trial 1992 finished with value: -0.006176289733465832 and parameters: {'kernel': 'rbf', 'C': 0.015423064538890351, 'gamma': 0.07258435385458825, 'epsilon': 0.0026694791978907786}. Best is trial 1038 with value: -0.006133775634474926.\u001b[0m\n",
      "\u001b[32m[I 2022-07-24 18:12:20,415]\u001b[0m Trial 1993 finished with value: -0.006190680524409953 and parameters: {'kernel': 'rbf', 'C': 0.021314701215126148, 'gamma': 0.08297477920421126, 'epsilon': 0.001707670997032861}. Best is trial 1038 with value: -0.006133775634474926.\u001b[0m\n",
      "\u001b[32m[I 2022-07-24 18:12:20,532]\u001b[0m Trial 1994 finished with value: -0.006185990993957638 and parameters: {'kernel': 'rbf', 'C': 0.012759549909122836, 'gamma': 0.05730475282602396, 'epsilon': 0.0021212025453788154}. Best is trial 1038 with value: -0.006133775634474926.\u001b[0m\n",
      "\u001b[32m[I 2022-07-24 18:12:20,736]\u001b[0m Trial 1995 finished with value: -0.006833726581740668 and parameters: {'kernel': 'rbf', 'C': 0.25481107309388684, 'gamma': 0.07129132328439174, 'epsilon': 0.0015106679641835933}. Best is trial 1038 with value: -0.006133775634474926.\u001b[0m\n",
      "\u001b[32m[I 2022-07-24 18:12:20,913]\u001b[0m Trial 1996 finished with value: -0.006747437772271109 and parameters: {'kernel': 'poly', 'C': 0.016938475516264106, 'gamma': 0.09308662850982995, 'epsilon': 0.0023298890732948176}. Best is trial 1038 with value: -0.006133775634474926.\u001b[0m\n",
      "\u001b[32m[I 2022-07-24 18:12:21,050]\u001b[0m Trial 1997 finished with value: -0.006206657203698122 and parameters: {'kernel': 'rbf', 'C': 0.013871859087106989, 'gamma': 0.12021420450930065, 'epsilon': 0.0018245937372087155}. Best is trial 1038 with value: -0.006133775634474926.\u001b[0m\n",
      "\u001b[32m[I 2022-07-24 18:12:21,194]\u001b[0m Trial 1998 finished with value: -0.006181347700506126 and parameters: {'kernel': 'rbf', 'C': 0.02054296661180663, 'gamma': 0.04214584021663338, 'epsilon': 0.002555488851099315}. Best is trial 1038 with value: -0.006133775634474926.\u001b[0m\n",
      "\u001b[32m[I 2022-07-24 18:12:21,333]\u001b[0m Trial 1999 finished with value: -0.006192821509049155 and parameters: {'kernel': 'rbf', 'C': 0.011175867548646556, 'gamma': 0.06362048815393694, 'epsilon': 0.002056480340494872}. Best is trial 1038 with value: -0.006133775634474926.\u001b[0m\n"
     ]
    },
    {
     "name": "stdout",
     "output_type": "stream",
     "text": [
      "Wall time: 5min 45s\n"
     ]
    }
   ],
   "source": [
    "%%time\n",
    "# pass the objective function to method optimize()\n",
    "\n",
    "study_nl_svm_all.optimize(objective, n_trials=2000)"
   ]
  },
  {
   "cell_type": "code",
   "execution_count": 113,
   "metadata": {
    "scrolled": false
   },
   "outputs": [
    {
     "name": "stdout",
     "output_type": "stream",
     "text": [
      "{'kernel': 'rbf', 'C': 0.017794450102011264, 'gamma': 0.06557012648916476, 'epsilon': 0.0021129226278952177}\n"
     ]
    }
   ],
   "source": [
    "print(study_nl_svm_all.best_params)"
   ]
  },
  {
   "cell_type": "code",
   "execution_count": 114,
   "metadata": {},
   "outputs": [
    {
     "name": "stdout",
     "output_type": "stream",
     "text": [
      "0.006133775634474926\n"
     ]
    }
   ],
   "source": [
    "print(-study_nl_svm_all.best_value)"
   ]
  },
  {
   "cell_type": "code",
   "execution_count": 115,
   "metadata": {
    "scrolled": true
   },
   "outputs": [
    {
     "name": "stdout",
     "output_type": "stream",
     "text": [
      "Cross validation scores\n",
      "Cross-validation RMSE\n",
      "Scores: [0.0058746958 0.0064224435 0.0061041875]\n",
      "Mean: 0.006133775634474926\n",
      "Standard deviation: 0.00022459367293382984\n",
      "\n",
      "Cross-validation adjR2\n",
      "Scores: [0.3317010197 0.354315435  0.3242636277]\n",
      "Mean: 0.3367600274620104\n",
      "Standard deviation: 0.012779487456073633\n",
      "\n",
      "\n",
      "Scores on training set\n",
      "RMSE score: 0.005457078341335148\n",
      "Adjusted R2 score: 0.4938212650998003\n"
     ]
    }
   ],
   "source": [
    "nl_svm_all = SVR(degree=2).set_params(**study_nl_svm_all.best_params)\n",
    "test_regressor(nl_svm_all, dataset_prepared_stand, dataset_labels)"
   ]
  },
  {
   "cell_type": "code",
   "execution_count": 116,
   "metadata": {},
   "outputs": [
    {
     "data": {
      "image/png": "[encoded data removed]",
      "text/plain": [
       "<Figure size 432x288 with 1 Axes>"
      ]
     },
     "metadata": {
      "needs_background": "light"
     },
     "output_type": "display_data"
    }
   ],
   "source": [
    "plot_learning_curves(nl_svm_all, dataset_prepared_stand, dataset_labels)"
   ]
  },
  {
   "cell_type": "markdown",
   "metadata": {},
   "source": [
    "### Export model"
   ]
  },
  {
   "cell_type": "code",
   "execution_count": 117,
   "metadata": {
    "scrolled": false
   },
   "outputs": [],
   "source": [
    "ml_model = nl_svm_all\n",
    "feats = features\n",
    "pipeline = transformation_pipeline"
   ]
  },
  {
   "cell_type": "markdown",
   "metadata": {},
   "source": [
    "#### For ABM"
   ]
  },
  {
   "cell_type": "code",
   "execution_count": 118,
   "metadata": {},
   "outputs": [],
   "source": [
    "import csv\n",
    "from numpy import savetxt \n",
    "\n",
    "def export_model_for_abm(ml_model, feats, pipeline, folder_path):\n",
    "    scaler = StandardScaler() # Needs to be instantiated to be passed to the ABM if not fit in its initialization\n",
    "    dataset_only_transf = pipeline.fit_transform(dataset) ##\n",
    "    scaler.fit(dataset_only_transf)\n",
    "    model_for_abm = Pipeline([\n",
    "        (\"scaling\", scaler),\n",
    "        (\"regressor\", ml_model)\n",
    "    ])\n",
    "    joblib.dump(model_for_abm, os.path.join(folder_path, 'model.pkl'))\n",
    "    # Check\n",
    "    print(model_for_abm.predict(dataset_only_transf[0, :].reshape(1, -1))[0])\n",
    "    \n",
    "    #Export features name\n",
    "    with open(os.path.join(folder_path, 'features.csv'), \"w+\") as file:\n",
    "        wr = csv.writer(file)\n",
    "        wr.writerow(feats)\n",
    "    \n",
    "    savetxt(os.path.join(folder_path, 'dataset.csv'), dataset_only_transf, delimiter=',')\n",
    "    savetxt(os.path.join(folder_path, 'labels.csv'), dataset_labels.values,  delimiter=',') ##"
   ]
  },
  {
   "cell_type": "code",
   "execution_count": 119,
   "metadata": {},
   "outputs": [],
   "source": [
    "folder_path = './Models for ABM/all_adoption/regressor'"
   ]
  },
  {
   "cell_type": "code",
   "execution_count": 120,
   "metadata": {},
   "outputs": [
    {
     "name": "stdout",
     "output_type": "stream",
     "text": [
      "0.004834441284494704\n"
     ]
    }
   ],
   "source": [
    "export_model_for_abm(ml_model, feats, pipeline, folder_path)"
   ]
  },
  {
   "cell_type": "markdown",
   "metadata": {},
   "source": [
    "#### For model analysis"
   ]
  },
  {
   "cell_type": "code",
   "execution_count": 121,
   "metadata": {},
   "outputs": [
    {
     "data": {
      "text/plain": [
       "['./Models to analyse/all_adoption/regressor/nl_svm.pkl']"
      ]
     },
     "execution_count": 121,
     "metadata": {},
     "output_type": "execute_result"
    }
   ],
   "source": [
    "joblib.dump(ml_model, './Models to analyse/all_adoption/regressor/nl_svm.pkl')"
   ]
  }
 ],
 "metadata": {
  "kernelspec": {
   "display_name": "data_analysis",
   "language": "python",
   "name": "data_analysis"
  },
  "language_info": {
   "codemirror_mode": {
    "name": "ipython",
    "version": 3
   },
   "file_extension": ".py",
   "mimetype": "text/x-python",
   "name": "python",
   "nbconvert_exporter": "python",
   "pygments_lexer": "ipython3",
   "version": "3.7.9"
  }
 },
 "nbformat": 4,
 "nbformat_minor": 4
}
