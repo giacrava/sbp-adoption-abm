{
 "cells": [
  {
   "cell_type": "markdown",
   "metadata": {},
   "source": [
    "## Content\n",
    "* Data ingestion\n",
    "    * Remove outliers\n",
    "    * Remove adoption features not in ABM\n",
    "    * Data splitting for CV\n",
    "    * Define weights for weighted loss function\n",
    "* Features preparation\n",
    "    * Pipeline preparation\n",
    "    * Features names collection\n",
    "* Model selection\n",
    "    * Functions for models results\n",
    "    * Functions for models' error analyis\n",
    "    * Models training\n",
    "    * Results\n",
    "* Final models tuning and training"
   ]
  },
  {
   "cell_type": "code",
   "execution_count": 1,
   "metadata": {},
   "outputs": [],
   "source": [
    "import numpy as np\n",
    "import pandas as pd\n",
    "import math\n",
    "import joblib\n",
    "import os"
   ]
  },
  {
   "cell_type": "code",
   "execution_count": 2,
   "metadata": {},
   "outputs": [
    {
     "data": {
      "text/plain": [
       "<module 'custom_transformers' from 'C:\\\\Users\\\\giaco\\\\sbp-adoption-abm-operational\\\\ml_models\\\\custom_transformers.py'>"
      ]
     },
     "execution_count": 2,
     "metadata": {},
     "output_type": "execute_result"
    }
   ],
   "source": [
    "import custom_transformers\n",
    "from importlib import reload\n",
    "reload(custom_transformers)"
   ]
  },
  {
   "cell_type": "code",
   "execution_count": 3,
   "metadata": {},
   "outputs": [],
   "source": [
    "from custom_transformers import (\n",
    "    TransformAdoptionFeatures,\n",
    "    TransformCensusFeatures, \n",
    "    TransformClimateFeatures,\n",
    "    TransformSoilFeatures,\n",
    "    TransformEconomicFeatures,\n",
    ")"
   ]
  },
  {
   "cell_type": "code",
   "execution_count": 4,
   "metadata": {},
   "outputs": [],
   "source": [
    "# For plotting\n",
    "%matplotlib inline\n",
    "import matplotlib as mpl\n",
    "import matplotlib.pyplot as plt\n",
    "mpl.rc('axes', labelsize=14)\n",
    "mpl.rc('xtick', labelsize=12)\n",
    "mpl.rc('ytick', labelsize=12)"
   ]
  },
  {
   "cell_type": "code",
   "execution_count": 5,
   "metadata": {},
   "outputs": [],
   "source": [
    "# Where to save the figures\n",
    "PROJECT_ROOT_DIR = \".\"\n",
    "IMAGES_PATH = os.path.join(PROJECT_ROOT_DIR, \"images\")\n",
    "os.makedirs(IMAGES_PATH, exist_ok=True)\n",
    "\n",
    "def save_fig(fig_id, tight_layout=True, fig_extension=\"jpeg\", resolution=300):\n",
    "    path = os.path.join(IMAGES_PATH, fig_id + \".\" + fig_extension)\n",
    "    print(\"Saving figure\", fig_id)\n",
    "    if tight_layout:\n",
    "        plt.tight_layout()\n",
    "    plt.savefig(path, format=fig_extension, dpi=resolution)"
   ]
  },
  {
   "cell_type": "code",
   "execution_count": 6,
   "metadata": {},
   "outputs": [],
   "source": [
    " # How to display floats\n",
    "pd.options.display.float_format = '{:.6f}'.format\n",
    "np.set_printoptions(precision=10)"
   ]
  },
  {
   "cell_type": "markdown",
   "metadata": {},
   "source": [
    "# Data ingestion"
   ]
  },
  {
   "cell_type": "code",
   "execution_count": 7,
   "metadata": {},
   "outputs": [],
   "source": [
    "path_to_dataset = \"Municipalities final dataset for analysis.csv\""
   ]
  },
  {
   "cell_type": "code",
   "execution_count": 8,
   "metadata": {},
   "outputs": [],
   "source": [
    "dataset_original = pd.read_csv(path_to_dataset, index_col=['Municipality', 'Year'])"
   ]
  },
  {
   "cell_type": "code",
   "execution_count": 9,
   "metadata": {},
   "outputs": [
    {
     "data": {
      "text/plain": [
       "2518"
      ]
     },
     "execution_count": 9,
     "metadata": {},
     "output_type": "execute_result"
    }
   ],
   "source": [
    "# Remove features with 0 adoption to obtain the regression dataset\n",
    "mask_no_adoption = dataset_original['adoption_in_year'] < 0.0000001\n",
    "dataset_original = dataset_original.drop(dataset_original.loc[mask_no_adoption].index)\n",
    "len(dataset_original)"
   ]
  },
  {
   "cell_type": "code",
   "execution_count": 10,
   "metadata": {},
   "outputs": [
    {
     "name": "stdout",
     "output_type": "stream",
     "text": [
      "MultiIndex([(    'Vagos', 2007),\n",
      "            (    'Vagos', 2008),\n",
      "            (    'Tomar', 2005),\n",
      "            ('Alcochete', 2010),\n",
      "            ('Alcochete', 2011),\n",
      "            ('Alcochete', 2012)],\n",
      "           names=['Municipality', 'Year'])\n"
     ]
    }
   ],
   "source": [
    "# Remove outliers adoption_in_year\n",
    "outliers = dataset_original.loc[dataset_original['adoption_in_year'] > 0.12].index\n",
    "dataset_original = dataset_original.drop(outliers)\n",
    "print(outliers)"
   ]
  },
  {
   "cell_type": "code",
   "execution_count": 11,
   "metadata": {},
   "outputs": [
    {
     "name": "stdout",
     "output_type": "stream",
     "text": [
      "MultiIndex([('Tomar', 2003),\n",
      "            ('Tomar', 2004),\n",
      "            ('Tomar', 2006),\n",
      "            ('Tomar', 2007),\n",
      "            ('Tomar', 2008)],\n",
      "           names=['Municipality', 'Year'])\n"
     ]
    }
   ],
   "source": [
    "# Remove outliers cumul_adoption_10_y_pr_y_munic\n",
    "outliers = dataset_original.loc[dataset_original['tot_cumul_adoption_pr_y_munic'] > 0.4].index\n",
    "dataset_original = dataset_original.drop(outliers)\n",
    "print(outliers)"
   ]
  },
  {
   "cell_type": "code",
   "execution_count": 12,
   "metadata": {},
   "outputs": [
    {
     "data": {
      "text/plain": [
       "(2507, 45)"
      ]
     },
     "execution_count": 12,
     "metadata": {},
     "output_type": "execute_result"
    }
   ],
   "source": [
    "dataset_original.shape"
   ]
  },
  {
   "cell_type": "code",
   "execution_count": 13,
   "metadata": {},
   "outputs": [],
   "source": [
    "dataset = dataset_original.reset_index(drop=True)"
   ]
  },
  {
   "cell_type": "markdown",
   "metadata": {},
   "source": [
    "### Create a mapping of each new instance to municipality and year it's referring to"
   ]
  },
  {
   "cell_type": "code",
   "execution_count": 14,
   "metadata": {},
   "outputs": [],
   "source": [
    "map_instances_to_munic_year = dict(zip(dataset.index, dataset_original.index))"
   ]
  },
  {
   "cell_type": "markdown",
   "metadata": {},
   "source": [
    "## Final number of instances and features"
   ]
  },
  {
   "cell_type": "code",
   "execution_count": 15,
   "metadata": {
    "scrolled": true
   },
   "outputs": [
    {
     "data": {
      "text/plain": [
       "(2507, 45)"
      ]
     },
     "execution_count": 15,
     "metadata": {},
     "output_type": "execute_result"
    }
   ],
   "source": [
    "dataset.shape"
   ]
  },
  {
   "cell_type": "markdown",
   "metadata": {},
   "source": [
    "## Copy the data splitting label and features"
   ]
  },
  {
   "cell_type": "code",
   "execution_count": 16,
   "metadata": {},
   "outputs": [],
   "source": [
    "dataset_labels = dataset['adoption_in_year'].copy()\n",
    "dataset = dataset.drop('adoption_in_year', axis=1)"
   ]
  },
  {
   "cell_type": "code",
   "execution_count": 17,
   "metadata": {},
   "outputs": [
    {
     "data": {
      "text/plain": [
       "count   2507.000000\n",
       "mean       0.004588\n",
       "std        0.008447\n",
       "min        0.000009\n",
       "25%        0.000873\n",
       "50%        0.002035\n",
       "75%        0.004764\n",
       "max        0.100604\n",
       "Name: adoption_in_year, dtype: float64"
      ]
     },
     "execution_count": 17,
     "metadata": {},
     "output_type": "execute_result"
    }
   ],
   "source": [
    "dataset_labels.describe()"
   ]
  },
  {
   "cell_type": "markdown",
   "metadata": {},
   "source": [
    "## Split for cross-validation"
   ]
  },
  {
   "cell_type": "markdown",
   "metadata": {},
   "source": [
    "Split used in all the cross-validation, stratified based on the number of data points before the PCF project and during it"
   ]
  },
  {
   "cell_type": "code",
   "execution_count": 18,
   "metadata": {},
   "outputs": [],
   "source": [
    "from sklearn.model_selection import StratifiedKFold, PredefinedSplit"
   ]
  },
  {
   "cell_type": "markdown",
   "metadata": {},
   "source": [
    "First, generate the feature to split, the year of the instance"
   ]
  },
  {
   "cell_type": "code",
   "execution_count": 19,
   "metadata": {},
   "outputs": [],
   "source": [
    "dataset_split = dataset_original.copy()"
   ]
  },
  {
   "cell_type": "code",
   "execution_count": 20,
   "metadata": {},
   "outputs": [],
   "source": [
    "years = dataset_split.index.get_level_values(1).to_list()\n",
    "dataset_split['Year'] = years"
   ]
  },
  {
   "cell_type": "markdown",
   "metadata": {},
   "source": [
    "Second, get for each instance the test fold it has to belong to based on the split based on the created category"
   ]
  },
  {
   "cell_type": "code",
   "execution_count": 21,
   "metadata": {},
   "outputs": [],
   "source": [
    "n_folds = 3\n",
    "strat_split = StratifiedKFold(n_splits=n_folds, shuffle=True, random_state=42)"
   ]
  },
  {
   "cell_type": "code",
   "execution_count": 22,
   "metadata": {},
   "outputs": [],
   "source": [
    "test_indexes = np.zeros(len(dataset_split))\n",
    "fold = 0\n",
    "for _, test_index in strat_split.split(dataset_split, dataset_split['Year']):\n",
    "    for i in test_index:\n",
    "        test_indexes[i] = fold\n",
    "    fold += 1"
   ]
  },
  {
   "cell_type": "markdown",
   "metadata": {},
   "source": [
    "Third, pass to the list of test folds indexes to generate the PredefinedSplit"
   ]
  },
  {
   "cell_type": "code",
   "execution_count": 23,
   "metadata": {},
   "outputs": [],
   "source": [
    "cv_split = PredefinedSplit(test_indexes)"
   ]
  },
  {
   "cell_type": "code",
   "execution_count": 24,
   "metadata": {},
   "outputs": [
    {
     "name": "stdout",
     "output_type": "stream",
     "text": [
      "0.0745911447945752 0.07416267942583732\n"
     ]
    }
   ],
   "source": [
    "# Check ratio is kept\n",
    "ratio_PCF_dataset = len(dataset_split.loc[(slice(None), [2007]), :]) / len(dataset_split)\n",
    "test_set = dataset_split.iloc[np.where(test_indexes==1)]\n",
    "ratio_PCF_test_set = len(test_set.loc[(slice(None), [2007]), :]) / len(test_set)\n",
    "print(ratio_PCF_dataset, ratio_PCF_test_set)"
   ]
  },
  {
   "cell_type": "markdown",
   "metadata": {},
   "source": [
    "### Define weights for weighted loss function\n",
    "To give more weight to observations during the PCF years, of which we are more sure"
   ]
  },
  {
   "cell_type": "code",
   "execution_count": 243,
   "metadata": {},
   "outputs": [],
   "source": [
    "weights_PCF_years = 3\n",
    "years_PCF = [2009, 2010, 2011, 2012]"
   ]
  },
  {
   "cell_type": "code",
   "execution_count": 244,
   "metadata": {},
   "outputs": [],
   "source": [
    "weights = np.ones(dataset.shape[0])"
   ]
  },
  {
   "cell_type": "code",
   "execution_count": 245,
   "metadata": {},
   "outputs": [],
   "source": [
    "weights = [weights_PCF_years if dp in years_PCF else 1 for dp in dataset_original.index.get_level_values('Year')]"
   ]
  },
  {
   "cell_type": "markdown",
   "metadata": {},
   "source": [
    "# Features preparation"
   ]
  },
  {
   "cell_type": "markdown",
   "metadata": {},
   "source": [
    "## Features names collection"
   ]
  },
  {
   "cell_type": "markdown",
   "metadata": {},
   "source": [
    "### Pre-transformation"
   ]
  },
  {
   "cell_type": "code",
   "execution_count": 25,
   "metadata": {},
   "outputs": [],
   "source": [
    "features_original = [feat for feat in dataset.columns]"
   ]
  },
  {
   "cell_type": "code",
   "execution_count": 26,
   "metadata": {},
   "outputs": [],
   "source": [
    "features_adoption = [feat for feat in features_original if 'adoption' in feat]\n",
    "features_climate = [feat for feat in features_original if '_t_' in feat or '_prec_' in feat]\n",
    "features_soil = ['CaCO3_mean_munic', 'CN_mean_munic', 'N_mean_munic', 'P_mean_munic', 'pH_mean_munic']\n",
    "features_economic = ['sbp_payment']\n",
    "\n",
    "features_not_census = (features_adoption + features_climate + features_soil + features_economic)\n",
    "features_census = [feat for feat in features_original if feat not in features_not_census]"
   ]
  },
  {
   "cell_type": "code",
   "execution_count": 27,
   "metadata": {},
   "outputs": [
    {
     "data": {
      "text/plain": [
       "44"
      ]
     },
     "execution_count": 27,
     "metadata": {},
     "output_type": "execute_result"
    }
   ],
   "source": [
    "len(features_census) + len(features_not_census)"
   ]
  },
  {
   "cell_type": "markdown",
   "metadata": {},
   "source": [
    "### Post-transformation"
   ]
  },
  {
   "cell_type": "code",
   "execution_count": 28,
   "metadata": {},
   "outputs": [],
   "source": [
    "# Get features names\n",
    "feat_lists = [features_adoption, features_census, features_climate, features_soil, features_economic]\n",
    "transformers = [TransformAdoptionFeatures(), TransformCensusFeatures(),\n",
    "                TransformClimateFeatures(), TransformSoilFeatures(), TransformEconomicFeatures()]\n",
    "\n",
    "features = []\n",
    "for f, t in zip(feat_lists, transformers):\n",
    "    features_ind = t.transform(dataset[f]).columns.to_list()\n",
    "    features = features + features_ind"
   ]
  },
  {
   "cell_type": "code",
   "execution_count": 29,
   "metadata": {},
   "outputs": [
    {
     "data": {
      "text/plain": [
       "19"
      ]
     },
     "execution_count": 29,
     "metadata": {},
     "output_type": "execute_result"
    }
   ],
   "source": [
    "len(features)"
   ]
  },
  {
   "cell_type": "markdown",
   "metadata": {},
   "source": [
    "#### With squared cumulative adoption"
   ]
  },
  {
   "cell_type": "code",
   "execution_count": 30,
   "metadata": {
    "scrolled": false
   },
   "outputs": [],
   "source": [
    "# Get features names\n",
    "feat_lists = [features_adoption, features_census, features_climate, features_soil, features_economic]\n",
    "transformers = [TransformAdoptionFeatures(add_square_cumul_adoption=True),\n",
    "                TransformCensusFeatures(), TransformClimateFeatures(), TransformSoilFeatures(), TransformEconomicFeatures()]\n",
    "\n",
    "features_sq = []\n",
    "for f, t in zip(feat_lists, transformers):\n",
    "    features_ind = t.transform(dataset[f]).columns.to_list()\n",
    "    features_sq = features_sq + features_ind"
   ]
  },
  {
   "cell_type": "code",
   "execution_count": 31,
   "metadata": {
    "scrolled": false
   },
   "outputs": [
    {
     "data": {
      "text/plain": [
       "20"
      ]
     },
     "execution_count": 31,
     "metadata": {},
     "output_type": "execute_result"
    }
   ],
   "source": [
    "len(features_sq)"
   ]
  },
  {
   "cell_type": "markdown",
   "metadata": {},
   "source": [
    "## Preparation pipeline"
   ]
  },
  {
   "cell_type": "code",
   "execution_count": 32,
   "metadata": {},
   "outputs": [],
   "source": [
    "from sklearn.pipeline import Pipeline\n",
    "from sklearn.compose import ColumnTransformer\n",
    "from sklearn.preprocessing import StandardScaler"
   ]
  },
  {
   "cell_type": "code",
   "execution_count": 33,
   "metadata": {},
   "outputs": [],
   "source": [
    "transformation_pipeline = ColumnTransformer([\n",
    "    ('adoption', TransformAdoptionFeatures(), features_adoption),\n",
    "    ('census', TransformCensusFeatures(), features_census),\n",
    "    ('climate', TransformClimateFeatures(), features_climate),\n",
    "    ('soil', TransformSoilFeatures(), features_soil),\n",
    "    ('economic', TransformEconomicFeatures(), features_economic)\n",
    "],\n",
    "    remainder='drop')\n",
    "\n",
    "dataset_transf = transformation_pipeline.fit_transform(dataset)"
   ]
  },
  {
   "cell_type": "code",
   "execution_count": 34,
   "metadata": {},
   "outputs": [],
   "source": [
    "full_pipeline_stand = Pipeline([\n",
    "    ('transformation', transformation_pipeline),\n",
    "    ('scaling', StandardScaler())\n",
    "])"
   ]
  },
  {
   "cell_type": "code",
   "execution_count": 35,
   "metadata": {},
   "outputs": [],
   "source": [
    "dataset_prepared_stand = full_pipeline_stand.fit_transform(dataset)"
   ]
  },
  {
   "cell_type": "code",
   "execution_count": 36,
   "metadata": {},
   "outputs": [
    {
     "data": {
      "text/plain": [
       "(2507, 19)"
      ]
     },
     "execution_count": 36,
     "metadata": {},
     "output_type": "execute_result"
    }
   ],
   "source": [
    "dataset_prepared_stand.shape"
   ]
  },
  {
   "cell_type": "code",
   "execution_count": 37,
   "metadata": {},
   "outputs": [
    {
     "data": {
      "text/html": [
       "<div>\n",
       "<style scoped>\n",
       "    .dataframe tbody tr th:only-of-type {\n",
       "        vertical-align: middle;\n",
       "    }\n",
       "\n",
       "    .dataframe tbody tr th {\n",
       "        vertical-align: top;\n",
       "    }\n",
       "\n",
       "    .dataframe thead th {\n",
       "        text-align: right;\n",
       "    }\n",
       "</style>\n",
       "<table border=\"1\" class=\"dataframe\">\n",
       "  <thead>\n",
       "    <tr style=\"text-align: right;\">\n",
       "      <th></th>\n",
       "      <th>tot_cumul_adoption_pr_y_munic</th>\n",
       "      <th>tot_cumul_adoption_pr_y_port</th>\n",
       "      <th>pastures_area_var</th>\n",
       "      <th>pastures_area_mean</th>\n",
       "      <th>educ_second_super</th>\n",
       "      <th>farmers_over65</th>\n",
       "      <th>inc_mainly_ext</th>\n",
       "      <th>educ_none</th>\n",
       "      <th>work_unit_100ha</th>\n",
       "      <th>agric_area_owned</th>\n",
       "      <th>lu_per_agric_area</th>\n",
       "      <th>av_d_mean_t_average_munic</th>\n",
       "      <th>av_d_max_t_average_munic</th>\n",
       "      <th>cons_days_no_prec_average_munic</th>\n",
       "      <th>CaCO3_mean_munic</th>\n",
       "      <th>CN_mean_munic</th>\n",
       "      <th>N_mean_munic</th>\n",
       "      <th>P_mean_munic</th>\n",
       "      <th>sbp_payment</th>\n",
       "    </tr>\n",
       "  </thead>\n",
       "  <tbody>\n",
       "    <tr>\n",
       "      <th>0</th>\n",
       "      <td>-0.548656</td>\n",
       "      <td>-1.110309</td>\n",
       "      <td>-0.465921</td>\n",
       "      <td>-0.547095</td>\n",
       "      <td>-1.148383</td>\n",
       "      <td>-1.873076</td>\n",
       "      <td>-0.165081</td>\n",
       "      <td>0.594392</td>\n",
       "      <td>1.886435</td>\n",
       "      <td>-1.110286</td>\n",
       "      <td>0.510506</td>\n",
       "      <td>-1.190264</td>\n",
       "      <td>-0.960601</td>\n",
       "      <td>-1.022170</td>\n",
       "      <td>-0.492540</td>\n",
       "      <td>1.338014</td>\n",
       "      <td>1.526284</td>\n",
       "      <td>0.169302</td>\n",
       "      <td>-0.303171</td>\n",
       "    </tr>\n",
       "    <tr>\n",
       "      <th>1</th>\n",
       "      <td>-0.523279</td>\n",
       "      <td>-1.049231</td>\n",
       "      <td>-0.444689</td>\n",
       "      <td>-0.543765</td>\n",
       "      <td>-1.135353</td>\n",
       "      <td>-1.818875</td>\n",
       "      <td>-0.117406</td>\n",
       "      <td>0.413319</td>\n",
       "      <td>1.802742</td>\n",
       "      <td>-1.075636</td>\n",
       "      <td>0.505387</td>\n",
       "      <td>-1.190264</td>\n",
       "      <td>-0.960601</td>\n",
       "      <td>-1.022170</td>\n",
       "      <td>-0.492540</td>\n",
       "      <td>1.338014</td>\n",
       "      <td>1.526284</td>\n",
       "      <td>0.169302</td>\n",
       "      <td>-0.303171</td>\n",
       "    </tr>\n",
       "    <tr>\n",
       "      <th>2</th>\n",
       "      <td>-0.502132</td>\n",
       "      <td>-0.802274</td>\n",
       "      <td>-0.402226</td>\n",
       "      <td>-0.536066</td>\n",
       "      <td>-1.109293</td>\n",
       "      <td>-1.693575</td>\n",
       "      <td>-0.017736</td>\n",
       "      <td>0.051173</td>\n",
       "      <td>1.635355</td>\n",
       "      <td>-1.003198</td>\n",
       "      <td>0.495147</td>\n",
       "      <td>-1.190264</td>\n",
       "      <td>-0.960601</td>\n",
       "      <td>-1.022170</td>\n",
       "      <td>-0.492540</td>\n",
       "      <td>1.338014</td>\n",
       "      <td>1.526284</td>\n",
       "      <td>0.169302</td>\n",
       "      <td>-0.303171</td>\n",
       "    </tr>\n",
       "    <tr>\n",
       "      <th>3</th>\n",
       "      <td>-0.489444</td>\n",
       "      <td>-0.513078</td>\n",
       "      <td>-0.329192</td>\n",
       "      <td>-0.525116</td>\n",
       "      <td>-1.044338</td>\n",
       "      <td>-1.538859</td>\n",
       "      <td>-0.005124</td>\n",
       "      <td>-0.122476</td>\n",
       "      <td>1.366655</td>\n",
       "      <td>-0.654917</td>\n",
       "      <td>0.401709</td>\n",
       "      <td>-1.190264</td>\n",
       "      <td>-0.960601</td>\n",
       "      <td>-1.022170</td>\n",
       "      <td>-0.492540</td>\n",
       "      <td>1.338014</td>\n",
       "      <td>1.526284</td>\n",
       "      <td>0.169302</td>\n",
       "      <td>-0.303171</td>\n",
       "    </tr>\n",
       "    <tr>\n",
       "      <th>4</th>\n",
       "      <td>-0.447149</td>\n",
       "      <td>-0.267982</td>\n",
       "      <td>-0.292676</td>\n",
       "      <td>-0.519027</td>\n",
       "      <td>-1.011860</td>\n",
       "      <td>-1.452815</td>\n",
       "      <td>0.000985</td>\n",
       "      <td>-0.209301</td>\n",
       "      <td>1.232305</td>\n",
       "      <td>-0.486196</td>\n",
       "      <td>0.354990</td>\n",
       "      <td>-1.190264</td>\n",
       "      <td>-0.960601</td>\n",
       "      <td>-1.022170</td>\n",
       "      <td>-0.492540</td>\n",
       "      <td>1.338014</td>\n",
       "      <td>1.526284</td>\n",
       "      <td>0.169302</td>\n",
       "      <td>-0.303171</td>\n",
       "    </tr>\n",
       "  </tbody>\n",
       "</table>\n",
       "</div>"
      ],
      "text/plain": [
       "   tot_cumul_adoption_pr_y_munic  tot_cumul_adoption_pr_y_port  \\\n",
       "0                      -0.548656                     -1.110309   \n",
       "1                      -0.523279                     -1.049231   \n",
       "2                      -0.502132                     -0.802274   \n",
       "3                      -0.489444                     -0.513078   \n",
       "4                      -0.447149                     -0.267982   \n",
       "\n",
       "   pastures_area_var  pastures_area_mean  educ_second_super  farmers_over65  \\\n",
       "0          -0.465921           -0.547095          -1.148383       -1.873076   \n",
       "1          -0.444689           -0.543765          -1.135353       -1.818875   \n",
       "2          -0.402226           -0.536066          -1.109293       -1.693575   \n",
       "3          -0.329192           -0.525116          -1.044338       -1.538859   \n",
       "4          -0.292676           -0.519027          -1.011860       -1.452815   \n",
       "\n",
       "   inc_mainly_ext  educ_none  work_unit_100ha  agric_area_owned  \\\n",
       "0       -0.165081   0.594392         1.886435         -1.110286   \n",
       "1       -0.117406   0.413319         1.802742         -1.075636   \n",
       "2       -0.017736   0.051173         1.635355         -1.003198   \n",
       "3       -0.005124  -0.122476         1.366655         -0.654917   \n",
       "4        0.000985  -0.209301         1.232305         -0.486196   \n",
       "\n",
       "   lu_per_agric_area  av_d_mean_t_average_munic  av_d_max_t_average_munic  \\\n",
       "0           0.510506                  -1.190264                 -0.960601   \n",
       "1           0.505387                  -1.190264                 -0.960601   \n",
       "2           0.495147                  -1.190264                 -0.960601   \n",
       "3           0.401709                  -1.190264                 -0.960601   \n",
       "4           0.354990                  -1.190264                 -0.960601   \n",
       "\n",
       "   cons_days_no_prec_average_munic  CaCO3_mean_munic  CN_mean_munic  \\\n",
       "0                        -1.022170         -0.492540       1.338014   \n",
       "1                        -1.022170         -0.492540       1.338014   \n",
       "2                        -1.022170         -0.492540       1.338014   \n",
       "3                        -1.022170         -0.492540       1.338014   \n",
       "4                        -1.022170         -0.492540       1.338014   \n",
       "\n",
       "   N_mean_munic  P_mean_munic  sbp_payment  \n",
       "0      1.526284      0.169302    -0.303171  \n",
       "1      1.526284      0.169302    -0.303171  \n",
       "2      1.526284      0.169302    -0.303171  \n",
       "3      1.526284      0.169302    -0.303171  \n",
       "4      1.526284      0.169302    -0.303171  "
      ]
     },
     "execution_count": 37,
     "metadata": {},
     "output_type": "execute_result"
    }
   ],
   "source": [
    "# Print prepared data as a DataFrame\n",
    "pd.DataFrame(dataset_prepared_stand, columns=features, index=dataset.index).head()"
   ]
  },
  {
   "cell_type": "markdown",
   "metadata": {},
   "source": [
    "### With squared cumulative adoption"
   ]
  },
  {
   "cell_type": "code",
   "execution_count": 38,
   "metadata": {},
   "outputs": [],
   "source": [
    "transformation_pipeline_sq = ColumnTransformer([\n",
    "    ('adoption', TransformAdoptionFeatures(add_square_cumul_adoption=True),\n",
    "     features_adoption),\n",
    "    ('census', TransformCensusFeatures(), features_census),\n",
    "    ('climate', TransformClimateFeatures(), features_climate),\n",
    "    ('soil', TransformSoilFeatures(), features_soil),\n",
    "    ('economic', TransformEconomicFeatures(), features_economic)\n",
    "],\n",
    "    remainder='drop')"
   ]
  },
  {
   "cell_type": "code",
   "execution_count": 39,
   "metadata": {},
   "outputs": [],
   "source": [
    "full_pipeline_stand_sq = Pipeline([\n",
    "    ('transformation', transformation_pipeline_sq),\n",
    "    ('scaling', StandardScaler())\n",
    "])"
   ]
  },
  {
   "cell_type": "code",
   "execution_count": 40,
   "metadata": {},
   "outputs": [],
   "source": [
    "dataset_stand_sq_cum_ad = full_pipeline_stand_sq.fit_transform(dataset)"
   ]
  },
  {
   "cell_type": "code",
   "execution_count": 41,
   "metadata": {},
   "outputs": [
    {
     "data": {
      "text/plain": [
       "(2507, 20)"
      ]
     },
     "execution_count": 41,
     "metadata": {},
     "output_type": "execute_result"
    }
   ],
   "source": [
    "dataset_stand_sq_cum_ad.shape"
   ]
  },
  {
   "cell_type": "markdown",
   "metadata": {},
   "source": [
    "# Model selection"
   ]
  },
  {
   "cell_type": "markdown",
   "metadata": {},
   "source": [
    "* Linear regression with Elastic Net regularization\n",
    "    * With squared cumulative adoption\n",
    "    * Polynomial\n",
    "* SVM\n",
    "    * Linear\n",
    "    * With squared cumulative adoption\n",
    "    * Non-linear"
   ]
  },
  {
   "cell_type": "code",
   "execution_count": 42,
   "metadata": {},
   "outputs": [],
   "source": [
    "from sklearn.model_selection import cross_validate, cross_val_predict\n",
    "from sklearn.metrics import r2_score, mean_squared_error\n",
    "from sklearn.base import clone"
   ]
  },
  {
   "cell_type": "code",
   "execution_count": 43,
   "metadata": {},
   "outputs": [],
   "source": [
    "from sklearn.model_selection import RandomizedSearchCV, GridSearchCV, StratifiedKFold"
   ]
  },
  {
   "cell_type": "code",
   "execution_count": 44,
   "metadata": {},
   "outputs": [],
   "source": [
    "from scipy.stats import expon, uniform, reciprocal"
   ]
  },
  {
   "cell_type": "markdown",
   "metadata": {},
   "source": [
    "## Functions for models results"
   ]
  },
  {
   "cell_type": "code",
   "execution_count": 45,
   "metadata": {},
   "outputs": [],
   "source": [
    "cols = ['cv RMSE_mean', 'cv RMSE std', 'cv adjR2 mean', 'cv adjR2 std', 'train set RMSE', 'train set adjR2']\n",
    "models_results = pd.DataFrame(columns=cols, dtype=np.float64)"
   ]
  },
  {
   "cell_type": "code",
   "execution_count": 46,
   "metadata": {},
   "outputs": [],
   "source": [
    "def display_scores(scores, score_name):\n",
    "    print('Cross-validation', score_name)\n",
    "    print('Scores:', scores)\n",
    "    print('Mean:', scores.mean())\n",
    "    print('Standard deviation:', scores.std())\n",
    "    print('')"
   ]
  },
  {
   "cell_type": "code",
   "execution_count": 47,
   "metadata": {},
   "outputs": [],
   "source": [
    "def adjusted_r2(r2, n, p):\n",
    "    return 1-(1-r2)*(n-1)/(n-p-1)"
   ]
  },
  {
   "cell_type": "code",
   "execution_count": 265,
   "metadata": {},
   "outputs": [],
   "source": [
    "from sklearn.model_selection import KFold\n",
    "\n",
    "def cross_val_rmse_r2(reg, dataset_prepared, cv_split, weights):\n",
    "    scores = cross_validate(reg, dataset_prepared, dataset_labels, fit_params={\"sample_weight\" : weights},\n",
    "                            scoring=['neg_mean_squared_error', 'r2'], cv=cv_split)\n",
    "    rmse_scores = np.sqrt(-scores['test_neg_mean_squared_error'])\n",
    "    r2_scores = scores['test_r2']\n",
    "    adj_r2_scores = adjusted_r2(r2_scores, (dataset_prepared.shape[0] // n_folds), dataset_prepared.shape[1])\n",
    "    cv_scores = {'RMSE': rmse_scores, 'adjR2': adj_r2_scores}\n",
    "    return cv_scores"
   ]
  },
  {
   "cell_type": "code",
   "execution_count": 266,
   "metadata": {},
   "outputs": [],
   "source": [
    "def predict_train_set(reg, dataset_prepared, weights):\n",
    "    reg.fit(dataset_prepared, dataset_labels, sample_weight=weights)\n",
    "    predictions = reg.predict(dataset_prepared)\n",
    "    mse = mean_squared_error(dataset_labels, predictions, sample_weight=weights)\n",
    "    rmse = np.sqrt(mse)\n",
    "    r2 = r2_score(dataset_labels, predictions, sample_weight=weights)\n",
    "    adj_r2 = adjusted_r2(r2, dataset_prepared.shape[0], dataset_prepared.shape[1])\n",
    "    print('Scores on training set')\n",
    "    print('RMSE score:', rmse)\n",
    "    print('Adjusted R2 score:', adj_r2)\n",
    "    return (rmse, adj_r2)"
   ]
  },
  {
   "cell_type": "code",
   "execution_count": 267,
   "metadata": {},
   "outputs": [],
   "source": [
    "def load_model_results(reg, reg_name, results_df, cv_scores, train_results):\n",
    "    df_cols = results_df.columns\n",
    "    \n",
    "    # Add cv columns\n",
    "    for score_name, score_values in cv_scores.items():\n",
    "        col_mean = [col for col in df_cols if ('cv' in col) and (score_name in col) and ('mean' in col)]\n",
    "        col_std = [col for col in df_cols if ('cv' in col) and (score_name in col) and ('std' in col)]\n",
    "        results_df.loc[reg_name, col_mean] = score_values.mean()\n",
    "        results_df.loc[reg_name, col_std] = score_values.std()\n",
    "    # Add training set results columns\n",
    "    cols_train = [col for col in df_cols if ('train' in col)]\n",
    "    results_df.loc[reg_name, cols_train] = train_results"
   ]
  },
  {
   "cell_type": "code",
   "execution_count": 268,
   "metadata": {},
   "outputs": [],
   "source": [
    "def test_regressor(reg, dataset_prepared, labels, reg_name=None, results_df=models_results, cv_split=cv_split,\n",
    "                   sample_weights=None):  \n",
    "    \"\"\"\n",
    "    Function to:\n",
    "    - train a regressor using cross validation, reporting both RMSE and adjusted R2 score\n",
    "    - train a regressor on the training set, to check it for overfiting\n",
    "    - load the model performances in a dataframe to keep all models results\n",
    "    \n",
    "    reg_name: how to report the model's results in the DataFrame with the results. If None, do not add it.\n",
    "    \"\"\"\n",
    "    cv_scores = cross_val_rmse_r2(reg, dataset_prepared, cv_split, weights)\n",
    "    print(\"Cross validation scores\")\n",
    "    for score_name, score_value in cv_scores.items():\n",
    "        display_scores(score_value, score_name)\n",
    "    print(\"\")\n",
    "\n",
    "    train_results = predict_train_set(reg, dataset_prepared, weights)\n",
    "        \n",
    "    if reg_name != None:\n",
    "        load_model_results(reg, reg_name, results_df, cv_scores, train_results)"
   ]
  },
  {
   "cell_type": "code",
   "execution_count": 261,
   "metadata": {},
   "outputs": [],
   "source": [
    "def get_grid_search_results(gs):\n",
    "    best_est = gs.best_estimator_\n",
    "    print(\"Best estimator:\", best_est)\n",
    "    print(\"Best parameters:\", gs.best_params_)\n",
    "    for scorer_name in gs.scorer_.keys():\n",
    "        res_test = gs.cv_results_['mean_test_' + scorer_name][gs.best_index_]\n",
    "        res_train = gs.cv_results_['mean_train_' + scorer_name][gs.best_index_]\n",
    "        print(\"\")\n",
    "        print(scorer_name + ' mean on test sets:', res_test)\n",
    "        print(scorer_name + ' mean on train sets:', res_train)"
   ]
  },
  {
   "cell_type": "markdown",
   "metadata": {},
   "source": [
    "## Functions for models' analysis"
   ]
  },
  {
   "cell_type": "code",
   "execution_count": 53,
   "metadata": {},
   "outputs": [],
   "source": [
    "def plot_validation_curves(estimator, param_name, param_values, scoring, dataset, labels):\n",
    "    train_errors, val_errors = [], []\n",
    "    for param in param_values:\n",
    "        estimator.set_params(**{param_name:param})\n",
    "        scores = cross_validate(estimator, dataset, labels, scoring=scoring, \n",
    "                                cv=cv_split, n_jobs=-1, return_train_score=True)\n",
    "        train_errors.append(-scores['train_score'].mean())\n",
    "        val_errors.append(-scores['test_score'].mean())\n",
    "\n",
    "    plt.plot(val_errors, \"b-\", linewidth=2, label=\"Validation set\")\n",
    "    plt.plot(train_errors, \"r--\", linewidth=2, label=\"Training set\")\n",
    "    plt.legend(loc=\"upper right\", fontsize=12)\n",
    "    x = np.arange(0, len(param_values), 1)\n",
    "    plt.xticks(x, np.round(param_values, 2))\n",
    "    plt.xlabel(param_name + \" value\", fontsize=14)\n",
    "    plt.ylabel(\"RMSE\", fontsize=14)\n",
    "    plt.show()"
   ]
  },
  {
   "cell_type": "code",
   "execution_count": 255,
   "metadata": {},
   "outputs": [],
   "source": [
    "from sklearn.metrics import mean_squared_error\n",
    "from sklearn.model_selection import train_test_split\n",
    "\n",
    "def plot_learning_curves(model, X, y, fig_name=None):\n",
    "    \"\"\"\n",
    "    Function with weighted data points\n",
    "    \"\"\"\n",
    "    X_train, X_val, y_train, y_val, w_train, w_val = train_test_split(X, y, weights, test_size=0.3, random_state=42)\n",
    "    train_errors, val_errors = [], []\n",
    "    steps = np.arange(100, len(X_train), 100)\n",
    "    for m in steps:\n",
    "        model.fit(X_train[:m], y_train[:m], sample_weight=w_train[:m])\n",
    "        y_train_predict = model.predict(X_train[:m])\n",
    "        y_val_predict = model.predict(X_val)\n",
    "        train_errors.append(mean_squared_error(y_train[:m], y_train_predict, sample_weight=w_train[:m]))\n",
    "        val_errors.append(mean_squared_error(y_val, y_val_predict, sample_weight=w_val))\n",
    "\n",
    "    plt.plot(steps, np.sqrt(train_errors), \"r-+\", linewidth=2, label=\"Training error\")\n",
    "    plt.plot(steps, np.sqrt(val_errors), \"b-\", linewidth=3, label=\"Validation error\")\n",
    "    plt.legend(loc=\"lower right\", fontsize=13)   \n",
    "    plt.xlabel(\"Training set size\", fontsize=14)\n",
    "    plt.ylabel(\"Root mean squared error\", fontsize=14)\n",
    "    \n",
    "    if fig_name != None:\n",
    "        save_fig((fig_name))"
   ]
  },
  {
   "cell_type": "markdown",
   "metadata": {},
   "source": [
    "### Errors analysis"
   ]
  },
  {
   "cell_type": "code",
   "execution_count": 55,
   "metadata": {},
   "outputs": [],
   "source": [
    "def plot_pred_lab(preds, labels):\n",
    "    # Bigger axis\n",
    "    fig = plt.figure(figsize=(15, 8))\n",
    "    ax1 = fig.add_subplot(2, 2, 1)\n",
    "    ax1.hist(preds, bins=20, range=[0., 0.35])\n",
    "    ax1.set(title='Predictions')\n",
    "    ax1.set_ylim([0, 2000])\n",
    "    ax2 = fig.add_subplot(2, 2, 2)\n",
    "    ax2.hist(labels, bins=20, range=[0., 0.35])\n",
    "    ax2.set(title='Labels')\n",
    "    ax2.set_ylim([0, 2000])\n",
    "    \n",
    "    #Zoom closer to 0\n",
    "    restr_preds = preds[preds > 0.0000001]\n",
    "    restr_labels = labels[labels > 0.0000001]\n",
    "    ax3 = fig.add_subplot(2, 2, 3)\n",
    "    ax3.hist(restr_preds, bins=20, range=[0., 0.05])\n",
    "    ax3.set(title='Predictions no 0, restricted x axis')\n",
    "    ax3.set_ylim([0, 1000])\n",
    "    ax4 = fig.add_subplot(2, 2, 4)\n",
    "    ax4.hist(restr_labels, bins=20, range=[0., 0.05])\n",
    "    ax4.set(title='Labels no 0, restricted x axis')  \n",
    "    ax4.set_ylim([0, 1000])"
   ]
  },
  {
   "cell_type": "code",
   "execution_count": 56,
   "metadata": {},
   "outputs": [],
   "source": [
    "def compare_pred_lab_distribution(preds, labels):\n",
    "    plot_pred_lab(preds, labels)"
   ]
  },
  {
   "cell_type": "code",
   "execution_count": 57,
   "metadata": {},
   "outputs": [],
   "source": [
    "def compare_total_adoption(preds, labels):\n",
    "    # Uses the dataset already split but before further manipulation (as standardization)\n",
    "    pastures_area_munic = dataset['pastures_area_munic'].to_numpy()\n",
    "    tot_area_pred = (pastures_area_munic * preds).sum()\n",
    "    tot_area_actual = (pastures_area_munic * labels).sum()\n",
    "    print(\"Total area adopted predicted:\", str(tot_area_pred))\n",
    "    print(\"Actual total area adopted:\", str(tot_area_actual))\n",
    "    print(\"\")"
   ]
  },
  {
   "cell_type": "code",
   "execution_count": 58,
   "metadata": {},
   "outputs": [],
   "source": [
    "def compare_percentile(preds, labels, percentile, how=None):\n",
    "    \"\"\"\n",
    "    Function to compare the predictions on the data with label below a percentile or above it (strictly)\n",
    "    \"\"\"\n",
    "    perc_value = np.percentile(labels, percentile)\n",
    "    if perc_value < 0.0000001:\n",
    "        raise ValueError(\"The percentile value is 0. Choose a higher percentile.\")\n",
    "    if how == 'below':\n",
    "        id_lab_in_perc = np.where((labels > 0.0000001) & (labels <= perc_value))\n",
    "    elif how == 'above':\n",
    "        id_lab_in_perc = np.where(labels > perc_value)\n",
    "    else:\n",
    "        raise ValueError(\"Value of 'how' not correctly specified (can be 'below' or 'above')\")\n",
    "    lab_in_perc = labels[id_lab_in_perc]\n",
    "    pred_in_perc = preds[id_lab_in_perc]\n",
    "\n",
    "    mse = mean_squared_error(lab_in_perc, pred_in_perc)\n",
    "    print(\"Labels' \" + str(percentile) + 'th percentile = ' + str(perc_value))\n",
    "    print('Average label on data', how, str(percentile) + 'th percentile:', str(np.mean(lab_in_perc)))\n",
    "    print('Average prediction on data', how, str(percentile) + 'th percentile:', str(np.mean(pred_in_perc)))\n",
    "    print('RMSE on instances on data', how, str(percentile) + 'th percentile:', str(np.sqrt(mse)))\n",
    "    print(\"\")"
   ]
  },
  {
   "cell_type": "code",
   "execution_count": 59,
   "metadata": {},
   "outputs": [],
   "source": [
    "def compare_first_adoption(preds, labels, dataset_prep, dataset_labels):\n",
    "    idx = np.where((dataset_labels > 0.0000001) & (dataset_prepared_stand[:, 0] < 0.0000001))\n",
    "    lab = labels[idx]\n",
    "    pred = preds[idx]\n",
    "    \n",
    "    mse = mean_squared_error(lab, pred)\n",
    "    print('Prediction on years with adoption after a year with no adoption')\n",
    "    print('Average label:', str(np.mean(lab)))\n",
    "    print('Average prediction:', str(np.mean(pred)))\n",
    "    print('RMSE:', str(np.sqrt(mse)))\n",
    "    print(\"\")"
   ]
  },
  {
   "cell_type": "code",
   "execution_count": 60,
   "metadata": {},
   "outputs": [],
   "source": [
    "def check_predicted_negative(preds, labels):\n",
    "    idx_0_pred = np.where(preds < -0.000000001)\n",
    "    pred_0 = preds[idx_0_pred]\n",
    "    if pred_0.size == 0:\n",
    "        print(\"For no instance a negative value is predicted\")\n",
    "    else:\n",
    "        print(\"For\", str(len(pred_0)), \"instances a negative value is the predicted\")\n",
    "        print(\"Average value for these predictions:\", str(np.mean(pred_0)))\n",
    "        lab_corr = labels[idx_0_pred]\n",
    "        print(\"Average value for the labels on these instances:\", str(np.mean(lab_corr)))\n",
    "    print(\"\")    "
   ]
  },
  {
   "cell_type": "code",
   "execution_count": 61,
   "metadata": {},
   "outputs": [],
   "source": [
    "def check_predicted_0s(preds, labels):\n",
    "    idx_0_pred = np.where((preds < 0.000000001) & (preds > -0.000000001))\n",
    "    pred_0 = preds[idx_0_pred]\n",
    "    if pred_0.size == 0:\n",
    "        print(\"For no instance 0 is the predicted value\")\n",
    "    else:\n",
    "        print(\"For\", str(len(pred_0)), \"instances 0 is the predicted value\")\n",
    "        lab_corr = labels[idx_0_pred]\n",
    "        print(\"Average value for the labels on these instances:\", str(np.mean(lab_corr)))\n",
    "    print(\"\")"
   ]
  },
  {
   "cell_type": "code",
   "execution_count": 62,
   "metadata": {},
   "outputs": [],
   "source": [
    "from IPython.display import display\n",
    "    \n",
    "def worst_predictions(preds, labels, num):\n",
    "    # Uses the dataset already split but before further manipulation (as standardization)\n",
    "    diff = abs(preds - labels)\n",
    "    id_max_err = (-diff).argsort()[:num]\n",
    "    pred_max_err = preds[id_max_err]\n",
    "    lab_max_err = labels[id_max_err]\n",
    "    pred_lab_diff = pred_max_err - lab_max_err\n",
    "\n",
    "    dataset_with_indexes = dataset.rename(index=map_instances_to_munic_year)\n",
    "    data_max_err_rows = dataset_with_indexes.iloc[id_max_err, :]\n",
    "    data_max_err_rows.insert(0, 'Prediction', pred_max_err)\n",
    "    data_max_err_rows.insert(1, 'Label', lab_max_err)\n",
    "    data_max_err_rows.insert(2, 'Prediction - label', pred_lab_diff)\n",
    "    \n",
    "    print(\"Worst\", str(num), \"predictions:\")\n",
    "    display(data_max_err_rows)"
   ]
  },
  {
   "cell_type": "code",
   "execution_count": 63,
   "metadata": {},
   "outputs": [],
   "source": [
    "def analyse_errors(reg, dataset_prep, dataset_labels, percentile=50, worse_pred_num=10):\n",
    "    \"\"\" \n",
    "    Differs from the one in the Notebook for the 1 stage ML only from having taken away the performance on the labels = 0\n",
    "    \"\"\"\n",
    "    labels = dataset_labels.to_numpy()\n",
    "    preds = cross_val_predict(reg, dataset_prep, dataset_labels, cv=KFold(n_splits=3, random_state=42, shuffle=True))\n",
    "\n",
    "    compare_pred_lab_distribution(preds, labels)\n",
    "    compare_total_adoption(preds, labels)\n",
    "    \n",
    "    check_predicted_negative(preds, labels)\n",
    "    check_predicted_0s(preds, labels)\n",
    "    compare_percentile(preds, labels, percentile, how='below')\n",
    "    compare_percentile(preds, labels, percentile, how='above')\n",
    "    compare_first_adoption(preds, labels, dataset_prep, dataset_labels)\n",
    "\n",
    "    worst_predictions(preds, labels, worse_pred_num)"
   ]
  },
  {
   "cell_type": "markdown",
   "metadata": {},
   "source": [
    "## Linear regression (elastic net)"
   ]
  },
  {
   "cell_type": "code",
   "execution_count": 70,
   "metadata": {},
   "outputs": [],
   "source": [
    "from sklearn.linear_model import SGDRegressor"
   ]
  },
  {
   "cell_type": "code",
   "execution_count": 110,
   "metadata": {},
   "outputs": [
    {
     "name": "stdout",
     "output_type": "stream",
     "text": [
      "Fitting 3 folds for each of 24 candidates, totalling 72 fits\n"
     ]
    },
    {
     "name": "stderr",
     "output_type": "stream",
     "text": [
      "[Parallel(n_jobs=1)]: Using backend SequentialBackend with 1 concurrent workers.\n",
      "[Parallel(n_jobs=1)]: Done  72 out of  72 | elapsed:    1.5s finished\n"
     ]
    },
    {
     "data": {
      "text/plain": [
       "GridSearchCV(cv=PredefinedSplit(test_fold=array([2, 2, ..., 0, 2])),\n",
       "             estimator=SGDRegressor(learning_rate='adaptive',\n",
       "                                    penalty='elasticnet'),\n",
       "             param_grid={'alpha': [0.001, 0.005, 0.01, 0.05, 0.1, 1],\n",
       "                         'l1_ratio': array([0.  , 0.25, 0.5 , 0.75])},\n",
       "             refit='neg_root_mean_squared_error', return_train_score=True,\n",
       "             scoring=['neg_root_mean_squared_error', 'r2'], verbose=1)"
      ]
     },
     "execution_count": 110,
     "metadata": {},
     "output_type": "execute_result"
    }
   ],
   "source": [
    "el_net_lin_reg = SGDRegressor(penalty='elasticnet', learning_rate='adaptive')\n",
    "\n",
    "param_grid = {\n",
    "    #\"tol\": [5e-3],\n",
    "    #\"max_iter\": [10000],\n",
    "    \"alpha\": [0.001, 0.005, 0.01, 0.05, 0.1, 1],\n",
    "    \"l1_ratio\": np.arange(0.0, 1.0, 0.25),\n",
    "    }\n",
    "\n",
    "srch_lin_reg = GridSearchCV(el_net_lin_reg, param_grid, cv=cv_split,\n",
    "                            scoring=['neg_root_mean_squared_error', 'r2'], refit='neg_root_mean_squared_error',\n",
    "                            return_train_score=True, verbose=1)\n",
    "\n",
    "srch_lin_reg.fit(dataset_prepared_stand, dataset_labels)"
   ]
  },
  {
   "cell_type": "code",
   "execution_count": 112,
   "metadata": {},
   "outputs": [
    {
     "name": "stdout",
     "output_type": "stream",
     "text": [
      "Best estimator: SGDRegressor(alpha=0.005, l1_ratio=0.0, learning_rate='adaptive',\n",
      "             penalty='elasticnet')\n",
      "Best parameters: {'alpha': 0.005, 'l1_ratio': 0.0}\n",
      "\n",
      "neg_root_mean_squared_error mean on test sets: -0.0065681634246846365\n",
      "neg_root_mean_squared_error mean on train sets: -0.0064515109122527696\n",
      "\n",
      "r2 mean on test sets: 0.3839618034072905\n",
      "r2 mean on train sets: 0.41430047663154085\n"
     ]
    }
   ],
   "source": [
    "get_grid_search_results(srch_lin_reg)"
   ]
  },
  {
   "cell_type": "code",
   "execution_count": 115,
   "metadata": {
    "scrolled": true
   },
   "outputs": [
    {
     "name": "stdout",
     "output_type": "stream",
     "text": [
      "Cross validation scores\n",
      "Cross-validation RMSE\n",
      "Scores: [0.0076777125 0.0058375796 0.0062349836]\n",
      "Mean: 0.00658342523722573\n",
      "Standard deviation: 0.0007906035367403609\n",
      "\n",
      "Cross-validation adjR2\n",
      "Scores: [0.3595301672 0.3173209648 0.4205359086]\n",
      "Mean: 0.3657956802030118\n",
      "Standard deviation: 0.04236959325287234\n",
      "\n",
      "\n",
      "Scores on training set\n",
      "RMSE score: 0.006493038287342732\n",
      "Adjusted R2 score: 0.4043401285532434\n"
     ]
    }
   ],
   "source": [
    "lin_reg = srch_lin_reg.best_estimator_\n",
    "test_regressor(lin_reg, dataset_prepared_stand, dataset_labels)"
   ]
  },
  {
   "cell_type": "markdown",
   "metadata": {},
   "source": [
    "### Second iteration"
   ]
  },
  {
   "cell_type": "code",
   "execution_count": 68,
   "metadata": {
    "scrolled": true
   },
   "outputs": [
    {
     "name": "stdout",
     "output_type": "stream",
     "text": [
      "Fitting 3 folds for each of 1000 candidates, totalling 3000 fits\n"
     ]
    },
    {
     "name": "stderr",
     "output_type": "stream",
     "text": [
      "[Parallel(n_jobs=1)]: Using backend SequentialBackend with 1 concurrent workers.\n",
      "[Parallel(n_jobs=1)]: Done 3000 out of 3000 | elapsed:  1.3min finished\n"
     ]
    },
    {
     "data": {
      "text/plain": [
       "RandomizedSearchCV(cv=PredefinedSplit(test_fold=array([0, 0, ..., 2, 0])),\n",
       "                   estimator=SGDRegressor(learning_rate='adaptive',\n",
       "                                          penalty='elasticnet'),\n",
       "                   n_iter=1000,\n",
       "                   param_distributions={'alpha': <scipy.stats._distn_infrastructure.rv_frozen object at 0x000002066145A988>,\n",
       "                                        'l1_ratio': <scipy.stats._distn_infrastructure.rv_frozen object at 0x0000020661674E48>,\n",
       "                                        'max_iter': [3000]},\n",
       "                   refit='neg_root_mean_squared_error', return_train_score=True,\n",
       "                   scoring=['neg_root_mean_squared_error', 'r2'], verbose=1)"
      ]
     },
     "execution_count": 68,
     "metadata": {},
     "output_type": "execute_result"
    }
   ],
   "source": [
    "param_grid = {\n",
    "    'max_iter': [3000],\n",
    "    \"alpha\": expon(scale=0.05),\n",
    "    \"l1_ratio\": uniform(0.0, 1.0),\n",
    "    }\n",
    "\n",
    "srch_lin_reg_2 = RandomizedSearchCV(el_net_lin_reg, param_grid, cv=cv_split, n_iter=1000,\n",
    "                                    scoring=['neg_root_mean_squared_error', 'r2'], refit='neg_root_mean_squared_error',\n",
    "                                    return_train_score=True, verbose=1)\n",
    "\n",
    "srch_lin_reg_2.fit(dataset_prepared_stand, dataset_labels)"
   ]
  },
  {
   "cell_type": "code",
   "execution_count": 69,
   "metadata": {},
   "outputs": [
    {
     "name": "stdout",
     "output_type": "stream",
     "text": [
      "Best estimator: SGDRegressor(alpha=0.05936384247580533, l1_ratio=0.0021081465191625792,\n",
      "             learning_rate='adaptive', max_iter=3000, penalty='elasticnet')\n",
      "Best parameters: {'alpha': 0.05936384247580533, 'l1_ratio': 0.0021081465191625792, 'max_iter': 3000}\n",
      "\n",
      "neg_root_mean_squared_error mean on test sets: -0.00671215954408157\n",
      "neg_root_mean_squared_error mean on train sets: -0.0065244799554542154\n",
      "\n",
      "r2 mean on test sets: 0.3655598938492386\n",
      "r2 mean on train sets: 0.4022262895503232\n"
     ]
    }
   ],
   "source": [
    "get_grid_search_results(srch_lin_reg_2)"
   ]
  },
  {
   "cell_type": "code",
   "execution_count": 70,
   "metadata": {
    "scrolled": true
   },
   "outputs": [
    {
     "name": "stdout",
     "output_type": "stream",
     "text": [
      "Cross validation scores\n",
      "Cross-validation RMSE\n",
      "Scores: [0.0075665238 0.0065095124 0.0060820472]\n",
      "Mean: 0.006719361117382856\n",
      "Standard deviation: 0.0006239364764169309\n",
      "\n",
      "Cross-validation adjR2\n",
      "Scores: [0.32127335   0.3314150254 0.3954071011]\n",
      "Mean: 0.3493651588710307\n",
      "Standard deviation: 0.032818782536731726\n",
      "\n",
      "\n",
      "Scores on training set\n",
      "RMSE score: 0.006567660820860844\n",
      "Adjusted R2 score: 0.39056997351735667\n"
     ]
    }
   ],
   "source": [
    "lin_reg = srch_lin_reg_2.best_estimator_\n",
    "test_regressor(lin_reg, dataset_prepared_stand, dataset_labels, 'Linear Regression')"
   ]
  },
  {
   "cell_type": "markdown",
   "metadata": {},
   "source": [
    "## Linear Regression with squared cumulative adoption"
   ]
  },
  {
   "cell_type": "code",
   "execution_count": 69,
   "metadata": {},
   "outputs": [],
   "source": [
    "from sklearn.linear_model import SGDRegressor\n",
    "el_net_lin_reg = SGDRegressor(penalty='elasticnet', learning_rate='adaptive')"
   ]
  },
  {
   "cell_type": "code",
   "execution_count": 72,
   "metadata": {},
   "outputs": [
    {
     "name": "stdout",
     "output_type": "stream",
     "text": [
      "Fitting 3 folds for each of 1000 candidates, totalling 3000 fits\n"
     ]
    },
    {
     "name": "stderr",
     "output_type": "stream",
     "text": [
      "[Parallel(n_jobs=1)]: Using backend SequentialBackend with 1 concurrent workers.\n",
      "[Parallel(n_jobs=1)]: Done 3000 out of 3000 | elapsed:  1.3min finished\n"
     ]
    },
    {
     "data": {
      "text/plain": [
       "RandomizedSearchCV(cv=PredefinedSplit(test_fold=array([0, 0, ..., 2, 0])),\n",
       "                   estimator=SGDRegressor(learning_rate='adaptive',\n",
       "                                          penalty='elasticnet'),\n",
       "                   n_iter=1000,\n",
       "                   param_distributions={'alpha': <scipy.stats._distn_infrastructure.rv_frozen object at 0x0000020661ED4B08>,\n",
       "                                        'l1_ratio': <scipy.stats._distn_infrastructure.rv_frozen object at 0x0000020661ED4CC8>,\n",
       "                                        'max_iter': [3000]},\n",
       "                   refit='neg_root_mean_squared_error', return_train_score=True,\n",
       "                   scoring=['neg_root_mean_squared_error', 'r2'], verbose=1)"
      ]
     },
     "execution_count": 72,
     "metadata": {},
     "output_type": "execute_result"
    }
   ],
   "source": [
    "param_grid = {\n",
    "    'max_iter': [3000],\n",
    "    \"alpha\": uniform(0.001, 0.05),\n",
    "    \"l1_ratio\": uniform(0.0, 1.0),\n",
    "    }\n",
    "\n",
    "srch_lin_reg_sq = RandomizedSearchCV(el_net_lin_reg, param_grid, cv=cv_split, n_iter=1000,\n",
    "                                    scoring=['neg_root_mean_squared_error', 'r2'], refit='neg_root_mean_squared_error',\n",
    "                                    return_train_score=True, verbose=1)\n",
    "\n",
    "srch_lin_reg_sq.fit(dataset_stand_sq_cum_ad, dataset_labels)"
   ]
  },
  {
   "cell_type": "code",
   "execution_count": 73,
   "metadata": {},
   "outputs": [
    {
     "name": "stdout",
     "output_type": "stream",
     "text": [
      "Best estimator: SGDRegressor(alpha=0.006529418661906638, l1_ratio=0.0014585763679704211,\n",
      "             learning_rate='adaptive', max_iter=3000, penalty='elasticnet')\n",
      "Best parameters: {'alpha': 0.006529418661906638, 'l1_ratio': 0.0014585763679704211, 'max_iter': 3000}\n",
      "\n",
      "neg_root_mean_squared_error mean on test sets: -0.0065946930303471376\n",
      "neg_root_mean_squared_error mean on train sets: -0.006298087185128428\n",
      "\n",
      "r2 mean on test sets: 0.38803915563801145\n",
      "r2 mean on train sets: 0.4430364745891981\n"
     ]
    }
   ],
   "source": [
    "get_grid_search_results(srch_lin_reg_sq)"
   ]
  },
  {
   "cell_type": "code",
   "execution_count": 74,
   "metadata": {},
   "outputs": [
    {
     "name": "stdout",
     "output_type": "stream",
     "text": [
      "Cross validation scores\n",
      "Cross-validation RMSE\n",
      "Scores: [0.0075758986 0.006419995  0.0058502879]\n",
      "Mean: 0.0066153937964804855\n",
      "Standard deviation: 0.0007178990624312152\n",
      "\n",
      "Cross-validation adjR2\n",
      "Scores: [0.3187545716 0.3488781318 0.4399186049]\n",
      "Mean: 0.3691837694299463\n",
      "Standard deviation: 0.05150676285943749\n",
      "\n",
      "\n",
      "Scores on training set\n",
      "RMSE score: 0.0063500951919508945\n",
      "Adjusted R2 score: 0.43004896292814576\n"
     ]
    }
   ],
   "source": [
    "lin_reg_sq = srch_lin_reg_sq.best_estimator_\n",
    "name = \"Linear regression + cum_ad_sq\"\n",
    "test_regressor(lin_reg_sq, dataset_stand_sq_cum_ad, dataset_labels, name)"
   ]
  },
  {
   "cell_type": "markdown",
   "metadata": {},
   "source": [
    "## Polynomial regression"
   ]
  },
  {
   "cell_type": "code",
   "execution_count": 75,
   "metadata": {},
   "outputs": [],
   "source": [
    "from sklearn.preprocessing import PolynomialFeatures"
   ]
  },
  {
   "cell_type": "code",
   "execution_count": 76,
   "metadata": {},
   "outputs": [],
   "source": [
    "poly_features = PolynomialFeatures(degree=2, include_bias=False) # Already added by Elastic Net"
   ]
  },
  {
   "cell_type": "code",
   "execution_count": 77,
   "metadata": {},
   "outputs": [],
   "source": [
    "full_pipeline_stand_poly = Pipeline([\n",
    "    ('transformation', transformation_pipeline),\n",
    "    ('poly_features', poly_features),\n",
    "    ('scaling', StandardScaler())\n",
    "])"
   ]
  },
  {
   "cell_type": "code",
   "execution_count": 78,
   "metadata": {},
   "outputs": [],
   "source": [
    "dataset_prepared_stand_poly = full_pipeline_stand_poly.fit_transform(dataset)"
   ]
  },
  {
   "cell_type": "code",
   "execution_count": 79,
   "metadata": {},
   "outputs": [
    {
     "data": {
      "text/plain": [
       "(2507, 209)"
      ]
     },
     "execution_count": 79,
     "metadata": {},
     "output_type": "execute_result"
    }
   ],
   "source": [
    "dataset_prepared_stand_poly.shape"
   ]
  },
  {
   "cell_type": "markdown",
   "metadata": {},
   "source": [
    "\n",
    "### Hyperparameters search on polynomial regression with elastic net regularization"
   ]
  },
  {
   "cell_type": "code",
   "execution_count": 80,
   "metadata": {},
   "outputs": [
    {
     "name": "stdout",
     "output_type": "stream",
     "text": [
      "Fitting 3 folds for each of 12 candidates, totalling 36 fits\n"
     ]
    },
    {
     "name": "stderr",
     "output_type": "stream",
     "text": [
      "[Parallel(n_jobs=1)]: Using backend SequentialBackend with 1 concurrent workers.\n",
      "C:\\Users\\giaco\\anaconda3\\envs\\data_analysis\\lib\\site-packages\\sklearn\\linear_model\\_stochastic_gradient.py:1211: ConvergenceWarning: Maximum number of iteration reached before convergence. Consider increasing max_iter to improve the fit.\n",
      "  ConvergenceWarning)\n",
      "C:\\Users\\giaco\\anaconda3\\envs\\data_analysis\\lib\\site-packages\\sklearn\\linear_model\\_stochastic_gradient.py:1211: ConvergenceWarning: Maximum number of iteration reached before convergence. Consider increasing max_iter to improve the fit.\n",
      "  ConvergenceWarning)\n",
      "C:\\Users\\giaco\\anaconda3\\envs\\data_analysis\\lib\\site-packages\\sklearn\\linear_model\\_stochastic_gradient.py:1211: ConvergenceWarning: Maximum number of iteration reached before convergence. Consider increasing max_iter to improve the fit.\n",
      "  ConvergenceWarning)\n",
      "C:\\Users\\giaco\\anaconda3\\envs\\data_analysis\\lib\\site-packages\\sklearn\\linear_model\\_stochastic_gradient.py:1211: ConvergenceWarning: Maximum number of iteration reached before convergence. Consider increasing max_iter to improve the fit.\n",
      "  ConvergenceWarning)\n",
      "C:\\Users\\giaco\\anaconda3\\envs\\data_analysis\\lib\\site-packages\\sklearn\\linear_model\\_stochastic_gradient.py:1211: ConvergenceWarning: Maximum number of iteration reached before convergence. Consider increasing max_iter to improve the fit.\n",
      "  ConvergenceWarning)\n",
      "C:\\Users\\giaco\\anaconda3\\envs\\data_analysis\\lib\\site-packages\\sklearn\\linear_model\\_stochastic_gradient.py:1211: ConvergenceWarning: Maximum number of iteration reached before convergence. Consider increasing max_iter to improve the fit.\n",
      "  ConvergenceWarning)\n",
      "C:\\Users\\giaco\\anaconda3\\envs\\data_analysis\\lib\\site-packages\\sklearn\\linear_model\\_stochastic_gradient.py:1211: ConvergenceWarning: Maximum number of iteration reached before convergence. Consider increasing max_iter to improve the fit.\n",
      "  ConvergenceWarning)\n",
      "[Parallel(n_jobs=1)]: Done  36 out of  36 | elapsed:  1.3min finished\n",
      "C:\\Users\\giaco\\anaconda3\\envs\\data_analysis\\lib\\site-packages\\sklearn\\linear_model\\_stochastic_gradient.py:1211: ConvergenceWarning: Maximum number of iteration reached before convergence. Consider increasing max_iter to improve the fit.\n",
      "  ConvergenceWarning)\n"
     ]
    },
    {
     "data": {
      "text/plain": [
       "GridSearchCV(cv=PredefinedSplit(test_fold=array([0, 0, ..., 2, 0])),\n",
       "             estimator=SGDRegressor(learning_rate='optimal',\n",
       "                                    penalty='elasticnet'),\n",
       "             param_grid={'alpha': [0.01, 0.1, 1],\n",
       "                         'l1_ratio': array([0.  , 0.25, 0.5 , 0.75]),\n",
       "                         'max_iter': [3000]},\n",
       "             refit='neg_root_mean_squared_error', return_train_score=True,\n",
       "             scoring=['neg_root_mean_squared_error', 'r2'], verbose=1)"
      ]
     },
     "execution_count": 80,
     "metadata": {},
     "output_type": "execute_result"
    }
   ],
   "source": [
    "from sklearn.linear_model import SGDRegressor\n",
    "\n",
    "el_net_pol_reg = SGDRegressor(penalty='elasticnet', learning_rate='optimal') # Optimal much faster and converging\n",
    "\n",
    "param_grid = {\n",
    "    \"max_iter\": [3000],\n",
    "    \"alpha\": [0.01, 0.1, 1],\n",
    "    \"l1_ratio\": np.arange(0.0, 1.0, 0.25),\n",
    "    }\n",
    "\n",
    "srch_pol_reg = GridSearchCV(el_net_pol_reg, param_grid, cv=cv_split,\n",
    "                                   scoring=['neg_root_mean_squared_error', 'r2'], refit='neg_root_mean_squared_error',\n",
    "                                   return_train_score=True, verbose=1)\n",
    "\n",
    "srch_pol_reg.fit(dataset_prepared_stand_poly, dataset_labels)"
   ]
  },
  {
   "cell_type": "code",
   "execution_count": 81,
   "metadata": {},
   "outputs": [
    {
     "name": "stdout",
     "output_type": "stream",
     "text": [
      "Best estimator: SGDRegressor(alpha=0.1, l1_ratio=0.25, learning_rate='optimal', max_iter=3000,\n",
      "             penalty='elasticnet')\n",
      "Best parameters: {'alpha': 0.1, 'l1_ratio': 0.25, 'max_iter': 3000}\n",
      "\n",
      "neg_root_mean_squared_error mean on test sets: -0.008422421447844868\n",
      "neg_root_mean_squared_error mean on train sets: -0.008439281630512198\n",
      "\n",
      "r2 mean on test sets: -0.0007743389274026402\n",
      "r2 mean on train sets: -0.0002823623434065059\n"
     ]
    }
   ],
   "source": [
    "get_grid_search_results(srch_pol_reg)"
   ]
  },
  {
   "cell_type": "code",
   "execution_count": 82,
   "metadata": {
    "scrolled": true
   },
   "outputs": [
    {
     "name": "stdout",
     "output_type": "stream",
     "text": [
      "Cross validation scores\n",
      "Cross-validation RMSE\n",
      "Scores: [9.3010874770e-03 2.3290737506e+07 7.9214606677e-03]\n",
      "Mean: 7763579.174328685\n",
      "Standard deviation: 10979358.94871476\n",
      "\n",
      "Cross-validation adjR2\n",
      "Scores: [-3.3735635338e-01 -1.1161017090e+19 -3.3737008326e-01]\n",
      "Mean: -3.7203390300727393e+18\n",
      "Standard deviation: 5.261353912954833e+18\n",
      "\n",
      "\n",
      "Scores on training set\n",
      "RMSE score: 0.008445067343499979\n",
      "Adjusted R2 score: -0.09099670812546523\n"
     ]
    },
    {
     "name": "stderr",
     "output_type": "stream",
     "text": [
      "C:\\Users\\giaco\\anaconda3\\envs\\data_analysis\\lib\\site-packages\\sklearn\\linear_model\\_stochastic_gradient.py:1211: ConvergenceWarning: Maximum number of iteration reached before convergence. Consider increasing max_iter to improve the fit.\n",
      "  ConvergenceWarning)\n"
     ]
    }
   ],
   "source": [
    "pol_reg = srch_pol_reg.best_estimator_\n",
    "test_regressor(pol_reg, dataset_prepared_stand_poly, dataset_labels)"
   ]
  },
  {
   "cell_type": "markdown",
   "metadata": {},
   "source": [
    "### Second iteration"
   ]
  },
  {
   "cell_type": "code",
   "execution_count": 83,
   "metadata": {
    "scrolled": true
   },
   "outputs": [
    {
     "name": "stderr",
     "output_type": "stream",
     "text": [
      "[Parallel(n_jobs=1)]: Using backend SequentialBackend with 1 concurrent workers.\n"
     ]
    },
    {
     "name": "stdout",
     "output_type": "stream",
     "text": [
      "Fitting 3 folds for each of 100 candidates, totalling 300 fits\n"
     ]
    },
    {
     "name": "stderr",
     "output_type": "stream",
     "text": [
      "C:\\Users\\giaco\\anaconda3\\envs\\data_analysis\\lib\\site-packages\\sklearn\\linear_model\\_stochastic_gradient.py:1211: ConvergenceWarning: Maximum number of iteration reached before convergence. Consider increasing max_iter to improve the fit.\n",
      "  ConvergenceWarning)\n",
      "C:\\Users\\giaco\\anaconda3\\envs\\data_analysis\\lib\\site-packages\\sklearn\\linear_model\\_stochastic_gradient.py:1211: ConvergenceWarning: Maximum number of iteration reached before convergence. Consider increasing max_iter to improve the fit.\n",
      "  ConvergenceWarning)\n",
      "C:\\Users\\giaco\\anaconda3\\envs\\data_analysis\\lib\\site-packages\\sklearn\\linear_model\\_stochastic_gradient.py:1211: ConvergenceWarning: Maximum number of iteration reached before convergence. Consider increasing max_iter to improve the fit.\n",
      "  ConvergenceWarning)\n",
      "C:\\Users\\giaco\\anaconda3\\envs\\data_analysis\\lib\\site-packages\\sklearn\\linear_model\\_stochastic_gradient.py:1211: ConvergenceWarning: Maximum number of iteration reached before convergence. Consider increasing max_iter to improve the fit.\n",
      "  ConvergenceWarning)\n",
      "C:\\Users\\giaco\\anaconda3\\envs\\data_analysis\\lib\\site-packages\\sklearn\\linear_model\\_stochastic_gradient.py:1211: ConvergenceWarning: Maximum number of iteration reached before convergence. Consider increasing max_iter to improve the fit.\n",
      "  ConvergenceWarning)\n",
      "C:\\Users\\giaco\\anaconda3\\envs\\data_analysis\\lib\\site-packages\\sklearn\\linear_model\\_stochastic_gradient.py:1211: ConvergenceWarning: Maximum number of iteration reached before convergence. Consider increasing max_iter to improve the fit.\n",
      "  ConvergenceWarning)\n",
      "C:\\Users\\giaco\\anaconda3\\envs\\data_analysis\\lib\\site-packages\\sklearn\\linear_model\\_stochastic_gradient.py:1211: ConvergenceWarning: Maximum number of iteration reached before convergence. Consider increasing max_iter to improve the fit.\n",
      "  ConvergenceWarning)\n",
      "C:\\Users\\giaco\\anaconda3\\envs\\data_analysis\\lib\\site-packages\\sklearn\\linear_model\\_stochastic_gradient.py:1211: ConvergenceWarning: Maximum number of iteration reached before convergence. Consider increasing max_iter to improve the fit.\n",
      "  ConvergenceWarning)\n",
      "C:\\Users\\giaco\\anaconda3\\envs\\data_analysis\\lib\\site-packages\\sklearn\\linear_model\\_stochastic_gradient.py:1211: ConvergenceWarning: Maximum number of iteration reached before convergence. Consider increasing max_iter to improve the fit.\n",
      "  ConvergenceWarning)\n",
      "C:\\Users\\giaco\\anaconda3\\envs\\data_analysis\\lib\\site-packages\\sklearn\\linear_model\\_stochastic_gradient.py:1211: ConvergenceWarning: Maximum number of iteration reached before convergence. Consider increasing max_iter to improve the fit.\n",
      "  ConvergenceWarning)\n",
      "C:\\Users\\giaco\\anaconda3\\envs\\data_analysis\\lib\\site-packages\\sklearn\\linear_model\\_stochastic_gradient.py:1211: ConvergenceWarning: Maximum number of iteration reached before convergence. Consider increasing max_iter to improve the fit.\n",
      "  ConvergenceWarning)\n",
      "C:\\Users\\giaco\\anaconda3\\envs\\data_analysis\\lib\\site-packages\\sklearn\\linear_model\\_stochastic_gradient.py:1211: ConvergenceWarning: Maximum number of iteration reached before convergence. Consider increasing max_iter to improve the fit.\n",
      "  ConvergenceWarning)\n",
      "C:\\Users\\giaco\\anaconda3\\envs\\data_analysis\\lib\\site-packages\\sklearn\\linear_model\\_stochastic_gradient.py:1211: ConvergenceWarning: Maximum number of iteration reached before convergence. Consider increasing max_iter to improve the fit.\n",
      "  ConvergenceWarning)\n",
      "C:\\Users\\giaco\\anaconda3\\envs\\data_analysis\\lib\\site-packages\\sklearn\\linear_model\\_stochastic_gradient.py:1211: ConvergenceWarning: Maximum number of iteration reached before convergence. Consider increasing max_iter to improve the fit.\n",
      "  ConvergenceWarning)\n",
      "C:\\Users\\giaco\\anaconda3\\envs\\data_analysis\\lib\\site-packages\\sklearn\\linear_model\\_stochastic_gradient.py:1211: ConvergenceWarning: Maximum number of iteration reached before convergence. Consider increasing max_iter to improve the fit.\n",
      "  ConvergenceWarning)\n",
      "C:\\Users\\giaco\\anaconda3\\envs\\data_analysis\\lib\\site-packages\\sklearn\\linear_model\\_stochastic_gradient.py:1211: ConvergenceWarning: Maximum number of iteration reached before convergence. Consider increasing max_iter to improve the fit.\n",
      "  ConvergenceWarning)\n",
      "C:\\Users\\giaco\\anaconda3\\envs\\data_analysis\\lib\\site-packages\\sklearn\\linear_model\\_stochastic_gradient.py:1211: ConvergenceWarning: Maximum number of iteration reached before convergence. Consider increasing max_iter to improve the fit.\n",
      "  ConvergenceWarning)\n",
      "C:\\Users\\giaco\\anaconda3\\envs\\data_analysis\\lib\\site-packages\\sklearn\\linear_model\\_stochastic_gradient.py:1211: ConvergenceWarning: Maximum number of iteration reached before convergence. Consider increasing max_iter to improve the fit.\n",
      "  ConvergenceWarning)\n",
      "C:\\Users\\giaco\\anaconda3\\envs\\data_analysis\\lib\\site-packages\\sklearn\\linear_model\\_stochastic_gradient.py:1211: ConvergenceWarning: Maximum number of iteration reached before convergence. Consider increasing max_iter to improve the fit.\n",
      "  ConvergenceWarning)\n",
      "C:\\Users\\giaco\\anaconda3\\envs\\data_analysis\\lib\\site-packages\\sklearn\\linear_model\\_stochastic_gradient.py:1211: ConvergenceWarning: Maximum number of iteration reached before convergence. Consider increasing max_iter to improve the fit.\n",
      "  ConvergenceWarning)\n",
      "C:\\Users\\giaco\\anaconda3\\envs\\data_analysis\\lib\\site-packages\\sklearn\\linear_model\\_stochastic_gradient.py:1211: ConvergenceWarning: Maximum number of iteration reached before convergence. Consider increasing max_iter to improve the fit.\n",
      "  ConvergenceWarning)\n",
      "C:\\Users\\giaco\\anaconda3\\envs\\data_analysis\\lib\\site-packages\\sklearn\\linear_model\\_stochastic_gradient.py:1211: ConvergenceWarning: Maximum number of iteration reached before convergence. Consider increasing max_iter to improve the fit.\n",
      "  ConvergenceWarning)\n",
      "C:\\Users\\giaco\\anaconda3\\envs\\data_analysis\\lib\\site-packages\\sklearn\\linear_model\\_stochastic_gradient.py:1211: ConvergenceWarning: Maximum number of iteration reached before convergence. Consider increasing max_iter to improve the fit.\n",
      "  ConvergenceWarning)\n",
      "C:\\Users\\giaco\\anaconda3\\envs\\data_analysis\\lib\\site-packages\\sklearn\\linear_model\\_stochastic_gradient.py:1211: ConvergenceWarning: Maximum number of iteration reached before convergence. Consider increasing max_iter to improve the fit.\n",
      "  ConvergenceWarning)\n",
      "C:\\Users\\giaco\\anaconda3\\envs\\data_analysis\\lib\\site-packages\\sklearn\\linear_model\\_stochastic_gradient.py:1211: ConvergenceWarning: Maximum number of iteration reached before convergence. Consider increasing max_iter to improve the fit.\n",
      "  ConvergenceWarning)\n",
      "C:\\Users\\giaco\\anaconda3\\envs\\data_analysis\\lib\\site-packages\\sklearn\\linear_model\\_stochastic_gradient.py:1211: ConvergenceWarning: Maximum number of iteration reached before convergence. Consider increasing max_iter to improve the fit.\n",
      "  ConvergenceWarning)\n",
      "C:\\Users\\giaco\\anaconda3\\envs\\data_analysis\\lib\\site-packages\\sklearn\\linear_model\\_stochastic_gradient.py:1211: ConvergenceWarning: Maximum number of iteration reached before convergence. Consider increasing max_iter to improve the fit.\n",
      "  ConvergenceWarning)\n",
      "C:\\Users\\giaco\\anaconda3\\envs\\data_analysis\\lib\\site-packages\\sklearn\\linear_model\\_stochastic_gradient.py:1211: ConvergenceWarning: Maximum number of iteration reached before convergence. Consider increasing max_iter to improve the fit.\n",
      "  ConvergenceWarning)\n",
      "C:\\Users\\giaco\\anaconda3\\envs\\data_analysis\\lib\\site-packages\\sklearn\\linear_model\\_stochastic_gradient.py:1211: ConvergenceWarning: Maximum number of iteration reached before convergence. Consider increasing max_iter to improve the fit.\n",
      "  ConvergenceWarning)\n",
      "[Parallel(n_jobs=1)]: Done 300 out of 300 | elapsed:  9.0min finished\n"
     ]
    },
    {
     "data": {
      "text/plain": [
       "RandomizedSearchCV(cv=PredefinedSplit(test_fold=array([0, 0, ..., 2, 0])),\n",
       "                   estimator=SGDRegressor(learning_rate='optimal',\n",
       "                                          penalty='elasticnet'),\n",
       "                   n_iter=100,\n",
       "                   param_distributions={'alpha': <scipy.stats._distn_infrastructure.rv_frozen object at 0x0000020661D7A288>,\n",
       "                                        'l1_ratio': <scipy.stats._distn_infrastructure.rv_frozen object at 0x0000020661D7A148>,\n",
       "                                        'max_iter': [3000]},\n",
       "                   refit='neg_root_mean_squared_error', return_train_score=True,\n",
       "                   scoring=['neg_root_mean_squared_error', 'r2'], verbose=1)"
      ]
     },
     "execution_count": 83,
     "metadata": {},
     "output_type": "execute_result"
    }
   ],
   "source": [
    "param_grid = {\n",
    "    'max_iter': [3000],\n",
    "    \"alpha\": expon(scale=0.01),\n",
    "    \"l1_ratio\": uniform(0, 0.5),\n",
    "    }\n",
    "\n",
    "srch_pol_reg_2 = RandomizedSearchCV(el_net_pol_reg, param_grid, cv=cv_split, n_iter=100,\n",
    "                                        scoring=['neg_root_mean_squared_error', 'r2'], refit='neg_root_mean_squared_error',\n",
    "                                        return_train_score=True, verbose=1)\n",
    "\n",
    "srch_pol_reg_2.fit(dataset_prepared_stand_poly, dataset_labels)"
   ]
  },
  {
   "cell_type": "code",
   "execution_count": 84,
   "metadata": {},
   "outputs": [
    {
     "name": "stdout",
     "output_type": "stream",
     "text": [
      "Best estimator: SGDRegressor(alpha=0.03877801403936594, l1_ratio=0.4148953151350726,\n",
      "             learning_rate='optimal', max_iter=3000, penalty='elasticnet')\n",
      "Best parameters: {'alpha': 0.03877801403936594, 'l1_ratio': 0.4148953151350726, 'max_iter': 3000}\n",
      "\n",
      "neg_root_mean_squared_error mean on test sets: -0.008429575763483984\n",
      "neg_root_mean_squared_error mean on train sets: -0.0084418572013854\n",
      "\n",
      "r2 mean on test sets: -0.002679952302066783\n",
      "r2 mean on train sets: -0.0009111053295533337\n"
     ]
    }
   ],
   "source": [
    "get_grid_search_results(srch_pol_reg_2)"
   ]
  },
  {
   "cell_type": "code",
   "execution_count": 85,
   "metadata": {},
   "outputs": [
    {
     "name": "stderr",
     "output_type": "stream",
     "text": [
      "C:\\Users\\giaco\\anaconda3\\envs\\data_analysis\\lib\\site-packages\\sklearn\\linear_model\\_stochastic_gradient.py:1211: ConvergenceWarning: Maximum number of iteration reached before convergence. Consider increasing max_iter to improve the fit.\n",
      "  ConvergenceWarning)\n"
     ]
    },
    {
     "name": "stdout",
     "output_type": "stream",
     "text": [
      "Cross validation scores\n",
      "Cross-validation RMSE\n",
      "Scores: [1.7908370628e+08 8.0543033417e-03 7.9261113340e-03]\n",
      "Mean: 59694568.766176015\n",
      "Standard deviation: 84420868.73783961\n",
      "\n",
      "Cross-validation adjR2\n",
      "Scores: [-4.9578323292e+20 -3.3472948870e-01 -3.3894087633e-01]\n",
      "Mean: -1.652610776408569e+20\n",
      "Standard deviation: 2.3371445733209283e+20\n",
      "\n",
      "\n",
      "Scores on training set\n",
      "RMSE score: 93829084.81683129\n",
      "Adjusted R2 score: -1.3467660709228406e+20\n"
     ]
    },
    {
     "name": "stderr",
     "output_type": "stream",
     "text": [
      "C:\\Users\\giaco\\anaconda3\\envs\\data_analysis\\lib\\site-packages\\sklearn\\linear_model\\_stochastic_gradient.py:1211: ConvergenceWarning: Maximum number of iteration reached before convergence. Consider increasing max_iter to improve the fit.\n",
      "  ConvergenceWarning)\n"
     ]
    }
   ],
   "source": [
    "pol_reg = srch_pol_reg_2.best_estimator_\n",
    "name = 'Polynomial Regression'\n",
    "test_regressor(pol_reg, dataset_prepared_stand_poly, dataset_labels, name)"
   ]
  },
  {
   "cell_type": "markdown",
   "metadata": {},
   "source": [
    "## Linear SVM"
   ]
  },
  {
   "cell_type": "code",
   "execution_count": 86,
   "metadata": {},
   "outputs": [],
   "source": [
    "from sklearn.svm import LinearSVR"
   ]
  },
  {
   "cell_type": "code",
   "execution_count": 87,
   "metadata": {
    "scrolled": true
   },
   "outputs": [
    {
     "name": "stderr",
     "output_type": "stream",
     "text": [
      "[Parallel(n_jobs=1)]: Using backend SequentialBackend with 1 concurrent workers.\n"
     ]
    },
    {
     "name": "stdout",
     "output_type": "stream",
     "text": [
      "Fitting 3 folds for each of 40 candidates, totalling 120 fits\n"
     ]
    },
    {
     "name": "stderr",
     "output_type": "stream",
     "text": [
      "C:\\Users\\giaco\\anaconda3\\envs\\data_analysis\\lib\\site-packages\\sklearn\\svm\\_base.py:977: ConvergenceWarning: Liblinear failed to converge, increase the number of iterations.\n",
      "  \"the number of iterations.\", ConvergenceWarning)\n",
      "C:\\Users\\giaco\\anaconda3\\envs\\data_analysis\\lib\\site-packages\\sklearn\\svm\\_base.py:977: ConvergenceWarning: Liblinear failed to converge, increase the number of iterations.\n",
      "  \"the number of iterations.\", ConvergenceWarning)\n",
      "C:\\Users\\giaco\\anaconda3\\envs\\data_analysis\\lib\\site-packages\\sklearn\\svm\\_base.py:977: ConvergenceWarning: Liblinear failed to converge, increase the number of iterations.\n",
      "  \"the number of iterations.\", ConvergenceWarning)\n",
      "C:\\Users\\giaco\\anaconda3\\envs\\data_analysis\\lib\\site-packages\\sklearn\\svm\\_base.py:977: ConvergenceWarning: Liblinear failed to converge, increase the number of iterations.\n",
      "  \"the number of iterations.\", ConvergenceWarning)\n",
      "C:\\Users\\giaco\\anaconda3\\envs\\data_analysis\\lib\\site-packages\\sklearn\\svm\\_base.py:977: ConvergenceWarning: Liblinear failed to converge, increase the number of iterations.\n",
      "  \"the number of iterations.\", ConvergenceWarning)\n",
      "C:\\Users\\giaco\\anaconda3\\envs\\data_analysis\\lib\\site-packages\\sklearn\\svm\\_base.py:977: ConvergenceWarning: Liblinear failed to converge, increase the number of iterations.\n",
      "  \"the number of iterations.\", ConvergenceWarning)\n",
      "C:\\Users\\giaco\\anaconda3\\envs\\data_analysis\\lib\\site-packages\\sklearn\\svm\\_base.py:977: ConvergenceWarning: Liblinear failed to converge, increase the number of iterations.\n",
      "  \"the number of iterations.\", ConvergenceWarning)\n",
      "C:\\Users\\giaco\\anaconda3\\envs\\data_analysis\\lib\\site-packages\\sklearn\\svm\\_base.py:977: ConvergenceWarning: Liblinear failed to converge, increase the number of iterations.\n",
      "  \"the number of iterations.\", ConvergenceWarning)\n",
      "C:\\Users\\giaco\\anaconda3\\envs\\data_analysis\\lib\\site-packages\\sklearn\\svm\\_base.py:977: ConvergenceWarning: Liblinear failed to converge, increase the number of iterations.\n",
      "  \"the number of iterations.\", ConvergenceWarning)\n",
      "C:\\Users\\giaco\\anaconda3\\envs\\data_analysis\\lib\\site-packages\\sklearn\\svm\\_base.py:977: ConvergenceWarning: Liblinear failed to converge, increase the number of iterations.\n",
      "  \"the number of iterations.\", ConvergenceWarning)\n",
      "C:\\Users\\giaco\\anaconda3\\envs\\data_analysis\\lib\\site-packages\\sklearn\\svm\\_base.py:977: ConvergenceWarning: Liblinear failed to converge, increase the number of iterations.\n",
      "  \"the number of iterations.\", ConvergenceWarning)\n",
      "C:\\Users\\giaco\\anaconda3\\envs\\data_analysis\\lib\\site-packages\\sklearn\\svm\\_base.py:977: ConvergenceWarning: Liblinear failed to converge, increase the number of iterations.\n",
      "  \"the number of iterations.\", ConvergenceWarning)\n",
      "C:\\Users\\giaco\\anaconda3\\envs\\data_analysis\\lib\\site-packages\\sklearn\\svm\\_base.py:977: ConvergenceWarning: Liblinear failed to converge, increase the number of iterations.\n",
      "  \"the number of iterations.\", ConvergenceWarning)\n",
      "C:\\Users\\giaco\\anaconda3\\envs\\data_analysis\\lib\\site-packages\\sklearn\\svm\\_base.py:977: ConvergenceWarning: Liblinear failed to converge, increase the number of iterations.\n",
      "  \"the number of iterations.\", ConvergenceWarning)\n",
      "C:\\Users\\giaco\\anaconda3\\envs\\data_analysis\\lib\\site-packages\\sklearn\\svm\\_base.py:977: ConvergenceWarning: Liblinear failed to converge, increase the number of iterations.\n",
      "  \"the number of iterations.\", ConvergenceWarning)\n",
      "C:\\Users\\giaco\\anaconda3\\envs\\data_analysis\\lib\\site-packages\\sklearn\\svm\\_base.py:977: ConvergenceWarning: Liblinear failed to converge, increase the number of iterations.\n",
      "  \"the number of iterations.\", ConvergenceWarning)\n",
      "C:\\Users\\giaco\\anaconda3\\envs\\data_analysis\\lib\\site-packages\\sklearn\\svm\\_base.py:977: ConvergenceWarning: Liblinear failed to converge, increase the number of iterations.\n",
      "  \"the number of iterations.\", ConvergenceWarning)\n",
      "C:\\Users\\giaco\\anaconda3\\envs\\data_analysis\\lib\\site-packages\\sklearn\\svm\\_base.py:977: ConvergenceWarning: Liblinear failed to converge, increase the number of iterations.\n",
      "  \"the number of iterations.\", ConvergenceWarning)\n",
      "C:\\Users\\giaco\\anaconda3\\envs\\data_analysis\\lib\\site-packages\\sklearn\\svm\\_base.py:977: ConvergenceWarning: Liblinear failed to converge, increase the number of iterations.\n",
      "  \"the number of iterations.\", ConvergenceWarning)\n",
      "C:\\Users\\giaco\\anaconda3\\envs\\data_analysis\\lib\\site-packages\\sklearn\\svm\\_base.py:977: ConvergenceWarning: Liblinear failed to converge, increase the number of iterations.\n",
      "  \"the number of iterations.\", ConvergenceWarning)\n",
      "C:\\Users\\giaco\\anaconda3\\envs\\data_analysis\\lib\\site-packages\\sklearn\\svm\\_base.py:977: ConvergenceWarning: Liblinear failed to converge, increase the number of iterations.\n",
      "  \"the number of iterations.\", ConvergenceWarning)\n",
      "C:\\Users\\giaco\\anaconda3\\envs\\data_analysis\\lib\\site-packages\\sklearn\\svm\\_base.py:977: ConvergenceWarning: Liblinear failed to converge, increase the number of iterations.\n",
      "  \"the number of iterations.\", ConvergenceWarning)\n",
      "C:\\Users\\giaco\\anaconda3\\envs\\data_analysis\\lib\\site-packages\\sklearn\\svm\\_base.py:977: ConvergenceWarning: Liblinear failed to converge, increase the number of iterations.\n",
      "  \"the number of iterations.\", ConvergenceWarning)\n",
      "C:\\Users\\giaco\\anaconda3\\envs\\data_analysis\\lib\\site-packages\\sklearn\\svm\\_base.py:977: ConvergenceWarning: Liblinear failed to converge, increase the number of iterations.\n",
      "  \"the number of iterations.\", ConvergenceWarning)\n",
      "C:\\Users\\giaco\\anaconda3\\envs\\data_analysis\\lib\\site-packages\\sklearn\\svm\\_base.py:977: ConvergenceWarning: Liblinear failed to converge, increase the number of iterations.\n",
      "  \"the number of iterations.\", ConvergenceWarning)\n",
      "C:\\Users\\giaco\\anaconda3\\envs\\data_analysis\\lib\\site-packages\\sklearn\\svm\\_base.py:977: ConvergenceWarning: Liblinear failed to converge, increase the number of iterations.\n",
      "  \"the number of iterations.\", ConvergenceWarning)\n",
      "C:\\Users\\giaco\\anaconda3\\envs\\data_analysis\\lib\\site-packages\\sklearn\\svm\\_base.py:977: ConvergenceWarning: Liblinear failed to converge, increase the number of iterations.\n",
      "  \"the number of iterations.\", ConvergenceWarning)\n",
      "C:\\Users\\giaco\\anaconda3\\envs\\data_analysis\\lib\\site-packages\\sklearn\\svm\\_base.py:977: ConvergenceWarning: Liblinear failed to converge, increase the number of iterations.\n",
      "  \"the number of iterations.\", ConvergenceWarning)\n",
      "C:\\Users\\giaco\\anaconda3\\envs\\data_analysis\\lib\\site-packages\\sklearn\\svm\\_base.py:977: ConvergenceWarning: Liblinear failed to converge, increase the number of iterations.\n",
      "  \"the number of iterations.\", ConvergenceWarning)\n",
      "C:\\Users\\giaco\\anaconda3\\envs\\data_analysis\\lib\\site-packages\\sklearn\\svm\\_base.py:977: ConvergenceWarning: Liblinear failed to converge, increase the number of iterations.\n",
      "  \"the number of iterations.\", ConvergenceWarning)\n",
      "C:\\Users\\giaco\\anaconda3\\envs\\data_analysis\\lib\\site-packages\\sklearn\\svm\\_base.py:977: ConvergenceWarning: Liblinear failed to converge, increase the number of iterations.\n",
      "  \"the number of iterations.\", ConvergenceWarning)\n",
      "C:\\Users\\giaco\\anaconda3\\envs\\data_analysis\\lib\\site-packages\\sklearn\\svm\\_base.py:977: ConvergenceWarning: Liblinear failed to converge, increase the number of iterations.\n",
      "  \"the number of iterations.\", ConvergenceWarning)\n",
      "C:\\Users\\giaco\\anaconda3\\envs\\data_analysis\\lib\\site-packages\\sklearn\\svm\\_base.py:977: ConvergenceWarning: Liblinear failed to converge, increase the number of iterations.\n",
      "  \"the number of iterations.\", ConvergenceWarning)\n",
      "C:\\Users\\giaco\\anaconda3\\envs\\data_analysis\\lib\\site-packages\\sklearn\\svm\\_base.py:977: ConvergenceWarning: Liblinear failed to converge, increase the number of iterations.\n",
      "  \"the number of iterations.\", ConvergenceWarning)\n",
      "C:\\Users\\giaco\\anaconda3\\envs\\data_analysis\\lib\\site-packages\\sklearn\\svm\\_base.py:977: ConvergenceWarning: Liblinear failed to converge, increase the number of iterations.\n",
      "  \"the number of iterations.\", ConvergenceWarning)\n",
      "C:\\Users\\giaco\\anaconda3\\envs\\data_analysis\\lib\\site-packages\\sklearn\\svm\\_base.py:977: ConvergenceWarning: Liblinear failed to converge, increase the number of iterations.\n",
      "  \"the number of iterations.\", ConvergenceWarning)\n",
      "C:\\Users\\giaco\\anaconda3\\envs\\data_analysis\\lib\\site-packages\\sklearn\\svm\\_base.py:977: ConvergenceWarning: Liblinear failed to converge, increase the number of iterations.\n",
      "  \"the number of iterations.\", ConvergenceWarning)\n"
     ]
    },
    {
     "name": "stderr",
     "output_type": "stream",
     "text": [
      "C:\\Users\\giaco\\anaconda3\\envs\\data_analysis\\lib\\site-packages\\sklearn\\svm\\_base.py:977: ConvergenceWarning: Liblinear failed to converge, increase the number of iterations.\n",
      "  \"the number of iterations.\", ConvergenceWarning)\n",
      "C:\\Users\\giaco\\anaconda3\\envs\\data_analysis\\lib\\site-packages\\sklearn\\svm\\_base.py:977: ConvergenceWarning: Liblinear failed to converge, increase the number of iterations.\n",
      "  \"the number of iterations.\", ConvergenceWarning)\n",
      "C:\\Users\\giaco\\anaconda3\\envs\\data_analysis\\lib\\site-packages\\sklearn\\svm\\_base.py:977: ConvergenceWarning: Liblinear failed to converge, increase the number of iterations.\n",
      "  \"the number of iterations.\", ConvergenceWarning)\n",
      "C:\\Users\\giaco\\anaconda3\\envs\\data_analysis\\lib\\site-packages\\sklearn\\svm\\_base.py:977: ConvergenceWarning: Liblinear failed to converge, increase the number of iterations.\n",
      "  \"the number of iterations.\", ConvergenceWarning)\n",
      "C:\\Users\\giaco\\anaconda3\\envs\\data_analysis\\lib\\site-packages\\sklearn\\svm\\_base.py:977: ConvergenceWarning: Liblinear failed to converge, increase the number of iterations.\n",
      "  \"the number of iterations.\", ConvergenceWarning)\n",
      "C:\\Users\\giaco\\anaconda3\\envs\\data_analysis\\lib\\site-packages\\sklearn\\svm\\_base.py:977: ConvergenceWarning: Liblinear failed to converge, increase the number of iterations.\n",
      "  \"the number of iterations.\", ConvergenceWarning)\n",
      "C:\\Users\\giaco\\anaconda3\\envs\\data_analysis\\lib\\site-packages\\sklearn\\svm\\_base.py:977: ConvergenceWarning: Liblinear failed to converge, increase the number of iterations.\n",
      "  \"the number of iterations.\", ConvergenceWarning)\n",
      "C:\\Users\\giaco\\anaconda3\\envs\\data_analysis\\lib\\site-packages\\sklearn\\svm\\_base.py:977: ConvergenceWarning: Liblinear failed to converge, increase the number of iterations.\n",
      "  \"the number of iterations.\", ConvergenceWarning)\n",
      "C:\\Users\\giaco\\anaconda3\\envs\\data_analysis\\lib\\site-packages\\sklearn\\svm\\_base.py:977: ConvergenceWarning: Liblinear failed to converge, increase the number of iterations.\n",
      "  \"the number of iterations.\", ConvergenceWarning)\n",
      "[Parallel(n_jobs=1)]: Done 120 out of 120 | elapsed:   32.9s finished\n",
      "C:\\Users\\giaco\\anaconda3\\envs\\data_analysis\\lib\\site-packages\\sklearn\\svm\\_base.py:977: ConvergenceWarning: Liblinear failed to converge, increase the number of iterations.\n",
      "  \"the number of iterations.\", ConvergenceWarning)\n"
     ]
    },
    {
     "data": {
      "text/plain": [
       "GridSearchCV(cv=PredefinedSplit(test_fold=array([0, 0, ..., 2, 0])),\n",
       "             estimator=LinearSVR(max_iter=3000),\n",
       "             param_grid={'C': [0.001, 0.01, 0.1, 1, 10],\n",
       "                         'epsilon': [0, 0.001, 0.01, 1],\n",
       "                         'loss': ['epsilon_insensitive',\n",
       "                                  'squared_epsilon_insensitive']},\n",
       "             refit='neg_root_mean_squared_error', return_train_score=True,\n",
       "             scoring=['neg_root_mean_squared_error', 'r2'], verbose=1)"
      ]
     },
     "execution_count": 87,
     "metadata": {},
     "output_type": "execute_result"
    }
   ],
   "source": [
    "lin_svr = LinearSVR(max_iter=3000)\n",
    "\n",
    "param_grid = {\n",
    "    \"epsilon\": [0, 0.001, 0.01, 1],\n",
    "    \"C\": [0.001, 0.01, 0.1, 1, 10],\n",
    "    \"loss\": [\"epsilon_insensitive\", \"squared_epsilon_insensitive\"]\n",
    "    }\n",
    "\n",
    "srch_lin_svr = GridSearchCV(lin_svr, param_grid, cv=cv_split,\n",
    "                                  scoring=['neg_root_mean_squared_error', 'r2'], refit='neg_root_mean_squared_error',\n",
    "                                  return_train_score=True, verbose=1)\n",
    "\n",
    "srch_lin_svr.fit(dataset_prepared_stand, dataset_labels)"
   ]
  },
  {
   "cell_type": "code",
   "execution_count": 88,
   "metadata": {},
   "outputs": [
    {
     "name": "stdout",
     "output_type": "stream",
     "text": [
      "Best estimator: LinearSVR(C=10, epsilon=0, loss='squared_epsilon_insensitive', max_iter=3000)\n",
      "Best parameters: {'C': 10, 'epsilon': 0, 'loss': 'squared_epsilon_insensitive'}\n",
      "\n",
      "neg_root_mean_squared_error mean on test sets: -0.006711537687791345\n",
      "neg_root_mean_squared_error mean on train sets: -0.006455653351293833\n",
      "\n",
      "r2 mean on test sets: 0.3665478306649533\n",
      "r2 mean on train sets: 0.4150096244084231\n"
     ]
    }
   ],
   "source": [
    "get_grid_search_results(srch_lin_svr)"
   ]
  },
  {
   "cell_type": "code",
   "execution_count": 89,
   "metadata": {
    "scrolled": true
   },
   "outputs": [
    {
     "name": "stdout",
     "output_type": "stream",
     "text": [
      "Cross validation scores\n",
      "Cross-validation RMSE\n",
      "Scores: [0.0077746603 0.0065139959 0.0060326444]\n",
      "Mean: 0.006773766849642235\n",
      "Standard deviation: 0.0007345136916650316\n",
      "\n",
      "Cross-validation adjR2\n",
      "Scores: [0.2834195807 0.3304937083 0.4051890959]\n",
      "Mean: 0.33970079495543654\n",
      "Standard deviation: 0.05013669011518062\n",
      "\n",
      "\n",
      "Scores on training set\n",
      "RMSE score: 0.006495950032671909\n",
      "Adjusted R2 score: 0.40380577201258094\n"
     ]
    }
   ],
   "source": [
    "lin_svr = srch_lin_svr.best_estimator_\n",
    "test_regressor(lin_reg_sq, dataset_prepared_stand, dataset_labels)"
   ]
  },
  {
   "cell_type": "markdown",
   "metadata": {},
   "source": [
    "### Second iteration"
   ]
  },
  {
   "cell_type": "code",
   "execution_count": 90,
   "metadata": {},
   "outputs": [
    {
     "name": "stdout",
     "output_type": "stream",
     "text": [
      "Fitting 3 folds for each of 50 candidates, totalling 150 fits\n"
     ]
    },
    {
     "name": "stderr",
     "output_type": "stream",
     "text": [
      "[Parallel(n_jobs=1)]: Using backend SequentialBackend with 1 concurrent workers.\n",
      "[Parallel(n_jobs=1)]: Done 150 out of 150 | elapsed:   15.9s finished\n"
     ]
    },
    {
     "data": {
      "text/plain": [
       "RandomizedSearchCV(cv=PredefinedSplit(test_fold=array([0, 0, ..., 2, 0])),\n",
       "                   estimator=LinearSVR(C=10, epsilon=0,\n",
       "                                       loss='squared_epsilon_insensitive',\n",
       "                                       max_iter=3000),\n",
       "                   n_iter=50,\n",
       "                   param_distributions={'C': <scipy.stats._distn_infrastructure.rv_frozen object at 0x0000020661D9AEC8>,\n",
       "                                        'epsilon': <scipy.stats._distn_infrastructure.rv_frozen object at 0x0000020661D9A1C8>,\n",
       "                                        'loss': ['squared_epsilon_insensitive']},\n",
       "                   refit='neg_root_mean_squared_error', return_train_score=True,\n",
       "                   scoring=['neg_root_mean_squared_error', 'r2'], verbose=1)"
      ]
     },
     "execution_count": 90,
     "metadata": {},
     "output_type": "execute_result"
    }
   ],
   "source": [
    "param_grid = {\n",
    "    \"epsilon\": expon(scale=0),\n",
    "    \"C\": expon(scale=0.1),\n",
    "    \"loss\": [\"squared_epsilon_insensitive\"]\n",
    "    }\n",
    "\n",
    "srch_lin_svr_2 = RandomizedSearchCV(lin_svr, param_grid, cv=cv_split, n_iter=50,\n",
    "                                  scoring=['neg_root_mean_squared_error', 'r2'], refit='neg_root_mean_squared_error',\n",
    "                                  return_train_score=True, verbose=1)\n",
    "\n",
    "srch_lin_svr_2.fit(dataset_prepared_stand, dataset_labels)"
   ]
  },
  {
   "cell_type": "code",
   "execution_count": 91,
   "metadata": {},
   "outputs": [
    {
     "name": "stdout",
     "output_type": "stream",
     "text": [
      "Cross validation scores\n",
      "Cross-validation RMSE\n",
      "Scores: [0.0077441364 0.0065131174 0.0060343229]\n",
      "Mean: 0.006763858888924729\n",
      "Standard deviation: 0.0007201939610452584\n",
      "\n",
      "Cross-validation adjR2\n",
      "Scores: [0.2890352306 0.3306742786 0.4048580536]\n",
      "Mean: 0.34152252095635244\n",
      "Standard deviation: 0.04790264331401306\n",
      "\n",
      "\n",
      "Scores on training set\n",
      "RMSE score: 0.006496750907278138\n",
      "Adjusted R2 score: 0.40365875541029017\n"
     ]
    }
   ],
   "source": [
    "lin_svr = srch_lin_svr.best_estimator_\n",
    "test_regressor(lin_reg_sq, dataset_prepared_stand, dataset_labels, 'Linear SVM')"
   ]
  },
  {
   "cell_type": "markdown",
   "metadata": {},
   "source": [
    "## Linear SVM with squared cumulative adoption"
   ]
  },
  {
   "cell_type": "code",
   "execution_count": 92,
   "metadata": {},
   "outputs": [
    {
     "name": "stdout",
     "output_type": "stream",
     "text": [
      "Fitting 3 folds for each of 50 candidates, totalling 150 fits\n"
     ]
    },
    {
     "name": "stderr",
     "output_type": "stream",
     "text": [
      "[Parallel(n_jobs=1)]: Using backend SequentialBackend with 1 concurrent workers.\n",
      "[Parallel(n_jobs=1)]: Done 150 out of 150 | elapsed:   15.1s finished\n"
     ]
    },
    {
     "data": {
      "text/plain": [
       "RandomizedSearchCV(cv=PredefinedSplit(test_fold=array([0, 0, ..., 2, 0])),\n",
       "                   estimator=LinearSVR(C=10, epsilon=0,\n",
       "                                       loss='squared_epsilon_insensitive',\n",
       "                                       max_iter=3000),\n",
       "                   n_iter=50,\n",
       "                   param_distributions={'C': <scipy.stats._distn_infrastructure.rv_frozen object at 0x0000020661DAE148>,\n",
       "                                        'epsilon': <scipy.stats._distn_infrastructure.rv_frozen object at 0x0000020661DAE108>,\n",
       "                                        'loss': ['squared_epsilon_insensitive']},\n",
       "                   refit='neg_root_mean_squared_error', return_train_score=True,\n",
       "                   scoring=['neg_root_mean_squared_error', 'r2'], verbose=1)"
      ]
     },
     "execution_count": 92,
     "metadata": {},
     "output_type": "execute_result"
    }
   ],
   "source": [
    "param_grid = {\n",
    "    \"epsilon\": expon(scale=0),\n",
    "    \"C\": expon(scale=0.1),\n",
    "    \"loss\": [\"squared_epsilon_insensitive\"]\n",
    "    }\n",
    "\n",
    "srch_lin_svr_sq_2 = RandomizedSearchCV(lin_svr, param_grid, cv=cv_split, n_iter=50,\n",
    "                                  scoring=['neg_root_mean_squared_error', 'r2'], refit='neg_root_mean_squared_error',\n",
    "                                  return_train_score=True, verbose=1)\n",
    "\n",
    "srch_lin_svr_sq_2.fit(dataset_stand_sq_cum_ad, dataset_labels)"
   ]
  },
  {
   "cell_type": "code",
   "execution_count": 93,
   "metadata": {},
   "outputs": [
    {
     "name": "stdout",
     "output_type": "stream",
     "text": [
      "Best estimator: LinearSVR(C=0.11127271114246795, loss='squared_epsilon_insensitive',\n",
      "          max_iter=3000)\n",
      "Best parameters: {'C': 0.11127271114246795, 'epsilon': 0.0, 'loss': 'squared_epsilon_insensitive'}\n",
      "\n",
      "neg_root_mean_squared_error mean on test sets: -0.006604575382973862\n",
      "neg_root_mean_squared_error mean on train sets: -0.006286721818252298\n",
      "\n",
      "r2 mean on test sets: 0.3860569922803303\n",
      "r2 mean on train sets: 0.44502617959968954\n"
     ]
    }
   ],
   "source": [
    "get_grid_search_results(srch_lin_svr_sq_2)"
   ]
  },
  {
   "cell_type": "code",
   "execution_count": 94,
   "metadata": {},
   "outputs": [
    {
     "name": "stdout",
     "output_type": "stream",
     "text": [
      "Cross validation scores\n",
      "Cross-validation RMSE\n",
      "Scores: [0.0075230883 0.0064372119 0.0058535694]\n",
      "Mean: 0.006604623203998315\n",
      "Standard deviation: 0.0006917819019986014\n",
      "\n",
      "Cross-validation adjR2\n",
      "Scores: [0.3282191443 0.345381141  0.4392901088]\n",
      "Mean: 0.3709634647058468\n",
      "Standard deviation: 0.048819608464513976\n",
      "\n",
      "\n",
      "Scores on training set\n",
      "RMSE score: 0.006342988209454028\n",
      "Adjusted R2 score: 0.4313240195068334\n"
     ]
    }
   ],
   "source": [
    "lin_svr_sq = srch_lin_svr_sq_2.best_estimator_\n",
    "name = \"Linear SVM + cum_ad_sq\"\n",
    "test_regressor(lin_svr_sq, dataset_stand_sq_cum_ad, dataset_labels, name)"
   ]
  },
  {
   "cell_type": "markdown",
   "metadata": {},
   "source": [
    "## Non-linear SVM"
   ]
  },
  {
   "cell_type": "code",
   "execution_count": 95,
   "metadata": {},
   "outputs": [],
   "source": [
    "from sklearn.svm import SVR"
   ]
  },
  {
   "cell_type": "raw",
   "metadata": {
    "scrolled": true
   },
   "source": [
    "nl_svr = SVR()\n",
    "test_model(nl_svr, None, dataset_prepared_stand)"
   ]
  },
  {
   "cell_type": "markdown",
   "metadata": {},
   "source": [
    "### GridSearchCV"
   ]
  },
  {
   "cell_type": "code",
   "execution_count": 96,
   "metadata": {},
   "outputs": [],
   "source": [
    "from sklearn.model_selection import KFold"
   ]
  },
  {
   "cell_type": "code",
   "execution_count": 97,
   "metadata": {},
   "outputs": [
    {
     "name": "stdout",
     "output_type": "stream",
     "text": [
      "Fitting 3 folds for each of 96 candidates, totalling 288 fits\n"
     ]
    },
    {
     "name": "stderr",
     "output_type": "stream",
     "text": [
      "[Parallel(n_jobs=1)]: Using backend SequentialBackend with 1 concurrent workers.\n",
      "[Parallel(n_jobs=1)]: Done 288 out of 288 | elapsed:  2.6min finished\n"
     ]
    },
    {
     "data": {
      "text/plain": [
       "GridSearchCV(cv=PredefinedSplit(test_fold=array([0, 0, ..., 2, 0])),\n",
       "             estimator=SVR(),\n",
       "             param_grid={'C': [0.001, 0.01, 0.1, 1], 'degree': [2, 3],\n",
       "                         'epsilon': [0.0001, 0.001, 0.1],\n",
       "                         'gamma': [0.001, 0.01, 0.1, 1]},\n",
       "             refit='neg_root_mean_squared_error', return_train_score=True,\n",
       "             scoring=['neg_root_mean_squared_error', 'r2'], verbose=1)"
      ]
     },
     "execution_count": 97,
     "metadata": {},
     "output_type": "execute_result"
    }
   ],
   "source": [
    "nl_svr = SVR()\n",
    "\n",
    "param_grid = {\n",
    "    \"degree\": [2, 3],\n",
    "    \"epsilon\": [0.0001, 0.001, 0.1],\n",
    "    \"C\": [0.001, 0.01, 0.1, 1],\n",
    "    \"gamma\": [0.001, 0.01, 0.1, 1],\n",
    "    }\n",
    " \n",
    "srch_nl_svr = GridSearchCV(nl_svr, param_grid, cv=cv_split,\n",
    "                                  scoring=['neg_root_mean_squared_error', 'r2'], refit='neg_root_mean_squared_error',\n",
    "                                  return_train_score=True, verbose=1)\n",
    "\n",
    "srch_nl_svr.fit(dataset_prepared_stand, dataset_labels)"
   ]
  },
  {
   "cell_type": "code",
   "execution_count": 98,
   "metadata": {},
   "outputs": [
    {
     "name": "stdout",
     "output_type": "stream",
     "text": [
      "Best estimator: SVR(C=0.1, degree=2, epsilon=0.001, gamma=0.01)\n",
      "Best parameters: {'C': 0.1, 'degree': 2, 'epsilon': 0.001, 'gamma': 0.01}\n",
      "\n",
      "neg_root_mean_squared_error mean on test sets: -0.005621703928129482\n",
      "neg_root_mean_squared_error mean on train sets: -0.005173205395153479\n",
      "\n",
      "r2 mean on test sets: 0.5547216422725779\n",
      "r2 mean on train sets: 0.6245878628027386\n"
     ]
    }
   ],
   "source": [
    "get_grid_search_results(srch_nl_svr)"
   ]
  },
  {
   "cell_type": "code",
   "execution_count": 99,
   "metadata": {},
   "outputs": [
    {
     "name": "stdout",
     "output_type": "stream",
     "text": [
      "Cross validation scores\n",
      "Cross-validation RMSE\n",
      "Scores: [0.0063116621 0.0055032615 0.0050501882]\n",
      "Mean: 0.005621703928129482\n",
      "Standard deviation: 0.000521760195474873\n",
      "\n",
      "Cross-validation adjR2\n",
      "Scores: [0.5277308506 0.5221407511 0.5831511578]\n",
      "Mean: 0.5443409198224908\n",
      "Standard deviation: 0.027537710264201827\n",
      "\n",
      "\n",
      "Scores on training set\n",
      "RMSE score: 0.005223401259435362\n",
      "Adjusted R2 score: 0.6145134810168438\n"
     ]
    }
   ],
   "source": [
    "best_nl_svr = srch_nl_svr.best_estimator_\n",
    "test_regressor(best_nl_svr, dataset_prepared_stand, dataset_labels)"
   ]
  },
  {
   "cell_type": "markdown",
   "metadata": {},
   "source": [
    "### Second iteration"
   ]
  },
  {
   "cell_type": "code",
   "execution_count": 100,
   "metadata": {},
   "outputs": [
    {
     "name": "stdout",
     "output_type": "stream",
     "text": [
      "Fitting 3 folds for each of 300 candidates, totalling 900 fits\n"
     ]
    },
    {
     "name": "stderr",
     "output_type": "stream",
     "text": [
      "[Parallel(n_jobs=1)]: Using backend SequentialBackend with 1 concurrent workers.\n",
      "[Parallel(n_jobs=1)]: Done 900 out of 900 | elapsed:  8.3min finished\n"
     ]
    },
    {
     "data": {
      "text/plain": [
       "RandomizedSearchCV(cv=PredefinedSplit(test_fold=array([0, 0, ..., 2, 0])),\n",
       "                   estimator=SVR(), n_iter=300,\n",
       "                   param_distributions={'C': <scipy.stats._distn_infrastructure.rv_frozen object at 0x00000206614C6C48>,\n",
       "                                        'degree': [2],\n",
       "                                        'epsilon': <scipy.stats._distn_infrastructure.rv_frozen object at 0x0000020661DBDAC8>,\n",
       "                                        'gamma': <scipy.stats._distn_infrastructure.rv_frozen object at 0x0000020661DBAB88>},\n",
       "                   refit='neg_root_mean_squared_error', return_train_score=True,\n",
       "                   scoring=['neg_root_mean_squared_error', 'r2'], verbose=1)"
      ]
     },
     "execution_count": 100,
     "metadata": {},
     "output_type": "execute_result"
    }
   ],
   "source": [
    "nl_svr = SVR()\n",
    "\n",
    "param_grid = {\n",
    "    \"degree\": [2],\n",
    "    \"epsilon\": expon(scale = 0.001),\n",
    "    \"C\": expon(scale = 0.1),\n",
    "    \"gamma\": expon(scale=0.01)\n",
    "    }\n",
    "\n",
    "srch_nl_svr_2 = RandomizedSearchCV(nl_svr, param_grid, cv=cv_split, n_iter=300,\n",
    "                                  scoring=['neg_root_mean_squared_error', 'r2'], refit='neg_root_mean_squared_error',\n",
    "                                  return_train_score=True, verbose=1)\n",
    "\n",
    "srch_nl_svr_2.fit(dataset_prepared_stand, dataset_labels)"
   ]
  },
  {
   "cell_type": "code",
   "execution_count": 101,
   "metadata": {},
   "outputs": [
    {
     "name": "stdout",
     "output_type": "stream",
     "text": [
      "Best estimator: SVR(C=0.11142695802802666, degree=2, epsilon=0.0014763338749998205,\n",
      "    gamma=0.014235714835524813)\n",
      "Best parameters: {'C': 0.11142695802802666, 'degree': 2, 'epsilon': 0.0014763338749998205, 'gamma': 0.014235714835524813}\n",
      "\n",
      "neg_root_mean_squared_error mean on test sets: -0.005524333707121181\n",
      "neg_root_mean_squared_error mean on train sets: -0.004938474043019853\n",
      "\n",
      "r2 mean on test sets: 0.570565900941156\n",
      "r2 mean on train sets: 0.6579584254920673\n"
     ]
    }
   ],
   "source": [
    "get_grid_search_results(srch_nl_svr_2)"
   ]
  },
  {
   "cell_type": "code",
   "execution_count": 102,
   "metadata": {},
   "outputs": [
    {
     "name": "stdout",
     "output_type": "stream",
     "text": [
      "Cross validation scores\n",
      "Cross-validation RMSE\n",
      "Scores: [0.0062856946 0.0053370416 0.0049502649]\n",
      "Mean: 0.005524333707121181\n",
      "Standard deviation: 0.0005610418415982859\n",
      "\n",
      "Cross-validation adjR2\n",
      "Scores: [0.5316088781 0.5505712208 0.5994835626]\n",
      "Mean: 0.5605545538465326\n",
      "Standard deviation: 0.028594794447379432\n",
      "\n",
      "\n",
      "Scores on training set\n",
      "RMSE score: 0.005037769605184459\n",
      "Adjusted R2 score: 0.6414258153945802\n"
     ]
    }
   ],
   "source": [
    "best_nl_svr = srch_nl_svr_2.best_estimator_\n",
    "test_regressor(best_nl_svr, dataset_prepared_stand, dataset_labels)"
   ]
  },
  {
   "cell_type": "markdown",
   "metadata": {},
   "source": [
    "### Third iteration"
   ]
  },
  {
   "cell_type": "code",
   "execution_count": 103,
   "metadata": {},
   "outputs": [
    {
     "name": "stdout",
     "output_type": "stream",
     "text": [
      "Best estimator: SVR(C=0.1, degree=2, epsilon=0.001, gamma=0.01)\n",
      "Best parameters: {'C': 0.1, 'degree': 2, 'epsilon': 0.001, 'gamma': 0.01}\n",
      "\n",
      "neg_root_mean_squared_error mean on test sets: -0.005621703928129482\n",
      "neg_root_mean_squared_error mean on train sets: -0.005173205395153479\n",
      "\n",
      "r2 mean on test sets: 0.5547216422725779\n",
      "r2 mean on train sets: 0.6245878628027386\n",
      "\n",
      "Best estimator: SVR(C=0.11142695802802666, degree=2, epsilon=0.0014763338749998205,\n",
      "    gamma=0.014235714835524813)\n",
      "Best parameters: {'C': 0.11142695802802666, 'degree': 2, 'epsilon': 0.0014763338749998205, 'gamma': 0.014235714835524813}\n",
      "\n",
      "neg_root_mean_squared_error mean on test sets: -0.005524333707121181\n",
      "neg_root_mean_squared_error mean on train sets: -0.004938474043019853\n",
      "\n",
      "r2 mean on test sets: 0.570565900941156\n",
      "r2 mean on train sets: 0.6579584254920673\n"
     ]
    }
   ],
   "source": [
    "get_grid_search_results(srch_nl_svr)\n",
    "print(\"\")\n",
    "get_grid_search_results(srch_nl_svr_2)"
   ]
  },
  {
   "cell_type": "code",
   "execution_count": 104,
   "metadata": {},
   "outputs": [
    {
     "name": "stdout",
     "output_type": "stream",
     "text": [
      "Fitting 3 folds for each of 500 candidates, totalling 1500 fits\n"
     ]
    },
    {
     "name": "stderr",
     "output_type": "stream",
     "text": [
      "[Parallel(n_jobs=1)]: Using backend SequentialBackend with 1 concurrent workers.\n",
      "[Parallel(n_jobs=1)]: Done 1500 out of 1500 | elapsed:  9.6min finished\n"
     ]
    },
    {
     "data": {
      "text/plain": [
       "RandomizedSearchCV(cv=PredefinedSplit(test_fold=array([0, 0, ..., 2, 0])),\n",
       "                   estimator=SVR(), n_iter=500,\n",
       "                   param_distributions={'C': <scipy.stats._distn_infrastructure.rv_frozen object at 0x0000020661E8A5C8>,\n",
       "                                        'degree': [2],\n",
       "                                        'epsilon': <scipy.stats._distn_infrastructure.rv_frozen object at 0x0000020661E8AE08>,\n",
       "                                        'gamma': <scipy.stats._distn_infrastructure.rv_frozen object at 0x0000020661E86A88>},\n",
       "                   refit='neg_root_mean_squared_error', return_train_score=True,\n",
       "                   scoring=['neg_root_mean_squared_error', 'r2'], verbose=1)"
      ]
     },
     "execution_count": 104,
     "metadata": {},
     "output_type": "execute_result"
    }
   ],
   "source": [
    "from sklearn.svm import SVR\n",
    "nl_svr = SVR()\n",
    "\n",
    "param_grid = {\n",
    "    \"degree\": [2],\n",
    "    \"epsilon\": expon(scale = 0.0017),\n",
    "    \"C\": expon(scale = 0.26),\n",
    "    \"gamma\": expon(scale=0.004)\n",
    "    }\n",
    " \n",
    "srch_nl_svr_3 = RandomizedSearchCV(nl_svr, param_grid, cv=cv_split, n_iter=500,\n",
    "                                  scoring=['neg_root_mean_squared_error', 'r2'], refit='neg_root_mean_squared_error',\n",
    "                                  return_train_score=True, verbose=1)\n",
    "srch_nl_svr_3.fit(dataset_prepared_stand, dataset_labels)"
   ]
  },
  {
   "cell_type": "code",
   "execution_count": 105,
   "metadata": {},
   "outputs": [
    {
     "name": "stdout",
     "output_type": "stream",
     "text": [
      "Best estimator: SVR(C=0.16136674638167847, degree=2, epsilon=0.0010499808895205454,\n",
      "    gamma=0.016171402935837107)\n",
      "Best parameters: {'C': 0.16136674638167847, 'degree': 2, 'epsilon': 0.0010499808895205454, 'gamma': 0.016171402935837107}\n",
      "\n",
      "neg_root_mean_squared_error mean on test sets: -0.0055454650559451256\n",
      "neg_root_mean_squared_error mean on train sets: -0.0047590929711060865\n",
      "\n",
      "r2 mean on test sets: 0.5676869232715448\n",
      "r2 mean on train sets: 0.6823220145104388\n"
     ]
    }
   ],
   "source": [
    "get_grid_search_results(srch_nl_svr_3)"
   ]
  },
  {
   "cell_type": "code",
   "execution_count": 106,
   "metadata": {},
   "outputs": [
    {
     "name": "stdout",
     "output_type": "stream",
     "text": [
      "Cross validation scores\n",
      "Cross-validation RMSE\n",
      "Scores: [0.0064053189 0.0053230031 0.0049080732]\n",
      "Mean: 0.0055454650559451256\n",
      "Standard deviation: 0.0006311645889787383\n",
      "\n",
      "Cross-validation adjR2\n",
      "Scores: [0.5136111579 0.5529324659 0.6062817529]\n",
      "Mean: 0.5576084589060961\n",
      "Standard deviation: 0.037976821679411875\n",
      "\n",
      "\n",
      "Scores on training set\n",
      "RMSE score: 0.004951376158480251\n",
      "Adjusted R2 score: 0.6536188432816477\n"
     ]
    }
   ],
   "source": [
    "best_nl_svr = srch_nl_svr_3.best_estimator_\n",
    "name = \"Non-linear SVM\"\n",
    "test_regressor(best_nl_svr, dataset_prepared_stand, dataset_labels, name)"
   ]
  },
  {
   "cell_type": "raw",
   "metadata": {},
   "source": [
    "plot_validation_curves(best_nl_svr, \"C\", np.arange(0.01, 0.15, 0.01), 'neg_root_mean_squared_error',\n",
    "                       dataset_prepared_stand, dataset_labels)"
   ]
  },
  {
   "cell_type": "markdown",
   "metadata": {},
   "source": [
    "# Models summary"
   ]
  },
  {
   "cell_type": "code",
   "execution_count": 107,
   "metadata": {
    "scrolled": true
   },
   "outputs": [
    {
     "data": {
      "text/plain": [
       "count   2507.000000\n",
       "mean       0.004588\n",
       "std        0.008447\n",
       "min        0.000009\n",
       "25%        0.000873\n",
       "50%        0.002035\n",
       "75%        0.004764\n",
       "max        0.100604\n",
       "Name: adoption_in_year, dtype: float64"
      ]
     },
     "execution_count": 107,
     "metadata": {},
     "output_type": "execute_result"
    }
   ],
   "source": [
    "dataset_labels.describe()"
   ]
  },
  {
   "cell_type": "code",
   "execution_count": 108,
   "metadata": {},
   "outputs": [
    {
     "data": {
      "text/html": [
       "<div>\n",
       "<style scoped>\n",
       "    .dataframe tbody tr th:only-of-type {\n",
       "        vertical-align: middle;\n",
       "    }\n",
       "\n",
       "    .dataframe tbody tr th {\n",
       "        vertical-align: top;\n",
       "    }\n",
       "\n",
       "    .dataframe thead th {\n",
       "        text-align: right;\n",
       "    }\n",
       "</style>\n",
       "<table border=\"1\" class=\"dataframe\">\n",
       "  <thead>\n",
       "    <tr style=\"text-align: right;\">\n",
       "      <th></th>\n",
       "      <th>cv RMSE_mean</th>\n",
       "      <th>cv RMSE std</th>\n",
       "      <th>cv adjR2 mean</th>\n",
       "      <th>cv adjR2 std</th>\n",
       "      <th>train set RMSE</th>\n",
       "      <th>train set adjR2</th>\n",
       "    </tr>\n",
       "  </thead>\n",
       "  <tbody>\n",
       "    <tr>\n",
       "      <th>Linear Regression</th>\n",
       "      <td>0.006719</td>\n",
       "      <td>0.000624</td>\n",
       "      <td>0.349365</td>\n",
       "      <td>0.032819</td>\n",
       "      <td>0.006568</td>\n",
       "      <td>0.390570</td>\n",
       "    </tr>\n",
       "    <tr>\n",
       "      <th>Linear regression + cum_ad_sq</th>\n",
       "      <td>0.006615</td>\n",
       "      <td>0.000718</td>\n",
       "      <td>0.369184</td>\n",
       "      <td>0.051507</td>\n",
       "      <td>0.006350</td>\n",
       "      <td>0.430049</td>\n",
       "    </tr>\n",
       "    <tr>\n",
       "      <th>Polynomial Regression</th>\n",
       "      <td>59694568.766176</td>\n",
       "      <td>84420868.737840</td>\n",
       "      <td>-165261077640856895488.000000</td>\n",
       "      <td>233714457332092829696.000000</td>\n",
       "      <td>93829084.816831</td>\n",
       "      <td>-134676607092284063744.000000</td>\n",
       "    </tr>\n",
       "    <tr>\n",
       "      <th>Linear SVM</th>\n",
       "      <td>0.006764</td>\n",
       "      <td>0.000720</td>\n",
       "      <td>0.341523</td>\n",
       "      <td>0.047903</td>\n",
       "      <td>0.006497</td>\n",
       "      <td>0.403659</td>\n",
       "    </tr>\n",
       "    <tr>\n",
       "      <th>Linear SVM + cum_ad_sq</th>\n",
       "      <td>0.006605</td>\n",
       "      <td>0.000692</td>\n",
       "      <td>0.370963</td>\n",
       "      <td>0.048820</td>\n",
       "      <td>0.006343</td>\n",
       "      <td>0.431324</td>\n",
       "    </tr>\n",
       "    <tr>\n",
       "      <th>Non-linear SVM</th>\n",
       "      <td>0.005545</td>\n",
       "      <td>0.000631</td>\n",
       "      <td>0.557608</td>\n",
       "      <td>0.037977</td>\n",
       "      <td>0.004951</td>\n",
       "      <td>0.653619</td>\n",
       "    </tr>\n",
       "  </tbody>\n",
       "</table>\n",
       "</div>"
      ],
      "text/plain": [
       "                                 cv RMSE_mean     cv RMSE std  \\\n",
       "Linear Regression                    0.006719        0.000624   \n",
       "Linear regression + cum_ad_sq        0.006615        0.000718   \n",
       "Polynomial Regression         59694568.766176 84420868.737840   \n",
       "Linear SVM                           0.006764        0.000720   \n",
       "Linear SVM + cum_ad_sq               0.006605        0.000692   \n",
       "Non-linear SVM                       0.005545        0.000631   \n",
       "\n",
       "                                              cv adjR2 mean  \\\n",
       "Linear Regression                                  0.349365   \n",
       "Linear regression + cum_ad_sq                      0.369184   \n",
       "Polynomial Regression         -165261077640856895488.000000   \n",
       "Linear SVM                                         0.341523   \n",
       "Linear SVM + cum_ad_sq                             0.370963   \n",
       "Non-linear SVM                                     0.557608   \n",
       "\n",
       "                                              cv adjR2 std  train set RMSE  \\\n",
       "Linear Regression                                 0.032819        0.006568   \n",
       "Linear regression + cum_ad_sq                     0.051507        0.006350   \n",
       "Polynomial Regression         233714457332092829696.000000 93829084.816831   \n",
       "Linear SVM                                        0.047903        0.006497   \n",
       "Linear SVM + cum_ad_sq                            0.048820        0.006343   \n",
       "Non-linear SVM                                    0.037977        0.004951   \n",
       "\n",
       "                                            train set adjR2  \n",
       "Linear Regression                                  0.390570  \n",
       "Linear regression + cum_ad_sq                      0.430049  \n",
       "Polynomial Regression         -134676607092284063744.000000  \n",
       "Linear SVM                                         0.403659  \n",
       "Linear SVM + cum_ad_sq                             0.431324  \n",
       "Non-linear SVM                                     0.653619  "
      ]
     },
     "execution_count": 108,
     "metadata": {},
     "output_type": "execute_result"
    }
   ],
   "source": [
    "models_results"
   ]
  },
  {
   "cell_type": "code",
   "execution_count": 109,
   "metadata": {
    "scrolled": true
   },
   "outputs": [
    {
     "data": {
      "text/html": [
       "<div>\n",
       "<style scoped>\n",
       "    .dataframe tbody tr th:only-of-type {\n",
       "        vertical-align: middle;\n",
       "    }\n",
       "\n",
       "    .dataframe tbody tr th {\n",
       "        vertical-align: top;\n",
       "    }\n",
       "\n",
       "    .dataframe thead th {\n",
       "        text-align: right;\n",
       "    }\n",
       "</style>\n",
       "<table border=\"1\" class=\"dataframe\">\n",
       "  <thead>\n",
       "    <tr style=\"text-align: right;\">\n",
       "      <th></th>\n",
       "      <th>cv RMSE_mean</th>\n",
       "      <th>cv adjR2 mean</th>\n",
       "      <th>train set RMSE</th>\n",
       "      <th>train set adjR2</th>\n",
       "    </tr>\n",
       "  </thead>\n",
       "  <tbody>\n",
       "    <tr>\n",
       "      <th>Linear Regression</th>\n",
       "      <td>0.006719</td>\n",
       "      <td>0.349365</td>\n",
       "      <td>0.006568</td>\n",
       "      <td>0.390570</td>\n",
       "    </tr>\n",
       "    <tr>\n",
       "      <th>Linear regression + cum_ad_sq</th>\n",
       "      <td>0.006615</td>\n",
       "      <td>0.369184</td>\n",
       "      <td>0.006350</td>\n",
       "      <td>0.430049</td>\n",
       "    </tr>\n",
       "    <tr>\n",
       "      <th>Polynomial Regression</th>\n",
       "      <td>59694568.766176</td>\n",
       "      <td>-165261077640856895488.000000</td>\n",
       "      <td>93829084.816831</td>\n",
       "      <td>-134676607092284063744.000000</td>\n",
       "    </tr>\n",
       "    <tr>\n",
       "      <th>Linear SVM</th>\n",
       "      <td>0.006764</td>\n",
       "      <td>0.341523</td>\n",
       "      <td>0.006497</td>\n",
       "      <td>0.403659</td>\n",
       "    </tr>\n",
       "    <tr>\n",
       "      <th>Linear SVM + cum_ad_sq</th>\n",
       "      <td>0.006605</td>\n",
       "      <td>0.370963</td>\n",
       "      <td>0.006343</td>\n",
       "      <td>0.431324</td>\n",
       "    </tr>\n",
       "    <tr>\n",
       "      <th>Non-linear SVM</th>\n",
       "      <td>0.005545</td>\n",
       "      <td>0.557608</td>\n",
       "      <td>0.004951</td>\n",
       "      <td>0.653619</td>\n",
       "    </tr>\n",
       "  </tbody>\n",
       "</table>\n",
       "</div>"
      ],
      "text/plain": [
       "                                 cv RMSE_mean                 cv adjR2 mean  \\\n",
       "Linear Regression                    0.006719                      0.349365   \n",
       "Linear regression + cum_ad_sq        0.006615                      0.369184   \n",
       "Polynomial Regression         59694568.766176 -165261077640856895488.000000   \n",
       "Linear SVM                           0.006764                      0.341523   \n",
       "Linear SVM + cum_ad_sq               0.006605                      0.370963   \n",
       "Non-linear SVM                       0.005545                      0.557608   \n",
       "\n",
       "                               train set RMSE               train set adjR2  \n",
       "Linear Regression                    0.006568                      0.390570  \n",
       "Linear regression + cum_ad_sq        0.006350                      0.430049  \n",
       "Polynomial Regression         93829084.816831 -134676607092284063744.000000  \n",
       "Linear SVM                           0.006497                      0.403659  \n",
       "Linear SVM + cum_ad_sq               0.006343                      0.431324  \n",
       "Non-linear SVM                       0.004951                      0.653619  "
      ]
     },
     "execution_count": 109,
     "metadata": {},
     "output_type": "execute_result"
    }
   ],
   "source": [
    "models_results[['cv RMSE_mean', 'cv adjR2 mean', 'train set RMSE', 'train set adjR2']]"
   ]
  },
  {
   "cell_type": "markdown",
   "metadata": {},
   "source": [
    "# Final models tuning and training\n",
    "Using the Optuna library for Bayesian Optimization"
   ]
  },
  {
   "cell_type": "markdown",
   "metadata": {},
   "source": [
    "### Set repeated stratified K-fold split"
   ]
  },
  {
   "cell_type": "code",
   "execution_count": 64,
   "metadata": {},
   "outputs": [],
   "source": [
    "from sklearn.model_selection import RepeatedStratifiedKFold"
   ]
  },
  {
   "cell_type": "code",
   "execution_count": 65,
   "metadata": {},
   "outputs": [],
   "source": [
    "n_folds_str = 3\n",
    "n_repetitions_str = 10"
   ]
  },
  {
   "cell_type": "code",
   "execution_count": 66,
   "metadata": {},
   "outputs": [],
   "source": [
    "rep_strat_split = RepeatedStratifiedKFold(n_splits=n_folds_str, n_repeats=n_repetitions_str, random_state=42)"
   ]
  },
  {
   "cell_type": "markdown",
   "metadata": {},
   "source": [
    "### Model"
   ]
  },
  {
   "cell_type": "code",
   "execution_count": 128,
   "metadata": {},
   "outputs": [],
   "source": [
    "from sklearn.model_selection import cross_val_score \n",
    "import optuna \n",
    "from optuna.samplers import TPESampler"
   ]
  },
  {
   "cell_type": "code",
   "execution_count": 129,
   "metadata": {},
   "outputs": [],
   "source": [
    "from sklearn.svm import SVR"
   ]
  },
  {
   "cell_type": "code",
   "execution_count": 137,
   "metadata": {},
   "outputs": [],
   "source": [
    "X = dataset_prepared_stand\n",
    "\n",
    "def objective(trial):\n",
    "    # Define the search space\n",
    "    kernel = trial.suggest_categorical('kernel', ['rbf', 'poly'])\n",
    "    C = trial.suggest_loguniform('C', 0.01, 10)\n",
    "    gamma = trial.suggest_loguniform('gamma', 0.001, 1)\n",
    "    epsilon = trial.suggest_loguniform('epsilon', 0.001, 1)\n",
    "\n",
    "    reg = SVR(degree=2,\n",
    "              kernel=kernel,\n",
    "              C=C,\n",
    "              gamma=gamma,\n",
    "              epsilon=epsilon)\n",
    "    score = cross_val_score(reg, X, dataset_labels, scoring='neg_root_mean_squared_error', n_jobs=-1,\n",
    "                            cv=rep_strat_split.split(dataset_split, dataset_split['Year']),\n",
    "                            fit_params={\"sample_weight\" : weights}).mean()\n",
    "\n",
    "    return score"
   ]
  },
  {
   "cell_type": "code",
   "execution_count": 138,
   "metadata": {
    "scrolled": true
   },
   "outputs": [
    {
     "name": "stderr",
     "output_type": "stream",
     "text": [
      "\u001b[32m[I 2022-08-05 12:18:10,423]\u001b[0m A new study created in memory with name: nl_svr_optimization_all\u001b[0m\n"
     ]
    }
   ],
   "source": [
    "study_nl_svm_all = optuna.create_study(study_name=\"nl_svr_optimization_all\",\n",
    "                                        direction=\"maximize\",\n",
    "                                        sampler=TPESampler())"
   ]
  },
  {
   "cell_type": "code",
   "execution_count": 139,
   "metadata": {
    "scrolled": true
   },
   "outputs": [
    {
     "name": "stderr",
     "output_type": "stream",
     "text": [
      "\u001b[32m[I 2022-08-05 12:18:11,774]\u001b[0m Trial 1 finished with value: -0.03125041676748464 and parameters: {'kernel': 'poly', 'C': 0.32444066287956014, 'gamma': 0.29727888516837897, 'epsilon': 0.03710581170040523}. Best is trial 1 with value: -0.03125041676748464.\u001b[0m\n",
      "\u001b[32m[I 2022-08-05 12:18:11,791]\u001b[0m Trial 2 finished with value: -0.04558449770905385 and parameters: {'kernel': 'poly', 'C': 0.23486971544118274, 'gamma': 0.673001224590339, 'epsilon': 0.12431480760796029}. Best is trial 1 with value: -0.03125041676748464.\u001b[0m\n",
      "\u001b[32m[I 2022-08-05 12:18:12,881]\u001b[0m Trial 5 finished with value: -0.03679234205709836 and parameters: {'kernel': 'poly', 'C': 0.010093373866893966, 'gamma': 0.0520973260210585, 'epsilon': 0.040851570623378214}. Best is trial 1 with value: -0.03125041676748464.\u001b[0m\n",
      "\u001b[32m[I 2022-08-05 12:18:15,137]\u001b[0m Trial 6 finished with value: -0.04558449770905385 and parameters: {'kernel': 'poly', 'C': 0.2364150066584085, 'gamma': 0.05050711617497382, 'epsilon': 0.06860447669813272}. Best is trial 1 with value: -0.03125041676748464.\u001b[0m\n",
      "\u001b[32m[I 2022-08-05 12:18:16,025]\u001b[0m Trial 4 finished with value: -0.007506453142177538 and parameters: {'kernel': 'rbf', 'C': 0.13852830297530472, 'gamma': 0.424643944610726, 'epsilon': 0.00420814606200221}. Best is trial 4 with value: -0.007506453142177538.\u001b[0m\n",
      "\u001b[32m[I 2022-08-05 12:18:16,374]\u001b[0m Trial 7 finished with value: -0.04558449770905385 and parameters: {'kernel': 'rbf', 'C': 3.2722276303873765, 'gamma': 0.5746241035260532, 'epsilon': 0.08582309952586963}. Best is trial 4 with value: -0.007506453142177538.\u001b[0m\n",
      "\u001b[32m[I 2022-08-05 12:18:16,379]\u001b[0m Trial 3 finished with value: -0.006104139277866429 and parameters: {'kernel': 'rbf', 'C': 4.339311588829447, 'gamma': 0.0015986087995466113, 'epsilon': 0.005530674333600598}. Best is trial 3 with value: -0.006104139277866429.\u001b[0m\n",
      "\u001b[32m[I 2022-08-05 12:18:16,398]\u001b[0m Trial 0 finished with value: -0.005684807383374039 and parameters: {'kernel': 'rbf', 'C': 0.08461718253212845, 'gamma': 0.009474814660504682, 'epsilon': 0.0012392787229087313}. Best is trial 0 with value: -0.005684807383374039.\u001b[0m\n",
      "\u001b[32m[I 2022-08-05 12:18:16,606]\u001b[0m Trial 8 finished with value: -0.045584497709053845 and parameters: {'kernel': 'poly', 'C': 0.42084902285381176, 'gamma': 0.18299695009060435, 'epsilon': 0.5412056761355761}. Best is trial 0 with value: -0.005684807383374039.\u001b[0m\n",
      "\u001b[32m[I 2022-08-05 12:18:17,355]\u001b[0m Trial 10 finished with value: -0.045584497709053845 and parameters: {'kernel': 'poly', 'C': 6.65672887457122, 'gamma': 0.14494065785395013, 'epsilon': 0.4719906896619666}. Best is trial 0 with value: -0.005684807383374039.\u001b[0m\n",
      "\u001b[32m[I 2022-08-05 12:18:17,486]\u001b[0m Trial 11 finished with value: -0.04275331853256189 and parameters: {'kernel': 'poly', 'C': 2.141466698487291, 'gamma': 0.06644728989894508, 'epsilon': 0.04665983960651617}. Best is trial 0 with value: -0.005684807383374039.\u001b[0m\n",
      "\u001b[32m[I 2022-08-05 12:18:17,939]\u001b[0m Trial 12 finished with value: -0.045584497709053845 and parameters: {'kernel': 'rbf', 'C': 0.9350833154935859, 'gamma': 0.00719897799630279, 'epsilon': 0.5359818208645268}. Best is trial 0 with value: -0.005684807383374039.\u001b[0m\n",
      "\u001b[32m[I 2022-08-05 12:18:21,541]\u001b[0m Trial 9 finished with value: -0.006611159403606947 and parameters: {'kernel': 'rbf', 'C': 0.03267474253204511, 'gamma': 0.002008963303183804, 'epsilon': 0.0015487880670527704}. Best is trial 0 with value: -0.005684807383374039.\u001b[0m\n",
      "\u001b[32m[I 2022-08-05 12:18:22,461]\u001b[0m Trial 13 finished with value: -0.006484481963441012 and parameters: {'kernel': 'rbf', 'C': 0.021851942144836566, 'gamma': 0.003326563318224468, 'epsilon': 0.0014071894267466782}. Best is trial 0 with value: -0.005684807383374039.\u001b[0m\n",
      "\u001b[32m[I 2022-08-05 12:18:23,029]\u001b[0m Trial 14 finished with value: -0.006535808521595319 and parameters: {'kernel': 'rbf', 'C': 0.019514609533224075, 'gamma': 0.0031714253124269067, 'epsilon': 0.0010400811188835384}. Best is trial 0 with value: -0.005684807383374039.\u001b[0m\n",
      "\u001b[32m[I 2022-08-05 12:18:24,395]\u001b[0m Trial 16 finished with value: -0.006542812405620754 and parameters: {'kernel': 'rbf', 'C': 0.05461590283879293, 'gamma': 0.008412526278978268, 'epsilon': 0.006196546619515897}. Best is trial 0 with value: -0.005684807383374039.\u001b[0m\n",
      "\u001b[32m[I 2022-08-05 12:18:24,616]\u001b[0m Trial 15 finished with value: -0.006670957705268069 and parameters: {'kernel': 'rbf', 'C': 0.0509272582043961, 'gamma': 0.0013539061680504856, 'epsilon': 0.0010918480595526973}. Best is trial 0 with value: -0.005684807383374039.\u001b[0m\n",
      "\u001b[32m[I 2022-08-05 12:18:24,899]\u001b[0m Trial 17 finished with value: -0.006758688354232504 and parameters: {'kernel': 'rbf', 'C': 0.0627044245095231, 'gamma': 0.007074181462033323, 'epsilon': 0.00675334081962561}. Best is trial 0 with value: -0.005684807383374039.\u001b[0m\n",
      "\u001b[32m[I 2022-08-05 12:18:25,686]\u001b[0m Trial 18 finished with value: -0.006762879790024539 and parameters: {'kernel': 'rbf', 'C': 0.07283714502061049, 'gamma': 0.010854207791850735, 'epsilon': 0.007513491233029728}. Best is trial 0 with value: -0.005684807383374039.\u001b[0m\n",
      "\u001b[32m[I 2022-08-05 12:18:26,074]\u001b[0m Trial 19 finished with value: -0.008314124911359072 and parameters: {'kernel': 'rbf', 'C': 0.09118512424700281, 'gamma': 0.0010262497712507867, 'epsilon': 0.008570385603240383}. Best is trial 0 with value: -0.005684807383374039.\u001b[0m\n",
      "\u001b[32m[I 2022-08-05 12:18:28,398]\u001b[0m Trial 20 finished with value: -0.007948596491548103 and parameters: {'kernel': 'rbf', 'C': 7.892894774649826, 'gamma': 0.00902460715787088, 'epsilon': 0.011145008397395847}. Best is trial 0 with value: -0.005684807383374039.\u001b[0m\n",
      "\u001b[32m[I 2022-08-05 12:18:29,501]\u001b[0m Trial 21 finished with value: -0.008648113412241771 and parameters: {'kernel': 'rbf', 'C': 9.37112617827488, 'gamma': 0.01615748516199677, 'epsilon': 0.011856401023675325}. Best is trial 0 with value: -0.005684807383374039.\u001b[0m\n",
      "\u001b[32m[I 2022-08-05 12:18:30,053]\u001b[0m Trial 23 finished with value: -0.010203726569433294 and parameters: {'kernel': 'rbf', 'C': 9.651690876742096, 'gamma': 0.019393727720406546, 'epsilon': 0.01683782021723866}. Best is trial 0 with value: -0.005684807383374039.\u001b[0m\n",
      "\u001b[32m[I 2022-08-05 12:18:35,187]\u001b[0m Trial 24 finished with value: -0.0067892749455945355 and parameters: {'kernel': 'rbf', 'C': 0.010145390858478938, 'gamma': 0.0032895639966304346, 'epsilon': 0.002257426523290063}. Best is trial 0 with value: -0.005684807383374039.\u001b[0m\n",
      "\u001b[32m[I 2022-08-05 12:18:35,652]\u001b[0m Trial 26 finished with value: -0.0066846038518396595 and parameters: {'kernel': 'rbf', 'C': 0.01548925901101626, 'gamma': 0.0034693453246781147, 'epsilon': 0.0029168238721162}. Best is trial 0 with value: -0.005684807383374039.\u001b[0m\n",
      "\u001b[32m[I 2022-08-05 12:18:35,652]\u001b[0m Trial 25 finished with value: -0.006639167688851099 and parameters: {'kernel': 'rbf', 'C': 0.012997982875322549, 'gamma': 0.003992145241576222, 'epsilon': 0.002393703476063658}. Best is trial 0 with value: -0.005684807383374039.\u001b[0m\n",
      "\u001b[32m[I 2022-08-05 12:18:39,269]\u001b[0m Trial 27 finished with value: -0.006706258676943036 and parameters: {'kernel': 'rbf', 'C': 0.021525131884241423, 'gamma': 0.002631641748741282, 'epsilon': 0.0029877014978794986}. Best is trial 0 with value: -0.005684807383374039.\u001b[0m\n",
      "\u001b[32m[I 2022-08-05 12:18:43,105]\u001b[0m Trial 29 finished with value: -0.006695983326946917 and parameters: {'kernel': 'rbf', 'C': 0.031105136620889217, 'gamma': 0.0017689659335611595, 'epsilon': 0.001063029852301121}. Best is trial 0 with value: -0.005684807383374039.\u001b[0m\n",
      "\u001b[32m[I 2022-08-05 12:18:43,400]\u001b[0m Trial 28 finished with value: -0.006752300401492626 and parameters: {'kernel': 'rbf', 'C': 0.026873217429699843, 'gamma': 0.0017877399674374142, 'epsilon': 0.001027775951541695}. Best is trial 0 with value: -0.005684807383374039.\u001b[0m\n",
      "\u001b[32m[I 2022-08-05 12:18:45,702]\u001b[0m Trial 31 finished with value: -0.011695723467124977 and parameters: {'kernel': 'rbf', 'C': 0.6240597067001766, 'gamma': 0.005307503612558412, 'epsilon': 0.02061102120301225}. Best is trial 0 with value: -0.005684807383374039.\u001b[0m\n",
      "\u001b[32m[I 2022-08-05 12:18:45,703]\u001b[0m Trial 30 finished with value: -0.006669210237280135 and parameters: {'kernel': 'rbf', 'C': 0.03172288138661536, 'gamma': 0.0018302528621799456, 'epsilon': 0.0014804101570419718}. Best is trial 0 with value: -0.005684807383374039.\u001b[0m\n"
     ]
    },
    {
     "name": "stderr",
     "output_type": "stream",
     "text": [
      "\u001b[32m[I 2022-08-05 12:18:46,115]\u001b[0m Trial 32 finished with value: -0.010700826419302985 and parameters: {'kernel': 'rbf', 'C': 0.5345783004607694, 'gamma': 0.004919586945628672, 'epsilon': 0.01837976799708612}. Best is trial 0 with value: -0.005684807383374039.\u001b[0m\n",
      "\u001b[32m[I 2022-08-05 12:18:48,974]\u001b[0m Trial 34 finished with value: -0.0067669911346962845 and parameters: {'kernel': 'rbf', 'C': 0.12837437678590888, 'gamma': 0.0010384395618823492, 'epsilon': 0.004334560368354187}. Best is trial 0 with value: -0.005684807383374039.\u001b[0m\n",
      "\u001b[32m[I 2022-08-05 12:18:51,159]\u001b[0m Trial 33 finished with value: -0.006548584010822095 and parameters: {'kernel': 'rbf', 'C': 0.11999310615589066, 'gamma': 0.0010408777853250987, 'epsilon': 0.0016451780576536852}. Best is trial 0 with value: -0.005684807383374039.\u001b[0m\n",
      "\u001b[32m[I 2022-08-05 12:18:51,842]\u001b[0m Trial 35 finished with value: -0.006511581646495562 and parameters: {'kernel': 'rbf', 'C': 0.11887458512647733, 'gamma': 0.0011078599809251557, 'epsilon': 0.0016634732281941283}. Best is trial 0 with value: -0.005684807383374039.\u001b[0m\n",
      "\u001b[32m[I 2022-08-05 12:18:54,255]\u001b[0m Trial 36 finished with value: -0.006035083138216013 and parameters: {'kernel': 'rbf', 'C': 0.01981121334785592, 'gamma': 0.01442817383542709, 'epsilon': 0.001648134537959107}. Best is trial 0 with value: -0.005684807383374039.\u001b[0m\n",
      "\u001b[32m[I 2022-08-05 12:18:54,794]\u001b[0m Trial 37 finished with value: -0.006208100689872897 and parameters: {'kernel': 'rbf', 'C': 0.01799965949659123, 'gamma': 0.019794674959402313, 'epsilon': 0.0038396879070215664}. Best is trial 0 with value: -0.005684807383374039.\u001b[0m\n",
      "\u001b[32m[I 2022-08-05 12:18:56,240]\u001b[0m Trial 38 finished with value: -0.005950421490264619 and parameters: {'kernel': 'rbf', 'C': 0.28567273451028374, 'gamma': 0.022128898008705, 'epsilon': 0.004620768649582357}. Best is trial 0 with value: -0.005684807383374039.\u001b[0m\n",
      "\u001b[32m[I 2022-08-05 12:18:57,298]\u001b[0m Trial 22 finished with value: -0.006751048742642867 and parameters: {'kernel': 'rbf', 'C': 8.503711195497306, 'gamma': 0.01729693301219343, 'epsilon': 0.002697804483901393}. Best is trial 0 with value: -0.005684807383374039.\u001b[0m\n",
      "\u001b[32m[I 2022-08-05 12:18:57,909]\u001b[0m Trial 39 finished with value: -0.0058588719933976045 and parameters: {'kernel': 'rbf', 'C': 0.1945055544569579, 'gamma': 0.023317278922890886, 'epsilon': 0.004144669311331086}. Best is trial 0 with value: -0.005684807383374039.\u001b[0m\n",
      "\u001b[32m[I 2022-08-05 12:18:59,200]\u001b[0m Trial 42 finished with value: -0.04558449770905386 and parameters: {'kernel': 'poly', 'C': 0.21681398907404628, 'gamma': 0.0313289688785765, 'epsilon': 0.216925651443333}. Best is trial 0 with value: -0.005684807383374039.\u001b[0m\n",
      "\u001b[32m[I 2022-08-05 12:19:01,170]\u001b[0m Trial 40 finished with value: -0.006451221816104244 and parameters: {'kernel': 'poly', 'C': 0.2122786809986838, 'gamma': 0.02948448785424374, 'epsilon': 0.0043606625116836256}. Best is trial 0 with value: -0.005684807383374039.\u001b[0m\n",
      "\u001b[32m[I 2022-08-05 12:19:04,590]\u001b[0m Trial 44 finished with value: -0.006164091396676273 and parameters: {'kernel': 'rbf', 'C': 0.20968078138460033, 'gamma': 0.03321390102196135, 'epsilon': 0.005339128294063653}. Best is trial 0 with value: -0.005684807383374039.\u001b[0m\n",
      "\u001b[32m[I 2022-08-05 12:19:04,762]\u001b[0m Trial 41 finished with value: -0.006502371211496421 and parameters: {'kernel': 'poly', 'C': 0.21744346658397828, 'gamma': 0.035801203484129705, 'epsilon': 0.0047432529539662175}. Best is trial 0 with value: -0.005684807383374039.\u001b[0m\n",
      "\u001b[32m[I 2022-08-05 12:19:06,076]\u001b[0m Trial 45 finished with value: -0.005961456682791891 and parameters: {'kernel': 'rbf', 'C': 0.36874499341241707, 'gamma': 0.013426386895143456, 'epsilon': 0.005104642166262681}. Best is trial 0 with value: -0.005684807383374039.\u001b[0m\n",
      "\u001b[32m[I 2022-08-05 12:19:06,607]\u001b[0m Trial 43 finished with value: -0.0065626541020474384 and parameters: {'kernel': 'poly', 'C': 0.26957640695713336, 'gamma': 0.03448062577403551, 'epsilon': 0.005047187349151983}. Best is trial 0 with value: -0.005684807383374039.\u001b[0m\n",
      "\u001b[32m[I 2022-08-05 12:19:14,842]\u001b[0m Trial 46 finished with value: -0.006398817151475727 and parameters: {'kernel': 'rbf', 'C': 0.3461346335946766, 'gamma': 0.08452627532138549, 'epsilon': 0.001863300908499562}. Best is trial 0 with value: -0.005684807383374039.\u001b[0m\n",
      "\u001b[32m[I 2022-08-05 12:19:18,081]\u001b[0m Trial 50 finished with value: -0.021067783482792656 and parameters: {'kernel': 'rbf', 'C': 1.107107613642092, 'gamma': 0.013180347654003595, 'epsilon': 0.030061935593505788}. Best is trial 0 with value: -0.005684807383374039.\u001b[0m\n",
      "\u001b[32m[I 2022-08-05 12:19:21,302]\u001b[0m Trial 48 finished with value: -0.005772733629621629 and parameters: {'kernel': 'rbf', 'C': 0.958249105141679, 'gamma': 0.012806885838941092, 'epsilon': 0.001966473674085971}. Best is trial 0 with value: -0.005684807383374039.\u001b[0m\n",
      "\u001b[32m[I 2022-08-05 12:19:21,318]\u001b[0m Trial 51 finished with value: -0.0076022202643530636 and parameters: {'kernel': 'rbf', 'C': 0.7649758310462289, 'gamma': 0.05274020716188663, 'epsilon': 0.009954685981539443}. Best is trial 0 with value: -0.005684807383374039.\u001b[0m\n",
      "\u001b[32m[I 2022-08-05 12:19:21,588]\u001b[0m Trial 49 finished with value: -0.007202987450259645 and parameters: {'kernel': 'rbf', 'C': 1.182235213934093, 'gamma': 0.09919318904331106, 'epsilon': 0.001920665829167102}. Best is trial 0 with value: -0.005684807383374039.\u001b[0m\n",
      "\u001b[32m[I 2022-08-05 12:19:21,684]\u001b[0m Trial 47 finished with value: -0.007031197944240756 and parameters: {'kernel': 'rbf', 'C': 1.248271265697228, 'gamma': 0.0708505728189912, 'epsilon': 0.0018178673905202157}. Best is trial 0 with value: -0.005684807383374039.\u001b[0m\n",
      "\u001b[32m[I 2022-08-05 12:19:29,386]\u001b[0m Trial 55 finished with value: -0.0058688907335895735 and parameters: {'kernel': 'rbf', 'C': 0.4055212332918209, 'gamma': 0.02391213562577697, 'epsilon': 0.0031788739136495753}. Best is trial 0 with value: -0.005684807383374039.\u001b[0m\n",
      "\u001b[32m[I 2022-08-05 12:19:29,541]\u001b[0m Trial 52 finished with value: -0.006936580037900639 and parameters: {'kernel': 'rbf', 'C': 1.3964841948299047, 'gamma': 0.055309794843432986, 'epsilon': 0.003310393522499711}. Best is trial 0 with value: -0.005684807383374039.\u001b[0m\n",
      "\u001b[32m[I 2022-08-05 12:19:31,665]\u001b[0m Trial 54 finished with value: -0.006395491547242986 and parameters: {'kernel': 'rbf', 'C': 1.8241956659286116, 'gamma': 0.023722117505052636, 'epsilon': 0.0036860028175214536}. Best is trial 0 with value: -0.005684807383374039.\u001b[0m\n",
      "\u001b[32m[I 2022-08-05 12:19:32,616]\u001b[0m Trial 53 finished with value: -0.006291442269439759 and parameters: {'kernel': 'rbf', 'C': 1.8315407303114526, 'gamma': 0.023406372880149826, 'epsilon': 0.0029184494865654876}. Best is trial 0 with value: -0.005684807383374039.\u001b[0m\n",
      "\u001b[32m[I 2022-08-05 12:19:33,095]\u001b[0m Trial 57 finished with value: -0.006416052986028636 and parameters: {'kernel': 'rbf', 'C': 0.4021779891138499, 'gamma': 0.023729034531795517, 'epsilon': 0.006665805028787398}. Best is trial 0 with value: -0.005684807383374039.\u001b[0m\n",
      "\u001b[32m[I 2022-08-05 12:19:34,530]\u001b[0m Trial 56 finished with value: -0.005913161898824149 and parameters: {'kernel': 'rbf', 'C': 0.44389071127873414, 'gamma': 0.023978446760578472, 'epsilon': 0.0033738647759158735}. Best is trial 0 with value: -0.005684807383374039.\u001b[0m\n",
      "\u001b[32m[I 2022-08-05 12:19:34,695]\u001b[0m Trial 58 finished with value: -0.006426974687300519 and parameters: {'kernel': 'rbf', 'C': 0.46784556321721543, 'gamma': 0.011306837351237449, 'epsilon': 0.007103141151873409}. Best is trial 0 with value: -0.005684807383374039.\u001b[0m\n",
      "\u001b[32m[I 2022-08-05 12:19:34,879]\u001b[0m Trial 60 finished with value: -0.009100471016242399 and parameters: {'kernel': 'rbf', 'C': 0.1618396107900806, 'gamma': 0.010444140710562494, 'epsilon': 0.013680032838902382}. Best is trial 0 with value: -0.005684807383374039.\u001b[0m\n",
      "\u001b[32m[I 2022-08-05 12:19:46,057]\u001b[0m Trial 59 finished with value: -0.005591706979087208 and parameters: {'kernel': 'rbf', 'C': 0.3907315873012063, 'gamma': 0.011270435059630827, 'epsilon': 0.0012008003525780398}. Best is trial 59 with value: -0.005591706979087208.\u001b[0m\n",
      "\u001b[32m[I 2022-08-05 12:19:48,229]\u001b[0m Trial 61 finished with value: -0.005608724357736492 and parameters: {'kernel': 'rbf', 'C': 0.4925245497754928, 'gamma': 0.010517687016496607, 'epsilon': 0.0012791778936974457}. Best is trial 59 with value: -0.005591706979087208.\u001b[0m\n"
     ]
    },
    {
     "name": "stderr",
     "output_type": "stream",
     "text": [
      "\u001b[32m[I 2022-08-05 12:19:50,039]\u001b[0m Trial 63 finished with value: -0.0056614196649549834 and parameters: {'kernel': 'rbf', 'C': 0.7693405842169904, 'gamma': 0.00724813564933736, 'epsilon': 0.0012531540868582513}. Best is trial 59 with value: -0.005591706979087208.\u001b[0m\n",
      "\u001b[32m[I 2022-08-05 12:19:50,702]\u001b[0m Trial 62 finished with value: -0.005654157061478857 and parameters: {'kernel': 'rbf', 'C': 0.7640336385187725, 'gamma': 0.009165367012667826, 'epsilon': 0.0012035034397507277}. Best is trial 59 with value: -0.005591706979087208.\u001b[0m\n",
      "\u001b[32m[I 2022-08-05 12:19:55,842]\u001b[0m Trial 64 finished with value: -0.00558520544268019 and parameters: {'kernel': 'rbf', 'C': 0.28958386755974114, 'gamma': 0.008140637960960937, 'epsilon': 0.001271040563206242}. Best is trial 64 with value: -0.00558520544268019.\u001b[0m\n",
      "\u001b[32m[I 2022-08-05 12:20:01,970]\u001b[0m Trial 65 finished with value: -0.005636268933971392 and parameters: {'kernel': 'rbf', 'C': 0.6929982486812951, 'gamma': 0.005706427126084043, 'epsilon': 0.0012184902044794343}. Best is trial 64 with value: -0.00558520544268019.\u001b[0m\n",
      "\u001b[32m[I 2022-08-05 12:20:04,514]\u001b[0m Trial 66 finished with value: -0.005661730253540441 and parameters: {'kernel': 'rbf', 'C': 0.7561250239187388, 'gamma': 0.006631441801261103, 'epsilon': 0.0012704239773995147}. Best is trial 64 with value: -0.00558520544268019.\u001b[0m\n",
      "\u001b[32m[I 2022-08-05 12:20:05,417]\u001b[0m Trial 67 finished with value: -0.0056615333549678805 and parameters: {'kernel': 'rbf', 'C': 0.7357925122258338, 'gamma': 0.006694642531491093, 'epsilon': 0.0012760434470157408}. Best is trial 64 with value: -0.00558520544268019.\u001b[0m\n",
      "\u001b[32m[I 2022-08-05 12:20:11,297]\u001b[0m Trial 68 finished with value: -0.005659320075520452 and parameters: {'kernel': 'rbf', 'C': 0.7581042224765238, 'gamma': 0.007070046329463918, 'epsilon': 0.0012402944560556193}. Best is trial 64 with value: -0.00558520544268019.\u001b[0m\n",
      "\u001b[32m[I 2022-08-05 12:20:14,948]\u001b[0m Trial 69 finished with value: -0.0056501260897808 and parameters: {'kernel': 'rbf', 'C': 0.6768646733712756, 'gamma': 0.006665633726252643, 'epsilon': 0.0013526397620156516}. Best is trial 64 with value: -0.00558520544268019.\u001b[0m\n",
      "\u001b[32m[I 2022-08-05 12:20:18,480]\u001b[0m Trial 70 finished with value: -0.005655114909905701 and parameters: {'kernel': 'rbf', 'C': 0.6860829487144318, 'gamma': 0.006831895199017473, 'epsilon': 0.0012823498012787206}. Best is trial 64 with value: -0.00558520544268019.\u001b[0m\n",
      "\u001b[32m[I 2022-08-05 12:20:18,804]\u001b[0m Trial 71 finished with value: -0.005628556672513533 and parameters: {'kernel': 'rbf', 'C': 0.6363166835319077, 'gamma': 0.0055800374257219424, 'epsilon': 0.001230398339168968}. Best is trial 64 with value: -0.00558520544268019.\u001b[0m\n",
      "\u001b[32m[I 2022-08-05 12:20:32,681]\u001b[0m Trial 74 finished with value: -0.005656468739553296 and parameters: {'kernel': 'rbf', 'C': 0.5798159019325801, 'gamma': 0.004600098227639266, 'epsilon': 0.001007308507168129}. Best is trial 64 with value: -0.00558520544268019.\u001b[0m\n",
      "\u001b[32m[I 2022-08-05 12:20:33,011]\u001b[0m Trial 75 finished with value: -0.005646679852752005 and parameters: {'kernel': 'rbf', 'C': 0.5375823711212199, 'gamma': 0.0049530304439868314, 'epsilon': 0.001037268006879741}. Best is trial 64 with value: -0.00558520544268019.\u001b[0m\n",
      "\u001b[32m[I 2022-08-05 12:20:39,704]\u001b[0m Trial 77 finished with value: -0.00584968093826541 and parameters: {'kernel': 'rbf', 'C': 0.31067544687910564, 'gamma': 0.0023863863205952993, 'epsilon': 0.002362719462726743}. Best is trial 64 with value: -0.00558520544268019.\u001b[0m\n",
      "\u001b[32m[I 2022-08-05 12:20:40,860]\u001b[0m Trial 76 finished with value: -0.005641249442662958 and parameters: {'kernel': 'rbf', 'C': 0.5176980723255679, 'gamma': 0.005412310962442056, 'epsilon': 0.0022763290116945317}. Best is trial 64 with value: -0.00558520544268019.\u001b[0m\n",
      "\u001b[32m[I 2022-08-05 12:20:43,151]\u001b[0m Trial 79 finished with value: -0.045584497709053845 and parameters: {'kernel': 'rbf', 'C': 0.512536678410424, 'gamma': 0.0056958065482874964, 'epsilon': 0.978266317836953}. Best is trial 64 with value: -0.00558520544268019.\u001b[0m\n",
      "\u001b[32m[I 2022-08-05 12:20:44,510]\u001b[0m Trial 72 finished with value: -0.005857830474624589 and parameters: {'kernel': 'rbf', 'C': 3.5667135380384813, 'gamma': 0.005058393445233514, 'epsilon': 0.00116340176763084}. Best is trial 64 with value: -0.00558520544268019.\u001b[0m\n",
      "\u001b[32m[I 2022-08-05 12:20:46,616]\u001b[0m Trial 73 finished with value: -0.005822672982915108 and parameters: {'kernel': 'rbf', 'C': 3.0723183646857857, 'gamma': 0.004870425594960196, 'epsilon': 0.0010132611914963796}. Best is trial 64 with value: -0.00558520544268019.\u001b[0m\n",
      "\u001b[32m[I 2022-08-05 12:20:51,144]\u001b[0m Trial 78 finished with value: -0.0056335186424343086 and parameters: {'kernel': 'rbf', 'C': 0.5259701430712579, 'gamma': 0.005322523713457108, 'epsilon': 0.0010269568795721149}. Best is trial 64 with value: -0.00558520544268019.\u001b[0m\n",
      "\u001b[32m[I 2022-08-05 12:20:52,032]\u001b[0m Trial 81 finished with value: -0.005744392860806602 and parameters: {'kernel': 'rbf', 'C': 0.5887598726161627, 'gamma': 0.0027477490048848953, 'epsilon': 0.0023759897467273815}. Best is trial 64 with value: -0.00558520544268019.\u001b[0m\n",
      "\u001b[32m[I 2022-08-05 12:20:53,563]\u001b[0m Trial 82 finished with value: -0.005764678148634065 and parameters: {'kernel': 'rbf', 'C': 0.5754867314372357, 'gamma': 0.002504163087994778, 'epsilon': 0.002393829270051695}. Best is trial 64 with value: -0.00558520544268019.\u001b[0m\n",
      "\u001b[32m[I 2022-08-05 12:20:56,106]\u001b[0m Trial 80 finished with value: -0.005667927668911578 and parameters: {'kernel': 'rbf', 'C': 0.9610483723368615, 'gamma': 0.004030451962985427, 'epsilon': 0.0010168071977917157}. Best is trial 64 with value: -0.00558520544268019.\u001b[0m\n",
      "\u001b[32m[I 2022-08-05 12:20:56,665]\u001b[0m Trial 83 finished with value: -0.005749206498876331 and parameters: {'kernel': 'rbf', 'C': 0.2769524813184156, 'gamma': 0.0038734951284431383, 'epsilon': 0.00234894939594384}. Best is trial 64 with value: -0.00558520544268019.\u001b[0m\n",
      "\u001b[32m[I 2022-08-05 12:20:59,131]\u001b[0m Trial 84 finished with value: -0.005749836024009345 and parameters: {'kernel': 'rbf', 'C': 0.2641342678254955, 'gamma': 0.003676033472070003, 'epsilon': 0.0015097722217899336}. Best is trial 64 with value: -0.00558520544268019.\u001b[0m\n",
      "\u001b[32m[I 2022-08-05 12:21:05,466]\u001b[0m Trial 85 finished with value: -0.005651102659642661 and parameters: {'kernel': 'rbf', 'C': 0.9844665845866732, 'gamma': 0.00424226040856898, 'epsilon': 0.0015518235238127464}. Best is trial 64 with value: -0.00558520544268019.\u001b[0m\n",
      "\u001b[32m[I 2022-08-05 12:21:05,466]\u001b[0m Trial 86 finished with value: -0.00572135071359209 and parameters: {'kernel': 'rbf', 'C': 0.31945772478408857, 'gamma': 0.003827409720605008, 'epsilon': 0.001479879274525717}. Best is trial 64 with value: -0.00558520544268019.\u001b[0m\n",
      "\u001b[32m[I 2022-08-05 12:21:06,825]\u001b[0m Trial 87 finished with value: -0.005604484842182566 and parameters: {'kernel': 'rbf', 'C': 0.4644151269569842, 'gamma': 0.009071260445735042, 'epsilon': 0.001645684005284435}. Best is trial 64 with value: -0.00558520544268019.\u001b[0m\n",
      "\u001b[32m[I 2022-08-05 12:21:08,841]\u001b[0m Trial 88 finished with value: -0.005586497277801926 and parameters: {'kernel': 'rbf', 'C': 0.34236050398955925, 'gamma': 0.009020547269576469, 'epsilon': 0.0014730047974883097}. Best is trial 64 with value: -0.00558520544268019.\u001b[0m\n",
      "\u001b[32m[I 2022-08-05 12:21:14,287]\u001b[0m Trial 90 finished with value: -0.0056211050300791505 and parameters: {'kernel': 'rbf', 'C': 0.4840259975098424, 'gamma': 0.008133364495173004, 'epsilon': 0.0020393451422234593}. Best is trial 64 with value: -0.00558520544268019.\u001b[0m\n",
      "\u001b[32m[I 2022-08-05 12:21:14,609]\u001b[0m Trial 89 finished with value: -0.005604576106464435 and parameters: {'kernel': 'rbf', 'C': 0.46587866286418295, 'gamma': 0.009159881044164566, 'epsilon': 0.0019736779796376103}. Best is trial 64 with value: -0.00558520544268019.\u001b[0m\n",
      "\u001b[32m[I 2022-08-05 12:21:16,151]\u001b[0m Trial 91 finished with value: -0.005616641760221092 and parameters: {'kernel': 'rbf', 'C': 0.5070065128867712, 'gamma': 0.008681164780029931, 'epsilon': 0.0020350182570916518}. Best is trial 64 with value: -0.00558520544268019.\u001b[0m\n",
      "\u001b[32m[I 2022-08-05 12:21:16,765]\u001b[0m Trial 92 finished with value: -0.006380841196470713 and parameters: {'kernel': 'poly', 'C': 0.46027435415136236, 'gamma': 0.009334098443983068, 'epsilon': 0.0020088763746377524}. Best is trial 64 with value: -0.00558520544268019.\u001b[0m\n"
     ]
    },
    {
     "name": "stderr",
     "output_type": "stream",
     "text": [
      "\u001b[32m[I 2022-08-05 12:21:20,540]\u001b[0m Trial 93 finished with value: -0.006411485967788229 and parameters: {'kernel': 'poly', 'C': 0.39398513212571284, 'gamma': 0.008324301105736344, 'epsilon': 0.0018446348519703215}. Best is trial 64 with value: -0.00558520544268019.\u001b[0m\n",
      "\u001b[32m[I 2022-08-05 12:21:22,474]\u001b[0m Trial 94 finished with value: -0.005596988766264871 and parameters: {'kernel': 'rbf', 'C': 0.35621346109718605, 'gamma': 0.008333701442998461, 'epsilon': 0.0019279290195771757}. Best is trial 64 with value: -0.00558520544268019.\u001b[0m\n",
      "\u001b[32m[I 2022-08-05 12:21:24,726]\u001b[0m Trial 95 finished with value: -0.005593279481686429 and parameters: {'kernel': 'rbf', 'C': 0.3622599262466721, 'gamma': 0.00835495669699725, 'epsilon': 0.0016988933136606282}. Best is trial 64 with value: -0.00558520544268019.\u001b[0m\n",
      "\u001b[32m[I 2022-08-05 12:21:25,738]\u001b[0m Trial 96 finished with value: -0.005618477896643892 and parameters: {'kernel': 'rbf', 'C': 0.36691159533197903, 'gamma': 0.015322109190078769, 'epsilon': 0.0018936252882027454}. Best is trial 64 with value: -0.00558520544268019.\u001b[0m\n",
      "\u001b[32m[I 2022-08-05 12:21:30,018]\u001b[0m Trial 98 finished with value: -0.005672182901531466 and parameters: {'kernel': 'rbf', 'C': 0.3336386986074262, 'gamma': 0.016428619474656653, 'epsilon': 0.0025985800019222845}. Best is trial 64 with value: -0.00558520544268019.\u001b[0m\n",
      "\u001b[32m[I 2022-08-05 12:21:30,487]\u001b[0m Trial 99 finished with value: -0.005571428857627744 and parameters: {'kernel': 'rbf', 'C': 0.15525651939397928, 'gamma': 0.017154304550893094, 'epsilon': 0.0026356094998501397}. Best is trial 99 with value: -0.005571428857627744.\u001b[0m\n",
      "\u001b[32m[I 2022-08-05 12:21:30,612]\u001b[0m Trial 97 finished with value: -0.005629879057420506 and parameters: {'kernel': 'rbf', 'C': 0.3582818700637252, 'gamma': 0.016588964524346165, 'epsilon': 0.0016845355410447997}. Best is trial 99 with value: -0.005571428857627744.\u001b[0m\n",
      "\u001b[32m[I 2022-08-05 12:21:30,889]\u001b[0m Trial 100 finished with value: -0.0055858820601748195 and parameters: {'kernel': 'rbf', 'C': 0.1682032217140916, 'gamma': 0.0172260954841636, 'epsilon': 0.0027289753182420436}. Best is trial 99 with value: -0.005571428857627744.\u001b[0m\n",
      "\u001b[32m[I 2022-08-05 12:21:36,117]\u001b[0m Trial 103 finished with value: -0.005597827528346317 and parameters: {'kernel': 'rbf', 'C': 0.16757391133349148, 'gamma': 0.012106629260788983, 'epsilon': 0.0028044372918259192}. Best is trial 99 with value: -0.005571428857627744.\u001b[0m\n",
      "\u001b[32m[I 2022-08-05 12:21:36,884]\u001b[0m Trial 104 finished with value: -0.005606841804003971 and parameters: {'kernel': 'rbf', 'C': 0.17430955881418325, 'gamma': 0.010983980970336767, 'epsilon': 0.002814209195531569}. Best is trial 99 with value: -0.005571428857627744.\u001b[0m\n",
      "\u001b[32m[I 2022-08-05 12:21:36,928]\u001b[0m Trial 101 finished with value: -0.005550823607862741 and parameters: {'kernel': 'rbf', 'C': 0.2373121263310466, 'gamma': 0.011520650251186447, 'epsilon': 0.0017222736513253611}. Best is trial 101 with value: -0.005550823607862741.\u001b[0m\n",
      "\u001b[32m[I 2022-08-05 12:21:37,349]\u001b[0m Trial 102 finished with value: -0.005558670434796933 and parameters: {'kernel': 'rbf', 'C': 0.24602729364053863, 'gamma': 0.01084203537432256, 'epsilon': 0.001727043725785063}. Best is trial 101 with value: -0.005550823607862741.\u001b[0m\n",
      "\u001b[32m[I 2022-08-05 12:21:39,972]\u001b[0m Trial 105 finished with value: -0.005628871604030779 and parameters: {'kernel': 'rbf', 'C': 0.17457346957618766, 'gamma': 0.011042085556035017, 'epsilon': 0.003041589856667689}. Best is trial 101 with value: -0.005550823607862741.\u001b[0m\n",
      "\u001b[32m[I 2022-08-05 12:21:39,972]\u001b[0m Trial 107 finished with value: -0.005722310544592443 and parameters: {'kernel': 'rbf', 'C': 0.0978985092011986, 'gamma': 0.01234666012734617, 'epsilon': 0.003641204199041215}. Best is trial 101 with value: -0.005550823607862741.\u001b[0m\n",
      "\u001b[32m[I 2022-08-05 12:21:40,441]\u001b[0m Trial 106 finished with value: -0.005644175767160072 and parameters: {'kernel': 'rbf', 'C': 0.0961948082930228, 'gamma': 0.01184994357480268, 'epsilon': 0.0027515768339854783}. Best is trial 101 with value: -0.005550823607862741.\u001b[0m\n",
      "\u001b[32m[I 2022-08-05 12:21:41,300]\u001b[0m Trial 108 finished with value: -0.005708467122821573 and parameters: {'kernel': 'rbf', 'C': 0.09359389164917924, 'gamma': 0.012179790274635833, 'epsilon': 0.003480169402103259}. Best is trial 101 with value: -0.005550823607862741.\u001b[0m\n",
      "\u001b[32m[I 2022-08-05 12:21:46,331]\u001b[0m Trial 110 finished with value: -0.005557138266256822 and parameters: {'kernel': 'rbf', 'C': 0.14469515189854534, 'gamma': 0.02039865884113835, 'epsilon': 0.0016763551989202805}. Best is trial 101 with value: -0.005550823607862741.\u001b[0m\n",
      "\u001b[32m[I 2022-08-05 12:21:46,486]\u001b[0m Trial 109 finished with value: -0.005536448065118472 and parameters: {'kernel': 'rbf', 'C': 0.14080828748205237, 'gamma': 0.018808025012472793, 'epsilon': 0.0016461537183261902}. Best is trial 109 with value: -0.005536448065118472.\u001b[0m\n",
      "\u001b[32m[I 2022-08-05 12:21:48,083]\u001b[0m Trial 111 finished with value: -0.005535661233745616 and parameters: {'kernel': 'rbf', 'C': 0.1381440633176979, 'gamma': 0.01885220273047699, 'epsilon': 0.0016268024069351194}. Best is trial 111 with value: -0.005535661233745616.\u001b[0m\n",
      "\u001b[32m[I 2022-08-05 12:21:49,003]\u001b[0m Trial 112 finished with value: -0.005532590108483687 and parameters: {'kernel': 'rbf', 'C': 0.1457009686306987, 'gamma': 0.01799671191410369, 'epsilon': 0.0016693989146626428}. Best is trial 112 with value: -0.005532590108483687.\u001b[0m\n",
      "\u001b[32m[I 2022-08-05 12:21:49,128]\u001b[0m Trial 113 finished with value: -0.006074060018037902 and parameters: {'kernel': 'rbf', 'C': 0.14153691879817865, 'gamma': 0.01461372217865089, 'epsilon': 0.005925165861168326}. Best is trial 112 with value: -0.005532590108483687.\u001b[0m\n",
      "\u001b[32m[I 2022-08-05 12:21:54,928]\u001b[0m Trial 114 finished with value: -0.005590053263272251 and parameters: {'kernel': 'rbf', 'C': 0.24287843471920273, 'gamma': 0.01794824139249606, 'epsilon': 0.001592506268594628}. Best is trial 112 with value: -0.005532590108483687.\u001b[0m\n",
      "\u001b[32m[I 2022-08-05 12:21:55,921]\u001b[0m Trial 115 finished with value: -0.005534805597792259 and parameters: {'kernel': 'rbf', 'C': 0.14020909612437896, 'gamma': 0.01877009795277908, 'epsilon': 0.0014097931800950835}. Best is trial 112 with value: -0.005532590108483687.\u001b[0m\n",
      "\u001b[32m[I 2022-08-05 12:21:56,679]\u001b[0m Trial 117 finished with value: -0.005553116875814951 and parameters: {'kernel': 'rbf', 'C': 0.07515665970379909, 'gamma': 0.018730952340163226, 'epsilon': 0.0013984609029581887}. Best is trial 112 with value: -0.005532590108483687.\u001b[0m\n",
      "\u001b[32m[I 2022-08-05 12:21:57,248]\u001b[0m Trial 119 finished with value: -0.04558449770905385 and parameters: {'kernel': 'rbf', 'C': 0.07541825874630534, 'gamma': 0.019168323408390794, 'epsilon': 0.060007858533887244}. Best is trial 112 with value: -0.005532590108483687.\u001b[0m\n",
      "\u001b[32m[I 2022-08-05 12:21:57,836]\u001b[0m Trial 116 finished with value: -0.005613607117107442 and parameters: {'kernel': 'rbf', 'C': 0.23992232477291692, 'gamma': 0.01959547590620038, 'epsilon': 0.0015036544181595542}. Best is trial 112 with value: -0.005532590108483687.\u001b[0m\n",
      "\u001b[32m[I 2022-08-05 12:21:59,860]\u001b[0m Trial 122 finished with value: -0.04558449770905386 and parameters: {'kernel': 'rbf', 'C': 0.04194934114203412, 'gamma': 0.041145126160599094, 'epsilon': 0.12544371147443692}. Best is trial 112 with value: -0.005532590108483687.\u001b[0m\n",
      "\u001b[32m[I 2022-08-05 12:22:01,796]\u001b[0m Trial 118 finished with value: -0.005655601955176935 and parameters: {'kernel': 'rbf', 'C': 0.1435007401870458, 'gamma': 0.02742284333257236, 'epsilon': 0.0014482068760090145}. Best is trial 112 with value: -0.005532590108483687.\u001b[0m\n",
      "\u001b[32m[I 2022-08-05 12:22:02,454]\u001b[0m Trial 120 finished with value: -0.005731838983858231 and parameters: {'kernel': 'rbf', 'C': 0.07800622025239602, 'gamma': 0.0413146418208437, 'epsilon': 0.0015014988111496177}. Best is trial 112 with value: -0.005532590108483687.\u001b[0m\n",
      "\u001b[32m[I 2022-08-05 12:22:02,769]\u001b[0m Trial 121 finished with value: -0.005732776999031037 and parameters: {'kernel': 'rbf', 'C': 0.04387112062645609, 'gamma': 0.03827049032948537, 'epsilon': 0.0013919430582765623}. Best is trial 112 with value: -0.005532590108483687.\u001b[0m\n",
      "\u001b[32m[I 2022-08-05 12:22:09,063]\u001b[0m Trial 123 finished with value: -0.005656790000735664 and parameters: {'kernel': 'rbf', 'C': 0.1445197274529347, 'gamma': 0.027594184827907133, 'epsilon': 0.0013694068848991152}. Best is trial 112 with value: -0.005532590108483687.\u001b[0m\n"
     ]
    },
    {
     "name": "stderr",
     "output_type": "stream",
     "text": [
      "\u001b[32m[I 2022-08-05 12:22:09,422]\u001b[0m Trial 124 finished with value: -0.005527112298594051 and parameters: {'kernel': 'rbf', 'C': 0.10767614081256625, 'gamma': 0.017973240612429515, 'epsilon': 0.0013885409011970495}. Best is trial 124 with value: -0.005527112298594051.\u001b[0m\n",
      "\u001b[32m[I 2022-08-05 12:22:09,500]\u001b[0m Trial 126 finished with value: -0.005635347891593007 and parameters: {'kernel': 'rbf', 'C': 0.10813939120596688, 'gamma': 0.027612979422085272, 'epsilon': 0.002100001619580277}. Best is trial 124 with value: -0.005527112298594051.\u001b[0m\n",
      "\u001b[32m[I 2022-08-05 12:22:09,938]\u001b[0m Trial 125 finished with value: -0.005640090297980616 and parameters: {'kernel': 'rbf', 'C': 0.12087548954809389, 'gamma': 0.02827293863906373, 'epsilon': 0.00141328818336075}. Best is trial 124 with value: -0.005527112298594051.\u001b[0m\n",
      "\u001b[32m[I 2022-08-05 12:22:14,914]\u001b[0m Trial 128 finished with value: -0.005555819738319723 and parameters: {'kernel': 'rbf', 'C': 0.1221424612858071, 'gamma': 0.020333175070186373, 'epsilon': 0.002149249299204552}. Best is trial 124 with value: -0.005527112298594051.\u001b[0m\n",
      "\u001b[32m[I 2022-08-05 12:22:16,431]\u001b[0m Trial 127 finished with value: -0.005536156384489435 and parameters: {'kernel': 'rbf', 'C': 0.11428775289178389, 'gamma': 0.019000412795247782, 'epsilon': 0.001118589815548759}. Best is trial 124 with value: -0.005527112298594051.\u001b[0m\n",
      "\u001b[32m[I 2022-08-05 12:22:17,184]\u001b[0m Trial 129 finished with value: -0.005539958939543424 and parameters: {'kernel': 'rbf', 'C': 0.1172436105966912, 'gamma': 0.02008131008421318, 'epsilon': 0.0011430464407042706}. Best is trial 124 with value: -0.005527112298594051.\u001b[0m\n",
      "\u001b[32m[I 2022-08-05 12:22:17,939]\u001b[0m Trial 130 finished with value: -0.005597122239411964 and parameters: {'kernel': 'rbf', 'C': 0.058123296803974496, 'gamma': 0.02115507757207787, 'epsilon': 0.0010711096681225707}. Best is trial 124 with value: -0.005527112298594051.\u001b[0m\n",
      "\u001b[32m[I 2022-08-05 12:22:20,111]\u001b[0m Trial 131 finished with value: -0.005659581043645081 and parameters: {'kernel': 'rbf', 'C': 0.19468358692961354, 'gamma': 0.021006136066137285, 'epsilon': 0.0025514484467908417}. Best is trial 124 with value: -0.005527112298594051.\u001b[0m\n",
      "\u001b[32m[I 2022-08-05 12:22:24,012]\u001b[0m Trial 132 finished with value: -0.005575831581019073 and parameters: {'kernel': 'rbf', 'C': 0.06740324361899114, 'gamma': 0.021784328806936627, 'epsilon': 0.0011156848321477203}. Best is trial 124 with value: -0.005527112298594051.\u001b[0m\n",
      "\u001b[32m[I 2022-08-05 12:22:25,712]\u001b[0m Trial 134 finished with value: -0.0056270550231451045 and parameters: {'kernel': 'rbf', 'C': 0.06581423934878082, 'gamma': 0.014292258306429143, 'epsilon': 0.0011480772222149526}. Best is trial 124 with value: -0.005527112298594051.\u001b[0m\n",
      "\u001b[32m[I 2022-08-05 12:22:25,874]\u001b[0m Trial 133 finished with value: -0.005550838473311249 and parameters: {'kernel': 'rbf', 'C': 0.11608423156832687, 'gamma': 0.0212342613574135, 'epsilon': 0.0010859636311276455}. Best is trial 124 with value: -0.005527112298594051.\u001b[0m\n",
      "\u001b[32m[I 2022-08-05 12:22:28,408]\u001b[0m Trial 135 finished with value: -0.005542071095802403 and parameters: {'kernel': 'rbf', 'C': 0.11210292569084261, 'gamma': 0.015285863363716273, 'epsilon': 0.0011046942796545476}. Best is trial 124 with value: -0.005527112298594051.\u001b[0m\n",
      "\u001b[32m[I 2022-08-05 12:22:30,381]\u001b[0m Trial 136 finished with value: -0.005613804170720549 and parameters: {'kernel': 'rbf', 'C': 0.06647725629016804, 'gamma': 0.015080147123501574, 'epsilon': 0.0011222895638378287}. Best is trial 124 with value: -0.005527112298594051.\u001b[0m\n",
      "\u001b[32m[I 2022-08-05 12:22:32,115]\u001b[0m Trial 137 finished with value: -0.005529077730542632 and parameters: {'kernel': 'rbf', 'C': 0.11077737439812105, 'gamma': 0.018265344421241385, 'epsilon': 0.0017860050279018894}. Best is trial 124 with value: -0.005527112298594051.\u001b[0m\n",
      "\u001b[32m[I 2022-08-05 12:22:32,556]\u001b[0m Trial 138 finished with value: -0.005529320651353367 and parameters: {'kernel': 'rbf', 'C': 0.10642355779395013, 'gamma': 0.018147879599791687, 'epsilon': 0.0017005297554719447}. Best is trial 124 with value: -0.005527112298594051.\u001b[0m\n",
      "\u001b[32m[I 2022-08-05 12:22:34,884]\u001b[0m Trial 139 finished with value: -0.005548210212549189 and parameters: {'kernel': 'rbf', 'C': 0.10812974472754208, 'gamma': 0.014012982851072877, 'epsilon': 0.001715165712537132}. Best is trial 124 with value: -0.005527112298594051.\u001b[0m\n",
      "\u001b[32m[I 2022-08-05 12:22:38,080]\u001b[0m Trial 141 finished with value: -0.0056110680281946 and parameters: {'kernel': 'rbf', 'C': 0.11383111671589595, 'gamma': 0.02490794291945398, 'epsilon': 0.0021958175821212038}. Best is trial 124 with value: -0.005527112298594051.\u001b[0m\n",
      "\u001b[32m[I 2022-08-05 12:22:38,376]\u001b[0m Trial 142 finished with value: -0.005599103865462673 and parameters: {'kernel': 'rbf', 'C': 0.10936692527375144, 'gamma': 0.02450860856164453, 'epsilon': 0.002151247523406279}. Best is trial 124 with value: -0.005527112298594051.\u001b[0m\n",
      "\u001b[32m[I 2022-08-05 12:22:38,658]\u001b[0m Trial 140 finished with value: -0.005591504222474924 and parameters: {'kernel': 'rbf', 'C': 0.11027775526877309, 'gamma': 0.025290544121685382, 'epsilon': 0.0010114782869400834}. Best is trial 124 with value: -0.005527112298594051.\u001b[0m\n",
      "\u001b[32m[I 2022-08-05 12:22:43,582]\u001b[0m Trial 143 finished with value: -0.005587347964400347 and parameters: {'kernel': 'rbf', 'C': 0.0839699426359283, 'gamma': 0.014247544703022811, 'epsilon': 0.0010047005296349974}. Best is trial 124 with value: -0.005527112298594051.\u001b[0m\n",
      "\u001b[32m[I 2022-08-05 12:22:45,881]\u001b[0m Trial 146 finished with value: -0.005644104493706973 and parameters: {'kernel': 'rbf', 'C': 0.0865594514284673, 'gamma': 0.03172109432373851, 'epsilon': 0.00178099577126713}. Best is trial 124 with value: -0.005527112298594051.\u001b[0m\n",
      "\u001b[32m[I 2022-08-05 12:22:46,229]\u001b[0m Trial 144 finished with value: -0.005646307115468643 and parameters: {'kernel': 'rbf', 'C': 0.08506773224307093, 'gamma': 0.03199232213314295, 'epsilon': 0.0010051680242289345}. Best is trial 124 with value: -0.005527112298594051.\u001b[0m\n",
      "\u001b[32m[I 2022-08-05 12:22:46,338]\u001b[0m Trial 145 finished with value: -0.005556415252103172 and parameters: {'kernel': 'rbf', 'C': 0.08396906740708124, 'gamma': 0.01832709285456446, 'epsilon': 0.0010256484484123566}. Best is trial 124 with value: -0.005527112298594051.\u001b[0m\n",
      "\u001b[32m[I 2022-08-05 12:22:50,584]\u001b[0m Trial 147 finished with value: -0.005654729710106577 and parameters: {'kernel': 'rbf', 'C': 0.08626306664372563, 'gamma': 0.03270947625572598, 'epsilon': 0.0017507961421321888}. Best is trial 124 with value: -0.005527112298594051.\u001b[0m\n",
      "\u001b[32m[I 2022-08-05 12:22:54,145]\u001b[0m Trial 150 finished with value: -0.005531271065396083 and parameters: {'kernel': 'rbf', 'C': 0.12909083881944217, 'gamma': 0.015657785997469167, 'epsilon': 0.0012397807498579227}. Best is trial 124 with value: -0.005527112298594051.\u001b[0m\n",
      "\u001b[32m[I 2022-08-05 12:22:54,162]\u001b[0m Trial 149 finished with value: -0.005531039943722176 and parameters: {'kernel': 'rbf', 'C': 0.12968731091585242, 'gamma': 0.01869790074911003, 'epsilon': 0.0013259698479518565}. Best is trial 124 with value: -0.005527112298594051.\u001b[0m\n",
      "\u001b[32m[I 2022-08-05 12:22:54,163]\u001b[0m Trial 148 finished with value: -0.0055310957330499365 and parameters: {'kernel': 'rbf', 'C': 0.12901554561229298, 'gamma': 0.018744696759594927, 'epsilon': 0.001376355150043704}. Best is trial 124 with value: -0.005527112298594051.\u001b[0m\n",
      "\u001b[32m[I 2022-08-05 12:22:59,029]\u001b[0m Trial 151 finished with value: -0.005528925003548226 and parameters: {'kernel': 'rbf', 'C': 0.12203593711159931, 'gamma': 0.01640861862492812, 'epsilon': 0.0013335808684762375}. Best is trial 124 with value: -0.005527112298594051.\u001b[0m\n",
      "\u001b[32m[I 2022-08-05 12:23:02,112]\u001b[0m Trial 154 finished with value: -0.0055295804382635375 and parameters: {'kernel': 'rbf', 'C': 0.1297012281159007, 'gamma': 0.015934406828750986, 'epsilon': 0.0012540738753937508}. Best is trial 124 with value: -0.005527112298594051.\u001b[0m\n",
      "\u001b[32m[I 2022-08-05 12:23:02,238]\u001b[0m Trial 153 finished with value: -0.005531494098296234 and parameters: {'kernel': 'rbf', 'C': 0.12853932848915647, 'gamma': 0.01594669722244219, 'epsilon': 0.0012347668309379532}. Best is trial 124 with value: -0.005527112298594051.\u001b[0m\n",
      "\u001b[32m[I 2022-08-05 12:23:02,358]\u001b[0m Trial 152 finished with value: -0.0064371635651321035 and parameters: {'kernel': 'poly', 'C': 0.13229447509497408, 'gamma': 0.01695964783344617, 'epsilon': 0.0013281073456947925}. Best is trial 124 with value: -0.005527112298594051.\u001b[0m\n"
     ]
    },
    {
     "name": "stderr",
     "output_type": "stream",
     "text": [
      "\u001b[32m[I 2022-08-05 12:23:08,430]\u001b[0m Trial 155 finished with value: -0.0055296746161682874 and parameters: {'kernel': 'rbf', 'C': 0.13080571470227778, 'gamma': 0.015972242040895625, 'epsilon': 0.001276961787719391}. Best is trial 124 with value: -0.005527112298594051.\u001b[0m\n",
      "\u001b[32m[I 2022-08-05 12:23:09,669]\u001b[0m Trial 156 finished with value: -0.00643492139509797 and parameters: {'kernel': 'poly', 'C': 0.12764815567516888, 'gamma': 0.016041770766790083, 'epsilon': 0.0012831695984557511}. Best is trial 124 with value: -0.005527112298594051.\u001b[0m\n",
      "\u001b[32m[I 2022-08-05 12:23:09,934]\u001b[0m Trial 157 finished with value: -0.006444890437031019 and parameters: {'kernel': 'poly', 'C': 0.13060372111446417, 'gamma': 0.016262248081420273, 'epsilon': 0.0012592664806484642}. Best is trial 124 with value: -0.005527112298594051.\u001b[0m\n",
      "\u001b[32m[I 2022-08-05 12:23:11,403]\u001b[0m Trial 158 finished with value: -0.005546675260468519 and parameters: {'kernel': 'rbf', 'C': 0.1829485442311274, 'gamma': 0.016790157666593496, 'epsilon': 0.0011930852681991415}. Best is trial 124 with value: -0.005527112298594051.\u001b[0m\n",
      "\u001b[32m[I 2022-08-05 12:23:16,346]\u001b[0m Trial 159 finished with value: -0.005528595520923278 and parameters: {'kernel': 'rbf', 'C': 0.13730476867180355, 'gamma': 0.016166605751056343, 'epsilon': 0.0012629767158573051}. Best is trial 124 with value: -0.005527112298594051.\u001b[0m\n",
      "\u001b[32m[I 2022-08-05 12:23:19,386]\u001b[0m Trial 161 finished with value: -0.00553491087674228 and parameters: {'kernel': 'rbf', 'C': 0.19639420501197502, 'gamma': 0.013786255528400009, 'epsilon': 0.0015140522023962821}. Best is trial 124 with value: -0.005527112298594051.\u001b[0m\n",
      "\u001b[32m[I 2022-08-05 12:23:19,539]\u001b[0m Trial 160 finished with value: -0.005567754630145311 and parameters: {'kernel': 'rbf', 'C': 0.20087680760373855, 'gamma': 0.017911641878131837, 'epsilon': 0.0011924469026056077}. Best is trial 124 with value: -0.005527112298594051.\u001b[0m\n",
      "\u001b[32m[I 2022-08-05 12:23:19,789]\u001b[0m Trial 162 finished with value: -0.005533796328715831 and parameters: {'kernel': 'rbf', 'C': 0.15650292344385971, 'gamma': 0.01344659725831758, 'epsilon': 0.0015418617270372386}. Best is trial 124 with value: -0.005527112298594051.\u001b[0m\n",
      "\u001b[32m[I 2022-08-05 12:23:25,207]\u001b[0m Trial 163 finished with value: -0.005536101751816156 and parameters: {'kernel': 'rbf', 'C': 0.19751885346684633, 'gamma': 0.013533152320098135, 'epsilon': 0.0015082719289272776}. Best is trial 124 with value: -0.005527112298594051.\u001b[0m\n",
      "\u001b[32m[I 2022-08-05 12:23:26,755]\u001b[0m Trial 165 finished with value: -0.007461740665275911 and parameters: {'kernel': 'rbf', 'C': 0.1554478933235507, 'gamma': 0.8375307088914958, 'epsilon': 0.001407837758733425}. Best is trial 124 with value: -0.005527112298594051.\u001b[0m\n",
      "\u001b[32m[I 2022-08-05 12:23:26,900]\u001b[0m Trial 164 finished with value: -0.005536560263048268 and parameters: {'kernel': 'rbf', 'C': 0.14527515926704712, 'gamma': 0.013223420697181671, 'epsilon': 0.001449097139816924}. Best is trial 124 with value: -0.005527112298594051.\u001b[0m\n",
      "\u001b[32m[I 2022-08-05 12:23:27,312]\u001b[0m Trial 166 finished with value: -0.005532786022594341 and parameters: {'kernel': 'rbf', 'C': 0.1568602879481506, 'gamma': 0.013233864720461353, 'epsilon': 0.0015170199223095223}. Best is trial 124 with value: -0.005527112298594051.\u001b[0m\n",
      "\u001b[32m[I 2022-08-05 12:23:32,939]\u001b[0m Trial 169 finished with value: -0.005567438809155797 and parameters: {'kernel': 'rbf', 'C': 0.10023625007900423, 'gamma': 0.013528488987907896, 'epsilon': 0.0018835925829672074}. Best is trial 124 with value: -0.005527112298594051.\u001b[0m\n",
      "\u001b[32m[I 2022-08-05 12:23:33,314]\u001b[0m Trial 167 finished with value: -0.005531157586022393 and parameters: {'kernel': 'rbf', 'C': 0.16507274025587865, 'gamma': 0.013473267621053551, 'epsilon': 0.0014598706861614322}. Best is trial 124 with value: -0.005527112298594051.\u001b[0m\n",
      "\u001b[32m[I 2022-08-05 12:23:33,777]\u001b[0m Trial 168 finished with value: -0.005530118707694336 and parameters: {'kernel': 'rbf', 'C': 0.15749289732632687, 'gamma': 0.014166235030486333, 'epsilon': 0.001526051558163783}. Best is trial 124 with value: -0.005527112298594051.\u001b[0m\n",
      "\u001b[32m[I 2022-08-05 12:23:33,790]\u001b[0m Trial 170 finished with value: -0.005582505357013457 and parameters: {'kernel': 'rbf', 'C': 0.09803455979716146, 'gamma': 0.012853126233914873, 'epsilon': 0.00197758327237599}. Best is trial 124 with value: -0.005527112298594051.\u001b[0m\n",
      "\u001b[32m[I 2022-08-05 12:23:39,504]\u001b[0m Trial 171 finished with value: -0.00556610615669682 and parameters: {'kernel': 'rbf', 'C': 0.16365195497039364, 'gamma': 0.010480406750451312, 'epsilon': 0.0016033705418477227}. Best is trial 124 with value: -0.005527112298594051.\u001b[0m\n",
      "\u001b[32m[I 2022-08-05 12:23:40,063]\u001b[0m Trial 172 finished with value: -0.005579047088222125 and parameters: {'kernel': 'rbf', 'C': 0.1609360120714792, 'gamma': 0.00992721442131554, 'epsilon': 0.001340537331181935}. Best is trial 124 with value: -0.005527112298594051.\u001b[0m\n",
      "\u001b[32m[I 2022-08-05 12:23:41,684]\u001b[0m Trial 174 finished with value: -0.005567398446589871 and parameters: {'kernel': 'rbf', 'C': 0.16424724376569985, 'gamma': 0.010354633362738674, 'epsilon': 0.0013275711132143097}. Best is trial 124 with value: -0.005527112298594051.\u001b[0m\n",
      "\u001b[32m[I 2022-08-05 12:23:41,840]\u001b[0m Trial 173 finished with value: -0.005571556608601575 and parameters: {'kernel': 'rbf', 'C': 0.16397041449637595, 'gamma': 0.010267063493677234, 'epsilon': 0.0013368088941362885}. Best is trial 124 with value: -0.005527112298594051.\u001b[0m\n",
      "\u001b[32m[I 2022-08-05 12:23:46,831]\u001b[0m Trial 175 finished with value: -0.0069308923138441895 and parameters: {'kernel': 'rbf', 'C': 0.16984385170476934, 'gamma': 0.27629744980295323, 'epsilon': 0.0013658308740915723}. Best is trial 124 with value: -0.005527112298594051.\u001b[0m\n",
      "\u001b[32m[I 2022-08-05 12:23:48,706]\u001b[0m Trial 176 finished with value: -0.005540170639605587 and parameters: {'kernel': 'rbf', 'C': 0.190106560442417, 'gamma': 0.01587228596835666, 'epsilon': 0.0013483618176496136}. Best is trial 124 with value: -0.005527112298594051.\u001b[0m\n",
      "\u001b[32m[I 2022-08-05 12:23:50,797]\u001b[0m Trial 177 finished with value: -0.0055463892311895255 and parameters: {'kernel': 'rbf', 'C': 0.21662679916920935, 'gamma': 0.015182638085412883, 'epsilon': 0.0015581493848939396}. Best is trial 124 with value: -0.005527112298594051.\u001b[0m\n",
      "\u001b[32m[I 2022-08-05 12:23:50,797]\u001b[0m Trial 178 finished with value: -0.005535544913642629 and parameters: {'kernel': 'rbf', 'C': 0.19533297905445976, 'gamma': 0.015186686418361081, 'epsilon': 0.0015712925417070158}. Best is trial 124 with value: -0.005527112298594051.\u001b[0m\n",
      "\u001b[32m[I 2022-08-05 12:23:56,022]\u001b[0m Trial 180 finished with value: -0.005532108385867211 and parameters: {'kernel': 'rbf', 'C': 0.12718673756321613, 'gamma': 0.01460318380447959, 'epsilon': 0.001547661368198454}. Best is trial 124 with value: -0.005527112298594051.\u001b[0m\n",
      "\u001b[32m[I 2022-08-05 12:23:56,695]\u001b[0m Trial 179 finished with value: -0.005558945071138817 and parameters: {'kernel': 'rbf', 'C': 0.21255063287850723, 'gamma': 0.015253814311728134, 'epsilon': 0.0010032263107659324}. Best is trial 124 with value: -0.005527112298594051.\u001b[0m\n",
      "\u001b[32m[I 2022-08-05 12:23:57,770]\u001b[0m Trial 182 finished with value: -0.0055548264493009755 and parameters: {'kernel': 'rbf', 'C': 0.12866365552932374, 'gamma': 0.012695858965303633, 'epsilon': 0.0018680624100149835}. Best is trial 124 with value: -0.005527112298594051.\u001b[0m\n",
      "\u001b[32m[I 2022-08-05 12:23:57,864]\u001b[0m Trial 181 finished with value: -0.005552393476028039 and parameters: {'kernel': 'rbf', 'C': 0.12931205614076793, 'gamma': 0.012616417877654955, 'epsilon': 0.0017592114781290985}. Best is trial 124 with value: -0.005527112298594051.\u001b[0m\n",
      "\u001b[32m[I 2022-08-05 12:24:01,835]\u001b[0m Trial 183 finished with value: -0.0055558921557045515 and parameters: {'kernel': 'rbf', 'C': 0.1314958005200941, 'gamma': 0.01240917829614536, 'epsilon': 0.001865759715477499}. Best is trial 124 with value: -0.005527112298594051.\u001b[0m\n",
      "\u001b[32m[I 2022-08-05 12:24:02,820]\u001b[0m Trial 184 finished with value: -0.005555380254921026 and parameters: {'kernel': 'rbf', 'C': 0.1256924854231834, 'gamma': 0.012714819287096332, 'epsilon': 0.001859661696640109}. Best is trial 124 with value: -0.005527112298594051.\u001b[0m\n",
      "\u001b[32m[I 2022-08-05 12:24:04,756]\u001b[0m Trial 186 finished with value: -0.005534338569260573 and parameters: {'kernel': 'rbf', 'C': 0.09753960284007238, 'gamma': 0.017889572974760994, 'epsilon': 0.0015655116689339266}. Best is trial 124 with value: -0.005527112298594051.\u001b[0m\n"
     ]
    },
    {
     "name": "stderr",
     "output_type": "stream",
     "text": [
      "\u001b[32m[I 2022-08-05 12:24:04,787]\u001b[0m Trial 185 finished with value: -0.005593216332468046 and parameters: {'kernel': 'rbf', 'C': 0.14246070931772384, 'gamma': 0.022819836226539335, 'epsilon': 0.001851427911776672}. Best is trial 124 with value: -0.005527112298594051.\u001b[0m\n",
      "\u001b[32m[I 2022-08-05 12:24:10,209]\u001b[0m Trial 187 finished with value: -0.005551518377200834 and parameters: {'kernel': 'rbf', 'C': 0.09386824046887236, 'gamma': 0.02288938503024853, 'epsilon': 0.0012089482479097976}. Best is trial 124 with value: -0.005527112298594051.\u001b[0m\n",
      "\u001b[32m[I 2022-08-05 12:24:11,432]\u001b[0m Trial 188 finished with value: -0.005556416183243043 and parameters: {'kernel': 'rbf', 'C': 0.10141519112763148, 'gamma': 0.023045392990307473, 'epsilon': 0.001194517565331797}. Best is trial 124 with value: -0.005527112298594051.\u001b[0m\n",
      "\u001b[32m[I 2022-08-05 12:24:13,785]\u001b[0m Trial 190 finished with value: -0.005541734046226429 and parameters: {'kernel': 'rbf', 'C': 0.09985736557711702, 'gamma': 0.017389465318959473, 'epsilon': 0.001169734078187611}. Best is trial 124 with value: -0.005527112298594051.\u001b[0m\n",
      "\u001b[32m[I 2022-08-05 12:24:13,811]\u001b[0m Trial 189 finished with value: -0.0055499521613635566 and parameters: {'kernel': 'rbf', 'C': 0.09532687098933806, 'gamma': 0.02227351815335154, 'epsilon': 0.0011902773446167845}. Best is trial 124 with value: -0.005527112298594051.\u001b[0m\n",
      "\u001b[32m[I 2022-08-05 12:24:15,108]\u001b[0m Trial 191 finished with value: -0.005549745796524116 and parameters: {'kernel': 'rbf', 'C': 0.099435129378216, 'gamma': 0.018119118107446066, 'epsilon': 0.002231514489465149}. Best is trial 124 with value: -0.005527112298594051.\u001b[0m\n",
      "\u001b[32m[I 2022-08-05 12:24:16,570]\u001b[0m Trial 192 finished with value: -0.0055591227907912525 and parameters: {'kernel': 'rbf', 'C': 0.09721215304004342, 'gamma': 0.017782922995278706, 'epsilon': 0.0023286003482775423}. Best is trial 124 with value: -0.005527112298594051.\u001b[0m\n",
      "\u001b[32m[I 2022-08-05 12:24:22,233]\u001b[0m Trial 194 finished with value: -0.0055373242683929595 and parameters: {'kernel': 'rbf', 'C': 0.14944631544199802, 'gamma': 0.01821268576417074, 'epsilon': 0.0014944087196245774}. Best is trial 124 with value: -0.005527112298594051.\u001b[0m\n",
      "\u001b[32m[I 2022-08-05 12:24:22,434]\u001b[0m Trial 193 finished with value: -0.0055350673371818305 and parameters: {'kernel': 'rbf', 'C': 0.14782495057642714, 'gamma': 0.018209981938590813, 'epsilon': 0.0015332222275702548}. Best is trial 124 with value: -0.005527112298594051.\u001b[0m\n",
      "\u001b[32m[I 2022-08-05 12:24:23,363]\u001b[0m Trial 195 finished with value: -0.005529163461876926 and parameters: {'kernel': 'rbf', 'C': 0.15537350710996672, 'gamma': 0.014173945910234142, 'epsilon': 0.0015315685303288569}. Best is trial 124 with value: -0.005527112298594051.\u001b[0m\n",
      "\u001b[32m[I 2022-08-05 12:24:24,519]\u001b[0m Trial 196 finished with value: -0.005527859356400085 and parameters: {'kernel': 'rbf', 'C': 0.15154192686711285, 'gamma': 0.01498240279030017, 'epsilon': 0.00152158009229115}. Best is trial 124 with value: -0.005527112298594051.\u001b[0m\n",
      "\u001b[32m[I 2022-08-05 12:24:29,966]\u001b[0m Trial 197 finished with value: -0.005531180459401986 and parameters: {'kernel': 'rbf', 'C': 0.12022010105913897, 'gamma': 0.014610101426335577, 'epsilon': 0.001483716085980152}. Best is trial 124 with value: -0.005527112298594051.\u001b[0m\n",
      "\u001b[32m[I 2022-08-05 12:24:30,312]\u001b[0m Trial 198 finished with value: -0.005539092287799303 and parameters: {'kernel': 'rbf', 'C': 0.1191447794391938, 'gamma': 0.014222088673236799, 'epsilon': 0.0015679544519777778}. Best is trial 124 with value: -0.005527112298594051.\u001b[0m\n",
      "\u001b[32m[I 2022-08-05 12:24:31,315]\u001b[0m Trial 199 finished with value: -0.00553855740582459 and parameters: {'kernel': 'rbf', 'C': 0.11270010533554575, 'gamma': 0.014767587704757444, 'epsilon': 0.0016372530017152304}. Best is trial 124 with value: -0.005527112298594051.\u001b[0m\n",
      "\u001b[32m[I 2022-08-05 12:24:35,156]\u001b[0m Trial 200 finished with value: -0.00553879109102453 and parameters: {'kernel': 'rbf', 'C': 0.12023479334994312, 'gamma': 0.015471764534886728, 'epsilon': 0.0010043068476112962}. Best is trial 124 with value: -0.005527112298594051.\u001b[0m\n",
      "\u001b[32m[I 2022-08-05 12:24:36,778]\u001b[0m Trial 201 finished with value: -0.005533522065305712 and parameters: {'kernel': 'rbf', 'C': 0.1202047052445713, 'gamma': 0.015027609948178356, 'epsilon': 0.001695830706481902}. Best is trial 124 with value: -0.005527112298594051.\u001b[0m\n",
      "\u001b[32m[I 2022-08-05 12:24:39,765]\u001b[0m Trial 202 finished with value: -0.005557509243602294 and parameters: {'kernel': 'rbf', 'C': 0.176294252272324, 'gamma': 0.01156294485881674, 'epsilon': 0.0010057675762171626}. Best is trial 124 with value: -0.005527112298594051.\u001b[0m\n",
      "\u001b[32m[I 2022-08-05 12:24:41,770]\u001b[0m Trial 203 finished with value: -0.0055432616454074955 and parameters: {'kernel': 'rbf', 'C': 0.17627709161150737, 'gamma': 0.015539330058123716, 'epsilon': 0.0010215117006663835}. Best is trial 124 with value: -0.005527112298594051.\u001b[0m\n",
      "\u001b[32m[I 2022-08-05 12:24:44,249]\u001b[0m Trial 204 finished with value: -0.005553146309124269 and parameters: {'kernel': 'rbf', 'C': 0.1798900522713066, 'gamma': 0.011061007341818243, 'epsilon': 0.0013243097912803827}. Best is trial 124 with value: -0.005527112298594051.\u001b[0m\n",
      "\u001b[32m[I 2022-08-05 12:24:45,403]\u001b[0m Trial 205 finished with value: -0.005550504692592648 and parameters: {'kernel': 'rbf', 'C': 0.17090607991753684, 'gamma': 0.011580299692143001, 'epsilon': 0.0012979321681600624}. Best is trial 124 with value: -0.005527112298594051.\u001b[0m\n",
      "\u001b[32m[I 2022-08-05 12:24:47,930]\u001b[0m Trial 206 finished with value: -0.005554142739112036 and parameters: {'kernel': 'rbf', 'C': 0.14803961641195468, 'gamma': 0.011781023091761976, 'epsilon': 0.0013136522409219406}. Best is trial 124 with value: -0.005527112298594051.\u001b[0m\n",
      "\u001b[32m[I 2022-08-05 12:24:48,055]\u001b[0m Trial 209 finished with value: -0.018887696004410575 and parameters: {'kernel': 'rbf', 'C': 0.13469886438074527, 'gamma': 0.0136361716519517, 'epsilon': 0.026449628890758806}. Best is trial 124 with value: -0.005527112298594051.\u001b[0m\n",
      "\u001b[32m[I 2022-08-05 12:24:49,109]\u001b[0m Trial 207 finished with value: -0.005564678514336617 and parameters: {'kernel': 'rbf', 'C': 0.137199008919225, 'gamma': 0.011348183028482114, 'epsilon': 0.0012828266418697181}. Best is trial 124 with value: -0.005527112298594051.\u001b[0m\n",
      "\u001b[32m[I 2022-08-05 12:24:49,774]\u001b[0m Trial 208 finished with value: -0.005542173788381122 and parameters: {'kernel': 'rbf', 'C': 0.139440910520171, 'gamma': 0.013639755318587214, 'epsilon': 0.001984146352796294}. Best is trial 124 with value: -0.005527112298594051.\u001b[0m\n",
      "\u001b[32m[I 2022-08-05 12:24:53,990]\u001b[0m Trial 210 finished with value: -0.005547691298450604 and parameters: {'kernel': 'rbf', 'C': 0.13296642324178998, 'gamma': 0.013743290563307614, 'epsilon': 0.001991129826619588}. Best is trial 124 with value: -0.005527112298594051.\u001b[0m\n",
      "\u001b[32m[I 2022-08-05 12:24:54,900]\u001b[0m Trial 211 finished with value: -0.005554395516331825 and parameters: {'kernel': 'rbf', 'C': 0.13143245336484338, 'gamma': 0.020950281987115685, 'epsilon': 0.0017392875094613203}. Best is trial 124 with value: -0.005527112298594051.\u001b[0m\n",
      "\u001b[32m[I 2022-08-05 12:24:55,034]\u001b[0m Trial 212 finished with value: -0.005549158043041055 and parameters: {'kernel': 'rbf', 'C': 0.11886500276535253, 'gamma': 0.014255418134294382, 'epsilon': 0.0020445977474458587}. Best is trial 124 with value: -0.005527112298594051.\u001b[0m\n",
      "\u001b[32m[I 2022-08-05 12:24:56,133]\u001b[0m Trial 213 finished with value: -0.005542470159560166 and parameters: {'kernel': 'rbf', 'C': 0.11962718035206309, 'gamma': 0.020703214123813804, 'epsilon': 0.0016536177425203078}. Best is trial 124 with value: -0.005527112298594051.\u001b[0m\n",
      "\u001b[32m[I 2022-08-05 12:25:00,366]\u001b[0m Trial 214 finished with value: -0.005537254992473716 and parameters: {'kernel': 'rbf', 'C': 0.11692229422007983, 'gamma': 0.020170380553462833, 'epsilon': 0.0016103948517627558}. Best is trial 124 with value: -0.005527112298594051.\u001b[0m\n",
      "\u001b[32m[I 2022-08-05 12:25:01,837]\u001b[0m Trial 215 finished with value: -0.005533878697678449 and parameters: {'kernel': 'rbf', 'C': 0.10628219969704923, 'gamma': 0.016742521090508156, 'epsilon': 0.0015547617407033303}. Best is trial 124 with value: -0.005527112298594051.\u001b[0m\n",
      "\u001b[32m[I 2022-08-05 12:25:02,179]\u001b[0m Trial 216 finished with value: -0.0055267801867090625 and parameters: {'kernel': 'rbf', 'C': 0.1068285171577378, 'gamma': 0.01718482212102571, 'epsilon': 0.0015943880346984344}. Best is trial 216 with value: -0.0055267801867090625.\u001b[0m\n"
     ]
    },
    {
     "name": "stderr",
     "output_type": "stream",
     "text": [
      "\u001b[32m[I 2022-08-05 12:25:03,966]\u001b[0m Trial 217 finished with value: -0.005528169462241726 and parameters: {'kernel': 'rbf', 'C': 0.11132346864625649, 'gamma': 0.016509604606278813, 'epsilon': 0.0015088801089348774}. Best is trial 216 with value: -0.0055267801867090625.\u001b[0m\n",
      "\u001b[32m[I 2022-08-05 12:25:06,503]\u001b[0m Trial 218 finished with value: -0.005565238014596182 and parameters: {'kernel': 'rbf', 'C': 0.07616061531331686, 'gamma': 0.016484167710064886, 'epsilon': 0.0014496179767274457}. Best is trial 216 with value: -0.0055267801867090625.\u001b[0m\n",
      "\u001b[32m[I 2022-08-05 12:25:08,171]\u001b[0m Trial 219 finished with value: -0.005561017856356224 and parameters: {'kernel': 'rbf', 'C': 0.08101581032201578, 'gamma': 0.015892320894620834, 'epsilon': 0.0014363310332446008}. Best is trial 216 with value: -0.0055267801867090625.\u001b[0m\n",
      "\u001b[32m[I 2022-08-05 12:25:08,655]\u001b[0m Trial 220 finished with value: -0.005566291733790779 and parameters: {'kernel': 'rbf', 'C': 0.08104761150043154, 'gamma': 0.015545960617676227, 'epsilon': 0.0014113438739780377}. Best is trial 216 with value: -0.0055267801867090625.\u001b[0m\n",
      "\u001b[32m[I 2022-08-05 12:25:10,308]\u001b[0m Trial 221 finished with value: -0.005550462955728768 and parameters: {'kernel': 'rbf', 'C': 0.08686116112202073, 'gamma': 0.01636734741673609, 'epsilon': 0.0013941975824485555}. Best is trial 216 with value: -0.0055267801867090625.\u001b[0m\n",
      "\u001b[32m[I 2022-08-05 12:25:15,655]\u001b[0m Trial 222 finished with value: -0.00553600717030247 and parameters: {'kernel': 'rbf', 'C': 0.11240987470092988, 'gamma': 0.016121179536908937, 'epsilon': 0.0011352507779936701}. Best is trial 216 with value: -0.0055267801867090625.\u001b[0m\n",
      "\u001b[32m[I 2022-08-05 12:25:17,936]\u001b[0m Trial 223 finished with value: -0.005541150486865761 and parameters: {'kernel': 'rbf', 'C': 0.10626432096043914, 'gamma': 0.0161020008723831, 'epsilon': 0.0011343018115908634}. Best is trial 216 with value: -0.0055267801867090625.\u001b[0m\n",
      "\u001b[32m[I 2022-08-05 12:25:19,127]\u001b[0m Trial 224 finished with value: -0.005535377217080918 and parameters: {'kernel': 'rbf', 'C': 0.15588360460609696, 'gamma': 0.016635444360240895, 'epsilon': 0.0011500920022605016}. Best is trial 216 with value: -0.0055267801867090625.\u001b[0m\n",
      "\u001b[32m[I 2022-08-05 12:25:20,861]\u001b[0m Trial 225 finished with value: -0.00555384501697568 and parameters: {'kernel': 'rbf', 'C': 0.1566972442347598, 'gamma': 0.019000498327235816, 'epsilon': 0.0011547214374445023}. Best is trial 216 with value: -0.0055267801867090625.\u001b[0m\n",
      "\u001b[32m[I 2022-08-05 12:25:24,910]\u001b[0m Trial 226 finished with value: -0.005553030577301861 and parameters: {'kernel': 'rbf', 'C': 0.15080828246838726, 'gamma': 0.019634088963743038, 'epsilon': 0.0017620410468637733}. Best is trial 216 with value: -0.0055267801867090625.\u001b[0m\n",
      "\u001b[32m[I 2022-08-05 12:25:26,594]\u001b[0m Trial 227 finished with value: -0.005537361247296651 and parameters: {'kernel': 'rbf', 'C': 0.16015762693055569, 'gamma': 0.01325574360714552, 'epsilon': 0.001759119938827927}. Best is trial 216 with value: -0.0055267801867090625.\u001b[0m\n",
      "\u001b[32m[I 2022-08-05 12:25:27,625]\u001b[0m Trial 228 finished with value: -0.005548095935828329 and parameters: {'kernel': 'rbf', 'C': 0.1510462930548411, 'gamma': 0.019438992890587443, 'epsilon': 0.0016724796547060298}. Best is trial 216 with value: -0.0055267801867090625.\u001b[0m\n",
      "\u001b[32m[I 2022-08-05 12:25:28,250]\u001b[0m Trial 229 finished with value: -0.005540890697726874 and parameters: {'kernel': 'rbf', 'C': 0.14991310478531433, 'gamma': 0.01268349979995229, 'epsilon': 0.0017111968068596627}. Best is trial 216 with value: -0.0055267801867090625.\u001b[0m\n",
      "\u001b[32m[I 2022-08-05 12:25:30,608]\u001b[0m Trial 230 finished with value: -0.005562816398437908 and parameters: {'kernel': 'rbf', 'C': 0.108126675105562, 'gamma': 0.01288070502092132, 'epsilon': 0.0017338164404960667}. Best is trial 216 with value: -0.0055267801867090625.\u001b[0m\n",
      "\u001b[32m[I 2022-08-05 12:25:33,799]\u001b[0m Trial 232 finished with value: -0.0055608797615629415 and parameters: {'kernel': 'rbf', 'C': 0.1310305721895788, 'gamma': 0.012806793463970264, 'epsilon': 0.0021529838618580045}. Best is trial 216 with value: -0.0055267801867090625.\u001b[0m\n",
      "\u001b[32m[I 2022-08-05 12:25:34,095]\u001b[0m Trial 231 finished with value: -0.005605791824288744 and parameters: {'kernel': 'rbf', 'C': 0.12855986248498155, 'gamma': 0.025256567667757256, 'epsilon': 0.0014703241498455924}. Best is trial 216 with value: -0.0055267801867090625.\u001b[0m\n",
      "\u001b[32m[I 2022-08-05 12:25:34,220]\u001b[0m Trial 233 finished with value: -0.005552595162376422 and parameters: {'kernel': 'rbf', 'C': 0.1263343994938545, 'gamma': 0.014164371588670161, 'epsilon': 0.0022117255093522937}. Best is trial 216 with value: -0.0055267801867090625.\u001b[0m\n",
      "\u001b[32m[I 2022-08-05 12:25:38,256]\u001b[0m Trial 234 finished with value: -0.005536053994652902 and parameters: {'kernel': 'rbf', 'C': 0.12549883883922397, 'gamma': 0.01457099503731568, 'epsilon': 0.0014464957331867473}. Best is trial 216 with value: -0.0055267801867090625.\u001b[0m\n",
      "\u001b[32m[I 2022-08-05 12:25:40,694]\u001b[0m Trial 235 finished with value: -0.0055393088672138335 and parameters: {'kernel': 'rbf', 'C': 0.10535115386768125, 'gamma': 0.014758725004578456, 'epsilon': 0.0014760346553343265}. Best is trial 216 with value: -0.0055267801867090625.\u001b[0m\n",
      "\u001b[32m[I 2022-08-05 12:25:41,849]\u001b[0m Trial 236 finished with value: -0.005540069045074705 and parameters: {'kernel': 'rbf', 'C': 0.1155790498611441, 'gamma': 0.014633845622199508, 'epsilon': 0.0013003869295427077}. Best is trial 216 with value: -0.0055267801867090625.\u001b[0m\n",
      "\u001b[32m[I 2022-08-05 12:25:42,067]\u001b[0m Trial 237 finished with value: -0.005536480004418008 and parameters: {'kernel': 'rbf', 'C': 0.10313752210009969, 'gamma': 0.01736739208781078, 'epsilon': 0.0013354194298175642}. Best is trial 216 with value: -0.0055267801867090625.\u001b[0m\n",
      "\u001b[32m[I 2022-08-05 12:25:44,036]\u001b[0m Trial 241 finished with value: -0.045584497709053845 and parameters: {'kernel': 'rbf', 'C': 0.09471991563027579, 'gamma': 0.021115644400361323, 'epsilon': 0.2916347307304347}. Best is trial 216 with value: -0.0055267801867090625.\u001b[0m\n",
      "\u001b[32m[I 2022-08-05 12:25:46,165]\u001b[0m Trial 238 finished with value: -0.005538084337846245 and parameters: {'kernel': 'rbf', 'C': 0.1026314947891765, 'gamma': 0.017217124676694735, 'epsilon': 0.0012710826953580242}. Best is trial 216 with value: -0.0055267801867090625.\u001b[0m\n",
      "\u001b[32m[I 2022-08-05 12:25:47,775]\u001b[0m Trial 239 finished with value: -0.005537158375937509 and parameters: {'kernel': 'rbf', 'C': 0.10299933719998597, 'gamma': 0.01749975686092478, 'epsilon': 0.0012548204283624389}. Best is trial 216 with value: -0.0055267801867090625.\u001b[0m\n",
      "\u001b[32m[I 2022-08-05 12:25:48,877]\u001b[0m Trial 240 finished with value: -0.005535750078173446 and parameters: {'kernel': 'rbf', 'C': 0.10402964835710332, 'gamma': 0.016907360990002663, 'epsilon': 0.0012738132546727702}. Best is trial 216 with value: -0.0055267801867090625.\u001b[0m\n",
      "\u001b[32m[I 2022-08-05 12:25:50,926]\u001b[0m Trial 242 finished with value: -0.005527467921777021 and parameters: {'kernel': 'rbf', 'C': 0.10746882752231307, 'gamma': 0.01742005893569933, 'epsilon': 0.0015656276207395318}. Best is trial 216 with value: -0.0055267801867090625.\u001b[0m\n",
      "\u001b[32m[I 2022-08-05 12:25:54,520]\u001b[0m Trial 243 finished with value: -0.005567997167682841 and parameters: {'kernel': 'rbf', 'C': 0.18157745461377528, 'gamma': 0.009969960035299682, 'epsilon': 0.0015486330626118935}. Best is trial 216 with value: -0.0055267801867090625.\u001b[0m\n",
      "\u001b[32m[I 2022-08-05 12:25:55,910]\u001b[0m Trial 244 finished with value: -0.005526619401710006 and parameters: {'kernel': 'rbf', 'C': 0.12218663211923908, 'gamma': 0.01863545887114838, 'epsilon': 0.0015957755817199637}. Best is trial 244 with value: -0.005526619401710006.\u001b[0m\n",
      "\u001b[32m[I 2022-08-05 12:25:56,329]\u001b[0m Trial 245 finished with value: -0.005535116349754043 and parameters: {'kernel': 'rbf', 'C': 0.13440324435179585, 'gamma': 0.01911785723087089, 'epsilon': 0.0015555123352495978}. Best is trial 244 with value: -0.005526619401710006.\u001b[0m\n",
      "\u001b[32m[I 2022-08-05 12:25:57,860]\u001b[0m Trial 246 finished with value: -0.005548637664403472 and parameters: {'kernel': 'rbf', 'C': 0.1373953360768714, 'gamma': 0.020263818219741832, 'epsilon': 0.0016949569470409431}. Best is trial 244 with value: -0.005526619401710006.\u001b[0m\n",
      "\u001b[32m[I 2022-08-05 12:26:01,722]\u001b[0m Trial 247 finished with value: -0.00556796320919331 and parameters: {'kernel': 'rbf', 'C': 0.13579446156738315, 'gamma': 0.02146577277017089, 'epsilon': 0.0018509816773714502}. Best is trial 244 with value: -0.005526619401710006.\u001b[0m\n"
     ]
    },
    {
     "name": "stderr",
     "output_type": "stream",
     "text": [
      "\u001b[32m[I 2022-08-05 12:26:02,717]\u001b[0m Trial 248 finished with value: -0.005573039437849888 and parameters: {'kernel': 'rbf', 'C': 0.13476947360549651, 'gamma': 0.021982080333539586, 'epsilon': 0.0018749811028876313}. Best is trial 244 with value: -0.005526619401710006.\u001b[0m\n",
      "\u001b[32m[I 2022-08-05 12:26:03,685]\u001b[0m Trial 249 finished with value: -0.005561613498479415 and parameters: {'kernel': 'rbf', 'C': 0.12095130238655726, 'gamma': 0.021782600756878358, 'epsilon': 0.0018669683860229676}. Best is trial 244 with value: -0.005526619401710006.\u001b[0m\n",
      "\u001b[32m[I 2022-08-05 12:26:05,273]\u001b[0m Trial 250 finished with value: -0.0055801086296567385 and parameters: {'kernel': 'rbf', 'C': 0.1200022360230002, 'gamma': 0.023477439966400216, 'epsilon': 0.0019228442438682539}. Best is trial 244 with value: -0.005526619401710006.\u001b[0m\n",
      "\u001b[32m[I 2022-08-05 12:26:08,704]\u001b[0m Trial 251 finished with value: -0.005605931162250266 and parameters: {'kernel': 'rbf', 'C': 0.11942559538024589, 'gamma': 0.02529400483033669, 'epsilon': 0.0018723051914007443}. Best is trial 244 with value: -0.005526619401710006.\u001b[0m\n",
      "\u001b[32m[I 2022-08-05 12:26:09,966]\u001b[0m Trial 252 finished with value: -0.005563180363393442 and parameters: {'kernel': 'rbf', 'C': 0.09019095964764441, 'gamma': 0.01429816493317095, 'epsilon': 0.0014741977143594607}. Best is trial 244 with value: -0.005526619401710006.\u001b[0m\n",
      "\u001b[32m[I 2022-08-05 12:26:11,184]\u001b[0m Trial 253 finished with value: -0.005574523613145991 and parameters: {'kernel': 'rbf', 'C': 0.0897108397363261, 'gamma': 0.02617927078693535, 'epsilon': 0.0014480900491438506}. Best is trial 244 with value: -0.005526619401710006.\u001b[0m\n",
      "\u001b[32m[I 2022-08-05 12:26:15,860]\u001b[0m Trial 254 finished with value: -0.005540464296534168 and parameters: {'kernel': 'rbf', 'C': 0.17484164893201098, 'gamma': 0.014678480632250064, 'epsilon': 0.001006547183798006}. Best is trial 244 with value: -0.005526619401710006.\u001b[0m\n",
      "\u001b[32m[I 2022-08-05 12:26:16,546]\u001b[0m Trial 255 finished with value: -0.005556457671469253 and parameters: {'kernel': 'rbf', 'C': 0.08995557165734262, 'gamma': 0.014772728798534208, 'epsilon': 0.0014406784590034322}. Best is trial 244 with value: -0.005526619401710006.\u001b[0m\n",
      "\u001b[32m[I 2022-08-05 12:26:20,735]\u001b[0m Trial 256 finished with value: -0.0055605084740239195 and parameters: {'kernel': 'rbf', 'C': 0.16351493910532172, 'gamma': 0.011460500891773777, 'epsilon': 0.0010316598408499087}. Best is trial 244 with value: -0.005526619401710006.\u001b[0m\n",
      "\u001b[32m[I 2022-08-05 12:26:20,922]\u001b[0m Trial 257 finished with value: -0.00555728550690285 and parameters: {'kernel': 'rbf', 'C': 0.15161530113801874, 'gamma': 0.011595134548212996, 'epsilon': 0.0011395244612002586}. Best is trial 244 with value: -0.005526619401710006.\u001b[0m\n",
      "\u001b[32m[I 2022-08-05 12:26:24,710]\u001b[0m Trial 258 finished with value: -0.00555225801254183 and parameters: {'kernel': 'rbf', 'C': 0.15112428200656547, 'gamma': 0.012208453828973929, 'epsilon': 0.00114364043577031}. Best is trial 244 with value: -0.005526619401710006.\u001b[0m\n",
      "\u001b[32m[I 2022-08-05 12:26:25,404]\u001b[0m Trial 259 finished with value: -0.00554625046128391 and parameters: {'kernel': 'rbf', 'C': 0.15713400566135158, 'gamma': 0.01261263006880909, 'epsilon': 0.001177505571900865}. Best is trial 244 with value: -0.005526619401710006.\u001b[0m\n",
      "\u001b[32m[I 2022-08-05 12:26:31,627]\u001b[0m Trial 260 finished with value: -0.005538724032147104 and parameters: {'kernel': 'rbf', 'C': 0.15088018263752015, 'gamma': 0.017904101122420368, 'epsilon': 0.001196437204438617}. Best is trial 244 with value: -0.005526619401710006.\u001b[0m\n",
      "\u001b[32m[I 2022-08-05 12:26:32,220]\u001b[0m Trial 261 finished with value: -0.0055680114733707466 and parameters: {'kernel': 'rbf', 'C': 0.19626667251332328, 'gamma': 0.018350584466639827, 'epsilon': 0.0012625655100033002}. Best is trial 244 with value: -0.005526619401710006.\u001b[0m\n",
      "\u001b[32m[I 2022-08-05 12:26:34,506]\u001b[0m Trial 263 finished with value: -0.005577792476845504 and parameters: {'kernel': 'rbf', 'C': 0.21863450485738978, 'gamma': 0.01844699081438725, 'epsilon': 0.0016052347768394702}. Best is trial 244 with value: -0.005526619401710006.\u001b[0m\n",
      "\u001b[32m[I 2022-08-05 12:26:34,835]\u001b[0m Trial 262 finished with value: -0.005566830299403369 and parameters: {'kernel': 'rbf', 'C': 0.20381595045938306, 'gamma': 0.017780397166238967, 'epsilon': 0.0012797341391495426}. Best is trial 244 with value: -0.005526619401710006.\u001b[0m\n",
      "\u001b[32m[I 2022-08-05 12:26:40,700]\u001b[0m Trial 265 finished with value: -0.00552993941354651 and parameters: {'kernel': 'rbf', 'C': 0.11440430812932526, 'gamma': 0.016076799263644047, 'epsilon': 0.0015332036904957616}. Best is trial 244 with value: -0.005526619401710006.\u001b[0m\n",
      "\u001b[32m[I 2022-08-05 12:26:41,275]\u001b[0m Trial 264 finished with value: -0.005575760487479222 and parameters: {'kernel': 'rbf', 'C': 0.21423951193962168, 'gamma': 0.01831459662354075, 'epsilon': 0.0015592118152680675}. Best is trial 244 with value: -0.005526619401710006.\u001b[0m\n",
      "\u001b[32m[I 2022-08-05 12:26:42,228]\u001b[0m Trial 266 finished with value: -0.005534211938659069 and parameters: {'kernel': 'rbf', 'C': 0.11230533813629015, 'gamma': 0.015674547444502293, 'epsilon': 0.0016179261764080318}. Best is trial 244 with value: -0.005526619401710006.\u001b[0m\n",
      "\u001b[32m[I 2022-08-05 12:26:42,368]\u001b[0m Trial 267 finished with value: -0.006433178149223766 and parameters: {'kernel': 'poly', 'C': 0.11253272126833197, 'gamma': 0.01570386077860732, 'epsilon': 0.0016245342480673494}. Best is trial 244 with value: -0.005526619401710006.\u001b[0m\n",
      "\u001b[32m[I 2022-08-05 12:26:45,555]\u001b[0m Trial 268 finished with value: -0.005550941919341762 and parameters: {'kernel': 'rbf', 'C': 0.11404138604225751, 'gamma': 0.016256576191246774, 'epsilon': 0.0023622724272043347}. Best is trial 244 with value: -0.005526619401710006.\u001b[0m\n",
      "\u001b[32m[I 2022-08-05 12:26:46,334]\u001b[0m Trial 269 finished with value: -0.005545574017534481 and parameters: {'kernel': 'rbf', 'C': 0.11454564222008445, 'gamma': 0.015901982022213237, 'epsilon': 0.002152574095050776}. Best is trial 244 with value: -0.005526619401710006.\u001b[0m\n",
      "\u001b[32m[I 2022-08-05 12:26:48,739]\u001b[0m Trial 270 finished with value: -0.0063786857091825125 and parameters: {'kernel': 'poly', 'C': 0.114982307841333, 'gamma': 0.015425412587023048, 'epsilon': 0.002205645213645955}. Best is trial 244 with value: -0.005526619401710006.\u001b[0m\n",
      "\u001b[32m[I 2022-08-05 12:26:48,739]\u001b[0m Trial 271 finished with value: -0.005594688480752951 and parameters: {'kernel': 'rbf', 'C': 0.07316556516008249, 'gamma': 0.015721706763850846, 'epsilon': 0.002154087008650666}. Best is trial 244 with value: -0.005526619401710006.\u001b[0m\n",
      "\u001b[32m[I 2022-08-05 12:26:51,872]\u001b[0m Trial 272 finished with value: -0.0055542425189055635 and parameters: {'kernel': 'rbf', 'C': 0.1254705272738297, 'gamma': 0.019924227736943204, 'epsilon': 0.002123338993531245}. Best is trial 244 with value: -0.005526619401710006.\u001b[0m\n",
      "\u001b[32m[I 2022-08-05 12:26:54,871]\u001b[0m Trial 273 finished with value: -0.005548038364538999 and parameters: {'kernel': 'rbf', 'C': 0.12579796988966402, 'gamma': 0.02086449277548251, 'epsilon': 0.001386463983151436}. Best is trial 244 with value: -0.005526619401710006.\u001b[0m\n",
      "\u001b[32m[I 2022-08-05 12:26:57,677]\u001b[0m Trial 275 finished with value: -0.005540342164987407 and parameters: {'kernel': 'rbf', 'C': 0.1305689092351706, 'gamma': 0.013266090528429256, 'epsilon': 0.0014353652498928756}. Best is trial 244 with value: -0.005526619401710006.\u001b[0m\n",
      "\u001b[32m[I 2022-08-05 12:26:58,301]\u001b[0m Trial 274 finished with value: -0.005559455060756331 and parameters: {'kernel': 'rbf', 'C': 0.13460199562036668, 'gamma': 0.021418295008339777, 'epsilon': 0.001357347224767568}. Best is trial 244 with value: -0.005526619401710006.\u001b[0m\n",
      "\u001b[32m[I 2022-08-05 12:26:59,660]\u001b[0m Trial 276 finished with value: -0.005576200533980751 and parameters: {'kernel': 'rbf', 'C': 0.08966327123143243, 'gamma': 0.013514591376129823, 'epsilon': 0.0013535075768018345}. Best is trial 244 with value: -0.005526619401710006.\u001b[0m\n",
      "\u001b[32m[I 2022-08-05 12:27:02,221]\u001b[0m Trial 277 finished with value: -0.005575920718623318 and parameters: {'kernel': 'rbf', 'C': 0.09183406386804675, 'gamma': 0.01347392578935109, 'epsilon': 0.0013542867300827869}. Best is trial 244 with value: -0.005526619401710006.\u001b[0m\n",
      "\u001b[32m[I 2022-08-05 12:27:04,984]\u001b[0m Trial 279 finished with value: -0.005555287986642308 and parameters: {'kernel': 'rbf', 'C': 0.10153248944649566, 'gamma': 0.014155774626285778, 'epsilon': 0.0017712973077752825}. Best is trial 244 with value: -0.005526619401710006.\u001b[0m\n"
     ]
    },
    {
     "name": "stderr",
     "output_type": "stream",
     "text": [
      "\u001b[32m[I 2022-08-05 12:27:05,005]\u001b[0m Trial 278 finished with value: -0.005574310569240999 and parameters: {'kernel': 'rbf', 'C': 0.09172982589397373, 'gamma': 0.013569349909014781, 'epsilon': 0.0013511610614189767}. Best is trial 244 with value: -0.005526619401710006.\u001b[0m\n",
      "\u001b[32m[I 2022-08-05 12:27:06,159]\u001b[0m Trial 280 finished with value: -0.0055325059031609185 and parameters: {'kernel': 'rbf', 'C': 0.1012732244097324, 'gamma': 0.01826177478723801, 'epsilon': 0.001729995959833174}. Best is trial 244 with value: -0.005526619401710006.\u001b[0m\n",
      "\u001b[32m[I 2022-08-05 12:27:09,371]\u001b[0m Trial 281 finished with value: -0.005581177750268619 and parameters: {'kernel': 'rbf', 'C': 0.17540674751548457, 'gamma': 0.00967514737512218, 'epsilon': 0.0017565813657469424}. Best is trial 244 with value: -0.005526619401710006.\u001b[0m\n",
      "\u001b[32m[I 2022-08-05 12:27:13,289]\u001b[0m Trial 282 finished with value: -0.0055928547812698305 and parameters: {'kernel': 'rbf', 'C': 0.14283895464837204, 'gamma': 0.010153005359913175, 'epsilon': 0.0010978521034535396}. Best is trial 244 with value: -0.005526619401710006.\u001b[0m\n",
      "\u001b[32m[I 2022-08-05 12:27:13,908]\u001b[0m Trial 283 finished with value: -0.005569120385137141 and parameters: {'kernel': 'rbf', 'C': 0.17149946581658565, 'gamma': 0.010722177523786548, 'epsilon': 0.0010344095011616456}. Best is trial 244 with value: -0.005526619401710006.\u001b[0m\n",
      "\u001b[32m[I 2022-08-05 12:27:14,388]\u001b[0m Trial 284 finished with value: -0.005567719559164647 and parameters: {'kernel': 'rbf', 'C': 0.07956197355301207, 'gamma': 0.023881828158235117, 'epsilon': 0.0010712929364690537}. Best is trial 244 with value: -0.005526619401710006.\u001b[0m\n",
      "\u001b[32m[I 2022-08-05 12:27:18,547]\u001b[0m Trial 285 finished with value: -0.005558928401688284 and parameters: {'kernel': 'rbf', 'C': 0.07940877445409406, 'gamma': 0.019253133253045937, 'epsilon': 0.0010051046215989428}. Best is trial 244 with value: -0.005526619401710006.\u001b[0m\n",
      "\u001b[32m[I 2022-08-05 12:27:20,076]\u001b[0m Trial 286 finished with value: -0.005564264434622503 and parameters: {'kernel': 'rbf', 'C': 0.10730839741930348, 'gamma': 0.023785398495208433, 'epsilon': 0.001583678944497168}. Best is trial 244 with value: -0.005526619401710006.\u001b[0m\n",
      "\u001b[32m[I 2022-08-05 12:27:20,361]\u001b[0m Trial 287 finished with value: -0.005566915961757231 and parameters: {'kernel': 'rbf', 'C': 0.0805352159070153, 'gamma': 0.024609190327152787, 'epsilon': 0.0015713245898546502}. Best is trial 244 with value: -0.005526619401710006.\u001b[0m\n",
      "\u001b[32m[I 2022-08-05 12:27:21,200]\u001b[0m Trial 288 finished with value: -0.00552712330335865 and parameters: {'kernel': 'rbf', 'C': 0.10422010299586976, 'gamma': 0.0189142422236674, 'epsilon': 0.0015919218928665047}. Best is trial 244 with value: -0.005526619401710006.\u001b[0m\n",
      "\u001b[32m[I 2022-08-05 12:27:24,363]\u001b[0m Trial 289 finished with value: -0.005535902478683457 and parameters: {'kernel': 'rbf', 'C': 0.10345757907244148, 'gamma': 0.017569172504233777, 'epsilon': 0.0019323839204269109}. Best is trial 244 with value: -0.005526619401710006.\u001b[0m\n",
      "\u001b[32m[I 2022-08-05 12:27:26,025]\u001b[0m Trial 291 finished with value: -0.005536035628492561 and parameters: {'kernel': 'rbf', 'C': 0.10361601705722612, 'gamma': 0.0177267994649458, 'epsilon': 0.0019288062171310782}. Best is trial 244 with value: -0.005526619401710006.\u001b[0m\n",
      "\u001b[32m[I 2022-08-05 12:27:26,344]\u001b[0m Trial 290 finished with value: -0.005532474082795035 and parameters: {'kernel': 'rbf', 'C': 0.13955117433825998, 'gamma': 0.017441302850408246, 'epsilon': 0.001946773281768985}. Best is trial 244 with value: -0.005526619401710006.\u001b[0m\n",
      "\u001b[32m[I 2022-08-05 12:27:27,210]\u001b[0m Trial 292 finished with value: -0.005536467970879011 and parameters: {'kernel': 'rbf', 'C': 0.10218805069262017, 'gamma': 0.01802085794814203, 'epsilon': 0.0019257099058317096}. Best is trial 244 with value: -0.005526619401710006.\u001b[0m\n",
      "\u001b[32m[I 2022-08-05 12:27:31,788]\u001b[0m Trial 295 finished with value: -0.005573828534729795 and parameters: {'kernel': 'rbf', 'C': 0.09426721800003655, 'gamma': 0.020596048199694128, 'epsilon': 0.002540009617888179}. Best is trial 244 with value: -0.005526619401710006.\u001b[0m\n",
      "\u001b[32m[I 2022-08-05 12:27:32,744]\u001b[0m Trial 293 finished with value: -0.005625777306401869 and parameters: {'kernel': 'rbf', 'C': 0.10884272978541973, 'gamma': 0.028260555050481136, 'epsilon': 0.0011680751336421006}. Best is trial 244 with value: -0.005526619401710006.\u001b[0m\n",
      "\u001b[32m[I 2022-08-05 12:27:32,745]\u001b[0m Trial 296 finished with value: -0.005612331265445023 and parameters: {'kernel': 'rbf', 'C': 0.06490586846749918, 'gamma': 0.02115370963094484, 'epsilon': 0.002549746541954735}. Best is trial 244 with value: -0.005526619401710006.\u001b[0m\n",
      "\u001b[32m[I 2022-08-05 12:27:33,787]\u001b[0m Trial 294 finished with value: -0.0055511179291111296 and parameters: {'kernel': 'rbf', 'C': 0.1360517177401003, 'gamma': 0.02032961518129134, 'epsilon': 0.0012547976726937562}. Best is trial 244 with value: -0.005526619401710006.\u001b[0m\n",
      "\u001b[32m[I 2022-08-05 12:27:40,238]\u001b[0m Trial 297 finished with value: -0.005540303801072029 and parameters: {'kernel': 'rbf', 'C': 0.127617762374556, 'gamma': 0.019868795068575446, 'epsilon': 0.001235689042562854}. Best is trial 244 with value: -0.005526619401710006.\u001b[0m\n",
      "\u001b[32m[I 2022-08-05 12:27:40,972]\u001b[0m Trial 298 finished with value: -0.005531080453727595 and parameters: {'kernel': 'rbf', 'C': 0.13000094101395065, 'gamma': 0.01645560718526338, 'epsilon': 0.0012759600968451446}. Best is trial 244 with value: -0.005526619401710006.\u001b[0m\n",
      "\u001b[32m[I 2022-08-05 12:27:41,113]\u001b[0m Trial 299 finished with value: -0.005527610931702425 and parameters: {'kernel': 'rbf', 'C': 0.1297344550425646, 'gamma': 0.016754115294164682, 'epsilon': 0.0013025230943527267}. Best is trial 244 with value: -0.005526619401710006.\u001b[0m\n",
      "\u001b[32m[I 2022-08-05 12:27:41,812]\u001b[0m Trial 300 finished with value: -0.005526017559352592 and parameters: {'kernel': 'rbf', 'C': 0.12458928457052755, 'gamma': 0.016333577420910714, 'epsilon': 0.001401466941920454}. Best is trial 300 with value: -0.005526017559352592.\u001b[0m\n",
      "\u001b[32m[I 2022-08-05 12:27:45,743]\u001b[0m Trial 304 finished with value: -0.007054595914037734 and parameters: {'kernel': 'rbf', 'C': 0.12076246998420001, 'gamma': 0.016031775981442335, 'epsilon': 0.008705970070056846}. Best is trial 300 with value: -0.005526017559352592.\u001b[0m\n",
      "\u001b[32m[I 2022-08-05 12:27:47,286]\u001b[0m Trial 301 finished with value: -0.005524833675586958 and parameters: {'kernel': 'rbf', 'C': 0.11979450314702125, 'gamma': 0.01661881248790016, 'epsilon': 0.0014564239253799162}. Best is trial 301 with value: -0.005524833675586958.\u001b[0m\n",
      "\u001b[32m[I 2022-08-05 12:27:47,773]\u001b[0m Trial 302 finished with value: -0.005525047686807159 and parameters: {'kernel': 'rbf', 'C': 0.14151572410432878, 'gamma': 0.01615903317329497, 'epsilon': 0.0014563899439110706}. Best is trial 301 with value: -0.005524833675586958.\u001b[0m\n",
      "\u001b[32m[I 2022-08-05 12:27:48,520]\u001b[0m Trial 303 finished with value: -0.00553837251411092 and parameters: {'kernel': 'rbf', 'C': 0.121999756174422, 'gamma': 0.015663673786826076, 'epsilon': 0.0010113988545017698}. Best is trial 301 with value: -0.005524833675586958.\u001b[0m\n",
      "\u001b[32m[I 2022-08-05 12:27:54,594]\u001b[0m Trial 305 finished with value: -0.005534596772381065 and parameters: {'kernel': 'rbf', 'C': 0.14165981963444368, 'gamma': 0.015907047076575368, 'epsilon': 0.001150246551063796}. Best is trial 301 with value: -0.005524833675586958.\u001b[0m\n",
      "\u001b[32m[I 2022-08-05 12:27:55,937]\u001b[0m Trial 307 finished with value: -0.005550303570232787 and parameters: {'kernel': 'rbf', 'C': 0.1470533703908366, 'gamma': 0.012059363837512563, 'epsilon': 0.0014033620908141886}. Best is trial 301 with value: -0.005524833675586958.\u001b[0m\n",
      "\u001b[32m[I 2022-08-05 12:27:56,752]\u001b[0m Trial 306 finished with value: -0.005534656224632382 and parameters: {'kernel': 'rbf', 'C': 0.14411284650761616, 'gamma': 0.016171311443133177, 'epsilon': 0.0010033963322455877}. Best is trial 301 with value: -0.005524833675586958.\u001b[0m\n",
      "\u001b[32m[I 2022-08-05 12:27:56,908]\u001b[0m Trial 308 finished with value: -0.005546977432276268 and parameters: {'kernel': 'rbf', 'C': 0.15524230410338097, 'gamma': 0.012139281996728576, 'epsilon': 0.0014236046014674114}. Best is trial 301 with value: -0.005524833675586958.\u001b[0m\n",
      "\u001b[32m[I 2022-08-05 12:28:02,866]\u001b[0m Trial 309 finished with value: -0.005542089296012723 and parameters: {'kernel': 'rbf', 'C': 0.16972652145994258, 'gamma': 0.01221828818778666, 'epsilon': 0.0014136876084622778}. Best is trial 301 with value: -0.005524833675586958.\u001b[0m\n"
     ]
    },
    {
     "name": "stderr",
     "output_type": "stream",
     "text": [
      "\u001b[32m[I 2022-08-05 12:28:04,082]\u001b[0m Trial 310 finished with value: -0.0056193092728737655 and parameters: {'kernel': 'rbf', 'C': 0.18087605878070834, 'gamma': 0.022799694430354754, 'epsilon': 0.0014284917524581616}. Best is trial 301 with value: -0.005524833675586958.\u001b[0m\n",
      "\u001b[32m[I 2022-08-05 12:28:04,649]\u001b[0m Trial 312 finished with value: -0.005551816428902849 and parameters: {'kernel': 'rbf', 'C': 0.08965818315720059, 'gamma': 0.023368835047721567, 'epsilon': 0.0014392162259363977}. Best is trial 301 with value: -0.005524833675586958.\u001b[0m\n",
      "\u001b[32m[I 2022-08-05 12:28:05,536]\u001b[0m Trial 311 finished with value: -0.005694335183007131 and parameters: {'kernel': 'rbf', 'C': 0.17787386967685623, 'gamma': 0.02760859045180498, 'epsilon': 0.001407423821327876}. Best is trial 301 with value: -0.005524833675586958.\u001b[0m\n",
      "\u001b[32m[I 2022-08-05 12:28:09,688]\u001b[0m Trial 313 finished with value: -0.005554299005831942 and parameters: {'kernel': 'rbf', 'C': 0.08865492581469624, 'gamma': 0.023551938138265407, 'epsilon': 0.0016008775471496206}. Best is trial 301 with value: -0.005524833675586958.\u001b[0m\n",
      "\u001b[32m[I 2022-08-05 12:28:11,762]\u001b[0m Trial 315 finished with value: -0.005640263670336789 and parameters: {'kernel': 'rbf', 'C': 0.11224703206211965, 'gamma': 0.028941769294396923, 'epsilon': 0.0016976423843810446}. Best is trial 301 with value: -0.005524833675586958.\u001b[0m\n",
      "\u001b[32m[I 2022-08-05 12:28:13,837]\u001b[0m Trial 316 finished with value: -0.005533458502499212 and parameters: {'kernel': 'rbf', 'C': 0.11307830205250752, 'gamma': 0.018977229006037485, 'epsilon': 0.00122729702120039}. Best is trial 301 with value: -0.005524833675586958.\u001b[0m\n",
      "\u001b[32m[I 2022-08-05 12:28:19,312]\u001b[0m Trial 317 finished with value: -0.005532430225398061 and parameters: {'kernel': 'rbf', 'C': 0.11545289594911319, 'gamma': 0.018960413206058516, 'epsilon': 0.0011928438253916826}. Best is trial 301 with value: -0.005524833675586958.\u001b[0m\n",
      "\u001b[32m[I 2022-08-05 12:28:21,251]\u001b[0m Trial 318 finished with value: -0.005534635391375786 and parameters: {'kernel': 'rbf', 'C': 0.11094832676580282, 'gamma': 0.01923615396380261, 'epsilon': 0.0012582279197081575}. Best is trial 301 with value: -0.005524833675586958.\u001b[0m\n",
      "\u001b[32m[I 2022-08-05 12:28:22,787]\u001b[0m Trial 319 finished with value: -0.005545736020775582 and parameters: {'kernel': 'rbf', 'C': 0.11908080476673497, 'gamma': 0.013990829012562482, 'epsilon': 0.001189800022125931}. Best is trial 301 with value: -0.005524833675586958.\u001b[0m\n",
      "\u001b[32m[I 2022-08-05 12:28:26,040]\u001b[0m Trial 320 finished with value: -0.005602637397342617 and parameters: {'kernel': 'rbf', 'C': 0.07227829617230616, 'gamma': 0.014262288885289834, 'epsilon': 0.0016460838551009217}. Best is trial 301 with value: -0.005524833675586958.\u001b[0m\n",
      "\u001b[32m[I 2022-08-05 12:28:27,700]\u001b[0m Trial 321 finished with value: -0.005602181572090188 and parameters: {'kernel': 'rbf', 'C': 0.06978514799415957, 'gamma': 0.014659762166438677, 'epsilon': 0.0017210916888129718}. Best is trial 301 with value: -0.005524833675586958.\u001b[0m\n",
      "\u001b[32m[I 2022-08-05 12:28:28,737]\u001b[0m Trial 323 finished with value: -0.010486121523848379 and parameters: {'kernel': 'poly', 'C': 0.13915084786088833, 'gamma': 0.0157441873065497, 'epsilon': 0.013300789508363537}. Best is trial 301 with value: -0.005524833675586958.\u001b[0m\n",
      "\u001b[32m[I 2022-08-05 12:28:28,940]\u001b[0m Trial 322 finished with value: -0.005574758715293345 and parameters: {'kernel': 'rbf', 'C': 0.07052986890253907, 'gamma': 0.016883292779504445, 'epsilon': 0.0016626891104376453}. Best is trial 301 with value: -0.005524833675586958.\u001b[0m\n",
      "\u001b[32m[I 2022-08-05 12:28:29,175]\u001b[0m Trial 324 finished with value: -0.04558449770905385 and parameters: {'kernel': 'poly', 'C': 0.09566492795450693, 'gamma': 0.0173298369546445, 'epsilon': 0.11296690443044467}. Best is trial 301 with value: -0.005524833675586958.\u001b[0m\n",
      "\u001b[32m[I 2022-08-05 12:28:31,640]\u001b[0m Trial 327 finished with value: -0.033617420640598764 and parameters: {'kernel': 'rbf', 'C': 0.12908929253027923, 'gamma': 0.020963014164428882, 'epsilon': 0.03924041440074502}. Best is trial 301 with value: -0.005524833675586958.\u001b[0m\n",
      "\u001b[32m[I 2022-08-05 12:28:36,433]\u001b[0m Trial 326 finished with value: -0.0055404069067519855 and parameters: {'kernel': 'rbf', 'C': 0.0922884505564932, 'gamma': 0.02069304632492481, 'epsilon': 0.0013436006288993082}. Best is trial 301 with value: -0.005524833675586958.\u001b[0m\n",
      "\u001b[32m[I 2022-08-05 12:28:47,758]\u001b[0m Trial 329 finished with value: -0.005546799274472171 and parameters: {'kernel': 'rbf', 'C': 0.15841526072918474, 'gamma': 0.01283596683342578, 'epsilon': 0.0010111960905791364}. Best is trial 301 with value: -0.005524833675586958.\u001b[0m\n",
      "\u001b[32m[I 2022-08-05 12:28:48,581]\u001b[0m Trial 314 finished with value: -0.00702404287652503 and parameters: {'kernel': 'rbf', 'C': 6.035848843446795, 'gamma': 0.027084700046960973, 'epsilon': 0.0016095513991620045}. Best is trial 301 with value: -0.005524833675586958.\u001b[0m\n",
      "\u001b[32m[I 2022-08-05 12:28:58,018]\u001b[0m Trial 331 finished with value: -0.0055271985613728454 and parameters: {'kernel': 'rbf', 'C': 0.10729085719940207, 'gamma': 0.017289224965931528, 'epsilon': 0.0015042777405336414}. Best is trial 301 with value: -0.005524833675586958.\u001b[0m\n",
      "\u001b[32m[I 2022-08-05 12:29:08,506]\u001b[0m Trial 332 finished with value: -0.0055363823724928945 and parameters: {'kernel': 'rbf', 'C': 0.10106348705656168, 'gamma': 0.017824134044171665, 'epsilon': 0.0012963666501866608}. Best is trial 301 with value: -0.005524833675586958.\u001b[0m\n",
      "\u001b[32m[I 2022-08-05 12:29:17,919]\u001b[0m Trial 325 finished with value: -0.006511028138824177 and parameters: {'kernel': 'rbf', 'C': 5.395120443885466, 'gamma': 0.017506887895768087, 'epsilon': 0.0015456615582770117}. Best is trial 301 with value: -0.005524833675586958.\u001b[0m\n",
      "\u001b[32m[I 2022-08-05 12:29:18,090]\u001b[0m Trial 333 finished with value: -0.005540546046056302 and parameters: {'kernel': 'rbf', 'C': 0.10262283958082427, 'gamma': 0.01703099177165975, 'epsilon': 0.0011438730832926294}. Best is trial 301 with value: -0.005524833675586958.\u001b[0m\n",
      "\u001b[32m[I 2022-08-05 12:29:25,136]\u001b[0m Trial 334 finished with value: -0.005556466225297751 and parameters: {'kernel': 'rbf', 'C': 0.08238282865582608, 'gamma': 0.020181585584585996, 'epsilon': 0.00196378496774946}. Best is trial 301 with value: -0.005524833675586958.\u001b[0m\n",
      "\u001b[32m[I 2022-08-05 12:29:25,807]\u001b[0m Trial 335 finished with value: -0.00557035858742005 and parameters: {'kernel': 'rbf', 'C': 0.13766363015508953, 'gamma': 0.02130003167214435, 'epsilon': 0.0019726489982328462}. Best is trial 301 with value: -0.005524833675586958.\u001b[0m\n",
      "\u001b[32m[I 2022-08-05 12:29:28,273]\u001b[0m Trial 328 finished with value: -0.006420235894701785 and parameters: {'kernel': 'rbf', 'C': 5.619050592067058, 'gamma': 0.012868203874050839, 'epsilon': 0.0013424528282088635}. Best is trial 301 with value: -0.005524833675586958.\u001b[0m\n",
      "\u001b[32m[I 2022-08-05 12:29:33,870]\u001b[0m Trial 336 finished with value: -0.005535049499035719 and parameters: {'kernel': 'rbf', 'C': 0.133438363565547, 'gamma': 0.01405034288949226, 'epsilon': 0.0013908238002002579}. Best is trial 301 with value: -0.005524833675586958.\u001b[0m\n",
      "\u001b[32m[I 2022-08-05 12:29:34,741]\u001b[0m Trial 337 finished with value: -0.0055352451517247025 and parameters: {'kernel': 'rbf', 'C': 0.12590380484120176, 'gamma': 0.014704957888197425, 'epsilon': 0.001350323300806875}. Best is trial 301 with value: -0.005524833675586958.\u001b[0m\n",
      "\u001b[32m[I 2022-08-05 12:29:36,621]\u001b[0m Trial 340 finished with value: -0.045584497709053845 and parameters: {'kernel': 'rbf', 'C': 0.15600697547472459, 'gamma': 0.011212904845629408, 'epsilon': 0.856568487571749}. Best is trial 301 with value: -0.005524833675586958.\u001b[0m\n",
      "\u001b[32m[I 2022-08-05 12:29:37,575]\u001b[0m Trial 338 finished with value: -0.0055405823173628925 and parameters: {'kernel': 'rbf', 'C': 0.1256971199207834, 'gamma': 0.014494813265579845, 'epsilon': 0.0011022063122347915}. Best is trial 301 with value: -0.005524833675586958.\u001b[0m\n",
      "\u001b[32m[I 2022-08-05 12:29:39,115]\u001b[0m Trial 342 finished with value: -0.04558449770905385 and parameters: {'kernel': 'rbf', 'C': 0.10632497491211165, 'gamma': 0.01721894549472142, 'epsilon': 0.05096040564896451}. Best is trial 301 with value: -0.005524833675586958.\u001b[0m\n",
      "\u001b[32m[I 2022-08-05 12:29:40,769]\u001b[0m Trial 330 finished with value: -0.00660184700335438 and parameters: {'kernel': 'rbf', 'C': 6.595562961482195, 'gamma': 0.01733785264144446, 'epsilon': 0.001532349173543984}. Best is trial 301 with value: -0.005524833675586958.\u001b[0m\n"
     ]
    },
    {
     "name": "stderr",
     "output_type": "stream",
     "text": [
      "\u001b[32m[I 2022-08-05 12:29:41,373]\u001b[0m Trial 339 finished with value: -0.005566896335554422 and parameters: {'kernel': 'rbf', 'C': 0.1577454587777569, 'gamma': 0.010935613662486039, 'epsilon': 0.0011216932739980025}. Best is trial 301 with value: -0.005524833675586958.\u001b[0m\n",
      "\u001b[32m[I 2022-08-05 12:29:41,897]\u001b[0m Trial 341 finished with value: -0.005532543337142298 and parameters: {'kernel': 'rbf', 'C': 0.1061511362942421, 'gamma': 0.018994263997307106, 'epsilon': 0.0017734728568933084}. Best is trial 301 with value: -0.005524833675586958.\u001b[0m\n",
      "\u001b[32m[I 2022-08-05 12:29:46,879]\u001b[0m Trial 343 finished with value: -0.005634173296525346 and parameters: {'kernel': 'rbf', 'C': 0.18259507963920737, 'gamma': 0.023056269922170355, 'epsilon': 0.0017894738179124088}. Best is trial 301 with value: -0.005524833675586958.\u001b[0m\n",
      "\u001b[32m[I 2022-08-05 12:29:49,162]\u001b[0m Trial 344 finished with value: -0.005690884554017418 and parameters: {'kernel': 'rbf', 'C': 0.2479514729734314, 'gamma': 0.023217687789357615, 'epsilon': 0.0017934692459305938}. Best is trial 301 with value: -0.005524833675586958.\u001b[0m\n",
      "\u001b[32m[I 2022-08-05 12:29:49,428]\u001b[0m Trial 345 finished with value: -0.005659342382013026 and parameters: {'kernel': 'rbf', 'C': 0.19225020675263915, 'gamma': 0.02410767451436683, 'epsilon': 0.0017544014319660504}. Best is trial 301 with value: -0.005524833675586958.\u001b[0m\n",
      "\u001b[32m[I 2022-08-05 12:29:50,449]\u001b[0m Trial 346 finished with value: -0.005560575918659987 and parameters: {'kernel': 'rbf', 'C': 0.08633764617178459, 'gamma': 0.023131494322171167, 'epsilon': 0.0010061629624379482}. Best is trial 301 with value: -0.005524833675586958.\u001b[0m\n",
      "\u001b[32m[I 2022-08-05 12:29:53,384]\u001b[0m Trial 347 finished with value: -0.005545527581996546 and parameters: {'kernel': 'rbf', 'C': 0.08355066227468612, 'gamma': 0.01963124506550834, 'epsilon': 0.0015385523299404472}. Best is trial 301 with value: -0.005524833675586958.\u001b[0m\n",
      "\u001b[32m[I 2022-08-05 12:29:54,817]\u001b[0m Trial 348 finished with value: -0.005649403753756497 and parameters: {'kernel': 'rbf', 'C': 0.05292343505775996, 'gamma': 0.015935153389753896, 'epsilon': 0.0015095235809263973}. Best is trial 301 with value: -0.005524833675586958.\u001b[0m\n",
      "\u001b[32m[I 2022-08-05 12:29:55,844]\u001b[0m Trial 349 finished with value: -0.005559764487896479 and parameters: {'kernel': 'rbf', 'C': 0.08436952923588063, 'gamma': 0.015441646818600021, 'epsilon': 0.0015136722188102266}. Best is trial 301 with value: -0.005524833675586958.\u001b[0m\n",
      "\u001b[32m[I 2022-08-05 12:29:57,350]\u001b[0m Trial 350 finished with value: -0.005528688389827621 and parameters: {'kernel': 'rbf', 'C': 0.11618866537089229, 'gamma': 0.016152795300260564, 'epsilon': 0.0015355040330385819}. Best is trial 301 with value: -0.005524833675586958.\u001b[0m\n",
      "\u001b[32m[I 2022-08-05 12:30:01,040]\u001b[0m Trial 351 finished with value: -0.005532358580687165 and parameters: {'kernel': 'rbf', 'C': 0.1148343401525669, 'gamma': 0.016300547581372917, 'epsilon': 0.0012697597318781638}. Best is trial 301 with value: -0.005524833675586958.\u001b[0m\n",
      "\u001b[32m[I 2022-08-05 12:30:01,765]\u001b[0m Trial 353 finished with value: -0.005567003726073595 and parameters: {'kernel': 'rbf', 'C': 0.11530774418435605, 'gamma': 0.01318646416449837, 'epsilon': 0.0021467147339132167}. Best is trial 301 with value: -0.005524833675586958.\u001b[0m\n",
      "\u001b[32m[I 2022-08-05 12:30:02,450]\u001b[0m Trial 352 finished with value: -0.005533604193735814 and parameters: {'kernel': 'rbf', 'C': 0.11715117042699134, 'gamma': 0.01632173007540067, 'epsilon': 0.0012609948787115864}. Best is trial 301 with value: -0.005524833675586958.\u001b[0m\n",
      "\u001b[32m[I 2022-08-05 12:30:03,259]\u001b[0m Trial 354 finished with value: -0.005546113463321773 and parameters: {'kernel': 'rbf', 'C': 0.09826972107380572, 'gamma': 0.01958434060988191, 'epsilon': 0.0021162958258632977}. Best is trial 301 with value: -0.005524833675586958.\u001b[0m\n",
      "\u001b[32m[I 2022-08-05 12:30:05,903]\u001b[0m Trial 355 finished with value: -0.00555331884249311 and parameters: {'kernel': 'rbf', 'C': 0.09624355604788222, 'gamma': 0.019070891193953155, 'epsilon': 0.0022516673640852135}. Best is trial 301 with value: -0.005524833675586958.\u001b[0m\n",
      "\u001b[32m[I 2022-08-05 12:30:09,143]\u001b[0m Trial 356 finished with value: -0.005537825243553619 and parameters: {'kernel': 'rbf', 'C': 0.10269600981075483, 'gamma': 0.01930226707885126, 'epsilon': 0.001214095936564832}. Best is trial 301 with value: -0.005524833675586958.\u001b[0m\n",
      "\u001b[32m[I 2022-08-05 12:30:10,871]\u001b[0m Trial 357 finished with value: -0.005542420113417157 and parameters: {'kernel': 'rbf', 'C': 0.09649832866526896, 'gamma': 0.01943340433616163, 'epsilon': 0.0011051471529690037}. Best is trial 301 with value: -0.005524833675586958.\u001b[0m\n",
      "\u001b[32m[I 2022-08-05 12:30:12,369]\u001b[0m Trial 358 finished with value: -0.005536718120738766 and parameters: {'kernel': 'rbf', 'C': 0.13905280776357729, 'gamma': 0.01856424370766262, 'epsilon': 0.0011395581010903782}. Best is trial 301 with value: -0.005524833675586958.\u001b[0m\n",
      "\u001b[32m[I 2022-08-05 12:30:14,909]\u001b[0m Trial 359 finished with value: -0.005540289843334374 and parameters: {'kernel': 'rbf', 'C': 0.14053411580733027, 'gamma': 0.01882486871167516, 'epsilon': 0.0011637767360423669}. Best is trial 301 with value: -0.005524833675586958.\u001b[0m\n",
      "\u001b[32m[I 2022-08-05 12:30:18,522]\u001b[0m Trial 361 finished with value: -0.0055305841366813935 and parameters: {'kernel': 'rbf', 'C': 0.1403323968932604, 'gamma': 0.014684853456425983, 'epsilon': 0.0016498878331619672}. Best is trial 301 with value: -0.005524833675586958.\u001b[0m\n",
      "\u001b[32m[I 2022-08-05 12:30:19,216]\u001b[0m Trial 360 finished with value: -0.006348187343875225 and parameters: {'kernel': 'rbf', 'C': 0.14413848810564203, 'gamma': 0.12967953979651592, 'epsilon': 0.0010049542661405128}. Best is trial 301 with value: -0.005524833675586958.\u001b[0m\n",
      "\u001b[32m[I 2022-08-05 12:30:19,740]\u001b[0m Trial 362 finished with value: -0.005527729985381311 and parameters: {'kernel': 'rbf', 'C': 0.14206202860245212, 'gamma': 0.01483236464566473, 'epsilon': 0.0016566423055947572}. Best is trial 301 with value: -0.005524833675586958.\u001b[0m\n",
      "\u001b[32m[I 2022-08-05 12:30:21,839]\u001b[0m Trial 363 finished with value: -0.005536173852560748 and parameters: {'kernel': 'rbf', 'C': 0.12244667424490956, 'gamma': 0.014546505715769164, 'epsilon': 0.0016014026744785065}. Best is trial 301 with value: -0.005524833675586958.\u001b[0m\n",
      "\u001b[32m[I 2022-08-05 12:30:24,610]\u001b[0m Trial 364 finished with value: -0.005554024523768767 and parameters: {'kernel': 'rbf', 'C': 0.1474437099266524, 'gamma': 0.011856867338297186, 'epsilon': 0.0018350891730145803}. Best is trial 301 with value: -0.005524833675586958.\u001b[0m\n",
      "\u001b[32m[I 2022-08-05 12:30:25,221]\u001b[0m Trial 365 finished with value: -0.005567752895569049 and parameters: {'kernel': 'rbf', 'C': 0.1239008073542447, 'gamma': 0.012027223591879951, 'epsilon': 0.001863512177153133}. Best is trial 301 with value: -0.005524833675586958.\u001b[0m\n",
      "\u001b[32m[I 2022-08-05 12:30:26,135]\u001b[0m Trial 366 finished with value: -0.00554463793906526 and parameters: {'kernel': 'rbf', 'C': 0.16446280705867422, 'gamma': 0.012615016271954464, 'epsilon': 0.001904207782769323}. Best is trial 301 with value: -0.005524833675586958.\u001b[0m\n",
      "\u001b[32m[I 2022-08-05 12:30:28,472]\u001b[0m Trial 367 finished with value: -0.005548242017933156 and parameters: {'kernel': 'rbf', 'C': 0.15806566481200318, 'gamma': 0.012259140282795879, 'epsilon': 0.0018814324035499336}. Best is trial 301 with value: -0.005524833675586958.\u001b[0m\n",
      "\u001b[32m[I 2022-08-05 12:30:30,837]\u001b[0m Trial 369 finished with value: -0.005557966606251883 and parameters: {'kernel': 'rbf', 'C': 0.1653453201373173, 'gamma': 0.013700391129072302, 'epsilon': 0.0024663814268106894}. Best is trial 301 with value: -0.005524833675586958.\u001b[0m\n",
      "\u001b[32m[I 2022-08-05 12:30:30,908]\u001b[0m Trial 368 finished with value: -0.0055509348483084335 and parameters: {'kernel': 'rbf', 'C': 0.16072347159241918, 'gamma': 0.012232590357640022, 'epsilon': 0.0019661615879329425}. Best is trial 301 with value: -0.005524833675586958.\u001b[0m\n",
      "\u001b[32m[I 2022-08-05 12:30:32,646]\u001b[0m Trial 370 finished with value: -0.0055418455734957866 and parameters: {'kernel': 'rbf', 'C': 0.10852650764413126, 'gamma': 0.014472553297671298, 'epsilon': 0.0016230722097028622}. Best is trial 301 with value: -0.005524833675586958.\u001b[0m\n",
      "\u001b[32m[I 2022-08-05 12:30:33,223]\u001b[0m Trial 371 finished with value: -0.005659005604087294 and parameters: {'kernel': 'rbf', 'C': 0.11090382197413412, 'gamma': 0.00949925748944949, 'epsilon': 0.0024821980479598463}. Best is trial 301 with value: -0.005524833675586958.\u001b[0m\n"
     ]
    },
    {
     "name": "stderr",
     "output_type": "stream",
     "text": [
      "\u001b[32m[I 2022-08-05 12:30:38,900]\u001b[0m Trial 373 finished with value: -0.005617745603635315 and parameters: {'kernel': 'rbf', 'C': 0.11127848102280673, 'gamma': 0.009829432220911073, 'epsilon': 0.001614844138083541}. Best is trial 301 with value: -0.005524833675586958.\u001b[0m\n",
      "\u001b[32m[I 2022-08-05 12:30:39,024]\u001b[0m Trial 372 finished with value: -0.005536026473691695 and parameters: {'kernel': 'rbf', 'C': 0.10940008384481112, 'gamma': 0.014982051056630226, 'epsilon': 0.0016045556805898275}. Best is trial 301 with value: -0.005524833675586958.\u001b[0m\n",
      "\u001b[32m[I 2022-08-05 12:30:40,516]\u001b[0m Trial 374 finished with value: -0.005612122471325609 and parameters: {'kernel': 'rbf', 'C': 0.10836977303030974, 'gamma': 0.010225226057843694, 'epsilon': 0.0015376479848835404}. Best is trial 301 with value: -0.005524833675586958.\u001b[0m\n",
      "\u001b[32m[I 2022-08-05 12:30:41,684]\u001b[0m Trial 375 finished with value: -0.005541466777959412 and parameters: {'kernel': 'rbf', 'C': 0.09643178074154442, 'gamma': 0.016258727100569456, 'epsilon': 0.001503294674752671}. Best is trial 301 with value: -0.005524833675586958.\u001b[0m\n",
      "\u001b[32m[I 2022-08-05 12:30:45,850]\u001b[0m Trial 377 finished with value: -0.005542660136181015 and parameters: {'kernel': 'rbf', 'C': 0.09091658779553106, 'gamma': 0.016471138476713762, 'epsilon': 0.0013959627964382482}. Best is trial 301 with value: -0.005524833675586958.\u001b[0m\n",
      "\u001b[32m[I 2022-08-05 12:30:46,018]\u001b[0m Trial 376 finished with value: -0.005541026223784178 and parameters: {'kernel': 'rbf', 'C': 0.09404835299679666, 'gamma': 0.01617885842382036, 'epsilon': 0.0014340795422424942}. Best is trial 301 with value: -0.005524833675586958.\u001b[0m\n",
      "\u001b[32m[I 2022-08-05 12:30:48,078]\u001b[0m Trial 378 finished with value: -0.0055237918291690365 and parameters: {'kernel': 'rbf', 'C': 0.1358000788501073, 'gamma': 0.016407668970812025, 'epsilon': 0.001428719035961193}. Best is trial 378 with value: -0.0055237918291690365.\u001b[0m\n",
      "\u001b[32m[I 2022-08-05 12:30:51,115]\u001b[0m Trial 379 finished with value: -0.005551226642101546 and parameters: {'kernel': 'rbf', 'C': 0.19327451261421147, 'gamma': 0.016690490149489694, 'epsilon': 0.0013288470440695568}. Best is trial 378 with value: -0.0055237918291690365.\u001b[0m\n",
      "\u001b[32m[I 2022-08-05 12:30:53,128]\u001b[0m Trial 381 finished with value: -0.005540761645162758 and parameters: {'kernel': 'rbf', 'C': 0.13550345539247743, 'gamma': 0.013939697752152742, 'epsilon': 0.0017012543816296714}. Best is trial 378 with value: -0.0055237918291690365.\u001b[0m\n",
      "\u001b[32m[I 2022-08-05 12:30:54,128]\u001b[0m Trial 380 finished with value: -0.006354553920284798 and parameters: {'kernel': 'poly', 'C': 0.1330921453982212, 'gamma': 0.021819823028276068, 'epsilon': 0.002053918630323915}. Best is trial 378 with value: -0.0055237918291690365.\u001b[0m\n",
      "\u001b[32m[I 2022-08-05 12:30:54,925]\u001b[0m Trial 382 finished with value: -0.005544886617534277 and parameters: {'kernel': 'rbf', 'C': 0.20082187682934804, 'gamma': 0.013671952622263658, 'epsilon': 0.0021111773546120135}. Best is trial 378 with value: -0.0055237918291690365.\u001b[0m\n",
      "\u001b[32m[I 2022-08-05 12:30:57,400]\u001b[0m Trial 383 finished with value: -0.006436198713744328 and parameters: {'kernel': 'poly', 'C': 0.13882257497339864, 'gamma': 0.013389678974084466, 'epsilon': 0.0016914667539619406}. Best is trial 378 with value: -0.0055237918291690365.\u001b[0m\n",
      "\u001b[32m[I 2022-08-05 12:30:58,318]\u001b[0m Trial 384 finished with value: -0.0055611111561683175 and parameters: {'kernel': 'rbf', 'C': 0.07931106039517866, 'gamma': 0.021588259010924253, 'epsilon': 0.0021104185553280086}. Best is trial 378 with value: -0.0055237918291690365.\u001b[0m\n",
      "\u001b[32m[I 2022-08-05 12:31:01,168]\u001b[0m Trial 386 finished with value: -0.00558256685894515 and parameters: {'kernel': 'rbf', 'C': 0.07879178869034126, 'gamma': 0.014621539401822021, 'epsilon': 0.0017449738310194645}. Best is trial 378 with value: -0.0055237918291690365.\u001b[0m\n",
      "\u001b[32m[I 2022-08-05 12:31:01,615]\u001b[0m Trial 385 finished with value: -0.005541640475249614 and parameters: {'kernel': 'rbf', 'C': 0.21621888679548343, 'gamma': 0.014508456318937329, 'epsilon': 0.0017564925399316006}. Best is trial 378 with value: -0.0055237918291690365.\u001b[0m\n",
      "\u001b[32m[I 2022-08-05 12:31:05,397]\u001b[0m Trial 387 finished with value: -0.005609094395485662 and parameters: {'kernel': 'rbf', 'C': 0.12330852343666568, 'gamma': 0.025861127487607244, 'epsilon': 0.001410367637069827}. Best is trial 378 with value: -0.0055237918291690365.\u001b[0m\n",
      "\u001b[32m[I 2022-08-05 12:31:06,301]\u001b[0m Trial 388 finished with value: -0.005528387407067681 and parameters: {'kernel': 'rbf', 'C': 0.12187358473241341, 'gamma': 0.015895137881220534, 'epsilon': 0.001407809916240734}. Best is trial 378 with value: -0.0055237918291690365.\u001b[0m\n",
      "\u001b[32m[I 2022-08-05 12:31:08,283]\u001b[0m Trial 389 finished with value: -0.005577949426085362 and parameters: {'kernel': 'rbf', 'C': 0.12424469148430695, 'gamma': 0.011204890693643707, 'epsilon': 0.0014043866092949278}. Best is trial 378 with value: -0.0055237918291690365.\u001b[0m\n",
      "\u001b[32m[I 2022-08-05 12:31:09,575]\u001b[0m Trial 390 finished with value: -0.005607046060197811 and parameters: {'kernel': 'rbf', 'C': 0.12354877539481703, 'gamma': 0.02578677279951501, 'epsilon': 0.0013838629404548134}. Best is trial 378 with value: -0.0055237918291690365.\u001b[0m\n",
      "\u001b[32m[I 2022-08-05 12:31:13,840]\u001b[0m Trial 391 finished with value: -0.005532397231620598 and parameters: {'kernel': 'rbf', 'C': 0.1453780683701953, 'gamma': 0.017373630382425294, 'epsilon': 0.0013187474703219224}. Best is trial 378 with value: -0.0055237918291690365.\u001b[0m\n",
      "\u001b[32m[I 2022-08-05 12:31:15,032]\u001b[0m Trial 393 finished with value: -0.007074448918806999 and parameters: {'kernel': 'rbf', 'C': 0.05776573637675706, 'gamma': 0.4773127254908514, 'epsilon': 0.0012956899779501998}. Best is trial 378 with value: -0.0055237918291690365.\u001b[0m\n",
      "\u001b[32m[I 2022-08-05 12:31:15,265]\u001b[0m Trial 392 finished with value: -0.005534536082784934 and parameters: {'kernel': 'rbf', 'C': 0.11886035951262415, 'gamma': 0.01744288237261467, 'epsilon': 0.001001336909644297}. Best is trial 378 with value: -0.0055237918291690365.\u001b[0m\n",
      "\u001b[32m[I 2022-08-05 12:31:16,480]\u001b[0m Trial 396 finished with value: -0.012600650119286646 and parameters: {'kernel': 'rbf', 'C': 0.10163933641326388, 'gamma': 0.01782325463387363, 'epsilon': 0.018986248498094466}. Best is trial 378 with value: -0.0055237918291690365.\u001b[0m\n",
      "\u001b[32m[I 2022-08-05 12:31:16,869]\u001b[0m Trial 394 finished with value: -0.007234660142958696 and parameters: {'kernel': 'rbf', 'C': 0.10538923049670848, 'gamma': 0.5125702343413221, 'epsilon': 0.0012330270121125111}. Best is trial 378 with value: -0.0055237918291690365.\u001b[0m\n",
      "\u001b[32m[I 2022-08-05 12:31:21,064]\u001b[0m Trial 395 finished with value: -0.005541013782251555 and parameters: {'kernel': 'rbf', 'C': 0.09871067154934822, 'gamma': 0.020958589535588386, 'epsilon': 0.0012040775845755863}. Best is trial 378 with value: -0.0055237918291690365.\u001b[0m\n",
      "\u001b[32m[I 2022-08-05 12:31:23,428]\u001b[0m Trial 397 finished with value: -0.00554472680411113 and parameters: {'kernel': 'rbf', 'C': 0.0975246493477638, 'gamma': 0.021603958800649442, 'epsilon': 0.0011521886976036122}. Best is trial 378 with value: -0.0055237918291690365.\u001b[0m\n",
      "\u001b[32m[I 2022-08-05 12:31:24,632]\u001b[0m Trial 398 finished with value: -0.005544232873961428 and parameters: {'kernel': 'rbf', 'C': 0.0928982615714244, 'gamma': 0.02114683630702398, 'epsilon': 0.0011602006803926794}. Best is trial 378 with value: -0.0055237918291690365.\u001b[0m\n",
      "\u001b[32m[I 2022-08-05 12:31:25,081]\u001b[0m Trial 399 finished with value: -0.00563708964878334 and parameters: {'kernel': 'rbf', 'C': 0.085757686732358, 'gamma': 0.031324713161757, 'epsilon': 0.0011325667385800816}. Best is trial 378 with value: -0.0055237918291690365.\u001b[0m\n",
      "\u001b[32m[I 2022-08-05 12:31:27,367]\u001b[0m Trial 400 finished with value: -0.005552342997884941 and parameters: {'kernel': 'rbf', 'C': 0.08536424256763579, 'gamma': 0.015942849561549715, 'epsilon': 0.0015529167295100757}. Best is trial 378 with value: -0.0055237918291690365.\u001b[0m\n",
      "\u001b[32m[I 2022-08-05 12:31:29,970]\u001b[0m Trial 402 finished with value: -0.006190088753832381 and parameters: {'kernel': 'rbf', 'C': 0.012441352920388237, 'gamma': 0.03436496773245125, 'epsilon': 0.0015106484355191343}. Best is trial 378 with value: -0.0055237918291690365.\u001b[0m\n",
      "\u001b[32m[I 2022-08-05 12:31:31,226]\u001b[0m Trial 401 finished with value: -0.0058691167355247416 and parameters: {'kernel': 'rbf', 'C': 0.18118761955667134, 'gamma': 0.04686431370878606, 'epsilon': 0.0015254619702339451}. Best is trial 378 with value: -0.0055237918291690365.\u001b[0m\n"
     ]
    },
    {
     "name": "stderr",
     "output_type": "stream",
     "text": [
      "\u001b[32m[I 2022-08-05 12:31:33,002]\u001b[0m Trial 403 finished with value: -0.005528278942239922 and parameters: {'kernel': 'rbf', 'C': 0.16789875750587377, 'gamma': 0.015790084456151137, 'epsilon': 0.001509959170140271}. Best is trial 378 with value: -0.0055237918291690365.\u001b[0m\n",
      "\u001b[32m[I 2022-08-05 12:31:35,765]\u001b[0m Trial 404 finished with value: -0.005541768846841575 and parameters: {'kernel': 'rbf', 'C': 0.1700617738013338, 'gamma': 0.017687355724541803, 'epsilon': 0.001497571620624026}. Best is trial 378 with value: -0.0055237918291690365.\u001b[0m\n",
      "\u001b[32m[I 2022-08-05 12:31:40,609]\u001b[0m Trial 405 finished with value: -0.005562311792034093 and parameters: {'kernel': 'rbf', 'C': 0.17796733975786655, 'gamma': 0.017900591965626225, 'epsilon': 0.001000195465130559}. Best is trial 378 with value: -0.0055237918291690365.\u001b[0m\n",
      "\u001b[32m[I 2022-08-05 12:31:40,939]\u001b[0m Trial 407 finished with value: -0.005538578307302459 and parameters: {'kernel': 'rbf', 'C': 0.14971497420585905, 'gamma': 0.018326674805441517, 'epsilon': 0.0018105434010425472}. Best is trial 378 with value: -0.0055237918291690365.\u001b[0m\n",
      "\u001b[32m[I 2022-08-05 12:31:41,182]\u001b[0m Trial 406 finished with value: -0.005542658545690997 and parameters: {'kernel': 'rbf', 'C': 0.1523156327640063, 'gamma': 0.017854369032137767, 'epsilon': 0.0010093386771062446}. Best is trial 378 with value: -0.0055237918291690365.\u001b[0m\n",
      "\u001b[32m[I 2022-08-05 12:31:42,648]\u001b[0m Trial 408 finished with value: -0.0055351125941948956 and parameters: {'kernel': 'rbf', 'C': 0.11632261726070382, 'gamma': 0.019798146361047698, 'epsilon': 0.0018088197736162886}. Best is trial 378 with value: -0.0055237918291690365.\u001b[0m\n",
      "\u001b[32m[I 2022-08-05 12:31:46,131]\u001b[0m Trial 410 finished with value: -0.005551889161948518 and parameters: {'kernel': 'rbf', 'C': 0.12013197211185545, 'gamma': 0.015436624081510072, 'epsilon': 0.002315183360551504}. Best is trial 378 with value: -0.0055237918291690365.\u001b[0m\n",
      "\u001b[32m[I 2022-08-05 12:31:46,612]\u001b[0m Trial 409 finished with value: -0.005525716730958306 and parameters: {'kernel': 'rbf', 'C': 0.14173838218627002, 'gamma': 0.015574206704113204, 'epsilon': 0.0018576419209526051}. Best is trial 378 with value: -0.0055237918291690365.\u001b[0m\n",
      "\u001b[32m[I 2022-08-05 12:31:47,016]\u001b[0m Trial 411 finished with value: -0.005541382128858611 and parameters: {'kernel': 'rbf', 'C': 0.11340246382614831, 'gamma': 0.01558860090803823, 'epsilon': 0.0019924466184498726}. Best is trial 378 with value: -0.0055237918291690365.\u001b[0m\n",
      "\u001b[32m[I 2022-08-05 12:31:47,751]\u001b[0m Trial 412 finished with value: -0.006445125183173376 and parameters: {'kernel': 'rbf', 'C': 0.12519951996750756, 'gamma': 0.0012420112104356603, 'epsilon': 0.002006174961326541}. Best is trial 378 with value: -0.0055237918291690365.\u001b[0m\n",
      "\u001b[32m[I 2022-08-05 12:31:51,412]\u001b[0m Trial 414 finished with value: -0.0055699968382079456 and parameters: {'kernel': 'rbf', 'C': 0.13940559255131685, 'gamma': 0.01179587116492502, 'epsilon': 0.0021371242261184393}. Best is trial 378 with value: -0.0055237918291690365.\u001b[0m\n",
      "\u001b[32m[I 2022-08-05 12:31:53,036]\u001b[0m Trial 413 finished with value: -0.005542673597985679 and parameters: {'kernel': 'rbf', 'C': 0.1350834119579547, 'gamma': 0.01318748409473305, 'epsilon': 0.0013251154798032262}. Best is trial 378 with value: -0.0055237918291690365.\u001b[0m\n",
      "\u001b[32m[I 2022-08-05 12:31:54,606]\u001b[0m Trial 415 finished with value: -0.005555208885717899 and parameters: {'kernel': 'rbf', 'C': 0.13153994211682432, 'gamma': 0.0121193257199757, 'epsilon': 0.0013331818644835866}. Best is trial 378 with value: -0.0055237918291690365.\u001b[0m\n",
      "\u001b[32m[I 2022-08-05 12:31:55,797]\u001b[0m Trial 416 finished with value: -0.005541692843996631 and parameters: {'kernel': 'rbf', 'C': 0.14240768345070925, 'gamma': 0.013040597599698582, 'epsilon': 0.0013356538800387142}. Best is trial 378 with value: -0.0055237918291690365.\u001b[0m\n",
      "\u001b[32m[I 2022-08-05 12:31:57,997]\u001b[0m Trial 418 finished with value: -0.0055988515566166115 and parameters: {'kernel': 'rbf', 'C': 0.16529826935132855, 'gamma': 0.012972567619402502, 'epsilon': 0.002932753260175688}. Best is trial 378 with value: -0.0055237918291690365.\u001b[0m\n",
      "\u001b[32m[I 2022-08-05 12:31:59,088]\u001b[0m Trial 417 finished with value: -0.005545729736750555 and parameters: {'kernel': 'rbf', 'C': 0.1460725891999894, 'gamma': 0.012714779061716178, 'epsilon': 0.0013185002105746873}. Best is trial 378 with value: -0.0055237918291690365.\u001b[0m\n",
      "\u001b[32m[I 2022-08-05 12:32:02,008]\u001b[0m Trial 419 finished with value: -0.005594246379232166 and parameters: {'kernel': 'rbf', 'C': 0.15801531653978204, 'gamma': 0.022174742892542437, 'epsilon': 0.0017692693198877603}. Best is trial 378 with value: -0.0055237918291690365.\u001b[0m\n",
      "\u001b[32m[I 2022-08-05 12:32:04,305]\u001b[0m Trial 420 finished with value: -0.0056586247110452055 and parameters: {'kernel': 'rbf', 'C': 0.22615716208703324, 'gamma': 0.0223747299297303, 'epsilon': 0.001724228816315046}. Best is trial 378 with value: -0.0055237918291690365.\u001b[0m\n",
      "\u001b[32m[I 2022-08-05 12:32:05,934]\u001b[0m Trial 421 finished with value: -0.005617920220773899 and parameters: {'kernel': 'rbf', 'C': 0.1888930430388506, 'gamma': 0.021986130431335373, 'epsilon': 0.0017281562247249615}. Best is trial 378 with value: -0.0055237918291690365.\u001b[0m\n",
      "\u001b[32m[I 2022-08-05 12:32:08,021]\u001b[0m Trial 422 finished with value: -0.005679111524917436 and parameters: {'kernel': 'rbf', 'C': 0.2633335675906589, 'gamma': 0.021891769843156408, 'epsilon': 0.0017239186937518176}. Best is trial 378 with value: -0.0055237918291690365.\u001b[0m\n",
      "\u001b[32m[I 2022-08-05 12:32:08,183]\u001b[0m Trial 423 finished with value: -0.005594612425362462 and parameters: {'kernel': 'rbf', 'C': 0.07037233078711902, 'gamma': 0.015319806344947597, 'epsilon': 0.0016760286495197544}. Best is trial 378 with value: -0.0055237918291690365.\u001b[0m\n",
      "\u001b[32m[I 2022-08-05 12:32:10,476]\u001b[0m Trial 424 finished with value: -0.005539610222610551 and parameters: {'kernel': 'rbf', 'C': 0.10694188825354817, 'gamma': 0.015609436177686248, 'epsilon': 0.0016947867959825804}. Best is trial 378 with value: -0.0055237918291690365.\u001b[0m\n",
      "\u001b[32m[I 2022-08-05 12:32:11,741]\u001b[0m Trial 425 finished with value: -0.005580967296976233 and parameters: {'kernel': 'rbf', 'C': 0.07546788836776991, 'gamma': 0.015352219808212051, 'epsilon': 0.0015140495711641877}. Best is trial 378 with value: -0.0055237918291690365.\u001b[0m\n",
      "\u001b[32m[I 2022-08-05 12:32:12,794]\u001b[0m Trial 426 finished with value: -0.005604107866111965 and parameters: {'kernel': 'rbf', 'C': 0.07406800730872731, 'gamma': 0.015422580508713387, 'epsilon': 0.0023384851077922577}. Best is trial 378 with value: -0.0055237918291690365.\u001b[0m\n",
      "\u001b[32m[I 2022-08-05 12:32:13,294]\u001b[0m Trial 427 finished with value: -0.005557409203674734 and parameters: {'kernel': 'rbf', 'C': 0.10626733026187007, 'gamma': 0.015976412401745965, 'epsilon': 0.0023629202975687237}. Best is trial 378 with value: -0.0055237918291690365.\u001b[0m\n",
      "\u001b[32m[I 2022-08-05 12:32:15,376]\u001b[0m Trial 428 finished with value: -0.0055531059089669035 and parameters: {'kernel': 'rbf', 'C': 0.12511757908038365, 'gamma': 0.01824862358406043, 'epsilon': 0.0024053487747377946}. Best is trial 378 with value: -0.0055237918291690365.\u001b[0m\n",
      "\u001b[32m[I 2022-08-05 12:32:16,586]\u001b[0m Trial 429 finished with value: -0.005552705954221984 and parameters: {'kernel': 'rbf', 'C': 0.12254754728176208, 'gamma': 0.018641867153089436, 'epsilon': 0.0023533228243258894}. Best is trial 378 with value: -0.0055237918291690365.\u001b[0m\n",
      "\u001b[32m[I 2022-08-05 12:32:21,466]\u001b[0m Trial 430 finished with value: -0.005530889641224815 and parameters: {'kernel': 'rbf', 'C': 0.12042727495698176, 'gamma': 0.01782342097320291, 'epsilon': 0.0011426222195358292}. Best is trial 378 with value: -0.0055237918291690365.\u001b[0m\n",
      "\u001b[32m[I 2022-08-05 12:32:21,961]\u001b[0m Trial 431 finished with value: -0.005535653035892966 and parameters: {'kernel': 'rbf', 'C': 0.11881429735758137, 'gamma': 0.019051677519479428, 'epsilon': 0.0011604570555712136}. Best is trial 378 with value: -0.0055237918291690365.\u001b[0m\n",
      "\u001b[32m[I 2022-08-05 12:32:24,632]\u001b[0m Trial 432 finished with value: -0.005620525307506539 and parameters: {'kernel': 'rbf', 'C': 0.12483747034310891, 'gamma': 0.026522901105179214, 'epsilon': 0.0011048450134220672}. Best is trial 378 with value: -0.0055237918291690365.\u001b[0m\n"
     ]
    },
    {
     "name": "stderr",
     "output_type": "stream",
     "text": [
      "\u001b[32m[I 2022-08-05 12:32:25,050]\u001b[0m Trial 433 finished with value: -0.005543581550067174 and parameters: {'kernel': 'rbf', 'C': 0.09563446651537079, 'gamma': 0.019296468091188814, 'epsilon': 0.001096538448144648}. Best is trial 378 with value: -0.0055237918291690365.\u001b[0m\n",
      "\u001b[32m[I 2022-08-05 12:32:28,653]\u001b[0m Trial 434 finished with value: -0.005577428315981897 and parameters: {'kernel': 'rbf', 'C': 0.08954534108450155, 'gamma': 0.026338720806795068, 'epsilon': 0.0013661018627208618}. Best is trial 378 with value: -0.0055237918291690365.\u001b[0m\n",
      "\u001b[32m[I 2022-08-05 12:32:29,472]\u001b[0m Trial 435 finished with value: -0.00557487348076909 and parameters: {'kernel': 'rbf', 'C': 0.09246374522113102, 'gamma': 0.025772853934547247, 'epsilon': 0.0014349225423686033}. Best is trial 378 with value: -0.0055237918291690365.\u001b[0m\n",
      "\u001b[32m[I 2022-08-05 12:32:31,119]\u001b[0m Trial 436 finished with value: -0.005563383066832192 and parameters: {'kernel': 'rbf', 'C': 0.09427029285476707, 'gamma': 0.014032975760611747, 'epsilon': 0.0015012117527454928}. Best is trial 378 with value: -0.0055237918291690365.\u001b[0m\n",
      "\u001b[32m[I 2022-08-05 12:32:31,439]\u001b[0m Trial 437 finished with value: -0.006514376981850316 and parameters: {'kernel': 'poly', 'C': 0.1523600240748334, 'gamma': 0.010338037096186454, 'epsilon': 0.0014538672339379393}. Best is trial 378 with value: -0.0055237918291690365.\u001b[0m\n",
      "\u001b[32m[I 2022-08-05 12:32:35,326]\u001b[0m Trial 439 finished with value: -0.006448622142328263 and parameters: {'kernel': 'poly', 'C': 0.1652083869629301, 'gamma': 0.010579023403100643, 'epsilon': 0.0019982346013066674}. Best is trial 378 with value: -0.0055237918291690365.\u001b[0m\n",
      "\u001b[32m[I 2022-08-05 12:32:36,077]\u001b[0m Trial 438 finished with value: -0.006430067670282793 and parameters: {'kernel': 'poly', 'C': 0.15641413174733737, 'gamma': 0.0142652461277002, 'epsilon': 0.001484231855352137}. Best is trial 378 with value: -0.0055237918291690365.\u001b[0m\n",
      "\u001b[32m[I 2022-08-05 12:32:37,333]\u001b[0m Trial 440 finished with value: -0.0064276683262785425 and parameters: {'kernel': 'poly', 'C': 0.1699787370540442, 'gamma': 0.011280854524491284, 'epsilon': 0.0019448840072390854}. Best is trial 378 with value: -0.0055237918291690365.\u001b[0m\n",
      "\u001b[32m[I 2022-08-05 12:32:38,171]\u001b[0m Trial 441 finished with value: -0.005556819243135795 and parameters: {'kernel': 'rbf', 'C': 0.1781074881352597, 'gamma': 0.011371571219538577, 'epsilon': 0.0020019950689804614}. Best is trial 378 with value: -0.0055237918291690365.\u001b[0m\n",
      "\u001b[32m[I 2022-08-05 12:32:42,038]\u001b[0m Trial 443 finished with value: -0.005537599965658324 and parameters: {'kernel': 'rbf', 'C': 0.10713657329395716, 'gamma': 0.01695026180763262, 'epsilon': 0.0019329993765092072}. Best is trial 378 with value: -0.0055237918291690365.\u001b[0m\n",
      "\u001b[32m[I 2022-08-05 12:32:42,038]\u001b[0m Trial 442 finished with value: -0.005537116977451967 and parameters: {'kernel': 'rbf', 'C': 0.1926466448066722, 'gamma': 0.013588252876336315, 'epsilon': 0.0019633181816516494}. Best is trial 378 with value: -0.0055237918291690365.\u001b[0m\n",
      "\u001b[32m[I 2022-08-05 12:32:44,675]\u001b[0m Trial 444 finished with value: -0.0055343518887372685 and parameters: {'kernel': 'rbf', 'C': 0.10715152149125111, 'gamma': 0.016687874499795696, 'epsilon': 0.0012967810058419776}. Best is trial 378 with value: -0.0055237918291690365.\u001b[0m\n",
      "\u001b[32m[I 2022-08-05 12:32:45,755]\u001b[0m Trial 445 finished with value: -0.005531848243230847 and parameters: {'kernel': 'rbf', 'C': 0.10791337465910832, 'gamma': 0.016768446744579217, 'epsilon': 0.0012547485423278389}. Best is trial 378 with value: -0.0055237918291690365.\u001b[0m\n",
      "\u001b[32m[I 2022-08-05 12:32:51,095]\u001b[0m Trial 446 finished with value: -0.005558152613874353 and parameters: {'kernel': 'rbf', 'C': 0.13957889452949934, 'gamma': 0.020777154155241954, 'epsilon': 0.0012712711720314065}. Best is trial 378 with value: -0.0055237918291690365.\u001b[0m\n",
      "\u001b[32m[I 2022-08-05 12:32:52,080]\u001b[0m Trial 447 finished with value: -0.005555045474556693 and parameters: {'kernel': 'rbf', 'C': 0.13534410278347328, 'gamma': 0.020038061128845198, 'epsilon': 0.001000720198587157}. Best is trial 378 with value: -0.0055237918291690365.\u001b[0m\n",
      "\u001b[32m[I 2022-08-05 12:32:52,780]\u001b[0m Trial 450 finished with value: -0.023944264825050094 and parameters: {'kernel': 'rbf', 'C': 0.14485504074393743, 'gamma': 0.01908514258032286, 'epsilon': 0.030688371228303202}. Best is trial 378 with value: -0.0055237918291690365.\u001b[0m\n",
      "\u001b[32m[I 2022-08-05 12:32:53,281]\u001b[0m Trial 448 finished with value: -0.005551563701908537 and parameters: {'kernel': 'rbf', 'C': 0.13992461083445507, 'gamma': 0.020220426246024565, 'epsilon': 0.0012348358115258577}. Best is trial 378 with value: -0.0055237918291690365.\u001b[0m\n",
      "\u001b[32m[I 2022-08-05 12:32:53,281]\u001b[0m Trial 449 finished with value: -0.005543575390981883 and parameters: {'kernel': 'rbf', 'C': 0.1375284227695496, 'gamma': 0.01981671901616705, 'epsilon': 0.0015964613980624263}. Best is trial 378 with value: -0.0055237918291690365.\u001b[0m\n",
      "\u001b[32m[I 2022-08-05 12:32:55,294]\u001b[0m Trial 454 finished with value: -0.016469945559704123 and parameters: {'kernel': 'rbf', 'C': 0.08393552706334631, 'gamma': 0.008319077104464381, 'epsilon': 0.0231837926445465}. Best is trial 378 with value: -0.0055237918291690365.\u001b[0m\n",
      "\u001b[32m[I 2022-08-05 12:32:57,578]\u001b[0m Trial 451 finished with value: -0.005629963450429468 and parameters: {'kernel': 'rbf', 'C': 0.14173508918768737, 'gamma': 0.008372810760541449, 'epsilon': 0.0015524812974291185}. Best is trial 378 with value: -0.0055237918291690365.\u001b[0m\n",
      "\u001b[32m[I 2022-08-05 12:32:57,968]\u001b[0m Trial 452 finished with value: -0.0056326095270044455 and parameters: {'kernel': 'rbf', 'C': 0.13117314516243345, 'gamma': 0.0085624882649471, 'epsilon': 0.0016135918517207301}. Best is trial 378 with value: -0.0055237918291690365.\u001b[0m\n",
      "\u001b[32m[I 2022-08-05 12:32:59,195]\u001b[0m Trial 456 finished with value: -0.04558449770905385 and parameters: {'kernel': 'rbf', 'C': 0.1103596127582031, 'gamma': 0.014444500550130504, 'epsilon': 0.07563046512517778}. Best is trial 378 with value: -0.0055237918291690365.\u001b[0m\n",
      "\u001b[32m[I 2022-08-05 12:33:00,870]\u001b[0m Trial 453 finished with value: -0.00555722551723184 and parameters: {'kernel': 'rbf', 'C': 0.11156652842140961, 'gamma': 0.013928489991162515, 'epsilon': 0.001002460668557192}. Best is trial 378 with value: -0.0055237918291690365.\u001b[0m\n",
      "\u001b[32m[I 2022-08-05 12:33:01,641]\u001b[0m Trial 455 finished with value: -0.00554327452311868 and parameters: {'kernel': 'rbf', 'C': 0.11383483476393692, 'gamma': 0.013723952613133411, 'epsilon': 0.0016312736107519023}. Best is trial 378 with value: -0.0055237918291690365.\u001b[0m\n",
      "\u001b[32m[I 2022-08-05 12:33:05,334]\u001b[0m Trial 457 finished with value: -0.005535827570566574 and parameters: {'kernel': 'rbf', 'C': 0.1131291717892426, 'gamma': 0.014718996746202516, 'epsilon': 0.001414334376861659}. Best is trial 378 with value: -0.0055237918291690365.\u001b[0m\n",
      "\u001b[32m[I 2022-08-05 12:33:08,583]\u001b[0m Trial 458 finished with value: -0.005544714083923189 and parameters: {'kernel': 'rbf', 'C': 0.22781404182978462, 'gamma': 0.013603738385988615, 'epsilon': 0.001392664823354514}. Best is trial 378 with value: -0.0055237918291690365.\u001b[0m\n",
      "\u001b[32m[I 2022-08-05 12:33:09,560]\u001b[0m Trial 460 finished with value: -0.005533793679928882 and parameters: {'kernel': 'rbf', 'C': 0.09936215998832677, 'gamma': 0.016882310119996365, 'epsilon': 0.001413047730975291}. Best is trial 378 with value: -0.0055237918291690365.\u001b[0m\n",
      "\u001b[32m[I 2022-08-05 12:33:09,845]\u001b[0m Trial 459 finished with value: -0.005555841458521409 and parameters: {'kernel': 'rbf', 'C': 0.21655425509856543, 'gamma': 0.01653154665830811, 'epsilon': 0.0014145201338288337}. Best is trial 378 with value: -0.0055237918291690365.\u001b[0m\n",
      "\u001b[32m[I 2022-08-05 12:33:13,621]\u001b[0m Trial 461 finished with value: -0.005561484549313935 and parameters: {'kernel': 'rbf', 'C': 0.2154121838279541, 'gamma': 0.01712454519352905, 'epsilon': 0.0017524602447478263}. Best is trial 378 with value: -0.0055237918291690365.\u001b[0m\n",
      "\u001b[32m[I 2022-08-05 12:33:13,927]\u001b[0m Trial 462 finished with value: -0.005605965033235841 and parameters: {'kernel': 'rbf', 'C': 0.06109839566079541, 'gamma': 0.017100066418917117, 'epsilon': 0.001733569000625069}. Best is trial 378 with value: -0.0055237918291690365.\u001b[0m\n",
      "\u001b[32m[I 2022-08-05 12:33:15,582]\u001b[0m Trial 464 finished with value: -0.005589253520656383 and parameters: {'kernel': 'rbf', 'C': 0.06161469095308731, 'gamma': 0.024027455054140397, 'epsilon': 0.0017716279964390023}. Best is trial 378 with value: -0.0055237918291690365.\u001b[0m\n"
     ]
    },
    {
     "name": "stderr",
     "output_type": "stream",
     "text": [
      "\u001b[32m[I 2022-08-05 12:33:16,035]\u001b[0m Trial 463 finished with value: -0.005536128700236131 and parameters: {'kernel': 'rbf', 'C': 0.16047550792897022, 'gamma': 0.017119519101089865, 'epsilon': 0.0017375489742969897}. Best is trial 378 with value: -0.0055237918291690365.\u001b[0m\n",
      "\u001b[32m[I 2022-08-05 12:33:17,106]\u001b[0m Trial 467 finished with value: -0.04558449770905386 and parameters: {'kernel': 'rbf', 'C': 0.16388670226243465, 'gamma': 0.012860763508931389, 'epsilon': 0.18357105458918543}. Best is trial 378 with value: -0.0055237918291690365.\u001b[0m\n",
      "\u001b[32m[I 2022-08-05 12:33:21,017]\u001b[0m Trial 465 finished with value: -0.00558515552702406 and parameters: {'kernel': 'rbf', 'C': 0.0638106929330153, 'gamma': 0.022583531328956734, 'epsilon': 0.0010037931511377811}. Best is trial 378 with value: -0.0055237918291690365.\u001b[0m\n",
      "\u001b[32m[I 2022-08-05 12:33:21,307]\u001b[0m Trial 466 finished with value: -0.005562116993613179 and parameters: {'kernel': 'rbf', 'C': 0.08512540736954291, 'gamma': 0.024061382224071413, 'epsilon': 0.001191385251319592}. Best is trial 378 with value: -0.0055237918291690365.\u001b[0m\n",
      "\u001b[32m[I 2022-08-05 12:33:23,056]\u001b[0m Trial 468 finished with value: -0.0056171421329522 and parameters: {'kernel': 'rbf', 'C': 0.08519202015248906, 'gamma': 0.0120852046925655, 'epsilon': 0.0012014011014338567}. Best is trial 378 with value: -0.0055237918291690365.\u001b[0m\n",
      "\u001b[32m[I 2022-08-05 12:33:25,543]\u001b[0m Trial 469 finished with value: -0.005670953906740733 and parameters: {'kernel': 'rbf', 'C': 0.12525835562934845, 'gamma': 0.03029585443353359, 'epsilon': 0.001185258239387892}. Best is trial 378 with value: -0.0055237918291690365.\u001b[0m\n",
      "\u001b[32m[I 2022-08-05 12:33:28,447]\u001b[0m Trial 470 finished with value: -0.0056287068482373795 and parameters: {'kernel': 'rbf', 'C': 0.08420204460163844, 'gamma': 0.011643223693449053, 'epsilon': 0.0012321124138161168}. Best is trial 378 with value: -0.0055237918291690365.\u001b[0m\n",
      "\u001b[32m[I 2022-08-05 12:33:29,372]\u001b[0m Trial 471 finished with value: -0.005572755867788615 and parameters: {'kernel': 'rbf', 'C': 0.12738200565783722, 'gamma': 0.011581546036945837, 'epsilon': 0.0012396908950578597}. Best is trial 378 with value: -0.0055237918291690365.\u001b[0m\n",
      "\u001b[32m[I 2022-08-05 12:33:30,901]\u001b[0m Trial 472 finished with value: -0.005527296516775874 and parameters: {'kernel': 'rbf', 'C': 0.1291587652576407, 'gamma': 0.015124412373374774, 'epsilon': 0.0015113509909371024}. Best is trial 378 with value: -0.0055237918291690365.\u001b[0m\n",
      "\u001b[32m[I 2022-08-05 12:33:34,309]\u001b[0m Trial 473 finished with value: -0.005534278446384841 and parameters: {'kernel': 'rbf', 'C': 0.18650799718080965, 'gamma': 0.01493362479214835, 'epsilon': 0.0015303859387758724}. Best is trial 378 with value: -0.0055237918291690365.\u001b[0m\n",
      "\u001b[32m[I 2022-08-05 12:33:36,731]\u001b[0m Trial 475 finished with value: -0.00553940928116324 and parameters: {'kernel': 'rbf', 'C': 0.10137527435946903, 'gamma': 0.015580651367696336, 'epsilon': 0.0015385665050426873}. Best is trial 378 with value: -0.0055237918291690365.\u001b[0m\n",
      "\u001b[32m[I 2022-08-05 12:33:38,291]\u001b[0m Trial 474 finished with value: -0.005585408111329025 and parameters: {'kernel': 'rbf', 'C': 0.29715026259032407, 'gamma': 0.015775534858361463, 'epsilon': 0.00151297189317455}. Best is trial 378 with value: -0.0055237918291690365.\u001b[0m\n",
      "\u001b[32m[I 2022-08-05 12:33:38,291]\u001b[0m Trial 476 finished with value: -0.005539773067476928 and parameters: {'kernel': 'rbf', 'C': 0.18627808965385553, 'gamma': 0.014971562205417656, 'epsilon': 0.0019313560568082874}. Best is trial 378 with value: -0.0055237918291690365.\u001b[0m\n",
      "\u001b[32m[I 2022-08-05 12:33:39,051]\u001b[0m Trial 477 finished with value: -0.005585766911315608 and parameters: {'kernel': 'rbf', 'C': 0.10042124808990363, 'gamma': 0.020057183469436718, 'epsilon': 0.002771974009629914}. Best is trial 378 with value: -0.0055237918291690365.\u001b[0m\n",
      "\u001b[32m[I 2022-08-05 12:33:41,245]\u001b[0m Trial 478 finished with value: -0.005608159641071258 and parameters: {'kernel': 'rbf', 'C': 0.1506330805191312, 'gamma': 0.019265451400348493, 'epsilon': 0.0028176073210149353}. Best is trial 378 with value: -0.0055237918291690365.\u001b[0m\n",
      "\u001b[32m[I 2022-08-05 12:33:43,901]\u001b[0m Trial 480 finished with value: -0.005570300200671258 and parameters: {'kernel': 'rbf', 'C': 0.1499035505749064, 'gamma': 0.01970555741454157, 'epsilon': 0.002173556451028447}. Best is trial 378 with value: -0.0055237918291690365.\u001b[0m\n",
      "\u001b[32m[I 2022-08-05 12:33:44,190]\u001b[0m Trial 479 finished with value: -0.005585359369617542 and parameters: {'kernel': 'rbf', 'C': 0.15084783822459227, 'gamma': 0.020304553154424212, 'epsilon': 0.0022257802985170432}. Best is trial 378 with value: -0.0055237918291690365.\u001b[0m\n",
      "\u001b[32m[I 2022-08-05 12:33:45,193]\u001b[0m Trial 481 finished with value: -0.005565252025768119 and parameters: {'kernel': 'rbf', 'C': 0.15315857693478555, 'gamma': 0.019431095708041916, 'epsilon': 0.002094208327043729}. Best is trial 378 with value: -0.0055237918291690365.\u001b[0m\n",
      "\u001b[32m[I 2022-08-05 12:33:46,464]\u001b[0m Trial 482 finished with value: -0.005561154081236016 and parameters: {'kernel': 'rbf', 'C': 0.1260054960622058, 'gamma': 0.01285616920212197, 'epsilon': 0.0020411715607243906}. Best is trial 378 with value: -0.0055237918291690365.\u001b[0m\n",
      "\u001b[32m[I 2022-08-05 12:33:49,397]\u001b[0m Trial 483 finished with value: -0.005939929039035077 and parameters: {'kernel': 'rbf', 'C': 0.12362795443450927, 'gamma': 0.06458510855306439, 'epsilon': 0.002106560693132459}. Best is trial 378 with value: -0.0055237918291690365.\u001b[0m\n",
      "\u001b[32m[I 2022-08-05 12:33:50,208]\u001b[0m Trial 485 finished with value: -0.005972200276687393 and parameters: {'kernel': 'rbf', 'C': 0.025255811636806, 'gamma': 0.012823663942359821, 'epsilon': 0.0018412890511376615}. Best is trial 378 with value: -0.0055237918291690365.\u001b[0m\n",
      "\u001b[32m[I 2022-08-05 12:33:50,429]\u001b[0m Trial 484 finished with value: -0.005553179113093051 and parameters: {'kernel': 'rbf', 'C': 0.12228925437881603, 'gamma': 0.013015549010654768, 'epsilon': 0.001848669744244893}. Best is trial 378 with value: -0.0055237918291690365.\u001b[0m\n",
      "\u001b[32m[I 2022-08-05 12:33:51,223]\u001b[0m Trial 486 finished with value: -0.005901658119780678 and parameters: {'kernel': 'rbf', 'C': 0.025582468111582997, 'gamma': 0.01701977795752769, 'epsilon': 0.0017576896022330716}. Best is trial 378 with value: -0.0055237918291690365.\u001b[0m\n",
      "\u001b[32m[I 2022-08-05 12:33:55,225]\u001b[0m Trial 487 finished with value: -0.0055352781875681704 and parameters: {'kernel': 'rbf', 'C': 0.10200916508292539, 'gamma': 0.017229694100775978, 'epsilon': 0.0017397206849632558}. Best is trial 378 with value: -0.0055237918291690365.\u001b[0m\n",
      "\u001b[32m[I 2022-08-05 12:33:56,309]\u001b[0m Trial 488 finished with value: -0.0055308668560818 and parameters: {'kernel': 'rbf', 'C': 0.10422840424800453, 'gamma': 0.01721572292995167, 'epsilon': 0.0016199921973476274}. Best is trial 378 with value: -0.0055237918291690365.\u001b[0m\n",
      "\u001b[32m[I 2022-08-05 12:33:57,330]\u001b[0m Trial 489 finished with value: -0.00552998810898782 and parameters: {'kernel': 'rbf', 'C': 0.10392904607570883, 'gamma': 0.01726285387181258, 'epsilon': 0.001610849539001614}. Best is trial 378 with value: -0.0055237918291690365.\u001b[0m\n",
      "\u001b[32m[I 2022-08-05 12:33:58,528]\u001b[0m Trial 490 finished with value: -0.005541345875959161 and parameters: {'kernel': 'rbf', 'C': 0.10455785547539724, 'gamma': 0.014865962442498944, 'epsilon': 0.0014105609867887765}. Best is trial 378 with value: -0.0055237918291690365.\u001b[0m\n",
      "\u001b[32m[I 2022-08-05 12:34:02,138]\u001b[0m Trial 491 finished with value: -0.005556599418300431 and parameters: {'kernel': 'rbf', 'C': 0.09463728111245098, 'gamma': 0.014634769913356055, 'epsilon': 0.001392436727842848}. Best is trial 378 with value: -0.0055237918291690365.\u001b[0m\n",
      "\u001b[32m[I 2022-08-05 12:34:03,735]\u001b[0m Trial 492 finished with value: -0.005538325301175028 and parameters: {'kernel': 'rbf', 'C': 0.11521705586694106, 'gamma': 0.014473007757498694, 'epsilon': 0.0013588012431036897}. Best is trial 378 with value: -0.0055237918291690365.\u001b[0m\n",
      "\u001b[32m[I 2022-08-05 12:34:05,760]\u001b[0m Trial 493 finished with value: -0.005594539063302863 and parameters: {'kernel': 'rbf', 'C': 0.13207342792221205, 'gamma': 0.024240348805826612, 'epsilon': 0.0013592691266296345}. Best is trial 378 with value: -0.0055237918291690365.\u001b[0m\n",
      "\u001b[32m[I 2022-08-05 12:34:06,587]\u001b[0m Trial 494 finished with value: -0.005592489220860882 and parameters: {'kernel': 'rbf', 'C': 0.13288152398445363, 'gamma': 0.010143475070382522, 'epsilon': 0.0013723632301465027}. Best is trial 378 with value: -0.0055237918291690365.\u001b[0m\n"
     ]
    },
    {
     "name": "stderr",
     "output_type": "stream",
     "text": [
      "\u001b[32m[I 2022-08-05 12:34:10,575]\u001b[0m Trial 495 finished with value: -0.005594572699435572 and parameters: {'kernel': 'rbf', 'C': 0.13392310539232202, 'gamma': 0.010598406842839891, 'epsilon': 0.0010104256180567793}. Best is trial 378 with value: -0.0055237918291690365.\u001b[0m\n",
      "\u001b[32m[I 2022-08-05 12:34:13,825]\u001b[0m Trial 496 finished with value: -0.005599936031322903 and parameters: {'kernel': 'rbf', 'C': 0.13782396994184395, 'gamma': 0.023672598067192543, 'epsilon': 0.001001678489622542}. Best is trial 378 with value: -0.0055237918291690365.\u001b[0m\n",
      "\u001b[32m[I 2022-08-05 12:34:15,075]\u001b[0m Trial 497 finished with value: -0.005567269228714266 and parameters: {'kernel': 'rbf', 'C': 0.17203895612041128, 'gamma': 0.01071881486365046, 'epsilon': 0.0010841360576195323}. Best is trial 378 with value: -0.0055237918291690365.\u001b[0m\n",
      "\u001b[32m[I 2022-08-05 12:34:16,934]\u001b[0m Trial 498 finished with value: -0.005603964798476453 and parameters: {'kernel': 'rbf', 'C': 0.16565711608537798, 'gamma': 0.02212737648988597, 'epsilon': 0.0010992606254470274}. Best is trial 378 with value: -0.0055237918291690365.\u001b[0m\n",
      "\u001b[32m[I 2022-08-05 12:34:18,425]\u001b[0m Trial 499 finished with value: -0.0055660226123612115 and parameters: {'kernel': 'rbf', 'C': 0.07491252250789106, 'gamma': 0.02195713777886003, 'epsilon': 0.0011156949289858654}. Best is trial 378 with value: -0.0055237918291690365.\u001b[0m\n",
      "\u001b[32m[I 2022-08-05 12:34:21,705]\u001b[0m Trial 501 finished with value: -0.005551786619298922 and parameters: {'kernel': 'rbf', 'C': 0.07868044007534501, 'gamma': 0.021148944760551402, 'epsilon': 0.0015691615530243333}. Best is trial 378 with value: -0.0055237918291690365.\u001b[0m\n",
      "\u001b[32m[I 2022-08-05 12:34:21,866]\u001b[0m Trial 500 finished with value: -0.005590502595282575 and parameters: {'kernel': 'rbf', 'C': 0.16994686890051497, 'gamma': 0.021449047694329492, 'epsilon': 0.0015653372581384988}. Best is trial 378 with value: -0.0055237918291690365.\u001b[0m\n",
      "\u001b[32m[I 2022-08-05 12:34:22,947]\u001b[0m Trial 502 finished with value: -0.005557182423138477 and parameters: {'kernel': 'rbf', 'C': 0.07432029052752939, 'gamma': 0.018680911041918737, 'epsilon': 0.0015645570505030898}. Best is trial 378 with value: -0.0055237918291690365.\u001b[0m\n",
      "\u001b[32m[I 2022-08-05 12:34:25,060]\u001b[0m Trial 503 finished with value: -0.005529495826701525 and parameters: {'kernel': 'rbf', 'C': 0.11665073775574245, 'gamma': 0.018765480139037508, 'epsilon': 0.0015619663314535325}. Best is trial 378 with value: -0.0055237918291690365.\u001b[0m\n",
      "\u001b[32m[I 2022-08-05 12:34:30,114]\u001b[0m Trial 505 finished with value: -0.00553477879697232 and parameters: {'kernel': 'rbf', 'C': 0.11891451973339694, 'gamma': 0.015017504188384781, 'epsilon': 0.0012913833537102001}. Best is trial 378 with value: -0.0055237918291690365.\u001b[0m\n",
      "\u001b[32m[I 2022-08-05 12:34:30,317]\u001b[0m Trial 504 finished with value: -0.005530907671439927 and parameters: {'kernel': 'rbf', 'C': 0.11763649608693441, 'gamma': 0.01828812219555468, 'epsilon': 0.001273578731597232}. Best is trial 378 with value: -0.0055237918291690365.\u001b[0m\n",
      "\u001b[32m[I 2022-08-05 12:34:32,079]\u001b[0m Trial 506 finished with value: -0.0055350923928362055 and parameters: {'kernel': 'rbf', 'C': 0.11673004345548794, 'gamma': 0.015184630318629887, 'epsilon': 0.0012759589009788959}. Best is trial 378 with value: -0.0055237918291690365.\u001b[0m\n",
      "\u001b[32m[I 2022-08-05 12:34:32,922]\u001b[0m Trial 507 finished with value: -0.005639853104608469 and parameters: {'kernel': 'rbf', 'C': 0.11465349000923444, 'gamma': 0.028595757401218332, 'epsilon': 0.0018766739304710682}. Best is trial 378 with value: -0.0055237918291690365.\u001b[0m\n",
      "\u001b[32m[I 2022-08-05 12:34:37,726]\u001b[0m Trial 508 finished with value: -0.005537161181233829 and parameters: {'kernel': 'rbf', 'C': 0.09569687780801785, 'gamma': 0.018659787646325168, 'epsilon': 0.0018727512603383262}. Best is trial 378 with value: -0.0055237918291690365.\u001b[0m\n",
      "\u001b[32m[I 2022-08-05 12:34:37,738]\u001b[0m Trial 509 finished with value: -0.005549980906702808 and parameters: {'kernel': 'rbf', 'C': 0.09046397492572014, 'gamma': 0.017952511838689234, 'epsilon': 0.0019287130511086465}. Best is trial 378 with value: -0.0055237918291690365.\u001b[0m\n",
      "\u001b[32m[I 2022-08-05 12:34:39,298]\u001b[0m Trial 510 finished with value: -0.005622176571965153 and parameters: {'kernel': 'rbf', 'C': 0.09131275046749505, 'gamma': 0.02956946204563428, 'epsilon': 0.0017766905165864885}. Best is trial 378 with value: -0.0055237918291690365.\u001b[0m\n",
      "\u001b[32m[I 2022-08-05 12:34:39,455]\u001b[0m Trial 511 finished with value: -0.005545373645478275 and parameters: {'kernel': 'rbf', 'C': 0.09057007913048082, 'gamma': 0.018886911385559625, 'epsilon': 0.0018601454871063137}. Best is trial 378 with value: -0.0055237918291690365.\u001b[0m\n",
      "\u001b[32m[I 2022-08-05 12:34:44,144]\u001b[0m Trial 512 finished with value: -0.005573751927265871 and parameters: {'kernel': 'rbf', 'C': 0.09239409379520817, 'gamma': 0.0135714612985449, 'epsilon': 0.0016887275597615378}. Best is trial 378 with value: -0.0055237918291690365.\u001b[0m\n",
      "\u001b[32m[I 2022-08-05 12:34:44,648]\u001b[0m Trial 513 finished with value: -0.005568685016933474 and parameters: {'kernel': 'rbf', 'C': 0.09245217408591237, 'gamma': 0.013704970426309195, 'epsilon': 0.001604253945395085}. Best is trial 378 with value: -0.0055237918291690365.\u001b[0m\n",
      "\u001b[32m[I 2022-08-05 12:34:47,791]\u001b[0m Trial 514 finished with value: -0.005539848129791596 and parameters: {'kernel': 'rbf', 'C': 0.14291331535024915, 'gamma': 0.012923677662828347, 'epsilon': 0.0015513156766607029}. Best is trial 378 with value: -0.0055237918291690365.\u001b[0m\n",
      "\u001b[32m[I 2022-08-05 12:34:47,945]\u001b[0m Trial 515 finished with value: -0.005538483845344846 and parameters: {'kernel': 'rbf', 'C': 0.14548454591883736, 'gamma': 0.012991866098655307, 'epsilon': 0.0015256655905985831}. Best is trial 378 with value: -0.0055237918291690365.\u001b[0m\n",
      "\u001b[32m[I 2022-08-05 12:34:49,542]\u001b[0m Trial 517 finished with value: -0.0055558497590258195 and parameters: {'kernel': 'rbf', 'C': 0.13779618169763772, 'gamma': 0.016357269388114062, 'epsilon': 0.00252383557809601}. Best is trial 378 with value: -0.0055237918291690365.\u001b[0m\n",
      "\u001b[32m[I 2022-08-05 12:34:50,662]\u001b[0m Trial 516 finished with value: -0.00554317554584159 and parameters: {'kernel': 'rbf', 'C': 0.14320986824368864, 'gamma': 0.012255301480774396, 'epsilon': 0.0015104400450587027}. Best is trial 378 with value: -0.0055237918291690365.\u001b[0m\n",
      "\u001b[32m[I 2022-08-05 12:34:52,865]\u001b[0m Trial 518 finished with value: -0.005555389856554173 and parameters: {'kernel': 'rbf', 'C': 0.11157776761446972, 'gamma': 0.016017008972673698, 'epsilon': 0.0023741812741102934}. Best is trial 378 with value: -0.0055237918291690365.\u001b[0m\n",
      "\u001b[32m[I 2022-08-05 12:34:53,215]\u001b[0m Trial 519 finished with value: -0.005551663045575922 and parameters: {'kernel': 'rbf', 'C': 0.10784437658195928, 'gamma': 0.016367161880562628, 'epsilon': 0.002287862511512608}. Best is trial 378 with value: -0.0055237918291690365.\u001b[0m\n",
      "\u001b[32m[I 2022-08-05 12:34:54,429]\u001b[0m Trial 522 finished with value: -0.045584497709053845 and parameters: {'kernel': 'rbf', 'C': 0.1087574151136854, 'gamma': 0.022215398387237142, 'epsilon': 0.38542526964628665}. Best is trial 378 with value: -0.0055237918291690365.\u001b[0m\n",
      "\u001b[32m[I 2022-08-05 12:34:55,223]\u001b[0m Trial 520 finished with value: -0.005626902483111141 and parameters: {'kernel': 'rbf', 'C': 0.11281844382033539, 'gamma': 0.026153724690752916, 'epsilon': 0.002178015093991902}. Best is trial 378 with value: -0.0055237918291690365.\u001b[0m\n",
      "\u001b[32m[I 2022-08-05 12:35:00,636]\u001b[0m Trial 521 finished with value: -0.0056737184946153655 and parameters: {'kernel': 'rbf', 'C': 0.19065732559044077, 'gamma': 0.025439763308289138, 'epsilon': 0.0014061421410271893}. Best is trial 378 with value: -0.0055237918291690365.\u001b[0m\n",
      "\u001b[32m[I 2022-08-05 12:35:03,234]\u001b[0m Trial 523 finished with value: -0.00567121131139552 and parameters: {'kernel': 'rbf', 'C': 0.2014978857912606, 'gamma': 0.02472401043787222, 'epsilon': 0.001388838886649896}. Best is trial 378 with value: -0.0055237918291690365.\u001b[0m\n",
      "\u001b[32m[I 2022-08-05 12:35:05,524]\u001b[0m Trial 525 finished with value: -0.0055867270759923935 and parameters: {'kernel': 'rbf', 'C': 0.1979533071600327, 'gamma': 0.019685860912393587, 'epsilon': 0.0014084285196074436}. Best is trial 378 with value: -0.0055237918291690365.\u001b[0m\n"
     ]
    },
    {
     "name": "stderr",
     "output_type": "stream",
     "text": [
      "\u001b[32m[I 2022-08-05 12:35:10,158]\u001b[0m Trial 526 finished with value: -0.0055394729993761965 and parameters: {'kernel': 'rbf', 'C': 0.12739267226278816, 'gamma': 0.01988140661544015, 'epsilon': 0.0013685176550954315}. Best is trial 378 with value: -0.0055237918291690365.\u001b[0m\n",
      "\u001b[32m[I 2022-08-05 12:35:11,298]\u001b[0m Trial 527 finished with value: -0.005538972150336207 and parameters: {'kernel': 'rbf', 'C': 0.1252533009531922, 'gamma': 0.019826318214169816, 'epsilon': 0.0017372064124668665}. Best is trial 378 with value: -0.0055237918291690365.\u001b[0m\n",
      "\u001b[32m[I 2022-08-05 12:35:12,943]\u001b[0m Trial 528 finished with value: -0.0055270005221593945 and parameters: {'kernel': 'rbf', 'C': 0.12983361707986332, 'gamma': 0.015559576820965447, 'epsilon': 0.0017180155340723344}. Best is trial 378 with value: -0.0055237918291690365.\u001b[0m\n",
      "\u001b[32m[I 2022-08-05 12:35:17,945]\u001b[0m Trial 529 finished with value: -0.005526618766130272 and parameters: {'kernel': 'rbf', 'C': 0.16070542204529506, 'gamma': 0.015098657530636288, 'epsilon': 0.0017088778792623241}. Best is trial 378 with value: -0.0055237918291690365.\u001b[0m\n",
      "\u001b[32m[I 2022-08-05 12:35:21,612]\u001b[0m Trial 530 finished with value: -0.0055345738692365734 and parameters: {'kernel': 'rbf', 'C': 0.1608478761021158, 'gamma': 0.015476672808574904, 'epsilon': 0.0011763723916881578}. Best is trial 378 with value: -0.0055237918291690365.\u001b[0m\n",
      "\u001b[32m[I 2022-08-05 12:35:21,612]\u001b[0m Trial 531 finished with value: -0.005536141924279207 and parameters: {'kernel': 'rbf', 'C': 0.17326079228018393, 'gamma': 0.015064727947856082, 'epsilon': 0.0019782652712610443}. Best is trial 378 with value: -0.0055237918291690365.\u001b[0m\n",
      "\u001b[32m[I 2022-08-05 12:35:24,203]\u001b[0m Trial 532 finished with value: -0.005560689486903272 and parameters: {'kernel': 'rbf', 'C': 0.17165911404498746, 'gamma': 0.011220491479040619, 'epsilon': 0.0019600993854487284}. Best is trial 378 with value: -0.0055237918291690365.\u001b[0m\n",
      "\u001b[32m[I 2022-08-05 12:35:25,236]\u001b[0m Trial 524 finished with value: -0.006384050823384014 and parameters: {'kernel': 'rbf', 'C': 2.4138640877382054, 'gamma': 0.02569399599252462, 'epsilon': 0.0013811356139513356}. Best is trial 378 with value: -0.0055237918291690365.\u001b[0m\n",
      "\u001b[32m[I 2022-08-05 12:35:28,262]\u001b[0m Trial 534 finished with value: -0.005547146218099088 and parameters: {'kernel': 'rbf', 'C': 0.1649998564139, 'gamma': 0.012687142169716566, 'epsilon': 0.0019885498580056323}. Best is trial 378 with value: -0.0055237918291690365.\u001b[0m\n",
      "\u001b[32m[I 2022-08-05 12:35:28,489]\u001b[0m Trial 533 finished with value: -0.005555133975979195 and parameters: {'kernel': 'rbf', 'C': 0.16482726800540146, 'gamma': 0.011391057627723281, 'epsilon': 0.0017137483038671651}. Best is trial 378 with value: -0.0055237918291690365.\u001b[0m\n",
      "\u001b[32m[I 2022-08-05 12:35:30,592]\u001b[0m Trial 535 finished with value: -0.0055919045101415765 and parameters: {'kernel': 'rbf', 'C': 0.15419832303833977, 'gamma': 0.009501038633143444, 'epsilon': 0.0017027685241900199}. Best is trial 378 with value: -0.0055237918291690365.\u001b[0m\n",
      "\u001b[32m[I 2022-08-05 12:35:31,810]\u001b[0m Trial 536 finished with value: -0.005547065374338844 and parameters: {'kernel': 'rbf', 'C': 0.15658458541349013, 'gamma': 0.012210541447273727, 'epsilon': 0.0017217514020504495}. Best is trial 378 with value: -0.0055237918291690365.\u001b[0m\n",
      "\u001b[32m[I 2022-08-05 12:35:33,995]\u001b[0m Trial 537 finished with value: -0.006880472736428205 and parameters: {'kernel': 'rbf', 'C': 0.15134041802046524, 'gamma': 0.269869328355766, 'epsilon': 0.0017463591680146307}. Best is trial 378 with value: -0.0055237918291690365.\u001b[0m\n",
      "\u001b[32m[I 2022-08-05 12:35:36,324]\u001b[0m Trial 538 finished with value: -0.0055483499917863 and parameters: {'kernel': 'rbf', 'C': 0.22930163913230123, 'gamma': 0.01476773912919731, 'epsilon': 0.001654953477291005}. Best is trial 378 with value: -0.0055237918291690365.\u001b[0m\n",
      "\u001b[32m[I 2022-08-05 12:35:36,480]\u001b[0m Trial 539 finished with value: -0.005645751863582512 and parameters: {'kernel': 'rbf', 'C': 0.262564596235898, 'gamma': 0.014048118222392937, 'epsilon': 0.0031747168257362374}. Best is trial 378 with value: -0.0055237918291690365.\u001b[0m\n",
      "\u001b[32m[I 2022-08-05 12:35:39,769]\u001b[0m Trial 540 finished with value: -0.0064616652582594235 and parameters: {'kernel': 'poly', 'C': 0.13805765896069142, 'gamma': 0.014232634520138851, 'epsilon': 0.001190023409570961}. Best is trial 378 with value: -0.0055237918291690365.\u001b[0m\n",
      "\u001b[32m[I 2022-08-05 12:35:44,657]\u001b[0m Trial 541 finished with value: -0.005558100201736557 and parameters: {'kernel': 'rbf', 'C': 0.24081967076358615, 'gamma': 0.014485772568625809, 'epsilon': 0.001210654455456757}. Best is trial 378 with value: -0.0055237918291690365.\u001b[0m\n",
      "\u001b[32m[I 2022-08-05 12:35:45,055]\u001b[0m Trial 543 finished with value: -0.006449831482411199 and parameters: {'kernel': 'poly', 'C': 0.12580054682941783, 'gamma': 0.01654110755616037, 'epsilon': 0.001240463745641922}. Best is trial 378 with value: -0.0055237918291690365.\u001b[0m\n",
      "\u001b[32m[I 2022-08-05 12:35:45,070]\u001b[0m Trial 542 finished with value: -0.0055400558436579875 and parameters: {'kernel': 'rbf', 'C': 0.13462448884293238, 'gamma': 0.014081121804989594, 'epsilon': 0.0011401474878931929}. Best is trial 378 with value: -0.0055237918291690365.\u001b[0m\n",
      "\u001b[32m[I 2022-08-05 12:35:50,051]\u001b[0m Trial 544 finished with value: -0.005549636735072342 and parameters: {'kernel': 'rbf', 'C': 0.18600796319669036, 'gamma': 0.016957700792789864, 'epsilon': 0.0012543775677025721}. Best is trial 378 with value: -0.0055237918291690365.\u001b[0m\n",
      "\u001b[32m[I 2022-08-05 12:35:52,063]\u001b[0m Trial 547 finished with value: -0.005559823251807548 and parameters: {'kernel': 'rbf', 'C': 0.1950244506142572, 'gamma': 0.016414256719618155, 'epsilon': 0.0021354474149533702}. Best is trial 378 with value: -0.0055237918291690365.\u001b[0m\n",
      "\u001b[32m[I 2022-08-05 12:35:52,079]\u001b[0m Trial 545 finished with value: -0.005548697107197213 and parameters: {'kernel': 'rbf', 'C': 0.19112256701701894, 'gamma': 0.01664948697636662, 'epsilon': 0.0014734379450186208}. Best is trial 378 with value: -0.0055237918291690365.\u001b[0m\n",
      "\u001b[32m[I 2022-08-05 12:35:52,516]\u001b[0m Trial 546 finished with value: -0.005522866675686452 and parameters: {'kernel': 'rbf', 'C': 0.1375355122588335, 'gamma': 0.017199779385167223, 'epsilon': 0.0014879152094990431}. Best is trial 546 with value: -0.005522866675686452.\u001b[0m\n",
      "\u001b[32m[I 2022-08-05 12:35:53,563]\u001b[0m Trial 550 finished with value: -0.007980742111149883 and parameters: {'kernel': 'rbf', 'C': 0.13865027426026263, 'gamma': 0.011041459587994034, 'epsilon': 0.010856505851260119}. Best is trial 546 with value: -0.005522866675686452.\u001b[0m\n",
      "\u001b[32m[I 2022-08-05 12:35:55,351]\u001b[0m Trial 548 finished with value: -0.005702444032079491 and parameters: {'kernel': 'rbf', 'C': 0.042267962708109966, 'gamma': 0.017005489507511688, 'epsilon': 0.0014928215720846018}. Best is trial 546 with value: -0.005522866675686452.\u001b[0m\n",
      "\u001b[32m[I 2022-08-05 12:35:56,210]\u001b[0m Trial 549 finished with value: -0.0058097875248284145 and parameters: {'kernel': 'rbf', 'C': 0.04035123789796307, 'gamma': 0.011946952278669777, 'epsilon': 0.001542429011352465}. Best is trial 546 with value: -0.005522866675686452.\u001b[0m\n",
      "\u001b[32m[I 2022-08-05 12:35:57,147]\u001b[0m Trial 551 finished with value: -0.005570592979521716 and parameters: {'kernel': 'rbf', 'C': 0.13244552638521812, 'gamma': 0.018557141267894272, 'epsilon': 0.0026466520430048967}. Best is trial 546 with value: -0.005522866675686452.\u001b[0m\n",
      "\u001b[32m[I 2022-08-05 12:35:58,897]\u001b[0m Trial 553 finished with value: -0.005814570698208596 and parameters: {'kernel': 'rbf', 'C': 0.1241718688648329, 'gamma': 0.021289339688040462, 'epsilon': 0.004394889983758422}. Best is trial 546 with value: -0.005522866675686452.\u001b[0m\n",
      "\u001b[32m[I 2022-08-05 12:36:01,504]\u001b[0m Trial 552 finished with value: -0.005539541732632801 and parameters: {'kernel': 'rbf', 'C': 0.10262508316262356, 'gamma': 0.017978815060663712, 'epsilon': 0.0010075507654084199}. Best is trial 546 with value: -0.005522866675686452.\u001b[0m\n",
      "\u001b[32m[I 2022-08-05 12:36:03,150]\u001b[0m Trial 555 finished with value: -0.005542441482057098 and parameters: {'kernel': 'rbf', 'C': 0.10009742720490857, 'gamma': 0.0198648722967858, 'epsilon': 0.0019702843693397924}. Best is trial 546 with value: -0.005522866675686452.\u001b[0m\n",
      "\u001b[32m[I 2022-08-05 12:36:04,580]\u001b[0m Trial 554 finished with value: -0.005554256619530255 and parameters: {'kernel': 'rbf', 'C': 0.12254415990054751, 'gamma': 0.02107586855854872, 'epsilon': 0.0010635100788352575}. Best is trial 546 with value: -0.005522866675686452.\u001b[0m\n"
     ]
    },
    {
     "name": "stderr",
     "output_type": "stream",
     "text": [
      "\u001b[32m[I 2022-08-05 12:36:08,005]\u001b[0m Trial 556 finished with value: -0.005539992555831593 and parameters: {'kernel': 'rbf', 'C': 0.1029921186221217, 'gamma': 0.017806989822660782, 'epsilon': 0.0010083061331537307}. Best is trial 546 with value: -0.005522866675686452.\u001b[0m\n",
      "\u001b[32m[I 2022-08-05 12:36:08,005]\u001b[0m Trial 557 finished with value: -0.005545598129936745 and parameters: {'kernel': 'rbf', 'C': 0.10539630875304115, 'gamma': 0.015746716185919503, 'epsilon': 0.001955467761741044}. Best is trial 546 with value: -0.005522866675686452.\u001b[0m\n",
      "\u001b[32m[I 2022-08-05 12:36:09,974]\u001b[0m Trial 558 finished with value: -0.005530375707528201 and parameters: {'kernel': 'rbf', 'C': 0.11621370753023089, 'gamma': 0.015622551042233741, 'epsilon': 0.0013968340700592189}. Best is trial 546 with value: -0.005522866675686452.\u001b[0m\n",
      "\u001b[32m[I 2022-08-05 12:36:12,524]\u001b[0m Trial 559 finished with value: -0.005757791656445428 and parameters: {'kernel': 'rbf', 'C': 0.1490616252929554, 'gamma': 0.03845288182272793, 'epsilon': 0.0013990887561822253}. Best is trial 546 with value: -0.005522866675686452.\u001b[0m\n",
      "\u001b[32m[I 2022-08-05 12:36:14,905]\u001b[0m Trial 563 finished with value: -0.010206109119220548 and parameters: {'kernel': 'rbf', 'C': 0.14755143816361987, 'gamma': 0.012746293061148793, 'epsilon': 0.015837821545412377}. Best is trial 546 with value: -0.005522866675686452.\u001b[0m\n",
      "\u001b[32m[I 2022-08-05 12:36:15,773]\u001b[0m Trial 560 finished with value: -0.005538548800014864 and parameters: {'kernel': 'rbf', 'C': 0.1467267992389128, 'gamma': 0.01317255615661809, 'epsilon': 0.0013788893994770574}. Best is trial 546 with value: -0.005522866675686452.\u001b[0m\n",
      "\u001b[32m[I 2022-08-05 12:36:15,928]\u001b[0m Trial 561 finished with value: -0.005537421071649354 and parameters: {'kernel': 'rbf', 'C': 0.1432059719239103, 'gamma': 0.013361822618788306, 'epsilon': 0.0013529012825971697}. Best is trial 546 with value: -0.005522866675686452.\u001b[0m\n",
      "\u001b[32m[I 2022-08-05 12:36:18,512]\u001b[0m Trial 562 finished with value: -0.005544462643137489 and parameters: {'kernel': 'rbf', 'C': 0.14226454571123343, 'gamma': 0.012716763322474928, 'epsilon': 0.0013201477985738085}. Best is trial 546 with value: -0.005522866675686452.\u001b[0m\n",
      "\u001b[32m[I 2022-08-05 12:36:20,321]\u001b[0m Trial 564 finished with value: -0.00558110625977187 and parameters: {'kernel': 'rbf', 'C': 0.0850989338167801, 'gamma': 0.013904094133174533, 'epsilon': 0.0016234595879079878}. Best is trial 546 with value: -0.005522866675686452.\u001b[0m\n",
      "\u001b[32m[I 2022-08-05 12:36:21,586]\u001b[0m Trial 565 finished with value: -0.0055683650141003125 and parameters: {'kernel': 'rbf', 'C': 0.083730562378037, 'gamma': 0.015100984358019773, 'epsilon': 0.0016526546710527964}. Best is trial 546 with value: -0.005522866675686452.\u001b[0m\n",
      "\u001b[32m[I 2022-08-05 12:36:22,391]\u001b[0m Trial 566 finished with value: -0.005565678141123066 and parameters: {'kernel': 'rbf', 'C': 0.12499134604420976, 'gamma': 0.022541091146054057, 'epsilon': 0.001648605248999479}. Best is trial 546 with value: -0.005522866675686452.\u001b[0m\n",
      "\u001b[32m[I 2022-08-05 12:36:23,622]\u001b[0m Trial 567 finished with value: -0.005566619211323746 and parameters: {'kernel': 'rbf', 'C': 0.08738137567989153, 'gamma': 0.017425856081007867, 'epsilon': 0.002265627589606021}. Best is trial 546 with value: -0.005522866675686452.\u001b[0m\n",
      "\u001b[32m[I 2022-08-05 12:36:25,278]\u001b[0m Trial 568 finished with value: -0.005544943730337199 and parameters: {'kernel': 'rbf', 'C': 0.12036483423215255, 'gamma': 0.017469188269898597, 'epsilon': 0.0023334515898549095}. Best is trial 546 with value: -0.005522866675686452.\u001b[0m\n",
      "\u001b[32m[I 2022-08-05 12:36:25,710]\u001b[0m Trial 570 finished with value: -0.006118506181782128 and parameters: {'kernel': 'rbf', 'C': 0.11548128502436854, 'gamma': 0.01820671630198421, 'epsilon': 0.005956264974470091}. Best is trial 546 with value: -0.005522866675686452.\u001b[0m\n",
      "\u001b[32m[I 2022-08-05 12:36:26,430]\u001b[0m Trial 569 finished with value: -0.00558928475606565 and parameters: {'kernel': 'rbf', 'C': 0.12329990515571508, 'gamma': 0.02280502008033859, 'epsilon': 0.0021600713912774496}. Best is trial 546 with value: -0.005522866675686452.\u001b[0m\n",
      "\u001b[32m[I 2022-08-05 12:36:30,145]\u001b[0m Trial 571 finished with value: -0.00553058688684088 and parameters: {'kernel': 'rbf', 'C': 0.11763766551928466, 'gamma': 0.018046696149621275, 'epsilon': 0.0018363243444174764}. Best is trial 546 with value: -0.005522866675686452.\u001b[0m\n",
      "\u001b[32m[I 2022-08-05 12:36:31,359]\u001b[0m Trial 572 finished with value: -0.005537242873037672 and parameters: {'kernel': 'rbf', 'C': 0.10896484475793085, 'gamma': 0.019909604511793348, 'epsilon': 0.0018700909522933794}. Best is trial 546 with value: -0.005522866675686452.\u001b[0m\n",
      "\u001b[32m[I 2022-08-05 12:36:32,300]\u001b[0m Trial 573 finished with value: -0.005603447416428572 and parameters: {'kernel': 'rbf', 'C': 0.17202301028553083, 'gamma': 0.02150665247248506, 'epsilon': 0.0019326734337727284}. Best is trial 546 with value: -0.005522866675686452.\u001b[0m\n",
      "\u001b[32m[I 2022-08-05 12:36:33,206]\u001b[0m Trial 574 finished with value: -0.005532914874616681 and parameters: {'kernel': 'rbf', 'C': 0.1725239600548684, 'gamma': 0.015483988276260413, 'epsilon': 0.0018459116132060484}. Best is trial 546 with value: -0.005522866675686452.\u001b[0m\n",
      "\u001b[32m[I 2022-08-05 12:36:38,878]\u001b[0m Trial 575 finished with value: -0.005540239761439507 and parameters: {'kernel': 'rbf', 'C': 0.17122391464632886, 'gamma': 0.01549347239734212, 'epsilon': 0.0011391371766572473}. Best is trial 546 with value: -0.005522866675686452.\u001b[0m\n",
      "\u001b[32m[I 2022-08-05 12:36:40,748]\u001b[0m Trial 577 finished with value: -0.005552142623608375 and parameters: {'kernel': 'rbf', 'C': 0.09474237072545266, 'gamma': 0.015281232891273625, 'epsilon': 0.001165060640959469}. Best is trial 546 with value: -0.005522866675686452.\u001b[0m\n",
      "\u001b[32m[I 2022-08-05 12:36:40,765]\u001b[0m Trial 576 finished with value: -0.005538267295315456 and parameters: {'kernel': 'rbf', 'C': 0.16759753236511066, 'gamma': 0.01566957511029348, 'epsilon': 0.0011527755485193295}. Best is trial 546 with value: -0.005522866675686452.\u001b[0m\n",
      "\u001b[32m[I 2022-08-05 12:36:42,317]\u001b[0m Trial 578 finished with value: -0.00554820283775519 and parameters: {'kernel': 'rbf', 'C': 0.09714190222744276, 'gamma': 0.015566876101744861, 'epsilon': 0.0011193495642733882}. Best is trial 546 with value: -0.005522866675686452.\u001b[0m\n",
      "\u001b[32m[I 2022-08-05 12:36:45,382]\u001b[0m Trial 579 finished with value: -0.005542200761943395 and parameters: {'kernel': 'rbf', 'C': 0.09685788214469686, 'gamma': 0.015285853933727554, 'epsilon': 0.0015163074573252822}. Best is trial 546 with value: -0.005522866675686452.\u001b[0m\n",
      "\u001b[32m[I 2022-08-05 12:36:47,589]\u001b[0m Trial 581 finished with value: -0.005607650474763341 and parameters: {'kernel': 'rbf', 'C': 0.13230868090446504, 'gamma': 0.00948850816055623, 'epsilon': 0.0015326732147938828}. Best is trial 546 with value: -0.005522866675686452.\u001b[0m\n",
      "\u001b[32m[I 2022-08-05 12:36:47,745]\u001b[0m Trial 580 finished with value: -0.0055644124443169065 and parameters: {'kernel': 'rbf', 'C': 0.13309266114658724, 'gamma': 0.011453694093230831, 'epsilon': 0.001499927724508584}. Best is trial 546 with value: -0.005522866675686452.\u001b[0m\n",
      "\u001b[32m[I 2022-08-05 12:36:49,448]\u001b[0m Trial 582 finished with value: -0.005532897813894599 and parameters: {'kernel': 'rbf', 'C': 0.13253803887938925, 'gamma': 0.019190900796381825, 'epsilon': 0.0015576045279192064}. Best is trial 546 with value: -0.005522866675686452.\u001b[0m\n",
      "\u001b[32m[I 2022-08-05 12:36:52,447]\u001b[0m Trial 583 finished with value: -0.005558974856001326 and parameters: {'kernel': 'rbf', 'C': 0.1338406977142399, 'gamma': 0.011829964802119489, 'epsilon': 0.0015427983434724878}. Best is trial 546 with value: -0.005522866675686452.\u001b[0m\n",
      "\u001b[32m[I 2022-08-05 12:36:55,540]\u001b[0m Trial 585 finished with value: -0.005558241795705036 and parameters: {'kernel': 'rbf', 'C': 0.07509363494075764, 'gamma': 0.02003295954968115, 'epsilon': 0.0012886514663231158}. Best is trial 546 with value: -0.005522866675686452.\u001b[0m\n",
      "\u001b[32m[I 2022-08-05 12:36:56,015]\u001b[0m Trial 584 finished with value: -0.005563975754324992 and parameters: {'kernel': 'rbf', 'C': 0.13155900039528803, 'gamma': 0.011791246777090132, 'epsilon': 0.001293804448928621}. Best is trial 546 with value: -0.005522866675686452.\u001b[0m\n",
      "\u001b[32m[I 2022-08-05 12:36:56,943]\u001b[0m Trial 586 finished with value: -0.005620271065873516 and parameters: {'kernel': 'rbf', 'C': 0.07017337009490972, 'gamma': 0.013617925827341898, 'epsilon': 0.0012883893136461917}. Best is trial 546 with value: -0.005522866675686452.\u001b[0m\n"
     ]
    },
    {
     "name": "stderr",
     "output_type": "stream",
     "text": [
      "\u001b[32m[I 2022-08-05 12:37:00,064]\u001b[0m Trial 587 finished with value: -0.0055324204121256805 and parameters: {'kernel': 'rbf', 'C': 0.10860169460799096, 'gamma': 0.020198368306794206, 'epsilon': 0.0013063577994949737}. Best is trial 546 with value: -0.005522866675686452.\u001b[0m\n",
      "\u001b[32m[I 2022-08-05 12:37:02,846]\u001b[0m Trial 589 finished with value: -0.0055276404148871285 and parameters: {'kernel': 'rbf', 'C': 0.1099786953133534, 'gamma': 0.01752442194729398, 'epsilon': 0.0017283288798459855}. Best is trial 546 with value: -0.005522866675686452.\u001b[0m\n",
      "\u001b[32m[I 2022-08-05 12:37:02,980]\u001b[0m Trial 588 finished with value: -0.0055304093286032575 and parameters: {'kernel': 'rbf', 'C': 0.1083596355537264, 'gamma': 0.018157067339305222, 'epsilon': 0.0012846502656982633}. Best is trial 546 with value: -0.005522866675686452.\u001b[0m\n",
      "\u001b[32m[I 2022-08-05 12:37:03,853]\u001b[0m Trial 590 finished with value: -0.005528899085887067 and parameters: {'kernel': 'rbf', 'C': 0.10823038253483624, 'gamma': 0.017632056675930846, 'epsilon': 0.001758278016811225}. Best is trial 546 with value: -0.005522866675686452.\u001b[0m\n",
      "\u001b[32m[I 2022-08-05 12:37:05,225]\u001b[0m Trial 592 finished with value: -0.006608884778172524 and parameters: {'kernel': 'rbf', 'C': 0.15845358579520397, 'gamma': 0.017260821735990643, 'epsilon': 0.007600217035202811}. Best is trial 546 with value: -0.005522866675686452.\u001b[0m\n",
      "\u001b[32m[I 2022-08-05 12:37:06,566]\u001b[0m Trial 594 finished with value: -0.006736233966529824 and parameters: {'kernel': 'rbf', 'C': 0.07931143221269629, 'gamma': 0.02379113225850494, 'epsilon': 0.007519315778782861}. Best is trial 546 with value: -0.005522866675686452.\u001b[0m\n",
      "\u001b[32m[I 2022-08-05 12:37:06,951]\u001b[0m Trial 591 finished with value: -0.005531344442183642 and parameters: {'kernel': 'rbf', 'C': 0.15376201696856867, 'gamma': 0.01698932653950165, 'epsilon': 0.0017706359775124603}. Best is trial 546 with value: -0.005522866675686452.\u001b[0m\n",
      "\u001b[32m[I 2022-08-05 12:37:08,723]\u001b[0m Trial 593 finished with value: -0.00553369256217486 and parameters: {'kernel': 'rbf', 'C': 0.15205694280629292, 'gamma': 0.013746402201671087, 'epsilon': 0.001705770504161394}. Best is trial 546 with value: -0.005522866675686452.\u001b[0m\n",
      "\u001b[32m[I 2022-08-05 12:37:09,507]\u001b[0m Trial 595 finished with value: -0.005609893160783206 and parameters: {'kernel': 'rbf', 'C': 0.07980863594615471, 'gamma': 0.02403335420157675, 'epsilon': 0.0027070800597881533}. Best is trial 546 with value: -0.005522866675686452.\u001b[0m\n",
      "\u001b[32m[I 2022-08-05 12:37:10,924]\u001b[0m Trial 596 finished with value: -0.005576990738207243 and parameters: {'kernel': 'rbf', 'C': 0.09656096452174677, 'gamma': 0.01385534416853977, 'epsilon': 0.002133766414325997}. Best is trial 546 with value: -0.005522866675686452.\u001b[0m\n",
      "\u001b[32m[I 2022-08-05 12:37:12,205]\u001b[0m Trial 597 finished with value: -0.0075722663018492845 and parameters: {'kernel': 'rbf', 'C': 0.09889543822981035, 'gamma': 0.9711979821131912, 'epsilon': 0.0025940216398448904}. Best is trial 546 with value: -0.005522866675686452.\u001b[0m\n",
      "\u001b[32m[I 2022-08-05 12:37:12,798]\u001b[0m Trial 600 finished with value: -0.045584497709053845 and parameters: {'kernel': 'rbf', 'C': 0.20124666960154183, 'gamma': 0.021139976057808752, 'epsilon': 0.6687175590674497}. Best is trial 546 with value: -0.005522866675686452.\u001b[0m\n",
      "\u001b[32m[I 2022-08-05 12:37:13,033]\u001b[0m Trial 598 finished with value: -0.005584512363813015 and parameters: {'kernel': 'rbf', 'C': 0.0981350117041416, 'gamma': 0.022408135167983866, 'epsilon': 0.00252918255105734}. Best is trial 546 with value: -0.005522866675686452.\u001b[0m\n",
      "\u001b[32m[I 2022-08-05 12:37:17,138]\u001b[0m Trial 599 finished with value: -0.0063822734296667865 and parameters: {'kernel': 'poly', 'C': 0.09950822982158791, 'gamma': 0.02109053647786826, 'epsilon': 0.0017893943274861473}. Best is trial 546 with value: -0.005522866675686452.\u001b[0m\n",
      "\u001b[32m[I 2022-08-05 12:37:18,241]\u001b[0m Trial 601 finished with value: -0.005546753013434496 and parameters: {'kernel': 'rbf', 'C': 0.112188480871348, 'gamma': 0.02079651384660133, 'epsilon': 0.0019729753995990145}. Best is trial 546 with value: -0.005522866675686452.\u001b[0m\n",
      "\u001b[32m[I 2022-08-05 12:37:18,241]\u001b[0m Trial 602 finished with value: -0.005540836078950303 and parameters: {'kernel': 'rbf', 'C': 0.11747213832949838, 'gamma': 0.017523747561363975, 'epsilon': 0.0021688798385197778}. Best is trial 546 with value: -0.005522866675686452.\u001b[0m\n",
      "\u001b[32m[I 2022-08-05 12:37:19,141]\u001b[0m Trial 603 finished with value: -0.006383489281287858 and parameters: {'kernel': 'poly', 'C': 0.11516522432642079, 'gamma': 0.017827972452263616, 'epsilon': 0.002089084645898632}. Best is trial 546 with value: -0.005522866675686452.\u001b[0m\n",
      "\u001b[32m[I 2022-08-05 12:37:22,778]\u001b[0m Trial 604 finished with value: -0.005534582005742794 and parameters: {'kernel': 'rbf', 'C': 0.11410027499626145, 'gamma': 0.017259706510798434, 'epsilon': 0.0019871809252094115}. Best is trial 546 with value: -0.005522866675686452.\u001b[0m\n",
      "\u001b[32m[I 2022-08-05 12:37:25,089]\u001b[0m Trial 606 finished with value: -0.005537180375880393 and parameters: {'kernel': 'rbf', 'C': 0.12186428028949646, 'gamma': 0.014075992596278494, 'epsilon': 0.0016124275428322367}. Best is trial 546 with value: -0.005522866675686452.\u001b[0m\n",
      "\u001b[32m[I 2022-08-05 12:37:25,189]\u001b[0m Trial 605 finished with value: -0.005536832753541975 and parameters: {'kernel': 'rbf', 'C': 0.11910347014930714, 'gamma': 0.014183774269179541, 'epsilon': 0.0015394469663899467}. Best is trial 546 with value: -0.005522866675686452.\u001b[0m\n",
      "\u001b[32m[I 2022-08-05 12:37:25,881]\u001b[0m Trial 607 finished with value: -0.005582940363972212 and parameters: {'kernel': 'rbf', 'C': 0.14488208379306672, 'gamma': 0.010130524007120357, 'epsilon': 0.001502177264956905}. Best is trial 546 with value: -0.005522866675686452.\u001b[0m\n",
      "\u001b[32m[I 2022-08-05 12:37:30,336]\u001b[0m Trial 608 finished with value: -0.005583906972197533 and parameters: {'kernel': 'rbf', 'C': 0.1439713141335266, 'gamma': 0.010184601792937521, 'epsilon': 0.0016163634737862633}. Best is trial 546 with value: -0.005522866675686452.\u001b[0m\n",
      "\u001b[32m[I 2022-08-05 12:37:32,083]\u001b[0m Trial 610 finished with value: -0.005677891046882722 and parameters: {'kernel': 'rbf', 'C': 0.14924397423854718, 'gamma': 0.028098560310344262, 'epsilon': 0.0016903277425568432}. Best is trial 546 with value: -0.005522866675686452.\u001b[0m\n",
      "\u001b[32m[I 2022-08-05 12:37:32,380]\u001b[0m Trial 609 finished with value: -0.005528073266615638 and parameters: {'kernel': 'rbf', 'C': 0.13551810699393568, 'gamma': 0.015228830096041342, 'epsilon': 0.0014466581237143853}. Best is trial 546 with value: -0.005522866675686452.\u001b[0m\n",
      "\u001b[32m[I 2022-08-05 12:37:32,504]\u001b[0m Trial 611 finished with value: -0.005553596551393729 and parameters: {'kernel': 'rbf', 'C': 0.08658511535203989, 'gamma': 0.015836604672450388, 'epsilon': 0.0017185866440531344}. Best is trial 546 with value: -0.005522866675686452.\u001b[0m\n",
      "\u001b[32m[I 2022-08-05 12:37:36,228]\u001b[0m Trial 612 finished with value: -0.005763514926421882 and parameters: {'kernel': 'rbf', 'C': 0.08616896866901708, 'gamma': 0.007349093223185345, 'epsilon': 0.0017486147930065121}. Best is trial 546 with value: -0.005522866675686452.\u001b[0m\n",
      "\u001b[32m[I 2022-08-05 12:37:41,091]\u001b[0m Trial 614 finished with value: -0.005644435323476463 and parameters: {'kernel': 'rbf', 'C': 0.1834438501342443, 'gamma': 0.007188033591125474, 'epsilon': 0.0010201717952762525}. Best is trial 546 with value: -0.005522866675686452.\u001b[0m\n",
      "\u001b[32m[I 2022-08-05 12:37:41,502]\u001b[0m Trial 615 finished with value: -0.0055364816209594655 and parameters: {'kernel': 'rbf', 'C': 0.1853389740024091, 'gamma': 0.012593719578358356, 'epsilon': 0.0014033387153817003}. Best is trial 546 with value: -0.005522866675686452.\u001b[0m\n",
      "\u001b[32m[I 2022-08-05 12:37:44,830]\u001b[0m Trial 616 finished with value: -0.005539362191841579 and parameters: {'kernel': 'rbf', 'C': 0.19190304039546696, 'gamma': 0.012286141616608848, 'epsilon': 0.0014298784025998691}. Best is trial 546 with value: -0.005522866675686452.\u001b[0m\n",
      "\u001b[32m[I 2022-08-05 12:37:50,472]\u001b[0m Trial 617 finished with value: -0.00553559803208224 and parameters: {'kernel': 'rbf', 'C': 0.1822414977428507, 'gamma': 0.012697216327606922, 'epsilon': 0.001408468929483614}. Best is trial 546 with value: -0.005522866675686452.\u001b[0m\n",
      "\u001b[32m[I 2022-08-05 12:37:50,795]\u001b[0m Trial 618 finished with value: -0.005538415757786529 and parameters: {'kernel': 'rbf', 'C': 0.16060688303667936, 'gamma': 0.012444286863291435, 'epsilon': 0.001420932954873938}. Best is trial 546 with value: -0.005522866675686452.\u001b[0m\n"
     ]
    },
    {
     "name": "stderr",
     "output_type": "stream",
     "text": [
      "\u001b[32m[I 2022-08-05 12:37:55,862]\u001b[0m Trial 619 finished with value: -0.005553331469766001 and parameters: {'kernel': 'rbf', 'C': 0.213944259102321, 'gamma': 0.014813753418643378, 'epsilon': 0.0011345257591977107}. Best is trial 546 with value: -0.005522866675686452.\u001b[0m\n",
      "\u001b[32m[I 2022-08-05 12:38:00,298]\u001b[0m Trial 620 finished with value: -0.005534177384802919 and parameters: {'kernel': 'rbf', 'C': 0.13337330406558262, 'gamma': 0.014992174059894251, 'epsilon': 0.0011631844347317528}. Best is trial 546 with value: -0.005522866675686452.\u001b[0m\n",
      "\u001b[32m[I 2022-08-05 12:38:01,150]\u001b[0m Trial 621 finished with value: -0.0055328182522221435 and parameters: {'kernel': 'rbf', 'C': 0.1391599103013963, 'gamma': 0.015397815328064411, 'epsilon': 0.001159888903726586}. Best is trial 546 with value: -0.005522866675686452.\u001b[0m\n",
      "\u001b[32m[I 2022-08-05 12:38:05,203]\u001b[0m Trial 622 finished with value: -0.005530094897468072 and parameters: {'kernel': 'rbf', 'C': 0.1341100863906898, 'gamma': 0.01556124037273582, 'epsilon': 0.0012055899826853168}. Best is trial 546 with value: -0.005522866675686452.\u001b[0m\n",
      "\u001b[32m[I 2022-08-05 12:38:09,107]\u001b[0m Trial 623 finished with value: -0.005529783945094193 and parameters: {'kernel': 'rbf', 'C': 0.12988614376606508, 'gamma': 0.01572650613407024, 'epsilon': 0.0012906637489748843}. Best is trial 546 with value: -0.005522866675686452.\u001b[0m\n",
      "\u001b[32m[I 2022-08-05 12:38:10,499]\u001b[0m Trial 624 finished with value: -0.005547542442207555 and parameters: {'kernel': 'rbf', 'C': 0.15371285332342907, 'gamma': 0.018811468418112796, 'epsilon': 0.0012885150581689582}. Best is trial 546 with value: -0.005522866675686452.\u001b[0m\n",
      "\u001b[32m[I 2022-08-05 12:38:14,263]\u001b[0m Trial 625 finished with value: -0.005544454390960268 and parameters: {'kernel': 'rbf', 'C': 0.15914381966691446, 'gamma': 0.018701418973953395, 'epsilon': 0.0014679498801032224}. Best is trial 546 with value: -0.005522866675686452.\u001b[0m\n",
      "\u001b[32m[I 2022-08-05 12:38:19,254]\u001b[0m Trial 627 finished with value: -0.005530064961188167 and parameters: {'kernel': 'rbf', 'C': 0.12612316203746873, 'gamma': 0.018811993241122024, 'epsilon': 0.0015386860091016366}. Best is trial 546 with value: -0.005522866675686452.\u001b[0m\n",
      "\u001b[32m[I 2022-08-05 12:38:19,903]\u001b[0m Trial 626 finished with value: -0.00556036794374887 and parameters: {'kernel': 'rbf', 'C': 0.16009035140183242, 'gamma': 0.01904711267438151, 'epsilon': 0.0010099195305460008}. Best is trial 546 with value: -0.005522866675686452.\u001b[0m\n",
      "\u001b[32m[I 2022-08-05 12:38:21,754]\u001b[0m Trial 628 finished with value: -0.005588066269466502 and parameters: {'kernel': 'rbf', 'C': 0.12760609712912, 'gamma': 0.010556497926058478, 'epsilon': 0.001565181612961347}. Best is trial 546 with value: -0.005522866675686452.\u001b[0m\n",
      "\u001b[32m[I 2022-08-05 12:38:26,761]\u001b[0m Trial 630 finished with value: -0.00559918022947036 and parameters: {'kernel': 'rbf', 'C': 0.10436497733926468, 'gamma': 0.011313871890888925, 'epsilon': 0.0018069092931817987}. Best is trial 546 with value: -0.005522866675686452.\u001b[0m\n",
      "\u001b[32m[I 2022-08-05 12:38:27,792]\u001b[0m Trial 629 finished with value: -0.005559250597217902 and parameters: {'kernel': 'rbf', 'C': 0.10583832661250608, 'gamma': 0.014046085571104823, 'epsilon': 0.0010036624340850424}. Best is trial 546 with value: -0.005522866675686452.\u001b[0m\n",
      "\u001b[32m[I 2022-08-05 12:38:28,337]\u001b[0m Trial 631 finished with value: -0.005556878397092022 and parameters: {'kernel': 'rbf', 'C': 0.10555403664005293, 'gamma': 0.014105382895442952, 'epsilon': 0.0018718124622426368}. Best is trial 546 with value: -0.005522866675686452.\u001b[0m\n",
      "\u001b[32m[I 2022-08-05 12:38:33,240]\u001b[0m Trial 632 finished with value: -0.0055636971961898546 and parameters: {'kernel': 'rbf', 'C': 0.10755625568788714, 'gamma': 0.013456524171404359, 'epsilon': 0.0019703805906012145}. Best is trial 546 with value: -0.005522866675686452.\u001b[0m\n",
      "\u001b[32m[I 2022-08-05 12:38:35,300]\u001b[0m Trial 633 finished with value: -0.005564662274766391 and parameters: {'kernel': 'rbf', 'C': 0.22032227127363188, 'gamma': 0.016345658157377877, 'epsilon': 0.0020308454958527845}. Best is trial 546 with value: -0.005522866675686452.\u001b[0m\n",
      "\u001b[32m[I 2022-08-05 12:38:36,477]\u001b[0m Trial 634 finished with value: -0.005526432412746354 and parameters: {'kernel': 'rbf', 'C': 0.14307967490324766, 'gamma': 0.017044867530471113, 'epsilon': 0.001385419657562191}. Best is trial 546 with value: -0.005522866675686452.\u001b[0m\n",
      "\u001b[32m[I 2022-08-05 12:38:40,799]\u001b[0m Trial 635 finished with value: -0.00552693202479017 and parameters: {'kernel': 'rbf', 'C': 0.14671534398363123, 'gamma': 0.01604492303596054, 'epsilon': 0.001379924361725486}. Best is trial 546 with value: -0.005522866675686452.\u001b[0m\n",
      "\u001b[32m[I 2022-08-05 12:38:40,960]\u001b[0m Trial 636 finished with value: -0.006075864089563389 and parameters: {'kernel': 'rbf', 'C': 0.14254513805447142, 'gamma': 0.0020670042202798533, 'epsilon': 0.0014096884526085267}. Best is trial 546 with value: -0.005522866675686452.\u001b[0m\n",
      "\u001b[32m[I 2022-08-05 12:38:41,089]\u001b[0m Trial 613 finished with value: -0.006735443284934848 and parameters: {'kernel': 'rbf', 'C': 9.878344229364433, 'gamma': 0.01547027650661742, 'epsilon': 0.001419687935521358}. Best is trial 546 with value: -0.005522866675686452.\u001b[0m\n",
      "\u001b[32m[I 2022-08-05 12:38:45,573]\u001b[0m Trial 637 finished with value: -0.005624950034740456 and parameters: {'kernel': 'rbf', 'C': 0.17197005041949925, 'gamma': 0.02342585724639291, 'epsilon': 0.0013037074032960997}. Best is trial 546 with value: -0.005522866675686452.\u001b[0m\n",
      "\u001b[32m[I 2022-08-05 12:38:49,537]\u001b[0m Trial 638 finished with value: -0.005654455878897966 and parameters: {'kernel': 'rbf', 'C': 0.1852608775429091, 'gamma': 0.024402848893108713, 'epsilon': 0.00138500097682955}. Best is trial 546 with value: -0.005522866675686452.\u001b[0m\n",
      "\u001b[32m[I 2022-08-05 12:38:50,071]\u001b[0m Trial 639 finished with value: -0.005634002159883042 and parameters: {'kernel': 'rbf', 'C': 0.1737278812752072, 'gamma': 0.02398475239989944, 'epsilon': 0.0013035981257814868}. Best is trial 546 with value: -0.005522866675686452.\u001b[0m\n",
      "\u001b[32m[I 2022-08-05 12:38:50,943]\u001b[0m Trial 640 finished with value: -0.005661757305575899 and parameters: {'kernel': 'rbf', 'C': 0.2039170608814296, 'gamma': 0.023955730171300982, 'epsilon': 0.0012489231539830586}. Best is trial 546 with value: -0.005522866675686452.\u001b[0m\n",
      "\u001b[32m[I 2022-08-05 12:38:53,093]\u001b[0m Trial 641 finished with value: -0.005588013022589322 and parameters: {'kernel': 'rbf', 'C': 0.18044196476889254, 'gamma': 0.02075863022646719, 'epsilon': 0.0016579533397910722}. Best is trial 546 with value: -0.005522866675686452.\u001b[0m\n",
      "\u001b[32m[I 2022-08-05 12:38:56,840]\u001b[0m Trial 642 finished with value: -0.0055621477749363945 and parameters: {'kernel': 'rbf', 'C': 0.15892355255315413, 'gamma': 0.019998940734317572, 'epsilon': 0.0017148334525978691}. Best is trial 546 with value: -0.005522866675686452.\u001b[0m\n",
      "\u001b[32m[I 2022-08-05 12:38:58,163]\u001b[0m Trial 643 finished with value: -0.005609433672242811 and parameters: {'kernel': 'rbf', 'C': 0.21038011909396936, 'gamma': 0.02041147148100092, 'epsilon': 0.0016539585667593988}. Best is trial 546 with value: -0.005522866675686452.\u001b[0m\n",
      "\u001b[32m[I 2022-08-05 12:38:59,186]\u001b[0m Trial 644 finished with value: -0.005551262623371925 and parameters: {'kernel': 'rbf', 'C': 0.14836643534247781, 'gamma': 0.019753928908291453, 'epsilon': 0.0016414264483914022}. Best is trial 546 with value: -0.005522866675686452.\u001b[0m\n",
      "\u001b[32m[I 2022-08-05 12:39:01,336]\u001b[0m Trial 645 finished with value: -0.005532042843750803 and parameters: {'kernel': 'rbf', 'C': 0.15249512753273065, 'gamma': 0.017547911601732188, 'epsilon': 0.0016376950773597024}. Best is trial 546 with value: -0.005522866675686452.\u001b[0m\n",
      "\u001b[32m[I 2022-08-05 12:39:05,846]\u001b[0m Trial 646 finished with value: -0.005535409264581453 and parameters: {'kernel': 'rbf', 'C': 0.14104830336867835, 'gamma': 0.01706940399681172, 'epsilon': 0.0010962762205540002}. Best is trial 546 with value: -0.005522866675686452.\u001b[0m\n",
      "\u001b[32m[I 2022-08-05 12:39:07,050]\u001b[0m Trial 647 finished with value: -0.005534651129604122 and parameters: {'kernel': 'rbf', 'C': 0.1426247556761743, 'gamma': 0.01697930243942013, 'epsilon': 0.0010841306256620623}. Best is trial 546 with value: -0.005522866675686452.\u001b[0m\n",
      "\u001b[32m[I 2022-08-05 12:39:09,190]\u001b[0m Trial 649 finished with value: -0.0055744001534072775 and parameters: {'kernel': 'rbf', 'C': 0.2649611283636722, 'gamma': 0.013013618914306352, 'epsilon': 0.0023504449783392353}. Best is trial 546 with value: -0.005522866675686452.\u001b[0m\n"
     ]
    },
    {
     "name": "stderr",
     "output_type": "stream",
     "text": [
      "\u001b[32m[I 2022-08-05 12:39:09,508]\u001b[0m Trial 648 finished with value: -0.00572462627141068 and parameters: {'kernel': 'rbf', 'C': 0.14545186135706267, 'gamma': 0.03276045072637685, 'epsilon': 0.0010040925541280462}. Best is trial 546 with value: -0.005522866675686452.\u001b[0m\n",
      "\u001b[32m[I 2022-08-05 12:39:11,660]\u001b[0m Trial 650 finished with value: -0.005572704911118379 and parameters: {'kernel': 'rbf', 'C': 0.2772795536224563, 'gamma': 0.011484733317742224, 'epsilon': 0.002296679768137497}. Best is trial 546 with value: -0.005522866675686452.\u001b[0m\n",
      "\u001b[32m[I 2022-08-05 12:39:11,832]\u001b[0m Trial 651 finished with value: -0.005565183362061748 and parameters: {'kernel': 'rbf', 'C': 0.12418823412365777, 'gamma': 0.013504427410116695, 'epsilon': 0.0023306565715783514}. Best is trial 546 with value: -0.005522866675686452.\u001b[0m\n",
      "\u001b[32m[I 2022-08-05 12:39:15,588]\u001b[0m Trial 653 finished with value: -0.006534958219422688 and parameters: {'kernel': 'poly', 'C': 0.12305743253520794, 'gamma': 0.01107810428653037, 'epsilon': 0.0014525841838857205}. Best is trial 546 with value: -0.005522866675686452.\u001b[0m\n",
      "\u001b[32m[I 2022-08-05 12:39:15,735]\u001b[0m Trial 652 finished with value: -0.005572954827094188 and parameters: {'kernel': 'rbf', 'C': 0.11987549144486188, 'gamma': 0.011672394419066288, 'epsilon': 0.0014181565317307806}. Best is trial 546 with value: -0.005522866675686452.\u001b[0m\n",
      "\u001b[32m[I 2022-08-05 12:39:19,096]\u001b[0m Trial 654 finished with value: -0.006453507867212594 and parameters: {'kernel': 'poly', 'C': 0.12429002331438517, 'gamma': 0.014105980096493246, 'epsilon': 0.001460323497770998}. Best is trial 546 with value: -0.005522866675686452.\u001b[0m\n",
      "\u001b[32m[I 2022-08-05 12:39:19,874]\u001b[0m Trial 655 finished with value: -0.005531113979098264 and parameters: {'kernel': 'rbf', 'C': 0.12757132439904476, 'gamma': 0.014641065283475483, 'epsilon': 0.001459977209436752}. Best is trial 546 with value: -0.005522866675686452.\u001b[0m\n",
      "\u001b[32m[I 2022-08-05 12:39:20,855]\u001b[0m Trial 656 finished with value: -0.005566008011800726 and parameters: {'kernel': 'rbf', 'C': 0.09186578500187007, 'gamma': 0.014618679707697537, 'epsilon': 0.0018785382491452176}. Best is trial 546 with value: -0.005522866675686452.\u001b[0m\n",
      "\u001b[32m[I 2022-08-05 12:39:21,903]\u001b[0m Trial 657 finished with value: -0.0055313215816459255 and parameters: {'kernel': 'rbf', 'C': 0.1708630054275253, 'gamma': 0.015052475536555865, 'epsilon': 0.0019056808612776855}. Best is trial 546 with value: -0.005522866675686452.\u001b[0m\n",
      "\u001b[32m[I 2022-08-05 12:39:24,344]\u001b[0m Trial 658 finished with value: -0.00555448735949615 and parameters: {'kernel': 'rbf', 'C': 0.0921733338533429, 'gamma': 0.016025078776880752, 'epsilon': 0.0019156832128209413}. Best is trial 546 with value: -0.005522866675686452.\u001b[0m\n",
      "\u001b[32m[I 2022-08-05 12:39:25,257]\u001b[0m Trial 659 finished with value: -0.005552102196769784 and parameters: {'kernel': 'rbf', 'C': 0.09310760528987325, 'gamma': 0.016271978396585434, 'epsilon': 0.0019078476024738439}. Best is trial 546 with value: -0.005522866675686452.\u001b[0m\n",
      "\u001b[32m[I 2022-08-05 12:39:30,763]\u001b[0m Trial 660 finished with value: -0.005538574587161356 and parameters: {'kernel': 'rbf', 'C': 0.1575236565019818, 'gamma': 0.016933676163522284, 'epsilon': 0.0011499870451217502}. Best is trial 546 with value: -0.005522866675686452.\u001b[0m\n",
      "\u001b[32m[I 2022-08-05 12:39:31,997]\u001b[0m Trial 661 finished with value: -0.005547214958849718 and parameters: {'kernel': 'rbf', 'C': 0.15863013047983654, 'gamma': 0.018396781012568527, 'epsilon': 0.001172474976147358}. Best is trial 546 with value: -0.005522866675686452.\u001b[0m\n",
      "\u001b[32m[I 2022-08-05 12:39:33,371]\u001b[0m Trial 662 finished with value: -0.005548163376430271 and parameters: {'kernel': 'rbf', 'C': 0.15872512545621958, 'gamma': 0.018678663006227347, 'epsilon': 0.0012105955792376009}. Best is trial 546 with value: -0.005522866675686452.\u001b[0m\n",
      "\u001b[32m[I 2022-08-05 12:39:34,022]\u001b[0m Trial 663 finished with value: -0.005549220860938544 and parameters: {'kernel': 'rbf', 'C': 0.1593754357779505, 'gamma': 0.01839664164066314, 'epsilon': 0.0012552999752806957}. Best is trial 546 with value: -0.005522866675686452.\u001b[0m\n",
      "\u001b[32m[I 2022-08-05 12:39:38,177]\u001b[0m Trial 666 finished with value: -0.005790005356345255 and parameters: {'kernel': 'rbf', 'C': 0.1103120454236974, 'gamma': 0.02927368082101093, 'epsilon': 0.003561362171764363}. Best is trial 546 with value: -0.005522866675686452.\u001b[0m\n",
      "\u001b[32m[I 2022-08-05 12:39:38,926]\u001b[0m Trial 664 finished with value: -0.00553334132531877 and parameters: {'kernel': 'rbf', 'C': 0.135115492466217, 'gamma': 0.018756444606074445, 'epsilon': 0.0013102209245780436}. Best is trial 546 with value: -0.005522866675686452.\u001b[0m\n",
      "\u001b[32m[I 2022-08-05 12:39:39,521]\u001b[0m Trial 665 finished with value: -0.005611764879706583 and parameters: {'kernel': 'rbf', 'C': 0.11119292469100539, 'gamma': 0.027118161694698797, 'epsilon': 0.001253045693177195}. Best is trial 546 with value: -0.005522866675686452.\u001b[0m\n",
      "\u001b[32m[I 2022-08-05 12:39:41,146]\u001b[0m Trial 667 finished with value: -0.005626604814477496 and parameters: {'kernel': 'rbf', 'C': 0.11067703029037472, 'gamma': 0.028112796834716035, 'epsilon': 0.001611155178821481}. Best is trial 546 with value: -0.005522866675686452.\u001b[0m\n",
      "\u001b[32m[I 2022-08-05 12:39:44,564]\u001b[0m Trial 668 finished with value: -0.005542226643571318 and parameters: {'kernel': 'rbf', 'C': 0.13396026488468007, 'gamma': 0.01318998997668574, 'epsilon': 0.00160145888256774}. Best is trial 546 with value: -0.005522866675686452.\u001b[0m\n",
      "\u001b[32m[I 2022-08-05 12:39:45,892]\u001b[0m Trial 669 finished with value: -0.005552535081174689 and parameters: {'kernel': 'rbf', 'C': 0.11300687520400064, 'gamma': 0.022176357327738656, 'epsilon': 0.0016013154588926189}. Best is trial 546 with value: -0.005522866675686452.\u001b[0m\n",
      "\u001b[32m[I 2022-08-05 12:39:46,048]\u001b[0m Trial 670 finished with value: -0.0056092816602651896 and parameters: {'kernel': 'rbf', 'C': 0.13227446605659776, 'gamma': 0.009397001394033924, 'epsilon': 0.0015867771840562504}. Best is trial 546 with value: -0.005522866675686452.\u001b[0m\n",
      "\u001b[32m[I 2022-08-05 12:39:49,074]\u001b[0m Trial 671 finished with value: -0.005558216420359274 and parameters: {'kernel': 'rbf', 'C': 0.13126205055279683, 'gamma': 0.021404972361576565, 'epsilon': 0.0015625863020877892}. Best is trial 546 with value: -0.005522866675686452.\u001b[0m\n",
      "\u001b[32m[I 2022-08-05 12:39:50,430]\u001b[0m Trial 672 finished with value: -0.005740269989759289 and parameters: {'kernel': 'rbf', 'C': 0.07007206260352135, 'gamma': 0.009161284811301004, 'epsilon': 0.0015610851572905263}. Best is trial 546 with value: -0.005522866675686452.\u001b[0m\n",
      "\u001b[32m[I 2022-08-05 12:39:52,467]\u001b[0m Trial 673 finished with value: -0.005582228413317279 and parameters: {'kernel': 'rbf', 'C': 0.18774515375933884, 'gamma': 0.009170908377201574, 'epsilon': 0.0014348366307789288}. Best is trial 546 with value: -0.005522866675686452.\u001b[0m\n",
      "\u001b[32m[I 2022-08-05 12:39:52,935]\u001b[0m Trial 674 finished with value: -0.005547165121519817 and parameters: {'kernel': 'rbf', 'C': 0.19454292915693566, 'gamma': 0.012892323432606908, 'epsilon': 0.0021493267434250186}. Best is trial 546 with value: -0.005522866675686452.\u001b[0m\n",
      "\u001b[32m[I 2022-08-05 12:39:56,233]\u001b[0m Trial 675 finished with value: -0.005554535399789686 and parameters: {'kernel': 'rbf', 'C': 0.23605386793790786, 'gamma': 0.012969770547481654, 'epsilon': 0.0021104943497613367}. Best is trial 546 with value: -0.005522866675686452.\u001b[0m\n",
      "\u001b[32m[I 2022-08-05 12:39:57,535]\u001b[0m Trial 676 finished with value: -0.0055587512260062335 and parameters: {'kernel': 'rbf', 'C': 0.23894918895767764, 'gamma': 0.012200328757206148, 'epsilon': 0.0021390611194727284}. Best is trial 546 with value: -0.005522866675686452.\u001b[0m\n",
      "\u001b[32m[I 2022-08-05 12:39:58,382]\u001b[0m Trial 677 finished with value: -0.005587726839544867 and parameters: {'kernel': 'rbf', 'C': 0.09846468104568334, 'gamma': 0.012440924956306866, 'epsilon': 0.0018209747427491113}. Best is trial 546 with value: -0.005522866675686452.\u001b[0m\n",
      "\u001b[32m[I 2022-08-05 12:39:59,413]\u001b[0m Trial 680 finished with value: -0.04558449770905385 and parameters: {'kernel': 'rbf', 'C': 0.0966752147344624, 'gamma': 0.016245774311935808, 'epsilon': 0.09562091497568026}. Best is trial 546 with value: -0.005522866675686452.\u001b[0m\n",
      "\u001b[32m[I 2022-08-05 12:40:00,007]\u001b[0m Trial 678 finished with value: -0.005568528376909498 and parameters: {'kernel': 'rbf', 'C': 0.23209106058306228, 'gamma': 0.016999411244235423, 'epsilon': 0.0017656598483252273}. Best is trial 546 with value: -0.005522866675686452.\u001b[0m\n"
     ]
    },
    {
     "name": "stderr",
     "output_type": "stream",
     "text": [
      "\u001b[32m[I 2022-08-05 12:40:00,882]\u001b[0m Trial 679 finished with value: -0.00554263838500351 and parameters: {'kernel': 'rbf', 'C': 0.10029851459921177, 'gamma': 0.01624400469184963, 'epsilon': 0.0018128201708263346}. Best is trial 546 with value: -0.005522866675686452.\u001b[0m\n",
      "\u001b[32m[I 2022-08-05 12:40:06,137]\u001b[0m Trial 681 finished with value: -0.005528087296036919 and parameters: {'kernel': 'rbf', 'C': 0.14250499526876978, 'gamma': 0.016477126769466464, 'epsilon': 0.001333569879472196}. Best is trial 546 with value: -0.005522866675686452.\u001b[0m\n",
      "\u001b[32m[I 2022-08-05 12:40:06,469]\u001b[0m Trial 682 finished with value: -0.005558724019456992 and parameters: {'kernel': 'rbf', 'C': 0.08122657024873906, 'gamma': 0.01637200777211635, 'epsilon': 0.0013406926574499071}. Best is trial 546 with value: -0.005522866675686452.\u001b[0m\n",
      "\u001b[32m[I 2022-08-05 12:40:12,404]\u001b[0m Trial 684 finished with value: -0.005560260222494507 and parameters: {'kernel': 'rbf', 'C': 0.1438404091341471, 'gamma': 0.019865749715198663, 'epsilon': 0.0010120974843389988}. Best is trial 546 with value: -0.005522866675686452.\u001b[0m\n",
      "\u001b[32m[I 2022-08-05 12:40:18,325]\u001b[0m Trial 685 finished with value: -0.005592367061737563 and parameters: {'kernel': 'rbf', 'C': 0.17380963089272192, 'gamma': 0.020779903386598676, 'epsilon': 0.0010203330425982344}. Best is trial 546 with value: -0.005522866675686452.\u001b[0m\n",
      "\u001b[32m[I 2022-08-05 12:40:18,812]\u001b[0m Trial 686 finished with value: -0.00559549443999163 and parameters: {'kernel': 'rbf', 'C': 0.1664834489909024, 'gamma': 0.021318947804720406, 'epsilon': 0.0010079871759124152}. Best is trial 546 with value: -0.005522866675686452.\u001b[0m\n",
      "\u001b[32m[I 2022-08-05 12:40:25,356]\u001b[0m Trial 687 finished with value: -0.005597342846513155 and parameters: {'kernel': 'rbf', 'C': 0.17194273614951308, 'gamma': 0.02150434068053774, 'epsilon': 0.0012021549703665208}. Best is trial 546 with value: -0.005522866675686452.\u001b[0m\n",
      "\u001b[32m[I 2022-08-05 12:40:25,947]\u001b[0m Trial 683 finished with value: -0.006101364017466842 and parameters: {'kernel': 'rbf', 'C': 1.4335796869459672, 'gamma': 0.020623793615372588, 'epsilon': 0.0013282601519241381}. Best is trial 546 with value: -0.005522866675686452.\u001b[0m\n",
      "\u001b[32m[I 2022-08-05 12:40:27,805]\u001b[0m Trial 689 finished with value: -0.0055321553145496255 and parameters: {'kernel': 'rbf', 'C': 0.14351524881831365, 'gamma': 0.014662815458819723, 'epsilon': 0.0012482998934222112}. Best is trial 546 with value: -0.005522866675686452.\u001b[0m\n",
      "\u001b[32m[I 2022-08-05 12:40:27,930]\u001b[0m Trial 691 finished with value: -0.02639102398949973 and parameters: {'kernel': 'rbf', 'C': 0.14179687838453778, 'gamma': 0.014198724211605352, 'epsilon': 0.03442703723605037}. Best is trial 546 with value: -0.005522866675686452.\u001b[0m\n",
      "\u001b[32m[I 2022-08-05 12:40:28,149]\u001b[0m Trial 688 finished with value: -0.005537061556622826 and parameters: {'kernel': 'rbf', 'C': 0.16720232219408163, 'gamma': 0.013796329228543227, 'epsilon': 0.0011272605954303567}. Best is trial 546 with value: -0.005522866675686452.\u001b[0m\n",
      "\u001b[32m[I 2022-08-05 12:40:30,644]\u001b[0m Trial 694 finished with value: -0.04558449770905386 and parameters: {'kernel': 'rbf', 'C': 0.1228646090863595, 'gamma': 0.01816188915434371, 'epsilon': 0.1723633535626399}. Best is trial 546 with value: -0.005522866675686452.\u001b[0m\n",
      "\u001b[32m[I 2022-08-05 12:40:33,116]\u001b[0m Trial 690 finished with value: -0.005530140334314421 and parameters: {'kernel': 'rbf', 'C': 0.14401780135859937, 'gamma': 0.01425737793530513, 'epsilon': 0.001339588603838549}. Best is trial 546 with value: -0.005522866675686452.\u001b[0m\n",
      "\u001b[32m[I 2022-08-05 12:40:34,062]\u001b[0m Trial 692 finished with value: -0.00552526194801964 and parameters: {'kernel': 'rbf', 'C': 0.12372233776798328, 'gamma': 0.01771332103123304, 'epsilon': 0.0014696635116320579}. Best is trial 546 with value: -0.005522866675686452.\u001b[0m\n",
      "\u001b[32m[I 2022-08-05 12:40:34,191]\u001b[0m Trial 693 finished with value: -0.005525895366579483 and parameters: {'kernel': 'rbf', 'C': 0.12058762936611611, 'gamma': 0.017942676014325715, 'epsilon': 0.001413490429755723}. Best is trial 546 with value: -0.005522866675686452.\u001b[0m\n",
      "\u001b[32m[I 2022-08-05 12:40:40,083]\u001b[0m Trial 695 finished with value: -0.005562127550143727 and parameters: {'kernel': 'rbf', 'C': 0.20191035628710688, 'gamma': 0.017685175297498835, 'epsilon': 0.001423118164665217}. Best is trial 546 with value: -0.005522866675686452.\u001b[0m\n",
      "\u001b[32m[I 2022-08-05 12:40:41,800]\u001b[0m Trial 696 finished with value: -0.005565120723987104 and parameters: {'kernel': 'rbf', 'C': 0.2114189424423028, 'gamma': 0.017668156891694382, 'epsilon': 0.001483043390048126}. Best is trial 546 with value: -0.005522866675686452.\u001b[0m\n",
      "\u001b[32m[I 2022-08-05 12:40:42,228]\u001b[0m Trial 697 finished with value: -0.005590335962896814 and parameters: {'kernel': 'rbf', 'C': 0.11634162796591643, 'gamma': 0.025032388327657473, 'epsilon': 0.001470266642556564}. Best is trial 546 with value: -0.005522866675686452.\u001b[0m\n",
      "\u001b[32m[I 2022-08-05 12:40:42,369]\u001b[0m Trial 698 finished with value: -0.0055890822620845845 and parameters: {'kernel': 'rbf', 'C': 0.12043316410174491, 'gamma': 0.02487705476682239, 'epsilon': 0.0014573523160444936}. Best is trial 546 with value: -0.005522866675686452.\u001b[0m\n",
      "\u001b[32m[I 2022-08-05 12:40:43,292]\u001b[0m Trial 701 finished with value: -0.04546641716126629 and parameters: {'kernel': 'rbf', 'C': 0.12416990317558066, 'gamma': 0.02336023398740421, 'epsilon': 0.04967746132973678}. Best is trial 546 with value: -0.005522866675686452.\u001b[0m\n",
      "\u001b[32m[I 2022-08-05 12:40:49,380]\u001b[0m Trial 699 finished with value: -0.005581286188361581 and parameters: {'kernel': 'rbf', 'C': 0.12227957551118336, 'gamma': 0.023568469016460866, 'epsilon': 0.0011167204853090903}. Best is trial 546 with value: -0.005522866675686452.\u001b[0m\n",
      "\u001b[32m[I 2022-08-05 12:40:50,515]\u001b[0m Trial 700 finished with value: -0.005597312530272767 and parameters: {'kernel': 'rbf', 'C': 0.11866301636998249, 'gamma': 0.02512423690408717, 'epsilon': 0.0011170502740383515}. Best is trial 546 with value: -0.005522866675686452.\u001b[0m\n",
      "\u001b[32m[I 2022-08-05 12:40:51,199]\u001b[0m Trial 702 finished with value: -0.005544181890122507 and parameters: {'kernel': 'rbf', 'C': 0.13391313554425496, 'gamma': 0.01944497464813829, 'epsilon': 0.0011067076389917687}. Best is trial 546 with value: -0.005522866675686452.\u001b[0m\n",
      "\u001b[32m[I 2022-08-05 12:40:51,495]\u001b[0m Trial 703 finished with value: -0.005557555916551702 and parameters: {'kernel': 'rbf', 'C': 0.08311729208912755, 'gamma': 0.019695496070066643, 'epsilon': 0.0011050678818980933}. Best is trial 546 with value: -0.005522866675686452.\u001b[0m\n",
      "\u001b[32m[I 2022-08-05 12:40:54,676]\u001b[0m Trial 704 finished with value: -0.005547999703665594 and parameters: {'kernel': 'rbf', 'C': 0.08381092615941152, 'gamma': 0.019608710335340597, 'epsilon': 0.0018349227428512175}. Best is trial 546 with value: -0.005522866675686452.\u001b[0m\n",
      "\u001b[32m[I 2022-08-05 12:40:55,590]\u001b[0m Trial 705 finished with value: -0.00554685760189457 and parameters: {'kernel': 'rbf', 'C': 0.08507324022547995, 'gamma': 0.019444445529885748, 'epsilon': 0.001774040201773061}. Best is trial 546 with value: -0.005522866675686452.\u001b[0m\n",
      "\u001b[32m[I 2022-08-05 12:40:57,053]\u001b[0m Trial 706 finished with value: -0.005553138625930913 and parameters: {'kernel': 'rbf', 'C': 0.08198321264639523, 'gamma': 0.019169111926270736, 'epsilon': 0.0018769187993548301}. Best is trial 546 with value: -0.005522866675686452.\u001b[0m\n",
      "\u001b[32m[I 2022-08-05 12:40:58,220]\u001b[0m Trial 707 finished with value: -0.005535605617410574 and parameters: {'kernel': 'rbf', 'C': 0.10435783280030525, 'gamma': 0.01688724734842301, 'epsilon': 0.0017410746744296966}. Best is trial 546 with value: -0.005522866675686452.\u001b[0m\n",
      "\u001b[32m[I 2022-08-05 12:41:01,016]\u001b[0m Trial 708 finished with value: -0.00553640991816056 and parameters: {'kernel': 'rbf', 'C': 0.10338248903953746, 'gamma': 0.016390208377549023, 'epsilon': 0.0017307895239964532}. Best is trial 546 with value: -0.005522866675686452.\u001b[0m\n",
      "\u001b[32m[I 2022-08-05 12:41:03,353]\u001b[0m Trial 709 finished with value: -0.006442731059072351 and parameters: {'kernel': 'poly', 'C': 0.1064711882781621, 'gamma': 0.01690642817172564, 'epsilon': 0.0012723760110999155}. Best is trial 546 with value: -0.005522866675686452.\u001b[0m\n",
      "\u001b[32m[I 2022-08-05 12:41:04,415]\u001b[0m Trial 710 finished with value: -0.0064750458281004255 and parameters: {'kernel': 'poly', 'C': 0.10586119865995516, 'gamma': 0.01526118923127582, 'epsilon': 0.0012595163705597038}. Best is trial 546 with value: -0.005522866675686452.\u001b[0m\n"
     ]
    },
    {
     "name": "stderr",
     "output_type": "stream",
     "text": [
      "\u001b[32m[I 2022-08-05 12:41:08,377]\u001b[0m Trial 712 finished with value: -0.006526181947019331 and parameters: {'kernel': 'poly', 'C': 0.14960963129442534, 'gamma': 0.010825725813655674, 'epsilon': 0.0012944884674409446}. Best is trial 546 with value: -0.005522866675686452.\u001b[0m\n",
      "\u001b[32m[I 2022-08-05 12:41:12,495]\u001b[0m Trial 713 finished with value: -0.0055631421043947395 and parameters: {'kernel': 'rbf', 'C': 0.1437435158367987, 'gamma': 0.01122120128373932, 'epsilon': 0.001304006803931335}. Best is trial 546 with value: -0.005522866675686452.\u001b[0m\n",
      "\u001b[32m[I 2022-08-05 12:41:13,348]\u001b[0m Trial 714 finished with value: -0.005531389874358533 and parameters: {'kernel': 'rbf', 'C': 0.14202294941319288, 'gamma': 0.01418158610453454, 'epsilon': 0.0015512245555305323}. Best is trial 546 with value: -0.005522866675686452.\u001b[0m\n",
      "\u001b[32m[I 2022-08-05 12:41:16,516]\u001b[0m Trial 715 finished with value: -0.005534157547656351 and parameters: {'kernel': 'rbf', 'C': 0.13525797362521433, 'gamma': 0.014164883961332751, 'epsilon': 0.0015688824414428549}. Best is trial 546 with value: -0.005522866675686452.\u001b[0m\n",
      "\u001b[32m[I 2022-08-05 12:41:19,611]\u001b[0m Trial 716 finished with value: -0.005539019650519725 and parameters: {'kernel': 'rbf', 'C': 0.12592183000201726, 'gamma': 0.014018504417550202, 'epsilon': 0.0016099681098935125}. Best is trial 546 with value: -0.005522866675686452.\u001b[0m\n",
      "\u001b[32m[I 2022-08-05 12:41:19,771]\u001b[0m Trial 717 finished with value: -0.005549656693892834 and parameters: {'kernel': 'rbf', 'C': 0.12401199851927848, 'gamma': 0.014682288442810396, 'epsilon': 0.002181854886459865}. Best is trial 546 with value: -0.005522866675686452.\u001b[0m\n",
      "\u001b[32m[I 2022-08-05 12:41:23,251]\u001b[0m Trial 718 finished with value: -0.005582309735194458 and parameters: {'kernel': 'rbf', 'C': 0.1269276346244952, 'gamma': 0.021988572860543423, 'epsilon': 0.002131131498372053}. Best is trial 546 with value: -0.005522866675686452.\u001b[0m\n",
      "\u001b[32m[I 2022-08-05 12:41:25,407]\u001b[0m Trial 719 finished with value: -0.0055579759352705985 and parameters: {'kernel': 'rbf', 'C': 0.09593723071054505, 'gamma': 0.02216998922131242, 'epsilon': 0.0020973996218616015}. Best is trial 546 with value: -0.005522866675686452.\u001b[0m\n",
      "\u001b[32m[I 2022-08-05 12:41:28,627]\u001b[0m Trial 720 finished with value: -0.005551771616626824 and parameters: {'kernel': 'rbf', 'C': 0.09448601885159973, 'gamma': 0.021352972432243492, 'epsilon': 0.0010113916023777308}. Best is trial 546 with value: -0.005522866675686452.\u001b[0m\n",
      "\u001b[32m[I 2022-08-05 12:41:31,469]\u001b[0m Trial 721 finished with value: -0.0055370549290370405 and parameters: {'kernel': 'rbf', 'C': 0.09509487425134766, 'gamma': 0.0182476929606317, 'epsilon': 0.0013843224433712164}. Best is trial 546 with value: -0.005522866675686452.\u001b[0m\n",
      "\u001b[32m[I 2022-08-05 12:41:34,801]\u001b[0m Trial 722 finished with value: -0.005531874546833584 and parameters: {'kernel': 'rbf', 'C': 0.1519625063223001, 'gamma': 0.0175625132038299, 'epsilon': 0.001426612915129273}. Best is trial 546 with value: -0.005522866675686452.\u001b[0m\n",
      "\u001b[32m[I 2022-08-05 12:41:37,085]\u001b[0m Trial 723 finished with value: -0.005535661331986411 and parameters: {'kernel': 'rbf', 'C': 0.15543457281797618, 'gamma': 0.01769651878859508, 'epsilon': 0.0014651462703921413}. Best is trial 546 with value: -0.005522866675686452.\u001b[0m\n",
      "\u001b[32m[I 2022-08-05 12:41:39,116]\u001b[0m Trial 724 finished with value: -0.005529712553587693 and parameters: {'kernel': 'rbf', 'C': 0.15649153058604257, 'gamma': 0.016989268328912035, 'epsilon': 0.0016504040261162995}. Best is trial 546 with value: -0.005522866675686452.\u001b[0m\n",
      "\u001b[32m[I 2022-08-05 12:41:42,485]\u001b[0m Trial 725 finished with value: -0.005567878783309866 and parameters: {'kernel': 'rbf', 'C': 0.11217410618855819, 'gamma': 0.012517748785926493, 'epsilon': 0.0016928000167867872}. Best is trial 546 with value: -0.005522866675686452.\u001b[0m\n",
      "\u001b[32m[I 2022-08-05 12:41:44,071]\u001b[0m Trial 726 finished with value: -0.0055646891472280625 and parameters: {'kernel': 'rbf', 'C': 0.11193413771962081, 'gamma': 0.012544960336463296, 'epsilon': 0.001717223855168303}. Best is trial 546 with value: -0.005522866675686452.\u001b[0m\n",
      "\u001b[32m[I 2022-08-05 12:41:46,489]\u001b[0m Trial 727 finished with value: -0.00729248347642988 and parameters: {'kernel': 'rbf', 'C': 0.06901729912454226, 'gamma': 0.6801597326768473, 'epsilon': 0.0011978651457466487}. Best is trial 546 with value: -0.005522866675686452.\u001b[0m\n",
      "\u001b[32m[I 2022-08-05 12:41:47,838]\u001b[0m Trial 728 finished with value: -0.005621750100341131 and parameters: {'kernel': 'rbf', 'C': 0.06996169758342655, 'gamma': 0.015555442652523777, 'epsilon': 0.002497766362549325}. Best is trial 546 with value: -0.005522866675686452.\u001b[0m\n",
      "\u001b[32m[I 2022-08-05 12:41:52,408]\u001b[0m Trial 729 finished with value: -0.005588527698567377 and parameters: {'kernel': 'rbf', 'C': 0.07020045880018692, 'gamma': 0.016234104619387697, 'epsilon': 0.0012137769338373856}. Best is trial 546 with value: -0.005522866675686452.\u001b[0m\n",
      "\u001b[32m[I 2022-08-05 12:41:52,830]\u001b[0m Trial 730 finished with value: -0.005566531721427083 and parameters: {'kernel': 'rbf', 'C': 0.1794293964633825, 'gamma': 0.015416228727633588, 'epsilon': 0.0025825881423268363}. Best is trial 546 with value: -0.005522866675686452.\u001b[0m\n",
      "\u001b[32m[I 2022-08-05 12:41:54,701]\u001b[0m Trial 731 finished with value: -0.0055385865594266784 and parameters: {'kernel': 'rbf', 'C': 0.18013132309321114, 'gamma': 0.015518072017725872, 'epsilon': 0.001936661692608196}. Best is trial 546 with value: -0.005522866675686452.\u001b[0m\n",
      "\u001b[32m[I 2022-08-05 12:42:00,688]\u001b[0m Trial 732 finished with value: -0.005701139611869753 and parameters: {'kernel': 'rbf', 'C': 0.17940278011513855, 'gamma': 0.027375393650110113, 'epsilon': 0.001930138027914114}. Best is trial 546 with value: -0.005522866675686452.\u001b[0m\n",
      "\u001b[32m[I 2022-08-05 12:42:00,689]\u001b[0m Trial 733 finished with value: -0.005668137314831079 and parameters: {'kernel': 'rbf', 'C': 0.13300766101167608, 'gamma': 0.02848152598247417, 'epsilon': 0.0018841811817722743}. Best is trial 546 with value: -0.005522866675686452.\u001b[0m\n",
      "\u001b[32m[I 2022-08-05 12:42:03,956]\u001b[0m Trial 734 finished with value: -0.005658001410170821 and parameters: {'kernel': 'rbf', 'C': 0.13409220470601338, 'gamma': 0.028318558361278025, 'epsilon': 0.0013826492367607786}. Best is trial 546 with value: -0.005522866675686452.\u001b[0m\n",
      "\u001b[32m[I 2022-08-05 12:42:09,409]\u001b[0m Trial 735 finished with value: -0.005531181515100532 and parameters: {'kernel': 'rbf', 'C': 0.11420952168965134, 'gamma': 0.019628563928672314, 'epsilon': 0.001413534924892217}. Best is trial 546 with value: -0.005522866675686452.\u001b[0m\n",
      "\u001b[32m[I 2022-08-05 12:42:10,710]\u001b[0m Trial 736 finished with value: -0.005541637404943639 and parameters: {'kernel': 'rbf', 'C': 0.11546017909983404, 'gamma': 0.0193952158339959, 'epsilon': 0.0010078506609913934}. Best is trial 546 with value: -0.005522866675686452.\u001b[0m\n",
      "\u001b[32m[I 2022-08-05 12:42:14,014]\u001b[0m Trial 737 finished with value: -0.0055405496024797845 and parameters: {'kernel': 'rbf', 'C': 0.11389368366275723, 'gamma': 0.01897949860018234, 'epsilon': 0.0010180638776198774}. Best is trial 546 with value: -0.005522866675686452.\u001b[0m\n",
      "\u001b[32m[I 2022-08-05 12:42:18,122]\u001b[0m Trial 738 finished with value: -0.005578982961707679 and parameters: {'kernel': 'rbf', 'C': 0.10432945196278762, 'gamma': 0.01272721008221397, 'epsilon': 0.0010057902905926217}. Best is trial 546 with value: -0.005522866675686452.\u001b[0m\n",
      "\u001b[32m[I 2022-08-05 12:42:19,105]\u001b[0m Trial 739 finished with value: -0.0055455136795631715 and parameters: {'kernel': 'rbf', 'C': 0.13991456457081733, 'gamma': 0.012490180681600589, 'epsilon': 0.0015995146323673152}. Best is trial 546 with value: -0.005522866675686452.\u001b[0m\n",
      "\u001b[32m[I 2022-08-05 12:42:22,382]\u001b[0m Trial 740 finished with value: -0.0055419477687328 and parameters: {'kernel': 'rbf', 'C': 0.14056888756572647, 'gamma': 0.012735534986576385, 'epsilon': 0.0015878494467190154}. Best is trial 546 with value: -0.005522866675686452.\u001b[0m\n",
      "\u001b[32m[I 2022-08-05 12:42:26,639]\u001b[0m Trial 741 finished with value: -0.0055786289673323795 and parameters: {'kernel': 'rbf', 'C': 0.14076135201452974, 'gamma': 0.01069504999221489, 'epsilon': 0.0012355365646184553}. Best is trial 546 with value: -0.005522866675686452.\u001b[0m\n",
      "\u001b[32m[I 2022-08-05 12:42:28,185]\u001b[0m Trial 743 finished with value: -0.005692476800194075 and parameters: {'kernel': 'rbf', 'C': 0.09485246002035366, 'gamma': 0.010606242586152684, 'epsilon': 0.0030383768388738933}. Best is trial 546 with value: -0.005522866675686452.\u001b[0m\n"
     ]
    },
    {
     "name": "stderr",
     "output_type": "stream",
     "text": [
      "\u001b[32m[I 2022-08-05 12:42:28,384]\u001b[0m Trial 744 finished with value: -0.04558449770905385 and parameters: {'kernel': 'rbf', 'C': 0.09054706285866977, 'gamma': 0.017319677116642257, 'epsilon': 0.060841787951058705}. Best is trial 546 with value: -0.005522866675686452.\u001b[0m\n",
      "\u001b[32m[I 2022-08-05 12:42:28,566]\u001b[0m Trial 742 finished with value: -0.005596707719501637 and parameters: {'kernel': 'rbf', 'C': 0.15452407997164944, 'gamma': 0.02257820639558279, 'epsilon': 0.0012151212285111412}. Best is trial 546 with value: -0.005522866675686452.\u001b[0m\n",
      "\u001b[32m[I 2022-08-05 12:42:37,343]\u001b[0m Trial 745 finished with value: -0.005591388640500312 and parameters: {'kernel': 'rbf', 'C': 0.15850715065028742, 'gamma': 0.022069986590675144, 'epsilon': 0.0013180740156863954}. Best is trial 546 with value: -0.005522866675686452.\u001b[0m\n",
      "\u001b[32m[I 2022-08-05 12:42:37,604]\u001b[0m Trial 747 finished with value: -0.00552776272347069 and parameters: {'kernel': 'rbf', 'C': 0.12459660098635988, 'gamma': 0.01525374495823031, 'epsilon': 0.0014082376479292444}. Best is trial 546 with value: -0.005522866675686452.\u001b[0m\n",
      "\u001b[32m[I 2022-08-05 12:42:37,718]\u001b[0m Trial 746 finished with value: -0.005602600001909258 and parameters: {'kernel': 'rbf', 'C': 0.16098442751371525, 'gamma': 0.022586035286179557, 'epsilon': 0.0013067233823753012}. Best is trial 546 with value: -0.005522866675686452.\u001b[0m\n",
      "\u001b[32m[I 2022-08-05 12:42:44,408]\u001b[0m Trial 749 finished with value: -0.00555285665912238 and parameters: {'kernel': 'rbf', 'C': 0.10316123365307091, 'gamma': 0.014170764424391216, 'epsilon': 0.0017308716926420714}. Best is trial 546 with value: -0.005522866675686452.\u001b[0m\n",
      "\u001b[32m[I 2022-08-05 12:42:44,736]\u001b[0m Trial 748 finished with value: -0.005532814056194063 and parameters: {'kernel': 'rbf', 'C': 0.12541823366491575, 'gamma': 0.014638302285910806, 'epsilon': 0.0014711216369406085}. Best is trial 546 with value: -0.005522866675686452.\u001b[0m\n",
      "\u001b[32m[I 2022-08-05 12:42:44,970]\u001b[0m Trial 750 finished with value: -0.005552321801512249 and parameters: {'kernel': 'rbf', 'C': 0.10232808016415891, 'gamma': 0.014097412354250256, 'epsilon': 0.0016846761914683676}. Best is trial 546 with value: -0.005522866675686452.\u001b[0m\n",
      "\u001b[32m[I 2022-08-05 12:42:48,390]\u001b[0m Trial 752 finished with value: -0.005913406278169148 and parameters: {'kernel': 'rbf', 'C': 0.11635703904407205, 'gamma': 0.01389610146431343, 'epsilon': 0.005139911767419069}. Best is trial 546 with value: -0.005522866675686452.\u001b[0m\n",
      "\u001b[32m[I 2022-08-05 12:42:49,747]\u001b[0m Trial 751 finished with value: -0.005545617133498592 and parameters: {'kernel': 'rbf', 'C': 0.12377699256088355, 'gamma': 0.01436551760119379, 'epsilon': 0.0020173592153813766}. Best is trial 546 with value: -0.005522866675686452.\u001b[0m\n",
      "\u001b[32m[I 2022-08-05 12:42:51,245]\u001b[0m Trial 753 finished with value: -0.005533739944122143 and parameters: {'kernel': 'rbf', 'C': 0.11974544252267452, 'gamma': 0.017695454463144748, 'epsilon': 0.002019685747822493}. Best is trial 546 with value: -0.005522866675686452.\u001b[0m\n",
      "\u001b[32m[I 2022-08-05 12:42:57,043]\u001b[0m Trial 755 finished with value: -0.005552119695890581 and parameters: {'kernel': 'rbf', 'C': 0.07847284708865665, 'gamma': 0.018050207368673115, 'epsilon': 0.0015760637471550958}. Best is trial 546 with value: -0.005522866675686452.\u001b[0m\n",
      "\u001b[32m[I 2022-08-05 12:42:58,261]\u001b[0m Trial 754 finished with value: -0.005699113165244921 and parameters: {'kernel': 'rbf', 'C': 0.4221098771837516, 'gamma': 0.017530813197409036, 'epsilon': 0.002057764972922597}. Best is trial 546 with value: -0.005522866675686452.\u001b[0m\n",
      "\u001b[32m[I 2022-08-05 12:42:58,480]\u001b[0m Trial 756 finished with value: -0.005625604110095555 and parameters: {'kernel': 'rbf', 'C': 0.08506056814409539, 'gamma': 0.011348326494445457, 'epsilon': 0.001509834812325749}. Best is trial 546 with value: -0.005522866675686452.\u001b[0m\n",
      "\u001b[32m[I 2022-08-05 12:43:05,382]\u001b[0m Trial 757 finished with value: -0.005776731972457017 and parameters: {'kernel': 'rbf', 'C': 0.09401432774255951, 'gamma': 0.048849048625051454, 'epsilon': 0.0014726815298103158}. Best is trial 546 with value: -0.005522866675686452.\u001b[0m\n",
      "\u001b[32m[I 2022-08-05 12:43:05,850]\u001b[0m Trial 758 finished with value: -0.005604619483189418 and parameters: {'kernel': 'rbf', 'C': 0.09524379572903356, 'gamma': 0.011511935942752828, 'epsilon': 0.0015089723925687092}. Best is trial 546 with value: -0.005522866675686452.\u001b[0m\n",
      "\u001b[32m[I 2022-08-05 12:43:05,991]\u001b[0m Trial 759 finished with value: -0.005687963038136063 and parameters: {'kernel': 'rbf', 'C': 0.10326240489737284, 'gamma': 0.03361338878108283, 'epsilon': 0.0017585074687841058}. Best is trial 546 with value: -0.005522866675686452.\u001b[0m\n",
      "\u001b[32m[I 2022-08-05 12:43:12,470]\u001b[0m Trial 760 finished with value: -0.0057188908039055115 and parameters: {'kernel': 'rbf', 'C': 0.11125102460771998, 'gamma': 0.03607899736293322, 'epsilon': 0.0017593793229260333}. Best is trial 546 with value: -0.005522866675686452.\u001b[0m\n",
      "\u001b[32m[I 2022-08-05 12:43:13,453]\u001b[0m Trial 761 finished with value: -0.005532580545721765 and parameters: {'kernel': 'rbf', 'C': 0.12891272530624587, 'gamma': 0.015551831906758873, 'epsilon': 0.0017911232755354297}. Best is trial 546 with value: -0.005522866675686452.\u001b[0m\n",
      "\u001b[32m[I 2022-08-05 12:43:14,838]\u001b[0m Trial 762 finished with value: -0.005534478280644752 and parameters: {'kernel': 'rbf', 'C': 0.12609449621841162, 'gamma': 0.01614582777014692, 'epsilon': 0.0011338439609137076}. Best is trial 546 with value: -0.005522866675686452.\u001b[0m\n",
      "\u001b[32m[I 2022-08-05 12:43:22,902]\u001b[0m Trial 765 finished with value: -0.005569946366683769 and parameters: {'kernel': 'rbf', 'C': 0.13883920058025637, 'gamma': 0.01992806939165911, 'epsilon': 0.002260295965297621}. Best is trial 546 with value: -0.005522866675686452.\u001b[0m\n",
      "\u001b[32m[I 2022-08-05 12:43:25,099]\u001b[0m Trial 763 finished with value: -0.005604800859433491 and parameters: {'kernel': 'rbf', 'C': 0.32067374188863335, 'gamma': 0.015646193861447045, 'epsilon': 0.0011321454443948568}. Best is trial 546 with value: -0.005522866675686452.\u001b[0m\n",
      "\u001b[32m[I 2022-08-05 12:43:26,661]\u001b[0m Trial 764 finished with value: -0.0056740657294021115 and parameters: {'kernel': 'rbf', 'C': 0.3146594471289375, 'gamma': 0.020099574535725667, 'epsilon': 0.0011467663870784435}. Best is trial 546 with value: -0.005522866675686452.\u001b[0m\n",
      "\u001b[32m[I 2022-08-05 12:43:31,751]\u001b[0m Trial 766 finished with value: -0.005533205033635881 and parameters: {'kernel': 'rbf', 'C': 0.11175099528142025, 'gamma': 0.020076484055309877, 'epsilon': 0.0013382248089309347}. Best is trial 546 with value: -0.005522866675686452.\u001b[0m\n",
      "\u001b[32m[I 2022-08-05 12:43:34,031]\u001b[0m Trial 767 finished with value: -0.00553353776129417 and parameters: {'kernel': 'rbf', 'C': 0.11148180890963362, 'gamma': 0.01992777622394215, 'epsilon': 0.001350905126271586}. Best is trial 546 with value: -0.005522866675686452.\u001b[0m\n",
      "\u001b[32m[I 2022-08-05 12:43:34,640]\u001b[0m Trial 768 finished with value: -0.005560186770214 and parameters: {'kernel': 'rbf', 'C': 0.11017006451272128, 'gamma': 0.012917502317264205, 'epsilon': 0.0013742002002501042}. Best is trial 546 with value: -0.005522866675686452.\u001b[0m\n",
      "\u001b[32m[I 2022-08-05 12:43:40,064]\u001b[0m Trial 769 finished with value: -0.005540716021008986 and parameters: {'kernel': 'rbf', 'C': 0.1321684313289714, 'gamma': 0.012951922571432795, 'epsilon': 0.001423804843574896}. Best is trial 546 with value: -0.005522866675686452.\u001b[0m\n",
      "\u001b[32m[I 2022-08-05 12:43:42,097]\u001b[0m Trial 770 finished with value: -0.005543066802837581 and parameters: {'kernel': 'rbf', 'C': 0.1310416327044058, 'gamma': 0.013029644813514768, 'epsilon': 0.00162583785072916}. Best is trial 546 with value: -0.005522866675686452.\u001b[0m\n",
      "\u001b[32m[I 2022-08-05 12:43:43,269]\u001b[0m Trial 771 finished with value: -0.0055343660191536645 and parameters: {'kernel': 'rbf', 'C': 0.17159635482151384, 'gamma': 0.01618570363830189, 'epsilon': 0.0016196595223317628}. Best is trial 546 with value: -0.005522866675686452.\u001b[0m\n",
      "\u001b[32m[I 2022-08-05 12:43:48,697]\u001b[0m Trial 772 finished with value: -0.005675787522775597 and parameters: {'kernel': 'rbf', 'C': 0.19355666695540724, 'gamma': 0.025254759126535097, 'epsilon': 0.0016261144996809508}. Best is trial 546 with value: -0.005522866675686452.\u001b[0m\n",
      "\u001b[32m[I 2022-08-05 12:43:50,988]\u001b[0m Trial 773 finished with value: -0.005679892310489413 and parameters: {'kernel': 'rbf', 'C': 0.19462009918946088, 'gamma': 0.0249453437325186, 'epsilon': 0.0018654677451863247}. Best is trial 546 with value: -0.005522866675686452.\u001b[0m\n"
     ]
    },
    {
     "name": "stderr",
     "output_type": "stream",
     "text": [
      "\u001b[32m[I 2022-08-05 12:43:51,004]\u001b[0m Trial 774 finished with value: -0.005694143182965054 and parameters: {'kernel': 'rbf', 'C': 0.2001716913463176, 'gamma': 0.023991904650561845, 'epsilon': 0.0023567656538425225}. Best is trial 546 with value: -0.005522866675686452.\u001b[0m\n",
      "\u001b[32m[I 2022-08-05 12:43:55,008]\u001b[0m Trial 775 finished with value: -0.005545242092321819 and parameters: {'kernel': 'rbf', 'C': 0.15363239983737326, 'gamma': 0.018010647875433862, 'epsilon': 0.0019676871273623577}. Best is trial 546 with value: -0.005522866675686452.\u001b[0m\n",
      "\u001b[32m[I 2022-08-05 12:43:58,953]\u001b[0m Trial 776 finished with value: -0.005664319396585005 and parameters: {'kernel': 'rbf', 'C': 0.04774177282686371, 'gamma': 0.01783122360180121, 'epsilon': 0.0012266350581808115}. Best is trial 546 with value: -0.005522866675686452.\u001b[0m\n",
      "\u001b[32m[I 2022-08-05 12:44:01,094]\u001b[0m Trial 777 finished with value: -0.005539567304232402 and parameters: {'kernel': 'rbf', 'C': 0.15682166545722112, 'gamma': 0.017389380214270878, 'epsilon': 0.0012107215295315246}. Best is trial 546 with value: -0.005522866675686452.\u001b[0m\n",
      "\u001b[32m[I 2022-08-05 12:44:02,672]\u001b[0m Trial 778 finished with value: -0.005655829764482455 and parameters: {'kernel': 'rbf', 'C': 0.08967496496633938, 'gamma': 0.0101364863834213, 'epsilon': 0.0011946970356141616}. Best is trial 546 with value: -0.005522866675686452.\u001b[0m\n",
      "\u001b[32m[I 2022-08-05 12:44:07,243]\u001b[0m Trial 779 finished with value: -0.005525572800908158 and parameters: {'kernel': 'rbf', 'C': 0.14874542539120564, 'gamma': 0.014967387095975478, 'epsilon': 0.0014815322267241328}. Best is trial 546 with value: -0.005522866675686452.\u001b[0m\n",
      "\u001b[32m[I 2022-08-05 12:44:08,812]\u001b[0m Trial 780 finished with value: -0.005564489951439033 and parameters: {'kernel': 'rbf', 'C': 0.08910457969719103, 'gamma': 0.014407629539393044, 'epsilon': 0.0014484026518412746}. Best is trial 546 with value: -0.005522866675686452.\u001b[0m\n",
      "\u001b[32m[I 2022-08-05 12:44:11,440]\u001b[0m Trial 781 finished with value: -0.005527101650296262 and parameters: {'kernel': 'rbf', 'C': 0.12690532353192335, 'gamma': 0.01523255059334959, 'epsilon': 0.0014598853466710846}. Best is trial 546 with value: -0.005522866675686452.\u001b[0m\n",
      "\u001b[32m[I 2022-08-05 12:44:14,665]\u001b[0m Trial 782 finished with value: -0.005529513507426438 and parameters: {'kernel': 'rbf', 'C': 0.16925699858900028, 'gamma': 0.015122969603347426, 'epsilon': 0.00174747380159146}. Best is trial 546 with value: -0.005522866675686452.\u001b[0m\n",
      "\u001b[32m[I 2022-08-05 12:44:16,233]\u001b[0m Trial 783 finished with value: -0.005556318837364075 and parameters: {'kernel': 'rbf', 'C': 0.16603929684444257, 'gamma': 0.011445079800125447, 'epsilon': 0.0018222002196873954}. Best is trial 546 with value: -0.005522866675686452.\u001b[0m\n",
      "\u001b[32m[I 2022-08-05 12:44:19,074]\u001b[0m Trial 784 finished with value: -0.005543739215321365 and parameters: {'kernel': 'rbf', 'C': 0.10123818113965377, 'gamma': 0.021553781090441843, 'epsilon': 0.0018079889845625111}. Best is trial 546 with value: -0.005522866675686452.\u001b[0m\n",
      "\u001b[32m[I 2022-08-05 12:44:24,165]\u001b[0m Trial 785 finished with value: -0.005550222713384984 and parameters: {'kernel': 'rbf', 'C': 0.10457929119465013, 'gamma': 0.021380815089981894, 'epsilon': 0.001017228619548409}. Best is trial 546 with value: -0.005522866675686452.\u001b[0m\n",
      "\u001b[32m[I 2022-08-05 12:44:25,537]\u001b[0m Trial 786 finished with value: -0.005551815184039864 and parameters: {'kernel': 'rbf', 'C': 0.10146644989013458, 'gamma': 0.021828941327553524, 'epsilon': 0.0010113795586871037}. Best is trial 546 with value: -0.005522866675686452.\u001b[0m\n",
      "\u001b[32m[I 2022-08-05 12:44:29,411]\u001b[0m Trial 787 finished with value: -0.005535997757643543 and parameters: {'kernel': 'rbf', 'C': 0.12074122642243668, 'gamma': 0.018284669214440743, 'epsilon': 0.0010884149687571461}. Best is trial 546 with value: -0.005522866675686452.\u001b[0m\n",
      "\u001b[32m[I 2022-08-05 12:44:31,643]\u001b[0m Trial 788 finished with value: -0.006185384558618169 and parameters: {'kernel': 'rbf', 'C': 0.118008829850378, 'gamma': 0.1090847011138027, 'epsilon': 0.0015206915436265253}. Best is trial 546 with value: -0.005522866675686452.\u001b[0m\n",
      "\u001b[32m[I 2022-08-05 12:44:33,688]\u001b[0m Trial 789 finished with value: -0.006436895839235044 and parameters: {'kernel': 'poly', 'C': 0.11981633051869264, 'gamma': 0.01645150915173185, 'epsilon': 0.0013420334459959458}. Best is trial 546 with value: -0.005522866675686452.\u001b[0m\n",
      "\u001b[32m[I 2022-08-05 12:44:37,567]\u001b[0m Trial 790 finished with value: -0.00643270270858527 and parameters: {'kernel': 'poly', 'C': 0.12096855598589847, 'gamma': 0.015970927591265133, 'epsilon': 0.0014845752293928208}. Best is trial 546 with value: -0.005522866675686452.\u001b[0m\n",
      "\u001b[32m[I 2022-08-05 12:44:40,284]\u001b[0m Trial 792 finished with value: -0.005559631497322252 and parameters: {'kernel': 'rbf', 'C': 0.13585727277888962, 'gamma': 0.013071317093009667, 'epsilon': 0.0022906421169312827}. Best is trial 546 with value: -0.005522866675686452.\u001b[0m\n",
      "\u001b[32m[I 2022-08-05 12:44:44,033]\u001b[0m Trial 793 finished with value: -0.005616380703465 and parameters: {'kernel': 'rbf', 'C': 0.07745149452705873, 'gamma': 0.013324463070757768, 'epsilon': 0.002070495094491096}. Best is trial 546 with value: -0.005522866675686452.\u001b[0m\n",
      "\u001b[32m[I 2022-08-05 12:44:48,503]\u001b[0m Trial 794 finished with value: -0.005582805064011348 and parameters: {'kernel': 'rbf', 'C': 0.08585413476978027, 'gamma': 0.013821541291868633, 'epsilon': 0.0012256517014312776}. Best is trial 546 with value: -0.005522866675686452.\u001b[0m\n",
      "\u001b[32m[I 2022-08-05 12:44:54,910]\u001b[0m Trial 795 finished with value: -0.005537110860679444 and parameters: {'kernel': 'rbf', 'C': 0.14431387959481445, 'gamma': 0.01865910480194051, 'epsilon': 0.0012757103802416923}. Best is trial 546 with value: -0.005522866675686452.\u001b[0m\n",
      "\u001b[32m[I 2022-08-05 12:44:57,768]\u001b[0m Trial 796 finished with value: -0.005531178952204661 and parameters: {'kernel': 'rbf', 'C': 0.14195920318734648, 'gamma': 0.01818136160648455, 'epsilon': 0.0016325003573529637}. Best is trial 546 with value: -0.005522866675686452.\u001b[0m\n",
      "\u001b[32m[I 2022-08-05 12:45:03,393]\u001b[0m Trial 797 finished with value: -0.005524923297330537 and parameters: {'kernel': 'rbf', 'C': 0.13272848609621224, 'gamma': 0.015619967872514857, 'epsilon': 0.001647268989338019}. Best is trial 546 with value: -0.005522866675686452.\u001b[0m\n",
      "\u001b[32m[I 2022-08-05 12:45:06,867]\u001b[0m Trial 798 finished with value: -0.005539602790330955 and parameters: {'kernel': 'rbf', 'C': 0.10823169340056885, 'gamma': 0.015460058952096635, 'epsilon': 0.0016008781922344666}. Best is trial 546 with value: -0.005522866675686452.\u001b[0m\n",
      "\u001b[32m[I 2022-08-05 12:45:08,936]\u001b[0m Trial 799 finished with value: -0.005613771904527943 and parameters: {'kernel': 'rbf', 'C': 0.143374643417331, 'gamma': 0.011680914195624531, 'epsilon': 0.002860472174826105}. Best is trial 546 with value: -0.005522866675686452.\u001b[0m\n",
      "\u001b[32m[I 2022-08-05 12:45:12,875]\u001b[0m Trial 800 finished with value: -0.005585478563062495 and parameters: {'kernel': 'rbf', 'C': 0.14751231205712043, 'gamma': 0.011644836652806223, 'epsilon': 0.0025523451805229665}. Best is trial 546 with value: -0.005522866675686452.\u001b[0m\n",
      "\u001b[32m[I 2022-08-05 12:45:17,483]\u001b[0m Trial 801 finished with value: -0.005555622034318034 and parameters: {'kernel': 'rbf', 'C': 0.1547499270034815, 'gamma': 0.01852315555165656, 'epsilon': 0.00201911762923351}. Best is trial 546 with value: -0.005522866675686452.\u001b[0m\n",
      "\u001b[32m[I 2022-08-05 12:45:19,644]\u001b[0m Trial 802 finished with value: -0.00554291184260444 and parameters: {'kernel': 'rbf', 'C': 0.0973923908566221, 'gamma': 0.019417227602878194, 'epsilon': 0.0020591582827229333}. Best is trial 546 with value: -0.005522866675686452.\u001b[0m\n",
      "\u001b[32m[I 2022-08-05 12:45:24,712]\u001b[0m Trial 803 finished with value: -0.005540087409667564 and parameters: {'kernel': 'rbf', 'C': 0.0977669445899513, 'gamma': 0.019849158324945524, 'epsilon': 0.0019122687439310114}. Best is trial 546 with value: -0.005522866675686452.\u001b[0m\n",
      "\u001b[32m[I 2022-08-05 12:45:28,175]\u001b[0m Trial 804 finished with value: -0.005556303471675977 and parameters: {'kernel': 'rbf', 'C': 0.12070463379717691, 'gamma': 0.021697938987620683, 'epsilon': 0.0017976643113956706}. Best is trial 546 with value: -0.005522866675686452.\u001b[0m\n",
      "\u001b[32m[I 2022-08-05 12:45:32,809]\u001b[0m Trial 805 finished with value: -0.005523402210537955 and parameters: {'kernel': 'rbf', 'C': 0.12768003555038168, 'gamma': 0.016381801045322598, 'epsilon': 0.001695545241303692}. Best is trial 546 with value: -0.005522866675686452.\u001b[0m\n"
     ]
    },
    {
     "name": "stderr",
     "output_type": "stream",
     "text": [
      "\u001b[32m[I 2022-08-05 12:45:36,988]\u001b[0m Trial 806 finished with value: -0.005523720445344346 and parameters: {'kernel': 'rbf', 'C': 0.13053116561627692, 'gamma': 0.016330140414167357, 'epsilon': 0.0016817759847409589}. Best is trial 546 with value: -0.005522866675686452.\u001b[0m\n",
      "\u001b[32m[I 2022-08-05 12:45:38,129]\u001b[0m Trial 807 finished with value: -0.005583250426374029 and parameters: {'kernel': 'rbf', 'C': 0.07902346442250682, 'gamma': 0.016641528611535242, 'epsilon': 0.0023023871768097946}. Best is trial 546 with value: -0.005522866675686452.\u001b[0m\n",
      "\u001b[32m[I 2022-08-05 12:45:42,347]\u001b[0m Trial 808 finished with value: -0.005540711304732682 and parameters: {'kernel': 'rbf', 'C': 0.13387360729962505, 'gamma': 0.01643124499052303, 'epsilon': 0.002235861649375354}. Best is trial 546 with value: -0.005522866675686452.\u001b[0m\n",
      "\u001b[32m[I 2022-08-05 12:45:43,159]\u001b[0m Trial 791 finished with value: -0.006564956511320145 and parameters: {'kernel': 'rbf', 'C': 8.341563903994645, 'gamma': 0.01329973128453868, 'epsilon': 0.0012976082554226203}. Best is trial 546 with value: -0.005522866675686452.\u001b[0m\n",
      "\u001b[32m[I 2022-08-05 12:45:45,706]\u001b[0m Trial 809 finished with value: -0.005531959846178652 and parameters: {'kernel': 'rbf', 'C': 0.13045985534784815, 'gamma': 0.01465791048874245, 'epsilon': 0.0015524242095256262}. Best is trial 546 with value: -0.005522866675686452.\u001b[0m\n",
      "\u001b[32m[I 2022-08-05 12:45:50,733]\u001b[0m Trial 810 finished with value: -0.005526893120663549 and parameters: {'kernel': 'rbf', 'C': 0.17315075707323255, 'gamma': 0.014587770353657149, 'epsilon': 0.0015328239437345569}. Best is trial 546 with value: -0.005522866675686452.\u001b[0m\n",
      "\u001b[32m[I 2022-08-05 12:45:51,993]\u001b[0m Trial 811 finished with value: -0.005529135908143638 and parameters: {'kernel': 'rbf', 'C': 0.17887788455885767, 'gamma': 0.01438706821873716, 'epsilon': 0.0015368748894365777}. Best is trial 546 with value: -0.005522866675686452.\u001b[0m\n",
      "\u001b[32m[I 2022-08-05 12:45:54,582]\u001b[0m Trial 812 finished with value: -0.005631493753894713 and parameters: {'kernel': 'rbf', 'C': 0.17937930583293527, 'gamma': 0.02335634951484054, 'epsilon': 0.0016193195997771942}. Best is trial 546 with value: -0.005522866675686452.\u001b[0m\n",
      "\u001b[32m[I 2022-08-05 12:45:57,797]\u001b[0m Trial 813 finished with value: -0.006782475239597135 and parameters: {'kernel': 'rbf', 'C': 0.1839503360311609, 'gamma': 0.21893498142956508, 'epsilon': 0.0019017982657665664}. Best is trial 546 with value: -0.005522866675686452.\u001b[0m\n",
      "\u001b[32m[I 2022-08-05 12:45:59,093]\u001b[0m Trial 814 finished with value: -0.005589355422044632 and parameters: {'kernel': 'rbf', 'C': 0.17349171961275228, 'gamma': 0.009499550453803027, 'epsilon': 0.0018957207012740896}. Best is trial 546 with value: -0.005522866675686452.\u001b[0m\n",
      "\u001b[32m[I 2022-08-05 12:46:01,210]\u001b[0m Trial 815 finished with value: -0.0055817448663248006 and parameters: {'kernel': 'rbf', 'C': 0.15970582368561692, 'gamma': 0.010216603351850772, 'epsilon': 0.0018999782235028892}. Best is trial 546 with value: -0.005522866675686452.\u001b[0m\n",
      "\u001b[32m[I 2022-08-05 12:46:06,072]\u001b[0m Trial 816 finished with value: -0.0055707731109671385 and parameters: {'kernel': 'rbf', 'C': 0.20812258343121073, 'gamma': 0.009898845394743708, 'epsilon': 0.0018210174283778053}. Best is trial 546 with value: -0.005522866675686452.\u001b[0m\n",
      "\u001b[32m[I 2022-08-05 12:46:07,264]\u001b[0m Trial 817 finished with value: -0.005548465472016767 and parameters: {'kernel': 'rbf', 'C': 0.15278113685146996, 'gamma': 0.012083299451343335, 'epsilon': 0.0017040885148137026}. Best is trial 546 with value: -0.005522866675686452.\u001b[0m\n",
      "\u001b[32m[I 2022-08-05 12:46:09,733]\u001b[0m Trial 818 finished with value: -0.005540985640415549 and parameters: {'kernel': 'rbf', 'C': 0.23436563605220842, 'gamma': 0.012998298960260436, 'epsilon': 0.0016893455825471944}. Best is trial 546 with value: -0.005522866675686452.\u001b[0m\n",
      "\u001b[32m[I 2022-08-05 12:46:16,311]\u001b[0m Trial 819 finished with value: -0.005539645709809361 and parameters: {'kernel': 'rbf', 'C': 0.2181727368317631, 'gamma': 0.012442966980159823, 'epsilon': 0.0014589868133147788}. Best is trial 546 with value: -0.005522866675686452.\u001b[0m\n",
      "\u001b[32m[I 2022-08-05 12:46:16,651]\u001b[0m Trial 820 finished with value: -0.005529343293456795 and parameters: {'kernel': 'rbf', 'C': 0.15679582437604436, 'gamma': 0.01430928839144077, 'epsilon': 0.0014129256328208595}. Best is trial 546 with value: -0.005522866675686452.\u001b[0m\n",
      "\u001b[32m[I 2022-08-05 12:46:18,291]\u001b[0m Trial 821 finished with value: -0.00552870546466681 and parameters: {'kernel': 'rbf', 'C': 0.1529423709660615, 'gamma': 0.016080285044710003, 'epsilon': 0.001358033658900805}. Best is trial 546 with value: -0.005522866675686452.\u001b[0m\n",
      "\u001b[32m[I 2022-08-05 12:46:21,364]\u001b[0m Trial 823 finished with value: -0.006110931504281849 and parameters: {'kernel': 'rbf', 'C': 0.01669613559673432, 'gamma': 0.016482180225700638, 'epsilon': 0.0022680238686803396}. Best is trial 546 with value: -0.005522866675686452.\u001b[0m\n",
      "\u001b[32m[I 2022-08-05 12:46:22,480]\u001b[0m Trial 822 finished with value: -0.0055394221919502435 and parameters: {'kernel': 'rbf', 'C': 0.15043663224410486, 'gamma': 0.016168362894566746, 'epsilon': 0.002219012832692046}. Best is trial 546 with value: -0.005522866675686452.\u001b[0m\n",
      "\u001b[32m[I 2022-08-05 12:46:24,838]\u001b[0m Trial 824 finished with value: -0.005537859396660319 and parameters: {'kernel': 'rbf', 'C': 0.1257911760445613, 'gamma': 0.017522144233281155, 'epsilon': 0.002199933695389382}. Best is trial 546 with value: -0.005522866675686452.\u001b[0m\n",
      "\u001b[32m[I 2022-08-05 12:46:27,611]\u001b[0m Trial 825 finished with value: -0.005551616578734088 and parameters: {'kernel': 'rbf', 'C': 0.13191599736686088, 'gamma': 0.019507118952275016, 'epsilon': 0.0020782103034959003}. Best is trial 546 with value: -0.005522866675686452.\u001b[0m\n",
      "\u001b[32m[I 2022-08-05 12:46:33,913]\u001b[0m Trial 827 finished with value: -0.005543780334250335 and parameters: {'kernel': 'rbf', 'C': 0.13056943244055721, 'gamma': 0.020056919441641417, 'epsilon': 0.0016146960371919716}. Best is trial 546 with value: -0.005522866675686452.\u001b[0m\n",
      "\u001b[32m[I 2022-08-05 12:46:36,135]\u001b[0m Trial 828 finished with value: -0.005538711332001065 and parameters: {'kernel': 'rbf', 'C': 0.11128321039417234, 'gamma': 0.014775985810161641, 'epsilon': 0.0015872523341042102}. Best is trial 546 with value: -0.005522866675686452.\u001b[0m\n",
      "\u001b[32m[I 2022-08-05 12:46:42,941]\u001b[0m Trial 829 finished with value: -0.00553976038878114 and parameters: {'kernel': 'rbf', 'C': 0.11219421084027204, 'gamma': 0.014156370386191795, 'epsilon': 0.0014668752249910868}. Best is trial 546 with value: -0.005522866675686452.\u001b[0m\n",
      "\u001b[32m[I 2022-08-05 12:46:46,804]\u001b[0m Trial 830 finished with value: -0.005544257360049553 and parameters: {'kernel': 'rbf', 'C': 0.18728910946141936, 'gamma': 0.011936581473678803, 'epsilon': 0.0013954722353257181}. Best is trial 546 with value: -0.005522866675686452.\u001b[0m\n",
      "\u001b[32m[I 2022-08-05 12:46:53,215]\u001b[0m Trial 831 finished with value: -0.005556100690972962 and parameters: {'kernel': 'rbf', 'C': 0.18168367266973745, 'gamma': 0.01127707767559609, 'epsilon': 0.0012397350106737725}. Best is trial 546 with value: -0.005522866675686452.\u001b[0m\n",
      "\u001b[32m[I 2022-08-05 12:46:56,705]\u001b[0m Trial 832 finished with value: -0.005626050086258679 and parameters: {'kernel': 'rbf', 'C': 0.16419509303937557, 'gamma': 0.008216570490686382, 'epsilon': 0.0012175315016236977}. Best is trial 546 with value: -0.005522866675686452.\u001b[0m\n",
      "\u001b[32m[I 2022-08-05 12:46:59,345]\u001b[0m Trial 826 finished with value: -0.006393717851082448 and parameters: {'kernel': 'rbf', 'C': 3.6001228121445767, 'gamma': 0.019579124378979528, 'epsilon': 0.0015615908094688217}. Best is trial 546 with value: -0.005522866675686452.\u001b[0m\n",
      "\u001b[32m[I 2022-08-05 12:47:00,251]\u001b[0m Trial 833 finished with value: -0.005593559678226752 and parameters: {'kernel': 'rbf', 'C': 0.13697277277037984, 'gamma': 0.02320239015986061, 'epsilon': 0.0018012060340522253}. Best is trial 546 with value: -0.005522866675686452.\u001b[0m\n",
      "\u001b[32m[I 2022-08-05 12:47:06,686]\u001b[0m Trial 836 finished with value: -0.005659739353069037 and parameters: {'kernel': 'rbf', 'C': 0.11560281346455806, 'gamma': 0.025798204025689216, 'epsilon': 0.002650019642252215}. Best is trial 546 with value: -0.005522866675686452.\u001b[0m\n",
      "\u001b[32m[I 2022-08-05 12:47:07,792]\u001b[0m Trial 835 finished with value: -0.005628016270964925 and parameters: {'kernel': 'rbf', 'C': 0.13376808035516, 'gamma': 0.026026896099668295, 'epsilon': 0.0017703006438824704}. Best is trial 546 with value: -0.005522866675686452.\u001b[0m\n"
     ]
    },
    {
     "name": "stderr",
     "output_type": "stream",
     "text": [
      "\u001b[32m[I 2022-08-05 12:47:14,723]\u001b[0m Trial 837 finished with value: -0.00553839409666947 and parameters: {'kernel': 'rbf', 'C': 0.09879068263537324, 'gamma': 0.017373613550779425, 'epsilon': 0.0017475749460258675}. Best is trial 546 with value: -0.005522866675686452.\u001b[0m\n",
      "\u001b[32m[I 2022-08-05 12:47:17,577]\u001b[0m Trial 838 finished with value: -0.0069827472848291595 and parameters: {'kernel': 'rbf', 'C': 0.09992570357592298, 'gamma': 0.3524280126003082, 'epsilon': 0.001104271315375725}. Best is trial 546 with value: -0.005522866675686452.\u001b[0m\n",
      "\u001b[32m[I 2022-08-05 12:47:25,076]\u001b[0m Trial 839 finished with value: -0.005541829986309121 and parameters: {'kernel': 'rbf', 'C': 0.1164049166238465, 'gamma': 0.015090328791329136, 'epsilon': 0.0011076403280699818}. Best is trial 546 with value: -0.005522866675686452.\u001b[0m\n",
      "\u001b[32m[I 2022-08-05 12:47:26,916]\u001b[0m Trial 840 finished with value: -0.00553857928825627 and parameters: {'kernel': 'rbf', 'C': 0.12003830917486516, 'gamma': 0.014126020889009869, 'epsilon': 0.0013986831637729396}. Best is trial 546 with value: -0.005522866675686452.\u001b[0m\n",
      "\u001b[32m[I 2022-08-05 12:47:29,600]\u001b[0m Trial 834 finished with value: -0.00660538090899966 and parameters: {'kernel': 'rbf', 'C': 3.7953958553874663, 'gamma': 0.025307181941855935, 'epsilon': 0.0017543149873097594}. Best is trial 546 with value: -0.005522866675686452.\u001b[0m\n",
      "\u001b[32m[I 2022-08-05 12:47:31,822]\u001b[0m Trial 841 finished with value: -0.00566431778485263 and parameters: {'kernel': 'rbf', 'C': 0.058775703537295464, 'gamma': 0.0134110292213767, 'epsilon': 0.001377428062254707}. Best is trial 546 with value: -0.005522866675686452.\u001b[0m\n",
      "\u001b[32m[I 2022-08-05 12:47:33,613]\u001b[0m Trial 842 finished with value: -0.005602795021792311 and parameters: {'kernel': 'rbf', 'C': 0.058347118246307506, 'gamma': 0.018349111660099206, 'epsilon': 0.0015166680736762334}. Best is trial 546 with value: -0.005522866675686452.\u001b[0m\n",
      "\u001b[32m[I 2022-08-05 12:47:38,218]\u001b[0m Trial 843 finished with value: -0.005531110151186232 and parameters: {'kernel': 'rbf', 'C': 0.14975850269235053, 'gamma': 0.01771387526979382, 'epsilon': 0.001472558921899207}. Best is trial 546 with value: -0.005522866675686452.\u001b[0m\n",
      "\u001b[32m[I 2022-08-05 12:47:39,358]\u001b[0m Trial 844 finished with value: -0.00554310129544727 and parameters: {'kernel': 'rbf', 'C': 0.1574394547113673, 'gamma': 0.017730449223859263, 'epsilon': 0.001968196037446027}. Best is trial 546 with value: -0.005522866675686452.\u001b[0m\n",
      "\u001b[32m[I 2022-08-05 12:47:40,222]\u001b[0m Trial 846 finished with value: -0.045584497709053845 and parameters: {'kernel': 'poly', 'C': 0.16831087395689262, 'gamma': 0.019790056027265066, 'epsilon': 0.2894878919079521}. Best is trial 546 with value: -0.005522866675686452.\u001b[0m\n",
      "\u001b[32m[I 2022-08-05 12:47:40,466]\u001b[0m Trial 845 finished with value: -0.005592101136590571 and parameters: {'kernel': 'rbf', 'C': 0.14873221262159758, 'gamma': 0.021824745597622184, 'epsilon': 0.002005587220838165}. Best is trial 546 with value: -0.005522866675686452.\u001b[0m\n",
      "\u001b[32m[I 2022-08-05 12:47:48,858]\u001b[0m Trial 848 finished with value: -0.00554865373972022 and parameters: {'kernel': 'rbf', 'C': 0.08960572240521465, 'gamma': 0.022285116777914126, 'epsilon': 0.0012576261116171686}. Best is trial 546 with value: -0.005522866675686452.\u001b[0m\n",
      "\u001b[32m[I 2022-08-05 12:47:48,998]\u001b[0m Trial 847 finished with value: -0.006382868172821891 and parameters: {'kernel': 'poly', 'C': 0.1331229576054389, 'gamma': 0.021382159719231162, 'epsilon': 0.0016299684422189642}. Best is trial 546 with value: -0.005522866675686452.\u001b[0m\n",
      "\u001b[32m[I 2022-08-05 12:47:49,108]\u001b[0m Trial 849 finished with value: -0.005553088245294064 and parameters: {'kernel': 'rbf', 'C': 0.09113795914418422, 'gamma': 0.015514811161060583, 'epsilon': 0.0012574832843934218}. Best is trial 546 with value: -0.005522866675686452.\u001b[0m\n",
      "\u001b[32m[I 2022-08-05 12:47:56,872]\u001b[0m Trial 850 finished with value: -0.005526067218140863 and parameters: {'kernel': 'rbf', 'C': 0.1331534271592174, 'gamma': 0.015616013471204991, 'epsilon': 0.001645935870058639}. Best is trial 546 with value: -0.005522866675686452.\u001b[0m\n",
      "\u001b[32m[I 2022-08-05 12:47:58,475]\u001b[0m Trial 852 finished with value: -0.005536417490352498 and parameters: {'kernel': 'rbf', 'C': 0.1987668058791548, 'gamma': 0.01270808612862293, 'epsilon': 0.0015670583183976879}. Best is trial 546 with value: -0.005522866675686452.\u001b[0m\n",
      "\u001b[32m[I 2022-08-05 12:47:58,954]\u001b[0m Trial 851 finished with value: -0.005548085353732252 and parameters: {'kernel': 'rbf', 'C': 0.19993324703476167, 'gamma': 0.016180946638527174, 'epsilon': 0.0012913232857303496}. Best is trial 546 with value: -0.005522866675686452.\u001b[0m\n",
      "\u001b[32m[I 2022-08-05 12:48:04,047]\u001b[0m Trial 853 finished with value: -0.005548837427114262 and parameters: {'kernel': 'rbf', 'C': 0.19112483196001281, 'gamma': 0.012109611169521634, 'epsilon': 0.0019497054512766672}. Best is trial 546 with value: -0.005522866675686452.\u001b[0m\n",
      "\u001b[32m[I 2022-08-05 12:48:04,982]\u001b[0m Trial 855 finished with value: -0.005596617807499619 and parameters: {'kernel': 'rbf', 'C': 0.1356242502804507, 'gamma': 0.011755100266258794, 'epsilon': 0.0025807039061096714}. Best is trial 546 with value: -0.005522866675686452.\u001b[0m\n",
      "\u001b[32m[I 2022-08-05 12:48:05,247]\u001b[0m Trial 854 finished with value: -0.005553128774110582 and parameters: {'kernel': 'rbf', 'C': 0.17197677238973821, 'gamma': 0.012101069289347803, 'epsilon': 0.0020340373963550554}. Best is trial 546 with value: -0.005522866675686452.\u001b[0m\n",
      "\u001b[32m[I 2022-08-05 12:48:11,014]\u001b[0m Trial 856 finished with value: -0.005568842887099194 and parameters: {'kernel': 'rbf', 'C': 0.14135069560675384, 'gamma': 0.011009383710029543, 'epsilon': 0.0017354756647515264}. Best is trial 546 with value: -0.005522866675686452.\u001b[0m\n",
      "\u001b[32m[I 2022-08-05 12:48:12,561]\u001b[0m Trial 857 finished with value: -0.005534155878410675 and parameters: {'kernel': 'rbf', 'C': 0.16971572046380334, 'gamma': 0.013639580080050642, 'epsilon': 0.0017975050178009055}. Best is trial 546 with value: -0.005522866675686452.\u001b[0m\n",
      "\u001b[32m[I 2022-08-05 12:48:13,482]\u001b[0m Trial 858 finished with value: -0.0055337188059544655 and parameters: {'kernel': 'rbf', 'C': 0.14375842201072386, 'gamma': 0.013958767525418981, 'epsilon': 0.0016983868911814922}. Best is trial 546 with value: -0.005522866675686452.\u001b[0m\n",
      "\u001b[32m[I 2022-08-05 12:48:18,546]\u001b[0m Trial 859 finished with value: -0.0055402475503158735 and parameters: {'kernel': 'rbf', 'C': 0.12428796991447481, 'gamma': 0.01362243674901065, 'epsilon': 0.0014060831724257614}. Best is trial 546 with value: -0.005522866675686452.\u001b[0m\n",
      "\u001b[32m[I 2022-08-05 12:48:20,935]\u001b[0m Trial 861 finished with value: -0.005950979096178195 and parameters: {'kernel': 'rbf', 'C': 0.12178137000573434, 'gamma': 0.0030563143356134134, 'epsilon': 0.0014430536717936295}. Best is trial 546 with value: -0.005522866675686452.\u001b[0m\n",
      "\u001b[32m[I 2022-08-05 12:48:21,255]\u001b[0m Trial 860 finished with value: -0.005528687836159191 and parameters: {'kernel': 'rbf', 'C': 0.1242645792960331, 'gamma': 0.015444175116679263, 'epsilon': 0.001434914135766724}. Best is trial 546 with value: -0.005522866675686452.\u001b[0m\n",
      "\u001b[32m[I 2022-08-05 12:48:27,865]\u001b[0m Trial 862 finished with value: -0.005537730784027552 and parameters: {'kernel': 'rbf', 'C': 0.11775103188183338, 'gamma': 0.01574379829695278, 'epsilon': 0.0011226914805996888}. Best is trial 546 with value: -0.005522866675686452.\u001b[0m\n",
      "\u001b[32m[I 2022-08-05 12:48:30,117]\u001b[0m Trial 863 finished with value: -0.005541415306960022 and parameters: {'kernel': 'rbf', 'C': 0.10903644050878927, 'gamma': 0.015769983881510366, 'epsilon': 0.001088342441525215}. Best is trial 546 with value: -0.005522866675686452.\u001b[0m\n",
      "\u001b[32m[I 2022-08-05 12:48:31,019]\u001b[0m Trial 864 finished with value: -0.005534058821450636 and parameters: {'kernel': 'rbf', 'C': 0.16124082471469955, 'gamma': 0.01581539576952855, 'epsilon': 0.0012253626874069094}. Best is trial 546 with value: -0.005522866675686452.\u001b[0m\n",
      "\u001b[32m[I 2022-08-05 12:48:34,535]\u001b[0m Trial 865 finished with value: -0.005554953270549618 and parameters: {'kernel': 'rbf', 'C': 0.16415681105493168, 'gamma': 0.01754003974134506, 'epsilon': 0.0022127172901830004}. Best is trial 546 with value: -0.005522866675686452.\u001b[0m\n",
      "\u001b[32m[I 2022-08-05 12:48:36,453]\u001b[0m Trial 866 finished with value: -0.005562344598221621 and parameters: {'kernel': 'rbf', 'C': 0.1571036021929871, 'gamma': 0.017910236716806745, 'epsilon': 0.0022717553910992874}. Best is trial 546 with value: -0.005522866675686452.\u001b[0m\n"
     ]
    },
    {
     "name": "stderr",
     "output_type": "stream",
     "text": [
      "\u001b[32m[I 2022-08-05 12:48:36,922]\u001b[0m Trial 867 finished with value: -0.005558388778913081 and parameters: {'kernel': 'rbf', 'C': 0.14434997534632557, 'gamma': 0.0182950954086517, 'epsilon': 0.002333204827005531}. Best is trial 546 with value: -0.005522866675686452.\u001b[0m\n",
      "\u001b[32m[I 2022-08-05 12:48:39,513]\u001b[0m Trial 870 finished with value: -0.014948144931700835 and parameters: {'kernel': 'rbf', 'C': 0.13344227439096282, 'gamma': 0.013734506253231004, 'epsilon': 0.022697446188256296}. Best is trial 546 with value: -0.005522866675686452.\u001b[0m\n",
      "\u001b[32m[I 2022-08-05 12:48:42,097]\u001b[0m Trial 871 finished with value: -0.009518305181334268 and parameters: {'kernel': 'rbf', 'C': 0.21441736571978626, 'gamma': 0.010549607219651898, 'epsilon': 0.01511951099228571}. Best is trial 546 with value: -0.005522866675686452.\u001b[0m\n",
      "\u001b[32m[I 2022-08-05 12:48:42,232]\u001b[0m Trial 868 finished with value: -0.005537555740719803 and parameters: {'kernel': 'rbf', 'C': 0.14272692334012002, 'gamma': 0.018760747333344107, 'epsilon': 0.0015664278067104975}. Best is trial 546 with value: -0.005522866675686452.\u001b[0m\n",
      "\u001b[32m[I 2022-08-05 12:48:43,253]\u001b[0m Trial 869 finished with value: -0.005587721281104772 and parameters: {'kernel': 'rbf', 'C': 0.13647035610335415, 'gamma': 0.010099241221194022, 'epsilon': 0.0015876617713043223}. Best is trial 546 with value: -0.005522866675686452.\u001b[0m\n",
      "\u001b[32m[I 2022-08-05 12:48:49,586]\u001b[0m Trial 872 finished with value: -0.005533333869886462 and parameters: {'kernel': 'rbf', 'C': 0.10802429886810866, 'gamma': 0.020058866547348748, 'epsilon': 0.0016002510614500259}. Best is trial 546 with value: -0.005522866675686452.\u001b[0m\n",
      "\u001b[32m[I 2022-08-05 12:48:49,851]\u001b[0m Trial 873 finished with value: -0.005655681199518097 and parameters: {'kernel': 'rbf', 'C': 0.10748762910450602, 'gamma': 0.03047258187124354, 'epsilon': 0.0016482487199763146}. Best is trial 546 with value: -0.005522866675686452.\u001b[0m\n",
      "\u001b[32m[I 2022-08-05 12:48:50,473]\u001b[0m Trial 874 finished with value: -0.005543133617896563 and parameters: {'kernel': 'rbf', 'C': 0.10499746412045165, 'gamma': 0.02072513969975758, 'epsilon': 0.001908165970668973}. Best is trial 546 with value: -0.005522866675686452.\u001b[0m\n",
      "\u001b[32m[I 2022-08-05 12:48:57,783]\u001b[0m Trial 876 finished with value: -0.005533922172740425 and parameters: {'kernel': 'rbf', 'C': 0.17427812214054952, 'gamma': 0.014554762066314154, 'epsilon': 0.0019036566933716443}. Best is trial 546 with value: -0.005522866675686452.\u001b[0m\n",
      "\u001b[32m[I 2022-08-05 12:48:58,090]\u001b[0m Trial 875 finished with value: -0.005561060134495162 and parameters: {'kernel': 'rbf', 'C': 0.26222430139718655, 'gamma': 0.014436737013378782, 'epsilon': 0.0019181266455018042}. Best is trial 546 with value: -0.005522866675686452.\u001b[0m\n",
      "\u001b[32m[I 2022-08-05 12:49:00,437]\u001b[0m Trial 877 finished with value: -0.005534368379029171 and parameters: {'kernel': 'rbf', 'C': 0.17599155588906046, 'gamma': 0.014200794080145336, 'epsilon': 0.001300477085681841}. Best is trial 546 with value: -0.005522866675686452.\u001b[0m\n",
      "\u001b[32m[I 2022-08-05 12:49:06,151]\u001b[0m Trial 878 finished with value: -0.005547577493329336 and parameters: {'kernel': 'rbf', 'C': 0.12427158255936929, 'gamma': 0.012952574198621293, 'epsilon': 0.0013200076467037797}. Best is trial 546 with value: -0.005522866675686452.\u001b[0m\n",
      "\u001b[32m[I 2022-08-05 12:49:06,787]\u001b[0m Trial 879 finished with value: -0.00552599529461731 and parameters: {'kernel': 'rbf', 'C': 0.12380747572986979, 'gamma': 0.016876494444666507, 'epsilon': 0.0013675567489212523}. Best is trial 546 with value: -0.005522866675686452.\u001b[0m\n",
      "\u001b[32m[I 2022-08-05 12:49:11,279]\u001b[0m Trial 880 finished with value: -0.0055347766127244605 and parameters: {'kernel': 'rbf', 'C': 0.12256652721876822, 'gamma': 0.0167250758312513, 'epsilon': 0.0010023468383046292}. Best is trial 546 with value: -0.005522866675686452.\u001b[0m\n",
      "\u001b[32m[I 2022-08-05 12:49:15,064]\u001b[0m Trial 881 finished with value: -0.005533129291408373 and parameters: {'kernel': 'rbf', 'C': 0.12552555971634882, 'gamma': 0.016671278901682178, 'epsilon': 0.0011604789040203843}. Best is trial 546 with value: -0.005522866675686452.\u001b[0m\n",
      "\u001b[32m[I 2022-08-05 12:49:16,439]\u001b[0m Trial 882 finished with value: -0.005559240296964385 and parameters: {'kernel': 'rbf', 'C': 0.10239859886943747, 'gamma': 0.02269096136843449, 'epsilon': 0.0010172830795291904}. Best is trial 546 with value: -0.005522866675686452.\u001b[0m\n",
      "\u001b[32m[I 2022-08-05 12:49:20,680]\u001b[0m Trial 883 finished with value: -0.0055457112403789355 and parameters: {'kernel': 'rbf', 'C': 0.09662990668590132, 'gamma': 0.02168751745846404, 'epsilon': 0.0011476099423540424}. Best is trial 546 with value: -0.005522866675686452.\u001b[0m\n",
      "\u001b[32m[I 2022-08-05 12:49:23,705]\u001b[0m Trial 884 finished with value: -0.005542121667719738 and parameters: {'kernel': 'rbf', 'C': 0.09672178720525809, 'gamma': 0.021371869855641806, 'epsilon': 0.0011576662378985723}. Best is trial 546 with value: -0.005522866675686452.\u001b[0m\n",
      "\u001b[32m[I 2022-08-05 12:49:24,560]\u001b[0m Trial 885 finished with value: -0.0055427463269911515 and parameters: {'kernel': 'rbf', 'C': 0.08865369045000235, 'gamma': 0.020230197264533865, 'epsilon': 0.0012859040780320544}. Best is trial 546 with value: -0.005522866675686452.\u001b[0m\n",
      "\u001b[32m[I 2022-08-05 12:49:30,873]\u001b[0m Trial 886 finished with value: -0.005549522604695674 and parameters: {'kernel': 'rbf', 'C': 0.14939475569749164, 'gamma': 0.019616432473842954, 'epsilon': 0.0013572927346005331}. Best is trial 546 with value: -0.005522866675686452.\u001b[0m\n",
      "\u001b[32m[I 2022-08-05 12:49:32,880]\u001b[0m Trial 887 finished with value: -0.005538497780442965 and parameters: {'kernel': 'rbf', 'C': 0.1500483445099204, 'gamma': 0.018305895391923, 'epsilon': 0.0013719470201928286}. Best is trial 546 with value: -0.005522866675686452.\u001b[0m\n",
      "\u001b[32m[I 2022-08-05 12:49:33,675]\u001b[0m Trial 888 finished with value: -0.005536682170817229 and parameters: {'kernel': 'rbf', 'C': 0.15147318346918492, 'gamma': 0.01809172049266633, 'epsilon': 0.0014117860093518432}. Best is trial 546 with value: -0.005522866675686452.\u001b[0m\n",
      "\u001b[32m[I 2022-08-05 12:49:39,362]\u001b[0m Trial 889 finished with value: -0.0055284341678128925 and parameters: {'kernel': 'rbf', 'C': 0.11217342858442429, 'gamma': 0.017840903006131805, 'epsilon': 0.001444139087255645}. Best is trial 546 with value: -0.005522866675686452.\u001b[0m\n",
      "\u001b[32m[I 2022-08-05 12:49:40,752]\u001b[0m Trial 890 finished with value: -0.005529527934852838 and parameters: {'kernel': 'rbf', 'C': 0.1111877042297951, 'gamma': 0.016414059259442962, 'epsilon': 0.0014959927234253342}. Best is trial 546 with value: -0.005522866675686452.\u001b[0m\n",
      "\u001b[32m[I 2022-08-05 12:49:41,031]\u001b[0m Trial 891 finished with value: -0.005530774421348471 and parameters: {'kernel': 'rbf', 'C': 0.1119044841300334, 'gamma': 0.016076495777461574, 'epsilon': 0.0016534206075116506}. Best is trial 546 with value: -0.005522866675686452.\u001b[0m\n",
      "\u001b[32m[I 2022-08-05 12:49:41,765]\u001b[0m Trial 892 finished with value: -0.007347364178495481 and parameters: {'kernel': 'rbf', 'C': 0.13164168692050238, 'gamma': 0.01601061081533732, 'epsilon': 0.009421018806076176}. Best is trial 546 with value: -0.005522866675686452.\u001b[0m\n",
      "\u001b[32m[I 2022-08-05 12:49:46,973]\u001b[0m Trial 893 finished with value: -0.005617940768253659 and parameters: {'kernel': 'rbf', 'C': 0.07845977092128308, 'gamma': 0.012398352417879349, 'epsilon': 0.0017097732381512628}. Best is trial 546 with value: -0.005522866675686452.\u001b[0m\n",
      "\u001b[32m[I 2022-08-05 12:49:47,879]\u001b[0m Trial 894 finished with value: -0.005608360428573187 and parameters: {'kernel': 'rbf', 'C': 0.07823821969663702, 'gamma': 0.012846966939299521, 'epsilon': 0.0016859223897572769}. Best is trial 546 with value: -0.005522866675686452.\u001b[0m\n",
      "\u001b[32m[I 2022-08-05 12:49:50,430]\u001b[0m Trial 895 finished with value: -0.0055417292055252405 and parameters: {'kernel': 'rbf', 'C': 0.2185862471645606, 'gamma': 0.012562405558184952, 'epsilon': 0.0016683274581453802}. Best is trial 546 with value: -0.005522866675686452.\u001b[0m\n",
      "\u001b[32m[I 2022-08-05 12:49:54,098]\u001b[0m Trial 896 finished with value: -0.00562216060341869 and parameters: {'kernel': 'rbf', 'C': 0.1312822603139776, 'gamma': 0.024889586090567416, 'epsilon': 0.0020595248754786575}. Best is trial 546 with value: -0.005522866675686452.\u001b[0m\n",
      "\u001b[32m[I 2022-08-05 12:50:00,577]\u001b[0m Trial 898 finished with value: -0.005606025065627222 and parameters: {'kernel': 'rbf', 'C': 0.13614763054702994, 'gamma': 0.024395384957310928, 'epsilon': 0.0012351264554509194}. Best is trial 546 with value: -0.005522866675686452.\u001b[0m\n"
     ]
    },
    {
     "name": "stderr",
     "output_type": "stream",
     "text": [
      "\u001b[32m[I 2022-08-05 12:50:06,162]\u001b[0m Trial 899 finished with value: -0.00553697891045624 and parameters: {'kernel': 'rbf', 'C': 0.18543850130744066, 'gamma': 0.014360011894309244, 'epsilon': 0.0011926500888604938}. Best is trial 546 with value: -0.005522866675686452.\u001b[0m\n",
      "\u001b[32m[I 2022-08-05 12:50:10,530]\u001b[0m Trial 900 finished with value: -0.006461506876772358 and parameters: {'kernel': 'poly', 'C': 0.1676977330545575, 'gamma': 0.014585717069725855, 'epsilon': 0.0011363126769600906}. Best is trial 546 with value: -0.005522866675686452.\u001b[0m\n",
      "\u001b[32m[I 2022-08-05 12:50:11,218]\u001b[0m Trial 897 finished with value: -0.006027582912405824 and parameters: {'kernel': 'rbf', 'C': 0.8428173488991048, 'gamma': 0.025188946467701142, 'epsilon': 0.0010091166387419458}. Best is trial 546 with value: -0.005522866675686452.\u001b[0m\n",
      "\u001b[32m[I 2022-08-05 12:50:16,792]\u001b[0m Trial 901 finished with value: -0.006396568432642202 and parameters: {'kernel': 'poly', 'C': 0.16668156110509416, 'gamma': 0.018189604364573002, 'epsilon': 0.0014651252258938735}. Best is trial 546 with value: -0.005522866675686452.\u001b[0m\n",
      "\u001b[32m[I 2022-08-05 12:50:18,565]\u001b[0m Trial 902 finished with value: -0.005532165493183299 and parameters: {'kernel': 'rbf', 'C': 0.11745573817154766, 'gamma': 0.019599661460055585, 'epsilon': 0.001487767298204262}. Best is trial 546 with value: -0.005522866675686452.\u001b[0m\n",
      "\u001b[32m[I 2022-08-05 12:50:19,566]\u001b[0m Trial 903 finished with value: -0.005530792203195676 and parameters: {'kernel': 'rbf', 'C': 0.11731336806336456, 'gamma': 0.01937541202999655, 'epsilon': 0.0014187623009813035}. Best is trial 546 with value: -0.005522866675686452.\u001b[0m\n",
      "\u001b[32m[I 2022-08-05 12:50:23,172]\u001b[0m Trial 904 finished with value: -0.005539067286804744 and parameters: {'kernel': 'rbf', 'C': 0.11496398202589048, 'gamma': 0.019863013469392787, 'epsilon': 0.001976916660171591}. Best is trial 546 with value: -0.005522866675686452.\u001b[0m\n",
      "\u001b[32m[I 2022-08-05 12:50:25,652]\u001b[0m Trial 905 finished with value: -0.005528878664568294 and parameters: {'kernel': 'rbf', 'C': 0.1404934285189984, 'gamma': 0.01575560398663914, 'epsilon': 0.0019275121515372013}. Best is trial 546 with value: -0.005522866675686452.\u001b[0m\n",
      "\u001b[32m[I 2022-08-05 12:50:26,808]\u001b[0m Trial 906 finished with value: -0.00552985144687958 and parameters: {'kernel': 'rbf', 'C': 0.14948044978250438, 'gamma': 0.016268154386561387, 'epsilon': 0.001963476211036306}. Best is trial 546 with value: -0.005522866675686452.\u001b[0m\n",
      "\u001b[32m[I 2022-08-05 12:50:28,339]\u001b[0m Trial 907 finished with value: -0.00559532163267007 and parameters: {'kernel': 'rbf', 'C': 0.14154530729010492, 'gamma': 0.015673630954467884, 'epsilon': 0.0030033847396355087}. Best is trial 546 with value: -0.005522866675686452.\u001b[0m\n",
      "\u001b[32m[I 2022-08-05 12:50:30,202]\u001b[0m Trial 908 finished with value: -0.005752018003197512 and parameters: {'kernel': 'rbf', 'C': 0.09678552044818592, 'gamma': 0.008738699091348218, 'epsilon': 0.0032625596989329466}. Best is trial 546 with value: -0.005522866675686452.\u001b[0m\n",
      "\u001b[32m[I 2022-08-05 12:50:34,041]\u001b[0m Trial 910 finished with value: -0.005646227430444932 and parameters: {'kernel': 'rbf', 'C': 0.09117159277964748, 'gamma': 0.011272606363283626, 'epsilon': 0.002520935278094625}. Best is trial 546 with value: -0.005522866675686452.\u001b[0m\n",
      "\u001b[32m[I 2022-08-05 12:50:34,572]\u001b[0m Trial 909 finished with value: -0.005609297807351988 and parameters: {'kernel': 'rbf', 'C': 0.09714767566750654, 'gamma': 0.011426980589961729, 'epsilon': 0.0012786180291735813}. Best is trial 546 with value: -0.005522866675686452.\u001b[0m\n",
      "\u001b[32m[I 2022-08-05 12:50:39,417]\u001b[0m Trial 911 finished with value: -0.005556869952793952 and parameters: {'kernel': 'rbf', 'C': 0.19867564939782342, 'gamma': 0.010917311220013047, 'epsilon': 0.0012587685261460095}. Best is trial 546 with value: -0.005522866675686452.\u001b[0m\n",
      "\u001b[32m[I 2022-08-05 12:50:42,836]\u001b[0m Trial 912 finished with value: -0.005557123930816582 and parameters: {'kernel': 'rbf', 'C': 0.10232022085166996, 'gamma': 0.01368529531141936, 'epsilon': 0.0013043795363459354}. Best is trial 546 with value: -0.005522866675686452.\u001b[0m\n",
      "\u001b[32m[I 2022-08-05 12:50:43,567]\u001b[0m Trial 913 finished with value: -0.005534581526235615 and parameters: {'kernel': 'rbf', 'C': 0.19459277066665082, 'gamma': 0.014085087446573562, 'epsilon': 0.0016528752070581448}. Best is trial 546 with value: -0.005522866675686452.\u001b[0m\n",
      "\u001b[32m[I 2022-08-05 12:50:46,300]\u001b[0m Trial 914 finished with value: -0.0055412968949176316 and parameters: {'kernel': 'rbf', 'C': 0.12713058126644863, 'gamma': 0.013922372151991729, 'epsilon': 0.0017297230677365142}. Best is trial 546 with value: -0.005522866675686452.\u001b[0m\n",
      "\u001b[32m[I 2022-08-05 12:50:50,997]\u001b[0m Trial 915 finished with value: -0.005562188409480337 and parameters: {'kernel': 'rbf', 'C': 0.12846659248528158, 'gamma': 0.022001216108877376, 'epsilon': 0.0016850385471093353}. Best is trial 546 with value: -0.005522866675686452.\u001b[0m\n",
      "\u001b[32m[I 2022-08-05 12:50:51,831]\u001b[0m Trial 916 finished with value: -0.0055598133663692035 and parameters: {'kernel': 'rbf', 'C': 0.12541890127064667, 'gamma': 0.021793571344207376, 'epsilon': 0.0017282494810106422}. Best is trial 546 with value: -0.005522866675686452.\u001b[0m\n",
      "\u001b[32m[I 2022-08-05 12:50:53,442]\u001b[0m Trial 918 finished with value: -0.00847612285679396 and parameters: {'kernel': 'rbf', 'C': 0.16228342048533367, 'gamma': 0.017342098599521284, 'epsilon': 0.01229149673520842}. Best is trial 546 with value: -0.005522866675686452.\u001b[0m\n",
      "\u001b[32m[I 2022-08-05 12:50:54,832]\u001b[0m Trial 917 finished with value: -0.0056015925056119 and parameters: {'kernel': 'rbf', 'C': 0.16796211523467958, 'gamma': 0.022365958842692976, 'epsilon': 0.0015361374947143046}. Best is trial 546 with value: -0.005522866675686452.\u001b[0m\n",
      "\u001b[32m[I 2022-08-05 12:51:02,092]\u001b[0m Trial 919 finished with value: -0.005541946689401842 and parameters: {'kernel': 'rbf', 'C': 0.1548926615131882, 'gamma': 0.017292126874168492, 'epsilon': 0.0010060392506876408}. Best is trial 546 with value: -0.005522866675686452.\u001b[0m\n",
      "\u001b[32m[I 2022-08-05 12:51:02,249]\u001b[0m Trial 921 finished with value: -0.0056708477195811825 and parameters: {'kernel': 'rbf', 'C': 0.10641129301235995, 'gamma': 0.029929594476983647, 'epsilon': 0.0021849848830039977}. Best is trial 546 with value: -0.005522866675686452.\u001b[0m\n",
      "\u001b[32m[I 2022-08-05 12:51:03,092]\u001b[0m Trial 920 finished with value: -0.005631380610756689 and parameters: {'kernel': 'rbf', 'C': 0.10768286871042647, 'gamma': 0.028490187576594446, 'epsilon': 0.001096899724082129}. Best is trial 546 with value: -0.005522866675686452.\u001b[0m\n",
      "\u001b[32m[I 2022-08-05 12:51:08,686]\u001b[0m Trial 922 finished with value: -0.005546697454519855 and parameters: {'kernel': 'rbf', 'C': 0.10919812331690523, 'gamma': 0.01569731045214218, 'epsilon': 0.002105007204784007}. Best is trial 546 with value: -0.005522866675686452.\u001b[0m\n",
      "\u001b[32m[I 2022-08-05 12:51:09,773]\u001b[0m Trial 923 finished with value: -0.005553880974147627 and parameters: {'kernel': 'rbf', 'C': 0.08667634256360304, 'gamma': 0.01575929536172086, 'epsilon': 0.001415055566454861}. Best is trial 546 with value: -0.005522866675686452.\u001b[0m\n",
      "\u001b[32m[I 2022-08-05 12:51:12,739]\u001b[0m Trial 924 finished with value: -0.005533865032481708 and parameters: {'kernel': 'rbf', 'C': 0.14580229294465535, 'gamma': 0.018327922171531962, 'epsilon': 0.0013597339862771464}. Best is trial 546 with value: -0.005522866675686452.\u001b[0m\n",
      "\u001b[32m[I 2022-08-05 12:51:16,303]\u001b[0m Trial 925 finished with value: -0.005728695710325143 and parameters: {'kernel': 'rbf', 'C': 0.086330083532054, 'gamma': 0.04080517313860972, 'epsilon': 0.0014108283570699906}. Best is trial 546 with value: -0.005522866675686452.\u001b[0m\n",
      "\u001b[32m[I 2022-08-05 12:51:17,822]\u001b[0m Trial 926 finished with value: -0.005532468865109839 and parameters: {'kernel': 'rbf', 'C': 0.14011533643049442, 'gamma': 0.01849525369311399, 'epsilon': 0.0014856193557854904}. Best is trial 546 with value: -0.005522866675686452.\u001b[0m\n",
      "\u001b[32m[I 2022-08-05 12:51:21,270]\u001b[0m Trial 928 finished with value: -0.005716338852924447 and parameters: {'kernel': 'rbf', 'C': 0.13474443583974932, 'gamma': 0.01914400401549016, 'epsilon': 0.0038847104036168743}. Best is trial 546 with value: -0.005522866675686452.\u001b[0m\n",
      "\u001b[32m[I 2022-08-05 12:51:21,986]\u001b[0m Trial 927 finished with value: -0.0058866306932046485 and parameters: {'kernel': 'rbf', 'C': 0.13283692364686628, 'gamma': 0.05682066533166695, 'epsilon': 0.001505734048055856}. Best is trial 546 with value: -0.005522866675686452.\u001b[0m\n"
     ]
    },
    {
     "name": "stderr",
     "output_type": "stream",
     "text": [
      "\u001b[32m[I 2022-08-05 12:51:26,146]\u001b[0m Trial 929 finished with value: -0.005544181054954767 and parameters: {'kernel': 'rbf', 'C': 0.23443389194668493, 'gamma': 0.013011506324679465, 'epsilon': 0.0018164181997906556}. Best is trial 546 with value: -0.005522866675686452.\u001b[0m\n",
      "\u001b[32m[I 2022-08-05 12:51:28,098]\u001b[0m Trial 930 finished with value: -0.005559376725865933 and parameters: {'kernel': 'rbf', 'C': 0.11987004294034802, 'gamma': 0.0125588450349855, 'epsilon': 0.0018483913136213153}. Best is trial 546 with value: -0.005522866675686452.\u001b[0m\n",
      "\u001b[32m[I 2022-08-05 12:51:29,662]\u001b[0m Trial 931 finished with value: -0.005549442687823954 and parameters: {'kernel': 'rbf', 'C': 0.1159880909881521, 'gamma': 0.013816373366174568, 'epsilon': 0.001834010569741423}. Best is trial 546 with value: -0.005522866675686452.\u001b[0m\n",
      "\u001b[32m[I 2022-08-05 12:51:36,476]\u001b[0m Trial 932 finished with value: -0.005537628455138117 and parameters: {'kernel': 'rbf', 'C': 0.17867224739410353, 'gamma': 0.014921529309410013, 'epsilon': 0.0011834241500813974}. Best is trial 546 with value: -0.005522866675686452.\u001b[0m\n",
      "\u001b[32m[I 2022-08-05 12:51:38,054]\u001b[0m Trial 933 finished with value: -0.005539604049247431 and parameters: {'kernel': 'rbf', 'C': 0.17592160632729203, 'gamma': 0.015253440280248665, 'epsilon': 0.0011571843054041517}. Best is trial 546 with value: -0.005522866675686452.\u001b[0m\n",
      "\u001b[32m[I 2022-08-05 12:51:40,520]\u001b[0m Trial 934 finished with value: -0.005546502741332441 and parameters: {'kernel': 'rbf', 'C': 0.191254515252553, 'gamma': 0.016173291518385063, 'epsilon': 0.0011798077973160309}. Best is trial 546 with value: -0.005522866675686452.\u001b[0m\n",
      "\u001b[32m[I 2022-08-05 12:51:45,840]\u001b[0m Trial 935 finished with value: -0.005531992342209956 and parameters: {'kernel': 'rbf', 'C': 0.14907547136870877, 'gamma': 0.016945640297556984, 'epsilon': 0.0012490909948959553}. Best is trial 546 with value: -0.005522866675686452.\u001b[0m\n",
      "\u001b[32m[I 2022-08-05 12:51:46,568]\u001b[0m Trial 936 finished with value: -0.005528977224442277 and parameters: {'kernel': 'rbf', 'C': 0.15153185654987916, 'gamma': 0.017100914210550874, 'epsilon': 0.0015705978466270482}. Best is trial 546 with value: -0.005522866675686452.\u001b[0m\n",
      "\u001b[32m[I 2022-08-05 12:51:48,613]\u001b[0m Trial 937 finished with value: -0.0055536004884452475 and parameters: {'kernel': 'rbf', 'C': 0.15529056949973283, 'gamma': 0.019759247331045282, 'epsilon': 0.0016338143971733057}. Best is trial 546 with value: -0.005522866675686452.\u001b[0m\n",
      "\u001b[32m[I 2022-08-05 12:51:53,631]\u001b[0m Trial 938 finished with value: -0.005535133314756814 and parameters: {'kernel': 'rbf', 'C': 0.09972522703449213, 'gamma': 0.020733827766583852, 'epsilon': 0.0015850066579312066}. Best is trial 546 with value: -0.005522866675686452.\u001b[0m\n",
      "\u001b[32m[I 2022-08-05 12:51:54,116]\u001b[0m Trial 939 finished with value: -0.005541700604535516 and parameters: {'kernel': 'rbf', 'C': 0.10147397997288693, 'gamma': 0.02156094672263808, 'epsilon': 0.0016199892526474965}. Best is trial 546 with value: -0.005522866675686452.\u001b[0m\n",
      "\u001b[32m[I 2022-08-05 12:51:54,692]\u001b[0m Trial 940 finished with value: -0.005573061478688151 and parameters: {'kernel': 'rbf', 'C': 0.09998911620131877, 'gamma': 0.020748375612675795, 'epsilon': 0.002526490030514926}. Best is trial 546 with value: -0.005522866675686452.\u001b[0m\n",
      "\u001b[32m[I 2022-08-05 12:51:59,302]\u001b[0m Trial 941 finished with value: -0.005618248817706448 and parameters: {'kernel': 'rbf', 'C': 0.1214380994210865, 'gamma': 0.010052157479344433, 'epsilon': 0.0021084526580934623}. Best is trial 546 with value: -0.005522866675686452.\u001b[0m\n",
      "\u001b[32m[I 2022-08-05 12:52:02,701]\u001b[0m Trial 942 finished with value: -0.005609198125656411 and parameters: {'kernel': 'rbf', 'C': 0.12072348472049842, 'gamma': 0.01026626696649477, 'epsilon': 0.0010017555641198817}. Best is trial 546 with value: -0.005522866675686452.\u001b[0m\n",
      "\u001b[32m[I 2022-08-05 12:52:04,113]\u001b[0m Trial 943 finished with value: -0.00557319185854578 and parameters: {'kernel': 'rbf', 'C': 0.12294766011889373, 'gamma': 0.011956183819834045, 'epsilon': 0.0010237137580448319}. Best is trial 546 with value: -0.005522866675686452.\u001b[0m\n",
      "\u001b[32m[I 2022-08-05 12:52:08,081]\u001b[0m Trial 944 finished with value: -0.005553417389683161 and parameters: {'kernel': 'rbf', 'C': 0.12641483309126003, 'gamma': 0.01235566990212911, 'epsilon': 0.0013243459390178218}. Best is trial 546 with value: -0.005522866675686452.\u001b[0m\n",
      "\u001b[32m[I 2022-08-05 12:52:09,803]\u001b[0m Trial 945 finished with value: -0.005622804679221321 and parameters: {'kernel': 'rbf', 'C': 0.07717876888525896, 'gamma': 0.012456618391416409, 'epsilon': 0.0013145021934947282}. Best is trial 546 with value: -0.005522866675686452.\u001b[0m\n",
      "\u001b[32m[I 2022-08-05 12:52:13,294]\u001b[0m Trial 946 finished with value: -0.005539915539871379 and parameters: {'kernel': 'rbf', 'C': 0.13418927795277016, 'gamma': 0.01373981257281338, 'epsilon': 0.0013340846535021232}. Best is trial 546 with value: -0.005522866675686452.\u001b[0m\n",
      "\u001b[32m[I 2022-08-05 12:52:15,735]\u001b[0m Trial 947 finished with value: -0.005584885077529186 and parameters: {'kernel': 'rbf', 'C': 0.07844554584417265, 'gamma': 0.014512742350232742, 'epsilon': 0.0013312666488622857}. Best is trial 546 with value: -0.005522866675686452.\u001b[0m\n",
      "\u001b[32m[I 2022-08-05 12:52:17,234]\u001b[0m Trial 948 finished with value: -0.005535068068761446 and parameters: {'kernel': 'rbf', 'C': 0.13952495650144295, 'gamma': 0.014516052381344537, 'epsilon': 0.0018538872438141531}. Best is trial 546 with value: -0.005522866675686452.\u001b[0m\n",
      "\u001b[32m[I 2022-08-05 12:52:18,719]\u001b[0m Trial 950 finished with value: -0.03970428011167091 and parameters: {'kernel': 'rbf', 'C': 0.144588812455271, 'gamma': 0.01802170100376487, 'epsilon': 0.04418979127717444}. Best is trial 546 with value: -0.005522866675686452.\u001b[0m\n",
      "\u001b[32m[I 2022-08-05 12:52:20,627]\u001b[0m Trial 949 finished with value: -0.005576889939449404 and parameters: {'kernel': 'rbf', 'C': 0.21117858700308897, 'gamma': 0.018096998942642776, 'epsilon': 0.0019545792759397876}. Best is trial 546 with value: -0.005522866675686452.\u001b[0m\n",
      "\u001b[32m[I 2022-08-05 12:52:24,129]\u001b[0m Trial 951 finished with value: -0.005593171900765929 and parameters: {'kernel': 'rbf', 'C': 0.20556056311310952, 'gamma': 0.01759399108020838, 'epsilon': 0.0024416921080912275}. Best is trial 546 with value: -0.005522866675686452.\u001b[0m\n",
      "\u001b[32m[I 2022-08-05 12:52:25,173]\u001b[0m Trial 952 finished with value: -0.005691853029270816 and parameters: {'kernel': 'rbf', 'C': 0.1725857725863071, 'gamma': 0.025151955958483407, 'epsilon': 0.002376408326503879}. Best is trial 546 with value: -0.005522866675686452.\u001b[0m\n",
      "\u001b[32m[I 2022-08-05 12:52:27,548]\u001b[0m Trial 953 finished with value: -0.005529253879324268 and parameters: {'kernel': 'rbf', 'C': 0.10897599054909542, 'gamma': 0.016753848398840948, 'epsilon': 0.0015420404866843106}. Best is trial 546 with value: -0.005522866675686452.\u001b[0m\n",
      "\u001b[32m[I 2022-08-05 12:52:32,202]\u001b[0m Trial 954 finished with value: -0.005534869339641019 and parameters: {'kernel': 'rbf', 'C': 0.10884926178932806, 'gamma': 0.015867484738750163, 'epsilon': 0.0015210610119869262}. Best is trial 546 with value: -0.005522866675686452.\u001b[0m\n",
      "\u001b[32m[I 2022-08-05 12:52:33,316]\u001b[0m Trial 955 finished with value: -0.005565756795122515 and parameters: {'kernel': 'rbf', 'C': 0.11013827384813729, 'gamma': 0.023599667253286393, 'epsilon': 0.0015293389411874406}. Best is trial 546 with value: -0.005522866675686452.\u001b[0m\n",
      "\u001b[32m[I 2022-08-05 12:52:35,826]\u001b[0m Trial 956 finished with value: -0.005613033708847124 and parameters: {'kernel': 'rbf', 'C': 0.16142628582086094, 'gamma': 0.023216316171992487, 'epsilon': 0.0017551644954595174}. Best is trial 546 with value: -0.005522866675686452.\u001b[0m\n",
      "\u001b[32m[I 2022-08-05 12:52:40,855]\u001b[0m Trial 957 finished with value: -0.006384946807788076 and parameters: {'kernel': 'poly', 'C': 0.09016748585034853, 'gamma': 0.02177759842906526, 'epsilon': 0.0017271696505503785}. Best is trial 546 with value: -0.005522866675686452.\u001b[0m\n",
      "\u001b[32m[I 2022-08-05 12:52:41,761]\u001b[0m Trial 958 finished with value: -0.006395459411705659 and parameters: {'kernel': 'poly', 'C': 0.09115915586963279, 'gamma': 0.019560554683803338, 'epsilon': 0.0018848066363527994}. Best is trial 546 with value: -0.005522866675686452.\u001b[0m\n",
      "\u001b[32m[I 2022-08-05 12:52:42,495]\u001b[0m Trial 959 finished with value: -0.008060293503424056 and parameters: {'kernel': 'poly', 'C': 0.08973063869907398, 'gamma': 0.00151241375974528, 'epsilon': 0.0011141725848094637}. Best is trial 546 with value: -0.005522866675686452.\u001b[0m\n"
     ]
    },
    {
     "name": "stderr",
     "output_type": "stream",
     "text": [
      "\u001b[32m[I 2022-08-05 12:52:50,989]\u001b[0m Trial 960 finished with value: -0.0055439925267032454 and parameters: {'kernel': 'rbf', 'C': 0.13178750656876254, 'gamma': 0.019168978101515098, 'epsilon': 0.0010040678625710345}. Best is trial 546 with value: -0.005522866675686452.\u001b[0m\n",
      "\u001b[32m[I 2022-08-05 12:52:51,958]\u001b[0m Trial 961 finished with value: -0.0055360230363241236 and parameters: {'kernel': 'rbf', 'C': 0.13420586881930627, 'gamma': 0.015030582827406144, 'epsilon': 0.0011286499460915176}. Best is trial 546 with value: -0.005522866675686452.\u001b[0m\n",
      "\u001b[32m[I 2022-08-05 12:52:51,958]\u001b[0m Trial 962 finished with value: -0.005527327474472306 and parameters: {'kernel': 'rbf', 'C': 0.13486764033156093, 'gamma': 0.01534513574289244, 'epsilon': 0.001393247476274369}. Best is trial 546 with value: -0.005522866675686452.\u001b[0m\n",
      "\u001b[32m[I 2022-08-05 12:52:59,711]\u001b[0m Trial 963 finished with value: -0.0055305620104259 and parameters: {'kernel': 'rbf', 'C': 0.15631143691431923, 'gamma': 0.014444730038674308, 'epsilon': 0.001314708555147247}. Best is trial 546 with value: -0.005522866675686452.\u001b[0m\n",
      "\u001b[32m[I 2022-08-05 12:53:01,320]\u001b[0m Trial 964 finished with value: -0.005539757304670159 and parameters: {'kernel': 'rbf', 'C': 0.16326685623856435, 'gamma': 0.013168830198543438, 'epsilon': 0.0012830626075259653}. Best is trial 546 with value: -0.005522866675686452.\u001b[0m\n",
      "\u001b[32m[I 2022-08-05 12:53:01,320]\u001b[0m Trial 965 finished with value: -0.005533906947244005 and parameters: {'kernel': 'rbf', 'C': 0.1567501364188133, 'gamma': 0.013792117601460211, 'epsilon': 0.001286790699363195}. Best is trial 546 with value: -0.005522866675686452.\u001b[0m\n",
      "\u001b[32m[I 2022-08-05 12:53:05,630]\u001b[0m Trial 966 finished with value: -0.0056608715065531575 and parameters: {'kernel': 'rbf', 'C': 0.06444372893273771, 'gamma': 0.012861872343517896, 'epsilon': 0.002056910676992195}. Best is trial 546 with value: -0.005522866675686452.\u001b[0m\n",
      "\u001b[32m[I 2022-08-05 12:53:07,563]\u001b[0m Trial 967 finished with value: -0.005539037203407119 and parameters: {'kernel': 'rbf', 'C': 0.11605532175912629, 'gamma': 0.017161819630680742, 'epsilon': 0.002144930017512862}. Best is trial 546 with value: -0.005522866675686452.\u001b[0m\n",
      "\u001b[32m[I 2022-08-05 12:53:07,704]\u001b[0m Trial 968 finished with value: -0.005538100204329632 and parameters: {'kernel': 'rbf', 'C': 0.1211347389772478, 'gamma': 0.01728078443536455, 'epsilon': 0.002147660442351118}. Best is trial 546 with value: -0.005522866675686452.\u001b[0m\n",
      "\u001b[32m[I 2022-08-05 12:53:13,183]\u001b[0m Trial 969 finished with value: -0.005523418556990218 and parameters: {'kernel': 'rbf', 'C': 0.12059189638184774, 'gamma': 0.017064021468538994, 'epsilon': 0.001557632653862601}. Best is trial 546 with value: -0.005522866675686452.\u001b[0m\n",
      "\u001b[32m[I 2022-08-05 12:53:15,552]\u001b[0m Trial 970 finished with value: -0.005580863817574608 and parameters: {'kernel': 'rbf', 'C': 0.1169596656075407, 'gamma': 0.011271256356461722, 'epsilon': 0.0015068076691829395}. Best is trial 546 with value: -0.005522866675686452.\u001b[0m\n",
      "\u001b[32m[I 2022-08-05 12:53:16,069]\u001b[0m Trial 971 finished with value: -0.005602487913026754 and parameters: {'kernel': 'rbf', 'C': 0.10409634728163948, 'gamma': 0.02729935696068329, 'epsilon': 0.001513261121876434}. Best is trial 546 with value: -0.005522866675686452.\u001b[0m\n",
      "\u001b[32m[I 2022-08-05 12:53:20,281]\u001b[0m Trial 972 finished with value: -0.00554802850426865 and parameters: {'kernel': 'rbf', 'C': 0.17994432188639772, 'gamma': 0.011644767790601225, 'epsilon': 0.0017334466119282314}. Best is trial 546 with value: -0.005522866675686452.\u001b[0m\n",
      "\u001b[32m[I 2022-08-05 12:53:24,056]\u001b[0m Trial 973 finished with value: -0.005572916571709496 and parameters: {'kernel': 'rbf', 'C': 0.17850728618916975, 'gamma': 0.019786428182788224, 'epsilon': 0.0017227637968585904}. Best is trial 546 with value: -0.005522866675686452.\u001b[0m\n",
      "\u001b[32m[I 2022-08-05 12:53:26,189]\u001b[0m Trial 974 finished with value: -0.005637528380524262 and parameters: {'kernel': 'rbf', 'C': 0.2488730005809301, 'gamma': 0.02018827199600817, 'epsilon': 0.0017868946794803815}. Best is trial 546 with value: -0.005522866675686452.\u001b[0m\n",
      "\u001b[32m[I 2022-08-05 12:53:27,954]\u001b[0m Trial 975 finished with value: -0.005545829961393138 and parameters: {'kernel': 'rbf', 'C': 0.13744602805120568, 'gamma': 0.019839258072797097, 'epsilon': 0.0017898432033229157}. Best is trial 546 with value: -0.005522866675686452.\u001b[0m\n",
      "\u001b[32m[I 2022-08-05 12:53:30,202]\u001b[0m Trial 976 finished with value: -0.005613999857432882 and parameters: {'kernel': 'rbf', 'C': 0.14390037665067834, 'gamma': 0.009014664688717925, 'epsilon': 0.0018199201093001278}. Best is trial 546 with value: -0.005522866675686452.\u001b[0m\n",
      "\u001b[32m[I 2022-08-05 12:53:31,994]\u001b[0m Trial 979 finished with value: -0.04558449770905386 and parameters: {'kernel': 'rbf', 'C': 0.148562186736839, 'gamma': 0.01596670055955425, 'epsilon': 0.12950950641825523}. Best is trial 546 with value: -0.005522866675686452.\u001b[0m\n",
      "\u001b[32m[I 2022-08-05 12:53:34,399]\u001b[0m Trial 977 finished with value: -0.005524926902770515 and parameters: {'kernel': 'rbf', 'C': 0.1464240114866218, 'gamma': 0.01598453933919637, 'epsilon': 0.0014517732785362348}. Best is trial 546 with value: -0.005522866675686452.\u001b[0m\n",
      "\u001b[32m[I 2022-08-05 12:53:36,162]\u001b[0m Trial 978 finished with value: -0.005607457679011688 and parameters: {'kernel': 'rbf', 'C': 0.14669338029844406, 'gamma': 0.00904289760190069, 'epsilon': 0.0014183325643963788}. Best is trial 546 with value: -0.005522866675686452.\u001b[0m\n",
      "\u001b[32m[I 2022-08-05 12:53:39,882]\u001b[0m Trial 980 finished with value: -0.0055240601371820105 and parameters: {'kernel': 'rbf', 'C': 0.12947384995829267, 'gamma': 0.015986403892534036, 'epsilon': 0.0014952831578689328}. Best is trial 546 with value: -0.005522866675686452.\u001b[0m\n",
      "\u001b[32m[I 2022-08-05 12:53:44,929]\u001b[0m Trial 981 finished with value: -0.005539713963154049 and parameters: {'kernel': 'rbf', 'C': 0.18662362682235953, 'gamma': 0.013166223056982375, 'epsilon': 0.0011265967784337741}. Best is trial 546 with value: -0.005522866675686452.\u001b[0m\n",
      "\u001b[32m[I 2022-08-05 12:53:47,557]\u001b[0m Trial 982 finished with value: -0.005542577782263278 and parameters: {'kernel': 'rbf', 'C': 0.19375640302912553, 'gamma': 0.013447946699672284, 'epsilon': 0.0011090593216283359}. Best is trial 546 with value: -0.005522866675686452.\u001b[0m\n",
      "\u001b[32m[I 2022-08-05 12:53:49,438]\u001b[0m Trial 983 finished with value: -0.00556496877840488 and parameters: {'kernel': 'rbf', 'C': 0.18205817245836756, 'gamma': 0.010710982929107686, 'epsilon': 0.0011454280488640807}. Best is trial 546 with value: -0.005522866675686452.\u001b[0m\n",
      "\u001b[32m[I 2022-08-05 12:53:54,472]\u001b[0m Trial 984 finished with value: -0.005554936253465355 and parameters: {'kernel': 'rbf', 'C': 0.22249531384943227, 'gamma': 0.010778781438915176, 'epsilon': 0.0014917803121723412}. Best is trial 546 with value: -0.005522866675686452.\u001b[0m\n",
      "\u001b[32m[I 2022-08-05 12:53:56,274]\u001b[0m Trial 985 finished with value: -0.005560578736048296 and parameters: {'kernel': 'rbf', 'C': 0.16970079384724543, 'gamma': 0.01051181085713315, 'epsilon': 0.0015127019597230978}. Best is trial 546 with value: -0.005522866675686452.\u001b[0m\n",
      "\u001b[32m[I 2022-08-05 12:53:58,723]\u001b[0m Trial 986 finished with value: -0.005543730375109751 and parameters: {'kernel': 'rbf', 'C': 0.21271494168215002, 'gamma': 0.015023606351457499, 'epsilon': 0.0014949062289450158}. Best is trial 546 with value: -0.005522866675686452.\u001b[0m\n",
      "\u001b[32m[I 2022-08-05 12:54:03,184]\u001b[0m Trial 988 finished with value: -0.0062514807526742105 and parameters: {'kernel': 'rbf', 'C': 0.010843004867147054, 'gamma': 0.015434236252125477, 'epsilon': 0.0012909418593396596}. Best is trial 546 with value: -0.005522866675686452.\u001b[0m\n",
      "\u001b[32m[I 2022-08-05 12:54:03,839]\u001b[0m Trial 987 finished with value: -0.005531553135322539 and parameters: {'kernel': 'rbf', 'C': 0.17005167534276253, 'gamma': 0.015178382060795649, 'epsilon': 0.001392831491343294}. Best is trial 546 with value: -0.005522866675686452.\u001b[0m\n",
      "\u001b[32m[I 2022-08-05 12:54:05,409]\u001b[0m Trial 989 finished with value: -0.005552621756501222 and parameters: {'kernel': 'rbf', 'C': 0.16226904615460266, 'gamma': 0.012189635815910933, 'epsilon': 0.0020484872041136534}. Best is trial 546 with value: -0.005522866675686452.\u001b[0m\n",
      "\u001b[32m[I 2022-08-05 12:54:09,892]\u001b[0m Trial 990 finished with value: -0.005554586682202006 and parameters: {'kernel': 'rbf', 'C': 0.15995680854805688, 'gamma': 0.012304694660272206, 'epsilon': 0.002074867878067961}. Best is trial 546 with value: -0.005522866675686452.\u001b[0m\n"
     ]
    },
    {
     "name": "stderr",
     "output_type": "stream",
     "text": [
      "\u001b[32m[I 2022-08-05 12:54:13,409]\u001b[0m Trial 991 finished with value: -0.00558701335029452 and parameters: {'kernel': 'rbf', 'C': 0.37237214128373347, 'gamma': 0.012398996232490703, 'epsilon': 0.001998143129892652}. Best is trial 546 with value: -0.005522866675686452.\u001b[0m\n",
      "\u001b[32m[I 2022-08-05 12:54:13,968]\u001b[0m Trial 992 finished with value: -0.005539628533698165 and parameters: {'kernel': 'rbf', 'C': 0.14931829989131726, 'gamma': 0.01314415402395486, 'epsilon': 0.0016374400201251461}. Best is trial 546 with value: -0.005522866675686452.\u001b[0m\n",
      "\u001b[32m[I 2022-08-05 12:54:17,377]\u001b[0m Trial 993 finished with value: -0.005524242323008767 and parameters: {'kernel': 'rbf', 'C': 0.14420618062612192, 'gamma': 0.016780515217242158, 'epsilon': 0.0016424611164716405}. Best is trial 546 with value: -0.005522866675686452.\u001b[0m\n",
      "\u001b[32m[I 2022-08-05 12:54:21,787]\u001b[0m Trial 994 finished with value: -0.00552861878486691 and parameters: {'kernel': 'rbf', 'C': 0.1411220708380006, 'gamma': 0.017094371290035375, 'epsilon': 0.001722240688481734}. Best is trial 546 with value: -0.005522866675686452.\u001b[0m\n",
      "\u001b[32m[I 2022-08-05 12:54:23,408]\u001b[0m Trial 995 finished with value: -0.005527229329562527 and parameters: {'kernel': 'rbf', 'C': 0.13370448420447648, 'gamma': 0.016563684922547697, 'epsilon': 0.00128485009348665}. Best is trial 546 with value: -0.005522866675686452.\u001b[0m\n",
      "\u001b[32m[I 2022-08-05 12:54:23,408]\u001b[0m Trial 996 finished with value: -0.005613039108021774 and parameters: {'kernel': 'rbf', 'C': 0.20040077333899128, 'gamma': 0.01698485837529479, 'epsilon': 0.0028253554013518618}. Best is trial 546 with value: -0.005522866675686452.\u001b[0m\n",
      "\u001b[32m[I 2022-08-05 12:54:27,692]\u001b[0m Trial 997 finished with value: -0.005573257472187644 and parameters: {'kernel': 'rbf', 'C': 0.18320501061980704, 'gamma': 0.01723495874120972, 'epsilon': 0.002359352079992917}. Best is trial 546 with value: -0.005522866675686452.\u001b[0m\n",
      "\u001b[32m[I 2022-08-05 12:54:30,496]\u001b[0m Trial 998 finished with value: -0.00554586332182686 and parameters: {'kernel': 'rbf', 'C': 0.16517594580942313, 'gamma': 0.014412879332650393, 'epsilon': 0.002298189663850453}. Best is trial 546 with value: -0.005522866675686452.\u001b[0m\n",
      "\u001b[32m[I 2022-08-05 12:54:31,422]\u001b[0m Trial 999 finished with value: -0.0055347492253877 and parameters: {'kernel': 'rbf', 'C': 0.1625750484983628, 'gamma': 0.014299783496589476, 'epsilon': 0.0018983422291200065}. Best is trial 546 with value: -0.005522866675686452.\u001b[0m\n",
      "\u001b[32m[I 2022-08-05 12:54:35,110]\u001b[0m Trial 1000 finished with value: -0.005532302923809973 and parameters: {'kernel': 'rbf', 'C': 0.15526976778632223, 'gamma': 0.014417407618642944, 'epsilon': 0.0018524377817474168}. Best is trial 546 with value: -0.005522866675686452.\u001b[0m\n",
      "\u001b[32m[I 2022-08-05 12:54:37,466]\u001b[0m Trial 1001 finished with value: -0.005540458455439484 and parameters: {'kernel': 'rbf', 'C': 0.14064965013844674, 'gamma': 0.018522652638783887, 'epsilon': 0.0018885627719337338}. Best is trial 546 with value: -0.005522866675686452.\u001b[0m\n",
      "\u001b[32m[I 2022-08-05 12:54:39,544]\u001b[0m Trial 1002 finished with value: -0.005534213246961167 and parameters: {'kernel': 'rbf', 'C': 0.14511561989581787, 'gamma': 0.018218367131615665, 'epsilon': 0.0016694949122947299}. Best is trial 546 with value: -0.005522866675686452.\u001b[0m\n",
      "\u001b[32m[I 2022-08-05 12:54:43,410]\u001b[0m Trial 1003 finished with value: -0.005532025157045351 and parameters: {'kernel': 'rbf', 'C': 0.14109679076836518, 'gamma': 0.017994182436314746, 'epsilon': 0.0016408935592234972}. Best is trial 546 with value: -0.005522866675686452.\u001b[0m\n",
      "\u001b[32m[I 2022-08-05 12:54:46,816]\u001b[0m Trial 1004 finished with value: -0.005581126367630922 and parameters: {'kernel': 'rbf', 'C': 0.26417037812956173, 'gamma': 0.016477498880854972, 'epsilon': 0.0017076857791546386}. Best is trial 546 with value: -0.005522866675686452.\u001b[0m\n",
      "\u001b[32m[I 2022-08-05 12:54:48,852]\u001b[0m Trial 1005 finished with value: -0.005545317483805137 and parameters: {'kernel': 'rbf', 'C': 0.20319482427134702, 'gamma': 0.016043131082949715, 'epsilon': 0.0016038756825292636}. Best is trial 546 with value: -0.005522866675686452.\u001b[0m\n",
      "\u001b[32m[I 2022-08-05 12:54:52,938]\u001b[0m Trial 1006 finished with value: -0.005534411554796838 and parameters: {'kernel': 'rbf', 'C': 0.1879825477477154, 'gamma': 0.01579154826516548, 'epsilon': 0.0015556117571826464}. Best is trial 546 with value: -0.005522866675686452.\u001b[0m\n",
      "\u001b[32m[I 2022-08-05 12:54:58,465]\u001b[0m Trial 1008 finished with value: -0.005552469441884712 and parameters: {'kernel': 'rbf', 'C': 0.1247704113759319, 'gamma': 0.021286727920545825, 'epsilon': 0.0012611588687976062}. Best is trial 546 with value: -0.005522866675686452.\u001b[0m\n",
      "\u001b[32m[I 2022-08-05 12:54:58,852]\u001b[0m Trial 1007 finished with value: -0.005650154817695841 and parameters: {'kernel': 'rbf', 'C': 0.19708921671919433, 'gamma': 0.02312735802140832, 'epsilon': 0.0010088899388388138}. Best is trial 546 with value: -0.005522866675686452.\u001b[0m\n",
      "\u001b[32m[I 2022-08-05 12:55:00,060]\u001b[0m Trial 1010 finished with value: -0.019695057987548534 and parameters: {'kernel': 'rbf', 'C': 0.13002538102358085, 'gamma': 0.013545282507647945, 'epsilon': 0.027169931709422435}. Best is trial 546 with value: -0.005522866675686452.\u001b[0m\n",
      "\u001b[32m[I 2022-08-05 12:55:01,756]\u001b[0m Trial 1009 finished with value: -0.005562507546556375 and parameters: {'kernel': 'rbf', 'C': 0.12727514895558376, 'gamma': 0.022310348388274594, 'epsilon': 0.0013643192623124713}. Best is trial 546 with value: -0.005522866675686452.\u001b[0m\n",
      "\u001b[32m[I 2022-08-05 12:55:07,096]\u001b[0m Trial 1011 finished with value: -0.005538746961933566 and parameters: {'kernel': 'rbf', 'C': 0.12939904033524832, 'gamma': 0.013662994824720363, 'epsilon': 0.0013963155269696983}. Best is trial 546 with value: -0.005522866675686452.\u001b[0m\n",
      "\u001b[32m[I 2022-08-05 12:55:09,118]\u001b[0m Trial 1012 finished with value: -0.005529222396053542 and parameters: {'kernel': 'rbf', 'C': 0.16346426207484047, 'gamma': 0.014064020790742593, 'epsilon': 0.0013724375754161082}. Best is trial 546 with value: -0.005522866675686452.\u001b[0m\n",
      "\u001b[32m[I 2022-08-05 12:55:09,607]\u001b[0m Trial 1013 finished with value: -0.005568314709033809 and parameters: {'kernel': 'rbf', 'C': 0.1677398000188554, 'gamma': 0.018637210196357983, 'epsilon': 0.002170144614015783}. Best is trial 546 with value: -0.005522866675686452.\u001b[0m\n",
      "\u001b[32m[I 2022-08-05 12:55:13,550]\u001b[0m Trial 1014 finished with value: -0.00557436427197513 and parameters: {'kernel': 'rbf', 'C': 0.16150996196069767, 'gamma': 0.01958764350777785, 'epsilon': 0.0021170106659250507}. Best is trial 546 with value: -0.005522866675686452.\u001b[0m\n",
      "\u001b[32m[I 2022-08-05 12:55:16,797]\u001b[0m Trial 1016 finished with value: -0.0055810339213749 and parameters: {'kernel': 'rbf', 'C': 0.15122044616523803, 'gamma': 0.019066846602531363, 'epsilon': 0.0025216010268421228}. Best is trial 546 with value: -0.005522866675686452.\u001b[0m\n",
      "\u001b[32m[I 2022-08-05 12:55:16,821]\u001b[0m Trial 1015 finished with value: -0.005557506668355248 and parameters: {'kernel': 'rbf', 'C': 0.15496908799083992, 'gamma': 0.01866015019374672, 'epsilon': 0.002071053668994821}. Best is trial 546 with value: -0.005522866675686452.\u001b[0m\n",
      "\u001b[32m[I 2022-08-05 12:55:26,820]\u001b[0m Trial 1017 finished with value: -0.005554915175391574 and parameters: {'kernel': 'rbf', 'C': 0.23863081104944323, 'gamma': 0.012186109648891205, 'epsilon': 0.0011732097390386466}. Best is trial 546 with value: -0.005522866675686452.\u001b[0m\n",
      "\u001b[32m[I 2022-08-05 12:55:27,370]\u001b[0m Trial 1018 finished with value: -0.005578271859229055 and parameters: {'kernel': 'rbf', 'C': 0.12055373538611712, 'gamma': 0.011593471080450736, 'epsilon': 0.0011557434799968687}. Best is trial 546 with value: -0.005522866675686452.\u001b[0m\n",
      "\u001b[32m[I 2022-08-05 12:55:27,486]\u001b[0m Trial 1019 finished with value: -0.005567214606475301 and parameters: {'kernel': 'rbf', 'C': 0.1211679927062182, 'gamma': 0.011916079067823172, 'epsilon': 0.0012150951566588378}. Best is trial 546 with value: -0.005522866675686452.\u001b[0m\n",
      "\u001b[32m[I 2022-08-05 12:55:28,778]\u001b[0m Trial 1022 finished with value: -0.045584497709053845 and parameters: {'kernel': 'rbf', 'C': 0.14411287485869417, 'gamma': 0.015573874948404873, 'epsilon': 0.4700319785935255}. Best is trial 546 with value: -0.005522866675686452.\u001b[0m\n",
      "\u001b[32m[I 2022-08-05 12:55:32,672]\u001b[0m Trial 1020 finished with value: -0.005672294307242005 and parameters: {'kernel': 'rbf', 'C': 0.12721343150084874, 'gamma': 0.007648263901120081, 'epsilon': 0.0016026145148874274}. Best is trial 546 with value: -0.005522866675686452.\u001b[0m\n"
     ]
    },
    {
     "name": "stderr",
     "output_type": "stream",
     "text": [
      "\u001b[32m[I 2022-08-05 12:55:34,449]\u001b[0m Trial 1021 finished with value: -0.005523228426159621 and parameters: {'kernel': 'rbf', 'C': 0.14096525743309934, 'gamma': 0.01573920661342444, 'epsilon': 0.0016145311527623212}. Best is trial 546 with value: -0.005522866675686452.\u001b[0m\n",
      "\u001b[32m[I 2022-08-05 12:55:36,638]\u001b[0m Trial 1023 finished with value: -0.005521979072835362 and parameters: {'kernel': 'rbf', 'C': 0.13445210949681016, 'gamma': 0.016174245671934276, 'epsilon': 0.0016096035746047095}. Best is trial 1023 with value: -0.005521979072835362.\u001b[0m\n",
      "\u001b[32m[I 2022-08-05 12:55:40,346]\u001b[0m Trial 1024 finished with value: -0.005524028933324896 and parameters: {'kernel': 'rbf', 'C': 0.14036259253351605, 'gamma': 0.01610041948430418, 'epsilon': 0.0017659064534608533}. Best is trial 1023 with value: -0.005521979072835362.\u001b[0m\n",
      "\u001b[32m[I 2022-08-05 12:55:43,515]\u001b[0m Trial 1025 finished with value: -0.005535435257488643 and parameters: {'kernel': 'rbf', 'C': 0.18477550746221763, 'gamma': 0.015514909721439821, 'epsilon': 0.0014390238033843907}. Best is trial 1023 with value: -0.005521979072835362.\u001b[0m\n",
      "\u001b[32m[I 2022-08-05 12:55:44,725]\u001b[0m Trial 1026 finished with value: -0.005542187129450339 and parameters: {'kernel': 'rbf', 'C': 0.17733480010033284, 'gamma': 0.016583600572930533, 'epsilon': 0.0018953868266994938}. Best is trial 1023 with value: -0.005521979072835362.\u001b[0m\n",
      "\u001b[32m[I 2022-08-05 12:55:46,188]\u001b[0m Trial 1027 finished with value: -0.0055785698373204285 and parameters: {'kernel': 'rbf', 'C': 0.11459392375201662, 'gamma': 0.02151983756457384, 'epsilon': 0.002464987741582291}. Best is trial 1023 with value: -0.005521979072835362.\u001b[0m\n",
      "\u001b[32m[I 2022-08-05 12:55:48,644]\u001b[0m Trial 1028 finished with value: -0.005622040676399389 and parameters: {'kernel': 'rbf', 'C': 0.11461519732416743, 'gamma': 0.023320681100189155, 'epsilon': 0.002669812359938915}. Best is trial 1023 with value: -0.005521979072835362.\u001b[0m\n",
      "\u001b[32m[I 2022-08-05 12:55:50,097]\u001b[0m Trial 1029 finished with value: -0.005602127454233625 and parameters: {'kernel': 'rbf', 'C': 0.11421582836780013, 'gamma': 0.02299545851630792, 'epsilon': 0.002485937988452147}. Best is trial 1023 with value: -0.005521979072835362.\u001b[0m\n",
      "\u001b[32m[I 2022-08-05 12:55:52,673]\u001b[0m Trial 1030 finished with value: -0.005602677885128364 and parameters: {'kernel': 'rbf', 'C': 0.1132922686506079, 'gamma': 0.02583118560041089, 'epsilon': 0.0018766918887446928}. Best is trial 1023 with value: -0.005521979072835362.\u001b[0m\n",
      "\u001b[32m[I 2022-08-05 12:55:56,586]\u001b[0m Trial 1031 finished with value: -0.0056338490050035755 and parameters: {'kernel': 'rbf', 'C': 0.1361410309481845, 'gamma': 0.025908379590738204, 'epsilon': 0.0019036597439081608}. Best is trial 1023 with value: -0.005521979072835362.\u001b[0m\n",
      "\u001b[32m[I 2022-08-05 12:55:57,847]\u001b[0m Trial 1032 finished with value: -0.005547049440069667 and parameters: {'kernel': 'rbf', 'C': 0.1383506401263911, 'gamma': 0.019263035960753846, 'epsilon': 0.001895481398483498}. Best is trial 1023 with value: -0.005521979072835362.\u001b[0m\n",
      "\u001b[32m[I 2022-08-05 12:56:00,032]\u001b[0m Trial 1033 finished with value: -0.005553129882493126 and parameters: {'kernel': 'rbf', 'C': 0.14751190471889875, 'gamma': 0.019250893216476488, 'epsilon': 0.001955577435339346}. Best is trial 1023 with value: -0.005521979072835362.\u001b[0m\n",
      "\u001b[32m[I 2022-08-05 12:56:03,414]\u001b[0m Trial 1034 finished with value: -0.005542004728577749 and parameters: {'kernel': 'rbf', 'C': 0.13697365946731685, 'gamma': 0.01821985011549847, 'epsilon': 0.0021131453455124636}. Best is trial 1023 with value: -0.005521979072835362.\u001b[0m\n",
      "\u001b[32m[I 2022-08-05 12:56:03,815]\u001b[0m Trial 1035 finished with value: -0.0058075187585507945 and parameters: {'kernel': 'rbf', 'C': 0.03300106610812591, 'gamma': 0.017316025840029312, 'epsilon': 0.0022027368069042247}. Best is trial 1023 with value: -0.005521979072835362.\u001b[0m\n",
      "\u001b[32m[I 2022-08-05 12:56:08,876]\u001b[0m Trial 1036 finished with value: -0.005523863170689963 and parameters: {'kernel': 'rbf', 'C': 0.13048244458656424, 'gamma': 0.01758536957650856, 'epsilon': 0.0016474564646951717}. Best is trial 1023 with value: -0.005521979072835362.\u001b[0m\n",
      "\u001b[32m[I 2022-08-05 12:56:10,500]\u001b[0m Trial 1037 finished with value: -0.005762773568871991 and parameters: {'kernel': 'rbf', 'C': 0.12310582089257187, 'gamma': 0.005676056102666502, 'epsilon': 0.0017056908258234148}. Best is trial 1023 with value: -0.005521979072835362.\u001b[0m\n",
      "\u001b[32m[I 2022-08-05 12:56:11,094]\u001b[0m Trial 1038 finished with value: -0.006431633250181062 and parameters: {'kernel': 'poly', 'C': 0.1243772764142773, 'gamma': 0.013918453135414243, 'epsilon': 0.0017321719493776416}. Best is trial 1023 with value: -0.005521979072835362.\u001b[0m\n",
      "\u001b[32m[I 2022-08-05 12:56:11,359]\u001b[0m Trial 1039 finished with value: -0.045584497709053845 and parameters: {'kernel': 'poly', 'C': 0.14634711571005077, 'gamma': 0.02040585030999506, 'epsilon': 0.9780776326024161}. Best is trial 1023 with value: -0.005521979072835362.\u001b[0m\n",
      "\u001b[32m[I 2022-08-05 12:56:20,244]\u001b[0m Trial 1040 finished with value: -0.005726113675747196 and parameters: {'kernel': 'rbf', 'C': 0.14689112730442672, 'gamma': 0.03374151396277366, 'epsilon': 0.0016767301028967607}. Best is trial 1023 with value: -0.005521979072835362.\u001b[0m\n",
      "\u001b[32m[I 2022-08-05 12:56:20,600]\u001b[0m Trial 1041 finished with value: -0.005564888510558563 and parameters: {'kernel': 'rbf', 'C': 0.15302610036971545, 'gamma': 0.020861280792959194, 'epsilon': 0.0016333028340409026}. Best is trial 1023 with value: -0.005521979072835362.\u001b[0m\n",
      "\u001b[32m[I 2022-08-05 12:56:20,740]\u001b[0m Trial 1042 finished with value: -0.005526688545267158 and parameters: {'kernel': 'rbf', 'C': 0.1559178832152969, 'gamma': 0.016477501548687358, 'epsilon': 0.0016797850713819638}. Best is trial 1023 with value: -0.005521979072835362.\u001b[0m\n",
      "\u001b[32m[I 2022-08-05 12:56:29,790]\u001b[0m Trial 1043 finished with value: -0.0055286918716074595 and parameters: {'kernel': 'rbf', 'C': 0.1600234428066304, 'gamma': 0.016276684276046404, 'epsilon': 0.0016063478011955473}. Best is trial 1023 with value: -0.005521979072835362.\u001b[0m\n",
      "\u001b[32m[I 2022-08-05 12:56:30,368]\u001b[0m Trial 1045 finished with value: -0.005524254840439001 and parameters: {'kernel': 'rbf', 'C': 0.13081335592620633, 'gamma': 0.01724953516631258, 'epsilon': 0.0014604753232759964}. Best is trial 1023 with value: -0.005521979072835362.\u001b[0m\n",
      "\u001b[32m[I 2022-08-05 12:56:36,091]\u001b[0m Trial 1044 finished with value: -0.005714719864818931 and parameters: {'kernel': 'rbf', 'C': 0.6393056075379873, 'gamma': 0.014964956429986869, 'epsilon': 0.001523188040297912}. Best is trial 1023 with value: -0.005521979072835362.\u001b[0m\n",
      "\u001b[32m[I 2022-08-05 12:56:36,747]\u001b[0m Trial 1046 finished with value: -0.005553495228403051 and parameters: {'kernel': 'rbf', 'C': 0.1358452688921611, 'gamma': 0.013898984763520892, 'epsilon': 0.0022442830248504504}. Best is trial 1023 with value: -0.005521979072835362.\u001b[0m\n",
      "\u001b[32m[I 2022-08-05 12:56:38,419]\u001b[0m Trial 1047 finished with value: -0.005535072724963826 and parameters: {'kernel': 'rbf', 'C': 0.1321312230702194, 'gamma': 0.013792552599722424, 'epsilon': 0.0014311565765446298}. Best is trial 1023 with value: -0.005521979072835362.\u001b[0m\n",
      "\u001b[32m[I 2022-08-05 12:56:46,061]\u001b[0m Trial 1048 finished with value: -0.005539927355649723 and parameters: {'kernel': 'rbf', 'C': 0.13508888118027254, 'gamma': 0.013191821562628972, 'epsilon': 0.001394310091612589}. Best is trial 1023 with value: -0.005521979072835362.\u001b[0m\n",
      "\u001b[32m[I 2022-08-05 12:56:47,446]\u001b[0m Trial 1049 finished with value: -0.005546034199605634 and parameters: {'kernel': 'rbf', 'C': 0.17366593851398437, 'gamma': 0.017527660424255295, 'epsilon': 0.0013233919922886275}. Best is trial 1023 with value: -0.005521979072835362.\u001b[0m\n",
      "\u001b[32m[I 2022-08-05 12:56:50,396]\u001b[0m Trial 1050 finished with value: -0.005545983615821317 and parameters: {'kernel': 'rbf', 'C': 0.17563412228095893, 'gamma': 0.017677087415152826, 'epsilon': 0.0013255688228632704}. Best is trial 1023 with value: -0.005521979072835362.\u001b[0m\n",
      "\u001b[32m[I 2022-08-05 12:56:57,163]\u001b[0m Trial 1051 finished with value: -0.005542095924295913 and parameters: {'kernel': 'rbf', 'C': 0.1756356144406865, 'gamma': 0.016717474115632354, 'epsilon': 0.0012295838873021563}. Best is trial 1023 with value: -0.005521979072835362.\u001b[0m\n"
     ]
    },
    {
     "name": "stderr",
     "output_type": "stream",
     "text": [
      "\u001b[32m[I 2022-08-05 12:56:57,179]\u001b[0m Trial 1052 finished with value: -0.005532071837340472 and parameters: {'kernel': 'rbf', 'C': 0.11851506208813244, 'gamma': 0.016627788830418787, 'epsilon': 0.0012774906021958416}. Best is trial 1023 with value: -0.005521979072835362.\u001b[0m\n",
      "\u001b[32m[I 2022-08-05 12:56:58,016]\u001b[0m Trial 1053 finished with value: -0.00554152970313751 and parameters: {'kernel': 'rbf', 'C': 0.11409182579269558, 'gamma': 0.015382678097069603, 'epsilon': 0.001877215878787983}. Best is trial 1023 with value: -0.005521979072835362.\u001b[0m\n",
      "\u001b[32m[I 2022-08-05 12:57:07,701]\u001b[0m Trial 1056 finished with value: -0.00557676364355669 and parameters: {'kernel': 'rbf', 'C': 0.14874726456644785, 'gamma': 0.021955088732134895, 'epsilon': 0.0016005756683076396}. Best is trial 1023 with value: -0.005521979072835362.\u001b[0m\n",
      "\u001b[32m[I 2022-08-05 12:57:08,780]\u001b[0m Trial 1055 finished with value: -0.005563865826725434 and parameters: {'kernel': 'rbf', 'C': 0.14993390832020378, 'gamma': 0.019901463869581016, 'epsilon': 0.0010103873603948398}. Best is trial 1023 with value: -0.005521979072835362.\u001b[0m\n",
      "\u001b[32m[I 2022-08-05 12:57:08,797]\u001b[0m Trial 1054 finished with value: -0.005566277703356625 and parameters: {'kernel': 'rbf', 'C': 0.14799701005488813, 'gamma': 0.02033910984484376, 'epsilon': 0.0010002819682743713}. Best is trial 1023 with value: -0.005521979072835362.\u001b[0m\n",
      "\u001b[32m[I 2022-08-05 12:57:14,699]\u001b[0m Trial 1057 finished with value: -0.0055604990700360455 and parameters: {'kernel': 'rbf', 'C': 0.21552180444520166, 'gamma': 0.010823613550690135, 'epsilon': 0.0018603724083285005}. Best is trial 1023 with value: -0.005521979072835362.\u001b[0m\n",
      "\u001b[32m[I 2022-08-05 12:57:15,386]\u001b[0m Trial 1059 finished with value: -0.0055767046040503965 and parameters: {'kernel': 'rbf', 'C': 0.13069812173246617, 'gamma': 0.011450540794453444, 'epsilon': 0.0020154822024202406}. Best is trial 1023 with value: -0.005521979072835362.\u001b[0m\n",
      "\u001b[32m[I 2022-08-05 12:57:15,668]\u001b[0m Trial 1058 finished with value: -0.0055804985500109506 and parameters: {'kernel': 'rbf', 'C': 0.12727407173877409, 'gamma': 0.011302635242409783, 'epsilon': 0.001937617571888166}. Best is trial 1023 with value: -0.005521979072835362.\u001b[0m\n",
      "\u001b[32m[I 2022-08-05 12:57:22,725]\u001b[0m Trial 1060 finished with value: -0.005542327396473336 and parameters: {'kernel': 'rbf', 'C': 0.12753627517799573, 'gamma': 0.01344045908956271, 'epsilon': 0.0014733075718914317}. Best is trial 1023 with value: -0.005521979072835362.\u001b[0m\n",
      "\u001b[32m[I 2022-08-05 12:57:23,803]\u001b[0m Trial 1061 finished with value: -0.005534870828475635 and parameters: {'kernel': 'rbf', 'C': 0.12670262749837363, 'gamma': 0.014325705298315247, 'epsilon': 0.0014728567832583345}. Best is trial 1023 with value: -0.005521979072835362.\u001b[0m\n",
      "\u001b[32m[I 2022-08-05 12:57:23,944]\u001b[0m Trial 1062 finished with value: -0.005538469282461548 and parameters: {'kernel': 'rbf', 'C': 0.11485072363105107, 'gamma': 0.014589422480040175, 'epsilon': 0.001508622618159255}. Best is trial 1023 with value: -0.005521979072835362.\u001b[0m\n",
      "\u001b[32m[I 2022-08-05 12:57:29,989]\u001b[0m Trial 1063 finished with value: -0.005539749064424347 and parameters: {'kernel': 'rbf', 'C': 0.10569987933382786, 'gamma': 0.014963539909120489, 'epsilon': 0.0014972506249101266}. Best is trial 1023 with value: -0.005521979072835362.\u001b[0m\n",
      "\u001b[32m[I 2022-08-05 12:57:32,861]\u001b[0m Trial 1064 finished with value: -0.005534541027280816 and parameters: {'kernel': 'rbf', 'C': 0.10615659780847239, 'gamma': 0.01802902970473921, 'epsilon': 0.0011782033637568819}. Best is trial 1023 with value: -0.005521979072835362.\u001b[0m\n",
      "\u001b[32m[I 2022-08-05 12:57:33,298]\u001b[0m Trial 1065 finished with value: -0.005536165671702228 and parameters: {'kernel': 'rbf', 'C': 0.10418863524157518, 'gamma': 0.017861099217781787, 'epsilon': 0.0011985776467812266}. Best is trial 1023 with value: -0.005521979072835362.\u001b[0m\n",
      "\u001b[32m[I 2022-08-05 12:57:35,065]\u001b[0m Trial 1066 finished with value: -0.005638982846728522 and parameters: {'kernel': 'rbf', 'C': 0.19045862800114532, 'gamma': 0.01853321699171014, 'epsilon': 0.0028904841364823094}. Best is trial 1023 with value: -0.005521979072835362.\u001b[0m\n",
      "\u001b[32m[I 2022-08-05 12:57:38,512]\u001b[0m Trial 1067 finished with value: -0.005593109624312463 and parameters: {'kernel': 'rbf', 'C': 0.19365198385546914, 'gamma': 0.012566387732327091, 'epsilon': 0.0028793877541347383}. Best is trial 1023 with value: -0.005521979072835362.\u001b[0m\n",
      "\u001b[32m[I 2022-08-05 12:57:41,842]\u001b[0m Trial 1068 finished with value: -0.005609005790972611 and parameters: {'kernel': 'rbf', 'C': 0.16714806157959622, 'gamma': 0.022735537269777447, 'epsilon': 0.0017294121825221832}. Best is trial 1023 with value: -0.005521979072835362.\u001b[0m\n",
      "\u001b[32m[I 2022-08-05 12:57:43,748]\u001b[0m Trial 1069 finished with value: -0.0056193884121751225 and parameters: {'kernel': 'rbf', 'C': 0.16737535438199258, 'gamma': 0.02323621733762919, 'epsilon': 0.001738082314801215}. Best is trial 1023 with value: -0.005521979072835362.\u001b[0m\n",
      "\u001b[32m[I 2022-08-05 12:57:46,462]\u001b[0m Trial 1070 finished with value: -0.005633546977635978 and parameters: {'kernel': 'rbf', 'C': 0.1599216878959128, 'gamma': 0.024565986403792255, 'epsilon': 0.0016998253197458297}. Best is trial 1023 with value: -0.005521979072835362.\u001b[0m\n",
      "\u001b[32m[I 2022-08-05 12:57:48,642]\u001b[0m Trial 1071 finished with value: -0.005546370038003724 and parameters: {'kernel': 'rbf', 'C': 0.1541010398522287, 'gamma': 0.016046380324340172, 'epsilon': 0.0023311821169151783}. Best is trial 1023 with value: -0.005521979072835362.\u001b[0m\n",
      "\u001b[32m[I 2022-08-05 12:57:52,953]\u001b[0m Trial 1073 finished with value: -0.006079584535037706 and parameters: {'kernel': 'rbf', 'C': 0.1373430858653529, 'gamma': 0.08110416315164903, 'epsilon': 0.002323709828108539}. Best is trial 1023 with value: -0.005521979072835362.\u001b[0m\n",
      "\u001b[32m[I 2022-08-05 12:57:53,393]\u001b[0m Trial 1072 finished with value: -0.005602519206760816 and parameters: {'kernel': 'rbf', 'C': 0.14209050798413886, 'gamma': 0.009822997207791218, 'epsilon': 0.001001080394636939}. Best is trial 1023 with value: -0.005521979072835362.\u001b[0m\n",
      "\u001b[32m[I 2022-08-05 12:57:56,130]\u001b[0m Trial 1074 finished with value: -0.005601085191469461 and parameters: {'kernel': 'rbf', 'C': 0.13530103447189526, 'gamma': 0.00973137764435418, 'epsilon': 0.0013336164250668588}. Best is trial 1023 with value: -0.005521979072835362.\u001b[0m\n",
      "\u001b[32m[I 2022-08-05 12:58:02,800]\u001b[0m Trial 1076 finished with value: -0.00555361683835535 and parameters: {'kernel': 'rbf', 'C': 0.1209942067334498, 'gamma': 0.012827620141521034, 'epsilon': 0.001307276414239895}. Best is trial 1023 with value: -0.005521979072835362.\u001b[0m\n",
      "\u001b[32m[I 2022-08-05 12:58:02,941]\u001b[0m Trial 1075 finished with value: -0.005608742554934364 and parameters: {'kernel': 'rbf', 'C': 0.13596662879139307, 'gamma': 0.00986405434780634, 'epsilon': 0.0010036083171300369}. Best is trial 1023 with value: -0.005521979072835362.\u001b[0m\n",
      "\u001b[32m[I 2022-08-05 12:58:03,876]\u001b[0m Trial 1077 finished with value: -0.005564230508216011 and parameters: {'kernel': 'rbf', 'C': 0.11115587233583564, 'gamma': 0.012570042204981648, 'epsilon': 0.0014819761973371922}. Best is trial 1023 with value: -0.005521979072835362.\u001b[0m\n",
      "\u001b[32m[I 2022-08-05 12:58:08,734]\u001b[0m Trial 1078 finished with value: -0.00555109327106077 and parameters: {'kernel': 'rbf', 'C': 0.10202635589991495, 'gamma': 0.0157165671593107, 'epsilon': 0.0020423905416224824}. Best is trial 1023 with value: -0.005521979072835362.\u001b[0m\n",
      "\u001b[32m[I 2022-08-05 12:58:10,714]\u001b[0m Trial 1079 finished with value: -0.005533244554653564 and parameters: {'kernel': 'rbf', 'C': 0.11060529104727473, 'gamma': 0.015679804770329576, 'epsilon': 0.0015114511942608201}. Best is trial 1023 with value: -0.005521979072835362.\u001b[0m\n",
      "\u001b[32m[I 2022-08-05 12:58:11,620]\u001b[0m Trial 1080 finished with value: -0.005623729691031281 and parameters: {'kernel': 'rbf', 'C': 0.2153255324217991, 'gamma': 0.019940019862336615, 'epsilon': 0.002108796641961386}. Best is trial 1023 with value: -0.005521979072835362.\u001b[0m\n",
      "\u001b[32m[I 2022-08-05 12:58:17,036]\u001b[0m Trial 1081 finished with value: -0.005616339421300155 and parameters: {'kernel': 'rbf', 'C': 0.21092035234455117, 'gamma': 0.020722406794017205, 'epsilon': 0.001785547484347097}. Best is trial 1023 with value: -0.005521979072835362.\u001b[0m\n"
     ]
    },
    {
     "name": "stderr",
     "output_type": "stream",
     "text": [
      "\u001b[32m[I 2022-08-05 12:58:19,096]\u001b[0m Trial 1082 finished with value: -0.005583886437382933 and parameters: {'kernel': 'rbf', 'C': 0.16354713780136432, 'gamma': 0.020884750350749402, 'epsilon': 0.0018280225840949832}. Best is trial 1023 with value: -0.005521979072835362.\u001b[0m\n",
      "\u001b[32m[I 2022-08-05 12:58:20,441]\u001b[0m Trial 1083 finished with value: -0.005538613363813002 and parameters: {'kernel': 'rbf', 'C': 0.1621318129421032, 'gamma': 0.017452658894706537, 'epsilon': 0.001754315726095396}. Best is trial 1023 with value: -0.005521979072835362.\u001b[0m\n",
      "\u001b[32m[I 2022-08-05 12:58:26,711]\u001b[0m Trial 1084 finished with value: -0.005538543192041236 and parameters: {'kernel': 'rbf', 'C': 0.16130307878742653, 'gamma': 0.017441024902156828, 'epsilon': 0.001225816915444821}. Best is trial 1023 with value: -0.005521979072835362.\u001b[0m\n",
      "\u001b[32m[I 2022-08-05 12:58:28,103]\u001b[0m Trial 1085 finished with value: -0.005535455689076126 and parameters: {'kernel': 'rbf', 'C': 0.12190352989326994, 'gamma': 0.01757977833931841, 'epsilon': 0.001153282034241943}. Best is trial 1023 with value: -0.005521979072835362.\u001b[0m\n",
      "\u001b[32m[I 2022-08-05 12:58:30,299]\u001b[0m Trial 1086 finished with value: -0.0055419377769398296 and parameters: {'kernel': 'rbf', 'C': 0.12908554466398392, 'gamma': 0.014063621545297764, 'epsilon': 0.001152317531670129}. Best is trial 1023 with value: -0.005521979072835362.\u001b[0m\n",
      "\u001b[32m[I 2022-08-05 12:58:34,015]\u001b[0m Trial 1087 finished with value: -0.005532479376772346 and parameters: {'kernel': 'rbf', 'C': 0.12364183255217656, 'gamma': 0.01478235890731428, 'epsilon': 0.001529785695850673}. Best is trial 1023 with value: -0.005521979072835362.\u001b[0m\n",
      "\u001b[32m[I 2022-08-05 12:58:36,228]\u001b[0m Trial 1088 finished with value: -0.0055296317057310545 and parameters: {'kernel': 'rbf', 'C': 0.14065373961307126, 'gamma': 0.01454757183966019, 'epsilon': 0.0014888736717115}. Best is trial 1023 with value: -0.005521979072835362.\u001b[0m\n",
      "\u001b[32m[I 2022-08-05 12:58:39,220]\u001b[0m Trial 1089 finished with value: -0.0055235586715700865 and parameters: {'kernel': 'rbf', 'C': 0.1424763932640416, 'gamma': 0.015215710823507632, 'epsilon': 0.001511804056400132}. Best is trial 1023 with value: -0.005521979072835362.\u001b[0m\n",
      "\u001b[32m[I 2022-08-05 12:58:41,256]\u001b[0m Trial 1090 finished with value: -0.005806900517419489 and parameters: {'kernel': 'rbf', 'C': 0.13964077517804382, 'gamma': 0.004236655182148192, 'epsilon': 0.0013306500946720751}. Best is trial 1023 with value: -0.005521979072835362.\u001b[0m\n",
      "\u001b[32m[I 2022-08-05 12:58:46,429]\u001b[0m Trial 1091 finished with value: -0.005708823451863239 and parameters: {'kernel': 'rbf', 'C': 0.18458860427951648, 'gamma': 0.028595089157500975, 'epsilon': 0.00135941077794682}. Best is trial 1023 with value: -0.005521979072835362.\u001b[0m\n",
      "\u001b[32m[I 2022-08-05 12:58:47,851]\u001b[0m Trial 1092 finished with value: -0.005530811050732473 and parameters: {'kernel': 'rbf', 'C': 0.1111022030164211, 'gamma': 0.019394961777504553, 'epsilon': 0.0013707653593535215}. Best is trial 1023 with value: -0.005521979072835362.\u001b[0m\n",
      "\u001b[32m[I 2022-08-05 12:58:49,543]\u001b[0m Trial 1093 finished with value: -0.005598027942593406 and parameters: {'kernel': 'rbf', 'C': 0.10403800745436394, 'gamma': 0.02687443091763605, 'epsilon': 0.0013349689312099477}. Best is trial 1023 with value: -0.005521979072835362.\u001b[0m\n",
      "\u001b[32m[I 2022-08-05 12:58:55,913]\u001b[0m Trial 1094 finished with value: -0.005542623103939448 and parameters: {'kernel': 'rbf', 'C': 0.09497474508482845, 'gamma': 0.01913095260203153, 'epsilon': 0.0011669240474655354}. Best is trial 1023 with value: -0.005521979072835362.\u001b[0m\n",
      "\u001b[32m[I 2022-08-05 12:58:56,273]\u001b[0m Trial 1095 finished with value: -0.006544232909121108 and parameters: {'kernel': 'poly', 'C': 0.10201616521710684, 'gamma': 0.013188193531902434, 'epsilon': 0.0011097151132447147}. Best is trial 1023 with value: -0.005521979072835362.\u001b[0m\n",
      "\u001b[32m[I 2022-08-05 12:58:56,710]\u001b[0m Trial 1096 finished with value: -0.006513058374011233 and parameters: {'kernel': 'poly', 'C': 0.10028545074495253, 'gamma': 0.012619596270942158, 'epsilon': 0.001559750564360432}. Best is trial 1023 with value: -0.005521979072835362.\u001b[0m\n",
      "\u001b[32m[I 2022-08-05 12:59:04,561]\u001b[0m Trial 1098 finished with value: -0.005524095278614902 and parameters: {'kernel': 'rbf', 'C': 0.12468240148109713, 'gamma': 0.016348375457255995, 'epsilon': 0.0015534914180952647}. Best is trial 1023 with value: -0.005521979072835362.\u001b[0m\n",
      "\u001b[32m[I 2022-08-05 12:59:06,170]\u001b[0m Trial 1099 finished with value: -0.005526795100138217 and parameters: {'kernel': 'rbf', 'C': 0.1438546517150041, 'gamma': 0.016275301793407672, 'epsilon': 0.0016169859634452785}. Best is trial 1023 with value: -0.005521979072835362.\u001b[0m\n",
      "\u001b[32m[I 2022-08-05 12:59:07,185]\u001b[0m Trial 1097 finished with value: -0.00639337818436613 and parameters: {'kernel': 'poly', 'C': 0.5139049613771903, 'gamma': 0.013111900758149402, 'epsilon': 0.0016051862888829358}. Best is trial 1023 with value: -0.005521979072835362.\u001b[0m\n",
      "\u001b[32m[I 2022-08-05 12:59:11,981]\u001b[0m Trial 1100 finished with value: -0.005533808969647653 and parameters: {'kernel': 'rbf', 'C': 0.1164804038782116, 'gamma': 0.015189079630656065, 'epsilon': 0.0016424822435994314}. Best is trial 1023 with value: -0.005521979072835362.\u001b[0m\n",
      "\u001b[32m[I 2022-08-05 12:59:12,968]\u001b[0m Trial 1101 finished with value: -0.005578221184129129 and parameters: {'kernel': 'rbf', 'C': 0.11788670874832029, 'gamma': 0.011667465577975367, 'epsilon': 0.0018995671495683944}. Best is trial 1023 with value: -0.005521979072835362.\u001b[0m\n",
      "\u001b[32m[I 2022-08-05 12:59:13,814]\u001b[0m Trial 1102 finished with value: -0.005582694968103075 and parameters: {'kernel': 'rbf', 'C': 0.11934030138643498, 'gamma': 0.011536293411069928, 'epsilon': 0.001974791971898521}. Best is trial 1023 with value: -0.005521979072835362.\u001b[0m\n",
      "\u001b[32m[I 2022-08-05 12:59:17,436]\u001b[0m Trial 1103 finished with value: -0.0055826178456145755 and parameters: {'kernel': 'rbf', 'C': 0.11920872935466514, 'gamma': 0.011715148446645578, 'epsilon': 0.002045411415466591}. Best is trial 1023 with value: -0.005521979072835362.\u001b[0m\n",
      "\u001b[32m[I 2022-08-05 12:59:19,691]\u001b[0m Trial 1104 finished with value: -0.005532198957829728 and parameters: {'kernel': 'rbf', 'C': 0.12198635891614319, 'gamma': 0.01653731263974933, 'epsilon': 0.0020125911686231274}. Best is trial 1023 with value: -0.005521979072835362.\u001b[0m\n",
      "\u001b[32m[I 2022-08-05 12:59:20,937]\u001b[0m Trial 1105 finished with value: -0.005543374130349875 and parameters: {'kernel': 'rbf', 'C': 0.0966056659479103, 'gamma': 0.016580376221279204, 'epsilon': 0.0017627593300382875}. Best is trial 1023 with value: -0.005521979072835362.\u001b[0m\n",
      "\u001b[32m[I 2022-08-05 12:59:24,183]\u001b[0m Trial 1106 finished with value: -0.005538301470737065 and parameters: {'kernel': 'rbf', 'C': 0.09707463151802781, 'gamma': 0.017687282878189405, 'epsilon': 0.0017771003050256282}. Best is trial 1023 with value: -0.005521979072835362.\u001b[0m\n",
      "\u001b[32m[I 2022-08-05 12:59:26,292]\u001b[0m Trial 1107 finished with value: -0.005535336328792746 and parameters: {'kernel': 'rbf', 'C': 0.09681779032001989, 'gamma': 0.019450069227457012, 'epsilon': 0.0017021741439064712}. Best is trial 1023 with value: -0.005521979072835362.\u001b[0m\n",
      "\u001b[32m[I 2022-08-05 12:59:29,102]\u001b[0m Trial 1108 finished with value: -0.005554839727555493 and parameters: {'kernel': 'rbf', 'C': 0.13008308772999472, 'gamma': 0.02123332557162866, 'epsilon': 0.0014405864238903492}. Best is trial 1023 with value: -0.005521979072835362.\u001b[0m\n",
      "\u001b[32m[I 2022-08-05 12:59:33,393]\u001b[0m Trial 1109 finished with value: -0.0055621483702326885 and parameters: {'kernel': 'rbf', 'C': 0.13563767772405486, 'gamma': 0.02140851480056552, 'epsilon': 0.001437103273429609}. Best is trial 1023 with value: -0.005521979072835362.\u001b[0m\n",
      "\u001b[32m[I 2022-08-05 12:59:35,018]\u001b[0m Trial 1110 finished with value: -0.005527543829209474 and parameters: {'kernel': 'rbf', 'C': 0.1362350245855359, 'gamma': 0.01484520564289349, 'epsilon': 0.0014530693234975096}. Best is trial 1023 with value: -0.005521979072835362.\u001b[0m\n",
      "\u001b[32m[I 2022-08-05 12:59:37,781]\u001b[0m Trial 1111 finished with value: -0.005535975992429362 and parameters: {'kernel': 'rbf', 'C': 0.14455465051127034, 'gamma': 0.014255549689031798, 'epsilon': 0.001256248037171195}. Best is trial 1023 with value: -0.005521979072835362.\u001b[0m\n"
     ]
    },
    {
     "name": "stderr",
     "output_type": "stream",
     "text": [
      "\u001b[32m[I 2022-08-05 12:59:43,238]\u001b[0m Trial 1112 finished with value: -0.00553336079497072 and parameters: {'kernel': 'rbf', 'C': 0.14673571077063813, 'gamma': 0.014453908885704312, 'epsilon': 0.0012435819263754823}. Best is trial 1023 with value: -0.005521979072835362.\u001b[0m\n",
      "\u001b[32m[I 2022-08-05 12:59:44,097]\u001b[0m Trial 1113 finished with value: -0.005551926297991461 and parameters: {'kernel': 'rbf', 'C': 0.11233461572134433, 'gamma': 0.013757957677487893, 'epsilon': 0.0012435555095583694}. Best is trial 1023 with value: -0.005521979072835362.\u001b[0m\n",
      "\u001b[32m[I 2022-08-05 12:59:44,237]\u001b[0m Trial 1114 finished with value: -0.005545603912820326 and parameters: {'kernel': 'rbf', 'C': 0.1124393107010588, 'gamma': 0.018190799978377428, 'epsilon': 0.0022518808984231765}. Best is trial 1023 with value: -0.005521979072835362.\u001b[0m\n",
      "\u001b[32m[I 2022-08-05 12:59:50,210]\u001b[0m Trial 1115 finished with value: -0.005531216689182611 and parameters: {'kernel': 'rbf', 'C': 0.11184329804928844, 'gamma': 0.017818681494877794, 'epsilon': 0.0016265568840988604}. Best is trial 1023 with value: -0.005521979072835362.\u001b[0m\n",
      "\u001b[32m[I 2022-08-05 12:59:51,363]\u001b[0m Trial 1116 finished with value: -0.00556908529779444 and parameters: {'kernel': 'rbf', 'C': 0.17220020832927155, 'gamma': 0.018188726493419603, 'epsilon': 0.0022118427087822823}. Best is trial 1023 with value: -0.005521979072835362.\u001b[0m\n",
      "\u001b[32m[I 2022-08-05 12:59:53,143]\u001b[0m Trial 1117 finished with value: -0.0056426366308937334 and parameters: {'kernel': 'rbf', 'C': 0.17897577921836424, 'gamma': 0.023951243591347163, 'epsilon': 0.0015833553652531097}. Best is trial 1023 with value: -0.005521979072835362.\u001b[0m\n",
      "\u001b[32m[I 2022-08-05 12:59:57,875]\u001b[0m Trial 1120 finished with value: -0.006362042680210472 and parameters: {'kernel': 'rbf', 'C': 0.1280343427532241, 'gamma': 0.01597570792314682, 'epsilon': 0.006923657999124941}. Best is trial 1023 with value: -0.005521979072835362.\u001b[0m\n",
      "\u001b[32m[I 2022-08-05 13:00:00,050]\u001b[0m Trial 1119 finished with value: -0.005523752228290425 and parameters: {'kernel': 'rbf', 'C': 0.12996953633048364, 'gamma': 0.015791191130689795, 'epsilon': 0.001564854484177344}. Best is trial 1023 with value: -0.005521979072835362.\u001b[0m\n",
      "\u001b[32m[I 2022-08-05 13:00:00,551]\u001b[0m Trial 1118 finished with value: -0.0056210400593600185 and parameters: {'kernel': 'rbf', 'C': 0.16692054078713636, 'gamma': 0.023050860581594813, 'epsilon': 0.0010006113518477068}. Best is trial 1023 with value: -0.005521979072835362.\u001b[0m\n",
      "\u001b[32m[I 2022-08-05 13:00:04,997]\u001b[0m Trial 1121 finished with value: -0.005540129956661971 and parameters: {'kernel': 'rbf', 'C': 0.15541264317426068, 'gamma': 0.01307101622359265, 'epsilon': 0.0018469920509168532}. Best is trial 1023 with value: -0.005521979072835362.\u001b[0m\n",
      "\u001b[32m[I 2022-08-05 13:00:08,394]\u001b[0m Trial 1123 finished with value: -0.0055916333422366534 and parameters: {'kernel': 'rbf', 'C': 0.08825364230285115, 'gamma': 0.012899555229740716, 'epsilon': 0.0013748022506463228}. Best is trial 1023 with value: -0.005521979072835362.\u001b[0m\n",
      "\u001b[32m[I 2022-08-05 13:00:09,037]\u001b[0m Trial 1122 finished with value: -0.005597697829637112 and parameters: {'kernel': 'rbf', 'C': 0.08852573443204576, 'gamma': 0.013099600586167492, 'epsilon': 0.0010026904111395747}. Best is trial 1023 with value: -0.005521979072835362.\u001b[0m\n",
      "\u001b[32m[I 2022-08-05 13:00:13,375]\u001b[0m Trial 1124 finished with value: -0.005536099197664716 and parameters: {'kernel': 'rbf', 'C': 0.10275984691437151, 'gamma': 0.019769701643462416, 'epsilon': 0.001393655124249772}. Best is trial 1023 with value: -0.005521979072835362.\u001b[0m\n",
      "\u001b[32m[I 2022-08-05 13:00:17,157]\u001b[0m Trial 1126 finished with value: -0.0055353596055963215 and parameters: {'kernel': 'rbf', 'C': 0.1042978629141494, 'gamma': 0.020025773055738317, 'epsilon': 0.0014037613599575023}. Best is trial 1023 with value: -0.005521979072835362.\u001b[0m\n",
      "\u001b[32m[I 2022-08-05 13:00:17,158]\u001b[0m Trial 1125 finished with value: -0.0055396468022751505 and parameters: {'kernel': 'rbf', 'C': 0.10508171790659813, 'gamma': 0.019986840517929306, 'epsilon': 0.0011069987117332087}. Best is trial 1023 with value: -0.005521979072835362.\u001b[0m\n",
      "\u001b[32m[I 2022-08-05 13:00:23,189]\u001b[0m Trial 1127 finished with value: -0.005532222702178657 and parameters: {'kernel': 'rbf', 'C': 0.12385567079532704, 'gamma': 0.016174896526877647, 'epsilon': 0.0011253075194047305}. Best is trial 1023 with value: -0.005521979072835362.\u001b[0m\n",
      "\u001b[32m[I 2022-08-05 13:00:25,106]\u001b[0m Trial 1128 finished with value: -0.0055246604548718605 and parameters: {'kernel': 'rbf', 'C': 0.12672661074386501, 'gamma': 0.01638074063831704, 'epsilon': 0.0015749140788527966}. Best is trial 1023 with value: -0.005521979072835362.\u001b[0m\n",
      "\u001b[32m[I 2022-08-05 13:00:25,401]\u001b[0m Trial 1129 finished with value: -0.005523661310060181 and parameters: {'kernel': 'rbf', 'C': 0.12588696637163121, 'gamma': 0.01629991079721037, 'epsilon': 0.001557672965908712}. Best is trial 1023 with value: -0.005521979072835362.\u001b[0m\n",
      "\u001b[32m[I 2022-08-05 13:00:31,595]\u001b[0m Trial 1130 finished with value: -0.00552311973966742 and parameters: {'kernel': 'rbf', 'C': 0.14952312131809345, 'gamma': 0.01578609562270507, 'epsilon': 0.0015653277861689303}. Best is trial 1023 with value: -0.005521979072835362.\u001b[0m\n",
      "\u001b[32m[I 2022-08-05 13:00:32,501]\u001b[0m Trial 1131 finished with value: -0.005526958669425824 and parameters: {'kernel': 'rbf', 'C': 0.14854305218244132, 'gamma': 0.015565962715400138, 'epsilon': 0.0018826530780422209}. Best is trial 1023 with value: -0.005521979072835362.\u001b[0m\n",
      "\u001b[32m[I 2022-08-05 13:00:32,751]\u001b[0m Trial 1132 finished with value: -0.005528646452887357 and parameters: {'kernel': 'rbf', 'C': 0.14995862588821496, 'gamma': 0.015287053495559534, 'epsilon': 0.0019532614638830114}. Best is trial 1023 with value: -0.005521979072835362.\u001b[0m\n",
      "\u001b[32m[I 2022-08-05 13:00:37,500]\u001b[0m Trial 1133 finished with value: -0.005584497199308381 and parameters: {'kernel': 'rbf', 'C': 0.19334970227342954, 'gamma': 0.010473691993151523, 'epsilon': 0.0024434032429798028}. Best is trial 1023 with value: -0.005521979072835362.\u001b[0m\n",
      "\u001b[32m[I 2022-08-05 13:00:38,694]\u001b[0m Trial 1134 finished with value: -0.0055792695525440274 and parameters: {'kernel': 'rbf', 'C': 0.19729623768266158, 'gamma': 0.01076061432329972, 'epsilon': 0.0024185412435962835}. Best is trial 1023 with value: -0.005521979072835362.\u001b[0m\n",
      "\u001b[32m[I 2022-08-05 13:00:39,785]\u001b[0m Trial 1135 finished with value: -0.005566328442488064 and parameters: {'kernel': 'rbf', 'C': 0.19414128985691345, 'gamma': 0.01139778242331674, 'epsilon': 0.002242777238983919}. Best is trial 1023 with value: -0.005521979072835362.\u001b[0m\n",
      "\u001b[32m[I 2022-08-05 13:00:44,155]\u001b[0m Trial 1136 finished with value: -0.00556165172524454 and parameters: {'kernel': 'rbf', 'C': 0.17879883192225451, 'gamma': 0.011388355883092864, 'epsilon': 0.0021308262460190313}. Best is trial 1023 with value: -0.005521979072835362.\u001b[0m\n",
      "\u001b[32m[I 2022-08-05 13:00:46,592]\u001b[0m Trial 1137 finished with value: -0.005547925101285702 and parameters: {'kernel': 'rbf', 'C': 0.18282445836817904, 'gamma': 0.012067349462410504, 'epsilon': 0.0018303508046427434}. Best is trial 1023 with value: -0.005521979072835362.\u001b[0m\n",
      "\u001b[32m[I 2022-08-05 13:00:47,515]\u001b[0m Trial 1138 finished with value: -0.005543989816450797 and parameters: {'kernel': 'rbf', 'C': 0.16603642983314257, 'gamma': 0.01251954644255848, 'epsilon': 0.0018015760196255217}. Best is trial 1023 with value: -0.005521979072835362.\u001b[0m\n",
      "\u001b[32m[I 2022-08-05 13:00:51,389]\u001b[0m Trial 1139 finished with value: -0.00553803178557066 and parameters: {'kernel': 'rbf', 'C': 0.15921452641370937, 'gamma': 0.013454695345867842, 'epsilon': 0.001803702050806954}. Best is trial 1023 with value: -0.005521979072835362.\u001b[0m\n",
      "\u001b[32m[I 2022-08-05 13:00:53,843]\u001b[0m Trial 1140 finished with value: -0.005532988391454077 and parameters: {'kernel': 'rbf', 'C': 0.15469214644827256, 'gamma': 0.013756825226037958, 'epsilon': 0.0017645416732258732}. Best is trial 1023 with value: -0.005521979072835362.\u001b[0m\n",
      "\u001b[32m[I 2022-08-05 13:00:55,642]\u001b[0m Trial 1141 finished with value: -0.005526693852669634 and parameters: {'kernel': 'rbf', 'C': 0.15201220555020906, 'gamma': 0.015488975815936152, 'epsilon': 0.0016746172215537489}. Best is trial 1023 with value: -0.005521979072835362.\u001b[0m\n"
     ]
    },
    {
     "name": "stderr",
     "output_type": "stream",
     "text": [
      "\u001b[32m[I 2022-08-05 13:01:00,612]\u001b[0m Trial 1142 finished with value: -0.005579083410425327 and parameters: {'kernel': 'rbf', 'C': 0.2389330790141037, 'gamma': 0.008740633382994035, 'epsilon': 0.0016361148142993278}. Best is trial 1023 with value: -0.005521979072835362.\u001b[0m\n",
      "\u001b[32m[I 2022-08-05 13:01:03,012]\u001b[0m Trial 1143 finished with value: -0.005552520981367344 and parameters: {'kernel': 'rbf', 'C': 0.23509470848338365, 'gamma': 0.015175373390961802, 'epsilon': 0.0015955195002937423}. Best is trial 1023 with value: -0.005521979072835362.\u001b[0m\n",
      "\u001b[32m[I 2022-08-05 13:01:03,528]\u001b[0m Trial 1144 finished with value: -0.0055578867255293265 and parameters: {'kernel': 'rbf', 'C': 0.22639173354589934, 'gamma': 0.014675742655473667, 'epsilon': 0.0020764152151443714}. Best is trial 1023 with value: -0.005521979072835362.\u001b[0m\n",
      "\u001b[32m[I 2022-08-05 13:01:04,912]\u001b[0m Trial 1146 finished with value: -0.01206678145786237 and parameters: {'kernel': 'rbf', 'C': 0.14154265048972114, 'gamma': 0.01653209203502216, 'epsilon': 0.01887292168078736}. Best is trial 1023 with value: -0.005521979072835362.\u001b[0m\n",
      "\u001b[32m[I 2022-08-05 13:01:08,487]\u001b[0m Trial 1145 finished with value: -0.005531670639979027 and parameters: {'kernel': 'rbf', 'C': 0.13422086848982678, 'gamma': 0.014525193985166556, 'epsilon': 0.001619446608494349}. Best is trial 1023 with value: -0.005521979072835362.\u001b[0m\n",
      "\u001b[32m[I 2022-08-05 13:01:10,187]\u001b[0m Trial 1147 finished with value: -0.0055337205148831585 and parameters: {'kernel': 'rbf', 'C': 0.1397856703895771, 'gamma': 0.017191123878598533, 'epsilon': 0.0019979483679289094}. Best is trial 1023 with value: -0.005521979072835362.\u001b[0m\n",
      "\u001b[32m[I 2022-08-05 13:01:11,762]\u001b[0m Trial 1148 finished with value: -0.005534933565719499 and parameters: {'kernel': 'rbf', 'C': 0.1311606959209809, 'gamma': 0.01807013396580587, 'epsilon': 0.0019636591708605093}. Best is trial 1023 with value: -0.005521979072835362.\u001b[0m\n",
      "\u001b[32m[I 2022-08-05 13:01:17,936]\u001b[0m Trial 1149 finished with value: -0.0056373417872321125 and parameters: {'kernel': 'rbf', 'C': 0.29301492682518093, 'gamma': 0.018018971063247426, 'epsilon': 0.0020345635552087887}. Best is trial 1023 with value: -0.005521979072835362.\u001b[0m\n",
      "\u001b[32m[I 2022-08-05 13:01:18,480]\u001b[0m Trial 1150 finished with value: -0.005529824547665738 and parameters: {'kernel': 'rbf', 'C': 0.12803010329201928, 'gamma': 0.018752541559591895, 'epsilon': 0.0015248740240272297}. Best is trial 1023 with value: -0.005521979072835362.\u001b[0m\n",
      "\u001b[32m[I 2022-08-05 13:01:19,776]\u001b[0m Trial 1151 finished with value: -0.005531600265071142 and parameters: {'kernel': 'rbf', 'C': 0.16837070080076455, 'gamma': 0.013571908014927143, 'epsilon': 0.001600826842771502}. Best is trial 1023 with value: -0.005521979072835362.\u001b[0m\n",
      "\u001b[32m[I 2022-08-05 13:01:23,734]\u001b[0m Trial 1152 finished with value: -0.005572620096568369 and parameters: {'kernel': 'rbf', 'C': 0.1692664550896212, 'gamma': 0.01351332381250423, 'epsilon': 0.0026317385424248292}. Best is trial 1023 with value: -0.005521979072835362.\u001b[0m\n",
      "\u001b[32m[I 2022-08-05 13:01:26,658]\u001b[0m Trial 1153 finished with value: -0.005535635085271709 and parameters: {'kernel': 'rbf', 'C': 0.16373874489509666, 'gamma': 0.013256324960923908, 'epsilon': 0.0016310189844061305}. Best is trial 1023 with value: -0.005521979072835362.\u001b[0m\n",
      "\u001b[32m[I 2022-08-05 13:01:26,658]\u001b[0m Trial 1154 finished with value: -0.005613596452836981 and parameters: {'kernel': 'rbf', 'C': 0.15125623408982772, 'gamma': 0.02124266612212473, 'epsilon': 0.0024889634730544804}. Best is trial 1023 with value: -0.005521979072835362.\u001b[0m\n",
      "\u001b[32m[I 2022-08-05 13:01:31,538]\u001b[0m Trial 1155 finished with value: -0.005576152190009378 and parameters: {'kernel': 'rbf', 'C': 0.14572304047122406, 'gamma': 0.022146667126351063, 'epsilon': 0.0015256750298357693}. Best is trial 1023 with value: -0.005521979072835362.\u001b[0m\n",
      "\u001b[32m[I 2022-08-05 13:01:35,292]\u001b[0m Trial 1156 finished with value: -0.00552837489496404 and parameters: {'kernel': 'rbf', 'C': 0.11763214973298193, 'gamma': 0.016109493553665782, 'epsilon': 0.0015256534882919744}. Best is trial 1023 with value: -0.005521979072835362.\u001b[0m\n",
      "\u001b[32m[I 2022-08-05 13:01:35,453]\u001b[0m Trial 1157 finished with value: -0.005527175731824225 and parameters: {'kernel': 'rbf', 'C': 0.11636945584533649, 'gamma': 0.01609168749788589, 'epsilon': 0.0015023930115023688}. Best is trial 1023 with value: -0.005521979072835362.\u001b[0m\n",
      "\u001b[32m[I 2022-08-05 13:01:37,721]\u001b[0m Trial 1158 finished with value: -0.005532400565098952 and parameters: {'kernel': 'rbf', 'C': 0.11876512428850358, 'gamma': 0.01677226728472466, 'epsilon': 0.0018599327286701471}. Best is trial 1023 with value: -0.005521979072835362.\u001b[0m\n",
      "\u001b[32m[I 2022-08-05 13:01:42,810]\u001b[0m Trial 1160 finished with value: -0.005555098395704703 and parameters: {'kernel': 'rbf', 'C': 0.1307689962679509, 'gamma': 0.01253091670587732, 'epsilon': 0.0018161322994484585}. Best is trial 1023 with value: -0.005521979072835362.\u001b[0m\n",
      "\u001b[32m[I 2022-08-05 13:01:43,115]\u001b[0m Trial 1159 finished with value: -0.005530085135078708 and parameters: {'kernel': 'rbf', 'C': 0.12881253714808671, 'gamma': 0.01570932201371991, 'epsilon': 0.0018097118165929056}. Best is trial 1023 with value: -0.005521979072835362.\u001b[0m\n",
      "\u001b[32m[I 2022-08-05 13:01:45,254]\u001b[0m Trial 1161 finished with value: -0.00556260182273641 and parameters: {'kernel': 'rbf', 'C': 0.1360524032436962, 'gamma': 0.011740177322426017, 'epsilon': 0.0018206862032907095}. Best is trial 1023 with value: -0.005521979072835362.\u001b[0m\n",
      "\u001b[32m[I 2022-08-05 13:01:49,736]\u001b[0m Trial 1162 finished with value: -0.005588978602933711 and parameters: {'kernel': 'rbf', 'C': 0.18832670900545156, 'gamma': 0.009787333364937173, 'epsilon': 0.0021414053514760283}. Best is trial 1023 with value: -0.005521979072835362.\u001b[0m\n",
      "\u001b[32m[I 2022-08-05 13:01:50,298]\u001b[0m Trial 1163 finished with value: -0.0055974257032403805 and parameters: {'kernel': 'rbf', 'C': 0.18682263900421495, 'gamma': 0.01960036182666763, 'epsilon': 0.0021568489839780404}. Best is trial 1023 with value: -0.005521979072835362.\u001b[0m\n",
      "\u001b[32m[I 2022-08-05 13:01:52,091]\u001b[0m Trial 1164 finished with value: -0.005590716460996199 and parameters: {'kernel': 'rbf', 'C': 0.2025594287070408, 'gamma': 0.018437063960056753, 'epsilon': 0.0021254518890314864}. Best is trial 1023 with value: -0.005521979072835362.\u001b[0m\n",
      "\u001b[32m[I 2022-08-05 13:01:56,981]\u001b[0m Trial 1166 finished with value: -0.006020179643456707 and parameters: {'kernel': 'rbf', 'C': 0.02014100132372707, 'gamma': 0.014692369300177047, 'epsilon': 0.00129273172650408}. Best is trial 1023 with value: -0.005521979072835362.\u001b[0m\n",
      "\u001b[32m[I 2022-08-05 13:01:58,733]\u001b[0m Trial 1165 finished with value: -0.005546116642562316 and parameters: {'kernel': 'rbf', 'C': 0.15079226298569043, 'gamma': 0.01918933717802497, 'epsilon': 0.0013332701918250499}. Best is trial 1023 with value: -0.005521979072835362.\u001b[0m\n",
      "\u001b[32m[I 2022-08-05 13:02:07,608]\u001b[0m Trial 1168 finished with value: -0.00560139389447322 and parameters: {'kernel': 'rbf', 'C': 0.15047181885843627, 'gamma': 0.023438093750086732, 'epsilon': 0.001444631593423495}. Best is trial 1023 with value: -0.005521979072835362.\u001b[0m\n",
      "\u001b[32m[I 2022-08-05 13:02:08,157]\u001b[0m Trial 1169 finished with value: -0.005586007027650005 and parameters: {'kernel': 'rbf', 'C': 0.10722907956586795, 'gamma': 0.025571260871997434, 'epsilon': 0.0015010367786875301}. Best is trial 1023 with value: -0.005521979072835362.\u001b[0m\n",
      "\u001b[32m[I 2022-08-05 13:02:15,521]\u001b[0m Trial 1170 finished with value: -0.005754143826721596 and parameters: {'kernel': 'rbf', 'C': 0.10772173970995928, 'gamma': 0.006380148170836689, 'epsilon': 0.0016365599133670071}. Best is trial 1023 with value: -0.005521979072835362.\u001b[0m\n",
      "\u001b[32m[I 2022-08-05 13:02:17,018]\u001b[0m Trial 1171 finished with value: -0.005534458334694599 and parameters: {'kernel': 'rbf', 'C': 0.13514962531524435, 'gamma': 0.01442810237441306, 'epsilon': 0.0016695174841257496}. Best is trial 1023 with value: -0.005521979072835362.\u001b[0m\n",
      "\u001b[32m[I 2022-08-05 13:02:17,593]\u001b[0m Trial 1167 finished with value: -0.005842481982454185 and parameters: {'kernel': 'rbf', 'C': 2.648890530818416, 'gamma': 0.006375377713176195, 'epsilon': 0.0014541288736971971}. Best is trial 1023 with value: -0.005521979072835362.\u001b[0m\n"
     ]
    },
    {
     "name": "stderr",
     "output_type": "stream",
     "text": [
      "\u001b[32m[I 2022-08-05 13:02:23,515]\u001b[0m Trial 1172 finished with value: -0.00553730725570771 and parameters: {'kernel': 'rbf', 'C': 0.13548082724220312, 'gamma': 0.014328155215426438, 'epsilon': 0.0012490867009932283}. Best is trial 1023 with value: -0.005521979072835362.\u001b[0m\n",
      "\u001b[32m[I 2022-08-05 13:02:27,266]\u001b[0m Trial 1173 finished with value: -0.005537965856798064 and parameters: {'kernel': 'rbf', 'C': 0.16741000114153542, 'gamma': 0.016527219309380625, 'epsilon': 0.0013150825859198374}. Best is trial 1023 with value: -0.005521979072835362.\u001b[0m\n",
      "\u001b[32m[I 2022-08-05 13:02:28,075]\u001b[0m Trial 1174 finished with value: -0.005533285774142205 and parameters: {'kernel': 'rbf', 'C': 0.15657279540809785, 'gamma': 0.016488961268265174, 'epsilon': 0.0012282079819957482}. Best is trial 1023 with value: -0.005521979072835362.\u001b[0m\n",
      "\u001b[32m[I 2022-08-05 13:02:30,825]\u001b[0m Trial 1175 finished with value: -0.005538604741364967 and parameters: {'kernel': 'rbf', 'C': 0.16515375650424763, 'gamma': 0.01715728087818776, 'epsilon': 0.0018230843149482049}. Best is trial 1023 with value: -0.005521979072835362.\u001b[0m\n",
      "\u001b[32m[I 2022-08-05 13:02:34,788]\u001b[0m Trial 1176 finished with value: -0.005544487479076927 and parameters: {'kernel': 'rbf', 'C': 0.11710008510500011, 'gamma': 0.020794507625677437, 'epsilon': 0.0018128660583791691}. Best is trial 1023 with value: -0.005521979072835362.\u001b[0m\n",
      "\u001b[32m[I 2022-08-05 13:02:37,494]\u001b[0m Trial 1177 finished with value: -0.00637682117016338 and parameters: {'kernel': 'poly', 'C': 0.11528436320795793, 'gamma': 0.02042185710564927, 'epsilon': 0.0017542347712572394}. Best is trial 1023 with value: -0.005521979072835362.\u001b[0m\n",
      "\u001b[32m[I 2022-08-05 13:02:37,666]\u001b[0m Trial 1178 finished with value: -0.006504671025411943 and parameters: {'kernel': 'poly', 'C': 0.0373169669310973, 'gamma': 0.02047059264409165, 'epsilon': 0.0016323245741100628}. Best is trial 1023 with value: -0.005521979072835362.\u001b[0m\n",
      "\u001b[32m[I 2022-08-05 13:02:40,009]\u001b[0m Trial 1181 finished with value: -0.04558449770905385 and parameters: {'kernel': 'rbf', 'C': 0.13985416035904355, 'gamma': 0.010745058786461115, 'epsilon': 0.08182609168206632}. Best is trial 1023 with value: -0.005521979072835362.\u001b[0m\n",
      "\u001b[32m[I 2022-08-05 13:02:40,648]\u001b[0m Trial 1179 finished with value: -0.0065397184414224116 and parameters: {'kernel': 'poly', 'C': 0.09310619127144944, 'gamma': 0.012245660827645789, 'epsilon': 0.0015582897210561625}. Best is trial 1023 with value: -0.005521979072835362.\u001b[0m\n",
      "\u001b[32m[I 2022-08-05 13:02:44,640]\u001b[0m Trial 1180 finished with value: -0.005589227015922844 and parameters: {'kernel': 'rbf', 'C': 0.0967571571414505, 'gamma': 0.012097265522447335, 'epsilon': 0.001519900333946188}. Best is trial 1023 with value: -0.005521979072835362.\u001b[0m\n",
      "\u001b[32m[I 2022-08-05 13:02:47,536]\u001b[0m Trial 1183 finished with value: -0.005558784320203711 and parameters: {'kernel': 'rbf', 'C': 0.1260033606433412, 'gamma': 0.013859410557116593, 'epsilon': 0.0022840301455457697}. Best is trial 1023 with value: -0.005521979072835362.\u001b[0m\n",
      "\u001b[32m[I 2022-08-05 13:02:48,552]\u001b[0m Trial 1182 finished with value: -0.005645870313111477 and parameters: {'kernel': 'rbf', 'C': 0.09239895657217893, 'gamma': 0.031740104548370805, 'epsilon': 0.001481654596871738}. Best is trial 1023 with value: -0.005521979072835362.\u001b[0m\n",
      "\u001b[32m[I 2022-08-05 13:02:50,828]\u001b[0m Trial 1184 finished with value: -0.005546510438290301 and parameters: {'kernel': 'rbf', 'C': 0.1260292281045461, 'gamma': 0.0142744603377927, 'epsilon': 0.002029920966726419}. Best is trial 1023 with value: -0.005521979072835362.\u001b[0m\n",
      "\u001b[32m[I 2022-08-05 13:02:54,719]\u001b[0m Trial 1185 finished with value: -0.005709692937349858 and parameters: {'kernel': 'rbf', 'C': 0.14382039279043057, 'gamma': 0.03083316386257642, 'epsilon': 0.002013583979049622}. Best is trial 1023 with value: -0.005521979072835362.\u001b[0m\n",
      "\u001b[32m[I 2022-08-05 13:02:58,216]\u001b[0m Trial 1186 finished with value: -0.00553408943197908 and parameters: {'kernel': 'rbf', 'C': 0.14448065271648708, 'gamma': 0.018015437779599266, 'epsilon': 0.001293759558239308}. Best is trial 1023 with value: -0.005521979072835362.\u001b[0m\n",
      "\u001b[32m[I 2022-08-05 13:03:00,201]\u001b[0m Trial 1187 finished with value: -0.005531032103500833 and parameters: {'kernel': 'rbf', 'C': 0.14532887864313762, 'gamma': 0.01773080515865234, 'epsilon': 0.001333676334016358}. Best is trial 1023 with value: -0.005521979072835362.\u001b[0m\n",
      "\u001b[32m[I 2022-08-05 13:03:04,923]\u001b[0m Trial 1188 finished with value: -0.005554920780928192 and parameters: {'kernel': 'rbf', 'C': 0.17782232865250017, 'gamma': 0.017850985725639458, 'epsilon': 0.0012693400822856404}. Best is trial 1023 with value: -0.005521979072835362.\u001b[0m\n",
      "\u001b[32m[I 2022-08-05 13:03:07,330]\u001b[0m Trial 1189 finished with value: -0.005537664400940988 and parameters: {'kernel': 'rbf', 'C': 0.10964079751347129, 'gamma': 0.015649414916619184, 'epsilon': 0.0012326239639574596}. Best is trial 1023 with value: -0.005521979072835362.\u001b[0m\n",
      "\u001b[32m[I 2022-08-05 13:03:10,825]\u001b[0m Trial 1190 finished with value: -0.005541724142109846 and parameters: {'kernel': 'rbf', 'C': 0.18391604434814152, 'gamma': 0.015696964259922327, 'epsilon': 0.0012033560724150057}. Best is trial 1023 with value: -0.005521979072835362.\u001b[0m\n",
      "\u001b[32m[I 2022-08-05 13:03:11,902]\u001b[0m Trial 1191 finished with value: -0.0055702418528145595 and parameters: {'kernel': 'rbf', 'C': 0.10896409306793053, 'gamma': 0.023820428114126484, 'epsilon': 0.001734698373683352}. Best is trial 1023 with value: -0.005521979072835362.\u001b[0m\n",
      "\u001b[32m[I 2022-08-05 13:03:15,325]\u001b[0m Trial 1192 finished with value: -0.005571943962543258 and parameters: {'kernel': 'rbf', 'C': 0.11044026578436816, 'gamma': 0.023991333070540893, 'epsilon': 0.0017491362899939925}. Best is trial 1023 with value: -0.005521979072835362.\u001b[0m\n",
      "\u001b[32m[I 2022-08-05 13:03:16,739]\u001b[0m Trial 1194 finished with value: -0.006588503262640819 and parameters: {'kernel': 'rbf', 'C': 0.1272812957633303, 'gamma': 0.0010443182766948342, 'epsilon': 0.0027894163366031163}. Best is trial 1023 with value: -0.005521979072835362.\u001b[0m\n",
      "\u001b[32m[I 2022-08-05 13:03:17,485]\u001b[0m Trial 1193 finished with value: -0.005580038867977729 and parameters: {'kernel': 'rbf', 'C': 0.10764661484478054, 'gamma': 0.024942591722291043, 'epsilon': 0.0017229318500369105}. Best is trial 1023 with value: -0.005521979072835362.\u001b[0m\n",
      "\u001b[32m[I 2022-08-05 13:03:23,736]\u001b[0m Trial 1195 finished with value: -0.005541702700638386 and parameters: {'kernel': 'rbf', 'C': 0.12971071365706233, 'gamma': 0.013139474183757823, 'epsilon': 0.00146865616319355}. Best is trial 1023 with value: -0.005521979072835362.\u001b[0m\n",
      "\u001b[32m[I 2022-08-05 13:03:25,584]\u001b[0m Trial 1196 finished with value: -0.005535037261061621 and parameters: {'kernel': 'rbf', 'C': 0.1618196917040407, 'gamma': 0.0130520463752654, 'epsilon': 0.0014631553168339031}. Best is trial 1023 with value: -0.005521979072835362.\u001b[0m\n",
      "\u001b[32m[I 2022-08-05 13:03:27,331]\u001b[0m Trial 1197 finished with value: -0.005538881465938835 and parameters: {'kernel': 'rbf', 'C': 0.207547842298454, 'gamma': 0.013513000874079605, 'epsilon': 0.0014684213187038803}. Best is trial 1023 with value: -0.005521979072835362.\u001b[0m\n",
      "\u001b[32m[I 2022-08-05 13:03:28,566]\u001b[0m Trial 1198 finished with value: -0.005626168505772752 and parameters: {'kernel': 'rbf', 'C': 0.1593613611521543, 'gamma': 0.014770435786570786, 'epsilon': 0.0032896058537185014}. Best is trial 1023 with value: -0.005521979072835362.\u001b[0m\n",
      "\u001b[32m[I 2022-08-05 13:03:30,907]\u001b[0m Trial 1201 finished with value: -0.045584497709053845 and parameters: {'kernel': 'rbf', 'C': 0.12789400458160274, 'gamma': 0.019405551922096982, 'epsilon': 0.25369690524488114}. Best is trial 1023 with value: -0.005521979072835362.\u001b[0m\n",
      "\u001b[32m[I 2022-08-05 13:03:31,470]\u001b[0m Trial 1200 finished with value: -0.005851207852394542 and parameters: {'kernel': 'rbf', 'C': 0.15575851662472393, 'gamma': 0.010438809178761915, 'epsilon': 0.004654075071441697}. Best is trial 1023 with value: -0.005521979072835362.\u001b[0m\n",
      "\u001b[32m[I 2022-08-05 13:03:32,360]\u001b[0m Trial 1199 finished with value: -0.005547057655128182 and parameters: {'kernel': 'rbf', 'C': 0.2090452128216716, 'gamma': 0.014819038849896438, 'epsilon': 0.0018947831103677374}. Best is trial 1023 with value: -0.005521979072835362.\u001b[0m\n"
     ]
    },
    {
     "name": "stderr",
     "output_type": "stream",
     "text": [
      "\u001b[32m[I 2022-08-05 13:03:37,586]\u001b[0m Trial 1202 finished with value: -0.005578792898118616 and parameters: {'kernel': 'rbf', 'C': 0.14694300456613033, 'gamma': 0.010755448899615279, 'epsilon': 0.0019595793873628097}. Best is trial 1023 with value: -0.005521979072835362.\u001b[0m\n",
      "\u001b[32m[I 2022-08-05 13:03:37,758]\u001b[0m Trial 1203 finished with value: -0.005548805607951671 and parameters: {'kernel': 'rbf', 'C': 0.11861547117613941, 'gamma': 0.016502051495746593, 'epsilon': 0.0023371923985557055}. Best is trial 1023 with value: -0.005521979072835362.\u001b[0m\n",
      "\u001b[32m[I 2022-08-05 13:03:45,032]\u001b[0m Trial 1205 finished with value: -0.005577799340461999 and parameters: {'kernel': 'rbf', 'C': 0.12023540022834511, 'gamma': 0.021153329629222867, 'epsilon': 0.002390691449342534}. Best is trial 1023 with value: -0.005521979072835362.\u001b[0m\n",
      "\u001b[32m[I 2022-08-05 13:03:46,230]\u001b[0m Trial 1206 finished with value: -0.005536671277939051 and parameters: {'kernel': 'rbf', 'C': 0.09762047111910672, 'gamma': 0.02016194446142944, 'epsilon': 0.0015894594729302402}. Best is trial 1023 with value: -0.005521979072835362.\u001b[0m\n",
      "\u001b[32m[I 2022-08-05 13:03:52,326]\u001b[0m Trial 1207 finished with value: -0.005682989159866562 and parameters: {'kernel': 'rbf', 'C': 0.09763838029488073, 'gamma': 0.008602792625495443, 'epsilon': 0.0015979925861276023}. Best is trial 1023 with value: -0.005521979072835362.\u001b[0m\n",
      "\u001b[32m[I 2022-08-05 13:03:56,068]\u001b[0m Trial 1204 finished with value: -0.005767597465648517 and parameters: {'kernel': 'rbf', 'C': 1.4714956748648451, 'gamma': 0.00859586552404821, 'epsilon': 0.001125809319844535}. Best is trial 1023 with value: -0.005521979072835362.\u001b[0m\n",
      "\u001b[32m[I 2022-08-05 13:03:56,865]\u001b[0m Trial 1208 finished with value: -0.0055521349220609695 and parameters: {'kernel': 'rbf', 'C': 0.1769376449881152, 'gamma': 0.0175732236527409, 'epsilon': 0.001117961807605002}. Best is trial 1023 with value: -0.005521979072835362.\u001b[0m\n",
      "\u001b[32m[I 2022-08-05 13:04:03,672]\u001b[0m Trial 1209 finished with value: -0.005553507013353192 and parameters: {'kernel': 'rbf', 'C': 0.17699499513226108, 'gamma': 0.017318454845012834, 'epsilon': 0.001089697894198838}. Best is trial 1023 with value: -0.005521979072835362.\u001b[0m\n",
      "\u001b[32m[I 2022-08-05 13:04:06,186]\u001b[0m Trial 1210 finished with value: -0.005822873191566119 and parameters: {'kernel': 'rbf', 'C': 0.16817395364398566, 'gamma': 0.04360334051190474, 'epsilon': 0.0013758296391902557}. Best is trial 1023 with value: -0.005521979072835362.\u001b[0m\n",
      "\u001b[32m[I 2022-08-05 13:04:06,500]\u001b[0m Trial 1211 finished with value: -0.005789932974091912 and parameters: {'kernel': 'rbf', 'C': 0.13611514294255897, 'gamma': 0.04371894338900882, 'epsilon': 0.001374264746239564}. Best is trial 1023 with value: -0.005521979072835362.\u001b[0m\n",
      "\u001b[32m[I 2022-08-05 13:04:12,231]\u001b[0m Trial 1212 finished with value: -0.005528414145580294 and parameters: {'kernel': 'rbf', 'C': 0.14164937295186902, 'gamma': 0.014921327987923757, 'epsilon': 0.001416144951815021}. Best is trial 1023 with value: -0.005521979072835362.\u001b[0m\n",
      "\u001b[32m[I 2022-08-05 13:04:12,918]\u001b[0m Trial 1214 finished with value: -0.005614851064806423 and parameters: {'kernel': 'rbf', 'C': 0.08489550250581163, 'gamma': 0.012278877027306389, 'epsilon': 0.0020397254832773704}. Best is trial 1023 with value: -0.005521979072835362.\u001b[0m\n",
      "\u001b[32m[I 2022-08-05 13:04:13,043]\u001b[0m Trial 1213 finished with value: -0.005558054303860695 and parameters: {'kernel': 'rbf', 'C': 0.14407646998330942, 'gamma': 0.01206085763668855, 'epsilon': 0.0019671879263218604}. Best is trial 1023 with value: -0.005521979072835362.\u001b[0m\n",
      "\u001b[32m[I 2022-08-05 13:04:17,829]\u001b[0m Trial 1215 finished with value: -0.005621532844865112 and parameters: {'kernel': 'rbf', 'C': 0.08115398898659514, 'gamma': 0.012394428481160773, 'epsilon': 0.002011036963724867}. Best is trial 1023 with value: -0.005521979072835362.\u001b[0m\n",
      "\u001b[32m[I 2022-08-05 13:04:19,876]\u001b[0m Trial 1216 finished with value: -0.00642184411996996 and parameters: {'kernel': 'rbf', 'C': 0.12178114542799476, 'gamma': 0.15647376182162187, 'epsilon': 0.0016584072901794672}. Best is trial 1023 with value: -0.005521979072835362.\u001b[0m\n",
      "\u001b[32m[I 2022-08-05 13:04:20,079]\u001b[0m Trial 1218 finished with value: -0.045584497709053845 and parameters: {'kernel': 'rbf', 'C': 0.12232305521638268, 'gamma': 0.018994709514598626, 'epsilon': 0.6773388689170635}. Best is trial 1023 with value: -0.005521979072835362.\u001b[0m\n",
      "\u001b[32m[I 2022-08-05 13:04:20,454]\u001b[0m Trial 1217 finished with value: -0.005525840757054766 and parameters: {'kernel': 'rbf', 'C': 0.12287258178063643, 'gamma': 0.01850862325742531, 'epsilon': 0.0016588703855728545}. Best is trial 1023 with value: -0.005521979072835362.\u001b[0m\n",
      "\u001b[32m[I 2022-08-05 13:04:27,453]\u001b[0m Trial 1219 finished with value: -0.005528215138393408 and parameters: {'kernel': 'rbf', 'C': 0.10931196770133095, 'gamma': 0.01844226396099017, 'epsilon': 0.0016605061328312017}. Best is trial 1023 with value: -0.005521979072835362.\u001b[0m\n",
      "\u001b[32m[I 2022-08-05 13:04:27,605]\u001b[0m Trial 1220 finished with value: -0.005537082677209252 and parameters: {'kernel': 'rbf', 'C': 0.1048194155185958, 'gamma': 0.015730034225025873, 'epsilon': 0.0016515864918882307}. Best is trial 1023 with value: -0.005521979072835362.\u001b[0m\n",
      "\u001b[32m[I 2022-08-05 13:04:28,740]\u001b[0m Trial 1221 finished with value: -0.005541589399733624 and parameters: {'kernel': 'rbf', 'C': 0.10520107228235913, 'gamma': 0.015468465812844981, 'epsilon': 0.0012579151327913442}. Best is trial 1023 with value: -0.005521979072835362.\u001b[0m\n",
      "\u001b[32m[I 2022-08-05 13:04:36,796]\u001b[0m Trial 1222 finished with value: -0.00553077340796762 and parameters: {'kernel': 'rbf', 'C': 0.15152872960780175, 'gamma': 0.015083762596664732, 'epsilon': 0.0012410312513922899}. Best is trial 1023 with value: -0.005521979072835362.\u001b[0m\n",
      "\u001b[32m[I 2022-08-05 13:04:36,963]\u001b[0m Trial 1223 finished with value: -0.005571661105944912 and parameters: {'kernel': 'rbf', 'C': 0.14833166441871418, 'gamma': 0.021380686305506276, 'epsilon': 0.0013365438422881402}. Best is trial 1023 with value: -0.005521979072835362.\u001b[0m\n",
      "\u001b[32m[I 2022-08-05 13:04:38,513]\u001b[0m Trial 1224 finished with value: -0.005585886946526237 and parameters: {'kernel': 'rbf', 'C': 0.1517147641674533, 'gamma': 0.022289024341375318, 'epsilon': 0.0014413671437393076}. Best is trial 1023 with value: -0.005521979072835362.\u001b[0m\n",
      "\u001b[32m[I 2022-08-05 13:04:45,839]\u001b[0m Trial 1225 finished with value: -0.005566936220516527 and parameters: {'kernel': 'rbf', 'C': 0.13540288652409066, 'gamma': 0.02196798412817665, 'epsilon': 0.0014204673168172277}. Best is trial 1023 with value: -0.005521979072835362.\u001b[0m\n",
      "\u001b[32m[I 2022-08-05 13:04:46,235]\u001b[0m Trial 1227 finished with value: -0.005556551075427945 and parameters: {'kernel': 'rbf', 'C': 0.1341161541060368, 'gamma': 0.013934256634864034, 'epsilon': 0.002285656089324425}. Best is trial 1023 with value: -0.005521979072835362.\u001b[0m\n",
      "\u001b[32m[I 2022-08-05 13:04:46,247]\u001b[0m Trial 1226 finished with value: -0.0055323881641014695 and parameters: {'kernel': 'rbf', 'C': 0.19081842532077323, 'gamma': 0.014016118051273372, 'epsilon': 0.0014599759826928068}. Best is trial 1023 with value: -0.005521979072835362.\u001b[0m\n",
      "\u001b[32m[I 2022-08-05 13:04:52,862]\u001b[0m Trial 1228 finished with value: -0.00553376205583481 and parameters: {'kernel': 'rbf', 'C': 0.19174803597903886, 'gamma': 0.013559543028962756, 'epsilon': 0.0018273244490430599}. Best is trial 1023 with value: -0.005521979072835362.\u001b[0m\n",
      "\u001b[32m[I 2022-08-05 13:04:54,157]\u001b[0m Trial 1230 finished with value: -0.0055419265923805795 and parameters: {'kernel': 'rbf', 'C': 0.1702910460351409, 'gamma': 0.01682123687445698, 'epsilon': 0.0019093570949267587}. Best is trial 1023 with value: -0.005521979072835362.\u001b[0m\n",
      "\u001b[32m[I 2022-08-05 13:04:54,367]\u001b[0m Trial 1229 finished with value: -0.00569801007746254 and parameters: {'kernel': 'rbf', 'C': 0.1777548941540885, 'gamma': 0.027376004564458545, 'epsilon': 0.0018882704311314203}. Best is trial 1023 with value: -0.005521979072835362.\u001b[0m\n",
      "\u001b[32m[I 2022-08-05 13:05:00,277]\u001b[0m Trial 1231 finished with value: -0.005689049565753202 and parameters: {'kernel': 'rbf', 'C': 0.16719535611725103, 'gamma': 0.02754079576825044, 'epsilon': 0.0018373252395908644}. Best is trial 1023 with value: -0.005521979072835362.\u001b[0m\n"
     ]
    },
    {
     "name": "stderr",
     "output_type": "stream",
     "text": [
      "\u001b[32m[I 2022-08-05 13:05:03,936]\u001b[0m Trial 1232 finished with value: -0.005533110795410688 and parameters: {'kernel': 'rbf', 'C': 0.11531643289591105, 'gamma': 0.017022384957697364, 'epsilon': 0.0011070570494747243}. Best is trial 1023 with value: -0.005521979072835362.\u001b[0m\n",
      "\u001b[32m[I 2022-08-05 13:05:04,498]\u001b[0m Trial 1233 finished with value: -0.005533649722199452 and parameters: {'kernel': 'rbf', 'C': 0.12260810869441001, 'gamma': 0.016794673151109392, 'epsilon': 0.001109235374974939}. Best is trial 1023 with value: -0.005521979072835362.\u001b[0m\n",
      "\u001b[32m[I 2022-08-05 13:05:09,487]\u001b[0m Trial 1234 finished with value: -0.005535573484855093 and parameters: {'kernel': 'rbf', 'C': 0.11547488494360748, 'gamma': 0.016989139111865514, 'epsilon': 0.0010052402940114143}. Best is trial 1023 with value: -0.005521979072835362.\u001b[0m\n",
      "\u001b[32m[I 2022-08-05 13:05:11,843]\u001b[0m Trial 1235 finished with value: -0.005536865648355368 and parameters: {'kernel': 'rbf', 'C': 0.0918527385818638, 'gamma': 0.0195891359909174, 'epsilon': 0.001606475562483368}. Best is trial 1023 with value: -0.005521979072835362.\u001b[0m\n",
      "\u001b[32m[I 2022-08-05 13:05:12,202]\u001b[0m Trial 1236 finished with value: -0.005601043524134182 and parameters: {'kernel': 'rbf', 'C': 0.09977063057829924, 'gamma': 0.01124266427805059, 'epsilon': 0.0015775868719893177}. Best is trial 1023 with value: -0.005521979072835362.\u001b[0m\n",
      "\u001b[32m[I 2022-08-05 13:05:16,213]\u001b[0m Trial 1237 finished with value: -0.005573524577193688 and parameters: {'kernel': 'rbf', 'C': 0.1348022690437377, 'gamma': 0.010903171869607839, 'epsilon': 0.0016013554402517004}. Best is trial 1023 with value: -0.005521979072835362.\u001b[0m\n",
      "\u001b[32m[I 2022-08-05 13:05:18,477]\u001b[0m Trial 1238 finished with value: -0.005581083224796049 and parameters: {'kernel': 'rbf', 'C': 0.21957222136921256, 'gamma': 0.01146034508344196, 'epsilon': 0.0025714659351936935}. Best is trial 1023 with value: -0.005521979072835362.\u001b[0m\n",
      "\u001b[32m[I 2022-08-05 13:05:18,791]\u001b[0m Trial 1239 finished with value: -0.005549720014386502 and parameters: {'kernel': 'rbf', 'C': 0.13655665877592452, 'gamma': 0.0147484901211092, 'epsilon': 0.0022717758511016923}. Best is trial 1023 with value: -0.005521979072835362.\u001b[0m\n",
      "\u001b[32m[I 2022-08-05 13:05:21,676]\u001b[0m Trial 1240 finished with value: -0.005558358953063114 and parameters: {'kernel': 'rbf', 'C': 0.15205291054937656, 'gamma': 0.015254502355718525, 'epsilon': 0.0025637675147756485}. Best is trial 1023 with value: -0.005521979072835362.\u001b[0m\n",
      "\u001b[32m[I 2022-08-05 13:05:25,075]\u001b[0m Trial 1241 finished with value: -0.005545345222300971 and parameters: {'kernel': 'rbf', 'C': 0.14199484189054484, 'gamma': 0.014222958928819562, 'epsilon': 0.00222447015880382}. Best is trial 1023 with value: -0.005521979072835362.\u001b[0m\n",
      "\u001b[32m[I 2022-08-05 13:05:28,241]\u001b[0m Trial 1242 finished with value: -0.005546736289991342 and parameters: {'kernel': 'rbf', 'C': 0.14225724188844496, 'gamma': 0.019552579114339656, 'epsilon': 0.0012714647569420175}. Best is trial 1023 with value: -0.005521979072835362.\u001b[0m\n",
      "\u001b[32m[I 2022-08-05 13:05:32,489]\u001b[0m Trial 1243 finished with value: -0.005537348555029958 and parameters: {'kernel': 'rbf', 'C': 0.12883402988357368, 'gamma': 0.019213289145472896, 'epsilon': 0.0012507352436808945}. Best is trial 1023 with value: -0.005521979072835362.\u001b[0m\n",
      "\u001b[32m[I 2022-08-05 13:05:33,324]\u001b[0m Trial 1245 finished with value: -0.006089298006635188 and parameters: {'kernel': 'rbf', 'C': 0.108523097799466, 'gamma': 0.012929498845255861, 'epsilon': 0.005826491927198964}. Best is trial 1023 with value: -0.005521979072835362.\u001b[0m\n",
      "\u001b[32m[I 2022-08-05 13:05:34,549]\u001b[0m Trial 1244 finished with value: -0.005534705289586902 and parameters: {'kernel': 'rbf', 'C': 0.11035246007636883, 'gamma': 0.01950001462010561, 'epsilon': 0.0012734498555171433}. Best is trial 1023 with value: -0.005521979072835362.\u001b[0m\n",
      "\u001b[32m[I 2022-08-05 13:05:41,079]\u001b[0m Trial 1246 finished with value: -0.005569931568683089 and parameters: {'kernel': 'rbf', 'C': 0.10574262032655041, 'gamma': 0.012729125915816819, 'epsilon': 0.0014455465943243573}. Best is trial 1023 with value: -0.005521979072835362.\u001b[0m\n",
      "\u001b[32m[I 2022-08-05 13:05:43,524]\u001b[0m Trial 1247 finished with value: -0.005609968769757236 and parameters: {'kernel': 'rbf', 'C': 0.16115873004111664, 'gamma': 0.023281126149607156, 'epsilon': 0.0014364398409511404}. Best is trial 1023 with value: -0.005521979072835362.\u001b[0m\n",
      "\u001b[32m[I 2022-08-05 13:05:44,024]\u001b[0m Trial 1249 finished with value: -0.04558449770905385 and parameters: {'kernel': 'rbf', 'C': 0.16599606020215094, 'gamma': 0.023489794823850857, 'epsilon': 0.06185799411467494}. Best is trial 1023 with value: -0.005521979072835362.\u001b[0m\n",
      "\u001b[32m[I 2022-08-05 13:05:53,251]\u001b[0m Trial 1250 finished with value: -0.005525562934625344 and parameters: {'kernel': 'rbf', 'C': 0.1231031088145628, 'gamma': 0.016176376281918085, 'epsilon': 0.0017633144496354263}. Best is trial 1023 with value: -0.005521979072835362.\u001b[0m\n",
      "\u001b[32m[I 2022-08-05 13:05:53,892]\u001b[0m Trial 1251 finished with value: -0.005526172102334544 and parameters: {'kernel': 'rbf', 'C': 0.12578148888166293, 'gamma': 0.016324897155230406, 'epsilon': 0.0017639161417294163}. Best is trial 1023 with value: -0.005521979072835362.\u001b[0m\n",
      "\u001b[32m[I 2022-08-05 13:05:55,367]\u001b[0m Trial 1248 finished with value: -0.006048321226625196 and parameters: {'kernel': 'rbf', 'C': 1.0912504596263137, 'gamma': 0.02288136845717366, 'epsilon': 0.0014853900028701285}. Best is trial 1023 with value: -0.005521979072835362.\u001b[0m\n",
      "\u001b[32m[I 2022-08-05 13:05:57,289]\u001b[0m Trial 1254 finished with value: -0.04558449770905386 and parameters: {'kernel': 'rbf', 'C': 0.08309400233547892, 'gamma': 0.017801002076781827, 'epsilon': 0.1494919431479191}. Best is trial 1023 with value: -0.005521979072835362.\u001b[0m\n",
      "\u001b[32m[I 2022-08-05 13:05:58,866]\u001b[0m Trial 1252 finished with value: -0.005547326078011227 and parameters: {'kernel': 'rbf', 'C': 0.08787976588237588, 'gamma': 0.016835260891501252, 'epsilon': 0.0016906204755759268}. Best is trial 1023 with value: -0.005521979072835362.\u001b[0m\n",
      "\u001b[32m[I 2022-08-05 13:05:59,882]\u001b[0m Trial 1253 finished with value: -0.0055458434677780645 and parameters: {'kernel': 'rbf', 'C': 0.08606036795215746, 'gamma': 0.017815241692068478, 'epsilon': 0.0016255237091512375}. Best is trial 1023 with value: -0.005521979072835362.\u001b[0m\n",
      "\u001b[32m[I 2022-08-05 13:06:03,907]\u001b[0m Trial 1255 finished with value: -0.005541000168204497 and parameters: {'kernel': 'rbf', 'C': 0.09617794686562499, 'gamma': 0.016597793626394162, 'epsilon': 0.0017406041794957592}. Best is trial 1023 with value: -0.005521979072835362.\u001b[0m\n",
      "\u001b[32m[I 2022-08-05 13:06:05,703]\u001b[0m Trial 1256 finished with value: -0.005547337949392147 and parameters: {'kernel': 'rbf', 'C': 0.09737725948466115, 'gamma': 0.02020758596942389, 'epsilon': 0.002033297613431604}. Best is trial 1023 with value: -0.005521979072835362.\u001b[0m\n",
      "\u001b[32m[I 2022-08-05 13:06:06,202]\u001b[0m Trial 1257 finished with value: -0.005680564632694151 and parameters: {'kernel': 'rbf', 'C': 0.05151942279735617, 'gamma': 0.014677079194486648, 'epsilon': 0.0018939443824681366}. Best is trial 1023 with value: -0.005521979072835362.\u001b[0m\n",
      "\u001b[32m[I 2022-08-05 13:06:10,380]\u001b[0m Trial 1258 finished with value: -0.005545168272007234 and parameters: {'kernel': 'rbf', 'C': 0.11803010504182142, 'gamma': 0.020350381458058592, 'epsilon': 0.001993831356636134}. Best is trial 1023 with value: -0.005521979072835362.\u001b[0m\n",
      "\u001b[32m[I 2022-08-05 13:06:13,334]\u001b[0m Trial 1259 finished with value: -0.006466413499330885 and parameters: {'kernel': 'poly', 'C': 0.11876312569423682, 'gamma': 0.014374438224627344, 'epsilon': 0.0013466062725767207}. Best is trial 1023 with value: -0.005521979072835362.\u001b[0m\n",
      "\u001b[32m[I 2022-08-05 13:06:13,681]\u001b[0m Trial 1260 finished with value: -0.006607059233105752 and parameters: {'kernel': 'poly', 'C': 0.07234366725236548, 'gamma': 0.013100257442056507, 'epsilon': 0.001185233730633464}. Best is trial 1023 with value: -0.005521979072835362.\u001b[0m\n",
      "\u001b[32m[I 2022-08-05 13:06:18,082]\u001b[0m Trial 1261 finished with value: -0.006603440219528169 and parameters: {'kernel': 'poly', 'C': 0.07310378028578599, 'gamma': 0.013296775570023327, 'epsilon': 0.0011540263784558433}. Best is trial 1023 with value: -0.005521979072835362.\u001b[0m\n"
     ]
    },
    {
     "name": "stderr",
     "output_type": "stream",
     "text": [
      "\u001b[32m[I 2022-08-05 13:06:21,267]\u001b[0m Trial 1262 finished with value: -0.005648436731048408 and parameters: {'kernel': 'rbf', 'C': 0.10234288683072121, 'gamma': 0.009594509388326412, 'epsilon': 0.001155140018725572}. Best is trial 1023 with value: -0.005521979072835362.\u001b[0m\n",
      "\u001b[32m[I 2022-08-05 13:06:21,439]\u001b[0m Trial 1263 finished with value: -0.005536475256662111 and parameters: {'kernel': 'rbf', 'C': 0.10547429344457462, 'gamma': 0.0156013847571855, 'epsilon': 0.0015059373446657674}. Best is trial 1023 with value: -0.005521979072835362.\u001b[0m\n",
      "\u001b[32m[I 2022-08-05 13:06:23,069]\u001b[0m Trial 1265 finished with value: -0.04558449770905385 and parameters: {'kernel': 'rbf', 'C': 0.12885718183982312, 'gamma': 0.01581991117156364, 'epsilon': 0.10305684905929828}. Best is trial 1023 with value: -0.005521979072835362.\u001b[0m\n",
      "\u001b[32m[I 2022-08-05 13:06:25,389]\u001b[0m Trial 1264 finished with value: -0.005536204486098964 and parameters: {'kernel': 'rbf', 'C': 0.10212629698320752, 'gamma': 0.015793266559983938, 'epsilon': 0.0015147385526194247}. Best is trial 1023 with value: -0.005521979072835362.\u001b[0m\n",
      "\u001b[32m[I 2022-08-05 13:06:30,140]\u001b[0m Trial 1266 finished with value: -0.005532959383257449 and parameters: {'kernel': 'rbf', 'C': 0.1298447941329866, 'gamma': 0.01882190245291008, 'epsilon': 0.0013985185349580942}. Best is trial 1023 with value: -0.005521979072835362.\u001b[0m\n",
      "\u001b[32m[I 2022-08-05 13:06:32,060]\u001b[0m Trial 1267 finished with value: -0.00552731949201711 and parameters: {'kernel': 'rbf', 'C': 0.12730324922591413, 'gamma': 0.018429934931696312, 'epsilon': 0.0013791411769858524}. Best is trial 1023 with value: -0.005521979072835362.\u001b[0m\n",
      "\u001b[32m[I 2022-08-05 13:06:34,038]\u001b[0m Trial 1268 finished with value: -0.0055581111819848475 and parameters: {'kernel': 'rbf', 'C': 0.12677068442975942, 'gamma': 0.02178370663810359, 'epsilon': 0.0013710292108400047}. Best is trial 1023 with value: -0.005521979072835362.\u001b[0m\n",
      "\u001b[32m[I 2022-08-05 13:06:38,265]\u001b[0m Trial 1269 finished with value: -0.005545718240817651 and parameters: {'kernel': 'rbf', 'C': 0.11665038320217597, 'gamma': 0.02133983088202973, 'epsilon': 0.001740895074269688}. Best is trial 1023 with value: -0.005521979072835362.\u001b[0m\n",
      "\u001b[32m[I 2022-08-05 13:06:39,748]\u001b[0m Trial 1270 finished with value: -0.005547993873788863 and parameters: {'kernel': 'rbf', 'C': 0.15292829621436513, 'gamma': 0.012329300184327527, 'epsilon': 0.0017474504101884219}. Best is trial 1023 with value: -0.005521979072835362.\u001b[0m\n",
      "\u001b[32m[I 2022-08-05 13:06:41,775]\u001b[0m Trial 1271 finished with value: -0.005555555276998307 and parameters: {'kernel': 'rbf', 'C': 0.15434714970364044, 'gamma': 0.011561496348101377, 'epsilon': 0.0016746432339821134}. Best is trial 1023 with value: -0.005521979072835362.\u001b[0m\n",
      "\u001b[32m[I 2022-08-05 13:06:45,100]\u001b[0m Trial 1272 finished with value: -0.005549034099208926 and parameters: {'kernel': 'rbf', 'C': 0.14999499086021115, 'gamma': 0.012940397254495703, 'epsilon': 0.0020211063290982117}. Best is trial 1023 with value: -0.005521979072835362.\u001b[0m\n",
      "\u001b[32m[I 2022-08-05 13:06:47,472]\u001b[0m Trial 1273 finished with value: -0.0056656266681096865 and parameters: {'kernel': 'rbf', 'C': 0.15096198574936157, 'gamma': 0.026076771044658054, 'epsilon': 0.002066236166443007}. Best is trial 1023 with value: -0.005521979072835362.\u001b[0m\n",
      "\u001b[32m[I 2022-08-05 13:06:48,921]\u001b[0m Trial 1274 finished with value: -0.005543254889211837 and parameters: {'kernel': 'rbf', 'C': 0.14343203390248596, 'gamma': 0.017822295962119122, 'epsilon': 0.0021294610999337436}. Best is trial 1023 with value: -0.005521979072835362.\u001b[0m\n",
      "\u001b[32m[I 2022-08-05 13:06:50,754]\u001b[0m Trial 1275 finished with value: -0.005542716133679403 and parameters: {'kernel': 'rbf', 'C': 0.11150287205555905, 'gamma': 0.017318903212116377, 'epsilon': 0.0022355254830789414}. Best is trial 1023 with value: -0.005521979072835362.\u001b[0m\n",
      "\u001b[32m[I 2022-08-05 13:06:55,621]\u001b[0m Trial 1276 finished with value: -0.005526060108424391 and parameters: {'kernel': 'rbf', 'C': 0.11342672998783622, 'gamma': 0.01823427310884785, 'epsilon': 0.0015633552325929178}. Best is trial 1023 with value: -0.005521979072835362.\u001b[0m\n",
      "\u001b[32m[I 2022-08-05 13:06:56,636]\u001b[0m Trial 1277 finished with value: -0.005538241812844715 and parameters: {'kernel': 'rbf', 'C': 0.11088398556623198, 'gamma': 0.014682485968478567, 'epsilon': 0.0015413384632786706}. Best is trial 1023 with value: -0.005521979072835362.\u001b[0m\n",
      "\u001b[32m[I 2022-08-05 13:06:58,290]\u001b[0m Trial 1278 finished with value: -0.005561751451918536 and parameters: {'kernel': 'rbf', 'C': 0.09043588790040866, 'gamma': 0.01472486092095481, 'epsilon': 0.0015711378920552012}. Best is trial 1023 with value: -0.005521979072835362.\u001b[0m\n",
      "\u001b[32m[I 2022-08-05 13:07:05,407]\u001b[0m Trial 1280 finished with value: -0.005562497031185692 and parameters: {'kernel': 'rbf', 'C': 0.08984839138670345, 'gamma': 0.014746345200979009, 'epsilon': 0.001278253406892593}. Best is trial 1023 with value: -0.005521979072835362.\u001b[0m\n",
      "\u001b[32m[I 2022-08-05 13:07:06,485]\u001b[0m Trial 1279 finished with value: -0.005544951621384862 and parameters: {'kernel': 'rbf', 'C': 0.1937271245261894, 'gamma': 0.015377377114625283, 'epsilon': 0.0012554618973426412}. Best is trial 1023 with value: -0.005521979072835362.\u001b[0m\n",
      "\u001b[32m[I 2022-08-05 13:07:10,720]\u001b[0m Trial 1281 finished with value: -0.005655695498873075 and parameters: {'kernel': 'rbf', 'C': 0.25721237403849123, 'gamma': 0.02099919774248761, 'epsilon': 0.0012481308820845678}. Best is trial 1023 with value: -0.005521979072835362.\u001b[0m\n",
      "\u001b[32m[I 2022-08-05 13:07:16,209]\u001b[0m Trial 1282 finished with value: -0.00557579520343029 and parameters: {'kernel': 'rbf', 'C': 0.19135194886148518, 'gamma': 0.009996459892425452, 'epsilon': 0.0010172207117679025}. Best is trial 1023 with value: -0.005521979072835362.\u001b[0m\n",
      "\u001b[32m[I 2022-08-05 13:07:19,585]\u001b[0m Trial 1283 finished with value: -0.005656704695734318 and parameters: {'kernel': 'rbf', 'C': 0.257079500319321, 'gamma': 0.020974672256181503, 'epsilon': 0.0010717525754199992}. Best is trial 1023 with value: -0.005521979072835362.\u001b[0m\n",
      "\u001b[32m[I 2022-08-05 13:07:19,587]\u001b[0m Trial 1284 finished with value: -0.005535428541864054 and parameters: {'kernel': 'rbf', 'C': 0.13189635008158473, 'gamma': 0.019002590831113827, 'epsilon': 0.0018281955266099823}. Best is trial 1023 with value: -0.005521979072835362.\u001b[0m\n",
      "\u001b[32m[I 2022-08-05 13:07:23,332]\u001b[0m Trial 1285 finished with value: -0.005528526544184541 and parameters: {'kernel': 'rbf', 'C': 0.137030750478918, 'gamma': 0.016954502746261573, 'epsilon': 0.001831915359166034}. Best is trial 1023 with value: -0.005521979072835362.\u001b[0m\n",
      "\u001b[32m[I 2022-08-05 13:07:27,701]\u001b[0m Trial 1287 finished with value: -0.005538198188434862 and parameters: {'kernel': 'rbf', 'C': 0.16877589613931868, 'gamma': 0.013154729240428844, 'epsilon': 0.0018016744481415404}. Best is trial 1023 with value: -0.005521979072835362.\u001b[0m\n",
      "\u001b[32m[I 2022-08-05 13:07:28,333]\u001b[0m Trial 1286 finished with value: -0.005529887655716645 and parameters: {'kernel': 'rbf', 'C': 0.173070783080549, 'gamma': 0.013283956079453704, 'epsilon': 0.0014775039399078872}. Best is trial 1023 with value: -0.005521979072835362.\u001b[0m\n",
      "\u001b[32m[I 2022-08-05 13:07:33,377]\u001b[0m Trial 1288 finished with value: -0.0055345572091548886 and parameters: {'kernel': 'rbf', 'C': 0.1756138929646872, 'gamma': 0.013130399121091988, 'epsilon': 0.001459652547400535}. Best is trial 1023 with value: -0.005521979072835362.\u001b[0m\n",
      "\u001b[32m[I 2022-08-05 13:07:35,298]\u001b[0m Trial 1289 finished with value: -0.005569420510905143 and parameters: {'kernel': 'rbf', 'C': 0.12327082763528775, 'gamma': 0.011613215461805255, 'epsilon': 0.0015131640861441333}. Best is trial 1023 with value: -0.005521979072835362.\u001b[0m\n",
      "\u001b[32m[I 2022-08-05 13:07:36,104]\u001b[0m Trial 1290 finished with value: -0.005588936805043975 and parameters: {'kernel': 'rbf', 'C': 0.11559181654586857, 'gamma': 0.02510855428798322, 'epsilon': 0.0015784517072073602}. Best is trial 1023 with value: -0.005521979072835362.\u001b[0m\n",
      "\u001b[32m[I 2022-08-05 13:07:38,859]\u001b[0m Trial 1291 finished with value: -0.0055733471779129 and parameters: {'kernel': 'rbf', 'C': 0.12825140035005042, 'gamma': 0.016337148014268898, 'epsilon': 0.0027208932837693178}. Best is trial 1023 with value: -0.005521979072835362.\u001b[0m\n"
     ]
    },
    {
     "name": "stderr",
     "output_type": "stream",
     "text": [
      "\u001b[32m[I 2022-08-05 13:07:43,991]\u001b[0m Trial 1292 finished with value: -0.00553798205197648 and parameters: {'kernel': 'rbf', 'C': 0.10123118063120075, 'gamma': 0.01664540091890924, 'epsilon': 0.0013131216408171697}. Best is trial 1023 with value: -0.005521979072835362.\u001b[0m\n",
      "\u001b[32m[I 2022-08-05 13:07:45,177]\u001b[0m Trial 1293 finished with value: -0.00554510304987513 and parameters: {'kernel': 'rbf', 'C': 0.09993622591735692, 'gamma': 0.016300097612463402, 'epsilon': 0.0010039820997644775}. Best is trial 1023 with value: -0.005521979072835362.\u001b[0m\n",
      "\u001b[32m[I 2022-08-05 13:07:47,295]\u001b[0m Trial 1294 finished with value: -0.005531097287478356 and parameters: {'kernel': 'rbf', 'C': 0.10113394610910098, 'gamma': 0.018575285702205537, 'epsilon': 0.0013255299598352198}. Best is trial 1023 with value: -0.005521979072835362.\u001b[0m\n",
      "\u001b[32m[I 2022-08-05 13:07:52,220]\u001b[0m Trial 1295 finished with value: -0.00554451381360008 and parameters: {'kernel': 'rbf', 'C': 0.1436139645594647, 'gamma': 0.019140734615392216, 'epsilon': 0.0017530937562925172}. Best is trial 1023 with value: -0.005521979072835362.\u001b[0m\n",
      "\u001b[32m[I 2022-08-05 13:07:52,970]\u001b[0m Trial 1296 finished with value: -0.005540088265159939 and parameters: {'kernel': 'rbf', 'C': 0.14341158317968897, 'gamma': 0.018786119436905908, 'epsilon': 0.0017660798424932412}. Best is trial 1023 with value: -0.005521979072835362.\u001b[0m\n",
      "\u001b[32m[I 2022-08-05 13:07:54,840]\u001b[0m Trial 1297 finished with value: -0.005595734247035549 and parameters: {'kernel': 'rbf', 'C': 0.14281135227980826, 'gamma': 0.02321608345121012, 'epsilon': 0.0017452321468242713}. Best is trial 1023 with value: -0.005521979072835362.\u001b[0m\n",
      "\u001b[32m[I 2022-08-05 13:07:59,516]\u001b[0m Trial 1298 finished with value: -0.005669674351371483 and parameters: {'kernel': 'rbf', 'C': 0.21011822679483363, 'gamma': 0.021889126370697076, 'epsilon': 0.002325108206201315}. Best is trial 1023 with value: -0.005521979072835362.\u001b[0m\n",
      "\u001b[32m[I 2022-08-05 13:08:00,814]\u001b[0m Trial 1299 finished with value: -0.005681746387852027 and parameters: {'kernel': 'rbf', 'C': 0.20951779856294223, 'gamma': 0.023115434751559506, 'epsilon': 0.002229017246331051}. Best is trial 1023 with value: -0.005521979072835362.\u001b[0m\n",
      "\u001b[32m[I 2022-08-05 13:08:02,079]\u001b[0m Trial 1300 finished with value: -0.00556138729131296 and parameters: {'kernel': 'rbf', 'C': 0.20813086821274904, 'gamma': 0.01462392583297746, 'epsilon': 0.002312272531353984}. Best is trial 1023 with value: -0.005521979072835362.\u001b[0m\n",
      "\u001b[32m[I 2022-08-05 13:08:05,136]\u001b[0m Trial 1301 finished with value: -0.005553925530781573 and parameters: {'kernel': 'rbf', 'C': 0.11788229686523514, 'gamma': 0.014014644629459888, 'epsilon': 0.002075353538732649}. Best is trial 1023 with value: -0.005521979072835362.\u001b[0m\n",
      "\u001b[32m[I 2022-08-05 13:08:11,060]\u001b[0m Trial 1302 finished with value: -0.005534650095120186 and parameters: {'kernel': 'rbf', 'C': 0.12422499541434681, 'gamma': 0.015588095002911617, 'epsilon': 0.0010996793781436853}. Best is trial 1023 with value: -0.005521979072835362.\u001b[0m\n",
      "\u001b[32m[I 2022-08-05 13:08:11,580]\u001b[0m Trial 1303 finished with value: -0.005597862964002105 and parameters: {'kernel': 'rbf', 'C': 0.11972930495310641, 'gamma': 0.010742753843323299, 'epsilon': 0.001147333116470357}. Best is trial 1023 with value: -0.005521979072835362.\u001b[0m\n",
      "\u001b[32m[I 2022-08-05 13:08:14,152]\u001b[0m Trial 1304 finished with value: -0.005569575893046491 and parameters: {'kernel': 'rbf', 'C': 0.16386611422883332, 'gamma': 0.010406721724864726, 'epsilon': 0.001150918321594275}. Best is trial 1023 with value: -0.005521979072835362.\u001b[0m\n",
      "\u001b[32m[I 2022-08-05 13:08:20,427]\u001b[0m Trial 1305 finished with value: -0.005542393516152534 and parameters: {'kernel': 'rbf', 'C': 0.15466027334842125, 'gamma': 0.012336886017932985, 'epsilon': 0.0013705785302469714}. Best is trial 1023 with value: -0.005521979072835362.\u001b[0m\n",
      "\u001b[32m[I 2022-08-05 13:08:20,873]\u001b[0m Trial 1306 finished with value: -0.005547493737456158 and parameters: {'kernel': 'rbf', 'C': 0.15402450276935017, 'gamma': 0.011905940498604758, 'epsilon': 0.001382983743835195}. Best is trial 1023 with value: -0.005521979072835362.\u001b[0m\n",
      "\u001b[32m[I 2022-08-05 13:08:22,909]\u001b[0m Trial 1307 finished with value: -0.005547449699493238 and parameters: {'kernel': 'rbf', 'C': 0.15266185472215404, 'gamma': 0.012208179002775824, 'epsilon': 0.0013858131062700766}. Best is trial 1023 with value: -0.005521979072835362.\u001b[0m\n",
      "\u001b[32m[I 2022-08-05 13:08:28,482]\u001b[0m Trial 1308 finished with value: -0.005520821931362491 and parameters: {'kernel': 'rbf', 'C': 0.133761869232118, 'gamma': 0.017167737732410412, 'epsilon': 0.001578726091455977}. Best is trial 1308 with value: -0.005520821931362491.\u001b[0m\n",
      "\u001b[32m[I 2022-08-05 13:08:28,926]\u001b[0m Trial 1309 finished with value: -0.005522753763600275 and parameters: {'kernel': 'rbf', 'C': 0.13835511423737032, 'gamma': 0.0164210858074725, 'epsilon': 0.0016294506671334264}. Best is trial 1308 with value: -0.005520821931362491.\u001b[0m\n",
      "\u001b[32m[I 2022-08-05 13:08:29,773]\u001b[0m Trial 1310 finished with value: -0.0055444370917328125 and parameters: {'kernel': 'rbf', 'C': 0.08438933136372267, 'gamma': 0.01757362096514572, 'epsilon': 0.001625111319516414}. Best is trial 1308 with value: -0.005520821931362491.\u001b[0m\n",
      "\u001b[32m[I 2022-08-05 13:08:33,937]\u001b[0m Trial 1311 finished with value: -0.005552289908090415 and parameters: {'kernel': 'rbf', 'C': 0.08272709419065245, 'gamma': 0.021140290367727292, 'epsilon': 0.0018984369186299472}. Best is trial 1308 with value: -0.005520821931362491.\u001b[0m\n",
      "\u001b[32m[I 2022-08-05 13:08:35,893]\u001b[0m Trial 1312 finished with value: -0.005621014565175134 and parameters: {'kernel': 'rbf', 'C': 0.13259310107229802, 'gamma': 0.025984938884600992, 'epsilon': 0.0015625249523603226}. Best is trial 1308 with value: -0.005520821931362491.\u001b[0m\n",
      "\u001b[32m[I 2022-08-05 13:08:36,776]\u001b[0m Trial 1313 finished with value: -0.005680198743062897 and parameters: {'kernel': 'rbf', 'C': 0.1324074649035772, 'gamma': 0.029261053946142555, 'epsilon': 0.0019648727411778594}. Best is trial 1308 with value: -0.005520821931362491.\u001b[0m\n",
      "\u001b[32m[I 2022-08-05 13:08:42,008]\u001b[0m Trial 1314 finished with value: -0.0056164945400985385 and parameters: {'kernel': 'rbf', 'C': 0.13495640008941245, 'gamma': 0.025601693274704993, 'epsilon': 0.0015646479062548858}. Best is trial 1308 with value: -0.005520821931362491.\u001b[0m\n",
      "\u001b[32m[I 2022-08-05 13:08:44,348]\u001b[0m Trial 1315 finished with value: -0.005540211559760545 and parameters: {'kernel': 'rbf', 'C': 0.13290853589272558, 'gamma': 0.019470302022625265, 'epsilon': 0.0012803576710882403}. Best is trial 1308 with value: -0.005520821931362491.\u001b[0m\n",
      "\u001b[32m[I 2022-08-05 13:08:44,418]\u001b[0m Trial 1316 finished with value: -0.00553427721891569 and parameters: {'kernel': 'rbf', 'C': 0.11020282730648387, 'gamma': 0.020022489440021832, 'epsilon': 0.001583836394042886}. Best is trial 1308 with value: -0.005520821931362491.\u001b[0m\n",
      "\u001b[32m[I 2022-08-05 13:08:47,398]\u001b[0m Trial 1318 finished with value: -0.0076185215865860354 and parameters: {'kernel': 'rbf', 'C': 0.17940120321503913, 'gamma': 0.020206201313218257, 'epsilon': 0.010294072022556075}. Best is trial 1308 with value: -0.005520821931362491.\u001b[0m\n",
      "\u001b[32m[I 2022-08-05 13:08:49,194]\u001b[0m Trial 1317 finished with value: -0.005538904882365427 and parameters: {'kernel': 'rbf', 'C': 0.11079346663534954, 'gamma': 0.02043085465488752, 'epsilon': 0.0012324916485300628}. Best is trial 1308 with value: -0.005520821931362491.\u001b[0m\n",
      "\u001b[32m[I 2022-08-05 13:08:53,512]\u001b[0m Trial 1319 finished with value: -0.005550720866376188 and parameters: {'kernel': 'rbf', 'C': 0.17652419215475687, 'gamma': 0.01788849087837751, 'epsilon': 0.0012815719056139933}. Best is trial 1308 with value: -0.005520821931362491.\u001b[0m\n",
      "\u001b[32m[I 2022-08-05 13:08:55,615]\u001b[0m Trial 1320 finished with value: -0.005538989676530672 and parameters: {'kernel': 'rbf', 'C': 0.09836230495229795, 'gamma': 0.016746257663164267, 'epsilon': 0.0012485021488709744}. Best is trial 1308 with value: -0.005520821931362491.\u001b[0m\n",
      "\u001b[32m[I 2022-08-05 13:08:56,510]\u001b[0m Trial 1321 finished with value: -0.005545219199997801 and parameters: {'kernel': 'rbf', 'C': 0.16278207199827727, 'gamma': 0.01749957276335247, 'epsilon': 0.00195710282138769}. Best is trial 1308 with value: -0.005520821931362491.\u001b[0m\n"
     ]
    },
    {
     "name": "stderr",
     "output_type": "stream",
     "text": [
      "\u001b[32m[I 2022-08-05 13:08:59,120]\u001b[0m Trial 1322 finished with value: -0.005545434694015338 and parameters: {'kernel': 'rbf', 'C': 0.09645380462584055, 'gamma': 0.016987166753024512, 'epsilon': 0.0019336197733268244}. Best is trial 1308 with value: -0.005520821931362491.\u001b[0m\n",
      "\u001b[32m[I 2022-08-05 13:09:02,949]\u001b[0m Trial 1323 finished with value: -0.005534039341148617 and parameters: {'kernel': 'rbf', 'C': 0.15856457386518547, 'gamma': 0.017359366390403107, 'epsilon': 0.0016986937147391336}. Best is trial 1308 with value: -0.005520821931362491.\u001b[0m\n",
      "\u001b[32m[I 2022-08-05 13:09:04,308]\u001b[0m Trial 1324 finished with value: -0.00556541361804038 and parameters: {'kernel': 'rbf', 'C': 0.11497454956683545, 'gamma': 0.022941479437972676, 'epsilon': 0.0016112962744812408}. Best is trial 1308 with value: -0.005520821931362491.\u001b[0m\n",
      "\u001b[32m[I 2022-08-05 13:09:06,972]\u001b[0m Trial 1325 finished with value: -0.005554324102980931 and parameters: {'kernel': 'rbf', 'C': 0.11543598590797961, 'gamma': 0.022326985308035646, 'epsilon': 0.0016568465146741941}. Best is trial 1308 with value: -0.005520821931362491.\u001b[0m\n",
      "\u001b[32m[I 2022-08-05 13:09:10,436]\u001b[0m Trial 1326 finished with value: -0.005566199607777689 and parameters: {'kernel': 'rbf', 'C': 0.1146327086208741, 'gamma': 0.023481239808179854, 'epsilon': 0.0014684135398837748}. Best is trial 1308 with value: -0.005520821931362491.\u001b[0m\n",
      "\u001b[32m[I 2022-08-05 13:09:12,109]\u001b[0m Trial 1327 finished with value: -0.005526713948063492 and parameters: {'kernel': 'rbf', 'C': 0.13848587924058467, 'gamma': 0.014784510850774974, 'epsilon': 0.0014350249406879045}. Best is trial 1308 with value: -0.005520821931362491.\u001b[0m\n",
      "\u001b[32m[I 2022-08-05 13:09:15,207]\u001b[0m Trial 1328 finished with value: -0.005525182816155563 and parameters: {'kernel': 'rbf', 'C': 0.14215122670009028, 'gamma': 0.015064927405884642, 'epsilon': 0.0014403682029464062}. Best is trial 1308 with value: -0.005520821931362491.\u001b[0m\n",
      "\u001b[32m[I 2022-08-05 13:09:19,140]\u001b[0m Trial 1329 finished with value: -0.00552700829763962 and parameters: {'kernel': 'rbf', 'C': 0.14658761416082655, 'gamma': 0.014481653684502443, 'epsilon': 0.0014282915392830134}. Best is trial 1308 with value: -0.005520821931362491.\u001b[0m\n",
      "\u001b[32m[I 2022-08-05 13:09:20,187]\u001b[0m Trial 1330 finished with value: -0.005530584167182557 and parameters: {'kernel': 'rbf', 'C': 0.13539036770161003, 'gamma': 0.014396878880410456, 'epsilon': 0.0014034427168438568}. Best is trial 1308 with value: -0.005520821931362491.\u001b[0m\n",
      "\u001b[32m[I 2022-08-05 13:09:24,959]\u001b[0m Trial 1331 finished with value: -0.005542337883916141 and parameters: {'kernel': 'rbf', 'C': 0.18596475516676103, 'gamma': 0.01382356693953553, 'epsilon': 0.001091580604994421}. Best is trial 1308 with value: -0.005520821931362491.\u001b[0m\n",
      "\u001b[32m[I 2022-08-05 13:09:33,259]\u001b[0m Trial 1332 finished with value: -0.005617633853197539 and parameters: {'kernel': 'rbf', 'C': 0.4225059464137598, 'gamma': 0.013625545791512426, 'epsilon': 0.001091104420427163}. Best is trial 1308 with value: -0.005520821931362491.\u001b[0m\n",
      "\u001b[32m[I 2022-08-05 13:09:33,588]\u001b[0m Trial 1333 finished with value: -0.005594089296979607 and parameters: {'kernel': 'rbf', 'C': 0.35399636868371653, 'gamma': 0.014026450413279833, 'epsilon': 0.001170560596174981}. Best is trial 1308 with value: -0.005520821931362491.\u001b[0m\n",
      "\u001b[32m[I 2022-08-05 13:09:34,787]\u001b[0m Trial 1334 finished with value: -0.005542036099086877 and parameters: {'kernel': 'rbf', 'C': 0.1776329105138059, 'gamma': 0.013238815827439103, 'epsilon': 0.0010031642102756996}. Best is trial 1308 with value: -0.005520821931362491.\u001b[0m\n",
      "\u001b[32m[I 2022-08-05 13:09:39,941]\u001b[0m Trial 1335 finished with value: -0.005531227323588096 and parameters: {'kernel': 'rbf', 'C': 0.17235018890482917, 'gamma': 0.015443767914509106, 'epsilon': 0.001776570101508409}. Best is trial 1308 with value: -0.005520821931362491.\u001b[0m\n",
      "\u001b[32m[I 2022-08-05 13:09:40,222]\u001b[0m Trial 1336 finished with value: -0.005545196784981099 and parameters: {'kernel': 'rbf', 'C': 0.1686491777109375, 'gamma': 0.012275430320357283, 'epsilon': 0.0018128686678142946}. Best is trial 1308 with value: -0.005520821931362491.\u001b[0m\n",
      "\u001b[32m[I 2022-08-05 13:09:41,175]\u001b[0m Trial 1337 finished with value: -0.005526144449581159 and parameters: {'kernel': 'rbf', 'C': 0.15595217434786754, 'gamma': 0.015409342841660685, 'epsilon': 0.0017975594743138165}. Best is trial 1308 with value: -0.005520821931362491.\u001b[0m\n",
      "\u001b[32m[I 2022-08-05 13:09:42,658]\u001b[0m Trial 1339 finished with value: -0.007284551517968445 and parameters: {'kernel': 'poly', 'C': 0.14984637168769027, 'gamma': 0.015713634694197884, 'epsilon': 0.008185367016748515}. Best is trial 1308 with value: -0.005520821931362491.\u001b[0m\n",
      "\u001b[32m[I 2022-08-05 13:09:44,886]\u001b[0m Trial 1338 finished with value: -0.005754738022499489 and parameters: {'kernel': 'rbf', 'C': 0.14528359923663284, 'gamma': 0.03683346001442494, 'epsilon': 0.0020608081607877515}. Best is trial 1308 with value: -0.005520821931362491.\u001b[0m\n",
      "\u001b[32m[I 2022-08-05 13:09:46,632]\u001b[0m Trial 1340 finished with value: -0.00560711068005038 and parameters: {'kernel': 'rbf', 'C': 0.14444732434005994, 'gamma': 0.009679285594758056, 'epsilon': 0.0020619228321692037}. Best is trial 1308 with value: -0.005520821931362491.\u001b[0m\n",
      "\u001b[32m[I 2022-08-05 13:09:48,817]\u001b[0m Trial 1341 finished with value: -0.00558005930200387 and parameters: {'kernel': 'rbf', 'C': 0.2289516282695952, 'gamma': 0.009880179318022727, 'epsilon': 0.002114301941938979}. Best is trial 1308 with value: -0.005520821931362491.\u001b[0m\n",
      "\u001b[32m[I 2022-08-05 13:09:52,153]\u001b[0m Trial 1342 finished with value: -0.005564997360622946 and parameters: {'kernel': 'rbf', 'C': 0.1967091218452061, 'gamma': 0.01825019476724031, 'epsilon': 0.0015441423039971433}. Best is trial 1308 with value: -0.005520821931362491.\u001b[0m\n",
      "\u001b[32m[I 2022-08-05 13:09:56,491]\u001b[0m Trial 1343 finished with value: -0.005587942229669265 and parameters: {'kernel': 'rbf', 'C': 0.20477258061623144, 'gamma': 0.018884632618434535, 'epsilon': 0.001001698227375036}. Best is trial 1308 with value: -0.005520821931362491.\u001b[0m\n",
      "\u001b[32m[I 2022-08-05 13:09:56,755]\u001b[0m Trial 1344 finished with value: -0.005572591984655758 and parameters: {'kernel': 'rbf', 'C': 0.19480970848582424, 'gamma': 0.01903757057744003, 'epsilon': 0.001577307339291736}. Best is trial 1308 with value: -0.005520821931362491.\u001b[0m\n",
      "\u001b[32m[I 2022-08-05 13:09:59,909]\u001b[0m Trial 1345 finished with value: -0.005573057800177961 and parameters: {'kernel': 'rbf', 'C': 0.12987969785173706, 'gamma': 0.011726878014737084, 'epsilon': 0.0010028247282426036}. Best is trial 1308 with value: -0.005520821931362491.\u001b[0m\n",
      "\u001b[32m[I 2022-08-05 13:10:02,701]\u001b[0m Trial 1346 finished with value: -0.005560761943829794 and parameters: {'kernel': 'rbf', 'C': 0.13080522388057314, 'gamma': 0.011915308070779417, 'epsilon': 0.0012585919769351887}. Best is trial 1308 with value: -0.005520821931362491.\u001b[0m\n",
      "\u001b[32m[I 2022-08-05 13:10:03,294]\u001b[0m Trial 1347 finished with value: -0.005564465205152321 and parameters: {'kernel': 'rbf', 'C': 0.1292790868328555, 'gamma': 0.011745342451804305, 'epsilon': 0.0013203797389520217}. Best is trial 1308 with value: -0.005520821931362491.\u001b[0m\n",
      "\u001b[32m[I 2022-08-05 13:10:07,312]\u001b[0m Trial 1348 finished with value: -0.005529036565345481 and parameters: {'kernel': 'rbf', 'C': 0.12897736843313318, 'gamma': 0.01615357936502241, 'epsilon': 0.0013291767704892148}. Best is trial 1308 with value: -0.005520821931362491.\u001b[0m\n",
      "\u001b[32m[I 2022-08-05 13:10:09,442]\u001b[0m Trial 1349 finished with value: -0.005528692944088279 and parameters: {'kernel': 'rbf', 'C': 0.1611270837858728, 'gamma': 0.015730528081393812, 'epsilon': 0.0013658877701416686}. Best is trial 1308 with value: -0.005520821931362491.\u001b[0m\n",
      "\u001b[32m[I 2022-08-05 13:10:09,534]\u001b[0m Trial 1350 finished with value: -0.00553086793849418 and parameters: {'kernel': 'rbf', 'C': 0.1667193909133158, 'gamma': 0.01600709786541446, 'epsilon': 0.0016565603757398828}. Best is trial 1308 with value: -0.005520821931362491.\u001b[0m\n",
      "\u001b[32m[I 2022-08-05 13:10:13,891]\u001b[0m Trial 1351 finished with value: -0.005528485536543706 and parameters: {'kernel': 'rbf', 'C': 0.16246554621833834, 'gamma': 0.01586947789218086, 'epsilon': 0.0016304939675298507}. Best is trial 1308 with value: -0.005520821931362491.\u001b[0m\n"
     ]
    },
    {
     "name": "stderr",
     "output_type": "stream",
     "text": [
      "\u001b[32m[I 2022-08-05 13:10:14,051]\u001b[0m Trial 1353 finished with value: -0.005584592077496582 and parameters: {'kernel': 'rbf', 'C': 0.10478267160298288, 'gamma': 0.013854517207113368, 'epsilon': 0.0025012767750787544}. Best is trial 1308 with value: -0.005520821931362491.\u001b[0m\n",
      "\u001b[32m[I 2022-08-05 13:10:14,871]\u001b[0m Trial 1352 finished with value: -0.005553626398212606 and parameters: {'kernel': 'rbf', 'C': 0.10799243123560291, 'gamma': 0.013470272531572557, 'epsilon': 0.0016217747441629536}. Best is trial 1308 with value: -0.005520821931362491.\u001b[0m\n",
      "\u001b[32m[I 2022-08-05 13:10:14,898]\u001b[0m Trial 1354 finished with value: -0.02697722256154895 and parameters: {'kernel': 'rbf', 'C': 0.10474696300634977, 'gamma': 0.013941376319110202, 'epsilon': 0.03451905917441378}. Best is trial 1308 with value: -0.005520821931362491.\u001b[0m\n",
      "\u001b[32m[I 2022-08-05 13:10:21,542]\u001b[0m Trial 1355 finished with value: -0.005535118166383595 and parameters: {'kernel': 'rbf', 'C': 0.11486840570898979, 'gamma': 0.020158501618021817, 'epsilon': 0.001449699111446472}. Best is trial 1308 with value: -0.005520821931362491.\u001b[0m\n",
      "\u001b[32m[I 2022-08-05 13:10:22,413]\u001b[0m Trial 1357 finished with value: -0.005554669088802303 and parameters: {'kernel': 'rbf', 'C': 0.14048410237379197, 'gamma': 0.020223097166114024, 'epsilon': 0.001882931927911736}. Best is trial 1308 with value: -0.005520821931362491.\u001b[0m\n",
      "\u001b[32m[I 2022-08-05 13:10:22,555]\u001b[0m Trial 1356 finished with value: -0.005548090397207318 and parameters: {'kernel': 'rbf', 'C': 0.14493393020789855, 'gamma': 0.019023671197434002, 'epsilon': 0.0019041548302468456}. Best is trial 1308 with value: -0.005520821931362491.\u001b[0m\n",
      "\u001b[32m[I 2022-08-05 13:10:27,504]\u001b[0m Trial 1358 finished with value: -0.005542454164102017 and parameters: {'kernel': 'rbf', 'C': 0.14584048440286151, 'gamma': 0.01870404307332533, 'epsilon': 0.0018749161376161812}. Best is trial 1308 with value: -0.005520821931362491.\u001b[0m\n",
      "\u001b[32m[I 2022-08-05 13:10:29,700]\u001b[0m Trial 1359 finished with value: -0.005530838510974963 and parameters: {'kernel': 'rbf', 'C': 0.13972238863305078, 'gamma': 0.017351301494181466, 'epsilon': 0.0012096614419212714}. Best is trial 1308 with value: -0.005520821931362491.\u001b[0m\n",
      "\u001b[32m[I 2022-08-05 13:10:29,716]\u001b[0m Trial 1360 finished with value: -0.005532093463489341 and parameters: {'kernel': 'rbf', 'C': 0.1254505258136913, 'gamma': 0.017128056057943115, 'epsilon': 0.0012138810016804956}. Best is trial 1308 with value: -0.005520821931362491.\u001b[0m\n",
      "\u001b[32m[I 2022-08-05 13:10:34,509]\u001b[0m Trial 1361 finished with value: -0.005536054574447061 and parameters: {'kernel': 'rbf', 'C': 0.12263946949164597, 'gamma': 0.016744184411002328, 'epsilon': 0.0011978483704953317}. Best is trial 1308 with value: -0.005520821931362491.\u001b[0m\n",
      "\u001b[32m[I 2022-08-05 13:10:35,993]\u001b[0m Trial 1363 finished with value: -0.00563162451847892 and parameters: {'kernel': 'rbf', 'C': 0.1728905625530695, 'gamma': 0.00754932527486792, 'epsilon': 0.0015256907662944898}. Best is trial 1308 with value: -0.005520821931362491.\u001b[0m\n",
      "\u001b[32m[I 2022-08-05 13:10:36,289]\u001b[0m Trial 1362 finished with value: -0.005528085532367167 and parameters: {'kernel': 'rbf', 'C': 0.16949052084958938, 'gamma': 0.014814403153422485, 'epsilon': 0.001465453497053869}. Best is trial 1308 with value: -0.005520821931362491.\u001b[0m\n",
      "\u001b[32m[I 2022-08-05 13:10:41,311]\u001b[0m Trial 1364 finished with value: -0.005532670147334862 and parameters: {'kernel': 'rbf', 'C': 0.18288270106823118, 'gamma': 0.01455820897720163, 'epsilon': 0.0015141027302280363}. Best is trial 1308 with value: -0.005520821931362491.\u001b[0m\n",
      "\u001b[32m[I 2022-08-05 13:10:41,919]\u001b[0m Trial 1365 finished with value: -0.0055693887346988874 and parameters: {'kernel': 'rbf', 'C': 0.0947812625938556, 'gamma': 0.01369781886712525, 'epsilon': 0.0014041313502190511}. Best is trial 1308 with value: -0.005520821931362491.\u001b[0m\n",
      "\u001b[32m[I 2022-08-05 13:10:42,341]\u001b[0m Trial 1366 finished with value: -0.00554177553983667 and parameters: {'kernel': 'rbf', 'C': 0.1241864572623556, 'gamma': 0.013730183172905402, 'epsilon': 0.001687864691254916}. Best is trial 1308 with value: -0.005520821931362491.\u001b[0m\n",
      "\u001b[32m[I 2022-08-05 13:10:46,149]\u001b[0m Trial 1368 finished with value: -0.006483708094598689 and parameters: {'kernel': 'poly', 'C': 0.1222093577093549, 'gamma': 0.01057806285708494, 'epsilon': 0.0022202067644503808}. Best is trial 1308 with value: -0.005520821931362491.\u001b[0m\n",
      "\u001b[32m[I 2022-08-05 13:10:47,107]\u001b[0m Trial 1367 finished with value: -0.006358687301311086 and parameters: {'kernel': 'poly', 'C': 0.0972081707591702, 'gamma': 0.02183993493973547, 'epsilon': 0.0021557831428851934}. Best is trial 1308 with value: -0.005520821931362491.\u001b[0m\n",
      "\u001b[32m[I 2022-08-05 13:10:47,495]\u001b[0m Trial 1369 finished with value: -0.006420897040277702 and parameters: {'kernel': 'poly', 'C': 0.15434540263525517, 'gamma': 0.01095461414653109, 'epsilon': 0.002307444265114771}. Best is trial 1308 with value: -0.005520821931362491.\u001b[0m\n",
      "\u001b[32m[I 2022-08-05 13:10:50,196]\u001b[0m Trial 1370 finished with value: -0.005687986102612541 and parameters: {'kernel': 'rbf', 'C': 0.15200686437081265, 'gamma': 0.022965429524145636, 'epsilon': 0.0029612267904718173}. Best is trial 1308 with value: -0.005520821931362491.\u001b[0m\n",
      "\u001b[32m[I 2022-08-05 13:10:52,830]\u001b[0m Trial 711 finished with value: -0.0064734306870437375 and parameters: {'kernel': 'poly', 'C': 0.10173209002030721, 'gamma': 0.664482922971487, 'epsilon': 0.0012870551008569396}. Best is trial 1308 with value: -0.005520821931362491.\u001b[0m\n",
      "\u001b[32m[I 2022-08-05 13:10:53,087]\u001b[0m Trial 1371 finished with value: -0.0055299681296880066 and parameters: {'kernel': 'rbf', 'C': 0.15452773029548014, 'gamma': 0.016974390259714933, 'epsilon': 0.001691232010251746}. Best is trial 1308 with value: -0.005520821931362491.\u001b[0m\n",
      "\u001b[32m[I 2022-08-05 13:10:53,245]\u001b[0m Trial 1372 finished with value: -0.0055289290097701085 and parameters: {'kernel': 'rbf', 'C': 0.11219134853933659, 'gamma': 0.016835666144771555, 'epsilon': 0.0017470901456955264}. Best is trial 1308 with value: -0.005520821931362491.\u001b[0m\n",
      "\u001b[32m[I 2022-08-05 13:10:57,153]\u001b[0m Trial 1373 finished with value: -0.005526615831293502 and parameters: {'kernel': 'rbf', 'C': 0.11479025865447949, 'gamma': 0.017472060996935847, 'epsilon': 0.0017251819521845052}. Best is trial 1308 with value: -0.005520821931362491.\u001b[0m\n",
      "\u001b[32m[I 2022-08-05 13:10:58,706]\u001b[0m Trial 1374 finished with value: -0.00552732945255118 and parameters: {'kernel': 'rbf', 'C': 0.11607631441019585, 'gamma': 0.017128270592943588, 'epsilon': 0.0017643515513531777}. Best is trial 1308 with value: -0.005520821931362491.\u001b[0m\n",
      "\u001b[32m[I 2022-08-05 13:10:58,876]\u001b[0m Trial 1375 finished with value: -0.0055347558619017094 and parameters: {'kernel': 'rbf', 'C': 0.11488457229851975, 'gamma': 0.01937379918581909, 'epsilon': 0.0018195866975202666}. Best is trial 1308 with value: -0.005520821931362491.\u001b[0m\n",
      "\u001b[32m[I 2022-08-05 13:11:01,339]\u001b[0m Trial 1376 finished with value: -0.005532819716826367 and parameters: {'kernel': 'rbf', 'C': 0.1308890288104233, 'gamma': 0.019394254447867645, 'epsilon': 0.001396729827925215}. Best is trial 1308 with value: -0.005520821931362491.\u001b[0m\n",
      "\u001b[32m[I 2022-08-05 13:11:04,608]\u001b[0m Trial 1377 finished with value: -0.005555810038882534 and parameters: {'kernel': 'rbf', 'C': 0.1351303433004315, 'gamma': 0.012019117243712067, 'epsilon': 0.0014283900494492085}. Best is trial 1308 with value: -0.005520821931362491.\u001b[0m\n",
      "\u001b[32m[I 2022-08-05 13:11:06,752]\u001b[0m Trial 1378 finished with value: -0.005545728116279609 and parameters: {'kernel': 'rbf', 'C': 0.1377090756472381, 'gamma': 0.012657218261658255, 'epsilon': 0.0014056630507150525}. Best is trial 1308 with value: -0.005520821931362491.\u001b[0m\n",
      "\u001b[32m[I 2022-08-05 13:11:07,176]\u001b[0m Trial 1379 finished with value: -0.005548668602142792 and parameters: {'kernel': 'rbf', 'C': 0.13575805309004624, 'gamma': 0.012412948743589173, 'epsilon': 0.0013587179072176321}. Best is trial 1308 with value: -0.005520821931362491.\u001b[0m\n",
      "\u001b[32m[I 2022-08-05 13:11:09,905]\u001b[0m Trial 1380 finished with value: -0.005554204274050131 and parameters: {'kernel': 'rbf', 'C': 0.1389074424214205, 'gamma': 0.012434042284308824, 'epsilon': 0.0011294269856422443}. Best is trial 1308 with value: -0.005520821931362491.\u001b[0m\n"
     ]
    },
    {
     "name": "stderr",
     "output_type": "stream",
     "text": [
      "\u001b[32m[I 2022-08-05 13:11:17,486]\u001b[0m Trial 1381 finished with value: -0.0057110385851150665 and parameters: {'kernel': 'rbf', 'C': 0.2240941205543013, 'gamma': 0.026171132209513608, 'epsilon': 0.0010025837502308974}. Best is trial 1308 with value: -0.005520821931362491.\u001b[0m\n",
      "\u001b[32m[I 2022-08-05 13:11:18,644]\u001b[0m Trial 1384 finished with value: -0.0055594784971453705 and parameters: {'kernel': 'rbf', 'C': 0.22545227482370245, 'gamma': 0.01529479364382526, 'epsilon': 0.002048449479576004}. Best is trial 1308 with value: -0.005520821931362491.\u001b[0m\n",
      "\u001b[32m[I 2022-08-05 13:11:19,185]\u001b[0m Trial 1383 finished with value: -0.0057308197678899615 and parameters: {'kernel': 'rbf', 'C': 0.2223226015372227, 'gamma': 0.028226807326387087, 'epsilon': 0.0011248088324663675}. Best is trial 1308 with value: -0.005520821931362491.\u001b[0m\n",
      "\u001b[32m[I 2022-08-05 13:11:19,185]\u001b[0m Trial 1382 finished with value: -0.005714831499120032 and parameters: {'kernel': 'rbf', 'C': 0.23041258184576782, 'gamma': 0.02619287010093934, 'epsilon': 0.0010011242698072886}. Best is trial 1308 with value: -0.005520821931362491.\u001b[0m\n",
      "\u001b[32m[I 2022-08-05 13:11:19,454]\u001b[0m Trial 1386 finished with value: -0.045584497709053845 and parameters: {'kernel': 'rbf', 'C': 0.08743580620194394, 'gamma': 0.021610370872616223, 'epsilon': 0.37318534294657985}. Best is trial 1308 with value: -0.005520821931362491.\u001b[0m\n",
      "\u001b[32m[I 2022-08-05 13:11:24,078]\u001b[0m Trial 1385 finished with value: -0.005540546426766458 and parameters: {'kernel': 'rbf', 'C': 0.18565800927695306, 'gamma': 0.015229873408250251, 'epsilon': 0.0020109393144803443}. Best is trial 1308 with value: -0.005520821931362491.\u001b[0m\n",
      "\u001b[32m[I 2022-08-05 13:11:24,352]\u001b[0m Trial 1387 finished with value: -0.0055690012762307445 and parameters: {'kernel': 'rbf', 'C': 0.1816879100361922, 'gamma': 0.0153743997531813, 'epsilon': 0.0025878724399163435}. Best is trial 1308 with value: -0.005520821931362491.\u001b[0m\n",
      "\u001b[32m[I 2022-08-05 13:11:24,920]\u001b[0m Trial 1388 finished with value: -0.0056460188206982 and parameters: {'kernel': 'rbf', 'C': 0.17893773800066995, 'gamma': 0.021267372680391874, 'epsilon': 0.0025400822048837718}. Best is trial 1308 with value: -0.005520821931362491.\u001b[0m\n",
      "\u001b[32m[I 2022-08-05 13:11:26,737]\u001b[0m Trial 1389 finished with value: -0.005528997817970578 and parameters: {'kernel': 'rbf', 'C': 0.17523828598202917, 'gamma': 0.014807473429796353, 'epsilon': 0.00155425019233232}. Best is trial 1308 with value: -0.005520821931362491.\u001b[0m\n",
      "\u001b[32m[I 2022-08-05 13:11:31,487]\u001b[0m Trial 1390 finished with value: -0.0055261639609460265 and parameters: {'kernel': 'rbf', 'C': 0.15708482878840357, 'gamma': 0.014826635410350935, 'epsilon': 0.0015536295594833311}. Best is trial 1308 with value: -0.005520821931362491.\u001b[0m\n",
      "\u001b[32m[I 2022-08-05 13:11:33,603]\u001b[0m Trial 1392 finished with value: -0.005541548049062358 and parameters: {'kernel': 'rbf', 'C': 0.15469664708732736, 'gamma': 0.01841588418406611, 'epsilon': 0.0015591933437364607}. Best is trial 1308 with value: -0.005520821931362491.\u001b[0m\n",
      "\u001b[32m[I 2022-08-05 13:11:33,744]\u001b[0m Trial 1391 finished with value: -0.0056699444412656825 and parameters: {'kernel': 'rbf', 'C': 0.28877346337223003, 'gamma': 0.02060353242947003, 'epsilon': 0.0015683175255603295}. Best is trial 1308 with value: -0.005520821931362491.\u001b[0m\n",
      "\u001b[32m[I 2022-08-05 13:11:34,270]\u001b[0m Trial 1393 finished with value: -0.005537208974775395 and parameters: {'kernel': 'rbf', 'C': 0.09478725172675709, 'gamma': 0.018180213991968227, 'epsilon': 0.0015746474556366978}. Best is trial 1308 with value: -0.005520821931362491.\u001b[0m\n",
      "\u001b[32m[I 2022-08-05 13:11:39,801]\u001b[0m Trial 1394 finished with value: -0.005539030924427717 and parameters: {'kernel': 'rbf', 'C': 0.09885975133942881, 'gamma': 0.019089111913927034, 'epsilon': 0.0012269066930669346}. Best is trial 1308 with value: -0.005520821931362491.\u001b[0m\n",
      "\u001b[32m[I 2022-08-05 13:11:41,115]\u001b[0m Trial 1396 finished with value: -0.005565820381722003 and parameters: {'kernel': 'rbf', 'C': 0.1014152210570035, 'gamma': 0.013254938957761428, 'epsilon': 0.0012280930899664316}. Best is trial 1308 with value: -0.005520821931362491.\u001b[0m\n",
      "\u001b[32m[I 2022-08-05 13:11:41,182]\u001b[0m Trial 1395 finished with value: -0.005534709813276841 and parameters: {'kernel': 'rbf', 'C': 0.10410593809024069, 'gamma': 0.019069713080792673, 'epsilon': 0.0013080923414047082}. Best is trial 1308 with value: -0.005520821931362491.\u001b[0m\n",
      "\u001b[32m[I 2022-08-05 13:11:42,485]\u001b[0m Trial 1397 finished with value: -0.005551376275678716 and parameters: {'kernel': 'rbf', 'C': 0.12039319162817501, 'gamma': 0.013241382653255935, 'epsilon': 0.001234000294877629}. Best is trial 1308 with value: -0.005520821931362491.\u001b[0m\n",
      "\u001b[32m[I 2022-08-05 13:11:44,814]\u001b[0m Trial 1398 finished with value: -0.00560902002663123 and parameters: {'kernel': 'rbf', 'C': 0.07526516853503316, 'gamma': 0.013633217756401677, 'epsilon': 0.001916954737945362}. Best is trial 1308 with value: -0.005520821931362491.\u001b[0m\n",
      "\u001b[32m[I 2022-08-05 13:11:47,242]\u001b[0m Trial 1399 finished with value: -0.005534299754207257 and parameters: {'kernel': 'rbf', 'C': 0.12383505267033866, 'gamma': 0.015939463294840518, 'epsilon': 0.0019529544301828282}. Best is trial 1308 with value: -0.005520821931362491.\u001b[0m\n",
      "\u001b[32m[I 2022-08-05 13:11:47,598]\u001b[0m Trial 1400 finished with value: -0.005532279884916813 and parameters: {'kernel': 'rbf', 'C': 0.12308802577392387, 'gamma': 0.016264081071269317, 'epsilon': 0.0019312143715989856}. Best is trial 1308 with value: -0.005520821931362491.\u001b[0m\n",
      "\u001b[32m[I 2022-08-05 13:11:48,634]\u001b[0m Trial 1401 finished with value: -0.005530737056255491 and parameters: {'kernel': 'rbf', 'C': 0.13160154583113828, 'gamma': 0.016116788496089562, 'epsilon': 0.001991362937297939}. Best is trial 1308 with value: -0.005520821931362491.\u001b[0m\n",
      "\u001b[32m[I 2022-08-05 13:11:51,077]\u001b[0m Trial 1402 finished with value: -0.005529702587104889 and parameters: {'kernel': 'rbf', 'C': 0.12747037045592668, 'gamma': 0.016333615262083215, 'epsilon': 0.0019363388006392137}. Best is trial 1308 with value: -0.005520821931362491.\u001b[0m\n",
      "\u001b[32m[I 2022-08-05 13:11:53,685]\u001b[0m Trial 1403 finished with value: -0.005577019006827352 and parameters: {'kernel': 'rbf', 'C': 0.1363534270916378, 'gamma': 0.010859679155883655, 'epsilon': 0.0017120033508944653}. Best is trial 1308 with value: -0.005520821931362491.\u001b[0m\n",
      "\u001b[32m[I 2022-08-05 13:11:55,232]\u001b[0m Trial 1404 finished with value: -0.005579128375194423 and parameters: {'kernel': 'rbf', 'C': 0.1448051127636582, 'gamma': 0.022354858410641172, 'epsilon': 0.0016667064101420594}. Best is trial 1308 with value: -0.005520821931362491.\u001b[0m\n",
      "\u001b[32m[I 2022-08-05 13:11:55,881]\u001b[0m Trial 1405 finished with value: -0.005593640747010686 and parameters: {'kernel': 'rbf', 'C': 0.15633519590279696, 'gamma': 0.009385105383598288, 'epsilon': 0.0016702031111210322}. Best is trial 1308 with value: -0.005520821931362491.\u001b[0m\n",
      "\u001b[32m[I 2022-08-05 13:11:58,186]\u001b[0m Trial 1406 finished with value: -0.005561273070387206 and parameters: {'kernel': 'rbf', 'C': 0.15504341746891018, 'gamma': 0.011048803359305436, 'epsilon': 0.0016960084170635588}. Best is trial 1308 with value: -0.005520821931362491.\u001b[0m\n",
      "\u001b[32m[I 2022-08-05 13:12:02,827]\u001b[0m Trial 1407 finished with value: -0.005600752995001666 and parameters: {'kernel': 'rbf', 'C': 0.1639103541554457, 'gamma': 0.02228439648148343, 'epsilon': 0.0013927495899721469}. Best is trial 1308 with value: -0.005520821931362491.\u001b[0m\n",
      "\u001b[32m[I 2022-08-05 13:12:03,494]\u001b[0m Trial 1408 finished with value: -0.005603750199203188 and parameters: {'kernel': 'rbf', 'C': 0.1610271702889737, 'gamma': 0.008770193098863526, 'epsilon': 0.001373866982964916}. Best is trial 1308 with value: -0.005520821931362491.\u001b[0m\n",
      "\u001b[32m[I 2022-08-05 13:12:03,769]\u001b[0m Trial 1409 finished with value: -0.00554541150370852 and parameters: {'kernel': 'rbf', 'C': 0.1108694581497781, 'gamma': 0.014045382995537467, 'epsilon': 0.0014096184379379123}. Best is trial 1308 with value: -0.005520821931362491.\u001b[0m\n",
      "\u001b[32m[I 2022-08-05 13:12:06,239]\u001b[0m Trial 1410 finished with value: -0.005529085897730373 and parameters: {'kernel': 'rbf', 'C': 0.10739907659646417, 'gamma': 0.017883856732630574, 'epsilon': 0.0013466828383768325}. Best is trial 1308 with value: -0.005520821931362491.\u001b[0m\n"
     ]
    },
    {
     "name": "stderr",
     "output_type": "stream",
     "text": [
      "\u001b[32m[I 2022-08-05 13:12:09,821]\u001b[0m Trial 1411 finished with value: -0.005544080147754863 and parameters: {'kernel': 'rbf', 'C': 0.11165021078350092, 'gamma': 0.014028332664612862, 'epsilon': 0.0013591045585755082}. Best is trial 1308 with value: -0.005520821931362491.\u001b[0m\n",
      "\u001b[32m[I 2022-08-05 13:12:10,694]\u001b[0m Trial 1413 finished with value: -0.005857567618874201 and parameters: {'kernel': 'rbf', 'C': 0.08719511005607397, 'gamma': 0.0049526381533404485, 'epsilon': 0.0011547132456174115}. Best is trial 1308 with value: -0.005520821931362491.\u001b[0m\n",
      "\u001b[32m[I 2022-08-05 13:12:11,296]\u001b[0m Trial 1412 finished with value: -0.005547314373409255 and parameters: {'kernel': 'rbf', 'C': 0.10888911839124522, 'gamma': 0.014578806853645166, 'epsilon': 0.0011254567014666549}. Best is trial 1308 with value: -0.005520821931362491.\u001b[0m\n",
      "\u001b[32m[I 2022-08-05 13:12:12,583]\u001b[0m Trial 1414 finished with value: -0.0055578693452593255 and parameters: {'kernel': 'rbf', 'C': 0.2026630447378646, 'gamma': 0.014762602865000515, 'epsilon': 0.002304650803777478}. Best is trial 1308 with value: -0.005520821931362491.\u001b[0m\n",
      "\u001b[32m[I 2022-08-05 13:12:15,746]\u001b[0m Trial 1415 finished with value: -0.005575522329350766 and parameters: {'kernel': 'rbf', 'C': 0.19482411550665912, 'gamma': 0.017642130859344636, 'epsilon': 0.002232839277311188}. Best is trial 1308 with value: -0.005520821931362491.\u001b[0m\n",
      "\u001b[32m[I 2022-08-05 13:12:16,253]\u001b[0m Trial 1416 finished with value: -0.005544286050610694 and parameters: {'kernel': 'rbf', 'C': 0.13267896357409897, 'gamma': 0.01769898527194256, 'epsilon': 0.0022389518337745887}. Best is trial 1308 with value: -0.005520821931362491.\u001b[0m\n",
      "\u001b[32m[I 2022-08-05 13:12:17,144]\u001b[0m Trial 1418 finished with value: -0.005698173822527391 and parameters: {'kernel': 'rbf', 'C': 0.13597234826043245, 'gamma': 0.01799369390344109, 'epsilon': 0.0038626354342507227}. Best is trial 1308 with value: -0.005520821931362491.\u001b[0m\n",
      "\u001b[32m[I 2022-08-05 13:12:17,531]\u001b[0m Trial 1417 finished with value: -0.005572235988743915 and parameters: {'kernel': 'rbf', 'C': 0.19065404486862897, 'gamma': 0.017427931139830516, 'epsilon': 0.002220333164031968}. Best is trial 1308 with value: -0.005520821931362491.\u001b[0m\n",
      "\u001b[32m[I 2022-08-05 13:12:23,659]\u001b[0m Trial 1419 finished with value: -0.005556140490952919 and parameters: {'kernel': 'rbf', 'C': 0.14385500636700688, 'gamma': 0.020360164836848677, 'epsilon': 0.0015500023708041623}. Best is trial 1308 with value: -0.005520821931362491.\u001b[0m\n",
      "\u001b[32m[I 2022-08-05 13:12:23,686]\u001b[0m Trial 1420 finished with value: -0.005552501720313659 and parameters: {'kernel': 'rbf', 'C': 0.1431696748891558, 'gamma': 0.020448525516533922, 'epsilon': 0.0015383527498528532}. Best is trial 1308 with value: -0.005520821931362491.\u001b[0m\n",
      "\u001b[32m[I 2022-08-05 13:12:24,940]\u001b[0m Trial 1421 finished with value: -0.00556325272029086 and parameters: {'kernel': 'rbf', 'C': 0.1484422921198934, 'gamma': 0.02092186451933087, 'epsilon': 0.0015509763089389718}. Best is trial 1308 with value: -0.005520821931362491.\u001b[0m\n",
      "\u001b[32m[I 2022-08-05 13:12:25,424]\u001b[0m Trial 1422 finished with value: -0.005551950694594194 and parameters: {'kernel': 'rbf', 'C': 0.1455401293462007, 'gamma': 0.011686858063778317, 'epsilon': 0.001549100465637452}. Best is trial 1308 with value: -0.005520821931362491.\u001b[0m\n",
      "\u001b[32m[I 2022-08-05 13:12:28,875]\u001b[0m Trial 1423 finished with value: -0.005652476189205729 and parameters: {'kernel': 'rbf', 'C': 0.06490268802816222, 'gamma': 0.0128780451527434, 'epsilon': 0.001793285249268167}. Best is trial 1308 with value: -0.005520821931362491.\u001b[0m\n",
      "\u001b[32m[I 2022-08-05 13:12:29,528]\u001b[0m Trial 1424 finished with value: -0.0055630811417860405 and parameters: {'kernel': 'rbf', 'C': 0.1197343744077286, 'gamma': 0.012221547702346925, 'epsilon': 0.001754260811928599}. Best is trial 1308 with value: -0.005520821931362491.\u001b[0m\n",
      "\u001b[32m[I 2022-08-05 13:12:30,598]\u001b[0m Trial 1425 finished with value: -0.00560164153942014 and parameters: {'kernel': 'rbf', 'C': 0.09017172894370032, 'gamma': 0.012204355182260623, 'epsilon': 0.0018571804492265537}. Best is trial 1308 with value: -0.005520821931362491.\u001b[0m\n",
      "\u001b[32m[I 2022-08-05 13:12:31,930]\u001b[0m Trial 1426 finished with value: -0.005894686296985591 and parameters: {'kernel': 'rbf', 'C': 0.1186963251195971, 'gamma': 0.05991778834853953, 'epsilon': 0.0018151109097158883}. Best is trial 1308 with value: -0.005520821931362491.\u001b[0m\n",
      "\u001b[32m[I 2022-08-05 13:12:37,401]\u001b[0m Trial 1428 finished with value: -0.005563589261037647 and parameters: {'kernel': 'rbf', 'C': 0.08251652454750236, 'gamma': 0.015981872813191633, 'epsilon': 0.0012534805903759597}. Best is trial 1308 with value: -0.005520821931362491.\u001b[0m\n",
      "\u001b[32m[I 2022-08-05 13:12:37,715]\u001b[0m Trial 1427 finished with value: -0.005698794294248064 and parameters: {'kernel': 'rbf', 'C': 0.12284774574103474, 'gamma': 0.0326965093592352, 'epsilon': 0.0012461530627402922}. Best is trial 1308 with value: -0.005520821931362491.\u001b[0m\n",
      "\u001b[32m[I 2022-08-05 13:12:39,629]\u001b[0m Trial 1429 finished with value: -0.005536083413000792 and parameters: {'kernel': 'rbf', 'C': 0.17056233525661796, 'gamma': 0.015615907865274175, 'epsilon': 0.001255247693103346}. Best is trial 1308 with value: -0.005520821931362491.\u001b[0m\n",
      "\u001b[32m[I 2022-08-05 13:12:42,089]\u001b[0m Trial 1430 finished with value: -0.005640240697653382 and parameters: {'kernel': 'rbf', 'C': 0.17167670553421827, 'gamma': 0.024414203681375122, 'epsilon': 0.0012591748119268541}. Best is trial 1308 with value: -0.005520821931362491.\u001b[0m\n",
      "\u001b[32m[I 2022-08-05 13:12:46,447]\u001b[0m Trial 1431 finished with value: -0.005534121732535074 and parameters: {'kernel': 'rbf', 'C': 0.16883762028098645, 'gamma': 0.015510139616285579, 'epsilon': 0.0012947648434570873}. Best is trial 1308 with value: -0.005520821931362491.\u001b[0m\n",
      "\u001b[32m[I 2022-08-05 13:12:46,841]\u001b[0m Trial 1432 finished with value: -0.005651563213432326 and parameters: {'kernel': 'rbf', 'C': 0.1651233852534613, 'gamma': 0.025746001946431778, 'epsilon': 0.0014360428739737235}. Best is trial 1308 with value: -0.005520821931362491.\u001b[0m\n",
      "\u001b[32m[I 2022-08-05 13:12:47,530]\u001b[0m Trial 1433 finished with value: -0.005577668747204624 and parameters: {'kernel': 'rbf', 'C': 0.10162528948911977, 'gamma': 0.025466202175919085, 'epsilon': 0.0014422931371603834}. Best is trial 1308 with value: -0.005520821931362491.\u001b[0m\n",
      "\u001b[32m[I 2022-08-05 13:12:49,691]\u001b[0m Trial 1434 finished with value: -0.005540800616415261 and parameters: {'kernel': 'rbf', 'C': 0.10350894456887164, 'gamma': 0.015296436449503036, 'epsilon': 0.0014692456662003894}. Best is trial 1308 with value: -0.005520821931362491.\u001b[0m\n",
      "\u001b[32m[I 2022-08-05 13:12:53,687]\u001b[0m Trial 1435 finished with value: -0.0055303258463759285 and parameters: {'kernel': 'rbf', 'C': 0.10249327650447311, 'gamma': 0.018675405968883035, 'epsilon': 0.0014757453172019779}. Best is trial 1308 with value: -0.005520821931362491.\u001b[0m\n",
      "\u001b[32m[I 2022-08-05 13:12:55,217]\u001b[0m Trial 1436 finished with value: -0.005544697181307694 and parameters: {'kernel': 'rbf', 'C': 0.09958631719211448, 'gamma': 0.019534416636539566, 'epsilon': 0.0010160468832025264}. Best is trial 1308 with value: -0.005520821931362491.\u001b[0m\n",
      "\u001b[32m[I 2022-08-05 13:12:56,631]\u001b[0m Trial 1437 finished with value: -0.00555141578249241 and parameters: {'kernel': 'rbf', 'C': 0.12102622588776173, 'gamma': 0.013635870189922223, 'epsilon': 0.0010038154861840216}. Best is trial 1308 with value: -0.005520821931362491.\u001b[0m\n",
      "\u001b[32m[I 2022-08-05 13:12:57,088]\u001b[0m Trial 1438 finished with value: -0.005545026848134623 and parameters: {'kernel': 'rbf', 'C': 0.1308588232043574, 'gamma': 0.01304189631409851, 'epsilon': 0.001676236291388324}. Best is trial 1308 with value: -0.005520821931362491.\u001b[0m\n",
      "\u001b[32m[I 2022-08-05 13:13:00,289]\u001b[0m Trial 1439 finished with value: -0.005538953587663718 and parameters: {'kernel': 'rbf', 'C': 0.1319888630194475, 'gamma': 0.013551336414923162, 'epsilon': 0.0016948909370320482}. Best is trial 1308 with value: -0.005520821931362491.\u001b[0m\n",
      "\u001b[32m[I 2022-08-05 13:13:02,106]\u001b[0m Trial 1440 finished with value: -0.005542774834464184 and parameters: {'kernel': 'rbf', 'C': 0.13391834802516106, 'gamma': 0.013402569198188106, 'epsilon': 0.0017066065111236452}. Best is trial 1308 with value: -0.005520821931362491.\u001b[0m\n"
     ]
    },
    {
     "name": "stderr",
     "output_type": "stream",
     "text": [
      "\u001b[32m[I 2022-08-05 13:13:03,899]\u001b[0m Trial 1442 finished with value: -0.005533826487150755 and parameters: {'kernel': 'rbf', 'C': 0.1391383574873956, 'gamma': 0.01681508589687171, 'epsilon': 0.0020572645322841057}. Best is trial 1308 with value: -0.005520821931362491.\u001b[0m\n",
      "\u001b[32m[I 2022-08-05 13:13:07,685]\u001b[0m Trial 1443 finished with value: -0.005534203862889028 and parameters: {'kernel': 'rbf', 'C': 0.14711487405741652, 'gamma': 0.01685442352498169, 'epsilon': 0.001962449875244471}. Best is trial 1308 with value: -0.005520821931362491.\u001b[0m\n",
      "\u001b[32m[I 2022-08-05 13:13:09,778]\u001b[0m Trial 1444 finished with value: -0.005536611045957396 and parameters: {'kernel': 'rbf', 'C': 0.15054839886358165, 'gamma': 0.016989225821376748, 'epsilon': 0.0020284976392612483}. Best is trial 1308 with value: -0.005520821931362491.\u001b[0m\n",
      "\u001b[32m[I 2022-08-05 13:13:10,472]\u001b[0m Trial 1446 finished with value: -0.009785630494602031 and parameters: {'kernel': 'rbf', 'C': 0.11640499964470644, 'gamma': 0.020317559958655633, 'epsilon': 0.014585765316423138}. Best is trial 1308 with value: -0.005520821931362491.\u001b[0m\n",
      "\u001b[32m[I 2022-08-05 13:13:12,140]\u001b[0m Trial 1445 finished with value: -0.005608782919267794 and parameters: {'kernel': 'rbf', 'C': 0.11461453701202141, 'gamma': 0.010601389617830647, 'epsilon': 0.0011404142416231698}. Best is trial 1308 with value: -0.005520821931362491.\u001b[0m\n",
      "\u001b[32m[I 2022-08-05 13:13:18,588]\u001b[0m Trial 1441 finished with value: -0.006133218283276188 and parameters: {'kernel': 'rbf', 'C': 1.9960018106785788, 'gamma': 0.016661066077875264, 'epsilon': 0.0017098406644667676}. Best is trial 1308 with value: -0.005520821931362491.\u001b[0m\n",
      "\u001b[32m[I 2022-08-05 13:13:19,195]\u001b[0m Trial 1447 finished with value: -0.005544898446710757 and parameters: {'kernel': 'rbf', 'C': 0.11510036161425126, 'gamma': 0.02087073463765018, 'epsilon': 0.001120615077983807}. Best is trial 1308 with value: -0.005520821931362491.\u001b[0m\n",
      "\u001b[32m[I 2022-08-05 13:13:19,224]\u001b[0m Trial 1449 finished with value: -0.005684809543339041 and parameters: {'kernel': 'rbf', 'C': 0.19053807517110966, 'gamma': 0.022127423570631508, 'epsilon': 0.0026578028766658874}. Best is trial 1308 with value: -0.005520821931362491.\u001b[0m\n",
      "\u001b[32m[I 2022-08-05 13:13:19,988]\u001b[0m Trial 1448 finished with value: -0.005544331931310543 and parameters: {'kernel': 'rbf', 'C': 0.19087985493538528, 'gamma': 0.015169543610870381, 'epsilon': 0.0011256796601207574}. Best is trial 1308 with value: -0.005520821931362491.\u001b[0m\n",
      "\u001b[32m[I 2022-08-05 13:13:22,626]\u001b[0m Trial 1450 finished with value: -0.005669482644783355 and parameters: {'kernel': 'rbf', 'C': 0.16346698380099292, 'gamma': 0.022615922361237353, 'epsilon': 0.0026985240732589045}. Best is trial 1308 with value: -0.005520821931362491.\u001b[0m\n",
      "\u001b[32m[I 2022-08-05 13:13:27,099]\u001b[0m Trial 1452 finished with value: -0.005525976662405414 and parameters: {'kernel': 'rbf', 'C': 0.16243500438820163, 'gamma': 0.01517095148207415, 'epsilon': 0.0014801598218932106}. Best is trial 1308 with value: -0.005520821931362491.\u001b[0m\n",
      "\u001b[32m[I 2022-08-05 13:13:27,525]\u001b[0m Trial 1451 finished with value: -0.005538329337013769 and parameters: {'kernel': 'rbf', 'C': 0.1940940952295071, 'gamma': 0.015364594362025353, 'epsilon': 0.0014620377814454164}. Best is trial 1308 with value: -0.005520821931362491.\u001b[0m\n",
      "\u001b[32m[I 2022-08-05 13:13:27,753]\u001b[0m Trial 1453 finished with value: -0.005539645569038756 and parameters: {'kernel': 'rbf', 'C': 0.08980377821431286, 'gamma': 0.018433859582388003, 'epsilon': 0.0014567783089898972}. Best is trial 1308 with value: -0.005520821931362491.\u001b[0m\n",
      "\u001b[32m[I 2022-08-05 13:13:29,690]\u001b[0m Trial 1454 finished with value: -0.005570792553261162 and parameters: {'kernel': 'rbf', 'C': 0.08562523702516522, 'gamma': 0.014465002435837506, 'epsilon': 0.0015159910303908556}. Best is trial 1308 with value: -0.005520821931362491.\u001b[0m\n",
      "\u001b[32m[I 2022-08-05 13:13:33,903]\u001b[0m Trial 1455 finished with value: -0.005541047971828483 and parameters: {'kernel': 'rbf', 'C': 0.09070606398704907, 'gamma': 0.018758873333103443, 'epsilon': 0.0013309594341300536}. Best is trial 1308 with value: -0.005520821931362491.\u001b[0m\n",
      "\u001b[32m[I 2022-08-05 13:13:34,723]\u001b[0m Trial 1457 finished with value: -0.005561923973685581 and parameters: {'kernel': 'rbf', 'C': 0.13075242234787557, 'gamma': 0.012000934513284009, 'epsilon': 0.001831419668580799}. Best is trial 1308 with value: -0.005520821931362491.\u001b[0m\n",
      "\u001b[32m[I 2022-08-05 13:13:35,296]\u001b[0m Trial 1456 finished with value: -0.005533625868425545 and parameters: {'kernel': 'rbf', 'C': 0.13953067070992045, 'gamma': 0.01837469805663039, 'epsilon': 0.0013344674779042734}. Best is trial 1308 with value: -0.005520821931362491.\u001b[0m\n",
      "\u001b[32m[I 2022-08-05 13:13:36,570]\u001b[0m Trial 1458 finished with value: -0.005556672768376691 and parameters: {'kernel': 'rbf', 'C': 0.1354319847953753, 'gamma': 0.012165614179457678, 'epsilon': 0.0018215429108178265}. Best is trial 1308 with value: -0.005520821931362491.\u001b[0m\n",
      "\u001b[32m[I 2022-08-05 13:13:39,756]\u001b[0m Trial 1459 finished with value: -0.005570877087751415 and parameters: {'kernel': 'rbf', 'C': 0.13189757534897828, 'gamma': 0.011579958190205929, 'epsilon': 0.0018867774552256448}. Best is trial 1308 with value: -0.005520821931362491.\u001b[0m\n",
      "\u001b[32m[I 2022-08-05 13:13:40,866]\u001b[0m Trial 1460 finished with value: -0.005570709082753812 and parameters: {'kernel': 'rbf', 'C': 0.14678904183499356, 'gamma': 0.010938913990143849, 'epsilon': 0.001825325922706567}. Best is trial 1308 with value: -0.005520821931362491.\u001b[0m\n",
      "\u001b[32m[I 2022-08-05 13:13:41,669]\u001b[0m Trial 1461 finished with value: -0.006456572101380577 and parameters: {'kernel': 'poly', 'C': 0.12065390274189002, 'gamma': 0.01345087065224758, 'epsilon': 0.00164692372549798}. Best is trial 1308 with value: -0.005520821931362491.\u001b[0m\n",
      "\u001b[32m[I 2022-08-05 13:13:42,528]\u001b[0m Trial 1462 finished with value: -0.006557747064570647 and parameters: {'kernel': 'poly', 'C': 0.11609776533165993, 'gamma': 0.010024694282562875, 'epsilon': 0.0016845491391245784}. Best is trial 1308 with value: -0.005520821931362491.\u001b[0m\n",
      "\u001b[32m[I 2022-08-05 13:13:46,255]\u001b[0m Trial 1463 finished with value: -0.006462650208072238 and parameters: {'kernel': 'poly', 'C': 0.11331396785692072, 'gamma': 0.013949763248403139, 'epsilon': 0.0016035913781385623}. Best is trial 1308 with value: -0.005520821931362491.\u001b[0m\n",
      "\u001b[32m[I 2022-08-05 13:13:47,318]\u001b[0m Trial 1464 finished with value: -0.006450126033037051 and parameters: {'kernel': 'poly', 'C': 0.11229130442650471, 'gamma': 0.014382735363354361, 'epsilon': 0.0016198730297723647}. Best is trial 1308 with value: -0.005520821931362491.\u001b[0m\n",
      "\u001b[32m[I 2022-08-05 13:13:48,693]\u001b[0m Trial 1465 finished with value: -0.005531937241812694 and parameters: {'kernel': 'rbf', 'C': 0.10783280157137946, 'gamma': 0.01642513713759678, 'epsilon': 0.001628119750772161}. Best is trial 1308 with value: -0.005520821931362491.\u001b[0m\n",
      "\u001b[32m[I 2022-08-05 13:13:48,888]\u001b[0m Trial 1466 finished with value: -0.0055519596174768435 and parameters: {'kernel': 'rbf', 'C': 0.15757920199411182, 'gamma': 0.01723238855526441, 'epsilon': 0.0022202648667282846}. Best is trial 1308 with value: -0.005520821931362491.\u001b[0m\n",
      "\u001b[32m[I 2022-08-05 13:13:52,136]\u001b[0m Trial 1467 finished with value: -0.005544845298258865 and parameters: {'kernel': 'rbf', 'C': 0.15980022499757168, 'gamma': 0.016359737655180537, 'epsilon': 0.002206888455213948}. Best is trial 1308 with value: -0.005520821931362491.\u001b[0m\n",
      "\u001b[32m[I 2022-08-05 13:13:53,104]\u001b[0m Trial 1468 finished with value: -0.005543643968686202 and parameters: {'kernel': 'rbf', 'C': 0.15854865942065297, 'gamma': 0.016579128229646318, 'epsilon': 0.002211978544345506}. Best is trial 1308 with value: -0.005520821931362491.\u001b[0m\n",
      "\u001b[32m[I 2022-08-05 13:13:54,838]\u001b[0m Trial 1469 finished with value: -0.005592341736021577 and parameters: {'kernel': 'rbf', 'C': 0.15862485386442304, 'gamma': 0.02017845341400653, 'epsilon': 0.0022225916098467927}. Best is trial 1308 with value: -0.005520821931362491.\u001b[0m\n",
      "\u001b[32m[I 2022-08-05 13:13:55,957]\u001b[0m Trial 1470 finished with value: -0.005559728569455524 and parameters: {'kernel': 'rbf', 'C': 0.0754160975645366, 'gamma': 0.019847340458209833, 'epsilon': 0.0012550542560560251}. Best is trial 1308 with value: -0.005520821931362491.\u001b[0m\n"
     ]
    },
    {
     "name": "stderr",
     "output_type": "stream",
     "text": [
      "\u001b[32m[I 2022-08-05 13:14:01,966]\u001b[0m Trial 1471 finished with value: -0.005552426071732445 and parameters: {'kernel': 'rbf', 'C': 0.1743526501041977, 'gamma': 0.017917838847419865, 'epsilon': 0.001254911244828125}. Best is trial 1308 with value: -0.005520821931362491.\u001b[0m\n",
      "\u001b[32m[I 2022-08-05 13:14:02,328]\u001b[0m Trial 1472 finished with value: -0.005545933151620273 and parameters: {'kernel': 'rbf', 'C': 0.12850297002153163, 'gamma': 0.020310668823696473, 'epsilon': 0.0012551008889870759}. Best is trial 1308 with value: -0.005520821931362491.\u001b[0m\n",
      "\u001b[32m[I 2022-08-05 13:14:03,522]\u001b[0m Trial 1473 finished with value: -0.005558958105315151 and parameters: {'kernel': 'rbf', 'C': 0.1281238612091867, 'gamma': 0.021756158918589626, 'epsilon': 0.0012667342095403968}. Best is trial 1308 with value: -0.005520821931362491.\u001b[0m\n",
      "\u001b[32m[I 2022-08-05 13:14:10,724]\u001b[0m Trial 1476 finished with value: -0.005559895114769009 and parameters: {'kernel': 'rbf', 'C': 0.09363667724251443, 'gamma': 0.024311321739854647, 'epsilon': 0.001403773441510138}. Best is trial 1308 with value: -0.005520821931362491.\u001b[0m\n",
      "\u001b[32m[I 2022-08-05 13:14:11,265]\u001b[0m Trial 1475 finished with value: -0.005548526829216102 and parameters: {'kernel': 'rbf', 'C': 0.09581866495637305, 'gamma': 0.02211253822493193, 'epsilon': 0.0011186274294714416}. Best is trial 1308 with value: -0.005520821931362491.\u001b[0m\n",
      "\u001b[32m[I 2022-08-05 13:14:12,800]\u001b[0m Trial 1474 finished with value: -0.005832013971296018 and parameters: {'kernel': 'rbf', 'C': 0.5733448615555756, 'gamma': 0.021820129495606785, 'epsilon': 0.0011384287793692394}. Best is trial 1308 with value: -0.005520821931362491.\u001b[0m\n",
      "\u001b[32m[I 2022-08-05 13:14:13,007]\u001b[0m Trial 1477 finished with value: -0.005570877822192429 and parameters: {'kernel': 'rbf', 'C': 0.09952456621574117, 'gamma': 0.02446506599962606, 'epsilon': 0.0010158948487298826}. Best is trial 1308 with value: -0.005520821931362491.\u001b[0m\n",
      "\u001b[32m[I 2022-08-05 13:14:17,345]\u001b[0m Trial 1478 finished with value: -0.0055411357664527355 and parameters: {'kernel': 'rbf', 'C': 0.1012233914444791, 'gamma': 0.015000280800709372, 'epsilon': 0.0014649615174992731}. Best is trial 1308 with value: -0.005520821931362491.\u001b[0m\n",
      "\u001b[32m[I 2022-08-05 13:14:17,494]\u001b[0m Trial 1479 finished with value: -0.005532551624755179 and parameters: {'kernel': 'rbf', 'C': 0.14111816701149893, 'gamma': 0.014793318915391486, 'epsilon': 0.0019503916443633878}. Best is trial 1308 with value: -0.005520821931362491.\u001b[0m\n",
      "\u001b[32m[I 2022-08-05 13:14:19,269]\u001b[0m Trial 1480 finished with value: -0.005535636788435592 and parameters: {'kernel': 'rbf', 'C': 0.14460014346811806, 'gamma': 0.014540507588265267, 'epsilon': 0.001960770480134261}. Best is trial 1308 with value: -0.005520821931362491.\u001b[0m\n",
      "\u001b[32m[I 2022-08-05 13:14:19,646]\u001b[0m Trial 1481 finished with value: -0.005544975034917367 and parameters: {'kernel': 'rbf', 'C': 0.14319947552680723, 'gamma': 0.013470645277366388, 'epsilon': 0.0019627751640061857}. Best is trial 1308 with value: -0.005520821931362491.\u001b[0m\n",
      "\u001b[32m[I 2022-08-05 13:14:23,762]\u001b[0m Trial 1482 finished with value: -0.005553955237232896 and parameters: {'kernel': 'rbf', 'C': 0.14401675651267085, 'gamma': 0.012454228457797078, 'epsilon': 0.0019744139234757177}. Best is trial 1308 with value: -0.005520821931362491.\u001b[0m\n",
      "\u001b[32m[I 2022-08-05 13:14:25,235]\u001b[0m Trial 1483 finished with value: -0.005537348646367662 and parameters: {'kernel': 'rbf', 'C': 0.20654116743124, 'gamma': 0.013217883516120913, 'epsilon': 0.0015506924196139404}. Best is trial 1308 with value: -0.005520821931362491.\u001b[0m\n",
      "\u001b[32m[I 2022-08-05 13:14:26,715]\u001b[0m Trial 1484 finished with value: -0.005559494990615092 and parameters: {'kernel': 'rbf', 'C': 0.12129231896408466, 'gamma': 0.012383219077510575, 'epsilon': 0.0015650871840053912}. Best is trial 1308 with value: -0.005520821931362491.\u001b[0m\n",
      "\u001b[32m[I 2022-08-05 13:14:28,000]\u001b[0m Trial 1485 finished with value: -0.0055603498108711385 and parameters: {'kernel': 'rbf', 'C': 0.20422329698302713, 'gamma': 0.01759463654516186, 'epsilon': 0.001587405849015202}. Best is trial 1308 with value: -0.005520821931362491.\u001b[0m\n",
      "\u001b[32m[I 2022-08-05 13:14:29,861]\u001b[0m Trial 1487 finished with value: -0.0056106327513663345 and parameters: {'kernel': 'rbf', 'C': 0.12157885842765316, 'gamma': 0.018331083024010455, 'epsilon': 0.003103010758036157}. Best is trial 1308 with value: -0.005520821931362491.\u001b[0m\n",
      "\u001b[32m[I 2022-08-05 13:14:30,993]\u001b[0m Trial 1486 finished with value: -0.005527662860006688 and parameters: {'kernel': 'rbf', 'C': 0.12186154038496448, 'gamma': 0.018834687097756386, 'epsilon': 0.0015790402995841993}. Best is trial 1308 with value: -0.005520821931362491.\u001b[0m\n",
      "\u001b[32m[I 2022-08-05 13:14:35,996]\u001b[0m Trial 1488 finished with value: -0.005558701092862013 and parameters: {'kernel': 'rbf', 'C': 0.18690864517500433, 'gamma': 0.018235573606059444, 'epsilon': 0.0013710020757563626}. Best is trial 1308 with value: -0.005520821931362491.\u001b[0m\n",
      "\u001b[32m[I 2022-08-05 13:14:37,396]\u001b[0m Trial 1489 finished with value: -0.0055614909491993785 and parameters: {'kernel': 'rbf', 'C': 0.18166212816198252, 'gamma': 0.018735823425036907, 'epsilon': 0.0013699387633019974}. Best is trial 1308 with value: -0.005520821931362491.\u001b[0m\n",
      "\u001b[32m[I 2022-08-05 13:14:39,552]\u001b[0m Trial 1493 finished with value: -0.04558449770905386 and parameters: {'kernel': 'rbf', 'C': 0.10755286389026676, 'gamma': 0.015688743564780557, 'epsilon': 0.20823903598475144}. Best is trial 1308 with value: -0.005520821931362491.\u001b[0m\n",
      "\u001b[32m[I 2022-08-05 13:14:39,848]\u001b[0m Trial 1490 finished with value: -0.005725645680654707 and parameters: {'kernel': 'rbf', 'C': 0.18242570162772612, 'gamma': 0.03053632495079875, 'epsilon': 0.0013699936112487221}. Best is trial 1308 with value: -0.005520821931362491.\u001b[0m\n",
      "\u001b[32m[I 2022-08-05 13:14:39,976]\u001b[0m Trial 1491 finished with value: -0.0055367003713471695 and parameters: {'kernel': 'rbf', 'C': 0.17151843306571132, 'gamma': 0.016231024059763965, 'epsilon': 0.0013587406212613536}. Best is trial 1308 with value: -0.005520821931362491.\u001b[0m\n",
      "\u001b[32m[I 2022-08-05 13:14:44,670]\u001b[0m Trial 1492 finished with value: -0.005536232374028375 and parameters: {'kernel': 'rbf', 'C': 0.17582601393802585, 'gamma': 0.015873263168582875, 'epsilon': 0.0013474557884589056}. Best is trial 1308 with value: -0.005520821931362491.\u001b[0m\n",
      "\u001b[32m[I 2022-08-05 13:14:46,402]\u001b[0m Trial 1494 finished with value: -0.005526630335185029 and parameters: {'kernel': 'rbf', 'C': 0.15101357794978698, 'gamma': 0.015812259900391028, 'epsilon': 0.0017424268296104672}. Best is trial 1308 with value: -0.005520821931362491.\u001b[0m\n",
      "\u001b[32m[I 2022-08-05 13:14:47,043]\u001b[0m Trial 1495 finished with value: -0.005532138812278933 and parameters: {'kernel': 'rbf', 'C': 0.15762173060171114, 'gamma': 0.015910285191438008, 'epsilon': 0.0018222865365370006}. Best is trial 1308 with value: -0.005520821931362491.\u001b[0m\n",
      "\u001b[32m[I 2022-08-05 13:14:47,769]\u001b[0m Trial 1496 finished with value: -0.005564786171241643 and parameters: {'kernel': 'rbf', 'C': 0.2481061632070606, 'gamma': 0.010558685260213009, 'epsilon': 0.0017525759440890506}. Best is trial 1308 with value: -0.005520821931362491.\u001b[0m\n",
      "\u001b[32m[I 2022-08-05 13:14:50,548]\u001b[0m Trial 1497 finished with value: -0.005617166482852834 and parameters: {'kernel': 'rbf', 'C': 0.13122375747801343, 'gamma': 0.009231746149465984, 'epsilon': 0.0017857113941710941}. Best is trial 1308 with value: -0.005520821931362491.\u001b[0m\n",
      "\u001b[32m[I 2022-08-05 13:14:51,238]\u001b[0m Trial 1498 finished with value: -0.005652664253022829 and parameters: {'kernel': 'rbf', 'C': 0.1285323481850973, 'gamma': 0.00887023372882914, 'epsilon': 0.0024422584399186363}. Best is trial 1308 with value: -0.005520821931362491.\u001b[0m\n",
      "\u001b[32m[I 2022-08-05 13:14:52,016]\u001b[0m Trial 1499 finished with value: -0.005608132245397233 and parameters: {'kernel': 'rbf', 'C': 0.1260296275048499, 'gamma': 0.011143733686822057, 'epsilon': 0.0024350947465387554}. Best is trial 1308 with value: -0.005520821931362491.\u001b[0m\n",
      "\u001b[32m[I 2022-08-05 13:14:57,194]\u001b[0m Trial 1500 finished with value: -0.005550140141466467 and parameters: {'kernel': 'rbf', 'C': 0.13406895180851724, 'gamma': 0.013326651986627873, 'epsilon': 0.0010072515731691608}. Best is trial 1308 with value: -0.005520821931362491.\u001b[0m\n"
     ]
    },
    {
     "name": "stderr",
     "output_type": "stream",
     "text": [
      "\u001b[32m[I 2022-08-05 13:14:58,723]\u001b[0m Trial 1502 finished with value: -0.00559902539938654 and parameters: {'kernel': 'rbf', 'C': 0.0799298359282888, 'gamma': 0.013729239530674474, 'epsilon': 0.0011568310560241947}. Best is trial 1308 with value: -0.005520821931362491.\u001b[0m\n",
      "\u001b[32m[I 2022-08-05 13:14:58,905]\u001b[0m Trial 1501 finished with value: -0.005559888189248118 and parameters: {'kernel': 'rbf', 'C': 0.10718955159972475, 'gamma': 0.013409682745561095, 'epsilon': 0.0010859836968824606}. Best is trial 1308 with value: -0.005520821931362491.\u001b[0m\n",
      "\u001b[32m[I 2022-08-05 13:15:00,271]\u001b[0m Trial 1503 finished with value: -0.005551860309984529 and parameters: {'kernel': 'rbf', 'C': 0.10937112294652743, 'gamma': 0.013760629991149924, 'epsilon': 0.0011744476774066496}. Best is trial 1308 with value: -0.005520821931362491.\u001b[0m\n",
      "\u001b[32m[I 2022-08-05 13:15:05,516]\u001b[0m Trial 1506 finished with value: -0.006072220860117178 and parameters: {'kernel': 'rbf', 'C': 0.10954968718884085, 'gamma': 0.0024762302851735543, 'epsilon': 0.0015580440419009254}. Best is trial 1308 with value: -0.005520821931362491.\u001b[0m\n",
      "\u001b[32m[I 2022-08-05 13:15:05,689]\u001b[0m Trial 1504 finished with value: -0.005538449267994716 and parameters: {'kernel': 'rbf', 'C': 0.10977976271638253, 'gamma': 0.019576364254319436, 'epsilon': 0.001123347615774783}. Best is trial 1308 with value: -0.005520821931362491.\u001b[0m\n",
      "\u001b[32m[I 2022-08-05 13:15:06,122]\u001b[0m Trial 1505 finished with value: -0.005530101456744793 and parameters: {'kernel': 'rbf', 'C': 0.10528554353063446, 'gamma': 0.019639822145757168, 'epsilon': 0.0015396423096503545}. Best is trial 1308 with value: -0.005520821931362491.\u001b[0m\n",
      "\u001b[32m[I 2022-08-05 13:15:06,695]\u001b[0m Trial 1508 finished with value: -0.014251578903459239 and parameters: {'kernel': 'rbf', 'C': 0.14859648334521683, 'gamma': 0.019751947453072044, 'epsilon': 0.021686287455640798}. Best is trial 1308 with value: -0.005520821931362491.\u001b[0m\n",
      "\u001b[32m[I 2022-08-05 13:15:08,127]\u001b[0m Trial 1507 finished with value: -0.005556044597044387 and parameters: {'kernel': 'rbf', 'C': 0.151878579741928, 'gamma': 0.02015401003743593, 'epsilon': 0.0015206508956915963}. Best is trial 1308 with value: -0.005520821931362491.\u001b[0m\n",
      "\u001b[32m[I 2022-08-05 13:15:12,804]\u001b[0m Trial 1510 finished with value: -0.005541432692091607 and parameters: {'kernel': 'rbf', 'C': 0.1484218250765829, 'gamma': 0.017523274785748142, 'epsilon': 0.002058347338912937}. Best is trial 1308 with value: -0.005520821931362491.\u001b[0m\n",
      "\u001b[32m[I 2022-08-05 13:15:13,019]\u001b[0m Trial 1509 finished with value: -0.005529303169723004 and parameters: {'kernel': 'rbf', 'C': 0.1498300650386598, 'gamma': 0.017309597255713845, 'epsilon': 0.0014908205664403997}. Best is trial 1308 with value: -0.005520821931362491.\u001b[0m\n",
      "\u001b[32m[I 2022-08-05 13:15:13,586]\u001b[0m Trial 1511 finished with value: -0.005615409185040923 and parameters: {'kernel': 'rbf', 'C': 0.1550616121801653, 'gamma': 0.022867725867526046, 'epsilon': 0.0020515370922767847}. Best is trial 1308 with value: -0.005520821931362491.\u001b[0m\n",
      "\u001b[32m[I 2022-08-05 13:15:14,269]\u001b[0m Trial 1512 finished with value: -0.005607705745366104 and parameters: {'kernel': 'rbf', 'C': 0.12768539171689525, 'gamma': 0.023963559505183436, 'epsilon': 0.0021027772316045685}. Best is trial 1308 with value: -0.005520821931362491.\u001b[0m\n",
      "\u001b[32m[I 2022-08-05 13:15:19,625]\u001b[0m Trial 1514 finished with value: -0.00559507074559406 and parameters: {'kernel': 'rbf', 'C': 0.12516239284800412, 'gamma': 0.02456056129140248, 'epsilon': 0.0017582531990184233}. Best is trial 1308 with value: -0.005520821931362491.\u001b[0m\n",
      "\u001b[32m[I 2022-08-05 13:15:19,625]\u001b[0m Trial 1513 finished with value: -0.00556948656781966 and parameters: {'kernel': 'rbf', 'C': 0.12034972815472406, 'gamma': 0.022916976830304088, 'epsilon': 0.0017217115516048704}. Best is trial 1308 with value: -0.005520821931362491.\u001b[0m\n",
      "\u001b[32m[I 2022-08-05 13:15:20,623]\u001b[0m Trial 1515 finished with value: -0.0056383169165784165 and parameters: {'kernel': 'rbf', 'C': 0.1211329210547364, 'gamma': 0.027888370356195513, 'epsilon': 0.001735268925736449}. Best is trial 1308 with value: -0.005520821931362491.\u001b[0m\n",
      "\u001b[32m[I 2022-08-05 13:15:21,369]\u001b[0m Trial 1516 finished with value: -0.005535534289198379 and parameters: {'kernel': 'rbf', 'C': 0.12469399926076319, 'gamma': 0.014760708818912015, 'epsilon': 0.001729604223176292}. Best is trial 1308 with value: -0.005520821931362491.\u001b[0m\n",
      "\u001b[32m[I 2022-08-05 13:15:26,874]\u001b[0m Trial 1518 finished with value: -0.005559444873160323 and parameters: {'kernel': 'rbf', 'C': 0.08737937710687387, 'gamma': 0.015021619483347744, 'epsilon': 0.001318683978223389}. Best is trial 1308 with value: -0.005520821931362491.\u001b[0m\n",
      "\u001b[32m[I 2022-08-05 13:15:27,195]\u001b[0m Trial 1517 finished with value: -0.005554202528624038 and parameters: {'kernel': 'rbf', 'C': 0.09136228930581933, 'gamma': 0.015129628579968453, 'epsilon': 0.0013222269580302167}. Best is trial 1308 with value: -0.005520821931362491.\u001b[0m\n",
      "\u001b[32m[I 2022-08-05 13:15:28,527]\u001b[0m Trial 1519 finished with value: -0.0055625288168534666 and parameters: {'kernel': 'rbf', 'C': 0.09049171352884613, 'gamma': 0.015108507656126594, 'epsilon': 0.001000894399008652}. Best is trial 1308 with value: -0.005520821931362491.\u001b[0m\n",
      "\u001b[32m[I 2022-08-05 13:15:29,095]\u001b[0m Trial 1520 finished with value: -0.005605645130177556 and parameters: {'kernel': 'rbf', 'C': 0.09408326887937109, 'gamma': 0.011714529070941584, 'epsilon': 0.0013115151631261982}. Best is trial 1308 with value: -0.005520821931362491.\u001b[0m\n",
      "\u001b[32m[I 2022-08-05 13:15:34,817]\u001b[0m Trial 1521 finished with value: -0.005615238863882016 and parameters: {'kernel': 'rbf', 'C': 0.09531145678261256, 'gamma': 0.011584602905186677, 'epsilon': 0.0010011311499384982}. Best is trial 1308 with value: -0.005520821931362491.\u001b[0m\n",
      "\u001b[32m[I 2022-08-05 13:15:35,159]\u001b[0m Trial 1522 finished with value: -0.005538249602379224 and parameters: {'kernel': 'rbf', 'C': 0.17097113495425814, 'gamma': 0.012466446496219842, 'epsilon': 0.0014108728167262694}. Best is trial 1308 with value: -0.005520821931362491.\u001b[0m\n",
      "\u001b[32m[I 2022-08-05 13:15:37,133]\u001b[0m Trial 1523 finished with value: -0.00554631039715812 and parameters: {'kernel': 'rbf', 'C': 0.17077091713793358, 'gamma': 0.011869674695064216, 'epsilon': 0.001403551743140821}. Best is trial 1308 with value: -0.005520821931362491.\u001b[0m\n",
      "\u001b[32m[I 2022-08-05 13:15:37,806]\u001b[0m Trial 1524 finished with value: -0.005536355362150487 and parameters: {'kernel': 'rbf', 'C': 0.16774156401196988, 'gamma': 0.01742339196581721, 'epsilon': 0.0014762772495553467}. Best is trial 1308 with value: -0.005520821931362491.\u001b[0m\n",
      "\u001b[32m[I 2022-08-05 13:15:39,382]\u001b[0m Trial 1525 finished with value: -0.006116438599651333 and parameters: {'kernel': 'rbf', 'C': 0.014795269442535338, 'gamma': 0.017085535768465925, 'epsilon': 0.001483651553703732}. Best is trial 1308 with value: -0.005520821931362491.\u001b[0m\n",
      "\u001b[32m[I 2022-08-05 13:15:42,493]\u001b[0m Trial 1526 finished with value: -0.005522775250673967 and parameters: {'kernel': 'rbf', 'C': 0.13701988931080641, 'gamma': 0.017084861708852924, 'epsilon': 0.001492699652184872}. Best is trial 1308 with value: -0.005520821931362491.\u001b[0m\n",
      "\u001b[32m[I 2022-08-05 13:15:44,444]\u001b[0m Trial 1527 finished with value: -0.005525263816168311 and parameters: {'kernel': 'rbf', 'C': 0.13569668950047756, 'gamma': 0.01774338583836496, 'epsilon': 0.0016054593695837055}. Best is trial 1308 with value: -0.005520821931362491.\u001b[0m\n",
      "\u001b[32m[I 2022-08-05 13:15:45,376]\u001b[0m Trial 1528 finished with value: -0.0055582266753816485 and parameters: {'kernel': 'rbf', 'C': 0.20588740507749415, 'gamma': 0.016897762367563053, 'epsilon': 0.00193678356936622}. Best is trial 1308 with value: -0.005520821931362491.\u001b[0m\n",
      "\u001b[32m[I 2022-08-05 13:15:46,329]\u001b[0m Trial 1529 finished with value: -0.0055310257752493736 and parameters: {'kernel': 'rbf', 'C': 0.1357645386404691, 'gamma': 0.016790579095481345, 'epsilon': 0.002028715317232244}. Best is trial 1308 with value: -0.005520821931362491.\u001b[0m\n",
      "\u001b[32m[I 2022-08-05 13:15:48,311]\u001b[0m Trial 1532 finished with value: -0.008726969603909257 and parameters: {'kernel': 'rbf', 'C': 0.10915189465771626, 'gamma': 0.021639887577442198, 'epsilon': 0.012160152373653964}. Best is trial 1308 with value: -0.005520821931362491.\u001b[0m\n"
     ]
    },
    {
     "name": "stderr",
     "output_type": "stream",
     "text": [
      "\u001b[32m[I 2022-08-05 13:15:49,452]\u001b[0m Trial 1530 finished with value: -0.005568941971906721 and parameters: {'kernel': 'rbf', 'C': 0.13641076927424406, 'gamma': 0.02134460161371169, 'epsilon': 0.00188951267619112}. Best is trial 1308 with value: -0.005520821931362491.\u001b[0m\n",
      "\u001b[32m[I 2022-08-05 13:15:50,748]\u001b[0m Trial 1531 finished with value: -0.005542490242697609 and parameters: {'kernel': 'rbf', 'C': 0.10753090286648977, 'gamma': 0.02077064441700029, 'epsilon': 0.0019033118332028231}. Best is trial 1308 with value: -0.005520821931362491.\u001b[0m\n",
      "\u001b[32m[I 2022-08-05 13:15:54,262]\u001b[0m Trial 1534 finished with value: -0.005584483880419386 and parameters: {'kernel': 'rbf', 'C': 0.07422672918021093, 'gamma': 0.020565270846915777, 'epsilon': 0.0024438310187957536}. Best is trial 1308 with value: -0.005520821931362491.\u001b[0m\n",
      "\u001b[32m[I 2022-08-05 13:15:55,561]\u001b[0m Trial 1535 finished with value: -0.005680703977063357 and parameters: {'kernel': 'rbf', 'C': 0.11521293448824606, 'gamma': 0.028321394474766323, 'epsilon': 0.0024411269052639684}. Best is trial 1308 with value: -0.005520821931362491.\u001b[0m\n",
      "\u001b[32m[I 2022-08-05 13:15:56,566]\u001b[0m Trial 1536 finished with value: -0.0055982790374135465 and parameters: {'kernel': 'rbf', 'C': 0.07061254555069002, 'gamma': 0.019193830462136047, 'epsilon': 0.002493159298820399}. Best is trial 1308 with value: -0.005520821931362491.\u001b[0m\n",
      "\u001b[32m[I 2022-08-05 13:16:03,618]\u001b[0m Trial 1537 finished with value: -0.005534203544093743 and parameters: {'kernel': 'rbf', 'C': 0.11793393921127776, 'gamma': 0.01927066586441744, 'epsilon': 0.001211239176332162}. Best is trial 1308 with value: -0.005520821931362491.\u001b[0m\n",
      "\u001b[32m[I 2022-08-05 13:16:05,057]\u001b[0m Trial 1538 finished with value: -0.005540082172795957 and parameters: {'kernel': 'rbf', 'C': 0.1414955449378545, 'gamma': 0.01861239335050101, 'epsilon': 0.0012000035997210207}. Best is trial 1308 with value: -0.005520821931362491.\u001b[0m\n",
      "\u001b[32m[I 2022-08-05 13:16:05,194]\u001b[0m Trial 1539 finished with value: -0.005534592209623299 and parameters: {'kernel': 'rbf', 'C': 0.1404768382043636, 'gamma': 0.018568794538899053, 'epsilon': 0.001700415197075597}. Best is trial 1308 with value: -0.005520821931362491.\u001b[0m\n",
      "\u001b[32m[I 2022-08-05 13:16:11,799]\u001b[0m Trial 1540 finished with value: -0.005604956182438775 and parameters: {'kernel': 'rbf', 'C': 0.14196569922069846, 'gamma': 0.024145307159016107, 'epsilon': 0.0016320931185573825}. Best is trial 1308 with value: -0.005520821931362491.\u001b[0m\n",
      "\u001b[32m[I 2022-08-05 13:16:13,533]\u001b[0m Trial 1542 finished with value: -0.005527917399233748 and parameters: {'kernel': 'rbf', 'C': 0.15819327467160477, 'gamma': 0.0159150050808682, 'epsilon': 0.0016396418486209579}. Best is trial 1308 with value: -0.005520821931362491.\u001b[0m\n",
      "\u001b[32m[I 2022-08-05 13:16:13,533]\u001b[0m Trial 1541 finished with value: -0.005626070264882299 and parameters: {'kernel': 'rbf', 'C': 0.15062010964319064, 'gamma': 0.02481374479226831, 'epsilon': 0.0016416145226081354}. Best is trial 1308 with value: -0.005520821931362491.\u001b[0m\n",
      "\u001b[32m[I 2022-08-05 13:16:16,231]\u001b[0m Trial 1544 finished with value: -0.019754327622469262 and parameters: {'kernel': 'rbf', 'C': 0.10114591235941907, 'gamma': 0.014730195543620928, 'epsilon': 0.026782115531919778}. Best is trial 1308 with value: -0.005520821931362491.\u001b[0m\n",
      "\u001b[32m[I 2022-08-05 13:16:18,651]\u001b[0m Trial 1543 finished with value: -0.005528048930660946 and parameters: {'kernel': 'rbf', 'C': 0.1612520239827703, 'gamma': 0.015892946305282932, 'epsilon': 0.0016411572236785252}. Best is trial 1308 with value: -0.005520821931362491.\u001b[0m\n",
      "\u001b[32m[I 2022-08-05 13:16:19,525]\u001b[0m Trial 1533 finished with value: -0.00659544201591828 and parameters: {'kernel': 'rbf', 'C': 4.819393612923028, 'gamma': 0.02137977972667835, 'epsilon': 0.001832213628697432}. Best is trial 1308 with value: -0.005520821931362491.\u001b[0m\n",
      "\u001b[32m[I 2022-08-05 13:16:20,627]\u001b[0m Trial 1545 finished with value: -0.005548663099073019 and parameters: {'kernel': 'rbf', 'C': 0.10562482332456319, 'gamma': 0.014098235881927067, 'epsilon': 0.0013490028398443273}. Best is trial 1308 with value: -0.005520821931362491.\u001b[0m\n",
      "\u001b[32m[I 2022-08-05 13:16:25,850]\u001b[0m Trial 1547 finished with value: -0.005885996259276537 and parameters: {'kernel': 'rbf', 'C': 0.12203822992010935, 'gamma': 0.0036036188940330952, 'epsilon': 0.0012667455791065439}. Best is trial 1308 with value: -0.005520821931362491.\u001b[0m\n",
      "\u001b[32m[I 2022-08-05 13:16:28,128]\u001b[0m Trial 1548 finished with value: -0.005543627597648092 and parameters: {'kernel': 'rbf', 'C': 0.12500506271086106, 'gamma': 0.01361766886246316, 'epsilon': 0.0012292597629484806}. Best is trial 1308 with value: -0.005520821931362491.\u001b[0m\n",
      "\u001b[32m[I 2022-08-05 13:16:29,952]\u001b[0m Trial 1549 finished with value: -0.00553092397629634 and parameters: {'kernel': 'rbf', 'C': 0.12181890434167483, 'gamma': 0.017650173987543715, 'epsilon': 0.0012101406814079394}. Best is trial 1308 with value: -0.005520821931362491.\u001b[0m\n",
      "\u001b[32m[I 2022-08-05 13:16:33,044]\u001b[0m Trial 1550 finished with value: -0.005574215333447247 and parameters: {'kernel': 'rbf', 'C': 0.19177509849371122, 'gamma': 0.01813751882730452, 'epsilon': 0.002073982064714473}. Best is trial 1308 with value: -0.005520821931362491.\u001b[0m\n",
      "\u001b[32m[I 2022-08-05 13:16:36,220]\u001b[0m Trial 1551 finished with value: -0.005569271152645275 and parameters: {'kernel': 'rbf', 'C': 0.18703583737580518, 'gamma': 0.0181356058133424, 'epsilon': 0.0020710335715451787}. Best is trial 1308 with value: -0.005520821931362491.\u001b[0m\n",
      "\u001b[32m[I 2022-08-05 13:16:37,860]\u001b[0m Trial 1552 finished with value: -0.00554851552185912 and parameters: {'kernel': 'rbf', 'C': 0.1876192126478301, 'gamma': 0.016585470944714933, 'epsilon': 0.001991033800524622}. Best is trial 1308 with value: -0.005520821931362491.\u001b[0m\n",
      "\u001b[32m[I 2022-08-05 13:16:42,614]\u001b[0m Trial 1553 finished with value: -0.006065230874747468 and parameters: {'kernel': 'rbf', 'C': 0.17504904915319547, 'gamma': 0.07500618572346601, 'epsilon': 0.0014972286737506176}. Best is trial 1308 with value: -0.005520821931362491.\u001b[0m\n",
      "\u001b[32m[I 2022-08-05 13:16:44,679]\u001b[0m Trial 1554 finished with value: -0.0055249709703479736 and parameters: {'kernel': 'rbf', 'C': 0.13535617810900888, 'gamma': 0.016253188942495594, 'epsilon': 0.0014944710745037441}. Best is trial 1308 with value: -0.005520821931362491.\u001b[0m\n",
      "\u001b[32m[I 2022-08-05 13:16:47,875]\u001b[0m Trial 1555 finished with value: -0.0055439869665971815 and parameters: {'kernel': 'rbf', 'C': 0.23208721491913398, 'gamma': 0.013017301960404522, 'epsilon': 0.0014753060776017193}. Best is trial 1308 with value: -0.005520821931362491.\u001b[0m\n",
      "\u001b[32m[I 2022-08-05 13:16:49,494]\u001b[0m Trial 1556 finished with value: -0.005973220690401628 and parameters: {'kernel': 'rbf', 'C': 0.22450232291684355, 'gamma': 0.00198430838130648, 'epsilon': 0.0015021126785758998}. Best is trial 1308 with value: -0.005520821931362491.\u001b[0m\n",
      "\u001b[32m[I 2022-08-05 13:16:50,306]\u001b[0m Trial 1557 finished with value: -0.005728708493354035 and parameters: {'kernel': 'rbf', 'C': 0.04790070143963903, 'gamma': 0.013120666906683473, 'epsilon': 0.0018031845193452075}. Best is trial 1308 with value: -0.005520821931362491.\u001b[0m\n",
      "\u001b[32m[I 2022-08-05 13:16:52,181]\u001b[0m Trial 1546 finished with value: -0.006648174442962072 and parameters: {'kernel': 'rbf', 'C': 7.43164485250882, 'gamma': 0.0167330687024778, 'epsilon': 0.0021374570811516437}. Best is trial 1308 with value: -0.005520821931362491.\u001b[0m\n",
      "\u001b[32m[I 2022-08-05 13:16:54,034]\u001b[0m Trial 1558 finished with value: -0.005540863040926251 and parameters: {'kernel': 'rbf', 'C': 0.10439263689340371, 'gamma': 0.021198983357469812, 'epsilon': 0.0017531178788455155}. Best is trial 1308 with value: -0.005520821931362491.\u001b[0m\n",
      "\u001b[32m[I 2022-08-05 13:16:55,060]\u001b[0m Trial 1559 finished with value: -0.0055416472179600175 and parameters: {'kernel': 'rbf', 'C': 0.10815474252073595, 'gamma': 0.020870858810413485, 'epsilon': 0.001816914351465414}. Best is trial 1308 with value: -0.005520821931362491.\u001b[0m\n",
      "\u001b[32m[I 2022-08-05 13:16:56,180]\u001b[0m Trial 1560 finished with value: -0.005535750010086931 and parameters: {'kernel': 'rbf', 'C': 0.10426928500501838, 'gamma': 0.020147604410430422, 'epsilon': 0.0017937509988930208}. Best is trial 1308 with value: -0.005520821931362491.\u001b[0m\n"
     ]
    },
    {
     "name": "stderr",
     "output_type": "stream",
     "text": [
      "\u001b[32m[I 2022-08-05 13:16:58,762]\u001b[0m Trial 1561 finished with value: -0.005545774312445965 and parameters: {'kernel': 'rbf', 'C': 0.10112533419999807, 'gamma': 0.021807523809584548, 'epsilon': 0.0017614293674461758}. Best is trial 1308 with value: -0.005520821931362491.\u001b[0m\n",
      "\u001b[32m[I 2022-08-05 13:17:00,890]\u001b[0m Trial 1562 finished with value: -0.006085844429035195 and parameters: {'kernel': 'rbf', 'C': 0.1163210405359645, 'gamma': 0.09304662102641825, 'epsilon': 0.0015731948940912476}. Best is trial 1308 with value: -0.005520821931362491.\u001b[0m\n",
      "\u001b[32m[I 2022-08-05 13:17:02,842]\u001b[0m Trial 1563 finished with value: -0.005529744395504526 and parameters: {'kernel': 'rbf', 'C': 0.12577080518923472, 'gamma': 0.015239093234868953, 'epsilon': 0.001382860458604449}. Best is trial 1308 with value: -0.005520821931362491.\u001b[0m\n",
      "\u001b[32m[I 2022-08-05 13:17:03,217]\u001b[0m Trial 1564 finished with value: -0.005571226316067326 and parameters: {'kernel': 'rbf', 'C': 0.08126100998612254, 'gamma': 0.01488874288417901, 'epsilon': 0.0013988502123131238}. Best is trial 1308 with value: -0.005520821931362491.\u001b[0m\n",
      "\u001b[32m[I 2022-08-05 13:17:03,639]\u001b[0m Trial 1565 finished with value: -0.005589552080940799 and parameters: {'kernel': 'rbf', 'C': 0.12951712614412056, 'gamma': 0.015036508612698264, 'epsilon': 0.002866808574540191}. Best is trial 1308 with value: -0.005520821931362491.\u001b[0m\n",
      "\u001b[32m[I 2022-08-05 13:17:09,518]\u001b[0m Trial 1566 finished with value: -0.005527763835592687 and parameters: {'kernel': 'rbf', 'C': 0.1322498579894441, 'gamma': 0.015429600805549443, 'epsilon': 0.0013679452835182902}. Best is trial 1308 with value: -0.005520821931362491.\u001b[0m\n",
      "\u001b[32m[I 2022-08-05 13:17:11,125]\u001b[0m Trial 1567 finished with value: -0.00552918383489506 and parameters: {'kernel': 'rbf', 'C': 0.13362238659407735, 'gamma': 0.014722738661254139, 'epsilon': 0.001376519818782095}. Best is trial 1308 with value: -0.005520821931362491.\u001b[0m\n",
      "\u001b[32m[I 2022-08-05 13:17:11,406]\u001b[0m Trial 1568 finished with value: -0.006337499455423912 and parameters: {'kernel': 'poly', 'C': 0.13911773039406808, 'gamma': 0.028018694413179324, 'epsilon': 0.0029649585805815583}. Best is trial 1308 with value: -0.005520821931362491.\u001b[0m\n",
      "\u001b[32m[I 2022-08-05 13:17:14,847]\u001b[0m Trial 1570 finished with value: -0.006432796892306559 and parameters: {'kernel': 'poly', 'C': 0.1612899677767248, 'gamma': 0.010478232002807245, 'epsilon': 0.00217068011581205}. Best is trial 1308 with value: -0.005520821931362491.\u001b[0m\n",
      "\u001b[32m[I 2022-08-05 13:17:16,749]\u001b[0m Trial 1569 finished with value: -0.006437521661088515 and parameters: {'kernel': 'poly', 'C': 0.13995156258983898, 'gamma': 0.027334103789519247, 'epsilon': 0.001104017096070416}. Best is trial 1308 with value: -0.005520821931362491.\u001b[0m\n",
      "\u001b[32m[I 2022-08-05 13:17:22,630]\u001b[0m Trial 1572 finished with value: -0.005551477382211576 and parameters: {'kernel': 'rbf', 'C': 0.15901078314913902, 'gamma': 0.01845730725923112, 'epsilon': 0.0011071380355293858}. Best is trial 1308 with value: -0.005520821931362491.\u001b[0m\n",
      "\u001b[32m[I 2022-08-05 13:17:23,700]\u001b[0m Trial 1573 finished with value: -0.005546630015871185 and parameters: {'kernel': 'rbf', 'C': 0.09081929793823947, 'gamma': 0.01806110050729207, 'epsilon': 0.0011473627415998083}. Best is trial 1308 with value: -0.005520821931362491.\u001b[0m\n",
      "\u001b[32m[I 2022-08-05 13:17:24,428]\u001b[0m Trial 1574 finished with value: -0.005537662922727465 and parameters: {'kernel': 'rbf', 'C': 0.09440826113281735, 'gamma': 0.017651388307402434, 'epsilon': 0.0015925786164459937}. Best is trial 1308 with value: -0.005520821931362491.\u001b[0m\n",
      "\u001b[32m[I 2022-08-05 13:17:24,891]\u001b[0m Trial 1576 finished with value: -0.04558449770905385 and parameters: {'kernel': 'rbf', 'C': 0.11777116510536928, 'gamma': 0.012774955930205799, 'epsilon': 0.06937455262775338}. Best is trial 1308 with value: -0.005520821931362491.\u001b[0m\n",
      "\u001b[32m[I 2022-08-05 13:17:24,936]\u001b[0m Trial 1571 finished with value: -0.00643654177741333 and parameters: {'kernel': 'poly', 'C': 0.1553623767844343, 'gamma': 0.02619866592989684, 'epsilon': 0.0011052716234878823}. Best is trial 1308 with value: -0.005520821931362491.\u001b[0m\n",
      "\u001b[32m[I 2022-08-05 13:17:28,396]\u001b[0m Trial 1575 finished with value: -0.005535720384671447 and parameters: {'kernel': 'rbf', 'C': 0.09386089233759129, 'gamma': 0.017660132212484393, 'epsilon': 0.0016203849112067668}. Best is trial 1308 with value: -0.005520821931362491.\u001b[0m\n",
      "\u001b[32m[I 2022-08-05 13:17:30,299]\u001b[0m Trial 1577 finished with value: -0.005555339337769198 and parameters: {'kernel': 'rbf', 'C': 0.1165337142218847, 'gamma': 0.012812221444277206, 'epsilon': 0.0015775578819042558}. Best is trial 1308 with value: -0.005520821931362491.\u001b[0m\n",
      "\u001b[32m[I 2022-08-05 13:17:30,580]\u001b[0m Trial 1578 finished with value: -0.005797958422491425 and parameters: {'kernel': 'rbf', 'C': 0.02987836334749352, 'gamma': 0.02380397800380517, 'epsilon': 0.0016157327821669655}. Best is trial 1308 with value: -0.005520821931362491.\u001b[0m\n",
      "\u001b[32m[I 2022-08-05 13:17:31,502]\u001b[0m Trial 1579 finished with value: -0.005526101213831552 and parameters: {'kernel': 'rbf', 'C': 0.11766192337473001, 'gamma': 0.016565274584754576, 'epsilon': 0.0015471640418847747}. Best is trial 1308 with value: -0.005520821931362491.\u001b[0m\n",
      "\u001b[32m[I 2022-08-05 13:17:33,869]\u001b[0m Trial 1580 finished with value: -0.005557837828513926 and parameters: {'kernel': 'rbf', 'C': 0.11544742821537592, 'gamma': 0.013279661545865802, 'epsilon': 0.0019657216985697933}. Best is trial 1308 with value: -0.005520821931362491.\u001b[0m\n",
      "\u001b[32m[I 2022-08-05 13:17:35,885]\u001b[0m Trial 1584 finished with value: -0.03496857060073563 and parameters: {'kernel': 'rbf', 'C': 0.14452968656110637, 'gamma': 0.007793494431973675, 'epsilon': 0.04205405275780202}. Best is trial 1308 with value: -0.005520821931362491.\u001b[0m\n",
      "\u001b[32m[I 2022-08-05 13:17:36,120]\u001b[0m Trial 1582 finished with value: -0.00555011522854455 and parameters: {'kernel': 'rbf', 'C': 0.11686525369398246, 'gamma': 0.016233691513010722, 'epsilon': 0.002323745151822326}. Best is trial 1308 with value: -0.005520821931362491.\u001b[0m\n",
      "\u001b[32m[I 2022-08-05 13:17:36,243]\u001b[0m Trial 1581 finished with value: -0.005530754788832539 and parameters: {'kernel': 'rbf', 'C': 0.1152747567184422, 'gamma': 0.016520030529242245, 'epsilon': 0.0018996925954833795}. Best is trial 1308 with value: -0.005520821931362491.\u001b[0m\n",
      "\u001b[32m[I 2022-08-05 13:17:37,382]\u001b[0m Trial 1583 finished with value: -0.005540899215260788 and parameters: {'kernel': 'rbf', 'C': 0.14275143737481896, 'gamma': 0.013819630583499477, 'epsilon': 0.0019318239382560504}. Best is trial 1308 with value: -0.005520821931362491.\u001b[0m\n",
      "\u001b[32m[I 2022-08-05 13:17:45,332]\u001b[0m Trial 1585 finished with value: -0.005756924684091316 and parameters: {'kernel': 'rbf', 'C': 0.16862082623221, 'gamma': 0.035837892800659236, 'epsilon': 0.0012864954112708177}. Best is trial 1308 with value: -0.005520821931362491.\u001b[0m\n",
      "\u001b[32m[I 2022-08-05 13:17:46,009]\u001b[0m Trial 1587 finished with value: -0.005557017790115146 and parameters: {'kernel': 'rbf', 'C': 0.16328201947040702, 'gamma': 0.019560539529785294, 'epsilon': 0.0013076323619877492}. Best is trial 1308 with value: -0.005520821931362491.\u001b[0m\n",
      "\u001b[32m[I 2022-08-05 13:17:47,210]\u001b[0m Trial 1586 finished with value: -0.005661512202585193 and parameters: {'kernel': 'rbf', 'C': 0.29476157429001065, 'gamma': 0.020204415067902992, 'epsilon': 0.0012816320169509302}. Best is trial 1308 with value: -0.005520821931362491.\u001b[0m\n",
      "\u001b[32m[I 2022-08-05 13:17:47,212]\u001b[0m Trial 1588 finished with value: -0.005581317586177083 and parameters: {'kernel': 'rbf', 'C': 0.17443941942498511, 'gamma': 0.02057325012721599, 'epsilon': 0.0013036756987761275}. Best is trial 1308 with value: -0.005520821931362491.\u001b[0m\n",
      "\u001b[32m[I 2022-08-05 13:17:52,932]\u001b[0m Trial 1589 finished with value: -0.005570536682774407 and parameters: {'kernel': 'rbf', 'C': 0.13313034637668156, 'gamma': 0.011233131287442953, 'epsilon': 0.001298015625779411}. Best is trial 1308 with value: -0.005520821931362491.\u001b[0m\n",
      "\u001b[32m[I 2022-08-05 13:17:53,290]\u001b[0m Trial 1590 finished with value: -0.005566014416798482 and parameters: {'kernel': 'rbf', 'C': 0.12892055787560006, 'gamma': 0.011607669677125789, 'epsilon': 0.0014384017508094979}. Best is trial 1308 with value: -0.005520821931362491.\u001b[0m\n"
     ]
    },
    {
     "name": "stderr",
     "output_type": "stream",
     "text": [
      "\u001b[32m[I 2022-08-05 13:17:54,534]\u001b[0m Trial 1592 finished with value: -0.005573826190789067 and parameters: {'kernel': 'rbf', 'C': 0.13236009500147866, 'gamma': 0.011050406673680692, 'epsilon': 0.0014848785180864015}. Best is trial 1308 with value: -0.005520821931362491.\u001b[0m\n",
      "\u001b[32m[I 2022-08-05 13:17:54,690]\u001b[0m Trial 1591 finished with value: -0.005530491810786073 and parameters: {'kernel': 'rbf', 'C': 0.132537939709373, 'gamma': 0.014463858708204875, 'epsilon': 0.001496367011994892}. Best is trial 1308 with value: -0.005520821931362491.\u001b[0m\n",
      "\u001b[32m[I 2022-08-05 13:18:00,067]\u001b[0m Trial 1594 finished with value: -0.005526721009014184 and parameters: {'kernel': 'rbf', 'C': 0.14925410816546056, 'gamma': 0.014730838371729534, 'epsilon': 0.0017102880181705548}. Best is trial 1308 with value: -0.005520821931362491.\u001b[0m\n",
      "\u001b[32m[I 2022-08-05 13:18:00,475]\u001b[0m Trial 1593 finished with value: -0.0055335361335625555 and parameters: {'kernel': 'rbf', 'C': 0.1334174721048286, 'gamma': 0.013919531278245719, 'epsilon': 0.0015087344671447045}. Best is trial 1308 with value: -0.005520821931362491.\u001b[0m\n",
      "\u001b[32m[I 2022-08-05 13:18:01,093]\u001b[0m Trial 1596 finished with value: -0.0055799882140336755 and parameters: {'kernel': 'rbf', 'C': 0.08065158454197137, 'gamma': 0.023893340495384302, 'epsilon': 0.002199175513393653}. Best is trial 1308 with value: -0.005520821931362491.\u001b[0m\n",
      "\u001b[32m[I 2022-08-05 13:18:01,420]\u001b[0m Trial 1595 finished with value: -0.005547158987549072 and parameters: {'kernel': 'rbf', 'C': 0.10113598791478777, 'gamma': 0.014725179833417786, 'epsilon': 0.0017449416784095682}. Best is trial 1308 with value: -0.005520821931362491.\u001b[0m\n",
      "\u001b[32m[I 2022-08-05 13:18:05,058]\u001b[0m Trial 1598 finished with value: -0.005583408850951803 and parameters: {'kernel': 'rbf', 'C': 0.0813410349966905, 'gamma': 0.016728619249558603, 'epsilon': 0.002350385079398977}. Best is trial 1308 with value: -0.005520821931362491.\u001b[0m\n",
      "\u001b[32m[I 2022-08-05 13:18:05,307]\u001b[0m Trial 1597 finished with value: -0.005578781723004264 and parameters: {'kernel': 'rbf', 'C': 0.07876914681329955, 'gamma': 0.023521291769532316, 'epsilon': 0.002217664092319342}. Best is trial 1308 with value: -0.005520821931362491.\u001b[0m\n",
      "\u001b[32m[I 2022-08-05 13:18:06,521]\u001b[0m Trial 1599 finished with value: -0.005542714035931795 and parameters: {'kernel': 'rbf', 'C': 0.10078540474395052, 'gamma': 0.016495413047863953, 'epsilon': 0.0018768436602122518}. Best is trial 1308 with value: -0.005520821931362491.\u001b[0m\n",
      "\u001b[32m[I 2022-08-05 13:18:08,192]\u001b[0m Trial 1600 finished with value: -0.005575500592151996 and parameters: {'kernel': 'rbf', 'C': 0.19389812984189067, 'gamma': 0.018867734000574937, 'epsilon': 0.0018408381713330617}. Best is trial 1308 with value: -0.005520821931362491.\u001b[0m\n",
      "\u001b[32m[I 2022-08-05 13:18:11,970]\u001b[0m Trial 1601 finished with value: -0.005584604514793893 and parameters: {'kernel': 'rbf', 'C': 0.19994888784781925, 'gamma': 0.018991201959883696, 'epsilon': 0.0019035694541175098}. Best is trial 1308 with value: -0.005520821931362491.\u001b[0m\n",
      "\u001b[32m[I 2022-08-05 13:18:12,293]\u001b[0m Trial 1602 finished with value: -0.0055494731361603565 and parameters: {'kernel': 'rbf', 'C': 0.15929540131961384, 'gamma': 0.018636848668328907, 'epsilon': 0.0018980468583770815}. Best is trial 1308 with value: -0.005520821931362491.\u001b[0m\n",
      "\u001b[32m[I 2022-08-05 13:18:16,465]\u001b[0m Trial 1604 finished with value: -0.005543518297661206 and parameters: {'kernel': 'rbf', 'C': 0.15627450338536553, 'gamma': 0.01881258387984478, 'epsilon': 0.001668586548728654}. Best is trial 1308 with value: -0.005520821931362491.\u001b[0m\n",
      "\u001b[32m[I 2022-08-05 13:18:17,256]\u001b[0m Trial 1603 finished with value: -0.005587432376804235 and parameters: {'kernel': 'rbf', 'C': 0.1960653033845941, 'gamma': 0.019366361211113323, 'epsilon': 0.0010092320990246712}. Best is trial 1308 with value: -0.005520821931362491.\u001b[0m\n",
      "\u001b[32m[I 2022-08-05 13:18:19,300]\u001b[0m Trial 1606 finished with value: -0.0055617571446292206 and parameters: {'kernel': 'rbf', 'C': 0.11317321261408841, 'gamma': 0.012556450603207349, 'epsilon': 0.001644673932422723}. Best is trial 1308 with value: -0.005520821931362491.\u001b[0m\n",
      "\u001b[32m[I 2022-08-05 13:18:19,300]\u001b[0m Trial 1605 finished with value: -0.005533660590315469 and parameters: {'kernel': 'rbf', 'C': 0.16423415170467168, 'gamma': 0.013154663267990833, 'epsilon': 0.0016194479099669633}. Best is trial 1308 with value: -0.005520821931362491.\u001b[0m\n",
      "\u001b[32m[I 2022-08-05 13:18:24,062]\u001b[0m Trial 1607 finished with value: -0.00556976924935455 and parameters: {'kernel': 'rbf', 'C': 0.11118119851500277, 'gamma': 0.01244495062174528, 'epsilon': 0.0012223745517315585}. Best is trial 1308 with value: -0.005520821931362491.\u001b[0m\n",
      "\u001b[32m[I 2022-08-05 13:18:28,301]\u001b[0m Trial 1611 finished with value: -0.01691305876610102 and parameters: {'kernel': 'rbf', 'C': 0.143885226083359, 'gamma': 0.950614025990252, 'epsilon': 0.01781498720677364}. Best is trial 1308 with value: -0.005520821931362491.\u001b[0m\n",
      "\u001b[32m[I 2022-08-05 13:18:28,732]\u001b[0m Trial 1609 finished with value: -0.005536844535989062 and parameters: {'kernel': 'rbf', 'C': 0.11115259531277909, 'gamma': 0.016175648704969302, 'epsilon': 0.0011869634235841333}. Best is trial 1308 with value: -0.005520821931362491.\u001b[0m\n",
      "\u001b[32m[I 2022-08-05 13:18:28,746]\u001b[0m Trial 1610 finished with value: -0.005537536538740497 and parameters: {'kernel': 'rbf', 'C': 0.10798346622766243, 'gamma': 0.01616301547517453, 'epsilon': 0.0011643997521629912}. Best is trial 1308 with value: -0.005520821931362491.\u001b[0m\n",
      "\u001b[32m[I 2022-08-05 13:18:33,053]\u001b[0m Trial 1608 finished with value: -0.005711967519222947 and parameters: {'kernel': 'rbf', 'C': 0.7685216222038508, 'gamma': 0.013041153464056354, 'epsilon': 0.001181572471720824}. Best is trial 1308 with value: -0.005520821931362491.\u001b[0m\n",
      "\u001b[32m[I 2022-08-05 13:18:37,276]\u001b[0m Trial 1614 finished with value: -0.005571545909903133 and parameters: {'kernel': 'rbf', 'C': 0.13367482531376632, 'gamma': 0.022529157400615205, 'epsilon': 0.0014674947139928405}. Best is trial 1308 with value: -0.005520821931362491.\u001b[0m\n",
      "\u001b[32m[I 2022-08-05 13:18:37,442]\u001b[0m Trial 1613 finished with value: -0.005570839736976168 and parameters: {'kernel': 'rbf', 'C': 0.12917416609657367, 'gamma': 0.022783362950562356, 'epsilon': 0.0013789464157859899}. Best is trial 1308 with value: -0.005520821931362491.\u001b[0m\n",
      "\u001b[32m[I 2022-08-05 13:18:39,162]\u001b[0m Trial 1612 finished with value: -0.00567251434111997 and parameters: {'kernel': 'rbf', 'C': 0.4723067000136182, 'gamma': 0.01623455905764347, 'epsilon': 0.0014159807949654143}. Best is trial 1308 with value: -0.005520821931362491.\u001b[0m\n",
      "\u001b[32m[I 2022-08-05 13:18:41,556]\u001b[0m Trial 1615 finished with value: -0.005574345026434715 and parameters: {'kernel': 'rbf', 'C': 0.13116053263957084, 'gamma': 0.022771522531369947, 'epsilon': 0.0014180619249828548}. Best is trial 1308 with value: -0.005520821931362491.\u001b[0m\n",
      "\u001b[32m[I 2022-08-05 13:18:44,319]\u001b[0m Trial 1616 finished with value: -0.005611262266164663 and parameters: {'kernel': 'rbf', 'C': 0.12382033944670023, 'gamma': 0.009697578721350778, 'epsilon': 0.0014699654812083288}. Best is trial 1308 with value: -0.005520821931362491.\u001b[0m\n",
      "\u001b[32m[I 2022-08-05 13:18:45,244]\u001b[0m Trial 1617 finished with value: -0.005646316808021083 and parameters: {'kernel': 'rbf', 'C': 0.09486779195164509, 'gamma': 0.010283357850032655, 'epsilon': 0.0010007466947058695}. Best is trial 1308 with value: -0.005520821931362491.\u001b[0m\n",
      "\u001b[32m[I 2022-08-05 13:18:46,514]\u001b[0m Trial 1618 finished with value: -0.005636641971286928 and parameters: {'kernel': 'rbf', 'C': 0.06333451667838647, 'gamma': 0.014564739595447459, 'epsilon': 0.0010068553318218433}. Best is trial 1308 with value: -0.005520821931362491.\u001b[0m\n",
      "\u001b[32m[I 2022-08-05 13:18:46,998]\u001b[0m Trial 1619 finished with value: -0.00658933541719359 and parameters: {'kernel': 'rbf', 'C': 0.09670878906845588, 'gamma': 0.2105683191483525, 'epsilon': 0.002052437271699785}. Best is trial 1308 with value: -0.005520821931362491.\u001b[0m\n",
      "\u001b[32m[I 2022-08-05 13:18:51,074]\u001b[0m Trial 1621 finished with value: -0.005538566894430473 and parameters: {'kernel': 'rbf', 'C': 0.15244951289873754, 'gamma': 0.014821774134009064, 'epsilon': 0.0021683159250941004}. Best is trial 1308 with value: -0.005520821931362491.\u001b[0m\n"
     ]
    },
    {
     "name": "stderr",
     "output_type": "stream",
     "text": [
      "\u001b[32m[I 2022-08-05 13:18:53,215]\u001b[0m Trial 1620 finished with value: -0.0055410973072651136 and parameters: {'kernel': 'rbf', 'C': 0.17714022324184453, 'gamma': 0.014735558188249415, 'epsilon': 0.0010001142852313742}. Best is trial 1308 with value: -0.005520821931362491.\u001b[0m\n",
      "\u001b[32m[I 2022-08-05 13:18:53,216]\u001b[0m Trial 1622 finished with value: -0.005545142559534493 and parameters: {'kernel': 'rbf', 'C': 0.15221639544007645, 'gamma': 0.01695656481166658, 'epsilon': 0.0021700248677406792}. Best is trial 1308 with value: -0.005520821931362491.\u001b[0m\n",
      "\u001b[32m[I 2022-08-05 13:18:54,465]\u001b[0m Trial 1623 finished with value: -0.005533853581930561 and parameters: {'kernel': 'rbf', 'C': 0.1582203740688169, 'gamma': 0.01695683249211667, 'epsilon': 0.001718665684616266}. Best is trial 1308 with value: -0.005520821931362491.\u001b[0m\n",
      "\u001b[32m[I 2022-08-05 13:18:58,704]\u001b[0m Trial 1624 finished with value: -0.0055404530478315745 and parameters: {'kernel': 'rbf', 'C': 0.17258096503298373, 'gamma': 0.01718961241159219, 'epsilon': 0.0017515605346175897}. Best is trial 1308 with value: -0.005520821931362491.\u001b[0m\n",
      "\u001b[32m[I 2022-08-05 13:19:00,510]\u001b[0m Trial 1625 finished with value: -0.005529474726592121 and parameters: {'kernel': 'rbf', 'C': 0.11921124704574991, 'gamma': 0.019139251901862775, 'epsilon': 0.0016884506604021333}. Best is trial 1308 with value: -0.005520821931362491.\u001b[0m\n",
      "\u001b[32m[I 2022-08-05 13:19:00,526]\u001b[0m Trial 1626 finished with value: -0.005538268268694592 and parameters: {'kernel': 'rbf', 'C': 0.14677314257593008, 'gamma': 0.01877117853563271, 'epsilon': 0.0016885389016778913}. Best is trial 1308 with value: -0.005520821931362491.\u001b[0m\n",
      "\u001b[32m[I 2022-08-05 13:19:01,477]\u001b[0m Trial 1627 finished with value: -0.005533339541708074 and parameters: {'kernel': 'rbf', 'C': 0.11980788362076614, 'gamma': 0.019378899199391945, 'epsilon': 0.0016966812915760743}. Best is trial 1308 with value: -0.005520821931362491.\u001b[0m\n",
      "\u001b[32m[I 2022-08-05 13:19:06,410]\u001b[0m Trial 1628 finished with value: -0.005678739953589485 and parameters: {'kernel': 'rbf', 'C': 0.11860140663540988, 'gamma': 0.031147342696483477, 'epsilon': 0.0015927145725907932}. Best is trial 1308 with value: -0.005520821931362491.\u001b[0m\n",
      "\u001b[32m[I 2022-08-05 13:19:08,220]\u001b[0m Trial 1630 finished with value: -0.005561807874278696 and parameters: {'kernel': 'rbf', 'C': 0.12228915135956056, 'gamma': 0.011991850106952388, 'epsilon': 0.0013165923352009559}. Best is trial 1308 with value: -0.005520821931362491.\u001b[0m\n",
      "\u001b[32m[I 2022-08-05 13:19:08,564]\u001b[0m Trial 1629 finished with value: -0.005545558692473367 and parameters: {'kernel': 'rbf', 'C': 0.12107540230964142, 'gamma': 0.02105916135142179, 'epsilon': 0.0013258396701330412}. Best is trial 1308 with value: -0.005520821931362491.\u001b[0m\n",
      "\u001b[32m[I 2022-08-05 13:19:09,001]\u001b[0m Trial 1631 finished with value: -0.005589627408604497 and parameters: {'kernel': 'rbf', 'C': 0.10344578443303117, 'gamma': 0.011797182077492979, 'epsilon': 0.0013004570468334513}. Best is trial 1308 with value: -0.005520821931362491.\u001b[0m\n",
      "\u001b[32m[I 2022-08-05 13:19:09,704]\u001b[0m Trial 1635 finished with value: -0.04558449770905385 and parameters: {'kernel': 'rbf', 'C': 0.14616945701431688, 'gamma': 0.014019878889927001, 'epsilon': 0.054318815612323657}. Best is trial 1308 with value: -0.005520821931362491.\u001b[0m\n",
      "\u001b[32m[I 2022-08-05 13:19:16,278]\u001b[0m Trial 1632 finished with value: -0.00555639900893146 and parameters: {'kernel': 'rbf', 'C': 0.25189992026668745, 'gamma': 0.01185517012101585, 'epsilon': 0.0012654191484504013}. Best is trial 1308 with value: -0.005520821931362491.\u001b[0m\n",
      "\u001b[32m[I 2022-08-05 13:19:17,026]\u001b[0m Trial 1634 finished with value: -0.005540873825269953 and parameters: {'kernel': 'rbf', 'C': 0.21338230181203502, 'gamma': 0.014621436769193343, 'epsilon': 0.001525873563913868}. Best is trial 1308 with value: -0.005520821931362491.\u001b[0m\n",
      "\u001b[32m[I 2022-08-05 13:19:17,028]\u001b[0m Trial 1636 finished with value: -0.005560926547221823 and parameters: {'kernel': 'rbf', 'C': 0.18019963910394204, 'gamma': 0.015936876094596174, 'epsilon': 0.002460463135881055}. Best is trial 1308 with value: -0.005520821931362491.\u001b[0m\n",
      "\u001b[32m[I 2022-08-05 13:19:17,519]\u001b[0m Trial 1633 finished with value: -0.005558051436644069 and parameters: {'kernel': 'rbf', 'C': 0.2566295421630274, 'gamma': 0.013602882044827179, 'epsilon': 0.0012997115816953133}. Best is trial 1308 with value: -0.005520821931362491.\u001b[0m\n",
      "\u001b[32m[I 2022-08-05 13:19:20,053]\u001b[0m Trial 1637 finished with value: -0.005656297816078472 and parameters: {'kernel': 'rbf', 'C': 0.17995783123657905, 'gamma': 0.015997112200364455, 'epsilon': 0.0034834842125192745}. Best is trial 1308 with value: -0.005520821931362491.\u001b[0m\n",
      "\u001b[32m[I 2022-08-05 13:19:22,770]\u001b[0m Trial 1638 finished with value: -0.005579861126387872 and parameters: {'kernel': 'rbf', 'C': 0.14243040383257677, 'gamma': 0.021489096217724116, 'epsilon': 0.0019795856653163813}. Best is trial 1308 with value: -0.005520821931362491.\u001b[0m\n",
      "\u001b[32m[I 2022-08-05 13:19:22,926]\u001b[0m Trial 1639 finished with value: -0.00557028304766347 and parameters: {'kernel': 'rbf', 'C': 0.14174418716100431, 'gamma': 0.02106633012772178, 'epsilon': 0.0019527263437195347}. Best is trial 1308 with value: -0.005520821931362491.\u001b[0m\n",
      "\u001b[32m[I 2022-08-05 13:19:24,169]\u001b[0m Trial 1640 finished with value: -0.005572514672617675 and parameters: {'kernel': 'rbf', 'C': 0.14080638712171556, 'gamma': 0.021350637617686373, 'epsilon': 0.0019005045691844029}. Best is trial 1308 with value: -0.005520821931362491.\u001b[0m\n",
      "\u001b[32m[I 2022-08-05 13:19:26,633]\u001b[0m Trial 1641 finished with value: -0.00557755224839765 and parameters: {'kernel': 'rbf', 'C': 0.14065793704033777, 'gamma': 0.02144605802320257, 'epsilon': 0.001982191191832338}. Best is trial 1308 with value: -0.005520821931362491.\u001b[0m\n",
      "\u001b[32m[I 2022-08-05 13:19:28,709]\u001b[0m Trial 1642 finished with value: -0.005538195163843005 and parameters: {'kernel': 'rbf', 'C': 0.09872977222798296, 'gamma': 0.017689093186544467, 'epsilon': 0.0019297594336921107}. Best is trial 1308 with value: -0.005520821931362491.\u001b[0m\n",
      "\u001b[32m[I 2022-08-05 13:19:29,412]\u001b[0m Trial 1643 finished with value: -0.0055424826591098045 and parameters: {'kernel': 'rbf', 'C': 0.09105640020990217, 'gamma': 0.01751306767990516, 'epsilon': 0.0015346857339391957}. Best is trial 1308 with value: -0.005520821931362491.\u001b[0m\n",
      "\u001b[32m[I 2022-08-05 13:19:30,769]\u001b[0m Trial 1644 finished with value: -0.005538027946350426 and parameters: {'kernel': 'rbf', 'C': 0.09572429175347782, 'gamma': 0.017212249204515303, 'epsilon': 0.0015402306212229538}. Best is trial 1308 with value: -0.005520821931362491.\u001b[0m\n",
      "\u001b[32m[I 2022-08-05 13:19:32,690]\u001b[0m Trial 1645 finished with value: -0.005540595037255815 and parameters: {'kernel': 'rbf', 'C': 0.09177373298629946, 'gamma': 0.017703159152375813, 'epsilon': 0.001499345980126787}. Best is trial 1308 with value: -0.005520821931362491.\u001b[0m\n",
      "\u001b[32m[I 2022-08-05 13:19:35,488]\u001b[0m Trial 1646 finished with value: -0.005544315824022727 and parameters: {'kernel': 'rbf', 'C': 0.0910127822684618, 'gamma': 0.016143498480895985, 'epsilon': 0.0015079090080618032}. Best is trial 1308 with value: -0.005520821931362491.\u001b[0m\n",
      "\u001b[32m[I 2022-08-05 13:19:36,301]\u001b[0m Trial 1647 finished with value: -0.005542510980317254 and parameters: {'kernel': 'rbf', 'C': 0.10620264164044634, 'gamma': 0.014640667972632996, 'epsilon': 0.0015330973362468346}. Best is trial 1308 with value: -0.005520821931362491.\u001b[0m\n",
      "\u001b[32m[I 2022-08-05 13:19:38,474]\u001b[0m Trial 1648 finished with value: -0.0055465986972818 and parameters: {'kernel': 'rbf', 'C': 0.10857150536350173, 'gamma': 0.01386138768053317, 'epsilon': 0.001470580910569865}. Best is trial 1308 with value: -0.005520821931362491.\u001b[0m\n",
      "\u001b[32m[I 2022-08-05 13:19:40,571]\u001b[0m Trial 1649 finished with value: -0.005560056809251529 and parameters: {'kernel': 'rbf', 'C': 0.1092977184047261, 'gamma': 0.013409211823673703, 'epsilon': 0.0011123737439959734}. Best is trial 1308 with value: -0.005520821931362491.\u001b[0m\n",
      "\u001b[32m[I 2022-08-05 13:19:40,711]\u001b[0m Trial 1650 finished with value: -0.005568775356401989 and parameters: {'kernel': 'rbf', 'C': 0.16419880510921456, 'gamma': 0.013274793660227067, 'epsilon': 0.0025759696616152413}. Best is trial 1308 with value: -0.005520821931362491.\u001b[0m\n"
     ]
    },
    {
     "name": "stderr",
     "output_type": "stream",
     "text": [
      "\u001b[32m[I 2022-08-05 13:19:44,527]\u001b[0m Trial 1651 finished with value: -0.00553493021621813 and parameters: {'kernel': 'rbf', 'C': 0.16416926290580358, 'gamma': 0.013795199286990877, 'epsilon': 0.0011428031157144358}. Best is trial 1308 with value: -0.005520821931362491.\u001b[0m\n",
      "\u001b[32m[I 2022-08-05 13:19:47,551]\u001b[0m Trial 1652 finished with value: -0.005537895122691003 and parameters: {'kernel': 'rbf', 'C': 0.16189077113600697, 'gamma': 0.013219898621078256, 'epsilon': 0.00113552404876558}. Best is trial 1308 with value: -0.005520821931362491.\u001b[0m\n",
      "\u001b[32m[I 2022-08-05 13:19:50,638]\u001b[0m Trial 1654 finished with value: -0.00564162969452158 and parameters: {'kernel': 'rbf', 'C': 0.12771302346437144, 'gamma': 0.02743999918280599, 'epsilon': 0.0011633818907351662}. Best is trial 1308 with value: -0.005520821931362491.\u001b[0m\n",
      "\u001b[32m[I 2022-08-05 13:19:50,868]\u001b[0m Trial 1653 finished with value: -0.005665059992129229 and parameters: {'kernel': 'rbf', 'C': 0.16724939992119706, 'gamma': 0.026331669928576953, 'epsilon': 0.0011742235791723059}. Best is trial 1308 with value: -0.005520821931362491.\u001b[0m\n",
      "\u001b[32m[I 2022-08-05 13:19:51,151]\u001b[0m Trial 1655 finished with value: -0.005588683220967627 and parameters: {'kernel': 'rbf', 'C': 0.1302964809259476, 'gamma': 0.01047236210295728, 'epsilon': 0.0017416438726664037}. Best is trial 1308 with value: -0.005520821931362491.\u001b[0m\n",
      "\u001b[32m[I 2022-08-05 13:19:53,855]\u001b[0m Trial 1656 finished with value: -0.005588691517728477 and parameters: {'kernel': 'rbf', 'C': 0.12927519393826498, 'gamma': 0.010496304279165336, 'epsilon': 0.0017343104998995941}. Best is trial 1308 with value: -0.005520821931362491.\u001b[0m\n",
      "\u001b[32m[I 2022-08-05 13:19:56,445]\u001b[0m Trial 1657 finished with value: -0.005592376383769864 and parameters: {'kernel': 'rbf', 'C': 0.12824065993242764, 'gamma': 0.010392499085863791, 'epsilon': 0.0016766177843651753}. Best is trial 1308 with value: -0.005520821931362491.\u001b[0m\n",
      "\u001b[32m[I 2022-08-05 13:19:56,861]\u001b[0m Trial 1658 finished with value: -0.005596237014233039 and parameters: {'kernel': 'rbf', 'C': 0.12751229649423876, 'gamma': 0.010143621474283847, 'epsilon': 0.0017162255340812472}. Best is trial 1308 with value: -0.005520821931362491.\u001b[0m\n",
      "\u001b[32m[I 2022-08-05 13:19:57,638]\u001b[0m Trial 1659 finished with value: -0.005608991805756423 and parameters: {'kernel': 'rbf', 'C': 0.2074294563508131, 'gamma': 0.019087921346917298, 'epsilon': 0.0022367211148743367}. Best is trial 1308 with value: -0.005520821931362491.\u001b[0m\n",
      "\u001b[32m[I 2022-08-05 13:20:00,769]\u001b[0m Trial 1660 finished with value: -0.005600758348019854 and parameters: {'kernel': 'rbf', 'C': 0.20040720547329188, 'gamma': 0.018949185772739626, 'epsilon': 0.0022226688031334327}. Best is trial 1308 with value: -0.005520821931362491.\u001b[0m\n",
      "\u001b[32m[I 2022-08-05 13:20:02,535]\u001b[0m Trial 1661 finished with value: -0.005552915102619561 and parameters: {'kernel': 'rbf', 'C': 0.19257092790591268, 'gamma': 0.015420146464484174, 'epsilon': 0.0022388060360757633}. Best is trial 1308 with value: -0.005520821931362491.\u001b[0m\n",
      "\u001b[32m[I 2022-08-05 13:20:06,057]\u001b[0m Trial 1662 finished with value: -0.005599197742992415 and parameters: {'kernel': 'rbf', 'C': 0.21145729038458783, 'gamma': 0.019759477141623544, 'epsilon': 0.0013566754407267044}. Best is trial 1308 with value: -0.005520821931362491.\u001b[0m\n",
      "\u001b[32m[I 2022-08-05 13:20:06,205]\u001b[0m Trial 1663 finished with value: -0.005521797896197303 and parameters: {'kernel': 'rbf', 'C': 0.14443916139607524, 'gamma': 0.01570575502879323, 'epsilon': 0.0014019530372900595}. Best is trial 1308 with value: -0.005520821931362491.\u001b[0m\n",
      "\u001b[32m[I 2022-08-05 13:20:08,861]\u001b[0m Trial 1664 finished with value: -0.005526652627186441 and parameters: {'kernel': 'rbf', 'C': 0.14720486406466168, 'gamma': 0.015733333323143056, 'epsilon': 0.0013118712119784375}. Best is trial 1308 with value: -0.005520821931362491.\u001b[0m\n",
      "\u001b[32m[I 2022-08-05 13:20:10,583]\u001b[0m Trial 1665 finished with value: -0.00552833575933188 and parameters: {'kernel': 'rbf', 'C': 0.1510633336060012, 'gamma': 0.016034580034509794, 'epsilon': 0.0014041182539605921}. Best is trial 1308 with value: -0.005520821931362491.\u001b[0m\n",
      "\u001b[32m[I 2022-08-05 13:20:14,002]\u001b[0m Trial 1666 finished with value: -0.005525164668127042 and parameters: {'kernel': 'rbf', 'C': 0.14814575984056907, 'gamma': 0.015761306685758775, 'epsilon': 0.0013902420494181493}. Best is trial 1308 with value: -0.005520821931362491.\u001b[0m\n",
      "\u001b[32m[I 2022-08-05 13:20:14,486]\u001b[0m Trial 1667 finished with value: -0.0055273353080528 and parameters: {'kernel': 'rbf', 'C': 0.1535614314464773, 'gamma': 0.01565188376355002, 'epsilon': 0.00131957681154984}. Best is trial 1308 with value: -0.005520821931362491.\u001b[0m\n",
      "\u001b[32m[I 2022-08-05 13:20:15,424]\u001b[0m Trial 1669 finished with value: -0.007784720007730187 and parameters: {'kernel': 'rbf', 'C': 0.17478187346700905, 'gamma': 0.4153398099735662, 'epsilon': 0.00514249781592085}. Best is trial 1308 with value: -0.005520821931362491.\u001b[0m\n",
      "\u001b[32m[I 2022-08-05 13:20:16,490]\u001b[0m Trial 1668 finished with value: -0.005527497173840513 and parameters: {'kernel': 'rbf', 'C': 0.1575649393253985, 'gamma': 0.015248346535916746, 'epsilon': 0.001338150833790015}. Best is trial 1308 with value: -0.005520821931362491.\u001b[0m\n",
      "\u001b[32m[I 2022-08-05 13:20:23,551]\u001b[0m Trial 1670 finished with value: -0.005632239615675968 and parameters: {'kernel': 'rbf', 'C': 0.1650585982797491, 'gamma': 0.024236940279042704, 'epsilon': 0.001267450444230355}. Best is trial 1308 with value: -0.005520821931362491.\u001b[0m\n",
      "\u001b[32m[I 2022-08-05 13:20:24,114]\u001b[0m Trial 1671 finished with value: -0.005552502035996716 and parameters: {'kernel': 'rbf', 'C': 0.17535607417921747, 'gamma': 0.01203563264424499, 'epsilon': 0.0010768986519687261}. Best is trial 1308 with value: -0.005520821931362491.\u001b[0m\n",
      "\u001b[32m[I 2022-08-05 13:20:24,364]\u001b[0m Trial 1672 finished with value: -0.0055749379553614534 and parameters: {'kernel': 'rbf', 'C': 0.11550658246033353, 'gamma': 0.012153329763416014, 'epsilon': 0.001067962613790469}. Best is trial 1308 with value: -0.005520821931362491.\u001b[0m\n",
      "\u001b[32m[I 2022-08-05 13:20:25,383]\u001b[0m Trial 1673 finished with value: -0.0055841894744312085 and parameters: {'kernel': 'rbf', 'C': 0.11432577328485143, 'gamma': 0.02428623654118311, 'epsilon': 0.0010452606291005116}. Best is trial 1308 with value: -0.005520821931362491.\u001b[0m\n",
      "\u001b[32m[I 2022-08-05 13:20:29,958]\u001b[0m Trial 1675 finished with value: -0.006479939435161693 and parameters: {'kernel': 'poly', 'C': 0.11309676859456597, 'gamma': 0.01188877209049859, 'epsilon': 0.0018654703796282853}. Best is trial 1308 with value: -0.005520821931362491.\u001b[0m\n",
      "\u001b[32m[I 2022-08-05 13:20:31,754]\u001b[0m Trial 1676 finished with value: -0.006396613232526831 and parameters: {'kernel': 'poly', 'C': 0.11187640628112061, 'gamma': 0.017559888109147655, 'epsilon': 0.0019014986313063173}. Best is trial 1308 with value: -0.005520821931362491.\u001b[0m\n",
      "\u001b[32m[I 2022-08-05 13:20:33,469]\u001b[0m Trial 1677 finished with value: -0.006381100741275645 and parameters: {'kernel': 'poly', 'C': 0.1360469043859387, 'gamma': 0.01811934189035918, 'epsilon': 0.0018359282615876692}. Best is trial 1308 with value: -0.005520821931362491.\u001b[0m\n",
      "\u001b[32m[I 2022-08-05 13:20:38,611]\u001b[0m Trial 1678 finished with value: -0.005532024931060224 and parameters: {'kernel': 'rbf', 'C': 0.13747228372449202, 'gamma': 0.0183714745917775, 'epsilon': 0.0016100472234658017}. Best is trial 1308 with value: -0.005520821931362491.\u001b[0m\n",
      "\u001b[32m[I 2022-08-05 13:20:40,142]\u001b[0m Trial 1679 finished with value: -0.005534731100099828 and parameters: {'kernel': 'rbf', 'C': 0.1354848086543604, 'gamma': 0.019041153156622102, 'epsilon': 0.0016070799397632813}. Best is trial 1308 with value: -0.005520821931362491.\u001b[0m\n",
      "\u001b[32m[I 2022-08-05 13:20:41,783]\u001b[0m Trial 1680 finished with value: -0.005535146439207858 and parameters: {'kernel': 'rbf', 'C': 0.13615119212882812, 'gamma': 0.014013919811266312, 'epsilon': 0.00159240872953737}. Best is trial 1308 with value: -0.005520821931362491.\u001b[0m\n",
      "\u001b[32m[I 2022-08-05 13:20:46,604]\u001b[0m Trial 1681 finished with value: -0.005534803139845388 and parameters: {'kernel': 'rbf', 'C': 0.12833296602714642, 'gamma': 0.013802570493867775, 'epsilon': 0.0015419868323032723}. Best is trial 1308 with value: -0.005520821931362491.\u001b[0m\n"
     ]
    },
    {
     "name": "stderr",
     "output_type": "stream",
     "text": [
      "\u001b[32m[I 2022-08-05 13:20:48,726]\u001b[0m Trial 1674 finished with value: -0.006442680280328877 and parameters: {'kernel': 'poly', 'C': 0.11200260284896506, 'gamma': 0.051707308504032955, 'epsilon': 0.0010696645637915754}. Best is trial 1308 with value: -0.005520821931362491.\u001b[0m\n",
      "\u001b[32m[I 2022-08-05 13:20:48,898]\u001b[0m Trial 1682 finished with value: -0.005529746615383557 and parameters: {'kernel': 'rbf', 'C': 0.1917260125465125, 'gamma': 0.013730217220542214, 'epsilon': 0.0014816501546429444}. Best is trial 1308 with value: -0.005520821931362491.\u001b[0m\n",
      "\u001b[32m[I 2022-08-05 13:20:49,164]\u001b[0m Trial 1683 finished with value: -0.005583201105174217 and parameters: {'kernel': 'rbf', 'C': 0.08210289404717605, 'gamma': 0.014211123247784375, 'epsilon': 0.0012720213224829415}. Best is trial 1308 with value: -0.005520821931362491.\u001b[0m\n",
      "\u001b[32m[I 2022-08-05 13:20:56,936]\u001b[0m Trial 1686 finished with value: -0.005554043559800505 and parameters: {'kernel': 'rbf', 'C': 0.08210275876331219, 'gamma': 0.021436298578651588, 'epsilon': 0.0012061549154272165}. Best is trial 1308 with value: -0.005520821931362491.\u001b[0m\n",
      "\u001b[32m[I 2022-08-05 13:20:57,139]\u001b[0m Trial 1684 finished with value: -0.005597698011429591 and parameters: {'kernel': 'rbf', 'C': 0.17902847989849152, 'gamma': 0.021266398322253587, 'epsilon': 0.0012258541229822257}. Best is trial 1308 with value: -0.005520821931362491.\u001b[0m\n",
      "\u001b[32m[I 2022-08-05 13:20:57,536]\u001b[0m Trial 1685 finished with value: -0.0055832824804641305 and parameters: {'kernel': 'rbf', 'C': 0.18218124639258287, 'gamma': 0.020296809525226136, 'epsilon': 0.0013852983901136188}. Best is trial 1308 with value: -0.005520821931362491.\u001b[0m\n",
      "\u001b[32m[I 2022-08-05 13:20:58,520]\u001b[0m Trial 1687 finished with value: -0.005702807689662487 and parameters: {'kernel': 'rbf', 'C': 0.3230390043349334, 'gamma': 0.021340919790747717, 'epsilon': 0.0017744580865459857}. Best is trial 1308 with value: -0.005520821931362491.\u001b[0m\n",
      "\u001b[32m[I 2022-08-05 13:21:00,496]\u001b[0m Trial 1689 finished with value: -0.00558941276758115 and parameters: {'kernel': 'rbf', 'C': 0.10230543408077858, 'gamma': 0.017112119606344185, 'epsilon': 0.0028134850768152028}. Best is trial 1308 with value: -0.005520821931362491.\u001b[0m\n",
      "\u001b[32m[I 2022-08-05 13:21:01,315]\u001b[0m Trial 1688 finished with value: -0.005542783609701695 and parameters: {'kernel': 'rbf', 'C': 0.10274367238270644, 'gamma': 0.01721578072749766, 'epsilon': 0.0020569412082530087}. Best is trial 1308 with value: -0.005520821931362491.\u001b[0m\n",
      "\u001b[32m[I 2022-08-05 13:21:02,448]\u001b[0m Trial 1690 finished with value: -0.00558338694654514 and parameters: {'kernel': 'rbf', 'C': 0.09853476845411901, 'gamma': 0.016786881661602415, 'epsilon': 0.002697248892680989}. Best is trial 1308 with value: -0.005520821931362491.\u001b[0m\n",
      "\u001b[32m[I 2022-08-05 13:21:05,549]\u001b[0m Trial 1691 finished with value: -0.0055346490824644875 and parameters: {'kernel': 'rbf', 'C': 0.1556723030327843, 'gamma': 0.01666819268652285, 'epsilon': 0.001993334513617449}. Best is trial 1308 with value: -0.005520821931362491.\u001b[0m\n",
      "\u001b[32m[I 2022-08-05 13:21:07,970]\u001b[0m Trial 1693 finished with value: -0.005547130872080811 and parameters: {'kernel': 'rbf', 'C': 0.14666697557796282, 'gamma': 0.012413599022568608, 'epsilon': 0.0017687510939464626}. Best is trial 1308 with value: -0.005520821931362491.\u001b[0m\n",
      "\u001b[32m[I 2022-08-05 13:21:09,279]\u001b[0m Trial 1694 finished with value: -0.005551121411026138 and parameters: {'kernel': 'rbf', 'C': 0.14499333869876888, 'gamma': 0.012199418763259622, 'epsilon': 0.001743638070365836}. Best is trial 1308 with value: -0.005520821931362491.\u001b[0m\n",
      "\u001b[32m[I 2022-08-05 13:21:09,482]\u001b[0m Trial 1692 finished with value: -0.005536028031954715 and parameters: {'kernel': 'rbf', 'C': 0.15284151871712687, 'gamma': 0.015950031979298084, 'epsilon': 0.001001520651858176}. Best is trial 1308 with value: -0.005520821931362491.\u001b[0m\n",
      "\u001b[32m[I 2022-08-05 13:21:12,745]\u001b[0m Trial 1695 finished with value: -0.005552967527332603 and parameters: {'kernel': 'rbf', 'C': 0.12255121320052711, 'gamma': 0.01267988298078293, 'epsilon': 0.0016592658519940832}. Best is trial 1308 with value: -0.005520821931362491.\u001b[0m\n",
      "\u001b[32m[I 2022-08-05 13:21:15,373]\u001b[0m Trial 1696 finished with value: -0.005529967371914757 and parameters: {'kernel': 'rbf', 'C': 0.12774934545884145, 'gamma': 0.014821187983113639, 'epsilon': 0.001446626561131363}. Best is trial 1308 with value: -0.005520821931362491.\u001b[0m\n",
      "\u001b[32m[I 2022-08-05 13:21:16,972]\u001b[0m Trial 1697 finished with value: -0.005551184521945059 and parameters: {'kernel': 'rbf', 'C': 0.22367942023935017, 'gamma': 0.0154422358603223, 'epsilon': 0.0014391722296410241}. Best is trial 1308 with value: -0.005520821931362491.\u001b[0m\n",
      "\u001b[32m[I 2022-08-05 13:21:17,460]\u001b[0m Trial 1698 finished with value: -0.005527799577924446 and parameters: {'kernel': 'rbf', 'C': 0.12255410931116971, 'gamma': 0.014729240901890728, 'epsilon': 0.001467289676798876}. Best is trial 1308 with value: -0.005520821931362491.\u001b[0m\n",
      "\u001b[32m[I 2022-08-05 13:21:22,717]\u001b[0m Trial 1699 finished with value: -0.005553661249772509 and parameters: {'kernel': 'rbf', 'C': 0.23438212166065622, 'gamma': 0.015073841649930607, 'epsilon': 0.0014012421191757457}. Best is trial 1308 with value: -0.005520821931362491.\u001b[0m\n",
      "\u001b[32m[I 2022-08-05 13:21:22,717]\u001b[0m Trial 1700 finished with value: -0.005637764012441005 and parameters: {'kernel': 'rbf', 'C': 0.11876628417164188, 'gamma': 0.00906188615783838, 'epsilon': 0.0014099350465666234}. Best is trial 1308 with value: -0.005520821931362491.\u001b[0m\n",
      "\u001b[32m[I 2022-08-05 13:21:24,106]\u001b[0m Trial 1702 finished with value: -0.005573978125583698 and parameters: {'kernel': 'rbf', 'C': 0.1682429083276236, 'gamma': 0.019469980039993937, 'epsilon': 0.002072309478982602}. Best is trial 1308 with value: -0.005520821931362491.\u001b[0m\n",
      "\u001b[32m[I 2022-08-05 13:21:24,755]\u001b[0m Trial 1701 finished with value: -0.005531390745595117 and parameters: {'kernel': 'rbf', 'C': 0.12133185761931822, 'gamma': 0.019232148209922063, 'epsilon': 0.0012210081997065404}. Best is trial 1308 with value: -0.005520821931362491.\u001b[0m\n",
      "\u001b[32m[I 2022-08-05 13:21:28,488]\u001b[0m Trial 1704 finished with value: -0.005611683118083424 and parameters: {'kernel': 'rbf', 'C': 0.17777866020351984, 'gamma': 0.01985751861211789, 'epsilon': 0.002439156083755028}. Best is trial 1308 with value: -0.005520821931362491.\u001b[0m\n",
      "\u001b[32m[I 2022-08-05 13:21:29,399]\u001b[0m Trial 1703 finished with value: -0.0055728376788346055 and parameters: {'kernel': 'rbf', 'C': 0.17467486094538473, 'gamma': 0.019077753612268485, 'epsilon': 0.0020663869677331153}. Best is trial 1308 with value: -0.005520821931362491.\u001b[0m\n",
      "\u001b[32m[I 2022-08-05 13:21:29,868]\u001b[0m Trial 1705 finished with value: -0.005564802448784768 and parameters: {'kernel': 'rbf', 'C': 0.1482746891921409, 'gamma': 0.018705145891096828, 'epsilon': 0.0024095276498980562}. Best is trial 1308 with value: -0.005520821931362491.\u001b[0m\n",
      "\u001b[32m[I 2022-08-05 13:21:30,071]\u001b[0m Trial 1706 finished with value: -0.0055870649130081605 and parameters: {'kernel': 'rbf', 'C': 0.14773319372721308, 'gamma': 0.011150518668026166, 'epsilon': 0.002370222825556545}. Best is trial 1308 with value: -0.005520821931362491.\u001b[0m\n",
      "\u001b[32m[I 2022-08-05 13:21:35,355]\u001b[0m Trial 1707 finished with value: -0.005563969444099188 and parameters: {'kernel': 'rbf', 'C': 0.14332843697487394, 'gamma': 0.011292463035205764, 'epsilon': 0.0016717658214595392}. Best is trial 1308 with value: -0.005520821931362491.\u001b[0m\n",
      "\u001b[32m[I 2022-08-05 13:21:35,589]\u001b[0m Trial 1709 finished with value: -0.005611237664445125 and parameters: {'kernel': 'rbf', 'C': 0.10023818039850747, 'gamma': 0.010886386883325565, 'epsilon': 0.0016501211143460028}. Best is trial 1308 with value: -0.005520821931362491.\u001b[0m\n",
      "\u001b[32m[I 2022-08-05 13:21:35,974]\u001b[0m Trial 1708 finished with value: -0.005541652176881779 and parameters: {'kernel': 'rbf', 'C': 0.14218299562108094, 'gamma': 0.013034299663377519, 'epsilon': 0.0016570093559197259}. Best is trial 1308 with value: -0.005520821931362491.\u001b[0m\n",
      "\u001b[32m[I 2022-08-05 13:21:37,657]\u001b[0m Trial 1710 finished with value: -0.005574236899855687 and parameters: {'kernel': 'rbf', 'C': 0.10540542769350973, 'gamma': 0.02496752245710319, 'epsilon': 0.0016752549667962502}. Best is trial 1308 with value: -0.005520821931362491.\u001b[0m\n"
     ]
    },
    {
     "name": "stderr",
     "output_type": "stream",
     "text": [
      "\u001b[32m[I 2022-08-05 13:21:41,350]\u001b[0m Trial 1711 finished with value: -0.005568802112024964 and parameters: {'kernel': 'rbf', 'C': 0.10644078523485742, 'gamma': 0.024059552508843958, 'epsilon': 0.001794831226040476}. Best is trial 1308 with value: -0.005520821931362491.\u001b[0m\n",
      "\u001b[32m[I 2022-08-05 13:21:42,863]\u001b[0m Trial 1712 finished with value: -0.005563031421346944 and parameters: {'kernel': 'rbf', 'C': 0.10638249994741344, 'gamma': 0.023337403367538465, 'epsilon': 0.001221573052887195}. Best is trial 1308 with value: -0.005520821931362491.\u001b[0m\n",
      "\u001b[32m[I 2022-08-05 13:21:44,066]\u001b[0m Trial 1713 finished with value: -0.005563711350038366 and parameters: {'kernel': 'rbf', 'C': 0.10898187137974202, 'gamma': 0.023476258066438455, 'epsilon': 0.0012111529755010951}. Best is trial 1308 with value: -0.005520821931362491.\u001b[0m\n",
      "\u001b[32m[I 2022-08-05 13:21:45,472]\u001b[0m Trial 1714 finished with value: -0.005577122460904712 and parameters: {'kernel': 'rbf', 'C': 0.11746779126494704, 'gamma': 0.023789747424030772, 'epsilon': 0.001220781415100376}. Best is trial 1308 with value: -0.005520821931362491.\u001b[0m\n",
      "\u001b[32m[I 2022-08-05 13:21:49,486]\u001b[0m Trial 1715 finished with value: -0.005534818773561374 and parameters: {'kernel': 'rbf', 'C': 0.1227567705212855, 'gamma': 0.017168645237240675, 'epsilon': 0.0011533505757557428}. Best is trial 1308 with value: -0.005520821931362491.\u001b[0m\n",
      "\u001b[32m[I 2022-08-05 13:21:50,829]\u001b[0m Trial 1717 finished with value: -0.005528337066521971 and parameters: {'kernel': 'rbf', 'C': 0.12728349352748702, 'gamma': 0.01701402415351092, 'epsilon': 0.0019602412542782757}. Best is trial 1308 with value: -0.005520821931362491.\u001b[0m\n",
      "\u001b[32m[I 2022-08-05 13:21:51,466]\u001b[0m Trial 1716 finished with value: -0.0055326854836954915 and parameters: {'kernel': 'rbf', 'C': 0.12285454174491048, 'gamma': 0.016920018999172563, 'epsilon': 0.001009080574434152}. Best is trial 1308 with value: -0.005520821931362491.\u001b[0m\n",
      "\u001b[32m[I 2022-08-05 13:21:51,701]\u001b[0m Trial 1718 finished with value: -0.00558226027345936 and parameters: {'kernel': 'rbf', 'C': 0.06908246297086441, 'gamma': 0.017142253994834544, 'epsilon': 0.0018801734381472123}. Best is trial 1308 with value: -0.005520821931362491.\u001b[0m\n",
      "\u001b[32m[I 2022-08-05 13:21:58,170]\u001b[0m Trial 1719 finished with value: -0.0055291413276867575 and parameters: {'kernel': 'rbf', 'C': 0.16211266086448392, 'gamma': 0.014269259733800967, 'epsilon': 0.0014607717948294464}. Best is trial 1308 with value: -0.005520821931362491.\u001b[0m\n",
      "\u001b[32m[I 2022-08-05 13:21:58,801]\u001b[0m Trial 1720 finished with value: -0.005531319401764321 and parameters: {'kernel': 'rbf', 'C': 0.1674107780261728, 'gamma': 0.014059903984701432, 'epsilon': 0.0014561863620526322}. Best is trial 1308 with value: -0.005520821931362491.\u001b[0m\n",
      "\u001b[32m[I 2022-08-05 13:21:59,111]\u001b[0m Trial 1721 finished with value: -0.005535417187163746 and parameters: {'kernel': 'rbf', 'C': 0.19555759308696485, 'gamma': 0.014048089933064493, 'epsilon': 0.0014869886106541285}. Best is trial 1308 with value: -0.005520821931362491.\u001b[0m\n",
      "\u001b[32m[I 2022-08-05 13:22:01,475]\u001b[0m Trial 1722 finished with value: -0.005536255179161201 and parameters: {'kernel': 'rbf', 'C': 0.20027979359199732, 'gamma': 0.013991027698820848, 'epsilon': 0.0014501269685183065}. Best is trial 1308 with value: -0.005520821931362491.\u001b[0m\n",
      "\u001b[32m[I 2022-08-05 13:22:05,394]\u001b[0m Trial 1724 finished with value: -0.005577079593188525 and parameters: {'kernel': 'rbf', 'C': 0.08833433218525506, 'gamma': 0.013690599071246246, 'epsilon': 0.0015916785315617076}. Best is trial 1308 with value: -0.005520821931362491.\u001b[0m\n",
      "\u001b[32m[I 2022-08-05 13:22:06,017]\u001b[0m Trial 1723 finished with value: -0.005535947935664255 and parameters: {'kernel': 'rbf', 'C': 0.20158019982840883, 'gamma': 0.013555655619289331, 'epsilon': 0.0014934921697273196}. Best is trial 1308 with value: -0.005520821931362491.\u001b[0m\n",
      "\u001b[32m[I 2022-08-05 13:22:06,985]\u001b[0m Trial 1725 finished with value: -0.005527625463423382 and parameters: {'kernel': 'rbf', 'C': 0.13487464098446442, 'gamma': 0.015226411443522644, 'epsilon': 0.0013224965094290008}. Best is trial 1308 with value: -0.005520821931362491.\u001b[0m\n",
      "\u001b[32m[I 2022-08-05 13:22:07,345]\u001b[0m Trial 1726 finished with value: -0.0055592073437713595 and parameters: {'kernel': 'rbf', 'C': 0.08846841012712324, 'gamma': 0.015514364469839479, 'epsilon': 0.0018286617559907052}. Best is trial 1308 with value: -0.005520821931362491.\u001b[0m\n",
      "\u001b[32m[I 2022-08-05 13:22:11,106]\u001b[0m Trial 1727 finished with value: -0.005555410825120666 and parameters: {'kernel': 'rbf', 'C': 0.13819375062808592, 'gamma': 0.019424024611793673, 'epsilon': 0.0020849196065914565}. Best is trial 1308 with value: -0.005520821931362491.\u001b[0m\n",
      "\u001b[32m[I 2022-08-05 13:22:11,653]\u001b[0m Trial 1728 finished with value: -0.005548862223002976 and parameters: {'kernel': 'rbf', 'C': 0.14019350719565477, 'gamma': 0.019611216431441047, 'epsilon': 0.0018731717346710795}. Best is trial 1308 with value: -0.005520821931362491.\u001b[0m\n",
      "\u001b[32m[I 2022-08-05 13:22:12,918]\u001b[0m Trial 1730 finished with value: -0.0056133153277400675 and parameters: {'kernel': 'rbf', 'C': 0.0554827277069871, 'gamma': 0.02044585781975484, 'epsilon': 0.0020282595568373763}. Best is trial 1308 with value: -0.005520821931362491.\u001b[0m\n",
      "\u001b[32m[I 2022-08-05 13:22:13,340]\u001b[0m Trial 1729 finished with value: -0.0057163354534528164 and parameters: {'kernel': 'rbf', 'C': 0.15285318953464647, 'gamma': 0.03141195253701124, 'epsilon': 0.0019256616811956927}. Best is trial 1308 with value: -0.005520821931362491.\u001b[0m\n",
      "\u001b[32m[I 2022-08-05 13:22:16,992]\u001b[0m Trial 1731 finished with value: -0.005625490194310929 and parameters: {'kernel': 'rbf', 'C': 0.1551379452798921, 'gamma': 0.00825609476072949, 'epsilon': 0.0017976555330764408}. Best is trial 1308 with value: -0.005520821931362491.\u001b[0m\n",
      "\u001b[32m[I 2022-08-05 13:22:19,643]\u001b[0m Trial 1732 finished with value: -0.005550313143530859 and parameters: {'kernel': 'rbf', 'C': 0.15516702883396397, 'gamma': 0.012242825258325797, 'epsilon': 0.0012894981115229025}. Best is trial 1308 with value: -0.005520821931362491.\u001b[0m\n",
      "\u001b[32m[I 2022-08-05 13:22:21,617]\u001b[0m Trial 1733 finished with value: -0.0055468250075003354 and parameters: {'kernel': 'rbf', 'C': 0.15796302929996736, 'gamma': 0.01240149564197017, 'epsilon': 0.001296000296422346}. Best is trial 1308 with value: -0.005520821931362491.\u001b[0m\n",
      "\u001b[32m[I 2022-08-05 13:22:22,334]\u001b[0m Trial 1734 finished with value: -0.005549950552572161 and parameters: {'kernel': 'rbf', 'C': 0.16420601523896425, 'gamma': 0.012006942589937767, 'epsilon': 0.0012951002241301669}. Best is trial 1308 with value: -0.005520821931362491.\u001b[0m\n",
      "\u001b[32m[I 2022-08-05 13:22:24,282]\u001b[0m Trial 1735 finished with value: -0.005565791843122864 and parameters: {'kernel': 'rbf', 'C': 0.11735382808913422, 'gamma': 0.01224131774133799, 'epsilon': 0.0012633813275153682}. Best is trial 1308 with value: -0.005520821931362491.\u001b[0m\n",
      "\u001b[32m[I 2022-08-05 13:22:25,766]\u001b[0m Trial 1736 finished with value: -0.005529358906237137 and parameters: {'kernel': 'rbf', 'C': 0.11508956383738563, 'gamma': 0.016260158412309197, 'epsilon': 0.0016662854812958393}. Best is trial 1308 with value: -0.005520821931362491.\u001b[0m\n",
      "\u001b[32m[I 2022-08-05 13:22:28,681]\u001b[0m Trial 1737 finished with value: -0.005525650379007929 and parameters: {'kernel': 'rbf', 'C': 0.12323284982289455, 'gamma': 0.017203126073579076, 'epsilon': 0.0016524262490603384}. Best is trial 1308 with value: -0.005520821931362491.\u001b[0m\n",
      "\u001b[32m[I 2022-08-05 13:22:29,705]\u001b[0m Trial 1738 finished with value: -0.005525028232927752 and parameters: {'kernel': 'rbf', 'C': 0.11780889828058325, 'gamma': 0.01748498945838442, 'epsilon': 0.0015975448209055428}. Best is trial 1308 with value: -0.005520821931362491.\u001b[0m\n",
      "\u001b[32m[I 2022-08-05 13:22:31,958]\u001b[0m Trial 1739 finished with value: -0.005523087433675893 and parameters: {'kernel': 'rbf', 'C': 0.12714724457081597, 'gamma': 0.017091878531792174, 'epsilon': 0.0015811170371983554}. Best is trial 1308 with value: -0.005520821931362491.\u001b[0m\n",
      "\u001b[32m[I 2022-08-05 13:22:33,234]\u001b[0m Trial 1740 finished with value: -0.005525990659798933 and parameters: {'kernel': 'rbf', 'C': 0.1343036008880205, 'gamma': 0.017741694413334796, 'epsilon': 0.0015622216458889603}. Best is trial 1308 with value: -0.005520821931362491.\u001b[0m\n"
     ]
    },
    {
     "name": "stderr",
     "output_type": "stream",
     "text": [
      "\u001b[32m[I 2022-08-05 13:22:37,395]\u001b[0m Trial 1744 finished with value: -0.00631213793483184 and parameters: {'kernel': 'rbf', 'C': 0.09761727668275307, 'gamma': 0.021840224775346553, 'epsilon': 0.006461661918820486}. Best is trial 1308 with value: -0.005520821931362491.\u001b[0m\n",
      "\u001b[32m[I 2022-08-05 13:22:37,624]\u001b[0m Trial 1741 finished with value: -0.005538122811385673 and parameters: {'kernel': 'rbf', 'C': 0.13707154459318094, 'gamma': 0.018119643563785086, 'epsilon': 0.001015968046848768}. Best is trial 1308 with value: -0.005520821931362491.\u001b[0m\n",
      "\u001b[32m[I 2022-08-05 13:22:37,625]\u001b[0m Trial 1742 finished with value: -0.005550650442563368 and parameters: {'kernel': 'rbf', 'C': 0.09530626892963377, 'gamma': 0.01549580201068322, 'epsilon': 0.001076856478668848}. Best is trial 1308 with value: -0.005520821931362491.\u001b[0m\n",
      "\u001b[32m[I 2022-08-05 13:22:37,893]\u001b[0m Trial 1743 finished with value: -0.005561062557879162 and parameters: {'kernel': 'rbf', 'C': 0.09543811817074192, 'gamma': 0.021767093218524967, 'epsilon': 0.0021220048080054666}. Best is trial 1308 with value: -0.005520821931362491.\u001b[0m\n",
      "\u001b[32m[I 2022-08-05 13:22:41,553]\u001b[0m Trial 1745 finished with value: -0.005567357935324811 and parameters: {'kernel': 'rbf', 'C': 0.08776503795833486, 'gamma': 0.021916551163776252, 'epsilon': 0.0022517829202465646}. Best is trial 1308 with value: -0.005520821931362491.\u001b[0m\n",
      "\u001b[32m[I 2022-08-05 13:22:42,710]\u001b[0m Trial 1746 finished with value: -0.005608962866059416 and parameters: {'kernel': 'rbf', 'C': 0.09529163467229063, 'gamma': 0.026585801031153575, 'epsilon': 0.0021985669614856826}. Best is trial 1308 with value: -0.005520821931362491.\u001b[0m\n",
      "\u001b[32m[I 2022-08-05 13:22:42,710]\u001b[0m Trial 1747 finished with value: -0.0056040143478572725 and parameters: {'kernel': 'rbf', 'C': 0.08171006128100014, 'gamma': 0.028116694991180156, 'epsilon': 0.00202144538312095}. Best is trial 1308 with value: -0.005520821931362491.\u001b[0m\n",
      "\u001b[32m[I 2022-08-05 13:22:43,304]\u001b[0m Trial 1748 finished with value: -0.005626391833094002 and parameters: {'kernel': 'rbf', 'C': 0.0796206220122622, 'gamma': 0.029292678793807134, 'epsilon': 0.002121032386009365}. Best is trial 1308 with value: -0.005520821931362491.\u001b[0m\n",
      "\u001b[32m[I 2022-08-05 13:22:47,677]\u001b[0m Trial 1749 finished with value: -0.005535874372984144 and parameters: {'kernel': 'rbf', 'C': 0.10510418924833274, 'gamma': 0.01951850495787965, 'epsilon': 0.001815530494840313}. Best is trial 1308 with value: -0.005520821931362491.\u001b[0m\n",
      "\u001b[32m[I 2022-08-05 13:22:48,344]\u001b[0m Trial 1750 finished with value: -0.005534127626529723 and parameters: {'kernel': 'rbf', 'C': 0.10436190047116778, 'gamma': 0.019575224574256866, 'epsilon': 0.0017984904203177125}. Best is trial 1308 with value: -0.005520821931362491.\u001b[0m\n",
      "\u001b[32m[I 2022-08-05 13:22:48,611]\u001b[0m Trial 1751 finished with value: -0.005532465983712538 and parameters: {'kernel': 'rbf', 'C': 0.1097220191932977, 'gamma': 0.01923240676942736, 'epsilon': 0.001821724820340043}. Best is trial 1308 with value: -0.005520821931362491.\u001b[0m\n",
      "\u001b[32m[I 2022-08-05 13:22:50,286]\u001b[0m Trial 1752 finished with value: -0.005537790275425665 and parameters: {'kernel': 'rbf', 'C': 0.10635793846388604, 'gamma': 0.020115162631565743, 'epsilon': 0.0018007262738723353}. Best is trial 1308 with value: -0.005520821931362491.\u001b[0m\n",
      "\u001b[32m[I 2022-08-05 13:22:53,210]\u001b[0m Trial 1754 finished with value: -0.005572836833004011 and parameters: {'kernel': 'rbf', 'C': 0.11527327337173744, 'gamma': 0.015482494970148976, 'epsilon': 0.002618415907406535}. Best is trial 1308 with value: -0.005520821931362491.\u001b[0m\n",
      "\u001b[32m[I 2022-08-05 13:22:53,834]\u001b[0m Trial 1753 finished with value: -0.00553340283270565 and parameters: {'kernel': 'rbf', 'C': 0.1208883398553582, 'gamma': 0.019511656462931914, 'epsilon': 0.0017022497003053721}. Best is trial 1308 with value: -0.005520821931362491.\u001b[0m\n",
      "\u001b[32m[I 2022-08-05 13:22:55,397]\u001b[0m Trial 1755 finished with value: -0.005527903722830448 and parameters: {'kernel': 'rbf', 'C': 0.12681765957269037, 'gamma': 0.015605827704637592, 'epsilon': 0.0015383845915678757}. Best is trial 1308 with value: -0.005520821931362491.\u001b[0m\n",
      "\u001b[32m[I 2022-08-05 13:22:57,158]\u001b[0m Trial 1756 finished with value: -0.005528666069076544 and parameters: {'kernel': 'rbf', 'C': 0.12358335364296788, 'gamma': 0.015751649270563443, 'epsilon': 0.0015724212969087737}. Best is trial 1308 with value: -0.005520821931362491.\u001b[0m\n",
      "\u001b[32m[I 2022-08-05 13:23:00,683]\u001b[0m Trial 1760 finished with value: -0.007179501827626454 and parameters: {'kernel': 'rbf', 'C': 0.13442089196893595, 'gamma': 0.017472371678126836, 'epsilon': 0.009002430341790772}. Best is trial 1308 with value: -0.005520821931362491.\u001b[0m\n",
      "\u001b[32m[I 2022-08-05 13:23:00,975]\u001b[0m Trial 1757 finished with value: -0.005527065241639549 and parameters: {'kernel': 'rbf', 'C': 0.1266282483278832, 'gamma': 0.01535019153796239, 'epsilon': 0.0015673042661709109}. Best is trial 1308 with value: -0.005520821931362491.\u001b[0m\n",
      "\u001b[32m[I 2022-08-05 13:23:01,375]\u001b[0m Trial 1758 finished with value: -0.005524095980935927 and parameters: {'kernel': 'rbf', 'C': 0.13097625565042076, 'gamma': 0.015536563065132377, 'epsilon': 0.0014615869387586808}. Best is trial 1308 with value: -0.005520821931362491.\u001b[0m\n",
      "\u001b[32m[I 2022-08-05 13:23:03,006]\u001b[0m Trial 1759 finished with value: -0.0055258563229473754 and parameters: {'kernel': 'rbf', 'C': 0.12870636008179318, 'gamma': 0.01731236406482474, 'epsilon': 0.0014394534210758242}. Best is trial 1308 with value: -0.005520821931362491.\u001b[0m\n",
      "\u001b[32m[I 2022-08-05 13:23:05,084]\u001b[0m Trial 1761 finished with value: -0.006409924796595501 and parameters: {'kernel': 'rbf', 'C': 0.13579939250884415, 'gamma': 0.0011969161405586638, 'epsilon': 0.0013872042849465433}. Best is trial 1308 with value: -0.005520821931362491.\u001b[0m\n",
      "\u001b[32m[I 2022-08-05 13:23:07,662]\u001b[0m Trial 1762 finished with value: -0.005537679290612769 and parameters: {'kernel': 'rbf', 'C': 0.14083468922788836, 'gamma': 0.013537476186869747, 'epsilon': 0.0014194967476422035}. Best is trial 1308 with value: -0.005520821931362491.\u001b[0m\n",
      "\u001b[32m[I 2022-08-05 13:23:09,090]\u001b[0m Trial 1763 finished with value: -0.005548857285728566 and parameters: {'kernel': 'rbf', 'C': 0.10773548162983508, 'gamma': 0.022233142653946526, 'epsilon': 0.001332713586156542}. Best is trial 1308 with value: -0.005520821931362491.\u001b[0m\n",
      "\u001b[32m[I 2022-08-05 13:23:11,301]\u001b[0m Trial 1764 finished with value: -0.005559146618494133 and parameters: {'kernel': 'rbf', 'C': 0.10789325124330097, 'gamma': 0.01342138676992735, 'epsilon': 0.001172830904571908}. Best is trial 1308 with value: -0.005520821931362491.\u001b[0m\n",
      "\u001b[32m[I 2022-08-05 13:23:13,256]\u001b[0m Trial 1765 finished with value: -0.005561523260286608 and parameters: {'kernel': 'rbf', 'C': 0.10701982823391207, 'gamma': 0.013270320294545024, 'epsilon': 0.0011961034994102606}. Best is trial 1308 with value: -0.005520821931362491.\u001b[0m\n",
      "\u001b[32m[I 2022-08-05 13:23:13,506]\u001b[0m Trial 1766 finished with value: -0.006051595121074794 and parameters: {'kernel': 'rbf', 'C': 0.023256441700314746, 'gamma': 0.009664164726493939, 'epsilon': 0.0011393554635153924}. Best is trial 1308 with value: -0.005520821931362491.\u001b[0m\n",
      "\u001b[32m[I 2022-08-05 13:23:15,848]\u001b[0m Trial 1767 finished with value: -0.005560746533054683 and parameters: {'kernel': 'rbf', 'C': 0.09697501163565037, 'gamma': 0.014343251206893916, 'epsilon': 0.0011354848265137175}. Best is trial 1308 with value: -0.005520821931362491.\u001b[0m\n",
      "\u001b[32m[I 2022-08-05 13:23:18,185]\u001b[0m Trial 1768 finished with value: -0.005570036007067813 and parameters: {'kernel': 'rbf', 'C': 0.07252647942534686, 'gamma': 0.023898304171712688, 'epsilon': 0.0011840055803116719}. Best is trial 1308 with value: -0.005520821931362491.\u001b[0m\n",
      "\u001b[32m[I 2022-08-05 13:23:21,072]\u001b[0m Trial 1770 finished with value: -0.005573142263110272 and parameters: {'kernel': 'rbf', 'C': 0.0700600465412783, 'gamma': 0.023965775628910297, 'epsilon': 0.0013429871559562973}. Best is trial 1308 with value: -0.005520821931362491.\u001b[0m\n",
      "\u001b[32m[I 2022-08-05 13:23:21,551]\u001b[0m Trial 1769 finished with value: -0.005587108463840467 and parameters: {'kernel': 'rbf', 'C': 0.17536898865861322, 'gamma': 0.009263822371822881, 'epsilon': 0.0013254495551053348}. Best is trial 1308 with value: -0.005520821931362491.\u001b[0m\n"
     ]
    },
    {
     "name": "stderr",
     "output_type": "stream",
     "text": [
      "\u001b[32m[I 2022-08-05 13:23:23,088]\u001b[0m Trial 1771 finished with value: -0.005567992309997948 and parameters: {'kernel': 'rbf', 'C': 0.07043167695280753, 'gamma': 0.02313939507708938, 'epsilon': 0.0013425935365881131}. Best is trial 1308 with value: -0.005520821931362491.\u001b[0m\n",
      "\u001b[32m[I 2022-08-05 13:23:28,968]\u001b[0m Trial 1772 finished with value: -0.0055669566779132885 and parameters: {'kernel': 'rbf', 'C': 0.1798523900281813, 'gamma': 0.018120677374034114, 'epsilon': 0.0010029855318919381}. Best is trial 1308 with value: -0.005520821931362491.\u001b[0m\n",
      "\u001b[32m[I 2022-08-05 13:23:30,348]\u001b[0m Trial 1773 finished with value: -0.005553830005387109 and parameters: {'kernel': 'rbf', 'C': 0.1790304341134649, 'gamma': 0.01801769411531675, 'epsilon': 0.001346086600790654}. Best is trial 1308 with value: -0.005520821931362491.\u001b[0m\n",
      "\u001b[32m[I 2022-08-05 13:23:31,091]\u001b[0m Trial 1774 finished with value: -0.005541535066785816 and parameters: {'kernel': 'rbf', 'C': 0.14739480014180162, 'gamma': 0.01750248198799838, 'epsilon': 0.0010186816987426386}. Best is trial 1308 with value: -0.005520821931362491.\u001b[0m\n",
      "\u001b[32m[I 2022-08-05 13:23:31,809]\u001b[0m Trial 1775 finished with value: -0.0055313997464559814 and parameters: {'kernel': 'rbf', 'C': 0.1504987644984617, 'gamma': 0.017846442820176726, 'epsilon': 0.0015848837511402585}. Best is trial 1308 with value: -0.005520821931362491.\u001b[0m\n",
      "\u001b[32m[I 2022-08-05 13:23:36,374]\u001b[0m Trial 1776 finished with value: -0.0055297197220600626 and parameters: {'kernel': 'rbf', 'C': 0.1488387615928266, 'gamma': 0.017587814935079046, 'epsilon': 0.0016158221971573335}. Best is trial 1308 with value: -0.005520821931362491.\u001b[0m\n",
      "\u001b[32m[I 2022-08-05 13:23:37,684]\u001b[0m Trial 1777 finished with value: -0.005523245332934088 and parameters: {'kernel': 'rbf', 'C': 0.14775206773758603, 'gamma': 0.015245994319672974, 'epsilon': 0.0015971389022522056}. Best is trial 1308 with value: -0.005520821931362491.\u001b[0m\n",
      "\u001b[32m[I 2022-08-05 13:23:37,997]\u001b[0m Trial 1778 finished with value: -0.005529093179243912 and parameters: {'kernel': 'rbf', 'C': 0.12075194691012363, 'gamma': 0.01543537446035241, 'epsilon': 0.0015968966466602798}. Best is trial 1308 with value: -0.005520821931362491.\u001b[0m\n",
      "\u001b[32m[I 2022-08-05 13:23:38,762]\u001b[0m Trial 1779 finished with value: -0.005529412565245281 and parameters: {'kernel': 'rbf', 'C': 0.11961093944438907, 'gamma': 0.015337819971250301, 'epsilon': 0.0015887967912829224}. Best is trial 1308 with value: -0.005520821931362491.\u001b[0m\n",
      "\u001b[32m[I 2022-08-05 13:23:42,611]\u001b[0m Trial 1780 finished with value: -0.005588284115993275 and parameters: {'kernel': 'rbf', 'C': 0.11789168800652365, 'gamma': 0.010916674361705708, 'epsilon': 0.001526662399564476}. Best is trial 1308 with value: -0.005520821931362491.\u001b[0m\n",
      "\u001b[32m[I 2022-08-05 13:23:44,968]\u001b[0m Trial 1781 finished with value: -0.005552531672569794 and parameters: {'kernel': 'rbf', 'C': 0.2285076019340273, 'gamma': 0.011672509699651678, 'epsilon': 0.0018624706494794901}. Best is trial 1308 with value: -0.005520821931362491.\u001b[0m\n",
      "\u001b[32m[I 2022-08-05 13:23:45,171]\u001b[0m Trial 1782 finished with value: -0.005557904644412673 and parameters: {'kernel': 'rbf', 'C': 0.18274675286880204, 'gamma': 0.01102905579960368, 'epsilon': 0.001858532814558187}. Best is trial 1308 with value: -0.005520821931362491.\u001b[0m\n",
      "\u001b[32m[I 2022-08-05 13:23:45,405]\u001b[0m Trial 1783 finished with value: -0.006413290379596087 and parameters: {'kernel': 'poly', 'C': 0.20215325119624855, 'gamma': 0.011259738976239619, 'epsilon': 0.0019135216639929612}. Best is trial 1308 with value: -0.005520821931362491.\u001b[0m\n",
      "\u001b[32m[I 2022-08-05 13:23:49,198]\u001b[0m Trial 1784 finished with value: -0.006417600999306396 and parameters: {'kernel': 'poly', 'C': 0.18726999127611593, 'gamma': 0.011893164247190472, 'epsilon': 0.0019153448494476023}. Best is trial 1308 with value: -0.005520821931362491.\u001b[0m\n",
      "\u001b[32m[I 2022-08-05 13:23:50,172]\u001b[0m Trial 1786 finished with value: -0.005681453156505679 and parameters: {'kernel': 'rbf', 'C': 0.16928256730536528, 'gamma': 0.006725427494275982, 'epsilon': 0.0024235421647847417}. Best is trial 1308 with value: -0.005520821931362491.\u001b[0m\n",
      "\u001b[32m[I 2022-08-05 13:23:50,433]\u001b[0m Trial 1785 finished with value: -0.006379773505943185 and parameters: {'kernel': 'poly', 'C': 0.18913689404839362, 'gamma': 0.012500441048893696, 'epsilon': 0.0023371742136692065}. Best is trial 1308 with value: -0.005520821931362491.\u001b[0m\n",
      "\u001b[32m[I 2022-08-05 13:23:50,860]\u001b[0m Trial 1787 finished with value: -0.006344072998280589 and parameters: {'kernel': 'rbf', 'C': 0.16374399220499603, 'gamma': 0.11827081479483025, 'epsilon': 0.0022132609786637116}. Best is trial 1308 with value: -0.005520821931362491.\u001b[0m\n",
      "\u001b[32m[I 2022-08-05 13:23:54,652]\u001b[0m Trial 1788 finished with value: -0.00555681583106267 and parameters: {'kernel': 'rbf', 'C': 0.16663352216510613, 'gamma': 0.013569325013989194, 'epsilon': 0.002428704340792459}. Best is trial 1308 with value: -0.005520821931362491.\u001b[0m\n",
      "\u001b[32m[I 2022-08-05 13:23:55,401]\u001b[0m Trial 1789 finished with value: -0.00554779792149065 and parameters: {'kernel': 'rbf', 'C': 0.15498018786288897, 'gamma': 0.013268402321998305, 'epsilon': 0.002129652909203236}. Best is trial 1308 with value: -0.005520821931362491.\u001b[0m\n",
      "\u001b[32m[I 2022-08-05 13:23:56,167]\u001b[0m Trial 1790 finished with value: -0.005544689859898969 and parameters: {'kernel': 'rbf', 'C': 0.16639272398647015, 'gamma': 0.013633581158182138, 'epsilon': 0.002148507087884023}. Best is trial 1308 with value: -0.005520821931362491.\u001b[0m\n",
      "\u001b[32m[I 2022-08-05 13:23:57,363]\u001b[0m Trial 1791 finished with value: -0.005528704869649531 and parameters: {'kernel': 'rbf', 'C': 0.15756715917806366, 'gamma': 0.014045699227643094, 'epsilon': 0.001766668155969265}. Best is trial 1308 with value: -0.005520821931362491.\u001b[0m\n",
      "\u001b[32m[I 2022-08-05 13:24:02,151]\u001b[0m Trial 1792 finished with value: -0.005529564951078734 and parameters: {'kernel': 'rbf', 'C': 0.14937758915792215, 'gamma': 0.014364516695438173, 'epsilon': 0.0017023126770853395}. Best is trial 1308 with value: -0.005520821931362491.\u001b[0m\n",
      "\u001b[32m[I 2022-08-05 13:24:02,600]\u001b[0m Trial 1793 finished with value: -0.00552810196582022 and parameters: {'kernel': 'rbf', 'C': 0.14089978165029501, 'gamma': 0.014910399755735704, 'epsilon': 0.0016959185218899954}. Best is trial 1308 with value: -0.005520821931362491.\u001b[0m\n",
      "\u001b[32m[I 2022-08-05 13:24:03,519]\u001b[0m Trial 1794 finished with value: -0.0055249166644230395 and parameters: {'kernel': 'rbf', 'C': 0.14446554184182486, 'gamma': 0.015187346924197848, 'epsilon': 0.0017207143234349075}. Best is trial 1308 with value: -0.005520821931362491.\u001b[0m\n",
      "\u001b[32m[I 2022-08-05 13:24:04,425]\u001b[0m Trial 1795 finished with value: -0.005524497303135314 and parameters: {'kernel': 'rbf', 'C': 0.1385141370843785, 'gamma': 0.015395645359734481, 'epsilon': 0.0016792370400938892}. Best is trial 1308 with value: -0.005520821931362491.\u001b[0m\n",
      "\u001b[32m[I 2022-08-05 13:24:09,774]\u001b[0m Trial 1796 finished with value: -0.00552427845718981 and parameters: {'kernel': 'rbf', 'C': 0.13746218210686842, 'gamma': 0.015817717528517718, 'epsilon': 0.0014225399927945894}. Best is trial 1308 with value: -0.005520821931362491.\u001b[0m\n",
      "\u001b[32m[I 2022-08-05 13:24:10,713]\u001b[0m Trial 1797 finished with value: -0.005552598237583844 and parameters: {'kernel': 'rbf', 'C': 0.1355863215833036, 'gamma': 0.020736236892621187, 'epsilon': 0.0013822834186192296}. Best is trial 1308 with value: -0.005520821931362491.\u001b[0m\n",
      "\u001b[32m[I 2022-08-05 13:24:12,394]\u001b[0m Trial 1799 finished with value: -0.0055479235082249315 and parameters: {'kernel': 'rbf', 'C': 0.23041720409383937, 'gamma': 0.012087012540299312, 'epsilon': 0.0019553796538962116}. Best is trial 1308 with value: -0.005520821931362491.\u001b[0m\n",
      "\u001b[32m[I 2022-08-05 13:24:13,034]\u001b[0m Trial 1798 finished with value: -0.0056263059760374694 and parameters: {'kernel': 'rbf', 'C': 0.21446993944119744, 'gamma': 0.02132564960006949, 'epsilon': 0.0014189462229859961}. Best is trial 1308 with value: -0.005520821931362491.\u001b[0m\n",
      "\u001b[32m[I 2022-08-05 13:24:15,251]\u001b[0m Trial 1803 finished with value: -0.045584497709053845 and parameters: {'kernel': 'rbf', 'C': 0.16924253362683117, 'gamma': 0.01670760292635325, 'epsilon': 0.7511011823393917}. Best is trial 1308 with value: -0.005520821931362491.\u001b[0m\n"
     ]
    },
    {
     "name": "stderr",
     "output_type": "stream",
     "text": [
      "\u001b[32m[I 2022-08-05 13:24:17,952]\u001b[0m Trial 1800 finished with value: -0.005569412449065379 and parameters: {'kernel': 'rbf', 'C': 0.20728262498355648, 'gamma': 0.009759386699471252, 'epsilon': 0.001204877656905896}. Best is trial 1308 with value: -0.005520821931362491.\u001b[0m\n",
      "\u001b[32m[I 2022-08-05 13:24:19,034]\u001b[0m Trial 1801 finished with value: -0.005565790935059531 and parameters: {'kernel': 'rbf', 'C': 0.21187752602741203, 'gamma': 0.009818182696624768, 'epsilon': 0.0011795207786539526}. Best is trial 1308 with value: -0.005520821931362491.\u001b[0m\n",
      "\u001b[32m[I 2022-08-05 13:24:21,159]\u001b[0m Trial 1802 finished with value: -0.005580439506023489 and parameters: {'kernel': 'rbf', 'C': 0.18921507527860532, 'gamma': 0.009530815116226216, 'epsilon': 0.0011569973638422646}. Best is trial 1308 with value: -0.005520821931362491.\u001b[0m\n",
      "\u001b[32m[I 2022-08-05 13:24:25,021]\u001b[0m Trial 1804 finished with value: -0.005542162665513711 and parameters: {'kernel': 'rbf', 'C': 0.18926962031070452, 'gamma': 0.01285905187104061, 'epsilon': 0.0012183427222793623}. Best is trial 1308 with value: -0.005520821931362491.\u001b[0m\n",
      "\u001b[32m[I 2022-08-05 13:24:27,430]\u001b[0m Trial 1805 finished with value: -0.005540370277378607 and parameters: {'kernel': 'rbf', 'C': 0.18135715114936882, 'gamma': 0.013240061959193724, 'epsilon': 0.0011551253302746162}. Best is trial 1308 with value: -0.005520821931362491.\u001b[0m\n",
      "\u001b[32m[I 2022-08-05 13:24:28,253]\u001b[0m Trial 1806 finished with value: -0.005565327245763052 and parameters: {'kernel': 'rbf', 'C': 0.1803122633604294, 'gamma': 0.019168226965861984, 'epsilon': 0.001379622025116274}. Best is trial 1308 with value: -0.005520821931362491.\u001b[0m\n",
      "\u001b[32m[I 2022-08-05 13:24:29,769]\u001b[0m Trial 1807 finished with value: -0.005538880201599261 and parameters: {'kernel': 'rbf', 'C': 0.15866959199666764, 'gamma': 0.012717556598579783, 'epsilon': 0.0013739641735089942}. Best is trial 1308 with value: -0.005520821931362491.\u001b[0m\n",
      "\u001b[32m[I 2022-08-05 13:24:36,446]\u001b[0m Trial 1809 finished with value: -0.005540194155078718 and parameters: {'kernel': 'rbf', 'C': 0.15391371578991828, 'gamma': 0.018162946702083724, 'epsilon': 0.001398781423819996}. Best is trial 1308 with value: -0.005520821931362491.\u001b[0m\n",
      "\u001b[32m[I 2022-08-05 13:24:37,165]\u001b[0m Trial 1810 finished with value: -0.005529301217905255 and parameters: {'kernel': 'rbf', 'C': 0.14684233116305342, 'gamma': 0.017113021462895547, 'epsilon': 0.001388234714504173}. Best is trial 1308 with value: -0.005520821931362491.\u001b[0m\n",
      "\u001b[32m[I 2022-08-05 13:24:37,602]\u001b[0m Trial 1808 finished with value: -0.00564146160908637 and parameters: {'kernel': 'rbf', 'C': 0.27670693650261496, 'gamma': 0.019258353242993242, 'epsilon': 0.0010074691046606731}. Best is trial 1308 with value: -0.005520821931362491.\u001b[0m\n",
      "\u001b[32m[I 2022-08-05 13:24:37,962]\u001b[0m Trial 1811 finished with value: -0.005523473544027318 and parameters: {'kernel': 'rbf', 'C': 0.1377744302844025, 'gamma': 0.016431264452691673, 'epsilon': 0.0014487361999044658}. Best is trial 1308 with value: -0.005520821931362491.\u001b[0m\n",
      "\u001b[32m[I 2022-08-05 13:24:43,783]\u001b[0m Trial 1813 finished with value: -0.00552353551968018 and parameters: {'kernel': 'rbf', 'C': 0.13677551398674667, 'gamma': 0.015603402918118509, 'epsilon': 0.0014952251715246688}. Best is trial 1308 with value: -0.005520821931362491.\u001b[0m\n",
      "\u001b[32m[I 2022-08-05 13:24:43,925]\u001b[0m Trial 1812 finished with value: -0.005524472411875752 and parameters: {'kernel': 'rbf', 'C': 0.1335425618389265, 'gamma': 0.015600632100545884, 'epsilon': 0.0014920031476629467}. Best is trial 1308 with value: -0.005520821931362491.\u001b[0m\n",
      "\u001b[32m[I 2022-08-05 13:24:45,295]\u001b[0m Trial 1814 finished with value: -0.005526518054262926 and parameters: {'kernel': 'rbf', 'C': 0.1339769435665798, 'gamma': 0.015719199529130836, 'epsilon': 0.0015167333488471629}. Best is trial 1308 with value: -0.005520821931362491.\u001b[0m\n",
      "\u001b[32m[I 2022-08-05 13:24:45,688]\u001b[0m Trial 1815 finished with value: -0.00554946764478333 and parameters: {'kernel': 'rbf', 'C': 0.13070869298698393, 'gamma': 0.020758188307706173, 'epsilon': 0.0015600495834231225}. Best is trial 1308 with value: -0.005520821931362491.\u001b[0m\n",
      "\u001b[32m[I 2022-08-05 13:24:51,043]\u001b[0m Trial 1816 finished with value: -0.005531949380777739 and parameters: {'kernel': 'rbf', 'C': 0.1356153792766828, 'gamma': 0.014455775734178966, 'epsilon': 0.0015753618527769467}. Best is trial 1308 with value: -0.005520821931362491.\u001b[0m\n",
      "\u001b[32m[I 2022-08-05 13:24:51,058]\u001b[0m Trial 1817 finished with value: -0.0055519831902590576 and parameters: {'kernel': 'rbf', 'C': 0.157905923354314, 'gamma': 0.011443162094185253, 'epsilon': 0.0015863567419415845}. Best is trial 1308 with value: -0.005520821931362491.\u001b[0m\n",
      "\u001b[32m[I 2022-08-05 13:24:51,910]\u001b[0m Trial 1818 finished with value: -0.005565046858692649 and parameters: {'kernel': 'rbf', 'C': 0.14876669776624613, 'gamma': 0.011285479905002067, 'epsilon': 0.0018530609097879296}. Best is trial 1308 with value: -0.005520821931362491.\u001b[0m\n",
      "\u001b[32m[I 2022-08-05 13:24:52,444]\u001b[0m Trial 1819 finished with value: -0.005567482256887608 and parameters: {'kernel': 'rbf', 'C': 0.16181213962943486, 'gamma': 0.010785072928941554, 'epsilon': 0.0018934413588446999}. Best is trial 1308 with value: -0.005520821931362491.\u001b[0m\n",
      "\u001b[32m[I 2022-08-05 13:24:57,724]\u001b[0m Trial 1821 finished with value: -0.0055658701420194965 and parameters: {'kernel': 'rbf', 'C': 0.16524550940500166, 'gamma': 0.010928528002718586, 'epsilon': 0.0019434173537091711}. Best is trial 1308 with value: -0.005520821931362491.\u001b[0m\n",
      "\u001b[32m[I 2022-08-05 13:24:57,880]\u001b[0m Trial 1820 finished with value: -0.005541263750233143 and parameters: {'kernel': 'rbf', 'C': 0.16541770754803947, 'gamma': 0.01289216704448869, 'epsilon': 0.001884933090110165}. Best is trial 1308 with value: -0.005520821931362491.\u001b[0m\n",
      "\u001b[32m[I 2022-08-05 13:24:58,158]\u001b[0m Trial 1822 finished with value: -0.005535088204224314 and parameters: {'kernel': 'rbf', 'C': 0.1621701994970342, 'gamma': 0.014076924531983172, 'epsilon': 0.0019924132805453788}. Best is trial 1308 with value: -0.005520821931362491.\u001b[0m\n",
      "\u001b[32m[I 2022-08-05 13:24:59,824]\u001b[0m Trial 1823 finished with value: -0.005533328475292313 and parameters: {'kernel': 'rbf', 'C': 0.1711109105826636, 'gamma': 0.013379420345457565, 'epsilon': 0.0017590514490998376}. Best is trial 1308 with value: -0.005520821931362491.\u001b[0m\n",
      "\u001b[32m[I 2022-08-05 13:25:05,474]\u001b[0m Trial 1825 finished with value: -0.005539318399319054 and parameters: {'kernel': 'rbf', 'C': 0.12000290664003394, 'gamma': 0.014023222854784443, 'epsilon': 0.0012804602851182844}. Best is trial 1308 with value: -0.005520821931362491.\u001b[0m\n",
      "\u001b[32m[I 2022-08-05 13:25:05,627]\u001b[0m Trial 1824 finished with value: -0.005551250418526752 and parameters: {'kernel': 'rbf', 'C': 0.119641843988948, 'gamma': 0.01388216840953497, 'epsilon': 0.00101012645086142}. Best is trial 1308 with value: -0.005520821931362491.\u001b[0m\n",
      "\u001b[32m[I 2022-08-05 13:25:06,189]\u001b[0m Trial 1826 finished with value: -0.005534881679621089 and parameters: {'kernel': 'rbf', 'C': 0.11418650959568452, 'gamma': 0.014893848429396629, 'epsilon': 0.0013651203472007285}. Best is trial 1308 with value: -0.005520821931362491.\u001b[0m\n",
      "\u001b[32m[I 2022-08-05 13:25:08,963]\u001b[0m Trial 1827 finished with value: -0.005533484465730344 and parameters: {'kernel': 'rbf', 'C': 0.11849702115339562, 'gamma': 0.016229820248593117, 'epsilon': 0.0012724686169694637}. Best is trial 1308 with value: -0.005520821931362491.\u001b[0m\n",
      "\u001b[32m[I 2022-08-05 13:25:09,656]\u001b[0m Trial 1829 finished with value: -0.0056179430588878376 and parameters: {'kernel': 'rbf', 'C': 0.13324307242204997, 'gamma': 0.017186609933585967, 'epsilon': 0.0031869188788433236}. Best is trial 1308 with value: -0.005520821931362491.\u001b[0m\n",
      "\u001b[32m[I 2022-08-05 13:25:11,730]\u001b[0m Trial 1832 finished with value: -0.04558449770905385 and parameters: {'kernel': 'rbf', 'C': 0.14405988378095833, 'gamma': 0.018917818053641604, 'epsilon': 0.12297542763974181}. Best is trial 1308 with value: -0.005520821931362491.\u001b[0m\n",
      "\u001b[32m[I 2022-08-05 13:25:12,493]\u001b[0m Trial 1828 finished with value: -0.005738652653731951 and parameters: {'kernel': 'rbf', 'C': 0.11729626472219508, 'gamma': 0.038472191766025905, 'epsilon': 0.0012781719655309371}. Best is trial 1308 with value: -0.005520821931362491.\u001b[0m\n"
     ]
    },
    {
     "name": "stderr",
     "output_type": "stream",
     "text": [
      "\u001b[32m[I 2022-08-05 13:25:13,261]\u001b[0m Trial 1831 finished with value: -0.0056090949136559844 and parameters: {'kernel': 'rbf', 'C': 0.1440486506021092, 'gamma': 0.0168950173660362, 'epsilon': 0.003089190984118293}. Best is trial 1308 with value: -0.005520821931362491.\u001b[0m\n",
      "\u001b[32m[I 2022-08-05 13:25:13,552]\u001b[0m Trial 1830 finished with value: -0.00553069701266517 and parameters: {'kernel': 'rbf', 'C': 0.1329011092196374, 'gamma': 0.016010730582927634, 'epsilon': 0.001260372873073683}. Best is trial 1308 with value: -0.005520821931362491.\u001b[0m\n",
      "\u001b[32m[I 2022-08-05 13:25:20,420]\u001b[0m Trial 1833 finished with value: -0.0055450858726537496 and parameters: {'kernel': 'rbf', 'C': 0.19325148155207592, 'gamma': 0.016836733656568154, 'epsilon': 0.001666131011476138}. Best is trial 1308 with value: -0.005520821931362491.\u001b[0m\n",
      "\u001b[32m[I 2022-08-05 13:25:21,809]\u001b[0m Trial 1834 finished with value: -0.005549567405918148 and parameters: {'kernel': 'rbf', 'C': 0.19645449200006962, 'gamma': 0.01707119127943333, 'epsilon': 0.0016544651259454287}. Best is trial 1308 with value: -0.005520821931362491.\u001b[0m\n",
      "\u001b[32m[I 2022-08-05 13:25:23,481]\u001b[0m Trial 1835 finished with value: -0.005594320245423511 and parameters: {'kernel': 'rbf', 'C': 0.19404537575569142, 'gamma': 0.020374555335594093, 'epsilon': 0.0016622851849521687}. Best is trial 1308 with value: -0.005520821931362491.\u001b[0m\n",
      "\u001b[32m[I 2022-08-05 13:25:24,106]\u001b[0m Trial 1836 finished with value: -0.005596252651160721 and parameters: {'kernel': 'rbf', 'C': 0.18774231676821512, 'gamma': 0.020956756069927494, 'epsilon': 0.0016243275703807308}. Best is trial 1308 with value: -0.005520821931362491.\u001b[0m\n",
      "\u001b[32m[I 2022-08-05 13:25:29,257]\u001b[0m Trial 1838 finished with value: -0.005536857150984943 and parameters: {'kernel': 'rbf', 'C': 0.10189058274099648, 'gamma': 0.021074409409202105, 'epsilon': 0.0015630659452608277}. Best is trial 1308 with value: -0.005520821931362491.\u001b[0m\n",
      "\u001b[32m[I 2022-08-05 13:25:30,172]\u001b[0m Trial 1837 finished with value: -0.00554852192179768 and parameters: {'kernel': 'rbf', 'C': 0.10488018828573786, 'gamma': 0.021273799768220008, 'epsilon': 0.001006289379694733}. Best is trial 1308 with value: -0.005520821931362491.\u001b[0m\n",
      "\u001b[32m[I 2022-08-05 13:25:30,469]\u001b[0m Trial 1840 finished with value: -0.00559891924774855 and parameters: {'kernel': 'rbf', 'C': 0.10264159094384011, 'gamma': 0.01206153837556704, 'epsilon': 0.0021286810841640675}. Best is trial 1308 with value: -0.005520821931362491.\u001b[0m\n",
      "\u001b[32m[I 2022-08-05 13:25:31,405]\u001b[0m Trial 1839 finished with value: -0.00558517215189972 and parameters: {'kernel': 'rbf', 'C': 0.10021249935265748, 'gamma': 0.012834667675318238, 'epsilon': 0.0010060750107382817}. Best is trial 1308 with value: -0.005520821931362491.\u001b[0m\n",
      "\u001b[32m[I 2022-08-05 13:25:34,305]\u001b[0m Trial 1842 finished with value: -0.005747704681942841 and parameters: {'kernel': 'rbf', 'C': 0.15467708193165244, 'gamma': 0.012549648983095813, 'epsilon': 0.004219899250805218}. Best is trial 1308 with value: -0.005520821931362491.\u001b[0m\n",
      "\u001b[32m[I 2022-08-05 13:25:37,171]\u001b[0m Trial 1841 finished with value: -0.005557815320614908 and parameters: {'kernel': 'rbf', 'C': 0.14216642958880743, 'gamma': 0.01248344541335586, 'epsilon': 0.001005307943302416}. Best is trial 1308 with value: -0.005520821931362491.\u001b[0m\n",
      "\u001b[32m[I 2022-08-05 13:25:37,896]\u001b[0m Trial 1843 finished with value: -0.005528125040815396 and parameters: {'kernel': 'rbf', 'C': 0.15153280254413304, 'gamma': 0.014351570419377842, 'epsilon': 0.0014497205560816916}. Best is trial 1308 with value: -0.005520821931362491.\u001b[0m\n",
      "\u001b[32m[I 2022-08-05 13:25:39,583]\u001b[0m Trial 1844 finished with value: -0.005525641668923107 and parameters: {'kernel': 'rbf', 'C': 0.1512603793530727, 'gamma': 0.015073867193825072, 'epsilon': 0.0014606570939087894}. Best is trial 1308 with value: -0.005520821931362491.\u001b[0m\n",
      "\u001b[32m[I 2022-08-05 13:25:39,755]\u001b[0m Trial 1845 finished with value: -0.005646408821891352 and parameters: {'kernel': 'rbf', 'C': 0.24927847282910037, 'gamma': 0.007807768789211022, 'epsilon': 0.002701478492598527}. Best is trial 1308 with value: -0.005520821931362491.\u001b[0m\n",
      "\u001b[32m[I 2022-08-05 13:25:43,295]\u001b[0m Trial 1846 finished with value: -0.005649290708354818 and parameters: {'kernel': 'rbf', 'C': 0.1273583533504221, 'gamma': 0.008213390780401876, 'epsilon': 0.0014568396893771673}. Best is trial 1308 with value: -0.005520821931362491.\u001b[0m\n",
      "\u001b[32m[I 2022-08-05 13:25:45,581]\u001b[0m Trial 1847 finished with value: -0.005587732313501103 and parameters: {'kernel': 'rbf', 'C': 0.24241241027636107, 'gamma': 0.008305033119100039, 'epsilon': 0.001437121284830489}. Best is trial 1308 with value: -0.005520821931362491.\u001b[0m\n",
      "\u001b[32m[I 2022-08-05 13:25:46,453]\u001b[0m Trial 1849 finished with value: -0.005532218262617229 and parameters: {'kernel': 'rbf', 'C': 0.12439982655933976, 'gamma': 0.01726033105270611, 'epsilon': 0.0020437045724839304}. Best is trial 1308 with value: -0.005520821931362491.\u001b[0m\n",
      "\u001b[32m[I 2022-08-05 13:25:47,336]\u001b[0m Trial 1848 finished with value: -0.005620181793243379 and parameters: {'kernel': 'rbf', 'C': 0.2634956693542704, 'gamma': 0.017997117708264777, 'epsilon': 0.002091249676270005}. Best is trial 1308 with value: -0.005520821931362491.\u001b[0m\n",
      "\u001b[32m[I 2022-08-05 13:25:52,005]\u001b[0m Trial 1851 finished with value: -0.0055371074681295806 and parameters: {'kernel': 'rbf', 'C': 0.12733204771821352, 'gamma': 0.018635584429890918, 'epsilon': 0.002049793059387307}. Best is trial 1308 with value: -0.005520821931362491.\u001b[0m\n",
      "\u001b[32m[I 2022-08-05 13:25:52,223]\u001b[0m Trial 1850 finished with value: -0.005535064511105086 and parameters: {'kernel': 'rbf', 'C': 0.1278975960654165, 'gamma': 0.018676576537609627, 'epsilon': 0.0011378520902432586}. Best is trial 1308 with value: -0.005520821931362491.\u001b[0m\n",
      "\u001b[32m[I 2022-08-05 13:25:52,614]\u001b[0m Trial 1852 finished with value: -0.005713437870526323 and parameters: {'kernel': 'rbf', 'C': 0.037316982637176636, 'gamma': 0.026138878760307082, 'epsilon': 0.001205235039310051}. Best is trial 1308 with value: -0.005520821931362491.\u001b[0m\n",
      "\u001b[32m[I 2022-08-05 13:26:01,750]\u001b[0m Trial 1855 finished with value: -0.005650836606173709 and parameters: {'kernel': 'rbf', 'C': 0.16790299361391478, 'gamma': 0.02484454425648956, 'epsilon': 0.0017691861394794443}. Best is trial 1308 with value: -0.005520821931362491.\u001b[0m\n",
      "\u001b[32m[I 2022-08-05 13:26:02,265]\u001b[0m Trial 1856 finished with value: -0.005529845797593343 and parameters: {'kernel': 'rbf', 'C': 0.1655352819891083, 'gamma': 0.01500871475040186, 'epsilon': 0.0017682396644312134}. Best is trial 1308 with value: -0.005520821931362491.\u001b[0m\n",
      "\u001b[32m[I 2022-08-05 13:26:02,987]\u001b[0m Trial 1854 finished with value: -0.005672939761296752 and parameters: {'kernel': 'rbf', 'C': 0.1697767611032094, 'gamma': 0.026754394945422835, 'epsilon': 0.0012256184852708493}. Best is trial 1308 with value: -0.005520821931362491.\u001b[0m\n",
      "\u001b[32m[I 2022-08-05 13:26:03,553]\u001b[0m Trial 1858 finished with value: -0.045584497709053845 and parameters: {'kernel': 'rbf', 'C': 0.11244247779544259, 'gamma': 0.014931658090894553, 'epsilon': 0.4723161953546319}. Best is trial 1308 with value: -0.005520821931362491.\u001b[0m\n",
      "\u001b[32m[I 2022-08-05 13:26:04,904]\u001b[0m Trial 1859 finished with value: -0.045584497709053845 and parameters: {'kernel': 'rbf', 'C': 0.14202159215417892, 'gamma': 0.014965625218402051, 'epsilon': 0.43426027955076085}. Best is trial 1308 with value: -0.005520821931362491.\u001b[0m\n",
      "\u001b[32m[I 2022-08-05 13:26:08,197]\u001b[0m Trial 1857 finished with value: -0.00554042416999745 and parameters: {'kernel': 'rbf', 'C': 0.11238046445505584, 'gamma': 0.014804820650416457, 'epsilon': 0.0017486638589799027}. Best is trial 1308 with value: -0.005520821931362491.\u001b[0m\n",
      "\u001b[32m[I 2022-08-05 13:26:12,105]\u001b[0m Trial 1860 finished with value: -0.005527817865614515 and parameters: {'kernel': 'rbf', 'C': 0.13934885246420783, 'gamma': 0.014887486702024404, 'epsilon': 0.00152595526383871}. Best is trial 1308 with value: -0.005520821931362491.\u001b[0m\n",
      "\u001b[32m[I 2022-08-05 13:26:13,059]\u001b[0m Trial 1861 finished with value: -0.0055309485773148365 and parameters: {'kernel': 'rbf', 'C': 0.112372847886618, 'gamma': 0.01624732920030525, 'epsilon': 0.0015564633291176126}. Best is trial 1308 with value: -0.005520821931362491.\u001b[0m\n"
     ]
    },
    {
     "name": "stderr",
     "output_type": "stream",
     "text": [
      "\u001b[32m[I 2022-08-05 13:26:14,348]\u001b[0m Trial 1853 finished with value: -0.0062150795187848155 and parameters: {'kernel': 'rbf', 'C': 1.5988077448953038, 'gamma': 0.02599608050660575, 'epsilon': 0.0012015762981629884}. Best is trial 1308 with value: -0.005520821931362491.\u001b[0m\n",
      "\u001b[32m[I 2022-08-05 13:26:17,912]\u001b[0m Trial 1862 finished with value: -0.005540212996541298 and parameters: {'kernel': 'rbf', 'C': 0.13792485603703306, 'gamma': 0.019360981407796792, 'epsilon': 0.0013765115343391152}. Best is trial 1308 with value: -0.005520821931362491.\u001b[0m\n",
      "\u001b[32m[I 2022-08-05 13:26:19,422]\u001b[0m Trial 1863 finished with value: -0.005544208865022692 and parameters: {'kernel': 'rbf', 'C': 0.08623393909538389, 'gamma': 0.019599980413272773, 'epsilon': 0.0013246362246110476}. Best is trial 1308 with value: -0.005520821931362491.\u001b[0m\n",
      "\u001b[32m[I 2022-08-05 13:26:20,828]\u001b[0m Trial 1865 finished with value: -0.006372871141874587 and parameters: {'kernel': 'poly', 'C': 0.08789888659768044, 'gamma': 0.019269810725014495, 'epsilon': 0.002343891712706152}. Best is trial 1308 with value: -0.005520821931362491.\u001b[0m\n",
      "\u001b[32m[I 2022-08-05 13:26:21,124]\u001b[0m Trial 1864 finished with value: -0.005532908002043883 and parameters: {'kernel': 'rbf', 'C': 0.1304448476356866, 'gamma': 0.01877640737729582, 'epsilon': 0.001317307296899462}. Best is trial 1308 with value: -0.005520821931362491.\u001b[0m\n",
      "\u001b[32m[I 2022-08-05 13:26:24,592]\u001b[0m Trial 1866 finished with value: -0.005551341728946803 and parameters: {'kernel': 'rbf', 'C': 0.0899832377769843, 'gamma': 0.02196645588067062, 'epsilon': 0.0018318112981192509}. Best is trial 1308 with value: -0.005520821931362491.\u001b[0m\n",
      "\u001b[32m[I 2022-08-05 13:26:24,814]\u001b[0m Trial 1867 finished with value: -0.005619064087075334 and parameters: {'kernel': 'rbf', 'C': 0.12574699688697402, 'gamma': 0.010546461210236651, 'epsilon': 0.0024346231726759073}. Best is trial 1308 with value: -0.005520821931362491.\u001b[0m\n",
      "\u001b[32m[I 2022-08-05 13:26:27,286]\u001b[0m Trial 1868 finished with value: -0.00558342490624468 and parameters: {'kernel': 'rbf', 'C': 0.12501342002084817, 'gamma': 0.011034020097018687, 'epsilon': 0.0018406396029274942}. Best is trial 1308 with value: -0.005520821931362491.\u001b[0m\n",
      "\u001b[32m[I 2022-08-05 13:26:28,218]\u001b[0m Trial 1869 finished with value: -0.005548773893877792 and parameters: {'kernel': 'rbf', 'C': 0.14947213549208826, 'gamma': 0.012526774907388252, 'epsilon': 0.00181875740187254}. Best is trial 1308 with value: -0.005520821931362491.\u001b[0m\n",
      "\u001b[32m[I 2022-08-05 13:26:32,379]\u001b[0m Trial 1871 finished with value: -0.005542986544563148 and parameters: {'kernel': 'rbf', 'C': 0.17508234149052412, 'gamma': 0.012505197312073425, 'epsilon': 0.0016598930107119964}. Best is trial 1308 with value: -0.005520821931362491.\u001b[0m\n",
      "\u001b[32m[I 2022-08-05 13:26:32,692]\u001b[0m Trial 1870 finished with value: -0.005556828894912409 and parameters: {'kernel': 'rbf', 'C': 0.20951953032721055, 'gamma': 0.010723140441568203, 'epsilon': 0.0016594369238691307}. Best is trial 1308 with value: -0.005520821931362491.\u001b[0m\n",
      "\u001b[32m[I 2022-08-05 13:26:35,630]\u001b[0m Trial 1872 finished with value: -0.00553937158805734 and parameters: {'kernel': 'rbf', 'C': 0.15230654090624027, 'gamma': 0.013073625637157148, 'epsilon': 0.0016259775744495344}. Best is trial 1308 with value: -0.005520821931362491.\u001b[0m\n",
      "\u001b[32m[I 2022-08-05 13:26:37,018]\u001b[0m Trial 1873 finished with value: -0.005535296855054159 and parameters: {'kernel': 'rbf', 'C': 0.17521074411151114, 'gamma': 0.013138627219821954, 'epsilon': 0.0015723085216050167}. Best is trial 1308 with value: -0.005520821931362491.\u001b[0m\n",
      "\u001b[32m[I 2022-08-05 13:26:40,218]\u001b[0m Trial 1874 finished with value: -0.005527768260862562 and parameters: {'kernel': 'rbf', 'C': 0.155886822292573, 'gamma': 0.016706771377575123, 'epsilon': 0.0015403530196415965}. Best is trial 1308 with value: -0.005520821931362491.\u001b[0m\n",
      "\u001b[32m[I 2022-08-05 13:26:40,711]\u001b[0m Trial 1875 finished with value: -0.005528197584849566 and parameters: {'kernel': 'rbf', 'C': 0.15786795772569287, 'gamma': 0.01645144514991477, 'epsilon': 0.0015090770754109023}. Best is trial 1308 with value: -0.005520821931362491.\u001b[0m\n",
      "\u001b[32m[I 2022-08-05 13:26:45,089]\u001b[0m Trial 1876 finished with value: -0.005537845045693753 and parameters: {'kernel': 'rbf', 'C': 0.1075353130187317, 'gamma': 0.016339444016281963, 'epsilon': 0.0011303987293613566}. Best is trial 1308 with value: -0.005520821931362491.\u001b[0m\n",
      "\u001b[32m[I 2022-08-05 13:26:45,922]\u001b[0m Trial 1877 finished with value: -0.005528603192628242 and parameters: {'kernel': 'rbf', 'C': 0.1095975575775108, 'gamma': 0.016746609573184572, 'epsilon': 0.0014303198703801902}. Best is trial 1308 with value: -0.005520821931362491.\u001b[0m\n",
      "\u001b[32m[I 2022-08-05 13:26:47,072]\u001b[0m Trial 1879 finished with value: -0.005541991790558919 and parameters: {'kernel': 'rbf', 'C': 0.11091823262450339, 'gamma': 0.016784075760699874, 'epsilon': 0.002120604855937959}. Best is trial 1308 with value: -0.005520821931362491.\u001b[0m\n",
      "\u001b[32m[I 2022-08-05 13:26:49,119]\u001b[0m Trial 1878 finished with value: -0.005534011837097638 and parameters: {'kernel': 'rbf', 'C': 0.11138788886858016, 'gamma': 0.01690710588904721, 'epsilon': 0.0010950755073175645}. Best is trial 1308 with value: -0.005520821931362491.\u001b[0m\n",
      "\u001b[32m[I 2022-08-05 13:26:50,785]\u001b[0m Trial 1880 finished with value: -0.005552377058126804 and parameters: {'kernel': 'rbf', 'C': 0.11418264152288066, 'gamma': 0.01466110989782503, 'epsilon': 0.0021470851632169803}. Best is trial 1308 with value: -0.005520821931362491.\u001b[0m\n",
      "\u001b[32m[I 2022-08-05 13:26:56,128]\u001b[0m Trial 1881 finished with value: -0.005574079465381793 and parameters: {'kernel': 'rbf', 'C': 0.1346465320946911, 'gamma': 0.022089703799864004, 'epsilon': 0.001107116601595548}. Best is trial 1308 with value: -0.005520821931362491.\u001b[0m\n",
      "\u001b[32m[I 2022-08-05 13:26:57,432]\u001b[0m Trial 1882 finished with value: -0.005577388193817895 and parameters: {'kernel': 'rbf', 'C': 0.13486154511684084, 'gamma': 0.02229292264553627, 'epsilon': 0.0011189421352144186}. Best is trial 1308 with value: -0.005520821931362491.\u001b[0m\n",
      "\u001b[32m[I 2022-08-05 13:26:58,406]\u001b[0m Trial 1883 finished with value: -0.005564025387808183 and parameters: {'kernel': 'rbf', 'C': 0.13542622386040934, 'gamma': 0.021668105215352545, 'epsilon': 0.0013228171380095931}. Best is trial 1308 with value: -0.005520821931362491.\u001b[0m\n",
      "\u001b[32m[I 2022-08-05 13:26:59,730]\u001b[0m Trial 1884 finished with value: -0.005578107645901155 and parameters: {'kernel': 'rbf', 'C': 0.13592457400605312, 'gamma': 0.02270721097294019, 'epsilon': 0.0013372414308022462}. Best is trial 1308 with value: -0.005520821931362491.\u001b[0m\n",
      "\u001b[32m[I 2022-08-05 13:27:05,797]\u001b[0m Trial 1886 finished with value: -0.005531777868385108 and parameters: {'kernel': 'rbf', 'C': 0.14132829438510838, 'gamma': 0.014387828849134686, 'epsilon': 0.001292503653336143}. Best is trial 1308 with value: -0.005520821931362491.\u001b[0m\n",
      "\u001b[32m[I 2022-08-05 13:27:05,847]\u001b[0m Trial 1885 finished with value: -0.005543997160310074 and parameters: {'kernel': 'rbf', 'C': 0.21505904625275957, 'gamma': 0.013884814707845873, 'epsilon': 0.001317750947695726}. Best is trial 1308 with value: -0.005520821931362491.\u001b[0m\n",
      "\u001b[32m[I 2022-08-05 13:27:06,068]\u001b[0m Trial 1887 finished with value: -0.005530429571941618 and parameters: {'kernel': 'rbf', 'C': 0.17671116322376307, 'gamma': 0.014172047880779906, 'epsilon': 0.0019011422522730382}. Best is trial 1308 with value: -0.005520821931362491.\u001b[0m\n",
      "\u001b[32m[I 2022-08-05 13:27:07,887]\u001b[0m Trial 1888 finished with value: -0.0055363907853502765 and parameters: {'kernel': 'rbf', 'C': 0.18210483975473515, 'gamma': 0.014200223938938755, 'epsilon': 0.001956756129139511}. Best is trial 1308 with value: -0.005520821931362491.\u001b[0m\n",
      "\u001b[32m[I 2022-08-05 13:27:11,364]\u001b[0m Trial 1891 finished with value: -0.005544414298688228 and parameters: {'kernel': 'rbf', 'C': 0.09227536015041923, 'gamma': 0.01872848579319198, 'epsilon': 0.0018388531894226096}. Best is trial 1308 with value: -0.005520821931362491.\u001b[0m\n",
      "\u001b[32m[I 2022-08-05 13:27:11,713]\u001b[0m Trial 1890 finished with value: -0.0055377087489208434 and parameters: {'kernel': 'rbf', 'C': 0.09700648515983418, 'gamma': 0.017682053431877915, 'epsilon': 0.0018025333266095277}. Best is trial 1308 with value: -0.005520821931362491.\u001b[0m\n"
     ]
    },
    {
     "name": "stderr",
     "output_type": "stream",
     "text": [
      "\u001b[32m[I 2022-08-05 13:27:12,306]\u001b[0m Trial 1889 finished with value: -0.005551999034633546 and parameters: {'kernel': 'rbf', 'C': 0.17670138424548065, 'gamma': 0.017949003612594886, 'epsilon': 0.0018582754705542166}. Best is trial 1308 with value: -0.005520821931362491.\u001b[0m\n",
      "\u001b[32m[I 2022-08-05 13:27:14,553]\u001b[0m Trial 1892 finished with value: -0.00640805543827317 and parameters: {'kernel': 'poly', 'C': 0.0963571474342807, 'gamma': 0.018852560185576815, 'epsilon': 0.0017435349141194587}. Best is trial 1308 with value: -0.005520821931362491.\u001b[0m\n",
      "\u001b[32m[I 2022-08-05 13:27:18,436]\u001b[0m Trial 1893 finished with value: -0.0055293031547242275 and parameters: {'kernel': 'rbf', 'C': 0.1223491339452385, 'gamma': 0.019191921767378817, 'epsilon': 0.0014922741487228299}. Best is trial 1308 with value: -0.005520821931362491.\u001b[0m\n",
      "\u001b[32m[I 2022-08-05 13:27:18,594]\u001b[0m Trial 1894 finished with value: -0.006457586324487685 and parameters: {'kernel': 'poly', 'C': 0.1556232871777015, 'gamma': 0.012564069639531304, 'epsilon': 0.001496620051250014}. Best is trial 1308 with value: -0.005520821931362491.\u001b[0m\n",
      "\u001b[32m[I 2022-08-05 13:27:22,394]\u001b[0m Trial 1896 finished with value: -0.005559205689692959 and parameters: {'kernel': 'rbf', 'C': 0.12195203450724384, 'gamma': 0.012137007444372338, 'epsilon': 0.0014896581340299773}. Best is trial 1308 with value: -0.005520821931362491.\u001b[0m\n",
      "\u001b[32m[I 2022-08-05 13:27:24,043]\u001b[0m Trial 1898 finished with value: -0.0055635819817241245 and parameters: {'kernel': 'rbf', 'C': 0.12225881459891036, 'gamma': 0.015590279938230553, 'epsilon': 0.002564586598479039}. Best is trial 1308 with value: -0.005520821931362491.\u001b[0m\n",
      "\u001b[32m[I 2022-08-05 13:27:25,898]\u001b[0m Trial 1897 finished with value: -0.0055524394154480615 and parameters: {'kernel': 'rbf', 'C': 0.1449685586683529, 'gamma': 0.011741274159846105, 'epsilon': 0.0014787608711058604}. Best is trial 1308 with value: -0.005520821931362491.\u001b[0m\n",
      "\u001b[32m[I 2022-08-05 13:27:26,853]\u001b[0m Trial 1895 finished with value: -0.005723046124285677 and parameters: {'kernel': 'rbf', 'C': 0.8845362615556713, 'gamma': 0.011760958483005764, 'epsilon': 0.0015011305513005751}. Best is trial 1308 with value: -0.005520821931362491.\u001b[0m\n",
      "\u001b[32m[I 2022-08-05 13:27:27,625]\u001b[0m Trial 1901 finished with value: -0.04558449770905385 and parameters: {'kernel': 'rbf', 'C': 0.153082818346563, 'gamma': 0.015510988150952722, 'epsilon': 0.09026135516146477}. Best is trial 1308 with value: -0.005520821931362491.\u001b[0m\n",
      "\u001b[32m[I 2022-08-05 13:27:27,885]\u001b[0m Trial 1899 finished with value: -0.005556732235079989 and parameters: {'kernel': 'rbf', 'C': 0.15074910600741695, 'gamma': 0.015480334527907846, 'epsilon': 0.002535500720561429}. Best is trial 1308 with value: -0.005520821931362491.\u001b[0m\n",
      "\u001b[32m[I 2022-08-05 13:27:31,513]\u001b[0m Trial 1900 finished with value: -0.00564693610552555 and parameters: {'kernel': 'rbf', 'C': 0.3777282072453186, 'gamma': 0.015241926125131153, 'epsilon': 0.0023059934173893914}. Best is trial 1308 with value: -0.005520821931362491.\u001b[0m\n",
      "\u001b[32m[I 2022-08-05 13:27:34,077]\u001b[0m Trial 1902 finished with value: -0.005637824856189718 and parameters: {'kernel': 'rbf', 'C': 0.36298037812546247, 'gamma': 0.015587788587498421, 'epsilon': 0.002186512047658612}. Best is trial 1308 with value: -0.005520821931362491.\u001b[0m\n",
      "\u001b[32m[I 2022-08-05 13:27:34,640]\u001b[0m Trial 1903 finished with value: -0.005629240419290844 and parameters: {'kernel': 'rbf', 'C': 0.20910161846532077, 'gamma': 0.020360602572609875, 'epsilon': 0.002161144738053822}. Best is trial 1308 with value: -0.005520821931362491.\u001b[0m\n",
      "\u001b[32m[I 2022-08-05 13:27:40,751]\u001b[0m Trial 1905 finished with value: -0.0055381883934188265 and parameters: {'kernel': 'rbf', 'C': 0.12133918511822946, 'gamma': 0.019923505428192538, 'epsilon': 0.0012470001770846506}. Best is trial 1308 with value: -0.005520821931362491.\u001b[0m\n",
      "\u001b[32m[I 2022-08-05 13:27:40,752]\u001b[0m Trial 1904 finished with value: -0.005720277169212731 and parameters: {'kernel': 'rbf', 'C': 0.39546286414355464, 'gamma': 0.02059311779954719, 'epsilon': 0.0012236778887786731}. Best is trial 1308 with value: -0.005520821931362491.\u001b[0m\n",
      "\u001b[32m[I 2022-08-05 13:27:42,346]\u001b[0m Trial 1906 finished with value: -0.005548100035718924 and parameters: {'kernel': 'rbf', 'C': 0.12057055665336665, 'gamma': 0.021091675974859513, 'epsilon': 0.0012812764381675043}. Best is trial 1308 with value: -0.005520821931362491.\u001b[0m\n",
      "\u001b[32m[I 2022-08-05 13:27:42,674]\u001b[0m Trial 1907 finished with value: -0.005529381224149328 and parameters: {'kernel': 'rbf', 'C': 0.1199124444119025, 'gamma': 0.018022283058365153, 'epsilon': 0.0012550366159522867}. Best is trial 1308 with value: -0.005520821931362491.\u001b[0m\n",
      "\u001b[32m[I 2022-08-05 13:27:46,224]\u001b[0m Trial 1909 finished with value: -0.0056396499408269685 and parameters: {'kernel': 'rbf', 'C': 0.10309602629965012, 'gamma': 0.009609580667509747, 'epsilon': 0.001668792539054084}. Best is trial 1308 with value: -0.005520821931362491.\u001b[0m\n",
      "\u001b[32m[I 2022-08-05 13:27:47,302]\u001b[0m Trial 1908 finished with value: -0.00553047004909891 and parameters: {'kernel': 'rbf', 'C': 0.17281079585239884, 'gamma': 0.013677102171382472, 'epsilon': 0.0017396885796192353}. Best is trial 1308 with value: -0.005520821931362491.\u001b[0m\n",
      "\u001b[32m[I 2022-08-05 13:27:49,322]\u001b[0m Trial 1910 finished with value: -0.0055642630347871236 and parameters: {'kernel': 'rbf', 'C': 0.10435218824481701, 'gamma': 0.01315275787388301, 'epsilon': 0.001674464617519151}. Best is trial 1308 with value: -0.005520821931362491.\u001b[0m\n",
      "\u001b[32m[I 2022-08-05 13:27:49,324]\u001b[0m Trial 1911 finished with value: -0.005564554335553998 and parameters: {'kernel': 'rbf', 'C': 0.1009347057944609, 'gamma': 0.013461482157944802, 'epsilon': 0.0016510508071263571}. Best is trial 1308 with value: -0.005520821931362491.\u001b[0m\n",
      "\u001b[32m[I 2022-08-05 13:27:54,799]\u001b[0m Trial 1913 finished with value: -0.005537980516277465 and parameters: {'kernel': 'rbf', 'C': 0.14379542385740196, 'gamma': 0.013390641118443498, 'epsilon': 0.0016535230515829138}. Best is trial 1308 with value: -0.005520821931362491.\u001b[0m\n",
      "\u001b[32m[I 2022-08-05 13:27:55,475]\u001b[0m Trial 1912 finished with value: -0.005540905527989733 and parameters: {'kernel': 'rbf', 'C': 0.17731714428691064, 'gamma': 0.013513698556771297, 'epsilon': 0.0010034607572875149}. Best is trial 1308 with value: -0.005520821931362491.\u001b[0m\n",
      "\u001b[32m[I 2022-08-05 13:27:57,941]\u001b[0m Trial 1915 finished with value: -0.005714825967427481 and parameters: {'kernel': 'rbf', 'C': 0.1413301942916814, 'gamma': 0.03271574387614806, 'epsilon': 0.0013962621084245039}. Best is trial 1308 with value: -0.005520821931362491.\u001b[0m\n",
      "\u001b[32m[I 2022-08-05 13:27:58,234]\u001b[0m Trial 1914 finished with value: -0.005611128025368538 and parameters: {'kernel': 'rbf', 'C': 0.14456245855390332, 'gamma': 0.024349234015180972, 'epsilon': 0.0014021963367602836}. Best is trial 1308 with value: -0.005520821931362491.\u001b[0m\n",
      "\u001b[32m[I 2022-08-05 13:28:03,033]\u001b[0m Trial 1916 finished with value: -0.005523430916295937 and parameters: {'kernel': 'rbf', 'C': 0.13644713782557366, 'gamma': 0.01728833345702139, 'epsilon': 0.0014340907306216242}. Best is trial 1308 with value: -0.005520821931362491.\u001b[0m\n",
      "\u001b[32m[I 2022-08-05 13:28:04,032]\u001b[0m Trial 1917 finished with value: -0.005603831661159385 and parameters: {'kernel': 'rbf', 'C': 0.1409316837464122, 'gamma': 0.02426068181715199, 'epsilon': 0.0013862714730149153}. Best is trial 1308 with value: -0.005520821931362491.\u001b[0m\n",
      "\u001b[32m[I 2022-08-05 13:28:04,517]\u001b[0m Trial 1919 finished with value: -0.005533306810355894 and parameters: {'kernel': 'rbf', 'C': 0.12891955474186445, 'gamma': 0.017126537024124346, 'epsilon': 0.002045686230039014}. Best is trial 1308 with value: -0.005520821931362491.\u001b[0m\n",
      "\u001b[32m[I 2022-08-05 13:28:04,610]\u001b[0m Trial 1918 finished with value: -0.005540988906576661 and parameters: {'kernel': 'rbf', 'C': 0.15812583054014798, 'gamma': 0.017163185635082498, 'epsilon': 0.0020372568751915697}. Best is trial 1308 with value: -0.005520821931362491.\u001b[0m\n",
      "\u001b[32m[I 2022-08-05 13:28:10,981]\u001b[0m Trial 1920 finished with value: -0.00553158662524891 and parameters: {'kernel': 'rbf', 'C': 0.12513854066166324, 'gamma': 0.01683963497064276, 'epsilon': 0.0011584718561006577}. Best is trial 1308 with value: -0.005520821931362491.\u001b[0m\n"
     ]
    },
    {
     "name": "stderr",
     "output_type": "stream",
     "text": [
      "\u001b[32m[I 2022-08-05 13:28:11,621]\u001b[0m Trial 1921 finished with value: -0.005533565045319826 and parameters: {'kernel': 'rbf', 'C': 0.11419451968241846, 'gamma': 0.01716566829708405, 'epsilon': 0.001147656643428131}. Best is trial 1308 with value: -0.005520821931362491.\u001b[0m\n",
      "\u001b[32m[I 2022-08-05 13:28:12,953]\u001b[0m Trial 1922 finished with value: -0.005551398185046537 and parameters: {'kernel': 'rbf', 'C': 0.08970358095701467, 'gamma': 0.018347494998372682, 'epsilon': 0.0011048375293820432}. Best is trial 1308 with value: -0.005520821931362491.\u001b[0m\n",
      "\u001b[32m[I 2022-08-05 13:28:13,116]\u001b[0m Trial 1923 finished with value: -0.005534054512628243 and parameters: {'kernel': 'rbf', 'C': 0.11174347574459625, 'gamma': 0.01872016519998688, 'epsilon': 0.0012139289421097437}. Best is trial 1308 with value: -0.005520821931362491.\u001b[0m\n",
      "\u001b[32m[I 2022-08-05 13:28:19,067]\u001b[0m Trial 1924 finished with value: -0.005540718610620276 and parameters: {'kernel': 'rbf', 'C': 0.10754263257836699, 'gamma': 0.019728709853769916, 'epsilon': 0.0011206566431861248}. Best is trial 1308 with value: -0.005520821931362491.\u001b[0m\n",
      "\u001b[32m[I 2022-08-05 13:28:19,626]\u001b[0m Trial 1925 finished with value: -0.005556957380994072 and parameters: {'kernel': 'rbf', 'C': 0.08147297284377943, 'gamma': 0.019425916537761313, 'epsilon': 0.0010908237309990932}. Best is trial 1308 with value: -0.005520821931362491.\u001b[0m\n",
      "\u001b[32m[I 2022-08-05 13:28:20,689]\u001b[0m Trial 1927 finished with value: -0.00555207639638986 and parameters: {'kernel': 'rbf', 'C': 0.09882373434933753, 'gamma': 0.023171070609898793, 'epsilon': 0.001380391542466569}. Best is trial 1308 with value: -0.005520821931362491.\u001b[0m\n",
      "\u001b[32m[I 2022-08-05 13:28:21,376]\u001b[0m Trial 1926 finished with value: -0.005556614036808983 and parameters: {'kernel': 'rbf', 'C': 0.10809589765663746, 'gamma': 0.022499731851082602, 'epsilon': 0.0010919543448124982}. Best is trial 1308 with value: -0.005520821931362491.\u001b[0m\n",
      "\u001b[32m[I 2022-08-05 13:28:26,374]\u001b[0m Trial 1928 finished with value: -0.0055501378706844275 and parameters: {'kernel': 'rbf', 'C': 0.08332887814276083, 'gamma': 0.022323006979733263, 'epsilon': 0.0013764196004117876}. Best is trial 1308 with value: -0.005520821931362491.\u001b[0m\n",
      "\u001b[32m[I 2022-08-05 13:28:26,936]\u001b[0m Trial 1929 finished with value: -0.005527259311561492 and parameters: {'kernel': 'rbf', 'C': 0.12943644152339184, 'gamma': 0.015309635832550265, 'epsilon': 0.0013636850404862323}. Best is trial 1308 with value: -0.005520821931362491.\u001b[0m\n",
      "\u001b[32m[I 2022-08-05 13:28:28,583]\u001b[0m Trial 1930 finished with value: -0.005533253040135748 and parameters: {'kernel': 'rbf', 'C': 0.1284812420413643, 'gamma': 0.01489881836086298, 'epsilon': 0.0013462775658820974}. Best is trial 1308 with value: -0.005520821931362491.\u001b[0m\n",
      "\u001b[32m[I 2022-08-05 13:28:28,917]\u001b[0m Trial 1931 finished with value: -0.0055257889864411885 and parameters: {'kernel': 'rbf', 'C': 0.13043127305075158, 'gamma': 0.01565595749998482, 'epsilon': 0.001400364812915757}. Best is trial 1308 with value: -0.005520821931362491.\u001b[0m\n",
      "\u001b[32m[I 2022-08-05 13:28:34,164]\u001b[0m Trial 1932 finished with value: -0.005527562023562212 and parameters: {'kernel': 'rbf', 'C': 0.13276883145540708, 'gamma': 0.015254219528483597, 'epsilon': 0.001493731520609065}. Best is trial 1308 with value: -0.005520821931362491.\u001b[0m\n",
      "\u001b[32m[I 2022-08-05 13:28:34,485]\u001b[0m Trial 1933 finished with value: -0.005527794255532722 and parameters: {'kernel': 'rbf', 'C': 0.12817690529136835, 'gamma': 0.015319474789882036, 'epsilon': 0.0015414045284519872}. Best is trial 1308 with value: -0.005520821931362491.\u001b[0m\n",
      "\u001b[32m[I 2022-08-05 13:28:36,055]\u001b[0m Trial 1934 finished with value: -0.0055611151317761665 and parameters: {'kernel': 'rbf', 'C': 0.16852512710600787, 'gamma': 0.010749281703569993, 'epsilon': 0.001546268397140926}. Best is trial 1308 with value: -0.005520821931362491.\u001b[0m\n",
      "\u001b[32m[I 2022-08-05 13:28:36,376]\u001b[0m Trial 1935 finished with value: -0.00556228630801635 and parameters: {'kernel': 'rbf', 'C': 0.15942750133191683, 'gamma': 0.010918080981540205, 'epsilon': 0.0015621207709157626}. Best is trial 1308 with value: -0.005520821931362491.\u001b[0m\n",
      "\u001b[32m[I 2022-08-05 13:28:41,496]\u001b[0m Trial 1936 finished with value: -0.005562385334000092 and parameters: {'kernel': 'rbf', 'C': 0.1724364023917992, 'gamma': 0.010509182159058175, 'epsilon': 0.0015862438497011237}. Best is trial 1308 with value: -0.005520821931362491.\u001b[0m\n",
      "\u001b[32m[I 2022-08-05 13:28:42,584]\u001b[0m Trial 1937 finished with value: -0.005557432593884455 and parameters: {'kernel': 'rbf', 'C': 0.1577654634880882, 'gamma': 0.011435715634257453, 'epsilon': 0.0012352941919819619}. Best is trial 1308 with value: -0.005520821931362491.\u001b[0m\n",
      "\u001b[32m[I 2022-08-05 13:28:45,267]\u001b[0m Trial 1938 finished with value: -0.005553759431836542 and parameters: {'kernel': 'rbf', 'C': 0.15327193040498244, 'gamma': 0.012210572912885893, 'epsilon': 0.0010094666788501585}. Best is trial 1308 with value: -0.005520821931362491.\u001b[0m\n",
      "\u001b[32m[I 2022-08-05 13:28:46,450]\u001b[0m Trial 1939 finished with value: -0.005718948143575553 and parameters: {'kernel': 'rbf', 'C': 0.19081172962770665, 'gamma': 0.029029682052146635, 'epsilon': 0.0012217740019328815}. Best is trial 1308 with value: -0.005520821931362491.\u001b[0m\n",
      "\u001b[32m[I 2022-08-05 13:28:51,470]\u001b[0m Trial 1940 finished with value: -0.0057337817162951615 and parameters: {'kernel': 'rbf', 'C': 0.21244512591026712, 'gamma': 0.02964673899828112, 'epsilon': 0.0012646104765500971}. Best is trial 1308 with value: -0.005520821931362491.\u001b[0m\n",
      "\u001b[32m[I 2022-08-05 13:28:52,893]\u001b[0m Trial 1941 finished with value: -0.005644881500337593 and parameters: {'kernel': 'rbf', 'C': 0.11451447137743474, 'gamma': 0.028799678159068972, 'epsilon': 0.0010138089068633944}. Best is trial 1308 with value: -0.005520821931362491.\u001b[0m\n",
      "\u001b[32m[I 2022-08-05 13:28:53,080]\u001b[0m Trial 1943 finished with value: -0.0055300377804384975 and parameters: {'kernel': 'rbf', 'C': 0.1135379584826242, 'gamma': 0.01794634588972764, 'epsilon': 0.0018500904260963418}. Best is trial 1308 with value: -0.005520821931362491.\u001b[0m\n",
      "\u001b[32m[I 2022-08-05 13:28:53,205]\u001b[0m Trial 1942 finished with value: -0.005570946008060896 and parameters: {'kernel': 'rbf', 'C': 0.20704178973124948, 'gamma': 0.01823765414583131, 'epsilon': 0.0018042468450764813}. Best is trial 1308 with value: -0.005520821931362491.\u001b[0m\n",
      "\u001b[32m[I 2022-08-05 13:28:55,618]\u001b[0m Trial 1945 finished with value: -0.0062530974869049825 and parameters: {'kernel': 'rbf', 'C': 0.01043032964108969, 'gamma': 0.01833021423947746, 'epsilon': 0.0018266664359638876}. Best is trial 1308 with value: -0.005520821931362491.\u001b[0m\n",
      "\u001b[32m[I 2022-08-05 13:28:56,378]\u001b[0m Trial 1944 finished with value: -0.0055379215463801845 and parameters: {'kernel': 'rbf', 'C': 0.09590738206969597, 'gamma': 0.01809884091102648, 'epsilon': 0.0018495987730930204}. Best is trial 1308 with value: -0.005520821931362491.\u001b[0m\n",
      "\u001b[32m[I 2022-08-05 13:28:59,343]\u001b[0m Trial 1946 finished with value: -0.005572533583943954 and parameters: {'kernel': 'rbf', 'C': 0.09258365475740453, 'gamma': 0.013868059644311469, 'epsilon': 0.0018404132468146535}. Best is trial 1308 with value: -0.005520821931362491.\u001b[0m\n",
      "\u001b[32m[I 2022-08-05 13:28:59,836]\u001b[0m Trial 1947 finished with value: -0.005557171578530122 and parameters: {'kernel': 'rbf', 'C': 0.10062596217318719, 'gamma': 0.013866978505055853, 'epsilon': 0.001648422405720161}. Best is trial 1308 with value: -0.005520821931362491.\u001b[0m\n",
      "\u001b[32m[I 2022-08-05 13:29:01,771]\u001b[0m Trial 1948 finished with value: -0.0064727437089993145 and parameters: {'kernel': 'poly', 'C': 0.09909044960656145, 'gamma': 0.014032790936479342, 'epsilon': 0.0016312878794973926}. Best is trial 1308 with value: -0.005520821931362491.\u001b[0m\n",
      "\u001b[32m[I 2022-08-05 13:29:02,943]\u001b[0m Trial 1949 finished with value: -0.006447349003510037 and parameters: {'kernel': 'poly', 'C': 0.1430096166769333, 'gamma': 0.013900526805246819, 'epsilon': 0.0014860630721566276}. Best is trial 1308 with value: -0.005520821931362491.\u001b[0m\n",
      "\u001b[32m[I 2022-08-05 13:29:09,524]\u001b[0m Trial 1950 finished with value: -0.006399819445626151 and parameters: {'kernel': 'poly', 'C': 0.14759313137953076, 'gamma': 0.020866205529771566, 'epsilon': 0.0014579070702035706}. Best is trial 1308 with value: -0.005520821931362491.\u001b[0m\n"
     ]
    },
    {
     "name": "stderr",
     "output_type": "stream",
     "text": [
      "\u001b[32m[I 2022-08-05 13:29:10,522]\u001b[0m Trial 1951 finished with value: -0.006401353165717982 and parameters: {'kernel': 'poly', 'C': 0.1460128434181184, 'gamma': 0.021572032460967512, 'epsilon': 0.0014151643464296593}. Best is trial 1308 with value: -0.005520821931362491.\u001b[0m\n",
      "\u001b[32m[I 2022-08-05 13:29:10,987]\u001b[0m Trial 1952 finished with value: -0.005562742198274092 and parameters: {'kernel': 'rbf', 'C': 0.13938613844305964, 'gamma': 0.021329321385462924, 'epsilon': 0.001353189717619896}. Best is trial 1308 with value: -0.005520821931362491.\u001b[0m\n",
      "\u001b[32m[I 2022-08-05 13:29:11,768]\u001b[0m Trial 1953 finished with value: -0.005546830069283851 and parameters: {'kernel': 'rbf', 'C': 0.12089043500360987, 'gamma': 0.02088727274939027, 'epsilon': 0.0012600932902201592}. Best is trial 1308 with value: -0.005520821931362491.\u001b[0m\n",
      "\u001b[32m[I 2022-08-05 13:29:17,511]\u001b[0m Trial 1954 finished with value: -0.005528293687142803 and parameters: {'kernel': 'rbf', 'C': 0.12005494962879412, 'gamma': 0.01672944606819429, 'epsilon': 0.0012897876169187786}. Best is trial 1308 with value: -0.005520821931362491.\u001b[0m\n",
      "\u001b[32m[I 2022-08-05 13:29:19,924]\u001b[0m Trial 1956 finished with value: -0.005529466614192765 and parameters: {'kernel': 'rbf', 'C': 0.12071367037514737, 'gamma': 0.01630907576594552, 'epsilon': 0.0012323264708712146}. Best is trial 1308 with value: -0.005520821931362491.\u001b[0m\n",
      "\u001b[32m[I 2022-08-05 13:29:21,477]\u001b[0m Trial 1957 finished with value: -0.005538921902412596 and parameters: {'kernel': 'rbf', 'C': 0.11870087505205992, 'gamma': 0.015390076845361417, 'epsilon': 0.0011182013229782072}. Best is trial 1308 with value: -0.005520821931362491.\u001b[0m\n",
      "\u001b[32m[I 2022-08-05 13:29:24,954]\u001b[0m Trial 1958 finished with value: -0.005546884515301986 and parameters: {'kernel': 'rbf', 'C': 0.18689571599427876, 'gamma': 0.01609806811702603, 'epsilon': 0.0020190931220595665}. Best is trial 1308 with value: -0.005520821931362491.\u001b[0m\n",
      "\u001b[32m[I 2022-08-05 13:29:28,386]\u001b[0m Trial 1961 finished with value: -0.022959531433029763 and parameters: {'kernel': 'rbf', 'C': 0.16542059560804825, 'gamma': 0.012416675812175731, 'epsilon': 0.03094328752751427}. Best is trial 1308 with value: -0.005520821931362491.\u001b[0m\n",
      "\u001b[32m[I 2022-08-05 13:29:28,944]\u001b[0m Trial 1960 finished with value: -0.005546102725041597 and parameters: {'kernel': 'rbf', 'C': 0.18566662312957477, 'gamma': 0.012517813196312419, 'epsilon': 0.0020465861496140807}. Best is trial 1308 with value: -0.005520821931362491.\u001b[0m\n",
      "\u001b[32m[I 2022-08-05 13:29:29,799]\u001b[0m Trial 1959 finished with value: -0.0055476748729114365 and parameters: {'kernel': 'rbf', 'C': 0.18167690703969305, 'gamma': 0.016086172158771173, 'epsilon': 0.0010103042978313321}. Best is trial 1308 with value: -0.005520821931362491.\u001b[0m\n",
      "\u001b[32m[I 2022-08-05 13:29:36,056]\u001b[0m Trial 1962 finished with value: -0.0055286169786771585 and parameters: {'kernel': 'rbf', 'C': 0.13810055273640442, 'gamma': 0.01829835210157582, 'epsilon': 0.00166320262994047}. Best is trial 1308 with value: -0.005520821931362491.\u001b[0m\n",
      "\u001b[32m[I 2022-08-05 13:29:38,680]\u001b[0m Trial 1964 finished with value: -0.0055331837980913305 and parameters: {'kernel': 'rbf', 'C': 0.13516408388915604, 'gamma': 0.018823464208873264, 'epsilon': 0.0015965331776056216}. Best is trial 1308 with value: -0.005520821931362491.\u001b[0m\n",
      "\u001b[32m[I 2022-08-05 13:29:39,039]\u001b[0m Trial 1963 finished with value: -0.005631311893250195 and parameters: {'kernel': 'rbf', 'C': 0.13480624957560552, 'gamma': 0.025991146877378447, 'epsilon': 0.001003919364156553}. Best is trial 1308 with value: -0.005520821931362491.\u001b[0m\n",
      "\u001b[32m[I 2022-08-05 13:29:44,303]\u001b[0m Trial 1965 finished with value: -0.0056432022806521985 and parameters: {'kernel': 'rbf', 'C': 0.15540773903465657, 'gamma': 0.02573331630876894, 'epsilon': 0.0014252578141807175}. Best is trial 1308 with value: -0.005520821931362491.\u001b[0m\n",
      "\u001b[32m[I 2022-08-05 13:29:46,163]\u001b[0m Trial 1966 finished with value: -0.00554540531345979 and parameters: {'kernel': 'rbf', 'C': 0.10737717036765576, 'gamma': 0.01433837821454825, 'epsilon': 0.001551781668771368}. Best is trial 1308 with value: -0.005520821931362491.\u001b[0m\n",
      "\u001b[32m[I 2022-08-05 13:29:46,655]\u001b[0m Trial 1955 finished with value: -0.006287102760315379 and parameters: {'kernel': 'rbf', 'C': 3.1492217623354146, 'gamma': 0.016107434109215186, 'epsilon': 0.0012473749491621498}. Best is trial 1308 with value: -0.005520821931362491.\u001b[0m\n",
      "\u001b[32m[I 2022-08-05 13:29:46,929]\u001b[0m Trial 1967 finished with value: -0.005543222095762312 and parameters: {'kernel': 'rbf', 'C': 0.10621858856696906, 'gamma': 0.014546576588617091, 'epsilon': 0.001444403267826331}. Best is trial 1308 with value: -0.005520821931362491.\u001b[0m\n",
      "\u001b[32m[I 2022-08-05 13:29:50,321]\u001b[0m Trial 1968 finished with value: -0.005543183911665109 and parameters: {'kernel': 'rbf', 'C': 0.10750096403029952, 'gamma': 0.014208051874635403, 'epsilon': 0.0017149703213413445}. Best is trial 1308 with value: -0.005520821931362491.\u001b[0m\n",
      "\u001b[32m[I 2022-08-05 13:29:52,568]\u001b[0m Trial 1970 finished with value: -0.005636795275238387 and parameters: {'kernel': 'rbf', 'C': 0.11211066221570387, 'gamma': 0.009351015335517255, 'epsilon': 0.001757619906557824}. Best is trial 1308 with value: -0.005520821931362491.\u001b[0m\n",
      "\u001b[32m[I 2022-08-05 13:29:52,834]\u001b[0m Trial 1969 finished with value: -0.0055279777306267135 and parameters: {'kernel': 'rbf', 'C': 0.1594285326377639, 'gamma': 0.016185142799360133, 'epsilon': 0.0017493562753526323}. Best is trial 1308 with value: -0.005520821931362491.\u001b[0m\n",
      "\u001b[32m[I 2022-08-05 13:29:53,780]\u001b[0m Trial 1971 finished with value: -0.0055481498735620825 and parameters: {'kernel': 'rbf', 'C': 0.15760090882819425, 'gamma': 0.012263160699735149, 'epsilon': 0.0017261095048015024}. Best is trial 1308 with value: -0.005520821931362491.\u001b[0m\n",
      "\u001b[32m[I 2022-08-05 13:29:55,764]\u001b[0m Trial 1972 finished with value: -0.005608105172745432 and parameters: {'kernel': 'rbf', 'C': 0.1576611014950106, 'gamma': 0.009232116549076224, 'epsilon': 0.0020065892310570307}. Best is trial 1308 with value: -0.005520821931362491.\u001b[0m\n",
      "\u001b[32m[I 2022-08-05 13:29:58,278]\u001b[0m Trial 1974 finished with value: -0.005564281590220551 and parameters: {'kernel': 'rbf', 'C': 0.13107599455737948, 'gamma': 0.01996566449856044, 'epsilon': 0.0022095126626612443}. Best is trial 1308 with value: -0.005520821931362491.\u001b[0m\n",
      "\u001b[32m[I 2022-08-05 13:29:58,585]\u001b[0m Trial 1973 finished with value: -0.005553223515167432 and parameters: {'kernel': 'rbf', 'C': 0.1605788630933818, 'gamma': 0.012223523352376874, 'epsilon': 0.0019963322361829386}. Best is trial 1308 with value: -0.005520821931362491.\u001b[0m\n",
      "\u001b[32m[I 2022-08-05 13:29:59,327]\u001b[0m Trial 1975 finished with value: -0.005562300852375638 and parameters: {'kernel': 'rbf', 'C': 0.12646857721408855, 'gamma': 0.019680822795629337, 'epsilon': 0.0023314460164309127}. Best is trial 1308 with value: -0.005520821931362491.\u001b[0m\n",
      "\u001b[32m[I 2022-08-05 13:30:04,641]\u001b[0m Trial 1976 finished with value: -0.005536006206826058 and parameters: {'kernel': 'rbf', 'C': 0.12571262316730158, 'gamma': 0.019587949154165014, 'epsilon': 0.0013366900253532412}. Best is trial 1308 with value: -0.005520821931362491.\u001b[0m\n",
      "\u001b[32m[I 2022-08-05 13:30:06,359]\u001b[0m Trial 1977 finished with value: -0.005549411816873287 and parameters: {'kernel': 'rbf', 'C': 0.09069187750473186, 'gamma': 0.018327541001601257, 'epsilon': 0.0010027717154424457}. Best is trial 1308 with value: -0.005520821931362491.\u001b[0m\n",
      "\u001b[32m[I 2022-08-05 13:30:06,359]\u001b[0m Trial 1978 finished with value: -0.005525871595449819 and parameters: {'kernel': 'rbf', 'C': 0.12469418780462999, 'gamma': 0.018024199258432076, 'epsilon': 0.0013472957984652625}. Best is trial 1308 with value: -0.005520821931362491.\u001b[0m\n",
      "\u001b[32m[I 2022-08-05 13:30:11,121]\u001b[0m Trial 1979 finished with value: -0.005674075326495291 and parameters: {'kernel': 'rbf', 'C': 0.22961502790392732, 'gamma': 0.02336154612560761, 'epsilon': 0.0010053309880473393}. Best is trial 1308 with value: -0.005520821931362491.\u001b[0m\n",
      "\u001b[32m[I 2022-08-05 13:30:12,411]\u001b[0m Trial 1980 finished with value: -0.005546675926064564 and parameters: {'kernel': 'rbf', 'C': 0.09662355933096746, 'gamma': 0.016234099077626924, 'epsilon': 0.0011219447769713058}. Best is trial 1308 with value: -0.005520821931362491.\u001b[0m\n"
     ]
    },
    {
     "name": "stderr",
     "output_type": "stream",
     "text": [
      "\u001b[32m[I 2022-08-05 13:30:16,079]\u001b[0m Trial 1981 finished with value: -0.005530680331671606 and parameters: {'kernel': 'rbf', 'C': 0.14248726574228204, 'gamma': 0.016772262732967794, 'epsilon': 0.001171269364621219}. Best is trial 1308 with value: -0.005520821931362491.\u001b[0m\n",
      "\u001b[32m[I 2022-08-05 13:30:16,092]\u001b[0m Trial 1982 finished with value: -0.005672697417263412 and parameters: {'kernel': 'rbf', 'C': 0.22372308423057743, 'gamma': 0.023637788282386198, 'epsilon': 0.001541186807058045}. Best is trial 1308 with value: -0.005520821931362491.\u001b[0m\n",
      "\u001b[32m[I 2022-08-05 13:30:18,493]\u001b[0m Trial 1983 finished with value: -0.005522232502172678 and parameters: {'kernel': 'rbf', 'C': 0.13957215788106714, 'gamma': 0.01620094243038583, 'epsilon': 0.001523525041248729}. Best is trial 1308 with value: -0.005520821931362491.\u001b[0m\n",
      "\u001b[32m[I 2022-08-05 13:30:19,570]\u001b[0m Trial 1984 finished with value: -0.005536522016972533 and parameters: {'kernel': 'rbf', 'C': 0.14145902580223543, 'gamma': 0.013416088008009029, 'epsilon': 0.0015010529262754673}. Best is trial 1308 with value: -0.005520821931362491.\u001b[0m\n",
      "\u001b[32m[I 2022-08-05 13:30:23,741]\u001b[0m Trial 1986 finished with value: -0.0055325245769360844 and parameters: {'kernel': 'rbf', 'C': 0.18337718698317224, 'gamma': 0.013259275868443958, 'epsilon': 0.001504288450605567}. Best is trial 1308 with value: -0.005520821931362491.\u001b[0m\n",
      "\u001b[32m[I 2022-08-05 13:30:24,043]\u001b[0m Trial 1985 finished with value: -0.005531415527132199 and parameters: {'kernel': 'rbf', 'C': 0.17384755716707515, 'gamma': 0.013232504050029405, 'epsilon': 0.0015242287864059717}. Best is trial 1308 with value: -0.005520821931362491.\u001b[0m\n",
      "\u001b[32m[I 2022-08-05 13:30:24,311]\u001b[0m Trial 1987 finished with value: -0.005578104011566208 and parameters: {'kernel': 'rbf', 'C': 0.19142948790819084, 'gamma': 0.013966375311420774, 'epsilon': 0.0027711348857361426}. Best is trial 1308 with value: -0.005520821931362491.\u001b[0m\n",
      "\u001b[32m[I 2022-08-05 13:30:27,802]\u001b[0m Trial 1988 finished with value: -0.005620043758889206 and parameters: {'kernel': 'rbf', 'C': 0.1871557758327949, 'gamma': 0.021745285489554015, 'epsilon': 0.0019133575993899275}. Best is trial 1308 with value: -0.005520821931362491.\u001b[0m\n",
      "\u001b[32m[I 2022-08-05 13:30:30,013]\u001b[0m Trial 1990 finished with value: -0.005588305757097905 and parameters: {'kernel': 'rbf', 'C': 0.160595739789582, 'gamma': 0.02104274119798813, 'epsilon': 0.0020013742500423794}. Best is trial 1308 with value: -0.005520821931362491.\u001b[0m\n",
      "\u001b[32m[I 2022-08-05 13:30:30,181]\u001b[0m Trial 1989 finished with value: -0.0055889488580974 and parameters: {'kernel': 'rbf', 'C': 0.16710652306223578, 'gamma': 0.020954535568285054, 'epsilon': 0.0019098116621967356}. Best is trial 1308 with value: -0.005520821931362491.\u001b[0m\n",
      "\u001b[32m[I 2022-08-05 13:30:31,110]\u001b[0m Trial 1991 finished with value: -0.005600902056117327 and parameters: {'kernel': 'rbf', 'C': 0.1582666341035414, 'gamma': 0.02215810403487331, 'epsilon': 0.0019565016252311327}. Best is trial 1308 with value: -0.005520821931362491.\u001b[0m\n",
      "\u001b[32m[I 2022-08-05 13:30:35,523]\u001b[0m Trial 1992 finished with value: -0.005537062311772407 and parameters: {'kernel': 'rbf', 'C': 0.15783489420262803, 'gamma': 0.017722058184450995, 'epsilon': 0.0017630353155349261}. Best is trial 1308 with value: -0.005520821931362491.\u001b[0m\n",
      "\u001b[32m[I 2022-08-05 13:30:37,208]\u001b[0m Trial 1994 finished with value: -0.00552790694190389 and parameters: {'kernel': 'rbf', 'C': 0.14487826953831606, 'gamma': 0.01726967236791825, 'epsilon': 0.0017134281039309827}. Best is trial 1308 with value: -0.005520821931362491.\u001b[0m\n",
      "\u001b[32m[I 2022-08-05 13:30:37,301]\u001b[0m Trial 1993 finished with value: -0.005537050768409968 and parameters: {'kernel': 'rbf', 'C': 0.1514251345777506, 'gamma': 0.01793346608153378, 'epsilon': 0.0017428549054660058}. Best is trial 1308 with value: -0.005520821931362491.\u001b[0m\n",
      "\u001b[32m[I 2022-08-05 13:30:37,926]\u001b[0m Trial 1995 finished with value: -0.005526383862749536 and parameters: {'kernel': 'rbf', 'C': 0.11569054912293573, 'gamma': 0.017524737605527786, 'epsilon': 0.0016906326737658535}. Best is trial 1308 with value: -0.005520821931362491.\u001b[0m\n",
      "\u001b[32m[I 2022-08-05 13:30:42,438]\u001b[0m Trial 1996 finished with value: -0.005527117344948625 and parameters: {'kernel': 'rbf', 'C': 0.11512888552922956, 'gamma': 0.01698538640120234, 'epsilon': 0.001664300148685569}. Best is trial 1308 with value: -0.005520821931362491.\u001b[0m\n",
      "\u001b[32m[I 2022-08-05 13:30:42,594]\u001b[0m Trial 1997 finished with value: -0.005554105327758793 and parameters: {'kernel': 'rbf', 'C': 0.11452474341381104, 'gamma': 0.015871848086601463, 'epsilon': 0.0023433341298439853}. Best is trial 1308 with value: -0.005520821931362491.\u001b[0m\n",
      "\u001b[32m[I 2022-08-05 13:30:43,641]\u001b[0m Trial 1999 finished with value: -0.005556458638850278 and parameters: {'kernel': 'rbf', 'C': 0.11821879258451629, 'gamma': 0.015116514419398906, 'epsilon': 0.002365535732653417}. Best is trial 1308 with value: -0.005520821931362491.\u001b[0m\n",
      "\u001b[32m[I 2022-08-05 13:30:43,754]\u001b[0m Trial 1998 finished with value: -0.0055397243289588725 and parameters: {'kernel': 'rbf', 'C': 0.1120935084617358, 'gamma': 0.015299014624401345, 'epsilon': 0.0012855124913609363}. Best is trial 1308 with value: -0.005520821931362491.\u001b[0m\n"
     ]
    },
    {
     "name": "stdout",
     "output_type": "stream",
     "text": [
      "Wall time: 1h 12min 32s\n"
     ]
    }
   ],
   "source": [
    "%%time\n",
    "# pass the objective function to method optimize()\n",
    "\n",
    "study_nl_svm_all.optimize(objective, n_trials=2000, n_jobs=-1)"
   ]
  },
  {
   "cell_type": "code",
   "execution_count": 140,
   "metadata": {
    "scrolled": false
   },
   "outputs": [
    {
     "name": "stdout",
     "output_type": "stream",
     "text": [
      "{'kernel': 'rbf', 'C': 0.133761869232118, 'gamma': 0.017167737732410412, 'epsilon': 0.001578726091455977}\n"
     ]
    }
   ],
   "source": [
    "print(study_nl_svm_all.best_params)"
   ]
  },
  {
   "cell_type": "code",
   "execution_count": 141,
   "metadata": {},
   "outputs": [
    {
     "name": "stdout",
     "output_type": "stream",
     "text": [
      "0.005520821931362491\n"
     ]
    }
   ],
   "source": [
    "print(-study_nl_svm_all.best_value)"
   ]
  },
  {
   "cell_type": "code",
   "execution_count": 271,
   "metadata": {
    "scrolled": false
   },
   "outputs": [
    {
     "name": "stdout",
     "output_type": "stream",
     "text": [
      "Cross validation scores\n",
      "Cross-validation RMSE\n",
      "Scores: [0.0066406763 0.0045194707 0.0050066153]\n",
      "Mean: 0.00538892078451778\n",
      "Standard deviation: 0.0009071921284809066\n",
      "\n",
      "Cross-validation adjR2\n",
      "Scores: [0.5208631096 0.5908089777 0.6263677638]\n",
      "Mean: 0.5793466170526104\n",
      "Standard deviation: 0.043828052647877466\n",
      "\n",
      "\n",
      "Scores on training set\n",
      "RMSE score: 0.00531269939478904\n",
      "Adjusted R2 score: 0.653517242745836\n"
     ]
    }
   ],
   "source": [
    "nl_svm_all = SVR(degree=2).set_params(**study_nl_svm_all.best_params)\n",
    "test_regressor(nl_svm_all, dataset_prepared_stand, dataset_labels, sample_weights=weights)"
   ]
  },
  {
   "cell_type": "code",
   "execution_count": 246,
   "metadata": {},
   "outputs": [],
   "source": [
    "nl_svm_all = SVR(degree=2).set_params(**study_nl_svm_all.best_params)"
   ]
  },
  {
   "cell_type": "code",
   "execution_count": 256,
   "metadata": {},
   "outputs": [
    {
     "data": {
      "image/png": "[encoded data removed]",
      "text/plain": [
       "<Figure size 432x288 with 1 Axes>"
      ]
     },
     "metadata": {
      "needs_background": "light"
     },
     "output_type": "display_data"
    }
   ],
   "source": [
    "plot_learning_curves(nl_svm_all, dataset_prepared_stand, dataset_labels)"
   ]
  },
  {
   "cell_type": "markdown",
   "metadata": {},
   "source": [
    "### Export model"
   ]
  },
  {
   "cell_type": "code",
   "execution_count": 250,
   "metadata": {
    "scrolled": false
   },
   "outputs": [],
   "source": [
    "ml_model = nl_svm_all.fit(dataset_prepared_stand, dataset_labels, sample_weight=weights)\n",
    "feats = features\n",
    "pipeline = transformation_pipeline"
   ]
  },
  {
   "cell_type": "markdown",
   "metadata": {},
   "source": [
    "#### For ABM"
   ]
  },
  {
   "cell_type": "code",
   "execution_count": 251,
   "metadata": {},
   "outputs": [],
   "source": [
    "import csv\n",
    "from numpy import savetxt \n",
    "\n",
    "def export_model_for_abm(ml_model, feats, pipeline, folder_path):\n",
    "    \"\"\"\n",
    "    ml_model already fitted\n",
    "    \"\"\"\n",
    "    scaler = StandardScaler() # Needs to be instantiated to be passed to the ABM if not fit in its initialization\n",
    "    dataset_only_transf = pipeline.fit_transform(dataset) ##\n",
    "    scaler.fit(dataset_only_transf)\n",
    "    model_for_abm = Pipeline([\n",
    "        (\"scaling\", scaler),\n",
    "        (\"regressor\", ml_model)\n",
    "    ])\n",
    "    joblib.dump(model_for_abm, os.path.join(folder_path, 'model.pkl'))\n",
    "    # Check\n",
    "    print(model_for_abm.predict(dataset_only_transf[0, :].reshape(1, -1))[0])\n",
    "    \n",
    "    #Export features name\n",
    "    with open(os.path.join(folder_path, 'features.csv'), \"w+\") as file:\n",
    "        wr = csv.writer(file)\n",
    "        wr.writerow(feats)\n",
    "    \n",
    "    savetxt(os.path.join(folder_path, 'dataset.csv'), dataset_only_transf, delimiter=',')\n",
    "    savetxt(os.path.join(folder_path, 'labels.csv'), dataset_labels.values,  delimiter=',') ##"
   ]
  },
  {
   "cell_type": "code",
   "execution_count": 252,
   "metadata": {},
   "outputs": [],
   "source": [
    "folder_path = './Models for ABM/all_adoption/regressor'"
   ]
  },
  {
   "cell_type": "code",
   "execution_count": 253,
   "metadata": {},
   "outputs": [
    {
     "name": "stdout",
     "output_type": "stream",
     "text": [
      "0.0014178660461352886\n"
     ]
    }
   ],
   "source": [
    "export_model_for_abm(ml_model, feats, pipeline, folder_path)"
   ]
  },
  {
   "cell_type": "markdown",
   "metadata": {},
   "source": [
    "#### For model analysis"
   ]
  },
  {
   "cell_type": "code",
   "execution_count": 254,
   "metadata": {},
   "outputs": [
    {
     "data": {
      "text/plain": [
       "['./Models to analyse/all_adoption/regressor/nl_svm.pkl']"
      ]
     },
     "execution_count": 254,
     "metadata": {},
     "output_type": "execute_result"
    }
   ],
   "source": [
    "joblib.dump(ml_model, './Models to analyse/all_adoption/regressor/nl_svm.pkl')"
   ]
  },
  {
   "cell_type": "code",
   "execution_count": null,
   "metadata": {},
   "outputs": [],
   "source": []
  }
 ],
 "metadata": {
  "kernelspec": {
   "display_name": "data_analysis",
   "language": "python",
   "name": "data_analysis"
  },
  "language_info": {
   "codemirror_mode": {
    "name": "ipython",
    "version": 3
   },
   "file_extension": ".py",
   "mimetype": "text/x-python",
   "name": "python",
   "nbconvert_exporter": "python",
   "pygments_lexer": "ipython3",
   "version": "3.7.9"
  }
 },
 "nbformat": 4,
 "nbformat_minor": 4
}
