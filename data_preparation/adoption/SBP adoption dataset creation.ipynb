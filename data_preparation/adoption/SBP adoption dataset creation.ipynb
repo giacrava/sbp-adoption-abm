{
 "cells": [
  {
   "cell_type": "markdown",
   "metadata": {},
   "source": [
    "Notebook to analyse the data regarding the aggregate SBP adoption before 2008 and the one during the Portuguese Carbon Fund project (PCF project) and merging them into a dataset reporting the SBP adoption from 1996 to 2012."
   ]
  },
  {
   "cell_type": "markdown",
   "metadata": {},
   "source": [
    "**Requirements**: numpy pandas xlrd openpyxl"
   ]
  },
  {
   "cell_type": "markdown",
   "metadata": {},
   "source": [
    "## Content\n",
    "* PCF project: retrieve adoption over each municipality\n",
    "* Merge of adoption previous and during PCF -> Yearly SBP adoption per municipality\n",
    "* Plot pre-PCF vs PCF adoption for disaggregation check\n",
    "* Other datasets construction:\n",
    "    * Cumulative adoption in each year\n",
    "    * Yearly and cumulative for total adoption\n",
    "* Datasets merging for machine learning models\n",
    "* Create datasets with relative values of adoption refferd to permanent pasture area\n",
    "    * Create and save dataset with % adoption in munic for ABM initialisation\n",
    "    * Save datasets for ABM validation"
   ]
  },
  {
   "cell_type": "code",
   "execution_count": 88,
   "metadata": {},
   "outputs": [],
   "source": [
    "import numpy as np\n",
    "import pandas as pd"
   ]
  },
  {
   "cell_type": "code",
   "execution_count": 89,
   "metadata": {},
   "outputs": [],
   "source": [
    "# For plotting\n",
    "%matplotlib inline\n",
    "import matplotlib as mpl\n",
    "import matplotlib.pyplot as plt\n",
    "mpl.rc('axes', labelsize=14)\n",
    "mpl.rc('xtick', labelsize=12)\n",
    "mpl.rc('ytick', labelsize=12)"
   ]
  },
  {
   "cell_type": "code",
   "execution_count": 90,
   "metadata": {},
   "outputs": [],
   "source": [
    "import os\n",
    "# Where to save the figures\n",
    "PROJECT_ROOT_DIR = \".\"\n",
    "IMAGES_PATH = os.path.join(PROJECT_ROOT_DIR, \"images\")\n",
    "os.makedirs(IMAGES_PATH, exist_ok=True)\n",
    "\n",
    "def save_fig(fig_id, tight_layout=True, fig_extension=\"jpeg\", resolution=200):\n",
    "    path = os.path.join(IMAGES_PATH, fig_id + \".\" + fig_extension)\n",
    "    print(\"Saving figure\", fig_id)\n",
    "    if tight_layout:\n",
    "        plt.tight_layout()\n",
    "    plt.savefig(path, format=fig_extension, dpi=resolution)"
   ]
  },
  {
   "cell_type": "markdown",
   "metadata": {},
   "source": [
    "# Data ingestion and manipulation"
   ]
  },
  {
   "cell_type": "code",
   "execution_count": 91,
   "metadata": {},
   "outputs": [],
   "source": [
    "path_to_PCF_data = \"./PCF project data_Corrected counties.xlsx\"\n",
    "path_to_adoption_pre_PCF = \"./SBP adoption previous to 2009 per municipality_PCF mapped.xlsx\""
   ]
  },
  {
   "cell_type": "code",
   "execution_count": 92,
   "metadata": {},
   "outputs": [],
   "source": [
    "out_file = \"./Final SBP adoption datasets/SBP yearly adoption + adoption features_PCF mapped.csv\"\n",
    "out_path_adoption_percentage = \"./Final SBP adoption datasets/SBP % yearly adoption + % adoption features_PCF mapped.csv\""
   ]
  },
  {
   "cell_type": "markdown",
   "metadata": {},
   "source": [
    "## PCF project"
   ]
  },
  {
   "cell_type": "code",
   "execution_count": 93,
   "metadata": {},
   "outputs": [],
   "source": [
    "PCF_data = pd.read_excel(path_to_PCF_data, index_col=0)\n",
    "#PCF_data.head()"
   ]
  },
  {
   "cell_type": "code",
   "execution_count": 94,
   "metadata": {},
   "outputs": [],
   "source": [
    "PCF_data = PCF_data.drop('Farmer_ID', axis=1)"
   ]
  },
  {
   "cell_type": "code",
   "execution_count": 95,
   "metadata": {
    "scrolled": true
   },
   "outputs": [
    {
     "name": "stdout",
     "output_type": "stream",
     "text": [
      "<class 'pandas.core.frame.DataFrame'>\n",
      "Int64Index: 1113 entries, 55 to 1048\n",
      "Data columns (total 6 columns):\n",
      " #   Column                               Non-Null Count  Dtype  \n",
      "---  ------                               --------------  -----  \n",
      " 0   Year that the pasture was installed  1113 non-null   int64  \n",
      " 1   County                               1113 non-null   object \n",
      " 2   Area_Total_SIG_PPI_2009_ha           1113 non-null   float64\n",
      " 3   Area_Total_SIG_PPI_2010_ha           1113 non-null   float64\n",
      " 4   Area_Total_SIG_PPII_2011_ha          1113 non-null   float64\n",
      " 5   Area_Total_SIG_PPII_2012_ha          1113 non-null   float64\n",
      "dtypes: float64(4), int64(1), object(1)\n",
      "memory usage: 60.9+ KB\n"
     ]
    }
   ],
   "source": [
    "PCF_data.info()"
   ]
  },
  {
   "cell_type": "markdown",
   "metadata": {},
   "source": [
    "### Check years have only values from 2009 to 2014"
   ]
  },
  {
   "cell_type": "code",
   "execution_count": 96,
   "metadata": {},
   "outputs": [
    {
     "data": {
      "text/plain": [
       "2010    310\n",
       "2012    289\n",
       "2009    279\n",
       "2011    235\n",
       "Name: Year that the pasture was installed, dtype: int64"
      ]
     },
     "execution_count": 96,
     "metadata": {},
     "output_type": "execute_result"
    }
   ],
   "source": [
    "PCF_data['Year that the pasture was installed'].value_counts()"
   ]
  },
  {
   "cell_type": "markdown",
   "metadata": {},
   "source": [
    "### Check if any parcel adopted in multiple years, i.e. if any has two non zero values in the total area adopted each year"
   ]
  },
  {
   "cell_type": "code",
   "execution_count": 97,
   "metadata": {},
   "outputs": [],
   "source": [
    "cols_with_area = ['Area_Total_SIG_PPI_2009_ha', \n",
    "                 'Area_Total_SIG_PPI_2010_ha', \n",
    "                 'Area_Total_SIG_PPII_2011_ha', \n",
    "                 'Area_Total_SIG_PPII_2012_ha']\n",
    "\n",
    "number_of_year_adopted = len(cols_with_area) - (PCF_data[cols_with_area] == 0).sum(axis=1)"
   ]
  },
  {
   "cell_type": "code",
   "execution_count": 98,
   "metadata": {
    "scrolled": true
   },
   "outputs": [
    {
     "data": {
      "text/plain": [
       "False"
      ]
     },
     "execution_count": 98,
     "metadata": {},
     "output_type": "execute_result"
    }
   ],
   "source": [
    "adopted_1_year = number_of_year_adopted == 1\n",
    "all(adopted_1_year)"
   ]
  },
  {
   "cell_type": "code",
   "execution_count": 99,
   "metadata": {
    "scrolled": true
   },
   "outputs": [
    {
     "data": {
      "text/plain": [
       "1100"
      ]
     },
     "execution_count": 99,
     "metadata": {},
     "output_type": "execute_result"
    }
   ],
   "source": [
    "# Number of parcels which have correctly one adoption\n",
    "sum(adopted_1_year)"
   ]
  },
  {
   "cell_type": "code",
   "execution_count": 100,
   "metadata": {},
   "outputs": [
    {
     "data": {
      "text/plain": [
       "13"
      ]
     },
     "execution_count": 100,
     "metadata": {},
     "output_type": "execute_result"
    }
   ],
   "source": [
    "adopted_0_years = number_of_year_adopted == 0\n",
    "sum(adopted_0_years)"
   ]
  },
  {
   "cell_type": "markdown",
   "metadata": {},
   "source": [
    "Therefore, there are 1100 for which we have the area adopted and 13 for which we have not data on the area adopted that we can exclude."
   ]
  },
  {
   "cell_type": "code",
   "execution_count": 101,
   "metadata": {
    "scrolled": true
   },
   "outputs": [
    {
     "data": {
      "text/html": [
       "<div>\n",
       "<style scoped>\n",
       "    .dataframe tbody tr th:only-of-type {\n",
       "        vertical-align: middle;\n",
       "    }\n",
       "\n",
       "    .dataframe tbody tr th {\n",
       "        vertical-align: top;\n",
       "    }\n",
       "\n",
       "    .dataframe thead th {\n",
       "        text-align: right;\n",
       "    }\n",
       "</style>\n",
       "<table border=\"1\" class=\"dataframe\">\n",
       "  <thead>\n",
       "    <tr style=\"text-align: right;\">\n",
       "      <th></th>\n",
       "      <th>Year that the pasture was installed</th>\n",
       "      <th>County</th>\n",
       "      <th>Area_Total_SIG_PPI_2009_ha</th>\n",
       "      <th>Area_Total_SIG_PPI_2010_ha</th>\n",
       "      <th>Area_Total_SIG_PPII_2011_ha</th>\n",
       "      <th>Area_Total_SIG_PPII_2012_ha</th>\n",
       "    </tr>\n",
       "    <tr>\n",
       "      <th>Parcel_ID</th>\n",
       "      <th></th>\n",
       "      <th></th>\n",
       "      <th></th>\n",
       "      <th></th>\n",
       "      <th></th>\n",
       "      <th></th>\n",
       "    </tr>\n",
       "  </thead>\n",
       "  <tbody>\n",
       "    <tr>\n",
       "      <th>414</th>\n",
       "      <td>2010</td>\n",
       "      <td>Évora</td>\n",
       "      <td>0.0</td>\n",
       "      <td>0.0</td>\n",
       "      <td>0.0</td>\n",
       "      <td>0.0</td>\n",
       "    </tr>\n",
       "    <tr>\n",
       "      <th>359</th>\n",
       "      <td>2010</td>\n",
       "      <td>Alcácer do Sal</td>\n",
       "      <td>0.0</td>\n",
       "      <td>0.0</td>\n",
       "      <td>0.0</td>\n",
       "      <td>0.0</td>\n",
       "    </tr>\n",
       "    <tr>\n",
       "      <th>106</th>\n",
       "      <td>2009</td>\n",
       "      <td>Arraiolos</td>\n",
       "      <td>0.0</td>\n",
       "      <td>0.0</td>\n",
       "      <td>0.0</td>\n",
       "      <td>0.0</td>\n",
       "    </tr>\n",
       "    <tr>\n",
       "      <th>249</th>\n",
       "      <td>2009</td>\n",
       "      <td>Alter do Chão</td>\n",
       "      <td>0.0</td>\n",
       "      <td>0.0</td>\n",
       "      <td>0.0</td>\n",
       "      <td>0.0</td>\n",
       "    </tr>\n",
       "    <tr>\n",
       "      <th>1061</th>\n",
       "      <td>2012</td>\n",
       "      <td>Vila Viçosa</td>\n",
       "      <td>0.0</td>\n",
       "      <td>0.0</td>\n",
       "      <td>0.0</td>\n",
       "      <td>0.0</td>\n",
       "    </tr>\n",
       "  </tbody>\n",
       "</table>\n",
       "</div>"
      ],
      "text/plain": [
       "           Year that the pasture was installed          County  \\\n",
       "Parcel_ID                                                        \n",
       "414                                       2010           Évora   \n",
       "359                                       2010  Alcácer do Sal   \n",
       "106                                       2009       Arraiolos   \n",
       "249                                       2009   Alter do Chão   \n",
       "1061                                      2012     Vila Viçosa   \n",
       "\n",
       "           Area_Total_SIG_PPI_2009_ha  Area_Total_SIG_PPI_2010_ha  \\\n",
       "Parcel_ID                                                           \n",
       "414                               0.0                         0.0   \n",
       "359                               0.0                         0.0   \n",
       "106                               0.0                         0.0   \n",
       "249                               0.0                         0.0   \n",
       "1061                              0.0                         0.0   \n",
       "\n",
       "           Area_Total_SIG_PPII_2011_ha  Area_Total_SIG_PPII_2012_ha  \n",
       "Parcel_ID                                                            \n",
       "414                                0.0                          0.0  \n",
       "359                                0.0                          0.0  \n",
       "106                                0.0                          0.0  \n",
       "249                                0.0                          0.0  \n",
       "1061                               0.0                          0.0  "
      ]
     },
     "execution_count": 101,
     "metadata": {},
     "output_type": "execute_result"
    }
   ],
   "source": [
    "parcels_without_adoption = PCF_data[adopted_0_years]\n",
    "parcels_without_adoption.head()"
   ]
  },
  {
   "cell_type": "code",
   "execution_count": 102,
   "metadata": {},
   "outputs": [],
   "source": [
    "PCF_data = PCF_data.drop(parcels_without_adoption.index)"
   ]
  },
  {
   "cell_type": "code",
   "execution_count": 103,
   "metadata": {
    "scrolled": false
   },
   "outputs": [
    {
     "data": {
      "text/plain": [
       "1100"
      ]
     },
     "execution_count": 103,
     "metadata": {},
     "output_type": "execute_result"
    }
   ],
   "source": [
    "len(PCF_data)"
   ]
  },
  {
   "cell_type": "markdown",
   "metadata": {},
   "source": [
    "Since each parcel adopted in one year and the DataFrame has a column for the year of adoption, we can substitute the last columns with the area of adoption with just one columns having the area adopted in any year."
   ]
  },
  {
   "cell_type": "code",
   "execution_count": 104,
   "metadata": {},
   "outputs": [],
   "source": [
    "PCF_data[cols_with_area].max(axis=1)\n",
    "PCF_data['Area'] = PCF_data[cols_with_area].max(axis=1)"
   ]
  },
  {
   "cell_type": "code",
   "execution_count": 105,
   "metadata": {
    "scrolled": true
   },
   "outputs": [],
   "source": [
    "PCF_data = PCF_data.drop(cols_with_area, axis=1)"
   ]
  },
  {
   "cell_type": "code",
   "execution_count": 106,
   "metadata": {
    "scrolled": true
   },
   "outputs": [
    {
     "data": {
      "text/html": [
       "<div>\n",
       "<style scoped>\n",
       "    .dataframe tbody tr th:only-of-type {\n",
       "        vertical-align: middle;\n",
       "    }\n",
       "\n",
       "    .dataframe tbody tr th {\n",
       "        vertical-align: top;\n",
       "    }\n",
       "\n",
       "    .dataframe thead th {\n",
       "        text-align: right;\n",
       "    }\n",
       "</style>\n",
       "<table border=\"1\" class=\"dataframe\">\n",
       "  <thead>\n",
       "    <tr style=\"text-align: right;\">\n",
       "      <th></th>\n",
       "      <th>Year that the pasture was installed</th>\n",
       "      <th>County</th>\n",
       "      <th>Area</th>\n",
       "    </tr>\n",
       "    <tr>\n",
       "      <th>Parcel_ID</th>\n",
       "      <th></th>\n",
       "      <th></th>\n",
       "      <th></th>\n",
       "    </tr>\n",
       "  </thead>\n",
       "  <tbody>\n",
       "    <tr>\n",
       "      <th>55</th>\n",
       "      <td>2009</td>\n",
       "      <td>Idanha-a-Nova</td>\n",
       "      <td>9.28</td>\n",
       "    </tr>\n",
       "    <tr>\n",
       "      <th>410</th>\n",
       "      <td>2010</td>\n",
       "      <td>Évora</td>\n",
       "      <td>3.21</td>\n",
       "    </tr>\n",
       "    <tr>\n",
       "      <th>681</th>\n",
       "      <td>2011</td>\n",
       "      <td>Évora</td>\n",
       "      <td>6.83</td>\n",
       "    </tr>\n",
       "    <tr>\n",
       "      <th>1068</th>\n",
       "      <td>2012</td>\n",
       "      <td>Reguengos de Monsaraz</td>\n",
       "      <td>38.17</td>\n",
       "    </tr>\n",
       "    <tr>\n",
       "      <th>584</th>\n",
       "      <td>2010</td>\n",
       "      <td>Avis</td>\n",
       "      <td>9.57</td>\n",
       "    </tr>\n",
       "  </tbody>\n",
       "</table>\n",
       "</div>"
      ],
      "text/plain": [
       "           Year that the pasture was installed                 County   Area\n",
       "Parcel_ID                                                                   \n",
       "55                                        2009          Idanha-a-Nova   9.28\n",
       "410                                       2010                  Évora   3.21\n",
       "681                                       2011                  Évora   6.83\n",
       "1068                                      2012  Reguengos de Monsaraz  38.17\n",
       "584                                       2010                   Avis   9.57"
      ]
     },
     "execution_count": 106,
     "metadata": {},
     "output_type": "execute_result"
    }
   ],
   "source": [
    "PCF_data.head()"
   ]
  },
  {
   "cell_type": "markdown",
   "metadata": {},
   "source": [
    "### Get municipality adoption per municipality, per year"
   ]
  },
  {
   "cell_type": "code",
   "execution_count": 107,
   "metadata": {},
   "outputs": [
    {
     "data": {
      "text/html": [
       "<div>\n",
       "<style scoped>\n",
       "    .dataframe tbody tr th:only-of-type {\n",
       "        vertical-align: middle;\n",
       "    }\n",
       "\n",
       "    .dataframe tbody tr th {\n",
       "        vertical-align: top;\n",
       "    }\n",
       "\n",
       "    .dataframe thead th {\n",
       "        text-align: right;\n",
       "    }\n",
       "</style>\n",
       "<table border=\"1\" class=\"dataframe\">\n",
       "  <thead>\n",
       "    <tr style=\"text-align: right;\">\n",
       "      <th></th>\n",
       "      <th></th>\n",
       "      <th>Area</th>\n",
       "    </tr>\n",
       "    <tr>\n",
       "      <th>County</th>\n",
       "      <th>Year that the pasture was installed</th>\n",
       "      <th></th>\n",
       "    </tr>\n",
       "  </thead>\n",
       "  <tbody>\n",
       "    <tr>\n",
       "      <th rowspan=\"4\" valign=\"top\">Abrantes</th>\n",
       "      <th>2009</th>\n",
       "      <td>67.24</td>\n",
       "    </tr>\n",
       "    <tr>\n",
       "      <th>2010</th>\n",
       "      <td>241.73</td>\n",
       "    </tr>\n",
       "    <tr>\n",
       "      <th>2011</th>\n",
       "      <td>52.38</td>\n",
       "    </tr>\n",
       "    <tr>\n",
       "      <th>2012</th>\n",
       "      <td>156.63</td>\n",
       "    </tr>\n",
       "    <tr>\n",
       "      <th>Alandroal</th>\n",
       "      <th>2009</th>\n",
       "      <td>205.70</td>\n",
       "    </tr>\n",
       "  </tbody>\n",
       "</table>\n",
       "</div>"
      ],
      "text/plain": [
       "                                                 Area\n",
       "County    Year that the pasture was installed        \n",
       "Abrantes  2009                                  67.24\n",
       "          2010                                 241.73\n",
       "          2011                                  52.38\n",
       "          2012                                 156.63\n",
       "Alandroal 2009                                 205.70"
      ]
     },
     "execution_count": 107,
     "metadata": {},
     "output_type": "execute_result"
    }
   ],
   "source": [
    "munic_adoption_MI = PCF_data.groupby(['County', 'Year that the pasture was installed']).sum()\n",
    "munic_adoption_MI.head()"
   ]
  },
  {
   "cell_type": "markdown",
   "metadata": {},
   "source": [
    "Rearrange to have the years as a columns and bring in the same format as the SBP adoption previous to the PCF project"
   ]
  },
  {
   "cell_type": "code",
   "execution_count": 108,
   "metadata": {
    "scrolled": true
   },
   "outputs": [
    {
     "data": {
      "text/html": [
       "<div>\n",
       "<style scoped>\n",
       "    .dataframe tbody tr th:only-of-type {\n",
       "        vertical-align: middle;\n",
       "    }\n",
       "\n",
       "    .dataframe tbody tr th {\n",
       "        vertical-align: top;\n",
       "    }\n",
       "\n",
       "    .dataframe thead tr th {\n",
       "        text-align: left;\n",
       "    }\n",
       "\n",
       "    .dataframe thead tr:last-of-type th {\n",
       "        text-align: right;\n",
       "    }\n",
       "</style>\n",
       "<table border=\"1\" class=\"dataframe\">\n",
       "  <thead>\n",
       "    <tr>\n",
       "      <th></th>\n",
       "      <th colspan=\"4\" halign=\"left\">Area</th>\n",
       "    </tr>\n",
       "    <tr>\n",
       "      <th>Year that the pasture was installed</th>\n",
       "      <th>2009</th>\n",
       "      <th>2010</th>\n",
       "      <th>2011</th>\n",
       "      <th>2012</th>\n",
       "    </tr>\n",
       "    <tr>\n",
       "      <th>County</th>\n",
       "      <th></th>\n",
       "      <th></th>\n",
       "      <th></th>\n",
       "      <th></th>\n",
       "    </tr>\n",
       "  </thead>\n",
       "  <tbody>\n",
       "    <tr>\n",
       "      <th>Abrantes</th>\n",
       "      <td>67.24</td>\n",
       "      <td>241.73</td>\n",
       "      <td>52.38</td>\n",
       "      <td>156.63</td>\n",
       "    </tr>\n",
       "    <tr>\n",
       "      <th>Alandroal</th>\n",
       "      <td>205.70</td>\n",
       "      <td>557.06</td>\n",
       "      <td>167.75</td>\n",
       "      <td>934.91</td>\n",
       "    </tr>\n",
       "    <tr>\n",
       "      <th>Alcochete</th>\n",
       "      <td>0.00</td>\n",
       "      <td>347.12</td>\n",
       "      <td>238.65</td>\n",
       "      <td>348.91</td>\n",
       "    </tr>\n",
       "    <tr>\n",
       "      <th>Alcácer do Sal</th>\n",
       "      <td>1084.30</td>\n",
       "      <td>1112.69</td>\n",
       "      <td>720.92</td>\n",
       "      <td>644.67</td>\n",
       "    </tr>\n",
       "    <tr>\n",
       "      <th>Alenquer</th>\n",
       "      <td>0.00</td>\n",
       "      <td>0.00</td>\n",
       "      <td>14.66</td>\n",
       "      <td>0.00</td>\n",
       "    </tr>\n",
       "  </tbody>\n",
       "</table>\n",
       "</div>"
      ],
      "text/plain": [
       "                                        Area                         \n",
       "Year that the pasture was installed     2009     2010    2011    2012\n",
       "County                                                               \n",
       "Abrantes                               67.24   241.73   52.38  156.63\n",
       "Alandroal                             205.70   557.06  167.75  934.91\n",
       "Alcochete                               0.00   347.12  238.65  348.91\n",
       "Alcácer do Sal                       1084.30  1112.69  720.92  644.67\n",
       "Alenquer                                0.00     0.00   14.66    0.00"
      ]
     },
     "execution_count": 108,
     "metadata": {},
     "output_type": "execute_result"
    }
   ],
   "source": [
    "munic_adoption_PCF = munic_adoption_MI.unstack(fill_value=0)\n",
    "munic_adoption_PCF.head()"
   ]
  },
  {
   "cell_type": "code",
   "execution_count": 109,
   "metadata": {
    "scrolled": true
   },
   "outputs": [
    {
     "data": {
      "text/html": [
       "<div>\n",
       "<style scoped>\n",
       "    .dataframe tbody tr th:only-of-type {\n",
       "        vertical-align: middle;\n",
       "    }\n",
       "\n",
       "    .dataframe tbody tr th {\n",
       "        vertical-align: top;\n",
       "    }\n",
       "\n",
       "    .dataframe thead tr th {\n",
       "        text-align: left;\n",
       "    }\n",
       "\n",
       "    .dataframe thead tr:last-of-type th {\n",
       "        text-align: right;\n",
       "    }\n",
       "</style>\n",
       "<table border=\"1\" class=\"dataframe\">\n",
       "  <thead>\n",
       "    <tr>\n",
       "      <th></th>\n",
       "      <th colspan=\"4\" halign=\"left\">Area</th>\n",
       "    </tr>\n",
       "    <tr>\n",
       "      <th></th>\n",
       "      <th>2009</th>\n",
       "      <th>2010</th>\n",
       "      <th>2011</th>\n",
       "      <th>2012</th>\n",
       "    </tr>\n",
       "    <tr>\n",
       "      <th>County</th>\n",
       "      <th></th>\n",
       "      <th></th>\n",
       "      <th></th>\n",
       "      <th></th>\n",
       "    </tr>\n",
       "  </thead>\n",
       "  <tbody>\n",
       "    <tr>\n",
       "      <th>Abrantes</th>\n",
       "      <td>67.24</td>\n",
       "      <td>241.73</td>\n",
       "      <td>52.38</td>\n",
       "      <td>156.63</td>\n",
       "    </tr>\n",
       "    <tr>\n",
       "      <th>Alandroal</th>\n",
       "      <td>205.70</td>\n",
       "      <td>557.06</td>\n",
       "      <td>167.75</td>\n",
       "      <td>934.91</td>\n",
       "    </tr>\n",
       "    <tr>\n",
       "      <th>Alcochete</th>\n",
       "      <td>0.00</td>\n",
       "      <td>347.12</td>\n",
       "      <td>238.65</td>\n",
       "      <td>348.91</td>\n",
       "    </tr>\n",
       "    <tr>\n",
       "      <th>Alcácer do Sal</th>\n",
       "      <td>1084.30</td>\n",
       "      <td>1112.69</td>\n",
       "      <td>720.92</td>\n",
       "      <td>644.67</td>\n",
       "    </tr>\n",
       "    <tr>\n",
       "      <th>Alenquer</th>\n",
       "      <td>0.00</td>\n",
       "      <td>0.00</td>\n",
       "      <td>14.66</td>\n",
       "      <td>0.00</td>\n",
       "    </tr>\n",
       "  </tbody>\n",
       "</table>\n",
       "</div>"
      ],
      "text/plain": [
       "                   Area                         \n",
       "                   2009     2010    2011    2012\n",
       "County                                          \n",
       "Abrantes          67.24   241.73   52.38  156.63\n",
       "Alandroal        205.70   557.06  167.75  934.91\n",
       "Alcochete          0.00   347.12  238.65  348.91\n",
       "Alcácer do Sal  1084.30  1112.69  720.92  644.67\n",
       "Alenquer           0.00     0.00   14.66    0.00"
      ]
     },
     "execution_count": 109,
     "metadata": {},
     "output_type": "execute_result"
    }
   ],
   "source": [
    "munic_adoption_PCF.columns.names = (None, None)\n",
    "munic_adoption_PCF.head()"
   ]
  },
  {
   "cell_type": "code",
   "execution_count": 110,
   "metadata": {},
   "outputs": [],
   "source": [
    "munic_adoption_PCF.index.name = 'Municipality'"
   ]
  },
  {
   "cell_type": "code",
   "execution_count": 111,
   "metadata": {},
   "outputs": [],
   "source": [
    "munic_adoption_PCF.columns = munic_adoption_PCF.columns.droplevel()\n",
    "#munic_adoption_PCF.head()"
   ]
  },
  {
   "cell_type": "code",
   "execution_count": 112,
   "metadata": {},
   "outputs": [
    {
     "data": {
      "text/plain": [
       "73"
      ]
     },
     "execution_count": 112,
     "metadata": {},
     "output_type": "execute_result"
    }
   ],
   "source": [
    "len(munic_adoption_PCF)"
   ]
  },
  {
   "cell_type": "markdown",
   "metadata": {},
   "source": [
    "### Retrieve list of municipalities which adopted during the PCF project"
   ]
  },
  {
   "cell_type": "code",
   "execution_count": 113,
   "metadata": {},
   "outputs": [],
   "source": [
    "munic_adoption_PCF_list = munic_adoption_PCF.index.tolist()"
   ]
  },
  {
   "cell_type": "code",
   "execution_count": 114,
   "metadata": {},
   "outputs": [],
   "source": [
    "import csv\n",
    "\n",
    "with open(\"municipalities_adoption_PCF.csv\", \"w+\") as file:\n",
    "    wr = csv.writer(file)\n",
    "    wr.writerow(munic_adoption_PCF_list)"
   ]
  },
  {
   "cell_type": "markdown",
   "metadata": {},
   "source": [
    "## SBP adoption previous to the PCF project"
   ]
  },
  {
   "cell_type": "code",
   "execution_count": 115,
   "metadata": {
    "scrolled": true
   },
   "outputs": [],
   "source": [
    "munic_adoption_pre_PCF = pd.read_excel(path_to_adoption_pre_PCF, index_col=0)\n",
    "#munic_adoption_pre_PCF"
   ]
  },
  {
   "cell_type": "code",
   "execution_count": 116,
   "metadata": {
    "scrolled": true
   },
   "outputs": [
    {
     "data": {
      "text/plain": [
       "278"
      ]
     },
     "execution_count": 116,
     "metadata": {},
     "output_type": "execute_result"
    }
   ],
   "source": [
    "len(munic_adoption_pre_PCF)"
   ]
  },
  {
   "cell_type": "markdown",
   "metadata": {},
   "source": [
    "# Municipalities comparison "
   ]
  },
  {
   "cell_type": "code",
   "execution_count": 117,
   "metadata": {
    "scrolled": true
   },
   "outputs": [],
   "source": [
    "munic_PCF = munic_adoption_PCF.index.tolist()\n",
    "munic_pre_PCF = munic_adoption_pre_PCF.index.tolist()"
   ]
  },
  {
   "cell_type": "code",
   "execution_count": 118,
   "metadata": {
    "scrolled": true
   },
   "outputs": [
    {
     "data": {
      "text/plain": [
       "[]"
      ]
     },
     "execution_count": 118,
     "metadata": {},
     "output_type": "execute_result"
    }
   ],
   "source": [
    "munic_in_PCF_not_in_prePCF = [munic for munic in munic_PCF if munic not in munic_pre_PCF]\n",
    "munic_in_PCF_not_in_prePCF"
   ]
  },
  {
   "cell_type": "code",
   "execution_count": 119,
   "metadata": {},
   "outputs": [
    {
     "data": {
      "text/plain": [
       "205"
      ]
     },
     "execution_count": 119,
     "metadata": {},
     "output_type": "execute_result"
    }
   ],
   "source": [
    "munic_in_prePCF_not_in_PCF = [munic for munic in munic_pre_PCF if munic not in munic_PCF]\n",
    "len(munic_in_prePCF_not_in_PCF)"
   ]
  },
  {
   "cell_type": "markdown",
   "metadata": {},
   "source": [
    "## Dataset merging"
   ]
  },
  {
   "cell_type": "code",
   "execution_count": 120,
   "metadata": {},
   "outputs": [],
   "source": [
    "munic_adoption = pd.concat([munic_adoption_pre_PCF, munic_adoption_PCF], axis=1)"
   ]
  },
  {
   "cell_type": "code",
   "execution_count": 121,
   "metadata": {},
   "outputs": [],
   "source": [
    "munic_adoption[munic_adoption.isna()] = 0"
   ]
  },
  {
   "cell_type": "code",
   "execution_count": 122,
   "metadata": {},
   "outputs": [],
   "source": [
    "munic_adoption.index.name = 'Municipality'"
   ]
  },
  {
   "cell_type": "markdown",
   "metadata": {},
   "source": [
    "Add a columns for 1995 with all 0s, since adoption values in 1995 serves to predict the adoption in 1996."
   ]
  },
  {
   "cell_type": "code",
   "execution_count": 123,
   "metadata": {},
   "outputs": [],
   "source": [
    "munic_adoption.insert(0, 1995, 0)"
   ]
  },
  {
   "cell_type": "markdown",
   "metadata": {},
   "source": [
    "## Save dataset"
   ]
  },
  {
   "cell_type": "code",
   "execution_count": 124,
   "metadata": {},
   "outputs": [],
   "source": [
    "file_munic_adoption = \"./Final SBP adoption datasets/Yearly SBP adoption per municipality.xlsx\""
   ]
  },
  {
   "cell_type": "code",
   "execution_count": 125,
   "metadata": {},
   "outputs": [],
   "source": [
    "munic_adoption.to_excel(file_munic_adoption)"
   ]
  },
  {
   "cell_type": "markdown",
   "metadata": {},
   "source": [
    "# Plot pre-PCF vs PCF adoption for disaggregation check"
   ]
  },
  {
   "cell_type": "code",
   "execution_count": 126,
   "metadata": {
    "scrolled": true
   },
   "outputs": [],
   "source": [
    "adoption_pre_during_PCF = pd.concat([munic_adoption_pre_PCF.sum(axis=1), munic_adoption_PCF.sum(axis=1)], axis=1)\n",
    "adoption_pre_during_PCF.replace(np.nan, 0, inplace=True)\n",
    "adoption_pre_during_PCF.rename(columns={0:\"pre\", 1:\"during\"}, inplace=True)"
   ]
  },
  {
   "cell_type": "code",
   "execution_count": 175,
   "metadata": {},
   "outputs": [
    {
     "data": {
      "text/plain": [
       "<matplotlib.lines._AxLine at 0x17521f079c8>"
      ]
     },
     "execution_count": 175,
     "metadata": {},
     "output_type": "execute_result"
    },
    {
     "data": {
      "image/png": "[encoded data removed]",
      "text/plain": [
       "<Figure size 576x576 with 1 Axes>"
      ]
     },
     "metadata": {
      "needs_background": "light"
     },
     "output_type": "display_data"
    }
   ],
   "source": [
    "graph_lim = 12000\n",
    "fig, ax = plt.subplots()\n",
    "fig.set_size_inches(8, 8)\n",
    "ax.set_xlabel(\"Adoption during PCF [ha]\", fontsize=16)\n",
    "ax.set_ylabel(\"Adoption pre-PCF [ha]\", fontsize=16)\n",
    "#ax_pr.set_title(fig_title, fontsize=18)\n",
    "ax.set_xlim(0, graph_lim)\n",
    "#xticks = [year for year in predicted_adoption.index if year%2 == 0]\n",
    "#ax.set_xticks(xticks)\n",
    "ax.set_ylim(0, graph_lim)\n",
    "ax.grid(True)\n",
    "ax.scatter(adoption_pre_during_PCF.loc[:,\"during\"], adoption_pre_during_PCF.loc[:,\"pre\"])\n",
    "ax.axline([0, 0], [graph_lim, graph_lim])"
   ]
  },
  {
   "cell_type": "code",
   "execution_count": 128,
   "metadata": {},
   "outputs": [
    {
     "data": {
      "text/plain": [
       "<matplotlib.lines._AxLine at 0x1751ff31788>"
      ]
     },
     "execution_count": 128,
     "metadata": {},
     "output_type": "execute_result"
    },
    {
     "data": {
      "image/png": "[encoded data removed]",
      "text/plain": [
       "<Figure size 576x576 with 1 Axes>"
      ]
     },
     "metadata": {
      "needs_background": "light"
     },
     "output_type": "display_data"
    }
   ],
   "source": [
    "graph_lim = 2000\n",
    "fig, ax = plt.subplots()\n",
    "fig.set_size_inches(8, 8)\n",
    "ax.set_xlabel(\"Adoption during PCF [ha]\", fontsize=16)\n",
    "ax.set_ylabel(\"Adoption pre-PCF [ha]\", fontsize=16)\n",
    "#ax_pr.set_title(fig_title, fontsize=18)\n",
    "ax.set_xlim(0, graph_lim)\n",
    "#xticks = [year for year in predicted_adoption.index if year%2 == 0]\n",
    "#ax.set_xticks(xticks)\n",
    "ax.set_ylim(0, graph_lim)\n",
    "ax.grid(True)\n",
    "ax.scatter(adoption_pre_during_PCF.loc[:,\"during\"], adoption_pre_during_PCF.loc[:,\"pre\"])\n",
    "ax.axline([0, 0], [graph_lim, graph_lim])"
   ]
  },
  {
   "cell_type": "code",
   "execution_count": 129,
   "metadata": {},
   "outputs": [
    {
     "data": {
      "text/html": [
       "<div>\n",
       "<style scoped>\n",
       "    .dataframe tbody tr th:only-of-type {\n",
       "        vertical-align: middle;\n",
       "    }\n",
       "\n",
       "    .dataframe tbody tr th {\n",
       "        vertical-align: top;\n",
       "    }\n",
       "\n",
       "    .dataframe thead th {\n",
       "        text-align: right;\n",
       "    }\n",
       "</style>\n",
       "<table border=\"1\" class=\"dataframe\">\n",
       "  <thead>\n",
       "    <tr style=\"text-align: right;\">\n",
       "      <th></th>\n",
       "      <th>pre</th>\n",
       "      <th>during</th>\n",
       "    </tr>\n",
       "  </thead>\n",
       "  <tbody>\n",
       "    <tr>\n",
       "      <th>Elvas</th>\n",
       "      <td>4183.000000</td>\n",
       "      <td>1595.55</td>\n",
       "    </tr>\n",
       "    <tr>\n",
       "      <th>Estremoz</th>\n",
       "      <td>4465.000000</td>\n",
       "      <td>943.34</td>\n",
       "    </tr>\n",
       "    <tr>\n",
       "      <th>Ponte de Sor</th>\n",
       "      <td>5464.000000</td>\n",
       "      <td>403.75</td>\n",
       "    </tr>\n",
       "    <tr>\n",
       "      <th>Alcácer do Sal</th>\n",
       "      <td>5526.025620</td>\n",
       "      <td>3562.58</td>\n",
       "    </tr>\n",
       "    <tr>\n",
       "      <th>Montemor-o-Novo</th>\n",
       "      <td>5712.298139</td>\n",
       "      <td>4821.87</td>\n",
       "    </tr>\n",
       "    <tr>\n",
       "      <th>Odemira</th>\n",
       "      <td>7803.000000</td>\n",
       "      <td>424.98</td>\n",
       "    </tr>\n",
       "    <tr>\n",
       "      <th>Coruche</th>\n",
       "      <td>10836.000000</td>\n",
       "      <td>2343.21</td>\n",
       "    </tr>\n",
       "  </tbody>\n",
       "</table>\n",
       "</div>"
      ],
      "text/plain": [
       "                          pre   during\n",
       "Elvas             4183.000000  1595.55\n",
       "Estremoz          4465.000000   943.34\n",
       "Ponte de Sor      5464.000000   403.75\n",
       "Alcácer do Sal    5526.025620  3562.58\n",
       "Montemor-o-Novo   5712.298139  4821.87\n",
       "Odemira           7803.000000   424.98\n",
       "Coruche          10836.000000  2343.21"
      ]
     },
     "execution_count": 129,
     "metadata": {},
     "output_type": "execute_result"
    }
   ],
   "source": [
    "adoption_pre_during_PCF.loc[adoption_pre_during_PCF.loc[:,\"pre\"] > 4000].sort_values(\"pre\")"
   ]
  },
  {
   "cell_type": "code",
   "execution_count": 130,
   "metadata": {},
   "outputs": [
    {
     "data": {
      "text/html": [
       "<div>\n",
       "<style scoped>\n",
       "    .dataframe tbody tr th:only-of-type {\n",
       "        vertical-align: middle;\n",
       "    }\n",
       "\n",
       "    .dataframe tbody tr th {\n",
       "        vertical-align: top;\n",
       "    }\n",
       "\n",
       "    .dataframe thead th {\n",
       "        text-align: right;\n",
       "    }\n",
       "</style>\n",
       "<table border=\"1\" class=\"dataframe\">\n",
       "  <thead>\n",
       "    <tr style=\"text-align: right;\">\n",
       "      <th></th>\n",
       "      <th>pre</th>\n",
       "      <th>during</th>\n",
       "    </tr>\n",
       "  </thead>\n",
       "  <tbody>\n",
       "    <tr>\n",
       "      <th>Coruche</th>\n",
       "      <td>10836.000000</td>\n",
       "      <td>2343.21</td>\n",
       "    </tr>\n",
       "    <tr>\n",
       "      <th>Arraiolos</th>\n",
       "      <td>756.680201</td>\n",
       "      <td>2432.52</td>\n",
       "    </tr>\n",
       "    <tr>\n",
       "      <th>Idanha-a-Nova</th>\n",
       "      <td>2816.236161</td>\n",
       "      <td>2800.97</td>\n",
       "    </tr>\n",
       "    <tr>\n",
       "      <th>Alcácer do Sal</th>\n",
       "      <td>5526.025620</td>\n",
       "      <td>3562.58</td>\n",
       "    </tr>\n",
       "    <tr>\n",
       "      <th>Montemor-o-Novo</th>\n",
       "      <td>5712.298139</td>\n",
       "      <td>4821.87</td>\n",
       "    </tr>\n",
       "    <tr>\n",
       "      <th>Évora</th>\n",
       "      <td>1549.648241</td>\n",
       "      <td>5489.52</td>\n",
       "    </tr>\n",
       "  </tbody>\n",
       "</table>\n",
       "</div>"
      ],
      "text/plain": [
       "                          pre   during\n",
       "Coruche          10836.000000  2343.21\n",
       "Arraiolos          756.680201  2432.52\n",
       "Idanha-a-Nova     2816.236161  2800.97\n",
       "Alcácer do Sal    5526.025620  3562.58\n",
       "Montemor-o-Novo   5712.298139  4821.87\n",
       "Évora             1549.648241  5489.52"
      ]
     },
     "execution_count": 130,
     "metadata": {},
     "output_type": "execute_result"
    }
   ],
   "source": [
    "adoption_pre_during_PCF.loc[adoption_pre_during_PCF.loc[:,\"during\"] > 2000].sort_values(\"during\")"
   ]
  },
  {
   "cell_type": "markdown",
   "metadata": {},
   "source": [
    "# Other datasets construction"
   ]
  },
  {
   "cell_type": "markdown",
   "metadata": {},
   "source": [
    "## Cumulative SBP adoption per municipality"
   ]
  },
  {
   "cell_type": "code",
   "execution_count": 132,
   "metadata": {
    "scrolled": true
   },
   "outputs": [],
   "source": [
    "cumulative_total_munic_adoption = munic_adoption.cumsum(axis=1)\n",
    "#cumulative_total_munic_adoption"
   ]
  },
  {
   "cell_type": "markdown",
   "metadata": {},
   "source": [
    "Save file"
   ]
  },
  {
   "cell_type": "raw",
   "metadata": {},
   "source": [
    "file_cumulative_total_munic_adoption = \"./Final SBP adoption datasets/Total cumulative SBP adoption per municipality.xlsx\""
   ]
  },
  {
   "cell_type": "raw",
   "metadata": {},
   "source": [
    "cumulative_total_munic_adoption.to_excel(file_cumulative_total_munic_adoption)"
   ]
  },
  {
   "cell_type": "markdown",
   "metadata": {},
   "source": [
    "## Datasets for total adoption"
   ]
  },
  {
   "cell_type": "markdown",
   "metadata": {},
   "source": [
    "Dataset reporting for all municipalities that adopted during the PCF at the aggregated level both the yearly and the cumulative adoption. (We refer with \"Portugal\" to this region in the variable names)."
   ]
  },
  {
   "cell_type": "code",
   "execution_count": 133,
   "metadata": {},
   "outputs": [
    {
     "name": "stdout",
     "output_type": "stream",
     "text": [
      "(278, 18) (73, 18) (278, 18) (73, 18)\n"
     ]
    }
   ],
   "source": [
    "munic_adoption_PCF = munic_adoption.loc[munic_adoption_PCF_list]\n",
    "cumulative_total_munic_adoption_PCF = cumulative_total_munic_adoption.loc[munic_adoption_PCF_list]\n",
    "print(munic_adoption.shape, munic_adoption_PCF.shape, \n",
    "      cumulative_total_munic_adoption.shape, cumulative_total_munic_adoption_PCF.shape)"
   ]
  },
  {
   "cell_type": "code",
   "execution_count": 134,
   "metadata": {},
   "outputs": [],
   "source": [
    "portugal_adoption = pd.DataFrame(columns=cumulative_total_munic_adoption.columns)"
   ]
  },
  {
   "cell_type": "code",
   "execution_count": 135,
   "metadata": {},
   "outputs": [],
   "source": [
    "portugal_adoption.loc['Yearly adoption'] = munic_adoption_PCF.sum()\n",
    "portugal_adoption.loc['Total cumulative adoption'] = cumulative_total_munic_adoption_PCF.sum()"
   ]
  },
  {
   "cell_type": "code",
   "execution_count": 136,
   "metadata": {},
   "outputs": [],
   "source": [
    "# For comparison, calculate also the adoption in the entire country\n",
    "portugal_adoption_country = pd.DataFrame(columns=cumulative_total_munic_adoption.columns)\n",
    "portugal_adoption_country.loc['Yearly adoption'] = munic_adoption.sum()\n",
    "portugal_adoption_country.loc['Total cumulative adoption'] = cumulative_total_munic_adoption.sum()"
   ]
  },
  {
   "cell_type": "code",
   "execution_count": 137,
   "metadata": {
    "scrolled": true
   },
   "outputs": [
    {
     "data": {
      "text/html": [
       "<div>\n",
       "<style scoped>\n",
       "    .dataframe tbody tr th:only-of-type {\n",
       "        vertical-align: middle;\n",
       "    }\n",
       "\n",
       "    .dataframe tbody tr th {\n",
       "        vertical-align: top;\n",
       "    }\n",
       "\n",
       "    .dataframe thead th {\n",
       "        text-align: right;\n",
       "    }\n",
       "</style>\n",
       "<table border=\"1\" class=\"dataframe\">\n",
       "  <thead>\n",
       "    <tr style=\"text-align: right;\">\n",
       "      <th></th>\n",
       "      <th>1995</th>\n",
       "      <th>1996</th>\n",
       "      <th>1997</th>\n",
       "      <th>1998</th>\n",
       "      <th>1999</th>\n",
       "      <th>2000</th>\n",
       "      <th>2001</th>\n",
       "      <th>2002</th>\n",
       "      <th>2003</th>\n",
       "      <th>2004</th>\n",
       "      <th>2005</th>\n",
       "      <th>2006</th>\n",
       "      <th>2007</th>\n",
       "      <th>2008</th>\n",
       "      <th>2009</th>\n",
       "      <th>2010</th>\n",
       "      <th>2011</th>\n",
       "      <th>2012</th>\n",
       "    </tr>\n",
       "  </thead>\n",
       "  <tbody>\n",
       "    <tr>\n",
       "      <th>Yearly adoption</th>\n",
       "      <td>NaN</td>\n",
       "      <td>95.065398</td>\n",
       "      <td>94.497057</td>\n",
       "      <td>97.857863</td>\n",
       "      <td>96.857906</td>\n",
       "      <td>94.251115</td>\n",
       "      <td>96.358175</td>\n",
       "      <td>97.780329</td>\n",
       "      <td>97.367689</td>\n",
       "      <td>97.930590</td>\n",
       "      <td>96.386586</td>\n",
       "      <td>96.554972</td>\n",
       "      <td>95.817072</td>\n",
       "      <td>89.927937</td>\n",
       "      <td>100.000000</td>\n",
       "      <td>100.000000</td>\n",
       "      <td>100.000000</td>\n",
       "      <td>100.000000</td>\n",
       "    </tr>\n",
       "    <tr>\n",
       "      <th>Total cumulative adoption</th>\n",
       "      <td>NaN</td>\n",
       "      <td>95.065398</td>\n",
       "      <td>94.760006</td>\n",
       "      <td>96.376669</td>\n",
       "      <td>96.540662</td>\n",
       "      <td>95.959629</td>\n",
       "      <td>96.061780</td>\n",
       "      <td>96.532448</td>\n",
       "      <td>96.761098</td>\n",
       "      <td>97.041317</td>\n",
       "      <td>96.953006</td>\n",
       "      <td>96.909084</td>\n",
       "      <td>96.767978</td>\n",
       "      <td>96.278023</td>\n",
       "      <td>96.766548</td>\n",
       "      <td>97.216129</td>\n",
       "      <td>97.436444</td>\n",
       "      <td>97.704727</td>\n",
       "    </tr>\n",
       "  </tbody>\n",
       "</table>\n",
       "</div>"
      ],
      "text/plain": [
       "                           1995       1996       1997       1998       1999  \\\n",
       "Yearly adoption             NaN  95.065398  94.497057  97.857863  96.857906   \n",
       "Total cumulative adoption   NaN  95.065398  94.760006  96.376669  96.540662   \n",
       "\n",
       "                                2000       2001       2002       2003  \\\n",
       "Yearly adoption            94.251115  96.358175  97.780329  97.367689   \n",
       "Total cumulative adoption  95.959629  96.061780  96.532448  96.761098   \n",
       "\n",
       "                                2004       2005       2006       2007  \\\n",
       "Yearly adoption            97.930590  96.386586  96.554972  95.817072   \n",
       "Total cumulative adoption  97.041317  96.953006  96.909084  96.767978   \n",
       "\n",
       "                                2008        2009        2010        2011  \\\n",
       "Yearly adoption            89.927937  100.000000  100.000000  100.000000   \n",
       "Total cumulative adoption  96.278023   96.766548   97.216129   97.436444   \n",
       "\n",
       "                                 2012  \n",
       "Yearly adoption            100.000000  \n",
       "Total cumulative adoption   97.704727  "
      ]
     },
     "execution_count": 137,
     "metadata": {},
     "output_type": "execute_result"
    }
   ],
   "source": [
    "(portugal_adoption/portugal_adoption_country*100)"
   ]
  },
  {
   "cell_type": "markdown",
   "metadata": {},
   "source": [
    "Save file"
   ]
  },
  {
   "cell_type": "raw",
   "metadata": {},
   "source": [
    "file_portugal_adoption = \"./Final SBP adoption datasets/SBP adoption in Portugal.xlsx\""
   ]
  },
  {
   "cell_type": "raw",
   "metadata": {},
   "source": [
    "portugal_adoption.to_excel(file_portugal_adoption)"
   ]
  },
  {
   "cell_type": "raw",
   "metadata": {},
   "source": [
    "portugal_adoption.loc['Yearly adoption'].plot(figsize=(15,6), xticks=portugal_adoption.columns, grid=True)"
   ]
  },
  {
   "cell_type": "markdown",
   "metadata": {},
   "source": [
    "# Datasets merging for machine learning models"
   ]
  },
  {
   "cell_type": "markdown",
   "metadata": {},
   "source": [
    "To train the machine learnig models, we need a dataset having one row for each municipality for each year. The label is the adoption in that year. The features are all the datasets contructed above and refer to the previous year."
   ]
  },
  {
   "cell_type": "code",
   "execution_count": 138,
   "metadata": {},
   "outputs": [],
   "source": [
    "def multiindex_from_dataframe_columns(df, col_name, previous_year=False):\n",
    "    \"\"\"\n",
    "    Function to create a multiindex from a dataframe, with the columns of the dataframe becoming the second level of the \n",
    "    multiindex.\n",
    "    \"\"\"\n",
    "    keys = df.index.tolist()\n",
    "    years = [y for y in df.columns.tolist() if y !=1995]\n",
    "    mi = pd.MultiIndex.from_product([keys, years])\n",
    "    mi = mi.to_frame()\n",
    "    mi.drop(mi.columns, axis=1, inplace=True)\n",
    "    for key in keys:\n",
    "        for year in years:\n",
    "            if previous_year:\n",
    "                mi.loc[(key, year), col_name] = df.loc[key, year-1]\n",
    "            else:\n",
    "                mi.loc[(key, year), col_name] = df.loc[key, year]\n",
    "    return mi"
   ]
  },
  {
   "cell_type": "code",
   "execution_count": 139,
   "metadata": {},
   "outputs": [],
   "source": [
    "labels = multiindex_from_dataframe_columns(munic_adoption, 'adoption_in_year')"
   ]
  },
  {
   "cell_type": "markdown",
   "metadata": {},
   "source": [
    "## Add features"
   ]
  },
  {
   "cell_type": "markdown",
   "metadata": {},
   "source": [
    "### Total cumulative adoption previous year municipality"
   ]
  },
  {
   "cell_type": "markdown",
   "metadata": {},
   "source": [
    "The cumulative adoptions are including the year of the columns, therefore need to be added considering this (previous_year=True)"
   ]
  },
  {
   "cell_type": "code",
   "execution_count": 140,
   "metadata": {},
   "outputs": [],
   "source": [
    "tot_cum_adoption_previous_year_munic = multiindex_from_dataframe_columns(cumulative_total_munic_adoption,\n",
    "                                                                        'tot_cumul_adoption_pr_y_munic',\n",
    "                                                                        previous_year=True)"
   ]
  },
  {
   "cell_type": "markdown",
   "metadata": {},
   "source": [
    "### Concatenate datasets with yearly values"
   ]
  },
  {
   "cell_type": "code",
   "execution_count": 141,
   "metadata": {},
   "outputs": [],
   "source": [
    "datasets = [labels, tot_cum_adoption_previous_year_munic]"
   ]
  },
  {
   "cell_type": "code",
   "execution_count": 142,
   "metadata": {},
   "outputs": [],
   "source": [
    "SBP_adoption_final = pd.concat(datasets, axis=1)"
   ]
  },
  {
   "cell_type": "code",
   "execution_count": 143,
   "metadata": {},
   "outputs": [],
   "source": [
    "SBP_adoption_final.index.rename(['Municipality', 'Year'], inplace=True)"
   ]
  },
  {
   "cell_type": "markdown",
   "metadata": {},
   "source": [
    "### Add Portugal cumulative adoption until the previous year"
   ]
  },
  {
   "cell_type": "code",
   "execution_count": 144,
   "metadata": {},
   "outputs": [],
   "source": [
    "from itertools import cycle\n",
    "\n",
    "def add_col_depending_on_year_not_on_munic(final_dataset, df_rows_to_append, cols_names):\n",
    "    values = df_rows_to_append.transpose().to_numpy()\n",
    "    values = np.reshape(values, (len(values), 1))\n",
    "    yearly_values = cycle(values)\n",
    "    final_dataset[cols_names] = [next(yearly_values) for i in range(len(final_dataset))]"
   ]
  },
  {
   "cell_type": "code",
   "execution_count": 145,
   "metadata": {},
   "outputs": [],
   "source": [
    "cols_to_append = portugal_adoption.loc['Total cumulative adoption', 1995:2011]\n",
    "cols_names = ['tot_cumul_adoption_pr_y_port']\n",
    "\n",
    "add_col_depending_on_year_not_on_munic(SBP_adoption_final, cols_to_append, cols_names)"
   ]
  },
  {
   "cell_type": "markdown",
   "metadata": {},
   "source": [
    "## Remove São João da Madeira (since no permanent pastures)"
   ]
  },
  {
   "cell_type": "code",
   "execution_count": 146,
   "metadata": {},
   "outputs": [],
   "source": [
    "to_drop = ['São João da Madeira']\n",
    "SBP_adoption_final.drop(to_drop, level='Municipality', inplace=True)"
   ]
  },
  {
   "cell_type": "markdown",
   "metadata": {},
   "source": [
    "# Save final dataset"
   ]
  },
  {
   "cell_type": "code",
   "execution_count": 147,
   "metadata": {},
   "outputs": [],
   "source": [
    "SBP_adoption_final.to_csv(out_file)"
   ]
  },
  {
   "cell_type": "markdown",
   "metadata": {},
   "source": [
    "# Create datasets with relative values of adoption referred to permanent pastures area"
   ]
  },
  {
   "cell_type": "code",
   "execution_count": 148,
   "metadata": {},
   "outputs": [],
   "source": [
    "path_to_pasture_area = \"../census/extracted/municipalities_reference_permanent_pastures_area.csv\""
   ]
  },
  {
   "cell_type": "code",
   "execution_count": 149,
   "metadata": {},
   "outputs": [],
   "source": [
    "pasture_area_munic = pd.read_csv(path_to_pasture_area, index_col='Municipality')"
   ]
  },
  {
   "cell_type": "code",
   "execution_count": 150,
   "metadata": {
    "scrolled": true
   },
   "outputs": [
    {
     "data": {
      "text/html": [
       "<div>\n",
       "<style scoped>\n",
       "    .dataframe tbody tr th:only-of-type {\n",
       "        vertical-align: middle;\n",
       "    }\n",
       "\n",
       "    .dataframe tbody tr th {\n",
       "        vertical-align: top;\n",
       "    }\n",
       "\n",
       "    .dataframe thead th {\n",
       "        text-align: right;\n",
       "    }\n",
       "</style>\n",
       "<table border=\"1\" class=\"dataframe\">\n",
       "  <thead>\n",
       "    <tr style=\"text-align: right;\">\n",
       "      <th></th>\n",
       "      <th>pastures_area_munic_ha</th>\n",
       "    </tr>\n",
       "    <tr>\n",
       "      <th>Municipality</th>\n",
       "      <th></th>\n",
       "    </tr>\n",
       "  </thead>\n",
       "  <tbody>\n",
       "    <tr>\n",
       "      <th>Arouca</th>\n",
       "      <td>2602.0</td>\n",
       "    </tr>\n",
       "    <tr>\n",
       "      <th>Castelo de Paiva</th>\n",
       "      <td>74.0</td>\n",
       "    </tr>\n",
       "  </tbody>\n",
       "</table>\n",
       "</div>"
      ],
      "text/plain": [
       "                  pastures_area_munic_ha\n",
       "Municipality                            \n",
       "Arouca                            2602.0\n",
       "Castelo de Paiva                    74.0"
      ]
     },
     "execution_count": 150,
     "metadata": {},
     "output_type": "execute_result"
    }
   ],
   "source": [
    "pasture_area_munic.head(2)"
   ]
  },
  {
   "cell_type": "code",
   "execution_count": 151,
   "metadata": {},
   "outputs": [],
   "source": [
    "cols = SBP_adoption_final.columns"
   ]
  },
  {
   "cell_type": "code",
   "execution_count": 152,
   "metadata": {},
   "outputs": [],
   "source": [
    "SBP_perc_adoption_final = pd.DataFrame(index=SBP_adoption_final.index, columns=cols)"
   ]
  },
  {
   "cell_type": "markdown",
   "metadata": {},
   "source": [
    "### Create and save dataset with % adoption in munic for ABM initialisation"
   ]
  },
  {
   "cell_type": "code",
   "execution_count": 153,
   "metadata": {},
   "outputs": [],
   "source": [
    "munic_perc_yearly_adoption = munic_adoption.divide(\n",
    "    pasture_area_munic['pastures_area_munic_ha'], axis=0, level='Municipality'\n",
    ")"
   ]
  },
  {
   "cell_type": "code",
   "execution_count": 154,
   "metadata": {},
   "outputs": [],
   "source": [
    "munic_perc_yearly_adoption[2013] = 0.\n",
    "munic_perc_yearly_adoption[2014] = 0."
   ]
  },
  {
   "cell_type": "code",
   "execution_count": 155,
   "metadata": {},
   "outputs": [],
   "source": [
    "out_path_munic_perc_yearly_adoption = \"./Final SBP adoption datasets/For ABM initialisation/% yearly SBP adoption per municipality.csv\""
   ]
  },
  {
   "cell_type": "code",
   "execution_count": 156,
   "metadata": {},
   "outputs": [],
   "source": [
    "munic_perc_yearly_adoption.to_csv(out_path_munic_perc_yearly_adoption)"
   ]
  },
  {
   "cell_type": "markdown",
   "metadata": {},
   "source": [
    "### Add columns on single municipality"
   ]
  },
  {
   "cell_type": "code",
   "execution_count": 157,
   "metadata": {},
   "outputs": [],
   "source": [
    "cols_munic = ['adoption_in_year', 'tot_cumul_adoption_pr_y_munic']"
   ]
  },
  {
   "cell_type": "code",
   "execution_count": 158,
   "metadata": {},
   "outputs": [],
   "source": [
    "SBP_perc_adoption_final[cols_munic] = SBP_adoption_final[cols_munic].divide(\n",
    "    pasture_area_munic['pastures_area_munic_ha'], axis=0, level='Municipality'\n",
    ")"
   ]
  },
  {
   "cell_type": "markdown",
   "metadata": {},
   "source": [
    "Checks"
   ]
  },
  {
   "cell_type": "code",
   "execution_count": 159,
   "metadata": {
    "scrolled": true
   },
   "outputs": [
    {
     "data": {
      "text/plain": [
       "True"
      ]
     },
     "execution_count": 159,
     "metadata": {},
     "output_type": "execute_result"
    }
   ],
   "source": [
    "all(SBP_perc_adoption_final.loc['Grândola', 'tot_cumul_adoption_pr_y_munic'] == (\n",
    "    SBP_adoption_final.loc['Grândola', 'tot_cumul_adoption_pr_y_munic'] / pasture_area_munic.loc['Grândola'].values\n",
    "))"
   ]
  },
  {
   "cell_type": "code",
   "execution_count": 160,
   "metadata": {
    "scrolled": true
   },
   "outputs": [
    {
     "data": {
      "text/plain": [
       "Index([], dtype='object', name='Municipality')"
      ]
     },
     "execution_count": 160,
     "metadata": {},
     "output_type": "execute_result"
    }
   ],
   "source": [
    "#Any NaN?\n",
    "SBP_perc_adoption_final[SBP_perc_adoption_final[cols_munic].isnull().any(axis=1)].index.get_level_values('Municipality').unique()"
   ]
  },
  {
   "cell_type": "markdown",
   "metadata": {},
   "source": [
    "### Add columns for Portugal"
   ]
  },
  {
   "cell_type": "code",
   "execution_count": 161,
   "metadata": {},
   "outputs": [],
   "source": [
    "pasture_area_port = sum(pasture_area_munic['pastures_area_munic_ha'])"
   ]
  },
  {
   "cell_type": "code",
   "execution_count": 162,
   "metadata": {},
   "outputs": [],
   "source": [
    "cols_port = [col for col in cols if 'port' in col]"
   ]
  },
  {
   "cell_type": "code",
   "execution_count": 163,
   "metadata": {},
   "outputs": [],
   "source": [
    "SBP_perc_adoption_final[cols_port] = SBP_adoption_final[cols_port].divide(\n",
    "    pasture_area_port, axis=0, level='Municipality'\n",
    ")"
   ]
  },
  {
   "cell_type": "markdown",
   "metadata": {},
   "source": [
    "Checks"
   ]
  },
  {
   "cell_type": "code",
   "execution_count": 164,
   "metadata": {},
   "outputs": [
    {
     "data": {
      "text/plain": [
       "True"
      ]
     },
     "execution_count": 164,
     "metadata": {},
     "output_type": "execute_result"
    }
   ],
   "source": [
    "all(SBP_perc_adoption_final.loc[:, 'tot_cumul_adoption_pr_y_port'] == (\n",
    "    SBP_adoption_final.loc[:, 'tot_cumul_adoption_pr_y_port'] / pasture_area_port\n",
    "))"
   ]
  },
  {
   "cell_type": "markdown",
   "metadata": {},
   "source": [
    "#### Final check: are there values over 1?"
   ]
  },
  {
   "cell_type": "code",
   "execution_count": 165,
   "metadata": {
    "scrolled": true
   },
   "outputs": [
    {
     "data": {
      "text/plain": [
       "Index([], dtype='object', name='Municipality')"
      ]
     },
     "execution_count": 165,
     "metadata": {},
     "output_type": "execute_result"
    }
   ],
   "source": [
    "SBP_perc_adoption_final.loc[SBP_perc_adoption_final['tot_cumul_adoption_pr_y_munic'] > 1].index.get_level_values('Municipality').unique()"
   ]
  },
  {
   "cell_type": "markdown",
   "metadata": {},
   "source": [
    "No more values over 1"
   ]
  },
  {
   "cell_type": "code",
   "execution_count": 166,
   "metadata": {},
   "outputs": [
    {
     "data": {
      "text/plain": [
       "[]"
      ]
     },
     "execution_count": 166,
     "metadata": {},
     "output_type": "execute_result"
    }
   ],
   "source": [
    "rows_over_1 = SBP_perc_adoption_final.loc[SBP_perc_adoption_final['tot_cumul_adoption_pr_y_munic'] > 1]\n",
    "munic_over_1 = rows_over_1.index.get_level_values(0).unique().to_list()\n",
    "munic_over_1"
   ]
  },
  {
   "cell_type": "code",
   "execution_count": 167,
   "metadata": {},
   "outputs": [
    {
     "data": {
      "text/plain": [
       "['Vagos', 'Tomar', 'Alcochete']"
      ]
     },
     "execution_count": 167,
     "metadata": {},
     "output_type": "execute_result"
    }
   ],
   "source": [
    "rows_over_05 = SBP_perc_adoption_final.loc[SBP_perc_adoption_final['tot_cumul_adoption_pr_y_munic'] > 0.5]\n",
    "munic_over_05 = rows_over_05.index.get_level_values(0).unique().to_list()\n",
    "munic_over_05"
   ]
  },
  {
   "cell_type": "raw",
   "metadata": {
    "scrolled": true
   },
   "source": [
    "SBP_perc_adoption_final.loc[SBP_perc_adoption_final['tot_cumul_adoption_pr_y_munic'] > 0.5]"
   ]
  },
  {
   "cell_type": "code",
   "execution_count": 168,
   "metadata": {},
   "outputs": [
    {
     "data": {
      "text/plain": [
       "146"
      ]
     },
     "execution_count": 168,
     "metadata": {},
     "output_type": "execute_result"
    }
   ],
   "source": [
    "len(SBP_perc_adoption_final.loc[(SBP_perc_adoption_final == 0).all(axis=1)])"
   ]
  },
  {
   "cell_type": "markdown",
   "metadata": {},
   "source": [
    "## Save file adoption percentual"
   ]
  },
  {
   "cell_type": "code",
   "execution_count": 169,
   "metadata": {},
   "outputs": [],
   "source": [
    "SBP_perc_adoption_final.to_csv(out_path_adoption_percentage)"
   ]
  },
  {
   "cell_type": "markdown",
   "metadata": {},
   "source": [
    "# Save datasets for ABM validation"
   ]
  },
  {
   "cell_type": "markdown",
   "metadata": {},
   "source": [
    "#### Portugal level"
   ]
  },
  {
   "cell_type": "code",
   "execution_count": 170,
   "metadata": {},
   "outputs": [],
   "source": [
    "out_path_port_adoption = \"./Final SBP adoption datasets/For ABM validation/SBP yearly adoption - Portugal.csv\"\n",
    "portugal_adoption.loc['Yearly adoption'].to_csv(out_path_port_adoption)"
   ]
  },
  {
   "cell_type": "markdown",
   "metadata": {},
   "source": [
    "#### Municipality level"
   ]
  },
  {
   "cell_type": "code",
   "execution_count": 171,
   "metadata": {},
   "outputs": [],
   "source": [
    "tot_cumul_adoption_munic = multiindex_from_dataframe_columns(cumulative_total_munic_adoption, \n",
    "                                                             'tot_cumul_adoption_until_year_ha',\n",
    "                                                              previous_year=False)"
   ]
  },
  {
   "cell_type": "code",
   "execution_count": 172,
   "metadata": {},
   "outputs": [],
   "source": [
    "munic_adoption = pd.concat([SBP_perc_adoption_final['adoption_in_year'],\n",
    "                            SBP_adoption_final['adoption_in_year'],\n",
    "                            tot_cumul_adoption_munic],\n",
    "                           axis=1)\n",
    "munic_adoption.columns = ['adoption_in_year', 'adoption_in_year_ha', 'tot_cumul_adoption_until_year_ha']\n",
    "munic_adoption.index.names = ['Municipality', 'Year']"
   ]
  },
  {
   "cell_type": "code",
   "execution_count": 173,
   "metadata": {},
   "outputs": [],
   "source": [
    "#Restrict to muiicpalities adopting during PCF\n",
    "munic_adoption = munic_adoption.loc[munic_adoption_PCF_list]"
   ]
  },
  {
   "cell_type": "code",
   "execution_count": 174,
   "metadata": {},
   "outputs": [],
   "source": [
    "out_path_munic_adoption = \"./Final SBP adoption datasets/For ABM validation/SBP yearly adoption - Municipalities.csv\"\n",
    "munic_adoption.to_csv(out_path_munic_adoption)"
   ]
  }
 ],
 "metadata": {
  "kernelspec": {
   "display_name": "SBP_munic_data_manipulation",
   "language": "python",
   "name": "sbp_munic_data_manipulation"
  },
  "language_info": {
   "codemirror_mode": {
    "name": "ipython",
    "version": 3
   },
   "file_extension": ".py",
   "mimetype": "text/x-python",
   "name": "python",
   "nbconvert_exporter": "python",
   "pygments_lexer": "ipython3",
   "version": "3.7.7"
  }
 },
 "nbformat": 4,
 "nbformat_minor": 4
}
