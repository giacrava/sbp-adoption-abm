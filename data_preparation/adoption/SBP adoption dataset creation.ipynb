{
 "cells": [
  {
   "cell_type": "markdown",
   "metadata": {},
   "source": [
    "Notebook to analyse the data regarding the aggregate SBP adoption before 2008 and the one during the Portuguese Carbon Fund project (PCF project) and merging them into a dataset reporting the SBP adoption from 1996 to 2012."
   ]
  },
  {
   "cell_type": "markdown",
   "metadata": {},
   "source": [
    "**Requirements**: numpy pandas xlrd openpyxl"
   ]
  },
  {
   "cell_type": "markdown",
   "metadata": {},
   "source": [
    "## Content\n",
    "* PCF project: retrieve adoption over each municipality\n",
    "* Merge of adoption previous and during PCF -> Yearly SBP adoption per municipality\n",
    "* Plot pre-PCF vs PCF adoption for disaggregation check\n",
    "* Other datasets construction:\n",
    "    * Cumulative adoption in each year\n",
    "    * Yearly and cumulative for Portugal\n",
    "* Datasets merging for machine learning models\n",
    "* Create datasets with relative values of adoption refferd to permanent pasture area\n",
    "    * Create and save dataset with % adoption in munic for ABM initialisation\n",
    "    * Save datasets for ABM validation"
   ]
  },
  {
   "cell_type": "code",
   "execution_count": 1,
   "metadata": {},
   "outputs": [],
   "source": [
    "import numpy as np\n",
    "import pandas as pd"
   ]
  },
  {
   "cell_type": "code",
   "execution_count": 2,
   "metadata": {},
   "outputs": [],
   "source": [
    "# For plotting\n",
    "%matplotlib inline\n",
    "import matplotlib as mpl\n",
    "import matplotlib.pyplot as plt\n",
    "mpl.rc('axes', labelsize=14)\n",
    "mpl.rc('xtick', labelsize=12)\n",
    "mpl.rc('ytick', labelsize=12)"
   ]
  },
  {
   "cell_type": "code",
   "execution_count": 3,
   "metadata": {},
   "outputs": [],
   "source": [
    "import os\n",
    "# Where to save the figures\n",
    "PROJECT_ROOT_DIR = \".\"\n",
    "IMAGES_PATH = os.path.join(PROJECT_ROOT_DIR, \"images\")\n",
    "os.makedirs(IMAGES_PATH, exist_ok=True)\n",
    "\n",
    "def save_fig(fig_id, tight_layout=True, fig_extension=\"jpeg\", resolution=200):\n",
    "    path = os.path.join(IMAGES_PATH, fig_id + \".\" + fig_extension)\n",
    "    print(\"Saving figure\", fig_id)\n",
    "    if tight_layout:\n",
    "        plt.tight_layout()\n",
    "    plt.savefig(path, format=fig_extension, dpi=resolution)"
   ]
  },
  {
   "cell_type": "markdown",
   "metadata": {},
   "source": [
    "# Data ingestion and manipulation"
   ]
  },
  {
   "cell_type": "code",
   "execution_count": 4,
   "metadata": {},
   "outputs": [],
   "source": [
    "path_to_PCF_data = \"./PCF project data_Corrected counties.xlsx\"\n",
    "path_to_adoption_pre_PCF = \"./SBP adoption previous to 2009 per municipality_PCF mapped.xlsx\""
   ]
  },
  {
   "cell_type": "code",
   "execution_count": 5,
   "metadata": {},
   "outputs": [],
   "source": [
    "out_file = \"./Final SBP adoption datasets/SBP yearly adoption + adoption features_PCF mapped.csv\"\n",
    "out_path_adoption_percentage = \"./Final SBP adoption datasets/SBP % yearly adoption + % adoption features_PCF mapped.csv\""
   ]
  },
  {
   "cell_type": "markdown",
   "metadata": {},
   "source": [
    "## PCF project"
   ]
  },
  {
   "cell_type": "code",
   "execution_count": 6,
   "metadata": {},
   "outputs": [],
   "source": [
    "PCF_data = pd.read_excel(path_to_PCF_data, index_col=0)\n",
    "#PCF_data.head()"
   ]
  },
  {
   "cell_type": "code",
   "execution_count": 7,
   "metadata": {},
   "outputs": [],
   "source": [
    "PCF_data = PCF_data.drop('Farmer_ID', axis=1)"
   ]
  },
  {
   "cell_type": "code",
   "execution_count": 8,
   "metadata": {
    "scrolled": true
   },
   "outputs": [
    {
     "name": "stdout",
     "output_type": "stream",
     "text": [
      "<class 'pandas.core.frame.DataFrame'>\n",
      "Int64Index: 1113 entries, 55 to 1048\n",
      "Data columns (total 6 columns):\n",
      " #   Column                               Non-Null Count  Dtype  \n",
      "---  ------                               --------------  -----  \n",
      " 0   Year that the pasture was installed  1113 non-null   int64  \n",
      " 1   County                               1113 non-null   object \n",
      " 2   Area_Total_SIG_PPI_2009_ha           1113 non-null   float64\n",
      " 3   Area_Total_SIG_PPI_2010_ha           1113 non-null   float64\n",
      " 4   Area_Total_SIG_PPII_2011_ha          1113 non-null   float64\n",
      " 5   Area_Total_SIG_PPII_2012_ha          1113 non-null   float64\n",
      "dtypes: float64(4), int64(1), object(1)\n",
      "memory usage: 60.9+ KB\n"
     ]
    }
   ],
   "source": [
    "PCF_data.info()"
   ]
  },
  {
   "cell_type": "markdown",
   "metadata": {},
   "source": [
    "### Check years have only values from 2009 to 2014"
   ]
  },
  {
   "cell_type": "code",
   "execution_count": 9,
   "metadata": {},
   "outputs": [
    {
     "data": {
      "text/plain": [
       "2010    310\n",
       "2012    289\n",
       "2009    279\n",
       "2011    235\n",
       "Name: Year that the pasture was installed, dtype: int64"
      ]
     },
     "execution_count": 9,
     "metadata": {},
     "output_type": "execute_result"
    }
   ],
   "source": [
    "PCF_data['Year that the pasture was installed'].value_counts()"
   ]
  },
  {
   "cell_type": "markdown",
   "metadata": {},
   "source": [
    "### Check if any parcel adopted in multiple years, i.e. if any has two non zero values in the total area adopted each year"
   ]
  },
  {
   "cell_type": "code",
   "execution_count": 10,
   "metadata": {},
   "outputs": [],
   "source": [
    "cols_with_area = ['Area_Total_SIG_PPI_2009_ha', \n",
    "                 'Area_Total_SIG_PPI_2010_ha', \n",
    "                 'Area_Total_SIG_PPII_2011_ha', \n",
    "                 'Area_Total_SIG_PPII_2012_ha']\n",
    "\n",
    "number_of_year_adopted = len(cols_with_area) - (PCF_data[cols_with_area] == 0).sum(axis=1)"
   ]
  },
  {
   "cell_type": "code",
   "execution_count": 11,
   "metadata": {
    "scrolled": true
   },
   "outputs": [
    {
     "data": {
      "text/plain": [
       "False"
      ]
     },
     "execution_count": 11,
     "metadata": {},
     "output_type": "execute_result"
    }
   ],
   "source": [
    "adopted_1_year = number_of_year_adopted == 1\n",
    "all(adopted_1_year)"
   ]
  },
  {
   "cell_type": "code",
   "execution_count": 12,
   "metadata": {
    "scrolled": true
   },
   "outputs": [
    {
     "data": {
      "text/plain": [
       "1100"
      ]
     },
     "execution_count": 12,
     "metadata": {},
     "output_type": "execute_result"
    }
   ],
   "source": [
    "# Number of parcels which have correctly one adoption\n",
    "sum(adopted_1_year)"
   ]
  },
  {
   "cell_type": "code",
   "execution_count": 13,
   "metadata": {},
   "outputs": [
    {
     "data": {
      "text/plain": [
       "13"
      ]
     },
     "execution_count": 13,
     "metadata": {},
     "output_type": "execute_result"
    }
   ],
   "source": [
    "adopted_0_years = number_of_year_adopted == 0\n",
    "sum(adopted_0_years)"
   ]
  },
  {
   "cell_type": "markdown",
   "metadata": {},
   "source": [
    "Therefore, there are 1100 for which we have the area adopted and 13 for which we have not data on the area adopted that we can exclude."
   ]
  },
  {
   "cell_type": "code",
   "execution_count": 14,
   "metadata": {
    "scrolled": true
   },
   "outputs": [
    {
     "data": {
      "text/html": [
       "<div>\n",
       "<style scoped>\n",
       "    .dataframe tbody tr th:only-of-type {\n",
       "        vertical-align: middle;\n",
       "    }\n",
       "\n",
       "    .dataframe tbody tr th {\n",
       "        vertical-align: top;\n",
       "    }\n",
       "\n",
       "    .dataframe thead th {\n",
       "        text-align: right;\n",
       "    }\n",
       "</style>\n",
       "<table border=\"1\" class=\"dataframe\">\n",
       "  <thead>\n",
       "    <tr style=\"text-align: right;\">\n",
       "      <th></th>\n",
       "      <th>Year that the pasture was installed</th>\n",
       "      <th>County</th>\n",
       "      <th>Area_Total_SIG_PPI_2009_ha</th>\n",
       "      <th>Area_Total_SIG_PPI_2010_ha</th>\n",
       "      <th>Area_Total_SIG_PPII_2011_ha</th>\n",
       "      <th>Area_Total_SIG_PPII_2012_ha</th>\n",
       "    </tr>\n",
       "    <tr>\n",
       "      <th>Parcel_ID</th>\n",
       "      <th></th>\n",
       "      <th></th>\n",
       "      <th></th>\n",
       "      <th></th>\n",
       "      <th></th>\n",
       "      <th></th>\n",
       "    </tr>\n",
       "  </thead>\n",
       "  <tbody>\n",
       "    <tr>\n",
       "      <th>414</th>\n",
       "      <td>2010</td>\n",
       "      <td>Évora</td>\n",
       "      <td>0.0</td>\n",
       "      <td>0.0</td>\n",
       "      <td>0.0</td>\n",
       "      <td>0.0</td>\n",
       "    </tr>\n",
       "    <tr>\n",
       "      <th>359</th>\n",
       "      <td>2010</td>\n",
       "      <td>Alcácer do Sal</td>\n",
       "      <td>0.0</td>\n",
       "      <td>0.0</td>\n",
       "      <td>0.0</td>\n",
       "      <td>0.0</td>\n",
       "    </tr>\n",
       "    <tr>\n",
       "      <th>106</th>\n",
       "      <td>2009</td>\n",
       "      <td>Arraiolos</td>\n",
       "      <td>0.0</td>\n",
       "      <td>0.0</td>\n",
       "      <td>0.0</td>\n",
       "      <td>0.0</td>\n",
       "    </tr>\n",
       "    <tr>\n",
       "      <th>249</th>\n",
       "      <td>2009</td>\n",
       "      <td>Alter do Chão</td>\n",
       "      <td>0.0</td>\n",
       "      <td>0.0</td>\n",
       "      <td>0.0</td>\n",
       "      <td>0.0</td>\n",
       "    </tr>\n",
       "    <tr>\n",
       "      <th>1061</th>\n",
       "      <td>2012</td>\n",
       "      <td>Vila Viçosa</td>\n",
       "      <td>0.0</td>\n",
       "      <td>0.0</td>\n",
       "      <td>0.0</td>\n",
       "      <td>0.0</td>\n",
       "    </tr>\n",
       "  </tbody>\n",
       "</table>\n",
       "</div>"
      ],
      "text/plain": [
       "           Year that the pasture was installed          County  \\\n",
       "Parcel_ID                                                        \n",
       "414                                       2010           Évora   \n",
       "359                                       2010  Alcácer do Sal   \n",
       "106                                       2009       Arraiolos   \n",
       "249                                       2009   Alter do Chão   \n",
       "1061                                      2012     Vila Viçosa   \n",
       "\n",
       "           Area_Total_SIG_PPI_2009_ha  Area_Total_SIG_PPI_2010_ha  \\\n",
       "Parcel_ID                                                           \n",
       "414                               0.0                         0.0   \n",
       "359                               0.0                         0.0   \n",
       "106                               0.0                         0.0   \n",
       "249                               0.0                         0.0   \n",
       "1061                              0.0                         0.0   \n",
       "\n",
       "           Area_Total_SIG_PPII_2011_ha  Area_Total_SIG_PPII_2012_ha  \n",
       "Parcel_ID                                                            \n",
       "414                                0.0                          0.0  \n",
       "359                                0.0                          0.0  \n",
       "106                                0.0                          0.0  \n",
       "249                                0.0                          0.0  \n",
       "1061                               0.0                          0.0  "
      ]
     },
     "execution_count": 14,
     "metadata": {},
     "output_type": "execute_result"
    }
   ],
   "source": [
    "parcels_without_adoption = PCF_data[adopted_0_years]\n",
    "parcels_without_adoption.head()"
   ]
  },
  {
   "cell_type": "code",
   "execution_count": 15,
   "metadata": {},
   "outputs": [],
   "source": [
    "PCF_data = PCF_data.drop(parcels_without_adoption.index)"
   ]
  },
  {
   "cell_type": "code",
   "execution_count": 16,
   "metadata": {
    "scrolled": false
   },
   "outputs": [
    {
     "data": {
      "text/plain": [
       "1100"
      ]
     },
     "execution_count": 16,
     "metadata": {},
     "output_type": "execute_result"
    }
   ],
   "source": [
    "len(PCF_data)"
   ]
  },
  {
   "cell_type": "markdown",
   "metadata": {},
   "source": [
    "Since each parcel adopted in one year and the DataFrame has a column for the year of adoption, we can substitute the last columns with the area of adoption with just one columns having the area adopted in any year."
   ]
  },
  {
   "cell_type": "code",
   "execution_count": 17,
   "metadata": {},
   "outputs": [],
   "source": [
    "PCF_data[cols_with_area].max(axis=1)\n",
    "PCF_data['Area'] = PCF_data[cols_with_area].max(axis=1)"
   ]
  },
  {
   "cell_type": "code",
   "execution_count": 18,
   "metadata": {
    "scrolled": true
   },
   "outputs": [],
   "source": [
    "PCF_data = PCF_data.drop(cols_with_area, axis=1)"
   ]
  },
  {
   "cell_type": "code",
   "execution_count": 19,
   "metadata": {
    "scrolled": true
   },
   "outputs": [
    {
     "data": {
      "text/html": [
       "<div>\n",
       "<style scoped>\n",
       "    .dataframe tbody tr th:only-of-type {\n",
       "        vertical-align: middle;\n",
       "    }\n",
       "\n",
       "    .dataframe tbody tr th {\n",
       "        vertical-align: top;\n",
       "    }\n",
       "\n",
       "    .dataframe thead th {\n",
       "        text-align: right;\n",
       "    }\n",
       "</style>\n",
       "<table border=\"1\" class=\"dataframe\">\n",
       "  <thead>\n",
       "    <tr style=\"text-align: right;\">\n",
       "      <th></th>\n",
       "      <th>Year that the pasture was installed</th>\n",
       "      <th>County</th>\n",
       "      <th>Area</th>\n",
       "    </tr>\n",
       "    <tr>\n",
       "      <th>Parcel_ID</th>\n",
       "      <th></th>\n",
       "      <th></th>\n",
       "      <th></th>\n",
       "    </tr>\n",
       "  </thead>\n",
       "  <tbody>\n",
       "    <tr>\n",
       "      <th>55</th>\n",
       "      <td>2009</td>\n",
       "      <td>Idanha-a-Nova</td>\n",
       "      <td>9.28</td>\n",
       "    </tr>\n",
       "    <tr>\n",
       "      <th>410</th>\n",
       "      <td>2010</td>\n",
       "      <td>Évora</td>\n",
       "      <td>3.21</td>\n",
       "    </tr>\n",
       "    <tr>\n",
       "      <th>681</th>\n",
       "      <td>2011</td>\n",
       "      <td>Évora</td>\n",
       "      <td>6.83</td>\n",
       "    </tr>\n",
       "    <tr>\n",
       "      <th>1068</th>\n",
       "      <td>2012</td>\n",
       "      <td>Reguengos de Monsaraz</td>\n",
       "      <td>38.17</td>\n",
       "    </tr>\n",
       "    <tr>\n",
       "      <th>584</th>\n",
       "      <td>2010</td>\n",
       "      <td>Avis</td>\n",
       "      <td>9.57</td>\n",
       "    </tr>\n",
       "  </tbody>\n",
       "</table>\n",
       "</div>"
      ],
      "text/plain": [
       "           Year that the pasture was installed                 County   Area\n",
       "Parcel_ID                                                                   \n",
       "55                                        2009          Idanha-a-Nova   9.28\n",
       "410                                       2010                  Évora   3.21\n",
       "681                                       2011                  Évora   6.83\n",
       "1068                                      2012  Reguengos de Monsaraz  38.17\n",
       "584                                       2010                   Avis   9.57"
      ]
     },
     "execution_count": 19,
     "metadata": {},
     "output_type": "execute_result"
    }
   ],
   "source": [
    "PCF_data.head()"
   ]
  },
  {
   "cell_type": "markdown",
   "metadata": {},
   "source": [
    "### Get municipality adoption per municipality, per year"
   ]
  },
  {
   "cell_type": "code",
   "execution_count": 20,
   "metadata": {},
   "outputs": [],
   "source": [
    "munic_adoption_MI = PCF_data.groupby(['County', 'Year that the pasture was installed']).sum()\n",
    "#munic_adoption_MI.head()"
   ]
  },
  {
   "cell_type": "markdown",
   "metadata": {},
   "source": [
    "Rearrange to have the years as a columns and bring in the same format as the SBP adoption previous to the PCF project"
   ]
  },
  {
   "cell_type": "code",
   "execution_count": 21,
   "metadata": {
    "scrolled": true
   },
   "outputs": [],
   "source": [
    "munic_adoption_PCF = munic_adoption_MI.unstack(fill_value=0)\n",
    "#munic_adoption_PCF.head()"
   ]
  },
  {
   "cell_type": "code",
   "execution_count": 22,
   "metadata": {
    "scrolled": true
   },
   "outputs": [],
   "source": [
    "munic_adoption_PCF.columns.names = (None, None)\n",
    "#munic_adoption_PCF.head()"
   ]
  },
  {
   "cell_type": "code",
   "execution_count": 23,
   "metadata": {},
   "outputs": [],
   "source": [
    "munic_adoption_PCF.index.name = 'Municipality'"
   ]
  },
  {
   "cell_type": "code",
   "execution_count": 24,
   "metadata": {
    "scrolled": true
   },
   "outputs": [],
   "source": [
    "munic_adoption_PCF.columns = munic_adoption_PCF.columns.droplevel()\n",
    "#munic_adoption_PCF.head()"
   ]
  },
  {
   "cell_type": "code",
   "execution_count": 25,
   "metadata": {},
   "outputs": [
    {
     "data": {
      "text/plain": [
       "73"
      ]
     },
     "execution_count": 25,
     "metadata": {},
     "output_type": "execute_result"
    }
   ],
   "source": [
    "len(munic_adoption_PCF)"
   ]
  },
  {
   "cell_type": "markdown",
   "metadata": {},
   "source": [
    "### Retrieve list of municipalities which adopted during the PCF project"
   ]
  },
  {
   "cell_type": "code",
   "execution_count": 31,
   "metadata": {},
   "outputs": [],
   "source": [
    "munic_adoption_PCF_list = munic_adoption_PCF.index.tolist()"
   ]
  },
  {
   "cell_type": "code",
   "execution_count": 32,
   "metadata": {
    "scrolled": true
   },
   "outputs": [
    {
     "data": {
      "text/plain": [
       "278"
      ]
     },
     "execution_count": 32,
     "metadata": {},
     "output_type": "execute_result"
    }
   ],
   "source": [
    "## SBP adoption previous to the PCF project\n",
    "\n",
    "munic_adoption_pre_PCF = pd.read_excel(path_to_adoption_pre_PCF, index_col=0)\n",
    "#munic_adoption_pre_PCF\n",
    "\n",
    "len(munic_adoption_pre_PCF)"
   ]
  },
  {
   "cell_type": "code",
   "execution_count": 33,
   "metadata": {},
   "outputs": [],
   "source": [
    "import csv\n",
    "\n",
    "with open(\"municipalities_adoption_PCF.csv\", \"w+\") as file:\n",
    "    wr = csv.writer(file)\n",
    "    wr.writerow(munic_adoption_PCF_list)"
   ]
  },
  {
   "cell_type": "markdown",
   "metadata": {},
   "source": [
    "## SBP adoption previous to the PCF project"
   ]
  },
  {
   "cell_type": "code",
   "execution_count": 34,
   "metadata": {
    "scrolled": true
   },
   "outputs": [],
   "source": [
    "munic_adoption_pre_PCF = pd.read_excel(path_to_adoption_pre_PCF, index_col=0)\n",
    "#munic_adoption_pre_PCF"
   ]
  },
  {
   "cell_type": "code",
   "execution_count": 35,
   "metadata": {
    "scrolled": true
   },
   "outputs": [
    {
     "data": {
      "text/plain": [
       "278"
      ]
     },
     "execution_count": 35,
     "metadata": {},
     "output_type": "execute_result"
    }
   ],
   "source": [
    "len(munic_adoption_pre_PCF)"
   ]
  },
  {
   "cell_type": "markdown",
   "metadata": {},
   "source": [
    "# Municipalities comparison "
   ]
  },
  {
   "cell_type": "code",
   "execution_count": 36,
   "metadata": {
    "scrolled": true
   },
   "outputs": [],
   "source": [
    "munic_PCF = munic_adoption_PCF.index.tolist()\n",
    "munic_pre_PCF = munic_adoption_pre_PCF.index.tolist()"
   ]
  },
  {
   "cell_type": "code",
   "execution_count": 37,
   "metadata": {
    "scrolled": true
   },
   "outputs": [
    {
     "data": {
      "text/plain": [
       "[]"
      ]
     },
     "execution_count": 37,
     "metadata": {},
     "output_type": "execute_result"
    }
   ],
   "source": [
    "munic_in_PCF_not_in_prePCF = [munic for munic in munic_PCF if munic not in munic_pre_PCF]\n",
    "munic_in_PCF_not_in_prePCF"
   ]
  },
  {
   "cell_type": "code",
   "execution_count": 38,
   "metadata": {},
   "outputs": [
    {
     "data": {
      "text/plain": [
       "205"
      ]
     },
     "execution_count": 38,
     "metadata": {},
     "output_type": "execute_result"
    }
   ],
   "source": [
    "munic_in_prePCF_not_in_PCF = [munic for munic in munic_pre_PCF if munic not in munic_PCF]\n",
    "len(munic_in_prePCF_not_in_PCF)"
   ]
  },
  {
   "cell_type": "markdown",
   "metadata": {},
   "source": [
    "## Dataset merging"
   ]
  },
  {
   "cell_type": "code",
   "execution_count": 39,
   "metadata": {},
   "outputs": [],
   "source": [
    "munic_adoption = pd.concat([munic_adoption_pre_PCF, munic_adoption_PCF], axis=1)"
   ]
  },
  {
   "cell_type": "code",
   "execution_count": 40,
   "metadata": {},
   "outputs": [],
   "source": [
    "munic_adoption[munic_adoption.isna()] = 0"
   ]
  },
  {
   "cell_type": "code",
   "execution_count": 41,
   "metadata": {},
   "outputs": [],
   "source": [
    "munic_adoption.index.name = 'Municipality'"
   ]
  },
  {
   "cell_type": "markdown",
   "metadata": {},
   "source": [
    "Add a columns for 1995 with all 0s, since adoption values in 1995 serves to predict the adoption in 1996."
   ]
  },
  {
   "cell_type": "code",
   "execution_count": 42,
   "metadata": {},
   "outputs": [],
   "source": [
    "munic_adoption.insert(0, 1995, 0)"
   ]
  },
  {
   "cell_type": "markdown",
   "metadata": {},
   "source": [
    "## Save dataset"
   ]
  },
  {
   "cell_type": "code",
   "execution_count": 43,
   "metadata": {},
   "outputs": [],
   "source": [
    "file_munic_adoption = \"./Final SBP adoption datasets/Yearly SBP adoption per municipality.xlsx\""
   ]
  },
  {
   "cell_type": "code",
   "execution_count": 44,
   "metadata": {},
   "outputs": [],
   "source": [
    "munic_adoption.to_excel(file_munic_adoption)"
   ]
  },
  {
   "cell_type": "code",
   "execution_count": 47,
   "metadata": {},
   "outputs": [
    {
     "data": {
      "text/plain": [
       "(278, 18)"
      ]
     },
     "execution_count": 47,
     "metadata": {},
     "output_type": "execute_result"
    }
   ],
   "source": [
    "munic_adoption.shape"
   ]
  },
  {
   "cell_type": "markdown",
   "metadata": {},
   "source": [
    "# Other datasets construction"
   ]
  },
  {
   "cell_type": "markdown",
   "metadata": {},
   "source": [
    "## Cumulative SBP adoption per municipality"
   ]
  },
  {
   "cell_type": "code",
   "execution_count": 63,
   "metadata": {
    "scrolled": true
   },
   "outputs": [],
   "source": [
    "cumulative_total_munic_adoption = munic_adoption.cumsum(axis=1)\n",
    "#cumulative_total_munic_adoption"
   ]
  },
  {
   "cell_type": "markdown",
   "metadata": {},
   "source": [
    "Save file"
   ]
  },
  {
   "cell_type": "raw",
   "metadata": {},
   "source": [
    "file_cumulative_total_munic_adoption = \"./Final SBP adoption datasets/Total cumulative SBP adoption per municipality.xlsx\""
   ]
  },
  {
   "cell_type": "raw",
   "metadata": {},
   "source": [
    "cumulative_total_munic_adoption.to_excel(file_cumulative_total_munic_adoption)"
   ]
  },
  {
   "cell_type": "markdown",
   "metadata": {},
   "source": [
    "## Datasets for Portugal"
   ]
  },
  {
   "cell_type": "markdown",
   "metadata": {},
   "source": [
    "Dataset reporting for Portugal both the yearly adoption and the cumulative adoption"
   ]
  },
  {
   "cell_type": "code",
   "execution_count": 64,
   "metadata": {},
   "outputs": [],
   "source": [
    "portugal_adoption = pd.DataFrame(columns=cumulative_total_munic_adoption.columns)"
   ]
  },
  {
   "cell_type": "code",
   "execution_count": 65,
   "metadata": {},
   "outputs": [],
   "source": [
    "portugal_adoption.loc['Yearly adoption'] = munic_adoption.sum()\n",
    "portugal_adoption.loc['Total cumulative adoption'] = cumulative_total_munic_adoption.sum()"
   ]
  },
  {
   "cell_type": "code",
   "execution_count": 66,
   "metadata": {},
   "outputs": [
    {
     "data": {
      "text/html": [
       "<div>\n",
       "<style scoped>\n",
       "    .dataframe tbody tr th:only-of-type {\n",
       "        vertical-align: middle;\n",
       "    }\n",
       "\n",
       "    .dataframe tbody tr th {\n",
       "        vertical-align: top;\n",
       "    }\n",
       "\n",
       "    .dataframe thead th {\n",
       "        text-align: right;\n",
       "    }\n",
       "</style>\n",
       "<table border=\"1\" class=\"dataframe\">\n",
       "  <thead>\n",
       "    <tr style=\"text-align: right;\">\n",
       "      <th></th>\n",
       "      <th>1995</th>\n",
       "      <th>1996</th>\n",
       "      <th>1997</th>\n",
       "      <th>1998</th>\n",
       "      <th>1999</th>\n",
       "      <th>2000</th>\n",
       "      <th>2001</th>\n",
       "      <th>2002</th>\n",
       "      <th>2003</th>\n",
       "      <th>2004</th>\n",
       "      <th>2005</th>\n",
       "      <th>2006</th>\n",
       "      <th>2007</th>\n",
       "      <th>2008</th>\n",
       "      <th>2009</th>\n",
       "      <th>2010</th>\n",
       "      <th>2011</th>\n",
       "      <th>2012</th>\n",
       "    </tr>\n",
       "  </thead>\n",
       "  <tbody>\n",
       "    <tr>\n",
       "      <th>Yearly adoption</th>\n",
       "      <td>0.0</td>\n",
       "      <td>1682.0</td>\n",
       "      <td>1953.5</td>\n",
       "      <td>3968.0</td>\n",
       "      <td>3930.5</td>\n",
       "      <td>3922.5</td>\n",
       "      <td>5327.0</td>\n",
       "      <td>7839.0</td>\n",
       "      <td>10789.0</td>\n",
       "      <td>12419.0</td>\n",
       "      <td>8081.0</td>\n",
       "      <td>7431.0</td>\n",
       "      <td>9993.0</td>\n",
       "      <td>5967.0</td>\n",
       "      <td>12585.72</td>\n",
       "      <td>15485.48</td>\n",
       "      <td>9571.6</td>\n",
       "      <td>14136.67</td>\n",
       "    </tr>\n",
       "    <tr>\n",
       "      <th>Total cumulative adoption</th>\n",
       "      <td>0.0</td>\n",
       "      <td>1682.0</td>\n",
       "      <td>3635.5</td>\n",
       "      <td>7603.5</td>\n",
       "      <td>11534.0</td>\n",
       "      <td>15456.5</td>\n",
       "      <td>20783.5</td>\n",
       "      <td>28622.5</td>\n",
       "      <td>39411.5</td>\n",
       "      <td>51830.5</td>\n",
       "      <td>59911.5</td>\n",
       "      <td>67342.5</td>\n",
       "      <td>77335.5</td>\n",
       "      <td>83302.5</td>\n",
       "      <td>95888.22</td>\n",
       "      <td>111373.70</td>\n",
       "      <td>120945.3</td>\n",
       "      <td>135081.97</td>\n",
       "    </tr>\n",
       "  </tbody>\n",
       "</table>\n",
       "</div>"
      ],
      "text/plain": [
       "                           1995    1996    1997    1998     1999     2000  \\\n",
       "Yearly adoption             0.0  1682.0  1953.5  3968.0   3930.5   3922.5   \n",
       "Total cumulative adoption   0.0  1682.0  3635.5  7603.5  11534.0  15456.5   \n",
       "\n",
       "                              2001     2002     2003     2004     2005  \\\n",
       "Yearly adoption             5327.0   7839.0  10789.0  12419.0   8081.0   \n",
       "Total cumulative adoption  20783.5  28622.5  39411.5  51830.5  59911.5   \n",
       "\n",
       "                              2006     2007     2008      2009       2010  \\\n",
       "Yearly adoption             7431.0   9993.0   5967.0  12585.72   15485.48   \n",
       "Total cumulative adoption  67342.5  77335.5  83302.5  95888.22  111373.70   \n",
       "\n",
       "                               2011       2012  \n",
       "Yearly adoption              9571.6   14136.67  \n",
       "Total cumulative adoption  120945.3  135081.97  "
      ]
     },
     "execution_count": 66,
     "metadata": {},
     "output_type": "execute_result"
    }
   ],
   "source": [
    "portugal_adoption"
   ]
  },
  {
   "cell_type": "markdown",
   "metadata": {},
   "source": [
    "Save file"
   ]
  },
  {
   "cell_type": "raw",
   "metadata": {},
   "source": [
    "file_portugal_adoption = \"./Final SBP adoption datasets/SBP adoption in Portugal.xlsx\""
   ]
  },
  {
   "cell_type": "raw",
   "metadata": {},
   "source": [
    "portugal_adoption.to_excel(file_portugal_adoption)"
   ]
  },
  {
   "cell_type": "code",
   "execution_count": 67,
   "metadata": {},
   "outputs": [
    {
     "data": {
      "text/plain": [
       "<AxesSubplot:>"
      ]
     },
     "execution_count": 67,
     "metadata": {},
     "output_type": "execute_result"
    },
    {
     "data": {
      "image/png": "[encoded data removed]",
      "text/plain": [
       "<Figure size 1080x432 with 1 Axes>"
      ]
     },
     "metadata": {
      "needs_background": "light"
     },
     "output_type": "display_data"
    }
   ],
   "source": [
    "portugal_adoption.loc['Yearly adoption'].plot(figsize=(15,6), xticks=portugal_adoption.columns, grid=True)"
   ]
  },
  {
   "cell_type": "markdown",
   "metadata": {},
   "source": [
    "# Datasets merging for machine learning models"
   ]
  },
  {
   "cell_type": "markdown",
   "metadata": {},
   "source": [
    "To train the machine learnig models, we need a dataset having one row for each municipality for each year. The label is the adoption in that year. The features are all the datasets contructed above and refer to the previous year."
   ]
  },
  {
   "cell_type": "code",
   "execution_count": 68,
   "metadata": {},
   "outputs": [],
   "source": [
    "def multiindex_from_dataframe_columns(df, col_name, previous_year=False):\n",
    "    \"\"\"\n",
    "    Function to create a multiindex from a dataframe, with the columns of the dataframe becoming the second level of the \n",
    "    multiindex.\n",
    "    \"\"\"\n",
    "    keys = df.index.tolist()\n",
    "    years = [y for y in df.columns.tolist() if y !=1995]\n",
    "    mi = pd.MultiIndex.from_product([keys, years])\n",
    "    mi = mi.to_frame()\n",
    "    mi.drop(mi.columns, axis=1, inplace=True)\n",
    "    for key in keys:\n",
    "        for year in years:\n",
    "            if previous_year:\n",
    "                mi.loc[(key, year), col_name] = df.loc[key, year-1]\n",
    "            else:\n",
    "                mi.loc[(key, year), col_name] = df.loc[key, year]\n",
    "    return mi"
   ]
  },
  {
   "cell_type": "code",
   "execution_count": 69,
   "metadata": {},
   "outputs": [],
   "source": [
    "labels = multiindex_from_dataframe_columns(munic_adoption, 'adoption_in_year')"
   ]
  },
  {
   "cell_type": "markdown",
   "metadata": {},
   "source": [
    "## Add features"
   ]
  },
  {
   "cell_type": "markdown",
   "metadata": {},
   "source": [
    "### Total cumulative adoption previous year municipality"
   ]
  },
  {
   "cell_type": "markdown",
   "metadata": {},
   "source": [
    "The cumulative adoptions are including the year of the columns, therefore need to be added considering this (previous_year=True)"
   ]
  },
  {
   "cell_type": "code",
   "execution_count": 70,
   "metadata": {},
   "outputs": [],
   "source": [
    "tot_cum_adoption_previous_year_munic = multiindex_from_dataframe_columns(cumulative_total_munic_adoption,\n",
    "                                                                        'tot_cumul_adoption_pr_y_munic',\n",
    "                                                                        previous_year=True)"
   ]
  },
  {
   "cell_type": "markdown",
   "metadata": {},
   "source": [
    "### Concatenate datasets with yearly values"
   ]
  },
  {
   "cell_type": "code",
   "execution_count": 71,
   "metadata": {},
   "outputs": [],
   "source": [
    "datasets = [labels, tot_cum_adoption_previous_year_munic]"
   ]
  },
  {
   "cell_type": "code",
   "execution_count": 72,
   "metadata": {},
   "outputs": [],
   "source": [
    "SBP_adoption_final = pd.concat(datasets, axis=1)"
   ]
  },
  {
   "cell_type": "code",
   "execution_count": 73,
   "metadata": {},
   "outputs": [],
   "source": [
    "SBP_adoption_final.index.rename(['Municipality', 'Year'], inplace=True)"
   ]
  },
  {
   "cell_type": "markdown",
   "metadata": {},
   "source": [
    "### Add Portugal cumulative adoption until the previous year"
   ]
  },
  {
   "cell_type": "code",
   "execution_count": 75,
   "metadata": {},
   "outputs": [],
   "source": [
    "from itertools import cycle\n",
    "\n",
    "def add_col_depending_on_year_not_on_munic(final_dataset, df_rows_to_append, cols_names):\n",
    "    values = df_rows_to_append.transpose().to_numpy()\n",
    "    values = np.reshape(values, (len(values), 1))\n",
    "    yearly_values = cycle(values)\n",
    "    final_dataset[cols_names] = [next(yearly_values) for i in range(len(final_dataset))]"
   ]
  },
  {
   "cell_type": "code",
   "execution_count": 76,
   "metadata": {},
   "outputs": [],
   "source": [
    "cols_to_append = portugal_adoption.loc['Total cumulative adoption', 1995:2011]\n",
    "cols_names = ['tot_cumul_adoption_pr_y_port']\n",
    "\n",
    "add_col_depending_on_year_not_on_munic(SBP_adoption_final, cols_to_append, cols_names)"
   ]
  },
  {
   "cell_type": "markdown",
   "metadata": {},
   "source": [
    "## Remove São João da Madeira (since no permanent pastures)"
   ]
  },
  {
   "cell_type": "code",
   "execution_count": 77,
   "metadata": {},
   "outputs": [],
   "source": [
    "to_drop = ['São João da Madeira']\n",
    "SBP_adoption_final.drop(to_drop, level='Municipality', inplace=True)"
   ]
  },
  {
   "cell_type": "markdown",
   "metadata": {},
   "source": [
    "# Save final dataset"
   ]
  },
  {
   "cell_type": "code",
   "execution_count": 78,
   "metadata": {},
   "outputs": [],
   "source": [
    "SBP_adoption_final.to_csv(out_file)"
   ]
  },
  {
   "cell_type": "markdown",
   "metadata": {},
   "source": [
    "# Create datasets with relative values of adoption referred to permanent pastures area"
   ]
  },
  {
   "cell_type": "code",
   "execution_count": 80,
   "metadata": {},
   "outputs": [],
   "source": [
    "path_to_pasture_area = \"../census/extracted/municipalities_reference_permanent_pastures_area.csv\""
   ]
  },
  {
   "cell_type": "code",
   "execution_count": 81,
   "metadata": {},
   "outputs": [],
   "source": [
    "pasture_area_munic = pd.read_csv(path_to_pasture_area, index_col='Municipality')"
   ]
  },
  {
   "cell_type": "code",
   "execution_count": 82,
   "metadata": {
    "scrolled": true
   },
   "outputs": [
    {
     "data": {
      "text/html": [
       "<div>\n",
       "<style scoped>\n",
       "    .dataframe tbody tr th:only-of-type {\n",
       "        vertical-align: middle;\n",
       "    }\n",
       "\n",
       "    .dataframe tbody tr th {\n",
       "        vertical-align: top;\n",
       "    }\n",
       "\n",
       "    .dataframe thead th {\n",
       "        text-align: right;\n",
       "    }\n",
       "</style>\n",
       "<table border=\"1\" class=\"dataframe\">\n",
       "  <thead>\n",
       "    <tr style=\"text-align: right;\">\n",
       "      <th></th>\n",
       "      <th>pastures_area_munic_ha</th>\n",
       "    </tr>\n",
       "    <tr>\n",
       "      <th>Municipality</th>\n",
       "      <th></th>\n",
       "    </tr>\n",
       "  </thead>\n",
       "  <tbody>\n",
       "    <tr>\n",
       "      <th>Arouca</th>\n",
       "      <td>2602.0</td>\n",
       "    </tr>\n",
       "    <tr>\n",
       "      <th>Castelo de Paiva</th>\n",
       "      <td>74.0</td>\n",
       "    </tr>\n",
       "  </tbody>\n",
       "</table>\n",
       "</div>"
      ],
      "text/plain": [
       "                  pastures_area_munic_ha\n",
       "Municipality                            \n",
       "Arouca                            2602.0\n",
       "Castelo de Paiva                    74.0"
      ]
     },
     "execution_count": 82,
     "metadata": {},
     "output_type": "execute_result"
    }
   ],
   "source": [
    "pasture_area_munic.head(2)"
   ]
  },
  {
   "cell_type": "code",
   "execution_count": 83,
   "metadata": {},
   "outputs": [],
   "source": [
    "cols = SBP_adoption_final.columns"
   ]
  },
  {
   "cell_type": "code",
   "execution_count": 84,
   "metadata": {},
   "outputs": [],
   "source": [
    "SBP_perc_adoption_final = pd.DataFrame(index=SBP_adoption_final.index, columns=cols)"
   ]
  },
  {
   "cell_type": "markdown",
   "metadata": {},
   "source": [
    "### Create and save dataset with % adoption in munic for ABM"
   ]
  },
  {
   "cell_type": "code",
   "execution_count": 85,
   "metadata": {},
   "outputs": [],
   "source": [
    "munic_perc_yearly_adoption = munic_adoption.divide(\n",
    "    pasture_area_munic['pastures_area_munic_ha'], axis=0, level='Municipality'\n",
    ")"
   ]
  },
  {
   "cell_type": "code",
   "execution_count": 86,
   "metadata": {},
   "outputs": [],
   "source": [
    "munic_perc_yearly_adoption[2013] = 0.\n",
    "munic_perc_yearly_adoption[2014] = 0."
   ]
  },
  {
   "cell_type": "code",
   "execution_count": 87,
   "metadata": {},
   "outputs": [],
   "source": [
    "out_path_munic_perc_yearly_adoption = \"./Final SBP adoption datasets/For ABM initialisation/% yearly SBP adoption per municipality.csv\""
   ]
  },
  {
   "cell_type": "code",
   "execution_count": 88,
   "metadata": {},
   "outputs": [],
   "source": [
    "munic_perc_yearly_adoption.to_csv(out_path_munic_perc_yearly_adoption)"
   ]
  },
  {
   "cell_type": "markdown",
   "metadata": {},
   "source": [
    "### Add columns on single municipality"
   ]
  },
  {
   "cell_type": "code",
   "execution_count": 89,
   "metadata": {},
   "outputs": [],
   "source": [
    "cols_munic = ['adoption_in_year', 'tot_cumul_adoption_pr_y_munic']"
   ]
  },
  {
   "cell_type": "code",
   "execution_count": 90,
   "metadata": {},
   "outputs": [],
   "source": [
    "SBP_perc_adoption_final[cols_munic] = SBP_adoption_final[cols_munic].divide(\n",
    "    pasture_area_munic['pastures_area_munic_ha'], axis=0, level='Municipality'\n",
    ")"
   ]
  },
  {
   "cell_type": "markdown",
   "metadata": {},
   "source": [
    "Checks"
   ]
  },
  {
   "cell_type": "code",
   "execution_count": 91,
   "metadata": {
    "scrolled": true
   },
   "outputs": [
    {
     "data": {
      "text/plain": [
       "True"
      ]
     },
     "execution_count": 91,
     "metadata": {},
     "output_type": "execute_result"
    }
   ],
   "source": [
    "all(SBP_perc_adoption_final.loc['Grândola', 'tot_cumul_adoption_pr_y_munic'] == (\n",
    "    SBP_adoption_final.loc['Grândola', 'tot_cumul_adoption_pr_y_munic'] / pasture_area_munic.loc['Grândola'].values\n",
    "))"
   ]
  },
  {
   "cell_type": "code",
   "execution_count": 92,
   "metadata": {
    "scrolled": true
   },
   "outputs": [
    {
     "data": {
      "text/plain": [
       "Index([], dtype='object', name='Municipality')"
      ]
     },
     "execution_count": 92,
     "metadata": {},
     "output_type": "execute_result"
    }
   ],
   "source": [
    "#Any NaN?\n",
    "SBP_perc_adoption_final[SBP_perc_adoption_final[cols_munic].isnull().any(axis=1)].index.get_level_values('Municipality').unique()"
   ]
  },
  {
   "cell_type": "markdown",
   "metadata": {},
   "source": [
    "### Add columns for Portugal"
   ]
  },
  {
   "cell_type": "code",
   "execution_count": 93,
   "metadata": {},
   "outputs": [],
   "source": [
    "pasture_area_port = sum(pasture_area_munic['pastures_area_munic_ha'])"
   ]
  },
  {
   "cell_type": "code",
   "execution_count": 94,
   "metadata": {},
   "outputs": [],
   "source": [
    "cols_port = [col for col in cols if 'port' in col]"
   ]
  },
  {
   "cell_type": "code",
   "execution_count": 95,
   "metadata": {},
   "outputs": [],
   "source": [
    "SBP_perc_adoption_final[cols_port] = SBP_adoption_final[cols_port].divide(\n",
    "    pasture_area_port, axis=0, level='Municipality'\n",
    ")"
   ]
  },
  {
   "cell_type": "markdown",
   "metadata": {},
   "source": [
    "Checks"
   ]
  },
  {
   "cell_type": "code",
   "execution_count": 96,
   "metadata": {},
   "outputs": [
    {
     "data": {
      "text/plain": [
       "True"
      ]
     },
     "execution_count": 96,
     "metadata": {},
     "output_type": "execute_result"
    }
   ],
   "source": [
    "all(SBP_perc_adoption_final.loc[:, 'tot_cumul_adoption_pr_y_port'] == (\n",
    "    SBP_adoption_final.loc[:, 'tot_cumul_adoption_pr_y_port'] / pasture_area_port\n",
    "))"
   ]
  },
  {
   "cell_type": "markdown",
   "metadata": {},
   "source": [
    "#### Final check: are there values over 1?"
   ]
  },
  {
   "cell_type": "code",
   "execution_count": 97,
   "metadata": {
    "scrolled": true
   },
   "outputs": [
    {
     "data": {
      "text/plain": [
       "Index([], dtype='object', name='Municipality')"
      ]
     },
     "execution_count": 97,
     "metadata": {},
     "output_type": "execute_result"
    }
   ],
   "source": [
    "SBP_perc_adoption_final.loc[SBP_perc_adoption_final['tot_cumul_adoption_pr_y_munic'] > 1].index.get_level_values('Municipality').unique()"
   ]
  },
  {
   "cell_type": "markdown",
   "metadata": {},
   "source": [
    "No more values over 1"
   ]
  },
  {
   "cell_type": "code",
   "execution_count": 98,
   "metadata": {},
   "outputs": [
    {
     "data": {
      "text/plain": [
       "[]"
      ]
     },
     "execution_count": 98,
     "metadata": {},
     "output_type": "execute_result"
    }
   ],
   "source": [
    "rows_over_1 = SBP_perc_adoption_final.loc[SBP_perc_adoption_final['tot_cumul_adoption_pr_y_munic'] > 1]\n",
    "munic_over_1 = rows_over_1.index.get_level_values(0).unique().to_list()\n",
    "munic_over_1"
   ]
  },
  {
   "cell_type": "code",
   "execution_count": 99,
   "metadata": {},
   "outputs": [
    {
     "data": {
      "text/plain": [
       "['Vagos', 'Tomar', 'Alcochete']"
      ]
     },
     "execution_count": 99,
     "metadata": {},
     "output_type": "execute_result"
    }
   ],
   "source": [
    "rows_over_05 = SBP_perc_adoption_final.loc[SBP_perc_adoption_final['tot_cumul_adoption_pr_y_munic'] > 0.5]\n",
    "munic_over_05 = rows_over_05.index.get_level_values(0).unique().to_list()\n",
    "munic_over_05"
   ]
  },
  {
   "cell_type": "code",
   "execution_count": 100,
   "metadata": {
    "scrolled": true
   },
   "outputs": [
    {
     "data": {
      "text/html": [
       "<div>\n",
       "<style scoped>\n",
       "    .dataframe tbody tr th:only-of-type {\n",
       "        vertical-align: middle;\n",
       "    }\n",
       "\n",
       "    .dataframe tbody tr th {\n",
       "        vertical-align: top;\n",
       "    }\n",
       "\n",
       "    .dataframe thead th {\n",
       "        text-align: right;\n",
       "    }\n",
       "</style>\n",
       "<table border=\"1\" class=\"dataframe\">\n",
       "  <thead>\n",
       "    <tr style=\"text-align: right;\">\n",
       "      <th></th>\n",
       "      <th></th>\n",
       "      <th>adoption_in_year</th>\n",
       "      <th>tot_cumul_adoption_pr_y_munic</th>\n",
       "      <th>tot_cumul_adoption_pr_y_port</th>\n",
       "    </tr>\n",
       "    <tr>\n",
       "      <th>Municipality</th>\n",
       "      <th>Year</th>\n",
       "      <th></th>\n",
       "      <th></th>\n",
       "      <th></th>\n",
       "    </tr>\n",
       "  </thead>\n",
       "  <tbody>\n",
       "    <tr>\n",
       "      <th rowspan=\"5\" valign=\"top\">Vagos</th>\n",
       "      <th>2008</th>\n",
       "      <td>0.129313</td>\n",
       "      <td>0.775880</td>\n",
       "      <td>0.044921</td>\n",
       "    </tr>\n",
       "    <tr>\n",
       "      <th>2009</th>\n",
       "      <td>0.000000</td>\n",
       "      <td>0.905193</td>\n",
       "      <td>0.048387</td>\n",
       "    </tr>\n",
       "    <tr>\n",
       "      <th>2010</th>\n",
       "      <td>0.000000</td>\n",
       "      <td>0.905193</td>\n",
       "      <td>0.055698</td>\n",
       "    </tr>\n",
       "    <tr>\n",
       "      <th>2011</th>\n",
       "      <td>0.000000</td>\n",
       "      <td>0.905193</td>\n",
       "      <td>0.064693</td>\n",
       "    </tr>\n",
       "    <tr>\n",
       "      <th>2012</th>\n",
       "      <td>0.000000</td>\n",
       "      <td>0.905193</td>\n",
       "      <td>0.070253</td>\n",
       "    </tr>\n",
       "    <tr>\n",
       "      <th rowspan=\"9\" valign=\"top\">Tomar</th>\n",
       "      <th>2004</th>\n",
       "      <td>0.101392</td>\n",
       "      <td>0.521869</td>\n",
       "      <td>0.022893</td>\n",
       "    </tr>\n",
       "    <tr>\n",
       "      <th>2005</th>\n",
       "      <td>0.142147</td>\n",
       "      <td>0.623260</td>\n",
       "      <td>0.030106</td>\n",
       "    </tr>\n",
       "    <tr>\n",
       "      <th>2006</th>\n",
       "      <td>0.040755</td>\n",
       "      <td>0.765408</td>\n",
       "      <td>0.034800</td>\n",
       "    </tr>\n",
       "    <tr>\n",
       "      <th>2007</th>\n",
       "      <td>0.067594</td>\n",
       "      <td>0.806163</td>\n",
       "      <td>0.039117</td>\n",
       "    </tr>\n",
       "    <tr>\n",
       "      <th>2008</th>\n",
       "      <td>0.020875</td>\n",
       "      <td>0.873757</td>\n",
       "      <td>0.044921</td>\n",
       "    </tr>\n",
       "    <tr>\n",
       "      <th>2009</th>\n",
       "      <td>0.000000</td>\n",
       "      <td>0.894632</td>\n",
       "      <td>0.048387</td>\n",
       "    </tr>\n",
       "    <tr>\n",
       "      <th>2010</th>\n",
       "      <td>0.000000</td>\n",
       "      <td>0.894632</td>\n",
       "      <td>0.055698</td>\n",
       "    </tr>\n",
       "    <tr>\n",
       "      <th>2011</th>\n",
       "      <td>0.000000</td>\n",
       "      <td>0.894632</td>\n",
       "      <td>0.064693</td>\n",
       "    </tr>\n",
       "    <tr>\n",
       "      <th>2012</th>\n",
       "      <td>0.000000</td>\n",
       "      <td>0.894632</td>\n",
       "      <td>0.070253</td>\n",
       "    </tr>\n",
       "    <tr>\n",
       "      <th>Alcochete</th>\n",
       "      <th>2012</th>\n",
       "      <td>0.197347</td>\n",
       "      <td>0.526093</td>\n",
       "      <td>0.070253</td>\n",
       "    </tr>\n",
       "  </tbody>\n",
       "</table>\n",
       "</div>"
      ],
      "text/plain": [
       "                   adoption_in_year  tot_cumul_adoption_pr_y_munic  \\\n",
       "Municipality Year                                                    \n",
       "Vagos        2008          0.129313                       0.775880   \n",
       "             2009          0.000000                       0.905193   \n",
       "             2010          0.000000                       0.905193   \n",
       "             2011          0.000000                       0.905193   \n",
       "             2012          0.000000                       0.905193   \n",
       "Tomar        2004          0.101392                       0.521869   \n",
       "             2005          0.142147                       0.623260   \n",
       "             2006          0.040755                       0.765408   \n",
       "             2007          0.067594                       0.806163   \n",
       "             2008          0.020875                       0.873757   \n",
       "             2009          0.000000                       0.894632   \n",
       "             2010          0.000000                       0.894632   \n",
       "             2011          0.000000                       0.894632   \n",
       "             2012          0.000000                       0.894632   \n",
       "Alcochete    2012          0.197347                       0.526093   \n",
       "\n",
       "                   tot_cumul_adoption_pr_y_port  \n",
       "Municipality Year                                \n",
       "Vagos        2008                      0.044921  \n",
       "             2009                      0.048387  \n",
       "             2010                      0.055698  \n",
       "             2011                      0.064693  \n",
       "             2012                      0.070253  \n",
       "Tomar        2004                      0.022893  \n",
       "             2005                      0.030106  \n",
       "             2006                      0.034800  \n",
       "             2007                      0.039117  \n",
       "             2008                      0.044921  \n",
       "             2009                      0.048387  \n",
       "             2010                      0.055698  \n",
       "             2011                      0.064693  \n",
       "             2012                      0.070253  \n",
       "Alcochete    2012                      0.070253  "
      ]
     },
     "execution_count": 100,
     "metadata": {},
     "output_type": "execute_result"
    }
   ],
   "source": [
    "SBP_perc_adoption_final.loc[SBP_perc_adoption_final['tot_cumul_adoption_pr_y_munic'] > 0.5]"
   ]
  },
  {
   "cell_type": "code",
   "execution_count": 101,
   "metadata": {},
   "outputs": [
    {
     "data": {
      "text/plain": [
       "146"
      ]
     },
     "execution_count": 101,
     "metadata": {},
     "output_type": "execute_result"
    }
   ],
   "source": [
    "len(SBP_perc_adoption_final.loc[(SBP_perc_adoption_final == 0).all(axis=1)])"
   ]
  },
  {
   "cell_type": "markdown",
   "metadata": {},
   "source": [
    "## Save file adoption percentual"
   ]
  },
  {
   "cell_type": "code",
   "execution_count": 102,
   "metadata": {},
   "outputs": [],
   "source": [
    "SBP_perc_adoption_final.to_csv(out_path_adoption_percentage)"
   ]
  },
  {
   "cell_type": "markdown",
   "metadata": {},
   "source": [
    "# Save datasets for ABM validation"
   ]
  },
  {
   "cell_type": "markdown",
   "metadata": {},
   "source": [
    "#### Portugal level"
   ]
  },
  {
   "cell_type": "code",
   "execution_count": 103,
   "metadata": {},
   "outputs": [],
   "source": [
    "out_path_port_adoption = \"./Final SBP adoption datasets/For ABM validation/SBP yearly adoption - Portugal.csv\"\n",
    "portugal_adoption.loc['Yearly adoption'].to_csv(out_path_port_adoption)"
   ]
  },
  {
   "cell_type": "markdown",
   "metadata": {},
   "source": [
    "#### Municipality level"
   ]
  },
  {
   "cell_type": "code",
   "execution_count": 104,
   "metadata": {},
   "outputs": [],
   "source": [
    "tot_cumul_adoption_munic = multiindex_from_dataframe_columns(cumulative_total_munic_adoption, \n",
    "                                                             'tot_cumul_adoption_until_year_ha',\n",
    "                                                              previous_year=False)"
   ]
  },
  {
   "cell_type": "code",
   "execution_count": 106,
   "metadata": {},
   "outputs": [],
   "source": [
    "munic_adoption = pd.concat([SBP_perc_adoption_final['adoption_in_year'],\n",
    "                            SBP_adoption_final['adoption_in_year'],\n",
    "                            tot_cumul_adoption_munic],\n",
    "                           axis=1)\n",
    "munic_adoption.columns = ['adoption_in_year', 'adoption_in_year_ha', 'tot_cumul_adoption_until_year_ha']\n",
    "munic_adoption.index.names = ['Municipality', 'Year']"
   ]
  },
  {
   "cell_type": "code",
   "execution_count": 107,
   "metadata": {},
   "outputs": [],
   "source": [
    "out_path_munic_adoption = \"./Final SBP adoption datasets/For ABM validation/SBP yearly adoption - Municipalities.csv\"\n",
    "munic_adoption.to_csv(out_path_munic_adoption)"
   ]
  }
 ],
 "metadata": {
  "kernelspec": {
   "display_name": "SBP_munic_data_manipulation",
   "language": "python",
   "name": "sbp_munic_data_manipulation"
  },
  "language_info": {
   "codemirror_mode": {
    "name": "ipython",
    "version": 3
   },
   "file_extension": ".py",
   "mimetype": "text/x-python",
   "name": "python",
   "nbconvert_exporter": "python",
   "pygments_lexer": "ipython3",
   "version": "3.7.7"
  }
 },
 "nbformat": 4,
 "nbformat_minor": 4
}
