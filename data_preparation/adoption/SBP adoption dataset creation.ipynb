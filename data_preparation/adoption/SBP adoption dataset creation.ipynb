{
 "cells": [
  {
   "cell_type": "markdown",
   "metadata": {},
   "source": [
    "Notebook to analyse the data regarding the aggregate SBP adoption before 2008 and the one during the Portuguese Carbon Fund project (PCF project) and merging them into a dataset reporting the SBP adoption from 1996 to 2012."
   ]
  },
  {
   "cell_type": "markdown",
   "metadata": {},
   "source": [
    "**Requirements**: numpy pandas xlrd openpyxl"
   ]
  },
  {
   "cell_type": "markdown",
   "metadata": {},
   "source": [
    "## Content\n",
    "* PCF project: retrieve adoption over each municipality\n",
    "* Merge of adoption previous and during PCF -> Yearly SBP adoption per municipality\n",
    "* Other datasets construction:\n",
    "    * Cumulative adoption in each year\n",
    "    * Yearly and cumulative for Portugal\n",
    "    * Adoption in neighbours\n",
    "* Datasets merging for machine learning models\n",
    "* Create datasets with relative values of adoption refferd to permanent pasture area\n",
    "    * Create and save dataset with % adoption in munic for ABM initialisation\n",
    "    * Save datasets for ABM validation"
   ]
  },
  {
   "cell_type": "code",
   "execution_count": 188,
   "metadata": {},
   "outputs": [],
   "source": [
    "import numpy as np\n",
    "import pandas as pd"
   ]
  },
  {
   "cell_type": "markdown",
   "metadata": {},
   "source": [
    "# Data ingestion and manipulation"
   ]
  },
  {
   "cell_type": "code",
   "execution_count": 189,
   "metadata": {},
   "outputs": [],
   "source": [
    "path_to_PCF_data = \"./PCF project data_Corrected counties.xlsx\"\n",
    "path_to_adoption_pre_PCF = \"./SBP adoption previous to 2009 per municipality_PCF mapped.xlsx\""
   ]
  },
  {
   "cell_type": "code",
   "execution_count": 190,
   "metadata": {},
   "outputs": [],
   "source": [
    "out_file = \"./Final SBP adoption datasets/SBP yearly adoption + adoption features_PCF mapped.csv\"\n",
    "out_path_adoption_percentage = \"./Final SBP adoption datasets/SBP % yearly adoption + % adoption features_PCF mapped.csv\""
   ]
  },
  {
   "cell_type": "markdown",
   "metadata": {},
   "source": [
    "## PCF project"
   ]
  },
  {
   "cell_type": "code",
   "execution_count": 191,
   "metadata": {},
   "outputs": [
    {
     "data": {
      "text/html": [
       "<div>\n",
       "<style scoped>\n",
       "    .dataframe tbody tr th:only-of-type {\n",
       "        vertical-align: middle;\n",
       "    }\n",
       "\n",
       "    .dataframe tbody tr th {\n",
       "        vertical-align: top;\n",
       "    }\n",
       "\n",
       "    .dataframe thead th {\n",
       "        text-align: right;\n",
       "    }\n",
       "</style>\n",
       "<table border=\"1\" class=\"dataframe\">\n",
       "  <thead>\n",
       "    <tr style=\"text-align: right;\">\n",
       "      <th></th>\n",
       "      <th>Farmer_ID</th>\n",
       "      <th>Year that the pasture was installed</th>\n",
       "      <th>County</th>\n",
       "      <th>Area_Total_SIG_PPI_2009_ha</th>\n",
       "      <th>Area_Total_SIG_PPI_2010_ha</th>\n",
       "      <th>Area_Total_SIG_PPII_2011_ha</th>\n",
       "      <th>Area_Total_SIG_PPII_2012_ha</th>\n",
       "    </tr>\n",
       "    <tr>\n",
       "      <th>Parcel_ID</th>\n",
       "      <th></th>\n",
       "      <th></th>\n",
       "      <th></th>\n",
       "      <th></th>\n",
       "      <th></th>\n",
       "      <th></th>\n",
       "      <th></th>\n",
       "    </tr>\n",
       "  </thead>\n",
       "  <tbody>\n",
       "    <tr>\n",
       "      <th>55</th>\n",
       "      <td>1</td>\n",
       "      <td>2009</td>\n",
       "      <td>Idanha-a-Nova</td>\n",
       "      <td>9.28</td>\n",
       "      <td>0.00</td>\n",
       "      <td>0.00</td>\n",
       "      <td>0.00</td>\n",
       "    </tr>\n",
       "    <tr>\n",
       "      <th>410</th>\n",
       "      <td>2</td>\n",
       "      <td>2010</td>\n",
       "      <td>Évora</td>\n",
       "      <td>0.00</td>\n",
       "      <td>3.21</td>\n",
       "      <td>0.00</td>\n",
       "      <td>0.00</td>\n",
       "    </tr>\n",
       "    <tr>\n",
       "      <th>681</th>\n",
       "      <td>2</td>\n",
       "      <td>2011</td>\n",
       "      <td>Évora</td>\n",
       "      <td>0.00</td>\n",
       "      <td>0.00</td>\n",
       "      <td>6.83</td>\n",
       "      <td>0.00</td>\n",
       "    </tr>\n",
       "    <tr>\n",
       "      <th>1068</th>\n",
       "      <td>3</td>\n",
       "      <td>2012</td>\n",
       "      <td>Reguengos de Monsaraz</td>\n",
       "      <td>0.00</td>\n",
       "      <td>0.00</td>\n",
       "      <td>0.00</td>\n",
       "      <td>38.17</td>\n",
       "    </tr>\n",
       "    <tr>\n",
       "      <th>584</th>\n",
       "      <td>4</td>\n",
       "      <td>2010</td>\n",
       "      <td>Avis</td>\n",
       "      <td>0.00</td>\n",
       "      <td>9.57</td>\n",
       "      <td>0.00</td>\n",
       "      <td>0.00</td>\n",
       "    </tr>\n",
       "  </tbody>\n",
       "</table>\n",
       "</div>"
      ],
      "text/plain": [
       "           Farmer_ID  Year that the pasture was installed  \\\n",
       "Parcel_ID                                                   \n",
       "55                 1                                 2009   \n",
       "410                2                                 2010   \n",
       "681                2                                 2011   \n",
       "1068               3                                 2012   \n",
       "584                4                                 2010   \n",
       "\n",
       "                          County  Area_Total_SIG_PPI_2009_ha  \\\n",
       "Parcel_ID                                                      \n",
       "55                 Idanha-a-Nova                        9.28   \n",
       "410                        Évora                        0.00   \n",
       "681                        Évora                        0.00   \n",
       "1068       Reguengos de Monsaraz                        0.00   \n",
       "584                         Avis                        0.00   \n",
       "\n",
       "           Area_Total_SIG_PPI_2010_ha  Area_Total_SIG_PPII_2011_ha  \\\n",
       "Parcel_ID                                                            \n",
       "55                               0.00                         0.00   \n",
       "410                              3.21                         0.00   \n",
       "681                              0.00                         6.83   \n",
       "1068                             0.00                         0.00   \n",
       "584                              9.57                         0.00   \n",
       "\n",
       "           Area_Total_SIG_PPII_2012_ha  \n",
       "Parcel_ID                               \n",
       "55                                0.00  \n",
       "410                               0.00  \n",
       "681                               0.00  \n",
       "1068                             38.17  \n",
       "584                               0.00  "
      ]
     },
     "execution_count": 191,
     "metadata": {},
     "output_type": "execute_result"
    }
   ],
   "source": [
    "PCF_data = pd.read_excel(path_to_PCF_data, index_col=0)\n",
    "PCF_data.head()"
   ]
  },
  {
   "cell_type": "code",
   "execution_count": 192,
   "metadata": {},
   "outputs": [],
   "source": [
    "PCF_data = PCF_data.drop('Farmer_ID', axis=1)"
   ]
  },
  {
   "cell_type": "code",
   "execution_count": 193,
   "metadata": {
    "scrolled": true
   },
   "outputs": [
    {
     "name": "stdout",
     "output_type": "stream",
     "text": [
      "<class 'pandas.core.frame.DataFrame'>\n",
      "Int64Index: 1113 entries, 55 to 1048\n",
      "Data columns (total 6 columns):\n",
      " #   Column                               Non-Null Count  Dtype  \n",
      "---  ------                               --------------  -----  \n",
      " 0   Year that the pasture was installed  1113 non-null   int64  \n",
      " 1   County                               1113 non-null   object \n",
      " 2   Area_Total_SIG_PPI_2009_ha           1113 non-null   float64\n",
      " 3   Area_Total_SIG_PPI_2010_ha           1113 non-null   float64\n",
      " 4   Area_Total_SIG_PPII_2011_ha          1113 non-null   float64\n",
      " 5   Area_Total_SIG_PPII_2012_ha          1113 non-null   float64\n",
      "dtypes: float64(4), int64(1), object(1)\n",
      "memory usage: 60.9+ KB\n"
     ]
    }
   ],
   "source": [
    "PCF_data.info()"
   ]
  },
  {
   "cell_type": "markdown",
   "metadata": {},
   "source": [
    "### Check years have only values from 2009 to 2014"
   ]
  },
  {
   "cell_type": "code",
   "execution_count": 194,
   "metadata": {},
   "outputs": [
    {
     "data": {
      "text/plain": [
       "2010    310\n",
       "2012    289\n",
       "2009    279\n",
       "2011    235\n",
       "Name: Year that the pasture was installed, dtype: int64"
      ]
     },
     "execution_count": 194,
     "metadata": {},
     "output_type": "execute_result"
    }
   ],
   "source": [
    "PCF_data['Year that the pasture was installed'].value_counts()"
   ]
  },
  {
   "cell_type": "markdown",
   "metadata": {},
   "source": [
    "### Check if any parcel adopted in multiple years, i.e. if any has two non zero values in the total area adopted each year"
   ]
  },
  {
   "cell_type": "code",
   "execution_count": 195,
   "metadata": {},
   "outputs": [],
   "source": [
    "cols_with_area = ['Area_Total_SIG_PPI_2009_ha', \n",
    "                 'Area_Total_SIG_PPI_2010_ha', \n",
    "                 'Area_Total_SIG_PPII_2011_ha', \n",
    "                 'Area_Total_SIG_PPII_2012_ha']\n",
    "\n",
    "number_of_year_adopted = len(cols_with_area) - (PCF_data[cols_with_area] == 0).sum(axis=1)"
   ]
  },
  {
   "cell_type": "code",
   "execution_count": 196,
   "metadata": {
    "scrolled": true
   },
   "outputs": [
    {
     "data": {
      "text/plain": [
       "False"
      ]
     },
     "execution_count": 196,
     "metadata": {},
     "output_type": "execute_result"
    }
   ],
   "source": [
    "adopted_1_year = number_of_year_adopted == 1\n",
    "all(adopted_1_year)"
   ]
  },
  {
   "cell_type": "code",
   "execution_count": 197,
   "metadata": {
    "scrolled": true
   },
   "outputs": [
    {
     "data": {
      "text/plain": [
       "1100"
      ]
     },
     "execution_count": 197,
     "metadata": {},
     "output_type": "execute_result"
    }
   ],
   "source": [
    "# Number of parcels which have correctly one adoption\n",
    "sum(adopted_1_year)"
   ]
  },
  {
   "cell_type": "code",
   "execution_count": 198,
   "metadata": {},
   "outputs": [
    {
     "data": {
      "text/plain": [
       "13"
      ]
     },
     "execution_count": 198,
     "metadata": {},
     "output_type": "execute_result"
    }
   ],
   "source": [
    "adopted_0_years = number_of_year_adopted == 0\n",
    "sum(adopted_0_years)"
   ]
  },
  {
   "cell_type": "markdown",
   "metadata": {},
   "source": [
    "Therefore, there are 1100 for which we have the area adopted and 13 for which we have not data on the area adopted that we can exclude."
   ]
  },
  {
   "cell_type": "code",
   "execution_count": 199,
   "metadata": {
    "scrolled": true
   },
   "outputs": [
    {
     "data": {
      "text/html": [
       "<div>\n",
       "<style scoped>\n",
       "    .dataframe tbody tr th:only-of-type {\n",
       "        vertical-align: middle;\n",
       "    }\n",
       "\n",
       "    .dataframe tbody tr th {\n",
       "        vertical-align: top;\n",
       "    }\n",
       "\n",
       "    .dataframe thead th {\n",
       "        text-align: right;\n",
       "    }\n",
       "</style>\n",
       "<table border=\"1\" class=\"dataframe\">\n",
       "  <thead>\n",
       "    <tr style=\"text-align: right;\">\n",
       "      <th></th>\n",
       "      <th>Year that the pasture was installed</th>\n",
       "      <th>County</th>\n",
       "      <th>Area_Total_SIG_PPI_2009_ha</th>\n",
       "      <th>Area_Total_SIG_PPI_2010_ha</th>\n",
       "      <th>Area_Total_SIG_PPII_2011_ha</th>\n",
       "      <th>Area_Total_SIG_PPII_2012_ha</th>\n",
       "    </tr>\n",
       "    <tr>\n",
       "      <th>Parcel_ID</th>\n",
       "      <th></th>\n",
       "      <th></th>\n",
       "      <th></th>\n",
       "      <th></th>\n",
       "      <th></th>\n",
       "      <th></th>\n",
       "    </tr>\n",
       "  </thead>\n",
       "  <tbody>\n",
       "    <tr>\n",
       "      <th>414</th>\n",
       "      <td>2010</td>\n",
       "      <td>Évora</td>\n",
       "      <td>0.0</td>\n",
       "      <td>0.0</td>\n",
       "      <td>0.0</td>\n",
       "      <td>0.0</td>\n",
       "    </tr>\n",
       "    <tr>\n",
       "      <th>359</th>\n",
       "      <td>2010</td>\n",
       "      <td>Alcácer do Sal</td>\n",
       "      <td>0.0</td>\n",
       "      <td>0.0</td>\n",
       "      <td>0.0</td>\n",
       "      <td>0.0</td>\n",
       "    </tr>\n",
       "    <tr>\n",
       "      <th>106</th>\n",
       "      <td>2009</td>\n",
       "      <td>Arraiolos</td>\n",
       "      <td>0.0</td>\n",
       "      <td>0.0</td>\n",
       "      <td>0.0</td>\n",
       "      <td>0.0</td>\n",
       "    </tr>\n",
       "    <tr>\n",
       "      <th>249</th>\n",
       "      <td>2009</td>\n",
       "      <td>Alter do Chão</td>\n",
       "      <td>0.0</td>\n",
       "      <td>0.0</td>\n",
       "      <td>0.0</td>\n",
       "      <td>0.0</td>\n",
       "    </tr>\n",
       "    <tr>\n",
       "      <th>1061</th>\n",
       "      <td>2012</td>\n",
       "      <td>Vila Viçosa</td>\n",
       "      <td>0.0</td>\n",
       "      <td>0.0</td>\n",
       "      <td>0.0</td>\n",
       "      <td>0.0</td>\n",
       "    </tr>\n",
       "  </tbody>\n",
       "</table>\n",
       "</div>"
      ],
      "text/plain": [
       "           Year that the pasture was installed          County  \\\n",
       "Parcel_ID                                                        \n",
       "414                                       2010           Évora   \n",
       "359                                       2010  Alcácer do Sal   \n",
       "106                                       2009       Arraiolos   \n",
       "249                                       2009   Alter do Chão   \n",
       "1061                                      2012     Vila Viçosa   \n",
       "\n",
       "           Area_Total_SIG_PPI_2009_ha  Area_Total_SIG_PPI_2010_ha  \\\n",
       "Parcel_ID                                                           \n",
       "414                               0.0                         0.0   \n",
       "359                               0.0                         0.0   \n",
       "106                               0.0                         0.0   \n",
       "249                               0.0                         0.0   \n",
       "1061                              0.0                         0.0   \n",
       "\n",
       "           Area_Total_SIG_PPII_2011_ha  Area_Total_SIG_PPII_2012_ha  \n",
       "Parcel_ID                                                            \n",
       "414                                0.0                          0.0  \n",
       "359                                0.0                          0.0  \n",
       "106                                0.0                          0.0  \n",
       "249                                0.0                          0.0  \n",
       "1061                               0.0                          0.0  "
      ]
     },
     "execution_count": 199,
     "metadata": {},
     "output_type": "execute_result"
    }
   ],
   "source": [
    "parcels_without_adoption = PCF_data[adopted_0_years]\n",
    "parcels_without_adoption.head()"
   ]
  },
  {
   "cell_type": "code",
   "execution_count": 200,
   "metadata": {},
   "outputs": [],
   "source": [
    "PCF_data = PCF_data.drop(parcels_without_adoption.index)"
   ]
  },
  {
   "cell_type": "code",
   "execution_count": 201,
   "metadata": {
    "scrolled": false
   },
   "outputs": [
    {
     "data": {
      "text/plain": [
       "1100"
      ]
     },
     "execution_count": 201,
     "metadata": {},
     "output_type": "execute_result"
    }
   ],
   "source": [
    "len(PCF_data)"
   ]
  },
  {
   "cell_type": "markdown",
   "metadata": {},
   "source": [
    "Since each parcel adopted in one year and the DataFrame has a column for the year of adoption, we can substitute the last columns with the area of adoption with just one columns having the area adopted in any year."
   ]
  },
  {
   "cell_type": "code",
   "execution_count": 202,
   "metadata": {},
   "outputs": [],
   "source": [
    "PCF_data[cols_with_area].max(axis=1)\n",
    "PCF_data['Area'] = PCF_data[cols_with_area].max(axis=1)"
   ]
  },
  {
   "cell_type": "code",
   "execution_count": 203,
   "metadata": {
    "scrolled": true
   },
   "outputs": [],
   "source": [
    "PCF_data = PCF_data.drop(cols_with_area, axis=1)"
   ]
  },
  {
   "cell_type": "code",
   "execution_count": 204,
   "metadata": {
    "scrolled": true
   },
   "outputs": [
    {
     "data": {
      "text/html": [
       "<div>\n",
       "<style scoped>\n",
       "    .dataframe tbody tr th:only-of-type {\n",
       "        vertical-align: middle;\n",
       "    }\n",
       "\n",
       "    .dataframe tbody tr th {\n",
       "        vertical-align: top;\n",
       "    }\n",
       "\n",
       "    .dataframe thead th {\n",
       "        text-align: right;\n",
       "    }\n",
       "</style>\n",
       "<table border=\"1\" class=\"dataframe\">\n",
       "  <thead>\n",
       "    <tr style=\"text-align: right;\">\n",
       "      <th></th>\n",
       "      <th>Year that the pasture was installed</th>\n",
       "      <th>County</th>\n",
       "      <th>Area</th>\n",
       "    </tr>\n",
       "    <tr>\n",
       "      <th>Parcel_ID</th>\n",
       "      <th></th>\n",
       "      <th></th>\n",
       "      <th></th>\n",
       "    </tr>\n",
       "  </thead>\n",
       "  <tbody>\n",
       "    <tr>\n",
       "      <th>55</th>\n",
       "      <td>2009</td>\n",
       "      <td>Idanha-a-Nova</td>\n",
       "      <td>9.28</td>\n",
       "    </tr>\n",
       "    <tr>\n",
       "      <th>410</th>\n",
       "      <td>2010</td>\n",
       "      <td>Évora</td>\n",
       "      <td>3.21</td>\n",
       "    </tr>\n",
       "    <tr>\n",
       "      <th>681</th>\n",
       "      <td>2011</td>\n",
       "      <td>Évora</td>\n",
       "      <td>6.83</td>\n",
       "    </tr>\n",
       "    <tr>\n",
       "      <th>1068</th>\n",
       "      <td>2012</td>\n",
       "      <td>Reguengos de Monsaraz</td>\n",
       "      <td>38.17</td>\n",
       "    </tr>\n",
       "    <tr>\n",
       "      <th>584</th>\n",
       "      <td>2010</td>\n",
       "      <td>Avis</td>\n",
       "      <td>9.57</td>\n",
       "    </tr>\n",
       "  </tbody>\n",
       "</table>\n",
       "</div>"
      ],
      "text/plain": [
       "           Year that the pasture was installed                 County   Area\n",
       "Parcel_ID                                                                   \n",
       "55                                        2009          Idanha-a-Nova   9.28\n",
       "410                                       2010                  Évora   3.21\n",
       "681                                       2011                  Évora   6.83\n",
       "1068                                      2012  Reguengos de Monsaraz  38.17\n",
       "584                                       2010                   Avis   9.57"
      ]
     },
     "execution_count": 204,
     "metadata": {},
     "output_type": "execute_result"
    }
   ],
   "source": [
    "PCF_data.head()"
   ]
  },
  {
   "cell_type": "markdown",
   "metadata": {},
   "source": [
    "### Get municipality adoption per municipality, per year"
   ]
  },
  {
   "cell_type": "code",
   "execution_count": 205,
   "metadata": {},
   "outputs": [
    {
     "data": {
      "text/html": [
       "<div>\n",
       "<style scoped>\n",
       "    .dataframe tbody tr th:only-of-type {\n",
       "        vertical-align: middle;\n",
       "    }\n",
       "\n",
       "    .dataframe tbody tr th {\n",
       "        vertical-align: top;\n",
       "    }\n",
       "\n",
       "    .dataframe thead th {\n",
       "        text-align: right;\n",
       "    }\n",
       "</style>\n",
       "<table border=\"1\" class=\"dataframe\">\n",
       "  <thead>\n",
       "    <tr style=\"text-align: right;\">\n",
       "      <th></th>\n",
       "      <th></th>\n",
       "      <th>Area</th>\n",
       "    </tr>\n",
       "    <tr>\n",
       "      <th>County</th>\n",
       "      <th>Year that the pasture was installed</th>\n",
       "      <th></th>\n",
       "    </tr>\n",
       "  </thead>\n",
       "  <tbody>\n",
       "    <tr>\n",
       "      <th rowspan=\"4\" valign=\"top\">Abrantes</th>\n",
       "      <th>2009</th>\n",
       "      <td>67.24</td>\n",
       "    </tr>\n",
       "    <tr>\n",
       "      <th>2010</th>\n",
       "      <td>241.73</td>\n",
       "    </tr>\n",
       "    <tr>\n",
       "      <th>2011</th>\n",
       "      <td>52.38</td>\n",
       "    </tr>\n",
       "    <tr>\n",
       "      <th>2012</th>\n",
       "      <td>156.63</td>\n",
       "    </tr>\n",
       "    <tr>\n",
       "      <th>Alandroal</th>\n",
       "      <th>2009</th>\n",
       "      <td>205.70</td>\n",
       "    </tr>\n",
       "  </tbody>\n",
       "</table>\n",
       "</div>"
      ],
      "text/plain": [
       "                                                 Area\n",
       "County    Year that the pasture was installed        \n",
       "Abrantes  2009                                  67.24\n",
       "          2010                                 241.73\n",
       "          2011                                  52.38\n",
       "          2012                                 156.63\n",
       "Alandroal 2009                                 205.70"
      ]
     },
     "execution_count": 205,
     "metadata": {},
     "output_type": "execute_result"
    }
   ],
   "source": [
    "munic_adoption_MI = PCF_data.groupby(['County', 'Year that the pasture was installed']).sum()\n",
    "munic_adoption_MI.head()"
   ]
  },
  {
   "cell_type": "markdown",
   "metadata": {},
   "source": [
    "Rearrange to have the years as a columns and bring in the same format as the SBP adoption previous to the PCF project"
   ]
  },
  {
   "cell_type": "code",
   "execution_count": 206,
   "metadata": {
    "scrolled": true
   },
   "outputs": [
    {
     "data": {
      "text/html": [
       "<div>\n",
       "<style scoped>\n",
       "    .dataframe tbody tr th:only-of-type {\n",
       "        vertical-align: middle;\n",
       "    }\n",
       "\n",
       "    .dataframe tbody tr th {\n",
       "        vertical-align: top;\n",
       "    }\n",
       "\n",
       "    .dataframe thead tr th {\n",
       "        text-align: left;\n",
       "    }\n",
       "\n",
       "    .dataframe thead tr:last-of-type th {\n",
       "        text-align: right;\n",
       "    }\n",
       "</style>\n",
       "<table border=\"1\" class=\"dataframe\">\n",
       "  <thead>\n",
       "    <tr>\n",
       "      <th></th>\n",
       "      <th colspan=\"4\" halign=\"left\">Area</th>\n",
       "    </tr>\n",
       "    <tr>\n",
       "      <th>Year that the pasture was installed</th>\n",
       "      <th>2009</th>\n",
       "      <th>2010</th>\n",
       "      <th>2011</th>\n",
       "      <th>2012</th>\n",
       "    </tr>\n",
       "    <tr>\n",
       "      <th>County</th>\n",
       "      <th></th>\n",
       "      <th></th>\n",
       "      <th></th>\n",
       "      <th></th>\n",
       "    </tr>\n",
       "  </thead>\n",
       "  <tbody>\n",
       "    <tr>\n",
       "      <th>Abrantes</th>\n",
       "      <td>67.24</td>\n",
       "      <td>241.73</td>\n",
       "      <td>52.38</td>\n",
       "      <td>156.63</td>\n",
       "    </tr>\n",
       "    <tr>\n",
       "      <th>Alandroal</th>\n",
       "      <td>205.70</td>\n",
       "      <td>557.06</td>\n",
       "      <td>167.75</td>\n",
       "      <td>934.91</td>\n",
       "    </tr>\n",
       "    <tr>\n",
       "      <th>Alcochete</th>\n",
       "      <td>0.00</td>\n",
       "      <td>347.12</td>\n",
       "      <td>238.65</td>\n",
       "      <td>348.91</td>\n",
       "    </tr>\n",
       "    <tr>\n",
       "      <th>Alcácer do Sal</th>\n",
       "      <td>1084.30</td>\n",
       "      <td>1112.69</td>\n",
       "      <td>720.92</td>\n",
       "      <td>644.67</td>\n",
       "    </tr>\n",
       "    <tr>\n",
       "      <th>Alenquer</th>\n",
       "      <td>0.00</td>\n",
       "      <td>0.00</td>\n",
       "      <td>14.66</td>\n",
       "      <td>0.00</td>\n",
       "    </tr>\n",
       "  </tbody>\n",
       "</table>\n",
       "</div>"
      ],
      "text/plain": [
       "                                        Area                         \n",
       "Year that the pasture was installed     2009     2010    2011    2012\n",
       "County                                                               \n",
       "Abrantes                               67.24   241.73   52.38  156.63\n",
       "Alandroal                             205.70   557.06  167.75  934.91\n",
       "Alcochete                               0.00   347.12  238.65  348.91\n",
       "Alcácer do Sal                       1084.30  1112.69  720.92  644.67\n",
       "Alenquer                                0.00     0.00   14.66    0.00"
      ]
     },
     "execution_count": 206,
     "metadata": {},
     "output_type": "execute_result"
    }
   ],
   "source": [
    "munic_adoption_PCF = munic_adoption_MI.unstack(fill_value=0)\n",
    "munic_adoption_PCF.head()"
   ]
  },
  {
   "cell_type": "code",
   "execution_count": 207,
   "metadata": {
    "scrolled": true
   },
   "outputs": [
    {
     "data": {
      "text/html": [
       "<div>\n",
       "<style scoped>\n",
       "    .dataframe tbody tr th:only-of-type {\n",
       "        vertical-align: middle;\n",
       "    }\n",
       "\n",
       "    .dataframe tbody tr th {\n",
       "        vertical-align: top;\n",
       "    }\n",
       "\n",
       "    .dataframe thead tr th {\n",
       "        text-align: left;\n",
       "    }\n",
       "\n",
       "    .dataframe thead tr:last-of-type th {\n",
       "        text-align: right;\n",
       "    }\n",
       "</style>\n",
       "<table border=\"1\" class=\"dataframe\">\n",
       "  <thead>\n",
       "    <tr>\n",
       "      <th></th>\n",
       "      <th colspan=\"4\" halign=\"left\">Area</th>\n",
       "    </tr>\n",
       "    <tr>\n",
       "      <th></th>\n",
       "      <th>2009</th>\n",
       "      <th>2010</th>\n",
       "      <th>2011</th>\n",
       "      <th>2012</th>\n",
       "    </tr>\n",
       "    <tr>\n",
       "      <th>County</th>\n",
       "      <th></th>\n",
       "      <th></th>\n",
       "      <th></th>\n",
       "      <th></th>\n",
       "    </tr>\n",
       "  </thead>\n",
       "  <tbody>\n",
       "    <tr>\n",
       "      <th>Abrantes</th>\n",
       "      <td>67.24</td>\n",
       "      <td>241.73</td>\n",
       "      <td>52.38</td>\n",
       "      <td>156.63</td>\n",
       "    </tr>\n",
       "    <tr>\n",
       "      <th>Alandroal</th>\n",
       "      <td>205.70</td>\n",
       "      <td>557.06</td>\n",
       "      <td>167.75</td>\n",
       "      <td>934.91</td>\n",
       "    </tr>\n",
       "    <tr>\n",
       "      <th>Alcochete</th>\n",
       "      <td>0.00</td>\n",
       "      <td>347.12</td>\n",
       "      <td>238.65</td>\n",
       "      <td>348.91</td>\n",
       "    </tr>\n",
       "    <tr>\n",
       "      <th>Alcácer do Sal</th>\n",
       "      <td>1084.30</td>\n",
       "      <td>1112.69</td>\n",
       "      <td>720.92</td>\n",
       "      <td>644.67</td>\n",
       "    </tr>\n",
       "    <tr>\n",
       "      <th>Alenquer</th>\n",
       "      <td>0.00</td>\n",
       "      <td>0.00</td>\n",
       "      <td>14.66</td>\n",
       "      <td>0.00</td>\n",
       "    </tr>\n",
       "  </tbody>\n",
       "</table>\n",
       "</div>"
      ],
      "text/plain": [
       "                   Area                         \n",
       "                   2009     2010    2011    2012\n",
       "County                                          \n",
       "Abrantes          67.24   241.73   52.38  156.63\n",
       "Alandroal        205.70   557.06  167.75  934.91\n",
       "Alcochete          0.00   347.12  238.65  348.91\n",
       "Alcácer do Sal  1084.30  1112.69  720.92  644.67\n",
       "Alenquer           0.00     0.00   14.66    0.00"
      ]
     },
     "execution_count": 207,
     "metadata": {},
     "output_type": "execute_result"
    }
   ],
   "source": [
    "munic_adoption_PCF.columns.names = (None, None)\n",
    "munic_adoption_PCF.head()"
   ]
  },
  {
   "cell_type": "code",
   "execution_count": 208,
   "metadata": {},
   "outputs": [],
   "source": [
    "munic_adoption_PCF.index.name = 'Municipality'"
   ]
  },
  {
   "cell_type": "code",
   "execution_count": 209,
   "metadata": {
    "scrolled": true
   },
   "outputs": [
    {
     "data": {
      "text/html": [
       "<div>\n",
       "<style scoped>\n",
       "    .dataframe tbody tr th:only-of-type {\n",
       "        vertical-align: middle;\n",
       "    }\n",
       "\n",
       "    .dataframe tbody tr th {\n",
       "        vertical-align: top;\n",
       "    }\n",
       "\n",
       "    .dataframe thead th {\n",
       "        text-align: right;\n",
       "    }\n",
       "</style>\n",
       "<table border=\"1\" class=\"dataframe\">\n",
       "  <thead>\n",
       "    <tr style=\"text-align: right;\">\n",
       "      <th></th>\n",
       "      <th>2009</th>\n",
       "      <th>2010</th>\n",
       "      <th>2011</th>\n",
       "      <th>2012</th>\n",
       "    </tr>\n",
       "    <tr>\n",
       "      <th>Municipality</th>\n",
       "      <th></th>\n",
       "      <th></th>\n",
       "      <th></th>\n",
       "      <th></th>\n",
       "    </tr>\n",
       "  </thead>\n",
       "  <tbody>\n",
       "    <tr>\n",
       "      <th>Abrantes</th>\n",
       "      <td>67.24</td>\n",
       "      <td>241.73</td>\n",
       "      <td>52.38</td>\n",
       "      <td>156.63</td>\n",
       "    </tr>\n",
       "    <tr>\n",
       "      <th>Alandroal</th>\n",
       "      <td>205.70</td>\n",
       "      <td>557.06</td>\n",
       "      <td>167.75</td>\n",
       "      <td>934.91</td>\n",
       "    </tr>\n",
       "    <tr>\n",
       "      <th>Alcochete</th>\n",
       "      <td>0.00</td>\n",
       "      <td>347.12</td>\n",
       "      <td>238.65</td>\n",
       "      <td>348.91</td>\n",
       "    </tr>\n",
       "    <tr>\n",
       "      <th>Alcácer do Sal</th>\n",
       "      <td>1084.30</td>\n",
       "      <td>1112.69</td>\n",
       "      <td>720.92</td>\n",
       "      <td>644.67</td>\n",
       "    </tr>\n",
       "    <tr>\n",
       "      <th>Alenquer</th>\n",
       "      <td>0.00</td>\n",
       "      <td>0.00</td>\n",
       "      <td>14.66</td>\n",
       "      <td>0.00</td>\n",
       "    </tr>\n",
       "  </tbody>\n",
       "</table>\n",
       "</div>"
      ],
      "text/plain": [
       "                   2009     2010    2011    2012\n",
       "Municipality                                    \n",
       "Abrantes          67.24   241.73   52.38  156.63\n",
       "Alandroal        205.70   557.06  167.75  934.91\n",
       "Alcochete          0.00   347.12  238.65  348.91\n",
       "Alcácer do Sal  1084.30  1112.69  720.92  644.67\n",
       "Alenquer           0.00     0.00   14.66    0.00"
      ]
     },
     "execution_count": 209,
     "metadata": {},
     "output_type": "execute_result"
    }
   ],
   "source": [
    "munic_adoption_PCF.columns = munic_adoption_PCF.columns.droplevel()\n",
    "munic_adoption_PCF.head()"
   ]
  },
  {
   "cell_type": "code",
   "execution_count": 210,
   "metadata": {},
   "outputs": [
    {
     "data": {
      "text/plain": [
       "73"
      ]
     },
     "execution_count": 210,
     "metadata": {},
     "output_type": "execute_result"
    }
   ],
   "source": [
    "len(munic_adoption_PCF)"
   ]
  },
  {
   "cell_type": "markdown",
   "metadata": {},
   "source": [
    "#### Retrieve list of municipalities which adopted during the PCF project"
   ]
  },
  {
   "cell_type": "code",
   "execution_count": 211,
   "metadata": {},
   "outputs": [],
   "source": [
    "munic_adoption_PCF_list = munic_adoption_PCF.index.tolist()"
   ]
  },
  {
   "cell_type": "code",
   "execution_count": 212,
   "metadata": {},
   "outputs": [],
   "source": [
    "import csv\n",
    "\n",
    "with open(\"list_of_munic_that_adopted_during_PCF.csv\", \"w+\") as file:\n",
    "    wr = csv.writer(file)\n",
    "    wr.writerow(munic_adoption_PCF_list)"
   ]
  },
  {
   "cell_type": "markdown",
   "metadata": {},
   "source": [
    "## SBP adoption previous to the PCF project"
   ]
  },
  {
   "cell_type": "code",
   "execution_count": 213,
   "metadata": {
    "scrolled": true
   },
   "outputs": [
    {
     "data": {
      "text/html": [
       "<div>\n",
       "<style scoped>\n",
       "    .dataframe tbody tr th:only-of-type {\n",
       "        vertical-align: middle;\n",
       "    }\n",
       "\n",
       "    .dataframe tbody tr th {\n",
       "        vertical-align: top;\n",
       "    }\n",
       "\n",
       "    .dataframe thead th {\n",
       "        text-align: right;\n",
       "    }\n",
       "</style>\n",
       "<table border=\"1\" class=\"dataframe\">\n",
       "  <thead>\n",
       "    <tr style=\"text-align: right;\">\n",
       "      <th></th>\n",
       "      <th>1996</th>\n",
       "      <th>1997</th>\n",
       "      <th>1998</th>\n",
       "      <th>1999</th>\n",
       "      <th>2000</th>\n",
       "      <th>2001</th>\n",
       "      <th>2002</th>\n",
       "      <th>2003</th>\n",
       "      <th>2004</th>\n",
       "      <th>2005</th>\n",
       "      <th>2006</th>\n",
       "      <th>2007</th>\n",
       "      <th>2008</th>\n",
       "    </tr>\n",
       "    <tr>\n",
       "      <th>Municipality</th>\n",
       "      <th></th>\n",
       "      <th></th>\n",
       "      <th></th>\n",
       "      <th></th>\n",
       "      <th></th>\n",
       "      <th></th>\n",
       "      <th></th>\n",
       "      <th></th>\n",
       "      <th></th>\n",
       "      <th></th>\n",
       "      <th></th>\n",
       "      <th></th>\n",
       "      <th></th>\n",
       "    </tr>\n",
       "  </thead>\n",
       "  <tbody>\n",
       "    <tr>\n",
       "      <th>Arouca</th>\n",
       "      <td>0.000000</td>\n",
       "      <td>2.457613</td>\n",
       "      <td>2.048011</td>\n",
       "      <td>0.000000</td>\n",
       "      <td>1.228806</td>\n",
       "      <td>0.000000</td>\n",
       "      <td>4.096022</td>\n",
       "      <td>12.288065</td>\n",
       "      <td>15.155280</td>\n",
       "      <td>14.336076</td>\n",
       "      <td>14.745678</td>\n",
       "      <td>56.525099</td>\n",
       "      <td>20.480108</td>\n",
       "    </tr>\n",
       "    <tr>\n",
       "      <th>Castelo de Paiva</th>\n",
       "      <td>0.000000</td>\n",
       "      <td>0.059363</td>\n",
       "      <td>0.049469</td>\n",
       "      <td>0.000000</td>\n",
       "      <td>0.029681</td>\n",
       "      <td>0.000000</td>\n",
       "      <td>0.098938</td>\n",
       "      <td>0.296813</td>\n",
       "      <td>0.366070</td>\n",
       "      <td>0.346282</td>\n",
       "      <td>0.356176</td>\n",
       "      <td>1.365341</td>\n",
       "      <td>0.494689</td>\n",
       "    </tr>\n",
       "    <tr>\n",
       "      <th>Espinho</th>\n",
       "      <td>0.000000</td>\n",
       "      <td>0.004374</td>\n",
       "      <td>0.003645</td>\n",
       "      <td>0.000000</td>\n",
       "      <td>0.002187</td>\n",
       "      <td>0.000000</td>\n",
       "      <td>0.007290</td>\n",
       "      <td>0.021870</td>\n",
       "      <td>0.026974</td>\n",
       "      <td>0.025516</td>\n",
       "      <td>0.026245</td>\n",
       "      <td>0.100604</td>\n",
       "      <td>0.036451</td>\n",
       "    </tr>\n",
       "    <tr>\n",
       "      <th>Santa Maria da Feira</th>\n",
       "      <td>0.000000</td>\n",
       "      <td>0.040617</td>\n",
       "      <td>0.033847</td>\n",
       "      <td>0.000000</td>\n",
       "      <td>0.020308</td>\n",
       "      <td>0.000000</td>\n",
       "      <td>0.067694</td>\n",
       "      <td>0.203083</td>\n",
       "      <td>0.250469</td>\n",
       "      <td>0.236930</td>\n",
       "      <td>0.243699</td>\n",
       "      <td>0.934180</td>\n",
       "      <td>0.338471</td>\n",
       "    </tr>\n",
       "    <tr>\n",
       "      <th>Oliveira de Azeméis</th>\n",
       "      <td>0.000000</td>\n",
       "      <td>0.068736</td>\n",
       "      <td>0.057280</td>\n",
       "      <td>0.000000</td>\n",
       "      <td>0.034368</td>\n",
       "      <td>0.000000</td>\n",
       "      <td>0.114559</td>\n",
       "      <td>0.343678</td>\n",
       "      <td>0.423870</td>\n",
       "      <td>0.400958</td>\n",
       "      <td>0.412414</td>\n",
       "      <td>1.580921</td>\n",
       "      <td>0.572797</td>\n",
       "    </tr>\n",
       "    <tr>\n",
       "      <th>...</th>\n",
       "      <td>...</td>\n",
       "      <td>...</td>\n",
       "      <td>...</td>\n",
       "      <td>...</td>\n",
       "      <td>...</td>\n",
       "      <td>...</td>\n",
       "      <td>...</td>\n",
       "      <td>...</td>\n",
       "      <td>...</td>\n",
       "      <td>...</td>\n",
       "      <td>...</td>\n",
       "      <td>...</td>\n",
       "      <td>...</td>\n",
       "    </tr>\n",
       "    <tr>\n",
       "      <th>São Brás de Alportel</th>\n",
       "      <td>0.058552</td>\n",
       "      <td>0.035131</td>\n",
       "      <td>0.070262</td>\n",
       "      <td>0.070262</td>\n",
       "      <td>0.298613</td>\n",
       "      <td>0.158089</td>\n",
       "      <td>0.035131</td>\n",
       "      <td>0.058552</td>\n",
       "      <td>0.035131</td>\n",
       "      <td>0.087827</td>\n",
       "      <td>0.234206</td>\n",
       "      <td>0.286902</td>\n",
       "      <td>0.005855</td>\n",
       "    </tr>\n",
       "    <tr>\n",
       "      <th>Silves</th>\n",
       "      <td>1.531348</td>\n",
       "      <td>0.918809</td>\n",
       "      <td>1.837617</td>\n",
       "      <td>1.837617</td>\n",
       "      <td>7.809873</td>\n",
       "      <td>4.134638</td>\n",
       "      <td>0.918809</td>\n",
       "      <td>1.531348</td>\n",
       "      <td>0.918809</td>\n",
       "      <td>2.297021</td>\n",
       "      <td>6.125390</td>\n",
       "      <td>7.503603</td>\n",
       "      <td>0.153135</td>\n",
       "    </tr>\n",
       "    <tr>\n",
       "      <th>Tavira</th>\n",
       "      <td>0.580110</td>\n",
       "      <td>0.348066</td>\n",
       "      <td>0.696133</td>\n",
       "      <td>0.696133</td>\n",
       "      <td>2.958564</td>\n",
       "      <td>1.566298</td>\n",
       "      <td>0.348066</td>\n",
       "      <td>0.580110</td>\n",
       "      <td>0.348066</td>\n",
       "      <td>0.870166</td>\n",
       "      <td>2.320442</td>\n",
       "      <td>2.842541</td>\n",
       "      <td>0.058011</td>\n",
       "    </tr>\n",
       "    <tr>\n",
       "      <th>Vila do Bispo</th>\n",
       "      <td>0.935924</td>\n",
       "      <td>0.561554</td>\n",
       "      <td>1.123108</td>\n",
       "      <td>1.123108</td>\n",
       "      <td>4.773210</td>\n",
       "      <td>2.526994</td>\n",
       "      <td>0.561554</td>\n",
       "      <td>0.935924</td>\n",
       "      <td>0.561554</td>\n",
       "      <td>1.403885</td>\n",
       "      <td>3.743694</td>\n",
       "      <td>4.586026</td>\n",
       "      <td>0.093592</td>\n",
       "    </tr>\n",
       "    <tr>\n",
       "      <th>Vila Real de Santo António</th>\n",
       "      <td>0.219193</td>\n",
       "      <td>0.131516</td>\n",
       "      <td>0.263031</td>\n",
       "      <td>0.263031</td>\n",
       "      <td>1.117884</td>\n",
       "      <td>0.591821</td>\n",
       "      <td>0.131516</td>\n",
       "      <td>0.219193</td>\n",
       "      <td>0.131516</td>\n",
       "      <td>0.328789</td>\n",
       "      <td>0.876772</td>\n",
       "      <td>1.074045</td>\n",
       "      <td>0.021919</td>\n",
       "    </tr>\n",
       "  </tbody>\n",
       "</table>\n",
       "<p>278 rows × 13 columns</p>\n",
       "</div>"
      ],
      "text/plain": [
       "                                1996      1997      1998      1999      2000  \\\n",
       "Municipality                                                                   \n",
       "Arouca                      0.000000  2.457613  2.048011  0.000000  1.228806   \n",
       "Castelo de Paiva            0.000000  0.059363  0.049469  0.000000  0.029681   \n",
       "Espinho                     0.000000  0.004374  0.003645  0.000000  0.002187   \n",
       "Santa Maria da Feira        0.000000  0.040617  0.033847  0.000000  0.020308   \n",
       "Oliveira de Azeméis         0.000000  0.068736  0.057280  0.000000  0.034368   \n",
       "...                              ...       ...       ...       ...       ...   \n",
       "São Brás de Alportel        0.058552  0.035131  0.070262  0.070262  0.298613   \n",
       "Silves                      1.531348  0.918809  1.837617  1.837617  7.809873   \n",
       "Tavira                      0.580110  0.348066  0.696133  0.696133  2.958564   \n",
       "Vila do Bispo               0.935924  0.561554  1.123108  1.123108  4.773210   \n",
       "Vila Real de Santo António  0.219193  0.131516  0.263031  0.263031  1.117884   \n",
       "\n",
       "                                2001      2002       2003       2004  \\\n",
       "Municipality                                                           \n",
       "Arouca                      0.000000  4.096022  12.288065  15.155280   \n",
       "Castelo de Paiva            0.000000  0.098938   0.296813   0.366070   \n",
       "Espinho                     0.000000  0.007290   0.021870   0.026974   \n",
       "Santa Maria da Feira        0.000000  0.067694   0.203083   0.250469   \n",
       "Oliveira de Azeméis         0.000000  0.114559   0.343678   0.423870   \n",
       "...                              ...       ...        ...        ...   \n",
       "São Brás de Alportel        0.158089  0.035131   0.058552   0.035131   \n",
       "Silves                      4.134638  0.918809   1.531348   0.918809   \n",
       "Tavira                      1.566298  0.348066   0.580110   0.348066   \n",
       "Vila do Bispo               2.526994  0.561554   0.935924   0.561554   \n",
       "Vila Real de Santo António  0.591821  0.131516   0.219193   0.131516   \n",
       "\n",
       "                                 2005       2006       2007       2008  \n",
       "Municipality                                                            \n",
       "Arouca                      14.336076  14.745678  56.525099  20.480108  \n",
       "Castelo de Paiva             0.346282   0.356176   1.365341   0.494689  \n",
       "Espinho                      0.025516   0.026245   0.100604   0.036451  \n",
       "Santa Maria da Feira         0.236930   0.243699   0.934180   0.338471  \n",
       "Oliveira de Azeméis          0.400958   0.412414   1.580921   0.572797  \n",
       "...                               ...        ...        ...        ...  \n",
       "São Brás de Alportel         0.087827   0.234206   0.286902   0.005855  \n",
       "Silves                       2.297021   6.125390   7.503603   0.153135  \n",
       "Tavira                       0.870166   2.320442   2.842541   0.058011  \n",
       "Vila do Bispo                1.403885   3.743694   4.586026   0.093592  \n",
       "Vila Real de Santo António   0.328789   0.876772   1.074045   0.021919  \n",
       "\n",
       "[278 rows x 13 columns]"
      ]
     },
     "execution_count": 213,
     "metadata": {},
     "output_type": "execute_result"
    }
   ],
   "source": [
    "munic_adoption_pre_PCF = pd.read_excel(path_to_adoption_pre_PCF, index_col=0)\n",
    "munic_adoption_pre_PCF"
   ]
  },
  {
   "cell_type": "code",
   "execution_count": 214,
   "metadata": {
    "scrolled": true
   },
   "outputs": [
    {
     "data": {
      "text/plain": [
       "278"
      ]
     },
     "execution_count": 214,
     "metadata": {},
     "output_type": "execute_result"
    }
   ],
   "source": [
    "len(munic_adoption_pre_PCF)"
   ]
  },
  {
   "cell_type": "markdown",
   "metadata": {},
   "source": [
    "# Municipalities comparison "
   ]
  },
  {
   "cell_type": "code",
   "execution_count": 215,
   "metadata": {
    "scrolled": true
   },
   "outputs": [],
   "source": [
    "munic_PCF = munic_adoption_PCF.index.tolist()\n",
    "munic_pre_PCF = munic_adoption_pre_PCF.index.tolist()"
   ]
  },
  {
   "cell_type": "code",
   "execution_count": 216,
   "metadata": {
    "scrolled": true
   },
   "outputs": [
    {
     "data": {
      "text/plain": [
       "[]"
      ]
     },
     "execution_count": 216,
     "metadata": {},
     "output_type": "execute_result"
    }
   ],
   "source": [
    "munic_in_PCF_not_in_prePCF = [munic for munic in munic_PCF if munic not in munic_pre_PCF]\n",
    "munic_in_PCF_not_in_prePCF"
   ]
  },
  {
   "cell_type": "code",
   "execution_count": 217,
   "metadata": {},
   "outputs": [
    {
     "data": {
      "text/plain": [
       "205"
      ]
     },
     "execution_count": 217,
     "metadata": {},
     "output_type": "execute_result"
    }
   ],
   "source": [
    "munic_in_prePCF_not_in_PCF = [munic for munic in munic_pre_PCF if munic not in munic_PCF]\n",
    "len(munic_in_prePCF_not_in_PCF)"
   ]
  },
  {
   "cell_type": "markdown",
   "metadata": {},
   "source": [
    "## Dataset merging"
   ]
  },
  {
   "cell_type": "code",
   "execution_count": 218,
   "metadata": {},
   "outputs": [],
   "source": [
    "munic_adoption = pd.concat([munic_adoption_pre_PCF, munic_adoption_PCF], axis=1)"
   ]
  },
  {
   "cell_type": "code",
   "execution_count": 219,
   "metadata": {},
   "outputs": [],
   "source": [
    "munic_adoption[munic_adoption.isna()] = 0"
   ]
  },
  {
   "cell_type": "code",
   "execution_count": 220,
   "metadata": {},
   "outputs": [],
   "source": [
    "munic_adoption.index.name = 'Municipality'"
   ]
  },
  {
   "cell_type": "markdown",
   "metadata": {},
   "source": [
    "Add a columns for 1995 with all 0s, since adoption values in 1995 serves to predict the adoption in 1996."
   ]
  },
  {
   "cell_type": "code",
   "execution_count": 221,
   "metadata": {},
   "outputs": [],
   "source": [
    "munic_adoption.insert(0, 1995, 0)"
   ]
  },
  {
   "cell_type": "markdown",
   "metadata": {},
   "source": [
    "## Save dataset"
   ]
  },
  {
   "cell_type": "code",
   "execution_count": 222,
   "metadata": {},
   "outputs": [],
   "source": [
    "file_munic_adoption = \"./Final SBP adoption datasets/Yearly SBP adoption per municipality.xlsx\""
   ]
  },
  {
   "cell_type": "code",
   "execution_count": 223,
   "metadata": {},
   "outputs": [],
   "source": [
    "munic_adoption.to_excel(file_munic_adoption)"
   ]
  },
  {
   "cell_type": "markdown",
   "metadata": {},
   "source": [
    "# Other datasets construction"
   ]
  },
  {
   "cell_type": "markdown",
   "metadata": {},
   "source": [
    "## Cumulative SBP adoption per municipality"
   ]
  },
  {
   "cell_type": "code",
   "execution_count": 224,
   "metadata": {
    "scrolled": true
   },
   "outputs": [
    {
     "data": {
      "text/html": [
       "<div>\n",
       "<style scoped>\n",
       "    .dataframe tbody tr th:only-of-type {\n",
       "        vertical-align: middle;\n",
       "    }\n",
       "\n",
       "    .dataframe tbody tr th {\n",
       "        vertical-align: top;\n",
       "    }\n",
       "\n",
       "    .dataframe thead th {\n",
       "        text-align: right;\n",
       "    }\n",
       "</style>\n",
       "<table border=\"1\" class=\"dataframe\">\n",
       "  <thead>\n",
       "    <tr style=\"text-align: right;\">\n",
       "      <th></th>\n",
       "      <th>1995</th>\n",
       "      <th>1996</th>\n",
       "      <th>1997</th>\n",
       "      <th>1998</th>\n",
       "      <th>1999</th>\n",
       "      <th>2000</th>\n",
       "      <th>2001</th>\n",
       "      <th>2002</th>\n",
       "      <th>2003</th>\n",
       "      <th>2004</th>\n",
       "      <th>2005</th>\n",
       "      <th>2006</th>\n",
       "      <th>2007</th>\n",
       "      <th>2008</th>\n",
       "      <th>2009</th>\n",
       "      <th>2010</th>\n",
       "      <th>2011</th>\n",
       "      <th>2012</th>\n",
       "    </tr>\n",
       "    <tr>\n",
       "      <th>Municipality</th>\n",
       "      <th></th>\n",
       "      <th></th>\n",
       "      <th></th>\n",
       "      <th></th>\n",
       "      <th></th>\n",
       "      <th></th>\n",
       "      <th></th>\n",
       "      <th></th>\n",
       "      <th></th>\n",
       "      <th></th>\n",
       "      <th></th>\n",
       "      <th></th>\n",
       "      <th></th>\n",
       "      <th></th>\n",
       "      <th></th>\n",
       "      <th></th>\n",
       "      <th></th>\n",
       "      <th></th>\n",
       "    </tr>\n",
       "  </thead>\n",
       "  <tbody>\n",
       "    <tr>\n",
       "      <th>Arouca</th>\n",
       "      <td>0.0</td>\n",
       "      <td>0.000000</td>\n",
       "      <td>2.457613</td>\n",
       "      <td>4.505624</td>\n",
       "      <td>4.505624</td>\n",
       "      <td>5.734430</td>\n",
       "      <td>5.734430</td>\n",
       "      <td>9.830452</td>\n",
       "      <td>22.118517</td>\n",
       "      <td>37.273797</td>\n",
       "      <td>51.609873</td>\n",
       "      <td>66.355551</td>\n",
       "      <td>122.880650</td>\n",
       "      <td>143.360758</td>\n",
       "      <td>143.360758</td>\n",
       "      <td>143.360758</td>\n",
       "      <td>143.360758</td>\n",
       "      <td>143.360758</td>\n",
       "    </tr>\n",
       "    <tr>\n",
       "      <th>Castelo de Paiva</th>\n",
       "      <td>0.0</td>\n",
       "      <td>0.000000</td>\n",
       "      <td>0.059363</td>\n",
       "      <td>0.108831</td>\n",
       "      <td>0.108831</td>\n",
       "      <td>0.138513</td>\n",
       "      <td>0.138513</td>\n",
       "      <td>0.237451</td>\n",
       "      <td>0.534264</td>\n",
       "      <td>0.900333</td>\n",
       "      <td>1.246615</td>\n",
       "      <td>1.602791</td>\n",
       "      <td>2.968132</td>\n",
       "      <td>3.462820</td>\n",
       "      <td>3.462820</td>\n",
       "      <td>3.462820</td>\n",
       "      <td>3.462820</td>\n",
       "      <td>3.462820</td>\n",
       "    </tr>\n",
       "    <tr>\n",
       "      <th>Espinho</th>\n",
       "      <td>0.0</td>\n",
       "      <td>0.000000</td>\n",
       "      <td>0.004374</td>\n",
       "      <td>0.008019</td>\n",
       "      <td>0.008019</td>\n",
       "      <td>0.010206</td>\n",
       "      <td>0.010206</td>\n",
       "      <td>0.017496</td>\n",
       "      <td>0.039367</td>\n",
       "      <td>0.066340</td>\n",
       "      <td>0.091856</td>\n",
       "      <td>0.118100</td>\n",
       "      <td>0.218704</td>\n",
       "      <td>0.255155</td>\n",
       "      <td>0.255155</td>\n",
       "      <td>0.255155</td>\n",
       "      <td>0.255155</td>\n",
       "      <td>0.255155</td>\n",
       "    </tr>\n",
       "    <tr>\n",
       "      <th>Santa Maria da Feira</th>\n",
       "      <td>0.0</td>\n",
       "      <td>0.000000</td>\n",
       "      <td>0.040617</td>\n",
       "      <td>0.074464</td>\n",
       "      <td>0.074464</td>\n",
       "      <td>0.094772</td>\n",
       "      <td>0.094772</td>\n",
       "      <td>0.162466</td>\n",
       "      <td>0.365549</td>\n",
       "      <td>0.616017</td>\n",
       "      <td>0.852947</td>\n",
       "      <td>1.096647</td>\n",
       "      <td>2.030827</td>\n",
       "      <td>2.369298</td>\n",
       "      <td>2.369298</td>\n",
       "      <td>2.369298</td>\n",
       "      <td>2.369298</td>\n",
       "      <td>2.369298</td>\n",
       "    </tr>\n",
       "    <tr>\n",
       "      <th>Oliveira de Azeméis</th>\n",
       "      <td>0.0</td>\n",
       "      <td>0.000000</td>\n",
       "      <td>0.068736</td>\n",
       "      <td>0.126015</td>\n",
       "      <td>0.126015</td>\n",
       "      <td>0.160383</td>\n",
       "      <td>0.160383</td>\n",
       "      <td>0.274943</td>\n",
       "      <td>0.618621</td>\n",
       "      <td>1.042491</td>\n",
       "      <td>1.443449</td>\n",
       "      <td>1.855863</td>\n",
       "      <td>3.436784</td>\n",
       "      <td>4.009581</td>\n",
       "      <td>4.009581</td>\n",
       "      <td>4.009581</td>\n",
       "      <td>4.009581</td>\n",
       "      <td>4.009581</td>\n",
       "    </tr>\n",
       "    <tr>\n",
       "      <th>...</th>\n",
       "      <td>...</td>\n",
       "      <td>...</td>\n",
       "      <td>...</td>\n",
       "      <td>...</td>\n",
       "      <td>...</td>\n",
       "      <td>...</td>\n",
       "      <td>...</td>\n",
       "      <td>...</td>\n",
       "      <td>...</td>\n",
       "      <td>...</td>\n",
       "      <td>...</td>\n",
       "      <td>...</td>\n",
       "      <td>...</td>\n",
       "      <td>...</td>\n",
       "      <td>...</td>\n",
       "      <td>...</td>\n",
       "      <td>...</td>\n",
       "      <td>...</td>\n",
       "    </tr>\n",
       "    <tr>\n",
       "      <th>São Brás de Alportel</th>\n",
       "      <td>0.0</td>\n",
       "      <td>0.058552</td>\n",
       "      <td>0.093682</td>\n",
       "      <td>0.163944</td>\n",
       "      <td>0.234206</td>\n",
       "      <td>0.532819</td>\n",
       "      <td>0.690908</td>\n",
       "      <td>0.726039</td>\n",
       "      <td>0.784590</td>\n",
       "      <td>0.819721</td>\n",
       "      <td>0.907549</td>\n",
       "      <td>1.141755</td>\n",
       "      <td>1.428657</td>\n",
       "      <td>1.434512</td>\n",
       "      <td>1.434512</td>\n",
       "      <td>1.434512</td>\n",
       "      <td>1.434512</td>\n",
       "      <td>1.434512</td>\n",
       "    </tr>\n",
       "    <tr>\n",
       "      <th>Silves</th>\n",
       "      <td>0.0</td>\n",
       "      <td>1.531348</td>\n",
       "      <td>2.450156</td>\n",
       "      <td>4.287773</td>\n",
       "      <td>6.125390</td>\n",
       "      <td>13.935263</td>\n",
       "      <td>18.069902</td>\n",
       "      <td>18.988710</td>\n",
       "      <td>20.520058</td>\n",
       "      <td>21.438866</td>\n",
       "      <td>23.735888</td>\n",
       "      <td>29.861278</td>\n",
       "      <td>37.364881</td>\n",
       "      <td>37.518016</td>\n",
       "      <td>37.518016</td>\n",
       "      <td>37.518016</td>\n",
       "      <td>37.518016</td>\n",
       "      <td>37.518016</td>\n",
       "    </tr>\n",
       "    <tr>\n",
       "      <th>Tavira</th>\n",
       "      <td>0.0</td>\n",
       "      <td>0.580110</td>\n",
       "      <td>0.928177</td>\n",
       "      <td>1.624309</td>\n",
       "      <td>2.320442</td>\n",
       "      <td>5.279006</td>\n",
       "      <td>6.845304</td>\n",
       "      <td>7.193370</td>\n",
       "      <td>7.773481</td>\n",
       "      <td>8.121547</td>\n",
       "      <td>8.991713</td>\n",
       "      <td>11.312155</td>\n",
       "      <td>14.154696</td>\n",
       "      <td>14.212707</td>\n",
       "      <td>14.212707</td>\n",
       "      <td>14.212707</td>\n",
       "      <td>14.212707</td>\n",
       "      <td>14.212707</td>\n",
       "    </tr>\n",
       "    <tr>\n",
       "      <th>Vila do Bispo</th>\n",
       "      <td>0.0</td>\n",
       "      <td>0.935924</td>\n",
       "      <td>1.497478</td>\n",
       "      <td>2.620586</td>\n",
       "      <td>3.743694</td>\n",
       "      <td>8.516905</td>\n",
       "      <td>11.043899</td>\n",
       "      <td>11.605453</td>\n",
       "      <td>12.541376</td>\n",
       "      <td>13.102931</td>\n",
       "      <td>14.506816</td>\n",
       "      <td>18.250510</td>\n",
       "      <td>22.836536</td>\n",
       "      <td>22.930129</td>\n",
       "      <td>22.930129</td>\n",
       "      <td>22.930129</td>\n",
       "      <td>22.930129</td>\n",
       "      <td>22.930129</td>\n",
       "    </tr>\n",
       "    <tr>\n",
       "      <th>Vila Real de Santo António</th>\n",
       "      <td>0.0</td>\n",
       "      <td>0.219193</td>\n",
       "      <td>0.350709</td>\n",
       "      <td>0.613740</td>\n",
       "      <td>0.876772</td>\n",
       "      <td>1.994655</td>\n",
       "      <td>2.586476</td>\n",
       "      <td>2.717992</td>\n",
       "      <td>2.937185</td>\n",
       "      <td>3.068700</td>\n",
       "      <td>3.397490</td>\n",
       "      <td>4.274261</td>\n",
       "      <td>5.348307</td>\n",
       "      <td>5.370226</td>\n",
       "      <td>5.370226</td>\n",
       "      <td>5.370226</td>\n",
       "      <td>5.370226</td>\n",
       "      <td>5.370226</td>\n",
       "    </tr>\n",
       "  </tbody>\n",
       "</table>\n",
       "<p>278 rows × 18 columns</p>\n",
       "</div>"
      ],
      "text/plain": [
       "                            1995      1996      1997      1998      1999  \\\n",
       "Municipality                                                               \n",
       "Arouca                       0.0  0.000000  2.457613  4.505624  4.505624   \n",
       "Castelo de Paiva             0.0  0.000000  0.059363  0.108831  0.108831   \n",
       "Espinho                      0.0  0.000000  0.004374  0.008019  0.008019   \n",
       "Santa Maria da Feira         0.0  0.000000  0.040617  0.074464  0.074464   \n",
       "Oliveira de Azeméis          0.0  0.000000  0.068736  0.126015  0.126015   \n",
       "...                          ...       ...       ...       ...       ...   \n",
       "São Brás de Alportel         0.0  0.058552  0.093682  0.163944  0.234206   \n",
       "Silves                       0.0  1.531348  2.450156  4.287773  6.125390   \n",
       "Tavira                       0.0  0.580110  0.928177  1.624309  2.320442   \n",
       "Vila do Bispo                0.0  0.935924  1.497478  2.620586  3.743694   \n",
       "Vila Real de Santo António   0.0  0.219193  0.350709  0.613740  0.876772   \n",
       "\n",
       "                                 2000       2001       2002       2003  \\\n",
       "Municipality                                                             \n",
       "Arouca                       5.734430   5.734430   9.830452  22.118517   \n",
       "Castelo de Paiva             0.138513   0.138513   0.237451   0.534264   \n",
       "Espinho                      0.010206   0.010206   0.017496   0.039367   \n",
       "Santa Maria da Feira         0.094772   0.094772   0.162466   0.365549   \n",
       "Oliveira de Azeméis          0.160383   0.160383   0.274943   0.618621   \n",
       "...                               ...        ...        ...        ...   \n",
       "São Brás de Alportel         0.532819   0.690908   0.726039   0.784590   \n",
       "Silves                      13.935263  18.069902  18.988710  20.520058   \n",
       "Tavira                       5.279006   6.845304   7.193370   7.773481   \n",
       "Vila do Bispo                8.516905  11.043899  11.605453  12.541376   \n",
       "Vila Real de Santo António   1.994655   2.586476   2.717992   2.937185   \n",
       "\n",
       "                                 2004       2005       2006        2007  \\\n",
       "Municipality                                                              \n",
       "Arouca                      37.273797  51.609873  66.355551  122.880650   \n",
       "Castelo de Paiva             0.900333   1.246615   1.602791    2.968132   \n",
       "Espinho                      0.066340   0.091856   0.118100    0.218704   \n",
       "Santa Maria da Feira         0.616017   0.852947   1.096647    2.030827   \n",
       "Oliveira de Azeméis          1.042491   1.443449   1.855863    3.436784   \n",
       "...                               ...        ...        ...         ...   \n",
       "São Brás de Alportel         0.819721   0.907549   1.141755    1.428657   \n",
       "Silves                      21.438866  23.735888  29.861278   37.364881   \n",
       "Tavira                       8.121547   8.991713  11.312155   14.154696   \n",
       "Vila do Bispo               13.102931  14.506816  18.250510   22.836536   \n",
       "Vila Real de Santo António   3.068700   3.397490   4.274261    5.348307   \n",
       "\n",
       "                                  2008        2009        2010        2011  \\\n",
       "Municipality                                                                 \n",
       "Arouca                      143.360758  143.360758  143.360758  143.360758   \n",
       "Castelo de Paiva              3.462820    3.462820    3.462820    3.462820   \n",
       "Espinho                       0.255155    0.255155    0.255155    0.255155   \n",
       "Santa Maria da Feira          2.369298    2.369298    2.369298    2.369298   \n",
       "Oliveira de Azeméis           4.009581    4.009581    4.009581    4.009581   \n",
       "...                                ...         ...         ...         ...   \n",
       "São Brás de Alportel          1.434512    1.434512    1.434512    1.434512   \n",
       "Silves                       37.518016   37.518016   37.518016   37.518016   \n",
       "Tavira                       14.212707   14.212707   14.212707   14.212707   \n",
       "Vila do Bispo                22.930129   22.930129   22.930129   22.930129   \n",
       "Vila Real de Santo António    5.370226    5.370226    5.370226    5.370226   \n",
       "\n",
       "                                  2012  \n",
       "Municipality                            \n",
       "Arouca                      143.360758  \n",
       "Castelo de Paiva              3.462820  \n",
       "Espinho                       0.255155  \n",
       "Santa Maria da Feira          2.369298  \n",
       "Oliveira de Azeméis           4.009581  \n",
       "...                                ...  \n",
       "São Brás de Alportel          1.434512  \n",
       "Silves                       37.518016  \n",
       "Tavira                       14.212707  \n",
       "Vila do Bispo                22.930129  \n",
       "Vila Real de Santo António    5.370226  \n",
       "\n",
       "[278 rows x 18 columns]"
      ]
     },
     "execution_count": 224,
     "metadata": {},
     "output_type": "execute_result"
    }
   ],
   "source": [
    "cumulative_total_munic_adoption = munic_adoption.cumsum(axis=1)\n",
    "cumulative_total_munic_adoption"
   ]
  },
  {
   "cell_type": "markdown",
   "metadata": {},
   "source": [
    "Save file"
   ]
  },
  {
   "cell_type": "raw",
   "metadata": {},
   "source": [
    "file_cumulative_total_munic_adoption = \"./Final SBP adoption datasets/Total cumulative SBP adoption per municipality.xlsx\""
   ]
  },
  {
   "cell_type": "raw",
   "metadata": {},
   "source": [
    "cumulative_total_munic_adoption.to_excel(file_cumulative_total_munic_adoption)"
   ]
  },
  {
   "cell_type": "markdown",
   "metadata": {},
   "source": [
    "## Datasets for Portugal"
   ]
  },
  {
   "cell_type": "markdown",
   "metadata": {},
   "source": [
    "Dataset reporting for Portugal both the yearly adoption and the cumulative adoption"
   ]
  },
  {
   "cell_type": "code",
   "execution_count": 225,
   "metadata": {},
   "outputs": [],
   "source": [
    "portugal_adoption = pd.DataFrame(columns=cumulative_total_munic_adoption.columns)"
   ]
  },
  {
   "cell_type": "code",
   "execution_count": 226,
   "metadata": {},
   "outputs": [],
   "source": [
    "portugal_adoption.loc['Yearly adoption'] = munic_adoption.sum()\n",
    "portugal_adoption.loc['Total cumulative adoption'] = cumulative_total_munic_adoption.sum()"
   ]
  },
  {
   "cell_type": "code",
   "execution_count": 227,
   "metadata": {},
   "outputs": [
    {
     "data": {
      "text/html": [
       "<div>\n",
       "<style scoped>\n",
       "    .dataframe tbody tr th:only-of-type {\n",
       "        vertical-align: middle;\n",
       "    }\n",
       "\n",
       "    .dataframe tbody tr th {\n",
       "        vertical-align: top;\n",
       "    }\n",
       "\n",
       "    .dataframe thead th {\n",
       "        text-align: right;\n",
       "    }\n",
       "</style>\n",
       "<table border=\"1\" class=\"dataframe\">\n",
       "  <thead>\n",
       "    <tr style=\"text-align: right;\">\n",
       "      <th></th>\n",
       "      <th>1995</th>\n",
       "      <th>1996</th>\n",
       "      <th>1997</th>\n",
       "      <th>1998</th>\n",
       "      <th>1999</th>\n",
       "      <th>2000</th>\n",
       "      <th>2001</th>\n",
       "      <th>2002</th>\n",
       "      <th>2003</th>\n",
       "      <th>2004</th>\n",
       "      <th>2005</th>\n",
       "      <th>2006</th>\n",
       "      <th>2007</th>\n",
       "      <th>2008</th>\n",
       "      <th>2009</th>\n",
       "      <th>2010</th>\n",
       "      <th>2011</th>\n",
       "      <th>2012</th>\n",
       "    </tr>\n",
       "  </thead>\n",
       "  <tbody>\n",
       "    <tr>\n",
       "      <th>Yearly adoption</th>\n",
       "      <td>0.0</td>\n",
       "      <td>1682.0</td>\n",
       "      <td>1953.5</td>\n",
       "      <td>3968.0</td>\n",
       "      <td>3930.5</td>\n",
       "      <td>3922.5</td>\n",
       "      <td>5327.0</td>\n",
       "      <td>7839.0</td>\n",
       "      <td>10789.0</td>\n",
       "      <td>12419.0</td>\n",
       "      <td>8081.0</td>\n",
       "      <td>7431.0</td>\n",
       "      <td>9993.0</td>\n",
       "      <td>5967.0</td>\n",
       "      <td>12585.72</td>\n",
       "      <td>15485.48</td>\n",
       "      <td>9571.6</td>\n",
       "      <td>14136.67</td>\n",
       "    </tr>\n",
       "    <tr>\n",
       "      <th>Total cumulative adoption</th>\n",
       "      <td>0.0</td>\n",
       "      <td>1682.0</td>\n",
       "      <td>3635.5</td>\n",
       "      <td>7603.5</td>\n",
       "      <td>11534.0</td>\n",
       "      <td>15456.5</td>\n",
       "      <td>20783.5</td>\n",
       "      <td>28622.5</td>\n",
       "      <td>39411.5</td>\n",
       "      <td>51830.5</td>\n",
       "      <td>59911.5</td>\n",
       "      <td>67342.5</td>\n",
       "      <td>77335.5</td>\n",
       "      <td>83302.5</td>\n",
       "      <td>95888.22</td>\n",
       "      <td>111373.70</td>\n",
       "      <td>120945.3</td>\n",
       "      <td>135081.97</td>\n",
       "    </tr>\n",
       "  </tbody>\n",
       "</table>\n",
       "</div>"
      ],
      "text/plain": [
       "                           1995    1996    1997    1998     1999     2000  \\\n",
       "Yearly adoption             0.0  1682.0  1953.5  3968.0   3930.5   3922.5   \n",
       "Total cumulative adoption   0.0  1682.0  3635.5  7603.5  11534.0  15456.5   \n",
       "\n",
       "                              2001     2002     2003     2004     2005  \\\n",
       "Yearly adoption             5327.0   7839.0  10789.0  12419.0   8081.0   \n",
       "Total cumulative adoption  20783.5  28622.5  39411.5  51830.5  59911.5   \n",
       "\n",
       "                              2006     2007     2008      2009       2010  \\\n",
       "Yearly adoption             7431.0   9993.0   5967.0  12585.72   15485.48   \n",
       "Total cumulative adoption  67342.5  77335.5  83302.5  95888.22  111373.70   \n",
       "\n",
       "                               2011       2012  \n",
       "Yearly adoption              9571.6   14136.67  \n",
       "Total cumulative adoption  120945.3  135081.97  "
      ]
     },
     "execution_count": 227,
     "metadata": {},
     "output_type": "execute_result"
    }
   ],
   "source": [
    "portugal_adoption"
   ]
  },
  {
   "cell_type": "markdown",
   "metadata": {},
   "source": [
    "Save file"
   ]
  },
  {
   "cell_type": "raw",
   "metadata": {},
   "source": [
    "file_portugal_adoption = \"./Final SBP adoption datasets/SBP adoption in Portugal.xlsx\""
   ]
  },
  {
   "cell_type": "raw",
   "metadata": {},
   "source": [
    "portugal_adoption.to_excel(file_portugal_adoption)"
   ]
  },
  {
   "cell_type": "code",
   "execution_count": 228,
   "metadata": {},
   "outputs": [
    {
     "data": {
      "text/plain": [
       "<AxesSubplot:>"
      ]
     },
     "execution_count": 228,
     "metadata": {},
     "output_type": "execute_result"
    },
    {
     "data": {
      "image/png": "[encoded data removed]",
      "text/plain": [
       "<Figure size 1080x432 with 1 Axes>"
      ]
     },
     "metadata": {
      "needs_background": "light"
     },
     "output_type": "display_data"
    }
   ],
   "source": [
    "portugal_adoption.loc['Yearly adoption'].plot(figsize=(15,6), xticks=portugal_adoption.columns, grid=True)"
   ]
  },
  {
   "cell_type": "markdown",
   "metadata": {},
   "source": [
    "# Datasets merging for machine learning models"
   ]
  },
  {
   "cell_type": "markdown",
   "metadata": {},
   "source": [
    "To train the machine learnig models, we need a dataset having one row for each municipality for each year. The label is the adoption in that year. The features are all the datasets contructed above and refer to the previous year."
   ]
  },
  {
   "cell_type": "code",
   "execution_count": 229,
   "metadata": {},
   "outputs": [],
   "source": [
    "def multiindex_from_dataframe_columns(df, col_name, previous_year=False):\n",
    "    \"\"\"\n",
    "    Function to create a multiindex from a dataframe, with the columns of the dataframe becoming the second level of the \n",
    "    multiindex.\n",
    "    \"\"\"\n",
    "    keys = df.index.tolist()\n",
    "    years = [y for y in df.columns.tolist() if y !=1995]\n",
    "    mi = pd.MultiIndex.from_product([keys, years])\n",
    "    mi = mi.to_frame()\n",
    "    mi.drop(mi.columns, axis=1, inplace=True)\n",
    "    for key in keys:\n",
    "        for year in years:\n",
    "            if previous_year:\n",
    "                mi.loc[(key, year), col_name] = df.loc[key, year-1]\n",
    "            else:\n",
    "                mi.loc[(key, year), col_name] = df.loc[key, year]\n",
    "    return mi"
   ]
  },
  {
   "cell_type": "code",
   "execution_count": 230,
   "metadata": {},
   "outputs": [],
   "source": [
    "labels = multiindex_from_dataframe_columns(munic_adoption, 'adoption_in_year')"
   ]
  },
  {
   "cell_type": "markdown",
   "metadata": {},
   "source": [
    "## Add features"
   ]
  },
  {
   "cell_type": "markdown",
   "metadata": {},
   "source": [
    "### Total cumulative adoption previous year municipality"
   ]
  },
  {
   "cell_type": "markdown",
   "metadata": {},
   "source": [
    "The cumulative adoptions are including the year of the columns, therefore need to be added considering this (previous_year=True)"
   ]
  },
  {
   "cell_type": "code",
   "execution_count": 231,
   "metadata": {},
   "outputs": [],
   "source": [
    "tot_cum_adoption_previous_year_munic = multiindex_from_dataframe_columns(cumulative_total_munic_adoption,\n",
    "                                                                        'tot_cumul_adoption_pr_y_munic',\n",
    "                                                                        previous_year=True)"
   ]
  },
  {
   "cell_type": "markdown",
   "metadata": {},
   "source": [
    "### Concatenate datasets with yearly values"
   ]
  },
  {
   "cell_type": "code",
   "execution_count": 232,
   "metadata": {},
   "outputs": [],
   "source": [
    "datasets = [labels, tot_cum_adoption_previous_year_munic]"
   ]
  },
  {
   "cell_type": "code",
   "execution_count": 233,
   "metadata": {},
   "outputs": [],
   "source": [
    "SBP_adoption_final = pd.concat(datasets, axis=1)"
   ]
  },
  {
   "cell_type": "code",
   "execution_count": 234,
   "metadata": {},
   "outputs": [],
   "source": [
    "SBP_adoption_final.index.rename(['Municipality', 'Year'], inplace=True)"
   ]
  },
  {
   "cell_type": "markdown",
   "metadata": {},
   "source": [
    "### Add Portugal cumulative adoption until the previous year"
   ]
  },
  {
   "cell_type": "code",
   "execution_count": 235,
   "metadata": {},
   "outputs": [],
   "source": [
    "from itertools import cycle\n",
    "\n",
    "def add_col_depending_on_year_not_on_munic(final_dataset, df_rows_to_append, cols_names):\n",
    "    values = df_rows_to_append.transpose().to_numpy()\n",
    "    values = np.reshape(values, (len(values), 1))\n",
    "    yearly_values = cycle(values)\n",
    "    final_dataset[cols_names] = [next(yearly_values) for i in range(len(final_dataset))]"
   ]
  },
  {
   "cell_type": "code",
   "execution_count": 237,
   "metadata": {},
   "outputs": [],
   "source": [
    "cols_to_append = portugal_adoption.loc['Total cumulative adoption', 1995:2011]\n",
    "cols_names = ['tot_cumul_adoption_pr_y_port']\n",
    "\n",
    "add_col_depending_on_year_not_on_munic(SBP_adoption_final, cols_to_append, cols_names)"
   ]
  },
  {
   "cell_type": "markdown",
   "metadata": {},
   "source": [
    "## Remove São João da Madeira (since no permanent pastures)"
   ]
  },
  {
   "cell_type": "code",
   "execution_count": 238,
   "metadata": {},
   "outputs": [],
   "source": [
    "to_drop = ['São João da Madeira']\n",
    "SBP_adoption_final.drop(to_drop, level='Municipality', inplace=True)"
   ]
  },
  {
   "cell_type": "markdown",
   "metadata": {},
   "source": [
    "# Save final dataset"
   ]
  },
  {
   "cell_type": "code",
   "execution_count": 239,
   "metadata": {},
   "outputs": [
    {
     "data": {
      "text/html": [
       "<div>\n",
       "<style scoped>\n",
       "    .dataframe tbody tr th:only-of-type {\n",
       "        vertical-align: middle;\n",
       "    }\n",
       "\n",
       "    .dataframe tbody tr th {\n",
       "        vertical-align: top;\n",
       "    }\n",
       "\n",
       "    .dataframe thead th {\n",
       "        text-align: right;\n",
       "    }\n",
       "</style>\n",
       "<table border=\"1\" class=\"dataframe\">\n",
       "  <thead>\n",
       "    <tr style=\"text-align: right;\">\n",
       "      <th></th>\n",
       "      <th></th>\n",
       "      <th>adoption_in_year</th>\n",
       "      <th>tot_cumul_adoption_pr_y_munic</th>\n",
       "      <th>tot_cumul_adoption_pr_y_port</th>\n",
       "    </tr>\n",
       "    <tr>\n",
       "      <th>Municipality</th>\n",
       "      <th>Year</th>\n",
       "      <th></th>\n",
       "      <th></th>\n",
       "      <th></th>\n",
       "    </tr>\n",
       "  </thead>\n",
       "  <tbody>\n",
       "    <tr>\n",
       "      <th rowspan=\"17\" valign=\"top\">Arouca</th>\n",
       "      <th>1996</th>\n",
       "      <td>0.000000</td>\n",
       "      <td>0.000000</td>\n",
       "      <td>0.00</td>\n",
       "    </tr>\n",
       "    <tr>\n",
       "      <th>1997</th>\n",
       "      <td>2.457613</td>\n",
       "      <td>0.000000</td>\n",
       "      <td>1682.00</td>\n",
       "    </tr>\n",
       "    <tr>\n",
       "      <th>1998</th>\n",
       "      <td>2.048011</td>\n",
       "      <td>2.457613</td>\n",
       "      <td>3635.50</td>\n",
       "    </tr>\n",
       "    <tr>\n",
       "      <th>1999</th>\n",
       "      <td>0.000000</td>\n",
       "      <td>4.505624</td>\n",
       "      <td>7603.50</td>\n",
       "    </tr>\n",
       "    <tr>\n",
       "      <th>2000</th>\n",
       "      <td>1.228806</td>\n",
       "      <td>4.505624</td>\n",
       "      <td>11534.00</td>\n",
       "    </tr>\n",
       "    <tr>\n",
       "      <th>2001</th>\n",
       "      <td>0.000000</td>\n",
       "      <td>5.734430</td>\n",
       "      <td>15456.50</td>\n",
       "    </tr>\n",
       "    <tr>\n",
       "      <th>2002</th>\n",
       "      <td>4.096022</td>\n",
       "      <td>5.734430</td>\n",
       "      <td>20783.50</td>\n",
       "    </tr>\n",
       "    <tr>\n",
       "      <th>2003</th>\n",
       "      <td>12.288065</td>\n",
       "      <td>9.830452</td>\n",
       "      <td>28622.50</td>\n",
       "    </tr>\n",
       "    <tr>\n",
       "      <th>2004</th>\n",
       "      <td>15.155280</td>\n",
       "      <td>22.118517</td>\n",
       "      <td>39411.50</td>\n",
       "    </tr>\n",
       "    <tr>\n",
       "      <th>2005</th>\n",
       "      <td>14.336076</td>\n",
       "      <td>37.273797</td>\n",
       "      <td>51830.50</td>\n",
       "    </tr>\n",
       "    <tr>\n",
       "      <th>2006</th>\n",
       "      <td>14.745678</td>\n",
       "      <td>51.609873</td>\n",
       "      <td>59911.50</td>\n",
       "    </tr>\n",
       "    <tr>\n",
       "      <th>2007</th>\n",
       "      <td>56.525099</td>\n",
       "      <td>66.355551</td>\n",
       "      <td>67342.50</td>\n",
       "    </tr>\n",
       "    <tr>\n",
       "      <th>2008</th>\n",
       "      <td>20.480108</td>\n",
       "      <td>122.880650</td>\n",
       "      <td>77335.50</td>\n",
       "    </tr>\n",
       "    <tr>\n",
       "      <th>2009</th>\n",
       "      <td>0.000000</td>\n",
       "      <td>143.360758</td>\n",
       "      <td>83302.50</td>\n",
       "    </tr>\n",
       "    <tr>\n",
       "      <th>2010</th>\n",
       "      <td>0.000000</td>\n",
       "      <td>143.360758</td>\n",
       "      <td>95888.22</td>\n",
       "    </tr>\n",
       "    <tr>\n",
       "      <th>2011</th>\n",
       "      <td>0.000000</td>\n",
       "      <td>143.360758</td>\n",
       "      <td>111373.70</td>\n",
       "    </tr>\n",
       "    <tr>\n",
       "      <th>2012</th>\n",
       "      <td>0.000000</td>\n",
       "      <td>143.360758</td>\n",
       "      <td>120945.30</td>\n",
       "    </tr>\n",
       "  </tbody>\n",
       "</table>\n",
       "</div>"
      ],
      "text/plain": [
       "                   adoption_in_year  tot_cumul_adoption_pr_y_munic  \\\n",
       "Municipality Year                                                    \n",
       "Arouca       1996          0.000000                       0.000000   \n",
       "             1997          2.457613                       0.000000   \n",
       "             1998          2.048011                       2.457613   \n",
       "             1999          0.000000                       4.505624   \n",
       "             2000          1.228806                       4.505624   \n",
       "             2001          0.000000                       5.734430   \n",
       "             2002          4.096022                       5.734430   \n",
       "             2003         12.288065                       9.830452   \n",
       "             2004         15.155280                      22.118517   \n",
       "             2005         14.336076                      37.273797   \n",
       "             2006         14.745678                      51.609873   \n",
       "             2007         56.525099                      66.355551   \n",
       "             2008         20.480108                     122.880650   \n",
       "             2009          0.000000                     143.360758   \n",
       "             2010          0.000000                     143.360758   \n",
       "             2011          0.000000                     143.360758   \n",
       "             2012          0.000000                     143.360758   \n",
       "\n",
       "                   tot_cumul_adoption_pr_y_port  \n",
       "Municipality Year                                \n",
       "Arouca       1996                          0.00  \n",
       "             1997                       1682.00  \n",
       "             1998                       3635.50  \n",
       "             1999                       7603.50  \n",
       "             2000                      11534.00  \n",
       "             2001                      15456.50  \n",
       "             2002                      20783.50  \n",
       "             2003                      28622.50  \n",
       "             2004                      39411.50  \n",
       "             2005                      51830.50  \n",
       "             2006                      59911.50  \n",
       "             2007                      67342.50  \n",
       "             2008                      77335.50  \n",
       "             2009                      83302.50  \n",
       "             2010                      95888.22  \n",
       "             2011                     111373.70  \n",
       "             2012                     120945.30  "
      ]
     },
     "execution_count": 239,
     "metadata": {},
     "output_type": "execute_result"
    }
   ],
   "source": [
    "SBP_adoption_final.head(17)"
   ]
  },
  {
   "cell_type": "code",
   "execution_count": 240,
   "metadata": {},
   "outputs": [],
   "source": [
    "SBP_adoption_final.to_csv(out_file)"
   ]
  },
  {
   "cell_type": "markdown",
   "metadata": {},
   "source": [
    "# Create datasets with relative values of adoption referred to permanent pastures area"
   ]
  },
  {
   "cell_type": "code",
   "execution_count": 243,
   "metadata": {},
   "outputs": [],
   "source": [
    "path_to_pasture_area = \"../census/extracted/municipalities_reference_permanent_pastures_area.csv\""
   ]
  },
  {
   "cell_type": "code",
   "execution_count": 244,
   "metadata": {},
   "outputs": [],
   "source": [
    "pasture_area_munic = pd.read_csv(path_to_pasture_area, index_col='Municipality')"
   ]
  },
  {
   "cell_type": "code",
   "execution_count": 245,
   "metadata": {
    "scrolled": true
   },
   "outputs": [
    {
     "data": {
      "text/html": [
       "<div>\n",
       "<style scoped>\n",
       "    .dataframe tbody tr th:only-of-type {\n",
       "        vertical-align: middle;\n",
       "    }\n",
       "\n",
       "    .dataframe tbody tr th {\n",
       "        vertical-align: top;\n",
       "    }\n",
       "\n",
       "    .dataframe thead th {\n",
       "        text-align: right;\n",
       "    }\n",
       "</style>\n",
       "<table border=\"1\" class=\"dataframe\">\n",
       "  <thead>\n",
       "    <tr style=\"text-align: right;\">\n",
       "      <th></th>\n",
       "      <th>pastures_area_munic_ha</th>\n",
       "    </tr>\n",
       "    <tr>\n",
       "      <th>Municipality</th>\n",
       "      <th></th>\n",
       "    </tr>\n",
       "  </thead>\n",
       "  <tbody>\n",
       "    <tr>\n",
       "      <th>Arouca</th>\n",
       "      <td>2602.0</td>\n",
       "    </tr>\n",
       "    <tr>\n",
       "      <th>Castelo de Paiva</th>\n",
       "      <td>74.0</td>\n",
       "    </tr>\n",
       "  </tbody>\n",
       "</table>\n",
       "</div>"
      ],
      "text/plain": [
       "                  pastures_area_munic_ha\n",
       "Municipality                            \n",
       "Arouca                            2602.0\n",
       "Castelo de Paiva                    74.0"
      ]
     },
     "execution_count": 245,
     "metadata": {},
     "output_type": "execute_result"
    }
   ],
   "source": [
    "pasture_area_munic.head(2)"
   ]
  },
  {
   "cell_type": "code",
   "execution_count": 246,
   "metadata": {},
   "outputs": [],
   "source": [
    "cols = SBP_adoption_final.columns"
   ]
  },
  {
   "cell_type": "code",
   "execution_count": 247,
   "metadata": {},
   "outputs": [],
   "source": [
    "SBP_perc_adoption_final = pd.DataFrame(index=SBP_adoption_final.index, columns=cols)"
   ]
  },
  {
   "cell_type": "markdown",
   "metadata": {},
   "source": [
    "### Create and save dataset with % adoption in munic for ABM"
   ]
  },
  {
   "cell_type": "code",
   "execution_count": 248,
   "metadata": {},
   "outputs": [],
   "source": [
    "munic_perc_yearly_adoption = munic_adoption.divide(\n",
    "    pasture_area_munic['pastures_area_munic_ha'], axis=0, level='Municipality'\n",
    ")"
   ]
  },
  {
   "cell_type": "code",
   "execution_count": 249,
   "metadata": {},
   "outputs": [],
   "source": [
    "munic_perc_yearly_adoption[2013] = 0.\n",
    "munic_perc_yearly_adoption[2014] = 0."
   ]
  },
  {
   "cell_type": "code",
   "execution_count": 250,
   "metadata": {},
   "outputs": [],
   "source": [
    "out_path_munic_perc_yearly_adoption = \"./Final SBP adoption datasets/% yearly SBP adoption per municipality.csv\""
   ]
  },
  {
   "cell_type": "code",
   "execution_count": 251,
   "metadata": {},
   "outputs": [],
   "source": [
    "munic_perc_yearly_adoption.to_csv(out_path_munic_perc_yearly_adoption)"
   ]
  },
  {
   "cell_type": "markdown",
   "metadata": {},
   "source": [
    "### Add columns on single municipality"
   ]
  },
  {
   "cell_type": "code",
   "execution_count": 254,
   "metadata": {},
   "outputs": [],
   "source": [
    "cols_munic = ['adoption_in_year', 'tot_cumul_adoption_pr_y_munic']"
   ]
  },
  {
   "cell_type": "code",
   "execution_count": 255,
   "metadata": {},
   "outputs": [],
   "source": [
    "SBP_perc_adoption_final[cols_munic] = SBP_adoption_final[cols_munic].divide(\n",
    "    pasture_area_munic['pastures_area_munic_ha'], axis=0, level='Municipality'\n",
    ")"
   ]
  },
  {
   "cell_type": "markdown",
   "metadata": {},
   "source": [
    "Checks"
   ]
  },
  {
   "cell_type": "code",
   "execution_count": 256,
   "metadata": {
    "scrolled": true
   },
   "outputs": [
    {
     "data": {
      "text/plain": [
       "True"
      ]
     },
     "execution_count": 256,
     "metadata": {},
     "output_type": "execute_result"
    }
   ],
   "source": [
    "all(SBP_perc_adoption_final.loc['Grândola', 'tot_cumul_adoption_pr_y_munic'] == (\n",
    "    SBP_adoption_final.loc['Grândola', 'tot_cumul_adoption_pr_y_munic'] / pasture_area_munic.loc['Grândola'].values\n",
    "))"
   ]
  },
  {
   "cell_type": "code",
   "execution_count": 257,
   "metadata": {
    "scrolled": true
   },
   "outputs": [
    {
     "data": {
      "text/plain": [
       "Index([], dtype='object', name='Municipality')"
      ]
     },
     "execution_count": 257,
     "metadata": {},
     "output_type": "execute_result"
    }
   ],
   "source": [
    "#Any NaN?\n",
    "SBP_perc_adoption_final[SBP_perc_adoption_final[cols_munic].isnull().any(axis=1)].index.get_level_values('Municipality').unique()"
   ]
  },
  {
   "cell_type": "markdown",
   "metadata": {},
   "source": [
    "### Add columns for Portugal"
   ]
  },
  {
   "cell_type": "code",
   "execution_count": 258,
   "metadata": {},
   "outputs": [],
   "source": [
    "pasture_area_port = sum(pasture_area_munic['pastures_area_munic_ha'])"
   ]
  },
  {
   "cell_type": "code",
   "execution_count": 259,
   "metadata": {},
   "outputs": [],
   "source": [
    "cols_port = [col for col in cols if 'port' in col]"
   ]
  },
  {
   "cell_type": "code",
   "execution_count": 260,
   "metadata": {},
   "outputs": [],
   "source": [
    "SBP_perc_adoption_final[cols_port] = SBP_adoption_final[cols_port].divide(\n",
    "    pasture_area_port, axis=0, level='Municipality'\n",
    ")"
   ]
  },
  {
   "cell_type": "markdown",
   "metadata": {},
   "source": [
    "Checks"
   ]
  },
  {
   "cell_type": "code",
   "execution_count": 261,
   "metadata": {},
   "outputs": [
    {
     "data": {
      "text/plain": [
       "True"
      ]
     },
     "execution_count": 261,
     "metadata": {},
     "output_type": "execute_result"
    }
   ],
   "source": [
    "all(SBP_perc_adoption_final.loc[:, 'tot_cumul_adoption_pr_y_port'] == (\n",
    "    SBP_adoption_final.loc[:, 'tot_cumul_adoption_pr_y_port'] / pasture_area_port\n",
    "))"
   ]
  },
  {
   "cell_type": "markdown",
   "metadata": {},
   "source": [
    "#### Final check: are there values over 1?"
   ]
  },
  {
   "cell_type": "code",
   "execution_count": 262,
   "metadata": {
    "scrolled": true
   },
   "outputs": [
    {
     "data": {
      "text/plain": [
       "Index([], dtype='object', name='Municipality')"
      ]
     },
     "execution_count": 262,
     "metadata": {},
     "output_type": "execute_result"
    }
   ],
   "source": [
    "SBP_perc_adoption_final.loc[SBP_perc_adoption_final['tot_cumul_adoption_pr_y_munic'] > 1].index.get_level_values('Municipality').unique()"
   ]
  },
  {
   "cell_type": "markdown",
   "metadata": {},
   "source": [
    "No more values over 1"
   ]
  },
  {
   "cell_type": "code",
   "execution_count": 263,
   "metadata": {},
   "outputs": [
    {
     "data": {
      "text/plain": [
       "[]"
      ]
     },
     "execution_count": 263,
     "metadata": {},
     "output_type": "execute_result"
    }
   ],
   "source": [
    "rows_over_1 = SBP_perc_adoption_final.loc[SBP_perc_adoption_final['tot_cumul_adoption_pr_y_munic'] > 1]\n",
    "munic_over_1 = rows_over_1.index.get_level_values(0).unique().to_list()\n",
    "munic_over_1"
   ]
  },
  {
   "cell_type": "code",
   "execution_count": 264,
   "metadata": {},
   "outputs": [
    {
     "data": {
      "text/plain": [
       "['Vagos', 'Tomar', 'Alcochete']"
      ]
     },
     "execution_count": 264,
     "metadata": {},
     "output_type": "execute_result"
    }
   ],
   "source": [
    "rows_over_05 = SBP_perc_adoption_final.loc[SBP_perc_adoption_final['tot_cumul_adoption_pr_y_munic'] > 0.5]\n",
    "munic_over_05 = rows_over_05.index.get_level_values(0).unique().to_list()\n",
    "munic_over_05"
   ]
  },
  {
   "cell_type": "code",
   "execution_count": 265,
   "metadata": {
    "scrolled": true
   },
   "outputs": [
    {
     "data": {
      "text/html": [
       "<div>\n",
       "<style scoped>\n",
       "    .dataframe tbody tr th:only-of-type {\n",
       "        vertical-align: middle;\n",
       "    }\n",
       "\n",
       "    .dataframe tbody tr th {\n",
       "        vertical-align: top;\n",
       "    }\n",
       "\n",
       "    .dataframe thead th {\n",
       "        text-align: right;\n",
       "    }\n",
       "</style>\n",
       "<table border=\"1\" class=\"dataframe\">\n",
       "  <thead>\n",
       "    <tr style=\"text-align: right;\">\n",
       "      <th></th>\n",
       "      <th></th>\n",
       "      <th>adoption_in_year</th>\n",
       "      <th>tot_cumul_adoption_pr_y_munic</th>\n",
       "      <th>tot_cumul_adoption_pr_y_port</th>\n",
       "    </tr>\n",
       "    <tr>\n",
       "      <th>Municipality</th>\n",
       "      <th>Year</th>\n",
       "      <th></th>\n",
       "      <th></th>\n",
       "      <th></th>\n",
       "    </tr>\n",
       "  </thead>\n",
       "  <tbody>\n",
       "    <tr>\n",
       "      <th rowspan=\"5\" valign=\"top\">Vagos</th>\n",
       "      <th>2008</th>\n",
       "      <td>0.129313</td>\n",
       "      <td>0.775880</td>\n",
       "      <td>0.044921</td>\n",
       "    </tr>\n",
       "    <tr>\n",
       "      <th>2009</th>\n",
       "      <td>0.000000</td>\n",
       "      <td>0.905193</td>\n",
       "      <td>0.048387</td>\n",
       "    </tr>\n",
       "    <tr>\n",
       "      <th>2010</th>\n",
       "      <td>0.000000</td>\n",
       "      <td>0.905193</td>\n",
       "      <td>0.055698</td>\n",
       "    </tr>\n",
       "    <tr>\n",
       "      <th>2011</th>\n",
       "      <td>0.000000</td>\n",
       "      <td>0.905193</td>\n",
       "      <td>0.064693</td>\n",
       "    </tr>\n",
       "    <tr>\n",
       "      <th>2012</th>\n",
       "      <td>0.000000</td>\n",
       "      <td>0.905193</td>\n",
       "      <td>0.070253</td>\n",
       "    </tr>\n",
       "    <tr>\n",
       "      <th rowspan=\"9\" valign=\"top\">Tomar</th>\n",
       "      <th>2004</th>\n",
       "      <td>0.101392</td>\n",
       "      <td>0.521869</td>\n",
       "      <td>0.022893</td>\n",
       "    </tr>\n",
       "    <tr>\n",
       "      <th>2005</th>\n",
       "      <td>0.142147</td>\n",
       "      <td>0.623260</td>\n",
       "      <td>0.030106</td>\n",
       "    </tr>\n",
       "    <tr>\n",
       "      <th>2006</th>\n",
       "      <td>0.040755</td>\n",
       "      <td>0.765408</td>\n",
       "      <td>0.034800</td>\n",
       "    </tr>\n",
       "    <tr>\n",
       "      <th>2007</th>\n",
       "      <td>0.067594</td>\n",
       "      <td>0.806163</td>\n",
       "      <td>0.039117</td>\n",
       "    </tr>\n",
       "    <tr>\n",
       "      <th>2008</th>\n",
       "      <td>0.020875</td>\n",
       "      <td>0.873757</td>\n",
       "      <td>0.044921</td>\n",
       "    </tr>\n",
       "    <tr>\n",
       "      <th>2009</th>\n",
       "      <td>0.000000</td>\n",
       "      <td>0.894632</td>\n",
       "      <td>0.048387</td>\n",
       "    </tr>\n",
       "    <tr>\n",
       "      <th>2010</th>\n",
       "      <td>0.000000</td>\n",
       "      <td>0.894632</td>\n",
       "      <td>0.055698</td>\n",
       "    </tr>\n",
       "    <tr>\n",
       "      <th>2011</th>\n",
       "      <td>0.000000</td>\n",
       "      <td>0.894632</td>\n",
       "      <td>0.064693</td>\n",
       "    </tr>\n",
       "    <tr>\n",
       "      <th>2012</th>\n",
       "      <td>0.000000</td>\n",
       "      <td>0.894632</td>\n",
       "      <td>0.070253</td>\n",
       "    </tr>\n",
       "    <tr>\n",
       "      <th>Alcochete</th>\n",
       "      <th>2012</th>\n",
       "      <td>0.197347</td>\n",
       "      <td>0.526093</td>\n",
       "      <td>0.070253</td>\n",
       "    </tr>\n",
       "  </tbody>\n",
       "</table>\n",
       "</div>"
      ],
      "text/plain": [
       "                   adoption_in_year  tot_cumul_adoption_pr_y_munic  \\\n",
       "Municipality Year                                                    \n",
       "Vagos        2008          0.129313                       0.775880   \n",
       "             2009          0.000000                       0.905193   \n",
       "             2010          0.000000                       0.905193   \n",
       "             2011          0.000000                       0.905193   \n",
       "             2012          0.000000                       0.905193   \n",
       "Tomar        2004          0.101392                       0.521869   \n",
       "             2005          0.142147                       0.623260   \n",
       "             2006          0.040755                       0.765408   \n",
       "             2007          0.067594                       0.806163   \n",
       "             2008          0.020875                       0.873757   \n",
       "             2009          0.000000                       0.894632   \n",
       "             2010          0.000000                       0.894632   \n",
       "             2011          0.000000                       0.894632   \n",
       "             2012          0.000000                       0.894632   \n",
       "Alcochete    2012          0.197347                       0.526093   \n",
       "\n",
       "                   tot_cumul_adoption_pr_y_port  \n",
       "Municipality Year                                \n",
       "Vagos        2008                      0.044921  \n",
       "             2009                      0.048387  \n",
       "             2010                      0.055698  \n",
       "             2011                      0.064693  \n",
       "             2012                      0.070253  \n",
       "Tomar        2004                      0.022893  \n",
       "             2005                      0.030106  \n",
       "             2006                      0.034800  \n",
       "             2007                      0.039117  \n",
       "             2008                      0.044921  \n",
       "             2009                      0.048387  \n",
       "             2010                      0.055698  \n",
       "             2011                      0.064693  \n",
       "             2012                      0.070253  \n",
       "Alcochete    2012                      0.070253  "
      ]
     },
     "execution_count": 265,
     "metadata": {},
     "output_type": "execute_result"
    }
   ],
   "source": [
    "SBP_perc_adoption_final.loc[SBP_perc_adoption_final['tot_cumul_adoption_pr_y_munic'] > 0.5]"
   ]
  },
  {
   "cell_type": "code",
   "execution_count": 266,
   "metadata": {},
   "outputs": [
    {
     "data": {
      "text/plain": [
       "150"
      ]
     },
     "execution_count": 266,
     "metadata": {},
     "output_type": "execute_result"
    }
   ],
   "source": [
    "len(SBP_perc_adoption_final.loc[(SBP_perc_adoption_final == 0).all(axis=1)])"
   ]
  },
  {
   "cell_type": "markdown",
   "metadata": {},
   "source": [
    "## Save file adoption percentual"
   ]
  },
  {
   "cell_type": "code",
   "execution_count": 267,
   "metadata": {},
   "outputs": [],
   "source": [
    "SBP_perc_adoption_final.to_csv(out_path_adoption_percentage)"
   ]
  },
  {
   "cell_type": "markdown",
   "metadata": {},
   "source": [
    "# Save datasets for ABM validation"
   ]
  },
  {
   "cell_type": "markdown",
   "metadata": {},
   "source": [
    "#### Portugal level"
   ]
  },
  {
   "cell_type": "code",
   "execution_count": 268,
   "metadata": {},
   "outputs": [],
   "source": [
    "out_path_port_adoption = \"./Final SBP adoption datasets/For ABM validation/SBP yearly adoption - Portugal.csv\"\n",
    "portugal_adoption.loc['Yearly adoption'].to_csv(out_path_port_adoption)"
   ]
  },
  {
   "cell_type": "markdown",
   "metadata": {},
   "source": [
    "#### Municipality level"
   ]
  },
  {
   "cell_type": "code",
   "execution_count": 269,
   "metadata": {},
   "outputs": [],
   "source": [
    "tot_cumul_adoption_munic = multiindex_from_dataframe_columns(cumulative_total_munic_adoption, \n",
    "                                                             'tot_cumul_adoption_until_year_ha',\n",
    "                                                              previous_year=False)"
   ]
  },
  {
   "cell_type": "code",
   "execution_count": 270,
   "metadata": {},
   "outputs": [],
   "source": [
    "munic_adoption = pd.concat([SBP_perc_adoption_final['adoption_in_year'],\n",
    "                            SBP_adoption_final['adoption_in_year'],\n",
    "                            tot_cumul_adoption_munic],\n",
    "                           axis=1)\n",
    "munic_adoption.columns = ['adoption_in_year', 'adoption_in_year_ha', 'tot_cumul_adoption_until_year_ha']\n",
    "munic_adoption.index.names = ['Municipality', 'Year']"
   ]
  },
  {
   "cell_type": "code",
   "execution_count": 271,
   "metadata": {},
   "outputs": [],
   "source": [
    "out_path_munic_adoption = \"./Final SBP adoption datasets/For ABM validation/SBP yearly adoption - Municipalities.csv\"\n",
    "munic_adoption.to_csv(out_path_munic_adoption)"
   ]
  }
 ],
 "metadata": {
  "kernelspec": {
   "display_name": "SBP_munic_data_manipulation",
   "language": "python",
   "name": "sbp_munic_data_manipulation"
  },
  "language_info": {
   "codemirror_mode": {
    "name": "ipython",
    "version": 3
   },
   "file_extension": ".py",
   "mimetype": "text/x-python",
   "name": "python",
   "nbconvert_exporter": "python",
   "pygments_lexer": "ipython3",
   "version": "3.7.7"
  }
 },
 "nbformat": 4,
 "nbformat_minor": 4
}
