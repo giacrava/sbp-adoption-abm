{
 "cells": [
  {
   "cell_type": "markdown",
   "metadata": {},
   "source": [
    "Notebook to check the geographical granularity of the different datasets and harmonize it over the set level of the municipalities."
   ]
  },
  {
   "cell_type": "markdown",
   "metadata": {},
   "source": [
    "**Requirements**: numpy pandas xlrd geopandas openpyxl"
   ]
  },
  {
   "cell_type": "markdown",
   "metadata": {},
   "source": [
    "## Content\n",
    "* Data ingestion\n",
    "* Comparison\n",
    "* Corrections:\n",
    "    * Correction of PCF counties to correspond to the ones in the shapefile\n",
    "    * Disaggregation of pre-PCF adoption:\n",
    "        * Match of regions with municipalities\n",
    "        * Disaggregation of adopted area based on pasture area in each municipality\n",
    "      \n",
    "**NOTE:** in the last section on disaggregartion, possible to choose between the two different possibilities based on the disaggregation of pre-PCF adoption."
   ]
  },
  {
   "cell_type": "code",
   "execution_count": 847,
   "metadata": {},
   "outputs": [],
   "source": [
    "import numpy as np\n",
    "import pandas as pd"
   ]
  },
  {
   "cell_type": "markdown",
   "metadata": {},
   "source": [
    "# Data ingestion"
   ]
  },
  {
   "cell_type": "markdown",
   "metadata": {},
   "source": [
    "## SBP adoption previous to the PCF project"
   ]
  },
  {
   "cell_type": "code",
   "execution_count": 848,
   "metadata": {},
   "outputs": [],
   "source": [
    "path_to_adoption_pre_PCF = \"./adoption/Pastures before 2009.xlsx\""
   ]
  },
  {
   "cell_type": "code",
   "execution_count": 849,
   "metadata": {
    "scrolled": false
   },
   "outputs": [
    {
     "data": {
      "text/html": [
       "<div>\n",
       "<style scoped>\n",
       "    .dataframe tbody tr th:only-of-type {\n",
       "        vertical-align: middle;\n",
       "    }\n",
       "\n",
       "    .dataframe tbody tr th {\n",
       "        vertical-align: top;\n",
       "    }\n",
       "\n",
       "    .dataframe thead th {\n",
       "        text-align: right;\n",
       "    }\n",
       "</style>\n",
       "<table border=\"1\" class=\"dataframe\">\n",
       "  <thead>\n",
       "    <tr style=\"text-align: right;\">\n",
       "      <th></th>\n",
       "      <th>1996</th>\n",
       "      <th>1997</th>\n",
       "      <th>1998</th>\n",
       "      <th>1999</th>\n",
       "      <th>2000</th>\n",
       "      <th>2001</th>\n",
       "      <th>2002</th>\n",
       "      <th>2003</th>\n",
       "      <th>2004</th>\n",
       "      <th>2005</th>\n",
       "      <th>2006</th>\n",
       "      <th>2007</th>\n",
       "      <th>2008</th>\n",
       "    </tr>\n",
       "    <tr>\n",
       "      <th>Region</th>\n",
       "      <th></th>\n",
       "      <th></th>\n",
       "      <th></th>\n",
       "      <th></th>\n",
       "      <th></th>\n",
       "      <th></th>\n",
       "      <th></th>\n",
       "      <th></th>\n",
       "      <th></th>\n",
       "      <th></th>\n",
       "      <th></th>\n",
       "      <th></th>\n",
       "      <th></th>\n",
       "    </tr>\n",
       "  </thead>\n",
       "  <tbody>\n",
       "    <tr>\n",
       "      <th>Minho</th>\n",
       "      <td>0</td>\n",
       "      <td>1.0</td>\n",
       "      <td>2</td>\n",
       "      <td>0.0</td>\n",
       "      <td>30.0</td>\n",
       "      <td>29</td>\n",
       "      <td>12</td>\n",
       "      <td>27.5</td>\n",
       "      <td>46</td>\n",
       "      <td>46</td>\n",
       "      <td>79</td>\n",
       "      <td>90</td>\n",
       "      <td>455</td>\n",
       "    </tr>\n",
       "    <tr>\n",
       "      <th>Aveiro</th>\n",
       "      <td>0</td>\n",
       "      <td>6.0</td>\n",
       "      <td>5</td>\n",
       "      <td>0.0</td>\n",
       "      <td>3.0</td>\n",
       "      <td>0</td>\n",
       "      <td>10</td>\n",
       "      <td>30.0</td>\n",
       "      <td>37</td>\n",
       "      <td>35</td>\n",
       "      <td>36</td>\n",
       "      <td>138</td>\n",
       "      <td>50</td>\n",
       "    </tr>\n",
       "    <tr>\n",
       "      <th>Coimbra</th>\n",
       "      <td>5</td>\n",
       "      <td>2.5</td>\n",
       "      <td>0</td>\n",
       "      <td>1.5</td>\n",
       "      <td>4.5</td>\n",
       "      <td>9</td>\n",
       "      <td>2</td>\n",
       "      <td>26.5</td>\n",
       "      <td>12</td>\n",
       "      <td>7</td>\n",
       "      <td>7</td>\n",
       "      <td>18</td>\n",
       "      <td>15</td>\n",
       "    </tr>\n",
       "    <tr>\n",
       "      <th>Trás-os-Montes</th>\n",
       "      <td>2</td>\n",
       "      <td>5.0</td>\n",
       "      <td>32</td>\n",
       "      <td>35.0</td>\n",
       "      <td>30.0</td>\n",
       "      <td>41</td>\n",
       "      <td>76</td>\n",
       "      <td>89.0</td>\n",
       "      <td>110</td>\n",
       "      <td>69</td>\n",
       "      <td>84</td>\n",
       "      <td>120</td>\n",
       "      <td>97</td>\n",
       "    </tr>\n",
       "    <tr>\n",
       "      <th>Guarda</th>\n",
       "      <td>18</td>\n",
       "      <td>73.0</td>\n",
       "      <td>135</td>\n",
       "      <td>128.0</td>\n",
       "      <td>35.0</td>\n",
       "      <td>16</td>\n",
       "      <td>92</td>\n",
       "      <td>100.0</td>\n",
       "      <td>142</td>\n",
       "      <td>108</td>\n",
       "      <td>119</td>\n",
       "      <td>134</td>\n",
       "      <td>223</td>\n",
       "    </tr>\n",
       "  </tbody>\n",
       "</table>\n",
       "</div>"
      ],
      "text/plain": [
       "                1996  1997  1998   1999  2000  2001  2002   2003  2004  2005  \\\n",
       "Region                                                                         \n",
       "Minho              0   1.0     2    0.0  30.0    29    12   27.5    46    46   \n",
       "Aveiro             0   6.0     5    0.0   3.0     0    10   30.0    37    35   \n",
       "Coimbra            5   2.5     0    1.5   4.5     9     2   26.5    12     7   \n",
       "Trás-os-Montes     2   5.0    32   35.0  30.0    41    76   89.0   110    69   \n",
       "Guarda            18  73.0   135  128.0  35.0    16    92  100.0   142   108   \n",
       "\n",
       "                2006  2007  2008  \n",
       "Region                            \n",
       "Minho             79    90   455  \n",
       "Aveiro            36   138    50  \n",
       "Coimbra            7    18    15  \n",
       "Trás-os-Montes    84   120    97  \n",
       "Guarda           119   134   223  "
      ]
     },
     "execution_count": 849,
     "metadata": {},
     "output_type": "execute_result"
    }
   ],
   "source": [
    "adoption_pre_PCF = pd.read_excel(path_to_adoption_pre_PCF, header=2, index_col=1)\n",
    "adoption_pre_PCF = adoption_pre_PCF.drop('Unnamed: 0', axis=1)\n",
    "adoption_pre_PCF.head()"
   ]
  },
  {
   "cell_type": "code",
   "execution_count": 850,
   "metadata": {},
   "outputs": [
    {
     "data": {
      "text/plain": [
       "24"
      ]
     },
     "execution_count": 850,
     "metadata": {},
     "output_type": "execute_result"
    }
   ],
   "source": [
    "regions_prePCF = adoption_pre_PCF.index.tolist()\n",
    "len(regions_prePCF)"
   ]
  },
  {
   "cell_type": "markdown",
   "metadata": {},
   "source": [
    "## PCF project"
   ]
  },
  {
   "cell_type": "code",
   "execution_count": 851,
   "metadata": {},
   "outputs": [],
   "source": [
    "path_to_PCF_data = \"./adoption/20160729_RelCampo_Pastagens_Chave_RT.xlsx\""
   ]
  },
  {
   "cell_type": "code",
   "execution_count": 852,
   "metadata": {},
   "outputs": [
    {
     "data": {
      "text/html": [
       "<div>\n",
       "<style scoped>\n",
       "    .dataframe tbody tr th:only-of-type {\n",
       "        vertical-align: middle;\n",
       "    }\n",
       "\n",
       "    .dataframe tbody tr th {\n",
       "        vertical-align: top;\n",
       "    }\n",
       "\n",
       "    .dataframe thead th {\n",
       "        text-align: right;\n",
       "    }\n",
       "</style>\n",
       "<table border=\"1\" class=\"dataframe\">\n",
       "  <thead>\n",
       "    <tr style=\"text-align: right;\">\n",
       "      <th></th>\n",
       "      <th>Farmer_ID</th>\n",
       "      <th>Year that the pasture was installed</th>\n",
       "      <th>County</th>\n",
       "      <th>Area_Total_SIG_PPI_2009_ha</th>\n",
       "      <th>Area_Total_SIG_PPI_2010_ha</th>\n",
       "      <th>Area_Total_SIG_PPII_2011_ha</th>\n",
       "      <th>Area_Total_SIG_PPII_2012_ha</th>\n",
       "    </tr>\n",
       "    <tr>\n",
       "      <th>Parcel_ID</th>\n",
       "      <th></th>\n",
       "      <th></th>\n",
       "      <th></th>\n",
       "      <th></th>\n",
       "      <th></th>\n",
       "      <th></th>\n",
       "      <th></th>\n",
       "    </tr>\n",
       "  </thead>\n",
       "  <tbody>\n",
       "    <tr>\n",
       "      <th>55</th>\n",
       "      <td>1</td>\n",
       "      <td>2009</td>\n",
       "      <td>Idanha-a-Nova</td>\n",
       "      <td>9.28</td>\n",
       "      <td>0.00</td>\n",
       "      <td>0.00</td>\n",
       "      <td>0.00</td>\n",
       "    </tr>\n",
       "    <tr>\n",
       "      <th>410</th>\n",
       "      <td>2</td>\n",
       "      <td>2010</td>\n",
       "      <td>Évora</td>\n",
       "      <td>0.00</td>\n",
       "      <td>3.21</td>\n",
       "      <td>0.00</td>\n",
       "      <td>0.00</td>\n",
       "    </tr>\n",
       "    <tr>\n",
       "      <th>681</th>\n",
       "      <td>2</td>\n",
       "      <td>2011</td>\n",
       "      <td>Évora</td>\n",
       "      <td>0.00</td>\n",
       "      <td>0.00</td>\n",
       "      <td>6.83</td>\n",
       "      <td>0.00</td>\n",
       "    </tr>\n",
       "    <tr>\n",
       "      <th>1068</th>\n",
       "      <td>3</td>\n",
       "      <td>2012</td>\n",
       "      <td>Reguengos de Monsaraz</td>\n",
       "      <td>0.00</td>\n",
       "      <td>0.00</td>\n",
       "      <td>0.00</td>\n",
       "      <td>38.17</td>\n",
       "    </tr>\n",
       "    <tr>\n",
       "      <th>584</th>\n",
       "      <td>4</td>\n",
       "      <td>2010</td>\n",
       "      <td>Avis</td>\n",
       "      <td>0.00</td>\n",
       "      <td>9.57</td>\n",
       "      <td>0.00</td>\n",
       "      <td>0.00</td>\n",
       "    </tr>\n",
       "  </tbody>\n",
       "</table>\n",
       "</div>"
      ],
      "text/plain": [
       "           Farmer_ID  Year that the pasture was installed  \\\n",
       "Parcel_ID                                                   \n",
       "55                 1                                 2009   \n",
       "410                2                                 2010   \n",
       "681                2                                 2011   \n",
       "1068               3                                 2012   \n",
       "584                4                                 2010   \n",
       "\n",
       "                          County  Area_Total_SIG_PPI_2009_ha  \\\n",
       "Parcel_ID                                                      \n",
       "55                 Idanha-a-Nova                        9.28   \n",
       "410                        Évora                        0.00   \n",
       "681                        Évora                        0.00   \n",
       "1068       Reguengos de Monsaraz                        0.00   \n",
       "584                         Avis                        0.00   \n",
       "\n",
       "           Area_Total_SIG_PPI_2010_ha  Area_Total_SIG_PPII_2011_ha  \\\n",
       "Parcel_ID                                                            \n",
       "55                               0.00                         0.00   \n",
       "410                              3.21                         0.00   \n",
       "681                              0.00                         6.83   \n",
       "1068                             0.00                         0.00   \n",
       "584                              9.57                         0.00   \n",
       "\n",
       "           Area_Total_SIG_PPII_2012_ha  \n",
       "Parcel_ID                               \n",
       "55                                0.00  \n",
       "410                               0.00  \n",
       "681                               0.00  \n",
       "1068                             38.17  \n",
       "584                               0.00  "
      ]
     },
     "execution_count": 852,
     "metadata": {},
     "output_type": "execute_result"
    }
   ],
   "source": [
    "cols_to_fetch = ['Parcel_ID', 'Farmer_ID', 'Year that the pasture was installed', 'County', 'Area_Total_SIG_PPI_2009_ha',\n",
    "                 'Area_Total_SIG_PPI_2010_ha', 'Area_Total_SIG_PPII_2011_ha', 'Area_Total_SIG_PPII_2012_ha']\n",
    "PCF_data = pd.read_excel(path_to_PCF_data, sheet_name='Data_table', usecols=cols_to_fetch, header=1, index_col=0)\n",
    "PCF_data = PCF_data.fillna(0)\n",
    "PCF_data.head()"
   ]
  },
  {
   "cell_type": "code",
   "execution_count": 853,
   "metadata": {},
   "outputs": [
    {
     "data": {
      "text/plain": [
       "86"
      ]
     },
     "execution_count": 853,
     "metadata": {},
     "output_type": "execute_result"
    }
   ],
   "source": [
    "counties_PCF = PCF_data['County'].unique().tolist()\n",
    "len(counties_PCF)"
   ]
  },
  {
   "cell_type": "markdown",
   "metadata": {},
   "source": [
    "## Census data 2009"
   ]
  },
  {
   "cell_type": "code",
   "execution_count": 854,
   "metadata": {},
   "outputs": [],
   "source": [
    "import os"
   ]
  },
  {
   "cell_type": "code",
   "execution_count": 855,
   "metadata": {},
   "outputs": [],
   "source": [
    "path_to_pastures_data = \"./census/extracted/municipalities_permanent_pastures_area.csv\"\n",
    "municipalities_pastures_area = pd.read_csv(path_to_pastures_data, index_col = \"Municipality\")"
   ]
  },
  {
   "cell_type": "code",
   "execution_count": 856,
   "metadata": {},
   "outputs": [
    {
     "data": {
      "text/plain": [
       "array(['Arouca', 'Castelo de Paiva', 'Espinho', 'Santa Maria da Feira',\n",
       "       'Oliveira de Azeméis'], dtype=object)"
      ]
     },
     "execution_count": 856,
     "metadata": {},
     "output_type": "execute_result"
    }
   ],
   "source": [
    "municipalities_census = municipalities_pastures_area.index.values\n",
    "municipalities_census[:5]"
   ]
  },
  {
   "cell_type": "code",
   "execution_count": 857,
   "metadata": {},
   "outputs": [
    {
     "data": {
      "text/plain": [
       "278"
      ]
     },
     "execution_count": 857,
     "metadata": {},
     "output_type": "execute_result"
    }
   ],
   "source": [
    "len(municipalities_census)"
   ]
  },
  {
   "cell_type": "markdown",
   "metadata": {},
   "source": [
    "## Shapefile"
   ]
  },
  {
   "cell_type": "code",
   "execution_count": 858,
   "metadata": {},
   "outputs": [],
   "source": [
    "import geopandas as gpd"
   ]
  },
  {
   "cell_type": "code",
   "execution_count": 859,
   "metadata": {},
   "outputs": [],
   "source": [
    "path_to_shapefile = \"./counties_shp/mod_concelhos.shp\""
   ]
  },
  {
   "cell_type": "code",
   "execution_count": 860,
   "metadata": {
    "scrolled": true
   },
   "outputs": [],
   "source": [
    "shapefile_data = gpd.read_file(path_to_shapefile)"
   ]
  },
  {
   "cell_type": "code",
   "execution_count": 861,
   "metadata": {},
   "outputs": [
    {
     "data": {
      "text/html": [
       "<div>\n",
       "<style scoped>\n",
       "    .dataframe tbody tr th:only-of-type {\n",
       "        vertical-align: middle;\n",
       "    }\n",
       "\n",
       "    .dataframe tbody tr th {\n",
       "        vertical-align: top;\n",
       "    }\n",
       "\n",
       "    .dataframe thead th {\n",
       "        text-align: right;\n",
       "    }\n",
       "</style>\n",
       "<table border=\"1\" class=\"dataframe\">\n",
       "  <thead>\n",
       "    <tr style=\"text-align: right;\">\n",
       "      <th></th>\n",
       "      <th>CCA_2</th>\n",
       "      <th>District</th>\n",
       "      <th>Municipali</th>\n",
       "      <th>geometry</th>\n",
       "    </tr>\n",
       "  </thead>\n",
       "  <tbody>\n",
       "    <tr>\n",
       "      <th>0</th>\n",
       "      <td>0705</td>\n",
       "      <td>Évora</td>\n",
       "      <td>Évora</td>\n",
       "      <td>POLYGON ((-7.79291 38.76507, -7.79287 38.76506...</td>\n",
       "    </tr>\n",
       "    <tr>\n",
       "      <th>1</th>\n",
       "      <td>0701</td>\n",
       "      <td>Évora</td>\n",
       "      <td>Alandroal</td>\n",
       "      <td>POLYGON ((-7.25937 38.77351, -7.25921 38.77343...</td>\n",
       "    </tr>\n",
       "    <tr>\n",
       "      <th>2</th>\n",
       "      <td>0702</td>\n",
       "      <td>Évora</td>\n",
       "      <td>Arraiolos</td>\n",
       "      <td>POLYGON ((-7.88611 38.92495, -7.88580 38.92472...</td>\n",
       "    </tr>\n",
       "    <tr>\n",
       "      <th>3</th>\n",
       "      <td>0703</td>\n",
       "      <td>Évora</td>\n",
       "      <td>Borba</td>\n",
       "      <td>POLYGON ((-7.46362 38.92344, -7.46344 38.92329...</td>\n",
       "    </tr>\n",
       "    <tr>\n",
       "      <th>4</th>\n",
       "      <td>0704</td>\n",
       "      <td>Évora</td>\n",
       "      <td>Estremoz</td>\n",
       "      <td>POLYGON ((-7.52770 39.00080, -7.52765 39.00066...</td>\n",
       "    </tr>\n",
       "  </tbody>\n",
       "</table>\n",
       "</div>"
      ],
      "text/plain": [
       "  CCA_2 District Municipali                                           geometry\n",
       "0  0705    Évora      Évora  POLYGON ((-7.79291 38.76507, -7.79287 38.76506...\n",
       "1  0701    Évora  Alandroal  POLYGON ((-7.25937 38.77351, -7.25921 38.77343...\n",
       "2  0702    Évora  Arraiolos  POLYGON ((-7.88611 38.92495, -7.88580 38.92472...\n",
       "3  0703    Évora      Borba  POLYGON ((-7.46362 38.92344, -7.46344 38.92329...\n",
       "4  0704    Évora   Estremoz  POLYGON ((-7.52770 39.00080, -7.52765 39.00066..."
      ]
     },
     "execution_count": 861,
     "metadata": {},
     "output_type": "execute_result"
    }
   ],
   "source": [
    "shapefile_data.head()"
   ]
  },
  {
   "cell_type": "code",
   "execution_count": 862,
   "metadata": {},
   "outputs": [],
   "source": [
    "shapefile_data.columns=['CCA_2', 'District', 'Municipality', 'geometry']"
   ]
  },
  {
   "cell_type": "code",
   "execution_count": 863,
   "metadata": {},
   "outputs": [
    {
     "data": {
      "text/plain": [
       "308"
      ]
     },
     "execution_count": 863,
     "metadata": {},
     "output_type": "execute_result"
    }
   ],
   "source": [
    "municipalities_shapefile = shapefile_data['Municipality'].tolist()\n",
    "len(municipalities_shapefile)"
   ]
  },
  {
   "cell_type": "code",
   "execution_count": 864,
   "metadata": {
    "scrolled": true
   },
   "outputs": [
    {
     "data": {
      "text/plain": [
       "20"
      ]
     },
     "execution_count": 864,
     "metadata": {},
     "output_type": "execute_result"
    }
   ],
   "source": [
    "districts_shapefile = shapefile_data['District'].value_counts().keys().tolist()\n",
    "len(districts_shapefile)"
   ]
  },
  {
   "cell_type": "code",
   "execution_count": 865,
   "metadata": {},
   "outputs": [],
   "source": [
    "shapefile_data.set_index('Municipality', inplace=True)"
   ]
  },
  {
   "cell_type": "code",
   "execution_count": 866,
   "metadata": {},
   "outputs": [
    {
     "data": {
      "text/html": [
       "<div>\n",
       "<style scoped>\n",
       "    .dataframe tbody tr th:only-of-type {\n",
       "        vertical-align: middle;\n",
       "    }\n",
       "\n",
       "    .dataframe tbody tr th {\n",
       "        vertical-align: top;\n",
       "    }\n",
       "\n",
       "    .dataframe thead th {\n",
       "        text-align: right;\n",
       "    }\n",
       "</style>\n",
       "<table border=\"1\" class=\"dataframe\">\n",
       "  <thead>\n",
       "    <tr style=\"text-align: right;\">\n",
       "      <th></th>\n",
       "      <th>CCA_2</th>\n",
       "      <th>District</th>\n",
       "      <th>geometry</th>\n",
       "    </tr>\n",
       "    <tr>\n",
       "      <th>Municipality</th>\n",
       "      <th></th>\n",
       "      <th></th>\n",
       "      <th></th>\n",
       "    </tr>\n",
       "  </thead>\n",
       "  <tbody>\n",
       "    <tr>\n",
       "      <th>Évora</th>\n",
       "      <td>0705</td>\n",
       "      <td>Évora</td>\n",
       "      <td>POLYGON ((-7.79291 38.76507, -7.79287 38.76506...</td>\n",
       "    </tr>\n",
       "    <tr>\n",
       "      <th>Alandroal</th>\n",
       "      <td>0701</td>\n",
       "      <td>Évora</td>\n",
       "      <td>POLYGON ((-7.25937 38.77351, -7.25921 38.77343...</td>\n",
       "    </tr>\n",
       "    <tr>\n",
       "      <th>Arraiolos</th>\n",
       "      <td>0702</td>\n",
       "      <td>Évora</td>\n",
       "      <td>POLYGON ((-7.88611 38.92495, -7.88580 38.92472...</td>\n",
       "    </tr>\n",
       "    <tr>\n",
       "      <th>Borba</th>\n",
       "      <td>0703</td>\n",
       "      <td>Évora</td>\n",
       "      <td>POLYGON ((-7.46362 38.92344, -7.46344 38.92329...</td>\n",
       "    </tr>\n",
       "    <tr>\n",
       "      <th>Estremoz</th>\n",
       "      <td>0704</td>\n",
       "      <td>Évora</td>\n",
       "      <td>POLYGON ((-7.52770 39.00080, -7.52765 39.00066...</td>\n",
       "    </tr>\n",
       "  </tbody>\n",
       "</table>\n",
       "</div>"
      ],
      "text/plain": [
       "             CCA_2 District                                           geometry\n",
       "Municipality                                                                  \n",
       "Évora         0705    Évora  POLYGON ((-7.79291 38.76507, -7.79287 38.76506...\n",
       "Alandroal     0701    Évora  POLYGON ((-7.25937 38.77351, -7.25921 38.77343...\n",
       "Arraiolos     0702    Évora  POLYGON ((-7.88611 38.92495, -7.88580 38.92472...\n",
       "Borba         0703    Évora  POLYGON ((-7.46362 38.92344, -7.46344 38.92329...\n",
       "Estremoz      0704    Évora  POLYGON ((-7.52770 39.00080, -7.52765 39.00066..."
      ]
     },
     "execution_count": 866,
     "metadata": {},
     "output_type": "execute_result"
    }
   ],
   "source": [
    "shapefile_data.head()"
   ]
  },
  {
   "cell_type": "markdown",
   "metadata": {},
   "source": [
    "# Comparison"
   ]
  },
  {
   "cell_type": "markdown",
   "metadata": {},
   "source": [
    "## Aggregated adoption pre-PCF and during PCF"
   ]
  },
  {
   "cell_type": "code",
   "execution_count": 867,
   "metadata": {},
   "outputs": [
    {
     "data": {
      "text/plain": [
       "['Guarda',\n",
       " 'Castelo Branco',\n",
       " 'Abrantes',\n",
       " 'Santarém',\n",
       " 'Coruche',\n",
       " 'Évora',\n",
       " 'Elvas',\n",
       " 'Portalegre',\n",
       " 'Estremoz',\n",
       " 'Ponte de Sor',\n",
       " 'Odemira',\n",
       " 'Beja']"
      ]
     },
     "execution_count": 867,
     "metadata": {},
     "output_type": "execute_result"
    }
   ],
   "source": [
    "common_regions = [reg for reg in regions_prePCF if reg in counties_PCF]\n",
    "common_regions"
   ]
  },
  {
   "cell_type": "markdown",
   "metadata": {},
   "source": [
    "This does not ensure that these regions coincide (they could be bigger in the pre-PCF dataset including neighbouring municipalities)"
   ]
  },
  {
   "cell_type": "markdown",
   "metadata": {},
   "source": [
    "## Census - PCF adoption"
   ]
  },
  {
   "cell_type": "code",
   "execution_count": 868,
   "metadata": {
    "scrolled": true
   },
   "outputs": [
    {
     "data": {
      "text/plain": [
       "['Vila Velha de Rodão',\n",
       " 'Alcácer do Sal - Torrão/Alvito-V.N. Baronia',\n",
       " 'Ourique ',\n",
       " 'Santiago do cacém',\n",
       " 'Alcácer do Sal - Santa Susana',\n",
       " 'Évora / Montemor-o-Novo',\n",
       " 'Moura e Serpa',\n",
       " 'Albernoa',\n",
       " 'Benavente/Porto Alto',\n",
       " 'Elvas e Campo Maior',\n",
       " 'Alcácer do Sal - Torrão',\n",
       " 'Lisboa - Serpa',\n",
       " 'Ferreira do Alentejo /Figueira dos Cavaleiros',\n",
       " 'Ponte de Sor / Montargil']"
      ]
     },
     "execution_count": 868,
     "metadata": {},
     "output_type": "execute_result"
    }
   ],
   "source": [
    "munic_in_PCF_not_in_census = [munic for munic in counties_PCF if munic not in municipalities_census]\n",
    "munic_in_PCF_not_in_census"
   ]
  },
  {
   "cell_type": "code",
   "execution_count": 869,
   "metadata": {},
   "outputs": [
    {
     "data": {
      "text/plain": [
       "14"
      ]
     },
     "execution_count": 869,
     "metadata": {},
     "output_type": "execute_result"
    }
   ],
   "source": [
    "len(munic_in_PCF_not_in_census)"
   ]
  },
  {
   "cell_type": "markdown",
   "metadata": {},
   "source": [
    "There are some conflicts of names to be solved, but out of 86 municipalities in the PCF data 72 are also in the census data, so the geographical division coincides in general terms"
   ]
  },
  {
   "cell_type": "markdown",
   "metadata": {},
   "source": [
    "## Shapefile - Census"
   ]
  },
  {
   "cell_type": "code",
   "execution_count": 870,
   "metadata": {},
   "outputs": [
    {
     "data": {
      "text/plain": [
       "[]"
      ]
     },
     "execution_count": 870,
     "metadata": {},
     "output_type": "execute_result"
    }
   ],
   "source": [
    "munic_in_census_not_in_shapefile = [munic for munic in municipalities_census if munic not in municipalities_shapefile]\n",
    "munic_in_census_not_in_shapefile"
   ]
  },
  {
   "cell_type": "code",
   "execution_count": 871,
   "metadata": {},
   "outputs": [
    {
     "data": {
      "text/plain": [
       "29"
      ]
     },
     "execution_count": 871,
     "metadata": {},
     "output_type": "execute_result"
    }
   ],
   "source": [
    "munic_in_shapefile_not_in_census = [munic for munic in municipalities_shapefile if munic not in municipalities_census]\n",
    "len(munic_in_shapefile_not_in_census)"
   ]
  },
  {
   "cell_type": "markdown",
   "metadata": {},
   "source": [
    "No municipality in the census is missing in the shapefile (apart from Meda but changed the shapefile)\n",
    "\n",
    "A lot from the shapefile are missing from the census, with the majority most likely belonging to Azores and Madeira for which we have no data. Let's check if more are missing."
   ]
  },
  {
   "cell_type": "markdown",
   "metadata": {},
   "source": [
    "### Check excluding Madeira and Azores districts from shapefile\n"
   ]
  },
  {
   "cell_type": "code",
   "execution_count": 872,
   "metadata": {
    "scrolled": true
   },
   "outputs": [
    {
     "data": {
      "text/plain": [
       "308"
      ]
     },
     "execution_count": 872,
     "metadata": {},
     "output_type": "execute_result"
    }
   ],
   "source": [
    "len(shapefile_data)"
   ]
  },
  {
   "cell_type": "code",
   "execution_count": 873,
   "metadata": {},
   "outputs": [],
   "source": [
    "shapefile_data_excl = shapefile_data.loc[(shapefile_data['District'] != 'Azores') \n",
    "                                         & (shapefile_data['District'] != 'Madeira')]"
   ]
  },
  {
   "cell_type": "code",
   "execution_count": 874,
   "metadata": {
    "scrolled": true
   },
   "outputs": [
    {
     "data": {
      "text/plain": [
       "278"
      ]
     },
     "execution_count": 874,
     "metadata": {},
     "output_type": "execute_result"
    }
   ],
   "source": [
    "len(shapefile_data_excl)"
   ]
  },
  {
   "cell_type": "code",
   "execution_count": 875,
   "metadata": {},
   "outputs": [],
   "source": [
    "municipalities_shapefile_excl = shapefile_data_excl.index.to_list()"
   ]
  },
  {
   "cell_type": "code",
   "execution_count": 876,
   "metadata": {},
   "outputs": [
    {
     "data": {
      "text/plain": [
       "0"
      ]
     },
     "execution_count": 876,
     "metadata": {},
     "output_type": "execute_result"
    }
   ],
   "source": [
    "munic_in_shapefile_excl_not_in_census = [munic for munic in municipalities_shapefile_excl if munic not in municipalities_census]\n",
    "len(munic_in_shapefile_excl_not_in_census)"
   ]
  },
  {
   "cell_type": "markdown",
   "metadata": {},
   "source": [
    "All the remaining municipalities are available in the census"
   ]
  },
  {
   "cell_type": "markdown",
   "metadata": {},
   "source": [
    "## Shapefile - pre-PCF adoption"
   ]
  },
  {
   "cell_type": "code",
   "execution_count": 877,
   "metadata": {},
   "outputs": [
    {
     "data": {
      "text/plain": [
       "10"
      ]
     },
     "execution_count": 877,
     "metadata": {},
     "output_type": "execute_result"
    }
   ],
   "source": [
    "regions_as_districts = [reg for reg in regions_prePCF if reg in districts_shapefile]\n",
    "len(regions_as_districts)"
   ]
  },
  {
   "cell_type": "code",
   "execution_count": 878,
   "metadata": {},
   "outputs": [
    {
     "data": {
      "text/plain": [
       "17"
      ]
     },
     "execution_count": 878,
     "metadata": {},
     "output_type": "execute_result"
    }
   ],
   "source": [
    "regions_as_municipalities = [reg for reg in regions_prePCF if reg in municipalities_shapefile]\n",
    "len(regions_as_municipalities)"
   ]
  },
  {
   "cell_type": "code",
   "execution_count": 879,
   "metadata": {},
   "outputs": [
    {
     "data": {
      "text/plain": [
       "7"
      ]
     },
     "execution_count": 879,
     "metadata": {},
     "output_type": "execute_result"
    }
   ],
   "source": [
    "regions_in_shapefile = regions_as_districts + regions_as_municipalities\n",
    "regions_as_nothing = [region for region in regions_prePCF if region not in regions_in_shapefile]\n",
    "len(regions_as_nothing)"
   ]
  },
  {
   "cell_type": "markdown",
   "metadata": {},
   "source": [
    "This means that in the prePCF dataset we have:\n",
    "* 7 regions that have the same name of 6 municipalities\n",
    "* 6 regions that could be both districts or municipalities\n",
    "* 11 that do not appear in the shapefile at all"
   ]
  },
  {
   "cell_type": "markdown",
   "metadata": {},
   "source": [
    "### Shapefile - PCF data"
   ]
  },
  {
   "cell_type": "code",
   "execution_count": 880,
   "metadata": {},
   "outputs": [
    {
     "data": {
      "text/plain": [
       "['Vila Velha de Rodão',\n",
       " 'Alcácer do Sal - Torrão/Alvito-V.N. Baronia',\n",
       " 'Ourique ',\n",
       " 'Santiago do cacém',\n",
       " 'Alcácer do Sal - Santa Susana',\n",
       " 'Évora / Montemor-o-Novo',\n",
       " 'Moura e Serpa',\n",
       " 'Albernoa',\n",
       " 'Benavente/Porto Alto',\n",
       " 'Elvas e Campo Maior',\n",
       " 'Alcácer do Sal - Torrão',\n",
       " 'Lisboa - Serpa',\n",
       " 'Ferreira do Alentejo /Figueira dos Cavaleiros',\n",
       " 'Ponte de Sor / Montargil']"
      ]
     },
     "execution_count": 880,
     "metadata": {},
     "output_type": "execute_result"
    }
   ],
   "source": [
    "munic_in_PCF_not_in_shapefile = [munic for munic in counties_PCF if munic not in municipalities_shapefile]\n",
    "munic_in_PCF_not_in_shapefile"
   ]
  },
  {
   "cell_type": "code",
   "execution_count": 881,
   "metadata": {
    "scrolled": false
   },
   "outputs": [
    {
     "data": {
      "text/plain": [
       "True"
      ]
     },
     "execution_count": 881,
     "metadata": {},
     "output_type": "execute_result"
    }
   ],
   "source": [
    "munic_in_PCF_not_in_shapefile == munic_in_PCF_not_in_census"
   ]
  },
  {
   "cell_type": "markdown",
   "metadata": {},
   "source": [
    "The only difference is that 'Ponte de Sor' is in shapefile but not in census"
   ]
  },
  {
   "cell_type": "markdown",
   "metadata": {},
   "source": [
    "## Conclusions"
   ]
  },
  {
   "cell_type": "markdown",
   "metadata": {},
   "source": [
    "Make sense to use the municipality level agregation. The only dataset that has a lower granularity is the adoption previous to the PCF, that will have to be disaggregated, probably based on the pasture area in each municipality (available from the census). For the rest, some adjustements are required."
   ]
  },
  {
   "cell_type": "markdown",
   "metadata": {},
   "source": [
    "# Correction of PCF counties to correspond to the ones in the shapefile"
   ]
  },
  {
   "cell_type": "code",
   "execution_count": 882,
   "metadata": {
    "scrolled": true
   },
   "outputs": [
    {
     "data": {
      "text/plain": [
       "['Vila Velha de Rodão',\n",
       " 'Alcácer do Sal - Torrão/Alvito-V.N. Baronia',\n",
       " 'Ourique ',\n",
       " 'Santiago do cacém',\n",
       " 'Alcácer do Sal - Santa Susana',\n",
       " 'Évora / Montemor-o-Novo',\n",
       " 'Moura e Serpa',\n",
       " 'Albernoa',\n",
       " 'Benavente/Porto Alto',\n",
       " 'Elvas e Campo Maior',\n",
       " 'Alcácer do Sal - Torrão',\n",
       " 'Lisboa - Serpa',\n",
       " 'Ferreira do Alentejo /Figueira dos Cavaleiros',\n",
       " 'Ponte de Sor / Montargil']"
      ]
     },
     "execution_count": 882,
     "metadata": {},
     "output_type": "execute_result"
    }
   ],
   "source": [
    "munic_in_PCF_not_in_shapefile = [munic for munic in counties_PCF if munic not in municipalities_shapefile]\n",
    "munic_in_PCF_not_in_shapefile"
   ]
  },
  {
   "cell_type": "code",
   "execution_count": 883,
   "metadata": {},
   "outputs": [],
   "source": [
    "replacements = {}"
   ]
  },
  {
   "cell_type": "markdown",
   "metadata": {},
   "source": [
    "#### Albernoa"
   ]
  },
  {
   "cell_type": "markdown",
   "metadata": {},
   "source": [
    "It's a civil parish in the municipality of Beja"
   ]
  },
  {
   "cell_type": "code",
   "execution_count": 884,
   "metadata": {
    "scrolled": true
   },
   "outputs": [
    {
     "data": {
      "text/plain": [
       "['Beja']"
      ]
     },
     "execution_count": 884,
     "metadata": {},
     "output_type": "execute_result"
    }
   ],
   "source": [
    "[munic for munic in counties_PCF if 'Beja' in munic]"
   ]
  },
  {
   "cell_type": "code",
   "execution_count": 885,
   "metadata": {
    "scrolled": true
   },
   "outputs": [
    {
     "data": {
      "text/plain": [
       "['Beja']"
      ]
     },
     "execution_count": 885,
     "metadata": {},
     "output_type": "execute_result"
    }
   ],
   "source": [
    "[munic for munic in municipalities_shapefile if 'Beja' in munic]"
   ]
  },
  {
   "cell_type": "markdown",
   "metadata": {},
   "source": [
    "Since both databases present Beja, the values reported in Albernoa were considered in Beja"
   ]
  },
  {
   "cell_type": "code",
   "execution_count": 886,
   "metadata": {},
   "outputs": [],
   "source": [
    "replacements['Albernoa'] = 'Beja'"
   ]
  },
  {
   "cell_type": "markdown",
   "metadata": {},
   "source": [
    "####  Alcácer do Sal - Santa Susana, Alcácer do Sal - Torrão, Alcácer do Sal - Torrão/Alvito-V.N. Baronia"
   ]
  },
  {
   "cell_type": "code",
   "execution_count": 887,
   "metadata": {
    "scrolled": true
   },
   "outputs": [
    {
     "data": {
      "text/plain": [
       "True"
      ]
     },
     "execution_count": 887,
     "metadata": {},
     "output_type": "execute_result"
    }
   ],
   "source": [
    "'Alcácer do Sal' in municipalities_shapefile"
   ]
  },
  {
   "cell_type": "code",
   "execution_count": 888,
   "metadata": {},
   "outputs": [
    {
     "data": {
      "text/plain": [
       "[False, False, True]"
      ]
     },
     "execution_count": 888,
     "metadata": {},
     "output_type": "execute_result"
    }
   ],
   "source": [
    "[munic in municipalities_shapefile for munic in ['Santa Susana', 'Torrão', 'Alvito']]"
   ]
  },
  {
   "cell_type": "code",
   "execution_count": 889,
   "metadata": {},
   "outputs": [
    {
     "data": {
      "text/plain": [
       "True"
      ]
     },
     "execution_count": 889,
     "metadata": {},
     "output_type": "execute_result"
    }
   ],
   "source": [
    "'Alvito' in counties_PCF"
   ]
  },
  {
   "cell_type": "markdown",
   "metadata": {},
   "source": [
    "Since the shapefile contains the municipality of Alcácer do Sal and not the other more specific areas, we can group the three entries in the PCF data to Alcácer do Sal. (Alvito is in the municipalities but there is another single entry for it in the PCF).\n"
   ]
  },
  {
   "cell_type": "code",
   "execution_count": 890,
   "metadata": {},
   "outputs": [],
   "source": [
    "replacements['Alcácer do Sal - Santa Susana'] = 'Alcácer do Sal'\n",
    "replacements['Alcácer do Sal - Torrão'] = 'Alcácer do Sal'\n",
    "replacements['Alcácer do Sal - Torrão/Alvito-V.N. Baronia'] = 'Alcácer do Sal'"
   ]
  },
  {
   "cell_type": "markdown",
   "metadata": {},
   "source": [
    "#### Benavente/Porto Alto"
   ]
  },
  {
   "cell_type": "code",
   "execution_count": 891,
   "metadata": {
    "scrolled": true
   },
   "outputs": [
    {
     "data": {
      "text/plain": [
       "[True, False]"
      ]
     },
     "execution_count": 891,
     "metadata": {},
     "output_type": "execute_result"
    }
   ],
   "source": [
    "[mun in counties_PCF for mun in ['Benavente', 'Porto Alto']]"
   ]
  },
  {
   "cell_type": "code",
   "execution_count": 892,
   "metadata": {},
   "outputs": [
    {
     "data": {
      "text/plain": [
       "[True, False]"
      ]
     },
     "execution_count": 892,
     "metadata": {},
     "output_type": "execute_result"
    }
   ],
   "source": [
    "[mun in municipalities_shapefile for mun in ['Benavente', 'Porto Alto']]"
   ]
  },
  {
   "cell_type": "markdown",
   "metadata": {},
   "source": [
    "While the shapefile has only an entry for Benavente, the PCF project dataset presents two, Benavente and Benavente/Porto Alto, both referring to Bonavente municipality"
   ]
  },
  {
   "cell_type": "code",
   "execution_count": 893,
   "metadata": {},
   "outputs": [],
   "source": [
    "replacements['Benavente/Porto Alto'] = 'Benavente'"
   ]
  },
  {
   "cell_type": "markdown",
   "metadata": {},
   "source": [
    "#### Elvas e Campo Maior"
   ]
  },
  {
   "cell_type": "code",
   "execution_count": 894,
   "metadata": {},
   "outputs": [
    {
     "data": {
      "text/plain": [
       "[True, True]"
      ]
     },
     "execution_count": 894,
     "metadata": {},
     "output_type": "execute_result"
    }
   ],
   "source": [
    "[mun in counties_PCF for mun in ['Elvas', 'Campo Maior']]"
   ]
  },
  {
   "cell_type": "code",
   "execution_count": 895,
   "metadata": {},
   "outputs": [
    {
     "data": {
      "text/plain": [
       "[True, True]"
      ]
     },
     "execution_count": 895,
     "metadata": {},
     "output_type": "execute_result"
    }
   ],
   "source": [
    "[mun in municipalities_shapefile for mun in ['Elvas', 'Campo Maior']]"
   ]
  },
  {
   "cell_type": "markdown",
   "metadata": {},
   "source": [
    "Elvas and Campo Maior are two distinct municipalities with two separate entries in the PCF project database. Checking the spreadsheet, it is possible to see that the parcels with County value Elvas e Campo Maior are four, all corresponding to the same farmer. Since no more information is available to decide to which municipality assign this area, it is arbitrarily assigned to the municipality with the biggest surface, that is Elvas."
   ]
  },
  {
   "cell_type": "code",
   "execution_count": 896,
   "metadata": {},
   "outputs": [],
   "source": [
    "replacements['Elvas e Campo Maior'] = 'Elvas'"
   ]
  },
  {
   "cell_type": "markdown",
   "metadata": {},
   "source": [
    "#### Ferreira do Alentejo /Figueira dos Cavaleiros"
   ]
  },
  {
   "cell_type": "code",
   "execution_count": 897,
   "metadata": {},
   "outputs": [
    {
     "data": {
      "text/plain": [
       "[True, False]"
      ]
     },
     "execution_count": 897,
     "metadata": {},
     "output_type": "execute_result"
    }
   ],
   "source": [
    "[mun in counties_PCF for mun in ['Ferreira do Alentejo', 'Figueira dos Cavaleiros']]"
   ]
  },
  {
   "cell_type": "code",
   "execution_count": 898,
   "metadata": {},
   "outputs": [
    {
     "data": {
      "text/plain": [
       "[True, False]"
      ]
     },
     "execution_count": 898,
     "metadata": {},
     "output_type": "execute_result"
    }
   ],
   "source": [
    "[mun in municipalities_shapefile for mun in ['Ferreira do Alentejo', 'Figueira dos Cavaleiros']]"
   ]
  },
  {
   "cell_type": "markdown",
   "metadata": {},
   "source": [
    "As for Benavente/Porto Alto"
   ]
  },
  {
   "cell_type": "code",
   "execution_count": 899,
   "metadata": {},
   "outputs": [],
   "source": [
    "replacements['Ferreira do Alentejo /Figueira dos Cavaleiros'] = 'Ferreira do Alentejo'"
   ]
  },
  {
   "cell_type": "markdown",
   "metadata": {},
   "source": [
    "#### Lisboa - Serpa"
   ]
  },
  {
   "cell_type": "code",
   "execution_count": 900,
   "metadata": {},
   "outputs": [
    {
     "data": {
      "text/plain": [
       "[False, True]"
      ]
     },
     "execution_count": 900,
     "metadata": {},
     "output_type": "execute_result"
    }
   ],
   "source": [
    "[mun in counties_PCF for mun in ['Lisboa', 'Serpa']]"
   ]
  },
  {
   "cell_type": "markdown",
   "metadata": {},
   "source": [
    "Serpa is a different municipality not close to Lisbon and it has its own entry in the PCF project database. However, the municipality of Lisboa includes mainly urban area and therefore an adoption in this municipality is unlikely."
   ]
  },
  {
   "cell_type": "code",
   "execution_count": 901,
   "metadata": {},
   "outputs": [],
   "source": [
    "replacements['Lisboa - Serpa'] = 'Serpa'"
   ]
  },
  {
   "cell_type": "markdown",
   "metadata": {},
   "source": [
    "#### Moura e Serpa"
   ]
  },
  {
   "cell_type": "code",
   "execution_count": 902,
   "metadata": {
    "scrolled": true
   },
   "outputs": [
    {
     "data": {
      "text/plain": [
       "[True, True]"
      ]
     },
     "execution_count": 902,
     "metadata": {},
     "output_type": "execute_result"
    }
   ],
   "source": [
    "[mun in counties_PCF for mun in ['Moura', 'Serpa']]"
   ]
  },
  {
   "cell_type": "code",
   "execution_count": 903,
   "metadata": {},
   "outputs": [
    {
     "data": {
      "text/plain": [
       "[True, True]"
      ]
     },
     "execution_count": 903,
     "metadata": {},
     "output_type": "execute_result"
    }
   ],
   "source": [
    "[mun in municipalities_shapefile for mun in ['Moura', 'Serpa']]"
   ]
  },
  {
   "cell_type": "markdown",
   "metadata": {},
   "source": [
    "As for Elvas and Campo Maior, both exists"
   ]
  },
  {
   "cell_type": "code",
   "execution_count": 904,
   "metadata": {},
   "outputs": [],
   "source": [
    "replacements['Moura e Serpa'] = 'Serpa'"
   ]
  },
  {
   "cell_type": "markdown",
   "metadata": {},
   "source": [
    "#### Ourique"
   ]
  },
  {
   "cell_type": "code",
   "execution_count": 905,
   "metadata": {},
   "outputs": [
    {
     "data": {
      "text/plain": [
       "[True, True]"
      ]
     },
     "execution_count": 905,
     "metadata": {},
     "output_type": "execute_result"
    }
   ],
   "source": [
    "[mun in counties_PCF for mun in ['Ourique ', 'Ourique']]"
   ]
  },
  {
   "cell_type": "markdown",
   "metadata": {},
   "source": [
    "This is a typing error, there is an entry for Ourique that has a blank space after the name"
   ]
  },
  {
   "cell_type": "code",
   "execution_count": 906,
   "metadata": {},
   "outputs": [],
   "source": [
    "replacements['Ourique '] = 'Ourique'"
   ]
  },
  {
   "cell_type": "markdown",
   "metadata": {},
   "source": [
    "#### Ponte de Sor, Ponte de Sor / Montargil"
   ]
  },
  {
   "cell_type": "code",
   "execution_count": 907,
   "metadata": {},
   "outputs": [
    {
     "data": {
      "text/plain": [
       "[True, False]"
      ]
     },
     "execution_count": 907,
     "metadata": {},
     "output_type": "execute_result"
    }
   ],
   "source": [
    "[mun in counties_PCF for mun in ['Ponte de Sor', 'Montargil']]"
   ]
  },
  {
   "cell_type": "code",
   "execution_count": 908,
   "metadata": {
    "scrolled": false
   },
   "outputs": [
    {
     "data": {
      "text/plain": [
       "[True, False]"
      ]
     },
     "execution_count": 908,
     "metadata": {},
     "output_type": "execute_result"
    }
   ],
   "source": [
    "[mun in municipalities_shapefile for mun in ['Ponte de Sor', 'Montargil']]"
   ]
  },
  {
   "cell_type": "code",
   "execution_count": 909,
   "metadata": {},
   "outputs": [
    {
     "data": {
      "text/plain": [
       "[True, False]"
      ]
     },
     "execution_count": 909,
     "metadata": {},
     "output_type": "execute_result"
    }
   ],
   "source": [
    "[mun in municipalities_census for mun in ['Ponte de Sor', 'Montargil']]"
   ]
  },
  {
   "cell_type": "markdown",
   "metadata": {},
   "source": [
    "The shapefile reported the Ponte de Sor municipality as Ponte de Sôr, but the shapefile was changed. Since Montargil is not a municipality, Ponte de Sor / Montargil is considered belonging to Ponte de Sor."
   ]
  },
  {
   "cell_type": "code",
   "execution_count": 910,
   "metadata": {},
   "outputs": [],
   "source": [
    "replacements['Ponte de Sor / Montargil'] = 'Ponte de Sor'"
   ]
  },
  {
   "cell_type": "markdown",
   "metadata": {},
   "source": [
    "#### Santiago do cacém"
   ]
  },
  {
   "cell_type": "code",
   "execution_count": 911,
   "metadata": {},
   "outputs": [
    {
     "data": {
      "text/plain": [
       "True"
      ]
     },
     "execution_count": 911,
     "metadata": {},
     "output_type": "execute_result"
    }
   ],
   "source": [
    "'Santiago do Cacém' in municipalities_shapefile"
   ]
  },
  {
   "cell_type": "code",
   "execution_count": 912,
   "metadata": {},
   "outputs": [
    {
     "data": {
      "text/plain": [
       "True"
      ]
     },
     "execution_count": 912,
     "metadata": {},
     "output_type": "execute_result"
    }
   ],
   "source": [
    "'Santiago do Cacém' in counties_PCF"
   ]
  },
  {
   "cell_type": "markdown",
   "metadata": {},
   "source": [
    "It appears not capitalized sometimes in the database"
   ]
  },
  {
   "cell_type": "code",
   "execution_count": 913,
   "metadata": {},
   "outputs": [],
   "source": [
    "replacements['Santiago do cacém'] = 'Santiago do Cacém'"
   ]
  },
  {
   "cell_type": "markdown",
   "metadata": {},
   "source": [
    "#### Vila Velha de Rodão"
   ]
  },
  {
   "cell_type": "code",
   "execution_count": 914,
   "metadata": {},
   "outputs": [
    {
     "data": {
      "text/plain": [
       "True"
      ]
     },
     "execution_count": 914,
     "metadata": {},
     "output_type": "execute_result"
    }
   ],
   "source": [
    "'Vila Velha de Ródão' in municipalities_shapefile"
   ]
  },
  {
   "cell_type": "code",
   "execution_count": 915,
   "metadata": {},
   "outputs": [
    {
     "data": {
      "text/plain": [
       "False"
      ]
     },
     "execution_count": 915,
     "metadata": {},
     "output_type": "execute_result"
    }
   ],
   "source": [
    "'Vila Velha de Ródão' in counties_PCF"
   ]
  },
  {
   "cell_type": "markdown",
   "metadata": {},
   "source": [
    "In the PCF project, it misses the accent on the o of Ródão"
   ]
  },
  {
   "cell_type": "code",
   "execution_count": 916,
   "metadata": {},
   "outputs": [],
   "source": [
    "replacements['Vila Velha de Rodão'] = 'Vila Velha de Ródão'"
   ]
  },
  {
   "cell_type": "markdown",
   "metadata": {},
   "source": [
    "#### Évora / Montemor-o-Novo"
   ]
  },
  {
   "cell_type": "code",
   "execution_count": 917,
   "metadata": {
    "scrolled": true
   },
   "outputs": [
    {
     "data": {
      "text/plain": [
       "[True, True]"
      ]
     },
     "execution_count": 917,
     "metadata": {},
     "output_type": "execute_result"
    }
   ],
   "source": [
    "[mun in counties_PCF for mun in ['Évora', 'Montemor-o-Novo']]"
   ]
  },
  {
   "cell_type": "code",
   "execution_count": 918,
   "metadata": {
    "scrolled": true
   },
   "outputs": [
    {
     "data": {
      "text/plain": [
       "[True, True]"
      ]
     },
     "execution_count": 918,
     "metadata": {},
     "output_type": "execute_result"
    }
   ],
   "source": [
    "[mun in municipalities_shapefile for mun in ['Évora', 'Montemor-o-Novo']]"
   ]
  },
  {
   "cell_type": "markdown",
   "metadata": {},
   "source": [
    "As for Elvas e Campo Maior, both exists"
   ]
  },
  {
   "cell_type": "code",
   "execution_count": 919,
   "metadata": {},
   "outputs": [],
   "source": [
    "replacements['Évora / Montemor-o-Novo'] = 'Évora'"
   ]
  },
  {
   "cell_type": "markdown",
   "metadata": {},
   "source": [
    "### Create the PCF project database with the corrected counties and save it"
   ]
  },
  {
   "cell_type": "code",
   "execution_count": 920,
   "metadata": {},
   "outputs": [],
   "source": [
    "new_PCF_data = PCF_data.replace(replacements)"
   ]
  },
  {
   "cell_type": "code",
   "execution_count": 921,
   "metadata": {},
   "outputs": [],
   "source": [
    "new_PCF_data.to_excel(\"./adoption/PCF project data_Corrected counties.xlsx\")"
   ]
  },
  {
   "cell_type": "markdown",
   "metadata": {},
   "source": [
    "### Check everything replaced properly"
   ]
  },
  {
   "cell_type": "code",
   "execution_count": 922,
   "metadata": {},
   "outputs": [
    {
     "data": {
      "text/plain": [
       "73"
      ]
     },
     "execution_count": 922,
     "metadata": {},
     "output_type": "execute_result"
    }
   ],
   "source": [
    "corrected_counties_PCF = new_PCF_data['County'].unique().tolist()\n",
    "len(corrected_counties_PCF)"
   ]
  },
  {
   "cell_type": "code",
   "execution_count": 923,
   "metadata": {
    "scrolled": true
   },
   "outputs": [
    {
     "data": {
      "text/plain": [
       "[]"
      ]
     },
     "execution_count": 923,
     "metadata": {},
     "output_type": "execute_result"
    }
   ],
   "source": [
    "to_still_fix_PCF = [munic for munic in corrected_counties_PCF if munic not in municipalities_shapefile]\n",
    "to_still_fix_PCF"
   ]
  },
  {
   "cell_type": "markdown",
   "metadata": {},
   "source": [
    "## Are there municipalities that adopted during the PCF project in Azores and Madeira?"
   ]
  },
  {
   "cell_type": "code",
   "execution_count": 924,
   "metadata": {},
   "outputs": [],
   "source": [
    "munic_in_azores = shapefile_data.loc[(shapefile_data['District'] == 'Azores')]\n",
    "munic_in_madeira = shapefile_data.loc[(shapefile_data['District'] == 'Madeira')]\n",
    "\n",
    "for munic in corrected_counties_PCF:\n",
    "    if munic in munic_in_azores:\n",
    "        print(munic, 'in Azores')\n",
    "    if munic in munic_in_madeira:\n",
    "        print(munic, 'in Madeira')"
   ]
  },
  {
   "cell_type": "markdown",
   "metadata": {},
   "source": [
    "There was no adoption during the PCF programme in Azores and Madeira"
   ]
  },
  {
   "cell_type": "markdown",
   "metadata": {},
   "source": [
    "# Disaggregation of pre-PCF adoption"
   ]
  },
  {
   "cell_type": "markdown",
   "metadata": {},
   "source": [
    "## Matching of pre-PCF adoption regions with municipalities"
   ]
  },
  {
   "cell_type": "markdown",
   "metadata": {},
   "source": [
    "Result of this part is the **mapping** dictionary, which maps each regions in the pre-PCF dataset with the corresponding municipalities"
   ]
  },
  {
   "cell_type": "code",
   "execution_count": 925,
   "metadata": {},
   "outputs": [
    {
     "data": {
      "text/plain": [
       "['Aveiro',\n",
       " 'Coimbra',\n",
       " 'Guarda',\n",
       " 'Viseu',\n",
       " 'Castelo Branco',\n",
       " 'Leiria',\n",
       " 'Santarém',\n",
       " 'Évora',\n",
       " 'Portalegre',\n",
       " 'Beja']"
      ]
     },
     "execution_count": 925,
     "metadata": {},
     "output_type": "execute_result"
    }
   ],
   "source": [
    "regions_as_districts"
   ]
  },
  {
   "cell_type": "code",
   "execution_count": 926,
   "metadata": {},
   "outputs": [
    {
     "data": {
      "text/plain": [
       "['Aveiro',\n",
       " 'Coimbra',\n",
       " 'Guarda',\n",
       " 'Viseu',\n",
       " 'Castelo Branco',\n",
       " 'Leiria',\n",
       " 'Abrantes',\n",
       " 'Santarém',\n",
       " 'Tomar',\n",
       " 'Coruche',\n",
       " 'Évora',\n",
       " 'Elvas',\n",
       " 'Portalegre',\n",
       " 'Estremoz',\n",
       " 'Ponte de Sor',\n",
       " 'Odemira',\n",
       " 'Beja']"
      ]
     },
     "execution_count": 926,
     "metadata": {},
     "output_type": "execute_result"
    }
   ],
   "source": [
    "regions_as_municipalities"
   ]
  },
  {
   "cell_type": "code",
   "execution_count": 927,
   "metadata": {},
   "outputs": [
    {
     "data": {
      "text/plain": [
       "['Minho',\n",
       " 'Trás-os-Montes',\n",
       " 'Oeste',\n",
       " 'Montemor',\n",
       " 'Ferreira',\n",
       " 'Algarve',\n",
       " 'Madeira + Azores']"
      ]
     },
     "execution_count": 927,
     "metadata": {},
     "output_type": "execute_result"
    }
   ],
   "source": [
    "regions_as_nothing"
   ]
  },
  {
   "cell_type": "markdown",
   "metadata": {},
   "source": [
    "Regions: (https://en.wikipedia.org/wiki/Districts_of_Portugal) \n",
    "* Algarve --> Faro (16 munic)\n",
    "* Trás-os-Montes --> Bragança + Vila Real + partly Viseu and Guarda, 31 munic. (https://en.wikipedia.org/wiki/Tr%C3%A1s-os-Montes_e_Alto_Douro_Province)\n",
    "* Oeste --> 12 municip. (https://en.wikipedia.org/wiki/Oeste_(intermunicipal_community)), in the districts of Lisboa and Leiria\n",
    "* Madeira + Azores --> Madeira + Azores \n",
    "\n",
    "Agric. regions:\n",
    "* Minho --> Braga + Viana do Castelo (14 + 10 munic)\n",
    "\n",
    "Could be districts or municipalities:\n",
    "* Aveiro\n",
    "* Coimbra\n",
    "* Guarda\n",
    "* Viseu\n",
    "* Leiria\n",
    "* Portalegre\n",
    "* Beja\n",
    "* Castelo Branco\n",
    "* Évora\n",
    "* Santarém\n",
    "\n",
    "Corresponding only to municipalities:\n",
    "* Odemira (in Beja)\n",
    "* Estremoz (in Évora)\n",
    "* Elvas (in Portalegre)\n",
    "* Ponte de Sor (in Portalegre)\n",
    "* Coruche (in Santarém)\n",
    "* Tomar (in Santarém)\n",
    "* Abrantes (in Santarém)\n",
    "\n",
    "Unclear ones:\n",
    "* Montemor: can be assumed to be Montemor-o-Novo, in the Évora district and with a much bigger area than Montemor-o-Velho\n",
    "* Ferreira: can be assumed to be Ferreira do Alentejo, also present in the PCF project and in Beja district, bigger than Ferreira do Zêzere that is in Santarém district"
   ]
  },
  {
   "cell_type": "code",
   "execution_count": 928,
   "metadata": {},
   "outputs": [],
   "source": [
    "mapping = {}"
   ]
  },
  {
   "cell_type": "markdown",
   "metadata": {},
   "source": [
    "Disaggregation rationale: assign adoption only to municipalities that adopted during PCF, proportionally to their pastures land. If none, assign to all the rest proportionally to pasture land"
   ]
  },
  {
   "cell_type": "markdown",
   "metadata": {},
   "source": [
    "### Unclear ones"
   ]
  },
  {
   "cell_type": "code",
   "execution_count": 929,
   "metadata": {},
   "outputs": [],
   "source": [
    "mapping['Montemor'] = ['Montemor-o-Novo', 'Alcácer do Sal', 'Palmela']"
   ]
  },
  {
   "cell_type": "code",
   "execution_count": 930,
   "metadata": {},
   "outputs": [],
   "source": [
    "mapping['Ferreira'] = ['Ferreira do Alentejo', 'Grândola', 'Santiago do Cacém']"
   ]
  },
  {
   "cell_type": "markdown",
   "metadata": {},
   "source": [
    "### Single municipalities"
   ]
  },
  {
   "cell_type": "code",
   "execution_count": 931,
   "metadata": {},
   "outputs": [],
   "source": [
    "single_municipalities = ['Odemira', 'Estremoz', 'Elvas', 'Ponte de Sor', 'Coruche', 'Tomar', 'Abrantes']"
   ]
  },
  {
   "cell_type": "code",
   "execution_count": 932,
   "metadata": {},
   "outputs": [],
   "source": [
    "for munic in single_municipalities:\n",
    "    mapping[munic] = [munic]"
   ]
  },
  {
   "cell_type": "markdown",
   "metadata": {},
   "source": [
    "### Districts"
   ]
  },
  {
   "cell_type": "code",
   "execution_count": 933,
   "metadata": {},
   "outputs": [],
   "source": [
    "districts = ['Aveiro', 'Coimbra', 'Guarda', 'Viseu', 'Portalegre', 'Beja', 'Castelo Branco', 'Évora', 'Santarém', 'Leiria']"
   ]
  },
  {
   "cell_type": "code",
   "execution_count": 934,
   "metadata": {},
   "outputs": [],
   "source": [
    "munic_already_included = single_municipalities + ['Montemor-o-Novo', 'Ferreira do Alentejo']\n",
    "for dist in districts:\n",
    "    munic_in_distr = shapefile_data.loc[shapefile_data['District'] == dist].index.to_list()\n",
    "    munic_to_include = [munic for munic in munic_in_distr if (munic not in munic_already_included) and (munic in corrected_counties_PCF)]\n",
    "    mapping[dist] = munic_to_include\n",
    "    if len(mapping[dist]) == 0:\n",
    "        munic_to_include = [munic for munic in munic_in_distr if (munic not in munic_already_included)]\n",
    "        mapping[dist] = munic_to_include"
   ]
  },
  {
   "cell_type": "markdown",
   "metadata": {},
   "source": [
    "### Regions"
   ]
  },
  {
   "cell_type": "code",
   "execution_count": 935,
   "metadata": {},
   "outputs": [],
   "source": [
    "# To avoid to insert duplicates with the regions\n",
    "municipalities_already_in_mapping = [munic for mapped in mapping.values() for munic in mapped]"
   ]
  },
  {
   "cell_type": "code",
   "execution_count": 936,
   "metadata": {},
   "outputs": [],
   "source": [
    "def include_in_mapping(region):\n",
    "    \"\"\"\n",
    "    Function to assign municipalities corresponding to the region: if there are municipalities that adopted during the PCF \n",
    "    project assign them, otherwise all the ones corresponding to the region.\n",
    "    \"\"\"\n",
    "    munic_to_include_2 = [munic for munic in munic_in_region if \n",
    "                          (munic not in municipalities_already_in_mapping) and (munic in corrected_counties_PCF)]\n",
    "    mapping[region] = munic_to_include_2\n",
    "    print(len(mapping[region]))\n",
    "    if len(mapping[region]) == 0:\n",
    "        mapping[region] = munic_to_include\n",
    "        print(len(mapping[region]))"
   ]
  },
  {
   "cell_type": "code",
   "execution_count": 937,
   "metadata": {},
   "outputs": [
    {
     "data": {
      "text/plain": [
       "Index(['Óbidos', 'Alcobaça', 'Alvaiázere', 'Ansião', 'Batalha', 'Bombarral',\n",
       "       'Caldas da Rainha', 'Castanheira de Pêra', 'Figueiró dos Vinhos',\n",
       "       'Leiria', 'Marinha Grande', 'Nazaré', 'Pedrógão Grande', 'Peniche',\n",
       "       'Pombal', 'Porto de Mós'],\n",
       "      dtype='object', name='Municipality')"
      ]
     },
     "execution_count": 937,
     "metadata": {},
     "output_type": "execute_result"
    }
   ],
   "source": [
    "shapefile_data.loc[shapefile_data['District'] == 'Leiria'].index.unique()"
   ]
  },
  {
   "cell_type": "code",
   "execution_count": 938,
   "metadata": {},
   "outputs": [],
   "source": [
    "munic_in_oeste = ['Alcobaça', 'Alenquer', 'Arruda dos Vinhos', 'Bombarral', 'Cadaval', 'Caldas da Rainha', 'Lourinhã', \n",
    "                    'Nazaré', 'Óbidos', 'Peniche', 'Sobral de Monte Agraço', 'Torres Vedras']\n",
    "munic_in_ribatejo = ['Azambuja', 'Vila Franca de Xira', 'Alcochete', 'Montijo', 'Moita']\n",
    "munic_in_region = munic_in_oeste + munic_in_ribatejo\n",
    "\n",
    "munic_to_include = [munic for munic in munic_in_region if munic not in municipalities_already_in_mapping]\n",
    "mapping['Oeste'] = munic_to_include"
   ]
  },
  {
   "cell_type": "code",
   "execution_count": 939,
   "metadata": {},
   "outputs": [
    {
     "name": "stdout",
     "output_type": "stream",
     "text": [
      "6\n"
     ]
    }
   ],
   "source": [
    "include_in_mapping('Oeste')"
   ]
  },
  {
   "cell_type": "code",
   "execution_count": 940,
   "metadata": {
    "scrolled": true
   },
   "outputs": [
    {
     "data": {
      "text/plain": [
       "['Alcobaça', 'Bombarral', 'Caldas da Rainha', 'Nazaré', 'Óbidos', 'Peniche']"
      ]
     },
     "execution_count": 940,
     "metadata": {},
     "output_type": "execute_result"
    }
   ],
   "source": [
    "munic_leir = shapefile_data.loc[shapefile_data['District'] == 'Leiria'].index.to_list()\n",
    "munic_oeste_in_leir=[munic for munic in munic_in_region if munic in munic_leir]\n",
    "munic_oeste_in_leir"
   ]
  },
  {
   "cell_type": "code",
   "execution_count": 941,
   "metadata": {},
   "outputs": [],
   "source": [
    "faro_municipalities = shapefile_data.loc[shapefile_data['District'] == 'Faro'].index.to_list()\n",
    "\n",
    "munic_in_region = faro_municipalities\n",
    "\n",
    "munic_to_include = [munic for munic in munic_in_region if munic not in municipalities_already_in_mapping]\n",
    "mapping['Algarve'] = munic_to_include"
   ]
  },
  {
   "cell_type": "code",
   "execution_count": 942,
   "metadata": {},
   "outputs": [
    {
     "name": "stdout",
     "output_type": "stream",
     "text": [
      "0\n",
      "16\n"
     ]
    }
   ],
   "source": [
    "include_in_mapping('Algarve')"
   ]
  },
  {
   "cell_type": "code",
   "execution_count": 943,
   "metadata": {},
   "outputs": [],
   "source": [
    "braganca_municipalities = shapefile_data.loc[shapefile_data['District'] == 'Bragança'].index.to_list()\n",
    "vilareal_municipalities = shapefile_data.loc[shapefile_data['District'] == 'Vila Real'].index.to_list()\n",
    "viseu_municipalities_in_tom = ['Armamar', 'Lamego', 'Tabuaço', 'São João da Pesqueira']\n",
    "guarda_municipalities_in_tom = ['Vila Nova de Foz Côa']\n",
    "\n",
    "munic_in_region = (braganca_municipalities + vilareal_municipalities \n",
    "                    + viseu_municipalities_in_tom + guarda_municipalities_in_tom)\n",
    "\n",
    "munic_to_include = [munic for munic in munic_in_region if munic not in municipalities_already_in_mapping]\n",
    "mapping['Trás-os-Montes'] = munic_to_include"
   ]
  },
  {
   "cell_type": "code",
   "execution_count": 944,
   "metadata": {},
   "outputs": [
    {
     "name": "stdout",
     "output_type": "stream",
     "text": [
      "2\n"
     ]
    }
   ],
   "source": [
    "include_in_mapping('Trás-os-Montes')"
   ]
  },
  {
   "cell_type": "code",
   "execution_count": 945,
   "metadata": {},
   "outputs": [],
   "source": [
    "madeira_municipalities = shapefile_data.loc[shapefile_data['District'] == 'Madeira'].index.to_list()\n",
    "azores_municipalities = shapefile_data.loc[shapefile_data['District'] == 'Azores'].index.to_list()\n",
    "\n",
    "munic_in_region = madeira_municipalities + azores_municipalities\n",
    "munic_to_include = [munic for munic in munic_in_region if munic not in municipalities_already_in_mapping]\n",
    "mapping['Madeira + Azores'] = munic_in_region"
   ]
  },
  {
   "cell_type": "code",
   "execution_count": 946,
   "metadata": {},
   "outputs": [
    {
     "name": "stdout",
     "output_type": "stream",
     "text": [
      "0\n",
      "30\n"
     ]
    }
   ],
   "source": [
    "include_in_mapping('Madeira + Azores')"
   ]
  },
  {
   "cell_type": "code",
   "execution_count": 947,
   "metadata": {},
   "outputs": [],
   "source": [
    "braga_municipalities = shapefile_data.loc[shapefile_data['District'] == 'Braga'].index.to_list()\n",
    "vianadocastelo_municipalities = shapefile_data.loc[shapefile_data['District'] == 'Viana do Castelo'].index.to_list()\n",
    "\n",
    "munic_in_region = braga_municipalities + vianadocastelo_municipalities\n",
    "munic_to_include = [munic for munic in munic_in_region if munic not in municipalities_already_in_mapping]\n",
    "mapping['Minho'] = munic_in_region"
   ]
  },
  {
   "cell_type": "code",
   "execution_count": 948,
   "metadata": {},
   "outputs": [
    {
     "name": "stdout",
     "output_type": "stream",
     "text": [
      "0\n",
      "24\n"
     ]
    }
   ],
   "source": [
    "include_in_mapping('Minho')"
   ]
  },
  {
   "cell_type": "code",
   "execution_count": 949,
   "metadata": {},
   "outputs": [
    {
     "data": {
      "text/plain": [
       "{'Montemor': ['Montemor-o-Novo', 'Alcácer do Sal', 'Palmela'],\n",
       " 'Ferreira': ['Ferreira do Alentejo', 'Grândola', 'Santiago do Cacém'],\n",
       " 'Odemira': ['Odemira'],\n",
       " 'Estremoz': ['Estremoz'],\n",
       " 'Elvas': ['Elvas'],\n",
       " 'Ponte de Sor': ['Ponte de Sor'],\n",
       " 'Coruche': ['Coruche'],\n",
       " 'Tomar': ['Tomar'],\n",
       " 'Abrantes': ['Abrantes'],\n",
       " 'Aveiro': ['Águeda',\n",
       "  'Ílhavo',\n",
       "  'Albergaria-a-Velha',\n",
       "  'Anadia',\n",
       "  'Arouca',\n",
       "  'Aveiro',\n",
       "  'Castelo de Paiva',\n",
       "  'Espinho',\n",
       "  'Estarreja',\n",
       "  'Mealhada',\n",
       "  'Murtosa',\n",
       "  'Oliveira de Azeméis',\n",
       "  'Oliveira do Bairro',\n",
       "  'Ovar',\n",
       "  'São João da Madeira',\n",
       "  'Santa Maria da Feira',\n",
       "  'Sever do Vouga',\n",
       "  'Vagos',\n",
       "  'Vale de Cambra'],\n",
       " 'Coimbra': ['Arganil',\n",
       "  'Cantanhede',\n",
       "  'Coimbra',\n",
       "  'Condeixa-a-Nova',\n",
       "  'Figueira da Foz',\n",
       "  'Góis',\n",
       "  'Lousã',\n",
       "  'Mira',\n",
       "  'Miranda do Corvo',\n",
       "  'Montemor-o-Velho',\n",
       "  'Oliveira do Hospital',\n",
       "  'Pampilhosa da Serra',\n",
       "  'Penacova',\n",
       "  'Penela',\n",
       "  'Soure',\n",
       "  'Tábua',\n",
       "  'Vila Nova de Poiares'],\n",
       " 'Guarda': ['Almeida', 'Guarda', 'Pinhel', 'Sabugal'],\n",
       " 'Viseu': ['Armamar',\n",
       "  'Carregal do Sal',\n",
       "  'Castro Daire',\n",
       "  'Cinfães',\n",
       "  'Lamego',\n",
       "  'Mangualde',\n",
       "  'Moimenta da Beira',\n",
       "  'Mortágua',\n",
       "  'Nelas',\n",
       "  'Oliveira de Frades',\n",
       "  'Penalva do Castelo',\n",
       "  'Penedono',\n",
       "  'Resende',\n",
       "  'Sátão',\n",
       "  'São João da Pesqueira',\n",
       "  'São Pedro do Sul',\n",
       "  'Santa Comba Dão',\n",
       "  'Sernancelhe',\n",
       "  'Tabuaço',\n",
       "  'Tarouca',\n",
       "  'Tondela',\n",
       "  'Vila Nova de Paiva',\n",
       "  'Viseu',\n",
       "  'Vouzela'],\n",
       " 'Portalegre': ['Alter do Chão',\n",
       "  'Arronches',\n",
       "  'Avis',\n",
       "  'Campo Maior',\n",
       "  'Castelo de Vide',\n",
       "  'Crato',\n",
       "  'Fronteira',\n",
       "  'Gavião',\n",
       "  'Marvão',\n",
       "  'Monforte',\n",
       "  'Nisa',\n",
       "  'Portalegre',\n",
       "  'Sousel'],\n",
       " 'Beja': ['Aljustrel',\n",
       "  'Alvito',\n",
       "  'Barrancos',\n",
       "  'Beja',\n",
       "  'Castro Verde',\n",
       "  'Mértola',\n",
       "  'Moura',\n",
       "  'Ourique',\n",
       "  'Serpa',\n",
       "  'Vidigueira'],\n",
       " 'Castelo Branco': ['Belmonte',\n",
       "  'Castelo Branco',\n",
       "  'Covilhã',\n",
       "  'Fundão',\n",
       "  'Idanha-a-Nova',\n",
       "  'Penamacor',\n",
       "  'Vila Velha de Ródão'],\n",
       " 'Évora': ['Évora',\n",
       "  'Alandroal',\n",
       "  'Arraiolos',\n",
       "  'Borba',\n",
       "  'Mora',\n",
       "  'Mourão',\n",
       "  'Portel',\n",
       "  'Redondo',\n",
       "  'Reguengos de Monsaraz',\n",
       "  'Vendas Novas',\n",
       "  'Viana do Alentejo',\n",
       "  'Vila Viçosa'],\n",
       " 'Santarém': ['Almeirim',\n",
       "  'Alpiarça',\n",
       "  'Benavente',\n",
       "  'Cartaxo',\n",
       "  'Chamusca',\n",
       "  'Salvaterra de Magos',\n",
       "  'Santarém'],\n",
       " 'Leiria': ['Óbidos',\n",
       "  'Alcobaça',\n",
       "  'Alvaiázere',\n",
       "  'Ansião',\n",
       "  'Batalha',\n",
       "  'Bombarral',\n",
       "  'Caldas da Rainha',\n",
       "  'Castanheira de Pêra',\n",
       "  'Figueiró dos Vinhos',\n",
       "  'Leiria',\n",
       "  'Marinha Grande',\n",
       "  'Nazaré',\n",
       "  'Pedrógão Grande',\n",
       "  'Peniche',\n",
       "  'Pombal',\n",
       "  'Porto de Mós'],\n",
       " 'Oeste': ['Alenquer',\n",
       "  'Arruda dos Vinhos',\n",
       "  'Azambuja',\n",
       "  'Vila Franca de Xira',\n",
       "  'Alcochete',\n",
       "  'Montijo'],\n",
       " 'Algarve': ['Albufeira',\n",
       "  'Alcoutim',\n",
       "  'Tavira',\n",
       "  'Aljezur',\n",
       "  'Castro Marim',\n",
       "  'Faro',\n",
       "  'Lagoa',\n",
       "  'Lagos',\n",
       "  'Loulé',\n",
       "  'Monchique',\n",
       "  'Olhão',\n",
       "  'Portimão',\n",
       "  'São Brás de Alportel',\n",
       "  'Silves',\n",
       "  'Vila do Bispo',\n",
       "  'Vila Real de Santo António'],\n",
       " 'Trás-os-Montes': ['Mogadouro', 'Vila Flor'],\n",
       " 'Madeira + Azores': ['Câmara de Lobos',\n",
       "  'Calheta',\n",
       "  'Funchal',\n",
       "  'Machico',\n",
       "  'Ponta do Sol',\n",
       "  'Porto Moniz',\n",
       "  'Porto Santo',\n",
       "  'Ribeira Brava',\n",
       "  'São Vicente',\n",
       "  'Santa Cruz',\n",
       "  'Santana',\n",
       "  'Angra do Heroísmo',\n",
       "  'Calheta',\n",
       "  'Corvo',\n",
       "  'Horta',\n",
       "  'Lagoa',\n",
       "  'Lajes das Flores',\n",
       "  'Lajes do Pico',\n",
       "  'Madalena',\n",
       "  'Nordeste',\n",
       "  'Ponta Delgada',\n",
       "  'Povoação',\n",
       "  'Praia da Vitória',\n",
       "  'Ribeira Grande',\n",
       "  'São Roque do Pico',\n",
       "  'Santa Cruz da Graciosa',\n",
       "  'Santa Cruz das Flores',\n",
       "  'Velas',\n",
       "  'Vila do Porto',\n",
       "  'Vila Franca do Campo'],\n",
       " 'Minho': ['Amares',\n",
       "  'Barcelos',\n",
       "  'Braga',\n",
       "  'Guimarães',\n",
       "  'Cabeceiras de Basto',\n",
       "  'Celorico de Basto',\n",
       "  'Esposende',\n",
       "  'Fafe',\n",
       "  'Póvoa de Lanhoso',\n",
       "  'Terras de Bouro',\n",
       "  'Vieira do Minho',\n",
       "  'Vila Nova de Famalicão',\n",
       "  'Vila Verde',\n",
       "  'Vizela',\n",
       "  'Arcos de Valdevez',\n",
       "  'Caminha',\n",
       "  'Melgaço',\n",
       "  'Monção',\n",
       "  'Paredes de Coura',\n",
       "  'Ponte da Barca',\n",
       "  'Ponte de Lima',\n",
       "  'Valença',\n",
       "  'Viana do Castelo',\n",
       "  'Vila Nova de Cerveira']}"
      ]
     },
     "execution_count": 949,
     "metadata": {},
     "output_type": "execute_result"
    }
   ],
   "source": [
    "mapping"
   ]
  },
  {
   "cell_type": "markdown",
   "metadata": {},
   "source": [
    "### Checks"
   ]
  },
  {
   "cell_type": "markdown",
   "metadata": {},
   "source": [
    "If the keys of the mapping coincide with the original regions"
   ]
  },
  {
   "cell_type": "code",
   "execution_count": 950,
   "metadata": {},
   "outputs": [
    {
     "data": {
      "text/plain": [
       "True"
      ]
     },
     "execution_count": 950,
     "metadata": {},
     "output_type": "execute_result"
    }
   ],
   "source": [
    "mapping_keys = list(mapping.keys())\n",
    "set(mapping_keys) == set(regions_prePCF)"
   ]
  },
  {
   "cell_type": "markdown",
   "metadata": {},
   "source": [
    "Check on municipalities: duplicates inserted with the regions"
   ]
  },
  {
   "cell_type": "code",
   "execution_count": 951,
   "metadata": {},
   "outputs": [],
   "source": [
    "municipalities_in_mapping = [munic for mapped in mapping.values() for munic in mapped]"
   ]
  },
  {
   "cell_type": "code",
   "execution_count": 952,
   "metadata": {
    "scrolled": true
   },
   "outputs": [
    {
     "data": {
      "text/plain": [
       "220"
      ]
     },
     "execution_count": 952,
     "metadata": {},
     "output_type": "execute_result"
    }
   ],
   "source": [
    "len(municipalities_in_mapping)"
   ]
  },
  {
   "cell_type": "code",
   "execution_count": 953,
   "metadata": {},
   "outputs": [
    {
     "data": {
      "text/plain": [
       "218"
      ]
     },
     "execution_count": 953,
     "metadata": {},
     "output_type": "execute_result"
    }
   ],
   "source": [
    "len(set(municipalities_in_mapping))"
   ]
  },
  {
   "cell_type": "code",
   "execution_count": 954,
   "metadata": {},
   "outputs": [],
   "source": [
    "import collections"
   ]
  },
  {
   "cell_type": "code",
   "execution_count": 955,
   "metadata": {
    "scrolled": true
   },
   "outputs": [
    {
     "data": {
      "text/plain": [
       "{'Lagoa': 2, 'Calheta': 2}"
      ]
     },
     "execution_count": 955,
     "metadata": {},
     "output_type": "execute_result"
    }
   ],
   "source": [
    "counter = collections.Counter(municipalities_in_mapping)\n",
    "duplicates = {k: v for k, v in counter.items() if v > 1}\n",
    "duplicates"
   ]
  },
  {
   "cell_type": "markdown",
   "metadata": {},
   "source": [
    "Lagoa and Calheta are fine, since there are actually two for each. Therefore no duplicates are present"
   ]
  },
  {
   "cell_type": "markdown",
   "metadata": {},
   "source": [
    "## Disaggregation of adopted area based on pasture area in each municipality"
   ]
  },
  {
   "cell_type": "markdown",
   "metadata": {},
   "source": [
    "Since we are not considering Azores and Madeira in the following analysis, need to remove the corresponding entries"
   ]
  },
  {
   "cell_type": "code",
   "execution_count": 956,
   "metadata": {},
   "outputs": [
    {
     "data": {
      "text/plain": [
       "['Câmara de Lobos',\n",
       " 'Calheta',\n",
       " 'Funchal',\n",
       " 'Machico',\n",
       " 'Ponta do Sol',\n",
       " 'Porto Moniz',\n",
       " 'Porto Santo',\n",
       " 'Ribeira Brava',\n",
       " 'São Vicente',\n",
       " 'Santa Cruz',\n",
       " 'Santana',\n",
       " 'Angra do Heroísmo',\n",
       " 'Calheta',\n",
       " 'Corvo',\n",
       " 'Horta',\n",
       " 'Lagoa',\n",
       " 'Lajes das Flores',\n",
       " 'Lajes do Pico',\n",
       " 'Madalena',\n",
       " 'Nordeste',\n",
       " 'Ponta Delgada',\n",
       " 'Povoação',\n",
       " 'Praia da Vitória',\n",
       " 'Ribeira Grande',\n",
       " 'São Roque do Pico',\n",
       " 'Santa Cruz da Graciosa',\n",
       " 'Santa Cruz das Flores',\n",
       " 'Velas',\n",
       " 'Vila do Porto',\n",
       " 'Vila Franca do Campo']"
      ]
     },
     "execution_count": 956,
     "metadata": {},
     "output_type": "execute_result"
    }
   ],
   "source": [
    "mapping_restr = mapping.copy()\n",
    "\n",
    "mapping_restr.pop('Madeira + Azores')"
   ]
  },
  {
   "cell_type": "code",
   "execution_count": 957,
   "metadata": {
    "scrolled": true
   },
   "outputs": [
    {
     "data": {
      "text/plain": [
       "190"
      ]
     },
     "execution_count": 957,
     "metadata": {},
     "output_type": "execute_result"
    }
   ],
   "source": [
    "municipalities_remained_in_mapping = [munic for mapped in mapping_restr.values() for munic in mapped]\n",
    "len(municipalities_remained_in_mapping)"
   ]
  },
  {
   "cell_type": "markdown",
   "metadata": {},
   "source": [
    "### Disaggregation"
   ]
  },
  {
   "cell_type": "code",
   "execution_count": 958,
   "metadata": {},
   "outputs": [],
   "source": [
    "mapping = mapping_restr\n",
    "out_path_adoption_pre_PCF = (\n",
    "    \"./adoption/SBP adoption previous to 2009 per municipality_PCF mapped.xlsx\"\n",
    "    )"
   ]
  },
  {
   "cell_type": "markdown",
   "metadata": {},
   "source": [
    "Get total pastures area for the municipalities in each region"
   ]
  },
  {
   "cell_type": "code",
   "execution_count": 959,
   "metadata": {},
   "outputs": [
    {
     "name": "stderr",
     "output_type": "stream",
     "text": [
      "C:\\Users\\giaco\\anaconda3\\envs\\SBP_munic_data_manipulation\\lib\\site-packages\\numpy\\core\\_asarray.py:83: VisibleDeprecationWarning: Creating an ndarray from ragged nested sequences (which is a list-or-tuple of lists-or-tuples-or ndarrays with different lengths or shapes) is deprecated. If you meant to do this, you must specify 'dtype=object' when creating the ndarray\n",
      "  return array(a, dtype, copy=False, order=order)\n"
     ]
    }
   ],
   "source": [
    "calc_area = pd.DataFrame(index=mapping.keys())\n",
    "calc_area['Municipalities'] = mapping.values()\n",
    "calc_area.index.name = 'Region'"
   ]
  },
  {
   "cell_type": "code",
   "execution_count": 960,
   "metadata": {},
   "outputs": [],
   "source": [
    "for region in calc_area.index.tolist():\n",
    "    calc_area.loc[region, 'Total pasture area'] = sum([municipalities_pastures_area.loc[munic, 'pastures_area_munic_ha'] \n",
    "                                                 for munic in calc_area.loc[region, 'Municipalities']])"
   ]
  },
  {
   "cell_type": "markdown",
   "metadata": {},
   "source": [
    "Append a column with the region corresponding to the municipality to \"municipalities_pastures_area\""
   ]
  },
  {
   "cell_type": "code",
   "execution_count": 961,
   "metadata": {},
   "outputs": [
    {
     "name": "stderr",
     "output_type": "stream",
     "text": [
      "C:\\Users\\giaco\\anaconda3\\envs\\SBP_munic_data_manipulation\\lib\\site-packages\\pandas\\core\\indexing.py:670: SettingWithCopyWarning: \n",
      "A value is trying to be set on a copy of a slice from a DataFrame\n",
      "\n",
      "See the caveats in the documentation: https://pandas.pydata.org/pandas-docs/stable/user_guide/indexing.html#returning-a-view-versus-a-copy\n",
      "  iloc._setitem_with_indexer(indexer, value)\n"
     ]
    }
   ],
   "source": [
    "municipalities_pastures_area['Region'] = ''\n",
    "for munic in municipalities_pastures_area.index.tolist():\n",
    "    mask = calc_area['Municipalities'].apply(lambda x: munic in x)\n",
    "    try:\n",
    "        region = calc_area[mask].index.values[0]\n",
    "    except IndexError:\n",
    "        region = float('NaN')\n",
    "    municipalities_pastures_area['Region'].loc[munic] = region"
   ]
  },
  {
   "cell_type": "code",
   "execution_count": 962,
   "metadata": {
    "scrolled": true
   },
   "outputs": [
    {
     "data": {
      "text/plain": [
       "190"
      ]
     },
     "execution_count": 962,
     "metadata": {},
     "output_type": "execute_result"
    }
   ],
   "source": [
    "len(municipalities_pastures_area[municipalities_pastures_area['Region'].notnull()])"
   ]
  },
  {
   "cell_type": "markdown",
   "metadata": {},
   "source": [
    "Makes sense, of the 278 municipalities considered (exluding Madeira and Azores), 186 are mapped to a region in the PCF and will have a non null adoption (in fact the municipalities mapped to a region were 186). The remaining will not have any adoption."
   ]
  },
  {
   "cell_type": "markdown",
   "metadata": {},
   "source": [
    "Calculate coefficients of area percentage for each municipality"
   ]
  },
  {
   "cell_type": "code",
   "execution_count": 963,
   "metadata": {},
   "outputs": [],
   "source": [
    "municipalities_pastures_area['Area coefficient'] = ''\n",
    "for munic in municipalities_pastures_area.index.tolist():\n",
    "    if pd.isnull(municipalities_pastures_area.loc[munic, 'Region']):\n",
    "        coef = 0\n",
    "    else:\n",
    "        coef = (municipalities_pastures_area.loc[munic, 'pastures_area_munic_ha'] \n",
    "                / calc_area.loc[municipalities_pastures_area.loc[munic, 'Region'], 'Total pasture area'])\n",
    "    municipalities_pastures_area['Area coefficient'].loc[munic] = coef"
   ]
  },
  {
   "cell_type": "code",
   "execution_count": 964,
   "metadata": {
    "scrolled": true
   },
   "outputs": [
    {
     "data": {
      "text/plain": [
       "Area coefficient    True\n",
       "dtype: bool"
      ]
     },
     "execution_count": 964,
     "metadata": {},
     "output_type": "execute_result"
    }
   ],
   "source": [
    "# Check that sum of indices = 1 for all regions\n",
    "(abs(municipalities_pastures_area[['Region', 'Area coefficient']].groupby('Region').sum() - 1) < 0.0001).all()"
   ]
  },
  {
   "cell_type": "markdown",
   "metadata": {},
   "source": [
    "Disaggregate the adoption per year with the coefficients"
   ]
  },
  {
   "cell_type": "code",
   "execution_count": 965,
   "metadata": {},
   "outputs": [],
   "source": [
    "indexes = municipalities_pastures_area.index"
   ]
  },
  {
   "cell_type": "code",
   "execution_count": 966,
   "metadata": {},
   "outputs": [],
   "source": [
    "adoption_pre_PCF_munic = pd.DataFrame(index=indexes, columns=adoption_pre_PCF.columns)"
   ]
  },
  {
   "cell_type": "code",
   "execution_count": 967,
   "metadata": {},
   "outputs": [],
   "source": [
    "for col in adoption_pre_PCF.columns.tolist():\n",
    "    for munic in adoption_pre_PCF_munic.index.tolist():\n",
    "        if municipalities_pastures_area.loc[munic, 'Area coefficient'] == 0:\n",
    "            adoption_pre_PCF_munic.loc[munic, col] = 0\n",
    "        else:       \n",
    "            adoption_pre_PCF_munic.loc[munic, col] = (adoption_pre_PCF.loc[municipalities_pastures_area.loc[munic, 'Region'], col] \n",
    "                                                      * municipalities_pastures_area.loc[munic, 'Area coefficient'])"
   ]
  },
  {
   "cell_type": "markdown",
   "metadata": {},
   "source": [
    "Check if total area remained the same"
   ]
  },
  {
   "cell_type": "code",
   "execution_count": 968,
   "metadata": {},
   "outputs": [
    {
     "data": {
      "text/plain": [
       "83302.5"
      ]
     },
     "execution_count": 968,
     "metadata": {},
     "output_type": "execute_result"
    }
   ],
   "source": [
    "(adoption_pre_PCF.sum()-adoption_pre_PCF.loc[['Madeira + Azores']].sum()).sum()"
   ]
  },
  {
   "cell_type": "code",
   "execution_count": 969,
   "metadata": {
    "scrolled": false
   },
   "outputs": [
    {
     "data": {
      "text/plain": [
       "83302.5"
      ]
     },
     "execution_count": 969,
     "metadata": {},
     "output_type": "execute_result"
    }
   ],
   "source": [
    "adoption_pre_PCF_munic.sum().sum()"
   ]
  },
  {
   "cell_type": "markdown",
   "metadata": {},
   "source": [
    "## Save disaggregated dataset"
   ]
  },
  {
   "cell_type": "code",
   "execution_count": 970,
   "metadata": {},
   "outputs": [],
   "source": [
    "adoption_pre_PCF_munic.index.name = 'Municipality'"
   ]
  },
  {
   "cell_type": "code",
   "execution_count": 971,
   "metadata": {},
   "outputs": [],
   "source": [
    "adoption_pre_PCF_munic.to_excel(out_path_adoption_pre_PCF)"
   ]
  },
  {
   "cell_type": "raw",
   "metadata": {},
   "source": [
    "adoption_pre_PCF_munic"
   ]
  },
  {
   "cell_type": "markdown",
   "metadata": {},
   "source": [
    "# Export of shapefile for ABM"
   ]
  },
  {
   "cell_type": "code",
   "execution_count": 972,
   "metadata": {},
   "outputs": [],
   "source": [
    "munic_to_excl_more = ['São João da Madeira']"
   ]
  },
  {
   "cell_type": "code",
   "execution_count": 973,
   "metadata": {},
   "outputs": [
    {
     "name": "stderr",
     "output_type": "stream",
     "text": [
      "C:\\Users\\giaco\\anaconda3\\envs\\SBP_munic_data_manipulation\\lib\\site-packages\\pandas\\core\\frame.py:4164: SettingWithCopyWarning: \n",
      "A value is trying to be set on a copy of a slice from a DataFrame\n",
      "\n",
      "See the caveats in the documentation: https://pandas.pydata.org/pandas-docs/stable/user_guide/indexing.html#returning-a-view-versus-a-copy\n",
      "  errors=errors,\n"
     ]
    }
   ],
   "source": [
    "shapefile_data_excl.drop(munic_to_excl_more, inplace=True)"
   ]
  },
  {
   "cell_type": "code",
   "execution_count": 974,
   "metadata": {},
   "outputs": [],
   "source": [
    "out_path = \"./counties_shp/Shapefile for ABM/shapefile_for_munic_abm.shp\""
   ]
  },
  {
   "cell_type": "code",
   "execution_count": 975,
   "metadata": {},
   "outputs": [],
   "source": [
    "shapefile_data_excl.to_file(out_path)"
   ]
  },
  {
   "cell_type": "code",
   "execution_count": null,
   "metadata": {},
   "outputs": [],
   "source": []
  }
 ],
 "metadata": {
  "kernelspec": {
   "display_name": "SBP_munic_data_manipulation",
   "language": "python",
   "name": "sbp_munic_data_manipulation"
  },
  "language_info": {
   "codemirror_mode": {
    "name": "ipython",
    "version": 3
   },
   "file_extension": ".py",
   "mimetype": "text/x-python",
   "name": "python",
   "nbconvert_exporter": "python",
   "pygments_lexer": "ipython3",
   "version": "3.7.7"
  }
 },
 "nbformat": 4,
 "nbformat_minor": 4
}
