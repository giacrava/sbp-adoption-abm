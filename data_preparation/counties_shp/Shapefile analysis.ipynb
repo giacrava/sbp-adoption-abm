{
 "cells": [
  {
   "cell_type": "code",
   "execution_count": 2,
   "metadata": {},
   "outputs": [],
   "source": [
    "import geopandas as gpd"
   ]
  },
  {
   "cell_type": "code",
   "execution_count": 3,
   "metadata": {},
   "outputs": [],
   "source": [
    "path_to_shapefile = \"./concelhos.shp\""
   ]
  },
  {
   "cell_type": "code",
   "execution_count": 4,
   "metadata": {
    "scrolled": true
   },
   "outputs": [],
   "source": [
    "shapefile_data_all = gpd.read_file(path_to_shapefile)"
   ]
  },
  {
   "cell_type": "code",
   "execution_count": 5,
   "metadata": {},
   "outputs": [
    {
     "data": {
      "text/html": [
       "<div>\n",
       "<style scoped>\n",
       "    .dataframe tbody tr th:only-of-type {\n",
       "        vertical-align: middle;\n",
       "    }\n",
       "\n",
       "    .dataframe tbody tr th {\n",
       "        vertical-align: top;\n",
       "    }\n",
       "\n",
       "    .dataframe thead th {\n",
       "        text-align: right;\n",
       "    }\n",
       "</style>\n",
       "<table border=\"1\" class=\"dataframe\">\n",
       "  <thead>\n",
       "    <tr style=\"text-align: right;\">\n",
       "      <th></th>\n",
       "      <th>ID_0</th>\n",
       "      <th>ISO</th>\n",
       "      <th>NAME_0</th>\n",
       "      <th>ID_1</th>\n",
       "      <th>NAME_1</th>\n",
       "      <th>ID_2</th>\n",
       "      <th>NAME_2</th>\n",
       "      <th>HASC_2</th>\n",
       "      <th>CCN_2</th>\n",
       "      <th>CCA_2</th>\n",
       "      <th>TYPE_2</th>\n",
       "      <th>ENGTYPE_2</th>\n",
       "      <th>NL_NAME_2</th>\n",
       "      <th>VARNAME_2</th>\n",
       "      <th>geometry</th>\n",
       "    </tr>\n",
       "  </thead>\n",
       "  <tbody>\n",
       "    <tr>\n",
       "      <th>0</th>\n",
       "      <td>182</td>\n",
       "      <td>PRT</td>\n",
       "      <td>Portugal</td>\n",
       "      <td>1</td>\n",
       "      <td>Évora</td>\n",
       "      <td>1</td>\n",
       "      <td>Évora</td>\n",
       "      <td>PT.EV.EV</td>\n",
       "      <td>0</td>\n",
       "      <td>0705</td>\n",
       "      <td>Concelho</td>\n",
       "      <td>Municipality</td>\n",
       "      <td>None</td>\n",
       "      <td>None</td>\n",
       "      <td>POLYGON ((-7.79291 38.76507, -7.79287 38.76506...</td>\n",
       "    </tr>\n",
       "    <tr>\n",
       "      <th>1</th>\n",
       "      <td>182</td>\n",
       "      <td>PRT</td>\n",
       "      <td>Portugal</td>\n",
       "      <td>1</td>\n",
       "      <td>Évora</td>\n",
       "      <td>2</td>\n",
       "      <td>Alandroal</td>\n",
       "      <td>PT.EV.AL</td>\n",
       "      <td>0</td>\n",
       "      <td>0701</td>\n",
       "      <td>Concelho</td>\n",
       "      <td>Municipality</td>\n",
       "      <td>None</td>\n",
       "      <td>None</td>\n",
       "      <td>POLYGON ((-7.25937 38.77351, -7.25921 38.77343...</td>\n",
       "    </tr>\n",
       "    <tr>\n",
       "      <th>2</th>\n",
       "      <td>182</td>\n",
       "      <td>PRT</td>\n",
       "      <td>Portugal</td>\n",
       "      <td>1</td>\n",
       "      <td>Évora</td>\n",
       "      <td>3</td>\n",
       "      <td>Arraiolos</td>\n",
       "      <td>PT.EV.AR</td>\n",
       "      <td>0</td>\n",
       "      <td>0702</td>\n",
       "      <td>Concelho</td>\n",
       "      <td>Municipality</td>\n",
       "      <td>None</td>\n",
       "      <td>None</td>\n",
       "      <td>POLYGON ((-7.88611 38.92495, -7.88580 38.92472...</td>\n",
       "    </tr>\n",
       "    <tr>\n",
       "      <th>3</th>\n",
       "      <td>182</td>\n",
       "      <td>PRT</td>\n",
       "      <td>Portugal</td>\n",
       "      <td>1</td>\n",
       "      <td>Évora</td>\n",
       "      <td>4</td>\n",
       "      <td>Borba</td>\n",
       "      <td>PT.EV.BO</td>\n",
       "      <td>0</td>\n",
       "      <td>0703</td>\n",
       "      <td>Concelho</td>\n",
       "      <td>Municipality</td>\n",
       "      <td>None</td>\n",
       "      <td>None</td>\n",
       "      <td>POLYGON ((-7.46362 38.92344, -7.46344 38.92329...</td>\n",
       "    </tr>\n",
       "    <tr>\n",
       "      <th>4</th>\n",
       "      <td>182</td>\n",
       "      <td>PRT</td>\n",
       "      <td>Portugal</td>\n",
       "      <td>1</td>\n",
       "      <td>Évora</td>\n",
       "      <td>5</td>\n",
       "      <td>Estremoz</td>\n",
       "      <td>PT.EV.ES</td>\n",
       "      <td>0</td>\n",
       "      <td>0704</td>\n",
       "      <td>Concelho</td>\n",
       "      <td>Municipality</td>\n",
       "      <td>None</td>\n",
       "      <td>None</td>\n",
       "      <td>POLYGON ((-7.52770 39.00080, -7.52765 39.00066...</td>\n",
       "    </tr>\n",
       "  </tbody>\n",
       "</table>\n",
       "</div>"
      ],
      "text/plain": [
       "   ID_0  ISO    NAME_0  ID_1 NAME_1  ID_2     NAME_2    HASC_2  CCN_2 CCA_2  \\\n",
       "0   182  PRT  Portugal     1  Évora     1      Évora  PT.EV.EV      0  0705   \n",
       "1   182  PRT  Portugal     1  Évora     2  Alandroal  PT.EV.AL      0  0701   \n",
       "2   182  PRT  Portugal     1  Évora     3  Arraiolos  PT.EV.AR      0  0702   \n",
       "3   182  PRT  Portugal     1  Évora     4      Borba  PT.EV.BO      0  0703   \n",
       "4   182  PRT  Portugal     1  Évora     5   Estremoz  PT.EV.ES      0  0704   \n",
       "\n",
       "     TYPE_2     ENGTYPE_2 NL_NAME_2 VARNAME_2  \\\n",
       "0  Concelho  Municipality      None      None   \n",
       "1  Concelho  Municipality      None      None   \n",
       "2  Concelho  Municipality      None      None   \n",
       "3  Concelho  Municipality      None      None   \n",
       "4  Concelho  Municipality      None      None   \n",
       "\n",
       "                                            geometry  \n",
       "0  POLYGON ((-7.79291 38.76507, -7.79287 38.76506...  \n",
       "1  POLYGON ((-7.25937 38.77351, -7.25921 38.77343...  \n",
       "2  POLYGON ((-7.88611 38.92495, -7.88580 38.92472...  \n",
       "3  POLYGON ((-7.46362 38.92344, -7.46344 38.92329...  \n",
       "4  POLYGON ((-7.52770 39.00080, -7.52765 39.00066...  "
      ]
     },
     "execution_count": 5,
     "metadata": {},
     "output_type": "execute_result"
    }
   ],
   "source": [
    "shapefile_data_all.head()"
   ]
  },
  {
   "cell_type": "code",
   "execution_count": 6,
   "metadata": {
    "scrolled": false
   },
   "outputs": [
    {
     "data": {
      "text/html": [
       "<div>\n",
       "<style scoped>\n",
       "    .dataframe tbody tr th:only-of-type {\n",
       "        vertical-align: middle;\n",
       "    }\n",
       "\n",
       "    .dataframe tbody tr th {\n",
       "        vertical-align: top;\n",
       "    }\n",
       "\n",
       "    .dataframe thead th {\n",
       "        text-align: right;\n",
       "    }\n",
       "</style>\n",
       "<table border=\"1\" class=\"dataframe\">\n",
       "  <thead>\n",
       "    <tr style=\"text-align: right;\">\n",
       "      <th></th>\n",
       "      <th>District</th>\n",
       "      <th>Municipality</th>\n",
       "      <th>geometry</th>\n",
       "      <th>CCA_2</th>\n",
       "    </tr>\n",
       "  </thead>\n",
       "  <tbody>\n",
       "    <tr>\n",
       "      <th>0</th>\n",
       "      <td>Évora</td>\n",
       "      <td>Évora</td>\n",
       "      <td>POLYGON ((-7.79291 38.76507, -7.79287 38.76506...</td>\n",
       "      <td>0705</td>\n",
       "    </tr>\n",
       "    <tr>\n",
       "      <th>1</th>\n",
       "      <td>Évora</td>\n",
       "      <td>Alandroal</td>\n",
       "      <td>POLYGON ((-7.25937 38.77351, -7.25921 38.77343...</td>\n",
       "      <td>0701</td>\n",
       "    </tr>\n",
       "    <tr>\n",
       "      <th>2</th>\n",
       "      <td>Évora</td>\n",
       "      <td>Arraiolos</td>\n",
       "      <td>POLYGON ((-7.88611 38.92495, -7.88580 38.92472...</td>\n",
       "      <td>0702</td>\n",
       "    </tr>\n",
       "    <tr>\n",
       "      <th>3</th>\n",
       "      <td>Évora</td>\n",
       "      <td>Borba</td>\n",
       "      <td>POLYGON ((-7.46362 38.92344, -7.46344 38.92329...</td>\n",
       "      <td>0703</td>\n",
       "    </tr>\n",
       "    <tr>\n",
       "      <th>4</th>\n",
       "      <td>Évora</td>\n",
       "      <td>Estremoz</td>\n",
       "      <td>POLYGON ((-7.52770 39.00080, -7.52765 39.00066...</td>\n",
       "      <td>0704</td>\n",
       "    </tr>\n",
       "  </tbody>\n",
       "</table>\n",
       "</div>"
      ],
      "text/plain": [
       "  District Municipality                                           geometry  \\\n",
       "0    Évora        Évora  POLYGON ((-7.79291 38.76507, -7.79287 38.76506...   \n",
       "1    Évora    Alandroal  POLYGON ((-7.25937 38.77351, -7.25921 38.77343...   \n",
       "2    Évora    Arraiolos  POLYGON ((-7.88611 38.92495, -7.88580 38.92472...   \n",
       "3    Évora        Borba  POLYGON ((-7.46362 38.92344, -7.46344 38.92329...   \n",
       "4    Évora     Estremoz  POLYGON ((-7.52770 39.00080, -7.52765 39.00066...   \n",
       "\n",
       "  CCA_2  \n",
       "0  0705  \n",
       "1  0701  \n",
       "2  0702  \n",
       "3  0703  \n",
       "4  0704  "
      ]
     },
     "execution_count": 6,
     "metadata": {},
     "output_type": "execute_result"
    }
   ],
   "source": [
    "shapefile_data = shapefile_data_all[['NAME_1', 'NAME_2', 'geometry', 'CCA_2']]\n",
    "shapefile_data.columns = ['District', 'Municipality', 'geometry', 'CCA_2']\n",
    "shapefile_data.head()"
   ]
  },
  {
   "cell_type": "code",
   "execution_count": 7,
   "metadata": {},
   "outputs": [
    {
     "data": {
      "text/plain": [
       "array(['Évora', 'Aveiro', 'Azores', 'Beja', 'Braga', 'Bragança',\n",
       "       'Castelo Branco', 'Coimbra', 'Faro', 'Guarda', 'Leiria', 'Lisboa',\n",
       "       'Madeira', 'Portalegre', 'Porto', 'Santarém', 'Setúbal',\n",
       "       'Viana do Castelo', 'Vila Real', 'Viseu'], dtype=object)"
      ]
     },
     "execution_count": 7,
     "metadata": {},
     "output_type": "execute_result"
    }
   ],
   "source": [
    "shapefile_data['District'].unique()"
   ]
  },
  {
   "cell_type": "markdown",
   "metadata": {},
   "source": [
    "### Check and fix duplicated municipalities"
   ]
  },
  {
   "cell_type": "code",
   "execution_count": 8,
   "metadata": {},
   "outputs": [],
   "source": [
    "new_shapefile_data = shapefile_data.copy()"
   ]
  },
  {
   "cell_type": "code",
   "execution_count": 9,
   "metadata": {},
   "outputs": [
    {
     "name": "stdout",
     "output_type": "stream",
     "text": [
      "Calheta\n",
      "Lagoa\n",
      "Braga\n",
      "Braga\n",
      "Alcoutim\n",
      "Alcoutim\n",
      "Lagoa\n",
      "Calheta\n"
     ]
    }
   ],
   "source": [
    "municipalities = shapefile_data['Municipality'].tolist()\n",
    "for munic in municipalities:\n",
    "    appearances = municipalities.count(munic)\n",
    "    if appearances > 1:\n",
    "        print(munic)"
   ]
  },
  {
   "cell_type": "markdown",
   "metadata": {},
   "source": [
    "From the comments on the website, we know that:\n",
    "* Braga is reported twice instead of Guimarães\n",
    "* Alcoutim is reported twice instead of Tavira"
   ]
  },
  {
   "cell_type": "code",
   "execution_count": 10,
   "metadata": {},
   "outputs": [
    {
     "data": {
      "text/html": [
       "<div>\n",
       "<style scoped>\n",
       "    .dataframe tbody tr th:only-of-type {\n",
       "        vertical-align: middle;\n",
       "    }\n",
       "\n",
       "    .dataframe tbody tr th {\n",
       "        vertical-align: top;\n",
       "    }\n",
       "\n",
       "    .dataframe thead th {\n",
       "        text-align: right;\n",
       "    }\n",
       "</style>\n",
       "<table border=\"1\" class=\"dataframe\">\n",
       "  <thead>\n",
       "    <tr style=\"text-align: right;\">\n",
       "      <th></th>\n",
       "      <th>District</th>\n",
       "      <th>Municipality</th>\n",
       "      <th>geometry</th>\n",
       "      <th>CCA_2</th>\n",
       "    </tr>\n",
       "  </thead>\n",
       "  <tbody>\n",
       "    <tr>\n",
       "      <th>68</th>\n",
       "      <td>Braga</td>\n",
       "      <td>Braga</td>\n",
       "      <td>POLYGON ((-8.35704 41.61721, -8.35661 41.61719...</td>\n",
       "      <td>0303</td>\n",
       "    </tr>\n",
       "    <tr>\n",
       "      <th>69</th>\n",
       "      <td>Braga</td>\n",
       "      <td>Braga</td>\n",
       "      <td>POLYGON ((-8.31783 41.54539, -8.31739 41.54216...</td>\n",
       "      <td>0308</td>\n",
       "    </tr>\n",
       "  </tbody>\n",
       "</table>\n",
       "</div>"
      ],
      "text/plain": [
       "   District Municipality                                           geometry  \\\n",
       "68    Braga        Braga  POLYGON ((-8.35704 41.61721, -8.35661 41.61719...   \n",
       "69    Braga        Braga  POLYGON ((-8.31783 41.54539, -8.31739 41.54216...   \n",
       "\n",
       "   CCA_2  \n",
       "68  0303  \n",
       "69  0308  "
      ]
     },
     "execution_count": 10,
     "metadata": {},
     "output_type": "execute_result"
    }
   ],
   "source": [
    "shapefile_data.loc[shapefile_data['Municipality'] == 'Braga']"
   ]
  },
  {
   "cell_type": "code",
   "execution_count": 11,
   "metadata": {},
   "outputs": [],
   "source": [
    "new_shapefile_data.loc[new_shapefile_data['CCA_2'] == '0308', 'Municipality'] = 'Guimarães'"
   ]
  },
  {
   "cell_type": "code",
   "execution_count": 12,
   "metadata": {},
   "outputs": [
    {
     "data": {
      "text/html": [
       "<div>\n",
       "<style scoped>\n",
       "    .dataframe tbody tr th:only-of-type {\n",
       "        vertical-align: middle;\n",
       "    }\n",
       "\n",
       "    .dataframe tbody tr th {\n",
       "        vertical-align: top;\n",
       "    }\n",
       "\n",
       "    .dataframe thead th {\n",
       "        text-align: right;\n",
       "    }\n",
       "</style>\n",
       "<table border=\"1\" class=\"dataframe\">\n",
       "  <thead>\n",
       "    <tr style=\"text-align: right;\">\n",
       "      <th></th>\n",
       "      <th>District</th>\n",
       "      <th>Municipality</th>\n",
       "      <th>geometry</th>\n",
       "      <th>CCA_2</th>\n",
       "    </tr>\n",
       "  </thead>\n",
       "  <tbody>\n",
       "    <tr>\n",
       "      <th>121</th>\n",
       "      <td>Faro</td>\n",
       "      <td>Alcoutim</td>\n",
       "      <td>POLYGON ((-7.56960 37.52726, -7.56915 37.52715...</td>\n",
       "      <td>0802</td>\n",
       "    </tr>\n",
       "    <tr>\n",
       "      <th>122</th>\n",
       "      <td>Faro</td>\n",
       "      <td>Alcoutim</td>\n",
       "      <td>MULTIPOLYGON (((-7.61847 37.11625, -7.61847 37...</td>\n",
       "      <td>0814</td>\n",
       "    </tr>\n",
       "  </tbody>\n",
       "</table>\n",
       "</div>"
      ],
      "text/plain": [
       "    District Municipality                                           geometry  \\\n",
       "121     Faro     Alcoutim  POLYGON ((-7.56960 37.52726, -7.56915 37.52715...   \n",
       "122     Faro     Alcoutim  MULTIPOLYGON (((-7.61847 37.11625, -7.61847 37...   \n",
       "\n",
       "    CCA_2  \n",
       "121  0802  \n",
       "122  0814  "
      ]
     },
     "execution_count": 12,
     "metadata": {},
     "output_type": "execute_result"
    }
   ],
   "source": [
    "shapefile_data.loc[shapefile_data['Municipality'] == 'Alcoutim']"
   ]
  },
  {
   "cell_type": "code",
   "execution_count": 13,
   "metadata": {},
   "outputs": [],
   "source": [
    "new_shapefile_data.loc[new_shapefile_data['CCA_2'] == '0814', 'Municipality'] = 'Tavira'"
   ]
  },
  {
   "cell_type": "markdown",
   "metadata": {},
   "source": [
    "For the other two, need to check the codes"
   ]
  },
  {
   "cell_type": "code",
   "execution_count": 14,
   "metadata": {},
   "outputs": [
    {
     "data": {
      "text/html": [
       "<div>\n",
       "<style scoped>\n",
       "    .dataframe tbody tr th:only-of-type {\n",
       "        vertical-align: middle;\n",
       "    }\n",
       "\n",
       "    .dataframe tbody tr th {\n",
       "        vertical-align: top;\n",
       "    }\n",
       "\n",
       "    .dataframe thead th {\n",
       "        text-align: right;\n",
       "    }\n",
       "</style>\n",
       "<table border=\"1\" class=\"dataframe\">\n",
       "  <thead>\n",
       "    <tr style=\"text-align: right;\">\n",
       "      <th></th>\n",
       "      <th>District</th>\n",
       "      <th>Municipality</th>\n",
       "      <th>geometry</th>\n",
       "      <th>CCA_2</th>\n",
       "    </tr>\n",
       "  </thead>\n",
       "  <tbody>\n",
       "    <tr>\n",
       "      <th>34</th>\n",
       "      <td>Azores</td>\n",
       "      <td>Calheta</td>\n",
       "      <td>MULTIPOLYGON (((-28.03560 38.60697, -28.03561 ...</td>\n",
       "      <td>4501</td>\n",
       "    </tr>\n",
       "    <tr>\n",
       "      <th>183</th>\n",
       "      <td>Madeira</td>\n",
       "      <td>Calheta</td>\n",
       "      <td>MULTIPOLYGON (((-17.24440 32.78358, -17.24445 ...</td>\n",
       "      <td>3101</td>\n",
       "    </tr>\n",
       "  </tbody>\n",
       "</table>\n",
       "</div>"
      ],
      "text/plain": [
       "    District Municipality                                           geometry  \\\n",
       "34    Azores      Calheta  MULTIPOLYGON (((-28.03560 38.60697, -28.03561 ...   \n",
       "183  Madeira      Calheta  MULTIPOLYGON (((-17.24440 32.78358, -17.24445 ...   \n",
       "\n",
       "    CCA_2  \n",
       "34   4501  \n",
       "183  3101  "
      ]
     },
     "execution_count": 14,
     "metadata": {},
     "output_type": "execute_result"
    }
   ],
   "source": [
    "shapefile_data.loc[shapefile_data['Municipality'] == 'Calheta']"
   ]
  },
  {
   "cell_type": "code",
   "execution_count": 15,
   "metadata": {},
   "outputs": [
    {
     "data": {
      "text/html": [
       "<div>\n",
       "<style scoped>\n",
       "    .dataframe tbody tr th:only-of-type {\n",
       "        vertical-align: middle;\n",
       "    }\n",
       "\n",
       "    .dataframe tbody tr th {\n",
       "        vertical-align: top;\n",
       "    }\n",
       "\n",
       "    .dataframe thead th {\n",
       "        text-align: right;\n",
       "    }\n",
       "</style>\n",
       "<table border=\"1\" class=\"dataframe\">\n",
       "  <thead>\n",
       "    <tr style=\"text-align: right;\">\n",
       "      <th></th>\n",
       "      <th>District</th>\n",
       "      <th>Municipality</th>\n",
       "      <th>geometry</th>\n",
       "      <th>CCA_2</th>\n",
       "    </tr>\n",
       "  </thead>\n",
       "  <tbody>\n",
       "    <tr>\n",
       "      <th>37</th>\n",
       "      <td>Azores</td>\n",
       "      <td>Lagoa</td>\n",
       "      <td>POLYGON ((-25.55903 37.77534, -25.55883 37.775...</td>\n",
       "      <td>4201</td>\n",
       "    </tr>\n",
       "    <tr>\n",
       "      <th>126</th>\n",
       "      <td>Faro</td>\n",
       "      <td>Lagoa</td>\n",
       "      <td>MULTIPOLYGON (((-8.44033 37.08669, -8.44038 37...</td>\n",
       "      <td>0806</td>\n",
       "    </tr>\n",
       "  </tbody>\n",
       "</table>\n",
       "</div>"
      ],
      "text/plain": [
       "    District Municipality                                           geometry  \\\n",
       "37    Azores        Lagoa  POLYGON ((-25.55903 37.77534, -25.55883 37.775...   \n",
       "126     Faro        Lagoa  MULTIPOLYGON (((-8.44033 37.08669, -8.44038 37...   \n",
       "\n",
       "    CCA_2  \n",
       "37   4201  \n",
       "126  0806  "
      ]
     },
     "execution_count": 15,
     "metadata": {},
     "output_type": "execute_result"
    }
   ],
   "source": [
    "shapefile_data.loc[shapefile_data['Municipality'] == 'Lagoa']"
   ]
  },
  {
   "cell_type": "markdown",
   "metadata": {},
   "source": [
    "These two are not duplicated, two municipalities exist with that name"
   ]
  },
  {
   "cell_type": "markdown",
   "metadata": {},
   "source": [
    "### Check how Ponte de Sor is reported"
   ]
  },
  {
   "cell_type": "code",
   "execution_count": 16,
   "metadata": {},
   "outputs": [
    {
     "data": {
      "text/html": [
       "<div>\n",
       "<style scoped>\n",
       "    .dataframe tbody tr th:only-of-type {\n",
       "        vertical-align: middle;\n",
       "    }\n",
       "\n",
       "    .dataframe tbody tr th {\n",
       "        vertical-align: top;\n",
       "    }\n",
       "\n",
       "    .dataframe thead th {\n",
       "        text-align: right;\n",
       "    }\n",
       "</style>\n",
       "<table border=\"1\" class=\"dataframe\">\n",
       "  <thead>\n",
       "    <tr style=\"text-align: right;\">\n",
       "      <th></th>\n",
       "      <th>District</th>\n",
       "      <th>Municipality</th>\n",
       "      <th>geometry</th>\n",
       "      <th>CCA_2</th>\n",
       "    </tr>\n",
       "  </thead>\n",
       "  <tbody>\n",
       "    <tr>\n",
       "      <th>205</th>\n",
       "      <td>Portalegre</td>\n",
       "      <td>Ponte de Sôr</td>\n",
       "      <td>POLYGON ((-7.98201 39.38449, -7.98185 39.38443...</td>\n",
       "      <td>1213</td>\n",
       "    </tr>\n",
       "  </tbody>\n",
       "</table>\n",
       "</div>"
      ],
      "text/plain": [
       "       District  Municipality  \\\n",
       "205  Portalegre  Ponte de Sôr   \n",
       "\n",
       "                                              geometry CCA_2  \n",
       "205  POLYGON ((-7.98201 39.38449, -7.98185 39.38443...  1213  "
      ]
     },
     "execution_count": 16,
     "metadata": {},
     "output_type": "execute_result"
    }
   ],
   "source": [
    "new_shapefile_data.loc[new_shapefile_data['CCA_2'] == '1213']"
   ]
  },
  {
   "cell_type": "code",
   "execution_count": 17,
   "metadata": {},
   "outputs": [],
   "source": [
    "new_shapefile_data.loc[new_shapefile_data['Municipality'] == 'Ponte de Sôr', 'Municipality'] = 'Ponte de Sor'"
   ]
  },
  {
   "cell_type": "markdown",
   "metadata": {},
   "source": [
    "### Check how Ponte de Sor is reported"
   ]
  },
  {
   "cell_type": "code",
   "execution_count": 18,
   "metadata": {},
   "outputs": [
    {
     "data": {
      "text/html": [
       "<div>\n",
       "<style scoped>\n",
       "    .dataframe tbody tr th:only-of-type {\n",
       "        vertical-align: middle;\n",
       "    }\n",
       "\n",
       "    .dataframe tbody tr th {\n",
       "        vertical-align: top;\n",
       "    }\n",
       "\n",
       "    .dataframe thead th {\n",
       "        text-align: right;\n",
       "    }\n",
       "</style>\n",
       "<table border=\"1\" class=\"dataframe\">\n",
       "  <thead>\n",
       "    <tr style=\"text-align: right;\">\n",
       "      <th></th>\n",
       "      <th>District</th>\n",
       "      <th>Municipality</th>\n",
       "      <th>geometry</th>\n",
       "      <th>CCA_2</th>\n",
       "    </tr>\n",
       "  </thead>\n",
       "  <tbody>\n",
       "    <tr>\n",
       "      <th>205</th>\n",
       "      <td>Portalegre</td>\n",
       "      <td>Ponte de Sor</td>\n",
       "      <td>POLYGON ((-7.98201 39.38449, -7.98185 39.38443...</td>\n",
       "      <td>1213</td>\n",
       "    </tr>\n",
       "  </tbody>\n",
       "</table>\n",
       "</div>"
      ],
      "text/plain": [
       "       District  Municipality  \\\n",
       "205  Portalegre  Ponte de Sor   \n",
       "\n",
       "                                              geometry CCA_2  \n",
       "205  POLYGON ((-7.98201 39.38449, -7.98185 39.38443...  1213  "
      ]
     },
     "execution_count": 18,
     "metadata": {},
     "output_type": "execute_result"
    }
   ],
   "source": [
    "new_shapefile_data.loc[new_shapefile_data['CCA_2'] == '1213']"
   ]
  },
  {
   "cell_type": "code",
   "execution_count": 19,
   "metadata": {},
   "outputs": [],
   "source": [
    "new_shapefile_data.loc[new_shapefile_data['Municipality'] == 'Ponte de Sôr', 'Municipality'] = 'Ponte de Sor'"
   ]
  },
  {
   "cell_type": "markdown",
   "metadata": {},
   "source": [
    "### Check how Meda is reported"
   ]
  },
  {
   "cell_type": "code",
   "execution_count": 20,
   "metadata": {},
   "outputs": [
    {
     "data": {
      "text/html": [
       "<div>\n",
       "<style scoped>\n",
       "    .dataframe tbody tr th:only-of-type {\n",
       "        vertical-align: middle;\n",
       "    }\n",
       "\n",
       "    .dataframe tbody tr th {\n",
       "        vertical-align: top;\n",
       "    }\n",
       "\n",
       "    .dataframe thead th {\n",
       "        text-align: right;\n",
       "    }\n",
       "</style>\n",
       "<table border=\"1\" class=\"dataframe\">\n",
       "  <thead>\n",
       "    <tr style=\"text-align: right;\">\n",
       "      <th></th>\n",
       "      <th>District</th>\n",
       "      <th>Municipality</th>\n",
       "      <th>geometry</th>\n",
       "      <th>CCA_2</th>\n",
       "    </tr>\n",
       "  </thead>\n",
       "  <tbody>\n",
       "    <tr>\n",
       "      <th>143</th>\n",
       "      <td>Guarda</td>\n",
       "      <td>Mêda</td>\n",
       "      <td>POLYGON ((-7.20808 41.03702, -7.20772 41.03698...</td>\n",
       "      <td>0909</td>\n",
       "    </tr>\n",
       "  </tbody>\n",
       "</table>\n",
       "</div>"
      ],
      "text/plain": [
       "    District Municipality                                           geometry  \\\n",
       "143   Guarda         Mêda  POLYGON ((-7.20808 41.03702, -7.20772 41.03698...   \n",
       "\n",
       "    CCA_2  \n",
       "143  0909  "
      ]
     },
     "execution_count": 20,
     "metadata": {},
     "output_type": "execute_result"
    }
   ],
   "source": [
    "new_shapefile_data.loc[new_shapefile_data['CCA_2'] == '0909']"
   ]
  },
  {
   "cell_type": "code",
   "execution_count": 21,
   "metadata": {},
   "outputs": [],
   "source": [
    "new_shapefile_data.loc[new_shapefile_data['Municipality'] == 'Mêda', 'Municipality'] = 'Meda'"
   ]
  },
  {
   "cell_type": "markdown",
   "metadata": {},
   "source": [
    "## Check no duplicates of CCA_2 and set as index"
   ]
  },
  {
   "cell_type": "code",
   "execution_count": 22,
   "metadata": {},
   "outputs": [
    {
     "data": {
      "text/plain": [
       "False"
      ]
     },
     "execution_count": 22,
     "metadata": {},
     "output_type": "execute_result"
    }
   ],
   "source": [
    "any(new_shapefile_data['CCA_2'].value_counts() > 1)"
   ]
  },
  {
   "cell_type": "code",
   "execution_count": 23,
   "metadata": {},
   "outputs": [],
   "source": [
    "new_shapefile_data = new_shapefile_data.set_index('CCA_2')"
   ]
  },
  {
   "cell_type": "markdown",
   "metadata": {},
   "source": [
    "# Save it as a new shapefile"
   ]
  },
  {
   "cell_type": "code",
   "execution_count": 24,
   "metadata": {},
   "outputs": [],
   "source": [
    "data_schema = {'geometry': 'Polygon',\n",
    "               'properties': {'CCA_2': 'str',\n",
    "                              'District': 'str',\n",
    "                              'Municipality': 'str'}}"
   ]
  },
  {
   "cell_type": "code",
   "execution_count": 25,
   "metadata": {},
   "outputs": [],
   "source": [
    "new_shapefile_data.to_file(\"mod_concelhos.shp\", schema=data_schema)"
   ]
  },
  {
   "cell_type": "markdown",
   "metadata": {},
   "source": [
    "**NOTE**: when the created file is uploaded, CCA_2 is not anymore the index and the name of the column Municipality is changed to Municipali"
   ]
  },
  {
   "cell_type": "markdown",
   "metadata": {},
   "source": [
    "# Create a version without Madeira and Azores"
   ]
  },
  {
   "cell_type": "code",
   "execution_count": 26,
   "metadata": {},
   "outputs": [],
   "source": [
    "shapefile_no_mad_az = new_shapefile_data.copy()"
   ]
  },
  {
   "cell_type": "code",
   "execution_count": 27,
   "metadata": {},
   "outputs": [],
   "source": [
    "mask = (shapefile_no_mad_az['District'] == 'Madeira') | (shapefile_no_mad_az['District'] == 'Azores')\n",
    "shapefile_no_mad_az = shapefile_no_mad_az.drop(shapefile_no_mad_az.loc[mask].index)"
   ]
  },
  {
   "cell_type": "markdown",
   "metadata": {},
   "source": [
    "Since do municipalities with the same name are present anymore, we can set the name as the index"
   ]
  },
  {
   "cell_type": "code",
   "execution_count": 28,
   "metadata": {},
   "outputs": [],
   "source": [
    "shapefile_no_mad_az = shapefile_no_mad_az.reset_index().set_index('Municipality')"
   ]
  },
  {
   "cell_type": "code",
   "execution_count": 29,
   "metadata": {},
   "outputs": [],
   "source": [
    "shapefile_no_mad_az.to_file(\"concelhos_no_azores_and_madeira.shp\", schema=data_schema)"
   ]
  }
 ],
 "metadata": {
  "kernelspec": {
   "display_name": "SBP_munic_data_manipulation",
   "language": "python",
   "name": "sbp_munic_data_manipulation"
  },
  "language_info": {
   "codemirror_mode": {
    "name": "ipython",
    "version": 3
   },
   "file_extension": ".py",
   "mimetype": "text/x-python",
   "name": "python",
   "nbconvert_exporter": "python",
   "pygments_lexer": "ipython3",
   "version": "3.7.7"
  }
 },
 "nbformat": 4,
 "nbformat_minor": 4
}
