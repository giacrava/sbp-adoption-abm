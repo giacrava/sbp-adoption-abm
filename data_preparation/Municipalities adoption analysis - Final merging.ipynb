{
 "cells": [
  {
   "cell_type": "markdown",
   "metadata": {},
   "source": [
    "Notebook to perform the final merging of all the databases, ready to be analysed and used to select and train the ML models."
   ]
  },
  {
   "cell_type": "code",
   "execution_count": 90,
   "metadata": {},
   "outputs": [],
   "source": [
    "import pandas as pd"
   ]
  },
  {
   "cell_type": "markdown",
   "metadata": {},
   "source": [
    "# Read files"
   ]
  },
  {
   "cell_type": "markdown",
   "metadata": {},
   "source": [
    "## SBP adoption"
   ]
  },
  {
   "cell_type": "code",
   "execution_count": 91,
   "metadata": {},
   "outputs": [],
   "source": [
    "path_to_adoption = \"./adoption/Final SBP adoption datasets/SBP % yearly adoption + % adoption features_PCF mapped.csv\"\n",
    "final_dataset_out_path = \"../ml_models/Municipalities final dataset for analysis.csv\""
   ]
  },
  {
   "cell_type": "code",
   "execution_count": 92,
   "metadata": {},
   "outputs": [],
   "source": [
    "adoption_data = pd.read_csv(path_to_adoption, index_col=['Municipality', 'Year'])"
   ]
  },
  {
   "cell_type": "code",
   "execution_count": 93,
   "metadata": {
    "scrolled": true
   },
   "outputs": [
    {
     "data": {
      "text/html": [
       "<div>\n",
       "<style scoped>\n",
       "    .dataframe tbody tr th:only-of-type {\n",
       "        vertical-align: middle;\n",
       "    }\n",
       "\n",
       "    .dataframe tbody tr th {\n",
       "        vertical-align: top;\n",
       "    }\n",
       "\n",
       "    .dataframe thead th {\n",
       "        text-align: right;\n",
       "    }\n",
       "</style>\n",
       "<table border=\"1\" class=\"dataframe\">\n",
       "  <thead>\n",
       "    <tr style=\"text-align: right;\">\n",
       "      <th></th>\n",
       "      <th></th>\n",
       "      <th>adoption_in_year</th>\n",
       "      <th>tot_cumul_adoption_pr_y_munic</th>\n",
       "      <th>tot_cumul_adoption_pr_y_port</th>\n",
       "    </tr>\n",
       "    <tr>\n",
       "      <th>Municipality</th>\n",
       "      <th>Year</th>\n",
       "      <th></th>\n",
       "      <th></th>\n",
       "      <th></th>\n",
       "    </tr>\n",
       "  </thead>\n",
       "  <tbody>\n",
       "    <tr>\n",
       "      <th rowspan=\"5\" valign=\"top\">Arouca</th>\n",
       "      <th>1996</th>\n",
       "      <td>0.000000</td>\n",
       "      <td>0.000000</td>\n",
       "      <td>0.000000</td>\n",
       "    </tr>\n",
       "    <tr>\n",
       "      <th>1997</th>\n",
       "      <td>0.000945</td>\n",
       "      <td>0.000000</td>\n",
       "      <td>0.000977</td>\n",
       "    </tr>\n",
       "    <tr>\n",
       "      <th>1998</th>\n",
       "      <td>0.000787</td>\n",
       "      <td>0.000945</td>\n",
       "      <td>0.002112</td>\n",
       "    </tr>\n",
       "    <tr>\n",
       "      <th>1999</th>\n",
       "      <td>0.000000</td>\n",
       "      <td>0.001732</td>\n",
       "      <td>0.004417</td>\n",
       "    </tr>\n",
       "    <tr>\n",
       "      <th>2000</th>\n",
       "      <td>0.000472</td>\n",
       "      <td>0.001732</td>\n",
       "      <td>0.006700</td>\n",
       "    </tr>\n",
       "  </tbody>\n",
       "</table>\n",
       "</div>"
      ],
      "text/plain": [
       "                   adoption_in_year  tot_cumul_adoption_pr_y_munic  \\\n",
       "Municipality Year                                                    \n",
       "Arouca       1996          0.000000                       0.000000   \n",
       "             1997          0.000945                       0.000000   \n",
       "             1998          0.000787                       0.000945   \n",
       "             1999          0.000000                       0.001732   \n",
       "             2000          0.000472                       0.001732   \n",
       "\n",
       "                   tot_cumul_adoption_pr_y_port  \n",
       "Municipality Year                                \n",
       "Arouca       1996                      0.000000  \n",
       "             1997                      0.000977  \n",
       "             1998                      0.002112  \n",
       "             1999                      0.004417  \n",
       "             2000                      0.006700  "
      ]
     },
     "execution_count": 93,
     "metadata": {},
     "output_type": "execute_result"
    }
   ],
   "source": [
    "adoption_data.head()"
   ]
  },
  {
   "cell_type": "markdown",
   "metadata": {},
   "source": [
    "## Climate and soil data"
   ]
  },
  {
   "cell_type": "code",
   "execution_count": 94,
   "metadata": {},
   "outputs": [],
   "source": [
    "path_to_climate_data = \"./environmental/Soil and climate prepared/municipalities_climate_final.csv\"\n",
    "path_to_average_climate = \"./environmental/Soil and climate prepared/municipalities_average_climate_final.csv\"\n",
    "path_to_soil_data = \"./environmental/Soil and climate prepared/municipalities_soil_final.csv\""
   ]
  },
  {
   "cell_type": "code",
   "execution_count": 95,
   "metadata": {
    "scrolled": true
   },
   "outputs": [],
   "source": [
    "climate_data = pd.read_csv(path_to_climate_data, index_col=['Municipality', 'Year'])\n",
    "average_climate_data = pd.read_csv(path_to_average_climate, index_col='Municipality')\n",
    "soil_data = pd.read_csv(path_to_soil_data, index_col='Municipality')"
   ]
  },
  {
   "cell_type": "code",
   "execution_count": 96,
   "metadata": {},
   "outputs": [
    {
     "data": {
      "text/html": [
       "<div>\n",
       "<style scoped>\n",
       "    .dataframe tbody tr th:only-of-type {\n",
       "        vertical-align: middle;\n",
       "    }\n",
       "\n",
       "    .dataframe tbody tr th {\n",
       "        vertical-align: top;\n",
       "    }\n",
       "\n",
       "    .dataframe thead th {\n",
       "        text-align: right;\n",
       "    }\n",
       "</style>\n",
       "<table border=\"1\" class=\"dataframe\">\n",
       "  <thead>\n",
       "    <tr style=\"text-align: right;\">\n",
       "      <th></th>\n",
       "      <th>av_d_mean_t_average_munic</th>\n",
       "      <th>days_mean_t_over_20_average_munic</th>\n",
       "      <th>days_mean_t_over_25_average_munic</th>\n",
       "      <th>av_d_max_t_average_munic</th>\n",
       "      <th>days_max_t_over_30_average_munic</th>\n",
       "      <th>av_d_min_t_average_munic</th>\n",
       "      <th>days_min_t_under_0_average_munic</th>\n",
       "      <th>av_prec_sum_average_munic</th>\n",
       "      <th>days_no_prec_average_munic</th>\n",
       "      <th>cons_days_no_prec_average_munic</th>\n",
       "    </tr>\n",
       "    <tr>\n",
       "      <th>Municipality</th>\n",
       "      <th></th>\n",
       "      <th></th>\n",
       "      <th></th>\n",
       "      <th></th>\n",
       "      <th></th>\n",
       "      <th></th>\n",
       "      <th></th>\n",
       "      <th></th>\n",
       "      <th></th>\n",
       "      <th></th>\n",
       "    </tr>\n",
       "  </thead>\n",
       "  <tbody>\n",
       "    <tr>\n",
       "      <th>Abrantes</th>\n",
       "      <td>16.596448</td>\n",
       "      <td>116.611111</td>\n",
       "      <td>26.902778</td>\n",
       "      <td>66.534722</td>\n",
       "      <td>66.534722</td>\n",
       "      <td>11.317640</td>\n",
       "      <td>0.937500</td>\n",
       "      <td>685.084722</td>\n",
       "      <td>289.652778</td>\n",
       "      <td>68.951389</td>\n",
       "    </tr>\n",
       "    <tr>\n",
       "      <th>Aguiar da Beira</th>\n",
       "      <td>13.713492</td>\n",
       "      <td>76.152778</td>\n",
       "      <td>14.097222</td>\n",
       "      <td>48.444444</td>\n",
       "      <td>48.444444</td>\n",
       "      <td>8.014950</td>\n",
       "      <td>24.041667</td>\n",
       "      <td>718.101411</td>\n",
       "      <td>283.472222</td>\n",
       "      <td>54.833333</td>\n",
       "    </tr>\n",
       "    <tr>\n",
       "      <th>Alandroal</th>\n",
       "      <td>17.106057</td>\n",
       "      <td>132.423611</td>\n",
       "      <td>47.520833</td>\n",
       "      <td>96.562500</td>\n",
       "      <td>96.562500</td>\n",
       "      <td>10.789865</td>\n",
       "      <td>5.256944</td>\n",
       "      <td>524.231945</td>\n",
       "      <td>298.458333</td>\n",
       "      <td>77.166667</td>\n",
       "    </tr>\n",
       "    <tr>\n",
       "      <th>Albergaria-a-Velha</th>\n",
       "      <td>15.510948</td>\n",
       "      <td>84.125000</td>\n",
       "      <td>11.937500</td>\n",
       "      <td>35.395833</td>\n",
       "      <td>35.395833</td>\n",
       "      <td>10.264881</td>\n",
       "      <td>4.958333</td>\n",
       "      <td>1010.233322</td>\n",
       "      <td>269.604167</td>\n",
       "      <td>51.958333</td>\n",
       "    </tr>\n",
       "    <tr>\n",
       "      <th>Albufeira</th>\n",
       "      <td>17.700788</td>\n",
       "      <td>133.111201</td>\n",
       "      <td>27.460015</td>\n",
       "      <td>51.993884</td>\n",
       "      <td>51.993884</td>\n",
       "      <td>13.270923</td>\n",
       "      <td>0.000000</td>\n",
       "      <td>539.082619</td>\n",
       "      <td>303.869243</td>\n",
       "      <td>86.777473</td>\n",
       "    </tr>\n",
       "    <tr>\n",
       "      <th>...</th>\n",
       "      <td>...</td>\n",
       "      <td>...</td>\n",
       "      <td>...</td>\n",
       "      <td>...</td>\n",
       "      <td>...</td>\n",
       "      <td>...</td>\n",
       "      <td>...</td>\n",
       "      <td>...</td>\n",
       "      <td>...</td>\n",
       "      <td>...</td>\n",
       "    </tr>\n",
       "    <tr>\n",
       "      <th>Vouzela</th>\n",
       "      <td>13.760633</td>\n",
       "      <td>60.916667</td>\n",
       "      <td>6.666667</td>\n",
       "      <td>31.083333</td>\n",
       "      <td>31.083333</td>\n",
       "      <td>8.527770</td>\n",
       "      <td>15.812500</td>\n",
       "      <td>1012.556216</td>\n",
       "      <td>274.145833</td>\n",
       "      <td>49.750000</td>\n",
       "    </tr>\n",
       "    <tr>\n",
       "      <th>Águeda</th>\n",
       "      <td>15.662846</td>\n",
       "      <td>88.819444</td>\n",
       "      <td>14.069444</td>\n",
       "      <td>39.694444</td>\n",
       "      <td>39.694444</td>\n",
       "      <td>10.338099</td>\n",
       "      <td>4.861111</td>\n",
       "      <td>965.681938</td>\n",
       "      <td>272.138889</td>\n",
       "      <td>52.916667</td>\n",
       "    </tr>\n",
       "    <tr>\n",
       "      <th>Évora</th>\n",
       "      <td>16.850434</td>\n",
       "      <td>124.676282</td>\n",
       "      <td>35.076923</td>\n",
       "      <td>84.467949</td>\n",
       "      <td>84.467949</td>\n",
       "      <td>11.081661</td>\n",
       "      <td>1.810897</td>\n",
       "      <td>584.363453</td>\n",
       "      <td>295.724359</td>\n",
       "      <td>76.022436</td>\n",
       "    </tr>\n",
       "    <tr>\n",
       "      <th>Ílhavo</th>\n",
       "      <td>16.026550</td>\n",
       "      <td>90.975673</td>\n",
       "      <td>13.890461</td>\n",
       "      <td>34.671996</td>\n",
       "      <td>34.671996</td>\n",
       "      <td>10.978478</td>\n",
       "      <td>2.374414</td>\n",
       "      <td>993.854841</td>\n",
       "      <td>269.248902</td>\n",
       "      <td>51.761665</td>\n",
       "    </tr>\n",
       "    <tr>\n",
       "      <th>Óbidos</th>\n",
       "      <td>16.589924</td>\n",
       "      <td>103.708333</td>\n",
       "      <td>15.208333</td>\n",
       "      <td>31.041667</td>\n",
       "      <td>31.041667</td>\n",
       "      <td>12.768566</td>\n",
       "      <td>0.104167</td>\n",
       "      <td>822.320856</td>\n",
       "      <td>281.458333</td>\n",
       "      <td>59.395833</td>\n",
       "    </tr>\n",
       "  </tbody>\n",
       "</table>\n",
       "<p>278 rows × 10 columns</p>\n",
       "</div>"
      ],
      "text/plain": [
       "                    av_d_mean_t_average_munic  \\\n",
       "Municipality                                    \n",
       "Abrantes                            16.596448   \n",
       "Aguiar da Beira                     13.713492   \n",
       "Alandroal                           17.106057   \n",
       "Albergaria-a-Velha                  15.510948   \n",
       "Albufeira                           17.700788   \n",
       "...                                       ...   \n",
       "Vouzela                             13.760633   \n",
       "Águeda                              15.662846   \n",
       "Évora                               16.850434   \n",
       "Ílhavo                              16.026550   \n",
       "Óbidos                              16.589924   \n",
       "\n",
       "                    days_mean_t_over_20_average_munic  \\\n",
       "Municipality                                            \n",
       "Abrantes                                   116.611111   \n",
       "Aguiar da Beira                             76.152778   \n",
       "Alandroal                                  132.423611   \n",
       "Albergaria-a-Velha                          84.125000   \n",
       "Albufeira                                  133.111201   \n",
       "...                                               ...   \n",
       "Vouzela                                     60.916667   \n",
       "Águeda                                      88.819444   \n",
       "Évora                                      124.676282   \n",
       "Ílhavo                                      90.975673   \n",
       "Óbidos                                     103.708333   \n",
       "\n",
       "                    days_mean_t_over_25_average_munic  \\\n",
       "Municipality                                            \n",
       "Abrantes                                    26.902778   \n",
       "Aguiar da Beira                             14.097222   \n",
       "Alandroal                                   47.520833   \n",
       "Albergaria-a-Velha                          11.937500   \n",
       "Albufeira                                   27.460015   \n",
       "...                                               ...   \n",
       "Vouzela                                      6.666667   \n",
       "Águeda                                      14.069444   \n",
       "Évora                                       35.076923   \n",
       "Ílhavo                                      13.890461   \n",
       "Óbidos                                      15.208333   \n",
       "\n",
       "                    av_d_max_t_average_munic  \\\n",
       "Municipality                                   \n",
       "Abrantes                           66.534722   \n",
       "Aguiar da Beira                    48.444444   \n",
       "Alandroal                          96.562500   \n",
       "Albergaria-a-Velha                 35.395833   \n",
       "Albufeira                          51.993884   \n",
       "...                                      ...   \n",
       "Vouzela                            31.083333   \n",
       "Águeda                             39.694444   \n",
       "Évora                              84.467949   \n",
       "Ílhavo                             34.671996   \n",
       "Óbidos                             31.041667   \n",
       "\n",
       "                    days_max_t_over_30_average_munic  \\\n",
       "Municipality                                           \n",
       "Abrantes                                   66.534722   \n",
       "Aguiar da Beira                            48.444444   \n",
       "Alandroal                                  96.562500   \n",
       "Albergaria-a-Velha                         35.395833   \n",
       "Albufeira                                  51.993884   \n",
       "...                                              ...   \n",
       "Vouzela                                    31.083333   \n",
       "Águeda                                     39.694444   \n",
       "Évora                                      84.467949   \n",
       "Ílhavo                                     34.671996   \n",
       "Óbidos                                     31.041667   \n",
       "\n",
       "                    av_d_min_t_average_munic  \\\n",
       "Municipality                                   \n",
       "Abrantes                           11.317640   \n",
       "Aguiar da Beira                     8.014950   \n",
       "Alandroal                          10.789865   \n",
       "Albergaria-a-Velha                 10.264881   \n",
       "Albufeira                          13.270923   \n",
       "...                                      ...   \n",
       "Vouzela                             8.527770   \n",
       "Águeda                             10.338099   \n",
       "Évora                              11.081661   \n",
       "Ílhavo                             10.978478   \n",
       "Óbidos                             12.768566   \n",
       "\n",
       "                    days_min_t_under_0_average_munic  \\\n",
       "Municipality                                           \n",
       "Abrantes                                    0.937500   \n",
       "Aguiar da Beira                            24.041667   \n",
       "Alandroal                                   5.256944   \n",
       "Albergaria-a-Velha                          4.958333   \n",
       "Albufeira                                   0.000000   \n",
       "...                                              ...   \n",
       "Vouzela                                    15.812500   \n",
       "Águeda                                      4.861111   \n",
       "Évora                                       1.810897   \n",
       "Ílhavo                                      2.374414   \n",
       "Óbidos                                      0.104167   \n",
       "\n",
       "                    av_prec_sum_average_munic  days_no_prec_average_munic  \\\n",
       "Municipality                                                                \n",
       "Abrantes                           685.084722                  289.652778   \n",
       "Aguiar da Beira                    718.101411                  283.472222   \n",
       "Alandroal                          524.231945                  298.458333   \n",
       "Albergaria-a-Velha                1010.233322                  269.604167   \n",
       "Albufeira                          539.082619                  303.869243   \n",
       "...                                       ...                         ...   \n",
       "Vouzela                           1012.556216                  274.145833   \n",
       "Águeda                             965.681938                  272.138889   \n",
       "Évora                              584.363453                  295.724359   \n",
       "Ílhavo                             993.854841                  269.248902   \n",
       "Óbidos                             822.320856                  281.458333   \n",
       "\n",
       "                    cons_days_no_prec_average_munic  \n",
       "Municipality                                         \n",
       "Abrantes                                  68.951389  \n",
       "Aguiar da Beira                           54.833333  \n",
       "Alandroal                                 77.166667  \n",
       "Albergaria-a-Velha                        51.958333  \n",
       "Albufeira                                 86.777473  \n",
       "...                                             ...  \n",
       "Vouzela                                   49.750000  \n",
       "Águeda                                    52.916667  \n",
       "Évora                                     76.022436  \n",
       "Ílhavo                                    51.761665  \n",
       "Óbidos                                    59.395833  \n",
       "\n",
       "[278 rows x 10 columns]"
      ]
     },
     "execution_count": 96,
     "metadata": {},
     "output_type": "execute_result"
    }
   ],
   "source": [
    "average_climate_data"
   ]
  },
  {
   "cell_type": "markdown",
   "metadata": {},
   "source": [
    "## SBP payments"
   ]
  },
  {
   "cell_type": "code",
   "execution_count": 97,
   "metadata": {},
   "outputs": [],
   "source": [
    "sbp_payments_path = \"./economic/sbp_payments.xlsx\""
   ]
  },
  {
   "cell_type": "code",
   "execution_count": 98,
   "metadata": {},
   "outputs": [],
   "source": [
    "sbp_payments = pd.read_excel(sbp_payments_path, index_col='Year')"
   ]
  },
  {
   "cell_type": "markdown",
   "metadata": {},
   "source": [
    "## Census data"
   ]
  },
  {
   "cell_type": "code",
   "execution_count": 99,
   "metadata": {},
   "outputs": [],
   "source": [
    "census_data_path = \"./census/extracted/census_data.csv\""
   ]
  },
  {
   "cell_type": "code",
   "execution_count": 100,
   "metadata": {},
   "outputs": [],
   "source": [
    "census_data = pd.read_csv(census_data_path, index_col=['Municipality', 'Year'])"
   ]
  },
  {
   "cell_type": "code",
   "execution_count": 101,
   "metadata": {},
   "outputs": [
    {
     "data": {
      "text/html": [
       "<div>\n",
       "<style scoped>\n",
       "    .dataframe tbody tr th:only-of-type {\n",
       "        vertical-align: middle;\n",
       "    }\n",
       "\n",
       "    .dataframe tbody tr th {\n",
       "        vertical-align: top;\n",
       "    }\n",
       "\n",
       "    .dataframe thead th {\n",
       "        text-align: right;\n",
       "    }\n",
       "</style>\n",
       "<table border=\"1\" class=\"dataframe\">\n",
       "  <thead>\n",
       "    <tr style=\"text-align: right;\">\n",
       "      <th></th>\n",
       "      <th></th>\n",
       "      <th>pastures_area_var</th>\n",
       "      <th>pastures_area_munic</th>\n",
       "      <th>pastures_area_mean</th>\n",
       "      <th>agric_area_mean</th>\n",
       "      <th>agric_area_owned</th>\n",
       "      <th>tract_100ha</th>\n",
       "      <th>lu_cattle</th>\n",
       "      <th>lu_per_agric_area</th>\n",
       "      <th>farmers_female</th>\n",
       "      <th>farmers_over65</th>\n",
       "      <th>educ_none</th>\n",
       "      <th>educ_second_super</th>\n",
       "      <th>agric_time_full</th>\n",
       "      <th>inc_excl_agric</th>\n",
       "      <th>inc_mainly_ext</th>\n",
       "      <th>work_unit_100ha</th>\n",
       "    </tr>\n",
       "    <tr>\n",
       "      <th>Municipality</th>\n",
       "      <th>Year</th>\n",
       "      <th></th>\n",
       "      <th></th>\n",
       "      <th></th>\n",
       "      <th></th>\n",
       "      <th></th>\n",
       "      <th></th>\n",
       "      <th></th>\n",
       "      <th></th>\n",
       "      <th></th>\n",
       "      <th></th>\n",
       "      <th></th>\n",
       "      <th></th>\n",
       "      <th></th>\n",
       "      <th></th>\n",
       "      <th></th>\n",
       "      <th></th>\n",
       "    </tr>\n",
       "  </thead>\n",
       "  <tbody>\n",
       "    <tr>\n",
       "      <th rowspan=\"5\" valign=\"top\">Arouca</th>\n",
       "      <th>1996</th>\n",
       "      <td>0.397925</td>\n",
       "      <td>0.242528</td>\n",
       "      <td>0.507848</td>\n",
       "      <td>2.16</td>\n",
       "      <td>0.608311</td>\n",
       "      <td>13.1</td>\n",
       "      <td>0.709799</td>\n",
       "      <td>1.982</td>\n",
       "      <td>0.370022</td>\n",
       "      <td>0.237885</td>\n",
       "      <td>36.832</td>\n",
       "      <td>1.572</td>\n",
       "      <td>50.244</td>\n",
       "      <td>0.150848</td>\n",
       "      <td>0.338799</td>\n",
       "      <td>94.74</td>\n",
       "    </tr>\n",
       "    <tr>\n",
       "      <th>1997</th>\n",
       "      <td>0.426326</td>\n",
       "      <td>0.263592</td>\n",
       "      <td>0.568551</td>\n",
       "      <td>2.22</td>\n",
       "      <td>0.612822</td>\n",
       "      <td>13.6</td>\n",
       "      <td>0.710031</td>\n",
       "      <td>1.974</td>\n",
       "      <td>0.386346</td>\n",
       "      <td>0.242171</td>\n",
       "      <td>35.149</td>\n",
       "      <td>1.639</td>\n",
       "      <td>53.818</td>\n",
       "      <td>0.141859</td>\n",
       "      <td>0.348660</td>\n",
       "      <td>92.08</td>\n",
       "    </tr>\n",
       "    <tr>\n",
       "      <th>1998</th>\n",
       "      <td>0.454727</td>\n",
       "      <td>0.285273</td>\n",
       "      <td>0.634968</td>\n",
       "      <td>2.28</td>\n",
       "      <td>0.617466</td>\n",
       "      <td>14.1</td>\n",
       "      <td>0.710188</td>\n",
       "      <td>1.966</td>\n",
       "      <td>0.404207</td>\n",
       "      <td>0.246861</td>\n",
       "      <td>33.466</td>\n",
       "      <td>1.706</td>\n",
       "      <td>57.392</td>\n",
       "      <td>0.132607</td>\n",
       "      <td>0.358810</td>\n",
       "      <td>89.42</td>\n",
       "    </tr>\n",
       "    <tr>\n",
       "      <th>1999</th>\n",
       "      <td>0.483128</td>\n",
       "      <td>0.307600</td>\n",
       "      <td>0.707946</td>\n",
       "      <td>2.34</td>\n",
       "      <td>0.622247</td>\n",
       "      <td>14.6</td>\n",
       "      <td>0.710264</td>\n",
       "      <td>1.958</td>\n",
       "      <td>0.423833</td>\n",
       "      <td>0.252013</td>\n",
       "      <td>31.783</td>\n",
       "      <td>1.773</td>\n",
       "      <td>60.966</td>\n",
       "      <td>0.123079</td>\n",
       "      <td>0.369262</td>\n",
       "      <td>86.76</td>\n",
       "    </tr>\n",
       "    <tr>\n",
       "      <th>2000</th>\n",
       "      <td>0.511530</td>\n",
       "      <td>0.330601</td>\n",
       "      <td>0.788507</td>\n",
       "      <td>2.40</td>\n",
       "      <td>0.627173</td>\n",
       "      <td>15.1</td>\n",
       "      <td>0.710255</td>\n",
       "      <td>1.950</td>\n",
       "      <td>0.445498</td>\n",
       "      <td>0.257701</td>\n",
       "      <td>30.100</td>\n",
       "      <td>1.840</td>\n",
       "      <td>64.540</td>\n",
       "      <td>0.113264</td>\n",
       "      <td>0.380030</td>\n",
       "      <td>84.10</td>\n",
       "    </tr>\n",
       "  </tbody>\n",
       "</table>\n",
       "</div>"
      ],
      "text/plain": [
       "                   pastures_area_var  pastures_area_munic  pastures_area_mean  \\\n",
       "Municipality Year                                                               \n",
       "Arouca       1996           0.397925             0.242528            0.507848   \n",
       "             1997           0.426326             0.263592            0.568551   \n",
       "             1998           0.454727             0.285273            0.634968   \n",
       "             1999           0.483128             0.307600            0.707946   \n",
       "             2000           0.511530             0.330601            0.788507   \n",
       "\n",
       "                   agric_area_mean  agric_area_owned  tract_100ha  lu_cattle  \\\n",
       "Municipality Year                                                              \n",
       "Arouca       1996             2.16          0.608311         13.1   0.709799   \n",
       "             1997             2.22          0.612822         13.6   0.710031   \n",
       "             1998             2.28          0.617466         14.1   0.710188   \n",
       "             1999             2.34          0.622247         14.6   0.710264   \n",
       "             2000             2.40          0.627173         15.1   0.710255   \n",
       "\n",
       "                   lu_per_agric_area  farmers_female  farmers_over65  \\\n",
       "Municipality Year                                                      \n",
       "Arouca       1996              1.982        0.370022        0.237885   \n",
       "             1997              1.974        0.386346        0.242171   \n",
       "             1998              1.966        0.404207        0.246861   \n",
       "             1999              1.958        0.423833        0.252013   \n",
       "             2000              1.950        0.445498        0.257701   \n",
       "\n",
       "                   educ_none  educ_second_super  agric_time_full  \\\n",
       "Municipality Year                                                  \n",
       "Arouca       1996     36.832              1.572           50.244   \n",
       "             1997     35.149              1.639           53.818   \n",
       "             1998     33.466              1.706           57.392   \n",
       "             1999     31.783              1.773           60.966   \n",
       "             2000     30.100              1.840           64.540   \n",
       "\n",
       "                   inc_excl_agric  inc_mainly_ext  work_unit_100ha  \n",
       "Municipality Year                                                   \n",
       "Arouca       1996        0.150848        0.338799            94.74  \n",
       "             1997        0.141859        0.348660            92.08  \n",
       "             1998        0.132607        0.358810            89.42  \n",
       "             1999        0.123079        0.369262            86.76  \n",
       "             2000        0.113264        0.380030            84.10  "
      ]
     },
     "execution_count": 101,
     "metadata": {},
     "output_type": "execute_result"
    }
   ],
   "source": [
    "census_data.head()"
   ]
  },
  {
   "cell_type": "markdown",
   "metadata": {},
   "source": [
    "# Datasets merging"
   ]
  },
  {
   "cell_type": "raw",
   "metadata": {},
   "source": [
    "datasets_munic_year = [climate_data]\n",
    "datasets_only_munic = [soil_data, average_climate_data]\n",
    "datasets_only_year = [sbp_payments]"
   ]
  },
  {
   "cell_type": "code",
   "execution_count": 102,
   "metadata": {},
   "outputs": [],
   "source": [
    "municipalities = adoption_data.index.get_level_values('Municipality')\n",
    "years = adoption_data.index.get_level_values('Year')"
   ]
  },
  {
   "cell_type": "markdown",
   "metadata": {},
   "source": [
    "### Function to merge datasets depending on both year and munic, with data for the previous year"
   ]
  },
  {
   "cell_type": "code",
   "execution_count": 103,
   "metadata": {},
   "outputs": [],
   "source": [
    "def add_data_year_munic_prev_year(dataset_to_add_to, dataset_to_be_added, cols_name=[]):\n",
    "    new_data = dataset_to_be_added.copy()\n",
    "    \n",
    "    # Rename columns\n",
    "    if cols_name != []:\n",
    "        cols = new_data.columns\n",
    "        cols_map = {}\n",
    "        for i in range(len(cols)):\n",
    "            cols_map[cols[i]] = cols_name[i]\n",
    "        new_data.rename(columns=cols_map, inplace=True)\n",
    "    \n",
    "    # Switch year to the following\n",
    "    new_data['Year after'] = new_data.index.get_level_values('Year') + 1\n",
    "    new_data.set_index('Year after',append=True, inplace=True)\n",
    "    new_data.reset_index(level='Year', inplace=True, drop=True)\n",
    "    \n",
    "    # Concatenation\n",
    "    dataset_to_add_to = pd.concat([dataset_to_add_to, new_data], axis=1, join='inner')\n",
    "    dataset_to_add_to.index.rename(['Municipality', 'Year'], inplace=True)\n",
    "\n",
    "    return dataset_to_add_to"
   ]
  },
  {
   "cell_type": "markdown",
   "metadata": {},
   "source": [
    "### Function to merge datasets depending only on the munic"
   ]
  },
  {
   "cell_type": "code",
   "execution_count": 104,
   "metadata": {},
   "outputs": [],
   "source": [
    "def add_data_dep_only_on_munic(dataset_to_add_to, dataset_to_be_added, cols_name=[]):\n",
    "    \"\"\"\n",
    "    cols_name is a list with the names of the columns that want to be added to the final dataset. It has to be ordered\n",
    "    corresponging to the columns of the dataset_to_be_added\n",
    "    \"\"\"\n",
    "    final_data = dataset_to_add_to.copy()\n",
    "    new_data = dataset_to_be_added.copy()\n",
    "    \n",
    "    # Rename columns\n",
    "    if cols_name != []:\n",
    "        cols = new_data.columns\n",
    "        cols_map = {}\n",
    "        for i in range(len(cols)):\n",
    "            cols_map[cols[i]] = cols_name[i]\n",
    "        new_data.rename(columns=cols_map, inplace=True)\n",
    "\n",
    "    cols_to_add = new_data.columns\n",
    "    for col in cols_to_add:\n",
    "        final_data[col] = pd.Series(final_data.index.get_level_values(0)).map(new_data[col]).values\n",
    "    return final_data"
   ]
  },
  {
   "cell_type": "markdown",
   "metadata": {},
   "source": [
    "### Function to merge datasets depending only on the year"
   ]
  },
  {
   "cell_type": "code",
   "execution_count": 105,
   "metadata": {},
   "outputs": [],
   "source": [
    "from itertools import cycle\n",
    "\n",
    "def add_data_dep_only_on_year(dataset_to_add_to, dataset_to_be_added, cols_name=[], previous_year=False):\n",
    "    new_data = dataset_to_be_added.copy()\n",
    "    final_data = dataset_to_add_to.copy()\n",
    "\n",
    "    # Rename columns\n",
    "    if cols_name != []:\n",
    "        cols = new_data.columns\n",
    "        cols_map = {}\n",
    "        for i in range(len(cols)):\n",
    "            cols_map[cols[i]] = cols_name[i]\n",
    "        new_data.rename(columns=cols_map, inplace=True)\n",
    "    \n",
    "    # Switch year to the following\n",
    "    if previous_year:\n",
    "        new_data['Year after'] = new_data.index.get_level_values('Year') + 1\n",
    "        new_data.set_index('Year after',append=True, inplace=True)\n",
    "        new_data.reset_index(level='Year', inplace=True, drop=True)    \n",
    "    \n",
    "    cols_to_add = new_data.columns\n",
    "    for col in cols_to_add:\n",
    "        final_data[col] = pd.Series(final_data.index.get_level_values(1)).map(new_data[col]).values\n",
    "    \n",
    "    return final_data"
   ]
  },
  {
   "cell_type": "markdown",
   "metadata": {},
   "source": [
    "## Merging"
   ]
  },
  {
   "cell_type": "code",
   "execution_count": 106,
   "metadata": {},
   "outputs": [],
   "source": [
    "final_dataset = pd.concat([adoption_data, census_data], axis=1, join='inner') # MERGE WITH CENSUS BASED ON CENSUS VALUES"
   ]
  },
  {
   "cell_type": "code",
   "execution_count": 107,
   "metadata": {},
   "outputs": [
    {
     "name": "stdout",
     "output_type": "stream",
     "text": [
      "(6891, 16) (4709, 3) (4698, 19)\n"
     ]
    }
   ],
   "source": [
    "print(census_data.shape, adoption_data.shape, final_dataset.shape)"
   ]
  },
  {
   "cell_type": "markdown",
   "metadata": {},
   "source": [
    "Removed from census_data all the years after 2012 and from adoption_data the features with 0 pastures adoption. Also removed all instances referred to São João da Madeira already from the adoption data."
   ]
  },
  {
   "cell_type": "code",
   "execution_count": 108,
   "metadata": {},
   "outputs": [],
   "source": [
    "final_dataset = add_data_year_munic_prev_year(final_dataset, climate_data)"
   ]
  },
  {
   "cell_type": "code",
   "execution_count": 109,
   "metadata": {},
   "outputs": [],
   "source": [
    "final_dataset = add_data_dep_only_on_munic(final_dataset, average_climate_data)"
   ]
  },
  {
   "cell_type": "code",
   "execution_count": 110,
   "metadata": {},
   "outputs": [],
   "source": [
    "final_dataset = add_data_dep_only_on_munic(final_dataset, soil_data)"
   ]
  },
  {
   "cell_type": "code",
   "execution_count": 111,
   "metadata": {},
   "outputs": [],
   "source": [
    "final_dataset = add_data_dep_only_on_year(final_dataset, sbp_payments)"
   ]
  },
  {
   "cell_type": "markdown",
   "metadata": {},
   "source": [
    "### Change for 0 payments in all municipalities with no adoption in PCF years"
   ]
  },
  {
   "cell_type": "code",
   "execution_count": 114,
   "metadata": {},
   "outputs": [],
   "source": [
    "path_to_municipalities_csv = \"./adoption/municipalities_adoption_PCF.csv\""
   ]
  },
  {
   "cell_type": "code",
   "execution_count": 115,
   "metadata": {},
   "outputs": [],
   "source": [
    "import csv\n",
    "with open(path_to_municipalities_csv, newline='') as f:\n",
    "    reader = csv.reader(f)\n",
    "    municipalities_PCF = list(reader)[0]"
   ]
  },
  {
   "cell_type": "code",
   "execution_count": 116,
   "metadata": {},
   "outputs": [],
   "source": [
    "import numpy as np\n",
    "mask = [el not in municipalities_PCF for el in final_dataset.index.get_level_values(\"Municipality\")]"
   ]
  },
  {
   "cell_type": "code",
   "execution_count": 117,
   "metadata": {},
   "outputs": [],
   "source": [
    "final_dataset.loc[mask, 'sbp_payment'] = 0"
   ]
  },
  {
   "cell_type": "markdown",
   "metadata": {},
   "source": [
    "# Checks"
   ]
  },
  {
   "cell_type": "code",
   "execution_count": 119,
   "metadata": {},
   "outputs": [
    {
     "data": {
      "text/plain": [
       "False"
      ]
     },
     "execution_count": 119,
     "metadata": {},
     "output_type": "execute_result"
    }
   ],
   "source": [
    "final_dataset.isnull().values.any()"
   ]
  },
  {
   "cell_type": "markdown",
   "metadata": {},
   "source": [
    "# Save file"
   ]
  },
  {
   "cell_type": "code",
   "execution_count": 120,
   "metadata": {},
   "outputs": [],
   "source": [
    "final_dataset.to_csv(final_dataset_out_path)"
   ]
  },
  {
   "cell_type": "code",
   "execution_count": 121,
   "metadata": {},
   "outputs": [
    {
     "data": {
      "text/plain": [
       "Index(['adoption_in_year', 'tot_cumul_adoption_pr_y_munic',\n",
       "       'tot_cumul_adoption_pr_y_port', 'pastures_area_var',\n",
       "       'pastures_area_munic', 'pastures_area_mean', 'agric_area_mean',\n",
       "       'agric_area_owned', 'tract_100ha', 'lu_cattle', 'lu_per_agric_area',\n",
       "       'farmers_female', 'farmers_over65', 'educ_none', 'educ_second_super',\n",
       "       'agric_time_full', 'inc_excl_agric', 'inc_mainly_ext',\n",
       "       'work_unit_100ha', 'av_d_mean_t_pr_y_munic',\n",
       "       'days_mean_t_over_20_pr_y_munic', 'days_mean_t_over_25_pr_y_munic',\n",
       "       'av_d_max_t_pr_y_munic', 'days_max_t_over_30_pr_y_munic',\n",
       "       'av_d_min_t_pr_y_munic', 'days_min_t_under_0_pr_y_munic',\n",
       "       'av_prec_sum_pr_y_munic', 'days_no_prec_pr_y_munic',\n",
       "       'cons_days_no_prec_pr_y_munic', 'av_d_mean_t_average_munic',\n",
       "       'days_mean_t_over_20_average_munic',\n",
       "       'days_mean_t_over_25_average_munic', 'av_d_max_t_average_munic',\n",
       "       'days_max_t_over_30_average_munic', 'av_d_min_t_average_munic',\n",
       "       'days_min_t_under_0_average_munic', 'av_prec_sum_average_munic',\n",
       "       'days_no_prec_average_munic', 'cons_days_no_prec_average_munic',\n",
       "       'CaCO3_mean_munic', 'CN_mean_munic', 'N_mean_munic', 'P_mean_munic',\n",
       "       'pH_mean_munic', 'sbp_payment'],\n",
       "      dtype='object')"
      ]
     },
     "execution_count": 121,
     "metadata": {},
     "output_type": "execute_result"
    }
   ],
   "source": [
    "final_dataset.columns"
   ]
  },
  {
   "cell_type": "code",
   "execution_count": 122,
   "metadata": {},
   "outputs": [
    {
     "data": {
      "text/plain": [
       "(4698, 45)"
      ]
     },
     "execution_count": 122,
     "metadata": {},
     "output_type": "execute_result"
    }
   ],
   "source": [
    "final_dataset.shape"
   ]
  }
 ],
 "metadata": {
  "kernelspec": {
   "display_name": "SBP_munic_data_manipulation",
   "language": "python",
   "name": "sbp_munic_data_manipulation"
  },
  "language_info": {
   "codemirror_mode": {
    "name": "ipython",
    "version": 3
   },
   "file_extension": ".py",
   "mimetype": "text/x-python",
   "name": "python",
   "nbconvert_exporter": "python",
   "pygments_lexer": "ipython3",
   "version": "3.7.7"
  }
 },
 "nbformat": 4,
 "nbformat_minor": 4
}
