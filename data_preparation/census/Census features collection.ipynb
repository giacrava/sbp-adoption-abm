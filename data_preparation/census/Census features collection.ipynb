{
 "cells": [
  {
   "cell_type": "markdown",
   "metadata": {},
   "source": [
    "Notebook to pre-process census data"
   ]
  },
  {
   "cell_type": "markdown",
   "metadata": {},
   "source": [
    "## Content\n",
    "* Data ingestion\n",
    "* Data merging and interpolation\n",
    "    * Extrapolate value for 2019 for variables not available  \n",
    "    * Dataset merging\n",
    "    * Interpolation\n",
    "* Features engineering\n",
    "* Save census data"
   ]
  },
  {
   "cell_type": "code",
   "execution_count": 305,
   "metadata": {},
   "outputs": [],
   "source": [
    "import pandas as pd\n",
    "import numpy as np"
   ]
  },
  {
   "cell_type": "code",
   "execution_count": 306,
   "metadata": {},
   "outputs": [],
   "source": [
    "import os\n",
    "\n",
    "path_to_data_folder = \"./data/\"\n",
    "path_to_extr_data_folder = \"./extracted\""
   ]
  },
  {
   "cell_type": "markdown",
   "metadata": {},
   "source": [
    "# Data ingestion\n",
    "Read each census data file and rename their variables"
   ]
  },
  {
   "cell_type": "markdown",
   "metadata": {},
   "source": [
    "### Pastures data"
   ]
  },
  {
   "cell_type": "code",
   "execution_count": 307,
   "metadata": {},
   "outputs": [],
   "source": [
    "# Funtion to extract data, used only for some datasets since others required a more customed process\n",
    "def extract_data(file_path, header_row, rows_to_skip, footer_rows):\n",
    "    extr_data = pd.read_excel(file_path, index_col=[0, 2], header=header_row, skiprows=rows_to_skip, skipfooter=footer_rows)\n",
    "    \n",
    "    cols_to_drop=[col for col in extr_data.columns if \"Unnamed\" in col]\n",
    "    extr_data.drop(cols_to_drop, axis=1, inplace=True)\n",
    "    extr_data.fillna(0, inplace=True)\n",
    "    extr_data.index.names = ['Municipality', 'Year']\n",
    "    return extr_data"
   ]
  },
  {
   "cell_type": "code",
   "execution_count": 308,
   "metadata": {},
   "outputs": [],
   "source": [
    "path_to_pastures_data = os.path.join(path_to_data_folder, \"pastures.xls\")\n",
    "pastures_data = extract_data(path_to_pastures_data, 5, [6], 8)"
   ]
  },
  {
   "cell_type": "code",
   "execution_count": 309,
   "metadata": {},
   "outputs": [],
   "source": [
    "col_names=['pastures_area_munic_ha']\n",
    "pastures_data.columns = col_names"
   ]
  },
  {
   "cell_type": "code",
   "execution_count": 310,
   "metadata": {},
   "outputs": [
    {
     "data": {
      "text/plain": [
       "278"
      ]
     },
     "execution_count": 310,
     "metadata": {},
     "output_type": "execute_result"
    }
   ],
   "source": [
    "len(pastures_data.index.get_level_values(0).drop_duplicates())"
   ]
  },
  {
   "cell_type": "code",
   "execution_count": 311,
   "metadata": {},
   "outputs": [
    {
     "data": {
      "text/html": [
       "<div>\n",
       "<style scoped>\n",
       "    .dataframe tbody tr th:only-of-type {\n",
       "        vertical-align: middle;\n",
       "    }\n",
       "\n",
       "    .dataframe tbody tr th {\n",
       "        vertical-align: top;\n",
       "    }\n",
       "\n",
       "    .dataframe thead th {\n",
       "        text-align: right;\n",
       "    }\n",
       "</style>\n",
       "<table border=\"1\" class=\"dataframe\">\n",
       "  <thead>\n",
       "    <tr style=\"text-align: right;\">\n",
       "      <th></th>\n",
       "      <th></th>\n",
       "      <th>pastures_area_munic_ha</th>\n",
       "    </tr>\n",
       "    <tr>\n",
       "      <th>Municipality</th>\n",
       "      <th>Year</th>\n",
       "      <th></th>\n",
       "    </tr>\n",
       "  </thead>\n",
       "  <tbody>\n",
       "    <tr>\n",
       "      <th rowspan=\"2\" valign=\"top\">Vila do Bispo</th>\n",
       "      <th>1999</th>\n",
       "      <td>338.0</td>\n",
       "    </tr>\n",
       "    <tr>\n",
       "      <th>1989</th>\n",
       "      <td>1933.0</td>\n",
       "    </tr>\n",
       "    <tr>\n",
       "      <th rowspan=\"3\" valign=\"top\">Vila Real de Santo António</th>\n",
       "      <th>2009</th>\n",
       "      <td>126.0</td>\n",
       "    </tr>\n",
       "    <tr>\n",
       "      <th>1999</th>\n",
       "      <td>604.0</td>\n",
       "    </tr>\n",
       "    <tr>\n",
       "      <th>1989</th>\n",
       "      <td>263.0</td>\n",
       "    </tr>\n",
       "  </tbody>\n",
       "</table>\n",
       "</div>"
      ],
      "text/plain": [
       "                                 pastures_area_munic_ha\n",
       "Municipality               Year                        \n",
       "Vila do Bispo              1999                   338.0\n",
       "                           1989                  1933.0\n",
       "Vila Real de Santo António 2009                   126.0\n",
       "                           1999                   604.0\n",
       "                           1989                   263.0"
      ]
     },
     "execution_count": 311,
     "metadata": {},
     "output_type": "execute_result"
    }
   ],
   "source": [
    "pastures_data.tail()"
   ]
  },
  {
   "cell_type": "markdown",
   "metadata": {},
   "source": [
    "### Utilised agricultural area"
   ]
  },
  {
   "cell_type": "code",
   "execution_count": 312,
   "metadata": {},
   "outputs": [],
   "source": [
    "path_to_agr_area_data = os.path.join(path_to_data_folder, \"utilised agricultural area.xls\")"
   ]
  },
  {
   "cell_type": "code",
   "execution_count": 313,
   "metadata": {},
   "outputs": [],
   "source": [
    "agr_area_data = pd.read_excel(path_to_agr_area_data, index_col=[0, 2], header=7, skiprows=[8], skipfooter=8)\n",
    "agr_area_data.rename(columns={'Unnamed: 7' : 'agric_area_mean'}, inplace=True)\n",
    "cols_to_drop = [col for col in agr_area_data.columns if \"Unnamed\" in col]\n",
    "agr_area_data.drop(cols_to_drop, axis=1, inplace=True)\n",
    "agr_area_data.fillna(0, inplace=True)\n",
    "agr_area_data.index.names = ['Municipality', 'Year']"
   ]
  },
  {
   "cell_type": "code",
   "execution_count": 314,
   "metadata": {},
   "outputs": [],
   "source": [
    "col_names=['agric_area_munic_ha', 'agric_area_owned_ha', 'agric_area_mean']\n",
    "agr_area_data.columns = col_names"
   ]
  },
  {
   "cell_type": "code",
   "execution_count": 315,
   "metadata": {},
   "outputs": [
    {
     "data": {
      "text/plain": [
       "278"
      ]
     },
     "execution_count": 315,
     "metadata": {},
     "output_type": "execute_result"
    }
   ],
   "source": [
    "len(agr_area_data.index.get_level_values(0).drop_duplicates())"
   ]
  },
  {
   "cell_type": "code",
   "execution_count": 316,
   "metadata": {
    "scrolled": true
   },
   "outputs": [
    {
     "data": {
      "text/html": [
       "<div>\n",
       "<style scoped>\n",
       "    .dataframe tbody tr th:only-of-type {\n",
       "        vertical-align: middle;\n",
       "    }\n",
       "\n",
       "    .dataframe tbody tr th {\n",
       "        vertical-align: top;\n",
       "    }\n",
       "\n",
       "    .dataframe thead th {\n",
       "        text-align: right;\n",
       "    }\n",
       "</style>\n",
       "<table border=\"1\" class=\"dataframe\">\n",
       "  <thead>\n",
       "    <tr style=\"text-align: right;\">\n",
       "      <th></th>\n",
       "      <th></th>\n",
       "      <th>agric_area_munic_ha</th>\n",
       "      <th>agric_area_owned_ha</th>\n",
       "      <th>agric_area_mean</th>\n",
       "    </tr>\n",
       "    <tr>\n",
       "      <th>Municipality</th>\n",
       "      <th>Year</th>\n",
       "      <th></th>\n",
       "      <th></th>\n",
       "      <th></th>\n",
       "    </tr>\n",
       "  </thead>\n",
       "  <tbody>\n",
       "    <tr>\n",
       "      <th rowspan=\"2\" valign=\"top\">Vila do Bispo</th>\n",
       "      <th>1999</th>\n",
       "      <td>2555.0</td>\n",
       "      <td>1747.0</td>\n",
       "      <td>15.1</td>\n",
       "    </tr>\n",
       "    <tr>\n",
       "      <th>1989</th>\n",
       "      <td>5155.0</td>\n",
       "      <td>4681.0</td>\n",
       "      <td>14.5</td>\n",
       "    </tr>\n",
       "    <tr>\n",
       "      <th rowspan=\"3\" valign=\"top\">Vila Real de Santo António</th>\n",
       "      <th>2009</th>\n",
       "      <td>1198.0</td>\n",
       "      <td>1010.0</td>\n",
       "      <td>5.3</td>\n",
       "    </tr>\n",
       "    <tr>\n",
       "      <th>1999</th>\n",
       "      <td>2163.0</td>\n",
       "      <td>1712.0</td>\n",
       "      <td>6.7</td>\n",
       "    </tr>\n",
       "    <tr>\n",
       "      <th>1989</th>\n",
       "      <td>2444.0</td>\n",
       "      <td>1980.0</td>\n",
       "      <td>7.6</td>\n",
       "    </tr>\n",
       "  </tbody>\n",
       "</table>\n",
       "</div>"
      ],
      "text/plain": [
       "                                 agric_area_munic_ha  agric_area_owned_ha  \\\n",
       "Municipality               Year                                             \n",
       "Vila do Bispo              1999               2555.0               1747.0   \n",
       "                           1989               5155.0               4681.0   \n",
       "Vila Real de Santo António 2009               1198.0               1010.0   \n",
       "                           1999               2163.0               1712.0   \n",
       "                           1989               2444.0               1980.0   \n",
       "\n",
       "                                 agric_area_mean  \n",
       "Municipality               Year                   \n",
       "Vila do Bispo              1999             15.1  \n",
       "                           1989             14.5  \n",
       "Vila Real de Santo António 2009              5.3  \n",
       "                           1999              6.7  \n",
       "                           1989              7.6  "
      ]
     },
     "execution_count": 316,
     "metadata": {},
     "output_type": "execute_result"
    }
   ],
   "source": [
    "agr_area_data.tail()"
   ]
  },
  {
   "cell_type": "markdown",
   "metadata": {},
   "source": [
    "### Agricultural property"
   ]
  },
  {
   "cell_type": "code",
   "execution_count": 317,
   "metadata": {},
   "outputs": [],
   "source": [
    "path_to_agr_prop_data = os.path.join(path_to_data_folder, \"agricultural property.xls\")\n",
    "agr_prop_data = extract_data(path_to_agr_prop_data, 5, [6, 7, 8], 10)"
   ]
  },
  {
   "cell_type": "code",
   "execution_count": 318,
   "metadata": {},
   "outputs": [],
   "source": [
    "col_names=['tract_100ha', 'lu_cattle_num', 'lu_per_agric_area']\n",
    "agr_prop_data.columns = col_names"
   ]
  },
  {
   "cell_type": "code",
   "execution_count": 319,
   "metadata": {},
   "outputs": [
    {
     "data": {
      "text/plain": [
       "278"
      ]
     },
     "execution_count": 319,
     "metadata": {},
     "output_type": "execute_result"
    }
   ],
   "source": [
    "len(agr_prop_data.index.get_level_values(0).drop_duplicates())"
   ]
  },
  {
   "cell_type": "code",
   "execution_count": 320,
   "metadata": {
    "scrolled": true
   },
   "outputs": [
    {
     "data": {
      "text/html": [
       "<div>\n",
       "<style scoped>\n",
       "    .dataframe tbody tr th:only-of-type {\n",
       "        vertical-align: middle;\n",
       "    }\n",
       "\n",
       "    .dataframe tbody tr th {\n",
       "        vertical-align: top;\n",
       "    }\n",
       "\n",
       "    .dataframe thead th {\n",
       "        text-align: right;\n",
       "    }\n",
       "</style>\n",
       "<table border=\"1\" class=\"dataframe\">\n",
       "  <thead>\n",
       "    <tr style=\"text-align: right;\">\n",
       "      <th></th>\n",
       "      <th></th>\n",
       "      <th>tract_100ha</th>\n",
       "      <th>lu_cattle_num</th>\n",
       "      <th>lu_per_agric_area</th>\n",
       "    </tr>\n",
       "    <tr>\n",
       "      <th>Municipality</th>\n",
       "      <th>Year</th>\n",
       "      <th></th>\n",
       "      <th></th>\n",
       "      <th></th>\n",
       "    </tr>\n",
       "  </thead>\n",
       "  <tbody>\n",
       "    <tr>\n",
       "      <th>Vila do Bispo</th>\n",
       "      <th>1989</th>\n",
       "      <td>1.7</td>\n",
       "      <td>732.0</td>\n",
       "      <td>0.31</td>\n",
       "    </tr>\n",
       "    <tr>\n",
       "      <th rowspan=\"4\" valign=\"top\">Vila Real de Santo António</th>\n",
       "      <th>2019</th>\n",
       "      <td>8.6</td>\n",
       "      <td>2.0</td>\n",
       "      <td>0.07</td>\n",
       "    </tr>\n",
       "    <tr>\n",
       "      <th>2009</th>\n",
       "      <td>12.1</td>\n",
       "      <td>6.0</td>\n",
       "      <td>0.17</td>\n",
       "    </tr>\n",
       "    <tr>\n",
       "      <th>1999</th>\n",
       "      <td>6.0</td>\n",
       "      <td>186.0</td>\n",
       "      <td>0.24</td>\n",
       "    </tr>\n",
       "    <tr>\n",
       "      <th>1989</th>\n",
       "      <td>4.7</td>\n",
       "      <td>279.0</td>\n",
       "      <td>0.25</td>\n",
       "    </tr>\n",
       "  </tbody>\n",
       "</table>\n",
       "</div>"
      ],
      "text/plain": [
       "                                 tract_100ha  lu_cattle_num  lu_per_agric_area\n",
       "Municipality               Year                                               \n",
       "Vila do Bispo              1989          1.7          732.0               0.31\n",
       "Vila Real de Santo António 2019          8.6            2.0               0.07\n",
       "                           2009         12.1            6.0               0.17\n",
       "                           1999          6.0          186.0               0.24\n",
       "                           1989          4.7          279.0               0.25"
      ]
     },
     "execution_count": 320,
     "metadata": {},
     "output_type": "execute_result"
    }
   ],
   "source": [
    "agr_prop_data.tail()"
   ]
  },
  {
   "cell_type": "markdown",
   "metadata": {},
   "source": [
    "### Demographic"
   ]
  },
  {
   "cell_type": "code",
   "execution_count": 321,
   "metadata": {},
   "outputs": [],
   "source": [
    "path_to_demogr_data = os.path.join(path_to_data_folder, \"demographic.xls\")"
   ]
  },
  {
   "cell_type": "code",
   "execution_count": 322,
   "metadata": {},
   "outputs": [],
   "source": [
    "demogr_data = pd.read_excel(path_to_demogr_data, index_col=[0, 2], header=9, skiprows=[10], skipfooter=7)\n",
    "cols_to_drop = [col for col in demogr_data.columns if \"Unnamed\" in col]\n",
    "demogr_data.drop(cols_to_drop, axis=1, inplace=True)\n",
    "demogr_data.drop('65 and more years.1', axis=1, inplace=True)\n",
    "demogr_data.fillna(0, inplace=True)\n",
    "demogr_data.index.names = ['Municipality', 'Year']"
   ]
  },
  {
   "cell_type": "code",
   "execution_count": 323,
   "metadata": {},
   "outputs": [],
   "source": [
    "col_names=['farmers_num', 'farmers_over65_num', 'farmers_female_num']\n",
    "demogr_data.columns = col_names"
   ]
  },
  {
   "cell_type": "code",
   "execution_count": 324,
   "metadata": {},
   "outputs": [
    {
     "data": {
      "text/plain": [
       "278"
      ]
     },
     "execution_count": 324,
     "metadata": {},
     "output_type": "execute_result"
    }
   ],
   "source": [
    "len(demogr_data.index.get_level_values(0).drop_duplicates())"
   ]
  },
  {
   "cell_type": "code",
   "execution_count": 325,
   "metadata": {
    "scrolled": false
   },
   "outputs": [
    {
     "data": {
      "text/html": [
       "<div>\n",
       "<style scoped>\n",
       "    .dataframe tbody tr th:only-of-type {\n",
       "        vertical-align: middle;\n",
       "    }\n",
       "\n",
       "    .dataframe tbody tr th {\n",
       "        vertical-align: top;\n",
       "    }\n",
       "\n",
       "    .dataframe thead th {\n",
       "        text-align: right;\n",
       "    }\n",
       "</style>\n",
       "<table border=\"1\" class=\"dataframe\">\n",
       "  <thead>\n",
       "    <tr style=\"text-align: right;\">\n",
       "      <th></th>\n",
       "      <th></th>\n",
       "      <th>farmers_num</th>\n",
       "      <th>farmers_over65_num</th>\n",
       "      <th>farmers_female_num</th>\n",
       "    </tr>\n",
       "    <tr>\n",
       "      <th>Municipality</th>\n",
       "      <th>Year</th>\n",
       "      <th></th>\n",
       "      <th></th>\n",
       "      <th></th>\n",
       "    </tr>\n",
       "  </thead>\n",
       "  <tbody>\n",
       "    <tr>\n",
       "      <th>Vila do Bispo</th>\n",
       "      <th>1989</th>\n",
       "      <td>355.0</td>\n",
       "      <td>168.0</td>\n",
       "      <td>40.0</td>\n",
       "    </tr>\n",
       "    <tr>\n",
       "      <th rowspan=\"4\" valign=\"top\">Vila Real de Santo António</th>\n",
       "      <th>2019</th>\n",
       "      <td>198.0</td>\n",
       "      <td>133.0</td>\n",
       "      <td>47.0</td>\n",
       "    </tr>\n",
       "    <tr>\n",
       "      <th>2009</th>\n",
       "      <td>227.0</td>\n",
       "      <td>133.0</td>\n",
       "      <td>68.0</td>\n",
       "    </tr>\n",
       "    <tr>\n",
       "      <th>1999</th>\n",
       "      <td>323.0</td>\n",
       "      <td>175.0</td>\n",
       "      <td>64.0</td>\n",
       "    </tr>\n",
       "    <tr>\n",
       "      <th>1989</th>\n",
       "      <td>321.0</td>\n",
       "      <td>126.0</td>\n",
       "      <td>42.0</td>\n",
       "    </tr>\n",
       "  </tbody>\n",
       "</table>\n",
       "</div>"
      ],
      "text/plain": [
       "                                 farmers_num  farmers_over65_num  \\\n",
       "Municipality               Year                                    \n",
       "Vila do Bispo              1989        355.0               168.0   \n",
       "Vila Real de Santo António 2019        198.0               133.0   \n",
       "                           2009        227.0               133.0   \n",
       "                           1999        323.0               175.0   \n",
       "                           1989        321.0               126.0   \n",
       "\n",
       "                                 farmers_female_num  \n",
       "Municipality               Year                      \n",
       "Vila do Bispo              1989                40.0  \n",
       "Vila Real de Santo António 2019                47.0  \n",
       "                           2009                68.0  \n",
       "                           1999                64.0  \n",
       "                           1989                42.0  "
      ]
     },
     "execution_count": 325,
     "metadata": {},
     "output_type": "execute_result"
    }
   ],
   "source": [
    "demogr_data.tail()"
   ]
  },
  {
   "cell_type": "markdown",
   "metadata": {},
   "source": [
    "### Education"
   ]
  },
  {
   "cell_type": "code",
   "execution_count": 326,
   "metadata": {},
   "outputs": [],
   "source": [
    "path_to_educ_data = os.path.join(path_to_data_folder, \"education.xls\")\n",
    "educ_data = extract_data(path_to_educ_data, 7, [8], 7)"
   ]
  },
  {
   "cell_type": "code",
   "execution_count": 327,
   "metadata": {},
   "outputs": [],
   "source": [
    "col_names=['educ_none', 'educ_basic', 'educ_secondary', 'educ_superior']\n",
    "educ_data.columns = col_names"
   ]
  },
  {
   "cell_type": "code",
   "execution_count": 328,
   "metadata": {},
   "outputs": [
    {
     "data": {
      "text/plain": [
       "278"
      ]
     },
     "execution_count": 328,
     "metadata": {},
     "output_type": "execute_result"
    }
   ],
   "source": [
    "len(educ_data.index.get_level_values(0).drop_duplicates())"
   ]
  },
  {
   "cell_type": "code",
   "execution_count": 329,
   "metadata": {
    "scrolled": true
   },
   "outputs": [
    {
     "data": {
      "text/html": [
       "<div>\n",
       "<style scoped>\n",
       "    .dataframe tbody tr th:only-of-type {\n",
       "        vertical-align: middle;\n",
       "    }\n",
       "\n",
       "    .dataframe tbody tr th {\n",
       "        vertical-align: top;\n",
       "    }\n",
       "\n",
       "    .dataframe thead th {\n",
       "        text-align: right;\n",
       "    }\n",
       "</style>\n",
       "<table border=\"1\" class=\"dataframe\">\n",
       "  <thead>\n",
       "    <tr style=\"text-align: right;\">\n",
       "      <th></th>\n",
       "      <th></th>\n",
       "      <th>educ_none</th>\n",
       "      <th>educ_basic</th>\n",
       "      <th>educ_secondary</th>\n",
       "      <th>educ_superior</th>\n",
       "    </tr>\n",
       "    <tr>\n",
       "      <th>Municipality</th>\n",
       "      <th>Year</th>\n",
       "      <th></th>\n",
       "      <th></th>\n",
       "      <th></th>\n",
       "      <th></th>\n",
       "    </tr>\n",
       "  </thead>\n",
       "  <tbody>\n",
       "    <tr>\n",
       "      <th rowspan=\"2\" valign=\"top\">Vila do Bispo</th>\n",
       "      <th>1999</th>\n",
       "      <td>43.71</td>\n",
       "      <td>49.10</td>\n",
       "      <td>2.99</td>\n",
       "      <td>4.19</td>\n",
       "    </tr>\n",
       "    <tr>\n",
       "      <th>1989</th>\n",
       "      <td>57.34</td>\n",
       "      <td>38.14</td>\n",
       "      <td>2.82</td>\n",
       "      <td>1.69</td>\n",
       "    </tr>\n",
       "    <tr>\n",
       "      <th rowspan=\"3\" valign=\"top\">Vila Real de Santo António</th>\n",
       "      <th>2009</th>\n",
       "      <td>24.32</td>\n",
       "      <td>62.16</td>\n",
       "      <td>6.76</td>\n",
       "      <td>6.76</td>\n",
       "    </tr>\n",
       "    <tr>\n",
       "      <th>1999</th>\n",
       "      <td>41.48</td>\n",
       "      <td>53.38</td>\n",
       "      <td>2.57</td>\n",
       "      <td>2.57</td>\n",
       "    </tr>\n",
       "    <tr>\n",
       "      <th>1989</th>\n",
       "      <td>48.26</td>\n",
       "      <td>44.79</td>\n",
       "      <td>3.79</td>\n",
       "      <td>3.15</td>\n",
       "    </tr>\n",
       "  </tbody>\n",
       "</table>\n",
       "</div>"
      ],
      "text/plain": [
       "                                 educ_none  educ_basic  educ_secondary  \\\n",
       "Municipality               Year                                          \n",
       "Vila do Bispo              1999      43.71       49.10            2.99   \n",
       "                           1989      57.34       38.14            2.82   \n",
       "Vila Real de Santo António 2009      24.32       62.16            6.76   \n",
       "                           1999      41.48       53.38            2.57   \n",
       "                           1989      48.26       44.79            3.79   \n",
       "\n",
       "                                 educ_superior  \n",
       "Municipality               Year                 \n",
       "Vila do Bispo              1999           4.19  \n",
       "                           1989           1.69  \n",
       "Vila Real de Santo António 2009           6.76  \n",
       "                           1999           2.57  \n",
       "                           1989           3.15  "
      ]
     },
     "execution_count": 329,
     "metadata": {},
     "output_type": "execute_result"
    }
   ],
   "source": [
    "educ_data.tail()"
   ]
  },
  {
   "cell_type": "markdown",
   "metadata": {},
   "source": [
    "### Activity"
   ]
  },
  {
   "cell_type": "code",
   "execution_count": 330,
   "metadata": {},
   "outputs": [],
   "source": [
    "path_to_activity_data = os.path.join(path_to_data_folder, \"activity.xls\")\n",
    "activity_data = extract_data(path_to_activity_data, 7, [8], 10)"
   ]
  },
  {
   "cell_type": "code",
   "execution_count": 331,
   "metadata": {},
   "outputs": [],
   "source": [
    "col_names=['work_unit_100ha', 'inc_excl_agric_ha', 'inc_mainly_agric_ha', 'inc_mainly_ext_ha', 'agric_time_full']\n",
    "activity_data.columns = col_names"
   ]
  },
  {
   "cell_type": "code",
   "execution_count": 332,
   "metadata": {},
   "outputs": [
    {
     "data": {
      "text/plain": [
       "278"
      ]
     },
     "execution_count": 332,
     "metadata": {},
     "output_type": "execute_result"
    }
   ],
   "source": [
    "len(activity_data.index.get_level_values(0).drop_duplicates())"
   ]
  },
  {
   "cell_type": "code",
   "execution_count": 333,
   "metadata": {
    "scrolled": true
   },
   "outputs": [
    {
     "data": {
      "text/html": [
       "<div>\n",
       "<style scoped>\n",
       "    .dataframe tbody tr th:only-of-type {\n",
       "        vertical-align: middle;\n",
       "    }\n",
       "\n",
       "    .dataframe tbody tr th {\n",
       "        vertical-align: top;\n",
       "    }\n",
       "\n",
       "    .dataframe thead th {\n",
       "        text-align: right;\n",
       "    }\n",
       "</style>\n",
       "<table border=\"1\" class=\"dataframe\">\n",
       "  <thead>\n",
       "    <tr style=\"text-align: right;\">\n",
       "      <th></th>\n",
       "      <th></th>\n",
       "      <th>work_unit_100ha</th>\n",
       "      <th>inc_excl_agric_ha</th>\n",
       "      <th>inc_mainly_agric_ha</th>\n",
       "      <th>inc_mainly_ext_ha</th>\n",
       "      <th>agric_time_full</th>\n",
       "    </tr>\n",
       "    <tr>\n",
       "      <th>Municipality</th>\n",
       "      <th>Year</th>\n",
       "      <th></th>\n",
       "      <th></th>\n",
       "      <th></th>\n",
       "      <th></th>\n",
       "      <th></th>\n",
       "    </tr>\n",
       "  </thead>\n",
       "  <tbody>\n",
       "    <tr>\n",
       "      <th>Vila do Bispo</th>\n",
       "      <th>1989</th>\n",
       "      <td>6.1</td>\n",
       "      <td>571.0</td>\n",
       "      <td>2513.0</td>\n",
       "      <td>1500.0</td>\n",
       "      <td>15.82</td>\n",
       "    </tr>\n",
       "    <tr>\n",
       "      <th rowspan=\"4\" valign=\"top\">Vila Real de Santo António</th>\n",
       "      <th>2019</th>\n",
       "      <td>19.3</td>\n",
       "      <td>84.0</td>\n",
       "      <td>93.0</td>\n",
       "      <td>723.0</td>\n",
       "      <td>0.00</td>\n",
       "    </tr>\n",
       "    <tr>\n",
       "      <th>2009</th>\n",
       "      <td>11.2</td>\n",
       "      <td>182.0</td>\n",
       "      <td>106.0</td>\n",
       "      <td>883.0</td>\n",
       "      <td>2.70</td>\n",
       "    </tr>\n",
       "    <tr>\n",
       "      <th>1999</th>\n",
       "      <td>8.5</td>\n",
       "      <td>305.0</td>\n",
       "      <td>389.0</td>\n",
       "      <td>901.0</td>\n",
       "      <td>0.32</td>\n",
       "    </tr>\n",
       "    <tr>\n",
       "      <th>1989</th>\n",
       "      <td>17.9</td>\n",
       "      <td>1224.0</td>\n",
       "      <td>577.0</td>\n",
       "      <td>611.0</td>\n",
       "      <td>29.34</td>\n",
       "    </tr>\n",
       "  </tbody>\n",
       "</table>\n",
       "</div>"
      ],
      "text/plain": [
       "                                 work_unit_100ha  inc_excl_agric_ha  \\\n",
       "Municipality               Year                                       \n",
       "Vila do Bispo              1989              6.1              571.0   \n",
       "Vila Real de Santo António 2019             19.3               84.0   \n",
       "                           2009             11.2              182.0   \n",
       "                           1999              8.5              305.0   \n",
       "                           1989             17.9             1224.0   \n",
       "\n",
       "                                 inc_mainly_agric_ha  inc_mainly_ext_ha  \\\n",
       "Municipality               Year                                           \n",
       "Vila do Bispo              1989               2513.0             1500.0   \n",
       "Vila Real de Santo António 2019                 93.0              723.0   \n",
       "                           2009                106.0              883.0   \n",
       "                           1999                389.0              901.0   \n",
       "                           1989                577.0              611.0   \n",
       "\n",
       "                                 agric_time_full  \n",
       "Municipality               Year                   \n",
       "Vila do Bispo              1989            15.82  \n",
       "Vila Real de Santo António 2019             0.00  \n",
       "                           2009             2.70  \n",
       "                           1999             0.32  \n",
       "                           1989            29.34  "
      ]
     },
     "execution_count": 333,
     "metadata": {},
     "output_type": "execute_result"
    }
   ],
   "source": [
    "activity_data.tail()"
   ]
  },
  {
   "cell_type": "markdown",
   "metadata": {},
   "source": [
    "# Data merging and interpolation\n",
    "Create a dataset with all the variables and reporting their values from 1996 to 2019 obtained through interpolation"
   ]
  },
  {
   "cell_type": "markdown",
   "metadata": {},
   "source": [
    "## Extrapolate value for 2019 for variables not available\n",
    "Some variables are not available for 2019. Before interpolating, we need to set a value for them for 2019."
   ]
  },
  {
   "cell_type": "markdown",
   "metadata": {},
   "source": [
    "## Datasets all variables missing 2019"
   ]
  },
  {
   "cell_type": "code",
   "execution_count": 334,
   "metadata": {},
   "outputs": [],
   "source": [
    "data_no_2019 = [pastures_data, agr_area_data, educ_data]"
   ]
  },
  {
   "cell_type": "code",
   "execution_count": 335,
   "metadata": {},
   "outputs": [],
   "source": [
    "municipalities = pastures_data.index.get_level_values(0).drop_duplicates()\n",
    "years = list(range(1989, 2020, 10))"
   ]
  },
  {
   "cell_type": "code",
   "execution_count": 336,
   "metadata": {},
   "outputs": [],
   "source": [
    "data_with_2019=[]\n",
    "for dataset in data_no_2019:\n",
    "    #Create a dataframe as the original ones but with all years as second index\n",
    "    dataset_with_2019 = pd.MultiIndex.from_product([municipalities, years]).to_frame()\n",
    "    dataset_with_2019 = dataset_with_2019.drop(columns=dataset_with_2019.columns)\n",
    "    dataset_with_2019.index.names = ['Municipality', 'Year']\n",
    "    dataset_with_2019[dataset.columns] = np.nan\n",
    "    dataset_with_2019.update(dataset)\n",
    "    data_with_2019.append(dataset_with_2019)"
   ]
  },
  {
   "cell_type": "code",
   "execution_count": 337,
   "metadata": {},
   "outputs": [],
   "source": [
    "data_with_2019_extr = []\n",
    "for dataset in data_with_2019:\n",
    "    data_only_2019 = dataset.loc[(slice(None), 2019), :].copy()\n",
    "    data_only_2019[data_only_2019.columns] = (dataset.loc[(slice(None), 2009), :].values - dataset.loc[(slice(None), 1999), :].values) * 2 + dataset.loc[(slice(None), 1999), :].values\n",
    "    dataset_extr = dataset.copy()\n",
    "    dataset_extr.update(data_only_2019)\n",
    "    dataset_extr[dataset_extr < 0] = 0  # If the extrapolation created negative values, replace with 0 --> this can cause\n",
    "                                        # percentages to not sum to 100\n",
    "    data_with_2019_extr.append(dataset_extr)"
   ]
  },
  {
   "cell_type": "code",
   "execution_count": 338,
   "metadata": {},
   "outputs": [],
   "source": [
    "# In the dataset on education with percentages, also replace any value bigger than 100 with 100\n",
    "data_with_2019_extr[2][data_with_2019_extr[2]>100] = 100"
   ]
  },
  {
   "cell_type": "code",
   "execution_count": 339,
   "metadata": {},
   "outputs": [],
   "source": [
    "pastures_data, agr_area_data, educ_data = data_with_2019_extr"
   ]
  },
  {
   "cell_type": "markdown",
   "metadata": {},
   "source": [
    "### Checks"
   ]
  },
  {
   "cell_type": "markdown",
   "metadata": {},
   "source": [
    "#### The utilised agricultural area cannot be less than the permanent pastures area (since the latter is a subset of the former)."
   ]
  },
  {
   "cell_type": "code",
   "execution_count": 340,
   "metadata": {},
   "outputs": [
    {
     "data": {
      "text/plain": [
       "16"
      ]
     },
     "execution_count": 340,
     "metadata": {},
     "output_type": "execute_result"
    }
   ],
   "source": [
    "agr_area_data[agr_area_data['agric_area_munic_ha'] < pastures_data['pastures_area_munic_ha']].shape[0]"
   ]
  },
  {
   "cell_type": "code",
   "execution_count": 341,
   "metadata": {},
   "outputs": [
    {
     "data": {
      "text/plain": [
       "True"
      ]
     },
     "execution_count": 341,
     "metadata": {},
     "output_type": "execute_result"
    }
   ],
   "source": [
    "(agr_area_data[agr_area_data['agric_area_munic_ha'] < pastures_data['pastures_area_munic_ha']].index.get_level_values(1)\n",
    " == 2019).all()"
   ]
  },
  {
   "cell_type": "markdown",
   "metadata": {},
   "source": [
    "All values in 2019, meaning that all resulting from the extrapolation. We set these values to the extrpolated value of the permanent pastures area."
   ]
  },
  {
   "cell_type": "code",
   "execution_count": 342,
   "metadata": {},
   "outputs": [],
   "source": [
    "agr_area_data.loc[agr_area_data['agric_area_munic_ha'] < pastures_data['pastures_area_munic_ha'], 'agric_area_munic_ha'] = (\n",
    "    pastures_data.loc[agr_area_data['agric_area_munic_ha'] < pastures_data['pastures_area_munic_ha'], 'pastures_area_munic_ha']\n",
    ")"
   ]
  },
  {
   "cell_type": "code",
   "execution_count": 343,
   "metadata": {},
   "outputs": [
    {
     "data": {
      "text/plain": [
       "0"
      ]
     },
     "execution_count": 343,
     "metadata": {},
     "output_type": "execute_result"
    }
   ],
   "source": [
    "# Check after modification\n",
    "agr_area_data[agr_area_data['agric_area_munic_ha'] < pastures_data['pastures_area_munic_ha']].shape[0]"
   ]
  },
  {
   "cell_type": "markdown",
   "metadata": {},
   "source": [
    "#### The owned agricultural area cannot be more than the utilised agricultural area"
   ]
  },
  {
   "cell_type": "code",
   "execution_count": 344,
   "metadata": {},
   "outputs": [
    {
     "data": {
      "text/plain": [
       "40"
      ]
     },
     "execution_count": 344,
     "metadata": {},
     "output_type": "execute_result"
    }
   ],
   "source": [
    "agr_area_data[agr_area_data['agric_area_munic_ha'] < agr_area_data['agric_area_owned_ha']].shape[0]"
   ]
  },
  {
   "cell_type": "code",
   "execution_count": 345,
   "metadata": {},
   "outputs": [
    {
     "data": {
      "text/plain": [
       "True"
      ]
     },
     "execution_count": 345,
     "metadata": {},
     "output_type": "execute_result"
    }
   ],
   "source": [
    "(agr_area_data[agr_area_data['agric_area_munic_ha'] < agr_area_data['agric_area_owned_ha']].index.get_level_values(1)\n",
    " == 2019).all()"
   ]
  },
  {
   "cell_type": "markdown",
   "metadata": {},
   "source": [
    "Also in this case all values for 2019. We set these values of owned area to the area of utilised agricultural land just modified."
   ]
  },
  {
   "cell_type": "code",
   "execution_count": 346,
   "metadata": {},
   "outputs": [],
   "source": [
    "agr_area_data.loc[agr_area_data['agric_area_munic_ha'] < agr_area_data['agric_area_owned_ha'], 'agric_area_owned_ha'] = (\n",
    "    agr_area_data.loc[agr_area_data['agric_area_munic_ha'] < agr_area_data['agric_area_owned_ha'], 'agric_area_munic_ha']\n",
    ")"
   ]
  },
  {
   "cell_type": "code",
   "execution_count": 347,
   "metadata": {},
   "outputs": [
    {
     "data": {
      "text/plain": [
       "0"
      ]
     },
     "execution_count": 347,
     "metadata": {},
     "output_type": "execute_result"
    }
   ],
   "source": [
    "# Check after modification\n",
    "agr_area_data[agr_area_data['agric_area_munic_ha'] < agr_area_data['agric_area_owned_ha']].shape[0]"
   ]
  },
  {
   "cell_type": "markdown",
   "metadata": {},
   "source": [
    "### Activity dataset, which has only one variable missing 2019"
   ]
  },
  {
   "cell_type": "code",
   "execution_count": 348,
   "metadata": {},
   "outputs": [],
   "source": [
    "data_only_2019 = activity_data.loc[(slice(None), 2019), :].copy().astype(float)\n",
    "data_only_2019['agric_time_full'] = ((activity_data.loc[(slice(None), 2009), 'agric_time_full'].values\n",
    "                                      - activity_data.loc[(slice(None), 1999), 'agric_time_full'].values)\n",
    "                                     * 2 + activity_data.loc[(slice(None), 1999), 'agric_time_full'].values)\n",
    "data_only_2019.clip(lower=0, inplace=True)\n",
    "data_only_2019['agric_time_full'].clip(upper=100, inplace=True)"
   ]
  },
  {
   "cell_type": "code",
   "execution_count": 349,
   "metadata": {
    "scrolled": true
   },
   "outputs": [
    {
     "data": {
      "text/html": [
       "<div>\n",
       "<style scoped>\n",
       "    .dataframe tbody tr th:only-of-type {\n",
       "        vertical-align: middle;\n",
       "    }\n",
       "\n",
       "    .dataframe tbody tr th {\n",
       "        vertical-align: top;\n",
       "    }\n",
       "\n",
       "    .dataframe thead th {\n",
       "        text-align: right;\n",
       "    }\n",
       "</style>\n",
       "<table border=\"1\" class=\"dataframe\">\n",
       "  <thead>\n",
       "    <tr style=\"text-align: right;\">\n",
       "      <th></th>\n",
       "      <th></th>\n",
       "      <th>work_unit_100ha</th>\n",
       "      <th>inc_excl_agric_ha</th>\n",
       "      <th>inc_mainly_agric_ha</th>\n",
       "      <th>inc_mainly_ext_ha</th>\n",
       "      <th>agric_time_full</th>\n",
       "    </tr>\n",
       "    <tr>\n",
       "      <th>Municipality</th>\n",
       "      <th>Year</th>\n",
       "      <th></th>\n",
       "      <th></th>\n",
       "      <th></th>\n",
       "      <th></th>\n",
       "      <th></th>\n",
       "    </tr>\n",
       "  </thead>\n",
       "  <tbody>\n",
       "    <tr>\n",
       "      <th rowspan=\"4\" valign=\"top\">Arouca</th>\n",
       "      <th>2019</th>\n",
       "      <td>28.2</td>\n",
       "      <td>185.0</td>\n",
       "      <td>491.0</td>\n",
       "      <td>1311.0</td>\n",
       "      <td>78.80</td>\n",
       "    </tr>\n",
       "    <tr>\n",
       "      <th>2009</th>\n",
       "      <td>41.4</td>\n",
       "      <td>568.0</td>\n",
       "      <td>639.0</td>\n",
       "      <td>1749.0</td>\n",
       "      <td>71.67</td>\n",
       "    </tr>\n",
       "    <tr>\n",
       "      <th>1999</th>\n",
       "      <td>84.1</td>\n",
       "      <td>456.0</td>\n",
       "      <td>1229.0</td>\n",
       "      <td>1530.0</td>\n",
       "      <td>64.54</td>\n",
       "    </tr>\n",
       "    <tr>\n",
       "      <th>1989</th>\n",
       "      <td>110.7</td>\n",
       "      <td>926.0</td>\n",
       "      <td>2059.0</td>\n",
       "      <td>1321.0</td>\n",
       "      <td>28.80</td>\n",
       "    </tr>\n",
       "    <tr>\n",
       "      <th>Castelo de Paiva</th>\n",
       "      <th>2019</th>\n",
       "      <td>60.6</td>\n",
       "      <td>65.0</td>\n",
       "      <td>126.0</td>\n",
       "      <td>870.0</td>\n",
       "      <td>24.53</td>\n",
       "    </tr>\n",
       "  </tbody>\n",
       "</table>\n",
       "</div>"
      ],
      "text/plain": [
       "                       work_unit_100ha  inc_excl_agric_ha  \\\n",
       "Municipality     Year                                       \n",
       "Arouca           2019             28.2              185.0   \n",
       "                 2009             41.4              568.0   \n",
       "                 1999             84.1              456.0   \n",
       "                 1989            110.7              926.0   \n",
       "Castelo de Paiva 2019             60.6               65.0   \n",
       "\n",
       "                       inc_mainly_agric_ha  inc_mainly_ext_ha  agric_time_full  \n",
       "Municipality     Year                                                           \n",
       "Arouca           2019                491.0             1311.0            78.80  \n",
       "                 2009                639.0             1749.0            71.67  \n",
       "                 1999               1229.0             1530.0            64.54  \n",
       "                 1989               2059.0             1321.0            28.80  \n",
       "Castelo de Paiva 2019                126.0              870.0            24.53  "
      ]
     },
     "execution_count": 349,
     "metadata": {},
     "output_type": "execute_result"
    }
   ],
   "source": [
    "activity_data.update(data_only_2019.astype(float))\n",
    "activity_data.head()"
   ]
  },
  {
   "cell_type": "markdown",
   "metadata": {},
   "source": [
    "## Datasets merging"
   ]
  },
  {
   "cell_type": "code",
   "execution_count": 350,
   "metadata": {},
   "outputs": [],
   "source": [
    "all_data = [pastures_data, agr_area_data, agr_prop_data, demogr_data, educ_data, activity_data]"
   ]
  },
  {
   "cell_type": "code",
   "execution_count": 351,
   "metadata": {},
   "outputs": [
    {
     "name": "stdout",
     "output_type": "stream",
     "text": [
      "1112\n",
      "1112\n",
      "1112\n",
      "1112\n",
      "1112\n",
      "1112\n"
     ]
    }
   ],
   "source": [
    "# Check: all datasets have same length\n",
    "for dataset in all_data:\n",
    "    print(dataset.shape[0])"
   ]
  },
  {
   "cell_type": "code",
   "execution_count": 352,
   "metadata": {},
   "outputs": [
    {
     "data": {
      "text/html": [
       "<div>\n",
       "<style scoped>\n",
       "    .dataframe tbody tr th:only-of-type {\n",
       "        vertical-align: middle;\n",
       "    }\n",
       "\n",
       "    .dataframe tbody tr th {\n",
       "        vertical-align: top;\n",
       "    }\n",
       "\n",
       "    .dataframe thead th {\n",
       "        text-align: right;\n",
       "    }\n",
       "</style>\n",
       "<table border=\"1\" class=\"dataframe\">\n",
       "  <thead>\n",
       "    <tr style=\"text-align: right;\">\n",
       "      <th></th>\n",
       "      <th></th>\n",
       "      <th>pastures_area_munic_ha</th>\n",
       "      <th>agric_area_munic_ha</th>\n",
       "      <th>agric_area_owned_ha</th>\n",
       "      <th>agric_area_mean</th>\n",
       "      <th>tract_100ha</th>\n",
       "      <th>lu_cattle_num</th>\n",
       "      <th>lu_per_agric_area</th>\n",
       "      <th>farmers_num</th>\n",
       "      <th>farmers_over65_num</th>\n",
       "      <th>farmers_female_num</th>\n",
       "      <th>educ_none</th>\n",
       "      <th>educ_basic</th>\n",
       "      <th>educ_secondary</th>\n",
       "      <th>educ_superior</th>\n",
       "      <th>work_unit_100ha</th>\n",
       "      <th>inc_excl_agric_ha</th>\n",
       "      <th>inc_mainly_agric_ha</th>\n",
       "      <th>inc_mainly_ext_ha</th>\n",
       "      <th>agric_time_full</th>\n",
       "    </tr>\n",
       "    <tr>\n",
       "      <th>Municipality</th>\n",
       "      <th>Year</th>\n",
       "      <th></th>\n",
       "      <th></th>\n",
       "      <th></th>\n",
       "      <th></th>\n",
       "      <th></th>\n",
       "      <th></th>\n",
       "      <th></th>\n",
       "      <th></th>\n",
       "      <th></th>\n",
       "      <th></th>\n",
       "      <th></th>\n",
       "      <th></th>\n",
       "      <th></th>\n",
       "      <th></th>\n",
       "      <th></th>\n",
       "      <th></th>\n",
       "      <th></th>\n",
       "      <th></th>\n",
       "      <th></th>\n",
       "    </tr>\n",
       "  </thead>\n",
       "  <tbody>\n",
       "    <tr>\n",
       "      <th rowspan=\"4\" valign=\"top\">Arouca</th>\n",
       "      <th>1989</th>\n",
       "      <td>592.0</td>\n",
       "      <td>4634.0</td>\n",
       "      <td>2705.0</td>\n",
       "      <td>1.8</td>\n",
       "      <td>10.1</td>\n",
       "      <td>6651.0</td>\n",
       "      <td>2.03</td>\n",
       "      <td>2565.0</td>\n",
       "      <td>560.0</td>\n",
       "      <td>758.0</td>\n",
       "      <td>46.93</td>\n",
       "      <td>51.90</td>\n",
       "      <td>0.66</td>\n",
       "      <td>0.51</td>\n",
       "      <td>110.7</td>\n",
       "      <td>926.0</td>\n",
       "      <td>2059.0</td>\n",
       "      <td>1321.0</td>\n",
       "      <td>28.80</td>\n",
       "    </tr>\n",
       "    <tr>\n",
       "      <th>1999</th>\n",
       "      <td>1331.0</td>\n",
       "      <td>4026.0</td>\n",
       "      <td>2525.0</td>\n",
       "      <td>2.4</td>\n",
       "      <td>15.1</td>\n",
       "      <td>5576.0</td>\n",
       "      <td>1.95</td>\n",
       "      <td>1688.0</td>\n",
       "      <td>435.0</td>\n",
       "      <td>752.0</td>\n",
       "      <td>30.10</td>\n",
       "      <td>68.06</td>\n",
       "      <td>0.83</td>\n",
       "      <td>1.01</td>\n",
       "      <td>84.1</td>\n",
       "      <td>456.0</td>\n",
       "      <td>1229.0</td>\n",
       "      <td>1530.0</td>\n",
       "      <td>64.54</td>\n",
       "    </tr>\n",
       "    <tr>\n",
       "      <th>2009</th>\n",
       "      <td>2602.0</td>\n",
       "      <td>4457.0</td>\n",
       "      <td>3755.0</td>\n",
       "      <td>4.0</td>\n",
       "      <td>14.7</td>\n",
       "      <td>4176.0</td>\n",
       "      <td>1.22</td>\n",
       "      <td>1120.0</td>\n",
       "      <td>394.0</td>\n",
       "      <td>621.0</td>\n",
       "      <td>22.03</td>\n",
       "      <td>74.46</td>\n",
       "      <td>1.26</td>\n",
       "      <td>2.25</td>\n",
       "      <td>41.4</td>\n",
       "      <td>568.0</td>\n",
       "      <td>639.0</td>\n",
       "      <td>1749.0</td>\n",
       "      <td>71.67</td>\n",
       "    </tr>\n",
       "    <tr>\n",
       "      <th>2019</th>\n",
       "      <td>3873.0</td>\n",
       "      <td>4888.0</td>\n",
       "      <td>4888.0</td>\n",
       "      <td>5.6</td>\n",
       "      <td>15.0</td>\n",
       "      <td>2982.0</td>\n",
       "      <td>1.11</td>\n",
       "      <td>881.0</td>\n",
       "      <td>399.0</td>\n",
       "      <td>412.0</td>\n",
       "      <td>13.96</td>\n",
       "      <td>80.86</td>\n",
       "      <td>1.69</td>\n",
       "      <td>3.49</td>\n",
       "      <td>28.2</td>\n",
       "      <td>185.0</td>\n",
       "      <td>491.0</td>\n",
       "      <td>1311.0</td>\n",
       "      <td>78.80</td>\n",
       "    </tr>\n",
       "    <tr>\n",
       "      <th>Castelo de Paiva</th>\n",
       "      <th>1989</th>\n",
       "      <td>38.0</td>\n",
       "      <td>1915.0</td>\n",
       "      <td>889.0</td>\n",
       "      <td>1.7</td>\n",
       "      <td>5.3</td>\n",
       "      <td>1476.0</td>\n",
       "      <td>1.35</td>\n",
       "      <td>1124.0</td>\n",
       "      <td>219.0</td>\n",
       "      <td>289.0</td>\n",
       "      <td>39.34</td>\n",
       "      <td>57.81</td>\n",
       "      <td>1.52</td>\n",
       "      <td>1.34</td>\n",
       "      <td>110.0</td>\n",
       "      <td>261.0</td>\n",
       "      <td>694.0</td>\n",
       "      <td>955.0</td>\n",
       "      <td>30.24</td>\n",
       "    </tr>\n",
       "  </tbody>\n",
       "</table>\n",
       "</div>"
      ],
      "text/plain": [
       "                       pastures_area_munic_ha  agric_area_munic_ha  \\\n",
       "Municipality     Year                                                \n",
       "Arouca           1989                   592.0               4634.0   \n",
       "                 1999                  1331.0               4026.0   \n",
       "                 2009                  2602.0               4457.0   \n",
       "                 2019                  3873.0               4888.0   \n",
       "Castelo de Paiva 1989                    38.0               1915.0   \n",
       "\n",
       "                       agric_area_owned_ha  agric_area_mean  tract_100ha  \\\n",
       "Municipality     Year                                                      \n",
       "Arouca           1989               2705.0              1.8         10.1   \n",
       "                 1999               2525.0              2.4         15.1   \n",
       "                 2009               3755.0              4.0         14.7   \n",
       "                 2019               4888.0              5.6         15.0   \n",
       "Castelo de Paiva 1989                889.0              1.7          5.3   \n",
       "\n",
       "                       lu_cattle_num  lu_per_agric_area  farmers_num  \\\n",
       "Municipality     Year                                                  \n",
       "Arouca           1989         6651.0               2.03       2565.0   \n",
       "                 1999         5576.0               1.95       1688.0   \n",
       "                 2009         4176.0               1.22       1120.0   \n",
       "                 2019         2982.0               1.11        881.0   \n",
       "Castelo de Paiva 1989         1476.0               1.35       1124.0   \n",
       "\n",
       "                       farmers_over65_num  farmers_female_num  educ_none  \\\n",
       "Municipality     Year                                                      \n",
       "Arouca           1989               560.0               758.0      46.93   \n",
       "                 1999               435.0               752.0      30.10   \n",
       "                 2009               394.0               621.0      22.03   \n",
       "                 2019               399.0               412.0      13.96   \n",
       "Castelo de Paiva 1989               219.0               289.0      39.34   \n",
       "\n",
       "                       educ_basic  educ_secondary  educ_superior  \\\n",
       "Municipality     Year                                              \n",
       "Arouca           1989       51.90            0.66           0.51   \n",
       "                 1999       68.06            0.83           1.01   \n",
       "                 2009       74.46            1.26           2.25   \n",
       "                 2019       80.86            1.69           3.49   \n",
       "Castelo de Paiva 1989       57.81            1.52           1.34   \n",
       "\n",
       "                       work_unit_100ha  inc_excl_agric_ha  \\\n",
       "Municipality     Year                                       \n",
       "Arouca           1989            110.7              926.0   \n",
       "                 1999             84.1              456.0   \n",
       "                 2009             41.4              568.0   \n",
       "                 2019             28.2              185.0   \n",
       "Castelo de Paiva 1989            110.0              261.0   \n",
       "\n",
       "                       inc_mainly_agric_ha  inc_mainly_ext_ha  agric_time_full  \n",
       "Municipality     Year                                                           \n",
       "Arouca           1989               2059.0             1321.0            28.80  \n",
       "                 1999               1229.0             1530.0            64.54  \n",
       "                 2009                639.0             1749.0            71.67  \n",
       "                 2019                491.0             1311.0            78.80  \n",
       "Castelo de Paiva 1989                694.0              955.0            30.24  "
      ]
     },
     "execution_count": 352,
     "metadata": {},
     "output_type": "execute_result"
    }
   ],
   "source": [
    "dataset_merged = pd.concat(all_data, axis=1, join='inner')\n",
    "dataset_merged.head()"
   ]
  },
  {
   "cell_type": "code",
   "execution_count": 353,
   "metadata": {},
   "outputs": [
    {
     "data": {
      "text/plain": [
       "(1112, 19)"
      ]
     },
     "execution_count": 353,
     "metadata": {},
     "output_type": "execute_result"
    }
   ],
   "source": [
    "dataset_merged.shape"
   ]
  },
  {
   "cell_type": "markdown",
   "metadata": {},
   "source": [
    "## Interpolation\n",
    "Create a dataset with all years from 1996 to 2019 for each variable, interpolating the available data"
   ]
  },
  {
   "cell_type": "code",
   "execution_count": 354,
   "metadata": {},
   "outputs": [],
   "source": [
    "years = list(range(1989, 2020))"
   ]
  },
  {
   "cell_type": "code",
   "execution_count": 355,
   "metadata": {
    "scrolled": true
   },
   "outputs": [],
   "source": [
    "# Create a dataset with all the years and reporting the values for the years we know them\n",
    "dataset_interpolated = pd.MultiIndex.from_product([municipalities, years]).to_frame()\n",
    "dataset_interpolated.drop(dataset_interpolated.columns, axis=1, inplace=True)\n",
    "dataset_interpolated.index.names = ['Municipality', 'Year']\n",
    "dataset_interpolated[dataset_merged.columns] = np.nan\n",
    "dataset_interpolated.update(dataset_merged)"
   ]
  },
  {
   "cell_type": "code",
   "execution_count": 356,
   "metadata": {},
   "outputs": [],
   "source": [
    "dataset_interpolated.interpolate(inplace=True)"
   ]
  },
  {
   "cell_type": "code",
   "execution_count": 357,
   "metadata": {},
   "outputs": [],
   "source": [
    "# Restrict years from 1995, the first year for which we have SBP adoption data and therefore the first of our analysis\n",
    "mask_less_1996 = dataset_interpolated.index.get_level_values(1) < 1995\n",
    "dataset_interpolated.drop(dataset_interpolated[mask_less_1996].index, inplace=True)"
   ]
  },
  {
   "cell_type": "code",
   "execution_count": 358,
   "metadata": {
    "scrolled": false
   },
   "outputs": [
    {
     "data": {
      "text/html": [
       "<div>\n",
       "<style scoped>\n",
       "    .dataframe tbody tr th:only-of-type {\n",
       "        vertical-align: middle;\n",
       "    }\n",
       "\n",
       "    .dataframe tbody tr th {\n",
       "        vertical-align: top;\n",
       "    }\n",
       "\n",
       "    .dataframe thead th {\n",
       "        text-align: right;\n",
       "    }\n",
       "</style>\n",
       "<table border=\"1\" class=\"dataframe\">\n",
       "  <thead>\n",
       "    <tr style=\"text-align: right;\">\n",
       "      <th></th>\n",
       "      <th></th>\n",
       "      <th>pastures_area_munic_ha</th>\n",
       "      <th>agric_area_munic_ha</th>\n",
       "      <th>agric_area_owned_ha</th>\n",
       "      <th>agric_area_mean</th>\n",
       "      <th>tract_100ha</th>\n",
       "      <th>lu_cattle_num</th>\n",
       "      <th>lu_per_agric_area</th>\n",
       "      <th>farmers_num</th>\n",
       "      <th>farmers_over65_num</th>\n",
       "      <th>farmers_female_num</th>\n",
       "      <th>educ_none</th>\n",
       "      <th>educ_basic</th>\n",
       "      <th>educ_secondary</th>\n",
       "      <th>educ_superior</th>\n",
       "      <th>work_unit_100ha</th>\n",
       "      <th>inc_excl_agric_ha</th>\n",
       "      <th>inc_mainly_agric_ha</th>\n",
       "      <th>inc_mainly_ext_ha</th>\n",
       "      <th>agric_time_full</th>\n",
       "    </tr>\n",
       "    <tr>\n",
       "      <th>Municipality</th>\n",
       "      <th>Year</th>\n",
       "      <th></th>\n",
       "      <th></th>\n",
       "      <th></th>\n",
       "      <th></th>\n",
       "      <th></th>\n",
       "      <th></th>\n",
       "      <th></th>\n",
       "      <th></th>\n",
       "      <th></th>\n",
       "      <th></th>\n",
       "      <th></th>\n",
       "      <th></th>\n",
       "      <th></th>\n",
       "      <th></th>\n",
       "      <th></th>\n",
       "      <th></th>\n",
       "      <th></th>\n",
       "      <th></th>\n",
       "      <th></th>\n",
       "    </tr>\n",
       "  </thead>\n",
       "  <tbody>\n",
       "    <tr>\n",
       "      <th rowspan=\"5\" valign=\"top\">Arouca</th>\n",
       "      <th>1995</th>\n",
       "      <td>1035.4</td>\n",
       "      <td>4269.2</td>\n",
       "      <td>2597.0</td>\n",
       "      <td>2.16</td>\n",
       "      <td>13.1</td>\n",
       "      <td>6006.0</td>\n",
       "      <td>1.982</td>\n",
       "      <td>2038.8</td>\n",
       "      <td>485.0</td>\n",
       "      <td>754.4</td>\n",
       "      <td>36.832</td>\n",
       "      <td>61.596</td>\n",
       "      <td>0.762</td>\n",
       "      <td>0.81</td>\n",
       "      <td>94.74</td>\n",
       "      <td>644.0</td>\n",
       "      <td>1561.0</td>\n",
       "      <td>1446.4</td>\n",
       "      <td>50.244</td>\n",
       "    </tr>\n",
       "    <tr>\n",
       "      <th>1996</th>\n",
       "      <td>1109.3</td>\n",
       "      <td>4208.4</td>\n",
       "      <td>2579.0</td>\n",
       "      <td>2.22</td>\n",
       "      <td>13.6</td>\n",
       "      <td>5898.5</td>\n",
       "      <td>1.974</td>\n",
       "      <td>1951.1</td>\n",
       "      <td>472.5</td>\n",
       "      <td>753.8</td>\n",
       "      <td>35.149</td>\n",
       "      <td>63.212</td>\n",
       "      <td>0.779</td>\n",
       "      <td>0.86</td>\n",
       "      <td>92.08</td>\n",
       "      <td>597.0</td>\n",
       "      <td>1478.0</td>\n",
       "      <td>1467.3</td>\n",
       "      <td>53.818</td>\n",
       "    </tr>\n",
       "    <tr>\n",
       "      <th>1997</th>\n",
       "      <td>1183.2</td>\n",
       "      <td>4147.6</td>\n",
       "      <td>2561.0</td>\n",
       "      <td>2.28</td>\n",
       "      <td>14.1</td>\n",
       "      <td>5791.0</td>\n",
       "      <td>1.966</td>\n",
       "      <td>1863.4</td>\n",
       "      <td>460.0</td>\n",
       "      <td>753.2</td>\n",
       "      <td>33.466</td>\n",
       "      <td>64.828</td>\n",
       "      <td>0.796</td>\n",
       "      <td>0.91</td>\n",
       "      <td>89.42</td>\n",
       "      <td>550.0</td>\n",
       "      <td>1395.0</td>\n",
       "      <td>1488.2</td>\n",
       "      <td>57.392</td>\n",
       "    </tr>\n",
       "    <tr>\n",
       "      <th>1998</th>\n",
       "      <td>1257.1</td>\n",
       "      <td>4086.8</td>\n",
       "      <td>2543.0</td>\n",
       "      <td>2.34</td>\n",
       "      <td>14.6</td>\n",
       "      <td>5683.5</td>\n",
       "      <td>1.958</td>\n",
       "      <td>1775.7</td>\n",
       "      <td>447.5</td>\n",
       "      <td>752.6</td>\n",
       "      <td>31.783</td>\n",
       "      <td>66.444</td>\n",
       "      <td>0.813</td>\n",
       "      <td>0.96</td>\n",
       "      <td>86.76</td>\n",
       "      <td>503.0</td>\n",
       "      <td>1312.0</td>\n",
       "      <td>1509.1</td>\n",
       "      <td>60.966</td>\n",
       "    </tr>\n",
       "    <tr>\n",
       "      <th>1999</th>\n",
       "      <td>1331.0</td>\n",
       "      <td>4026.0</td>\n",
       "      <td>2525.0</td>\n",
       "      <td>2.40</td>\n",
       "      <td>15.1</td>\n",
       "      <td>5576.0</td>\n",
       "      <td>1.950</td>\n",
       "      <td>1688.0</td>\n",
       "      <td>435.0</td>\n",
       "      <td>752.0</td>\n",
       "      <td>30.100</td>\n",
       "      <td>68.060</td>\n",
       "      <td>0.830</td>\n",
       "      <td>1.01</td>\n",
       "      <td>84.10</td>\n",
       "      <td>456.0</td>\n",
       "      <td>1229.0</td>\n",
       "      <td>1530.0</td>\n",
       "      <td>64.540</td>\n",
       "    </tr>\n",
       "  </tbody>\n",
       "</table>\n",
       "</div>"
      ],
      "text/plain": [
       "                   pastures_area_munic_ha  agric_area_munic_ha  \\\n",
       "Municipality Year                                                \n",
       "Arouca       1995                  1035.4               4269.2   \n",
       "             1996                  1109.3               4208.4   \n",
       "             1997                  1183.2               4147.6   \n",
       "             1998                  1257.1               4086.8   \n",
       "             1999                  1331.0               4026.0   \n",
       "\n",
       "                   agric_area_owned_ha  agric_area_mean  tract_100ha  \\\n",
       "Municipality Year                                                      \n",
       "Arouca       1995               2597.0             2.16         13.1   \n",
       "             1996               2579.0             2.22         13.6   \n",
       "             1997               2561.0             2.28         14.1   \n",
       "             1998               2543.0             2.34         14.6   \n",
       "             1999               2525.0             2.40         15.1   \n",
       "\n",
       "                   lu_cattle_num  lu_per_agric_area  farmers_num  \\\n",
       "Municipality Year                                                  \n",
       "Arouca       1995         6006.0              1.982       2038.8   \n",
       "             1996         5898.5              1.974       1951.1   \n",
       "             1997         5791.0              1.966       1863.4   \n",
       "             1998         5683.5              1.958       1775.7   \n",
       "             1999         5576.0              1.950       1688.0   \n",
       "\n",
       "                   farmers_over65_num  farmers_female_num  educ_none  \\\n",
       "Municipality Year                                                      \n",
       "Arouca       1995               485.0               754.4     36.832   \n",
       "             1996               472.5               753.8     35.149   \n",
       "             1997               460.0               753.2     33.466   \n",
       "             1998               447.5               752.6     31.783   \n",
       "             1999               435.0               752.0     30.100   \n",
       "\n",
       "                   educ_basic  educ_secondary  educ_superior  work_unit_100ha  \\\n",
       "Municipality Year                                                               \n",
       "Arouca       1995      61.596           0.762           0.81            94.74   \n",
       "             1996      63.212           0.779           0.86            92.08   \n",
       "             1997      64.828           0.796           0.91            89.42   \n",
       "             1998      66.444           0.813           0.96            86.76   \n",
       "             1999      68.060           0.830           1.01            84.10   \n",
       "\n",
       "                   inc_excl_agric_ha  inc_mainly_agric_ha  inc_mainly_ext_ha  \\\n",
       "Municipality Year                                                              \n",
       "Arouca       1995              644.0               1561.0             1446.4   \n",
       "             1996              597.0               1478.0             1467.3   \n",
       "             1997              550.0               1395.0             1488.2   \n",
       "             1998              503.0               1312.0             1509.1   \n",
       "             1999              456.0               1229.0             1530.0   \n",
       "\n",
       "                   agric_time_full  \n",
       "Municipality Year                   \n",
       "Arouca       1995           50.244  \n",
       "             1996           53.818  \n",
       "             1997           57.392  \n",
       "             1998           60.966  \n",
       "             1999           64.540  "
      ]
     },
     "execution_count": 358,
     "metadata": {},
     "output_type": "execute_result"
    }
   ],
   "source": [
    "dataset_interpolated.head()"
   ]
  },
  {
   "cell_type": "markdown",
   "metadata": {},
   "source": [
    "# Features engineering\n",
    "Create the final census dataset for data analysis: manipulate features to create new ones, remove the ones we do not want to use."
   ]
  },
  {
   "cell_type": "code",
   "execution_count": 359,
   "metadata": {},
   "outputs": [
    {
     "data": {
      "text/plain": [
       "21"
      ]
     },
     "execution_count": 359,
     "metadata": {},
     "output_type": "execute_result"
    }
   ],
   "source": [
    "dataset_interpolated[dataset_interpolated['lu_per_agric_area'] == 0].shape[0]"
   ]
  },
  {
   "cell_type": "markdown",
   "metadata": {},
   "source": [
    "### Create and add features to final dataset"
   ]
  },
  {
   "cell_type": "code",
   "execution_count": 360,
   "metadata": {},
   "outputs": [],
   "source": [
    "final_census_data = dataset_interpolated.copy().drop(dataset_interpolated.columns, axis=1)"
   ]
  },
  {
   "cell_type": "code",
   "execution_count": 361,
   "metadata": {},
   "outputs": [],
   "source": [
    "permanent_pastures_area_2009 = dataset_interpolated.loc[(slice(None), 2009), 'pastures_area_munic_ha'].droplevel(1)\n",
    "final_census_data['pastures_area_var'] = dataset_interpolated['pastures_area_munic_ha'].divide(\n",
    "    permanent_pastures_area_2009, axis=0, level='Municipality'\n",
    ")"
   ]
  },
  {
   "cell_type": "code",
   "execution_count": 362,
   "metadata": {},
   "outputs": [],
   "source": [
    "final_census_data['pastures_area_munic'] = dataset_interpolated['pastures_area_munic_ha'] / dataset_interpolated['agric_area_munic_ha']"
   ]
  },
  {
   "cell_type": "code",
   "execution_count": 363,
   "metadata": {},
   "outputs": [],
   "source": [
    "final_census_data['pastures_area_mean'] = dataset_interpolated['pastures_area_munic_ha'] / dataset_interpolated['farmers_num']"
   ]
  },
  {
   "cell_type": "code",
   "execution_count": 364,
   "metadata": {},
   "outputs": [],
   "source": [
    "final_census_data['agric_area_mean'] = dataset_interpolated['agric_area_mean']"
   ]
  },
  {
   "cell_type": "code",
   "execution_count": 365,
   "metadata": {},
   "outputs": [],
   "source": [
    "final_census_data['agric_area_owned'] = dataset_interpolated['agric_area_owned_ha'] / dataset_interpolated['agric_area_munic_ha']"
   ]
  },
  {
   "cell_type": "code",
   "execution_count": 366,
   "metadata": {},
   "outputs": [],
   "source": [
    "final_census_data['tract_100ha'] = dataset_interpolated['tract_100ha']"
   ]
  },
  {
   "cell_type": "code",
   "execution_count": 367,
   "metadata": {},
   "outputs": [
    {
     "data": {
      "text/plain": [
       "166"
      ]
     },
     "execution_count": 367,
     "metadata": {},
     "output_type": "execute_result"
    }
   ],
   "source": [
    "final_census_data['lu_cattle'] = dataset_interpolated['lu_cattle_num'] / (\n",
    "    dataset_interpolated['lu_per_agric_area'] * dataset_interpolated['agric_area_munic_ha']\n",
    ")\n",
    "final_census_data[final_census_data['lu_cattle'] > 1].shape[0]"
   ]
  },
  {
   "cell_type": "code",
   "execution_count": 368,
   "metadata": {
    "scrolled": true
   },
   "outputs": [
    {
     "data": {
      "text/plain": [
       "0"
      ]
     },
     "execution_count": 368,
     "metadata": {},
     "output_type": "execute_result"
    }
   ],
   "source": [
    "# Set these values over 1 to 1\n",
    "final_census_data.loc[final_census_data['lu_cattle'] > 1, 'lu_cattle'] = 1\n",
    "final_census_data[final_census_data['lu_cattle'] > 1].shape[0]"
   ]
  },
  {
   "cell_type": "code",
   "execution_count": 369,
   "metadata": {},
   "outputs": [],
   "source": [
    "final_census_data['lu_per_agric_area'] = dataset_interpolated['lu_per_agric_area']"
   ]
  },
  {
   "cell_type": "code",
   "execution_count": 370,
   "metadata": {},
   "outputs": [
    {
     "data": {
      "text/plain": [
       "False"
      ]
     },
     "execution_count": 370,
     "metadata": {},
     "output_type": "execute_result"
    }
   ],
   "source": [
    "final_census_data['farmers_female'] = dataset_interpolated['farmers_female_num'] / dataset_interpolated['farmers_num']\n",
    "(final_census_data['farmers_female'] > 1).any()"
   ]
  },
  {
   "cell_type": "code",
   "execution_count": 371,
   "metadata": {},
   "outputs": [
    {
     "data": {
      "text/plain": [
       "False"
      ]
     },
     "execution_count": 371,
     "metadata": {},
     "output_type": "execute_result"
    }
   ],
   "source": [
    "final_census_data['farmers_over65'] = dataset_interpolated['farmers_over65_num'] / dataset_interpolated['farmers_num']\n",
    "(final_census_data['farmers_over65'] > 1).any()"
   ]
  },
  {
   "cell_type": "code",
   "execution_count": 372,
   "metadata": {},
   "outputs": [],
   "source": [
    "final_census_data['educ_none'] = dataset_interpolated['educ_none']"
   ]
  },
  {
   "cell_type": "code",
   "execution_count": 373,
   "metadata": {},
   "outputs": [],
   "source": [
    "final_census_data['educ_second_super'] = dataset_interpolated['educ_secondary'] + dataset_interpolated['educ_superior']"
   ]
  },
  {
   "cell_type": "code",
   "execution_count": 374,
   "metadata": {},
   "outputs": [],
   "source": [
    "final_census_data['agric_time_full'] = dataset_interpolated['agric_time_full']"
   ]
  },
  {
   "cell_type": "code",
   "execution_count": 375,
   "metadata": {},
   "outputs": [],
   "source": [
    "final_census_data['inc_excl_agric'] = dataset_interpolated['inc_excl_agric_ha'] / dataset_interpolated['agric_area_munic_ha']"
   ]
  },
  {
   "cell_type": "code",
   "execution_count": 376,
   "metadata": {},
   "outputs": [],
   "source": [
    "final_census_data['inc_mainly_ext'] = (\n",
    "    dataset_interpolated['inc_mainly_ext_ha'] / dataset_interpolated['agric_area_munic_ha']\n",
    ")"
   ]
  },
  {
   "cell_type": "code",
   "execution_count": 377,
   "metadata": {},
   "outputs": [],
   "source": [
    "final_census_data['work_unit_100ha'] = dataset_interpolated['work_unit_100ha']"
   ]
  },
  {
   "cell_type": "code",
   "execution_count": 378,
   "metadata": {
    "scrolled": false
   },
   "outputs": [
    {
     "data": {
      "text/html": [
       "<div>\n",
       "<style scoped>\n",
       "    .dataframe tbody tr th:only-of-type {\n",
       "        vertical-align: middle;\n",
       "    }\n",
       "\n",
       "    .dataframe tbody tr th {\n",
       "        vertical-align: top;\n",
       "    }\n",
       "\n",
       "    .dataframe thead th {\n",
       "        text-align: right;\n",
       "    }\n",
       "</style>\n",
       "<table border=\"1\" class=\"dataframe\">\n",
       "  <thead>\n",
       "    <tr style=\"text-align: right;\">\n",
       "      <th></th>\n",
       "      <th></th>\n",
       "      <th>pastures_area_var</th>\n",
       "      <th>pastures_area_munic</th>\n",
       "      <th>pastures_area_mean</th>\n",
       "      <th>agric_area_mean</th>\n",
       "      <th>agric_area_owned</th>\n",
       "      <th>tract_100ha</th>\n",
       "      <th>lu_cattle</th>\n",
       "      <th>lu_per_agric_area</th>\n",
       "      <th>farmers_female</th>\n",
       "      <th>farmers_over65</th>\n",
       "      <th>educ_none</th>\n",
       "      <th>educ_second_super</th>\n",
       "      <th>agric_time_full</th>\n",
       "      <th>inc_excl_agric</th>\n",
       "      <th>inc_mainly_ext</th>\n",
       "      <th>work_unit_100ha</th>\n",
       "    </tr>\n",
       "    <tr>\n",
       "      <th>Municipality</th>\n",
       "      <th>Year</th>\n",
       "      <th></th>\n",
       "      <th></th>\n",
       "      <th></th>\n",
       "      <th></th>\n",
       "      <th></th>\n",
       "      <th></th>\n",
       "      <th></th>\n",
       "      <th></th>\n",
       "      <th></th>\n",
       "      <th></th>\n",
       "      <th></th>\n",
       "      <th></th>\n",
       "      <th></th>\n",
       "      <th></th>\n",
       "      <th></th>\n",
       "      <th></th>\n",
       "    </tr>\n",
       "  </thead>\n",
       "  <tbody>\n",
       "    <tr>\n",
       "      <th rowspan=\"5\" valign=\"top\">Arouca</th>\n",
       "      <th>1995</th>\n",
       "      <td>0.397925</td>\n",
       "      <td>0.242528</td>\n",
       "      <td>0.507848</td>\n",
       "      <td>2.16</td>\n",
       "      <td>0.608311</td>\n",
       "      <td>13.1</td>\n",
       "      <td>0.709799</td>\n",
       "      <td>1.982</td>\n",
       "      <td>0.370022</td>\n",
       "      <td>0.237885</td>\n",
       "      <td>36.832</td>\n",
       "      <td>1.572</td>\n",
       "      <td>50.244</td>\n",
       "      <td>0.150848</td>\n",
       "      <td>0.338799</td>\n",
       "      <td>94.74</td>\n",
       "    </tr>\n",
       "    <tr>\n",
       "      <th>1996</th>\n",
       "      <td>0.426326</td>\n",
       "      <td>0.263592</td>\n",
       "      <td>0.568551</td>\n",
       "      <td>2.22</td>\n",
       "      <td>0.612822</td>\n",
       "      <td>13.6</td>\n",
       "      <td>0.710031</td>\n",
       "      <td>1.974</td>\n",
       "      <td>0.386346</td>\n",
       "      <td>0.242171</td>\n",
       "      <td>35.149</td>\n",
       "      <td>1.639</td>\n",
       "      <td>53.818</td>\n",
       "      <td>0.141859</td>\n",
       "      <td>0.348660</td>\n",
       "      <td>92.08</td>\n",
       "    </tr>\n",
       "    <tr>\n",
       "      <th>1997</th>\n",
       "      <td>0.454727</td>\n",
       "      <td>0.285273</td>\n",
       "      <td>0.634968</td>\n",
       "      <td>2.28</td>\n",
       "      <td>0.617466</td>\n",
       "      <td>14.1</td>\n",
       "      <td>0.710188</td>\n",
       "      <td>1.966</td>\n",
       "      <td>0.404207</td>\n",
       "      <td>0.246861</td>\n",
       "      <td>33.466</td>\n",
       "      <td>1.706</td>\n",
       "      <td>57.392</td>\n",
       "      <td>0.132607</td>\n",
       "      <td>0.358810</td>\n",
       "      <td>89.42</td>\n",
       "    </tr>\n",
       "    <tr>\n",
       "      <th>1998</th>\n",
       "      <td>0.483128</td>\n",
       "      <td>0.307600</td>\n",
       "      <td>0.707946</td>\n",
       "      <td>2.34</td>\n",
       "      <td>0.622247</td>\n",
       "      <td>14.6</td>\n",
       "      <td>0.710264</td>\n",
       "      <td>1.958</td>\n",
       "      <td>0.423833</td>\n",
       "      <td>0.252013</td>\n",
       "      <td>31.783</td>\n",
       "      <td>1.773</td>\n",
       "      <td>60.966</td>\n",
       "      <td>0.123079</td>\n",
       "      <td>0.369262</td>\n",
       "      <td>86.76</td>\n",
       "    </tr>\n",
       "    <tr>\n",
       "      <th>1999</th>\n",
       "      <td>0.511530</td>\n",
       "      <td>0.330601</td>\n",
       "      <td>0.788507</td>\n",
       "      <td>2.40</td>\n",
       "      <td>0.627173</td>\n",
       "      <td>15.1</td>\n",
       "      <td>0.710255</td>\n",
       "      <td>1.950</td>\n",
       "      <td>0.445498</td>\n",
       "      <td>0.257701</td>\n",
       "      <td>30.100</td>\n",
       "      <td>1.840</td>\n",
       "      <td>64.540</td>\n",
       "      <td>0.113264</td>\n",
       "      <td>0.380030</td>\n",
       "      <td>84.10</td>\n",
       "    </tr>\n",
       "  </tbody>\n",
       "</table>\n",
       "</div>"
      ],
      "text/plain": [
       "                   pastures_area_var  pastures_area_munic  pastures_area_mean  \\\n",
       "Municipality Year                                                               \n",
       "Arouca       1995           0.397925             0.242528            0.507848   \n",
       "             1996           0.426326             0.263592            0.568551   \n",
       "             1997           0.454727             0.285273            0.634968   \n",
       "             1998           0.483128             0.307600            0.707946   \n",
       "             1999           0.511530             0.330601            0.788507   \n",
       "\n",
       "                   agric_area_mean  agric_area_owned  tract_100ha  lu_cattle  \\\n",
       "Municipality Year                                                              \n",
       "Arouca       1995             2.16          0.608311         13.1   0.709799   \n",
       "             1996             2.22          0.612822         13.6   0.710031   \n",
       "             1997             2.28          0.617466         14.1   0.710188   \n",
       "             1998             2.34          0.622247         14.6   0.710264   \n",
       "             1999             2.40          0.627173         15.1   0.710255   \n",
       "\n",
       "                   lu_per_agric_area  farmers_female  farmers_over65  \\\n",
       "Municipality Year                                                      \n",
       "Arouca       1995              1.982        0.370022        0.237885   \n",
       "             1996              1.974        0.386346        0.242171   \n",
       "             1997              1.966        0.404207        0.246861   \n",
       "             1998              1.958        0.423833        0.252013   \n",
       "             1999              1.950        0.445498        0.257701   \n",
       "\n",
       "                   educ_none  educ_second_super  agric_time_full  \\\n",
       "Municipality Year                                                  \n",
       "Arouca       1995     36.832              1.572           50.244   \n",
       "             1996     35.149              1.639           53.818   \n",
       "             1997     33.466              1.706           57.392   \n",
       "             1998     31.783              1.773           60.966   \n",
       "             1999     30.100              1.840           64.540   \n",
       "\n",
       "                   inc_excl_agric  inc_mainly_ext  work_unit_100ha  \n",
       "Municipality Year                                                   \n",
       "Arouca       1995        0.150848        0.338799            94.74  \n",
       "             1996        0.141859        0.348660            92.08  \n",
       "             1997        0.132607        0.358810            89.42  \n",
       "             1998        0.123079        0.369262            86.76  \n",
       "             1999        0.113264        0.380030            84.10  "
      ]
     },
     "execution_count": 378,
     "metadata": {},
     "output_type": "execute_result"
    }
   ],
   "source": [
    "final_census_data.head()"
   ]
  },
  {
   "cell_type": "markdown",
   "metadata": {},
   "source": [
    "## Store dataset for ABM"
   ]
  },
  {
   "cell_type": "code",
   "execution_count": 379,
   "metadata": {},
   "outputs": [],
   "source": [
    "final_census_for_abm = final_census_data.copy()"
   ]
  },
  {
   "cell_type": "markdown",
   "metadata": {},
   "source": [
    "## Remove unusable instances from dataset for data analysis\n",
    "\n",
    "We cannot use instances with infinite values for training the machine learning models, so we need to drop the instances with a value of 0s for variables used to divide others."
   ]
  },
  {
   "cell_type": "code",
   "execution_count": 380,
   "metadata": {},
   "outputs": [],
   "source": [
    "def remove_0s(feature):\n",
    "    len_pre = final_census_data.shape[0]\n",
    "    final_census_data.drop(dataset_interpolated[dataset_interpolated[feature] == 0].index, inplace=True, errors='ignore')\n",
    "    len_after = final_census_data.shape[0]\n",
    "    if len_pre == len_after:\n",
    "        print(\"No rows dropped\")"
   ]
  },
  {
   "cell_type": "markdown",
   "metadata": {},
   "source": [
    "### Remove features with a value of permanent pastures of 0 "
   ]
  },
  {
   "cell_type": "code",
   "execution_count": 381,
   "metadata": {},
   "outputs": [
    {
     "data": {
      "text/plain": [
       "38"
      ]
     },
     "execution_count": 381,
     "metadata": {},
     "output_type": "execute_result"
    }
   ],
   "source": [
    "dataset_interpolated[dataset_interpolated['agric_area_munic_ha'] == 0].shape[0]"
   ]
  },
  {
   "cell_type": "code",
   "execution_count": 382,
   "metadata": {},
   "outputs": [
    {
     "data": {
      "text/plain": [
       "59"
      ]
     },
     "execution_count": 382,
     "metadata": {},
     "output_type": "execute_result"
    }
   ],
   "source": [
    "dataset_interpolated[dataset_interpolated['pastures_area_munic_ha'] == 0].shape[0]"
   ]
  },
  {
   "cell_type": "code",
   "execution_count": 383,
   "metadata": {},
   "outputs": [],
   "source": [
    "#These functions remove from cenus_data_final, not from dataset_interpolated!\n",
    "remove_0s('pastures_area_munic_ha')"
   ]
  },
  {
   "cell_type": "code",
   "execution_count": 384,
   "metadata": {},
   "outputs": [
    {
     "name": "stdout",
     "output_type": "stream",
     "text": [
      "No rows dropped\n"
     ]
    }
   ],
   "source": [
    "remove_0s('agric_area_munic_ha')"
   ]
  },
  {
   "cell_type": "markdown",
   "metadata": {},
   "source": [
    "### Remove features with a value of number of farmers of 0"
   ]
  },
  {
   "cell_type": "code",
   "execution_count": 385,
   "metadata": {},
   "outputs": [
    {
     "name": "stdout",
     "output_type": "stream",
     "text": [
      "No rows dropped\n"
     ]
    }
   ],
   "source": [
    "remove_0s('farmers_num')"
   ]
  },
  {
   "cell_type": "markdown",
   "metadata": {},
   "source": [
    "No need since thee are none."
   ]
  },
  {
   "cell_type": "markdown",
   "metadata": {},
   "source": [
    "### Remove features with a value of cattle per hectare of 0"
   ]
  },
  {
   "cell_type": "code",
   "execution_count": 386,
   "metadata": {},
   "outputs": [
    {
     "name": "stdout",
     "output_type": "stream",
     "text": [
      "No rows dropped\n"
     ]
    }
   ],
   "source": [
    "remove_0s('lu_per_agric_area')"
   ]
  },
  {
   "cell_type": "markdown",
   "metadata": {},
   "source": [
    "## Refer all the features to the following year"
   ]
  },
  {
   "cell_type": "code",
   "execution_count": 387,
   "metadata": {},
   "outputs": [],
   "source": [
    "new_years = final_census_data.index.get_level_values(1) + 1\n",
    "new_munic = final_census_data.index.get_level_values(0)"
   ]
  },
  {
   "cell_type": "code",
   "execution_count": 388,
   "metadata": {},
   "outputs": [
    {
     "data": {
      "text/plain": [
       "6891"
      ]
     },
     "execution_count": 388,
     "metadata": {},
     "output_type": "execute_result"
    }
   ],
   "source": [
    "len(new_years)"
   ]
  },
  {
   "cell_type": "code",
   "execution_count": 389,
   "metadata": {},
   "outputs": [],
   "source": [
    "final_census_data_pr_y = final_census_data.copy()\n",
    "final_census_data_pr_y.index = pd.MultiIndex.from_arrays([new_munic, new_years])"
   ]
  },
  {
   "cell_type": "code",
   "execution_count": 390,
   "metadata": {},
   "outputs": [
    {
     "data": {
      "text/html": [
       "<div>\n",
       "<style scoped>\n",
       "    .dataframe tbody tr th:only-of-type {\n",
       "        vertical-align: middle;\n",
       "    }\n",
       "\n",
       "    .dataframe tbody tr th {\n",
       "        vertical-align: top;\n",
       "    }\n",
       "\n",
       "    .dataframe thead th {\n",
       "        text-align: right;\n",
       "    }\n",
       "</style>\n",
       "<table border=\"1\" class=\"dataframe\">\n",
       "  <thead>\n",
       "    <tr style=\"text-align: right;\">\n",
       "      <th></th>\n",
       "      <th></th>\n",
       "      <th>pastures_area_var</th>\n",
       "      <th>pastures_area_munic</th>\n",
       "      <th>pastures_area_mean</th>\n",
       "      <th>agric_area_mean</th>\n",
       "      <th>agric_area_owned</th>\n",
       "      <th>tract_100ha</th>\n",
       "      <th>lu_cattle</th>\n",
       "      <th>lu_per_agric_area</th>\n",
       "      <th>farmers_female</th>\n",
       "      <th>farmers_over65</th>\n",
       "      <th>educ_none</th>\n",
       "      <th>educ_second_super</th>\n",
       "      <th>agric_time_full</th>\n",
       "      <th>inc_excl_agric</th>\n",
       "      <th>inc_mainly_ext</th>\n",
       "      <th>work_unit_100ha</th>\n",
       "    </tr>\n",
       "    <tr>\n",
       "      <th>Municipality</th>\n",
       "      <th>Year</th>\n",
       "      <th></th>\n",
       "      <th></th>\n",
       "      <th></th>\n",
       "      <th></th>\n",
       "      <th></th>\n",
       "      <th></th>\n",
       "      <th></th>\n",
       "      <th></th>\n",
       "      <th></th>\n",
       "      <th></th>\n",
       "      <th></th>\n",
       "      <th></th>\n",
       "      <th></th>\n",
       "      <th></th>\n",
       "      <th></th>\n",
       "      <th></th>\n",
       "    </tr>\n",
       "  </thead>\n",
       "  <tbody>\n",
       "    <tr>\n",
       "      <th rowspan=\"5\" valign=\"top\">Arouca</th>\n",
       "      <th>1996</th>\n",
       "      <td>0.397925</td>\n",
       "      <td>0.242528</td>\n",
       "      <td>0.507848</td>\n",
       "      <td>2.16</td>\n",
       "      <td>0.608311</td>\n",
       "      <td>13.1</td>\n",
       "      <td>0.709799</td>\n",
       "      <td>1.982</td>\n",
       "      <td>0.370022</td>\n",
       "      <td>0.237885</td>\n",
       "      <td>36.832</td>\n",
       "      <td>1.572</td>\n",
       "      <td>50.244</td>\n",
       "      <td>0.150848</td>\n",
       "      <td>0.338799</td>\n",
       "      <td>94.74</td>\n",
       "    </tr>\n",
       "    <tr>\n",
       "      <th>1997</th>\n",
       "      <td>0.426326</td>\n",
       "      <td>0.263592</td>\n",
       "      <td>0.568551</td>\n",
       "      <td>2.22</td>\n",
       "      <td>0.612822</td>\n",
       "      <td>13.6</td>\n",
       "      <td>0.710031</td>\n",
       "      <td>1.974</td>\n",
       "      <td>0.386346</td>\n",
       "      <td>0.242171</td>\n",
       "      <td>35.149</td>\n",
       "      <td>1.639</td>\n",
       "      <td>53.818</td>\n",
       "      <td>0.141859</td>\n",
       "      <td>0.348660</td>\n",
       "      <td>92.08</td>\n",
       "    </tr>\n",
       "    <tr>\n",
       "      <th>1998</th>\n",
       "      <td>0.454727</td>\n",
       "      <td>0.285273</td>\n",
       "      <td>0.634968</td>\n",
       "      <td>2.28</td>\n",
       "      <td>0.617466</td>\n",
       "      <td>14.1</td>\n",
       "      <td>0.710188</td>\n",
       "      <td>1.966</td>\n",
       "      <td>0.404207</td>\n",
       "      <td>0.246861</td>\n",
       "      <td>33.466</td>\n",
       "      <td>1.706</td>\n",
       "      <td>57.392</td>\n",
       "      <td>0.132607</td>\n",
       "      <td>0.358810</td>\n",
       "      <td>89.42</td>\n",
       "    </tr>\n",
       "    <tr>\n",
       "      <th>1999</th>\n",
       "      <td>0.483128</td>\n",
       "      <td>0.307600</td>\n",
       "      <td>0.707946</td>\n",
       "      <td>2.34</td>\n",
       "      <td>0.622247</td>\n",
       "      <td>14.6</td>\n",
       "      <td>0.710264</td>\n",
       "      <td>1.958</td>\n",
       "      <td>0.423833</td>\n",
       "      <td>0.252013</td>\n",
       "      <td>31.783</td>\n",
       "      <td>1.773</td>\n",
       "      <td>60.966</td>\n",
       "      <td>0.123079</td>\n",
       "      <td>0.369262</td>\n",
       "      <td>86.76</td>\n",
       "    </tr>\n",
       "    <tr>\n",
       "      <th>2000</th>\n",
       "      <td>0.511530</td>\n",
       "      <td>0.330601</td>\n",
       "      <td>0.788507</td>\n",
       "      <td>2.40</td>\n",
       "      <td>0.627173</td>\n",
       "      <td>15.1</td>\n",
       "      <td>0.710255</td>\n",
       "      <td>1.950</td>\n",
       "      <td>0.445498</td>\n",
       "      <td>0.257701</td>\n",
       "      <td>30.100</td>\n",
       "      <td>1.840</td>\n",
       "      <td>64.540</td>\n",
       "      <td>0.113264</td>\n",
       "      <td>0.380030</td>\n",
       "      <td>84.10</td>\n",
       "    </tr>\n",
       "  </tbody>\n",
       "</table>\n",
       "</div>"
      ],
      "text/plain": [
       "                   pastures_area_var  pastures_area_munic  pastures_area_mean  \\\n",
       "Municipality Year                                                               \n",
       "Arouca       1996           0.397925             0.242528            0.507848   \n",
       "             1997           0.426326             0.263592            0.568551   \n",
       "             1998           0.454727             0.285273            0.634968   \n",
       "             1999           0.483128             0.307600            0.707946   \n",
       "             2000           0.511530             0.330601            0.788507   \n",
       "\n",
       "                   agric_area_mean  agric_area_owned  tract_100ha  lu_cattle  \\\n",
       "Municipality Year                                                              \n",
       "Arouca       1996             2.16          0.608311         13.1   0.709799   \n",
       "             1997             2.22          0.612822         13.6   0.710031   \n",
       "             1998             2.28          0.617466         14.1   0.710188   \n",
       "             1999             2.34          0.622247         14.6   0.710264   \n",
       "             2000             2.40          0.627173         15.1   0.710255   \n",
       "\n",
       "                   lu_per_agric_area  farmers_female  farmers_over65  \\\n",
       "Municipality Year                                                      \n",
       "Arouca       1996              1.982        0.370022        0.237885   \n",
       "             1997              1.974        0.386346        0.242171   \n",
       "             1998              1.966        0.404207        0.246861   \n",
       "             1999              1.958        0.423833        0.252013   \n",
       "             2000              1.950        0.445498        0.257701   \n",
       "\n",
       "                   educ_none  educ_second_super  agric_time_full  \\\n",
       "Municipality Year                                                  \n",
       "Arouca       1996     36.832              1.572           50.244   \n",
       "             1997     35.149              1.639           53.818   \n",
       "             1998     33.466              1.706           57.392   \n",
       "             1999     31.783              1.773           60.966   \n",
       "             2000     30.100              1.840           64.540   \n",
       "\n",
       "                   inc_excl_agric  inc_mainly_ext  work_unit_100ha  \n",
       "Municipality Year                                                   \n",
       "Arouca       1996        0.150848        0.338799            94.74  \n",
       "             1997        0.141859        0.348660            92.08  \n",
       "             1998        0.132607        0.358810            89.42  \n",
       "             1999        0.123079        0.369262            86.76  \n",
       "             2000        0.113264        0.380030            84.10  "
      ]
     },
     "execution_count": 390,
     "metadata": {},
     "output_type": "execute_result"
    }
   ],
   "source": [
    "final_census_data_pr_y.head()"
   ]
  },
  {
   "cell_type": "markdown",
   "metadata": {},
   "source": [
    "# Save final census data"
   ]
  },
  {
   "cell_type": "code",
   "execution_count": 391,
   "metadata": {},
   "outputs": [],
   "source": [
    "path_to_extr_census_data = os.path.join(path_to_extr_data_folder, \"census_data.csv\")\n",
    "final_census_data_pr_y.to_csv(path_to_extr_census_data)"
   ]
  },
  {
   "cell_type": "markdown",
   "metadata": {},
   "source": [
    "## Save reference permanent pastures area\n",
    "This is the base area of permanent pastures we will refer all the others to"
   ]
  },
  {
   "cell_type": "code",
   "execution_count": 392,
   "metadata": {
    "scrolled": true
   },
   "outputs": [],
   "source": [
    "pastures_data_ref = pastures_data.loc[(slice(None), 2009), :].copy()\n",
    "pastures_data_ref = pastures_data_ref.droplevel(1)"
   ]
  },
  {
   "cell_type": "code",
   "execution_count": 393,
   "metadata": {},
   "outputs": [],
   "source": [
    "path_to_extr_ref_pastures_data = os.path.join(path_to_extr_data_folder, \"municipalities_reference_permanent_pastures_area.csv\")\n",
    "pastures_data_ref.to_csv(path_to_extr_ref_pastures_data)"
   ]
  },
  {
   "cell_type": "markdown",
   "metadata": {},
   "source": [
    "## Save average 1999-2009 permanent pastures area\n",
    "Extract in a different dataset the average of of pastures area, since needed for disaggregation of adoption previous to PCF project and for the ABM."
   ]
  },
  {
   "cell_type": "code",
   "execution_count": 394,
   "metadata": {},
   "outputs": [],
   "source": [
    "pastures_area_average = pd.DataFrame(index=municipalities)\n",
    "pastures_area_average.index.name = 'Municipality'"
   ]
  },
  {
   "cell_type": "code",
   "execution_count": 395,
   "metadata": {},
   "outputs": [],
   "source": [
    "pastures_area_average['pastures_area_munic_ha'] = ((pastures_data.loc[(slice(None), 1999), 'pastures_area_munic_ha'].values\n",
    "                                                    + pastures_data.loc[(slice(None), 2009), 'pastures_area_munic_ha'].values) \n",
    "                                                   / 2)"
   ]
  },
  {
   "cell_type": "code",
   "execution_count": 396,
   "metadata": {},
   "outputs": [],
   "source": [
    "path_to_extr_pastures_data = os.path.join(path_to_extr_data_folder, \"municipalities_permanent_pastures_area.csv\")\n",
    "pastures_area_average.to_csv(path_to_extr_pastures_data)"
   ]
  },
  {
   "cell_type": "markdown",
   "metadata": {},
   "source": [
    "## Save data for ABM"
   ]
  },
  {
   "cell_type": "code",
   "execution_count": 397,
   "metadata": {},
   "outputs": [],
   "source": [
    "path_to_extr_census_data_abm = os.path.join(path_to_extr_data_folder, \"census_data_for_abm.csv\")\n",
    "final_census_for_abm.to_csv(path_to_extr_census_data_abm)"
   ]
  },
  {
   "cell_type": "markdown",
   "metadata": {},
   "source": [
    "Pastures data: need to add data for 2020 to run ABM in this year, assuming pastures area same as the one in 2019"
   ]
  },
  {
   "cell_type": "code",
   "execution_count": 398,
   "metadata": {},
   "outputs": [],
   "source": [
    "pastures_data_copy = dataset_interpolated['pastures_area_munic_ha'].copy()"
   ]
  },
  {
   "cell_type": "code",
   "execution_count": 399,
   "metadata": {},
   "outputs": [],
   "source": [
    "municipalities_new = pastures_data_copy.index.get_level_values(0).unique()\n",
    "years_new = pastures_data_copy.index.get_level_values(1).unique()\n",
    "pastures_data_2020 = pastures_data_copy.reindex(pd.MultiIndex.from_product([municipalities_new, [*years_new, 2020]]))"
   ]
  },
  {
   "cell_type": "code",
   "execution_count": 400,
   "metadata": {},
   "outputs": [],
   "source": [
    "pastures_data_2020.index.set_names(['Municipality', 'Year'], inplace=True)\n",
    "pastures_data_2020.loc[(slice(None), 2020)] = pastures_data_2020.loc[(slice(None), 2019)].values"
   ]
  },
  {
   "cell_type": "code",
   "execution_count": 401,
   "metadata": {},
   "outputs": [],
   "source": [
    "path_to_extr_yearly_pastures_data = os.path.join(path_to_extr_data_folder, \"yearly_permanent_pastures_area.csv\")\n",
    "pastures_data_2020.to_csv(path_to_extr_yearly_pastures_data)"
   ]
  }
 ],
 "metadata": {
  "kernelspec": {
   "display_name": "mesa_geo_ml",
   "language": "python",
   "name": "mesa_geo_ml"
  },
  "language_info": {
   "codemirror_mode": {
    "name": "ipython",
    "version": 3
   },
   "file_extension": ".py",
   "mimetype": "text/x-python",
   "name": "python",
   "nbconvert_exporter": "python",
   "pygments_lexer": "ipython3",
   "version": "3.8.5"
  }
 },
 "nbformat": 4,
 "nbformat_minor": 4
}
